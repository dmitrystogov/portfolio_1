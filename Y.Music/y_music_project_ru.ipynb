{
 "cells": [
  {
   "cell_type": "markdown",
   "id": "cc701163",
   "metadata": {},
   "source": [
    "<font color='DarkBlue' size=+2><b>Комментарий ревьюера</b></font><br>\n",
    "<font color='DarkBlue'>Привет, Дмитрий! <br>Меня зовут Олег Мазуренко, и я буду проверять этот проект. Спасибо за проделанную работу! <br>Предлагаю общаться на «ты». Если против, напиши.</font><br>\n",
    "<font color='DarkBlue'>Я буду использовать различные цвета, чтобы было удобнее воспринимать мои комментарии:</font><br>\n",
    "<font color='DarkBlue'>Синий текст &mdash; просто текст комментария.</font><br>\n",
    "<font color='DarkGreen'>👌 Зеленый текст &mdash; все отлично.</font><br>\n",
    "<font color='DarkMagenta'>👉 Фиолетовый текст &mdash; сделано все правильно, однако есть рекомендации, на что стоит обратить внимание.</font><br>\n",
    "<font color='Red'>🛠 Красный текст &mdash; есть недочеты, они иногда бывают.</font><br>\n",
    "<font color='DarkBlue'>Пожалуйста, не удаляй мои комментарии в случае возврата работы, так будет проще разобраться, какие были недочеты и сразу увидеть исправленное. </font><br>\n",
    "Ответы на мои комментарии лучше тоже помечать. \n",
    "Например: <font color='Blue'><b>Комментарий студента</b></font><br>\n",
    "<font color='DarkBlue'><b>Давай смотреть, что у нас получилось!</b></font>"
   ]
  },
  {
   "cell_type": "markdown",
   "id": "e58dfd04",
   "metadata": {},
   "source": [
    "### Яндекс.Музыка"
   ]
  },
  {
   "cell_type": "markdown",
   "id": "1fe04fd2",
   "metadata": {
    "id": "VUC88oWjTJw2"
   },
   "source": [
    "Сравнение Москвы и Петербурга окружено мифами. Например:\n",
    " * Москва — мегаполис, подчинённый жёсткому ритму рабочей недели;\n",
    " * Петербург — культурная столица, со своими вкусами.\n",
    "\n",
    "На данных Яндекс.Музыки вы сравните поведение пользователей двух столиц.\n",
    "\n",
    "**Цель исследования** — проверьте три гипотезы:\n",
    "1. Активность пользователей зависит от дня недели. Причём в Москве и Петербурге это проявляется по-разному.\n",
    "2. В понедельник утром в Москве преобладают одни жанры, а в Петербурге — другие. Так же и вечером пятницы преобладают разные жанры — в зависимости от города. \n",
    "3. Москва и Петербург предпочитают разные жанры музыки. В Москве чаще слушают поп-музыку, в Петербурге — русский рэп.\n",
    "\n",
    "**Ход исследования**\n",
    "\n",
    "Данные о поведении пользователей вы получите из файла `yandex_music_project.csv`. О качестве данных ничего не известно. Поэтому перед проверкой гипотез понадобится обзор данных. \n",
    "\n",
    "Вы проверите данные на ошибки и оцените их влияние на исследование. Затем, на этапе предобработки вы поищете возможность исправить самые критичные ошибки данных.\n",
    " \n",
    "Таким образом, исследование пройдёт в три этапа:\n",
    " 1. Обзор данных.\n",
    " 2. Предобработка данных.\n",
    " 3. Проверка гипотез.\n",
    "\n"
   ]
  },
  {
   "cell_type": "markdown",
   "id": "38116d4c",
   "metadata": {},
   "source": [
    "<font color='DarkBlue'><b>Комментарий ревьюера</b></font><br>\n",
    "<font color='DarkGreen'>👌 Хочу обратить внимание на начало оформления проекта. Здесь мы выкладываем краткую анотацию самого проекта с целями и планом исследования. В данном проекте это сделала команда Практикума, но в следующих это надо будет делать самому.</font>"
   ]
  },
  {
   "cell_type": "markdown",
   "id": "dc29c729",
   "metadata": {
    "id": "Ml1hmfXC_Zcs"
   },
   "source": [
    "## Обзор данных\n",
    "\n",
    "Составьте первое представление о данных Яндекс.Музыки.\n",
    "\n",
    "\n"
   ]
  },
  {
   "cell_type": "markdown",
   "id": "a8816026",
   "metadata": {
    "id": "57eAOGIz_Zcs"
   },
   "source": [
    "Основной инструмент аналитика — `pandas`. Импортируйте эту библиотеку."
   ]
  },
  {
   "cell_type": "code",
   "execution_count": 1,
   "id": "f8244402",
   "metadata": {
    "id": "AXN7PHPN_Zcs"
   },
   "outputs": [],
   "source": [
    "import pandas as pd # импорт библиотеки pandas"
   ]
  },
  {
   "cell_type": "markdown",
   "id": "ec3e1fd7",
   "metadata": {},
   "source": [
    "<font color='DarkBlue'><b>Комментарий ревьюера</b></font><br>\n",
    "<font color='DarkGreen'>👌 Очень хорошо, что ты используешь сокращение pd при импорте библиотеки Pandas, это общепринятое сокращение для удобной дальнейшей работы.</font>"
   ]
  },
  {
   "cell_type": "markdown",
   "id": "98eda5e6",
   "metadata": {
    "id": "SG23P8tt_Zcs"
   },
   "source": [
    "Прочитайте файл `yandex_music_project.csv` из папки `/datasets` и сохраните его в переменной `df`:"
   ]
  },
  {
   "cell_type": "code",
   "execution_count": 2,
   "id": "424f9312",
   "metadata": {
    "id": "fFVu7vqh_Zct"
   },
   "outputs": [],
   "source": [
    "df = pd.read_csv('/datasets/yandex_music_project.csv') # чтение файла с данными и сохранение в df"
   ]
  },
  {
   "cell_type": "markdown",
   "id": "9a7d9e4c",
   "metadata": {},
   "source": [
    "<font color='DarkBlue'><b>Комментарий ревьюера</b></font><br>\n",
    "<font color='DarkGreen'>👌 Указан правильный путь к файлу: слэш в начале пути очень важен, так как указывает, что нужно искать файл в корневой папке. 👍</font>"
   ]
  },
  {
   "cell_type": "markdown",
   "id": "b4fb5e8d",
   "metadata": {
    "id": "rDoOMd3uTqnZ"
   },
   "source": [
    "Выведите на экран первые десять строк таблицы:"
   ]
  },
  {
   "cell_type": "code",
   "execution_count": 3,
   "id": "9ad06236",
   "metadata": {
    "id": "oWTVX3gW_Zct"
   },
   "outputs": [
    {
     "data": {
      "text/html": [
       "<div>\n",
       "<style scoped>\n",
       "    .dataframe tbody tr th:only-of-type {\n",
       "        vertical-align: middle;\n",
       "    }\n",
       "\n",
       "    .dataframe tbody tr th {\n",
       "        vertical-align: top;\n",
       "    }\n",
       "\n",
       "    .dataframe thead th {\n",
       "        text-align: right;\n",
       "    }\n",
       "</style>\n",
       "<table border=\"1\" class=\"dataframe\">\n",
       "  <thead>\n",
       "    <tr style=\"text-align: right;\">\n",
       "      <th></th>\n",
       "      <th>userID</th>\n",
       "      <th>Track</th>\n",
       "      <th>artist</th>\n",
       "      <th>genre</th>\n",
       "      <th>City</th>\n",
       "      <th>time</th>\n",
       "      <th>Day</th>\n",
       "    </tr>\n",
       "  </thead>\n",
       "  <tbody>\n",
       "    <tr>\n",
       "      <td>0</td>\n",
       "      <td>FFB692EC</td>\n",
       "      <td>Kamigata To Boots</td>\n",
       "      <td>The Mass Missile</td>\n",
       "      <td>rock</td>\n",
       "      <td>Saint-Petersburg</td>\n",
       "      <td>20:28:33</td>\n",
       "      <td>Wednesday</td>\n",
       "    </tr>\n",
       "    <tr>\n",
       "      <td>1</td>\n",
       "      <td>55204538</td>\n",
       "      <td>Delayed Because of Accident</td>\n",
       "      <td>Andreas Rönnberg</td>\n",
       "      <td>rock</td>\n",
       "      <td>Moscow</td>\n",
       "      <td>14:07:09</td>\n",
       "      <td>Friday</td>\n",
       "    </tr>\n",
       "    <tr>\n",
       "      <td>2</td>\n",
       "      <td>20EC38</td>\n",
       "      <td>Funiculì funiculà</td>\n",
       "      <td>Mario Lanza</td>\n",
       "      <td>pop</td>\n",
       "      <td>Saint-Petersburg</td>\n",
       "      <td>20:58:07</td>\n",
       "      <td>Wednesday</td>\n",
       "    </tr>\n",
       "    <tr>\n",
       "      <td>3</td>\n",
       "      <td>A3DD03C9</td>\n",
       "      <td>Dragons in the Sunset</td>\n",
       "      <td>Fire + Ice</td>\n",
       "      <td>folk</td>\n",
       "      <td>Saint-Petersburg</td>\n",
       "      <td>08:37:09</td>\n",
       "      <td>Monday</td>\n",
       "    </tr>\n",
       "    <tr>\n",
       "      <td>4</td>\n",
       "      <td>E2DC1FAE</td>\n",
       "      <td>Soul People</td>\n",
       "      <td>Space Echo</td>\n",
       "      <td>dance</td>\n",
       "      <td>Moscow</td>\n",
       "      <td>08:34:34</td>\n",
       "      <td>Monday</td>\n",
       "    </tr>\n",
       "    <tr>\n",
       "      <td>5</td>\n",
       "      <td>842029A1</td>\n",
       "      <td>Преданная</td>\n",
       "      <td>IMPERVTOR</td>\n",
       "      <td>rusrap</td>\n",
       "      <td>Saint-Petersburg</td>\n",
       "      <td>13:09:41</td>\n",
       "      <td>Friday</td>\n",
       "    </tr>\n",
       "    <tr>\n",
       "      <td>6</td>\n",
       "      <td>4CB90AA5</td>\n",
       "      <td>True</td>\n",
       "      <td>Roman Messer</td>\n",
       "      <td>dance</td>\n",
       "      <td>Moscow</td>\n",
       "      <td>13:00:07</td>\n",
       "      <td>Wednesday</td>\n",
       "    </tr>\n",
       "    <tr>\n",
       "      <td>7</td>\n",
       "      <td>F03E1C1F</td>\n",
       "      <td>Feeling This Way</td>\n",
       "      <td>Polina Griffith</td>\n",
       "      <td>dance</td>\n",
       "      <td>Moscow</td>\n",
       "      <td>20:47:49</td>\n",
       "      <td>Wednesday</td>\n",
       "    </tr>\n",
       "    <tr>\n",
       "      <td>8</td>\n",
       "      <td>8FA1D3BE</td>\n",
       "      <td>И вновь продолжается бой</td>\n",
       "      <td>NaN</td>\n",
       "      <td>ruspop</td>\n",
       "      <td>Moscow</td>\n",
       "      <td>09:17:40</td>\n",
       "      <td>Friday</td>\n",
       "    </tr>\n",
       "    <tr>\n",
       "      <td>9</td>\n",
       "      <td>E772D5C0</td>\n",
       "      <td>Pessimist</td>\n",
       "      <td>NaN</td>\n",
       "      <td>dance</td>\n",
       "      <td>Saint-Petersburg</td>\n",
       "      <td>21:20:49</td>\n",
       "      <td>Wednesday</td>\n",
       "    </tr>\n",
       "  </tbody>\n",
       "</table>\n",
       "</div>"
      ],
      "text/plain": [
       "     userID                        Track            artist   genre  \\\n",
       "0  FFB692EC            Kamigata To Boots  The Mass Missile    rock   \n",
       "1  55204538  Delayed Because of Accident  Andreas Rönnberg    rock   \n",
       "2    20EC38            Funiculì funiculà       Mario Lanza     pop   \n",
       "3  A3DD03C9        Dragons in the Sunset        Fire + Ice    folk   \n",
       "4  E2DC1FAE                  Soul People        Space Echo   dance   \n",
       "5  842029A1                    Преданная         IMPERVTOR  rusrap   \n",
       "6  4CB90AA5                         True      Roman Messer   dance   \n",
       "7  F03E1C1F             Feeling This Way   Polina Griffith   dance   \n",
       "8  8FA1D3BE     И вновь продолжается бой               NaN  ruspop   \n",
       "9  E772D5C0                    Pessimist               NaN   dance   \n",
       "\n",
       "             City        time        Day  \n",
       "0  Saint-Petersburg  20:28:33  Wednesday  \n",
       "1            Moscow  14:07:09     Friday  \n",
       "2  Saint-Petersburg  20:58:07  Wednesday  \n",
       "3  Saint-Petersburg  08:37:09     Monday  \n",
       "4            Moscow  08:34:34     Monday  \n",
       "5  Saint-Petersburg  13:09:41     Friday  \n",
       "6            Moscow  13:00:07  Wednesday  \n",
       "7            Moscow  20:47:49  Wednesday  \n",
       "8            Moscow  09:17:40     Friday  \n",
       "9  Saint-Petersburg  21:20:49  Wednesday  "
      ]
     },
     "execution_count": 3,
     "metadata": {},
     "output_type": "execute_result"
    }
   ],
   "source": [
    "df.head(10) # получение первых 10 строк таблицы df"
   ]
  },
  {
   "cell_type": "markdown",
   "id": "24779a8b",
   "metadata": {},
   "source": [
    "<font color='DarkBlue'><b>Комментарий ревьюера</b></font><br>\n",
    "<font color='DarkGreen'>👌 Все правильно.</font><br>\n",
    "<font color='DarkMagenta'>👉 Если имя таблицы находится в последней строке, исполняемой ячейки, то не нужна функция display(). Если мы выводим таблицу в середине ячейки (например, в теле цикла или функции ), то используем display() 😢</font><br>\n",
    "<font color='DarkGreen'>👌 Есть еще метод tail(), который выводит последние n строк.</font>"
   ]
  },
  {
   "cell_type": "markdown",
   "id": "b2e1f549",
   "metadata": {},
   "source": [
    "<font color='DarkBlue'><b>Комментарий ревьюера 2</b></font><br>\n",
    "<font color='DarkGreen'>👌 Хорошо, исправили. 😉</font>"
   ]
  },
  {
   "cell_type": "code",
   "execution_count": 4,
   "id": "3dffca2c",
   "metadata": {},
   "outputs": [
    {
     "data": {
      "text/html": [
       "<div>\n",
       "<style scoped>\n",
       "    .dataframe tbody tr th:only-of-type {\n",
       "        vertical-align: middle;\n",
       "    }\n",
       "\n",
       "    .dataframe tbody tr th {\n",
       "        vertical-align: top;\n",
       "    }\n",
       "\n",
       "    .dataframe thead th {\n",
       "        text-align: right;\n",
       "    }\n",
       "</style>\n",
       "<table border=\"1\" class=\"dataframe\">\n",
       "  <thead>\n",
       "    <tr style=\"text-align: right;\">\n",
       "      <th></th>\n",
       "      <th>userID</th>\n",
       "      <th>Track</th>\n",
       "      <th>artist</th>\n",
       "      <th>genre</th>\n",
       "      <th>City</th>\n",
       "      <th>time</th>\n",
       "      <th>Day</th>\n",
       "    </tr>\n",
       "  </thead>\n",
       "  <tbody>\n",
       "    <tr>\n",
       "      <td>65074</td>\n",
       "      <td>729CBB09</td>\n",
       "      <td>My Name</td>\n",
       "      <td>McLean</td>\n",
       "      <td>rnb</td>\n",
       "      <td>Moscow</td>\n",
       "      <td>13:32:28</td>\n",
       "      <td>Wednesday</td>\n",
       "    </tr>\n",
       "    <tr>\n",
       "      <td>65075</td>\n",
       "      <td>D08D4A55</td>\n",
       "      <td>Maybe One Day (feat. Black Spade)</td>\n",
       "      <td>Blu &amp; Exile</td>\n",
       "      <td>hip</td>\n",
       "      <td>Saint-Petersburg</td>\n",
       "      <td>10:00:00</td>\n",
       "      <td>Monday</td>\n",
       "    </tr>\n",
       "    <tr>\n",
       "      <td>65076</td>\n",
       "      <td>C5E3A0D5</td>\n",
       "      <td>Jalopiina</td>\n",
       "      <td>NaN</td>\n",
       "      <td>industrial</td>\n",
       "      <td>Moscow</td>\n",
       "      <td>20:09:26</td>\n",
       "      <td>Friday</td>\n",
       "    </tr>\n",
       "    <tr>\n",
       "      <td>65077</td>\n",
       "      <td>321D0506</td>\n",
       "      <td>Freight Train</td>\n",
       "      <td>Chas McDevitt</td>\n",
       "      <td>rock</td>\n",
       "      <td>Moscow</td>\n",
       "      <td>21:43:59</td>\n",
       "      <td>Friday</td>\n",
       "    </tr>\n",
       "    <tr>\n",
       "      <td>65078</td>\n",
       "      <td>3A64EF84</td>\n",
       "      <td>Tell Me Sweet Little Lies</td>\n",
       "      <td>Monica Lopez</td>\n",
       "      <td>country</td>\n",
       "      <td>Moscow</td>\n",
       "      <td>21:59:46</td>\n",
       "      <td>Friday</td>\n",
       "    </tr>\n",
       "  </tbody>\n",
       "</table>\n",
       "</div>"
      ],
      "text/plain": [
       "         userID                              Track         artist       genre  \\\n",
       "65074  729CBB09                            My Name         McLean         rnb   \n",
       "65075  D08D4A55  Maybe One Day (feat. Black Spade)    Blu & Exile         hip   \n",
       "65076  C5E3A0D5                          Jalopiina            NaN  industrial   \n",
       "65077  321D0506                      Freight Train  Chas McDevitt        rock   \n",
       "65078  3A64EF84          Tell Me Sweet Little Lies   Monica Lopez     country   \n",
       "\n",
       "                 City        time        Day  \n",
       "65074            Moscow  13:32:28  Wednesday  \n",
       "65075  Saint-Petersburg  10:00:00     Monday  \n",
       "65076            Moscow  20:09:26     Friday  \n",
       "65077            Moscow  21:43:59     Friday  \n",
       "65078            Moscow  21:59:46     Friday  "
      ]
     },
     "execution_count": 4,
     "metadata": {},
     "output_type": "execute_result"
    }
   ],
   "source": [
    "# Комментарий ревьюера\n",
    "df.tail(5)"
   ]
  },
  {
   "cell_type": "markdown",
   "id": "2a123d44",
   "metadata": {
    "id": "EO73Kwic_Zct"
   },
   "source": [
    "Одной командой получить общую информацию о таблице:"
   ]
  },
  {
   "cell_type": "code",
   "execution_count": 5,
   "id": "6aa12bc6",
   "metadata": {
    "id": "DSf2kIb-_Zct"
   },
   "outputs": [
    {
     "name": "stdout",
     "output_type": "stream",
     "text": [
      "<class 'pandas.core.frame.DataFrame'>\n",
      "RangeIndex: 65079 entries, 0 to 65078\n",
      "Data columns (total 7 columns):\n",
      "  userID    65079 non-null object\n",
      "Track       63848 non-null object\n",
      "artist      57876 non-null object\n",
      "genre       63881 non-null object\n",
      "  City      65079 non-null object\n",
      "time        65079 non-null object\n",
      "Day         65079 non-null object\n",
      "dtypes: object(7)\n",
      "memory usage: 3.5+ MB\n"
     ]
    }
   ],
   "source": [
    "df.info() # получение общей информации о данных в таблице df"
   ]
  },
  {
   "cell_type": "markdown",
   "id": "daf4a21e",
   "metadata": {},
   "source": [
    "<font color='DarkBlue'><b>Комментарий ревьюера</b></font><br>\n",
    "<font color='DarkGreen'>👌 Отличный выбор, метод info действительно показывает много информации о датафрейме.</font>"
   ]
  },
  {
   "cell_type": "markdown",
   "id": "caea5868",
   "metadata": {
    "id": "TaQ2Iwbr_Zct"
   },
   "source": [
    "# Итак, в таблице семь столбцов. Тип данных во всех столбцах — `object`.\n",
    "\n",
    "Согласно документации к данным:\n",
    "* `userID` — идентификатор пользователя;\n",
    "* `Track` — название трека;  \n",
    "* `artist` — имя исполнителя;\n",
    "* `genre` — название жанра;\n",
    "* `City` — город пользователя;\n",
    "* `time` — время начала прослушивания;\n",
    "* `Day` — день недели.\n",
    "\n",
    "В названиях колонок видны три нарушения стиля:\n",
    "1. Строчные буквы сочетаются с прописными.\n",
    "2. Встречаются пробелы.\n",
    "3. Заголовок в несколько слов написан слитно, а не через подчеркивание.\n",
    "\n",
    "\n",
    "\n",
    "Количество значений в столбцах различается. Значит, в данных есть пропущенные значения.\n"
   ]
  },
  {
   "cell_type": "markdown",
   "id": "1d833de7",
   "metadata": {
    "id": "MCB6-dXG_Zct"
   },
   "source": [
    "**Выводы**\n",
    "\n",
    "В каждой строке таблицы — данные о прослушанном треке. Часть колонок описывает саму композицию: название, исполнителя и жанр. Остальные данные рассказывают о пользователе: из какого он города, когда он слушал музыку. \n",
    "\n",
    "Предварительно можно утверждать, что, данных достаточно для проверки гипотез. Но встречаются пропуски в данных, а в названиях колонок — расхождения с хорошим стилем.\n",
    "\n",
    "Чтобы двигаться дальше, нужно устранить проблемы в данных."
   ]
  },
  {
   "cell_type": "markdown",
   "id": "b767f1e8",
   "metadata": {},
   "source": [
    "<font color='DarkBlue'><b>Комментарий ревьюера</b></font><br>\n",
    "<font color='DarkGreen'>👌 Очень правильно после промежуточного анализа данных делать краткие выводы и планировать дальнейшую обработку проблем. Хорошо, что найдено третье нарушение. </font><br>"
   ]
  },
  {
   "cell_type": "markdown",
   "id": "f7bcf33f",
   "metadata": {
    "id": "SjYF6Ub9_Zct"
   },
   "source": [
    "## Предобработка данных\n",
    "Исправьте стиль в заголовках столбцов, исключите пропуски. Затем проверьте данные на дубликаты."
   ]
  },
  {
   "cell_type": "markdown",
   "id": "5f353b37",
   "metadata": {
    "id": "dIaKXr29_Zct"
   },
   "source": [
    "### Стиль заголовков\n",
    "Выведите на экран названия столбцов:"
   ]
  },
  {
   "cell_type": "code",
   "execution_count": 6,
   "id": "3ffb9fee",
   "metadata": {
    "id": "oKOTdF_Q_Zct"
   },
   "outputs": [
    {
     "data": {
      "text/plain": [
       "Index(['  userID', 'Track', 'artist', 'genre', '  City  ', 'time', 'Day'], dtype='object')"
      ]
     },
     "execution_count": 6,
     "metadata": {},
     "output_type": "execute_result"
    }
   ],
   "source": [
    "df.columns # перечень названий столбцов таблицы df"
   ]
  },
  {
   "cell_type": "markdown",
   "id": "a68468ed",
   "metadata": {},
   "source": [
    "<font color='DarkBlue'><b>Комментарий ревьюера</b></font><br>\n",
    "<font color='DarkGreen'>👌 Отлично, мы видим полностью названия колонок, включая лишние пробелы. Но метод `.tolist()` тут лишний.</font>"
   ]
  },
  {
   "cell_type": "markdown",
   "id": "10b7ab94",
   "metadata": {
    "id": "zj5534cv_Zct"
   },
   "source": [
    "Приведите названия в соответствие с хорошим стилем:\n",
    "* несколько слов в названии запишите в «змеином_регистре»,\n",
    "* все символы сделайте строчными,\n",
    "* устраните пробелы.\n",
    "\n",
    "Для этого переименуйте колонки так:\n",
    "* `'  userID'` → `'user_id'`;\n",
    "* `'Track'` → `'track'`;\n",
    "* `'  City  '` → `'city'`;\n",
    "* `'Day'` → `'day'`."
   ]
  },
  {
   "cell_type": "code",
   "execution_count": 7,
   "id": "555df6b4",
   "metadata": {
    "id": "ISlFqs5y_Zct"
   },
   "outputs": [],
   "source": [
    "df = df.rename(columns = {'  userID': 'user_id', 'Track': 'track', '  City  ': 'city', 'Day': 'day'}) # переименование столбцов"
   ]
  },
  {
   "cell_type": "markdown",
   "id": "dc1fc379",
   "metadata": {},
   "source": [
    "<font color='DarkBlue'><b>Комментарий ревьюера</b></font><br>\n",
    "<font color='Red'>🛠 Тебе удалось переименовать столбцы, хотя и не оптимальным методом. Для этих целей лучше подойдет метод rename(): он принимает словарь со старыми и новыми названиями столбцов. Это позволяет при необходимости переименовать только часть столбцов или передать их в произвольном порядке.</font>"
   ]
  },
  {
   "cell_type": "markdown",
   "id": "6c8802f6",
   "metadata": {},
   "source": [
    "<font color='DarkBlue'><b>Комментарий ревьюера 2</b></font><br>\n",
    "<font color='DarkGreen'>👌 Хорошо, теперь правильно. 👍</font>"
   ]
  },
  {
   "cell_type": "markdown",
   "id": "91f0c504",
   "metadata": {
    "id": "1dqbh00J_Zct"
   },
   "source": [
    "Проверьте результат. Для этого ещё раз выведите на экран названия столбцов:"
   ]
  },
  {
   "cell_type": "code",
   "execution_count": 8,
   "id": "a735f7bd",
   "metadata": {
    "id": "d4NOAmTW_Zct"
   },
   "outputs": [
    {
     "data": {
      "text/plain": [
       "Index(['user_id', 'track', 'artist', 'genre', 'city', 'time', 'day'], dtype='object')"
      ]
     },
     "execution_count": 8,
     "metadata": {},
     "output_type": "execute_result"
    }
   ],
   "source": [
    "df.columns # проверка результатов - перечень названий столбцов"
   ]
  },
  {
   "cell_type": "markdown",
   "id": "28220292",
   "metadata": {
    "id": "5ISfbcfY_Zct"
   },
   "source": [
    "### Пропуски значений\n",
    "Сначала посчитайте, сколько в таблице пропущенных значений. Для этого достаточно двух методов `pandas`:"
   ]
  },
  {
   "cell_type": "code",
   "execution_count": 9,
   "id": "7397abce",
   "metadata": {
    "id": "RskX29qr_Zct"
   },
   "outputs": [
    {
     "data": {
      "text/plain": [
       "user_id       0\n",
       "track      1231\n",
       "artist     7203\n",
       "genre      1198\n",
       "city          0\n",
       "time          0\n",
       "day           0\n",
       "dtype: int64"
      ]
     },
     "execution_count": 9,
     "metadata": {},
     "output_type": "execute_result"
    }
   ],
   "source": [
    "df.isna().sum() # подсчёт пропусков"
   ]
  },
  {
   "cell_type": "markdown",
   "id": "f7ea9135",
   "metadata": {},
   "source": [
    "<font color='DarkBlue'><b>Комментарий ревьюера</b></font><br>\n",
    "<font color='DarkGreen'>👌 Все верно. Выбран метод isna() для нахождения пропущенных значений, это отлично! На самом деле, isnull() и isna() делают одно и то же, но использование isna() предпочтительнее.</font>"
   ]
  },
  {
   "cell_type": "markdown",
   "id": "fea45187",
   "metadata": {
    "id": "qubhgnlO_Zct"
   },
   "source": [
    "Не все пропущенные значения влияют на исследование. Так в `track` и `artist` пропуски не важны для вашей работы. Достаточно заменить их явными обозначениями.\n",
    "\n",
    "Но пропуски в `genre` могут помешать сравнению музыкальных вкусов в Москве и Санкт-Петербурге. На практике было бы правильно установить причину пропусков и восстановить данные. Такой возможности нет в учебном проекте. Придётся:\n",
    "* заполнить и эти пропуски явными обозначениями,\n",
    "* оценить, насколько они повредят расчётам. "
   ]
  },
  {
   "cell_type": "markdown",
   "id": "6bd36bdb",
   "metadata": {
    "id": "fSv2laPA_Zct"
   },
   "source": [
    "Замените пропущенные значения в столбцах `track`, `artist` и `genre` на строку `'unknown'`. Для этого создайте список `columns_to_replace`, переберите его элементы циклом `for` и для каждого столбца выполните замену пропущенных значений:"
   ]
  },
  {
   "cell_type": "code",
   "execution_count": 10,
   "id": "59bb73af",
   "metadata": {
    "id": "KplB5qWs_Zct"
   },
   "outputs": [],
   "source": [
    "columns_to_replace = ['track', 'artist', 'genre'] #список столбцов для поиска пропущенных значений\n",
    "for column in columns_to_replace: # перебор названий столбцов в цикле и замена пропущенных значений на 'unknown'\n",
    "    df[column] = df[column].fillna('unknown')"
   ]
  },
  {
   "cell_type": "markdown",
   "id": "a5da3e39",
   "metadata": {},
   "source": [
    "<font color='DarkBlue'><b>Комментарий ревьюера</b></font><br>\n",
    "<font color='DarkGreen'>👌 Хорошо. Список columns_to_replace сформирован верно, цикл отработал без ошибок. 😄</font>"
   ]
  },
  {
   "cell_type": "markdown",
   "id": "dacbb64d",
   "metadata": {
    "id": "Ilsm-MZo_Zct"
   },
   "source": [
    "Убедитесь, что в таблице не осталось пропусков. Для этого ещё раз посчитайте пропущенные значения."
   ]
  },
  {
   "cell_type": "code",
   "execution_count": 11,
   "id": "8f59e3b0",
   "metadata": {
    "id": "Tq4nYRX4_Zct"
   },
   "outputs": [
    {
     "data": {
      "text/plain": [
       "user_id    0\n",
       "track      0\n",
       "artist     0\n",
       "genre      0\n",
       "city       0\n",
       "time       0\n",
       "day        0\n",
       "dtype: int64"
      ]
     },
     "execution_count": 11,
     "metadata": {},
     "output_type": "execute_result"
    }
   ],
   "source": [
    "df.isna().sum() # подсчёт пропусков"
   ]
  },
  {
   "cell_type": "markdown",
   "id": "c932161a",
   "metadata": {},
   "source": [
    "<font color='DarkBlue'><b>Комментарий ревьюера</b></font><br>\n",
    "<font color='DarkGreen'>👌 Замечательно, сделано все правильно.</font>"
   ]
  },
  {
   "cell_type": "markdown",
   "id": "bdb73d25",
   "metadata": {
    "id": "BWKRtBJ3_Zct"
   },
   "source": [
    "### Дубликаты\n",
    "Посчитайте явные дубликаты в таблице одной командой:"
   ]
  },
  {
   "cell_type": "code",
   "execution_count": 12,
   "id": "94ac37a3",
   "metadata": {
    "id": "36eES_S0_Zct"
   },
   "outputs": [
    {
     "data": {
      "text/plain": [
       "3826"
      ]
     },
     "execution_count": 12,
     "metadata": {},
     "output_type": "execute_result"
    }
   ],
   "source": [
    "df.duplicated().sum() # подсчёт явных дубликатов"
   ]
  },
  {
   "cell_type": "markdown",
   "id": "987a1be2",
   "metadata": {},
   "source": [
    "<font color='DarkBlue'><b>Комментарий ревьюера</b></font><br>\n",
    "<font color='DarkGreen'>👌 Отлично! Дубликаты найдены верно и посчитаны оптимальными методами.</font>"
   ]
  },
  {
   "cell_type": "markdown",
   "id": "c00e967f",
   "metadata": {
    "id": "Ot25h6XR_Zct"
   },
   "source": [
    "Вызовите специальный метод `pandas`, чтобы удалить явные дубликаты:"
   ]
  },
  {
   "cell_type": "code",
   "execution_count": 13,
   "id": "a5fb8f76",
   "metadata": {
    "id": "exFHq6tt_Zct"
   },
   "outputs": [],
   "source": [
    "df = df.drop_duplicates().reset_index(drop=True) # удаление явных дубликатов (с удалением старых индексов и формированием новых)"
   ]
  },
  {
   "cell_type": "markdown",
   "id": "90df713f",
   "metadata": {
    "id": "Im2YwBEG_Zct"
   },
   "source": [
    "Ещё раз посчитайте явные дубликаты в таблице — убедитесь, что полностью от них избавились:"
   ]
  },
  {
   "cell_type": "code",
   "execution_count": 14,
   "id": "a822c416",
   "metadata": {
    "id": "-8PuNWQ0_Zct"
   },
   "outputs": [
    {
     "data": {
      "text/plain": [
       "0"
      ]
     },
     "execution_count": 14,
     "metadata": {},
     "output_type": "execute_result"
    }
   ],
   "source": [
    "df.duplicated().sum() # проверка на отсутствие дубликатов"
   ]
  },
  {
   "cell_type": "markdown",
   "id": "6a3d6181",
   "metadata": {},
   "source": [
    "<font color='DarkBlue'><b>Комментарий ревьюера</b></font><br>\n",
    "<font color='DarkGreen'>👌 Правильно удалены дубликаты и проверено их отсутствие.</font>"
   ]
  },
  {
   "cell_type": "markdown",
   "id": "2fb96e0d",
   "metadata": {
    "id": "QlFBsxAr_Zct"
   },
   "source": [
    "Теперь избавьтесь от неявных дубликатов в колонке `genre`. Например, название одного и того же жанра может быть записано немного по-разному. Такие ошибки тоже повлияют на результат исследования."
   ]
  },
  {
   "cell_type": "markdown",
   "id": "e74fb8f0",
   "metadata": {
    "id": "eSjWwsOh_Zct"
   },
   "source": [
    "Выведите на экран список уникальных названий жанров, отсортированный в алфавитном порядке. Для этого:\n",
    "* извлеките нужный столбец датафрейма, \n",
    "* примените к нему метод сортировки,\n",
    "* для отсортированного столбца вызовите метод, который вернёт уникальные значения из столбца."
   ]
  },
  {
   "cell_type": "code",
   "execution_count": 15,
   "id": "a37532f1",
   "metadata": {
    "id": "JIUcqzZN_Zct"
   },
   "outputs": [
    {
     "data": {
      "text/plain": [
       "array(['acid', 'acoustic', 'action', 'adult', 'africa', 'afrikaans',\n",
       "       'alternative', 'alternativepunk', 'ambient', 'americana',\n",
       "       'animated', 'anime', 'arabesk', 'arabic', 'arena',\n",
       "       'argentinetango', 'art', 'audiobook', 'author', 'avantgarde',\n",
       "       'axé', 'baile', 'balkan', 'beats', 'bigroom', 'black', 'bluegrass',\n",
       "       'blues', 'bollywood', 'bossa', 'brazilian', 'breakbeat', 'breaks',\n",
       "       'broadway', 'cantautori', 'cantopop', 'canzone', 'caribbean',\n",
       "       'caucasian', 'celtic', 'chamber', 'chanson', 'children', 'chill',\n",
       "       'chinese', 'choral', 'christian', 'christmas', 'classical',\n",
       "       'classicmetal', 'club', 'colombian', 'comedy', 'conjazz',\n",
       "       'contemporary', 'country', 'cuban', 'dance', 'dancehall',\n",
       "       'dancepop', 'dark', 'death', 'deep', 'deutschrock', 'deutschspr',\n",
       "       'dirty', 'disco', 'dnb', 'documentary', 'downbeat', 'downtempo',\n",
       "       'drum', 'dub', 'dubstep', 'eastern', 'easy', 'electronic',\n",
       "       'electropop', 'emo', 'entehno', 'epicmetal', 'estrada', 'ethnic',\n",
       "       'eurofolk', 'european', 'experimental', 'extrememetal', 'fado',\n",
       "       'fairytail', 'film', 'fitness', 'flamenco', 'folk', 'folklore',\n",
       "       'folkmetal', 'folkrock', 'folktronica', 'forró', 'frankreich',\n",
       "       'französisch', 'french', 'funk', 'future', 'gangsta', 'garage',\n",
       "       'german', 'ghazal', 'gitarre', 'glitch', 'gospel', 'gothic',\n",
       "       'grime', 'grunge', 'gypsy', 'handsup', \"hard'n'heavy\", 'hardcore',\n",
       "       'hardstyle', 'hardtechno', 'hip', 'hip-hop', 'hiphop',\n",
       "       'historisch', 'holiday', 'hop', 'horror', 'house', 'hymn', 'idm',\n",
       "       'independent', 'indian', 'indie', 'indipop', 'industrial',\n",
       "       'inspirational', 'instrumental', 'international', 'irish', 'jam',\n",
       "       'japanese', 'jazz', 'jewish', 'jpop', 'jungle', 'k-pop',\n",
       "       'karadeniz', 'karaoke', 'kayokyoku', 'korean', 'laiko', 'latin',\n",
       "       'latino', 'leftfield', 'local', 'lounge', 'loungeelectronic',\n",
       "       'lovers', 'malaysian', 'mandopop', 'marschmusik', 'meditative',\n",
       "       'mediterranean', 'melodic', 'metal', 'metalcore', 'mexican',\n",
       "       'middle', 'minimal', 'miscellaneous', 'modern', 'mood', 'mpb',\n",
       "       'muslim', 'native', 'neoklassik', 'neue', 'new', 'newage',\n",
       "       'newwave', 'nu', 'nujazz', 'numetal', 'oceania', 'old', 'opera',\n",
       "       'orchestral', 'other', 'piano', 'podcasts', 'pop', 'popdance',\n",
       "       'popelectronic', 'popeurodance', 'poprussian', 'post',\n",
       "       'posthardcore', 'postrock', 'power', 'progmetal', 'progressive',\n",
       "       'psychedelic', 'punjabi', 'punk', 'quebecois', 'ragga', 'ram',\n",
       "       'rancheras', 'rap', 'rave', 'reggae', 'reggaeton', 'regional',\n",
       "       'relax', 'religious', 'retro', 'rhythm', 'rnb', 'rnr', 'rock',\n",
       "       'rockabilly', 'rockalternative', 'rockindie', 'rockother',\n",
       "       'romance', 'roots', 'ruspop', 'rusrap', 'rusrock', 'russian',\n",
       "       'salsa', 'samba', 'scenic', 'schlager', 'self', 'sertanejo',\n",
       "       'shanson', 'shoegazing', 'showtunes', 'singer', 'ska', 'skarock',\n",
       "       'slow', 'smooth', 'soft', 'soul', 'soulful', 'sound', 'soundtrack',\n",
       "       'southern', 'specialty', 'speech', 'spiritual', 'sport',\n",
       "       'stonerrock', 'surf', 'swing', 'synthpop', 'synthrock',\n",
       "       'sängerportrait', 'tango', 'tanzorchester', 'taraftar', 'tatar',\n",
       "       'tech', 'techno', 'teen', 'thrash', 'top', 'traditional',\n",
       "       'tradjazz', 'trance', 'tribal', 'trip', 'triphop', 'tropical',\n",
       "       'türk', 'türkçe', 'ukrrock', 'unknown', 'urban', 'uzbek',\n",
       "       'variété', 'vi', 'videogame', 'vocal', 'western', 'world',\n",
       "       'worldbeat', 'ïîï', 'электроника'], dtype=object)"
      ]
     },
     "execution_count": 15,
     "metadata": {},
     "output_type": "execute_result"
    }
   ],
   "source": [
    "df['genre'].sort_values().unique() # Просмотр уникальных названий жанров"
   ]
  },
  {
   "cell_type": "markdown",
   "id": "df9c02b2",
   "metadata": {},
   "source": [
    "<font color='DarkBlue'><b>Комментарий ревьюера</b></font><br>\n",
    "<font color='DarkGreen'>👌 Хотя список большой, но видно, наверняка многие названия дублируются.</font>"
   ]
  },
  {
   "cell_type": "markdown",
   "id": "88c91bdb",
   "metadata": {
    "id": "qej-Qmuo_Zct"
   },
   "source": [
    "Просмотрите список и найдите неявные дубликаты названия `hiphop`. Это могут быть названия с ошибками или альтернативные названия того же жанра.\n",
    "\n",
    "Вы увидите следующие неявные дубликаты:\n",
    "* *hip*,\n",
    "* *hop*,\n",
    "* *hip-hop*.\n",
    "\n",
    "Чтобы очистить от них таблицу, напишите функцию `replace_wrong_genres()` с двумя параметрами: \n",
    "* `wrong_genres` — список дубликатов,\n",
    "* `correct_genre` — строка с правильным значением.\n",
    "\n",
    "Функция должна исправить колонку `genre` в таблице `df`: заменить каждое значение из списка `wrong_genres` на значение из `correct_genre`."
   ]
  },
  {
   "cell_type": "markdown",
   "id": "123abdc8",
   "metadata": {},
   "source": [
    "<font color='DarkBlue'><b>Комментарий ревьюера</b></font><br>\n",
    "<font color='DarkMagenta'>👉 А попробуй найти еще неявные дубликаты, кроме указанных в задании. Вдруг получится. 😄</font><br>"
   ]
  },
  {
   "cell_type": "markdown",
   "id": "3f699846",
   "metadata": {},
   "source": [
    "<font color='Blue'><b>Комментарий студента</b></font><br>\n",
    "<font color='Magenta'>Например, можно попробовать слить 'rnr', 'rock','rockother' и 'electronic', 'электроника' 🙂</font><br> "
   ]
  },
  {
   "cell_type": "markdown",
   "id": "973c2e7e",
   "metadata": {},
   "source": [
    "<font color='DarkBlue'><b>Комментарий ревьюера 2</b></font><br>\n",
    "<font color='DarkGreen'>👌 Отлично. 👍 Лучше на данные смотреть шире, чем их описывают в задании.</font>"
   ]
  },
  {
   "cell_type": "code",
   "execution_count": 16,
   "id": "27ec02c8",
   "metadata": {
    "id": "ErNDkmns_Zct"
   },
   "outputs": [],
   "source": [
    "def replace_wrong_genres(wrong_genres, correct_genre): # Функция для замены неявных дубликатов\n",
    "    for wrong_genre in wrong_genres:\n",
    "        df['genre'] = df['genre'].replace(wrong_genre, correct_genre)\n"
   ]
  },
  {
   "cell_type": "markdown",
   "id": "bdc3053f",
   "metadata": {},
   "source": [
    "<font color='DarkBlue'><b>Комментарий ревьюера</b></font><br>\n",
    "<font color='DarkGreen'>👌 Отлично! Функция написана верно!</font><br>"
   ]
  },
  {
   "cell_type": "markdown",
   "id": "d014bac8",
   "metadata": {
    "id": "aDoBJxbA_Zct"
   },
   "source": [
    "Вызовите `replace_wrong_genres()` и передайте ей такие аргументы, чтобы она устранила неявные дубликаты: вместо `hip`, `hop` и `hip-hop` в таблице должно быть значение `hiphop`:"
   ]
  },
  {
   "cell_type": "code",
   "execution_count": 17,
   "id": "6d1b5613",
   "metadata": {
    "id": "YN5i2hpmSo09"
   },
   "outputs": [],
   "source": [
    "replace_wrong_genres(['hip', 'hop', 'hip-hop'],'hiphop') # Устранение неявных дубликатов"
   ]
  },
  {
   "cell_type": "markdown",
   "id": "79fa258e",
   "metadata": {
    "id": "zQKF16_RG15m"
   },
   "source": [
    "Проверьте, что заменили неправильные названия:\n",
    "\n",
    "*   hip\n",
    "*   hop\n",
    "*   hip-hop\n",
    "\n",
    "Выведите отсортированный список уникальных значений столбца `genre`:"
   ]
  },
  {
   "cell_type": "code",
   "execution_count": 18,
   "id": "a8f2d2a1",
   "metadata": {
    "id": "wvixALnFG15m"
   },
   "outputs": [
    {
     "data": {
      "text/plain": [
       "array(['acid', 'acoustic', 'action', 'adult', 'africa', 'afrikaans',\n",
       "       'alternative', 'alternativepunk', 'ambient', 'americana',\n",
       "       'animated', 'anime', 'arabesk', 'arabic', 'arena',\n",
       "       'argentinetango', 'art', 'audiobook', 'author', 'avantgarde',\n",
       "       'axé', 'baile', 'balkan', 'beats', 'bigroom', 'black', 'bluegrass',\n",
       "       'blues', 'bollywood', 'bossa', 'brazilian', 'breakbeat', 'breaks',\n",
       "       'broadway', 'cantautori', 'cantopop', 'canzone', 'caribbean',\n",
       "       'caucasian', 'celtic', 'chamber', 'chanson', 'children', 'chill',\n",
       "       'chinese', 'choral', 'christian', 'christmas', 'classical',\n",
       "       'classicmetal', 'club', 'colombian', 'comedy', 'conjazz',\n",
       "       'contemporary', 'country', 'cuban', 'dance', 'dancehall',\n",
       "       'dancepop', 'dark', 'death', 'deep', 'deutschrock', 'deutschspr',\n",
       "       'dirty', 'disco', 'dnb', 'documentary', 'downbeat', 'downtempo',\n",
       "       'drum', 'dub', 'dubstep', 'eastern', 'easy', 'electronic',\n",
       "       'electropop', 'emo', 'entehno', 'epicmetal', 'estrada', 'ethnic',\n",
       "       'eurofolk', 'european', 'experimental', 'extrememetal', 'fado',\n",
       "       'fairytail', 'film', 'fitness', 'flamenco', 'folk', 'folklore',\n",
       "       'folkmetal', 'folkrock', 'folktronica', 'forró', 'frankreich',\n",
       "       'französisch', 'french', 'funk', 'future', 'gangsta', 'garage',\n",
       "       'german', 'ghazal', 'gitarre', 'glitch', 'gospel', 'gothic',\n",
       "       'grime', 'grunge', 'gypsy', 'handsup', \"hard'n'heavy\", 'hardcore',\n",
       "       'hardstyle', 'hardtechno', 'hiphop', 'historisch', 'holiday',\n",
       "       'horror', 'house', 'hymn', 'idm', 'independent', 'indian', 'indie',\n",
       "       'indipop', 'industrial', 'inspirational', 'instrumental',\n",
       "       'international', 'irish', 'jam', 'japanese', 'jazz', 'jewish',\n",
       "       'jpop', 'jungle', 'k-pop', 'karadeniz', 'karaoke', 'kayokyoku',\n",
       "       'korean', 'laiko', 'latin', 'latino', 'leftfield', 'local',\n",
       "       'lounge', 'loungeelectronic', 'lovers', 'malaysian', 'mandopop',\n",
       "       'marschmusik', 'meditative', 'mediterranean', 'melodic', 'metal',\n",
       "       'metalcore', 'mexican', 'middle', 'minimal', 'miscellaneous',\n",
       "       'modern', 'mood', 'mpb', 'muslim', 'native', 'neoklassik', 'neue',\n",
       "       'new', 'newage', 'newwave', 'nu', 'nujazz', 'numetal', 'oceania',\n",
       "       'old', 'opera', 'orchestral', 'other', 'piano', 'podcasts', 'pop',\n",
       "       'popdance', 'popelectronic', 'popeurodance', 'poprussian', 'post',\n",
       "       'posthardcore', 'postrock', 'power', 'progmetal', 'progressive',\n",
       "       'psychedelic', 'punjabi', 'punk', 'quebecois', 'ragga', 'ram',\n",
       "       'rancheras', 'rap', 'rave', 'reggae', 'reggaeton', 'regional',\n",
       "       'relax', 'religious', 'retro', 'rhythm', 'rnb', 'rnr', 'rock',\n",
       "       'rockabilly', 'rockalternative', 'rockindie', 'rockother',\n",
       "       'romance', 'roots', 'ruspop', 'rusrap', 'rusrock', 'russian',\n",
       "       'salsa', 'samba', 'scenic', 'schlager', 'self', 'sertanejo',\n",
       "       'shanson', 'shoegazing', 'showtunes', 'singer', 'ska', 'skarock',\n",
       "       'slow', 'smooth', 'soft', 'soul', 'soulful', 'sound', 'soundtrack',\n",
       "       'southern', 'specialty', 'speech', 'spiritual', 'sport',\n",
       "       'stonerrock', 'surf', 'swing', 'synthpop', 'synthrock',\n",
       "       'sängerportrait', 'tango', 'tanzorchester', 'taraftar', 'tatar',\n",
       "       'tech', 'techno', 'teen', 'thrash', 'top', 'traditional',\n",
       "       'tradjazz', 'trance', 'tribal', 'trip', 'triphop', 'tropical',\n",
       "       'türk', 'türkçe', 'ukrrock', 'unknown', 'urban', 'uzbek',\n",
       "       'variété', 'vi', 'videogame', 'vocal', 'western', 'world',\n",
       "       'worldbeat', 'ïîï', 'электроника'], dtype=object)"
      ]
     },
     "execution_count": 18,
     "metadata": {},
     "output_type": "execute_result"
    }
   ],
   "source": [
    "df['genre'].sort_values().unique() # Проверка на неявные дубликаты"
   ]
  },
  {
   "cell_type": "markdown",
   "id": "98eef6b0",
   "metadata": {},
   "source": [
    "<font color='DarkBlue'><b>Комментарий ревьюера</b></font><br>\n",
    "<font color='DarkGreen'>👌 И функция наша правильно работает. 😄</font>"
   ]
  },
  {
   "cell_type": "markdown",
   "id": "001d76e1",
   "metadata": {
    "id": "jz6a9-7HQUDd"
   },
   "source": [
    "**Выводы**\n",
    "\n",
    "Предобработка обнаружила три проблемы в данных:\n",
    "\n",
    "- нарушения в стиле заголовков,\n",
    "- пропущенные значения,\n",
    "- дубликаты — явные и неявные.\n",
    "\n",
    "Вы исправили заголовки, чтобы упростить работу с таблицей. Без дубликатов исследование станет более точным.\n",
    "\n",
    "Пропущенные значения вы заменили на `'unknown'`. Ещё предстоит увидеть, не повредят ли исследованию пропуски в колонке `genre`.\n",
    "\n",
    "Теперь можно перейти к проверке гипотез. "
   ]
  },
  {
   "cell_type": "markdown",
   "id": "2b539f9e",
   "metadata": {
    "id": "WttZHXH0SqKk"
   },
   "source": [
    "## Проверка гипотез"
   ]
  },
  {
   "cell_type": "markdown",
   "id": "e1cd0740",
   "metadata": {
    "id": "Im936VVi_Zcu"
   },
   "source": [
    "### Сравнение поведения пользователей двух столиц"
   ]
  },
  {
   "cell_type": "markdown",
   "id": "cfc95bf3",
   "metadata": {
    "id": "nwt_MuaL_Zcu"
   },
   "source": [
    "Первая гипотеза утверждает, что пользователи по-разному слушают музыку в Москве и Санкт-Петербурге. Проверьте это предположение по данным о трёх днях недели — понедельнике, среде и пятнице. Для этого:\n",
    "\n",
    "* Разделите пользователей Москвы и Санкт-Петербурга\n",
    "* Сравните, сколько треков послушала каждая группа пользователей в понедельник, среду и пятницу.\n"
   ]
  },
  {
   "cell_type": "markdown",
   "id": "b10b7ffa",
   "metadata": {
    "id": "8Dw_YMmT_Zcu"
   },
   "source": [
    "Для тренировки сначала выполните каждый из расчётов по отдельности. \n",
    "\n",
    "Оцените активность пользователей в каждом городе. Сгруппируйте данные по городу и посчитайте прослушивания в каждой группе.\n",
    "\n"
   ]
  },
  {
   "cell_type": "code",
   "execution_count": 19,
   "id": "43273ce1",
   "metadata": {
    "id": "0_Qs96oh_Zcu"
   },
   "outputs": [
    {
     "data": {
      "text/plain": [
       "city\n",
       "Moscow              42741\n",
       "Saint-Petersburg    18512\n",
       "Name: city, dtype: int64"
      ]
     },
     "execution_count": 19,
     "metadata": {},
     "output_type": "execute_result"
    }
   ],
   "source": [
    "df.groupby('city')['city'].count() # Подсчёт прослушиваний в каждом городе"
   ]
  },
  {
   "cell_type": "markdown",
   "id": "0a284a87",
   "metadata": {},
   "source": [
    "<font color='DarkBlue'><b>Комментарий ревьюера</b></font><br>\n",
    "<font color='DarkGreen'>👌 Все сделано правильно.</font>"
   ]
  },
  {
   "cell_type": "markdown",
   "id": "caf95e62",
   "metadata": {
    "id": "dzli3w8o_Zcu"
   },
   "source": [
    "В Москве прослушиваний больше, чем в Петербурге. Из этого не следует, что московские пользователи чаще слушают музыку. Просто самих пользователей в Москве больше.\n",
    "\n",
    "Теперь сгруппируйте данные по дню недели и подсчитайте прослушивания в понедельник, среду и пятницу. Учтите, что в данных есть информация только о прослушиваниях только за эти дни.\n"
   ]
  },
  {
   "cell_type": "code",
   "execution_count": 20,
   "id": "b426e0ea",
   "metadata": {
    "id": "uZMKjiJz_Zcu"
   },
   "outputs": [
    {
     "data": {
      "text/plain": [
       "day\n",
       "Friday       21840\n",
       "Monday       21354\n",
       "Wednesday    18059\n",
       "Name: day, dtype: int64"
      ]
     },
     "execution_count": 20,
     "metadata": {},
     "output_type": "execute_result"
    }
   ],
   "source": [
    "df.groupby('day')['day'].count() # Подсчёт прослушиваний в каждый из трёх дней"
   ]
  },
  {
   "cell_type": "markdown",
   "id": "ba6ae3bd",
   "metadata": {},
   "source": [
    "<font color='DarkBlue'><b>Комментарий ревьюера</b></font><br>\n",
    "<font color='DarkGreen'>👌 Все правильно!</font>"
   ]
  },
  {
   "cell_type": "markdown",
   "id": "07e836b7",
   "metadata": {
    "id": "cC2tNrlL_Zcu"
   },
   "source": [
    "В среднем пользователи из двух городов менее активны по средам. Но картина может измениться, если рассмотреть каждый город в отдельности."
   ]
  },
  {
   "cell_type": "markdown",
   "id": "1f3a3304",
   "metadata": {
    "id": "POzs8bGa_Zcu"
   },
   "source": [
    "Вы видели, как работает группировка по городу и по дням недели. Теперь напишите функцию, которая объединит два эти расчёта.\n",
    "\n",
    "Создайте функцию `number_tracks()`, которая посчитает прослушивания для заданного дня и города. Ей понадобятся два параметра:\n",
    "* день недели,\n",
    "* название города.\n",
    "\n",
    "В функции сохраните в переменную строки исходной таблицы, у которых значение:\n",
    "  * в колонке `day` равно параметру `day`,\n",
    "  * в колонке `city` равно параметру `city`.\n",
    "\n",
    "Для этого примените последовательную фильтрацию с логической индексацией.\n",
    "\n",
    "Затем посчитайте значения в столбце `user_id` получившейся таблицы. Результат сохраните в новую переменную. Верните эту переменную из функции."
   ]
  },
  {
   "cell_type": "code",
   "execution_count": 21,
   "id": "51c9ad56",
   "metadata": {
    "id": "Nz3GdQB1_Zcu"
   },
   "outputs": [],
   "source": [
    "# <создание функции number_tracks()>\n",
    "def number_tracks(day, city): # Объявляется функция с двумя параметрами: day, city.\n",
    "    track_list = df[df['day']==day] # В переменной track_list сохраняются те строки таблицы df, для которых \n",
    "                                    # значение в столбце 'day' равно параметру day\n",
    "    track_list = track_list[track_list['city']==city] # и одновременно значениев столбце 'city' равно параметру city \n",
    "                                                      # (используйте последовательную фильтрацию с помощью логической индексации).\n",
    "    track_list_count = track_list['user_id'].count() # В переменной track_list_count сохраняется число значений столбца 'user_id',\n",
    "                                                   # рассчитанное методом count() для таблицы track_list.\n",
    "    return track_list_count # Функция возвращает число - значение track_list_count.\n",
    "\n",
    "# Функция для подсчёта прослушиваний для конкретного города и дня.\n",
    "# С помощью последовательной фильтрации с логической индексацией она \n",
    "# сначала получит из исходной таблицы строки с нужным днём,\n",
    "# затем из результата отфильтрует строки с нужным городом,\n",
    "# методом count() посчитает количество значений в колонке user_id. \n",
    "# Это количество функция вернёт в качестве результата"
   ]
  },
  {
   "cell_type": "markdown",
   "id": "495600b3",
   "metadata": {},
   "source": [
    "<font color='DarkBlue'><b>Комментарий ревьюера</b></font><br>\n",
    "<font color='DarkGreen'>👌 Замечательно! Функция написана правильно. 👍</font>"
   ]
  },
  {
   "cell_type": "markdown",
   "id": "0344c2ce",
   "metadata": {
    "id": "ytf7xFrFJQ2r"
   },
   "source": [
    "Вызовите `number_tracks()` шесть раз, меняя значение параметров — так, чтобы получить данные для каждого города в каждый из трёх дней."
   ]
  },
  {
   "cell_type": "code",
   "execution_count": 22,
   "id": "a6aebe3a",
   "metadata": {
    "id": "rJcRATNQ_Zcu"
   },
   "outputs": [
    {
     "data": {
      "text/plain": [
       "15740"
      ]
     },
     "execution_count": 22,
     "metadata": {},
     "output_type": "execute_result"
    }
   ],
   "source": [
    "number_tracks('Monday', 'Moscow') # количество прослушиваний в Москве по понедельникам"
   ]
  },
  {
   "cell_type": "code",
   "execution_count": 23,
   "id": "44796047",
   "metadata": {
    "id": "hq_ncZ5T_Zcu"
   },
   "outputs": [
    {
     "data": {
      "text/plain": [
       "5614"
      ]
     },
     "execution_count": 23,
     "metadata": {},
     "output_type": "execute_result"
    }
   ],
   "source": [
    "number_tracks('Monday', 'Saint-Petersburg') # количество прослушиваний в Санкт-Петербурге по понедельникам"
   ]
  },
  {
   "cell_type": "code",
   "execution_count": 24,
   "id": "c404569c",
   "metadata": {
    "id": "_NTy2VPU_Zcu"
   },
   "outputs": [
    {
     "data": {
      "text/plain": [
       "11056"
      ]
     },
     "execution_count": 24,
     "metadata": {},
     "output_type": "execute_result"
    }
   ],
   "source": [
    "number_tracks('Wednesday', 'Moscow') # количество прослушиваний в Москве по средам"
   ]
  },
  {
   "cell_type": "code",
   "execution_count": 25,
   "id": "05cf136f",
   "metadata": {
    "id": "j2y3TAwo_Zcu"
   },
   "outputs": [
    {
     "data": {
      "text/plain": [
       "7003"
      ]
     },
     "execution_count": 25,
     "metadata": {},
     "output_type": "execute_result"
    }
   ],
   "source": [
    "number_tracks('Wednesday', 'Saint-Petersburg') # количество прослушиваний в Санкт-Петербурге по средам"
   ]
  },
  {
   "cell_type": "code",
   "execution_count": 26,
   "id": "22e425c2",
   "metadata": {
    "id": "vYDw5u_K_Zcu"
   },
   "outputs": [
    {
     "data": {
      "text/plain": [
       "15945"
      ]
     },
     "execution_count": 26,
     "metadata": {},
     "output_type": "execute_result"
    }
   ],
   "source": [
    "number_tracks('Friday', 'Moscow') # количество прослушиваний в Москве по пятницам"
   ]
  },
  {
   "cell_type": "code",
   "execution_count": 27,
   "id": "45435b8b",
   "metadata": {
    "id": "8_yzFtW3_Zcu"
   },
   "outputs": [
    {
     "data": {
      "text/plain": [
       "5895"
      ]
     },
     "execution_count": 27,
     "metadata": {},
     "output_type": "execute_result"
    }
   ],
   "source": [
    "number_tracks('Friday', 'Saint-Petersburg') # количество прослушиваний в Санкт-Петербурге по пятницам"
   ]
  },
  {
   "cell_type": "markdown",
   "id": "1acbd3e4",
   "metadata": {},
   "source": [
    "<font color='DarkBlue'><b>Комментарий ревьюера</b></font><br>\n",
    "<font color='DarkGreen'>👌 Хорошо. Все вызовы функции сделаны правильно.</font><br>\n",
    "<font color='DarkMagenta'>👉 Можно было бы сделать два списка, один с городами, второй с днем недели. И циклом с перебором по спискам вывести все значения.</font>"
   ]
  },
  {
   "cell_type": "markdown",
   "id": "755c11fe",
   "metadata": {
    "id": "7QXffbO-_Zcu"
   },
   "source": [
    "Создайте c помощью конструктора `pd.DataFrame` таблицу, где\n",
    "* названия колонок — `['city', 'monday', 'wednesday', 'friday']`;\n",
    "* данные — результаты, которые вы получили с помощью `number_tracks`."
   ]
  },
  {
   "cell_type": "code",
   "execution_count": 28,
   "id": "9a44ac33",
   "metadata": {
    "id": "APAcLpOr_Zcu"
   },
   "outputs": [
    {
     "data": {
      "text/html": [
       "<div>\n",
       "<style scoped>\n",
       "    .dataframe tbody tr th:only-of-type {\n",
       "        vertical-align: middle;\n",
       "    }\n",
       "\n",
       "    .dataframe tbody tr th {\n",
       "        vertical-align: top;\n",
       "    }\n",
       "\n",
       "    .dataframe thead th {\n",
       "        text-align: right;\n",
       "    }\n",
       "</style>\n",
       "<table border=\"1\" class=\"dataframe\">\n",
       "  <thead>\n",
       "    <tr style=\"text-align: right;\">\n",
       "      <th></th>\n",
       "      <th>city</th>\n",
       "      <th>monday</th>\n",
       "      <th>wednesday</th>\n",
       "      <th>friday</th>\n",
       "    </tr>\n",
       "  </thead>\n",
       "  <tbody>\n",
       "    <tr>\n",
       "      <td>0</td>\n",
       "      <td>Moscow</td>\n",
       "      <td>15740</td>\n",
       "      <td>11056</td>\n",
       "      <td>15945</td>\n",
       "    </tr>\n",
       "    <tr>\n",
       "      <td>1</td>\n",
       "      <td>Saint-Petersburg</td>\n",
       "      <td>5614</td>\n",
       "      <td>7003</td>\n",
       "      <td>5895</td>\n",
       "    </tr>\n",
       "  </tbody>\n",
       "</table>\n",
       "</div>"
      ],
      "text/plain": [
       "               city  monday  wednesday  friday\n",
       "0            Moscow   15740      11056   15945\n",
       "1  Saint-Petersburg    5614       7003    5895"
      ]
     },
     "execution_count": 28,
     "metadata": {},
     "output_type": "execute_result"
    }
   ],
   "source": [
    "columns = ['city', 'monday', 'wednesday', 'friday'] # Заголовки таблицы с результатами\n",
    "days = ['Monday', 'Wednesday', 'Friday'] # Список с днями недели\n",
    "cities = ['Moscow', 'Saint-Petersburg'] # Список городов\n",
    "data = []\n",
    "for city in cities: # Цикл готовящий данные для таблицы\n",
    "    row =[]\n",
    "    row.append(city)\n",
    "    for day in days:\n",
    "        row.append(number_tracks(day, city))\n",
    "    data.append(row)\n",
    "results = pd.DataFrame(data=data, columns=columns) # Создание таблицы с результатами\n",
    "\n",
    "# Комментарий ревьюера 2\n",
    "# А так?\n",
    "results"
   ]
  },
  {
   "cell_type": "markdown",
   "id": "7a7d95dc",
   "metadata": {},
   "source": [
    "<font color='DarkBlue'><b>Комментарий ревьюера</b></font><br>\n",
    "<font color='DarkGreen'>👌 Очень хорошо! Данные в таблицу вносятся с помощью ранее написанной функции, а не руками. Это говорит о высоком профессионализме. 👍 Только:</font><br><font color='DarkMagenta'>👉 <b>display()</b> 😢</font>"
   ]
  },
  {
   "cell_type": "markdown",
   "id": "fc160d02",
   "metadata": {},
   "source": [
    "<font color='Blue'><b>Комментарий студента</b></font><br>\n",
    "<font color='Magenta'>Я убрал display(), и теперь таблица results не показывается 😒</font><br> "
   ]
  },
  {
   "cell_type": "markdown",
   "id": "abaa2f8c",
   "metadata": {},
   "source": [
    "<font color='DarkBlue'><b>Комментарий ревьюера 2</b></font><br>\n",
    "<font color='DarkGreen'>👌 Так мы таблице присвоили значение конструктора, но забыли вызвать эту таблицу. См. код выше.</font>"
   ]
  },
  {
   "cell_type": "markdown",
   "id": "46c8b4b0",
   "metadata": {
    "id": "-EgPIHYu_Zcu"
   },
   "source": [
    "**Выводы**\n",
    "\n",
    "Данные показывают разницу поведения пользователей:\n",
    "\n",
    "- В Москве пик прослушиваний приходится на понедельник и пятницу, а в среду заметен спад.\n",
    "- В Петербурге, наоборот, больше слушают музыку по средам. Активность в понедельник и пятницу здесь почти в равной мере уступает среде.\n",
    "\n",
    "Значит, данные говорят в пользу первой гипотезы."
   ]
  },
  {
   "cell_type": "markdown",
   "id": "d37e3113",
   "metadata": {
    "id": "atZAxtq4_Zcu"
   },
   "source": [
    "### Музыка в начале и в конце недели"
   ]
  },
  {
   "cell_type": "markdown",
   "id": "b1e588cb",
   "metadata": {
    "id": "eXrQqXFH_Zcu"
   },
   "source": [
    "Согласно второй гипотезе, утром в понедельник в Москве преобладают одни жанры, а в Петербурге — другие. Так же и вечером пятницы преобладают разные жанры — в зависимости от города."
   ]
  },
  {
   "cell_type": "markdown",
   "id": "7f5127ed",
   "metadata": {
    "id": "S8UcW6Hw_Zcu"
   },
   "source": [
    "Сохраните таблицы с данными в две переменные:\n",
    "* по Москве — в `moscow_general`;\n",
    "* по Санкт-Петербургу — в `spb_general`."
   ]
  },
  {
   "cell_type": "code",
   "execution_count": 29,
   "id": "45567fcd",
   "metadata": {
    "id": "qeaFfM_P_Zcu"
   },
   "outputs": [
    {
     "data": {
      "text/html": [
       "<div>\n",
       "<style scoped>\n",
       "    .dataframe tbody tr th:only-of-type {\n",
       "        vertical-align: middle;\n",
       "    }\n",
       "\n",
       "    .dataframe tbody tr th {\n",
       "        vertical-align: top;\n",
       "    }\n",
       "\n",
       "    .dataframe thead th {\n",
       "        text-align: right;\n",
       "    }\n",
       "</style>\n",
       "<table border=\"1\" class=\"dataframe\">\n",
       "  <thead>\n",
       "    <tr style=\"text-align: right;\">\n",
       "      <th></th>\n",
       "      <th>user_id</th>\n",
       "      <th>track</th>\n",
       "      <th>artist</th>\n",
       "      <th>genre</th>\n",
       "      <th>city</th>\n",
       "      <th>time</th>\n",
       "      <th>day</th>\n",
       "    </tr>\n",
       "  </thead>\n",
       "  <tbody>\n",
       "    <tr>\n",
       "      <td>1</td>\n",
       "      <td>55204538</td>\n",
       "      <td>Delayed Because of Accident</td>\n",
       "      <td>Andreas Rönnberg</td>\n",
       "      <td>rock</td>\n",
       "      <td>Moscow</td>\n",
       "      <td>14:07:09</td>\n",
       "      <td>Friday</td>\n",
       "    </tr>\n",
       "    <tr>\n",
       "      <td>4</td>\n",
       "      <td>E2DC1FAE</td>\n",
       "      <td>Soul People</td>\n",
       "      <td>Space Echo</td>\n",
       "      <td>dance</td>\n",
       "      <td>Moscow</td>\n",
       "      <td>08:34:34</td>\n",
       "      <td>Monday</td>\n",
       "    </tr>\n",
       "    <tr>\n",
       "      <td>6</td>\n",
       "      <td>4CB90AA5</td>\n",
       "      <td>True</td>\n",
       "      <td>Roman Messer</td>\n",
       "      <td>dance</td>\n",
       "      <td>Moscow</td>\n",
       "      <td>13:00:07</td>\n",
       "      <td>Wednesday</td>\n",
       "    </tr>\n",
       "    <tr>\n",
       "      <td>7</td>\n",
       "      <td>F03E1C1F</td>\n",
       "      <td>Feeling This Way</td>\n",
       "      <td>Polina Griffith</td>\n",
       "      <td>dance</td>\n",
       "      <td>Moscow</td>\n",
       "      <td>20:47:49</td>\n",
       "      <td>Wednesday</td>\n",
       "    </tr>\n",
       "    <tr>\n",
       "      <td>8</td>\n",
       "      <td>8FA1D3BE</td>\n",
       "      <td>И вновь продолжается бой</td>\n",
       "      <td>unknown</td>\n",
       "      <td>ruspop</td>\n",
       "      <td>Moscow</td>\n",
       "      <td>09:17:40</td>\n",
       "      <td>Friday</td>\n",
       "    </tr>\n",
       "  </tbody>\n",
       "</table>\n",
       "</div>"
      ],
      "text/plain": [
       "    user_id                        track            artist   genre    city  \\\n",
       "1  55204538  Delayed Because of Accident  Andreas Rönnberg    rock  Moscow   \n",
       "4  E2DC1FAE                  Soul People        Space Echo   dance  Moscow   \n",
       "6  4CB90AA5                         True      Roman Messer   dance  Moscow   \n",
       "7  F03E1C1F             Feeling This Way   Polina Griffith   dance  Moscow   \n",
       "8  8FA1D3BE     И вновь продолжается бой           unknown  ruspop  Moscow   \n",
       "\n",
       "       time        day  \n",
       "1  14:07:09     Friday  \n",
       "4  08:34:34     Monday  \n",
       "6  13:00:07  Wednesday  \n",
       "7  20:47:49  Wednesday  \n",
       "8  09:17:40     Friday  "
      ]
     },
     "execution_count": 29,
     "metadata": {},
     "output_type": "execute_result"
    }
   ],
   "source": [
    "moscow_general = df[df['city'] == 'Moscow'] # получение таблицы moscow_general из тех строк таблицы df, \n",
    "moscow_general.head()                       # для которых значение в столбце 'city' равно 'Moscow'"
   ]
  },
  {
   "cell_type": "code",
   "execution_count": 30,
   "id": "edaa0d16",
   "metadata": {
    "id": "ORaVRKto_Zcu"
   },
   "outputs": [
    {
     "data": {
      "text/html": [
       "<div>\n",
       "<style scoped>\n",
       "    .dataframe tbody tr th:only-of-type {\n",
       "        vertical-align: middle;\n",
       "    }\n",
       "\n",
       "    .dataframe tbody tr th {\n",
       "        vertical-align: top;\n",
       "    }\n",
       "\n",
       "    .dataframe thead th {\n",
       "        text-align: right;\n",
       "    }\n",
       "</style>\n",
       "<table border=\"1\" class=\"dataframe\">\n",
       "  <thead>\n",
       "    <tr style=\"text-align: right;\">\n",
       "      <th></th>\n",
       "      <th>user_id</th>\n",
       "      <th>track</th>\n",
       "      <th>artist</th>\n",
       "      <th>genre</th>\n",
       "      <th>city</th>\n",
       "      <th>time</th>\n",
       "      <th>day</th>\n",
       "    </tr>\n",
       "  </thead>\n",
       "  <tbody>\n",
       "    <tr>\n",
       "      <td>0</td>\n",
       "      <td>FFB692EC</td>\n",
       "      <td>Kamigata To Boots</td>\n",
       "      <td>The Mass Missile</td>\n",
       "      <td>rock</td>\n",
       "      <td>Saint-Petersburg</td>\n",
       "      <td>20:28:33</td>\n",
       "      <td>Wednesday</td>\n",
       "    </tr>\n",
       "    <tr>\n",
       "      <td>2</td>\n",
       "      <td>20EC38</td>\n",
       "      <td>Funiculì funiculà</td>\n",
       "      <td>Mario Lanza</td>\n",
       "      <td>pop</td>\n",
       "      <td>Saint-Petersburg</td>\n",
       "      <td>20:58:07</td>\n",
       "      <td>Wednesday</td>\n",
       "    </tr>\n",
       "    <tr>\n",
       "      <td>3</td>\n",
       "      <td>A3DD03C9</td>\n",
       "      <td>Dragons in the Sunset</td>\n",
       "      <td>Fire + Ice</td>\n",
       "      <td>folk</td>\n",
       "      <td>Saint-Petersburg</td>\n",
       "      <td>08:37:09</td>\n",
       "      <td>Monday</td>\n",
       "    </tr>\n",
       "    <tr>\n",
       "      <td>5</td>\n",
       "      <td>842029A1</td>\n",
       "      <td>Преданная</td>\n",
       "      <td>IMPERVTOR</td>\n",
       "      <td>rusrap</td>\n",
       "      <td>Saint-Petersburg</td>\n",
       "      <td>13:09:41</td>\n",
       "      <td>Friday</td>\n",
       "    </tr>\n",
       "    <tr>\n",
       "      <td>9</td>\n",
       "      <td>E772D5C0</td>\n",
       "      <td>Pessimist</td>\n",
       "      <td>unknown</td>\n",
       "      <td>dance</td>\n",
       "      <td>Saint-Petersburg</td>\n",
       "      <td>21:20:49</td>\n",
       "      <td>Wednesday</td>\n",
       "    </tr>\n",
       "  </tbody>\n",
       "</table>\n",
       "</div>"
      ],
      "text/plain": [
       "    user_id                  track            artist   genre  \\\n",
       "0  FFB692EC      Kamigata To Boots  The Mass Missile    rock   \n",
       "2    20EC38      Funiculì funiculà       Mario Lanza     pop   \n",
       "3  A3DD03C9  Dragons in the Sunset        Fire + Ice    folk   \n",
       "5  842029A1              Преданная         IMPERVTOR  rusrap   \n",
       "9  E772D5C0              Pessimist           unknown   dance   \n",
       "\n",
       "               city      time        day  \n",
       "0  Saint-Petersburg  20:28:33  Wednesday  \n",
       "2  Saint-Petersburg  20:58:07  Wednesday  \n",
       "3  Saint-Petersburg  08:37:09     Monday  \n",
       "5  Saint-Petersburg  13:09:41     Friday  \n",
       "9  Saint-Petersburg  21:20:49  Wednesday  "
      ]
     },
     "execution_count": 30,
     "metadata": {},
     "output_type": "execute_result"
    }
   ],
   "source": [
    "spb_general = df[df['city'] == 'Saint-Petersburg'] # получение таблицы spb_general из тех строк таблицы df,\n",
    "spb_general.head()                                 # для которых значение в столбце 'city' равно 'Saint-Petersburg'"
   ]
  },
  {
   "cell_type": "markdown",
   "id": "c2b6b144",
   "metadata": {},
   "source": [
    "<font color='DarkBlue'><b>Комментарий ревьюера</b></font><br>\n",
    "<font color='DarkGreen'>👌 Правильно используется логическая индексация.</font><br>\n",
    "<font color='DarkMagenta'>👉 При преобразованиях и извлечениях данных из таблиц рекомендуется просматривать результат преобразования.</font>"
   ]
  },
  {
   "cell_type": "markdown",
   "id": "5d197695",
   "metadata": {
    "id": "MEJV-CX2_Zcu"
   },
   "source": [
    "Создайте функцию `genre_weekday()` с четырьмя параметрами:\n",
    "* таблица (датафрейм) с данными,\n",
    "* день недели,\n",
    "* начальная временная метка в формате 'hh:mm', \n",
    "* последняя временная метка в формате 'hh:mm'.\n",
    "\n",
    "Функция должна вернуть информацию о топ-10 жанров тех треков, которые прослушивали в указанный день, в промежутке между двумя отметками времени."
   ]
  },
  {
   "cell_type": "code",
   "execution_count": 31,
   "id": "d33fa17c",
   "metadata": {
    "id": "laJT9BYl_Zcu"
   },
   "outputs": [],
   "source": [
    "def genre_weekday(table, day, time1, time2): # Объявление функции genre_weekday() с параметрами table, day, time1, time2,\n",
    "                                             # которая возвращает информацию о самых популярных жанрах \n",
    "                                             # в указанный день в заданное время:\n",
    "            \n",
    "    genre_df = table[table['day'] == day]         # 1) в переменную genre_df сохраняются те строки переданного датафрейма table, для\n",
    "                                                  #    которых одновременно:\n",
    "                                                  #    - значение в столбце day равно значению аргумента day\n",
    "    genre_df = genre_df[genre_df['time'] > time1] #    - значение в столбце time больше значения аргумента time1\n",
    "    genre_df = genre_df[genre_df['time'] < time2] #    - значение в столбце time меньше значения аргумента time2\n",
    "                                                  #    Используйте последовательную фильтрацию с помощью логической индексации.\n",
    "\n",
    "    genre_df_count = genre_df.groupby('genre')['genre'].count() # 2) сгруппировать датафрейм genre_df по столбцу genre, взять один из его\n",
    "                                                                #    столбцов и посчитать методом count() количество записей для каждого из\n",
    "                                                                #    присутствующих жанров, получившийся Series записать в переменную genre_df_count\n",
    "    \n",
    "    genre_df_sorted = genre_df_count.sort_values(ascending=False) # 3) отсортировать genre_df_count по убыванию встречаемости и сохранить\n",
    "                                                    #    в переменную genre_df_sorted\n",
    "\n",
    "    return genre_df_sorted[:10] # 4) вернуть Series из 10 первых значений genre_df_sorted, это будут топ-10\n",
    "                               #    популярных жанров (в указанный день, в заданное время)"
   ]
  },
  {
   "cell_type": "markdown",
   "id": "4020c208",
   "metadata": {},
   "source": [
    "<font color='DarkBlue'><b>Комментарий ревьюера</b></font><br>\n",
    "<font color='DarkGreen'>👌 Хорошо сделана фильтрация 😉. Хочу обратить внимание, что при подаче аргументов времени данные равные этому времени не будут обработаны. Обращай внимание на операторы сравнения '<' и '=<'. <br> Молодец, что использовал срезы, а не метод .head(10). 👍</font>"
   ]
  },
  {
   "cell_type": "markdown",
   "id": "816f08fa",
   "metadata": {
    "id": "la2s2_PF_Zcu"
   },
   "source": [
    "Cравните результаты функции `genre_weekday()` для Москвы и Санкт-Петербурга в понедельник утром (с 7:00 до 11:00) и в пятницу вечером (с 17:00 до 23:00):"
   ]
  },
  {
   "cell_type": "code",
   "execution_count": 32,
   "id": "9b918776",
   "metadata": {
    "id": "yz7itPUQ_Zcu"
   },
   "outputs": [
    {
     "data": {
      "text/plain": [
       "genre\n",
       "pop            781\n",
       "dance          549\n",
       "electronic     480\n",
       "rock           474\n",
       "hiphop         286\n",
       "ruspop         186\n",
       "world          181\n",
       "rusrap         175\n",
       "alternative    164\n",
       "unknown        161\n",
       "Name: genre, dtype: int64"
      ]
     },
     "execution_count": 32,
     "metadata": {},
     "output_type": "execute_result"
    }
   ],
   "source": [
    "genre_weekday(moscow_general, 'Monday', '07:00', '11:00') # вызов функции для утра понедельника в Москве (вместо df — таблица moscow_general)\n",
    "                                                          # объекты, хранящие время, являются строками и сравниваются как строки"
   ]
  },
  {
   "cell_type": "code",
   "execution_count": 33,
   "id": "3599ce7d",
   "metadata": {
    "id": "kwUcHPdy_Zcu"
   },
   "outputs": [
    {
     "data": {
      "text/plain": [
       "genre\n",
       "pop            218\n",
       "dance          182\n",
       "rock           162\n",
       "electronic     147\n",
       "hiphop          80\n",
       "ruspop          64\n",
       "alternative     58\n",
       "rusrap          55\n",
       "jazz            44\n",
       "classical       40\n",
       "Name: genre, dtype: int64"
      ]
     },
     "execution_count": 33,
     "metadata": {},
     "output_type": "execute_result"
    }
   ],
   "source": [
    "genre_weekday(spb_general, 'Monday', '07:00', '11:00') # вызов функции для утра понедельника в Петербурге (вместо df — таблица spb_general)"
   ]
  },
  {
   "cell_type": "code",
   "execution_count": 34,
   "id": "1673e63a",
   "metadata": {
    "id": "EzXVRE1o_Zcu"
   },
   "outputs": [
    {
     "data": {
      "text/plain": [
       "genre\n",
       "pop            713\n",
       "rock           517\n",
       "dance          495\n",
       "electronic     482\n",
       "hiphop         273\n",
       "world          208\n",
       "ruspop         170\n",
       "alternative    163\n",
       "classical      163\n",
       "rusrap         142\n",
       "Name: genre, dtype: int64"
      ]
     },
     "execution_count": 34,
     "metadata": {},
     "output_type": "execute_result"
    }
   ],
   "source": [
    "genre_weekday(moscow_general, 'Friday', '17:00', '23:00') # вызов функции для вечера пятницы в Москве"
   ]
  },
  {
   "cell_type": "markdown",
   "id": "76752ef8",
   "metadata": {},
   "source": [
    "<font color='DarkBlue'><b>Комментарий ревьюера</b></font><br>\n",
    "<font color='Red'>🛠 ОЙ! А что у нас написано в задании: <b>Cравните результаты функции genre_weekday() для Москвы и Санкт-Петербурга в понедельник утром (с 7:00 до 11:00) и в пятницу вечером (с 17:00 до 23:00):</b>. А мы что натворили? 😲</font>"
   ]
  },
  {
   "cell_type": "markdown",
   "id": "c46b8119",
   "metadata": {},
   "source": [
    "<font color='DarkBlue'><b>Комментарий ревьюера 2</b></font><br>\n",
    "<font color='DarkGreen'>👌 Молодец! Будем внимательно относиться к тексту задания, а то можем, что то пропустить. Хорошо? 😄</font>"
   ]
  },
  {
   "cell_type": "code",
   "execution_count": 35,
   "id": "622f7cf7",
   "metadata": {
    "id": "JZaEKu5v_Zcu"
   },
   "outputs": [
    {
     "data": {
      "text/plain": [
       "genre\n",
       "pop            256\n",
       "rock           216\n",
       "electronic     216\n",
       "dance          210\n",
       "hiphop          97\n",
       "alternative     63\n",
       "jazz            61\n",
       "classical       60\n",
       "rusrap          59\n",
       "world           54\n",
       "Name: genre, dtype: int64"
      ]
     },
     "execution_count": 35,
     "metadata": {},
     "output_type": "execute_result"
    }
   ],
   "source": [
    "genre_weekday(spb_general, 'Friday', '17:00', '23:00') # вызов функции для вечера пятницы в Петербурге"
   ]
  },
  {
   "cell_type": "markdown",
   "id": "de32e60b",
   "metadata": {
    "id": "wrCe4MNX_Zcu"
   },
   "source": [
    "**Выводы**\n",
    "\n",
    "Если сравнить топ-10 жанров в понедельник утром, можно сделать такие выводы:\n",
    "\n",
    "1. В Москве и Петербурге слушают похожую музыку. Единственное отличие — в московский рейтинг вошёл жанр “world”, а в петербургский — джаз и классика.\n",
    "\n",
    "2. В Москве пропущенных значений оказалось так много, что значение `'unknown'` заняло десятое место среди самых популярных жанров. Значит, пропущенные значения занимают существенную долю в данных и угрожают достоверности исследования.\n",
    "\n",
    "Вечер пятницы не меняет эту картину. Некоторые жанры поднимаются немного выше, другие спускаются, но в целом топ-10 остаётся тем же самым.\n",
    "\n",
    "Таким образом, вторая гипотеза подтвердилась лишь частично:\n",
    "* Пользователи слушают похожую музыку в начале недели и в конце.\n",
    "* Разница между Москвой и Петербургом не слишком выражена. В Москве чаще слушают русскую популярную музыку, в Петербурге — джаз.\n",
    "\n",
    "Однако пропуски в данных ставят под сомнение этот результат. В Москве их так много, что рейтинг топ-10 мог бы выглядеть иначе, если бы не утерянные  данные о жанрах."
   ]
  },
  {
   "cell_type": "markdown",
   "id": "ca3235eb",
   "metadata": {
    "id": "JolODAqr_Zcu"
   },
   "source": [
    "### Жанровые предпочтения в Москве и Петербурге\n",
    "\n",
    "Гипотеза: Петербург — столица рэпа, музыку этого жанра там слушают чаще, чем в Москве.  А Москва — город контрастов, в котором, тем не менее, преобладает поп-музыка."
   ]
  },
  {
   "cell_type": "markdown",
   "id": "5c04706f",
   "metadata": {
    "id": "DlegSvaT_Zcu"
   },
   "source": [
    "Сгруппируйте таблицу `moscow_general` по жанру и посчитайте прослушивания треков каждого жанра методом `count()`. Затем отсортируйте результат в порядке убывания и сохраните его в таблице `moscow_genres`."
   ]
  },
  {
   "cell_type": "code",
   "execution_count": 36,
   "id": "bdb1d342",
   "metadata": {
    "id": "r19lIPke_Zcu"
   },
   "outputs": [],
   "source": [
    "moscow_genres = moscow_general.groupby('genre')['genre'].count()  # одной строкой: группировка таблицы moscow_general по столбцу 'genre', \n",
    "                                                                  # подсчёт числа значений 'genre' в этой группировке методом count(), \n",
    "moscow_genres = moscow_genres.sort_values(ascending=False) # сортировка получившегося Series в порядке убывания и сохранение в moscow_genres"
   ]
  },
  {
   "cell_type": "markdown",
   "id": "35566482",
   "metadata": {
    "id": "6kMuomxTiIr8"
   },
   "source": [
    "Выведите на экран первые десять строк `moscow_genres`:"
   ]
  },
  {
   "cell_type": "code",
   "execution_count": 37,
   "id": "affeb682",
   "metadata": {
    "id": "WhCSooF8_Zcv"
   },
   "outputs": [
    {
     "data": {
      "text/plain": [
       "genre\n",
       "pop            5892\n",
       "dance          4435\n",
       "rock           3965\n",
       "electronic     3786\n",
       "hiphop         2096\n",
       "classical      1616\n",
       "world          1432\n",
       "alternative    1379\n",
       "ruspop         1372\n",
       "rusrap         1161\n",
       "Name: genre, dtype: int64"
      ]
     },
     "execution_count": 37,
     "metadata": {},
     "output_type": "execute_result"
    }
   ],
   "source": [
    "moscow_genres[:10] # просмотр первых 10 строк moscow_genres"
   ]
  },
  {
   "cell_type": "markdown",
   "id": "faeb2606",
   "metadata": {
    "id": "cnPG2vnN_Zcv"
   },
   "source": [
    "Теперь повторите то же и для Петербурга.\n",
    "\n",
    "Сгруппируйте таблицу `spb_general` по жанру. Посчитайте прослушивания треков каждого жанра. Результат отсортируйте в порядке убывания и сохраните в таблице `spb_genres`:\n"
   ]
  },
  {
   "cell_type": "code",
   "execution_count": 38,
   "id": "a58c2d09",
   "metadata": {
    "id": "gluLIpE7_Zcv"
   },
   "outputs": [],
   "source": [
    "spb_genres = spb_general.groupby('genre')['genre'].count() # одной строкой: группировка таблицы spb_general по столбцу 'genre', \n",
    "                                                                 # подсчёт числа значений 'genre' в этой группировке методом count(), \n",
    "spb_genres = spb_genres.sort_values(ascending=False) # сортировка получившегося Series в порядке убывания и сохранение в spb_genres"
   ]
  },
  {
   "cell_type": "markdown",
   "id": "34d2689b",
   "metadata": {
    "id": "5Doha_ODgyQ8"
   },
   "source": [
    "Выведите на экран первые десять строк `spb_genres`:"
   ]
  },
  {
   "cell_type": "code",
   "execution_count": 39,
   "id": "fc98e7d1",
   "metadata": {
    "id": "uaGJHjVU_Zcv"
   },
   "outputs": [
    {
     "data": {
      "text/plain": [
       "genre\n",
       "pop            2431\n",
       "dance          1932\n",
       "rock           1879\n",
       "electronic     1736\n",
       "hiphop          960\n",
       "alternative     649\n",
       "classical       646\n",
       "rusrap          564\n",
       "ruspop          538\n",
       "world           515\n",
       "Name: genre, dtype: int64"
      ]
     },
     "execution_count": 39,
     "metadata": {},
     "output_type": "execute_result"
    }
   ],
   "source": [
    "spb_genres[:10] # просмотр первых 10 строк spb_genres"
   ]
  },
  {
   "cell_type": "markdown",
   "id": "f0ec2eb1",
   "metadata": {},
   "source": [
    "<font color='DarkBlue'><b>Комментарий ревьюера</b></font><br>\n",
    "<font color='DarkGreen'>👌 Молодец! Все правильно.</font>"
   ]
  },
  {
   "cell_type": "markdown",
   "id": "c9aa0e1f",
   "metadata": {
    "id": "RY51YJYu_Zcv"
   },
   "source": [
    "**Выводы**"
   ]
  },
  {
   "cell_type": "markdown",
   "id": "15882dba",
   "metadata": {
    "id": "nVhnJEm__Zcv"
   },
   "source": [
    "Гипотеза частично подтвердилась:\n",
    "* Поп-музыка — самый популярный жанр в Москве, как и предполагала гипотеза. Более того, в топ-10 жанров встречается близкий жанр — русская популярная музыка.\n",
    "* Вопреки ожиданиям, рэп одинаково популярен в Москве и Петербурге. \n"
   ]
  },
  {
   "cell_type": "markdown",
   "id": "70fea58f",
   "metadata": {
    "id": "ykKQ0N65_Zcv"
   },
   "source": [
    "## Итоги исследования"
   ]
  },
  {
   "cell_type": "markdown",
   "id": "0c2919cd",
   "metadata": {
    "id": "tjUwbHb3_Zcv"
   },
   "source": [
    "Вы проверили три гипотезы и установили:\n",
    "\n",
    "1. День недели по-разному влияет на активность пользователей в Москве и Петербурге. \n",
    "\n",
    "Первая гипотеза полностью подтвердилась.\n",
    "\n",
    "2. Музыкальные предпочтения не сильно меняются в течение недели — будь то Москва или Петербург. Небольшие различия заметны в начале недели, по понедельникам:\n",
    "* в Москве слушают музыку жанра “world”,\n",
    "* в Петербурге — джаз и классику.\n",
    "\n",
    "Таким образом, вторая гипотеза подтвердилась лишь отчасти. Этот результат мог оказаться иным, если бы не пропуски в данных.\n",
    "\n",
    "3. Во вкусах пользователей Москвы и Петербурга больше общего чем различий. Вопреки ожиданиям, предпочтения жанров в Петербурге напоминают московские.\n",
    "\n",
    "Третья гипотеза не подтвердилась. Если различия в предпочтениях и существуют, на основной массе пользователей они незаметны.\n",
    "\n",
    "**На практике исследования содержат проверки статистических гипотез.**\n",
    "Из данных одного сервиса не всегда можно сделать вывод о всех жителях города.\n",
    "Проверки статистических гипотез покажут, насколько они достоверны, исходя из имеющихся данных. \n",
    "С методами проверок гипотез вы ещё познакомитесь в следующих темах."
   ]
  },
  {
   "cell_type": "markdown",
   "id": "e4015b41",
   "metadata": {},
   "source": [
    "<font color='DarkBlue'><b>Комментарий ревьюера</b></font><br>\n",
    "<font color='DarkGreen'>👌 Хочу обратить внимание на выводы/итоги исследования. Этот пример сделан командой Практикума, как образец. <br>\n",
    "В следующих проектах тебе надо общие выводы писать самостоятельно на основе проведенного исследования и полученных результатов.</font>"
   ]
  },
  {
   "cell_type": "markdown",
   "id": "20168c54",
   "metadata": {},
   "source": [
    "<font color='DarkBlue'><b>Заключительный комментарий ревьюера</b></font><br><br>\n",
    "<font color='DarkGreen'>👌 Дмитрий, очень хороший проект, отлично структурирован. Так держать и дальше! 😄<br></font>\n",
    "<font color='DarkMagenta'>👉 Главные проблемы начинающего Джуна: не делаем, что написано в задании или пишем лишний код. 🙄<br>\n",
    "А если мы такие огрехи допустим на тестовом задании потенциального работодателя, то могут и не пригласить на дальнейшую беседу.\n",
    "И мы даже не узнаем почему нас не взяли.  Начинаем аккуратно относиться к коду и тексту задания. 🙄</font><br>\n",
    "<font color='Red'>🛠 Что нам нужно, что бы сделать проект лучше:<br>\n",
    " Удалить лишние функции display(). Переделать переименование колонок таблицы. Исправить входные параметры, подаваемые в функцию genre_weekday. </font><br><font color='DarkMagenta'>👉 Договорились? </font><br>\n",
    "<font color='DarkGreen'>👌 Жду окончательный вариант! Успехов. 😉</font>"
   ]
  },
  {
   "cell_type": "markdown",
   "id": "71a97707",
   "metadata": {},
   "source": [
    "<font color='Blue'><b>Комментарий студента</b></font><br>\n",
    "<font color='Magenta'>Спасибо за подробный обзор.🙂<br>\n",
    "С .rename() я тогда действительно не разобрался. .tolist делает вывод компактнее. А со временем в сравнении жанров - невнимательность😒</font><br> "
   ]
  },
  {
   "cell_type": "markdown",
   "id": "5580cbc6",
   "metadata": {},
   "source": [
    "<font color='DarkBlue'><b>Заключительный комментарий ревьюера 2</b></font><br><br>\n",
    "<font color='DarkGreen'>👌 Дмитрий, нам удалось исправить огрехи в проекте и не наделать новых.  Мы молодцы! 😄<br>\n",
    "Кроме того, мы много важного узнали в процессе выполнения проекта. Нам это пригодится в будущем.<br></font>\n",
    "<font color='DarkGreen'>👌 Теперь, вперед за новыми знаниями и навыками! Удачи! 😉<br></font>"
   ]
  }
 ],
 "metadata": {
  "ExecuteTimeLog": [
   {
    "duration": 495,
    "start_time": "2022-02-25T12:39:31.359Z"
   },
   {
    "duration": 801,
    "start_time": "2022-02-25T12:39:43.402Z"
   },
   {
    "duration": 206,
    "start_time": "2022-02-25T12:39:52.902Z"
   },
   {
    "duration": 28,
    "start_time": "2022-02-25T12:39:57.909Z"
   },
   {
    "duration": 36,
    "start_time": "2022-02-25T12:40:03.121Z"
   },
   {
    "duration": 1870,
    "start_time": "2022-02-25T12:40:26.938Z"
   },
   {
    "duration": 32,
    "start_time": "2022-02-25T12:40:35.388Z"
   },
   {
    "duration": 8,
    "start_time": "2022-02-25T12:41:18.597Z"
   },
   {
    "duration": 5,
    "start_time": "2022-02-25T12:41:26.424Z"
   },
   {
    "duration": 5,
    "start_time": "2022-02-25T12:41:30.023Z"
   },
   {
    "duration": 31,
    "start_time": "2022-02-25T12:41:32.375Z"
   },
   {
    "duration": 25,
    "start_time": "2022-02-25T12:41:54.076Z"
   },
   {
    "duration": 33,
    "start_time": "2022-02-25T12:42:01.501Z"
   },
   {
    "duration": 87,
    "start_time": "2022-02-25T12:42:04.586Z"
   },
   {
    "duration": 106,
    "start_time": "2022-02-25T12:42:09.081Z"
   },
   {
    "duration": 81,
    "start_time": "2022-02-25T12:42:13.508Z"
   },
   {
    "duration": 58,
    "start_time": "2022-02-25T12:42:17.152Z"
   },
   {
    "duration": 5,
    "start_time": "2022-02-25T12:42:59.690Z"
   },
   {
    "duration": 14,
    "start_time": "2022-02-25T12:43:03.516Z"
   },
   {
    "duration": 58,
    "start_time": "2022-02-25T12:43:09.137Z"
   },
   {
    "duration": 14,
    "start_time": "2022-02-25T12:43:23.863Z"
   },
   {
    "duration": 15,
    "start_time": "2022-02-25T12:43:41.040Z"
   },
   {
    "duration": 5,
    "start_time": "2022-02-25T12:43:47.863Z"
   },
   {
    "duration": 23,
    "start_time": "2022-02-25T12:43:50.795Z"
   },
   {
    "duration": 21,
    "start_time": "2022-02-25T12:43:51.429Z"
   },
   {
    "duration": 21,
    "start_time": "2022-02-25T12:43:51.994Z"
   },
   {
    "duration": 19,
    "start_time": "2022-02-25T12:43:52.519Z"
   },
   {
    "duration": 23,
    "start_time": "2022-02-25T12:43:53.098Z"
   },
   {
    "duration": 20,
    "start_time": "2022-02-25T12:43:53.902Z"
   },
   {
    "duration": 100,
    "start_time": "2022-02-25T12:44:00.240Z"
   },
   {
    "duration": 15,
    "start_time": "2022-02-25T12:44:19.977Z"
   },
   {
    "duration": 14,
    "start_time": "2022-02-25T12:44:21.305Z"
   },
   {
    "duration": 20,
    "start_time": "2022-02-25T12:44:39.080Z"
   },
   {
    "duration": 14,
    "start_time": "2022-02-25T12:44:39.858Z"
   },
   {
    "duration": 7,
    "start_time": "2022-02-25T12:44:43.556Z"
   },
   {
    "duration": 26,
    "start_time": "2022-02-25T12:44:49.677Z"
   },
   {
    "duration": 20,
    "start_time": "2022-02-25T12:44:52.107Z"
   },
   {
    "duration": 25,
    "start_time": "2022-02-25T12:44:52.861Z"
   },
   {
    "duration": 18,
    "start_time": "2022-02-25T12:44:53.588Z"
   },
   {
    "duration": 12,
    "start_time": "2022-02-25T12:45:00.676Z"
   },
   {
    "duration": 6,
    "start_time": "2022-02-25T12:45:03.474Z"
   },
   {
    "duration": 9,
    "start_time": "2022-02-25T12:45:05.415Z"
   },
   {
    "duration": 7,
    "start_time": "2022-02-25T12:45:06.697Z"
   },
   {
    "duration": 289,
    "start_time": "2022-03-06T16:13:11.118Z"
   },
   {
    "duration": 627,
    "start_time": "2022-03-06T16:13:18.448Z"
   },
   {
    "duration": 140,
    "start_time": "2022-03-06T16:13:19.077Z"
   },
   {
    "duration": 17,
    "start_time": "2022-03-06T16:13:19.219Z"
   },
   {
    "duration": 10,
    "start_time": "2022-03-06T16:13:19.238Z"
   },
   {
    "duration": 43,
    "start_time": "2022-03-06T16:13:19.250Z"
   },
   {
    "duration": 4,
    "start_time": "2022-03-06T16:13:19.295Z"
   },
   {
    "duration": 4,
    "start_time": "2022-03-06T16:13:19.301Z"
   },
   {
    "duration": 7,
    "start_time": "2022-03-06T16:13:19.307Z"
   },
   {
    "duration": 27,
    "start_time": "2022-03-06T16:13:19.316Z"
   },
   {
    "duration": 45,
    "start_time": "2022-03-06T16:13:19.345Z"
   },
   {
    "duration": 23,
    "start_time": "2022-03-06T16:13:19.392Z"
   },
   {
    "duration": 76,
    "start_time": "2022-03-06T16:13:19.417Z"
   },
   {
    "duration": 70,
    "start_time": "2022-03-06T16:13:19.495Z"
   },
   {
    "duration": 61,
    "start_time": "2022-03-06T16:13:19.567Z"
   },
   {
    "duration": 56,
    "start_time": "2022-03-06T16:13:19.629Z"
   },
   {
    "duration": 3,
    "start_time": "2022-03-06T16:13:19.686Z"
   },
   {
    "duration": 16,
    "start_time": "2022-03-06T16:13:19.691Z"
   },
   {
    "duration": 44,
    "start_time": "2022-03-06T16:13:19.708Z"
   },
   {
    "duration": 28,
    "start_time": "2022-03-06T16:13:19.754Z"
   },
   {
    "duration": 11,
    "start_time": "2022-03-06T16:13:19.784Z"
   },
   {
    "duration": 4,
    "start_time": "2022-03-06T16:13:19.796Z"
   },
   {
    "duration": 23,
    "start_time": "2022-03-06T16:13:19.801Z"
   },
   {
    "duration": 14,
    "start_time": "2022-03-06T16:13:19.825Z"
   },
   {
    "duration": 45,
    "start_time": "2022-03-06T16:13:19.841Z"
   },
   {
    "duration": 15,
    "start_time": "2022-03-06T16:13:19.888Z"
   },
   {
    "duration": 17,
    "start_time": "2022-03-06T16:13:19.904Z"
   },
   {
    "duration": 16,
    "start_time": "2022-03-06T16:13:19.924Z"
   },
   {
    "duration": 97,
    "start_time": "2022-03-06T16:13:19.941Z"
   },
   {
    "duration": 12,
    "start_time": "2022-03-06T16:13:20.039Z"
   },
   {
    "duration": 28,
    "start_time": "2022-03-06T16:13:20.053Z"
   },
   {
    "duration": 4,
    "start_time": "2022-03-06T16:13:20.083Z"
   },
   {
    "duration": 26,
    "start_time": "2022-03-06T16:13:20.088Z"
   },
   {
    "duration": 13,
    "start_time": "2022-03-06T16:13:20.116Z"
   },
   {
    "duration": 18,
    "start_time": "2022-03-06T16:13:20.131Z"
   },
   {
    "duration": 37,
    "start_time": "2022-03-06T16:13:20.150Z"
   },
   {
    "duration": 8,
    "start_time": "2022-03-06T16:13:20.189Z"
   },
   {
    "duration": 4,
    "start_time": "2022-03-06T16:13:20.199Z"
   },
   {
    "duration": 9,
    "start_time": "2022-03-06T16:13:20.205Z"
   },
   {
    "duration": 7,
    "start_time": "2022-03-06T16:13:20.215Z"
   },
   {
    "duration": 244,
    "start_time": "2022-03-07T16:30:30.954Z"
   },
   {
    "duration": 545,
    "start_time": "2022-03-07T16:30:39.910Z"
   },
   {
    "duration": 151,
    "start_time": "2022-03-07T16:30:43.854Z"
   },
   {
    "duration": 18,
    "start_time": "2022-03-07T16:30:47.579Z"
   },
   {
    "duration": 4,
    "start_time": "2022-03-07T16:31:24.989Z"
   },
   {
    "duration": 4,
    "start_time": "2022-03-07T16:31:41.062Z"
   },
   {
    "duration": 62,
    "start_time": "2022-03-07T16:38:11.755Z"
   },
   {
    "duration": 31,
    "start_time": "2022-03-07T16:38:18.600Z"
   },
   {
    "duration": 4,
    "start_time": "2022-03-07T16:38:29.474Z"
   },
   {
    "duration": 20,
    "start_time": "2022-03-07T16:38:46.555Z"
   },
   {
    "duration": 4,
    "start_time": "2022-03-07T16:38:51.809Z"
   },
   {
    "duration": 24,
    "start_time": "2022-03-07T16:38:56.364Z"
   },
   {
    "duration": 2,
    "start_time": "2022-03-07T16:41:07.255Z"
   },
   {
    "duration": 139,
    "start_time": "2022-03-07T16:41:07.263Z"
   },
   {
    "duration": 11,
    "start_time": "2022-03-07T16:41:07.404Z"
   },
   {
    "duration": 10,
    "start_time": "2022-03-07T16:41:07.417Z"
   },
   {
    "duration": 47,
    "start_time": "2022-03-07T16:41:07.428Z"
   },
   {
    "duration": 5,
    "start_time": "2022-03-07T16:41:07.477Z"
   },
   {
    "duration": 16,
    "start_time": "2022-03-07T16:41:07.484Z"
   },
   {
    "duration": 5,
    "start_time": "2022-03-07T16:41:07.502Z"
   },
   {
    "duration": 54,
    "start_time": "2022-03-07T16:41:07.510Z"
   },
   {
    "duration": 26,
    "start_time": "2022-03-07T16:41:07.566Z"
   },
   {
    "duration": 25,
    "start_time": "2022-03-07T16:41:07.594Z"
   },
   {
    "duration": 84,
    "start_time": "2022-03-07T16:41:07.621Z"
   },
   {
    "duration": 71,
    "start_time": "2022-03-07T16:41:07.707Z"
   },
   {
    "duration": 52,
    "start_time": "2022-03-07T16:41:07.779Z"
   },
   {
    "duration": 55,
    "start_time": "2022-03-07T16:41:07.832Z"
   },
   {
    "duration": 3,
    "start_time": "2022-03-07T16:52:14.550Z"
   },
   {
    "duration": 10,
    "start_time": "2022-03-07T16:52:18.604Z"
   },
   {
    "duration": 60,
    "start_time": "2022-03-07T16:52:21.119Z"
   },
   {
    "duration": 11,
    "start_time": "2022-03-07T16:52:30.105Z"
   },
   {
    "duration": 12,
    "start_time": "2022-03-07T16:52:32.675Z"
   },
   {
    "duration": 4,
    "start_time": "2022-03-07T16:52:35.839Z"
   },
   {
    "duration": 17,
    "start_time": "2022-03-07T16:52:37.767Z"
   },
   {
    "duration": 25,
    "start_time": "2022-03-07T16:52:38.343Z"
   },
   {
    "duration": 14,
    "start_time": "2022-03-07T16:52:38.818Z"
   },
   {
    "duration": 14,
    "start_time": "2022-03-07T16:52:39.627Z"
   },
   {
    "duration": 17,
    "start_time": "2022-03-07T16:52:40.499Z"
   },
   {
    "duration": 15,
    "start_time": "2022-03-07T16:52:42.023Z"
   },
   {
    "duration": 69,
    "start_time": "2022-03-07T16:53:10.016Z"
   },
   {
    "duration": 72,
    "start_time": "2022-03-07T16:53:19.660Z"
   },
   {
    "duration": 67,
    "start_time": "2022-03-07T16:53:38.701Z"
   },
   {
    "duration": 65,
    "start_time": "2022-03-07T16:54:37.213Z"
   },
   {
    "duration": 218,
    "start_time": "2022-03-07T16:57:01.023Z"
   },
   {
    "duration": 3,
    "start_time": "2022-03-07T16:57:26.453Z"
   },
   {
    "duration": 140,
    "start_time": "2022-03-07T16:57:26.461Z"
   },
   {
    "duration": 11,
    "start_time": "2022-03-07T16:57:26.603Z"
   },
   {
    "duration": 13,
    "start_time": "2022-03-07T16:57:26.616Z"
   },
   {
    "duration": 46,
    "start_time": "2022-03-07T16:57:26.631Z"
   },
   {
    "duration": 10,
    "start_time": "2022-03-07T16:57:26.679Z"
   },
   {
    "duration": 16,
    "start_time": "2022-03-07T16:57:26.691Z"
   },
   {
    "duration": 5,
    "start_time": "2022-03-07T16:57:26.709Z"
   },
   {
    "duration": 47,
    "start_time": "2022-03-07T16:57:26.716Z"
   },
   {
    "duration": 19,
    "start_time": "2022-03-07T16:57:26.765Z"
   },
   {
    "duration": 25,
    "start_time": "2022-03-07T16:57:26.786Z"
   },
   {
    "duration": 81,
    "start_time": "2022-03-07T16:57:26.813Z"
   },
   {
    "duration": 79,
    "start_time": "2022-03-07T16:57:26.896Z"
   },
   {
    "duration": 50,
    "start_time": "2022-03-07T16:57:26.977Z"
   },
   {
    "duration": 58,
    "start_time": "2022-03-07T16:57:27.029Z"
   },
   {
    "duration": 10,
    "start_time": "2022-03-07T16:57:27.089Z"
   },
   {
    "duration": 15,
    "start_time": "2022-03-07T16:57:27.100Z"
   },
   {
    "duration": 53,
    "start_time": "2022-03-07T16:57:27.116Z"
   },
   {
    "duration": 11,
    "start_time": "2022-03-07T16:57:27.172Z"
   },
   {
    "duration": 12,
    "start_time": "2022-03-07T16:57:27.185Z"
   },
   {
    "duration": 4,
    "start_time": "2022-03-07T16:57:27.199Z"
   },
   {
    "duration": 30,
    "start_time": "2022-03-07T16:57:27.205Z"
   },
   {
    "duration": 34,
    "start_time": "2022-03-07T16:57:27.237Z"
   },
   {
    "duration": 14,
    "start_time": "2022-03-07T16:57:27.272Z"
   },
   {
    "duration": 15,
    "start_time": "2022-03-07T16:57:27.288Z"
   },
   {
    "duration": 17,
    "start_time": "2022-03-07T16:57:27.304Z"
   },
   {
    "duration": 17,
    "start_time": "2022-03-07T16:57:27.359Z"
   },
   {
    "duration": 80,
    "start_time": "2022-03-07T16:57:27.379Z"
   },
   {
    "duration": 12,
    "start_time": "2022-03-07T16:57:27.461Z"
   },
   {
    "duration": 14,
    "start_time": "2022-03-07T16:57:27.475Z"
   },
   {
    "duration": 5,
    "start_time": "2022-03-07T16:57:27.491Z"
   },
   {
    "duration": 29,
    "start_time": "2022-03-07T16:57:27.498Z"
   },
   {
    "duration": 32,
    "start_time": "2022-03-07T16:57:27.528Z"
   },
   {
    "duration": 17,
    "start_time": "2022-03-07T16:57:27.562Z"
   },
   {
    "duration": 11,
    "start_time": "2022-03-07T16:57:27.581Z"
   },
   {
    "duration": 8,
    "start_time": "2022-03-07T16:57:27.594Z"
   },
   {
    "duration": 6,
    "start_time": "2022-03-07T16:57:27.604Z"
   },
   {
    "duration": 13,
    "start_time": "2022-03-07T16:57:27.612Z"
   },
   {
    "duration": 634,
    "start_time": "2022-03-07T17:05:52.454Z"
   },
   {
    "duration": 139,
    "start_time": "2022-03-07T17:05:53.090Z"
   },
   {
    "duration": 18,
    "start_time": "2022-03-07T17:05:53.232Z"
   },
   {
    "duration": 11,
    "start_time": "2022-03-07T17:05:53.260Z"
   },
   {
    "duration": 38,
    "start_time": "2022-03-07T17:05:53.273Z"
   },
   {
    "duration": 3,
    "start_time": "2022-03-07T17:05:53.313Z"
   },
   {
    "duration": 46,
    "start_time": "2022-03-07T17:05:53.318Z"
   },
   {
    "duration": 4,
    "start_time": "2022-03-07T17:05:53.367Z"
   },
   {
    "duration": 24,
    "start_time": "2022-03-07T17:05:53.373Z"
   },
   {
    "duration": 17,
    "start_time": "2022-03-07T17:05:53.399Z"
   },
   {
    "duration": 51,
    "start_time": "2022-03-07T17:05:53.418Z"
   },
   {
    "duration": 63,
    "start_time": "2022-03-07T17:05:53.471Z"
   },
   {
    "duration": 89,
    "start_time": "2022-03-07T17:05:53.536Z"
   },
   {
    "duration": 65,
    "start_time": "2022-03-07T17:05:53.627Z"
   },
   {
    "duration": 66,
    "start_time": "2022-03-07T17:05:53.694Z"
   },
   {
    "duration": 4,
    "start_time": "2022-03-07T17:05:53.762Z"
   },
   {
    "duration": 17,
    "start_time": "2022-03-07T17:05:53.767Z"
   },
   {
    "duration": 46,
    "start_time": "2022-03-07T17:05:53.786Z"
   },
   {
    "duration": 31,
    "start_time": "2022-03-07T17:05:53.834Z"
   },
   {
    "duration": 10,
    "start_time": "2022-03-07T17:05:53.866Z"
   },
   {
    "duration": 3,
    "start_time": "2022-03-07T17:05:53.878Z"
   },
   {
    "duration": 21,
    "start_time": "2022-03-07T17:05:53.883Z"
   },
   {
    "duration": 13,
    "start_time": "2022-03-07T17:05:53.907Z"
   },
   {
    "duration": 49,
    "start_time": "2022-03-07T17:05:53.922Z"
   },
   {
    "duration": 15,
    "start_time": "2022-03-07T17:05:53.972Z"
   },
   {
    "duration": 17,
    "start_time": "2022-03-07T17:05:53.989Z"
   },
   {
    "duration": 14,
    "start_time": "2022-03-07T17:05:54.008Z"
   },
   {
    "duration": 94,
    "start_time": "2022-03-07T17:05:54.024Z"
   },
   {
    "duration": 10,
    "start_time": "2022-03-07T17:05:54.120Z"
   },
   {
    "duration": 9,
    "start_time": "2022-03-07T17:05:54.132Z"
   },
   {
    "duration": 4,
    "start_time": "2022-03-07T17:05:54.159Z"
   },
   {
    "duration": 23,
    "start_time": "2022-03-07T17:05:54.164Z"
   },
   {
    "duration": 12,
    "start_time": "2022-03-07T17:05:54.188Z"
   },
   {
    "duration": 16,
    "start_time": "2022-03-07T17:05:54.202Z"
   },
   {
    "duration": 12,
    "start_time": "2022-03-07T17:05:54.219Z"
   },
   {
    "duration": 8,
    "start_time": "2022-03-07T17:05:54.259Z"
   },
   {
    "duration": 5,
    "start_time": "2022-03-07T17:05:54.268Z"
   },
   {
    "duration": 7,
    "start_time": "2022-03-07T17:05:54.274Z"
   },
   {
    "duration": 6,
    "start_time": "2022-03-07T17:05:54.283Z"
   },
   {
    "duration": 17,
    "start_time": "2022-03-07T17:08:59.853Z"
   },
   {
    "duration": 624,
    "start_time": "2022-03-07T17:09:41.450Z"
   },
   {
    "duration": 138,
    "start_time": "2022-03-07T17:09:42.076Z"
   },
   {
    "duration": 18,
    "start_time": "2022-03-07T17:09:42.216Z"
   },
   {
    "duration": 24,
    "start_time": "2022-03-07T17:09:42.236Z"
   },
   {
    "duration": 27,
    "start_time": "2022-03-07T17:09:42.262Z"
   },
   {
    "duration": 4,
    "start_time": "2022-03-07T17:09:42.290Z"
   },
   {
    "duration": 23,
    "start_time": "2022-03-07T17:09:42.296Z"
   },
   {
    "duration": 5,
    "start_time": "2022-03-07T17:09:42.322Z"
   },
   {
    "duration": 24,
    "start_time": "2022-03-07T17:09:42.361Z"
   },
   {
    "duration": 18,
    "start_time": "2022-03-07T17:09:42.387Z"
   },
   {
    "duration": 53,
    "start_time": "2022-03-07T17:09:42.407Z"
   },
   {
    "duration": 64,
    "start_time": "2022-03-07T17:09:42.462Z"
   },
   {
    "duration": 94,
    "start_time": "2022-03-07T17:09:42.528Z"
   },
   {
    "duration": 64,
    "start_time": "2022-03-07T17:09:42.624Z"
   },
   {
    "duration": 44,
    "start_time": "2022-03-07T17:09:42.691Z"
   },
   {
    "duration": 3,
    "start_time": "2022-03-07T17:09:42.737Z"
   },
   {
    "duration": 12,
    "start_time": "2022-03-07T17:09:42.759Z"
   },
   {
    "duration": 44,
    "start_time": "2022-03-07T17:09:42.772Z"
   },
   {
    "duration": 41,
    "start_time": "2022-03-07T17:09:42.818Z"
   },
   {
    "duration": 11,
    "start_time": "2022-03-07T17:09:42.861Z"
   },
   {
    "duration": 4,
    "start_time": "2022-03-07T17:09:42.874Z"
   },
   {
    "duration": 23,
    "start_time": "2022-03-07T17:09:42.880Z"
   },
   {
    "duration": 14,
    "start_time": "2022-03-07T17:09:42.907Z"
   },
   {
    "duration": 44,
    "start_time": "2022-03-07T17:09:42.923Z"
   },
   {
    "duration": 14,
    "start_time": "2022-03-07T17:09:42.968Z"
   },
   {
    "duration": 16,
    "start_time": "2022-03-07T17:09:42.984Z"
   },
   {
    "duration": 15,
    "start_time": "2022-03-07T17:09:43.002Z"
   },
   {
    "duration": 94,
    "start_time": "2022-03-07T17:09:43.019Z"
   },
   {
    "duration": 17,
    "start_time": "2022-03-07T17:09:43.114Z"
   },
   {
    "duration": 28,
    "start_time": "2022-03-07T17:09:43.132Z"
   },
   {
    "duration": 4,
    "start_time": "2022-03-07T17:09:43.162Z"
   },
   {
    "duration": 24,
    "start_time": "2022-03-07T17:09:43.168Z"
   },
   {
    "duration": 13,
    "start_time": "2022-03-07T17:09:43.193Z"
   },
   {
    "duration": 17,
    "start_time": "2022-03-07T17:09:43.208Z"
   },
   {
    "duration": 42,
    "start_time": "2022-03-07T17:09:43.227Z"
   },
   {
    "duration": 9,
    "start_time": "2022-03-07T17:09:43.271Z"
   },
   {
    "duration": 10,
    "start_time": "2022-03-07T17:09:43.281Z"
   },
   {
    "duration": 7,
    "start_time": "2022-03-07T17:09:43.292Z"
   },
   {
    "duration": 6,
    "start_time": "2022-03-07T17:09:43.300Z"
   },
   {
    "duration": 604,
    "start_time": "2022-03-08T12:51:40.428Z"
   },
   {
    "duration": 180,
    "start_time": "2022-03-08T12:51:41.034Z"
   },
   {
    "duration": 15,
    "start_time": "2022-03-08T12:51:41.216Z"
   },
   {
    "duration": 10,
    "start_time": "2022-03-08T12:51:41.233Z"
   },
   {
    "duration": 33,
    "start_time": "2022-03-08T12:51:41.244Z"
   },
   {
    "duration": 5,
    "start_time": "2022-03-08T12:51:41.278Z"
   },
   {
    "duration": 23,
    "start_time": "2022-03-08T12:51:41.284Z"
   },
   {
    "duration": 6,
    "start_time": "2022-03-08T12:51:41.309Z"
   },
   {
    "duration": 25,
    "start_time": "2022-03-08T12:51:41.317Z"
   },
   {
    "duration": 16,
    "start_time": "2022-03-08T12:51:41.345Z"
   },
   {
    "duration": 22,
    "start_time": "2022-03-08T12:51:41.363Z"
   },
   {
    "duration": 59,
    "start_time": "2022-03-08T12:51:41.387Z"
   },
   {
    "duration": 68,
    "start_time": "2022-03-08T12:51:41.448Z"
   },
   {
    "duration": 102,
    "start_time": "2022-03-08T12:51:41.533Z"
   },
   {
    "duration": 100,
    "start_time": "2022-03-08T12:51:41.637Z"
   },
   {
    "duration": 3,
    "start_time": "2022-03-08T12:51:41.739Z"
   },
   {
    "duration": 18,
    "start_time": "2022-03-08T12:51:41.744Z"
   },
   {
    "duration": 101,
    "start_time": "2022-03-08T12:51:41.765Z"
   },
   {
    "duration": 10,
    "start_time": "2022-03-08T12:51:41.868Z"
   },
   {
    "duration": 10,
    "start_time": "2022-03-08T12:51:41.880Z"
   },
   {
    "duration": 41,
    "start_time": "2022-03-08T12:51:41.892Z"
   },
   {
    "duration": 19,
    "start_time": "2022-03-08T12:51:41.935Z"
   },
   {
    "duration": 14,
    "start_time": "2022-03-08T12:51:41.956Z"
   },
   {
    "duration": 14,
    "start_time": "2022-03-08T12:51:41.972Z"
   },
   {
    "duration": 11,
    "start_time": "2022-03-08T12:51:41.987Z"
   },
   {
    "duration": 43,
    "start_time": "2022-03-08T12:51:42.000Z"
   },
   {
    "duration": 14,
    "start_time": "2022-03-08T12:51:42.045Z"
   },
   {
    "duration": 85,
    "start_time": "2022-03-08T12:51:42.061Z"
   },
   {
    "duration": 16,
    "start_time": "2022-03-08T12:51:42.147Z"
   },
   {
    "duration": 14,
    "start_time": "2022-03-08T12:51:42.165Z"
   },
   {
    "duration": 4,
    "start_time": "2022-03-08T12:51:42.180Z"
   },
   {
    "duration": 23,
    "start_time": "2022-03-08T12:51:42.185Z"
   },
   {
    "duration": 34,
    "start_time": "2022-03-08T12:51:42.209Z"
   },
   {
    "duration": 16,
    "start_time": "2022-03-08T12:51:42.244Z"
   },
   {
    "duration": 12,
    "start_time": "2022-03-08T12:51:42.261Z"
   },
   {
    "duration": 8,
    "start_time": "2022-03-08T12:51:42.274Z"
   },
   {
    "duration": 5,
    "start_time": "2022-03-08T12:51:42.283Z"
   },
   {
    "duration": 7,
    "start_time": "2022-03-08T12:51:42.289Z"
   },
   {
    "duration": 38,
    "start_time": "2022-03-08T12:51:42.298Z"
   }
  ],
  "kernelspec": {
   "display_name": "Python 3 (ipykernel)",
   "language": "python",
   "name": "python3"
  },
  "language_info": {
   "codemirror_mode": {
    "name": "ipython",
    "version": 3
   },
   "file_extension": ".py",
   "mimetype": "text/x-python",
   "name": "python",
   "nbconvert_exporter": "python",
   "pygments_lexer": "ipython3",
   "version": "3.10.2"
  },
  "toc": {
   "base_numbering": 1,
   "nav_menu": {},
   "number_sections": true,
   "sideBar": true,
   "skip_h1_title": true,
   "title_cell": "Table of Contents",
   "title_sidebar": "Contents",
   "toc_cell": false,
   "toc_position": {
    "height": "calc(100% - 180px)",
    "left": "10px",
    "top": "150px",
    "width": "255.188px"
   },
   "toc_section_display": true,
   "toc_window_display": true
  }
 },
 "nbformat": 4,
 "nbformat_minor": 5
}
