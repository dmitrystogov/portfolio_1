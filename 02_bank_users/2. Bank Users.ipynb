{
 "cells": [
  {
   "cell_type": "markdown",
   "id": "e9d3a264",
   "metadata": {},
   "source": [
    "# Исследование надежности заемщиков"
   ]
  },
  {
   "cell_type": "markdown",
   "id": "f4dd4b05",
   "metadata": {},
   "source": [
    "### Описание проекта\n",
    "<B>Заказчик:</B> кредитный отдел банка.<BR>\n",
    "<B>Цель исследования:</B> Нужно разобраться, влияет ли семейное положение и количество детей клиента на факт погашения кредита в срок. <BR>\n",
    "<B>Входные данные от банка:</B> Статистика о платёжеспособности клиентов.<BR>\n",
    "Результаты исследования будут учтены при построении модели кредитного скоринга — специальной системы, которая оценивает способность потенциального заёмщика вернуть кредит банку."
   ]
  },
  {
   "cell_type": "markdown",
   "id": "a3cfe166",
   "metadata": {},
   "source": [
    "## Шаг 1. Обзор данных"
   ]
  },
  {
   "cell_type": "markdown",
   "id": "7ed074e6",
   "metadata": {},
   "source": [
    "### Загрузка и получение общей информации о таблице"
   ]
  },
  {
   "cell_type": "code",
   "execution_count": 1,
   "id": "160de95c",
   "metadata": {},
   "outputs": [],
   "source": [
    "import pandas as pd # импорт библиотеки pandas"
   ]
  },
  {
   "cell_type": "code",
   "execution_count": 2,
   "id": "24fb2d88",
   "metadata": {},
   "outputs": [
    {
     "data": {
      "text/html": [
       "<div>\n",
       "<style scoped>\n",
       "    .dataframe tbody tr th:only-of-type {\n",
       "        vertical-align: middle;\n",
       "    }\n",
       "\n",
       "    .dataframe tbody tr th {\n",
       "        vertical-align: top;\n",
       "    }\n",
       "\n",
       "    .dataframe thead th {\n",
       "        text-align: right;\n",
       "    }\n",
       "</style>\n",
       "<table border=\"1\" class=\"dataframe\">\n",
       "  <thead>\n",
       "    <tr style=\"text-align: right;\">\n",
       "      <th></th>\n",
       "      <th>children</th>\n",
       "      <th>days_employed</th>\n",
       "      <th>dob_years</th>\n",
       "      <th>education</th>\n",
       "      <th>education_id</th>\n",
       "      <th>family_status</th>\n",
       "      <th>family_status_id</th>\n",
       "      <th>gender</th>\n",
       "      <th>income_type</th>\n",
       "      <th>debt</th>\n",
       "      <th>total_income</th>\n",
       "      <th>purpose</th>\n",
       "    </tr>\n",
       "  </thead>\n",
       "  <tbody>\n",
       "    <tr>\n",
       "      <th>0</th>\n",
       "      <td>1</td>\n",
       "      <td>-8437.673028</td>\n",
       "      <td>42</td>\n",
       "      <td>высшее</td>\n",
       "      <td>0</td>\n",
       "      <td>женат / замужем</td>\n",
       "      <td>0</td>\n",
       "      <td>F</td>\n",
       "      <td>сотрудник</td>\n",
       "      <td>0</td>\n",
       "      <td>253875.639453</td>\n",
       "      <td>покупка жилья</td>\n",
       "    </tr>\n",
       "    <tr>\n",
       "      <th>1</th>\n",
       "      <td>1</td>\n",
       "      <td>-4024.803754</td>\n",
       "      <td>36</td>\n",
       "      <td>среднее</td>\n",
       "      <td>1</td>\n",
       "      <td>женат / замужем</td>\n",
       "      <td>0</td>\n",
       "      <td>F</td>\n",
       "      <td>сотрудник</td>\n",
       "      <td>0</td>\n",
       "      <td>112080.014102</td>\n",
       "      <td>приобретение автомобиля</td>\n",
       "    </tr>\n",
       "    <tr>\n",
       "      <th>2</th>\n",
       "      <td>0</td>\n",
       "      <td>-5623.422610</td>\n",
       "      <td>33</td>\n",
       "      <td>Среднее</td>\n",
       "      <td>1</td>\n",
       "      <td>женат / замужем</td>\n",
       "      <td>0</td>\n",
       "      <td>M</td>\n",
       "      <td>сотрудник</td>\n",
       "      <td>0</td>\n",
       "      <td>145885.952297</td>\n",
       "      <td>покупка жилья</td>\n",
       "    </tr>\n",
       "    <tr>\n",
       "      <th>3</th>\n",
       "      <td>3</td>\n",
       "      <td>-4124.747207</td>\n",
       "      <td>32</td>\n",
       "      <td>среднее</td>\n",
       "      <td>1</td>\n",
       "      <td>женат / замужем</td>\n",
       "      <td>0</td>\n",
       "      <td>M</td>\n",
       "      <td>сотрудник</td>\n",
       "      <td>0</td>\n",
       "      <td>267628.550329</td>\n",
       "      <td>дополнительное образование</td>\n",
       "    </tr>\n",
       "    <tr>\n",
       "      <th>4</th>\n",
       "      <td>0</td>\n",
       "      <td>340266.072047</td>\n",
       "      <td>53</td>\n",
       "      <td>среднее</td>\n",
       "      <td>1</td>\n",
       "      <td>гражданский брак</td>\n",
       "      <td>1</td>\n",
       "      <td>F</td>\n",
       "      <td>пенсионер</td>\n",
       "      <td>0</td>\n",
       "      <td>158616.077870</td>\n",
       "      <td>сыграть свадьбу</td>\n",
       "    </tr>\n",
       "    <tr>\n",
       "      <th>5</th>\n",
       "      <td>0</td>\n",
       "      <td>-926.185831</td>\n",
       "      <td>27</td>\n",
       "      <td>высшее</td>\n",
       "      <td>0</td>\n",
       "      <td>гражданский брак</td>\n",
       "      <td>1</td>\n",
       "      <td>M</td>\n",
       "      <td>компаньон</td>\n",
       "      <td>0</td>\n",
       "      <td>255763.565419</td>\n",
       "      <td>покупка жилья</td>\n",
       "    </tr>\n",
       "    <tr>\n",
       "      <th>6</th>\n",
       "      <td>0</td>\n",
       "      <td>-2879.202052</td>\n",
       "      <td>43</td>\n",
       "      <td>высшее</td>\n",
       "      <td>0</td>\n",
       "      <td>женат / замужем</td>\n",
       "      <td>0</td>\n",
       "      <td>F</td>\n",
       "      <td>компаньон</td>\n",
       "      <td>0</td>\n",
       "      <td>240525.971920</td>\n",
       "      <td>операции с жильем</td>\n",
       "    </tr>\n",
       "    <tr>\n",
       "      <th>7</th>\n",
       "      <td>0</td>\n",
       "      <td>-152.779569</td>\n",
       "      <td>50</td>\n",
       "      <td>СРЕДНЕЕ</td>\n",
       "      <td>1</td>\n",
       "      <td>женат / замужем</td>\n",
       "      <td>0</td>\n",
       "      <td>M</td>\n",
       "      <td>сотрудник</td>\n",
       "      <td>0</td>\n",
       "      <td>135823.934197</td>\n",
       "      <td>образование</td>\n",
       "    </tr>\n",
       "    <tr>\n",
       "      <th>8</th>\n",
       "      <td>2</td>\n",
       "      <td>-6929.865299</td>\n",
       "      <td>35</td>\n",
       "      <td>ВЫСШЕЕ</td>\n",
       "      <td>0</td>\n",
       "      <td>гражданский брак</td>\n",
       "      <td>1</td>\n",
       "      <td>F</td>\n",
       "      <td>сотрудник</td>\n",
       "      <td>0</td>\n",
       "      <td>95856.832424</td>\n",
       "      <td>на проведение свадьбы</td>\n",
       "    </tr>\n",
       "    <tr>\n",
       "      <th>9</th>\n",
       "      <td>0</td>\n",
       "      <td>-2188.756445</td>\n",
       "      <td>41</td>\n",
       "      <td>среднее</td>\n",
       "      <td>1</td>\n",
       "      <td>женат / замужем</td>\n",
       "      <td>0</td>\n",
       "      <td>M</td>\n",
       "      <td>сотрудник</td>\n",
       "      <td>0</td>\n",
       "      <td>144425.938277</td>\n",
       "      <td>покупка жилья для семьи</td>\n",
       "    </tr>\n",
       "  </tbody>\n",
       "</table>\n",
       "</div>"
      ],
      "text/plain": [
       "   children  days_employed  dob_years education  education_id  \\\n",
       "0         1   -8437.673028         42    высшее             0   \n",
       "1         1   -4024.803754         36   среднее             1   \n",
       "2         0   -5623.422610         33   Среднее             1   \n",
       "3         3   -4124.747207         32   среднее             1   \n",
       "4         0  340266.072047         53   среднее             1   \n",
       "5         0    -926.185831         27    высшее             0   \n",
       "6         0   -2879.202052         43    высшее             0   \n",
       "7         0    -152.779569         50   СРЕДНЕЕ             1   \n",
       "8         2   -6929.865299         35    ВЫСШЕЕ             0   \n",
       "9         0   -2188.756445         41   среднее             1   \n",
       "\n",
       "      family_status  family_status_id gender income_type  debt   total_income  \\\n",
       "0   женат / замужем                 0      F   сотрудник     0  253875.639453   \n",
       "1   женат / замужем                 0      F   сотрудник     0  112080.014102   \n",
       "2   женат / замужем                 0      M   сотрудник     0  145885.952297   \n",
       "3   женат / замужем                 0      M   сотрудник     0  267628.550329   \n",
       "4  гражданский брак                 1      F   пенсионер     0  158616.077870   \n",
       "5  гражданский брак                 1      M   компаньон     0  255763.565419   \n",
       "6   женат / замужем                 0      F   компаньон     0  240525.971920   \n",
       "7   женат / замужем                 0      M   сотрудник     0  135823.934197   \n",
       "8  гражданский брак                 1      F   сотрудник     0   95856.832424   \n",
       "9   женат / замужем                 0      M   сотрудник     0  144425.938277   \n",
       "\n",
       "                      purpose  \n",
       "0               покупка жилья  \n",
       "1     приобретение автомобиля  \n",
       "2               покупка жилья  \n",
       "3  дополнительное образование  \n",
       "4             сыграть свадьбу  \n",
       "5               покупка жилья  \n",
       "6           операции с жильем  \n",
       "7                 образование  \n",
       "8       на проведение свадьбы  \n",
       "9     покупка жилья для семьи  "
      ]
     },
     "execution_count": 2,
     "metadata": {},
     "output_type": "execute_result"
    }
   ],
   "source": [
    "df = pd.read_csv('/datasets/data.csv') # чтение файла с данными и сохранение в df\n",
    "df.head(10) # получение первых 10 строк таблицы df"
   ]
  },
  {
   "cell_type": "code",
   "execution_count": 3,
   "id": "b9fba944",
   "metadata": {},
   "outputs": [
    {
     "name": "stdout",
     "output_type": "stream",
     "text": [
      "<class 'pandas.core.frame.DataFrame'>\n",
      "RangeIndex: 21525 entries, 0 to 21524\n",
      "Data columns (total 12 columns):\n",
      " #   Column            Non-Null Count  Dtype  \n",
      "---  ------            --------------  -----  \n",
      " 0   children          21525 non-null  int64  \n",
      " 1   days_employed     19351 non-null  float64\n",
      " 2   dob_years         21525 non-null  int64  \n",
      " 3   education         21525 non-null  object \n",
      " 4   education_id      21525 non-null  int64  \n",
      " 5   family_status     21525 non-null  object \n",
      " 6   family_status_id  21525 non-null  int64  \n",
      " 7   gender            21525 non-null  object \n",
      " 8   income_type       21525 non-null  object \n",
      " 9   debt              21525 non-null  int64  \n",
      " 10  total_income      19351 non-null  float64\n",
      " 11  purpose           21525 non-null  object \n",
      "dtypes: float64(2), int64(5), object(5)\n",
      "memory usage: 2.0+ MB\n"
     ]
    }
   ],
   "source": [
    "df.info() # получение общей информации о данных в таблице df"
   ]
  },
  {
   "cell_type": "markdown",
   "id": "03aa44cb",
   "metadata": {},
   "source": [
    "Итак, в таблице 12 столбцов. \n",
    "\n",
    "Согласно документации к данным:\n",
    "* children — количество детей в семье\n",
    "* days_employed — общий трудовой стаж в днях\n",
    "* dob_years — возраст клиента в годах\n",
    "* education — уровень образования клиента\n",
    "* education_id — идентификатор уровня образования\n",
    "* family_status — семейное положение\n",
    "* family_status_id — идентификатор семейного положения\n",
    "* gender — пол клиента\n",
    "* income_type — тип занятости\n",
    "* debt — имел ли задолженность по возврату кредитов\n",
    "* total_income — ежемесячный доход\n",
    "* purpose — цель получения кредита\n",
    "\n",
    "Количество значений в столбцах различается. Значит, в данных есть пропущенные значения."
   ]
  },
  {
   "cell_type": "markdown",
   "id": "8e1b5276",
   "metadata": {},
   "source": [
    "## Шаг 2. Предобработка данных"
   ]
  },
  {
   "cell_type": "markdown",
   "id": "065f4062",
   "metadata": {},
   "source": [
    "### Шаг 2.1 Заполнение пропусков"
   ]
  },
  {
   "cell_type": "code",
   "execution_count": 4,
   "id": "b1733773",
   "metadata": {
    "scrolled": true
   },
   "outputs": [
    {
     "data": {
      "text/plain": [
       "children               0\n",
       "days_employed       2174\n",
       "dob_years              0\n",
       "education              0\n",
       "education_id           0\n",
       "family_status          0\n",
       "family_status_id       0\n",
       "gender                 0\n",
       "income_type            0\n",
       "debt                   0\n",
       "total_income        2174\n",
       "purpose                0\n",
       "dtype: int64"
      ]
     },
     "execution_count": 4,
     "metadata": {},
     "output_type": "execute_result"
    }
   ],
   "source": [
    "df.isna().sum() # подсчёт пропусков"
   ]
  },
  {
   "cell_type": "markdown",
   "id": "0d3b9708",
   "metadata": {},
   "source": [
    "Судя по тому, что количество значений в столбцах days_employed и total_income совпадают, причиной пропусков является отсутствие информации в этих полях для не работающих.\n",
    "Проверим это, если пропущены значения одновременно в обоих столбцах, то скорее всего это так."
   ]
  },
  {
   "cell_type": "code",
   "execution_count": 5,
   "id": "a0a1d379",
   "metadata": {
    "scrolled": true
   },
   "outputs": [
    {
     "data": {
      "text/plain": [
       "children            0\n",
       "days_employed       0\n",
       "dob_years           0\n",
       "education           0\n",
       "education_id        0\n",
       "family_status       0\n",
       "family_status_id    0\n",
       "gender              0\n",
       "income_type         0\n",
       "debt                0\n",
       "total_income        0\n",
       "purpose             0\n",
       "dtype: int64"
      ]
     },
     "execution_count": 5,
     "metadata": {},
     "output_type": "execute_result"
    }
   ],
   "source": [
    "test = df.dropna(subset=['days_employed']) # удаляем строки, только если значения отсутствуют в столбце 'days_employed'\n",
    "test.isna().sum() # если исчезнут и пропуски в 'total_income', значит, строки действительно содержат информацию про не работающих"
   ]
  },
  {
   "cell_type": "code",
   "execution_count": 6,
   "id": "469cdac8",
   "metadata": {
    "scrolled": true
   },
   "outputs": [
    {
     "data": {
      "text/html": [
       "<div>\n",
       "<style scoped>\n",
       "    .dataframe tbody tr th:only-of-type {\n",
       "        vertical-align: middle;\n",
       "    }\n",
       "\n",
       "    .dataframe tbody tr th {\n",
       "        vertical-align: top;\n",
       "    }\n",
       "\n",
       "    .dataframe thead th {\n",
       "        text-align: right;\n",
       "    }\n",
       "</style>\n",
       "<table border=\"1\" class=\"dataframe\">\n",
       "  <thead>\n",
       "    <tr style=\"text-align: right;\">\n",
       "      <th></th>\n",
       "      <th>children</th>\n",
       "      <th>days_employed</th>\n",
       "      <th>dob_years</th>\n",
       "      <th>education</th>\n",
       "      <th>education_id</th>\n",
       "      <th>family_status</th>\n",
       "      <th>family_status_id</th>\n",
       "      <th>gender</th>\n",
       "      <th>income_type</th>\n",
       "      <th>debt</th>\n",
       "      <th>total_income</th>\n",
       "      <th>purpose</th>\n",
       "    </tr>\n",
       "  </thead>\n",
       "  <tbody>\n",
       "    <tr>\n",
       "      <th>15123</th>\n",
       "      <td>1</td>\n",
       "      <td>NaN</td>\n",
       "      <td>28</td>\n",
       "      <td>среднее</td>\n",
       "      <td>1</td>\n",
       "      <td>женат / замужем</td>\n",
       "      <td>0</td>\n",
       "      <td>F</td>\n",
       "      <td>сотрудник</td>\n",
       "      <td>0</td>\n",
       "      <td>NaN</td>\n",
       "      <td>на покупку подержанного автомобиля</td>\n",
       "    </tr>\n",
       "    <tr>\n",
       "      <th>14566</th>\n",
       "      <td>0</td>\n",
       "      <td>NaN</td>\n",
       "      <td>29</td>\n",
       "      <td>высшее</td>\n",
       "      <td>0</td>\n",
       "      <td>Не женат / не замужем</td>\n",
       "      <td>4</td>\n",
       "      <td>F</td>\n",
       "      <td>компаньон</td>\n",
       "      <td>0</td>\n",
       "      <td>NaN</td>\n",
       "      <td>покупка жилья</td>\n",
       "    </tr>\n",
       "    <tr>\n",
       "      <th>2655</th>\n",
       "      <td>1</td>\n",
       "      <td>NaN</td>\n",
       "      <td>44</td>\n",
       "      <td>среднее</td>\n",
       "      <td>1</td>\n",
       "      <td>женат / замужем</td>\n",
       "      <td>0</td>\n",
       "      <td>F</td>\n",
       "      <td>компаньон</td>\n",
       "      <td>0</td>\n",
       "      <td>NaN</td>\n",
       "      <td>недвижимость</td>\n",
       "    </tr>\n",
       "    <tr>\n",
       "      <th>6973</th>\n",
       "      <td>2</td>\n",
       "      <td>NaN</td>\n",
       "      <td>31</td>\n",
       "      <td>среднее</td>\n",
       "      <td>1</td>\n",
       "      <td>женат / замужем</td>\n",
       "      <td>0</td>\n",
       "      <td>F</td>\n",
       "      <td>сотрудник</td>\n",
       "      <td>0</td>\n",
       "      <td>NaN</td>\n",
       "      <td>покупка недвижимости</td>\n",
       "    </tr>\n",
       "    <tr>\n",
       "      <th>15327</th>\n",
       "      <td>0</td>\n",
       "      <td>NaN</td>\n",
       "      <td>29</td>\n",
       "      <td>среднее</td>\n",
       "      <td>1</td>\n",
       "      <td>женат / замужем</td>\n",
       "      <td>0</td>\n",
       "      <td>M</td>\n",
       "      <td>компаньон</td>\n",
       "      <td>0</td>\n",
       "      <td>NaN</td>\n",
       "      <td>операции со своей недвижимостью</td>\n",
       "    </tr>\n",
       "    <tr>\n",
       "      <th>17908</th>\n",
       "      <td>1</td>\n",
       "      <td>NaN</td>\n",
       "      <td>36</td>\n",
       "      <td>неоконченное высшее</td>\n",
       "      <td>2</td>\n",
       "      <td>женат / замужем</td>\n",
       "      <td>0</td>\n",
       "      <td>M</td>\n",
       "      <td>сотрудник</td>\n",
       "      <td>0</td>\n",
       "      <td>NaN</td>\n",
       "      <td>покупка жилья для семьи</td>\n",
       "    </tr>\n",
       "    <tr>\n",
       "      <th>6510</th>\n",
       "      <td>0</td>\n",
       "      <td>NaN</td>\n",
       "      <td>42</td>\n",
       "      <td>среднее</td>\n",
       "      <td>1</td>\n",
       "      <td>Не женат / не замужем</td>\n",
       "      <td>4</td>\n",
       "      <td>M</td>\n",
       "      <td>сотрудник</td>\n",
       "      <td>0</td>\n",
       "      <td>NaN</td>\n",
       "      <td>жилье</td>\n",
       "    </tr>\n",
       "    <tr>\n",
       "      <th>2052</th>\n",
       "      <td>0</td>\n",
       "      <td>NaN</td>\n",
       "      <td>58</td>\n",
       "      <td>среднее</td>\n",
       "      <td>1</td>\n",
       "      <td>гражданский брак</td>\n",
       "      <td>1</td>\n",
       "      <td>F</td>\n",
       "      <td>пенсионер</td>\n",
       "      <td>0</td>\n",
       "      <td>NaN</td>\n",
       "      <td>сыграть свадьбу</td>\n",
       "    </tr>\n",
       "    <tr>\n",
       "      <th>19290</th>\n",
       "      <td>0</td>\n",
       "      <td>NaN</td>\n",
       "      <td>41</td>\n",
       "      <td>среднее</td>\n",
       "      <td>1</td>\n",
       "      <td>женат / замужем</td>\n",
       "      <td>0</td>\n",
       "      <td>F</td>\n",
       "      <td>сотрудник</td>\n",
       "      <td>0</td>\n",
       "      <td>NaN</td>\n",
       "      <td>профильное образование</td>\n",
       "    </tr>\n",
       "    <tr>\n",
       "      <th>11950</th>\n",
       "      <td>0</td>\n",
       "      <td>NaN</td>\n",
       "      <td>58</td>\n",
       "      <td>среднее</td>\n",
       "      <td>1</td>\n",
       "      <td>гражданский брак</td>\n",
       "      <td>1</td>\n",
       "      <td>M</td>\n",
       "      <td>сотрудник</td>\n",
       "      <td>0</td>\n",
       "      <td>NaN</td>\n",
       "      <td>на проведение свадьбы</td>\n",
       "    </tr>\n",
       "  </tbody>\n",
       "</table>\n",
       "</div>"
      ],
      "text/plain": [
       "       children  days_employed  dob_years            education  education_id  \\\n",
       "15123         1            NaN         28              среднее             1   \n",
       "14566         0            NaN         29               высшее             0   \n",
       "2655          1            NaN         44              среднее             1   \n",
       "6973          2            NaN         31              среднее             1   \n",
       "15327         0            NaN         29              среднее             1   \n",
       "17908         1            NaN         36  неоконченное высшее             2   \n",
       "6510          0            NaN         42              среднее             1   \n",
       "2052          0            NaN         58              среднее             1   \n",
       "19290         0            NaN         41              среднее             1   \n",
       "11950         0            NaN         58              среднее             1   \n",
       "\n",
       "               family_status  family_status_id gender income_type  debt  \\\n",
       "15123        женат / замужем                 0      F   сотрудник     0   \n",
       "14566  Не женат / не замужем                 4      F   компаньон     0   \n",
       "2655         женат / замужем                 0      F   компаньон     0   \n",
       "6973         женат / замужем                 0      F   сотрудник     0   \n",
       "15327        женат / замужем                 0      M   компаньон     0   \n",
       "17908        женат / замужем                 0      M   сотрудник     0   \n",
       "6510   Не женат / не замужем                 4      M   сотрудник     0   \n",
       "2052        гражданский брак                 1      F   пенсионер     0   \n",
       "19290        женат / замужем                 0      F   сотрудник     0   \n",
       "11950       гражданский брак                 1      M   сотрудник     0   \n",
       "\n",
       "       total_income                             purpose  \n",
       "15123           NaN  на покупку подержанного автомобиля  \n",
       "14566           NaN                       покупка жилья  \n",
       "2655            NaN                        недвижимость  \n",
       "6973            NaN                покупка недвижимости  \n",
       "15327           NaN     операции со своей недвижимостью  \n",
       "17908           NaN             покупка жилья для семьи  \n",
       "6510            NaN                               жилье  \n",
       "2052            NaN                     сыграть свадьбу  \n",
       "19290           NaN              профильное образование  \n",
       "11950           NaN               на проведение свадьбы  "
      ]
     },
     "execution_count": 6,
     "metadata": {},
     "output_type": "execute_result"
    }
   ],
   "source": [
    "df.loc[df['total_income'].isna()].sample(10) # посмотрим, как выглядят пропуски"
   ]
  },
  {
   "cell_type": "markdown",
   "id": "79d524a5",
   "metadata": {},
   "source": [
    "По этой выборке похоже, что клиенты без информации о времени работы и доходе — либо действительно неработающие (пенсионер), либо сотрудники (или компаний клиентов, или самого банка). Без стабильного дохода им, скорее всего, не дали бы кредит, поэтому для сохранения полноты данных есть смысл заполнить значения времени работы и дохода медианными значениями по таблице.<BR>\n",
    "<FONT COLOR = RED>Сделаем это после исправления аномалий</FONT>"
   ]
  },
  {
   "cell_type": "code",
   "execution_count": 7,
   "id": "edb44e06",
   "metadata": {},
   "outputs": [
    {
     "data": {
      "text/html": [
       "<div>\n",
       "<style scoped>\n",
       "    .dataframe tbody tr th:only-of-type {\n",
       "        vertical-align: middle;\n",
       "    }\n",
       "\n",
       "    .dataframe tbody tr th {\n",
       "        vertical-align: top;\n",
       "    }\n",
       "\n",
       "    .dataframe thead tr th {\n",
       "        text-align: left;\n",
       "    }\n",
       "\n",
       "    .dataframe thead tr:last-of-type th {\n",
       "        text-align: right;\n",
       "    }\n",
       "</style>\n",
       "<table border=\"1\" class=\"dataframe\">\n",
       "  <thead>\n",
       "    <tr>\n",
       "      <th></th>\n",
       "      <th>count</th>\n",
       "    </tr>\n",
       "    <tr>\n",
       "      <th></th>\n",
       "      <th>debt</th>\n",
       "    </tr>\n",
       "    <tr>\n",
       "      <th>income_type</th>\n",
       "      <th></th>\n",
       "    </tr>\n",
       "  </thead>\n",
       "  <tbody>\n",
       "    <tr>\n",
       "      <th>госслужащий</th>\n",
       "      <td>147</td>\n",
       "    </tr>\n",
       "    <tr>\n",
       "      <th>компаньон</th>\n",
       "      <td>508</td>\n",
       "    </tr>\n",
       "    <tr>\n",
       "      <th>пенсионер</th>\n",
       "      <td>413</td>\n",
       "    </tr>\n",
       "    <tr>\n",
       "      <th>предприниматель</th>\n",
       "      <td>1</td>\n",
       "    </tr>\n",
       "    <tr>\n",
       "      <th>сотрудник</th>\n",
       "      <td>1105</td>\n",
       "    </tr>\n",
       "  </tbody>\n",
       "</table>\n",
       "</div>"
      ],
      "text/plain": [
       "                count\n",
       "                 debt\n",
       "income_type          \n",
       "госслужащий       147\n",
       "компаньон         508\n",
       "пенсионер         413\n",
       "предприниматель     1\n",
       "сотрудник        1105"
      ]
     },
     "execution_count": 7,
     "metadata": {},
     "output_type": "execute_result"
    }
   ],
   "source": [
    "df[df['total_income'].isna()].pivot_table(index='income_type', values='debt', aggfunc=['count']) # Посчитаем количество клиентов\n",
    "                                                                                                 # без сведений о размере дохода"
   ]
  },
  {
   "cell_type": "code",
   "execution_count": 8,
   "id": "d742c50f",
   "metadata": {},
   "outputs": [
    {
     "data": {
      "text/html": [
       "<div>\n",
       "<style scoped>\n",
       "    .dataframe tbody tr th:only-of-type {\n",
       "        vertical-align: middle;\n",
       "    }\n",
       "\n",
       "    .dataframe tbody tr th {\n",
       "        vertical-align: top;\n",
       "    }\n",
       "\n",
       "    .dataframe thead tr th {\n",
       "        text-align: left;\n",
       "    }\n",
       "\n",
       "    .dataframe thead tr:last-of-type th {\n",
       "        text-align: right;\n",
       "    }\n",
       "</style>\n",
       "<table border=\"1\" class=\"dataframe\">\n",
       "  <thead>\n",
       "    <tr>\n",
       "      <th></th>\n",
       "      <th>count</th>\n",
       "    </tr>\n",
       "    <tr>\n",
       "      <th></th>\n",
       "      <th>debt</th>\n",
       "    </tr>\n",
       "    <tr>\n",
       "      <th>income_type</th>\n",
       "      <th></th>\n",
       "    </tr>\n",
       "  </thead>\n",
       "  <tbody>\n",
       "    <tr>\n",
       "      <th>безработный</th>\n",
       "      <td>2</td>\n",
       "    </tr>\n",
       "    <tr>\n",
       "      <th>в декрете</th>\n",
       "      <td>1</td>\n",
       "    </tr>\n",
       "    <tr>\n",
       "      <th>госслужащий</th>\n",
       "      <td>1459</td>\n",
       "    </tr>\n",
       "    <tr>\n",
       "      <th>компаньон</th>\n",
       "      <td>5085</td>\n",
       "    </tr>\n",
       "    <tr>\n",
       "      <th>пенсионер</th>\n",
       "      <td>3856</td>\n",
       "    </tr>\n",
       "    <tr>\n",
       "      <th>предприниматель</th>\n",
       "      <td>2</td>\n",
       "    </tr>\n",
       "    <tr>\n",
       "      <th>сотрудник</th>\n",
       "      <td>11119</td>\n",
       "    </tr>\n",
       "    <tr>\n",
       "      <th>студент</th>\n",
       "      <td>1</td>\n",
       "    </tr>\n",
       "  </tbody>\n",
       "</table>\n",
       "</div>"
      ],
      "text/plain": [
       "                 count\n",
       "                  debt\n",
       "income_type           \n",
       "безработный          2\n",
       "в декрете            1\n",
       "госслужащий       1459\n",
       "компаньон         5085\n",
       "пенсионер         3856\n",
       "предприниматель      2\n",
       "сотрудник        11119\n",
       "студент              1"
      ]
     },
     "execution_count": 8,
     "metadata": {},
     "output_type": "execute_result"
    }
   ],
   "source": [
    "df.pivot_table(index='income_type', values='debt', aggfunc=['count']) # Общее число клиентов"
   ]
  },
  {
   "cell_type": "markdown",
   "id": "1040147f",
   "metadata": {},
   "source": [
    "Мы подсчитали количество клиентов по типам занятости. Видно, что в выделенные нами категории \"спецклиентов\" попадает около 10% клиентов с данными типами занятости. Гипотезе, о том, что это клиенты, о которых банк распологает дополнительной информацией о доходах, не внесенной в исходные данные, результат проверки не противоречит."
   ]
  },
  {
   "cell_type": "markdown",
   "id": "44de1120",
   "metadata": {},
   "source": [
    "### Шаг 2.2 Проверка данных на аномалии и исправления."
   ]
  },
  {
   "cell_type": "code",
   "execution_count": 9,
   "id": "6beccdfd",
   "metadata": {},
   "outputs": [
    {
     "data": {
      "text/html": [
       "<div>\n",
       "<style scoped>\n",
       "    .dataframe tbody tr th:only-of-type {\n",
       "        vertical-align: middle;\n",
       "    }\n",
       "\n",
       "    .dataframe tbody tr th {\n",
       "        vertical-align: top;\n",
       "    }\n",
       "\n",
       "    .dataframe thead th {\n",
       "        text-align: right;\n",
       "    }\n",
       "</style>\n",
       "<table border=\"1\" class=\"dataframe\">\n",
       "  <thead>\n",
       "    <tr style=\"text-align: right;\">\n",
       "      <th></th>\n",
       "      <th>children</th>\n",
       "      <th>days_employed</th>\n",
       "      <th>dob_years</th>\n",
       "      <th>education_id</th>\n",
       "      <th>family_status_id</th>\n",
       "      <th>debt</th>\n",
       "      <th>total_income</th>\n",
       "    </tr>\n",
       "  </thead>\n",
       "  <tbody>\n",
       "    <tr>\n",
       "      <th>count</th>\n",
       "      <td>21525.000000</td>\n",
       "      <td>19351.000000</td>\n",
       "      <td>21525.000000</td>\n",
       "      <td>21525.000000</td>\n",
       "      <td>21525.000000</td>\n",
       "      <td>21525.000000</td>\n",
       "      <td>1.935100e+04</td>\n",
       "    </tr>\n",
       "    <tr>\n",
       "      <th>mean</th>\n",
       "      <td>0.538908</td>\n",
       "      <td>63046.497661</td>\n",
       "      <td>43.293380</td>\n",
       "      <td>0.817236</td>\n",
       "      <td>0.972544</td>\n",
       "      <td>0.080883</td>\n",
       "      <td>1.674223e+05</td>\n",
       "    </tr>\n",
       "    <tr>\n",
       "      <th>std</th>\n",
       "      <td>1.381587</td>\n",
       "      <td>140827.311974</td>\n",
       "      <td>12.574584</td>\n",
       "      <td>0.548138</td>\n",
       "      <td>1.420324</td>\n",
       "      <td>0.272661</td>\n",
       "      <td>1.029716e+05</td>\n",
       "    </tr>\n",
       "    <tr>\n",
       "      <th>min</th>\n",
       "      <td>-1.000000</td>\n",
       "      <td>-18388.949901</td>\n",
       "      <td>0.000000</td>\n",
       "      <td>0.000000</td>\n",
       "      <td>0.000000</td>\n",
       "      <td>0.000000</td>\n",
       "      <td>2.066726e+04</td>\n",
       "    </tr>\n",
       "    <tr>\n",
       "      <th>25%</th>\n",
       "      <td>0.000000</td>\n",
       "      <td>-2747.423625</td>\n",
       "      <td>33.000000</td>\n",
       "      <td>1.000000</td>\n",
       "      <td>0.000000</td>\n",
       "      <td>0.000000</td>\n",
       "      <td>1.030532e+05</td>\n",
       "    </tr>\n",
       "    <tr>\n",
       "      <th>50%</th>\n",
       "      <td>0.000000</td>\n",
       "      <td>-1203.369529</td>\n",
       "      <td>42.000000</td>\n",
       "      <td>1.000000</td>\n",
       "      <td>0.000000</td>\n",
       "      <td>0.000000</td>\n",
       "      <td>1.450179e+05</td>\n",
       "    </tr>\n",
       "    <tr>\n",
       "      <th>75%</th>\n",
       "      <td>1.000000</td>\n",
       "      <td>-291.095954</td>\n",
       "      <td>53.000000</td>\n",
       "      <td>1.000000</td>\n",
       "      <td>1.000000</td>\n",
       "      <td>0.000000</td>\n",
       "      <td>2.034351e+05</td>\n",
       "    </tr>\n",
       "    <tr>\n",
       "      <th>max</th>\n",
       "      <td>20.000000</td>\n",
       "      <td>401755.400475</td>\n",
       "      <td>75.000000</td>\n",
       "      <td>4.000000</td>\n",
       "      <td>4.000000</td>\n",
       "      <td>1.000000</td>\n",
       "      <td>2.265604e+06</td>\n",
       "    </tr>\n",
       "  </tbody>\n",
       "</table>\n",
       "</div>"
      ],
      "text/plain": [
       "           children  days_employed     dob_years  education_id  \\\n",
       "count  21525.000000   19351.000000  21525.000000  21525.000000   \n",
       "mean       0.538908   63046.497661     43.293380      0.817236   \n",
       "std        1.381587  140827.311974     12.574584      0.548138   \n",
       "min       -1.000000  -18388.949901      0.000000      0.000000   \n",
       "25%        0.000000   -2747.423625     33.000000      1.000000   \n",
       "50%        0.000000   -1203.369529     42.000000      1.000000   \n",
       "75%        1.000000    -291.095954     53.000000      1.000000   \n",
       "max       20.000000  401755.400475     75.000000      4.000000   \n",
       "\n",
       "       family_status_id          debt  total_income  \n",
       "count      21525.000000  21525.000000  1.935100e+04  \n",
       "mean           0.972544      0.080883  1.674223e+05  \n",
       "std            1.420324      0.272661  1.029716e+05  \n",
       "min            0.000000      0.000000  2.066726e+04  \n",
       "25%            0.000000      0.000000  1.030532e+05  \n",
       "50%            0.000000      0.000000  1.450179e+05  \n",
       "75%            1.000000      0.000000  2.034351e+05  \n",
       "max            4.000000      1.000000  2.265604e+06  "
      ]
     },
     "execution_count": 9,
     "metadata": {},
     "output_type": "execute_result"
    }
   ],
   "source": [
    "df.describe() # посмотрим на статистические параметры таблицы"
   ]
  },
  {
   "cell_type": "markdown",
   "id": "94f9d0c7",
   "metadata": {},
   "source": [
    "Видно, что в столбцах 'children' и 'days_employed' находятся отрицательные значения, не имеющие физического смысла. Возможно, это вызвано опечаткой при внесении данных вручную. "
   ]
  },
  {
   "cell_type": "code",
   "execution_count": 10,
   "id": "a21d8979",
   "metadata": {
    "scrolled": true
   },
   "outputs": [
    {
     "data": {
      "text/plain": [
       "15906"
      ]
     },
     "execution_count": 10,
     "metadata": {},
     "output_type": "execute_result"
    }
   ],
   "source": [
    "df['days_employed'][df['days_employed'] < 0].count() # посмотрим число аномальных значений в столбце 'days_employed'"
   ]
  },
  {
   "cell_type": "markdown",
   "id": "588268cb",
   "metadata": {},
   "source": [
    "Учитывая большое количество аномалий, отсутствие связи с поставленной задачей и невозможность уточнения информации у заказчика, удалим столбец 'days_employed'."
   ]
  },
  {
   "cell_type": "code",
   "execution_count": 11,
   "id": "44a2dbfd",
   "metadata": {},
   "outputs": [
    {
     "data": {
      "text/html": [
       "<div>\n",
       "<style scoped>\n",
       "    .dataframe tbody tr th:only-of-type {\n",
       "        vertical-align: middle;\n",
       "    }\n",
       "\n",
       "    .dataframe tbody tr th {\n",
       "        vertical-align: top;\n",
       "    }\n",
       "\n",
       "    .dataframe thead th {\n",
       "        text-align: right;\n",
       "    }\n",
       "</style>\n",
       "<table border=\"1\" class=\"dataframe\">\n",
       "  <thead>\n",
       "    <tr style=\"text-align: right;\">\n",
       "      <th></th>\n",
       "      <th>children</th>\n",
       "      <th>dob_years</th>\n",
       "      <th>education</th>\n",
       "      <th>education_id</th>\n",
       "      <th>family_status</th>\n",
       "      <th>family_status_id</th>\n",
       "      <th>gender</th>\n",
       "      <th>income_type</th>\n",
       "      <th>debt</th>\n",
       "      <th>total_income</th>\n",
       "      <th>purpose</th>\n",
       "    </tr>\n",
       "  </thead>\n",
       "  <tbody>\n",
       "    <tr>\n",
       "      <th>0</th>\n",
       "      <td>1</td>\n",
       "      <td>42</td>\n",
       "      <td>высшее</td>\n",
       "      <td>0</td>\n",
       "      <td>женат / замужем</td>\n",
       "      <td>0</td>\n",
       "      <td>F</td>\n",
       "      <td>сотрудник</td>\n",
       "      <td>0</td>\n",
       "      <td>253875.639453</td>\n",
       "      <td>покупка жилья</td>\n",
       "    </tr>\n",
       "    <tr>\n",
       "      <th>1</th>\n",
       "      <td>1</td>\n",
       "      <td>36</td>\n",
       "      <td>среднее</td>\n",
       "      <td>1</td>\n",
       "      <td>женат / замужем</td>\n",
       "      <td>0</td>\n",
       "      <td>F</td>\n",
       "      <td>сотрудник</td>\n",
       "      <td>0</td>\n",
       "      <td>112080.014102</td>\n",
       "      <td>приобретение автомобиля</td>\n",
       "    </tr>\n",
       "    <tr>\n",
       "      <th>2</th>\n",
       "      <td>0</td>\n",
       "      <td>33</td>\n",
       "      <td>Среднее</td>\n",
       "      <td>1</td>\n",
       "      <td>женат / замужем</td>\n",
       "      <td>0</td>\n",
       "      <td>M</td>\n",
       "      <td>сотрудник</td>\n",
       "      <td>0</td>\n",
       "      <td>145885.952297</td>\n",
       "      <td>покупка жилья</td>\n",
       "    </tr>\n",
       "    <tr>\n",
       "      <th>3</th>\n",
       "      <td>3</td>\n",
       "      <td>32</td>\n",
       "      <td>среднее</td>\n",
       "      <td>1</td>\n",
       "      <td>женат / замужем</td>\n",
       "      <td>0</td>\n",
       "      <td>M</td>\n",
       "      <td>сотрудник</td>\n",
       "      <td>0</td>\n",
       "      <td>267628.550329</td>\n",
       "      <td>дополнительное образование</td>\n",
       "    </tr>\n",
       "    <tr>\n",
       "      <th>4</th>\n",
       "      <td>0</td>\n",
       "      <td>53</td>\n",
       "      <td>среднее</td>\n",
       "      <td>1</td>\n",
       "      <td>гражданский брак</td>\n",
       "      <td>1</td>\n",
       "      <td>F</td>\n",
       "      <td>пенсионер</td>\n",
       "      <td>0</td>\n",
       "      <td>158616.077870</td>\n",
       "      <td>сыграть свадьбу</td>\n",
       "    </tr>\n",
       "  </tbody>\n",
       "</table>\n",
       "</div>"
      ],
      "text/plain": [
       "   children  dob_years education  education_id     family_status  \\\n",
       "0         1         42    высшее             0   женат / замужем   \n",
       "1         1         36   среднее             1   женат / замужем   \n",
       "2         0         33   Среднее             1   женат / замужем   \n",
       "3         3         32   среднее             1   женат / замужем   \n",
       "4         0         53   среднее             1  гражданский брак   \n",
       "\n",
       "   family_status_id gender income_type  debt   total_income  \\\n",
       "0                 0      F   сотрудник     0  253875.639453   \n",
       "1                 0      F   сотрудник     0  112080.014102   \n",
       "2                 0      M   сотрудник     0  145885.952297   \n",
       "3                 0      M   сотрудник     0  267628.550329   \n",
       "4                 1      F   пенсионер     0  158616.077870   \n",
       "\n",
       "                      purpose  \n",
       "0               покупка жилья  \n",
       "1     приобретение автомобиля  \n",
       "2               покупка жилья  \n",
       "3  дополнительное образование  \n",
       "4             сыграть свадьбу  "
      ]
     },
     "execution_count": 11,
     "metadata": {},
     "output_type": "execute_result"
    }
   ],
   "source": [
    "df = df.drop('days_employed', axis=1)  # удалим столбец 'days_employed'\n",
    "df.head()"
   ]
  },
  {
   "cell_type": "code",
   "execution_count": 12,
   "id": "0054e939",
   "metadata": {
    "scrolled": true
   },
   "outputs": [
    {
     "data": {
      "text/plain": [
       "47"
      ]
     },
     "execution_count": 12,
     "metadata": {},
     "output_type": "execute_result"
    }
   ],
   "source": [
    "df['children'][df['children'] < 0].count() # посмотрим число аномальных значений в столбце 'children'"
   ]
  },
  {
   "cell_type": "markdown",
   "id": "316f2674",
   "metadata": {},
   "source": [
    "Число аномалий невелико. Не имея возможности уточнить у заказчика, примем версию, что минус — ошибка ручного ввода и заменим знак в отрицательных значениях детей. "
   ]
  },
  {
   "cell_type": "code",
   "execution_count": 13,
   "id": "82799255",
   "metadata": {},
   "outputs": [],
   "source": [
    "df['children'] = df['children'].abs() # берем все значения количества детей по модулю"
   ]
  },
  {
   "cell_type": "code",
   "execution_count": 14,
   "id": "b9233986",
   "metadata": {},
   "outputs": [
    {
     "data": {
      "text/plain": [
       "count    21525.000000\n",
       "mean         0.543275\n",
       "std          1.379876\n",
       "min          0.000000\n",
       "25%          0.000000\n",
       "50%          0.000000\n",
       "75%          1.000000\n",
       "max         20.000000\n",
       "Name: children, dtype: float64"
      ]
     },
     "execution_count": 14,
     "metadata": {},
     "output_type": "execute_result"
    }
   ],
   "source": [
    "df['children'].describe() # смотрим статистические параметры столбца 'children' после замены"
   ]
  },
  {
   "cell_type": "code",
   "execution_count": 15,
   "id": "9c606fa9",
   "metadata": {},
   "outputs": [
    {
     "data": {
      "text/plain": [
       "0     14149\n",
       "1      4865\n",
       "2      2055\n",
       "3       330\n",
       "20       76\n",
       "4        41\n",
       "5         9\n",
       "Name: children, dtype: int64"
      ]
     },
     "execution_count": 15,
     "metadata": {},
     "output_type": "execute_result"
    }
   ],
   "source": [
    "df['children'].value_counts()"
   ]
  },
  {
   "cell_type": "markdown",
   "id": "7960073c",
   "metadata": {},
   "source": [
    "20 детей могут быть и усыновленными, а банк часто дает кредиты таким семьям в порядке социальной помощи. Но 76 случаев, это слишком много. Скорее всего это выброс и его стоит заменить медианой."
   ]
  },
  {
   "cell_type": "markdown",
   "id": "13aec028",
   "metadata": {},
   "source": [
    "Значение 20 в числе детей похоже на ошибку. Учитывая небольшое количество таких значений, можно заменить их медианой."
   ]
  },
  {
   "cell_type": "code",
   "execution_count": 16,
   "id": "b867b633",
   "metadata": {},
   "outputs": [],
   "source": [
    "df.loc[df['children'] == 20, 'children'] = df['children'].median() # Заменим выбросы в числе детей медианой"
   ]
  },
  {
   "cell_type": "code",
   "execution_count": 17,
   "id": "4bdd0433",
   "metadata": {},
   "outputs": [
    {
     "data": {
      "text/plain": [
       "0.0    14225\n",
       "1.0     4865\n",
       "2.0     2055\n",
       "3.0      330\n",
       "4.0       41\n",
       "5.0        9\n",
       "Name: children, dtype: int64"
      ]
     },
     "execution_count": 17,
     "metadata": {},
     "output_type": "execute_result"
    }
   ],
   "source": [
    "df['children'].value_counts() # Подсчитаем количество детей после замены"
   ]
  },
  {
   "cell_type": "markdown",
   "id": "cc331df7",
   "metadata": {},
   "source": [
    "Теперь в статистических параметрах числа детей не заметны явные аномалии."
   ]
  },
  {
   "cell_type": "code",
   "execution_count": 18,
   "id": "1118adc6",
   "metadata": {},
   "outputs": [
    {
     "data": {
      "text/plain": [
       "35    617\n",
       "40    609\n",
       "41    607\n",
       "34    603\n",
       "38    598\n",
       "42    597\n",
       "33    581\n",
       "39    573\n",
       "31    560\n",
       "36    555\n",
       "44    547\n",
       "29    545\n",
       "30    540\n",
       "48    538\n",
       "37    537\n",
       "50    514\n",
       "43    513\n",
       "32    510\n",
       "49    508\n",
       "28    503\n",
       "45    497\n",
       "27    493\n",
       "56    487\n",
       "52    484\n",
       "47    480\n",
       "54    479\n",
       "46    475\n",
       "58    461\n",
       "57    460\n",
       "53    459\n",
       "51    448\n",
       "59    444\n",
       "55    443\n",
       "26    408\n",
       "60    377\n",
       "25    357\n",
       "61    355\n",
       "62    352\n",
       "63    269\n",
       "64    265\n",
       "24    264\n",
       "23    254\n",
       "65    194\n",
       "66    183\n",
       "22    183\n",
       "67    167\n",
       "21    111\n",
       "0     101\n",
       "68     99\n",
       "69     85\n",
       "70     65\n",
       "71     58\n",
       "20     51\n",
       "72     33\n",
       "19     14\n",
       "73      8\n",
       "74      6\n",
       "75      1\n",
       "Name: dob_years, dtype: int64"
      ]
     },
     "execution_count": 18,
     "metadata": {},
     "output_type": "execute_result"
    }
   ],
   "source": [
    "df['dob_years'].value_counts() # Проверим значения столбца'dob_years'"
   ]
  },
  {
   "cell_type": "markdown",
   "id": "3f949538",
   "metadata": {},
   "source": [
    "В данных есть строки с нулевым возрастом. Очевидно ошибка. Заполним значения медианой."
   ]
  },
  {
   "cell_type": "code",
   "execution_count": 19,
   "id": "4e89347f",
   "metadata": {},
   "outputs": [],
   "source": [
    "df.loc[df['dob_years'] == 0, 'dob_years'] = df['dob_years'].median()"
   ]
  },
  {
   "cell_type": "code",
   "execution_count": 20,
   "id": "f1bae294",
   "metadata": {},
   "outputs": [
    {
     "data": {
      "text/plain": [
       "42.0    698\n",
       "35.0    617\n",
       "40.0    609\n",
       "41.0    607\n",
       "34.0    603\n",
       "38.0    598\n",
       "33.0    581\n",
       "39.0    573\n",
       "31.0    560\n",
       "36.0    555\n",
       "44.0    547\n",
       "29.0    545\n",
       "30.0    540\n",
       "48.0    538\n",
       "37.0    537\n",
       "50.0    514\n",
       "43.0    513\n",
       "32.0    510\n",
       "49.0    508\n",
       "28.0    503\n",
       "45.0    497\n",
       "27.0    493\n",
       "56.0    487\n",
       "52.0    484\n",
       "47.0    480\n",
       "54.0    479\n",
       "46.0    475\n",
       "58.0    461\n",
       "57.0    460\n",
       "53.0    459\n",
       "51.0    448\n",
       "59.0    444\n",
       "55.0    443\n",
       "26.0    408\n",
       "60.0    377\n",
       "25.0    357\n",
       "61.0    355\n",
       "62.0    352\n",
       "63.0    269\n",
       "64.0    265\n",
       "24.0    264\n",
       "23.0    254\n",
       "65.0    194\n",
       "66.0    183\n",
       "22.0    183\n",
       "67.0    167\n",
       "21.0    111\n",
       "68.0     99\n",
       "69.0     85\n",
       "70.0     65\n",
       "71.0     58\n",
       "20.0     51\n",
       "72.0     33\n",
       "19.0     14\n",
       "73.0      8\n",
       "74.0      6\n",
       "75.0      1\n",
       "Name: dob_years, dtype: int64"
      ]
     },
     "execution_count": 20,
     "metadata": {},
     "output_type": "execute_result"
    }
   ],
   "source": [
    "df['dob_years'].value_counts()"
   ]
  },
  {
   "cell_type": "markdown",
   "id": "5f3ba689",
   "metadata": {},
   "source": [
    "Аномальные значения возраста устранены."
   ]
  },
  {
   "cell_type": "markdown",
   "id": "55f00902",
   "metadata": {},
   "source": [
    "Поскольку в значениях дохода аномалий не найдено, можно заменить пропуски медианными значениями по таблице."
   ]
  },
  {
   "cell_type": "code",
   "execution_count": 21,
   "id": "51b53a1e",
   "metadata": {},
   "outputs": [
    {
     "data": {
      "text/plain": [
       "children            0\n",
       "dob_years           0\n",
       "education           0\n",
       "education_id        0\n",
       "family_status       0\n",
       "family_status_id    0\n",
       "gender              0\n",
       "income_type         0\n",
       "debt                0\n",
       "total_income        0\n",
       "purpose             0\n",
       "dtype: int64"
      ]
     },
     "execution_count": 21,
     "metadata": {},
     "output_type": "execute_result"
    }
   ],
   "source": [
    "df['total_income'] = df['total_income'].fillna(df['total_income'].median()) # заполняем пропуски столбца 'total_income' медианным значением\n",
    "df.isna().sum() # подсчёт пропусков"
   ]
  },
  {
   "cell_type": "markdown",
   "id": "514a342e",
   "metadata": {},
   "source": [
    "Пропуски устранены"
   ]
  },
  {
   "cell_type": "markdown",
   "id": "05382c20",
   "metadata": {},
   "source": [
    "### Шаг 2.3. Изменение типов данных."
   ]
  },
  {
   "cell_type": "code",
   "execution_count": 22,
   "id": "c6e69e9d",
   "metadata": {},
   "outputs": [
    {
     "name": "stdout",
     "output_type": "stream",
     "text": [
      "<class 'pandas.core.frame.DataFrame'>\n",
      "RangeIndex: 21525 entries, 0 to 21524\n",
      "Data columns (total 11 columns):\n",
      " #   Column            Non-Null Count  Dtype  \n",
      "---  ------            --------------  -----  \n",
      " 0   children          21525 non-null  float64\n",
      " 1   dob_years         21525 non-null  float64\n",
      " 2   education         21525 non-null  object \n",
      " 3   education_id      21525 non-null  int64  \n",
      " 4   family_status     21525 non-null  object \n",
      " 5   family_status_id  21525 non-null  int64  \n",
      " 6   gender            21525 non-null  object \n",
      " 7   income_type       21525 non-null  object \n",
      " 8   debt              21525 non-null  int64  \n",
      " 9   total_income      21525 non-null  float64\n",
      " 10  purpose           21525 non-null  object \n",
      "dtypes: float64(3), int64(3), object(5)\n",
      "memory usage: 1.8+ MB\n"
     ]
    }
   ],
   "source": [
    "df.info() # получение общей информации о данных в таблице df"
   ]
  },
  {
   "cell_type": "markdown",
   "id": "f4a4ed10",
   "metadata": {},
   "source": [
    "Столбец 'total_income', содержащий ежемесячный доход, имеет вещественный тип, характер данных позволяет без значительного ущерба изменить его на целочисленный. "
   ]
  },
  {
   "cell_type": "code",
   "execution_count": 23,
   "id": "3f5af20f",
   "metadata": {
    "scrolled": true
   },
   "outputs": [
    {
     "name": "stdout",
     "output_type": "stream",
     "text": [
      "<class 'pandas.core.frame.DataFrame'>\n",
      "RangeIndex: 21525 entries, 0 to 21524\n",
      "Data columns (total 11 columns):\n",
      " #   Column            Non-Null Count  Dtype  \n",
      "---  ------            --------------  -----  \n",
      " 0   children          21525 non-null  float64\n",
      " 1   dob_years         21525 non-null  float64\n",
      " 2   education         21525 non-null  object \n",
      " 3   education_id      21525 non-null  int64  \n",
      " 4   family_status     21525 non-null  object \n",
      " 5   family_status_id  21525 non-null  int64  \n",
      " 6   gender            21525 non-null  object \n",
      " 7   income_type       21525 non-null  object \n",
      " 8   debt              21525 non-null  int64  \n",
      " 9   total_income      21525 non-null  int64  \n",
      " 10  purpose           21525 non-null  object \n",
      "dtypes: float64(2), int64(4), object(5)\n",
      "memory usage: 1.8+ MB\n"
     ]
    }
   ],
   "source": [
    "try:\n",
    "    df['total_income'] = df['total_income'].astype('int') # преобразуем в целочисленный тип\n",
    "except:\n",
    "    print('Ошибка преобразования типа данных')\n",
    "df.info()"
   ]
  },
  {
   "cell_type": "markdown",
   "id": "42389ee3",
   "metadata": {},
   "source": [
    "Тип данных успешно преобразован"
   ]
  },
  {
   "cell_type": "markdown",
   "id": "a1bf871e",
   "metadata": {},
   "source": [
    "### Шаг 2.4. Удаление дубликатов."
   ]
  },
  {
   "cell_type": "code",
   "execution_count": 24,
   "id": "322413db",
   "metadata": {},
   "outputs": [
    {
     "data": {
      "text/plain": [
       "55"
      ]
     },
     "execution_count": 24,
     "metadata": {},
     "output_type": "execute_result"
    }
   ],
   "source": [
    "dupes = df.duplicated()  # ищем явные дубликаты\n",
    "dupes.sum() # смотрим количество явных дубликатов"
   ]
  },
  {
   "cell_type": "code",
   "execution_count": 25,
   "id": "417ce92f",
   "metadata": {
    "scrolled": true
   },
   "outputs": [
    {
     "data": {
      "text/html": [
       "<div>\n",
       "<style scoped>\n",
       "    .dataframe tbody tr th:only-of-type {\n",
       "        vertical-align: middle;\n",
       "    }\n",
       "\n",
       "    .dataframe tbody tr th {\n",
       "        vertical-align: top;\n",
       "    }\n",
       "\n",
       "    .dataframe thead th {\n",
       "        text-align: right;\n",
       "    }\n",
       "</style>\n",
       "<table border=\"1\" class=\"dataframe\">\n",
       "  <thead>\n",
       "    <tr style=\"text-align: right;\">\n",
       "      <th></th>\n",
       "      <th>children</th>\n",
       "      <th>dob_years</th>\n",
       "      <th>education</th>\n",
       "      <th>education_id</th>\n",
       "      <th>family_status</th>\n",
       "      <th>family_status_id</th>\n",
       "      <th>gender</th>\n",
       "      <th>income_type</th>\n",
       "      <th>debt</th>\n",
       "      <th>total_income</th>\n",
       "      <th>purpose</th>\n",
       "    </tr>\n",
       "  </thead>\n",
       "  <tbody>\n",
       "    <tr>\n",
       "      <th>10697</th>\n",
       "      <td>0.0</td>\n",
       "      <td>40.0</td>\n",
       "      <td>среднее</td>\n",
       "      <td>1</td>\n",
       "      <td>гражданский брак</td>\n",
       "      <td>1</td>\n",
       "      <td>F</td>\n",
       "      <td>компаньон</td>\n",
       "      <td>0</td>\n",
       "      <td>145017</td>\n",
       "      <td>сыграть свадьбу</td>\n",
       "    </tr>\n",
       "    <tr>\n",
       "      <th>12373</th>\n",
       "      <td>0.0</td>\n",
       "      <td>58.0</td>\n",
       "      <td>среднее</td>\n",
       "      <td>1</td>\n",
       "      <td>женат / замужем</td>\n",
       "      <td>0</td>\n",
       "      <td>M</td>\n",
       "      <td>сотрудник</td>\n",
       "      <td>0</td>\n",
       "      <td>145017</td>\n",
       "      <td>покупка недвижимости</td>\n",
       "    </tr>\n",
       "    <tr>\n",
       "      <th>8583</th>\n",
       "      <td>0.0</td>\n",
       "      <td>58.0</td>\n",
       "      <td>высшее</td>\n",
       "      <td>0</td>\n",
       "      <td>Не женат / не замужем</td>\n",
       "      <td>4</td>\n",
       "      <td>F</td>\n",
       "      <td>пенсионер</td>\n",
       "      <td>0</td>\n",
       "      <td>145017</td>\n",
       "      <td>дополнительное образование</td>\n",
       "    </tr>\n",
       "    <tr>\n",
       "      <th>20165</th>\n",
       "      <td>0.0</td>\n",
       "      <td>42.0</td>\n",
       "      <td>среднее</td>\n",
       "      <td>1</td>\n",
       "      <td>женат / замужем</td>\n",
       "      <td>0</td>\n",
       "      <td>F</td>\n",
       "      <td>сотрудник</td>\n",
       "      <td>0</td>\n",
       "      <td>145017</td>\n",
       "      <td>покупка жилья для семьи</td>\n",
       "    </tr>\n",
       "    <tr>\n",
       "      <th>14832</th>\n",
       "      <td>0.0</td>\n",
       "      <td>50.0</td>\n",
       "      <td>среднее</td>\n",
       "      <td>1</td>\n",
       "      <td>Не женат / не замужем</td>\n",
       "      <td>4</td>\n",
       "      <td>F</td>\n",
       "      <td>сотрудник</td>\n",
       "      <td>0</td>\n",
       "      <td>145017</td>\n",
       "      <td>недвижимость</td>\n",
       "    </tr>\n",
       "    <tr>\n",
       "      <th>9627</th>\n",
       "      <td>0.0</td>\n",
       "      <td>56.0</td>\n",
       "      <td>среднее</td>\n",
       "      <td>1</td>\n",
       "      <td>женат / замужем</td>\n",
       "      <td>0</td>\n",
       "      <td>F</td>\n",
       "      <td>пенсионер</td>\n",
       "      <td>0</td>\n",
       "      <td>145017</td>\n",
       "      <td>операции со своей недвижимостью</td>\n",
       "    </tr>\n",
       "    <tr>\n",
       "      <th>18755</th>\n",
       "      <td>0.0</td>\n",
       "      <td>58.0</td>\n",
       "      <td>среднее</td>\n",
       "      <td>1</td>\n",
       "      <td>женат / замужем</td>\n",
       "      <td>0</td>\n",
       "      <td>F</td>\n",
       "      <td>пенсионер</td>\n",
       "      <td>0</td>\n",
       "      <td>145017</td>\n",
       "      <td>заняться образованием</td>\n",
       "    </tr>\n",
       "    <tr>\n",
       "      <th>9528</th>\n",
       "      <td>0.0</td>\n",
       "      <td>66.0</td>\n",
       "      <td>среднее</td>\n",
       "      <td>1</td>\n",
       "      <td>вдовец / вдова</td>\n",
       "      <td>2</td>\n",
       "      <td>F</td>\n",
       "      <td>пенсионер</td>\n",
       "      <td>0</td>\n",
       "      <td>145017</td>\n",
       "      <td>операции со своей недвижимостью</td>\n",
       "    </tr>\n",
       "    <tr>\n",
       "      <th>15012</th>\n",
       "      <td>0.0</td>\n",
       "      <td>42.0</td>\n",
       "      <td>среднее</td>\n",
       "      <td>1</td>\n",
       "      <td>гражданский брак</td>\n",
       "      <td>1</td>\n",
       "      <td>F</td>\n",
       "      <td>сотрудник</td>\n",
       "      <td>0</td>\n",
       "      <td>145017</td>\n",
       "      <td>на проведение свадьбы</td>\n",
       "    </tr>\n",
       "    <tr>\n",
       "      <th>20702</th>\n",
       "      <td>0.0</td>\n",
       "      <td>64.0</td>\n",
       "      <td>среднее</td>\n",
       "      <td>1</td>\n",
       "      <td>женат / замужем</td>\n",
       "      <td>0</td>\n",
       "      <td>F</td>\n",
       "      <td>пенсионер</td>\n",
       "      <td>0</td>\n",
       "      <td>145017</td>\n",
       "      <td>дополнительное образование</td>\n",
       "    </tr>\n",
       "  </tbody>\n",
       "</table>\n",
       "</div>"
      ],
      "text/plain": [
       "       children  dob_years education  education_id          family_status  \\\n",
       "10697       0.0       40.0   среднее             1       гражданский брак   \n",
       "12373       0.0       58.0   среднее             1        женат / замужем   \n",
       "8583        0.0       58.0    высшее             0  Не женат / не замужем   \n",
       "20165       0.0       42.0   среднее             1        женат / замужем   \n",
       "14832       0.0       50.0   среднее             1  Не женат / не замужем   \n",
       "9627        0.0       56.0   среднее             1        женат / замужем   \n",
       "18755       0.0       58.0   среднее             1        женат / замужем   \n",
       "9528        0.0       66.0   среднее             1         вдовец / вдова   \n",
       "15012       0.0       42.0   среднее             1       гражданский брак   \n",
       "20702       0.0       64.0   среднее             1        женат / замужем   \n",
       "\n",
       "       family_status_id gender income_type  debt  total_income  \\\n",
       "10697                 1      F   компаньон     0        145017   \n",
       "12373                 0      M   сотрудник     0        145017   \n",
       "8583                  4      F   пенсионер     0        145017   \n",
       "20165                 0      F   сотрудник     0        145017   \n",
       "14832                 4      F   сотрудник     0        145017   \n",
       "9627                  0      F   пенсионер     0        145017   \n",
       "18755                 0      F   пенсионер     0        145017   \n",
       "9528                  2      F   пенсионер     0        145017   \n",
       "15012                 1      F   сотрудник     0        145017   \n",
       "20702                 0      F   пенсионер     0        145017   \n",
       "\n",
       "                               purpose  \n",
       "10697                  сыграть свадьбу  \n",
       "12373             покупка недвижимости  \n",
       "8583        дополнительное образование  \n",
       "20165          покупка жилья для семьи  \n",
       "14832                     недвижимость  \n",
       "9627   операции со своей недвижимостью  \n",
       "18755            заняться образованием  \n",
       "9528   операции со своей недвижимостью  \n",
       "15012            на проведение свадьбы  \n",
       "20702       дополнительное образование  "
      ]
     },
     "execution_count": 25,
     "metadata": {},
     "output_type": "execute_result"
    }
   ],
   "source": [
    "df[dupes].sample(10)  # смотрим на дубликаты"
   ]
  },
  {
   "cell_type": "markdown",
   "id": "888f388a",
   "metadata": {},
   "source": [
    "Отсутствие уникального ID клиента ставит вопрос, вызвано ли дублирование ошибкой, или у разных клиентов действительно совпадают приведенные в параметрах данные. Ухудшает ситуацию, что в выборке видно, что доход, который помог бы различить клиентов, заполнен нами медианным значением. Но, поскольку количество дубликатов невелико, и совпадение других данных (возраст, количество детей) снижает вероятность того, что это разные клиенты, удалим повторяющиеся строки."
   ]
  },
  {
   "cell_type": "code",
   "execution_count": 26,
   "id": "b5751e2c",
   "metadata": {},
   "outputs": [
    {
     "data": {
      "text/plain": [
       "(21470, 11)"
      ]
     },
     "execution_count": 26,
     "metadata": {},
     "output_type": "execute_result"
    }
   ],
   "source": [
    "df = df.drop_duplicates().reset_index(drop=True) # удаляем повторяющиеся строки\n",
    "df.shape # смотрим сколько строк в таблице после удаления"
   ]
  },
  {
   "cell_type": "markdown",
   "id": "edc77f39",
   "metadata": {},
   "source": [
    "Найдем неявные дубликаты"
   ]
  },
  {
   "cell_type": "code",
   "execution_count": 27,
   "id": "67b7182f",
   "metadata": {
    "scrolled": true
   },
   "outputs": [
    {
     "data": {
      "text/plain": [
       "среднее                13704\n",
       "высшее                  4710\n",
       "СРЕДНЕЕ                  772\n",
       "Среднее                  711\n",
       "неоконченное высшее      668\n",
       "ВЫСШЕЕ                   273\n",
       "Высшее                   268\n",
       "начальное                250\n",
       "Неоконченное высшее       47\n",
       "НЕОКОНЧЕННОЕ ВЫСШЕЕ       29\n",
       "НАЧАЛЬНОЕ                 17\n",
       "Начальное                 15\n",
       "ученая степень             4\n",
       "УЧЕНАЯ СТЕПЕНЬ             1\n",
       "Ученая степень             1\n",
       "Name: education, dtype: int64"
      ]
     },
     "execution_count": 27,
     "metadata": {},
     "output_type": "execute_result"
    }
   ],
   "source": [
    "df['education'].value_counts() # смотрим все варианты значений в столбце 'education'"
   ]
  },
  {
   "cell_type": "markdown",
   "id": "c7608c1e",
   "metadata": {},
   "source": [
    "Есть совпадающие категории, которые могут быть унифицированы изменением регистра."
   ]
  },
  {
   "cell_type": "code",
   "execution_count": 28,
   "id": "e41f56de",
   "metadata": {},
   "outputs": [
    {
     "data": {
      "text/plain": [
       "среднее                15187\n",
       "высшее                  5251\n",
       "неоконченное высшее      744\n",
       "начальное                282\n",
       "ученая степень             6\n",
       "Name: education, dtype: int64"
      ]
     },
     "execution_count": 28,
     "metadata": {},
     "output_type": "execute_result"
    }
   ],
   "source": [
    "df['education']=df['education'].str.lower() # делаем все категории в столбце 'education' small case\n",
    "df['education'].value_counts() # смотрим все варианты значений в столбце 'education'"
   ]
  },
  {
   "cell_type": "markdown",
   "id": "882eb972",
   "metadata": {},
   "source": [
    "Неявные дубликаты в столбце 'education' устранены"
   ]
  },
  {
   "cell_type": "code",
   "execution_count": 29,
   "id": "0d259b61",
   "metadata": {},
   "outputs": [
    {
     "data": {
      "text/plain": [
       "женат / замужем          12344\n",
       "гражданский брак          4162\n",
       "Не женат / не замужем     2810\n",
       "в разводе                 1195\n",
       "вдовец / вдова             959\n",
       "Name: family_status, dtype: int64"
      ]
     },
     "execution_count": 29,
     "metadata": {},
     "output_type": "execute_result"
    }
   ],
   "source": [
    "df['family_status'].value_counts() # смотрим все варианты значений в столбце 'family_status'"
   ]
  },
  {
   "cell_type": "markdown",
   "id": "21f29dda",
   "metadata": {},
   "source": [
    "Дубликатов нет"
   ]
  },
  {
   "cell_type": "code",
   "execution_count": 30,
   "id": "5cab9c25",
   "metadata": {},
   "outputs": [
    {
     "data": {
      "text/plain": [
       "сотрудник          11090\n",
       "компаньон           5080\n",
       "пенсионер           3837\n",
       "госслужащий         1457\n",
       "безработный            2\n",
       "предприниматель        2\n",
       "студент                1\n",
       "в декрете              1\n",
       "Name: income_type, dtype: int64"
      ]
     },
     "execution_count": 30,
     "metadata": {},
     "output_type": "execute_result"
    }
   ],
   "source": [
    "df['income_type'].value_counts() # смотрим все варианты значений в столбце 'income_type'"
   ]
  },
  {
   "cell_type": "markdown",
   "id": "d5d79d04",
   "metadata": {},
   "source": [
    "Дубликатов нет"
   ]
  },
  {
   "cell_type": "code",
   "execution_count": 31,
   "id": "575cd93b",
   "metadata": {},
   "outputs": [
    {
     "data": {
      "text/plain": [
       "свадьба                                   793\n",
       "на проведение свадьбы                     772\n",
       "сыграть свадьбу                           769\n",
       "операции с недвижимостью                  675\n",
       "покупка коммерческой недвижимости         662\n",
       "операции с жильем                         652\n",
       "покупка жилья для сдачи                   652\n",
       "операции с коммерческой недвижимостью     650\n",
       "жилье                                     646\n",
       "покупка жилья                             646\n",
       "покупка жилья для семьи                   638\n",
       "строительство собственной недвижимости    635\n",
       "недвижимость                              633\n",
       "операции со своей недвижимостью           627\n",
       "строительство жилой недвижимости          625\n",
       "покупка недвижимости                      621\n",
       "покупка своего жилья                      620\n",
       "строительство недвижимости                619\n",
       "ремонт жилью                              607\n",
       "покупка жилой недвижимости                606\n",
       "на покупку своего автомобиля              505\n",
       "заняться высшим образованием              496\n",
       "автомобиль                                494\n",
       "сделка с подержанным автомобилем          486\n",
       "свой автомобиль                           479\n",
       "на покупку подержанного автомобиля        478\n",
       "автомобили                                478\n",
       "на покупку автомобиля                     472\n",
       "приобретение автомобиля                   461\n",
       "дополнительное образование                460\n",
       "сделка с автомобилем                      455\n",
       "высшее образование                        452\n",
       "образование                               447\n",
       "получение дополнительного образования     447\n",
       "получение образования                     442\n",
       "профильное образование                    436\n",
       "получение высшего образования             426\n",
       "заняться образованием                     408\n",
       "Name: purpose, dtype: int64"
      ]
     },
     "execution_count": 31,
     "metadata": {},
     "output_type": "execute_result"
    }
   ],
   "source": [
    "df['purpose'].value_counts() # смотрим все варианты значений в столбце 'purpose'"
   ]
  },
  {
   "cell_type": "markdown",
   "id": "8f543229",
   "metadata": {},
   "source": [
    "Похоже, что есть дубликаты, например варианты со свадьбой. Лучше уточнить у заказчика, но, в отсутствии такой возможности, попробуем устранить самые очевидные дубликаты."
   ]
  },
  {
   "cell_type": "code",
   "execution_count": 32,
   "id": "d6fff105",
   "metadata": {},
   "outputs": [],
   "source": [
    "def replace_dupes(dupes, replacement): # Функция для замены неявных дубликатов\n",
    "    for dupe in dupes:\n",
    "        df['purpose'] = df['purpose'].replace(dupe, replacement)"
   ]
  },
  {
   "cell_type": "code",
   "execution_count": 33,
   "id": "1efe3a6e",
   "metadata": {},
   "outputs": [],
   "source": [
    "replace_dupes(['свадьба', 'сыграть свадьбу'],'на проведение свадьбы') # заменяем синонимы\n",
    "replace_dupes(['заняться образованием', 'образование'],'получение образования')\n",
    "replace_dupes(['заняться высшим образованием', 'высшее образование'],'получение высшего образования')\n",
    "replace_dupes(['автомобиль', 'автомобили', 'свой автомобиль', 'приобретение автомобиля', 'на покупку своего автомобиля'],'на покупку автомобиля')\n",
    "replace_dupes(['покупка своего жилья', 'покупка жилья для семьи', 'жилье'],'покупка жилья')"
   ]
  },
  {
   "cell_type": "code",
   "execution_count": 34,
   "id": "6a065033",
   "metadata": {},
   "outputs": [
    {
     "data": {
      "text/plain": [
       "на покупку автомобиля                     2889\n",
       "покупка жилья                             2550\n",
       "на проведение свадьбы                     2334\n",
       "получение высшего образования             1374\n",
       "получение образования                     1297\n",
       "операции с недвижимостью                   675\n",
       "покупка коммерческой недвижимости          662\n",
       "операции с жильем                          652\n",
       "покупка жилья для сдачи                    652\n",
       "операции с коммерческой недвижимостью      650\n",
       "строительство собственной недвижимости     635\n",
       "недвижимость                               633\n",
       "операции со своей недвижимостью            627\n",
       "строительство жилой недвижимости           625\n",
       "покупка недвижимости                       621\n",
       "строительство недвижимости                 619\n",
       "ремонт жилью                               607\n",
       "покупка жилой недвижимости                 606\n",
       "сделка с подержанным автомобилем           486\n",
       "на покупку подержанного автомобиля         478\n",
       "дополнительное образование                 460\n",
       "сделка с автомобилем                       455\n",
       "получение дополнительного образования      447\n",
       "профильное образование                     436\n",
       "Name: purpose, dtype: int64"
      ]
     },
     "execution_count": 34,
     "metadata": {},
     "output_type": "execute_result"
    }
   ],
   "source": [
    "df['purpose'].value_counts() # смотрим все варианты значений в столбце 'purpose'"
   ]
  },
  {
   "cell_type": "markdown",
   "id": "e0a4d291",
   "metadata": {},
   "source": [
    "Число категорий сокращено. Дальнейшее сокращение, может привести к утрате важной информации."
   ]
  },
  {
   "cell_type": "markdown",
   "id": "da209bf0",
   "metadata": {},
   "source": [
    "В результате явные дубликаты найдены и удалены методами <CODE>.duplicated() .drop_duplicates()</CODE>, как самым простым способом.<BR>\n",
    "Неявные дубликаты искались визуально, по спискам <CODE>.value_counts()</CODE>, так как такого качества обработки достаточно для решения задачи.<BR>\n",
    "Появление явных дубликатов возможно вызвано технической ошибкой.<BR>\n",
    "Появление неявных дубликтов возможно вызвано человеческим фактором. Скорее всего данные вводились вручную и получались из разных источников."
   ]
  },
  {
   "cell_type": "markdown",
   "id": "1de38249",
   "metadata": {},
   "source": [
    "### Шаг 2.5. Формирование дополнительных датафреймов словарей, декомпозиция исходного датафрейма."
   ]
  },
  {
   "cell_type": "markdown",
   "id": "8ec4b2d0",
   "metadata": {},
   "source": [
    "Создадим два новых датафрейма, в которых:\n",
    "* каждому уникальному значению из education соответствует уникальное значение education_id — в первом;\n",
    "* каждому уникальному значению из family_status соответствует уникальное значение family_status_id — во втором."
   ]
  },
  {
   "cell_type": "code",
   "execution_count": 38,
   "id": "dc8d27f4",
   "metadata": {},
   "outputs": [
    {
     "name": "stdout",
     "output_type": "stream",
     "text": [
      "             education  education_id\n",
      "0               высшее             0\n",
      "1              среднее             1\n",
      "2  неоконченное высшее             2\n",
      "3            начальное             3\n",
      "4       ученая степень             4\n"
     ]
    }
   ],
   "source": [
    "education_dict = df[['education','education_id']] # скопируем столбцы 'education','education_id' и удалим дубликаты\n",
    "education_dict = education_dict.drop_duplicates().reset_index(drop=True)\n",
    "print(education_dict) # для создания словаря education_dict"
   ]
  },
  {
   "cell_type": "code",
   "execution_count": 39,
   "id": "205aee3d",
   "metadata": {},
   "outputs": [
    {
     "name": "stdout",
     "output_type": "stream",
     "text": [
      "           family_status  family_status_id\n",
      "0        женат / замужем                 0\n",
      "1       гражданский брак                 1\n",
      "2         вдовец / вдова                 2\n",
      "3              в разводе                 3\n",
      "4  Не женат / не замужем                 4\n"
     ]
    }
   ],
   "source": [
    "family_dict = df[['family_status', 'family_status_id']] # скопируем столбцы 'family_status', 'family_status_id' и удалим дубликаты\n",
    "family_dict = family_dict.drop_duplicates().reset_index(drop=True)\n",
    "print(family_dict) # для создания словаря family_dict"
   ]
  },
  {
   "cell_type": "code",
   "execution_count": 40,
   "id": "d1c56c13",
   "metadata": {},
   "outputs": [
    {
     "data": {
      "text/html": [
       "<div>\n",
       "<style scoped>\n",
       "    .dataframe tbody tr th:only-of-type {\n",
       "        vertical-align: middle;\n",
       "    }\n",
       "\n",
       "    .dataframe tbody tr th {\n",
       "        vertical-align: top;\n",
       "    }\n",
       "\n",
       "    .dataframe thead th {\n",
       "        text-align: right;\n",
       "    }\n",
       "</style>\n",
       "<table border=\"1\" class=\"dataframe\">\n",
       "  <thead>\n",
       "    <tr style=\"text-align: right;\">\n",
       "      <th></th>\n",
       "      <th>children</th>\n",
       "      <th>dob_years</th>\n",
       "      <th>education_id</th>\n",
       "      <th>family_status_id</th>\n",
       "      <th>gender</th>\n",
       "      <th>income_type</th>\n",
       "      <th>debt</th>\n",
       "      <th>total_income</th>\n",
       "      <th>purpose</th>\n",
       "    </tr>\n",
       "  </thead>\n",
       "  <tbody>\n",
       "    <tr>\n",
       "      <th>0</th>\n",
       "      <td>1.0</td>\n",
       "      <td>42.0</td>\n",
       "      <td>0</td>\n",
       "      <td>0</td>\n",
       "      <td>F</td>\n",
       "      <td>сотрудник</td>\n",
       "      <td>0</td>\n",
       "      <td>253875</td>\n",
       "      <td>покупка жилья</td>\n",
       "    </tr>\n",
       "    <tr>\n",
       "      <th>1</th>\n",
       "      <td>1.0</td>\n",
       "      <td>36.0</td>\n",
       "      <td>1</td>\n",
       "      <td>0</td>\n",
       "      <td>F</td>\n",
       "      <td>сотрудник</td>\n",
       "      <td>0</td>\n",
       "      <td>112080</td>\n",
       "      <td>на покупку автомобиля</td>\n",
       "    </tr>\n",
       "    <tr>\n",
       "      <th>2</th>\n",
       "      <td>0.0</td>\n",
       "      <td>33.0</td>\n",
       "      <td>1</td>\n",
       "      <td>0</td>\n",
       "      <td>M</td>\n",
       "      <td>сотрудник</td>\n",
       "      <td>0</td>\n",
       "      <td>145885</td>\n",
       "      <td>покупка жилья</td>\n",
       "    </tr>\n",
       "    <tr>\n",
       "      <th>3</th>\n",
       "      <td>3.0</td>\n",
       "      <td>32.0</td>\n",
       "      <td>1</td>\n",
       "      <td>0</td>\n",
       "      <td>M</td>\n",
       "      <td>сотрудник</td>\n",
       "      <td>0</td>\n",
       "      <td>267628</td>\n",
       "      <td>дополнительное образование</td>\n",
       "    </tr>\n",
       "    <tr>\n",
       "      <th>4</th>\n",
       "      <td>0.0</td>\n",
       "      <td>53.0</td>\n",
       "      <td>1</td>\n",
       "      <td>1</td>\n",
       "      <td>F</td>\n",
       "      <td>пенсионер</td>\n",
       "      <td>0</td>\n",
       "      <td>158616</td>\n",
       "      <td>на проведение свадьбы</td>\n",
       "    </tr>\n",
       "  </tbody>\n",
       "</table>\n",
       "</div>"
      ],
      "text/plain": [
       "   children  dob_years  education_id  family_status_id gender income_type  \\\n",
       "0       1.0       42.0             0                 0      F   сотрудник   \n",
       "1       1.0       36.0             1                 0      F   сотрудник   \n",
       "2       0.0       33.0             1                 0      M   сотрудник   \n",
       "3       3.0       32.0             1                 0      M   сотрудник   \n",
       "4       0.0       53.0             1                 1      F   пенсионер   \n",
       "\n",
       "   debt  total_income                     purpose  \n",
       "0     0        253875               покупка жилья  \n",
       "1     0        112080       на покупку автомобиля  \n",
       "2     0        145885               покупка жилья  \n",
       "3     0        267628  дополнительное образование  \n",
       "4     0        158616       на проведение свадьбы  "
      ]
     },
     "execution_count": 40,
     "metadata": {},
     "output_type": "execute_result"
    }
   ],
   "source": [
    "df = df.drop(['education', 'family_status'], axis=1) # удалим столбцы education и family_status, оставив только их идентификаторы\n",
    "df.head(5)"
   ]
  },
  {
   "cell_type": "markdown",
   "id": "b0a591e9",
   "metadata": {},
   "source": [
    "### Шаг 2.6. Категоризация дохода."
   ]
  },
  {
   "cell_type": "markdown",
   "id": "9aa4f8ea",
   "metadata": {},
   "source": [
    "На основании диапазонов, указанных ниже, создадим столбец total_income_category с категориями:\n",
    "* 0–30000 — 'E';\n",
    "* 30001–50000 — 'D';\n",
    "* 50001–200000 — 'C';\n",
    "* 200001–1000000 — 'B';\n",
    "* 1000001 и выше — 'A'."
   ]
  },
  {
   "cell_type": "code",
   "execution_count": 41,
   "id": "d76ed30e",
   "metadata": {},
   "outputs": [],
   "source": [
    "def income_category(income): # Возвращает категорию дохода, используя правила приведенные выше\n",
    "\n",
    "    if income <= 30000:\n",
    "        return 'E'\n",
    "    if income <= 50000:\n",
    "        return 'D'\n",
    "    if income <= 200000:\n",
    "        return 'C'\n",
    "    if income <= 1000000:\n",
    "        return 'B'\n",
    "    return 'A' "
   ]
  },
  {
   "cell_type": "code",
   "execution_count": 42,
   "id": "ae2bed89",
   "metadata": {},
   "outputs": [
    {
     "data": {
      "text/html": [
       "<div>\n",
       "<style scoped>\n",
       "    .dataframe tbody tr th:only-of-type {\n",
       "        vertical-align: middle;\n",
       "    }\n",
       "\n",
       "    .dataframe tbody tr th {\n",
       "        vertical-align: top;\n",
       "    }\n",
       "\n",
       "    .dataframe thead th {\n",
       "        text-align: right;\n",
       "    }\n",
       "</style>\n",
       "<table border=\"1\" class=\"dataframe\">\n",
       "  <thead>\n",
       "    <tr style=\"text-align: right;\">\n",
       "      <th></th>\n",
       "      <th>children</th>\n",
       "      <th>dob_years</th>\n",
       "      <th>education_id</th>\n",
       "      <th>family_status_id</th>\n",
       "      <th>gender</th>\n",
       "      <th>income_type</th>\n",
       "      <th>debt</th>\n",
       "      <th>total_income</th>\n",
       "      <th>purpose</th>\n",
       "      <th>total_income_category</th>\n",
       "    </tr>\n",
       "  </thead>\n",
       "  <tbody>\n",
       "    <tr>\n",
       "      <th>9881</th>\n",
       "      <td>2.0</td>\n",
       "      <td>46.0</td>\n",
       "      <td>1</td>\n",
       "      <td>0</td>\n",
       "      <td>M</td>\n",
       "      <td>сотрудник</td>\n",
       "      <td>0</td>\n",
       "      <td>482919</td>\n",
       "      <td>операции со своей недвижимостью</td>\n",
       "      <td>B</td>\n",
       "    </tr>\n",
       "    <tr>\n",
       "      <th>19277</th>\n",
       "      <td>0.0</td>\n",
       "      <td>49.0</td>\n",
       "      <td>1</td>\n",
       "      <td>0</td>\n",
       "      <td>M</td>\n",
       "      <td>сотрудник</td>\n",
       "      <td>0</td>\n",
       "      <td>145017</td>\n",
       "      <td>строительство недвижимости</td>\n",
       "      <td>C</td>\n",
       "    </tr>\n",
       "    <tr>\n",
       "      <th>13072</th>\n",
       "      <td>1.0</td>\n",
       "      <td>54.0</td>\n",
       "      <td>0</td>\n",
       "      <td>3</td>\n",
       "      <td>F</td>\n",
       "      <td>компаньон</td>\n",
       "      <td>0</td>\n",
       "      <td>1128836</td>\n",
       "      <td>операции с недвижимостью</td>\n",
       "      <td>A</td>\n",
       "    </tr>\n",
       "    <tr>\n",
       "      <th>3909</th>\n",
       "      <td>0.0</td>\n",
       "      <td>47.0</td>\n",
       "      <td>0</td>\n",
       "      <td>0</td>\n",
       "      <td>M</td>\n",
       "      <td>сотрудник</td>\n",
       "      <td>0</td>\n",
       "      <td>101595</td>\n",
       "      <td>сделка с автомобилем</td>\n",
       "      <td>C</td>\n",
       "    </tr>\n",
       "    <tr>\n",
       "      <th>2637</th>\n",
       "      <td>1.0</td>\n",
       "      <td>39.0</td>\n",
       "      <td>1</td>\n",
       "      <td>0</td>\n",
       "      <td>M</td>\n",
       "      <td>сотрудник</td>\n",
       "      <td>0</td>\n",
       "      <td>162405</td>\n",
       "      <td>покупка жилья</td>\n",
       "      <td>C</td>\n",
       "    </tr>\n",
       "    <tr>\n",
       "      <th>412</th>\n",
       "      <td>2.0</td>\n",
       "      <td>40.0</td>\n",
       "      <td>1</td>\n",
       "      <td>1</td>\n",
       "      <td>F</td>\n",
       "      <td>компаньон</td>\n",
       "      <td>0</td>\n",
       "      <td>91603</td>\n",
       "      <td>на проведение свадьбы</td>\n",
       "      <td>C</td>\n",
       "    </tr>\n",
       "    <tr>\n",
       "      <th>14559</th>\n",
       "      <td>0.0</td>\n",
       "      <td>67.0</td>\n",
       "      <td>1</td>\n",
       "      <td>0</td>\n",
       "      <td>M</td>\n",
       "      <td>пенсионер</td>\n",
       "      <td>0</td>\n",
       "      <td>296644</td>\n",
       "      <td>на покупку автомобиля</td>\n",
       "      <td>B</td>\n",
       "    </tr>\n",
       "    <tr>\n",
       "      <th>10743</th>\n",
       "      <td>0.0</td>\n",
       "      <td>47.0</td>\n",
       "      <td>1</td>\n",
       "      <td>0</td>\n",
       "      <td>F</td>\n",
       "      <td>сотрудник</td>\n",
       "      <td>0</td>\n",
       "      <td>85596</td>\n",
       "      <td>операции с коммерческой недвижимостью</td>\n",
       "      <td>C</td>\n",
       "    </tr>\n",
       "    <tr>\n",
       "      <th>1161</th>\n",
       "      <td>1.0</td>\n",
       "      <td>36.0</td>\n",
       "      <td>0</td>\n",
       "      <td>0</td>\n",
       "      <td>F</td>\n",
       "      <td>сотрудник</td>\n",
       "      <td>0</td>\n",
       "      <td>203866</td>\n",
       "      <td>дополнительное образование</td>\n",
       "      <td>B</td>\n",
       "    </tr>\n",
       "    <tr>\n",
       "      <th>1714</th>\n",
       "      <td>0.0</td>\n",
       "      <td>32.0</td>\n",
       "      <td>2</td>\n",
       "      <td>0</td>\n",
       "      <td>F</td>\n",
       "      <td>компаньон</td>\n",
       "      <td>0</td>\n",
       "      <td>140898</td>\n",
       "      <td>получение высшего образования</td>\n",
       "      <td>C</td>\n",
       "    </tr>\n",
       "  </tbody>\n",
       "</table>\n",
       "</div>"
      ],
      "text/plain": [
       "       children  dob_years  education_id  family_status_id gender income_type  \\\n",
       "9881        2.0       46.0             1                 0      M   сотрудник   \n",
       "19277       0.0       49.0             1                 0      M   сотрудник   \n",
       "13072       1.0       54.0             0                 3      F   компаньон   \n",
       "3909        0.0       47.0             0                 0      M   сотрудник   \n",
       "2637        1.0       39.0             1                 0      M   сотрудник   \n",
       "412         2.0       40.0             1                 1      F   компаньон   \n",
       "14559       0.0       67.0             1                 0      M   пенсионер   \n",
       "10743       0.0       47.0             1                 0      F   сотрудник   \n",
       "1161        1.0       36.0             0                 0      F   сотрудник   \n",
       "1714        0.0       32.0             2                 0      F   компаньон   \n",
       "\n",
       "       debt  total_income                                purpose  \\\n",
       "9881      0        482919        операции со своей недвижимостью   \n",
       "19277     0        145017             строительство недвижимости   \n",
       "13072     0       1128836               операции с недвижимостью   \n",
       "3909      0        101595                   сделка с автомобилем   \n",
       "2637      0        162405                          покупка жилья   \n",
       "412       0         91603                  на проведение свадьбы   \n",
       "14559     0        296644                  на покупку автомобиля   \n",
       "10743     0         85596  операции с коммерческой недвижимостью   \n",
       "1161      0        203866             дополнительное образование   \n",
       "1714      0        140898          получение высшего образования   \n",
       "\n",
       "      total_income_category  \n",
       "9881                      B  \n",
       "19277                     C  \n",
       "13072                     A  \n",
       "3909                      C  \n",
       "2637                      C  \n",
       "412                       C  \n",
       "14559                     B  \n",
       "10743                     C  \n",
       "1161                      B  \n",
       "1714                      C  "
      ]
     },
     "execution_count": 42,
     "metadata": {},
     "output_type": "execute_result"
    }
   ],
   "source": [
    "df['total_income_category'] = df['total_income'].apply(income_category) #создадим столбец с категориями по доходу\n",
    "df.sample(10)"
   ]
  },
  {
   "cell_type": "markdown",
   "id": "c0de1792",
   "metadata": {},
   "source": [
    "### Шаг 2.7. Категоризация целей кредита."
   ]
  },
  {
   "cell_type": "markdown",
   "id": "8828ff43",
   "metadata": {},
   "source": [
    "На основании данных из столбца purpose сформируем новый столбец purpose_category, в который войдут следующие категории:\n",
    "* 'операции с автомобилем',\n",
    "*  'операции с недвижимостью',\n",
    "*  'проведение свадьбы',\n",
    "*  'получение образования'."
   ]
  },
  {
   "cell_type": "code",
   "execution_count": 43,
   "id": "5c441c6d",
   "metadata": {},
   "outputs": [
    {
     "data": {
      "text/plain": [
       "на покупку автомобиля                     2889\n",
       "покупка жилья                             2550\n",
       "на проведение свадьбы                     2334\n",
       "получение высшего образования             1374\n",
       "получение образования                     1297\n",
       "операции с недвижимостью                   675\n",
       "покупка коммерческой недвижимости          662\n",
       "операции с жильем                          652\n",
       "покупка жилья для сдачи                    652\n",
       "операции с коммерческой недвижимостью      650\n",
       "строительство собственной недвижимости     635\n",
       "недвижимость                               633\n",
       "операции со своей недвижимостью            627\n",
       "строительство жилой недвижимости           625\n",
       "покупка недвижимости                       621\n",
       "строительство недвижимости                 619\n",
       "ремонт жилью                               607\n",
       "покупка жилой недвижимости                 606\n",
       "сделка с подержанным автомобилем           486\n",
       "на покупку подержанного автомобиля         478\n",
       "дополнительное образование                 460\n",
       "сделка с автомобилем                       455\n",
       "получение дополнительного образования      447\n",
       "профильное образование                     436\n",
       "Name: purpose, dtype: int64"
      ]
     },
     "execution_count": 43,
     "metadata": {},
     "output_type": "execute_result"
    }
   ],
   "source": [
    "df['purpose'].value_counts() # смотрим возможные значения целей"
   ]
  },
  {
   "cell_type": "code",
   "execution_count": 44,
   "id": "e8dd0405",
   "metadata": {},
   "outputs": [],
   "source": [
    "def purpose_category(purpose): # Возвращает категорию дохода, используя правила приведенные выше\n",
    "\n",
    "    if 'автом' in purpose:\n",
    "        return 'операции с автомобилем'\n",
    "    if ('жил' in purpose) or ('недви' in purpose):\n",
    "        return 'операции с недвижимостью'\n",
    "    if 'свад' in purpose:\n",
    "        return 'проведение свадьбы'\n",
    "    if 'образ' in purpose:\n",
    "        return 'получение образования'"
   ]
  },
  {
   "cell_type": "code",
   "execution_count": 45,
   "id": "08051f63",
   "metadata": {},
   "outputs": [
    {
     "data": {
      "text/html": [
       "<div>\n",
       "<style scoped>\n",
       "    .dataframe tbody tr th:only-of-type {\n",
       "        vertical-align: middle;\n",
       "    }\n",
       "\n",
       "    .dataframe tbody tr th {\n",
       "        vertical-align: top;\n",
       "    }\n",
       "\n",
       "    .dataframe thead th {\n",
       "        text-align: right;\n",
       "    }\n",
       "</style>\n",
       "<table border=\"1\" class=\"dataframe\">\n",
       "  <thead>\n",
       "    <tr style=\"text-align: right;\">\n",
       "      <th></th>\n",
       "      <th>children</th>\n",
       "      <th>dob_years</th>\n",
       "      <th>education_id</th>\n",
       "      <th>family_status_id</th>\n",
       "      <th>gender</th>\n",
       "      <th>income_type</th>\n",
       "      <th>debt</th>\n",
       "      <th>total_income</th>\n",
       "      <th>purpose</th>\n",
       "      <th>total_income_category</th>\n",
       "      <th>purpose_category</th>\n",
       "    </tr>\n",
       "  </thead>\n",
       "  <tbody>\n",
       "    <tr>\n",
       "      <th>7906</th>\n",
       "      <td>1.0</td>\n",
       "      <td>64.0</td>\n",
       "      <td>1</td>\n",
       "      <td>1</td>\n",
       "      <td>M</td>\n",
       "      <td>пенсионер</td>\n",
       "      <td>0</td>\n",
       "      <td>79422</td>\n",
       "      <td>на проведение свадьбы</td>\n",
       "      <td>C</td>\n",
       "      <td>проведение свадьбы</td>\n",
       "    </tr>\n",
       "    <tr>\n",
       "      <th>18128</th>\n",
       "      <td>0.0</td>\n",
       "      <td>61.0</td>\n",
       "      <td>1</td>\n",
       "      <td>0</td>\n",
       "      <td>F</td>\n",
       "      <td>пенсионер</td>\n",
       "      <td>0</td>\n",
       "      <td>91889</td>\n",
       "      <td>недвижимость</td>\n",
       "      <td>C</td>\n",
       "      <td>операции с недвижимостью</td>\n",
       "    </tr>\n",
       "    <tr>\n",
       "      <th>11022</th>\n",
       "      <td>0.0</td>\n",
       "      <td>70.0</td>\n",
       "      <td>1</td>\n",
       "      <td>0</td>\n",
       "      <td>F</td>\n",
       "      <td>пенсионер</td>\n",
       "      <td>0</td>\n",
       "      <td>86417</td>\n",
       "      <td>получение высшего образования</td>\n",
       "      <td>C</td>\n",
       "      <td>получение образования</td>\n",
       "    </tr>\n",
       "    <tr>\n",
       "      <th>18447</th>\n",
       "      <td>0.0</td>\n",
       "      <td>47.0</td>\n",
       "      <td>0</td>\n",
       "      <td>2</td>\n",
       "      <td>F</td>\n",
       "      <td>госслужащий</td>\n",
       "      <td>0</td>\n",
       "      <td>253503</td>\n",
       "      <td>получение образования</td>\n",
       "      <td>B</td>\n",
       "      <td>получение образования</td>\n",
       "    </tr>\n",
       "    <tr>\n",
       "      <th>18894</th>\n",
       "      <td>0.0</td>\n",
       "      <td>57.0</td>\n",
       "      <td>1</td>\n",
       "      <td>4</td>\n",
       "      <td>F</td>\n",
       "      <td>сотрудник</td>\n",
       "      <td>0</td>\n",
       "      <td>120191</td>\n",
       "      <td>получение образования</td>\n",
       "      <td>C</td>\n",
       "      <td>получение образования</td>\n",
       "    </tr>\n",
       "    <tr>\n",
       "      <th>8861</th>\n",
       "      <td>2.0</td>\n",
       "      <td>48.0</td>\n",
       "      <td>1</td>\n",
       "      <td>0</td>\n",
       "      <td>M</td>\n",
       "      <td>сотрудник</td>\n",
       "      <td>0</td>\n",
       "      <td>84510</td>\n",
       "      <td>получение образования</td>\n",
       "      <td>C</td>\n",
       "      <td>получение образования</td>\n",
       "    </tr>\n",
       "    <tr>\n",
       "      <th>14047</th>\n",
       "      <td>1.0</td>\n",
       "      <td>36.0</td>\n",
       "      <td>1</td>\n",
       "      <td>0</td>\n",
       "      <td>F</td>\n",
       "      <td>сотрудник</td>\n",
       "      <td>0</td>\n",
       "      <td>145017</td>\n",
       "      <td>получение высшего образования</td>\n",
       "      <td>C</td>\n",
       "      <td>получение образования</td>\n",
       "    </tr>\n",
       "    <tr>\n",
       "      <th>17105</th>\n",
       "      <td>1.0</td>\n",
       "      <td>50.0</td>\n",
       "      <td>0</td>\n",
       "      <td>0</td>\n",
       "      <td>M</td>\n",
       "      <td>сотрудник</td>\n",
       "      <td>0</td>\n",
       "      <td>215290</td>\n",
       "      <td>операции с коммерческой недвижимостью</td>\n",
       "      <td>B</td>\n",
       "      <td>операции с недвижимостью</td>\n",
       "    </tr>\n",
       "    <tr>\n",
       "      <th>3809</th>\n",
       "      <td>0.0</td>\n",
       "      <td>44.0</td>\n",
       "      <td>1</td>\n",
       "      <td>0</td>\n",
       "      <td>M</td>\n",
       "      <td>сотрудник</td>\n",
       "      <td>0</td>\n",
       "      <td>191219</td>\n",
       "      <td>операции с недвижимостью</td>\n",
       "      <td>C</td>\n",
       "      <td>операции с недвижимостью</td>\n",
       "    </tr>\n",
       "    <tr>\n",
       "      <th>11372</th>\n",
       "      <td>1.0</td>\n",
       "      <td>54.0</td>\n",
       "      <td>0</td>\n",
       "      <td>3</td>\n",
       "      <td>F</td>\n",
       "      <td>компаньон</td>\n",
       "      <td>0</td>\n",
       "      <td>239183</td>\n",
       "      <td>покупка жилья</td>\n",
       "      <td>B</td>\n",
       "      <td>операции с недвижимостью</td>\n",
       "    </tr>\n",
       "  </tbody>\n",
       "</table>\n",
       "</div>"
      ],
      "text/plain": [
       "       children  dob_years  education_id  family_status_id gender  \\\n",
       "7906        1.0       64.0             1                 1      M   \n",
       "18128       0.0       61.0             1                 0      F   \n",
       "11022       0.0       70.0             1                 0      F   \n",
       "18447       0.0       47.0             0                 2      F   \n",
       "18894       0.0       57.0             1                 4      F   \n",
       "8861        2.0       48.0             1                 0      M   \n",
       "14047       1.0       36.0             1                 0      F   \n",
       "17105       1.0       50.0             0                 0      M   \n",
       "3809        0.0       44.0             1                 0      M   \n",
       "11372       1.0       54.0             0                 3      F   \n",
       "\n",
       "       income_type  debt  total_income                                purpose  \\\n",
       "7906     пенсионер     0         79422                  на проведение свадьбы   \n",
       "18128    пенсионер     0         91889                           недвижимость   \n",
       "11022    пенсионер     0         86417          получение высшего образования   \n",
       "18447  госслужащий     0        253503                  получение образования   \n",
       "18894    сотрудник     0        120191                  получение образования   \n",
       "8861     сотрудник     0         84510                  получение образования   \n",
       "14047    сотрудник     0        145017          получение высшего образования   \n",
       "17105    сотрудник     0        215290  операции с коммерческой недвижимостью   \n",
       "3809     сотрудник     0        191219               операции с недвижимостью   \n",
       "11372    компаньон     0        239183                          покупка жилья   \n",
       "\n",
       "      total_income_category          purpose_category  \n",
       "7906                      C        проведение свадьбы  \n",
       "18128                     C  операции с недвижимостью  \n",
       "11022                     C     получение образования  \n",
       "18447                     B     получение образования  \n",
       "18894                     C     получение образования  \n",
       "8861                      C     получение образования  \n",
       "14047                     C     получение образования  \n",
       "17105                     B  операции с недвижимостью  \n",
       "3809                      C  операции с недвижимостью  \n",
       "11372                     B  операции с недвижимостью  "
      ]
     },
     "execution_count": 45,
     "metadata": {},
     "output_type": "execute_result"
    }
   ],
   "source": [
    "df['purpose_category'] = df['purpose'].apply(purpose_category) #создадим столбец с категориями по доходу\n",
    "df.sample(10)"
   ]
  },
  {
   "cell_type": "markdown",
   "id": "560ef869",
   "metadata": {},
   "source": [
    "### Шаг 2.8 Выводы по предобработке данных"
   ]
  },
  {
   "cell_type": "markdown",
   "id": "02ed4cab",
   "metadata": {},
   "source": [
    "1. В столбцах `days_employed` и `total_income` есть пропуски, которые совпадают по столбцам. Похоже, что клиенты без информации о времени работы и доходе — либо неработающие (пенсионер), либо сотрудники (или компаний клиентов, или самого банка). Поскольку без стабильного дохода им, скорее всего, не дали бы кредит, для сохранения полноты данных пропущенные значения заполнены медианными значениями по таблице.\n",
    "2. В столбцах `children` и `days_employed` найдены отрицательные значения, не имеющие физического смысла. Возможно, это вызвано опечаткой при внесении данных вручную. \n",
    "    - Учитывая большое количество аномалий, отсутствие связи с поставленной задачей и невозможность уточнения информации у заказчика столбец `days_employed` удален.\n",
    "    - Число аномалий в столбцах 'children' невелико. Не имея возможности уточнить у заказчика, мы предположили, что минус — ошибка ручного ввода и заменили знак в отрицательных значениях детей. Также в этом столбце найдено несколько значений `20`. Это похоже на ошибку. Учитывая небольшое количество таких значений, они были заменены медианой.\n",
    "3. В столбце `dob_years` есть строки с нулевым возрастом. Очевидно это ошибка. Нулевые значения заполнены медианой.\n",
    "4. Столбец `total_income`, содержащий ежемесячный доход, имеет вещественный тип, характер данных позволяет без значительного ущерба изменить его на целочисленный, что и было сделано.\n",
    "5. Отсутствие уникального ID клиента вызвало проблемы с поиском явных дубликатов. Не ясно, вызвано ли дублирование ошибкой, или у разных клиентов действительно совпадают приведенные в параметрах данные. Ухудшает ситуацию, что в выборке видно, что доход, который помог бы различить клиентов, заполнен нами медианным значением. Но, поскольку количество дубликатов невелико, и совпадение других данных (возраст, количество детей) снижает вероятность того, что это разные клиенты, повторяющиеся строки были удалены.\n",
    "6. В столбце `education` есть совпадающие категории, которые нами унифицированы изменением регистра.\n",
    "7. Созданы два новых датафрейма, в которых каждому уникальному значению из `education` соответствует уникальное значение `education_id` — в первом; и каждому уникальному значению из `family_status` соответствует уникальное значение `family_status_id` — во втором.\n",
    "8.  С целью категоризация дохода и целей кредита созданы столбцы `total_income_category` и `purpose_category` с соответствующими категориями."
   ]
  },
  {
   "cell_type": "markdown",
   "id": "03dc8ca5",
   "metadata": {},
   "source": [
    "### Ответы на вопросы."
   ]
  },
  {
   "cell_type": "markdown",
   "id": "158bf422",
   "metadata": {},
   "source": [
    "#### Вопрос 1: Есть ли зависимость между количеством детей и возвратом кредита в срок?"
   ]
  },
  {
   "cell_type": "code",
   "execution_count": 46,
   "id": "79313d70",
   "metadata": {},
   "outputs": [
    {
     "data": {
      "text/html": [
       "<div>\n",
       "<style scoped>\n",
       "    .dataframe tbody tr th:only-of-type {\n",
       "        vertical-align: middle;\n",
       "    }\n",
       "\n",
       "    .dataframe tbody tr th {\n",
       "        vertical-align: top;\n",
       "    }\n",
       "\n",
       "    .dataframe thead tr th {\n",
       "        text-align: left;\n",
       "    }\n",
       "\n",
       "    .dataframe thead tr:last-of-type th {\n",
       "        text-align: right;\n",
       "    }\n",
       "</style>\n",
       "<table border=\"1\" class=\"dataframe\">\n",
       "  <thead>\n",
       "    <tr>\n",
       "      <th></th>\n",
       "      <th>sum</th>\n",
       "      <th>count</th>\n",
       "    </tr>\n",
       "    <tr>\n",
       "      <th></th>\n",
       "      <th>debt</th>\n",
       "      <th>debt</th>\n",
       "    </tr>\n",
       "    <tr>\n",
       "      <th>children</th>\n",
       "      <th></th>\n",
       "      <th></th>\n",
       "    </tr>\n",
       "  </thead>\n",
       "  <tbody>\n",
       "    <tr>\n",
       "      <th>0.0</th>\n",
       "      <td>1071</td>\n",
       "      <td>14182</td>\n",
       "    </tr>\n",
       "    <tr>\n",
       "      <th>1.0</th>\n",
       "      <td>445</td>\n",
       "      <td>4856</td>\n",
       "    </tr>\n",
       "    <tr>\n",
       "      <th>2.0</th>\n",
       "      <td>194</td>\n",
       "      <td>2052</td>\n",
       "    </tr>\n",
       "    <tr>\n",
       "      <th>3.0</th>\n",
       "      <td>27</td>\n",
       "      <td>330</td>\n",
       "    </tr>\n",
       "    <tr>\n",
       "      <th>4.0</th>\n",
       "      <td>4</td>\n",
       "      <td>41</td>\n",
       "    </tr>\n",
       "    <tr>\n",
       "      <th>5.0</th>\n",
       "      <td>0</td>\n",
       "      <td>9</td>\n",
       "    </tr>\n",
       "  </tbody>\n",
       "</table>\n",
       "</div>"
      ],
      "text/plain": [
       "           sum  count\n",
       "          debt   debt\n",
       "children             \n",
       "0.0       1071  14182\n",
       "1.0        445   4856\n",
       "2.0        194   2052\n",
       "3.0         27    330\n",
       "4.0          4     41\n",
       "5.0          0      9"
      ]
     },
     "execution_count": 46,
     "metadata": {},
     "output_type": "execute_result"
    }
   ],
   "source": [
    "debt_pivot = df.pivot_table(index=['children'],  values='debt', aggfunc=['sum','count'])\n",
    "debt_pivot"
   ]
  },
  {
   "cell_type": "code",
   "execution_count": 47,
   "id": "5e3ecd8b",
   "metadata": {},
   "outputs": [
    {
     "data": {
      "text/html": [
       "<div>\n",
       "<style scoped>\n",
       "    .dataframe tbody tr th:only-of-type {\n",
       "        vertical-align: middle;\n",
       "    }\n",
       "\n",
       "    .dataframe tbody tr th {\n",
       "        vertical-align: top;\n",
       "    }\n",
       "\n",
       "    .dataframe thead th {\n",
       "        text-align: right;\n",
       "    }\n",
       "</style>\n",
       "<table border=\"1\" class=\"dataframe\">\n",
       "  <thead>\n",
       "    <tr style=\"text-align: right;\">\n",
       "      <th></th>\n",
       "      <th>debtors</th>\n",
       "      <th>count</th>\n",
       "      <th>debt_ratio</th>\n",
       "    </tr>\n",
       "    <tr>\n",
       "      <th>children</th>\n",
       "      <th></th>\n",
       "      <th></th>\n",
       "      <th></th>\n",
       "    </tr>\n",
       "  </thead>\n",
       "  <tbody>\n",
       "    <tr>\n",
       "      <th>0.0</th>\n",
       "      <td>1071</td>\n",
       "      <td>14182</td>\n",
       "      <td>0.075518</td>\n",
       "    </tr>\n",
       "    <tr>\n",
       "      <th>1.0</th>\n",
       "      <td>445</td>\n",
       "      <td>4856</td>\n",
       "      <td>0.091639</td>\n",
       "    </tr>\n",
       "    <tr>\n",
       "      <th>2.0</th>\n",
       "      <td>194</td>\n",
       "      <td>2052</td>\n",
       "      <td>0.094542</td>\n",
       "    </tr>\n",
       "    <tr>\n",
       "      <th>3.0</th>\n",
       "      <td>27</td>\n",
       "      <td>330</td>\n",
       "      <td>0.081818</td>\n",
       "    </tr>\n",
       "    <tr>\n",
       "      <th>4.0</th>\n",
       "      <td>4</td>\n",
       "      <td>41</td>\n",
       "      <td>0.097561</td>\n",
       "    </tr>\n",
       "    <tr>\n",
       "      <th>5.0</th>\n",
       "      <td>0</td>\n",
       "      <td>9</td>\n",
       "      <td>0.000000</td>\n",
       "    </tr>\n",
       "  </tbody>\n",
       "</table>\n",
       "</div>"
      ],
      "text/plain": [
       "          debtors  count  debt_ratio\n",
       "children                            \n",
       "0.0          1071  14182    0.075518\n",
       "1.0           445   4856    0.091639\n",
       "2.0           194   2052    0.094542\n",
       "3.0            27    330    0.081818\n",
       "4.0             4     41    0.097561\n",
       "5.0             0      9    0.000000"
      ]
     },
     "execution_count": 47,
     "metadata": {},
     "output_type": "execute_result"
    }
   ],
   "source": [
    "debt_per_cat1 = df.pivot_table(index=['children'],  values='debt', aggfunc=['sum', 'count']) # таблица с количеством должников и \n",
    "                                                                               # общим количеством детей по числу детей в семье\n",
    "debt_per_cat1 = debt_per_cat1.set_axis(['debtors', 'count'], axis=1, inplace=False) # переименовываем столбцы\n",
    "debt_per_cat1['debt_ratio'] = debt_per_cat1['debtors'] / debt_per_cat1['count'] # считаем соотношение должников и общего числа\n",
    "                                                                               # клиентов с данным количеством детей\n",
    "debt_per_cat1"
   ]
  },
  {
   "cell_type": "code",
   "execution_count": 48,
   "id": "bce14a80",
   "metadata": {},
   "outputs": [
    {
     "data": {
      "text/plain": [
       "<AxesSubplot:xlabel='количество детей', ylabel='доля должников'>"
      ]
     },
     "execution_count": 48,
     "metadata": {},
     "output_type": "execute_result"
    },
    {
     "data": {
      "image/png": "[encoded data removed]",
      "text/plain": [
       "<Figure size 432x288 with 1 Axes>"
      ]
     },
     "metadata": {
      "needs_background": "light"
     },
     "output_type": "display_data"
    }
   ],
   "source": [
    "debt_per_cat1['debt_ratio'].plot.bar(xlabel='количество детей', ylabel='доля должников') # смотрим график"
   ]
  },
  {
   "cell_type": "markdown",
   "id": "97cdc0b4",
   "metadata": {},
   "source": [
    "Наблюдается незначительное повышение частоты невозврата кредита в срок при увеличении числа детей. Возможно это связано с тем, что дети – значительный источник расходов, и увеличение их числа повышает финансовую нагрузку."
   ]
  },
  {
   "cell_type": "markdown",
   "id": "3c48bc60",
   "metadata": {},
   "source": [
    "#### Вопрос 2: Есть ли зависимость между семейным положением и возвратом кредита в срок?"
   ]
  },
  {
   "cell_type": "code",
   "execution_count": 49,
   "id": "c1b2586e",
   "metadata": {
    "scrolled": true
   },
   "outputs": [
    {
     "data": {
      "text/html": [
       "<div>\n",
       "<style scoped>\n",
       "    .dataframe tbody tr th:only-of-type {\n",
       "        vertical-align: middle;\n",
       "    }\n",
       "\n",
       "    .dataframe tbody tr th {\n",
       "        vertical-align: top;\n",
       "    }\n",
       "\n",
       "    .dataframe thead th {\n",
       "        text-align: right;\n",
       "    }\n",
       "</style>\n",
       "<table border=\"1\" class=\"dataframe\">\n",
       "  <thead>\n",
       "    <tr style=\"text-align: right;\">\n",
       "      <th></th>\n",
       "      <th>family_status</th>\n",
       "      <th>family_status_id</th>\n",
       "      <th>debtors</th>\n",
       "      <th>count</th>\n",
       "      <th>debt_ratio</th>\n",
       "    </tr>\n",
       "  </thead>\n",
       "  <tbody>\n",
       "    <tr>\n",
       "      <th>0</th>\n",
       "      <td>женат / замужем</td>\n",
       "      <td>0</td>\n",
       "      <td>931</td>\n",
       "      <td>12344</td>\n",
       "      <td>0.075421</td>\n",
       "    </tr>\n",
       "    <tr>\n",
       "      <th>1</th>\n",
       "      <td>гражданский брак</td>\n",
       "      <td>1</td>\n",
       "      <td>388</td>\n",
       "      <td>4162</td>\n",
       "      <td>0.093224</td>\n",
       "    </tr>\n",
       "    <tr>\n",
       "      <th>2</th>\n",
       "      <td>вдовец / вдова</td>\n",
       "      <td>2</td>\n",
       "      <td>63</td>\n",
       "      <td>959</td>\n",
       "      <td>0.065693</td>\n",
       "    </tr>\n",
       "    <tr>\n",
       "      <th>3</th>\n",
       "      <td>в разводе</td>\n",
       "      <td>3</td>\n",
       "      <td>85</td>\n",
       "      <td>1195</td>\n",
       "      <td>0.071130</td>\n",
       "    </tr>\n",
       "    <tr>\n",
       "      <th>4</th>\n",
       "      <td>Не женат / не замужем</td>\n",
       "      <td>4</td>\n",
       "      <td>274</td>\n",
       "      <td>2810</td>\n",
       "      <td>0.097509</td>\n",
       "    </tr>\n",
       "  </tbody>\n",
       "</table>\n",
       "</div>"
      ],
      "text/plain": [
       "           family_status  family_status_id  debtors  count  debt_ratio\n",
       "0        женат / замужем                 0      931  12344    0.075421\n",
       "1       гражданский брак                 1      388   4162    0.093224\n",
       "2         вдовец / вдова                 2       63    959    0.065693\n",
       "3              в разводе                 3       85   1195    0.071130\n",
       "4  Не женат / не замужем                 4      274   2810    0.097509"
      ]
     },
     "execution_count": 49,
     "metadata": {},
     "output_type": "execute_result"
    }
   ],
   "source": [
    "debt_per_cat2 = df.pivot_table(index=['family_status_id'],  values='debt', aggfunc=['sum', 'count']) # таблица с количеством \n",
    "                                                                               # должников и семейным положением\n",
    "debt_per_cat2 = debt_per_cat2.set_axis(['debtors', 'count'], axis=1, inplace=False) # переименовываем столбцы\n",
    "debt_per_cat2['debt_ratio'] = debt_per_cat2['debtors'] / debt_per_cat2['count'] # считаем соотношение должников и общего числа\n",
    "                                                                               # клиентов с данным  семейным положением\n",
    "debt_per_cat2 = family_dict.merge(debt_per_cat2, on='family_status_id', how='left') # обогащаем таблицу текстовыми значениями \n",
    "                                                                               # семейного положения\n",
    "debt_per_cat2"
   ]
  },
  {
   "cell_type": "code",
   "execution_count": 50,
   "id": "85d0d7e9",
   "metadata": {},
   "outputs": [
    {
     "data": {
      "text/plain": [
       "<AxesSubplot:xlabel='[женат / замужем, гражданский брак, вдовец / вдова, в разводе, Не женат / не замужем]', ylabel='доля должников'>"
      ]
     },
     "execution_count": 50,
     "metadata": {},
     "output_type": "execute_result"
    },
    {
     "data": {
      "image/png": "[encoded data removed]",
      "text/plain": [
       "<Figure size 432x288 with 1 Axes>"
      ]
     },
     "metadata": {
      "needs_background": "light"
     },
     "output_type": "display_data"
    }
   ],
   "source": [
    "debt_per_cat2['debt_ratio'].plot.bar(xlabel = debt_per_cat2['family_status'], ylabel='доля должников') # смотрим график"
   ]
  },
  {
   "cell_type": "markdown",
   "id": "babaccae",
   "metadata": {},
   "source": [
    "Наблюдается заметное повышение частоты невозврата кредита в категориях \"гражданский брак\" и \"не женат/не замужем\". Возможно это связано с тем, что в семье вырабатывается более строгая финансовая дисциплина, привычка к которой сохраняется даже во вдовстве и разводе."
   ]
  },
  {
   "cell_type": "markdown",
   "id": "6472ca4f",
   "metadata": {},
   "source": [
    "#### Вопрос 3: Есть ли зависимость между уровнем дохода и возвратом кредита в срок?"
   ]
  },
  {
   "cell_type": "code",
   "execution_count": 51,
   "id": "df3fac64",
   "metadata": {},
   "outputs": [
    {
     "data": {
      "text/html": [
       "<div>\n",
       "<style scoped>\n",
       "    .dataframe tbody tr th:only-of-type {\n",
       "        vertical-align: middle;\n",
       "    }\n",
       "\n",
       "    .dataframe tbody tr th {\n",
       "        vertical-align: top;\n",
       "    }\n",
       "\n",
       "    .dataframe thead th {\n",
       "        text-align: right;\n",
       "    }\n",
       "</style>\n",
       "<table border=\"1\" class=\"dataframe\">\n",
       "  <thead>\n",
       "    <tr style=\"text-align: right;\">\n",
       "      <th></th>\n",
       "      <th>debtors</th>\n",
       "      <th>count</th>\n",
       "      <th>debt_ratio</th>\n",
       "      <th>income_cat</th>\n",
       "    </tr>\n",
       "    <tr>\n",
       "      <th>total_income_category</th>\n",
       "      <th></th>\n",
       "      <th></th>\n",
       "      <th></th>\n",
       "      <th></th>\n",
       "    </tr>\n",
       "  </thead>\n",
       "  <tbody>\n",
       "    <tr>\n",
       "      <th>A</th>\n",
       "      <td>2</td>\n",
       "      <td>25</td>\n",
       "      <td>0.080000</td>\n",
       "      <td>0–30000</td>\n",
       "    </tr>\n",
       "    <tr>\n",
       "      <th>B</th>\n",
       "      <td>356</td>\n",
       "      <td>5041</td>\n",
       "      <td>0.070621</td>\n",
       "      <td>30001–50000</td>\n",
       "    </tr>\n",
       "    <tr>\n",
       "      <th>C</th>\n",
       "      <td>1360</td>\n",
       "      <td>16032</td>\n",
       "      <td>0.084830</td>\n",
       "      <td>50001–200000</td>\n",
       "    </tr>\n",
       "    <tr>\n",
       "      <th>D</th>\n",
       "      <td>21</td>\n",
       "      <td>350</td>\n",
       "      <td>0.060000</td>\n",
       "      <td>200001–1000000</td>\n",
       "    </tr>\n",
       "    <tr>\n",
       "      <th>E</th>\n",
       "      <td>2</td>\n",
       "      <td>22</td>\n",
       "      <td>0.090909</td>\n",
       "      <td>выше 1000001</td>\n",
       "    </tr>\n",
       "  </tbody>\n",
       "</table>\n",
       "</div>"
      ],
      "text/plain": [
       "                       debtors  count  debt_ratio      income_cat\n",
       "total_income_category                                            \n",
       "A                            2     25    0.080000         0–30000\n",
       "B                          356   5041    0.070621     30001–50000\n",
       "C                         1360  16032    0.084830    50001–200000\n",
       "D                           21    350    0.060000  200001–1000000\n",
       "E                            2     22    0.090909    выше 1000001"
      ]
     },
     "execution_count": 51,
     "metadata": {},
     "output_type": "execute_result"
    }
   ],
   "source": [
    "debt_per_cat3 = df.pivot_table(index=['total_income_category'],  values='debt', aggfunc=['sum', 'count']) # таблица с количеством \n",
    "                                                                               # должников и уровнем дохода\n",
    "debt_per_cat3 = debt_per_cat3.set_axis(['debtors', 'count'], axis=1, inplace=False) # переименовываем столбцы\n",
    "debt_per_cat3['debt_ratio'] = debt_per_cat3['debtors'] / debt_per_cat3['count'] # считаем соотношение должников и общего числа\n",
    "                                                                               # клиентов с данным  уровнем дохода \n",
    "debt_per_cat3['income_cat'] = ['0–30000', '30001–50000', '50001–200000', '200001–1000000',  'выше 1000001'] # обогащаем таблицу \n",
    "                                                                               # текстовыми значениями уровня дохода \n",
    "debt_per_cat3"
   ]
  },
  {
   "cell_type": "code",
   "execution_count": 52,
   "id": "8dd54885",
   "metadata": {},
   "outputs": [
    {
     "data": {
      "text/plain": [
       "<AxesSubplot:xlabel='[0–30000, 30001–50000, 50001–200000, 200001–1000000, выше 1000001]', ylabel='доля должников'>"
      ]
     },
     "execution_count": 52,
     "metadata": {},
     "output_type": "execute_result"
    },
    {
     "data": {
      "image/png": "[encoded data removed]",
      "text/plain": [
       "<Figure size 432x288 with 1 Axes>"
      ]
     },
     "metadata": {
      "needs_background": "light"
     },
     "output_type": "display_data"
    }
   ],
   "source": [
    "debt_per_cat3['debt_ratio'].plot.bar(xlabel = debt_per_cat3['income_cat'], ylabel='доля должников') # смотрим график"
   ]
  },
  {
   "cell_type": "markdown",
   "id": "d0b1f766",
   "metadata": {},
   "source": [
    "Четкая зависимость между уровнем дохода и возвратом кредита в срок не наблюдается. Большее число невозвратов в группе с высокими доходами, скорее всего объясняется тем, что члены этой группы привыкли к соответственно высоким расходам, что ухудшает финансовую дисциплину."
   ]
  },
  {
   "cell_type": "markdown",
   "id": "fbfe5449",
   "metadata": {},
   "source": [
    "#### Вопрос 4: Как разные цели кредита влияют на его возврат в срок?"
   ]
  },
  {
   "cell_type": "code",
   "execution_count": 53,
   "id": "256bf726",
   "metadata": {},
   "outputs": [
    {
     "data": {
      "text/html": [
       "<div>\n",
       "<style scoped>\n",
       "    .dataframe tbody tr th:only-of-type {\n",
       "        vertical-align: middle;\n",
       "    }\n",
       "\n",
       "    .dataframe tbody tr th {\n",
       "        vertical-align: top;\n",
       "    }\n",
       "\n",
       "    .dataframe thead th {\n",
       "        text-align: right;\n",
       "    }\n",
       "</style>\n",
       "<table border=\"1\" class=\"dataframe\">\n",
       "  <thead>\n",
       "    <tr style=\"text-align: right;\">\n",
       "      <th></th>\n",
       "      <th>debtors</th>\n",
       "      <th>count</th>\n",
       "      <th>debt_ratio</th>\n",
       "    </tr>\n",
       "    <tr>\n",
       "      <th>purpose_category</th>\n",
       "      <th></th>\n",
       "      <th></th>\n",
       "      <th></th>\n",
       "    </tr>\n",
       "  </thead>\n",
       "  <tbody>\n",
       "    <tr>\n",
       "      <th>операции с автомобилем</th>\n",
       "      <td>403</td>\n",
       "      <td>4308</td>\n",
       "      <td>0.093547</td>\n",
       "    </tr>\n",
       "    <tr>\n",
       "      <th>операции с недвижимостью</th>\n",
       "      <td>782</td>\n",
       "      <td>10814</td>\n",
       "      <td>0.072314</td>\n",
       "    </tr>\n",
       "    <tr>\n",
       "      <th>получение образования</th>\n",
       "      <td>370</td>\n",
       "      <td>4014</td>\n",
       "      <td>0.092177</td>\n",
       "    </tr>\n",
       "    <tr>\n",
       "      <th>проведение свадьбы</th>\n",
       "      <td>186</td>\n",
       "      <td>2334</td>\n",
       "      <td>0.079692</td>\n",
       "    </tr>\n",
       "  </tbody>\n",
       "</table>\n",
       "</div>"
      ],
      "text/plain": [
       "                          debtors  count  debt_ratio\n",
       "purpose_category                                    \n",
       "операции с автомобилем        403   4308    0.093547\n",
       "операции с недвижимостью      782  10814    0.072314\n",
       "получение образования         370   4014    0.092177\n",
       "проведение свадьбы            186   2334    0.079692"
      ]
     },
     "execution_count": 53,
     "metadata": {},
     "output_type": "execute_result"
    }
   ],
   "source": [
    "debt_per_cat4 = df.pivot_table(index=['purpose_category'],  values='debt', aggfunc=['sum', 'count']) # таблица с количеством \n",
    "                                                                               # должников и уровнем дохода\n",
    "debt_per_cat4 = debt_per_cat4.set_axis(['debtors', 'count'], axis=1, inplace=False) # переименовываем столбцы\n",
    "debt_per_cat4['debt_ratio'] = debt_per_cat4['debtors'] / debt_per_cat4['count'] # считаем соотношение должников и общего числа\n",
    "                                                                               # клиентов с данным  уровнем дохода \n",
    "debt_per_cat4"
   ]
  },
  {
   "cell_type": "code",
   "execution_count": 54,
   "id": "f1ce3b9b",
   "metadata": {},
   "outputs": [
    {
     "data": {
      "text/plain": [
       "<AxesSubplot:xlabel='цели кредита', ylabel='доля должников'>"
      ]
     },
     "execution_count": 54,
     "metadata": {},
     "output_type": "execute_result"
    },
    {
     "data": {
      "image/png": "[encoded data removed]",
      "text/plain": [
       "<Figure size 432x288 with 1 Axes>"
      ]
     },
     "metadata": {
      "needs_background": "light"
     },
     "output_type": "display_data"
    }
   ],
   "source": [
    "debt_per_cat4['debt_ratio'].plot.bar(xlabel='цели кредита',ylabel='доля должников') # смотрим график"
   ]
  },
  {
   "cell_type": "markdown",
   "id": "5806b4aa",
   "metadata": {},
   "source": [
    "Самые рискованные кредиты — на операции с автомобилем и получение образования. Низкая надежность заемщиков по автокредитам возможно объясняется тем, что в современном обществе автомобиль рассматривается как вешь первой необходимости, и для его получения многие готовы брать кредит, не оценивая возможность погашения. Кредиты на образование берут как правило молодые люди, с нестабильными и низкими доходами и низкой финансовой дисциплиной, что влияет на высокую долю невозвратов в срок. Покупка недвижимости - очень крупная операция, совершая которую заемщики заранее оценивают свою способность погасить кредит, а длительный срок погашения таких кредитов вырабатывает финансовую дисциплину, поэтому нарушения по этой группе кредитов менее частые."
   ]
  },
  {
   "cell_type": "code",
   "execution_count": 55,
   "id": "4752409c",
   "metadata": {},
   "outputs": [
    {
     "data": {
      "text/html": [
       "<div>\n",
       "<style scoped>\n",
       "    .dataframe tbody tr th:only-of-type {\n",
       "        vertical-align: middle;\n",
       "    }\n",
       "\n",
       "    .dataframe tbody tr th {\n",
       "        vertical-align: top;\n",
       "    }\n",
       "\n",
       "    .dataframe thead th {\n",
       "        text-align: right;\n",
       "    }\n",
       "</style>\n",
       "<table border=\"1\" class=\"dataframe\">\n",
       "  <thead>\n",
       "    <tr style=\"text-align: right;\">\n",
       "      <th></th>\n",
       "      <th>debtors</th>\n",
       "      <th>count</th>\n",
       "      <th>debt_ratio</th>\n",
       "    </tr>\n",
       "    <tr>\n",
       "      <th>purpose_category</th>\n",
       "      <th></th>\n",
       "      <th></th>\n",
       "      <th></th>\n",
       "    </tr>\n",
       "  </thead>\n",
       "  <tbody>\n",
       "    <tr>\n",
       "      <th>операции с автомобилем</th>\n",
       "      <td>403</td>\n",
       "      <td>4308</td>\n",
       "      <td>0.093547</td>\n",
       "    </tr>\n",
       "    <tr>\n",
       "      <th>операции с недвижимостью</th>\n",
       "      <td>782</td>\n",
       "      <td>10814</td>\n",
       "      <td>0.072314</td>\n",
       "    </tr>\n",
       "    <tr>\n",
       "      <th>получение образования</th>\n",
       "      <td>370</td>\n",
       "      <td>4014</td>\n",
       "      <td>0.092177</td>\n",
       "    </tr>\n",
       "    <tr>\n",
       "      <th>проведение свадьбы</th>\n",
       "      <td>186</td>\n",
       "      <td>2334</td>\n",
       "      <td>0.079692</td>\n",
       "    </tr>\n",
       "  </tbody>\n",
       "</table>\n",
       "</div>"
      ],
      "text/plain": [
       "                          debtors  count  debt_ratio\n",
       "purpose_category                                    \n",
       "операции с автомобилем        403   4308    0.093547\n",
       "операции с недвижимостью      782  10814    0.072314\n",
       "получение образования         370   4014    0.092177\n",
       "проведение свадьбы            186   2334    0.079692"
      ]
     },
     "execution_count": 55,
     "metadata": {},
     "output_type": "execute_result"
    }
   ],
   "source": [
    "debt_per_cat4 = df.pivot_table(index=['purpose_category'],  values='debt', aggfunc=['sum', 'count', 'mean']) # таблица с количеством \n",
    "                                                                               # должников и уровнем дохода\n",
    "debt_per_cat4 = debt_per_cat4.set_axis(['debtors', 'count', 'debt_ratio'], axis=1, inplace=False) # переименовываем столбцы\n",
    "debt_per_cat4"
   ]
  },
  {
   "cell_type": "markdown",
   "id": "7f3972fd",
   "metadata": {},
   "source": [
    "Проверим предположение, что на образование кредиты берут более молодые люди."
   ]
  },
  {
   "cell_type": "code",
   "execution_count": 56,
   "id": "b504d26e",
   "metadata": {},
   "outputs": [
    {
     "data": {
      "text/plain": [
       "count    4014.000000\n",
       "mean       43.595914\n",
       "std        12.322101\n",
       "min        19.000000\n",
       "25%        34.000000\n",
       "50%        42.000000\n",
       "75%        54.000000\n",
       "max        75.000000\n",
       "Name: dob_years, dtype: float64"
      ]
     },
     "execution_count": 56,
     "metadata": {},
     "output_type": "execute_result"
    }
   ],
   "source": [
    "df['dob_years'][df['purpose_category'] == 'получение образования'].describe() # посчитаем статистические характеристики\n",
    "                                                                              # возраста заемщиков на образование"
   ]
  },
  {
   "cell_type": "code",
   "execution_count": 57,
   "id": "17609ae0",
   "metadata": {},
   "outputs": [
    {
     "data": {
      "text/plain": [
       "count    4308.000000\n",
       "mean       43.691736\n",
       "std        12.199836\n",
       "min        19.000000\n",
       "25%        34.000000\n",
       "50%        43.000000\n",
       "75%        54.000000\n",
       "max        74.000000\n",
       "Name: dob_years, dtype: float64"
      ]
     },
     "execution_count": 57,
     "metadata": {},
     "output_type": "execute_result"
    }
   ],
   "source": [
    "df['dob_years'][df['purpose_category'] == 'операции с автомобилем'].describe() # посчитаем статистические характеристики\n",
    "                                                                               # возраста заемщиков на автомобиль"
   ]
  },
  {
   "cell_type": "markdown",
   "id": "67f7c6e7",
   "metadata": {},
   "source": [
    "Предположение не подтвердилось, характеристики возраста для заемщиков по обоим видам кредитов очень похожи. Возможно причина высокой доли невозвратов по образовательным кредитам в том, что сумма кредита на образование меньше, и к ее возврату относятся менее ответственно."
   ]
  },
  {
   "cell_type": "markdown",
   "id": "2603eb66",
   "metadata": {},
   "source": [
    "### Выводы"
   ]
  },
  {
   "cell_type": "markdown",
   "id": "d0fb7115",
   "metadata": {},
   "source": [
    "#### Вывод 1: \n",
    "Есть слабая зависимость частоты невозврата кредита в срок при увеличении числа детей. "
   ]
  },
  {
   "cell_type": "markdown",
   "id": "26e4ce06",
   "metadata": {},
   "source": [
    "#### Вывод 2:\n",
    "Частота невозврата кредита в срок выше для холостых и находящихся в гражданском браке. "
   ]
  },
  {
   "cell_type": "markdown",
   "id": "a6715b9c",
   "metadata": {},
   "source": [
    "#### Вывод 3: \n",
    "Зависимость невозврата кредита в срок от уровня дохода не установлена."
   ]
  },
  {
   "cell_type": "markdown",
   "id": "94bde7c4",
   "metadata": {},
   "source": [
    "#### Вывод 4: \n",
    "По кредитам на операции с автомобилем и получение образования выше частота невозвратов в срок. "
   ]
  },
  {
   "cell_type": "markdown",
   "id": "1b10c82f",
   "metadata": {},
   "source": [
    "## Общий вывод:"
   ]
  },
  {
   "cell_type": "markdown",
   "id": "f4897acd",
   "metadata": {},
   "source": [
    "Нами проанализированы предоставленные заказчиком данные о платёжеспособности клиентов.<BR><BR>\n",
    "В ходе исследования были даны ответы на следующие вопросы:\n",
    "* Есть ли зависимость между количеством детей и возвратом кредита в срок?\n",
    "* Есть ли зависимость между семейным положением и возвратом кредита в срок?\n",
    "* Есть ли зависимость между уровнем дохода и возвратом кредита в срок?\n",
    "* Как разные цели кредита влияют на его возврат в срок?<BR><BR>\n",
    "Были установленны следующие зависимости характеристик клиентов и кредита на факт погашения кредита в срок:<BR>\n",
    "* Частота невозврата кредита в срок при увеличении числа детей повышается.\n",
    "* Частота невозврата кредита в срок выше для холостых и находящихся в гражданском браке.\n",
    "* Частота невозврата кредита в срок выше по кредитам на операции с автомобилем и получение образования.<BR><BR>\n",
    "Зависимость невозврата кредита в срок от уровня дохода не установлена.<BR><BR>\n",
    "Рекомендации:<BR>\n",
    "При построении модели кредитного скоринга использовать вышеуказанные зависимости."
   ]
  },
  {
   "cell_type": "markdown",
   "id": "98c9b04e",
   "metadata": {},
   "source": [
    "Во время предобработки данных выявлены следующие проблемы с исходными данными:\n",
    "1. В столбцах `days_employed` и `total_income` есть пропуски, которые совпадают по столбцам. Похоже, что клиенты без информации о времени работы и доходе — либо неработающие (пенсионер), либо сотрудники (или компаний клиентов, или самого банка).\n",
    "2. В столбцах `children` и `days_employed` найдены отрицательные значения, не имеющие физического смысла. Возможно, это вызвано опечаткой при внесении данных вручную. Также в  столбце `children`  найдено несколько значений `20`. Это похоже на ошибку.\n",
    "3. В столбце `dob_years` есть строки с нулевым возрастом. Очевидно это ошибка.\n",
    "4. Отсутствие уникального ID клиента вызвало проблемы с поиском явных дубликатов. Не ясно, вызвано ли дублирование ошибкой, или у разных клиентов действительно совпадают приведенные в параметрах данные.\n",
    "5. В столбце `education` есть совпадающие категории, которые могут быть унифицированы изменением регистра."
   ]
  }
 ],
 "metadata": {
  "ExecuteTimeLog": [
   {
    "duration": 738,
    "start_time": "2022-03-16T08:56:37.335Z"
   },
   {
    "duration": 85,
    "start_time": "2022-03-16T08:57:43.988Z"
   },
   {
    "duration": 85,
    "start_time": "2022-03-16T08:57:51.270Z"
   },
   {
    "duration": 384,
    "start_time": "2022-03-16T09:08:17.281Z"
   },
   {
    "duration": 65,
    "start_time": "2022-03-16T09:08:36.386Z"
   },
   {
    "duration": 14,
    "start_time": "2022-03-16T09:09:13.565Z"
   },
   {
    "duration": 113,
    "start_time": "2022-03-16T09:16:16.766Z"
   },
   {
    "duration": 77,
    "start_time": "2022-03-16T09:18:43.380Z"
   },
   {
    "duration": 12,
    "start_time": "2022-03-16T09:18:44.490Z"
   },
   {
    "duration": 15,
    "start_time": "2022-03-16T09:29:55.264Z"
   },
   {
    "duration": 33,
    "start_time": "2022-03-16T09:34:27.036Z"
   },
   {
    "duration": 31,
    "start_time": "2022-03-16T09:35:05.164Z"
   },
   {
    "duration": 17,
    "start_time": "2022-03-16T09:36:06.784Z"
   },
   {
    "duration": 18,
    "start_time": "2022-03-16T09:37:56.865Z"
   },
   {
    "duration": 96,
    "start_time": "2022-03-16T09:46:40.324Z"
   },
   {
    "duration": 13,
    "start_time": "2022-03-16T09:51:18.609Z"
   },
   {
    "duration": 92,
    "start_time": "2022-03-16T09:53:46.400Z"
   },
   {
    "duration": 7,
    "start_time": "2022-03-16T09:53:51.555Z"
   },
   {
    "duration": 5,
    "start_time": "2022-03-16T09:54:11.682Z"
   },
   {
    "duration": 10,
    "start_time": "2022-03-16T09:54:20.497Z"
   },
   {
    "duration": 28,
    "start_time": "2022-03-16T09:55:01.567Z"
   },
   {
    "duration": 24,
    "start_time": "2022-03-16T09:55:17.588Z"
   },
   {
    "duration": 16,
    "start_time": "2022-03-16T09:56:09.888Z"
   },
   {
    "duration": 17,
    "start_time": "2022-03-16T09:56:20.219Z"
   },
   {
    "duration": 6547,
    "start_time": "2022-03-16T10:34:15.632Z"
   },
   {
    "duration": 40,
    "start_time": "2022-03-16T10:34:30.437Z"
   },
   {
    "duration": 8,
    "start_time": "2022-03-16T10:40:20.774Z"
   },
   {
    "duration": 6,
    "start_time": "2022-03-16T10:40:37.467Z"
   },
   {
    "duration": 6,
    "start_time": "2022-03-16T10:41:27.354Z"
   },
   {
    "duration": 6,
    "start_time": "2022-03-16T10:42:49.632Z"
   },
   {
    "duration": 251,
    "start_time": "2022-03-16T10:49:21.677Z"
   },
   {
    "duration": 6,
    "start_time": "2022-03-16T10:50:31.205Z"
   },
   {
    "duration": 332,
    "start_time": "2022-03-16T10:50:43.787Z"
   },
   {
    "duration": 273,
    "start_time": "2022-03-16T10:50:48.055Z"
   },
   {
    "duration": 296,
    "start_time": "2022-03-16T10:51:00.050Z"
   },
   {
    "duration": 67,
    "start_time": "2022-03-16T10:51:32.265Z"
   },
   {
    "duration": 18,
    "start_time": "2022-03-16T10:51:32.334Z"
   },
   {
    "duration": 12,
    "start_time": "2022-03-16T10:51:32.365Z"
   },
   {
    "duration": 16,
    "start_time": "2022-03-16T10:51:32.381Z"
   },
   {
    "duration": 37,
    "start_time": "2022-03-16T10:51:32.405Z"
   },
   {
    "duration": 37,
    "start_time": "2022-03-16T10:51:32.453Z"
   },
   {
    "duration": 7,
    "start_time": "2022-03-16T10:51:32.543Z"
   },
   {
    "duration": 22,
    "start_time": "2022-03-16T10:51:42.250Z"
   },
   {
    "duration": 11,
    "start_time": "2022-03-16T10:57:55.880Z"
   },
   {
    "duration": 6,
    "start_time": "2022-03-16T10:59:29.472Z"
   },
   {
    "duration": 11,
    "start_time": "2022-03-16T10:59:30.736Z"
   },
   {
    "duration": 112,
    "start_time": "2022-03-16T11:05:44.225Z"
   },
   {
    "duration": 6312,
    "start_time": "2022-03-16T11:08:11.445Z"
   },
   {
    "duration": 6976,
    "start_time": "2022-03-16T11:10:17.392Z"
   },
   {
    "duration": 6864,
    "start_time": "2022-03-16T11:10:47.064Z"
   },
   {
    "duration": 6161,
    "start_time": "2022-03-16T11:12:19.474Z"
   },
   {
    "duration": 13,
    "start_time": "2022-03-16T11:12:57.129Z"
   },
   {
    "duration": 87,
    "start_time": "2022-03-16T11:13:17.624Z"
   },
   {
    "duration": 24,
    "start_time": "2022-03-16T11:13:17.713Z"
   },
   {
    "duration": 17,
    "start_time": "2022-03-16T11:13:17.739Z"
   },
   {
    "duration": 17,
    "start_time": "2022-03-16T11:13:17.759Z"
   },
   {
    "duration": 53,
    "start_time": "2022-03-16T11:13:17.779Z"
   },
   {
    "duration": 52,
    "start_time": "2022-03-16T11:13:17.835Z"
   },
   {
    "duration": 7,
    "start_time": "2022-03-16T11:13:17.890Z"
   },
   {
    "duration": 47,
    "start_time": "2022-03-16T11:13:17.900Z"
   },
   {
    "duration": 23,
    "start_time": "2022-03-16T11:13:17.950Z"
   },
   {
    "duration": 7,
    "start_time": "2022-03-16T11:13:17.976Z"
   },
   {
    "duration": 29,
    "start_time": "2022-03-16T11:13:17.985Z"
   },
   {
    "duration": 12,
    "start_time": "2022-03-16T11:13:23.678Z"
   },
   {
    "duration": 688,
    "start_time": "2022-03-16T11:14:15.164Z"
   },
   {
    "duration": 13,
    "start_time": "2022-03-16T11:14:15.854Z"
   },
   {
    "duration": 11,
    "start_time": "2022-03-16T11:14:15.869Z"
   },
   {
    "duration": 50,
    "start_time": "2022-03-16T11:14:15.882Z"
   },
   {
    "duration": 17,
    "start_time": "2022-03-16T11:14:15.934Z"
   },
   {
    "duration": 40,
    "start_time": "2022-03-16T11:14:15.953Z"
   },
   {
    "duration": 39,
    "start_time": "2022-03-16T11:14:15.994Z"
   },
   {
    "duration": 16,
    "start_time": "2022-03-16T11:14:16.036Z"
   },
   {
    "duration": 10,
    "start_time": "2022-03-16T11:14:16.054Z"
   },
   {
    "duration": 13,
    "start_time": "2022-03-16T11:14:16.066Z"
   },
   {
    "duration": 51,
    "start_time": "2022-03-16T11:14:16.082Z"
   },
   {
    "duration": 18,
    "start_time": "2022-03-16T11:14:16.136Z"
   },
   {
    "duration": 361,
    "start_time": "2022-03-16T14:08:29.969Z"
   },
   {
    "duration": 690,
    "start_time": "2022-03-16T14:08:37.385Z"
   },
   {
    "duration": 10,
    "start_time": "2022-03-16T14:08:38.076Z"
   },
   {
    "duration": 18,
    "start_time": "2022-03-16T14:08:38.088Z"
   },
   {
    "duration": 27,
    "start_time": "2022-03-16T14:08:38.107Z"
   },
   {
    "duration": 13,
    "start_time": "2022-03-16T14:08:38.135Z"
   },
   {
    "duration": 34,
    "start_time": "2022-03-16T14:08:38.149Z"
   },
   {
    "duration": 5,
    "start_time": "2022-03-16T14:08:38.185Z"
   },
   {
    "duration": 20,
    "start_time": "2022-03-16T14:08:38.192Z"
   },
   {
    "duration": 11,
    "start_time": "2022-03-16T14:08:38.214Z"
   },
   {
    "duration": 14,
    "start_time": "2022-03-16T14:08:38.227Z"
   },
   {
    "duration": 21,
    "start_time": "2022-03-16T14:08:38.242Z"
   },
   {
    "duration": 11,
    "start_time": "2022-03-16T14:08:38.264Z"
   },
   {
    "duration": 11,
    "start_time": "2022-03-16T14:08:44.586Z"
   },
   {
    "duration": 3,
    "start_time": "2022-03-16T14:24:23.028Z"
   },
   {
    "duration": 317,
    "start_time": "2022-03-16T14:24:47.356Z"
   },
   {
    "duration": 4,
    "start_time": "2022-03-16T14:25:02.795Z"
   },
   {
    "duration": 12,
    "start_time": "2022-03-16T14:25:45.323Z"
   },
   {
    "duration": 446,
    "start_time": "2022-03-16T14:37:25.566Z"
   },
   {
    "duration": 15,
    "start_time": "2022-03-16T14:40:31.129Z"
   },
   {
    "duration": 14,
    "start_time": "2022-03-16T14:42:06.599Z"
   },
   {
    "duration": 13,
    "start_time": "2022-03-16T14:42:24.162Z"
   },
   {
    "duration": 13,
    "start_time": "2022-03-16T14:43:33.199Z"
   },
   {
    "duration": 14,
    "start_time": "2022-03-16T14:44:12.501Z"
   },
   {
    "duration": 5,
    "start_time": "2022-03-16T14:45:25.396Z"
   },
   {
    "duration": 12,
    "start_time": "2022-03-16T14:45:44.695Z"
   },
   {
    "duration": 12,
    "start_time": "2022-03-16T14:46:35.334Z"
   },
   {
    "duration": 12,
    "start_time": "2022-03-16T14:50:25.160Z"
   },
   {
    "duration": 340,
    "start_time": "2022-03-16T14:57:02.195Z"
   },
   {
    "duration": 15,
    "start_time": "2022-03-16T14:57:08.526Z"
   },
   {
    "duration": 7,
    "start_time": "2022-03-16T15:03:36.285Z"
   },
   {
    "duration": 99,
    "start_time": "2022-03-16T15:11:34.292Z"
   },
   {
    "duration": 290,
    "start_time": "2022-03-16T15:11:51.484Z"
   },
   {
    "duration": 18,
    "start_time": "2022-03-16T15:12:53.689Z"
   },
   {
    "duration": 26,
    "start_time": "2022-03-16T15:13:44.327Z"
   },
   {
    "duration": 7,
    "start_time": "2022-03-16T15:14:43.229Z"
   },
   {
    "duration": 7,
    "start_time": "2022-03-16T15:15:52.051Z"
   },
   {
    "duration": 8,
    "start_time": "2022-03-16T15:16:40.155Z"
   },
   {
    "duration": 97,
    "start_time": "2022-03-16T15:19:29.490Z"
   },
   {
    "duration": 3,
    "start_time": "2022-03-16T15:22:45.964Z"
   },
   {
    "duration": 20,
    "start_time": "2022-03-16T15:35:16.473Z"
   },
   {
    "duration": 8,
    "start_time": "2022-03-16T15:35:30.221Z"
   },
   {
    "duration": 17,
    "start_time": "2022-03-16T15:36:26.920Z"
   },
   {
    "duration": 8,
    "start_time": "2022-03-16T15:36:28.600Z"
   },
   {
    "duration": 19,
    "start_time": "2022-03-16T15:48:14.833Z"
   },
   {
    "duration": 13,
    "start_time": "2022-03-16T15:48:47.629Z"
   },
   {
    "duration": 26,
    "start_time": "2022-03-16T15:49:36.514Z"
   },
   {
    "duration": 323,
    "start_time": "2022-03-16T15:57:28.623Z"
   },
   {
    "duration": 6,
    "start_time": "2022-03-16T15:57:50.799Z"
   },
   {
    "duration": 10,
    "start_time": "2022-03-16T15:58:45.766Z"
   },
   {
    "duration": 6,
    "start_time": "2022-03-16T15:58:59.012Z"
   },
   {
    "duration": 9,
    "start_time": "2022-03-16T16:03:27.089Z"
   },
   {
    "duration": 7,
    "start_time": "2022-03-16T16:03:49.346Z"
   },
   {
    "duration": 7,
    "start_time": "2022-03-16T16:04:20.542Z"
   },
   {
    "duration": 9,
    "start_time": "2022-03-16T16:05:07.070Z"
   },
   {
    "duration": 5,
    "start_time": "2022-03-16T16:07:05.146Z"
   },
   {
    "duration": 7,
    "start_time": "2022-03-16T16:07:59.049Z"
   },
   {
    "duration": 7785,
    "start_time": "2022-03-16T16:09:04.484Z"
   },
   {
    "duration": 9,
    "start_time": "2022-03-16T16:10:10.375Z"
   },
   {
    "duration": 8,
    "start_time": "2022-03-16T16:12:52.781Z"
   },
   {
    "duration": 9,
    "start_time": "2022-03-16T16:13:04.575Z"
   },
   {
    "duration": 9,
    "start_time": "2022-03-16T16:13:18.483Z"
   },
   {
    "duration": 13,
    "start_time": "2022-03-16T16:24:28.342Z"
   },
   {
    "duration": 15,
    "start_time": "2022-03-16T16:24:41.778Z"
   },
   {
    "duration": 14,
    "start_time": "2022-03-16T16:25:09.111Z"
   },
   {
    "duration": 282,
    "start_time": "2022-03-16T16:26:29.725Z"
   },
   {
    "duration": 74,
    "start_time": "2022-03-16T16:26:47.598Z"
   },
   {
    "duration": 13,
    "start_time": "2022-03-16T16:26:47.674Z"
   },
   {
    "duration": 13,
    "start_time": "2022-03-16T16:26:47.689Z"
   },
   {
    "duration": 18,
    "start_time": "2022-03-16T16:26:47.705Z"
   },
   {
    "duration": 19,
    "start_time": "2022-03-16T16:26:47.725Z"
   },
   {
    "duration": 61,
    "start_time": "2022-03-16T16:26:47.746Z"
   },
   {
    "duration": 6,
    "start_time": "2022-03-16T16:26:47.809Z"
   },
   {
    "duration": 18,
    "start_time": "2022-03-16T16:26:47.818Z"
   },
   {
    "duration": 6,
    "start_time": "2022-03-16T16:26:47.838Z"
   },
   {
    "duration": 8,
    "start_time": "2022-03-16T16:26:47.846Z"
   },
   {
    "duration": 8,
    "start_time": "2022-03-16T16:26:47.881Z"
   },
   {
    "duration": 10,
    "start_time": "2022-03-16T16:26:47.890Z"
   },
   {
    "duration": 10,
    "start_time": "2022-03-16T16:26:47.901Z"
   },
   {
    "duration": 12,
    "start_time": "2022-03-16T16:26:47.913Z"
   },
   {
    "duration": 13,
    "start_time": "2022-03-16T16:26:47.927Z"
   },
   {
    "duration": 48,
    "start_time": "2022-03-16T16:26:47.942Z"
   },
   {
    "duration": 16,
    "start_time": "2022-03-16T16:26:47.993Z"
   },
   {
    "duration": 7,
    "start_time": "2022-03-16T16:26:48.011Z"
   },
   {
    "duration": 17,
    "start_time": "2022-03-16T16:26:48.019Z"
   },
   {
    "duration": 9,
    "start_time": "2022-03-16T16:26:48.038Z"
   },
   {
    "duration": 9,
    "start_time": "2022-03-16T16:26:48.100Z"
   },
   {
    "duration": 7,
    "start_time": "2022-03-16T16:26:48.176Z"
   },
   {
    "duration": 2,
    "start_time": "2022-03-16T16:26:48.249Z"
   },
   {
    "duration": 16,
    "start_time": "2022-03-16T16:26:48.256Z"
   },
   {
    "duration": 7,
    "start_time": "2022-03-16T16:26:48.273Z"
   },
   {
    "duration": 16,
    "start_time": "2022-03-16T16:26:48.398Z"
   },
   {
    "duration": 12,
    "start_time": "2022-03-16T16:26:48.417Z"
   },
   {
    "duration": 23,
    "start_time": "2022-03-16T16:26:48.431Z"
   },
   {
    "duration": 9,
    "start_time": "2022-03-16T16:26:48.509Z"
   },
   {
    "duration": 7,
    "start_time": "2022-03-16T16:26:48.520Z"
   },
   {
    "duration": 12,
    "start_time": "2022-03-16T16:29:38.407Z"
   },
   {
    "duration": 4,
    "start_time": "2022-03-16T16:36:37.113Z"
   },
   {
    "duration": 3,
    "start_time": "2022-03-16T16:36:57.428Z"
   },
   {
    "duration": 3,
    "start_time": "2022-03-16T16:37:02.156Z"
   },
   {
    "duration": 7,
    "start_time": "2022-03-16T16:37:10.035Z"
   },
   {
    "duration": 304,
    "start_time": "2022-03-16T16:39:23.729Z"
   },
   {
    "duration": 22,
    "start_time": "2022-03-16T16:39:33.300Z"
   },
   {
    "duration": 16,
    "start_time": "2022-03-16T16:39:45.376Z"
   },
   {
    "duration": 16,
    "start_time": "2022-03-16T16:39:53.008Z"
   },
   {
    "duration": 16,
    "start_time": "2022-03-16T16:41:28.875Z"
   },
   {
    "duration": 96,
    "start_time": "2022-03-16T16:43:22.035Z"
   },
   {
    "duration": 375,
    "start_time": "2022-03-16T16:49:34.055Z"
   },
   {
    "duration": 374,
    "start_time": "2022-03-16T16:49:48.610Z"
   },
   {
    "duration": 368,
    "start_time": "2022-03-16T16:50:34.729Z"
   },
   {
    "duration": 11,
    "start_time": "2022-03-16T16:51:10.478Z"
   },
   {
    "duration": 4,
    "start_time": "2022-03-16T16:53:53.762Z"
   },
   {
    "duration": 3,
    "start_time": "2022-03-16T16:54:24.078Z"
   },
   {
    "duration": 30,
    "start_time": "2022-03-16T16:56:15.435Z"
   },
   {
    "duration": 115,
    "start_time": "2022-03-17T08:45:07.942Z"
   },
   {
    "duration": 805,
    "start_time": "2022-03-17T08:45:43.756Z"
   },
   {
    "duration": 30,
    "start_time": "2022-03-17T08:45:44.565Z"
   },
   {
    "duration": 15,
    "start_time": "2022-03-17T08:45:44.598Z"
   },
   {
    "duration": 22,
    "start_time": "2022-03-17T08:45:44.616Z"
   },
   {
    "duration": 56,
    "start_time": "2022-03-17T08:45:44.641Z"
   },
   {
    "duration": 49,
    "start_time": "2022-03-17T08:45:44.699Z"
   },
   {
    "duration": 34,
    "start_time": "2022-03-17T08:45:44.750Z"
   },
   {
    "duration": 20,
    "start_time": "2022-03-17T08:45:44.786Z"
   },
   {
    "duration": 31,
    "start_time": "2022-03-17T08:45:44.809Z"
   },
   {
    "duration": 15,
    "start_time": "2022-03-17T08:45:44.844Z"
   },
   {
    "duration": 27,
    "start_time": "2022-03-17T08:45:44.861Z"
   },
   {
    "duration": 15,
    "start_time": "2022-03-17T08:45:44.891Z"
   },
   {
    "duration": 19,
    "start_time": "2022-03-17T08:45:44.908Z"
   },
   {
    "duration": 53,
    "start_time": "2022-03-17T08:45:44.929Z"
   },
   {
    "duration": 25,
    "start_time": "2022-03-17T08:45:44.984Z"
   },
   {
    "duration": 19,
    "start_time": "2022-03-17T08:45:45.011Z"
   },
   {
    "duration": 63,
    "start_time": "2022-03-17T08:45:45.033Z"
   },
   {
    "duration": 12,
    "start_time": "2022-03-17T08:45:45.099Z"
   },
   {
    "duration": 51,
    "start_time": "2022-03-17T08:45:45.114Z"
   },
   {
    "duration": 38,
    "start_time": "2022-03-17T08:45:45.168Z"
   },
   {
    "duration": 40,
    "start_time": "2022-03-17T08:45:45.208Z"
   },
   {
    "duration": 26,
    "start_time": "2022-03-17T08:45:45.251Z"
   },
   {
    "duration": 13,
    "start_time": "2022-03-17T08:45:45.279Z"
   },
   {
    "duration": 43,
    "start_time": "2022-03-17T08:45:45.294Z"
   },
   {
    "duration": 12,
    "start_time": "2022-03-17T08:45:45.339Z"
   },
   {
    "duration": 38,
    "start_time": "2022-03-17T08:45:45.353Z"
   },
   {
    "duration": 20,
    "start_time": "2022-03-17T08:45:45.394Z"
   },
   {
    "duration": 75,
    "start_time": "2022-03-17T08:45:45.420Z"
   },
   {
    "duration": 13,
    "start_time": "2022-03-17T08:45:45.497Z"
   },
   {
    "duration": 32,
    "start_time": "2022-03-17T08:45:45.512Z"
   },
   {
    "duration": 28,
    "start_time": "2022-03-17T08:45:45.547Z"
   },
   {
    "duration": 20,
    "start_time": "2022-03-17T08:45:45.583Z"
   },
   {
    "duration": 39,
    "start_time": "2022-03-17T08:45:45.606Z"
   },
   {
    "duration": 10,
    "start_time": "2022-03-17T08:45:45.647Z"
   },
   {
    "duration": 43,
    "start_time": "2022-03-17T08:45:45.660Z"
   },
   {
    "duration": 39,
    "start_time": "2022-03-17T08:45:45.705Z"
   },
   {
    "duration": 8,
    "start_time": "2022-03-17T08:45:51.601Z"
   },
   {
    "duration": 13,
    "start_time": "2022-03-17T08:46:04.833Z"
   },
   {
    "duration": 18,
    "start_time": "2022-03-17T08:47:44.378Z"
   },
   {
    "duration": 15,
    "start_time": "2022-03-17T08:48:02.587Z"
   },
   {
    "duration": 26,
    "start_time": "2022-03-17T08:49:57.739Z"
   },
   {
    "duration": 55,
    "start_time": "2022-03-17T08:50:13.598Z"
   },
   {
    "duration": 33,
    "start_time": "2022-03-17T08:50:40.634Z"
   },
   {
    "duration": 17,
    "start_time": "2022-03-17T08:50:59.342Z"
   },
   {
    "duration": 24,
    "start_time": "2022-03-17T08:51:42.381Z"
   },
   {
    "duration": 24,
    "start_time": "2022-03-17T08:54:18.332Z"
   },
   {
    "duration": 45,
    "start_time": "2022-03-17T08:55:36.669Z"
   },
   {
    "duration": 326,
    "start_time": "2022-03-17T08:57:18.904Z"
   },
   {
    "duration": 26,
    "start_time": "2022-03-17T08:57:36.606Z"
   },
   {
    "duration": 20,
    "start_time": "2022-03-17T08:58:21.259Z"
   },
   {
    "duration": 25,
    "start_time": "2022-03-17T08:58:56.759Z"
   },
   {
    "duration": 18,
    "start_time": "2022-03-17T09:02:05.215Z"
   },
   {
    "duration": 15,
    "start_time": "2022-03-17T09:02:48.283Z"
   },
   {
    "duration": 14,
    "start_time": "2022-03-17T09:03:03.794Z"
   },
   {
    "duration": 29,
    "start_time": "2022-03-17T09:03:17.608Z"
   },
   {
    "duration": 13,
    "start_time": "2022-03-17T09:03:22.284Z"
   },
   {
    "duration": 16,
    "start_time": "2022-03-17T09:04:29.756Z"
   },
   {
    "duration": 34,
    "start_time": "2022-03-17T09:09:22.326Z"
   },
   {
    "duration": 46,
    "start_time": "2022-03-17T09:09:32.566Z"
   },
   {
    "duration": 35,
    "start_time": "2022-03-17T09:12:49.743Z"
   },
   {
    "duration": 34,
    "start_time": "2022-03-17T09:13:11.536Z"
   },
   {
    "duration": 4409,
    "start_time": "2022-03-17T09:13:51.486Z"
   },
   {
    "duration": 30,
    "start_time": "2022-03-17T09:14:08.929Z"
   },
   {
    "duration": 52,
    "start_time": "2022-03-17T09:14:25.478Z"
   },
   {
    "duration": 16,
    "start_time": "2022-03-17T09:26:29.475Z"
   },
   {
    "duration": 15,
    "start_time": "2022-03-17T09:26:42.580Z"
   },
   {
    "duration": 856,
    "start_time": "2022-03-17T09:27:51.287Z"
   },
   {
    "duration": 26,
    "start_time": "2022-03-17T09:29:19.463Z"
   },
   {
    "duration": 4165,
    "start_time": "2022-03-17T09:29:26.269Z"
   },
   {
    "duration": 3441,
    "start_time": "2022-03-17T09:29:49.212Z"
   },
   {
    "duration": 6,
    "start_time": "2022-03-17T09:30:32.696Z"
   },
   {
    "duration": 10,
    "start_time": "2022-03-17T09:31:05.836Z"
   },
   {
    "duration": 274,
    "start_time": "2022-03-17T09:31:10.991Z"
   },
   {
    "duration": 29,
    "start_time": "2022-03-17T09:32:30.577Z"
   },
   {
    "duration": 19,
    "start_time": "2022-03-17T09:32:58.449Z"
   },
   {
    "duration": 283,
    "start_time": "2022-03-17T09:34:35.835Z"
   },
   {
    "duration": 18,
    "start_time": "2022-03-17T09:34:41.577Z"
   },
   {
    "duration": 311,
    "start_time": "2022-03-17T09:35:01.750Z"
   },
   {
    "duration": 188,
    "start_time": "2022-03-17T09:35:21.500Z"
   },
   {
    "duration": 369,
    "start_time": "2022-03-17T09:40:11.265Z"
   },
   {
    "duration": 22,
    "start_time": "2022-03-17T09:40:24.593Z"
   },
   {
    "duration": 30,
    "start_time": "2022-03-17T09:40:34.562Z"
   },
   {
    "duration": 120,
    "start_time": "2022-03-17T09:43:04.214Z"
   },
   {
    "duration": 49,
    "start_time": "2022-03-17T09:43:04.338Z"
   },
   {
    "duration": 16,
    "start_time": "2022-03-17T09:43:04.390Z"
   },
   {
    "duration": 36,
    "start_time": "2022-03-17T09:43:04.410Z"
   },
   {
    "duration": 137,
    "start_time": "2022-03-17T09:43:04.448Z"
   },
   {
    "duration": 47,
    "start_time": "2022-03-17T09:43:04.590Z"
   },
   {
    "duration": 9,
    "start_time": "2022-03-17T09:43:04.639Z"
   },
   {
    "duration": 67,
    "start_time": "2022-03-17T09:43:04.652Z"
   },
   {
    "duration": 28,
    "start_time": "2022-03-17T09:43:04.721Z"
   },
   {
    "duration": 10,
    "start_time": "2022-03-17T09:43:04.756Z"
   },
   {
    "duration": 32,
    "start_time": "2022-03-17T09:43:04.769Z"
   },
   {
    "duration": 33,
    "start_time": "2022-03-17T09:43:04.803Z"
   },
   {
    "duration": 26,
    "start_time": "2022-03-17T09:43:04.838Z"
   },
   {
    "duration": 57,
    "start_time": "2022-03-17T09:43:04.867Z"
   },
   {
    "duration": 40,
    "start_time": "2022-03-17T09:43:04.927Z"
   },
   {
    "duration": 24,
    "start_time": "2022-03-17T09:43:04.970Z"
   },
   {
    "duration": 53,
    "start_time": "2022-03-17T09:43:04.996Z"
   },
   {
    "duration": 28,
    "start_time": "2022-03-17T09:43:05.052Z"
   },
   {
    "duration": 53,
    "start_time": "2022-03-17T09:43:05.082Z"
   },
   {
    "duration": 27,
    "start_time": "2022-03-17T09:43:05.138Z"
   },
   {
    "duration": 27,
    "start_time": "2022-03-17T09:43:05.168Z"
   },
   {
    "duration": 39,
    "start_time": "2022-03-17T09:43:05.198Z"
   },
   {
    "duration": 28,
    "start_time": "2022-03-17T09:43:05.240Z"
   },
   {
    "duration": 54,
    "start_time": "2022-03-17T09:43:05.272Z"
   },
   {
    "duration": 17,
    "start_time": "2022-03-17T09:43:05.329Z"
   },
   {
    "duration": 77,
    "start_time": "2022-03-17T09:43:05.348Z"
   },
   {
    "duration": 21,
    "start_time": "2022-03-17T09:43:05.428Z"
   },
   {
    "duration": 74,
    "start_time": "2022-03-17T09:43:05.456Z"
   },
   {
    "duration": 17,
    "start_time": "2022-03-17T09:43:05.533Z"
   },
   {
    "duration": 43,
    "start_time": "2022-03-17T09:43:05.552Z"
   },
   {
    "duration": 46,
    "start_time": "2022-03-17T09:43:05.598Z"
   },
   {
    "duration": 43,
    "start_time": "2022-03-17T09:43:05.647Z"
   },
   {
    "duration": 64,
    "start_time": "2022-03-17T09:43:05.693Z"
   },
   {
    "duration": 15,
    "start_time": "2022-03-17T09:43:05.760Z"
   },
   {
    "duration": 20,
    "start_time": "2022-03-17T09:43:05.778Z"
   },
   {
    "duration": 71,
    "start_time": "2022-03-17T09:43:05.800Z"
   },
   {
    "duration": 28,
    "start_time": "2022-03-17T09:43:05.874Z"
   },
   {
    "duration": 6,
    "start_time": "2022-03-17T09:46:31.384Z"
   },
   {
    "duration": 3411,
    "start_time": "2022-03-17T09:46:43.774Z"
   },
   {
    "duration": 34,
    "start_time": "2022-03-17T09:46:57.329Z"
   },
   {
    "duration": 30,
    "start_time": "2022-03-17T09:47:15.048Z"
   },
   {
    "duration": 32,
    "start_time": "2022-03-17T09:47:43.639Z"
   },
   {
    "duration": 32,
    "start_time": "2022-03-17T09:47:53.021Z"
   },
   {
    "duration": 39,
    "start_time": "2022-03-17T09:48:32.329Z"
   },
   {
    "duration": 44,
    "start_time": "2022-03-17T09:51:32.465Z"
   },
   {
    "duration": 37,
    "start_time": "2022-03-17T09:53:28.517Z"
   },
   {
    "duration": 48,
    "start_time": "2022-03-17T09:53:43.375Z"
   },
   {
    "duration": 38,
    "start_time": "2022-03-17T09:54:15.892Z"
   },
   {
    "duration": 30,
    "start_time": "2022-03-17T09:55:05.684Z"
   },
   {
    "duration": 37,
    "start_time": "2022-03-17T09:55:18.467Z"
   },
   {
    "duration": 35,
    "start_time": "2022-03-17T09:55:38.771Z"
   },
   {
    "duration": 29,
    "start_time": "2022-03-17T09:57:33.166Z"
   },
   {
    "duration": 48,
    "start_time": "2022-03-17T09:57:45.336Z"
   },
   {
    "duration": 33,
    "start_time": "2022-03-17T09:59:51.811Z"
   },
   {
    "duration": 195,
    "start_time": "2022-03-17T10:00:25.131Z"
   },
   {
    "duration": 203,
    "start_time": "2022-03-17T10:01:22.941Z"
   },
   {
    "duration": 214,
    "start_time": "2022-03-17T10:01:59.271Z"
   },
   {
    "duration": 218,
    "start_time": "2022-03-17T10:19:20.917Z"
   },
   {
    "duration": 32,
    "start_time": "2022-03-17T10:23:42.290Z"
   },
   {
    "duration": 43,
    "start_time": "2022-03-17T10:24:10.880Z"
   },
   {
    "duration": 36,
    "start_time": "2022-03-17T10:26:41.756Z"
   },
   {
    "duration": 3436,
    "start_time": "2022-03-17T10:28:33.283Z"
   },
   {
    "duration": 115,
    "start_time": "2022-03-17T10:29:01.329Z"
   },
   {
    "duration": 42,
    "start_time": "2022-03-17T10:29:01.447Z"
   },
   {
    "duration": 22,
    "start_time": "2022-03-17T10:29:01.492Z"
   },
   {
    "duration": 34,
    "start_time": "2022-03-17T10:29:01.518Z"
   },
   {
    "duration": 60,
    "start_time": "2022-03-17T10:29:01.556Z"
   },
   {
    "duration": 82,
    "start_time": "2022-03-17T10:29:01.619Z"
   },
   {
    "duration": 9,
    "start_time": "2022-03-17T10:29:01.704Z"
   },
   {
    "duration": 47,
    "start_time": "2022-03-17T10:29:01.716Z"
   },
   {
    "duration": 32,
    "start_time": "2022-03-17T10:29:01.766Z"
   },
   {
    "duration": 24,
    "start_time": "2022-03-17T10:29:01.802Z"
   },
   {
    "duration": 31,
    "start_time": "2022-03-17T10:29:01.828Z"
   },
   {
    "duration": 22,
    "start_time": "2022-03-17T10:29:01.862Z"
   },
   {
    "duration": 31,
    "start_time": "2022-03-17T10:29:01.886Z"
   },
   {
    "duration": 27,
    "start_time": "2022-03-17T10:29:01.924Z"
   },
   {
    "duration": 77,
    "start_time": "2022-03-17T10:29:01.954Z"
   },
   {
    "duration": 25,
    "start_time": "2022-03-17T10:29:02.036Z"
   },
   {
    "duration": 39,
    "start_time": "2022-03-17T10:29:02.064Z"
   },
   {
    "duration": 12,
    "start_time": "2022-03-17T10:29:02.105Z"
   },
   {
    "duration": 29,
    "start_time": "2022-03-17T10:29:02.120Z"
   },
   {
    "duration": 43,
    "start_time": "2022-03-17T10:29:02.152Z"
   },
   {
    "duration": 26,
    "start_time": "2022-03-17T10:29:02.197Z"
   },
   {
    "duration": 42,
    "start_time": "2022-03-17T10:29:02.226Z"
   },
   {
    "duration": 23,
    "start_time": "2022-03-17T10:29:02.271Z"
   },
   {
    "duration": 52,
    "start_time": "2022-03-17T10:29:02.297Z"
   },
   {
    "duration": 54,
    "start_time": "2022-03-17T10:29:02.352Z"
   },
   {
    "duration": 59,
    "start_time": "2022-03-17T10:29:02.409Z"
   },
   {
    "duration": 26,
    "start_time": "2022-03-17T10:29:02.470Z"
   },
   {
    "duration": 81,
    "start_time": "2022-03-17T10:29:02.500Z"
   },
   {
    "duration": 16,
    "start_time": "2022-03-17T10:29:02.584Z"
   },
   {
    "duration": 25,
    "start_time": "2022-03-17T10:29:02.603Z"
   },
   {
    "duration": 32,
    "start_time": "2022-03-17T10:29:02.631Z"
   },
   {
    "duration": 28,
    "start_time": "2022-03-17T10:29:02.666Z"
   },
   {
    "duration": 47,
    "start_time": "2022-03-17T10:29:02.696Z"
   },
   {
    "duration": 11,
    "start_time": "2022-03-17T10:29:02.746Z"
   },
   {
    "duration": 6,
    "start_time": "2022-03-17T10:29:02.783Z"
   },
   {
    "duration": 50,
    "start_time": "2022-03-17T10:29:02.791Z"
   },
   {
    "duration": 4518,
    "start_time": "2022-03-17T10:29:10.353Z"
   },
   {
    "duration": 34,
    "start_time": "2022-03-17T10:29:28.547Z"
   },
   {
    "duration": 206,
    "start_time": "2022-03-17T10:29:36.416Z"
   },
   {
    "duration": 1301,
    "start_time": "2022-03-17T10:29:54.949Z"
   },
   {
    "duration": 36,
    "start_time": "2022-03-17T10:30:11.291Z"
   },
   {
    "duration": 52,
    "start_time": "2022-03-17T10:31:19.114Z"
   },
   {
    "duration": 59,
    "start_time": "2022-03-17T10:31:26.548Z"
   },
   {
    "duration": 50,
    "start_time": "2022-03-17T10:32:10.979Z"
   },
   {
    "duration": 242,
    "start_time": "2022-03-17T10:35:54.312Z"
   },
   {
    "duration": 244,
    "start_time": "2022-03-17T10:36:13.048Z"
   },
   {
    "duration": 273,
    "start_time": "2022-03-17T10:36:26.705Z"
   },
   {
    "duration": 256,
    "start_time": "2022-03-17T10:37:11.771Z"
   },
   {
    "duration": 310,
    "start_time": "2022-03-17T10:37:20.110Z"
   },
   {
    "duration": 69,
    "start_time": "2022-03-17T10:53:47.368Z"
   },
   {
    "duration": 46,
    "start_time": "2022-03-17T10:54:22.509Z"
   },
   {
    "duration": 45,
    "start_time": "2022-03-17T10:54:50.015Z"
   },
   {
    "duration": 35,
    "start_time": "2022-03-17T10:55:15.046Z"
   },
   {
    "duration": 38,
    "start_time": "2022-03-17T10:59:04.985Z"
   },
   {
    "duration": 3462,
    "start_time": "2022-03-17T11:01:44.697Z"
   },
   {
    "duration": 200,
    "start_time": "2022-03-17T11:02:22.945Z"
   },
   {
    "duration": 1228,
    "start_time": "2022-03-17T11:11:14.010Z"
   },
   {
    "duration": 124,
    "start_time": "2022-03-17T11:11:32.505Z"
   },
   {
    "duration": 31,
    "start_time": "2022-03-17T11:11:32.632Z"
   },
   {
    "duration": 21,
    "start_time": "2022-03-17T11:11:32.687Z"
   },
   {
    "duration": 28,
    "start_time": "2022-03-17T11:11:32.711Z"
   },
   {
    "duration": 146,
    "start_time": "2022-03-17T11:11:32.742Z"
   },
   {
    "duration": 60,
    "start_time": "2022-03-17T11:11:32.891Z"
   },
   {
    "duration": 9,
    "start_time": "2022-03-17T11:11:32.954Z"
   },
   {
    "duration": 40,
    "start_time": "2022-03-17T11:11:32.966Z"
   },
   {
    "duration": 10,
    "start_time": "2022-03-17T11:11:33.009Z"
   },
   {
    "duration": 13,
    "start_time": "2022-03-17T11:11:33.021Z"
   },
   {
    "duration": 26,
    "start_time": "2022-03-17T11:11:33.037Z"
   },
   {
    "duration": 21,
    "start_time": "2022-03-17T11:11:33.082Z"
   },
   {
    "duration": 29,
    "start_time": "2022-03-17T11:11:33.105Z"
   },
   {
    "duration": 58,
    "start_time": "2022-03-17T11:11:33.139Z"
   },
   {
    "duration": 27,
    "start_time": "2022-03-17T11:11:33.200Z"
   },
   {
    "duration": 19,
    "start_time": "2022-03-17T11:11:33.230Z"
   },
   {
    "duration": 62,
    "start_time": "2022-03-17T11:11:33.252Z"
   },
   {
    "duration": 12,
    "start_time": "2022-03-17T11:11:33.318Z"
   },
   {
    "duration": 64,
    "start_time": "2022-03-17T11:11:33.333Z"
   },
   {
    "duration": 14,
    "start_time": "2022-03-17T11:11:33.400Z"
   },
   {
    "duration": 12,
    "start_time": "2022-03-17T11:11:33.417Z"
   },
   {
    "duration": 18,
    "start_time": "2022-03-17T11:11:33.432Z"
   },
   {
    "duration": 43,
    "start_time": "2022-03-17T11:11:33.455Z"
   },
   {
    "duration": 38,
    "start_time": "2022-03-17T11:11:33.501Z"
   },
   {
    "duration": 9,
    "start_time": "2022-03-17T11:11:33.543Z"
   },
   {
    "duration": 48,
    "start_time": "2022-03-17T11:11:33.555Z"
   },
   {
    "duration": 30,
    "start_time": "2022-03-17T11:11:33.605Z"
   },
   {
    "duration": 91,
    "start_time": "2022-03-17T11:11:33.638Z"
   },
   {
    "duration": 17,
    "start_time": "2022-03-17T11:11:33.732Z"
   },
   {
    "duration": 50,
    "start_time": "2022-03-17T11:11:33.753Z"
   },
   {
    "duration": 21,
    "start_time": "2022-03-17T11:11:33.807Z"
   },
   {
    "duration": 10,
    "start_time": "2022-03-17T11:11:33.831Z"
   },
   {
    "duration": 53,
    "start_time": "2022-03-17T11:11:33.844Z"
   },
   {
    "duration": 13,
    "start_time": "2022-03-17T11:11:33.900Z"
   },
   {
    "duration": 6,
    "start_time": "2022-03-17T11:11:33.915Z"
   },
   {
    "duration": 63,
    "start_time": "2022-03-17T11:11:33.923Z"
   },
   {
    "duration": 31,
    "start_time": "2022-03-17T11:11:33.995Z"
   },
   {
    "duration": 30,
    "start_time": "2022-03-17T11:11:34.028Z"
   },
   {
    "duration": 250,
    "start_time": "2022-03-17T11:11:34.061Z"
   },
   {
    "duration": 70,
    "start_time": "2022-03-17T11:11:34.314Z"
   },
   {
    "duration": 249,
    "start_time": "2022-03-17T11:11:34.396Z"
   },
   {
    "duration": 1640,
    "start_time": "2022-03-17T11:11:40.625Z"
   },
   {
    "duration": 38,
    "start_time": "2022-03-17T11:12:06.012Z"
   },
   {
    "duration": 183,
    "start_time": "2022-03-17T11:12:11.903Z"
   },
   {
    "duration": 22,
    "start_time": "2022-03-17T11:23:32.512Z"
   },
   {
    "duration": 38,
    "start_time": "2022-03-17T11:23:39.318Z"
   },
   {
    "duration": 43,
    "start_time": "2022-03-17T11:23:55.171Z"
   },
   {
    "duration": 4764,
    "start_time": "2022-03-17T11:24:28.744Z"
   },
   {
    "duration": 267,
    "start_time": "2022-03-17T11:24:50.673Z"
   },
   {
    "duration": 243,
    "start_time": "2022-03-17T11:25:19.300Z"
   },
   {
    "duration": 237,
    "start_time": "2022-03-17T11:26:20.777Z"
   },
   {
    "duration": 206,
    "start_time": "2022-03-17T11:46:20.350Z"
   },
   {
    "duration": 208,
    "start_time": "2022-03-17T11:47:14.141Z"
   },
   {
    "duration": 188,
    "start_time": "2022-03-17T11:47:34.908Z"
   },
   {
    "duration": 75,
    "start_time": "2022-03-17T13:22:10.761Z"
   },
   {
    "duration": 679,
    "start_time": "2022-03-17T13:22:18.736Z"
   },
   {
    "duration": 22,
    "start_time": "2022-03-17T13:22:19.418Z"
   },
   {
    "duration": 13,
    "start_time": "2022-03-17T13:22:19.442Z"
   },
   {
    "duration": 20,
    "start_time": "2022-03-17T13:22:19.482Z"
   },
   {
    "duration": 24,
    "start_time": "2022-03-17T13:22:19.505Z"
   },
   {
    "duration": 79,
    "start_time": "2022-03-17T13:22:19.531Z"
   },
   {
    "duration": 8,
    "start_time": "2022-03-17T13:22:19.612Z"
   },
   {
    "duration": 26,
    "start_time": "2022-03-17T13:22:19.622Z"
   },
   {
    "duration": 36,
    "start_time": "2022-03-17T13:22:19.652Z"
   },
   {
    "duration": 7,
    "start_time": "2022-03-17T13:22:19.692Z"
   },
   {
    "duration": 13,
    "start_time": "2022-03-17T13:22:19.702Z"
   },
   {
    "duration": 17,
    "start_time": "2022-03-17T13:22:19.717Z"
   },
   {
    "duration": 53,
    "start_time": "2022-03-17T13:22:19.737Z"
   },
   {
    "duration": 24,
    "start_time": "2022-03-17T13:22:19.792Z"
   },
   {
    "duration": 25,
    "start_time": "2022-03-17T13:22:19.818Z"
   },
   {
    "duration": 52,
    "start_time": "2022-03-17T13:22:19.845Z"
   },
   {
    "duration": 29,
    "start_time": "2022-03-17T13:22:19.900Z"
   },
   {
    "duration": 10,
    "start_time": "2022-03-17T13:22:19.931Z"
   },
   {
    "duration": 56,
    "start_time": "2022-03-17T13:22:19.944Z"
   },
   {
    "duration": 11,
    "start_time": "2022-03-17T13:22:20.002Z"
   },
   {
    "duration": 13,
    "start_time": "2022-03-17T13:22:20.016Z"
   },
   {
    "duration": 19,
    "start_time": "2022-03-17T13:22:20.031Z"
   },
   {
    "duration": 4,
    "start_time": "2022-03-17T13:22:20.082Z"
   },
   {
    "duration": 32,
    "start_time": "2022-03-17T13:22:20.088Z"
   },
   {
    "duration": 12,
    "start_time": "2022-03-17T13:22:20.122Z"
   },
   {
    "duration": 60,
    "start_time": "2022-03-17T13:22:20.136Z"
   },
   {
    "duration": 20,
    "start_time": "2022-03-17T13:22:20.199Z"
   },
   {
    "duration": 73,
    "start_time": "2022-03-17T13:22:20.227Z"
   },
   {
    "duration": 13,
    "start_time": "2022-03-17T13:22:20.303Z"
   },
   {
    "duration": 19,
    "start_time": "2022-03-17T13:22:20.318Z"
   },
   {
    "duration": 52,
    "start_time": "2022-03-17T13:22:20.340Z"
   },
   {
    "duration": 6,
    "start_time": "2022-03-17T13:22:20.395Z"
   },
   {
    "duration": 32,
    "start_time": "2022-03-17T13:22:20.403Z"
   },
   {
    "duration": 11,
    "start_time": "2022-03-17T13:22:20.438Z"
   },
   {
    "duration": 33,
    "start_time": "2022-03-17T13:22:20.452Z"
   },
   {
    "duration": 38,
    "start_time": "2022-03-17T13:22:20.488Z"
   },
   {
    "duration": 56,
    "start_time": "2022-03-17T13:22:20.529Z"
   },
   {
    "duration": 31,
    "start_time": "2022-03-17T13:22:20.588Z"
   },
   {
    "duration": 884,
    "start_time": "2022-03-17T13:22:20.622Z"
   },
   {
    "duration": 40,
    "start_time": "2022-03-17T13:22:21.508Z"
   },
   {
    "duration": 242,
    "start_time": "2022-03-17T13:22:21.550Z"
   },
   {
    "duration": 39,
    "start_time": "2022-03-17T13:22:21.795Z"
   },
   {
    "duration": 221,
    "start_time": "2022-03-17T13:22:21.837Z"
   },
   {
    "duration": 48,
    "start_time": "2022-03-17T13:22:22.060Z"
   },
   {
    "duration": 237,
    "start_time": "2022-03-17T13:22:22.111Z"
   },
   {
    "duration": 3999,
    "start_time": "2022-03-17T13:22:26.835Z"
   },
   {
    "duration": 3366,
    "start_time": "2022-03-17T13:22:42.092Z"
   },
   {
    "duration": 5126,
    "start_time": "2022-03-17T13:23:06.701Z"
   },
   {
    "duration": 6,
    "start_time": "2022-03-17T13:23:35.589Z"
   },
   {
    "duration": 14,
    "start_time": "2022-03-17T13:23:45.624Z"
   },
   {
    "duration": 18,
    "start_time": "2022-03-17T13:23:58.281Z"
   },
   {
    "duration": 16,
    "start_time": "2022-03-17T13:26:56.298Z"
   },
   {
    "duration": 16,
    "start_time": "2022-03-17T13:27:14.826Z"
   },
   {
    "duration": 8,
    "start_time": "2022-03-17T13:27:25.606Z"
   },
   {
    "duration": 9,
    "start_time": "2022-03-17T13:28:01.544Z"
   },
   {
    "duration": 10,
    "start_time": "2022-03-17T13:28:30.612Z"
   },
   {
    "duration": 9,
    "start_time": "2022-03-17T13:28:39.314Z"
   },
   {
    "duration": 16,
    "start_time": "2022-03-17T13:28:48.341Z"
   },
   {
    "duration": 14,
    "start_time": "2022-03-17T13:28:56.048Z"
   },
   {
    "duration": 15,
    "start_time": "2022-03-17T13:32:17.634Z"
   },
   {
    "duration": 155,
    "start_time": "2022-03-17T13:43:36.009Z"
   },
   {
    "duration": 24,
    "start_time": "2022-03-17T13:43:36.184Z"
   },
   {
    "duration": 15,
    "start_time": "2022-03-17T13:43:36.211Z"
   },
   {
    "duration": 59,
    "start_time": "2022-03-17T13:43:36.230Z"
   },
   {
    "duration": 23,
    "start_time": "2022-03-17T13:43:36.291Z"
   },
   {
    "duration": 70,
    "start_time": "2022-03-17T13:43:36.317Z"
   },
   {
    "duration": 9,
    "start_time": "2022-03-17T13:43:36.389Z"
   },
   {
    "duration": 24,
    "start_time": "2022-03-17T13:43:36.401Z"
   },
   {
    "duration": 10,
    "start_time": "2022-03-17T13:43:36.427Z"
   },
   {
    "duration": 45,
    "start_time": "2022-03-17T13:43:36.441Z"
   },
   {
    "duration": 15,
    "start_time": "2022-03-17T13:43:36.489Z"
   },
   {
    "duration": 23,
    "start_time": "2022-03-17T13:43:36.507Z"
   },
   {
    "duration": 62,
    "start_time": "2022-03-17T13:43:36.532Z"
   },
   {
    "duration": 23,
    "start_time": "2022-03-17T13:43:36.596Z"
   },
   {
    "duration": 24,
    "start_time": "2022-03-17T13:43:36.621Z"
   },
   {
    "duration": 50,
    "start_time": "2022-03-17T13:43:36.647Z"
   },
   {
    "duration": 26,
    "start_time": "2022-03-17T13:43:36.699Z"
   },
   {
    "duration": 9,
    "start_time": "2022-03-17T13:43:36.728Z"
   },
   {
    "duration": 62,
    "start_time": "2022-03-17T13:43:36.740Z"
   },
   {
    "duration": 12,
    "start_time": "2022-03-17T13:43:36.804Z"
   },
   {
    "duration": 16,
    "start_time": "2022-03-17T13:43:36.819Z"
   },
   {
    "duration": 12,
    "start_time": "2022-03-17T13:43:36.837Z"
   },
   {
    "duration": 32,
    "start_time": "2022-03-17T13:43:36.851Z"
   },
   {
    "duration": 29,
    "start_time": "2022-03-17T13:43:36.886Z"
   },
   {
    "duration": 11,
    "start_time": "2022-03-17T13:43:36.917Z"
   },
   {
    "duration": 57,
    "start_time": "2022-03-17T13:43:36.930Z"
   },
   {
    "duration": 20,
    "start_time": "2022-03-17T13:43:36.989Z"
   },
   {
    "duration": 43,
    "start_time": "2022-03-17T13:43:37.014Z"
   },
   {
    "duration": 37,
    "start_time": "2022-03-17T13:43:37.059Z"
   },
   {
    "duration": 15,
    "start_time": "2022-03-17T13:43:37.099Z"
   },
   {
    "duration": 18,
    "start_time": "2022-03-17T13:43:37.117Z"
   },
   {
    "duration": 6,
    "start_time": "2022-03-17T13:43:37.181Z"
   },
   {
    "duration": 30,
    "start_time": "2022-03-17T13:43:37.189Z"
   },
   {
    "duration": 9,
    "start_time": "2022-03-17T13:43:37.222Z"
   },
   {
    "duration": 6,
    "start_time": "2022-03-17T13:43:37.234Z"
   },
   {
    "duration": 69,
    "start_time": "2022-03-17T13:43:37.242Z"
   },
   {
    "duration": 28,
    "start_time": "2022-03-17T13:43:37.313Z"
   },
   {
    "duration": 60,
    "start_time": "2022-03-17T13:43:37.343Z"
   },
   {
    "duration": 244,
    "start_time": "2022-03-17T13:43:37.406Z"
   },
   {
    "duration": 55,
    "start_time": "2022-03-17T13:43:37.653Z"
   },
   {
    "duration": 240,
    "start_time": "2022-03-17T13:43:37.711Z"
   },
   {
    "duration": 55,
    "start_time": "2022-03-17T13:43:37.953Z"
   },
   {
    "duration": 236,
    "start_time": "2022-03-17T13:43:38.010Z"
   },
   {
    "duration": 54,
    "start_time": "2022-03-17T13:43:38.249Z"
   },
   {
    "duration": 239,
    "start_time": "2022-03-17T13:43:38.306Z"
   },
   {
    "duration": 248,
    "start_time": "2022-03-17T13:43:38.547Z"
   },
   {
    "duration": 0,
    "start_time": "2022-03-17T13:43:38.798Z"
   },
   {
    "duration": 0,
    "start_time": "2022-03-17T13:43:38.800Z"
   },
   {
    "duration": 13,
    "start_time": "2022-03-17T13:43:50.915Z"
   },
   {
    "duration": 12,
    "start_time": "2022-03-17T13:43:52.126Z"
   },
   {
    "duration": 413,
    "start_time": "2022-03-17T14:05:44.743Z"
   },
   {
    "duration": 791,
    "start_time": "2022-03-17T14:47:46.164Z"
   },
   {
    "duration": 30,
    "start_time": "2022-03-17T14:47:46.958Z"
   },
   {
    "duration": 13,
    "start_time": "2022-03-17T14:47:46.991Z"
   },
   {
    "duration": 26,
    "start_time": "2022-03-17T14:47:47.007Z"
   },
   {
    "duration": 48,
    "start_time": "2022-03-17T14:47:47.035Z"
   },
   {
    "duration": 49,
    "start_time": "2022-03-17T14:47:47.086Z"
   },
   {
    "duration": 7,
    "start_time": "2022-03-17T14:47:47.138Z"
   },
   {
    "duration": 61,
    "start_time": "2022-03-17T14:47:47.148Z"
   },
   {
    "duration": 8,
    "start_time": "2022-03-17T14:47:47.212Z"
   },
   {
    "duration": 5,
    "start_time": "2022-03-17T14:47:47.225Z"
   },
   {
    "duration": 20,
    "start_time": "2022-03-17T14:47:47.233Z"
   },
   {
    "duration": 43,
    "start_time": "2022-03-17T14:47:47.255Z"
   },
   {
    "duration": 29,
    "start_time": "2022-03-17T14:47:47.301Z"
   },
   {
    "duration": 61,
    "start_time": "2022-03-17T14:47:47.332Z"
   },
   {
    "duration": 36,
    "start_time": "2022-03-17T14:47:47.396Z"
   },
   {
    "duration": 51,
    "start_time": "2022-03-17T14:47:47.434Z"
   },
   {
    "duration": 38,
    "start_time": "2022-03-17T14:47:47.488Z"
   },
   {
    "duration": 11,
    "start_time": "2022-03-17T14:47:47.529Z"
   },
   {
    "duration": 64,
    "start_time": "2022-03-17T14:47:47.546Z"
   },
   {
    "duration": 13,
    "start_time": "2022-03-17T14:47:47.613Z"
   },
   {
    "duration": 12,
    "start_time": "2022-03-17T14:47:47.629Z"
   },
   {
    "duration": 46,
    "start_time": "2022-03-17T14:47:47.644Z"
   },
   {
    "duration": 12,
    "start_time": "2022-03-17T14:47:47.692Z"
   },
   {
    "duration": 39,
    "start_time": "2022-03-17T14:47:47.707Z"
   },
   {
    "duration": 14,
    "start_time": "2022-03-17T14:47:47.749Z"
   },
   {
    "duration": 43,
    "start_time": "2022-03-17T14:47:47.766Z"
   },
   {
    "duration": 21,
    "start_time": "2022-03-17T14:47:47.811Z"
   },
   {
    "duration": 74,
    "start_time": "2022-03-17T14:47:47.839Z"
   },
   {
    "duration": 15,
    "start_time": "2022-03-17T14:47:47.915Z"
   },
   {
    "duration": 14,
    "start_time": "2022-03-17T14:47:47.933Z"
   },
   {
    "duration": 47,
    "start_time": "2022-03-17T14:47:47.950Z"
   },
   {
    "duration": 5,
    "start_time": "2022-03-17T14:47:48.000Z"
   },
   {
    "duration": 40,
    "start_time": "2022-03-17T14:47:48.007Z"
   },
   {
    "duration": 34,
    "start_time": "2022-03-17T14:47:48.049Z"
   },
   {
    "duration": 6,
    "start_time": "2022-03-17T14:47:48.086Z"
   },
   {
    "duration": 39,
    "start_time": "2022-03-17T14:47:48.095Z"
   },
   {
    "duration": 53,
    "start_time": "2022-03-17T14:47:48.137Z"
   },
   {
    "duration": 43,
    "start_time": "2022-03-17T14:47:48.193Z"
   },
   {
    "duration": 746,
    "start_time": "2022-03-17T14:47:48.239Z"
   },
   {
    "duration": 56,
    "start_time": "2022-03-17T14:47:48.988Z"
   },
   {
    "duration": 253,
    "start_time": "2022-03-17T14:47:49.047Z"
   },
   {
    "duration": 44,
    "start_time": "2022-03-17T14:47:49.303Z"
   },
   {
    "duration": 230,
    "start_time": "2022-03-17T14:47:49.350Z"
   },
   {
    "duration": 38,
    "start_time": "2022-03-17T14:47:49.583Z"
   },
   {
    "duration": 318,
    "start_time": "2022-03-17T14:47:49.624Z"
   },
   {
    "duration": 19,
    "start_time": "2022-03-17T14:47:49.944Z"
   },
   {
    "duration": 12,
    "start_time": "2022-03-17T14:47:49.983Z"
   },
   {
    "duration": 71,
    "start_time": "2022-03-17T17:20:54.821Z"
   },
   {
    "duration": 583,
    "start_time": "2022-03-17T17:25:16.375Z"
   },
   {
    "duration": 22,
    "start_time": "2022-03-17T17:25:16.961Z"
   },
   {
    "duration": 14,
    "start_time": "2022-03-17T17:25:16.985Z"
   },
   {
    "duration": 53,
    "start_time": "2022-03-17T17:25:17.002Z"
   },
   {
    "duration": 22,
    "start_time": "2022-03-17T17:25:17.057Z"
   },
   {
    "duration": 69,
    "start_time": "2022-03-17T17:25:17.081Z"
   },
   {
    "duration": 6,
    "start_time": "2022-03-17T17:25:17.152Z"
   },
   {
    "duration": 4,
    "start_time": "2022-03-18T10:21:51.660Z"
   },
   {
    "duration": 46,
    "start_time": "2022-03-18T10:32:51.688Z"
   },
   {
    "duration": 506,
    "start_time": "2022-03-18T10:33:13.408Z"
   },
   {
    "duration": 15,
    "start_time": "2022-03-18T10:33:13.916Z"
   },
   {
    "duration": 10,
    "start_time": "2022-03-18T10:33:13.932Z"
   },
   {
    "duration": 14,
    "start_time": "2022-03-18T10:33:13.944Z"
   },
   {
    "duration": 13,
    "start_time": "2022-03-18T10:33:13.960Z"
   },
   {
    "duration": 56,
    "start_time": "2022-03-18T10:33:13.975Z"
   },
   {
    "duration": 5,
    "start_time": "2022-03-18T10:33:14.032Z"
   },
   {
    "duration": 14,
    "start_time": "2022-03-18T10:33:14.039Z"
   },
   {
    "duration": 7,
    "start_time": "2022-03-18T10:33:14.054Z"
   },
   {
    "duration": 6,
    "start_time": "2022-03-18T10:33:14.063Z"
   },
   {
    "duration": 11,
    "start_time": "2022-03-18T10:33:14.070Z"
   },
   {
    "duration": 12,
    "start_time": "2022-03-18T10:33:14.109Z"
   },
   {
    "duration": 16,
    "start_time": "2022-03-18T10:33:14.122Z"
   },
   {
    "duration": 16,
    "start_time": "2022-03-18T10:33:14.140Z"
   },
   {
    "duration": 16,
    "start_time": "2022-03-18T10:33:14.158Z"
   },
   {
    "duration": 42,
    "start_time": "2022-03-18T10:33:14.175Z"
   },
   {
    "duration": 19,
    "start_time": "2022-03-18T10:33:14.219Z"
   },
   {
    "duration": 7,
    "start_time": "2022-03-18T10:33:14.239Z"
   },
   {
    "duration": 18,
    "start_time": "2022-03-18T10:33:14.248Z"
   },
   {
    "duration": 7,
    "start_time": "2022-03-18T10:33:14.267Z"
   },
   {
    "duration": 38,
    "start_time": "2022-03-18T10:33:14.276Z"
   },
   {
    "duration": 15,
    "start_time": "2022-03-18T10:33:14.316Z"
   },
   {
    "duration": 7,
    "start_time": "2022-03-18T10:33:14.333Z"
   },
   {
    "duration": 19,
    "start_time": "2022-03-18T10:33:14.342Z"
   },
   {
    "duration": 7,
    "start_time": "2022-03-18T10:33:14.363Z"
   },
   {
    "duration": 40,
    "start_time": "2022-03-18T10:33:14.372Z"
   },
   {
    "duration": 11,
    "start_time": "2022-03-18T10:33:14.414Z"
   },
   {
    "duration": 30,
    "start_time": "2022-03-18T10:33:14.428Z"
   },
   {
    "duration": 9,
    "start_time": "2022-03-18T10:33:14.460Z"
   },
   {
    "duration": 38,
    "start_time": "2022-03-18T10:33:14.471Z"
   },
   {
    "duration": 11,
    "start_time": "2022-03-18T10:33:14.511Z"
   },
   {
    "duration": 6,
    "start_time": "2022-03-18T10:33:14.524Z"
   },
   {
    "duration": 23,
    "start_time": "2022-03-18T10:33:14.532Z"
   },
   {
    "duration": 7,
    "start_time": "2022-03-18T10:33:14.557Z"
   },
   {
    "duration": 8,
    "start_time": "2022-03-18T10:33:14.565Z"
   },
   {
    "duration": 38,
    "start_time": "2022-03-18T10:33:14.575Z"
   },
   {
    "duration": 18,
    "start_time": "2022-03-18T10:33:14.616Z"
   },
   {
    "duration": 20,
    "start_time": "2022-03-18T10:33:14.636Z"
   },
   {
    "duration": 559,
    "start_time": "2022-03-18T10:33:14.657Z"
   },
   {
    "duration": 27,
    "start_time": "2022-03-18T10:33:15.218Z"
   },
   {
    "duration": 151,
    "start_time": "2022-03-18T10:33:15.246Z"
   },
   {
    "duration": 30,
    "start_time": "2022-03-18T10:33:15.399Z"
   },
   {
    "duration": 135,
    "start_time": "2022-03-18T10:33:15.431Z"
   },
   {
    "duration": 25,
    "start_time": "2022-03-18T10:33:15.567Z"
   },
   {
    "duration": 158,
    "start_time": "2022-03-18T10:33:15.594Z"
   },
   {
    "duration": 10,
    "start_time": "2022-03-18T10:33:15.754Z"
   },
   {
    "duration": 11,
    "start_time": "2022-03-18T10:33:15.765Z"
   },
   {
    "duration": 476,
    "start_time": "2022-03-27T12:47:59.303Z"
   },
   {
    "duration": 20,
    "start_time": "2022-03-27T12:47:59.781Z"
   },
   {
    "duration": 16,
    "start_time": "2022-03-27T12:47:59.803Z"
   },
   {
    "duration": 32,
    "start_time": "2022-03-27T12:47:59.821Z"
   },
   {
    "duration": 20,
    "start_time": "2022-03-27T12:47:59.855Z"
   },
   {
    "duration": 44,
    "start_time": "2022-03-27T12:47:59.876Z"
   },
   {
    "duration": 6,
    "start_time": "2022-03-27T12:47:59.921Z"
   },
   {
    "duration": 39,
    "start_time": "2022-03-27T12:47:59.928Z"
   },
   {
    "duration": 21,
    "start_time": "2022-03-27T12:47:59.969Z"
   },
   {
    "duration": 23,
    "start_time": "2022-03-27T12:47:59.993Z"
   },
   {
    "duration": 25,
    "start_time": "2022-03-27T12:48:00.018Z"
   },
   {
    "duration": 23,
    "start_time": "2022-03-27T12:48:00.045Z"
   },
   {
    "duration": 44,
    "start_time": "2022-03-27T12:48:00.069Z"
   },
   {
    "duration": 18,
    "start_time": "2022-03-27T12:48:00.114Z"
   },
   {
    "duration": 16,
    "start_time": "2022-03-27T12:48:00.133Z"
   },
   {
    "duration": 13,
    "start_time": "2022-03-27T12:48:00.151Z"
   },
   {
    "duration": 37,
    "start_time": "2022-03-27T12:48:00.166Z"
   },
   {
    "duration": 7,
    "start_time": "2022-03-27T12:48:00.204Z"
   },
   {
    "duration": 36,
    "start_time": "2022-03-27T12:48:00.213Z"
   },
   {
    "duration": 20,
    "start_time": "2022-03-27T12:48:00.250Z"
   },
   {
    "duration": 20,
    "start_time": "2022-03-27T12:48:00.272Z"
   },
   {
    "duration": 26,
    "start_time": "2022-03-27T12:48:00.294Z"
   },
   {
    "duration": 14,
    "start_time": "2022-03-27T12:48:00.322Z"
   },
   {
    "duration": 41,
    "start_time": "2022-03-27T12:48:00.338Z"
   },
   {
    "duration": 21,
    "start_time": "2022-03-27T12:48:00.381Z"
   },
   {
    "duration": 39,
    "start_time": "2022-03-27T12:48:00.403Z"
   },
   {
    "duration": 13,
    "start_time": "2022-03-27T12:48:00.443Z"
   },
   {
    "duration": 28,
    "start_time": "2022-03-27T12:48:00.459Z"
   },
   {
    "duration": 9,
    "start_time": "2022-03-27T12:48:00.489Z"
   },
   {
    "duration": 15,
    "start_time": "2022-03-27T12:48:00.500Z"
   },
   {
    "duration": 16,
    "start_time": "2022-03-27T12:48:00.516Z"
   },
   {
    "duration": 15,
    "start_time": "2022-03-27T12:48:00.533Z"
   },
   {
    "duration": 29,
    "start_time": "2022-03-27T12:48:00.550Z"
   },
   {
    "duration": 7,
    "start_time": "2022-03-27T12:48:00.581Z"
   },
   {
    "duration": 17,
    "start_time": "2022-03-27T12:48:00.589Z"
   },
   {
    "duration": 34,
    "start_time": "2022-03-27T12:48:00.607Z"
   },
   {
    "duration": 24,
    "start_time": "2022-03-27T12:48:00.643Z"
   },
   {
    "duration": 20,
    "start_time": "2022-03-27T12:48:00.669Z"
   },
   {
    "duration": 638,
    "start_time": "2022-03-27T12:48:00.692Z"
   },
   {
    "duration": 23,
    "start_time": "2022-03-27T12:48:01.333Z"
   },
   {
    "duration": 127,
    "start_time": "2022-03-27T12:48:01.358Z"
   },
   {
    "duration": 32,
    "start_time": "2022-03-27T12:48:01.487Z"
   },
   {
    "duration": 116,
    "start_time": "2022-03-27T12:48:01.522Z"
   },
   {
    "duration": 22,
    "start_time": "2022-03-27T12:48:01.640Z"
   },
   {
    "duration": 165,
    "start_time": "2022-03-27T12:48:01.664Z"
   },
   {
    "duration": 12,
    "start_time": "2022-03-27T12:48:01.831Z"
   },
   {
    "duration": 11,
    "start_time": "2022-03-27T12:48:01.845Z"
   },
   {
    "duration": 6,
    "start_time": "2022-03-27T12:55:53.574Z"
   },
   {
    "duration": 7,
    "start_time": "2022-03-27T12:56:06.253Z"
   },
   {
    "duration": 52,
    "start_time": "2022-03-29T12:30:02.281Z"
   },
   {
    "duration": 501,
    "start_time": "2022-03-29T12:30:25.643Z"
   },
   {
    "duration": 17,
    "start_time": "2022-03-29T12:30:26.146Z"
   },
   {
    "duration": 17,
    "start_time": "2022-03-29T12:30:26.165Z"
   },
   {
    "duration": 22,
    "start_time": "2022-03-29T12:30:26.202Z"
   },
   {
    "duration": 17,
    "start_time": "2022-03-29T12:30:26.226Z"
   },
   {
    "duration": 25,
    "start_time": "2022-03-29T12:30:26.245Z"
   },
   {
    "duration": 42,
    "start_time": "2022-03-29T12:30:26.272Z"
   },
   {
    "duration": 7,
    "start_time": "2022-03-29T12:31:04.047Z"
   },
   {
    "duration": 6,
    "start_time": "2022-03-29T12:34:50.294Z"
   },
   {
    "duration": 7,
    "start_time": "2022-03-29T12:35:25.774Z"
   },
   {
    "duration": 70,
    "start_time": "2022-03-29T12:35:36.105Z"
   },
   {
    "duration": 30,
    "start_time": "2022-03-29T12:35:36.177Z"
   },
   {
    "duration": 11,
    "start_time": "2022-03-29T12:35:36.209Z"
   },
   {
    "duration": 18,
    "start_time": "2022-03-29T12:35:36.222Z"
   },
   {
    "duration": 16,
    "start_time": "2022-03-29T12:35:36.242Z"
   },
   {
    "duration": 48,
    "start_time": "2022-03-29T12:35:36.260Z"
   },
   {
    "duration": 16,
    "start_time": "2022-03-29T12:35:36.310Z"
   },
   {
    "duration": 32,
    "start_time": "2022-03-29T12:35:36.328Z"
   },
   {
    "duration": 5,
    "start_time": "2022-03-29T12:35:36.362Z"
   },
   {
    "duration": 15,
    "start_time": "2022-03-29T12:35:36.401Z"
   },
   {
    "duration": 8,
    "start_time": "2022-03-29T12:35:36.418Z"
   },
   {
    "duration": 6,
    "start_time": "2022-03-29T12:35:36.427Z"
   },
   {
    "duration": 11,
    "start_time": "2022-03-29T12:35:36.436Z"
   },
   {
    "duration": 9,
    "start_time": "2022-03-29T12:35:36.448Z"
   },
   {
    "duration": 6,
    "start_time": "2022-03-29T12:35:36.459Z"
   },
   {
    "duration": 6,
    "start_time": "2022-03-29T12:35:53.475Z"
   },
   {
    "duration": 7,
    "start_time": "2022-03-29T12:36:45.726Z"
   },
   {
    "duration": 6,
    "start_time": "2022-03-29T12:37:51.891Z"
   },
   {
    "duration": 9,
    "start_time": "2022-03-29T12:38:04.234Z"
   },
   {
    "duration": 20,
    "start_time": "2022-03-29T12:39:13.805Z"
   },
   {
    "duration": 18,
    "start_time": "2022-03-29T12:39:25.882Z"
   },
   {
    "duration": 17,
    "start_time": "2022-03-29T12:39:31.740Z"
   },
   {
    "duration": 18,
    "start_time": "2022-03-29T12:39:41.697Z"
   },
   {
    "duration": 15,
    "start_time": "2022-03-29T12:39:44.577Z"
   },
   {
    "duration": 20,
    "start_time": "2022-03-29T12:39:54.183Z"
   },
   {
    "duration": 21,
    "start_time": "2022-03-29T12:41:21.228Z"
   },
   {
    "duration": 8,
    "start_time": "2022-03-29T12:42:16.150Z"
   },
   {
    "duration": 21,
    "start_time": "2022-03-29T12:42:20.186Z"
   },
   {
    "duration": 7,
    "start_time": "2022-03-29T12:42:22.516Z"
   },
   {
    "duration": 9,
    "start_time": "2022-03-29T12:42:25.038Z"
   },
   {
    "duration": 8,
    "start_time": "2022-03-29T12:42:28.583Z"
   },
   {
    "duration": 3,
    "start_time": "2022-03-29T12:42:31.566Z"
   },
   {
    "duration": 20,
    "start_time": "2022-03-29T12:42:35.619Z"
   },
   {
    "duration": 143,
    "start_time": "2022-03-29T12:43:47.418Z"
   },
   {
    "duration": 8,
    "start_time": "2022-03-29T12:43:58.436Z"
   },
   {
    "duration": 23,
    "start_time": "2022-03-29T12:44:03.065Z"
   },
   {
    "duration": 14,
    "start_time": "2022-03-29T12:44:03.817Z"
   },
   {
    "duration": 36,
    "start_time": "2022-03-29T12:44:06.027Z"
   },
   {
    "duration": 173,
    "start_time": "2022-03-29T12:46:54.168Z"
   },
   {
    "duration": 167,
    "start_time": "2022-03-29T12:54:24.181Z"
   },
   {
    "duration": 4,
    "start_time": "2022-03-29T12:55:18.831Z"
   },
   {
    "duration": 86,
    "start_time": "2022-03-29T12:58:10.194Z"
   },
   {
    "duration": 17,
    "start_time": "2022-03-29T12:58:10.282Z"
   },
   {
    "duration": 18,
    "start_time": "2022-03-29T12:58:10.301Z"
   },
   {
    "duration": 16,
    "start_time": "2022-03-29T12:58:10.321Z"
   },
   {
    "duration": 16,
    "start_time": "2022-03-29T12:58:10.339Z"
   },
   {
    "duration": 46,
    "start_time": "2022-03-29T12:58:10.357Z"
   },
   {
    "duration": 19,
    "start_time": "2022-03-29T12:58:10.406Z"
   },
   {
    "duration": 33,
    "start_time": "2022-03-29T12:58:10.429Z"
   },
   {
    "duration": 40,
    "start_time": "2022-03-29T12:58:10.465Z"
   },
   {
    "duration": 31,
    "start_time": "2022-03-29T12:58:10.508Z"
   },
   {
    "duration": 12,
    "start_time": "2022-03-29T12:58:10.542Z"
   },
   {
    "duration": 5,
    "start_time": "2022-03-29T12:58:10.556Z"
   },
   {
    "duration": 11,
    "start_time": "2022-03-29T12:58:10.563Z"
   },
   {
    "duration": 5,
    "start_time": "2022-03-29T12:58:10.576Z"
   },
   {
    "duration": 8,
    "start_time": "2022-03-29T12:58:10.603Z"
   },
   {
    "duration": 12,
    "start_time": "2022-03-29T12:58:10.614Z"
   },
   {
    "duration": 7,
    "start_time": "2022-03-29T12:58:10.821Z"
   },
   {
    "duration": 150,
    "start_time": "2022-03-29T12:58:10.831Z"
   },
   {
    "duration": 0,
    "start_time": "2022-03-29T12:58:10.983Z"
   },
   {
    "duration": 0,
    "start_time": "2022-03-29T12:58:10.985Z"
   },
   {
    "duration": 0,
    "start_time": "2022-03-29T12:58:10.986Z"
   },
   {
    "duration": 18,
    "start_time": "2022-03-29T12:58:10.989Z"
   },
   {
    "duration": 28,
    "start_time": "2022-03-29T12:58:11.010Z"
   },
   {
    "duration": 20,
    "start_time": "2022-03-29T12:58:11.040Z"
   },
   {
    "duration": 43,
    "start_time": "2022-03-29T12:58:11.063Z"
   },
   {
    "duration": 36,
    "start_time": "2022-03-29T12:58:11.109Z"
   },
   {
    "duration": 10,
    "start_time": "2022-03-29T12:58:11.147Z"
   },
   {
    "duration": 44,
    "start_time": "2022-03-29T12:58:11.159Z"
   },
   {
    "duration": 21,
    "start_time": "2022-03-29T12:58:11.207Z"
   },
   {
    "duration": 10,
    "start_time": "2022-03-29T12:58:11.231Z"
   },
   {
    "duration": 10,
    "start_time": "2022-03-29T12:58:11.243Z"
   },
   {
    "duration": 6,
    "start_time": "2022-03-29T12:58:11.255Z"
   },
   {
    "duration": 58,
    "start_time": "2022-03-29T12:58:11.263Z"
   },
   {
    "duration": 9,
    "start_time": "2022-03-29T12:58:11.322Z"
   },
   {
    "duration": 9,
    "start_time": "2022-03-29T12:58:11.333Z"
   },
   {
    "duration": 11,
    "start_time": "2022-03-29T12:58:11.344Z"
   },
   {
    "duration": 9,
    "start_time": "2022-03-29T12:58:11.356Z"
   },
   {
    "duration": 17,
    "start_time": "2022-03-29T12:58:11.368Z"
   },
   {
    "duration": 26,
    "start_time": "2022-03-29T12:58:11.387Z"
   },
   {
    "duration": 23,
    "start_time": "2022-03-29T12:58:11.416Z"
   },
   {
    "duration": 5,
    "start_time": "2022-03-29T12:58:11.443Z"
   },
   {
    "duration": 53,
    "start_time": "2022-03-29T12:58:11.450Z"
   },
   {
    "duration": 13,
    "start_time": "2022-03-29T12:58:11.506Z"
   },
   {
    "duration": 5,
    "start_time": "2022-03-29T12:58:11.521Z"
   },
   {
    "duration": 32,
    "start_time": "2022-03-29T12:58:11.528Z"
   },
   {
    "duration": 53,
    "start_time": "2022-03-29T12:58:11.562Z"
   },
   {
    "duration": 25,
    "start_time": "2022-03-29T12:58:11.617Z"
   },
   {
    "duration": 674,
    "start_time": "2022-03-29T12:58:11.644Z"
   },
   {
    "duration": 27,
    "start_time": "2022-03-29T12:58:12.321Z"
   },
   {
    "duration": 155,
    "start_time": "2022-03-29T12:58:12.350Z"
   },
   {
    "duration": 28,
    "start_time": "2022-03-29T12:58:12.509Z"
   },
   {
    "duration": 147,
    "start_time": "2022-03-29T12:58:12.539Z"
   },
   {
    "duration": 42,
    "start_time": "2022-03-29T12:58:12.689Z"
   },
   {
    "duration": 155,
    "start_time": "2022-03-29T12:58:12.733Z"
   },
   {
    "duration": 35,
    "start_time": "2022-03-29T12:58:15.586Z"
   },
   {
    "duration": 36,
    "start_time": "2022-03-29T12:58:23.456Z"
   },
   {
    "duration": 36,
    "start_time": "2022-03-29T12:59:08.661Z"
   },
   {
    "duration": 34,
    "start_time": "2022-03-29T12:59:12.927Z"
   },
   {
    "duration": 162,
    "start_time": "2022-03-29T12:59:43.062Z"
   },
   {
    "duration": 2,
    "start_time": "2022-03-29T13:28:07.126Z"
   },
   {
    "duration": 511,
    "start_time": "2022-03-29T14:27:43.383Z"
   },
   {
    "duration": 14,
    "start_time": "2022-03-29T14:27:43.896Z"
   },
   {
    "duration": 9,
    "start_time": "2022-03-29T14:27:43.912Z"
   },
   {
    "duration": 14,
    "start_time": "2022-03-29T14:27:43.923Z"
   },
   {
    "duration": 15,
    "start_time": "2022-03-29T14:27:43.962Z"
   },
   {
    "duration": 21,
    "start_time": "2022-03-29T14:27:43.979Z"
   },
   {
    "duration": 18,
    "start_time": "2022-03-29T14:27:44.002Z"
   },
   {
    "duration": 65,
    "start_time": "2022-03-29T14:27:44.022Z"
   },
   {
    "duration": 14,
    "start_time": "2022-03-29T14:27:44.090Z"
   },
   {
    "duration": 16,
    "start_time": "2022-03-29T14:27:44.108Z"
   },
   {
    "duration": 5,
    "start_time": "2022-03-29T14:27:44.125Z"
   },
   {
    "duration": 4,
    "start_time": "2022-03-29T14:27:44.132Z"
   },
   {
    "duration": 30,
    "start_time": "2022-03-29T14:27:44.138Z"
   },
   {
    "duration": 5,
    "start_time": "2022-03-29T14:27:44.170Z"
   },
   {
    "duration": 7,
    "start_time": "2022-03-29T14:27:44.177Z"
   },
   {
    "duration": 6,
    "start_time": "2022-03-29T14:27:44.186Z"
   },
   {
    "duration": 7,
    "start_time": "2022-03-29T14:27:44.194Z"
   },
   {
    "duration": 6,
    "start_time": "2022-03-29T14:27:44.202Z"
   },
   {
    "duration": 8,
    "start_time": "2022-03-29T14:27:44.210Z"
   },
   {
    "duration": 53,
    "start_time": "2022-03-29T14:27:44.220Z"
   },
   {
    "duration": 21,
    "start_time": "2022-03-29T14:27:44.274Z"
   },
   {
    "duration": 21,
    "start_time": "2022-03-29T14:27:44.297Z"
   },
   {
    "duration": 48,
    "start_time": "2022-03-29T14:27:44.320Z"
   },
   {
    "duration": 19,
    "start_time": "2022-03-29T14:27:44.370Z"
   },
   {
    "duration": 26,
    "start_time": "2022-03-29T14:27:44.392Z"
   },
   {
    "duration": 10,
    "start_time": "2022-03-29T14:27:44.420Z"
   },
   {
    "duration": 50,
    "start_time": "2022-03-29T14:27:44.432Z"
   },
   {
    "duration": 10,
    "start_time": "2022-03-29T14:27:44.487Z"
   },
   {
    "duration": 12,
    "start_time": "2022-03-29T14:27:44.499Z"
   },
   {
    "duration": 8,
    "start_time": "2022-03-29T14:27:44.513Z"
   },
   {
    "duration": 5,
    "start_time": "2022-03-29T14:27:44.523Z"
   },
   {
    "duration": 41,
    "start_time": "2022-03-29T14:27:44.530Z"
   },
   {
    "duration": 7,
    "start_time": "2022-03-29T14:27:44.573Z"
   },
   {
    "duration": 4,
    "start_time": "2022-03-29T14:27:44.582Z"
   },
   {
    "duration": 4,
    "start_time": "2022-03-29T14:27:44.588Z"
   },
   {
    "duration": 6,
    "start_time": "2022-03-29T14:27:44.594Z"
   },
   {
    "duration": 18,
    "start_time": "2022-03-29T14:27:44.601Z"
   },
   {
    "duration": 11,
    "start_time": "2022-03-29T14:27:44.620Z"
   },
   {
    "duration": 41,
    "start_time": "2022-03-29T14:27:44.633Z"
   },
   {
    "duration": 4,
    "start_time": "2022-03-29T14:27:44.676Z"
   },
   {
    "duration": 27,
    "start_time": "2022-03-29T14:27:44.682Z"
   },
   {
    "duration": 9,
    "start_time": "2022-03-29T14:27:44.711Z"
   },
   {
    "duration": 5,
    "start_time": "2022-03-29T14:27:44.722Z"
   },
   {
    "duration": 50,
    "start_time": "2022-03-29T14:27:44.728Z"
   },
   {
    "duration": 26,
    "start_time": "2022-03-29T14:27:44.780Z"
   },
   {
    "duration": 20,
    "start_time": "2022-03-29T14:27:44.807Z"
   },
   {
    "duration": 538,
    "start_time": "2022-03-29T14:27:44.829Z"
   },
   {
    "duration": 24,
    "start_time": "2022-03-29T14:27:45.369Z"
   },
   {
    "duration": 134,
    "start_time": "2022-03-29T14:27:45.395Z"
   },
   {
    "duration": 36,
    "start_time": "2022-03-29T14:27:45.530Z"
   },
   {
    "duration": 108,
    "start_time": "2022-03-29T14:27:45.568Z"
   },
   {
    "duration": 24,
    "start_time": "2022-03-29T14:27:45.679Z"
   },
   {
    "duration": 134,
    "start_time": "2022-03-29T14:27:45.705Z"
   },
   {
    "duration": 43,
    "start_time": "2022-03-29T14:27:45.842Z"
   },
   {
    "duration": 9,
    "start_time": "2022-03-29T14:27:45.887Z"
   },
   {
    "duration": 9,
    "start_time": "2022-03-29T14:27:45.897Z"
   },
   {
    "duration": 129,
    "start_time": "2022-03-29T14:29:53.562Z"
   },
   {
    "duration": 2,
    "start_time": "2022-03-29T14:31:38.717Z"
   },
   {
    "duration": 412,
    "start_time": "2022-03-29T14:35:45.963Z"
   },
   {
    "duration": 69,
    "start_time": "2022-03-29T14:35:46.377Z"
   },
   {
    "duration": 23,
    "start_time": "2022-03-29T14:35:46.448Z"
   },
   {
    "duration": 9,
    "start_time": "2022-03-29T14:35:46.473Z"
   },
   {
    "duration": 19,
    "start_time": "2022-03-29T14:35:46.485Z"
   },
   {
    "duration": 13,
    "start_time": "2022-03-29T14:35:46.506Z"
   },
   {
    "duration": 50,
    "start_time": "2022-03-29T14:35:46.521Z"
   },
   {
    "duration": 12,
    "start_time": "2022-03-29T14:35:46.573Z"
   },
   {
    "duration": 27,
    "start_time": "2022-03-29T14:35:46.587Z"
   },
   {
    "duration": 5,
    "start_time": "2022-03-29T14:35:46.616Z"
   },
   {
    "duration": 50,
    "start_time": "2022-03-29T14:35:46.623Z"
   },
   {
    "duration": 5,
    "start_time": "2022-03-29T14:35:46.675Z"
   },
   {
    "duration": 3,
    "start_time": "2022-03-29T14:35:46.681Z"
   },
   {
    "duration": 6,
    "start_time": "2022-03-29T14:35:46.687Z"
   },
   {
    "duration": 4,
    "start_time": "2022-03-29T14:35:46.695Z"
   },
   {
    "duration": 7,
    "start_time": "2022-03-29T14:35:46.700Z"
   },
   {
    "duration": 5,
    "start_time": "2022-03-29T14:35:46.709Z"
   },
   {
    "duration": 5,
    "start_time": "2022-03-29T14:35:46.715Z"
   },
   {
    "duration": 43,
    "start_time": "2022-03-29T14:35:46.721Z"
   },
   {
    "duration": 7,
    "start_time": "2022-03-29T14:35:46.766Z"
   },
   {
    "duration": 14,
    "start_time": "2022-03-29T14:35:46.774Z"
   },
   {
    "duration": 14,
    "start_time": "2022-03-29T14:35:46.789Z"
   },
   {
    "duration": 14,
    "start_time": "2022-03-29T14:35:46.804Z"
   },
   {
    "duration": 44,
    "start_time": "2022-03-29T14:35:46.820Z"
   },
   {
    "duration": 13,
    "start_time": "2022-03-29T14:35:46.866Z"
   },
   {
    "duration": 19,
    "start_time": "2022-03-29T14:35:46.881Z"
   },
   {
    "duration": 6,
    "start_time": "2022-03-29T14:35:46.901Z"
   },
   {
    "duration": 17,
    "start_time": "2022-03-29T14:35:46.909Z"
   },
   {
    "duration": 36,
    "start_time": "2022-03-29T14:35:46.928Z"
   },
   {
    "duration": 15,
    "start_time": "2022-03-29T14:35:46.966Z"
   },
   {
    "duration": 13,
    "start_time": "2022-03-29T14:35:46.983Z"
   },
   {
    "duration": 5,
    "start_time": "2022-03-29T14:35:46.998Z"
   },
   {
    "duration": 31,
    "start_time": "2022-03-29T14:35:47.005Z"
   },
   {
    "duration": 6,
    "start_time": "2022-03-29T14:35:47.038Z"
   },
   {
    "duration": 17,
    "start_time": "2022-03-29T14:35:47.046Z"
   },
   {
    "duration": 2,
    "start_time": "2022-03-29T14:35:47.064Z"
   },
   {
    "duration": 5,
    "start_time": "2022-03-29T14:35:47.068Z"
   },
   {
    "duration": 19,
    "start_time": "2022-03-29T14:35:47.075Z"
   },
   {
    "duration": 8,
    "start_time": "2022-03-29T14:35:47.096Z"
   },
   {
    "duration": 14,
    "start_time": "2022-03-29T14:35:47.106Z"
   },
   {
    "duration": 5,
    "start_time": "2022-03-29T14:35:47.125Z"
   },
   {
    "duration": 43,
    "start_time": "2022-03-29T14:35:47.131Z"
   },
   {
    "duration": 7,
    "start_time": "2022-03-29T14:35:47.175Z"
   },
   {
    "duration": 6,
    "start_time": "2022-03-29T14:35:47.184Z"
   },
   {
    "duration": 21,
    "start_time": "2022-03-29T14:35:47.192Z"
   },
   {
    "duration": 19,
    "start_time": "2022-03-29T14:35:47.215Z"
   },
   {
    "duration": 45,
    "start_time": "2022-03-29T14:35:47.236Z"
   },
   {
    "duration": 426,
    "start_time": "2022-03-29T14:35:47.283Z"
   },
   {
    "duration": 22,
    "start_time": "2022-03-29T14:35:47.710Z"
   },
   {
    "duration": 130,
    "start_time": "2022-03-29T14:35:47.733Z"
   },
   {
    "duration": 23,
    "start_time": "2022-03-29T14:35:47.865Z"
   },
   {
    "duration": 114,
    "start_time": "2022-03-29T14:35:47.889Z"
   },
   {
    "duration": 23,
    "start_time": "2022-03-29T14:35:48.004Z"
   },
   {
    "duration": 125,
    "start_time": "2022-03-29T14:35:48.029Z"
   },
   {
    "duration": 29,
    "start_time": "2022-03-29T14:35:48.163Z"
   },
   {
    "duration": 9,
    "start_time": "2022-03-29T14:35:48.194Z"
   },
   {
    "duration": 9,
    "start_time": "2022-03-29T14:35:48.204Z"
   }
  ],
  "kernelspec": {
   "display_name": "Python 3 (ipykernel)",
   "language": "python",
   "name": "python3"
  },
  "language_info": {
   "codemirror_mode": {
    "name": "ipython",
    "version": 3
   },
   "file_extension": ".py",
   "mimetype": "text/x-python",
   "name": "python",
   "nbconvert_exporter": "python",
   "pygments_lexer": "ipython3",
   "version": "3.10.2"
  },
  "toc": {
   "base_numbering": 1,
   "nav_menu": {},
   "number_sections": false,
   "sideBar": true,
   "skip_h1_title": false,
   "title_cell": "Table of Contents",
   "title_sidebar": "Contents",
   "toc_cell": false,
   "toc_position": {
    "height": "calc(100% - 180px)",
    "left": "10px",
    "top": "150px",
    "width": "303.825px"
   },
   "toc_section_display": true,
   "toc_window_display": true
  }
 },
 "nbformat": 4,
 "nbformat_minor": 5
}
