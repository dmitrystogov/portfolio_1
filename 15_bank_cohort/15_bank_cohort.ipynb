{
 "cells": [
  {
   "cell_type": "markdown",
   "metadata": {},
   "source": [
    "# Анализ данных по использованию мобильного приложения банка"
   ]
  },
  {
   "cell_type": "markdown",
   "metadata": {
    "toc": true
   },
   "source": [
    "<h2>Содержание<span class=\"tocSkip\"></span></h2>\n",
    "<div class=\"toc\"><ul class=\"toc-item\"><li><span><a href=\"#Описание-исследования\" data-toc-modified-id=\"Описание-исследования-1\"><span class=\"toc-item-num\">1&nbsp;&nbsp;</span>Описание исследования</a></span></li><li><span><a href=\"#Изучение-данных-из-файлов\" data-toc-modified-id=\"Изучение-данных-из-файлов-2\"><span class=\"toc-item-num\">2&nbsp;&nbsp;</span>Изучение данных из файлов</a></span><ul class=\"toc-item\"><li><span><a href=\"#Описание-данных\" data-toc-modified-id=\"Описание-данных-2.1\"><span class=\"toc-item-num\">2.1&nbsp;&nbsp;</span>Описание данных</a></span></li><li><span><a href=\"#Выводы\" data-toc-modified-id=\"Выводы-2.2\"><span class=\"toc-item-num\">2.2&nbsp;&nbsp;</span>Выводы</a></span></li></ul></li><li><span><a href=\"#Предобработка-данных\" data-toc-modified-id=\"Предобработка-данных-3\"><span class=\"toc-item-num\">3&nbsp;&nbsp;</span>Предобработка данных</a></span><ul class=\"toc-item\"><li><span><a href=\"#Переименование-столбцов\" data-toc-modified-id=\"Переименование-столбцов-3.1\"><span class=\"toc-item-num\">3.1&nbsp;&nbsp;</span>Переименование столбцов</a></span></li><li><span><a href=\"#Изменение-типов-данных\" data-toc-modified-id=\"Изменение-типов-данных-3.2\"><span class=\"toc-item-num\">3.2&nbsp;&nbsp;</span>Изменение типов данных</a></span></li><li><span><a href=\"#Поиск-дубликатов\" data-toc-modified-id=\"Поиск-дубликатов-3.3\"><span class=\"toc-item-num\">3.3&nbsp;&nbsp;</span>Поиск дубликатов</a></span></li><li><span><a href=\"#Выводы\" data-toc-modified-id=\"Выводы-3.4\"><span class=\"toc-item-num\">3.4&nbsp;&nbsp;</span>Выводы</a></span></li></ul></li><li><span><a href=\"#Исследовательский-анализ-данных\" data-toc-modified-id=\"Исследовательский-анализ-данных-4\"><span class=\"toc-item-num\">4&nbsp;&nbsp;</span>Исследовательский анализ данных</a></span><ul class=\"toc-item\"><li><span><a href=\"#Выводы\" data-toc-modified-id=\"Выводы-4.1\"><span class=\"toc-item-num\">4.1&nbsp;&nbsp;</span>Выводы</a></span></li></ul></li><li><span><a href=\"#Когортный-анализ\" data-toc-modified-id=\"Когортный-анализ-5\"><span class=\"toc-item-num\">5&nbsp;&nbsp;</span>Когортный анализ</a></span><ul class=\"toc-item\"><li><span><a href=\"#Расчет-когорт\" data-toc-modified-id=\"Расчет-когорт-5.1\"><span class=\"toc-item-num\">5.1&nbsp;&nbsp;</span>Расчет когорт</a></span></li><li><span><a href=\"#Расчет-и-визуализация-удержания\" data-toc-modified-id=\"Расчет-и-визуализация-удержания-5.2\"><span class=\"toc-item-num\">5.2&nbsp;&nbsp;</span>Расчет и визуализация удержания</a></span></li><li><span><a href=\"#Выводы\" data-toc-modified-id=\"Выводы-5.3\"><span class=\"toc-item-num\">5.3&nbsp;&nbsp;</span>Выводы</a></span></li></ul></li><li><span><a href=\"#Анализ-проникновения\" data-toc-modified-id=\"Анализ-проникновения-6\"><span class=\"toc-item-num\">6&nbsp;&nbsp;</span>Анализ проникновения</a></span><ul class=\"toc-item\"><li><span><a href=\"#Выводы\" data-toc-modified-id=\"Выводы-6.1\"><span class=\"toc-item-num\">6.1&nbsp;&nbsp;</span>Выводы</a></span></li></ul></li><li><span><a href=\"#Общие-выводы\" data-toc-modified-id=\"Общие-выводы-7\"><span class=\"toc-item-num\">7&nbsp;&nbsp;</span>Общие выводы</a></span></li></ul></div>"
   ]
  },
  {
   "cell_type": "markdown",
   "metadata": {
    "tags": []
   },
   "source": [
    "## Описание исследования\n",
    "\n",
    "**Цель исследования:** Ответить на вопросы по использованию мобильного приложения банка.\n",
    "\n",
    "**Исходные данные:** Данные об активности клиентов с сентября 2021 года по февраль 2022\n",
    "\n",
    "**Задачи исследования:** Необходимо провести когортный анализ и решить следующие задачи:\n",
    "\n",
    "* построить визуальное представление удержания клиентов в статусе:\n",
    "    * активных клиентов банка (наличие строки для клиента на отчетную дату); \n",
    "    * диджитал активных (активных в мобильном приложении: наличие хотя бы одного входа);\n",
    "    * операционно активных;\n",
    "    * транзакционно активных;\n",
    "* сделать выводы на основе этих данных\n",
    "* если построить проникновение транзакционно активных клиентов в когорты диджитал активных клиентов, то мы увидим, что существенная часть клиентов использует мобильное приложение, но не совершает транзакции (платежи и переводы) в нем. Какие гипотезы такого поведения можно предположить? Как их можно проверить?;\n",
    "* как можно исправить эту ситуацию и увеличить проникновение транзакционно активных клиентов в диджитал активных?\n"
   ]
  },
  {
   "cell_type": "markdown",
   "metadata": {},
   "source": [
    "## Изучение данных из файлов\n",
    "Загрузим необходимые библиотеки."
   ]
  },
  {
   "cell_type": "code",
   "execution_count": 1,
   "metadata": {
    "scrolled": true
   },
   "outputs": [],
   "source": [
    "import pandas as pd # импорт библиотеки pandas\n",
    "import numpy as np  # импорт библиотеки numpy\n",
    "import matplotlib.pyplot as plt # импорт библиотеки mathplotlib\n",
    "import seaborn as sns # импорт библиотеки mathplotlib\n",
    "from datetime import datetime, timedelta # импорт функций из библиотеки datetime\n",
    "import warnings # импорт библиотеки warnings\n",
    "warnings.filterwarnings('ignore') # отключение уведомлений об предупреждениях"
   ]
  },
  {
   "cell_type": "markdown",
   "metadata": {},
   "source": [
    "Загрузим данные из файла."
   ]
  },
  {
   "cell_type": "code",
   "execution_count": 2,
   "metadata": {
    "scrolled": true
   },
   "outputs": [],
   "source": [
    "log = pd.read_csv('data_test.csv', sep=';') # чтение данных из csv файла"
   ]
  },
  {
   "cell_type": "markdown",
   "metadata": {},
   "source": [
    "Посмотрим на структуру данных в таблице."
   ]
  },
  {
   "cell_type": "code",
   "execution_count": 3,
   "metadata": {},
   "outputs": [
    {
     "name": "stdout",
     "output_type": "stream",
     "text": [
      "<class 'pandas.core.frame.DataFrame'>\n",
      "RangeIndex: 805821 entries, 0 to 805820\n",
      "Data columns (total 5 columns):\n",
      " #   Column              Non-Null Count   Dtype  \n",
      "---  ------              --------------   -----  \n",
      " 0   CLIENT_ID           805821 non-null  int64  \n",
      " 1   VALUE_DAY           805821 non-null  object \n",
      " 2   DIGITAL_30_CNT      711169 non-null  float64\n",
      " 3   TRAN_ACTIVE_30_CNT  711169 non-null  float64\n",
      " 4   OPER_ACTIVE_30_CNT  711169 non-null  float64\n",
      "dtypes: float64(3), int64(1), object(1)\n",
      "memory usage: 30.7+ MB\n"
     ]
    }
   ],
   "source": [
    "log.info() # просмотр информации о таблице"
   ]
  },
  {
   "cell_type": "code",
   "execution_count": 4,
   "metadata": {},
   "outputs": [
    {
     "data": {
      "text/html": [
       "<div>\n",
       "<style scoped>\n",
       "    .dataframe tbody tr th:only-of-type {\n",
       "        vertical-align: middle;\n",
       "    }\n",
       "\n",
       "    .dataframe tbody tr th {\n",
       "        vertical-align: top;\n",
       "    }\n",
       "\n",
       "    .dataframe thead th {\n",
       "        text-align: right;\n",
       "    }\n",
       "</style>\n",
       "<table border=\"1\" class=\"dataframe\">\n",
       "  <thead>\n",
       "    <tr style=\"text-align: right;\">\n",
       "      <th></th>\n",
       "      <th>CLIENT_ID</th>\n",
       "      <th>VALUE_DAY</th>\n",
       "      <th>DIGITAL_30_CNT</th>\n",
       "      <th>TRAN_ACTIVE_30_CNT</th>\n",
       "      <th>OPER_ACTIVE_30_CNT</th>\n",
       "    </tr>\n",
       "  </thead>\n",
       "  <tbody>\n",
       "    <tr>\n",
       "      <th>466132</th>\n",
       "      <td>4060921324</td>\n",
       "      <td>31.12.2021</td>\n",
       "      <td>8.0</td>\n",
       "      <td>2.0</td>\n",
       "      <td>5.0</td>\n",
       "    </tr>\n",
       "    <tr>\n",
       "      <th>131262</th>\n",
       "      <td>2367537375</td>\n",
       "      <td>31.10.2021</td>\n",
       "      <td>11.0</td>\n",
       "      <td>2.0</td>\n",
       "      <td>2.0</td>\n",
       "    </tr>\n",
       "    <tr>\n",
       "      <th>561331</th>\n",
       "      <td>3646439314</td>\n",
       "      <td>31.01.2022</td>\n",
       "      <td>3.0</td>\n",
       "      <td>1.0</td>\n",
       "      <td>1.0</td>\n",
       "    </tr>\n",
       "    <tr>\n",
       "      <th>618091</th>\n",
       "      <td>251474243</td>\n",
       "      <td>31.01.2022</td>\n",
       "      <td>15.0</td>\n",
       "      <td>5.0</td>\n",
       "      <td>5.0</td>\n",
       "    </tr>\n",
       "    <tr>\n",
       "      <th>512792</th>\n",
       "      <td>3400367511</td>\n",
       "      <td>31.12.2021</td>\n",
       "      <td>10.0</td>\n",
       "      <td>1.0</td>\n",
       "      <td>1.0</td>\n",
       "    </tr>\n",
       "  </tbody>\n",
       "</table>\n",
       "</div>"
      ],
      "text/plain": [
       "         CLIENT_ID   VALUE_DAY  DIGITAL_30_CNT  TRAN_ACTIVE_30_CNT  \\\n",
       "466132  4060921324  31.12.2021             8.0                 2.0   \n",
       "131262  2367537375  31.10.2021            11.0                 2.0   \n",
       "561331  3646439314  31.01.2022             3.0                 1.0   \n",
       "618091   251474243  31.01.2022            15.0                 5.0   \n",
       "512792  3400367511  31.12.2021            10.0                 1.0   \n",
       "\n",
       "        OPER_ACTIVE_30_CNT  \n",
       "466132                 5.0  \n",
       "131262                 2.0  \n",
       "561331                 1.0  \n",
       "618091                 5.0  \n",
       "512792                 1.0  "
      ]
     },
     "execution_count": 4,
     "metadata": {},
     "output_type": "execute_result"
    }
   ],
   "source": [
    "log.sample(5)  # просмотр образцов данных"
   ]
  },
  {
   "cell_type": "markdown",
   "metadata": {},
   "source": [
    "В таблице есть пропуски, это вызвано тем, что не все активные клиенты (наличие строки для клиента на отчетную дату) пользуются мобильным приложением (являются диджитал активными). Пропуски содержат важную для исследования информацию, оставим их без изменения. Типы данных во всех столбцах различаются, возможно преобразование типов некоторых колонок повысит скорость обработки данных и повысит удобство при исследовании."
   ]
  },
  {
   "cell_type": "markdown",
   "metadata": {},
   "source": [
    "### Описание данных"
   ]
  },
  {
   "cell_type": "markdown",
   "metadata": {},
   "source": [
    "<pre>CLIENT_ID - идентификатор клиента; \n",
    "VALUE_DAY - отчетная дата; \n",
    "DIGITAL_30_CNT - кол-во входов в мобильное приложение за последние 30 дней на отчетную дату; \n",
    "TRAN_ACTIVE_30_CNT - кол-во транзакций в мобильном приложении за последние 30 дней на отчетную дату; \n",
    "OPER_ACTIVE_30_CNT - кол-во операций (транзакции+нефинансовые операции) в мобильном приложении за последние 30 дней на отчетную дату</pre>"
   ]
  },
  {
   "cell_type": "markdown",
   "metadata": {
    "jp-MarkdownHeadingCollapsed": true,
    "tags": []
   },
   "source": [
    "### Выводы\n",
    "Предварительно можно утверждать, что данных достаточно для решения поставленных задач.\n",
    "\n",
    "В таблице есть пропуски, это вызвано тем, что не все активные клиенты (наличие строки для клиента на отчетную дату) пользуются мобильным приложением (являются диджитал активными). Пропуски содержат важную для исследования информацию, оставим их без изменения.\n",
    "\n",
    "Типы данных во всех столбцах различаются, возможно преобразование типов некоторых колонок повысит скорость обработки данных и повысит удобство при исследовании.\n",
    "\n",
    "Названия столбцов нарушают правила наименования и должны быть приведены в соответствии с ними."
   ]
  },
  {
   "cell_type": "markdown",
   "metadata": {},
   "source": [
    "## Предобработка данных"
   ]
  },
  {
   "cell_type": "markdown",
   "metadata": {},
   "source": [
    "### Переименование столбцов"
   ]
  },
  {
   "cell_type": "markdown",
   "metadata": {},
   "source": [
    "Приведем названия столбцов в соответствие с правилами именования:\n",
    "- несколько слов в названии запишем в «змеином_регистре»,\n",
    "- все символы сделаем строчными."
   ]
  },
  {
   "cell_type": "code",
   "execution_count": 5,
   "metadata": {},
   "outputs": [
    {
     "data": {
      "text/plain": [
       "Index(['client_id', 'value_day', 'digital_30_cnt', 'tran_active_30_cnt',\n",
       "       'oper_active_30_cnt'],\n",
       "      dtype='object')"
      ]
     },
     "execution_count": 5,
     "metadata": {},
     "output_type": "execute_result"
    }
   ],
   "source": [
    "log.columns = log.columns.str.lower() # переименование столбцов в строчный регистр\n",
    "log.columns # просмотр наименования столбцов"
   ]
  },
  {
   "cell_type": "markdown",
   "metadata": {},
   "source": [
    "Столбцы успешно переименованы."
   ]
  },
  {
   "cell_type": "markdown",
   "metadata": {},
   "source": [
    "### Изменение типов данных"
   ]
  },
  {
   "cell_type": "markdown",
   "metadata": {},
   "source": [
    "Приведем столбец с датами к типу datetime."
   ]
  },
  {
   "cell_type": "code",
   "execution_count": 6,
   "metadata": {},
   "outputs": [
    {
     "data": {
      "text/plain": [
       "str"
      ]
     },
     "execution_count": 6,
     "metadata": {},
     "output_type": "execute_result"
    }
   ],
   "source": [
    "type(log.value_day[0])"
   ]
  },
  {
   "cell_type": "code",
   "execution_count": 7,
   "metadata": {},
   "outputs": [
    {
     "name": "stdout",
     "output_type": "stream",
     "text": [
      "<class 'pandas.core.frame.DataFrame'>\n",
      "RangeIndex: 805821 entries, 0 to 805820\n",
      "Data columns (total 5 columns):\n",
      " #   Column              Non-Null Count   Dtype         \n",
      "---  ------              --------------   -----         \n",
      " 0   client_id           805821 non-null  int64         \n",
      " 1   value_day           805821 non-null  datetime64[ns]\n",
      " 2   digital_30_cnt      711169 non-null  float64       \n",
      " 3   tran_active_30_cnt  711169 non-null  float64       \n",
      " 4   oper_active_30_cnt  711169 non-null  float64       \n",
      "dtypes: datetime64[ns](1), float64(3), int64(1)\n",
      "memory usage: 30.7 MB\n"
     ]
    }
   ],
   "source": [
    "# преобразуем данные о времени\n",
    "try:\n",
    "    log['value_day'] = pd.to_datetime(log['value_day'])\n",
    "except:\n",
    "    print('Ошибка преобразования типа данных')   \n",
    "log.info()  # Посмотрим на результат конвертации"
   ]
  },
  {
   "cell_type": "markdown",
   "metadata": {},
   "source": [
    "Столбцы с количеством событий приведем к целому значению."
   ]
  },
  {
   "cell_type": "code",
   "execution_count": 8,
   "metadata": {},
   "outputs": [
    {
     "name": "stdout",
     "output_type": "stream",
     "text": [
      "<class 'pandas.core.frame.DataFrame'>\n",
      "RangeIndex: 805821 entries, 0 to 805820\n",
      "Data columns (total 5 columns):\n",
      " #   Column              Non-Null Count   Dtype         \n",
      "---  ------              --------------   -----         \n",
      " 0   client_id           805821 non-null  int64         \n",
      " 1   value_day           805821 non-null  datetime64[ns]\n",
      " 2   digital_30_cnt      711169 non-null  Int32         \n",
      " 3   tran_active_30_cnt  711169 non-null  Int32         \n",
      " 4   oper_active_30_cnt  711169 non-null  Int32         \n",
      "dtypes: Int32(3), datetime64[ns](1), int64(1)\n",
      "memory usage: 23.8 MB\n"
     ]
    }
   ],
   "source": [
    "# преобразуем данные о времени\n",
    "try:\n",
    "    log['digital_30_cnt'] = log['digital_30_cnt'].astype('Int32')\n",
    "    log['tran_active_30_cnt'] = log['tran_active_30_cnt'].astype('Int32')\n",
    "    log['oper_active_30_cnt'] = log['oper_active_30_cnt'].astype('Int32')\n",
    "except:\n",
    "    print('Ошибка преобразования типа данных')   \n",
    "log.info()  # Посмотрим на результат конвертации"
   ]
  },
  {
   "cell_type": "markdown",
   "metadata": {},
   "source": [
    "Типы данных успешно преобразованы."
   ]
  },
  {
   "cell_type": "markdown",
   "metadata": {},
   "source": [
    "### Поиск дубликатов\n",
    "\n",
    "Проверим таблицу на наличие явных дубликатов."
   ]
  },
  {
   "cell_type": "code",
   "execution_count": 9,
   "metadata": {
    "scrolled": true,
    "tags": []
   },
   "outputs": [
    {
     "name": "stdout",
     "output_type": "stream",
     "text": [
      "Количество дублирующихся строк в таблице \"log\": 0\n"
     ]
    }
   ],
   "source": [
    "print('Количество дублирующихся строк в таблице \"log\":', log.duplicated().sum()) # подсчёт явных дубликатов"
   ]
  },
  {
   "cell_type": "markdown",
   "metadata": {},
   "source": [
    "Явных дубликатов не обнаружено."
   ]
  },
  {
   "cell_type": "markdown",
   "metadata": {},
   "source": [
    "Проверим, не дублируются ли записи для одного клиента и одну дату, но с отличающимися значениями событий."
   ]
  },
  {
   "cell_type": "code",
   "execution_count": 10,
   "metadata": {},
   "outputs": [
    {
     "name": "stdout",
     "output_type": "stream",
     "text": [
      "Количество дублирующихся строк в таблице \"log\": 2\n"
     ]
    }
   ],
   "source": [
    "print('Количество дублирующихся строк в таблице \"log\":', log[['client_id', 'value_day']].duplicated().sum()) # подсчёт неявных дубликатов"
   ]
  },
  {
   "cell_type": "markdown",
   "metadata": {},
   "source": [
    "Такие дубликаты есть, посмотрим на них."
   ]
  },
  {
   "cell_type": "code",
   "execution_count": 11,
   "metadata": {},
   "outputs": [
    {
     "data": {
      "text/html": [
       "<div>\n",
       "<style scoped>\n",
       "    .dataframe tbody tr th:only-of-type {\n",
       "        vertical-align: middle;\n",
       "    }\n",
       "\n",
       "    .dataframe tbody tr th {\n",
       "        vertical-align: top;\n",
       "    }\n",
       "\n",
       "    .dataframe thead th {\n",
       "        text-align: right;\n",
       "    }\n",
       "</style>\n",
       "<table border=\"1\" class=\"dataframe\">\n",
       "  <thead>\n",
       "    <tr style=\"text-align: right;\">\n",
       "      <th></th>\n",
       "      <th>client_id</th>\n",
       "      <th>value_day</th>\n",
       "      <th>digital_30_cnt</th>\n",
       "      <th>tran_active_30_cnt</th>\n",
       "      <th>oper_active_30_cnt</th>\n",
       "    </tr>\n",
       "  </thead>\n",
       "  <tbody>\n",
       "    <tr>\n",
       "      <th>557303</th>\n",
       "      <td>1813118018</td>\n",
       "      <td>2022-01-31</td>\n",
       "      <td>6</td>\n",
       "      <td>1</td>\n",
       "      <td>2</td>\n",
       "    </tr>\n",
       "    <tr>\n",
       "      <th>598226</th>\n",
       "      <td>1813118018</td>\n",
       "      <td>2022-01-31</td>\n",
       "      <td>10</td>\n",
       "      <td>2</td>\n",
       "      <td>2</td>\n",
       "    </tr>\n",
       "    <tr>\n",
       "      <th>724484</th>\n",
       "      <td>1813118018</td>\n",
       "      <td>2022-02-28</td>\n",
       "      <td>11</td>\n",
       "      <td>1</td>\n",
       "      <td>2</td>\n",
       "    </tr>\n",
       "    <tr>\n",
       "      <th>798317</th>\n",
       "      <td>1813118018</td>\n",
       "      <td>2022-02-28</td>\n",
       "      <td>3</td>\n",
       "      <td>1</td>\n",
       "      <td>2</td>\n",
       "    </tr>\n",
       "  </tbody>\n",
       "</table>\n",
       "</div>"
      ],
      "text/plain": [
       "         client_id  value_day  digital_30_cnt  tran_active_30_cnt  \\\n",
       "557303  1813118018 2022-01-31               6                   1   \n",
       "598226  1813118018 2022-01-31              10                   2   \n",
       "724484  1813118018 2022-02-28              11                   1   \n",
       "798317  1813118018 2022-02-28               3                   1   \n",
       "\n",
       "        oper_active_30_cnt  \n",
       "557303                   2  \n",
       "598226                   2  \n",
       "724484                   2  \n",
       "798317                   2  "
      ]
     },
     "execution_count": 11,
     "metadata": {},
     "output_type": "execute_result"
    }
   ],
   "source": [
    "log[log[['client_id', 'value_day']].duplicated(keep=False)] # смотрим дубликаты"
   ]
  },
  {
   "cell_type": "markdown",
   "metadata": {},
   "source": [
    "Для клиента с id 1813118018 дублируются записи за январь и февраль 2022 года. Возможно это вызвано уточнением информации, возможно это техническая ошибка. Обратим внимание коллег. Для целей дальнейшего исследования удалим одну из повторяющихся строк."
   ]
  },
  {
   "cell_type": "code",
   "execution_count": 12,
   "metadata": {},
   "outputs": [
    {
     "name": "stdout",
     "output_type": "stream",
     "text": [
      "<class 'pandas.core.frame.DataFrame'>\n",
      "Int64Index: 805819 entries, 0 to 805820\n",
      "Data columns (total 5 columns):\n",
      " #   Column              Non-Null Count   Dtype         \n",
      "---  ------              --------------   -----         \n",
      " 0   client_id           805819 non-null  int64         \n",
      " 1   value_day           805819 non-null  datetime64[ns]\n",
      " 2   digital_30_cnt      711167 non-null  Int32         \n",
      " 3   tran_active_30_cnt  711167 non-null  Int32         \n",
      " 4   oper_active_30_cnt  711167 non-null  Int32         \n",
      "dtypes: Int32(3), datetime64[ns](1), int64(1)\n",
      "memory usage: 30.0 MB\n"
     ]
    }
   ],
   "source": [
    "log.drop_duplicates(subset=['client_id', 'value_day'], keep='first', inplace=True) # удаляем дубликаты\n",
    "log.info() # смотрим результат преобразования"
   ]
  },
  {
   "cell_type": "markdown",
   "metadata": {},
   "source": [
    "Две строки с дублирующейся информацией удалены."
   ]
  },
  {
   "cell_type": "markdown",
   "metadata": {},
   "source": [
    "### Выводы"
   ]
  },
  {
   "cell_type": "markdown",
   "metadata": {},
   "source": [
    "1. Мы привели названия столбцов в соответствие с правилами именования: пробелы в названии заменили подчеркиваниями и все символы сделали строчными.\n",
    "2. В таблицах столбец `value_day` содержащие даты мы конвертировали в формат datetime. Столбцы с количеством событий привели к целому значению.\n",
    "3. Для клиента с id 1813118018 дублируются записи за январь и февраль 2022 года. Возможно это вызвано уточнением информации, возможно это техническая ошибка. Обратим внимание коллег. Из дублирующихся данных удалили повторяющиеся строки."
   ]
  },
  {
   "cell_type": "markdown",
   "metadata": {},
   "source": [
    "## Исследовательский анализ данных"
   ]
  },
  {
   "cell_type": "markdown",
   "metadata": {},
   "source": [
    "Посмотрим предоставленные данные."
   ]
  },
  {
   "cell_type": "code",
   "execution_count": 13,
   "metadata": {},
   "outputs": [
    {
     "data": {
      "text/html": [
       "<div>\n",
       "<style scoped>\n",
       "    .dataframe tbody tr th:only-of-type {\n",
       "        vertical-align: middle;\n",
       "    }\n",
       "\n",
       "    .dataframe tbody tr th {\n",
       "        vertical-align: top;\n",
       "    }\n",
       "\n",
       "    .dataframe thead th {\n",
       "        text-align: right;\n",
       "    }\n",
       "</style>\n",
       "<table border=\"1\" class=\"dataframe\">\n",
       "  <thead>\n",
       "    <tr style=\"text-align: right;\">\n",
       "      <th></th>\n",
       "      <th>client_id</th>\n",
       "      <th>value_day</th>\n",
       "      <th>digital_30_cnt</th>\n",
       "      <th>tran_active_30_cnt</th>\n",
       "      <th>oper_active_30_cnt</th>\n",
       "    </tr>\n",
       "  </thead>\n",
       "  <tbody>\n",
       "    <tr>\n",
       "      <th>314083</th>\n",
       "      <td>1672783006</td>\n",
       "      <td>2021-11-30</td>\n",
       "      <td>8</td>\n",
       "      <td>0</td>\n",
       "      <td>0</td>\n",
       "    </tr>\n",
       "    <tr>\n",
       "      <th>609452</th>\n",
       "      <td>1115878303</td>\n",
       "      <td>2022-01-31</td>\n",
       "      <td>20</td>\n",
       "      <td>12</td>\n",
       "      <td>13</td>\n",
       "    </tr>\n",
       "    <tr>\n",
       "      <th>793545</th>\n",
       "      <td>3021334182</td>\n",
       "      <td>2022-02-28</td>\n",
       "      <td>1</td>\n",
       "      <td>0</td>\n",
       "      <td>0</td>\n",
       "    </tr>\n",
       "    <tr>\n",
       "      <th>311972</th>\n",
       "      <td>4271994732</td>\n",
       "      <td>2021-11-30</td>\n",
       "      <td>2</td>\n",
       "      <td>0</td>\n",
       "      <td>1</td>\n",
       "    </tr>\n",
       "    <tr>\n",
       "      <th>448567</th>\n",
       "      <td>3119033862</td>\n",
       "      <td>2021-12-31</td>\n",
       "      <td>3</td>\n",
       "      <td>0</td>\n",
       "      <td>2</td>\n",
       "    </tr>\n",
       "  </tbody>\n",
       "</table>\n",
       "</div>"
      ],
      "text/plain": [
       "         client_id  value_day  digital_30_cnt  tran_active_30_cnt  \\\n",
       "314083  1672783006 2021-11-30               8                   0   \n",
       "609452  1115878303 2022-01-31              20                  12   \n",
       "793545  3021334182 2022-02-28               1                   0   \n",
       "311972  4271994732 2021-11-30               2                   0   \n",
       "448567  3119033862 2021-12-31               3                   0   \n",
       "\n",
       "        oper_active_30_cnt  \n",
       "314083                   0  \n",
       "609452                  13  \n",
       "793545                   0  \n",
       "311972                   1  \n",
       "448567                   2  "
      ]
     },
     "execution_count": 13,
     "metadata": {},
     "output_type": "execute_result"
    }
   ],
   "source": [
    "log.sample(5) # смотрим образец данных"
   ]
  },
  {
   "cell_type": "markdown",
   "metadata": {},
   "source": [
    "Строка представляет собой ID клиента, последний день месяца и количество произошедших за него событий по клиенту. Скорее всего NaN указывается в случае если событий для клиента не было, если не было одного или двух типов событий отсутствие события обозначается 0. Учтем это в дальнейшем исследовании."
   ]
  },
  {
   "cell_type": "markdown",
   "metadata": {},
   "source": [
    "Посмотрим все записи для одного из клиентов."
   ]
  },
  {
   "cell_type": "code",
   "execution_count": 14,
   "metadata": {
    "tags": []
   },
   "outputs": [
    {
     "data": {
      "text/html": [
       "<div>\n",
       "<style scoped>\n",
       "    .dataframe tbody tr th:only-of-type {\n",
       "        vertical-align: middle;\n",
       "    }\n",
       "\n",
       "    .dataframe tbody tr th {\n",
       "        vertical-align: top;\n",
       "    }\n",
       "\n",
       "    .dataframe thead th {\n",
       "        text-align: right;\n",
       "    }\n",
       "</style>\n",
       "<table border=\"1\" class=\"dataframe\">\n",
       "  <thead>\n",
       "    <tr style=\"text-align: right;\">\n",
       "      <th></th>\n",
       "      <th>client_id</th>\n",
       "      <th>value_day</th>\n",
       "      <th>digital_30_cnt</th>\n",
       "      <th>tran_active_30_cnt</th>\n",
       "      <th>oper_active_30_cnt</th>\n",
       "    </tr>\n",
       "  </thead>\n",
       "  <tbody>\n",
       "    <tr>\n",
       "      <th>80280</th>\n",
       "      <td>46174480</td>\n",
       "      <td>2021-09-30</td>\n",
       "      <td>&lt;NA&gt;</td>\n",
       "      <td>&lt;NA&gt;</td>\n",
       "      <td>&lt;NA&gt;</td>\n",
       "    </tr>\n",
       "    <tr>\n",
       "      <th>152313</th>\n",
       "      <td>46174480</td>\n",
       "      <td>2021-10-31</td>\n",
       "      <td>&lt;NA&gt;</td>\n",
       "      <td>&lt;NA&gt;</td>\n",
       "      <td>&lt;NA&gt;</td>\n",
       "    </tr>\n",
       "    <tr>\n",
       "      <th>333432</th>\n",
       "      <td>46174480</td>\n",
       "      <td>2021-11-30</td>\n",
       "      <td>1</td>\n",
       "      <td>0</td>\n",
       "      <td>0</td>\n",
       "    </tr>\n",
       "    <tr>\n",
       "      <th>525455</th>\n",
       "      <td>46174480</td>\n",
       "      <td>2021-12-31</td>\n",
       "      <td>4</td>\n",
       "      <td>0</td>\n",
       "      <td>0</td>\n",
       "    </tr>\n",
       "    <tr>\n",
       "      <th>611746</th>\n",
       "      <td>46174480</td>\n",
       "      <td>2022-01-31</td>\n",
       "      <td>1</td>\n",
       "      <td>0</td>\n",
       "      <td>0</td>\n",
       "    </tr>\n",
       "    <tr>\n",
       "      <th>712914</th>\n",
       "      <td>46174480</td>\n",
       "      <td>2022-02-28</td>\n",
       "      <td>2</td>\n",
       "      <td>0</td>\n",
       "      <td>0</td>\n",
       "    </tr>\n",
       "  </tbody>\n",
       "</table>\n",
       "</div>"
      ],
      "text/plain": [
       "        client_id  value_day  digital_30_cnt  tran_active_30_cnt  \\\n",
       "80280    46174480 2021-09-30            <NA>                <NA>   \n",
       "152313   46174480 2021-10-31            <NA>                <NA>   \n",
       "333432   46174480 2021-11-30               1                   0   \n",
       "525455   46174480 2021-12-31               4                   0   \n",
       "611746   46174480 2022-01-31               1                   0   \n",
       "712914   46174480 2022-02-28               2                   0   \n",
       "\n",
       "        oper_active_30_cnt  \n",
       "80280                 <NA>  \n",
       "152313                <NA>  \n",
       "333432                   0  \n",
       "525455                   0  \n",
       "611746                   0  \n",
       "712914                   0  "
      ]
     },
     "execution_count": 14,
     "metadata": {},
     "output_type": "execute_result"
    }
   ],
   "source": [
    "log[log['client_id'] == 46174480] # выводим записи для клиента с id 46174480"
   ]
  },
  {
   "cell_type": "markdown",
   "metadata": {},
   "source": [
    "По всей видимости, клиент не пользовался мобильным приложением до ноября 2022 года, после этого стал заходить в него несколько раз в месяц."
   ]
  },
  {
   "cell_type": "markdown",
   "metadata": {},
   "source": [
    "Посмотрим, как меняется число событий и пользователей по времени."
   ]
  },
  {
   "cell_type": "code",
   "execution_count": 15,
   "metadata": {},
   "outputs": [
    {
     "data": {
      "text/html": [
       "<div>\n",
       "<style scoped>\n",
       "    .dataframe tbody tr th:only-of-type {\n",
       "        vertical-align: middle;\n",
       "    }\n",
       "\n",
       "    .dataframe tbody tr th {\n",
       "        vertical-align: top;\n",
       "    }\n",
       "\n",
       "    .dataframe thead th {\n",
       "        text-align: right;\n",
       "    }\n",
       "</style>\n",
       "<table border=\"1\" class=\"dataframe\">\n",
       "  <thead>\n",
       "    <tr style=\"text-align: right;\">\n",
       "      <th></th>\n",
       "      <th>digital_30_cnt</th>\n",
       "      <th>tran_active_30_cnt</th>\n",
       "      <th>oper_active_30_cnt</th>\n",
       "    </tr>\n",
       "    <tr>\n",
       "      <th>value_day</th>\n",
       "      <th></th>\n",
       "      <th></th>\n",
       "      <th></th>\n",
       "    </tr>\n",
       "  </thead>\n",
       "  <tbody>\n",
       "    <tr>\n",
       "      <th>2021-09-30</th>\n",
       "      <td>1252100</td>\n",
       "      <td>336547</td>\n",
       "      <td>448620</td>\n",
       "    </tr>\n",
       "    <tr>\n",
       "      <th>2021-10-31</th>\n",
       "      <td>1286908</td>\n",
       "      <td>359712</td>\n",
       "      <td>477997</td>\n",
       "    </tr>\n",
       "    <tr>\n",
       "      <th>2021-11-30</th>\n",
       "      <td>1335246</td>\n",
       "      <td>377628</td>\n",
       "      <td>522751</td>\n",
       "    </tr>\n",
       "    <tr>\n",
       "      <th>2021-12-31</th>\n",
       "      <td>1523914</td>\n",
       "      <td>423444</td>\n",
       "      <td>604040</td>\n",
       "    </tr>\n",
       "    <tr>\n",
       "      <th>2022-01-31</th>\n",
       "      <td>1320997</td>\n",
       "      <td>383387</td>\n",
       "      <td>535203</td>\n",
       "    </tr>\n",
       "    <tr>\n",
       "      <th>2022-02-28</th>\n",
       "      <td>1521019</td>\n",
       "      <td>447123</td>\n",
       "      <td>617826</td>\n",
       "    </tr>\n",
       "  </tbody>\n",
       "</table>\n",
       "</div>"
      ],
      "text/plain": [
       "            digital_30_cnt  tran_active_30_cnt  oper_active_30_cnt\n",
       "value_day                                                         \n",
       "2021-09-30         1252100              336547              448620\n",
       "2021-10-31         1286908              359712              477997\n",
       "2021-11-30         1335246              377628              522751\n",
       "2021-12-31         1523914              423444              604040\n",
       "2022-01-31         1320997              383387              535203\n",
       "2022-02-28         1521019              447123              617826"
      ]
     },
     "metadata": {},
     "output_type": "display_data"
    },
    {
     "data": {
      "text/html": [
       "<div>\n",
       "<style scoped>\n",
       "    .dataframe tbody tr th:only-of-type {\n",
       "        vertical-align: middle;\n",
       "    }\n",
       "\n",
       "    .dataframe tbody tr th {\n",
       "        vertical-align: top;\n",
       "    }\n",
       "\n",
       "    .dataframe thead th {\n",
       "        text-align: right;\n",
       "    }\n",
       "</style>\n",
       "<table border=\"1\" class=\"dataframe\">\n",
       "  <thead>\n",
       "    <tr style=\"text-align: right;\">\n",
       "      <th></th>\n",
       "      <th>digital_30_cnt</th>\n",
       "      <th>tran_active_30_cnt</th>\n",
       "      <th>oper_active_30_cnt</th>\n",
       "    </tr>\n",
       "    <tr>\n",
       "      <th>value_day</th>\n",
       "      <th></th>\n",
       "      <th></th>\n",
       "      <th></th>\n",
       "    </tr>\n",
       "  </thead>\n",
       "  <tbody>\n",
       "    <tr>\n",
       "      <th>2021-09-30</th>\n",
       "      <td>112885</td>\n",
       "      <td>78372</td>\n",
       "      <td>85414</td>\n",
       "    </tr>\n",
       "    <tr>\n",
       "      <th>2021-10-31</th>\n",
       "      <td>114998</td>\n",
       "      <td>81411</td>\n",
       "      <td>88108</td>\n",
       "    </tr>\n",
       "    <tr>\n",
       "      <th>2021-11-30</th>\n",
       "      <td>116863</td>\n",
       "      <td>83634</td>\n",
       "      <td>91616</td>\n",
       "    </tr>\n",
       "    <tr>\n",
       "      <th>2021-12-31</th>\n",
       "      <td>119976</td>\n",
       "      <td>87133</td>\n",
       "      <td>97769</td>\n",
       "    </tr>\n",
       "    <tr>\n",
       "      <th>2022-01-31</th>\n",
       "      <td>120266</td>\n",
       "      <td>86557</td>\n",
       "      <td>95748</td>\n",
       "    </tr>\n",
       "    <tr>\n",
       "      <th>2022-02-28</th>\n",
       "      <td>123689</td>\n",
       "      <td>91642</td>\n",
       "      <td>100289</td>\n",
       "    </tr>\n",
       "  </tbody>\n",
       "</table>\n",
       "</div>"
      ],
      "text/plain": [
       "            digital_30_cnt  tran_active_30_cnt  oper_active_30_cnt\n",
       "value_day                                                         \n",
       "2021-09-30          112885               78372               85414\n",
       "2021-10-31          114998               81411               88108\n",
       "2021-11-30          116863               83634               91616\n",
       "2021-12-31          119976               87133               97769\n",
       "2022-01-31          120266               86557               95748\n",
       "2022-02-28          123689               91642              100289"
      ]
     },
     "execution_count": 15,
     "metadata": {},
     "output_type": "execute_result"
    }
   ],
   "source": [
    "events=log.groupby('value_day').agg({'digital_30_cnt':'sum','tran_active_30_cnt':'sum', 'oper_active_30_cnt':'sum'})\n",
    "users=log.replace(0,np.nan).groupby('value_day').agg({'digital_30_cnt':'count','tran_active_30_cnt':'count','oper_active_30_cnt':'count'})\n",
    "display(events)\n",
    "users"
   ]
  },
  {
   "cell_type": "code",
   "execution_count": 16,
   "metadata": {},
   "outputs": [
    {
     "data": {
      "image/png": "[encoded data removed]",
      "text/plain": [
       "<Figure size 1296x432 with 2 Axes>"
      ]
     },
     "metadata": {
      "needs_background": "light"
     },
     "output_type": "display_data"
    }
   ],
   "source": [
    "plt.figure(figsize=(18, 6)) # построим графики событий и числа пользователей\n",
    "ax1 = plt.subplot(1, 2, 1)\n",
    "ax1 = (events.plot( \n",
    "        ax=ax1, \n",
    "        grid=True,\n",
    "   )\n",
    ")\n",
    "\n",
    "plt.ylabel('Events')\n",
    "plt.xlabel('Months')\n",
    "plt.title('Total events per month')\n",
    "\n",
    "ax2 = plt.subplot(1, 2, 2)\n",
    "ax2 = (users.plot( \n",
    "        ax=ax2, \n",
    "        grid=True,\n",
    "   )\n",
    ")\n",
    "\n",
    "plt.ylabel('Unique users')\n",
    "plt.xlabel('Months')\n",
    "plt.title('Unique users per month')\n",
    "\n",
    "plt.tight_layout()\n",
    "plt.show()"
   ]
  },
  {
   "cell_type": "code",
   "execution_count": 17,
   "metadata": {},
   "outputs": [
    {
     "data": {
      "text/html": [
       "<div>\n",
       "<style scoped>\n",
       "    .dataframe tbody tr th:only-of-type {\n",
       "        vertical-align: middle;\n",
       "    }\n",
       "\n",
       "    .dataframe tbody tr th {\n",
       "        vertical-align: top;\n",
       "    }\n",
       "\n",
       "    .dataframe thead th {\n",
       "        text-align: right;\n",
       "    }\n",
       "</style>\n",
       "<table border=\"1\" class=\"dataframe\">\n",
       "  <thead>\n",
       "    <tr style=\"text-align: right;\">\n",
       "      <th></th>\n",
       "      <th>digital_30_cnt</th>\n",
       "      <th>tran_active_30_cnt</th>\n",
       "      <th>oper_active_30_cnt</th>\n",
       "    </tr>\n",
       "  </thead>\n",
       "  <tbody>\n",
       "    <tr>\n",
       "      <th>count</th>\n",
       "      <td>6.000000e+00</td>\n",
       "      <td>6.000000</td>\n",
       "      <td>6.000000</td>\n",
       "    </tr>\n",
       "    <tr>\n",
       "      <th>mean</th>\n",
       "      <td>1.373364e+06</td>\n",
       "      <td>387973.500000</td>\n",
       "      <td>534406.166667</td>\n",
       "    </tr>\n",
       "    <tr>\n",
       "      <th>std</th>\n",
       "      <td>1.190312e+05</td>\n",
       "      <td>40812.454858</td>\n",
       "      <td>67060.387215</td>\n",
       "    </tr>\n",
       "    <tr>\n",
       "      <th>min</th>\n",
       "      <td>1.252100e+06</td>\n",
       "      <td>336547.000000</td>\n",
       "      <td>448620.000000</td>\n",
       "    </tr>\n",
       "    <tr>\n",
       "      <th>25%</th>\n",
       "      <td>1.295430e+06</td>\n",
       "      <td>364191.000000</td>\n",
       "      <td>489185.500000</td>\n",
       "    </tr>\n",
       "    <tr>\n",
       "      <th>50%</th>\n",
       "      <td>1.328122e+06</td>\n",
       "      <td>380507.500000</td>\n",
       "      <td>528977.000000</td>\n",
       "    </tr>\n",
       "    <tr>\n",
       "      <th>75%</th>\n",
       "      <td>1.474576e+06</td>\n",
       "      <td>413429.750000</td>\n",
       "      <td>586830.750000</td>\n",
       "    </tr>\n",
       "    <tr>\n",
       "      <th>max</th>\n",
       "      <td>1.523914e+06</td>\n",
       "      <td>447123.000000</td>\n",
       "      <td>617826.000000</td>\n",
       "    </tr>\n",
       "  </tbody>\n",
       "</table>\n",
       "</div>"
      ],
      "text/plain": [
       "       digital_30_cnt  tran_active_30_cnt  oper_active_30_cnt\n",
       "count    6.000000e+00            6.000000            6.000000\n",
       "mean     1.373364e+06       387973.500000       534406.166667\n",
       "std      1.190312e+05        40812.454858        67060.387215\n",
       "min      1.252100e+06       336547.000000       448620.000000\n",
       "25%      1.295430e+06       364191.000000       489185.500000\n",
       "50%      1.328122e+06       380507.500000       528977.000000\n",
       "75%      1.474576e+06       413429.750000       586830.750000\n",
       "max      1.523914e+06       447123.000000       617826.000000"
      ]
     },
     "metadata": {},
     "output_type": "display_data"
    },
    {
     "data": {
      "text/html": [
       "<div>\n",
       "<style scoped>\n",
       "    .dataframe tbody tr th:only-of-type {\n",
       "        vertical-align: middle;\n",
       "    }\n",
       "\n",
       "    .dataframe tbody tr th {\n",
       "        vertical-align: top;\n",
       "    }\n",
       "\n",
       "    .dataframe thead th {\n",
       "        text-align: right;\n",
       "    }\n",
       "</style>\n",
       "<table border=\"1\" class=\"dataframe\">\n",
       "  <thead>\n",
       "    <tr style=\"text-align: right;\">\n",
       "      <th></th>\n",
       "      <th>digital_30_cnt</th>\n",
       "      <th>tran_active_30_cnt</th>\n",
       "      <th>oper_active_30_cnt</th>\n",
       "    </tr>\n",
       "  </thead>\n",
       "  <tbody>\n",
       "    <tr>\n",
       "      <th>count</th>\n",
       "      <td>6.000000</td>\n",
       "      <td>6.000000</td>\n",
       "      <td>6.000000</td>\n",
       "    </tr>\n",
       "    <tr>\n",
       "      <th>mean</th>\n",
       "      <td>118112.833333</td>\n",
       "      <td>84791.500000</td>\n",
       "      <td>93157.333333</td>\n",
       "    </tr>\n",
       "    <tr>\n",
       "      <th>std</th>\n",
       "      <td>3944.506632</td>\n",
       "      <td>4679.883108</td>\n",
       "      <td>5773.566997</td>\n",
       "    </tr>\n",
       "    <tr>\n",
       "      <th>min</th>\n",
       "      <td>112885.000000</td>\n",
       "      <td>78372.000000</td>\n",
       "      <td>85414.000000</td>\n",
       "    </tr>\n",
       "    <tr>\n",
       "      <th>25%</th>\n",
       "      <td>115464.250000</td>\n",
       "      <td>81966.750000</td>\n",
       "      <td>88985.000000</td>\n",
       "    </tr>\n",
       "    <tr>\n",
       "      <th>50%</th>\n",
       "      <td>118419.500000</td>\n",
       "      <td>85095.500000</td>\n",
       "      <td>93682.000000</td>\n",
       "    </tr>\n",
       "    <tr>\n",
       "      <th>75%</th>\n",
       "      <td>120193.500000</td>\n",
       "      <td>86989.000000</td>\n",
       "      <td>97263.750000</td>\n",
       "    </tr>\n",
       "    <tr>\n",
       "      <th>max</th>\n",
       "      <td>123689.000000</td>\n",
       "      <td>91642.000000</td>\n",
       "      <td>100289.000000</td>\n",
       "    </tr>\n",
       "  </tbody>\n",
       "</table>\n",
       "</div>"
      ],
      "text/plain": [
       "       digital_30_cnt  tran_active_30_cnt  oper_active_30_cnt\n",
       "count        6.000000            6.000000            6.000000\n",
       "mean    118112.833333        84791.500000        93157.333333\n",
       "std       3944.506632         4679.883108         5773.566997\n",
       "min     112885.000000        78372.000000        85414.000000\n",
       "25%     115464.250000        81966.750000        88985.000000\n",
       "50%     118419.500000        85095.500000        93682.000000\n",
       "75%     120193.500000        86989.000000        97263.750000\n",
       "max     123689.000000        91642.000000       100289.000000"
      ]
     },
     "execution_count": 17,
     "metadata": {},
     "output_type": "execute_result"
    }
   ],
   "source": [
    "display(events.describe()) # посмотрим статистику по месяцам \n",
    "users.describe()"
   ]
  },
  {
   "cell_type": "markdown",
   "metadata": {},
   "source": [
    "Месячные колебания числа событий и пользователей невысоки, максимум - 10%."
   ]
  },
  {
   "cell_type": "markdown",
   "metadata": {},
   "source": [
    "### Выводы"
   ]
  },
  {
   "cell_type": "markdown",
   "metadata": {},
   "source": [
    "1. Строка представляет собой ID клиента, последний день месяца и количество произошедших за него событий по клиенту. \n",
    "2. Скорее всего NaN указывается в случае если событий для клиента не было, если не было одного или двух типов событий отсутствие события обозначается 0. Учтем это в дальнейшем исследовании.\n",
    "3. Число событий и пользователей по времени колеблется по месяцам не сильно - максимальный разброс менее 10%."
   ]
  },
  {
   "cell_type": "markdown",
   "metadata": {},
   "source": [
    "## Когортный анализ"
   ]
  },
  {
   "cell_type": "markdown",
   "metadata": {},
   "source": [
    "### Расчет когорт"
   ]
  },
  {
   "cell_type": "markdown",
   "metadata": {},
   "source": [
    "Распределим пользователей по когортам. Будем считать, что пользователь вошел в когоргу, когда в его строке вперые после NaN появилось число."
   ]
  },
  {
   "cell_type": "code",
   "execution_count": 18,
   "metadata": {
    "tags": []
   },
   "outputs": [
    {
     "data": {
      "text/html": [
       "<div>\n",
       "<style scoped>\n",
       "    .dataframe tbody tr th:only-of-type {\n",
       "        vertical-align: middle;\n",
       "    }\n",
       "\n",
       "    .dataframe tbody tr th {\n",
       "        vertical-align: top;\n",
       "    }\n",
       "\n",
       "    .dataframe thead th {\n",
       "        text-align: right;\n",
       "    }\n",
       "</style>\n",
       "<table border=\"1\" class=\"dataframe\">\n",
       "  <thead>\n",
       "    <tr style=\"text-align: right;\">\n",
       "      <th>value_day</th>\n",
       "      <th>2021-09-30</th>\n",
       "      <th>2021-10-31</th>\n",
       "      <th>2021-11-30</th>\n",
       "      <th>2021-12-31</th>\n",
       "      <th>2022-01-31</th>\n",
       "      <th>2022-02-28</th>\n",
       "    </tr>\n",
       "    <tr>\n",
       "      <th>client_id</th>\n",
       "      <th></th>\n",
       "      <th></th>\n",
       "      <th></th>\n",
       "      <th></th>\n",
       "      <th></th>\n",
       "      <th></th>\n",
       "    </tr>\n",
       "  </thead>\n",
       "  <tbody>\n",
       "    <tr>\n",
       "      <th>8294</th>\n",
       "      <td>15</td>\n",
       "      <td>8</td>\n",
       "      <td>9</td>\n",
       "      <td>9</td>\n",
       "      <td>2</td>\n",
       "      <td>1</td>\n",
       "    </tr>\n",
       "    <tr>\n",
       "      <th>10609</th>\n",
       "      <td>35</td>\n",
       "      <td>18</td>\n",
       "      <td>10</td>\n",
       "      <td>40</td>\n",
       "      <td>33</td>\n",
       "      <td>38</td>\n",
       "    </tr>\n",
       "    <tr>\n",
       "      <th>15465</th>\n",
       "      <td>11</td>\n",
       "      <td>6</td>\n",
       "      <td>34</td>\n",
       "      <td>7</td>\n",
       "      <td>11</td>\n",
       "      <td>22</td>\n",
       "    </tr>\n",
       "    <tr>\n",
       "      <th>69014</th>\n",
       "      <td>13</td>\n",
       "      <td>8</td>\n",
       "      <td>6</td>\n",
       "      <td>10</td>\n",
       "      <td>21</td>\n",
       "      <td>15</td>\n",
       "    </tr>\n",
       "    <tr>\n",
       "      <th>100397</th>\n",
       "      <td>2</td>\n",
       "      <td>1</td>\n",
       "      <td>2</td>\n",
       "      <td>1</td>\n",
       "      <td>1</td>\n",
       "      <td>3</td>\n",
       "    </tr>\n",
       "    <tr>\n",
       "      <th>139646</th>\n",
       "      <td>0</td>\n",
       "      <td>0</td>\n",
       "      <td>0</td>\n",
       "      <td>0</td>\n",
       "      <td>&lt;NA&gt;</td>\n",
       "      <td>&lt;NA&gt;</td>\n",
       "    </tr>\n",
       "    <tr>\n",
       "      <th>141611</th>\n",
       "      <td>1</td>\n",
       "      <td>5</td>\n",
       "      <td>3</td>\n",
       "      <td>4</td>\n",
       "      <td>3</td>\n",
       "      <td>3</td>\n",
       "    </tr>\n",
       "    <tr>\n",
       "      <th>170152</th>\n",
       "      <td>4</td>\n",
       "      <td>3</td>\n",
       "      <td>3</td>\n",
       "      <td>1</td>\n",
       "      <td>1</td>\n",
       "      <td>0</td>\n",
       "    </tr>\n",
       "    <tr>\n",
       "      <th>200473</th>\n",
       "      <td>5</td>\n",
       "      <td>5</td>\n",
       "      <td>5</td>\n",
       "      <td>6</td>\n",
       "      <td>13</td>\n",
       "      <td>7</td>\n",
       "    </tr>\n",
       "    <tr>\n",
       "      <th>215821</th>\n",
       "      <td>6</td>\n",
       "      <td>5</td>\n",
       "      <td>0</td>\n",
       "      <td>2</td>\n",
       "      <td>3</td>\n",
       "      <td>1</td>\n",
       "    </tr>\n",
       "  </tbody>\n",
       "</table>\n",
       "</div>"
      ],
      "text/plain": [
       "value_day  2021-09-30  2021-10-31  2021-11-30  2021-12-31  2022-01-31  \\\n",
       "client_id                                                               \n",
       "8294               15           8           9           9           2   \n",
       "10609              35          18          10          40          33   \n",
       "15465              11           6          34           7          11   \n",
       "69014              13           8           6          10          21   \n",
       "100397              2           1           2           1           1   \n",
       "139646              0           0           0           0        <NA>   \n",
       "141611              1           5           3           4           3   \n",
       "170152              4           3           3           1           1   \n",
       "200473              5           5           5           6          13   \n",
       "215821              6           5           0           2           3   \n",
       "\n",
       "value_day  2022-02-28  \n",
       "client_id              \n",
       "8294                1  \n",
       "10609              38  \n",
       "15465              22  \n",
       "69014              15  \n",
       "100397              3  \n",
       "139646           <NA>  \n",
       "141611              3  \n",
       "170152              0  \n",
       "200473              7  \n",
       "215821              1  "
      ]
     },
     "execution_count": 18,
     "metadata": {},
     "output_type": "execute_result"
    }
   ],
   "source": [
    "visits = log.pivot_table(index='client_id', columns='value_day', values='digital_30_cnt',  aggfunc='sum') # строим таблицу посещений по дням\n",
    "visits.head(10) # смотрим результат"
   ]
  },
  {
   "cell_type": "markdown",
   "metadata": {},
   "source": [
    "Рассчитаем номера когорт."
   ]
  },
  {
   "cell_type": "code",
   "execution_count": 19,
   "metadata": {},
   "outputs": [
    {
     "data": {
      "text/html": [
       "<div>\n",
       "<style scoped>\n",
       "    .dataframe tbody tr th:only-of-type {\n",
       "        vertical-align: middle;\n",
       "    }\n",
       "\n",
       "    .dataframe tbody tr th {\n",
       "        vertical-align: top;\n",
       "    }\n",
       "\n",
       "    .dataframe thead th {\n",
       "        text-align: right;\n",
       "    }\n",
       "</style>\n",
       "<table border=\"1\" class=\"dataframe\">\n",
       "  <thead>\n",
       "    <tr style=\"text-align: right;\">\n",
       "      <th></th>\n",
       "      <th>cohort</th>\n",
       "    </tr>\n",
       "    <tr>\n",
       "      <th>client_id</th>\n",
       "      <th></th>\n",
       "    </tr>\n",
       "  </thead>\n",
       "  <tbody>\n",
       "    <tr>\n",
       "      <th>2120099379</th>\n",
       "      <td>0</td>\n",
       "    </tr>\n",
       "    <tr>\n",
       "      <th>4275530327</th>\n",
       "      <td>0</td>\n",
       "    </tr>\n",
       "    <tr>\n",
       "      <th>792379645</th>\n",
       "      <td>0</td>\n",
       "    </tr>\n",
       "    <tr>\n",
       "      <th>3283578197</th>\n",
       "      <td>1</td>\n",
       "    </tr>\n",
       "    <tr>\n",
       "      <th>2016540768</th>\n",
       "      <td>0</td>\n",
       "    </tr>\n",
       "    <tr>\n",
       "      <th>282822343</th>\n",
       "      <td>0</td>\n",
       "    </tr>\n",
       "    <tr>\n",
       "      <th>1659582834</th>\n",
       "      <td>2</td>\n",
       "    </tr>\n",
       "    <tr>\n",
       "      <th>2594887036</th>\n",
       "      <td>0</td>\n",
       "    </tr>\n",
       "    <tr>\n",
       "      <th>2556142489</th>\n",
       "      <td>0</td>\n",
       "    </tr>\n",
       "    <tr>\n",
       "      <th>1559819015</th>\n",
       "      <td>0</td>\n",
       "    </tr>\n",
       "  </tbody>\n",
       "</table>\n",
       "</div>"
      ],
      "text/plain": [
       "            cohort\n",
       "client_id         \n",
       "2120099379       0\n",
       "4275530327       0\n",
       "792379645        0\n",
       "3283578197       1\n",
       "2016540768       0\n",
       "282822343        0\n",
       "1659582834       2\n",
       "2594887036       0\n",
       "2556142489       0\n",
       "1559819015       0"
      ]
     },
     "execution_count": 19,
     "metadata": {},
     "output_type": "execute_result"
    }
   ],
   "source": [
    "users = (visits.apply(lambda row: next((i for i, value in enumerate(row) if not pd.isna(value)), None) , axis=1)\n",
    "               .reset_index(name='cohort')\n",
    "               .set_index('client_id')\n",
    "        ) # нумеруем пользователей по первому не NaN столбцу\n",
    "users.sample(10) # смотрим результат"
   ]
  },
  {
   "cell_type": "markdown",
   "metadata": {},
   "source": [
    "Посмотрим размеры когорт."
   ]
  },
  {
   "cell_type": "code",
   "execution_count": 20,
   "metadata": {
    "tags": []
   },
   "outputs": [
    {
     "data": {
      "text/plain": [
       "cohort\n",
       "0         129232\n",
       "1           7044\n",
       "2           5841\n",
       "3           6875\n",
       "4          14770\n",
       "5           5330\n",
       "dtype: int64"
      ]
     },
     "execution_count": 20,
     "metadata": {},
     "output_type": "execute_result"
    }
   ],
   "source": [
    "users.value_counts(sort=False) # смотрим размеры когорт."
   ]
  },
  {
   "cell_type": "markdown",
   "metadata": {},
   "source": [
    "Скорее всего в первую когорту вошли все клиенты на дату начала исследования, учтем это в ходе исследования. Размеры остальных когорт несколько тысяч человек, самая маленькая - 5330 чел."
   ]
  },
  {
   "cell_type": "markdown",
   "metadata": {},
   "source": [
    "### Расчет и визуализация удержания"
   ]
  },
  {
   "cell_type": "markdown",
   "metadata": {},
   "source": [
    "Создадим функцию для расчета таблицы удержания и ее визуализации."
   ]
  },
  {
   "cell_type": "code",
   "execution_count": 21,
   "metadata": {},
   "outputs": [],
   "source": [
    "def show_retention(visits_, group):\n",
    "    '''\n",
    "    Рассчитывет удержание таблицы visits_, выводит графики для групп group\n",
    "    '''\n",
    "    if group != 'Active': # если считаем на активных пользователей то\n",
    "        visits_.replace(0,np.nan, inplace=True) # заменим нули на NaN\n",
    "    visits_ = visits_.join(users, on='client_id', how='left') # добавим номера когорт\n",
    "    tri_table = visits_.groupby('cohort').agg('count') # сгруппируем по когортам\n",
    "    tri_table= (tri_table.reset_index()\n",
    "                .apply(lambda x: x.shift(-1*x['cohort'].astype(int)), axis=1)\n",
    "                .drop(['cohort'], axis=1)\n",
    "                .reset_index()\n",
    "               ) # сдвинем таблицу по лайфтаймам\n",
    "    new_col = ['cohort',1,2,3,4,5,6] # пронумеруем лайфтаймы\n",
    "    tri_table.columns = new_col\n",
    "    tri_table['cohort_size'] = tri_table.apply(lambda row: max(row), axis=1) # рассчитаем размеры когорт\n",
    "    #print(tri_table)\n",
    "    retention = tri_table.iloc[:,1:-1].div(tri_table['cohort_size'], axis=0) # рассчитаем удержание\n",
    "    \n",
    "    plt.figure(figsize=(18, 6)) # построим график удержания и тепловую карту\n",
    "    ax1 = plt.subplot(1, 2, 1)\n",
    "    ax1 = (retention.T.plot( \n",
    "            colormap='tab10', \n",
    "            ax=ax1,\n",
    "            grid=True,\n",
    "       )\n",
    "    )\n",
    "    plt.xlabel('Lifetime')\n",
    "    plt.ylabel('Retention')\n",
    "    plt.title('Retention by months of group '+group)\n",
    "    ax2 = plt.subplot(1, 2, 2)\n",
    "    ax2 = sns.heatmap(retention, annot=True, fmt='.2%')  # строим тепловую карту\n",
    "    plt.title('Retention heatmap of group '+group)\n",
    "    plt.xlabel('Lifetime')\n",
    "    plt.ylabel('Cohort')\n",
    "    plt.tight_layout()\n",
    "    plt.show()"
   ]
  },
  {
   "cell_type": "markdown",
   "metadata": {},
   "source": [
    "Рассчитаем удержание для групп и построим графики."
   ]
  },
  {
   "cell_type": "code",
   "execution_count": 22,
   "metadata": {},
   "outputs": [
    {
     "data": {
      "image/png": "[encoded data removed]",
      "text/plain": [
       "<Figure size 1296x432 with 3 Axes>"
      ]
     },
     "metadata": {
      "needs_background": "light"
     },
     "output_type": "display_data"
    },
    {
     "data": {
      "image/png": "[encoded data removed]",
      "text/plain": [
       "<Figure size 1296x432 with 3 Axes>"
      ]
     },
     "metadata": {
      "needs_background": "light"
     },
     "output_type": "display_data"
    },
    {
     "data": {
      "image/png": "[encoded data removed]",
      "text/plain": [
       "<Figure size 1296x432 with 3 Axes>"
      ]
     },
     "metadata": {
      "needs_background": "light"
     },
     "output_type": "display_data"
    },
    {
     "data": {
      "image/png": "[encoded data removed]",
      "text/plain": [
       "<Figure size 1296x432 with 3 Axes>"
      ]
     },
     "metadata": {
      "needs_background": "light"
     },
     "output_type": "display_data"
    }
   ],
   "source": [
    "show_retention(log.pivot_table(index='client_id', columns='value_day', values='digital_30_cnt',  aggfunc='sum'), 'Active')\n",
    "show_retention(log.pivot_table(index='client_id', columns='value_day', values='digital_30_cnt',  aggfunc='sum'), 'Digital')\n",
    "show_retention(log.pivot_table(index='client_id', columns='value_day', values='tran_active_30_cnt',  aggfunc='sum'), 'Transactional active')\n",
    "show_retention(log.pivot_table(index='client_id', columns='value_day', values='oper_active_30_cnt',  aggfunc='sum'), 'Operational Active')"
   ]
  },
  {
   "cell_type": "markdown",
   "metadata": {
    "tags": []
   },
   "source": [
    "Мы видим, что удержание активных клиентов ускоряет падение с третьего месяца. В остальных группах падение начинается резко, но со второго месяца замедляется.\n",
    "Возможно это связано с тем, что происходит отток клиентов, не перешедших в другие группы (у них меньше стимулов быть клиентами). Остальные осваиваются с приложением, заводят новые продукты и начинают ими пользоваться - падение удержания снижается.\n",
    "Проверить эту гипотезу можно сравнив уровень оттока у не диджитал и диджтал клиентов."
   ]
  },
  {
   "cell_type": "markdown",
   "metadata": {},
   "source": [
    "Можно выделить две проблемы - низкая вовлеченность активных клиентов, и быстрый отток из остальных групп.\n",
    "Увеличить вовлеченность активных клиентов можно адаптацией линейки продуктов и повышением персонализации клиентской коммуникации.\n",
    "Высокий отток на первых месяцах может показывать, что приложение тяжело в освоении, неудобно, отсутствуют необходимые продукты и фичи. Исправить ситуацию можно улучшением онбординга, введением игровой активности, выработкой у пользователя рутин, поиском и внедрением необходимых пользователю элементов."
   ]
  },
  {
   "cell_type": "markdown",
   "metadata": {},
   "source": [
    "### Выводы"
   ]
  },
  {
   "cell_type": "markdown",
   "metadata": {},
   "source": [
    "1. Мы распределили пользователей по когортам по месяцам активации. Мы считали, что пользователь вошел в когоргу, когда в его строке вперые после NaN появилось число\n",
    "2. Размер первой когорты - 129232 чел. Скорее всего в первую когорту вошли все клиенты на дату начала исследования, учтем это в ходе исследования. Размеры остальных когорт несколько тысяч человек, самая маленькая - 5330 чел.\n",
    "3. Для расчета таблицы удержания и ее визуализации мы создали специальную функцию.\n",
    "4. Для каждой из групп мы рассчитали удержание и построили графики.\n",
    "5. Из результатов мы увидали, что удержание активных клиентов ускоряет падение с третьего месяца. В остальных группах падение начинается резко, но со второго месяца замедляется.\n",
    "6. Возможно это связано с тем, что происходит отток клиентов, не перешедших в другие группы (у них меньше стимулов быть клиентами). Остальные осваиваются с приложением, заводят новые продукты и начинают ими пользоваться - падение удержания снижается. Проверить эту гипотезу можно сравнив уровень оттока у не диджитал и диджтал клиентов.\n",
    "7. Результаты показывают две проблемы - низкую вовлеченность активных клиентов, и быстрый отток из остальных групп.\n",
    "8. Увеличить вовлеченность активных клиентов можно адаптацией линейки продуктов и повышением персонализации клиентской коммуникации.\n",
    "9. Высокий отток на первых месяцах может показывать, что приложение тяжело в освоении, неудобно, отсутствуют необходимые продукты и фичи. Исправить ситуацию можно улучшением онбординга, введением игровой активности, выработкой у пользователя рутин, поиском и внедрением необходимых пользователю элементов."
   ]
  },
  {
   "cell_type": "markdown",
   "metadata": {
    "tags": []
   },
   "source": [
    "## Анализ проникновения"
   ]
  },
  {
   "cell_type": "markdown",
   "metadata": {},
   "source": [
    "Исследуем проникновение диджитал активных в операционно активных клиентов."
   ]
  },
  {
   "cell_type": "markdown",
   "metadata": {},
   "source": [
    "Создадим функцию для анализа проникновения."
   ]
  },
  {
   "cell_type": "code",
   "execution_count": 25,
   "metadata": {},
   "outputs": [],
   "source": [
    "def show_penetration(visits_1, visits_2, title_1, title_2):\n",
    "    '''\n",
    "    Рассчитывает и визуализирует проникновение группы title_1 в title_2.\n",
    "    visits_1, visits_2 - данные по месяцам по визитам клиентов\n",
    "    '''\n",
    "    visits_1 = visits_1.join(users, on='client_id', how='left') # добавим номера когорт\n",
    "    visits_2 = visits_2.join(users, on='client_id', how='left') # добавим номера когорт\n",
    "    tri_table_1 = visits_1.groupby('cohort').agg('count') # сгруппируем по когортам\n",
    "    tri_table_2 = visits_2.groupby('cohort').agg('count') # сгруппируем по когортам\n",
    "    tri_table_1 = (tri_table_1.reset_index()\n",
    "                .apply(lambda x: x.shift(-1*x['cohort'].astype(int)), axis=1)\n",
    "                .drop(['cohort'], axis=1)\n",
    "                .reset_index()\n",
    "               ) # сдвинем таблицу по лайфтаймам\n",
    "    tri_table_2 = (tri_table_2.reset_index()\n",
    "                .apply(lambda x: x.shift(-1*x['cohort'].astype(int)), axis=1)\n",
    "                .drop(['cohort'], axis=1)\n",
    "                .reset_index()\n",
    "               ) # сдвинем таблицу по лайфтаймам\n",
    "    new_col = ['cohort',1,2,3,4,5,6] # пронумеруем лайфтаймы\n",
    "    tri_table_1.columns = new_col\n",
    "    tri_table_2.columns = new_col\n",
    "    penetration = tri_table_2.div(tri_table_1).drop('cohort', axis=1) # рассчитаем проникновение\n",
    "    plt.figure(figsize=(18, 6)) # построим график удержания и тепловую карту\n",
    "    ax1 = plt.subplot(1, 2, 1)\n",
    "    ax1 = (penetration.T.plot( \n",
    "            colormap='tab10', \n",
    "            ax=ax1,\n",
    "            grid=True,\n",
    "       )\n",
    "    )\n",
    "    plt.xlabel('Lifetime')\n",
    "    plt.ylabel('Ratio of '+title_1.lower()+' in '+title_2)\n",
    "    plt.title(title_1+' to '+title_2+' penetration by months')\n",
    "    ax2 = plt.subplot(1, 2, 2)\n",
    "    ax2 = sns.heatmap(penetration, annot=True, fmt='.2%')  # строим тепловую карту\n",
    "    plt.title(title_1+' to '+title_2+' penetration heatmap')\n",
    "    plt.xlabel('Lifetime')\n",
    "    plt.ylabel('Cohort')\n",
    "    plt.tight_layout()\n",
    "    plt.show()"
   ]
  },
  {
   "cell_type": "markdown",
   "metadata": {},
   "source": [
    "Рассчитаем и визуализируем проникновение диджитал активных в операционно активных клиентов."
   ]
  },
  {
   "cell_type": "code",
   "execution_count": 26,
   "metadata": {
    "tags": []
   },
   "outputs": [
    {
     "data": {
      "image/png": "[encoded data removed]",
      "text/plain": [
       "<Figure size 1296x432 with 3 Axes>"
      ]
     },
     "metadata": {
      "needs_background": "light"
     },
     "output_type": "display_data"
    }
   ],
   "source": [
    "show_penetration(log.pivot_table(index='client_id', columns='value_day', values='digital_30_cnt',  aggfunc='sum').replace(0,np.nan), \n",
    "                 log.pivot_table(index='client_id', columns='value_day', values='tran_active_30_cnt',  aggfunc='sum').replace(0,np.nan),\n",
    "                 'Digital','transactional'\n",
    "                )"
   ]
  },
  {
   "cell_type": "markdown",
   "metadata": {},
   "source": [
    "Проникновение диджитал активных в операционно активных сначала снижается, а с второго месяца начинает расти. Это может быть вызвано тем, что диджитал активные клиенты пользуются продуктами не требующими регулярного совершения операций, либо затрудняются с выбором и открытием новых продуктов.\n",
    "Эта гипотеза может быть проверена сравнением групп диджитал и операцонно активных клиентов по используемым продуктам, срокам с активации до открытия продуктов."
   ]
  },
  {
   "cell_type": "markdown",
   "metadata": {},
   "source": [
    "Увеличить проникновение помогут следующие мероприятия:\n",
    "* предложение привлекательных карточные продуктов, стимулирующих совершать больше платежей и переводов;\n",
    "* повышение удобства платежей и переводов в приложение, повышение числа сценариев для переводов;\n",
    "* усиление работы по онбордингу в новые функции."
   ]
  },
  {
   "cell_type": "markdown",
   "metadata": {},
   "source": [
    "### Выводы"
   ]
  },
  {
   "cell_type": "markdown",
   "metadata": {},
   "source": [
    "1. Для анализа проникновения диджитал активных в операционно активных клиентов мы создали специальную функцию.\n",
    "2. С ее помощью мы рассчитали и визуализируовали проникновение диджитал активных в операционно активных клиентов.\n",
    "3. Проникновение диджитал активных в операционно активных сначала снижается, а с второго месяца начинает расти. Это может быть вызвано тем, что диджитал активные клиенты пользуются продуктами не требующими регулярного совершения операций, либо затрудняются с выбором и открытием новых продуктов. Эта гипотеза может быть проверена сравнением групп диджитал и операцонно активных клиентов по используемым продуктам, срокам с активации до открытия продуктов.\n",
    "4. Увеличить проникновение помогут следующие мероприятия:\n",
    "    * предложение привлекательных карточных продуктов, стимулирующих совершать больше платежей и переводов;\n",
    "    * повышение удобства платежей и переводов в приложение, повышение числа сценариев для переводов;\n",
    "    * усиление работы по онбордингу в новые функции."
   ]
  },
  {
   "cell_type": "markdown",
   "metadata": {},
   "source": [
    "## Общие выводы"
   ]
  },
  {
   "cell_type": "markdown",
   "metadata": {},
   "source": [
    "1. Мы решили, что данных достаточно для решения поставленных задач.\n",
    "2. В таблице есть пропуски, это вызвано тем, что не все активные клиенты (наличие строки для клиента на отчетную дату) пользуются мобильным приложением (являются диджитал активными). Пропуски содержат важную для исследования информацию, оставим их без изменения.\n",
    "3. Типы данных во всех столбцах различаются. В таблицах столбец value_day содержащие даты мы конвертировали в формат datetime. Столбцы с количеством событий привели к целому значению.\n",
    "4. Мы привели названия столбцов в соответствие с правилами именования: все символы сделали строчными.\n",
    "5. **Для клиента с id 1813118018 дублируются записи за январь и февраль 2022 года. Возможно это вызвано уточнением информации, возможно это техническая ошибка. Обращаем внимание коллег, что нужно установить причину дублирования.** Из дублирующихся данных удалили повторяющиеся строки.\n",
    "6. Мы установили, что строка представляет собой ID клиента, последний день месяца и количество произошедших за него событий по клиенту. Скорее всего NaN указывается в случае если событий для клиента не было, если не было одного или двух типов событий отсутствие события обозначается 0. Мы учли это в дальнейшем.\n",
    "7. Число событий и пользователей по времени колеблется по месяцам не сильно - максимальный разброс менее 10%.\n",
    "8. Мы распределили пользователей по когортам по месяцам активации. Мы считали, что пользователь вошел в когоргу, когда в его строке вперые после NaN появилось число\n",
    "9. Размер первой когорты - 129232 чел. Скорее всего в первую когорту вошли все клиенты на дату начала исследования, мы учли это в ходе исследования. Размеры остальных когорт несколько тысяч человек, самая маленькая - 5330 чел.\n",
    "10. Для расчета таблицы удержания и ее визуализации мы создали специальную функцию.\n",
    "11. Для каждой из групп мы рассчитали удержание и построили графики.\n",
    "12. Из результатов мы увидали, что **удержание активных клиентов ускоряет падение с третьего месяца. В остальных группах падение начинается резко, но со второго месяца замедляется**.\n",
    "13. **Возможно это связано с тем, что происходит отток клиентов, не перешедших в другие группы (у них меньше стимулов быть клиентами). Остальные осваиваются с приложением, заводят новые продукты и начинают ими пользоваться - падение удержания снижается. Проверить эту гипотезу можно сравнив уровень оттока у не диджитал и диджтал клиентов.**\n",
    "14. **Результаты показывают две проблемы - низкую вовлеченность активных клиентов, и быстрый отток из остальных групп.\n",
    "    * Увеличить вовлеченность активных клиентов можно адаптацией линейки продуктов и повышением персонализации клиентской коммуникации.\n",
    "    * Высокий отток на первых месяцах может показывать, что приложение тяжело в освоении, неудобно, отсутствуют необходимые продукты и фичи. Исправить ситуацию можно улучшением онбординга, введением игровой активности, выработкой у пользователя рутин, поиском и внедрением необходимых пользователю фич.**\n",
    "15. Для анализа проникновения диджитал активных в операционно активных клиентов мы создали специальную функцию, с ее помощью мы рассчитали и визуализируовали проникновение диджитал активных в операционно активных клиентов.\n",
    "16. **Проникновение диджитал активных в операционно активных сначала снижается, а с второго месяца начинает расти. Это может быть вызвано тем, что диджитал активные клиенты пользуются продуктами не требующими регулярного совершения операций, либо затрудняются с выбором и открытием новых продуктов. Эта гипотеза может быть проверена сравнением групп диджитал и операцонно активных клиентов по используемым продуктам, срокам с активации до открытия продуктов.**\n",
    "17. **Увеличить проникновение помогут следующие мероприятия:**\n",
    "    * **предложение привлекательных карточных продуктов, стимулирующих совершать больше платежей и переводов;**\n",
    "    * **повышение удобства платежей и переводов в приложение, повышение числа сценариев для переводов;**\n",
    "    * **усиление работы по онбордингу в новые функции.**"
   ]
  }
 ],
 "metadata": {
  "ExecuteTimeLog": [
   {
    "duration": 959,
    "start_time": "2022-05-26T08:43:47.023Z"
   },
   {
    "duration": 2,
    "start_time": "2022-05-26T08:43:48.770Z"
   },
   {
    "duration": 3560,
    "start_time": "2022-05-26T08:45:12.371Z"
   },
   {
    "duration": 3,
    "start_time": "2022-05-26T08:46:38.956Z"
   },
   {
    "duration": 144,
    "start_time": "2022-05-26T08:46:42.789Z"
   },
   {
    "duration": 781,
    "start_time": "2022-05-26T08:46:47.712Z"
   },
   {
    "duration": 173,
    "start_time": "2022-05-26T08:46:50.270Z"
   },
   {
    "duration": 142,
    "start_time": "2022-05-26T08:47:10.663Z"
   },
   {
    "duration": 111,
    "start_time": "2022-05-26T08:47:16.481Z"
   },
   {
    "duration": 75,
    "start_time": "2022-05-26T08:49:15.377Z"
   },
   {
    "duration": 34,
    "start_time": "2022-05-26T08:56:01.438Z"
   },
   {
    "duration": 5,
    "start_time": "2022-05-26T09:04:46.569Z"
   },
   {
    "duration": 8,
    "start_time": "2022-05-26T09:05:11.720Z"
   },
   {
    "duration": 11,
    "start_time": "2022-05-26T09:06:01.193Z"
   },
   {
    "duration": 243,
    "start_time": "2022-05-26T10:18:22.724Z"
   },
   {
    "duration": 112,
    "start_time": "2022-05-26T10:19:07.528Z"
   },
   {
    "duration": 112,
    "start_time": "2022-05-26T10:19:15.391Z"
   },
   {
    "duration": 156,
    "start_time": "2022-05-26T10:20:15.685Z"
   },
   {
    "duration": 142,
    "start_time": "2022-05-26T10:20:46.724Z"
   },
   {
    "duration": 138,
    "start_time": "2022-05-26T10:27:02.241Z"
   },
   {
    "duration": 134,
    "start_time": "2022-05-26T10:28:26.242Z"
   },
   {
    "duration": 81,
    "start_time": "2022-05-26T10:28:51.265Z"
   },
   {
    "duration": 30,
    "start_time": "2022-05-26T10:29:00.932Z"
   },
   {
    "duration": 123,
    "start_time": "2022-05-26T10:29:06.837Z"
   },
   {
    "duration": 134,
    "start_time": "2022-05-26T10:29:29.050Z"
   },
   {
    "duration": 11,
    "start_time": "2022-05-26T11:34:58.719Z"
   },
   {
    "duration": 7,
    "start_time": "2022-05-26T11:35:09.063Z"
   },
   {
    "duration": 1027,
    "start_time": "2022-05-26T11:35:09.992Z"
   },
   {
    "duration": 518,
    "start_time": "2022-05-26T11:43:35.811Z"
   },
   {
    "duration": 37,
    "start_time": "2022-05-26T11:46:54.406Z"
   },
   {
    "duration": 53,
    "start_time": "2022-05-26T11:49:05.390Z"
   },
   {
    "duration": 22,
    "start_time": "2022-05-26T11:49:45.364Z"
   },
   {
    "duration": 18,
    "start_time": "2022-05-26T11:49:51.334Z"
   },
   {
    "duration": 42,
    "start_time": "2022-05-26T11:50:15.032Z"
   },
   {
    "duration": 18,
    "start_time": "2022-05-26T11:50:36.043Z"
   },
   {
    "duration": 11,
    "start_time": "2022-05-26T11:52:17.448Z"
   },
   {
    "duration": 7,
    "start_time": "2022-05-26T11:53:13.448Z"
   },
   {
    "duration": 275,
    "start_time": "2022-05-26T11:53:23.315Z"
   },
   {
    "duration": 14,
    "start_time": "2022-05-26T11:53:33.220Z"
   },
   {
    "duration": 16,
    "start_time": "2022-05-26T11:53:39.417Z"
   },
   {
    "duration": 8,
    "start_time": "2022-05-26T11:53:40.983Z"
   },
   {
    "duration": 8,
    "start_time": "2022-05-26T11:54:03.029Z"
   },
   {
    "duration": 144,
    "start_time": "2022-05-26T11:54:07.425Z"
   },
   {
    "duration": 18,
    "start_time": "2022-05-26T11:54:26.069Z"
   },
   {
    "duration": 10,
    "start_time": "2022-05-26T11:54:44.473Z"
   },
   {
    "duration": 119,
    "start_time": "2022-05-26T11:54:56.043Z"
   },
   {
    "duration": 78,
    "start_time": "2022-05-26T11:55:15.700Z"
   },
   {
    "duration": 9,
    "start_time": "2022-05-26T11:55:25.366Z"
   },
   {
    "duration": 84,
    "start_time": "2022-05-26T11:55:34.419Z"
   },
   {
    "duration": 4,
    "start_time": "2022-05-26T11:56:57.031Z"
   },
   {
    "duration": 4,
    "start_time": "2022-05-26T11:57:15.787Z"
   },
   {
    "duration": 122,
    "start_time": "2022-05-26T11:57:31.292Z"
   },
   {
    "duration": 10,
    "start_time": "2022-05-26T11:58:27.412Z"
   },
   {
    "duration": 264,
    "start_time": "2022-05-26T11:58:34.354Z"
   },
   {
    "duration": 195,
    "start_time": "2022-05-26T11:58:44.448Z"
   },
   {
    "duration": 171,
    "start_time": "2022-05-26T12:00:15.991Z"
   },
   {
    "duration": 153,
    "start_time": "2022-05-26T12:01:21.327Z"
   },
   {
    "duration": 184,
    "start_time": "2022-05-26T12:02:00.363Z"
   },
   {
    "duration": 177,
    "start_time": "2022-05-26T12:02:11.214Z"
   },
   {
    "duration": 191,
    "start_time": "2022-05-26T12:02:16.676Z"
   },
   {
    "duration": 175,
    "start_time": "2022-05-26T12:02:25.956Z"
   },
   {
    "duration": 494,
    "start_time": "2022-05-26T12:04:17.431Z"
   },
   {
    "duration": 483,
    "start_time": "2022-05-26T12:04:31.152Z"
   },
   {
    "duration": 263,
    "start_time": "2022-05-26T12:05:11.060Z"
   },
   {
    "duration": 285,
    "start_time": "2022-05-26T12:06:27.018Z"
   },
   {
    "duration": 398,
    "start_time": "2022-05-26T12:08:02.500Z"
   },
   {
    "duration": 178,
    "start_time": "2022-05-26T12:08:51.153Z"
   },
   {
    "duration": 181,
    "start_time": "2022-05-26T12:09:01.673Z"
   },
   {
    "duration": 27,
    "start_time": "2022-05-26T12:09:57.693Z"
   },
   {
    "duration": 257,
    "start_time": "2022-05-26T12:10:47.530Z"
   },
   {
    "duration": 108,
    "start_time": "2022-05-26T12:11:18.282Z"
   },
   {
    "duration": 26,
    "start_time": "2022-05-26T12:11:51.013Z"
   },
   {
    "duration": 113,
    "start_time": "2022-05-26T12:11:51.814Z"
   },
   {
    "duration": 25,
    "start_time": "2022-05-26T12:12:37.186Z"
   },
   {
    "duration": 280,
    "start_time": "2022-05-26T12:12:49.566Z"
   },
   {
    "duration": 9,
    "start_time": "2022-05-26T12:12:55.686Z"
   },
   {
    "duration": 205,
    "start_time": "2022-05-26T12:13:33.071Z"
   },
   {
    "duration": 201,
    "start_time": "2022-05-26T12:13:41.629Z"
   },
   {
    "duration": 190,
    "start_time": "2022-05-26T12:13:50.657Z"
   },
   {
    "duration": 121,
    "start_time": "2022-05-26T12:14:14.286Z"
   },
   {
    "duration": 23,
    "start_time": "2022-05-26T12:14:20.917Z"
   },
   {
    "duration": 158,
    "start_time": "2022-05-26T12:14:21.620Z"
   },
   {
    "duration": 20,
    "start_time": "2022-05-26T12:15:24.419Z"
   },
   {
    "duration": 19,
    "start_time": "2022-05-26T12:16:03.253Z"
   },
   {
    "duration": 21,
    "start_time": "2022-05-26T12:16:13.816Z"
   },
   {
    "duration": 27,
    "start_time": "2022-05-26T12:16:20.212Z"
   },
   {
    "duration": 20,
    "start_time": "2022-05-26T12:16:33.761Z"
   },
   {
    "duration": 163,
    "start_time": "2022-05-26T12:16:34.980Z"
   },
   {
    "duration": 21,
    "start_time": "2022-05-26T12:16:46.726Z"
   },
   {
    "duration": 193,
    "start_time": "2022-05-26T12:16:47.552Z"
   },
   {
    "duration": 174,
    "start_time": "2022-05-26T12:17:49.872Z"
   },
   {
    "duration": 182,
    "start_time": "2022-05-26T12:17:55.461Z"
   },
   {
    "duration": 156,
    "start_time": "2022-05-26T12:18:12.719Z"
   },
   {
    "duration": 277,
    "start_time": "2022-05-26T12:18:28.267Z"
   },
   {
    "duration": 339,
    "start_time": "2022-05-26T12:19:25.634Z"
   },
   {
    "duration": 309,
    "start_time": "2022-05-26T12:20:18.122Z"
   },
   {
    "duration": 360,
    "start_time": "2022-05-26T12:21:39.121Z"
   },
   {
    "duration": 416,
    "start_time": "2022-05-26T12:22:00.426Z"
   },
   {
    "duration": 370,
    "start_time": "2022-05-26T12:22:57.760Z"
   },
   {
    "duration": 304,
    "start_time": "2022-05-26T12:23:05.539Z"
   },
   {
    "duration": 474,
    "start_time": "2022-05-26T12:23:16.444Z"
   },
   {
    "duration": 390,
    "start_time": "2022-05-26T12:23:49.699Z"
   },
   {
    "duration": 384,
    "start_time": "2022-05-26T12:25:49.076Z"
   },
   {
    "duration": 392,
    "start_time": "2022-05-26T12:26:12.145Z"
   },
   {
    "duration": 401,
    "start_time": "2022-05-26T12:26:59.981Z"
   },
   {
    "duration": 88,
    "start_time": "2022-05-26T12:28:01.934Z"
   },
   {
    "duration": 74,
    "start_time": "2022-05-26T12:28:07.579Z"
   },
   {
    "duration": 152,
    "start_time": "2022-05-26T12:28:15.341Z"
   },
   {
    "duration": 151,
    "start_time": "2022-05-26T12:28:27.992Z"
   },
   {
    "duration": 446,
    "start_time": "2022-05-26T12:31:52.220Z"
   },
   {
    "duration": 333,
    "start_time": "2022-05-26T12:32:04.481Z"
   },
   {
    "duration": 366,
    "start_time": "2022-05-26T12:33:05.586Z"
   },
   {
    "duration": 341,
    "start_time": "2022-05-26T12:33:13.317Z"
   },
   {
    "duration": 364,
    "start_time": "2022-05-26T12:33:21.853Z"
   },
   {
    "duration": 505,
    "start_time": "2022-05-26T12:33:28.178Z"
   },
   {
    "duration": 403,
    "start_time": "2022-05-26T12:33:59.042Z"
   },
   {
    "duration": 349,
    "start_time": "2022-05-26T12:34:38.017Z"
   },
   {
    "duration": 59,
    "start_time": "2022-05-26T12:34:52.816Z"
   },
   {
    "duration": 346,
    "start_time": "2022-05-26T12:34:57.925Z"
   },
   {
    "duration": 388,
    "start_time": "2022-05-26T12:35:30.467Z"
   },
   {
    "duration": 382,
    "start_time": "2022-05-26T12:35:36.793Z"
   },
   {
    "duration": 361,
    "start_time": "2022-05-26T12:36:18.387Z"
   },
   {
    "duration": 339,
    "start_time": "2022-05-26T12:36:44.123Z"
   },
   {
    "duration": 357,
    "start_time": "2022-05-26T12:37:13.482Z"
   },
   {
    "duration": 372,
    "start_time": "2022-05-26T12:37:50.724Z"
   },
   {
    "duration": 28,
    "start_time": "2022-05-26T12:43:15.173Z"
   },
   {
    "duration": 35,
    "start_time": "2022-05-26T12:43:45.611Z"
   },
   {
    "duration": 22,
    "start_time": "2022-05-26T12:47:14.911Z"
   },
   {
    "duration": 23,
    "start_time": "2022-05-26T12:47:21.036Z"
   },
   {
    "duration": 27,
    "start_time": "2022-05-26T12:48:23.095Z"
   },
   {
    "duration": 29,
    "start_time": "2022-05-26T12:48:31.939Z"
   },
   {
    "duration": 24,
    "start_time": "2022-05-26T12:51:23.745Z"
   },
   {
    "duration": 24,
    "start_time": "2022-05-26T12:51:29.148Z"
   },
   {
    "duration": 287,
    "start_time": "2022-05-26T12:51:36.279Z"
   },
   {
    "duration": 313,
    "start_time": "2022-05-26T12:52:28.940Z"
   },
   {
    "duration": 188,
    "start_time": "2022-05-26T12:55:34.429Z"
   },
   {
    "duration": 26,
    "start_time": "2022-05-26T12:57:29.217Z"
   },
   {
    "duration": 183,
    "start_time": "2022-05-26T12:57:57.868Z"
   },
   {
    "duration": 181,
    "start_time": "2022-05-26T12:58:08.559Z"
   },
   {
    "duration": 56,
    "start_time": "2022-05-26T12:59:56.713Z"
   },
   {
    "duration": 181,
    "start_time": "2022-05-26T13:00:04.087Z"
   },
   {
    "duration": 216,
    "start_time": "2022-05-26T13:00:15.408Z"
   },
   {
    "duration": 200,
    "start_time": "2022-05-26T13:00:34.121Z"
   },
   {
    "duration": 184,
    "start_time": "2022-05-26T13:00:49.221Z"
   },
   {
    "duration": 180,
    "start_time": "2022-05-26T13:01:11.057Z"
   },
   {
    "duration": 178,
    "start_time": "2022-05-26T13:01:26.514Z"
   },
   {
    "duration": 181,
    "start_time": "2022-05-26T13:01:42.278Z"
   },
   {
    "duration": 187,
    "start_time": "2022-05-26T13:02:08.157Z"
   },
   {
    "duration": 20,
    "start_time": "2022-05-26T13:03:45.498Z"
   },
   {
    "duration": 14,
    "start_time": "2022-05-26T13:04:57.443Z"
   },
   {
    "duration": 422,
    "start_time": "2022-05-26T13:06:11.821Z"
   },
   {
    "duration": 305,
    "start_time": "2022-05-26T13:07:49.019Z"
   },
   {
    "duration": 490,
    "start_time": "2022-05-26T13:07:58.426Z"
   },
   {
    "duration": 336,
    "start_time": "2022-05-26T13:08:07.451Z"
   },
   {
    "duration": 336,
    "start_time": "2022-05-26T13:09:52.953Z"
   },
   {
    "duration": 16,
    "start_time": "2022-05-26T13:10:32.396Z"
   },
   {
    "duration": 382,
    "start_time": "2022-05-26T13:11:06.004Z"
   },
   {
    "duration": 7,
    "start_time": "2022-05-26T13:11:21.026Z"
   },
   {
    "duration": 14,
    "start_time": "2022-05-26T13:11:28.363Z"
   },
   {
    "duration": 8,
    "start_time": "2022-05-26T13:12:19.732Z"
   },
   {
    "duration": 39,
    "start_time": "2022-05-26T13:12:25.870Z"
   },
   {
    "duration": 343,
    "start_time": "2022-05-26T13:13:05.515Z"
   },
   {
    "duration": 490,
    "start_time": "2022-05-26T13:13:26.752Z"
   },
   {
    "duration": 390,
    "start_time": "2022-05-26T13:14:01.752Z"
   },
   {
    "duration": 1195,
    "start_time": "2022-05-26T13:15:18.254Z"
   },
   {
    "duration": 632,
    "start_time": "2022-05-26T13:15:48.118Z"
   },
   {
    "duration": 532,
    "start_time": "2022-05-26T13:15:57.353Z"
   },
   {
    "duration": 530,
    "start_time": "2022-05-26T13:16:53.292Z"
   },
   {
    "duration": 509,
    "start_time": "2022-05-26T13:17:30.848Z"
   },
   {
    "duration": 537,
    "start_time": "2022-05-26T13:17:36.417Z"
   },
   {
    "duration": 16,
    "start_time": "2022-05-26T13:17:58.862Z"
   },
   {
    "duration": 14,
    "start_time": "2022-05-26T13:18:05.025Z"
   },
   {
    "duration": 18,
    "start_time": "2022-05-26T13:18:12.723Z"
   },
   {
    "duration": 28,
    "start_time": "2022-05-26T13:18:38.081Z"
   },
   {
    "duration": 501,
    "start_time": "2022-05-26T13:20:02.638Z"
   },
   {
    "duration": 18,
    "start_time": "2022-05-26T13:20:54.818Z"
   },
   {
    "duration": 16,
    "start_time": "2022-05-26T13:21:02.317Z"
   },
   {
    "duration": 14,
    "start_time": "2022-05-26T13:21:09.560Z"
   },
   {
    "duration": 19,
    "start_time": "2022-05-26T13:21:18.348Z"
   },
   {
    "duration": 19,
    "start_time": "2022-05-26T13:21:32.166Z"
   },
   {
    "duration": 14,
    "start_time": "2022-05-26T13:21:40.135Z"
   },
   {
    "duration": 13,
    "start_time": "2022-05-26T13:21:48.956Z"
   },
   {
    "duration": 32,
    "start_time": "2022-05-26T13:21:56.460Z"
   },
   {
    "duration": 32,
    "start_time": "2022-05-26T13:22:05.442Z"
   },
   {
    "duration": 15,
    "start_time": "2022-05-26T13:22:19.084Z"
   },
   {
    "duration": 13,
    "start_time": "2022-05-26T13:22:31.051Z"
   },
   {
    "duration": 30,
    "start_time": "2022-05-26T13:22:35.854Z"
   },
   {
    "duration": 13,
    "start_time": "2022-05-26T13:22:39.642Z"
   },
   {
    "duration": 22,
    "start_time": "2022-05-26T13:22:57.612Z"
   },
   {
    "duration": 14,
    "start_time": "2022-05-26T13:23:41.948Z"
   },
   {
    "duration": 13,
    "start_time": "2022-05-26T13:23:49.522Z"
   },
   {
    "duration": 13,
    "start_time": "2022-05-26T13:23:55.432Z"
   },
   {
    "duration": 14,
    "start_time": "2022-05-26T13:23:58.772Z"
   },
   {
    "duration": 22,
    "start_time": "2022-05-26T13:24:09.283Z"
   },
   {
    "duration": 15,
    "start_time": "2022-05-26T13:24:16.515Z"
   },
   {
    "duration": 19,
    "start_time": "2022-05-26T13:24:28.184Z"
   },
   {
    "duration": 28,
    "start_time": "2022-05-26T13:24:33.090Z"
   },
   {
    "duration": 60,
    "start_time": "2022-05-26T13:25:55.459Z"
   },
   {
    "duration": 35,
    "start_time": "2022-05-26T13:26:45.649Z"
   },
   {
    "duration": 17,
    "start_time": "2022-05-26T13:27:01.820Z"
   },
   {
    "duration": 17,
    "start_time": "2022-05-26T13:27:32.405Z"
   },
   {
    "duration": 21,
    "start_time": "2022-05-26T13:27:44.615Z"
   },
   {
    "duration": 52,
    "start_time": "2022-05-26T13:27:55.121Z"
   },
   {
    "duration": 15,
    "start_time": "2022-05-26T13:28:01.912Z"
   },
   {
    "duration": 472,
    "start_time": "2022-05-26T13:29:00.696Z"
   },
   {
    "duration": 511,
    "start_time": "2022-05-26T13:30:25.423Z"
   },
   {
    "duration": 632,
    "start_time": "2022-05-26T13:30:59.992Z"
   },
   {
    "duration": 482,
    "start_time": "2022-05-26T13:31:19.113Z"
   },
   {
    "duration": 479,
    "start_time": "2022-05-26T13:33:18.643Z"
   },
   {
    "duration": 162,
    "start_time": "2022-05-26T13:33:36.083Z"
   },
   {
    "duration": 531,
    "start_time": "2022-05-26T13:34:07.109Z"
   },
   {
    "duration": 569,
    "start_time": "2022-05-26T13:35:07.646Z"
   },
   {
    "duration": 216,
    "start_time": "2022-05-26T13:36:59.929Z"
   },
   {
    "duration": 186,
    "start_time": "2022-05-26T13:37:41.556Z"
   },
   {
    "duration": 375,
    "start_time": "2022-05-26T13:39:56.550Z"
   },
   {
    "duration": 331,
    "start_time": "2022-05-26T13:40:04.978Z"
   },
   {
    "duration": 348,
    "start_time": "2022-05-26T13:40:16.284Z"
   },
   {
    "duration": 461,
    "start_time": "2022-05-26T13:40:24.553Z"
   },
   {
    "duration": 281,
    "start_time": "2022-05-26T13:40:34.729Z"
   },
   {
    "duration": 377,
    "start_time": "2022-05-26T13:40:49.358Z"
   },
   {
    "duration": 243,
    "start_time": "2022-05-26T13:40:59.432Z"
   },
   {
    "duration": 235,
    "start_time": "2022-05-26T13:41:11.281Z"
   },
   {
    "duration": 351,
    "start_time": "2022-05-26T13:41:15.673Z"
   },
   {
    "duration": 351,
    "start_time": "2022-05-26T13:42:35.000Z"
   },
   {
    "duration": 387,
    "start_time": "2022-05-26T13:42:46.752Z"
   },
   {
    "duration": 390,
    "start_time": "2022-05-26T13:43:05.162Z"
   },
   {
    "duration": 392,
    "start_time": "2022-05-26T13:43:21.054Z"
   },
   {
    "duration": 363,
    "start_time": "2022-05-26T13:44:38.259Z"
   },
   {
    "duration": 49,
    "start_time": "2022-05-26T13:44:47.959Z"
   },
   {
    "duration": 329,
    "start_time": "2022-05-26T13:44:58.822Z"
   },
   {
    "duration": 382,
    "start_time": "2022-05-26T13:47:00.765Z"
   },
   {
    "duration": 390,
    "start_time": "2022-05-26T13:47:46.301Z"
   },
   {
    "duration": 474,
    "start_time": "2022-05-26T13:47:57.140Z"
   },
   {
    "duration": 30,
    "start_time": "2022-05-26T13:49:01.048Z"
   },
   {
    "duration": 350,
    "start_time": "2022-05-26T13:49:12.242Z"
   },
   {
    "duration": 37,
    "start_time": "2022-05-26T13:51:36.117Z"
   },
   {
    "duration": 370,
    "start_time": "2022-05-26T13:52:51.845Z"
   },
   {
    "duration": 382,
    "start_time": "2022-05-26T13:53:10.872Z"
   },
   {
    "duration": 559,
    "start_time": "2022-05-26T13:53:54.671Z"
   },
   {
    "duration": 405,
    "start_time": "2022-05-26T13:54:09.812Z"
   },
   {
    "duration": 390,
    "start_time": "2022-05-26T13:54:28.472Z"
   },
   {
    "duration": 388,
    "start_time": "2022-05-26T13:55:19.758Z"
   },
   {
    "duration": 520,
    "start_time": "2022-05-26T13:55:26.442Z"
   },
   {
    "duration": 536,
    "start_time": "2022-05-26T13:55:35.679Z"
   },
   {
    "duration": 516,
    "start_time": "2022-05-26T13:55:41.820Z"
   },
   {
    "duration": 487,
    "start_time": "2022-05-26T13:56:31.329Z"
   },
   {
    "duration": 513,
    "start_time": "2022-05-26T13:56:54.301Z"
   },
   {
    "duration": 124,
    "start_time": "2022-05-26T14:01:29.412Z"
   },
   {
    "duration": 1144,
    "start_time": "2022-05-26T14:01:50.690Z"
   },
   {
    "duration": 538,
    "start_time": "2022-05-26T14:01:57.910Z"
   },
   {
    "duration": 528,
    "start_time": "2022-05-26T14:02:21.199Z"
   },
   {
    "duration": 159,
    "start_time": "2022-05-26T14:02:39.233Z"
   },
   {
    "duration": 554,
    "start_time": "2022-05-26T14:02:48.263Z"
   },
   {
    "duration": 527,
    "start_time": "2022-05-26T14:03:16.708Z"
   },
   {
    "duration": 441,
    "start_time": "2022-05-26T14:03:59.831Z"
   },
   {
    "duration": 482,
    "start_time": "2022-05-26T14:04:05.756Z"
   },
   {
    "duration": 480,
    "start_time": "2022-05-26T14:04:25.498Z"
   },
   {
    "duration": 175,
    "start_time": "2022-05-26T14:04:51.015Z"
   },
   {
    "duration": 442,
    "start_time": "2022-05-26T14:15:27.820Z"
   },
   {
    "duration": 501,
    "start_time": "2022-05-26T14:15:40.369Z"
   },
   {
    "duration": 463,
    "start_time": "2022-05-26T14:17:20.817Z"
   },
   {
    "duration": 14,
    "start_time": "2022-05-26T14:25:07.109Z"
   },
   {
    "duration": 689,
    "start_time": "2022-05-26T14:25:16.091Z"
   },
   {
    "duration": 400,
    "start_time": "2022-05-26T14:26:02.433Z"
   },
   {
    "duration": 48,
    "start_time": "2022-05-26T14:26:22.993Z"
   },
   {
    "duration": 523,
    "start_time": "2022-05-26T14:26:30.351Z"
   },
   {
    "duration": 509,
    "start_time": "2022-05-26T14:27:18.905Z"
   },
   {
    "duration": 11,
    "start_time": "2022-05-26T14:36:18.318Z"
   },
   {
    "duration": 11,
    "start_time": "2022-05-26T14:36:38.925Z"
   },
   {
    "duration": 16,
    "start_time": "2022-05-26T14:36:46.010Z"
   },
   {
    "duration": 42,
    "start_time": "2022-05-26T14:37:16.379Z"
   },
   {
    "duration": 21,
    "start_time": "2022-05-26T14:39:19.741Z"
   },
   {
    "duration": 24,
    "start_time": "2022-05-26T14:40:11.999Z"
   },
   {
    "duration": 3,
    "start_time": "2022-05-26T14:40:20.587Z"
   },
   {
    "duration": 523,
    "start_time": "2022-05-26T14:40:27.622Z"
   },
   {
    "duration": 529,
    "start_time": "2022-05-26T14:41:47.813Z"
   },
   {
    "duration": 825,
    "start_time": "2022-05-26T14:42:17.421Z"
   },
   {
    "duration": 872,
    "start_time": "2022-05-26T14:42:49.082Z"
   },
   {
    "duration": 874,
    "start_time": "2022-05-26T14:43:52.673Z"
   },
   {
    "duration": 69,
    "start_time": "2022-05-26T14:54:22.079Z"
   },
   {
    "duration": 483,
    "start_time": "2022-05-26T14:54:35.340Z"
   },
   {
    "duration": 11,
    "start_time": "2022-05-26T14:56:55.814Z"
   },
   {
    "duration": 1072,
    "start_time": "2022-05-26T14:57:12.418Z"
   },
   {
    "duration": 3,
    "start_time": "2022-05-26T15:01:19.826Z"
   },
   {
    "duration": 2505,
    "start_time": "2022-05-26T15:01:25.114Z"
   },
   {
    "duration": 10,
    "start_time": "2022-05-26T15:02:49.936Z"
   },
   {
    "duration": 2717,
    "start_time": "2022-05-26T15:02:55.019Z"
   },
   {
    "duration": 11,
    "start_time": "2022-05-26T15:04:11.247Z"
   },
   {
    "duration": 2539,
    "start_time": "2022-05-26T15:04:15.978Z"
   },
   {
    "duration": 10,
    "start_time": "2022-05-26T15:04:53.217Z"
   },
   {
    "duration": 2493,
    "start_time": "2022-05-26T15:04:57.336Z"
   },
   {
    "duration": 2954,
    "start_time": "2022-05-26T15:05:24.479Z"
   },
   {
    "duration": 35,
    "start_time": "2022-05-26T15:14:59.280Z"
   },
   {
    "duration": 29,
    "start_time": "2022-05-26T15:17:33.118Z"
   },
   {
    "duration": 17,
    "start_time": "2022-05-26T15:17:40.409Z"
   },
   {
    "duration": 515,
    "start_time": "2022-05-26T15:17:57.910Z"
   },
   {
    "duration": 11,
    "start_time": "2022-05-26T15:18:48.655Z"
   },
   {
    "duration": 15,
    "start_time": "2022-05-26T15:18:54.116Z"
   },
   {
    "duration": 23,
    "start_time": "2022-05-26T15:19:02.935Z"
   },
   {
    "duration": 19,
    "start_time": "2022-05-26T15:19:33.511Z"
   },
   {
    "duration": 21,
    "start_time": "2022-05-26T15:19:39.867Z"
   },
   {
    "duration": 18,
    "start_time": "2022-05-26T15:20:34.518Z"
   },
   {
    "duration": 18,
    "start_time": "2022-05-26T15:20:45.720Z"
   },
   {
    "duration": 63,
    "start_time": "2022-05-26T15:23:11.623Z"
   },
   {
    "duration": 5,
    "start_time": "2022-05-26T15:23:17.215Z"
   },
   {
    "duration": 71,
    "start_time": "2022-05-26T15:23:26.880Z"
   },
   {
    "duration": 61,
    "start_time": "2022-05-26T15:23:37.897Z"
   },
   {
    "duration": 72,
    "start_time": "2022-05-26T15:23:45.539Z"
   },
   {
    "duration": 109,
    "start_time": "2022-05-26T15:25:14.533Z"
   },
   {
    "duration": 632,
    "start_time": "2022-05-26T15:26:34.189Z"
   },
   {
    "duration": 74,
    "start_time": "2022-05-26T15:26:59.587Z"
   },
   {
    "duration": 70,
    "start_time": "2022-05-26T15:27:26.021Z"
   },
   {
    "duration": 12,
    "start_time": "2022-05-26T15:27:49.552Z"
   },
   {
    "duration": 69,
    "start_time": "2022-05-26T15:27:51.614Z"
   },
   {
    "duration": 59,
    "start_time": "2022-05-26T15:38:35.411Z"
   },
   {
    "duration": 1075,
    "start_time": "2022-05-26T15:38:48.759Z"
   },
   {
    "duration": 2,
    "start_time": "2022-05-26T15:38:49.836Z"
   },
   {
    "duration": 2129,
    "start_time": "2022-05-26T15:38:49.840Z"
   },
   {
    "duration": 85,
    "start_time": "2022-05-26T15:38:51.971Z"
   },
   {
    "duration": 47,
    "start_time": "2022-05-26T15:38:52.058Z"
   },
   {
    "duration": 7,
    "start_time": "2022-05-26T15:38:52.107Z"
   },
   {
    "duration": 233,
    "start_time": "2022-05-26T15:38:52.115Z"
   },
   {
    "duration": 158,
    "start_time": "2022-05-26T15:38:52.349Z"
   },
   {
    "duration": 7,
    "start_time": "2022-05-26T15:38:52.509Z"
   },
   {
    "duration": 10,
    "start_time": "2022-05-26T15:38:52.518Z"
   },
   {
    "duration": 7,
    "start_time": "2022-05-26T15:38:52.529Z"
   },
   {
    "duration": 7,
    "start_time": "2022-05-26T15:38:52.538Z"
   },
   {
    "duration": 6,
    "start_time": "2022-05-26T15:38:52.547Z"
   },
   {
    "duration": 10,
    "start_time": "2022-05-26T15:38:52.555Z"
   },
   {
    "duration": 519,
    "start_time": "2022-05-26T15:38:52.566Z"
   },
   {
    "duration": 33,
    "start_time": "2022-05-26T15:38:53.087Z"
   },
   {
    "duration": 19,
    "start_time": "2022-05-26T15:38:53.122Z"
   },
   {
    "duration": 201,
    "start_time": "2022-05-26T15:38:53.143Z"
   },
   {
    "duration": 18,
    "start_time": "2022-05-26T15:38:53.346Z"
   },
   {
    "duration": 260,
    "start_time": "2022-05-26T15:38:53.366Z"
   },
   {
    "duration": 21,
    "start_time": "2022-05-26T15:38:53.627Z"
   },
   {
    "duration": 365,
    "start_time": "2022-05-26T15:38:53.650Z"
   },
   {
    "duration": 26,
    "start_time": "2022-05-26T15:38:54.017Z"
   },
   {
    "duration": 204,
    "start_time": "2022-05-26T15:38:54.045Z"
   },
   {
    "duration": 494,
    "start_time": "2022-05-26T15:38:54.250Z"
   },
   {
    "duration": 473,
    "start_time": "2022-05-26T15:38:54.746Z"
   },
   {
    "duration": 468,
    "start_time": "2022-05-26T15:38:55.221Z"
   },
   {
    "duration": 2723,
    "start_time": "2022-05-26T15:38:55.692Z"
   },
   {
    "duration": 11,
    "start_time": "2022-05-26T15:38:58.417Z"
   },
   {
    "duration": 102,
    "start_time": "2022-05-26T15:38:58.430Z"
   },
   {
    "duration": 38,
    "start_time": "2022-05-26T15:39:06.390Z"
   },
   {
    "duration": 35,
    "start_time": "2022-05-26T15:39:38.533Z"
   },
   {
    "duration": 16,
    "start_time": "2022-05-26T15:40:10.110Z"
   },
   {
    "duration": 71,
    "start_time": "2022-05-26T15:40:17.588Z"
   },
   {
    "duration": 25,
    "start_time": "2022-05-26T15:40:23.159Z"
   },
   {
    "duration": 25,
    "start_time": "2022-05-26T15:41:20.311Z"
   },
   {
    "duration": 37,
    "start_time": "2022-05-26T15:43:06.716Z"
   },
   {
    "duration": 39,
    "start_time": "2022-05-26T15:43:37.471Z"
   },
   {
    "duration": 66,
    "start_time": "2022-05-27T08:09:39.784Z"
   },
   {
    "duration": 1312,
    "start_time": "2022-05-27T08:09:45.097Z"
   },
   {
    "duration": 3,
    "start_time": "2022-05-27T08:09:46.411Z"
   },
   {
    "duration": 1004,
    "start_time": "2022-05-27T08:09:46.416Z"
   },
   {
    "duration": 105,
    "start_time": "2022-05-27T08:09:47.423Z"
   },
   {
    "duration": 55,
    "start_time": "2022-05-27T08:09:47.530Z"
   },
   {
    "duration": 8,
    "start_time": "2022-05-27T08:09:47.587Z"
   },
   {
    "duration": 281,
    "start_time": "2022-05-27T08:09:47.596Z"
   },
   {
    "duration": 170,
    "start_time": "2022-05-27T08:09:47.879Z"
   },
   {
    "duration": 11,
    "start_time": "2022-05-27T08:09:48.051Z"
   },
   {
    "duration": 13,
    "start_time": "2022-05-27T08:09:48.064Z"
   },
   {
    "duration": 10,
    "start_time": "2022-05-27T08:09:48.078Z"
   },
   {
    "duration": 10,
    "start_time": "2022-05-27T08:09:48.089Z"
   },
   {
    "duration": 8,
    "start_time": "2022-05-27T08:09:48.100Z"
   },
   {
    "duration": 9,
    "start_time": "2022-05-27T08:09:48.109Z"
   },
   {
    "duration": 452,
    "start_time": "2022-05-27T08:09:48.120Z"
   },
   {
    "duration": 18,
    "start_time": "2022-05-27T08:09:48.574Z"
   },
   {
    "duration": 18,
    "start_time": "2022-05-27T08:09:48.593Z"
   },
   {
    "duration": 200,
    "start_time": "2022-05-27T08:09:48.613Z"
   },
   {
    "duration": 20,
    "start_time": "2022-05-27T08:09:48.814Z"
   },
   {
    "duration": 264,
    "start_time": "2022-05-27T08:09:48.836Z"
   },
   {
    "duration": 23,
    "start_time": "2022-05-27T08:09:49.101Z"
   },
   {
    "duration": 351,
    "start_time": "2022-05-27T08:09:49.125Z"
   },
   {
    "duration": 24,
    "start_time": "2022-05-27T08:09:49.478Z"
   },
   {
    "duration": 182,
    "start_time": "2022-05-27T08:09:49.504Z"
   },
   {
    "duration": 479,
    "start_time": "2022-05-27T08:09:49.690Z"
   },
   {
    "duration": 456,
    "start_time": "2022-05-27T08:09:50.172Z"
   },
   {
    "duration": 536,
    "start_time": "2022-05-27T08:09:50.629Z"
   },
   {
    "duration": 2417,
    "start_time": "2022-05-27T08:09:54.552Z"
   },
   {
    "duration": 2566,
    "start_time": "2022-05-27T08:11:47.076Z"
   },
   {
    "duration": 2456,
    "start_time": "2022-05-27T08:12:22.519Z"
   },
   {
    "duration": 1984,
    "start_time": "2022-05-27T08:14:14.449Z"
   },
   {
    "duration": 2050,
    "start_time": "2022-05-27T08:15:18.630Z"
   },
   {
    "duration": 2221,
    "start_time": "2022-05-27T08:17:17.582Z"
   },
   {
    "duration": 22,
    "start_time": "2022-05-27T08:19:55.180Z"
   },
   {
    "duration": 31,
    "start_time": "2022-05-27T08:20:19.358Z"
   },
   {
    "duration": 18,
    "start_time": "2022-05-27T08:20:25.739Z"
   },
   {
    "duration": 39,
    "start_time": "2022-05-27T08:20:48.139Z"
   },
   {
    "duration": 25,
    "start_time": "2022-05-27T08:20:54.188Z"
   },
   {
    "duration": 90,
    "start_time": "2022-05-27T08:21:16.722Z"
   },
   {
    "duration": 23,
    "start_time": "2022-05-27T08:21:32.616Z"
   },
   {
    "duration": 19,
    "start_time": "2022-05-27T08:21:40.420Z"
   },
   {
    "duration": 1909,
    "start_time": "2022-05-27T08:22:13.886Z"
   },
   {
    "duration": 19,
    "start_time": "2022-05-27T08:23:00.661Z"
   },
   {
    "duration": 2397,
    "start_time": "2022-05-27T08:23:12.774Z"
   },
   {
    "duration": 25,
    "start_time": "2022-05-27T08:31:25.371Z"
   },
   {
    "duration": 20,
    "start_time": "2022-05-27T08:31:57.773Z"
   },
   {
    "duration": 20,
    "start_time": "2022-05-27T08:32:58.378Z"
   },
   {
    "duration": 34,
    "start_time": "2022-05-27T08:33:05.654Z"
   },
   {
    "duration": 19,
    "start_time": "2022-05-27T08:33:19.024Z"
   },
   {
    "duration": 28,
    "start_time": "2022-05-27T08:33:28.247Z"
   },
   {
    "duration": 25,
    "start_time": "2022-05-27T08:33:43.471Z"
   },
   {
    "duration": 20,
    "start_time": "2022-05-27T08:33:53.603Z"
   },
   {
    "duration": 8,
    "start_time": "2022-05-27T08:37:55.142Z"
   },
   {
    "duration": 392,
    "start_time": "2022-05-27T08:38:06.417Z"
   },
   {
    "duration": 924,
    "start_time": "2022-05-27T08:41:32.439Z"
   },
   {
    "duration": 1244,
    "start_time": "2022-05-27T08:42:25.170Z"
   },
   {
    "duration": 31,
    "start_time": "2022-05-27T08:44:36.611Z"
   },
   {
    "duration": 221,
    "start_time": "2022-05-27T08:45:04.825Z"
   },
   {
    "duration": 250,
    "start_time": "2022-05-27T08:45:37.971Z"
   },
   {
    "duration": 8,
    "start_time": "2022-05-27T08:51:33.191Z"
   },
   {
    "duration": 276,
    "start_time": "2022-05-27T08:52:16.524Z"
   },
   {
    "duration": 282,
    "start_time": "2022-05-27T08:53:49.546Z"
   },
   {
    "duration": 232,
    "start_time": "2022-05-27T08:54:11.070Z"
   },
   {
    "duration": 212,
    "start_time": "2022-05-27T08:59:43.603Z"
   },
   {
    "duration": 107,
    "start_time": "2022-05-27T09:00:04.702Z"
   },
   {
    "duration": 228,
    "start_time": "2022-05-27T09:00:09.121Z"
   },
   {
    "duration": 938,
    "start_time": "2022-05-27T09:00:12.901Z"
   },
   {
    "duration": 1169,
    "start_time": "2022-05-27T09:01:46.375Z"
   },
   {
    "duration": 986,
    "start_time": "2022-05-27T09:01:56.024Z"
   },
   {
    "duration": 1020,
    "start_time": "2022-05-27T09:02:06.319Z"
   },
   {
    "duration": 1425,
    "start_time": "2022-05-27T09:03:46.550Z"
   },
   {
    "duration": 1646,
    "start_time": "2022-05-27T09:06:43.704Z"
   },
   {
    "duration": 1016,
    "start_time": "2022-05-27T09:07:30.561Z"
   },
   {
    "duration": 294,
    "start_time": "2022-05-27T09:08:06.376Z"
   },
   {
    "duration": 265,
    "start_time": "2022-05-27T09:08:18.252Z"
   },
   {
    "duration": 260,
    "start_time": "2022-05-27T09:08:28.875Z"
   },
   {
    "duration": 281,
    "start_time": "2022-05-27T09:08:40.651Z"
   },
   {
    "duration": 976,
    "start_time": "2022-05-27T09:08:51.288Z"
   },
   {
    "duration": 1285,
    "start_time": "2022-05-27T09:09:05.600Z"
   },
   {
    "duration": 959,
    "start_time": "2022-05-27T09:09:15.350Z"
   },
   {
    "duration": 1204,
    "start_time": "2022-05-27T09:11:39.052Z"
   },
   {
    "duration": 7,
    "start_time": "2022-05-27T09:11:40.258Z"
   },
   {
    "duration": 839,
    "start_time": "2022-05-27T09:11:40.275Z"
   },
   {
    "duration": 101,
    "start_time": "2022-05-27T09:11:41.115Z"
   },
   {
    "duration": 76,
    "start_time": "2022-05-27T09:11:41.218Z"
   },
   {
    "duration": 8,
    "start_time": "2022-05-27T09:11:41.298Z"
   },
   {
    "duration": 275,
    "start_time": "2022-05-27T09:11:41.308Z"
   },
   {
    "duration": 171,
    "start_time": "2022-05-27T09:11:41.586Z"
   },
   {
    "duration": 14,
    "start_time": "2022-05-27T09:11:41.764Z"
   },
   {
    "duration": 25,
    "start_time": "2022-05-27T09:11:41.785Z"
   },
   {
    "duration": 14,
    "start_time": "2022-05-27T09:11:41.813Z"
   },
   {
    "duration": 9,
    "start_time": "2022-05-27T09:11:41.830Z"
   },
   {
    "duration": 60,
    "start_time": "2022-05-27T09:11:41.841Z"
   },
   {
    "duration": 13,
    "start_time": "2022-05-27T09:11:41.903Z"
   },
   {
    "duration": 12,
    "start_time": "2022-05-27T09:11:41.918Z"
   },
   {
    "duration": 18,
    "start_time": "2022-05-27T09:11:41.932Z"
   },
   {
    "duration": 633,
    "start_time": "2022-05-27T09:11:41.952Z"
   },
   {
    "duration": 31,
    "start_time": "2022-05-27T09:11:42.586Z"
   },
   {
    "duration": 25,
    "start_time": "2022-05-27T09:11:42.618Z"
   },
   {
    "duration": 243,
    "start_time": "2022-05-27T09:11:42.645Z"
   },
   {
    "duration": 31,
    "start_time": "2022-05-27T09:11:42.904Z"
   },
   {
    "duration": 310,
    "start_time": "2022-05-27T09:11:42.937Z"
   },
   {
    "duration": 42,
    "start_time": "2022-05-27T09:11:43.249Z"
   },
   {
    "duration": 396,
    "start_time": "2022-05-27T09:11:43.293Z"
   },
   {
    "duration": 31,
    "start_time": "2022-05-27T09:11:43.695Z"
   },
   {
    "duration": 223,
    "start_time": "2022-05-27T09:11:43.728Z"
   },
   {
    "duration": 578,
    "start_time": "2022-05-27T09:11:43.964Z"
   },
   {
    "duration": 594,
    "start_time": "2022-05-27T09:11:44.545Z"
   },
   {
    "duration": 593,
    "start_time": "2022-05-27T09:11:45.141Z"
   },
   {
    "duration": 2529,
    "start_time": "2022-05-27T09:11:45.736Z"
   },
   {
    "duration": 3,
    "start_time": "2022-05-27T09:15:25.823Z"
   },
   {
    "duration": 62,
    "start_time": "2022-05-27T09:17:44.342Z"
   },
   {
    "duration": 3,
    "start_time": "2022-05-27T09:24:20.144Z"
   },
   {
    "duration": 1389,
    "start_time": "2022-05-27T09:24:31.148Z"
   },
   {
    "duration": 2,
    "start_time": "2022-05-27T09:24:32.539Z"
   },
   {
    "duration": 762,
    "start_time": "2022-05-27T09:24:32.543Z"
   },
   {
    "duration": 94,
    "start_time": "2022-05-27T09:24:33.307Z"
   },
   {
    "duration": 30,
    "start_time": "2022-05-27T09:24:33.403Z"
   },
   {
    "duration": 9,
    "start_time": "2022-05-27T09:24:33.459Z"
   },
   {
    "duration": 264,
    "start_time": "2022-05-27T09:24:33.470Z"
   },
   {
    "duration": 170,
    "start_time": "2022-05-27T09:24:33.736Z"
   },
   {
    "duration": 6,
    "start_time": "2022-05-27T09:24:33.908Z"
   },
   {
    "duration": 6,
    "start_time": "2022-05-27T09:24:34.184Z"
   },
   {
    "duration": 12,
    "start_time": "2022-05-27T09:24:34.192Z"
   },
   {
    "duration": 10,
    "start_time": "2022-05-27T09:24:35.222Z"
   },
   {
    "duration": 13,
    "start_time": "2022-05-27T09:24:35.234Z"
   },
   {
    "duration": 60,
    "start_time": "2022-05-27T09:24:35.249Z"
   },
   {
    "duration": 81,
    "start_time": "2022-05-27T09:24:35.311Z"
   },
   {
    "duration": 36,
    "start_time": "2022-05-27T09:24:35.394Z"
   },
   {
    "duration": 549,
    "start_time": "2022-05-27T09:24:35.431Z"
   },
   {
    "duration": 24,
    "start_time": "2022-05-27T09:24:35.982Z"
   },
   {
    "duration": 31,
    "start_time": "2022-05-27T09:24:36.008Z"
   },
   {
    "duration": 203,
    "start_time": "2022-05-27T09:24:36.186Z"
   },
   {
    "duration": 20,
    "start_time": "2022-05-27T09:24:36.391Z"
   },
   {
    "duration": 281,
    "start_time": "2022-05-27T09:24:36.413Z"
   },
   {
    "duration": 20,
    "start_time": "2022-05-27T09:24:36.696Z"
   },
   {
    "duration": 399,
    "start_time": "2022-05-27T09:24:36.718Z"
   },
   {
    "duration": 43,
    "start_time": "2022-05-27T09:24:37.119Z"
   },
   {
    "duration": 239,
    "start_time": "2022-05-27T09:24:37.165Z"
   },
   {
    "duration": 534,
    "start_time": "2022-05-27T09:24:37.406Z"
   },
   {
    "duration": 503,
    "start_time": "2022-05-27T09:24:37.942Z"
   },
   {
    "duration": 522,
    "start_time": "2022-05-27T09:24:38.447Z"
   },
   {
    "duration": 2127,
    "start_time": "2022-05-27T09:24:38.975Z"
   },
   {
    "duration": 2124,
    "start_time": "2022-05-27T09:24:41.104Z"
   },
   {
    "duration": 2787,
    "start_time": "2022-05-27T09:24:43.231Z"
   },
   {
    "duration": 13,
    "start_time": "2022-05-27T09:24:46.021Z"
   },
   {
    "duration": 312,
    "start_time": "2022-05-27T09:24:46.035Z"
   },
   {
    "duration": 1024,
    "start_time": "2022-05-27T09:29:59.692Z"
   },
   {
    "duration": 992,
    "start_time": "2022-05-27T09:30:15.887Z"
   },
   {
    "duration": 1238,
    "start_time": "2022-05-27T09:31:17.249Z"
   },
   {
    "duration": 1270,
    "start_time": "2022-05-27T09:33:14.886Z"
   },
   {
    "duration": 6,
    "start_time": "2022-05-27T09:41:17.388Z"
   },
   {
    "duration": 5,
    "start_time": "2022-05-27T09:41:45.728Z"
   },
   {
    "duration": 1275,
    "start_time": "2022-05-27T09:42:12.241Z"
   },
   {
    "duration": 1663,
    "start_time": "2022-05-27T09:45:29.646Z"
   },
   {
    "duration": 315,
    "start_time": "2022-05-27T09:52:34.128Z"
   },
   {
    "duration": 326,
    "start_time": "2022-05-27T09:52:51.513Z"
   },
   {
    "duration": 645,
    "start_time": "2022-05-27T09:52:59.208Z"
   },
   {
    "duration": 570,
    "start_time": "2022-05-27T09:53:17.972Z"
   },
   {
    "duration": 643,
    "start_time": "2022-05-27T09:54:02.797Z"
   },
   {
    "duration": 559,
    "start_time": "2022-05-27T09:55:08.071Z"
   },
   {
    "duration": 980,
    "start_time": "2022-05-27T09:55:42.435Z"
   },
   {
    "duration": 1034,
    "start_time": "2022-05-27T09:56:04.957Z"
   },
   {
    "duration": 874,
    "start_time": "2022-05-27T09:58:34.774Z"
   },
   {
    "duration": 942,
    "start_time": "2022-05-27T09:58:59.235Z"
   },
   {
    "duration": 961,
    "start_time": "2022-05-27T09:59:30.216Z"
   },
   {
    "duration": 51,
    "start_time": "2022-05-27T10:02:19.941Z"
   },
   {
    "duration": 1985,
    "start_time": "2022-05-27T10:02:56.271Z"
   },
   {
    "duration": 795,
    "start_time": "2022-05-27T10:03:26.295Z"
   },
   {
    "duration": 705,
    "start_time": "2022-05-27T10:03:34.281Z"
   },
   {
    "duration": 724,
    "start_time": "2022-05-27T10:03:43.271Z"
   },
   {
    "duration": 109,
    "start_time": "2022-05-27T10:03:52.723Z"
   },
   {
    "duration": 707,
    "start_time": "2022-05-27T10:03:58.798Z"
   },
   {
    "duration": 1355,
    "start_time": "2022-05-27T11:28:57.609Z"
   },
   {
    "duration": 3,
    "start_time": "2022-05-27T11:28:58.967Z"
   },
   {
    "duration": 1044,
    "start_time": "2022-05-27T11:28:58.972Z"
   },
   {
    "duration": 94,
    "start_time": "2022-05-27T11:29:00.018Z"
   },
   {
    "duration": 57,
    "start_time": "2022-05-27T11:29:00.113Z"
   },
   {
    "duration": 8,
    "start_time": "2022-05-27T11:29:00.172Z"
   },
   {
    "duration": 256,
    "start_time": "2022-05-27T11:29:00.181Z"
   },
   {
    "duration": 171,
    "start_time": "2022-05-27T11:29:00.439Z"
   },
   {
    "duration": 8,
    "start_time": "2022-05-27T11:29:00.613Z"
   },
   {
    "duration": 32,
    "start_time": "2022-05-27T11:29:00.625Z"
   },
   {
    "duration": 28,
    "start_time": "2022-05-27T11:29:00.659Z"
   },
   {
    "duration": 38,
    "start_time": "2022-05-27T11:29:00.690Z"
   },
   {
    "duration": 46,
    "start_time": "2022-05-27T11:29:00.730Z"
   },
   {
    "duration": 66,
    "start_time": "2022-05-27T11:29:00.778Z"
   },
   {
    "duration": 40,
    "start_time": "2022-05-27T11:29:00.846Z"
   },
   {
    "duration": 42,
    "start_time": "2022-05-27T11:29:00.888Z"
   },
   {
    "duration": 541,
    "start_time": "2022-05-27T11:29:14.335Z"
   },
   {
    "duration": 24,
    "start_time": "2022-05-27T11:29:21.038Z"
   },
   {
    "duration": 86,
    "start_time": "2022-05-27T11:29:40.475Z"
   },
   {
    "duration": 31,
    "start_time": "2022-05-27T11:29:47.468Z"
   },
   {
    "duration": 22,
    "start_time": "2022-05-27T11:30:05.907Z"
   },
   {
    "duration": 281,
    "start_time": "2022-05-27T11:30:09.352Z"
   },
   {
    "duration": 23,
    "start_time": "2022-05-27T11:41:22.438Z"
   },
   {
    "duration": 184,
    "start_time": "2022-05-27T11:41:27.046Z"
   },
   {
    "duration": 32,
    "start_time": "2022-05-27T11:47:31.352Z"
   },
   {
    "duration": 429,
    "start_time": "2022-05-27T11:47:37.450Z"
   },
   {
    "duration": 28,
    "start_time": "2022-05-27T12:47:12.372Z"
   },
   {
    "duration": 256,
    "start_time": "2022-05-27T12:47:18.920Z"
   },
   {
    "duration": 834,
    "start_time": "2022-05-27T12:52:37.533Z"
   },
   {
    "duration": 543,
    "start_time": "2022-05-27T12:57:29.848Z"
   },
   {
    "duration": 1768,
    "start_time": "2022-05-27T13:00:53.307Z"
   },
   {
    "duration": 782,
    "start_time": "2022-05-27T13:01:47.886Z"
   },
   {
    "duration": 12,
    "start_time": "2022-05-27T13:10:34.166Z"
   },
   {
    "duration": 20,
    "start_time": "2022-05-27T13:10:42.462Z"
   },
   {
    "duration": 37,
    "start_time": "2022-05-27T13:11:30.656Z"
   },
   {
    "duration": 21,
    "start_time": "2022-05-27T13:12:01.798Z"
   },
   {
    "duration": 29,
    "start_time": "2022-05-27T13:14:10.387Z"
   },
   {
    "duration": 29,
    "start_time": "2022-05-27T13:14:46.445Z"
   },
   {
    "duration": 33,
    "start_time": "2022-05-27T13:15:52.344Z"
   },
   {
    "duration": 27,
    "start_time": "2022-05-27T13:17:45.408Z"
   },
   {
    "duration": 37,
    "start_time": "2022-05-27T13:18:13.076Z"
   },
   {
    "duration": 51,
    "start_time": "2022-05-27T13:19:22.328Z"
   },
   {
    "duration": 37,
    "start_time": "2022-05-27T13:19:55.978Z"
   },
   {
    "duration": 511,
    "start_time": "2022-05-27T13:20:34.652Z"
   },
   {
    "duration": 36,
    "start_time": "2022-05-27T13:20:56.319Z"
   },
   {
    "duration": 35,
    "start_time": "2022-05-27T13:21:12.120Z"
   },
   {
    "duration": 182,
    "start_time": "2022-05-27T13:21:14.143Z"
   },
   {
    "duration": 38,
    "start_time": "2022-05-27T13:22:29.723Z"
   },
   {
    "duration": 44,
    "start_time": "2022-05-27T13:24:22.275Z"
   },
   {
    "duration": 46,
    "start_time": "2022-05-27T13:25:32.316Z"
   },
   {
    "duration": 52,
    "start_time": "2022-05-27T13:25:50.551Z"
   },
   {
    "duration": 244,
    "start_time": "2022-05-27T13:26:22.986Z"
   },
   {
    "duration": 248,
    "start_time": "2022-05-27T13:27:47.915Z"
   },
   {
    "duration": 61,
    "start_time": "2022-05-27T13:28:18.843Z"
   },
   {
    "duration": 44,
    "start_time": "2022-05-27T13:28:23.419Z"
   },
   {
    "duration": 45,
    "start_time": "2022-05-27T13:31:45.719Z"
   },
   {
    "duration": 276,
    "start_time": "2022-05-27T13:31:48.248Z"
   },
   {
    "duration": 44,
    "start_time": "2022-05-27T13:31:57.584Z"
   },
   {
    "duration": 27,
    "start_time": "2022-05-27T13:38:13.495Z"
   },
   {
    "duration": 277,
    "start_time": "2022-05-27T13:39:53.776Z"
   },
   {
    "duration": 28,
    "start_time": "2022-05-27T13:40:21.227Z"
   },
   {
    "duration": 188,
    "start_time": "2022-05-27T13:40:56.169Z"
   },
   {
    "duration": 157,
    "start_time": "2022-05-27T13:42:15.841Z"
   },
   {
    "duration": 152,
    "start_time": "2022-05-27T13:42:44.173Z"
   },
   {
    "duration": 47,
    "start_time": "2022-05-27T13:45:04.072Z"
   },
   {
    "duration": 236,
    "start_time": "2022-05-27T13:45:09.704Z"
   },
   {
    "duration": 35,
    "start_time": "2022-05-27T13:45:32.535Z"
   },
   {
    "duration": 33,
    "start_time": "2022-05-27T13:45:41.696Z"
   },
   {
    "duration": 229,
    "start_time": "2022-05-27T13:45:50.287Z"
   },
   {
    "duration": 261,
    "start_time": "2022-05-27T13:48:20.548Z"
   },
   {
    "duration": 254,
    "start_time": "2022-05-27T13:52:25.520Z"
   },
   {
    "duration": 25,
    "start_time": "2022-05-27T13:59:26.458Z"
   },
   {
    "duration": 2355,
    "start_time": "2022-05-27T13:59:44.749Z"
   },
   {
    "duration": 1944,
    "start_time": "2022-05-27T14:06:21.656Z"
   },
   {
    "duration": 1661,
    "start_time": "2022-05-27T14:07:23.181Z"
   },
   {
    "duration": 2178,
    "start_time": "2022-05-27T14:08:11.831Z"
   },
   {
    "duration": 289,
    "start_time": "2022-05-27T14:09:06.322Z"
   },
   {
    "duration": 280,
    "start_time": "2022-05-27T14:09:35.349Z"
   },
   {
    "duration": 1690,
    "start_time": "2022-05-27T14:09:39.617Z"
   },
   {
    "duration": 143,
    "start_time": "2022-05-27T14:12:46.098Z"
   },
   {
    "duration": 2212,
    "start_time": "2022-05-27T14:12:56.152Z"
   },
   {
    "duration": 7,
    "start_time": "2022-05-27T14:14:07.310Z"
   },
   {
    "duration": 2128,
    "start_time": "2022-05-27T14:14:14.645Z"
   },
   {
    "duration": 9,
    "start_time": "2022-05-27T14:14:49.168Z"
   },
   {
    "duration": 2786,
    "start_time": "2022-05-27T14:14:56.924Z"
   },
   {
    "duration": 420,
    "start_time": "2022-05-27T14:22:37.771Z"
   },
   {
    "duration": 3168,
    "start_time": "2022-05-27T14:23:01.959Z"
   },
   {
    "duration": 2671,
    "start_time": "2022-05-27T14:23:33.511Z"
   },
   {
    "duration": 2955,
    "start_time": "2022-05-27T14:24:18.028Z"
   },
   {
    "duration": 2224,
    "start_time": "2022-05-27T14:27:12.648Z"
   },
   {
    "duration": 478,
    "start_time": "2022-05-27T14:27:54.335Z"
   },
   {
    "duration": 436,
    "start_time": "2022-05-27T14:28:39.851Z"
   },
   {
    "duration": 468,
    "start_time": "2022-05-27T14:29:01.224Z"
   },
   {
    "duration": 423,
    "start_time": "2022-05-27T14:29:20.114Z"
   },
   {
    "duration": 450,
    "start_time": "2022-05-27T14:29:32.755Z"
   },
   {
    "duration": 260,
    "start_time": "2022-05-27T14:31:36.138Z"
   },
   {
    "duration": 1078,
    "start_time": "2022-05-27T14:32:05.998Z"
   },
   {
    "duration": 6,
    "start_time": "2022-05-27T14:33:53.782Z"
   },
   {
    "duration": 1668,
    "start_time": "2022-05-27T14:34:05.147Z"
   },
   {
    "duration": 32,
    "start_time": "2022-05-27T15:06:05.523Z"
   },
   {
    "duration": 27,
    "start_time": "2022-05-27T15:06:20.627Z"
   },
   {
    "duration": 27,
    "start_time": "2022-05-27T15:06:32.066Z"
   },
   {
    "duration": 28,
    "start_time": "2022-05-27T15:06:48.002Z"
   },
   {
    "duration": 35,
    "start_time": "2022-05-27T15:07:03.012Z"
   },
   {
    "duration": 98,
    "start_time": "2022-05-27T15:07:19.258Z"
   },
   {
    "duration": 27,
    "start_time": "2022-05-27T15:07:57.658Z"
   },
   {
    "duration": 26,
    "start_time": "2022-05-27T15:08:29.104Z"
   },
   {
    "duration": 34,
    "start_time": "2022-05-27T15:08:48.779Z"
   },
   {
    "duration": 34,
    "start_time": "2022-05-27T15:09:00.762Z"
   },
   {
    "duration": 24,
    "start_time": "2022-05-27T15:10:04.290Z"
   },
   {
    "duration": 25,
    "start_time": "2022-05-27T15:10:12.834Z"
   },
   {
    "duration": 35,
    "start_time": "2022-05-27T15:10:23.221Z"
   },
   {
    "duration": 28,
    "start_time": "2022-05-27T15:11:03.696Z"
   },
   {
    "duration": 469,
    "start_time": "2022-05-27T15:21:08.962Z"
   },
   {
    "duration": 1748,
    "start_time": "2022-05-30T07:23:08.034Z"
   },
   {
    "duration": 4,
    "start_time": "2022-05-30T07:23:09.784Z"
   },
   {
    "duration": 2216,
    "start_time": "2022-05-30T07:23:09.789Z"
   },
   {
    "duration": 78,
    "start_time": "2022-05-30T07:23:12.007Z"
   },
   {
    "duration": 28,
    "start_time": "2022-05-30T07:23:12.087Z"
   },
   {
    "duration": 29,
    "start_time": "2022-05-30T07:23:12.117Z"
   },
   {
    "duration": 226,
    "start_time": "2022-05-30T07:23:12.147Z"
   },
   {
    "duration": 137,
    "start_time": "2022-05-30T07:23:12.374Z"
   },
   {
    "duration": 7,
    "start_time": "2022-05-30T07:23:12.512Z"
   },
   {
    "duration": 11,
    "start_time": "2022-05-30T07:23:12.521Z"
   },
   {
    "duration": 12,
    "start_time": "2022-05-30T07:23:12.534Z"
   },
   {
    "duration": 14,
    "start_time": "2022-05-30T07:23:12.549Z"
   },
   {
    "duration": 7,
    "start_time": "2022-05-30T07:23:12.565Z"
   },
   {
    "duration": 14,
    "start_time": "2022-05-30T07:23:12.574Z"
   },
   {
    "duration": 8,
    "start_time": "2022-05-30T07:23:12.589Z"
   },
   {
    "duration": 7,
    "start_time": "2022-05-30T07:23:12.598Z"
   },
   {
    "duration": 551,
    "start_time": "2022-05-30T07:23:12.606Z"
   },
   {
    "duration": 19,
    "start_time": "2022-05-30T07:23:13.158Z"
   },
   {
    "duration": 24,
    "start_time": "2022-05-30T07:23:13.179Z"
   },
   {
    "duration": 191,
    "start_time": "2022-05-30T07:23:13.204Z"
   },
   {
    "duration": 19,
    "start_time": "2022-05-30T07:23:13.396Z"
   },
   {
    "duration": 168,
    "start_time": "2022-05-30T07:23:13.417Z"
   },
   {
    "duration": 20,
    "start_time": "2022-05-30T07:23:13.587Z"
   },
   {
    "duration": 360,
    "start_time": "2022-05-30T07:23:13.608Z"
   },
   {
    "duration": 29,
    "start_time": "2022-05-30T07:23:13.971Z"
   },
   {
    "duration": 185,
    "start_time": "2022-05-30T07:23:14.001Z"
   },
   {
    "duration": 481,
    "start_time": "2022-05-30T07:23:14.188Z"
   },
   {
    "duration": 453,
    "start_time": "2022-05-30T07:23:14.674Z"
   },
   {
    "duration": 588,
    "start_time": "2022-05-30T07:23:15.129Z"
   },
   {
    "duration": 209,
    "start_time": "2022-05-30T07:23:15.718Z"
   },
   {
    "duration": 1699,
    "start_time": "2022-05-30T07:23:15.928Z"
   },
   {
    "duration": 713,
    "start_time": "2022-05-30T07:23:17.628Z"
   },
   {
    "duration": 2162,
    "start_time": "2022-05-30T07:23:18.343Z"
   },
   {
    "duration": 61,
    "start_time": "2022-05-30T07:23:20.507Z"
   },
   {
    "duration": 259,
    "start_time": "2022-05-30T07:23:20.570Z"
   },
   {
    "duration": 1916,
    "start_time": "2022-05-30T07:23:20.831Z"
   },
   {
    "duration": 1930,
    "start_time": "2022-05-30T07:23:22.748Z"
   },
   {
    "duration": 54,
    "start_time": "2022-05-30T07:25:22.056Z"
   },
   {
    "duration": 1138,
    "start_time": "2022-05-30T07:25:34.841Z"
   },
   {
    "duration": 4,
    "start_time": "2022-05-30T07:25:35.981Z"
   },
   {
    "duration": 614,
    "start_time": "2022-05-30T07:25:35.987Z"
   },
   {
    "duration": 78,
    "start_time": "2022-05-30T07:25:36.603Z"
   },
   {
    "duration": 27,
    "start_time": "2022-05-30T07:25:36.683Z"
   },
   {
    "duration": 6,
    "start_time": "2022-05-30T07:25:36.711Z"
   },
   {
    "duration": 259,
    "start_time": "2022-05-30T07:25:36.718Z"
   },
   {
    "duration": 135,
    "start_time": "2022-05-30T07:25:36.978Z"
   },
   {
    "duration": 6,
    "start_time": "2022-05-30T07:25:37.114Z"
   },
   {
    "duration": 18,
    "start_time": "2022-05-30T07:25:37.123Z"
   },
   {
    "duration": 7,
    "start_time": "2022-05-30T07:25:37.143Z"
   },
   {
    "duration": 9,
    "start_time": "2022-05-30T07:25:37.152Z"
   },
   {
    "duration": 6,
    "start_time": "2022-05-30T07:25:37.162Z"
   },
   {
    "duration": 10,
    "start_time": "2022-05-30T07:25:37.170Z"
   },
   {
    "duration": 11,
    "start_time": "2022-05-30T07:25:37.182Z"
   },
   {
    "duration": 7,
    "start_time": "2022-05-30T07:25:37.195Z"
   },
   {
    "duration": 496,
    "start_time": "2022-05-30T07:25:37.204Z"
   },
   {
    "duration": 19,
    "start_time": "2022-05-30T07:25:37.702Z"
   },
   {
    "duration": 30,
    "start_time": "2022-05-30T07:25:37.722Z"
   },
   {
    "duration": 182,
    "start_time": "2022-05-30T07:25:37.753Z"
   },
   {
    "duration": 20,
    "start_time": "2022-05-30T07:25:37.936Z"
   },
   {
    "duration": 245,
    "start_time": "2022-05-30T07:25:37.957Z"
   },
   {
    "duration": 22,
    "start_time": "2022-05-30T07:25:38.204Z"
   },
   {
    "duration": 336,
    "start_time": "2022-05-30T07:25:38.240Z"
   },
   {
    "duration": 23,
    "start_time": "2022-05-30T07:25:38.578Z"
   },
   {
    "duration": 177,
    "start_time": "2022-05-30T07:25:38.603Z"
   },
   {
    "duration": 464,
    "start_time": "2022-05-30T07:25:38.781Z"
   },
   {
    "duration": 470,
    "start_time": "2022-05-30T07:25:39.250Z"
   },
   {
    "duration": 487,
    "start_time": "2022-05-30T07:25:39.722Z"
   },
   {
    "duration": 313,
    "start_time": "2022-05-30T07:25:40.210Z"
   },
   {
    "duration": 1509,
    "start_time": "2022-05-30T07:25:40.525Z"
   },
   {
    "duration": 719,
    "start_time": "2022-05-30T07:25:42.040Z"
   },
   {
    "duration": 2027,
    "start_time": "2022-05-30T07:25:42.760Z"
   },
   {
    "duration": 77,
    "start_time": "2022-05-30T07:25:44.789Z"
   },
   {
    "duration": 419,
    "start_time": "2022-05-30T07:25:44.868Z"
   },
   {
    "duration": 2055,
    "start_time": "2022-05-30T07:25:45.289Z"
   },
   {
    "duration": 2006,
    "start_time": "2022-05-30T07:25:47.346Z"
   },
   {
    "duration": 1793,
    "start_time": "2022-05-30T07:25:49.354Z"
   },
   {
    "duration": 454,
    "start_time": "2022-05-30T07:25:51.149Z"
   },
   {
    "duration": 2054,
    "start_time": "2022-05-30T07:25:51.606Z"
   },
   {
    "duration": 296,
    "start_time": "2022-05-30T07:25:53.662Z"
   },
   {
    "duration": 2323,
    "start_time": "2022-05-30T07:25:53.960Z"
   },
   {
    "duration": 1979,
    "start_time": "2022-05-30T07:25:56.284Z"
   },
   {
    "duration": 237,
    "start_time": "2022-05-30T07:25:58.265Z"
   },
   {
    "duration": 1488,
    "start_time": "2022-05-30T07:25:58.503Z"
   },
   {
    "duration": 1358,
    "start_time": "2022-05-30T07:32:53.793Z"
   },
   {
    "duration": 168,
    "start_time": "2022-05-30T07:34:50.646Z"
   },
   {
    "duration": 385,
    "start_time": "2022-05-30T07:34:58.303Z"
   },
   {
    "duration": 1715,
    "start_time": "2022-05-30T07:35:15.640Z"
   },
   {
    "duration": 1498,
    "start_time": "2022-05-30T07:35:34.545Z"
   },
   {
    "duration": 277,
    "start_time": "2022-05-30T07:37:51.557Z"
   },
   {
    "duration": 2058,
    "start_time": "2022-05-30T07:38:05.699Z"
   },
   {
    "duration": 1988,
    "start_time": "2022-05-30T07:38:28.757Z"
   },
   {
    "duration": 405,
    "start_time": "2022-05-30T07:38:45.285Z"
   },
   {
    "duration": 1196,
    "start_time": "2022-05-30T07:39:54.935Z"
   },
   {
    "duration": 1280,
    "start_time": "2022-05-30T07:41:28.508Z"
   },
   {
    "duration": 1155,
    "start_time": "2022-05-30T07:42:15.181Z"
   },
   {
    "duration": 1318,
    "start_time": "2022-05-30T07:42:57.518Z"
   },
   {
    "duration": 1239,
    "start_time": "2022-05-30T07:43:11.639Z"
   },
   {
    "duration": 12,
    "start_time": "2022-05-30T08:03:31.063Z"
   },
   {
    "duration": 2197,
    "start_time": "2022-05-30T08:03:45.961Z"
   },
   {
    "duration": 10,
    "start_time": "2022-05-30T08:04:44.706Z"
   },
   {
    "duration": 2418,
    "start_time": "2022-05-30T08:04:51.154Z"
   },
   {
    "duration": 11,
    "start_time": "2022-05-30T08:05:32.296Z"
   },
   {
    "duration": 2157,
    "start_time": "2022-05-30T08:05:44.023Z"
   },
   {
    "duration": 1841,
    "start_time": "2022-05-30T08:06:16.799Z"
   },
   {
    "duration": 624,
    "start_time": "2022-05-30T08:06:49.705Z"
   },
   {
    "duration": 2594,
    "start_time": "2022-05-30T08:06:56.385Z"
   },
   {
    "duration": 7,
    "start_time": "2022-05-30T08:09:51.920Z"
   },
   {
    "duration": 2500,
    "start_time": "2022-05-30T08:09:57.663Z"
   },
   {
    "duration": 145,
    "start_time": "2022-05-30T08:11:13.323Z"
   },
   {
    "duration": 2667,
    "start_time": "2022-05-30T08:11:18.516Z"
   },
   {
    "duration": 9,
    "start_time": "2022-05-30T08:12:27.039Z"
   },
   {
    "duration": 2298,
    "start_time": "2022-05-30T08:12:31.991Z"
   },
   {
    "duration": 7,
    "start_time": "2022-05-30T08:13:27.458Z"
   },
   {
    "duration": 10,
    "start_time": "2022-05-30T08:13:32.069Z"
   },
   {
    "duration": 8,
    "start_time": "2022-05-30T08:13:37.520Z"
   },
   {
    "duration": 2666,
    "start_time": "2022-05-30T08:13:44.095Z"
   },
   {
    "duration": 7,
    "start_time": "2022-05-30T08:14:31.107Z"
   },
   {
    "duration": 8,
    "start_time": "2022-05-30T08:14:39.220Z"
   },
   {
    "duration": 11,
    "start_time": "2022-05-30T08:14:41.368Z"
   },
   {
    "duration": 2604,
    "start_time": "2022-05-30T08:14:48.329Z"
   },
   {
    "duration": 7,
    "start_time": "2022-05-30T08:15:25.183Z"
   },
   {
    "duration": 9,
    "start_time": "2022-05-30T08:15:35.226Z"
   },
   {
    "duration": 2885,
    "start_time": "2022-05-30T08:15:44.037Z"
   },
   {
    "duration": 1510,
    "start_time": "2022-05-30T11:13:23.967Z"
   },
   {
    "duration": 1846,
    "start_time": "2022-05-30T11:21:41.357Z"
   },
   {
    "duration": 371,
    "start_time": "2022-05-30T11:26:06.390Z"
   },
   {
    "duration": 1510,
    "start_time": "2022-05-30T11:34:39.484Z"
   },
   {
    "duration": 4,
    "start_time": "2022-05-30T11:35:29.999Z"
   },
   {
    "duration": 1264,
    "start_time": "2022-05-30T11:35:36.054Z"
   },
   {
    "duration": 20,
    "start_time": "2022-05-30T11:55:09.990Z"
   },
   {
    "duration": 1331,
    "start_time": "2022-05-30T11:55:23.976Z"
   },
   {
    "duration": 17,
    "start_time": "2022-05-30T11:56:09.698Z"
   },
   {
    "duration": 1262,
    "start_time": "2022-05-30T11:56:26.962Z"
   },
   {
    "duration": 1102,
    "start_time": "2022-05-30T13:24:11.095Z"
   },
   {
    "duration": 3,
    "start_time": "2022-05-30T13:24:12.199Z"
   },
   {
    "duration": 654,
    "start_time": "2022-05-30T13:24:12.203Z"
   },
   {
    "duration": 79,
    "start_time": "2022-05-30T13:24:12.859Z"
   },
   {
    "duration": 31,
    "start_time": "2022-05-30T13:24:12.940Z"
   },
   {
    "duration": 6,
    "start_time": "2022-05-30T13:24:12.973Z"
   },
   {
    "duration": 246,
    "start_time": "2022-05-30T13:24:12.981Z"
   },
   {
    "duration": 143,
    "start_time": "2022-05-30T13:24:13.228Z"
   },
   {
    "duration": 7,
    "start_time": "2022-05-30T13:24:13.373Z"
   },
   {
    "duration": 9,
    "start_time": "2022-05-30T13:24:13.382Z"
   },
   {
    "duration": 9,
    "start_time": "2022-05-30T13:24:13.392Z"
   },
   {
    "duration": 10,
    "start_time": "2022-05-30T13:24:13.403Z"
   },
   {
    "duration": 30,
    "start_time": "2022-05-30T13:24:13.414Z"
   },
   {
    "duration": 7,
    "start_time": "2022-05-30T13:24:13.445Z"
   },
   {
    "duration": 10,
    "start_time": "2022-05-30T13:24:13.454Z"
   },
   {
    "duration": 12,
    "start_time": "2022-05-30T13:24:13.465Z"
   },
   {
    "duration": 503,
    "start_time": "2022-05-30T13:24:13.479Z"
   },
   {
    "duration": 19,
    "start_time": "2022-05-30T13:24:13.983Z"
   },
   {
    "duration": 20,
    "start_time": "2022-05-30T13:24:14.004Z"
   },
   {
    "duration": 219,
    "start_time": "2022-05-30T13:24:14.026Z"
   },
   {
    "duration": 19,
    "start_time": "2022-05-30T13:24:14.247Z"
   },
   {
    "duration": 243,
    "start_time": "2022-05-30T13:24:14.268Z"
   },
   {
    "duration": 30,
    "start_time": "2022-05-30T13:24:14.512Z"
   },
   {
    "duration": 356,
    "start_time": "2022-05-30T13:24:14.544Z"
   },
   {
    "duration": 27,
    "start_time": "2022-05-30T13:24:14.903Z"
   },
   {
    "duration": 178,
    "start_time": "2022-05-30T13:24:14.932Z"
   },
   {
    "duration": 478,
    "start_time": "2022-05-30T13:24:15.112Z"
   },
   {
    "duration": 454,
    "start_time": "2022-05-30T13:24:15.593Z"
   },
   {
    "duration": 448,
    "start_time": "2022-05-30T13:24:16.049Z"
   },
   {
    "duration": 320,
    "start_time": "2022-05-30T13:24:16.498Z"
   },
   {
    "duration": 1583,
    "start_time": "2022-05-30T13:24:16.819Z"
   },
   {
    "duration": 733,
    "start_time": "2022-05-30T13:24:18.403Z"
   },
   {
    "duration": 2028,
    "start_time": "2022-05-30T13:24:19.138Z"
   },
   {
    "duration": 46,
    "start_time": "2022-05-30T13:24:21.167Z"
   },
   {
    "duration": 360,
    "start_time": "2022-05-30T13:24:21.214Z"
   },
   {
    "duration": 1964,
    "start_time": "2022-05-30T13:24:21.576Z"
   },
   {
    "duration": 2104,
    "start_time": "2022-05-30T13:24:23.542Z"
   },
   {
    "duration": 1877,
    "start_time": "2022-05-30T13:24:25.647Z"
   },
   {
    "duration": 420,
    "start_time": "2022-05-30T13:24:27.526Z"
   },
   {
    "duration": 1094,
    "start_time": "2022-05-30T13:24:27.948Z"
   },
   {
    "duration": 2285,
    "start_time": "2022-05-30T13:24:29.044Z"
   },
   {
    "duration": 273,
    "start_time": "2022-05-30T13:24:31.331Z"
   },
   {
    "duration": 2275,
    "start_time": "2022-05-30T13:24:31.606Z"
   },
   {
    "duration": 2102,
    "start_time": "2022-05-30T13:24:33.883Z"
   },
   {
    "duration": 2071,
    "start_time": "2022-05-30T13:24:35.987Z"
   },
   {
    "duration": 241,
    "start_time": "2022-05-30T13:24:38.060Z"
   },
   {
    "duration": 1645,
    "start_time": "2022-05-30T13:24:38.303Z"
   },
   {
    "duration": 1506,
    "start_time": "2022-05-30T13:24:39.950Z"
   },
   {
    "duration": 239,
    "start_time": "2022-05-30T13:24:41.458Z"
   },
   {
    "duration": 1486,
    "start_time": "2022-05-30T13:24:41.698Z"
   },
   {
    "duration": 1687,
    "start_time": "2022-05-30T13:24:43.186Z"
   },
   {
    "duration": 947,
    "start_time": "2022-05-30T13:25:41.607Z"
   },
   {
    "duration": 1958,
    "start_time": "2022-05-30T13:25:50.608Z"
   },
   {
    "duration": 2014,
    "start_time": "2022-05-30T13:25:54.535Z"
   },
   {
    "duration": 1320,
    "start_time": "2022-05-30T20:37:25.651Z"
   },
   {
    "duration": 3,
    "start_time": "2022-05-30T20:37:26.973Z"
   },
   {
    "duration": 1008,
    "start_time": "2022-05-30T20:37:26.978Z"
   },
   {
    "duration": 77,
    "start_time": "2022-05-30T20:37:27.988Z"
   },
   {
    "duration": 29,
    "start_time": "2022-05-30T20:37:28.067Z"
   },
   {
    "duration": 7,
    "start_time": "2022-05-30T20:37:28.097Z"
   },
   {
    "duration": 229,
    "start_time": "2022-05-30T20:37:28.105Z"
   },
   {
    "duration": 154,
    "start_time": "2022-05-30T20:37:28.336Z"
   },
   {
    "duration": 6,
    "start_time": "2022-05-30T20:37:28.492Z"
   },
   {
    "duration": 8,
    "start_time": "2022-05-30T20:37:28.500Z"
   },
   {
    "duration": 29,
    "start_time": "2022-05-30T20:37:28.510Z"
   },
   {
    "duration": 10,
    "start_time": "2022-05-30T20:37:28.542Z"
   },
   {
    "duration": 9,
    "start_time": "2022-05-30T20:37:28.554Z"
   },
   {
    "duration": 5,
    "start_time": "2022-05-30T20:37:28.566Z"
   },
   {
    "duration": 9,
    "start_time": "2022-05-30T20:37:28.572Z"
   },
   {
    "duration": 10,
    "start_time": "2022-05-30T20:37:28.582Z"
   },
   {
    "duration": 555,
    "start_time": "2022-05-30T20:37:28.593Z"
   },
   {
    "duration": 17,
    "start_time": "2022-05-30T20:37:29.150Z"
   },
   {
    "duration": 22,
    "start_time": "2022-05-30T20:37:29.168Z"
   },
   {
    "duration": 190,
    "start_time": "2022-05-30T20:37:29.192Z"
   },
   {
    "duration": 20,
    "start_time": "2022-05-30T20:37:29.384Z"
   },
   {
    "duration": 176,
    "start_time": "2022-05-30T20:37:29.406Z"
   },
   {
    "duration": 19,
    "start_time": "2022-05-30T20:37:29.584Z"
   },
   {
    "duration": 358,
    "start_time": "2022-05-30T20:37:29.604Z"
   },
   {
    "duration": 23,
    "start_time": "2022-05-30T20:37:29.964Z"
   },
   {
    "duration": 176,
    "start_time": "2022-05-30T20:37:29.988Z"
   },
   {
    "duration": 491,
    "start_time": "2022-05-30T20:37:30.165Z"
   },
   {
    "duration": 484,
    "start_time": "2022-05-30T20:37:30.658Z"
   },
   {
    "duration": 636,
    "start_time": "2022-05-30T20:37:31.144Z"
   },
   {
    "duration": 253,
    "start_time": "2022-05-30T20:37:31.782Z"
   },
   {
    "duration": 1571,
    "start_time": "2022-05-30T20:37:32.037Z"
   },
   {
    "duration": 703,
    "start_time": "2022-05-30T20:37:33.610Z"
   },
   {
    "duration": 1957,
    "start_time": "2022-05-30T20:37:34.315Z"
   },
   {
    "duration": 69,
    "start_time": "2022-05-30T20:37:36.274Z"
   },
   {
    "duration": 244,
    "start_time": "2022-05-30T20:37:36.346Z"
   },
   {
    "duration": 1909,
    "start_time": "2022-05-30T20:37:36.592Z"
   },
   {
    "duration": 2130,
    "start_time": "2022-05-30T20:37:38.503Z"
   },
   {
    "duration": 1766,
    "start_time": "2022-05-30T20:37:40.635Z"
   },
   {
    "duration": 401,
    "start_time": "2022-05-30T20:37:42.403Z"
   },
   {
    "duration": 1204,
    "start_time": "2022-05-30T20:37:42.806Z"
   },
   {
    "duration": 2013,
    "start_time": "2022-05-30T20:37:44.014Z"
   },
   {
    "duration": 275,
    "start_time": "2022-05-30T20:37:46.028Z"
   },
   {
    "duration": 2374,
    "start_time": "2022-05-30T20:37:46.305Z"
   },
   {
    "duration": 1856,
    "start_time": "2022-05-30T20:37:48.680Z"
   },
   {
    "duration": 267,
    "start_time": "2022-05-30T20:37:50.538Z"
   },
   {
    "duration": 1514,
    "start_time": "2022-05-30T20:37:50.806Z"
   },
   {
    "duration": 1776,
    "start_time": "2022-05-30T20:37:52.322Z"
   },
   {
    "duration": 248,
    "start_time": "2022-05-30T20:37:54.100Z"
   },
   {
    "duration": 1627,
    "start_time": "2022-05-30T20:37:54.350Z"
   },
   {
    "duration": 96,
    "start_time": "2022-05-30T20:37:55.979Z"
   },
   {
    "duration": 0,
    "start_time": "2022-05-30T20:37:56.077Z"
   },
   {
    "duration": 0,
    "start_time": "2022-05-30T20:37:56.078Z"
   },
   {
    "duration": 14,
    "start_time": "2022-05-30T20:38:35.791Z"
   },
   {
    "duration": 4,
    "start_time": "2022-05-30T20:40:27.429Z"
   },
   {
    "duration": 10,
    "start_time": "2022-05-30T20:40:27.435Z"
   },
   {
    "duration": 627,
    "start_time": "2022-05-30T20:40:27.447Z"
   },
   {
    "duration": 82,
    "start_time": "2022-05-30T20:40:28.075Z"
   },
   {
    "duration": 23,
    "start_time": "2022-05-30T20:40:28.159Z"
   },
   {
    "duration": 6,
    "start_time": "2022-05-30T20:40:28.183Z"
   },
   {
    "duration": 213,
    "start_time": "2022-05-30T20:40:28.191Z"
   },
   {
    "duration": 132,
    "start_time": "2022-05-30T20:40:28.405Z"
   },
   {
    "duration": 7,
    "start_time": "2022-05-30T20:40:28.539Z"
   },
   {
    "duration": 11,
    "start_time": "2022-05-30T20:40:28.547Z"
   },
   {
    "duration": 9,
    "start_time": "2022-05-30T20:40:28.560Z"
   },
   {
    "duration": 10,
    "start_time": "2022-05-30T20:40:28.571Z"
   },
   {
    "duration": 9,
    "start_time": "2022-05-30T20:40:28.582Z"
   },
   {
    "duration": 5,
    "start_time": "2022-05-30T20:40:28.593Z"
   },
   {
    "duration": 42,
    "start_time": "2022-05-30T20:40:28.600Z"
   },
   {
    "duration": 22,
    "start_time": "2022-05-30T20:40:28.644Z"
   },
   {
    "duration": 471,
    "start_time": "2022-05-30T20:40:28.668Z"
   },
   {
    "duration": 20,
    "start_time": "2022-05-30T20:40:29.141Z"
   },
   {
    "duration": 19,
    "start_time": "2022-05-30T20:40:29.162Z"
   },
   {
    "duration": 284,
    "start_time": "2022-05-30T20:40:29.182Z"
   },
   {
    "duration": 19,
    "start_time": "2022-05-30T20:40:29.468Z"
   },
   {
    "duration": 164,
    "start_time": "2022-05-30T20:40:29.489Z"
   },
   {
    "duration": 20,
    "start_time": "2022-05-30T20:40:29.654Z"
   },
   {
    "duration": 474,
    "start_time": "2022-05-30T20:40:29.676Z"
   },
   {
    "duration": 24,
    "start_time": "2022-05-30T20:40:30.151Z"
   },
   {
    "duration": 201,
    "start_time": "2022-05-30T20:40:30.176Z"
   },
   {
    "duration": 386,
    "start_time": "2022-05-30T20:40:30.379Z"
   },
   {
    "duration": 527,
    "start_time": "2022-05-30T20:40:30.767Z"
   },
   {
    "duration": 472,
    "start_time": "2022-05-30T20:40:31.295Z"
   },
   {
    "duration": 234,
    "start_time": "2022-05-30T20:40:31.769Z"
   },
   {
    "duration": 1462,
    "start_time": "2022-05-30T20:40:32.005Z"
   },
   {
    "duration": 755,
    "start_time": "2022-05-30T20:40:33.469Z"
   },
   {
    "duration": 1783,
    "start_time": "2022-05-30T20:40:34.227Z"
   },
   {
    "duration": 42,
    "start_time": "2022-05-30T20:40:36.012Z"
   },
   {
    "duration": 257,
    "start_time": "2022-05-30T20:40:36.057Z"
   },
   {
    "duration": 2149,
    "start_time": "2022-05-30T20:40:36.316Z"
   },
   {
    "duration": 1941,
    "start_time": "2022-05-30T20:40:38.467Z"
   },
   {
    "duration": 1927,
    "start_time": "2022-05-30T20:40:40.410Z"
   },
   {
    "duration": 380,
    "start_time": "2022-05-30T20:40:42.342Z"
   },
   {
    "duration": 1202,
    "start_time": "2022-05-30T20:40:42.723Z"
   },
   {
    "duration": 2151,
    "start_time": "2022-05-30T20:40:43.928Z"
   },
   {
    "duration": 277,
    "start_time": "2022-05-30T20:40:46.081Z"
   },
   {
    "duration": 2213,
    "start_time": "2022-05-30T20:40:46.364Z"
   },
   {
    "duration": 1946,
    "start_time": "2022-05-30T20:40:48.579Z"
   },
   {
    "duration": 249,
    "start_time": "2022-05-30T20:40:50.527Z"
   },
   {
    "duration": 1470,
    "start_time": "2022-05-30T20:40:50.777Z"
   },
   {
    "duration": 1512,
    "start_time": "2022-05-30T20:40:52.248Z"
   },
   {
    "duration": 248,
    "start_time": "2022-05-30T20:40:53.762Z"
   },
   {
    "duration": 1492,
    "start_time": "2022-05-30T20:40:54.012Z"
   },
   {
    "duration": 27,
    "start_time": "2022-05-30T20:40:55.506Z"
   },
   {
    "duration": 18,
    "start_time": "2022-05-30T20:40:55.539Z"
   },
   {
    "duration": 13,
    "start_time": "2022-05-30T20:41:19.546Z"
   },
   {
    "duration": 15,
    "start_time": "2022-05-30T20:41:34.455Z"
   },
   {
    "duration": 10,
    "start_time": "2022-05-30T20:41:40.986Z"
   },
   {
    "duration": 1224,
    "start_time": "2022-05-31T07:03:37.301Z"
   },
   {
    "duration": 2,
    "start_time": "2022-05-31T07:03:38.528Z"
   },
   {
    "duration": 888,
    "start_time": "2022-05-31T07:03:38.532Z"
   },
   {
    "duration": 77,
    "start_time": "2022-05-31T07:03:39.422Z"
   },
   {
    "duration": 27,
    "start_time": "2022-05-31T07:03:39.500Z"
   },
   {
    "duration": 6,
    "start_time": "2022-05-31T07:03:39.528Z"
   },
   {
    "duration": 211,
    "start_time": "2022-05-31T07:03:39.536Z"
   },
   {
    "duration": 135,
    "start_time": "2022-05-31T07:03:39.748Z"
   },
   {
    "duration": 15,
    "start_time": "2022-05-31T07:03:39.885Z"
   },
   {
    "duration": 17,
    "start_time": "2022-05-31T07:03:39.902Z"
   },
   {
    "duration": 16,
    "start_time": "2022-05-31T07:03:39.921Z"
   },
   {
    "duration": 19,
    "start_time": "2022-05-31T07:03:39.938Z"
   },
   {
    "duration": 24,
    "start_time": "2022-05-31T07:03:39.959Z"
   },
   {
    "duration": 6,
    "start_time": "2022-05-31T07:03:39.985Z"
   },
   {
    "duration": 8,
    "start_time": "2022-05-31T07:03:39.993Z"
   },
   {
    "duration": 18,
    "start_time": "2022-05-31T07:03:40.002Z"
   },
   {
    "duration": 539,
    "start_time": "2022-05-31T07:03:40.022Z"
   },
   {
    "duration": 20,
    "start_time": "2022-05-31T07:03:40.562Z"
   },
   {
    "duration": 26,
    "start_time": "2022-05-31T07:03:40.584Z"
   },
   {
    "duration": 180,
    "start_time": "2022-05-31T07:03:40.612Z"
   },
   {
    "duration": 20,
    "start_time": "2022-05-31T07:03:40.793Z"
   },
   {
    "duration": 171,
    "start_time": "2022-05-31T07:03:40.815Z"
   },
   {
    "duration": 25,
    "start_time": "2022-05-31T07:03:40.987Z"
   },
   {
    "duration": 370,
    "start_time": "2022-05-31T07:03:41.014Z"
   },
   {
    "duration": 24,
    "start_time": "2022-05-31T07:03:41.385Z"
   },
   {
    "duration": 189,
    "start_time": "2022-05-31T07:03:41.411Z"
   },
   {
    "duration": 488,
    "start_time": "2022-05-31T07:03:41.602Z"
   },
   {
    "duration": 453,
    "start_time": "2022-05-31T07:03:42.099Z"
   },
   {
    "duration": 639,
    "start_time": "2022-05-31T07:03:42.553Z"
   },
   {
    "duration": 231,
    "start_time": "2022-05-31T07:03:43.193Z"
   },
   {
    "duration": 1413,
    "start_time": "2022-05-31T07:03:43.425Z"
   },
   {
    "duration": 670,
    "start_time": "2022-05-31T07:03:44.840Z"
   },
   {
    "duration": 1979,
    "start_time": "2022-05-31T07:03:45.512Z"
   },
   {
    "duration": 45,
    "start_time": "2022-05-31T07:03:47.493Z"
   },
   {
    "duration": 233,
    "start_time": "2022-05-31T07:03:47.540Z"
   },
   {
    "duration": 1882,
    "start_time": "2022-05-31T07:03:47.775Z"
   },
   {
    "duration": 2347,
    "start_time": "2022-05-31T07:03:49.659Z"
   },
   {
    "duration": 1887,
    "start_time": "2022-05-31T07:03:52.007Z"
   },
   {
    "duration": 369,
    "start_time": "2022-05-31T07:03:53.895Z"
   },
   {
    "duration": 1252,
    "start_time": "2022-05-31T07:03:54.266Z"
   },
   {
    "duration": 2085,
    "start_time": "2022-05-31T07:03:55.519Z"
   },
   {
    "duration": 248,
    "start_time": "2022-05-31T07:03:57.606Z"
   },
   {
    "duration": 2239,
    "start_time": "2022-05-31T07:03:57.855Z"
   },
   {
    "duration": 1928,
    "start_time": "2022-05-31T07:04:00.095Z"
   },
   {
    "duration": 231,
    "start_time": "2022-05-31T07:04:02.024Z"
   },
   {
    "duration": 1487,
    "start_time": "2022-05-31T07:04:02.257Z"
   },
   {
    "duration": 329,
    "start_time": "2022-05-31T07:04:16.665Z"
   },
   {
    "duration": 23,
    "start_time": "2022-05-31T07:04:23.125Z"
   },
   {
    "duration": 1515,
    "start_time": "2022-05-31T07:05:03.958Z"
   },
   {
    "duration": 1449,
    "start_time": "2022-05-31T07:07:59.518Z"
   },
   {
    "duration": 386,
    "start_time": "2022-05-31T07:28:43.170Z"
   },
   {
    "duration": 8,
    "start_time": "2022-05-31T07:30:00.118Z"
   },
   {
    "duration": 170,
    "start_time": "2022-05-31T07:32:11.718Z"
   },
   {
    "duration": 368,
    "start_time": "2022-05-31T07:32:48.366Z"
   },
   {
    "duration": 225,
    "start_time": "2022-05-31T07:33:17.717Z"
   },
   {
    "duration": 319,
    "start_time": "2022-05-31T07:33:53.192Z"
   },
   {
    "duration": 28,
    "start_time": "2022-05-31T08:06:18.294Z"
   },
   {
    "duration": 352,
    "start_time": "2022-05-31T08:12:35.693Z"
   },
   {
    "duration": 40,
    "start_time": "2022-05-31T08:41:18.430Z"
   },
   {
    "duration": 341,
    "start_time": "2022-05-31T08:41:51.296Z"
   },
   {
    "duration": 21,
    "start_time": "2022-05-31T08:42:28.591Z"
   },
   {
    "duration": 21,
    "start_time": "2022-05-31T08:42:45.895Z"
   },
   {
    "duration": 17,
    "start_time": "2022-05-31T08:44:01.242Z"
   },
   {
    "duration": 22,
    "start_time": "2022-05-31T08:44:23.278Z"
   },
   {
    "duration": 117,
    "start_time": "2022-05-31T08:47:27.936Z"
   },
   {
    "duration": 340,
    "start_time": "2022-05-31T08:48:48.519Z"
   },
   {
    "duration": 431,
    "start_time": "2022-05-31T08:49:59.239Z"
   },
   {
    "duration": 398,
    "start_time": "2022-05-31T08:52:32.279Z"
   },
   {
    "duration": 46,
    "start_time": "2022-05-31T08:54:35.307Z"
   },
   {
    "duration": 209,
    "start_time": "2022-05-31T08:54:58.967Z"
   },
   {
    "duration": 25,
    "start_time": "2022-05-31T09:53:07.437Z"
   },
   {
    "duration": 295,
    "start_time": "2022-05-31T09:53:10.159Z"
   },
   {
    "duration": 445,
    "start_time": "2022-05-31T09:57:55.582Z"
   },
   {
    "duration": 12,
    "start_time": "2022-05-31T10:08:45.891Z"
   },
   {
    "duration": 11,
    "start_time": "2022-05-31T10:08:53.619Z"
   },
   {
    "duration": 455,
    "start_time": "2022-05-31T10:09:06.082Z"
   },
   {
    "duration": 493,
    "start_time": "2022-05-31T10:09:49.182Z"
   },
   {
    "duration": 9,
    "start_time": "2022-05-31T10:12:45.004Z"
   },
   {
    "duration": 11,
    "start_time": "2022-05-31T10:12:50.683Z"
   },
   {
    "duration": 8,
    "start_time": "2022-05-31T10:14:34.484Z"
   },
   {
    "duration": 60,
    "start_time": "2022-05-31T10:14:40.367Z"
   },
   {
    "duration": 18,
    "start_time": "2022-05-31T10:15:29.272Z"
   },
   {
    "duration": 13,
    "start_time": "2022-05-31T10:16:17.529Z"
   },
   {
    "duration": 490,
    "start_time": "2022-05-31T10:17:06.664Z"
   },
   {
    "duration": 125,
    "start_time": "2022-05-31T10:19:27.568Z"
   },
   {
    "duration": 18,
    "start_time": "2022-05-31T10:19:46.677Z"
   },
   {
    "duration": 434,
    "start_time": "2022-05-31T10:20:19.952Z"
   },
   {
    "duration": 501,
    "start_time": "2022-05-31T10:20:38.801Z"
   },
   {
    "duration": 202,
    "start_time": "2022-05-31T10:20:58.884Z"
   },
   {
    "duration": 390,
    "start_time": "2022-05-31T10:21:49.507Z"
   },
   {
    "duration": 491,
    "start_time": "2022-05-31T10:22:21.614Z"
   },
   {
    "duration": 304,
    "start_time": "2022-05-31T10:22:57.698Z"
   },
   {
    "duration": 321,
    "start_time": "2022-05-31T10:23:27.695Z"
   },
   {
    "duration": 376,
    "start_time": "2022-05-31T10:23:36.873Z"
   },
   {
    "duration": 417,
    "start_time": "2022-05-31T10:24:41.793Z"
   },
   {
    "duration": 514,
    "start_time": "2022-05-31T10:25:08.308Z"
   },
   {
    "duration": 386,
    "start_time": "2022-05-31T10:25:26.130Z"
   },
   {
    "duration": 383,
    "start_time": "2022-05-31T10:25:47.023Z"
   },
   {
    "duration": 380,
    "start_time": "2022-05-31T10:25:54.383Z"
   },
   {
    "duration": 496,
    "start_time": "2022-05-31T10:26:26.314Z"
   },
   {
    "duration": 500,
    "start_time": "2022-05-31T10:26:35.378Z"
   },
   {
    "duration": 664,
    "start_time": "2022-05-31T10:26:51.937Z"
   },
   {
    "duration": 476,
    "start_time": "2022-05-31T10:27:58.367Z"
   },
   {
    "duration": 426,
    "start_time": "2022-05-31T10:28:28.714Z"
   },
   {
    "duration": 427,
    "start_time": "2022-05-31T10:29:43.763Z"
   },
   {
    "duration": 577,
    "start_time": "2022-05-31T10:29:57.722Z"
   },
   {
    "duration": 569,
    "start_time": "2022-05-31T10:30:58.447Z"
   },
   {
    "duration": 691,
    "start_time": "2022-05-31T10:31:13.728Z"
   },
   {
    "duration": 135,
    "start_time": "2022-05-31T10:36:33.015Z"
   },
   {
    "duration": 22,
    "start_time": "2022-05-31T10:37:06.323Z"
   },
   {
    "duration": 20,
    "start_time": "2022-05-31T10:37:15.732Z"
   },
   {
    "duration": 18,
    "start_time": "2022-05-31T10:37:27.145Z"
   },
   {
    "duration": 17,
    "start_time": "2022-05-31T10:37:35.692Z"
   },
   {
    "duration": 48,
    "start_time": "2022-05-31T10:37:57.592Z"
   },
   {
    "duration": 10,
    "start_time": "2022-05-31T10:38:05.376Z"
   },
   {
    "duration": 548,
    "start_time": "2022-05-31T10:40:46.135Z"
   },
   {
    "duration": 576,
    "start_time": "2022-05-31T10:41:09.945Z"
   },
   {
    "duration": 293,
    "start_time": "2022-05-31T12:51:56.510Z"
   },
   {
    "duration": 266,
    "start_time": "2022-05-31T12:53:31.269Z"
   },
   {
    "duration": 277,
    "start_time": "2022-05-31T12:53:44.953Z"
   },
   {
    "duration": 261,
    "start_time": "2022-05-31T12:54:29.774Z"
   },
   {
    "duration": 262,
    "start_time": "2022-05-31T12:54:51.117Z"
   },
   {
    "duration": 276,
    "start_time": "2022-05-31T12:55:20.085Z"
   },
   {
    "duration": 270,
    "start_time": "2022-05-31T12:55:45.958Z"
   },
   {
    "duration": 281,
    "start_time": "2022-05-31T12:56:07.509Z"
   },
   {
    "duration": 263,
    "start_time": "2022-05-31T12:59:09.040Z"
   },
   {
    "duration": 254,
    "start_time": "2022-05-31T12:59:45.998Z"
   },
   {
    "duration": 1501,
    "start_time": "2022-05-31T13:00:02.632Z"
   },
   {
    "duration": 284,
    "start_time": "2022-05-31T13:08:15.806Z"
   },
   {
    "duration": 275,
    "start_time": "2022-05-31T13:08:31.282Z"
   },
   {
    "duration": 264,
    "start_time": "2022-05-31T13:08:43.490Z"
   },
   {
    "duration": 278,
    "start_time": "2022-05-31T13:09:15.373Z"
   },
   {
    "duration": 1865,
    "start_time": "2022-05-31T13:09:47.294Z"
   },
   {
    "duration": 594,
    "start_time": "2022-05-31T13:13:21.871Z"
   },
   {
    "duration": 1559,
    "start_time": "2022-05-31T13:14:12.054Z"
   },
   {
    "duration": 679,
    "start_time": "2022-05-31T13:15:32.222Z"
   },
   {
    "duration": 558,
    "start_time": "2022-05-31T13:15:42.045Z"
   },
   {
    "duration": 567,
    "start_time": "2022-05-31T13:16:00.788Z"
   },
   {
    "duration": 667,
    "start_time": "2022-05-31T13:16:50.037Z"
   },
   {
    "duration": 557,
    "start_time": "2022-05-31T13:16:59.435Z"
   },
   {
    "duration": 1986,
    "start_time": "2022-05-31T13:32:34.098Z"
   },
   {
    "duration": 555,
    "start_time": "2022-05-31T13:33:35.314Z"
   },
   {
    "duration": 226,
    "start_time": "2022-05-31T13:40:10.286Z"
   },
   {
    "duration": 665,
    "start_time": "2022-05-31T13:40:46.051Z"
   },
   {
    "duration": 624,
    "start_time": "2022-05-31T13:41:01.664Z"
   },
   {
    "duration": 380,
    "start_time": "2022-05-31T13:41:19.533Z"
   },
   {
    "duration": 6,
    "start_time": "2022-05-31T13:44:01.743Z"
   },
   {
    "duration": 8,
    "start_time": "2022-05-31T13:44:06.461Z"
   },
   {
    "duration": 1570,
    "start_time": "2022-05-31T13:44:13.733Z"
   },
   {
    "duration": 6,
    "start_time": "2022-05-31T13:44:44.940Z"
   },
   {
    "duration": 7,
    "start_time": "2022-05-31T13:44:53.296Z"
   },
   {
    "duration": 1566,
    "start_time": "2022-05-31T13:44:59.139Z"
   },
   {
    "duration": 126,
    "start_time": "2022-05-31T13:46:32.969Z"
   },
   {
    "duration": 19,
    "start_time": "2022-05-31T13:46:45.128Z"
   },
   {
    "duration": 5,
    "start_time": "2022-05-31T13:47:36.860Z"
   },
   {
    "duration": 1536,
    "start_time": "2022-05-31T13:47:48.640Z"
   },
   {
    "duration": 6,
    "start_time": "2022-05-31T13:48:17.132Z"
   },
   {
    "duration": 1244,
    "start_time": "2022-05-31T13:48:22.333Z"
   },
   {
    "duration": 254,
    "start_time": "2022-05-31T13:48:45.456Z"
   },
   {
    "duration": 1999,
    "start_time": "2022-05-31T13:48:47.331Z"
   },
   {
    "duration": 223,
    "start_time": "2022-05-31T13:50:06.884Z"
   },
   {
    "duration": 1243,
    "start_time": "2022-05-31T13:50:08.156Z"
   },
   {
    "duration": 1650,
    "start_time": "2022-05-31T13:51:40.253Z"
   },
   {
    "duration": 224,
    "start_time": "2022-05-31T13:52:29.637Z"
   },
   {
    "duration": 1275,
    "start_time": "2022-05-31T13:52:31.233Z"
   },
   {
    "duration": 1738,
    "start_time": "2022-05-31T13:53:20.320Z"
   },
   {
    "duration": 2,
    "start_time": "2022-05-31T13:59:59.465Z"
   },
   {
    "duration": 29,
    "start_time": "2022-05-31T15:00:59.684Z"
   },
   {
    "duration": 273,
    "start_time": "2022-05-31T15:01:09.885Z"
   },
   {
    "duration": 264,
    "start_time": "2022-05-31T15:02:58.584Z"
   },
   {
    "duration": 488,
    "start_time": "2022-05-31T15:08:31.092Z"
   },
   {
    "duration": 1827,
    "start_time": "2022-05-31T15:08:54.158Z"
   },
   {
    "duration": 730,
    "start_time": "2022-05-31T15:09:18.829Z"
   },
   {
    "duration": 639,
    "start_time": "2022-05-31T15:10:16.990Z"
   },
   {
    "duration": 652,
    "start_time": "2022-05-31T15:10:26.084Z"
   },
   {
    "duration": 1865,
    "start_time": "2022-05-31T15:11:00.023Z"
   },
   {
    "duration": 1929,
    "start_time": "2022-05-31T15:11:19.070Z"
   },
   {
    "duration": 37,
    "start_time": "2022-05-31T15:12:16.702Z"
   },
   {
    "duration": 1894,
    "start_time": "2022-05-31T15:12:22.912Z"
   },
   {
    "duration": 1491,
    "start_time": "2022-05-31T15:13:09.572Z"
   },
   {
    "duration": 156,
    "start_time": "2022-05-31T15:14:19.807Z"
   },
   {
    "duration": 5,
    "start_time": "2022-05-31T15:14:47.008Z"
   },
   {
    "duration": 4,
    "start_time": "2022-05-31T15:14:55.486Z"
   },
   {
    "duration": 4,
    "start_time": "2022-05-31T15:15:03.714Z"
   },
   {
    "duration": 4,
    "start_time": "2022-05-31T15:15:17.788Z"
   },
   {
    "duration": 4,
    "start_time": "2022-05-31T15:15:38.504Z"
   },
   {
    "duration": 5,
    "start_time": "2022-05-31T15:16:13.672Z"
   },
   {
    "duration": 10,
    "start_time": "2022-05-31T15:16:23.931Z"
   },
   {
    "duration": 4,
    "start_time": "2022-05-31T15:16:32.299Z"
   },
   {
    "duration": 10,
    "start_time": "2022-05-31T15:16:35.838Z"
   },
   {
    "duration": 9,
    "start_time": "2022-05-31T15:16:42.667Z"
   },
   {
    "duration": 4,
    "start_time": "2022-05-31T15:19:02.619Z"
   },
   {
    "duration": 5,
    "start_time": "2022-05-31T15:19:12.360Z"
   },
   {
    "duration": 5,
    "start_time": "2022-05-31T15:19:21.402Z"
   },
   {
    "duration": 5,
    "start_time": "2022-05-31T15:19:27.304Z"
   },
   {
    "duration": 4,
    "start_time": "2022-05-31T15:19:38.478Z"
   },
   {
    "duration": 8,
    "start_time": "2022-05-31T15:20:06.247Z"
   },
   {
    "duration": 28,
    "start_time": "2022-05-31T15:20:17.019Z"
   },
   {
    "duration": 4,
    "start_time": "2022-05-31T15:20:21.491Z"
   },
   {
    "duration": 4,
    "start_time": "2022-05-31T15:20:30.747Z"
   },
   {
    "duration": 5,
    "start_time": "2022-05-31T15:20:35.487Z"
   },
   {
    "duration": 9,
    "start_time": "2022-05-31T15:20:56.101Z"
   },
   {
    "duration": 39,
    "start_time": "2022-05-31T15:21:50.748Z"
   },
   {
    "duration": 13,
    "start_time": "2022-05-31T15:25:03.687Z"
   },
   {
    "duration": 10,
    "start_time": "2022-05-31T15:29:53.816Z"
   },
   {
    "duration": 4,
    "start_time": "2022-05-31T15:30:00.488Z"
   },
   {
    "duration": 9,
    "start_time": "2022-05-31T15:30:06.910Z"
   },
   {
    "duration": 6,
    "start_time": "2022-05-31T15:30:12.364Z"
   },
   {
    "duration": 32,
    "start_time": "2022-05-31T15:30:39.348Z"
   },
   {
    "duration": 18,
    "start_time": "2022-05-31T15:30:43.168Z"
   },
   {
    "duration": 1194,
    "start_time": "2022-05-31T15:31:01.794Z"
   },
   {
    "duration": 8,
    "start_time": "2022-05-31T16:14:44.626Z"
   },
   {
    "duration": 8,
    "start_time": "2022-05-31T16:16:22.406Z"
   },
   {
    "duration": 74,
    "start_time": "2022-05-31T16:16:27.157Z"
   },
   {
    "duration": 59,
    "start_time": "2022-05-31T16:16:51.350Z"
   },
   {
    "duration": 613,
    "start_time": "2022-05-31T16:17:53.803Z"
   },
   {
    "duration": 48,
    "start_time": "2022-05-31T16:18:44.015Z"
   },
   {
    "duration": 47,
    "start_time": "2022-05-31T16:19:05.785Z"
   },
   {
    "duration": 4602,
    "start_time": "2022-05-31T16:19:48.492Z"
   },
   {
    "duration": 41,
    "start_time": "2022-05-31T16:20:12.416Z"
   },
   {
    "duration": 50,
    "start_time": "2022-05-31T16:20:30.795Z"
   },
   {
    "duration": 911,
    "start_time": "2022-05-31T16:20:56.338Z"
   },
   {
    "duration": 748,
    "start_time": "2022-05-31T16:24:37.322Z"
   },
   {
    "duration": 107,
    "start_time": "2022-05-31T16:26:23.381Z"
   },
   {
    "duration": 109,
    "start_time": "2022-05-31T16:26:32.497Z"
   },
   {
    "duration": 667,
    "start_time": "2022-05-31T16:26:46.540Z"
   },
   {
    "duration": 794,
    "start_time": "2022-05-31T16:27:42.593Z"
   },
   {
    "duration": 1018,
    "start_time": "2022-05-31T16:28:01.244Z"
   },
   {
    "duration": 580,
    "start_time": "2022-05-31T16:28:25.691Z"
   },
   {
    "duration": 521,
    "start_time": "2022-05-31T16:28:41.039Z"
   },
   {
    "duration": 625,
    "start_time": "2022-05-31T16:30:01.766Z"
   },
   {
    "duration": 564,
    "start_time": "2022-05-31T16:30:29.928Z"
   },
   {
    "duration": 24,
    "start_time": "2022-05-31T16:31:27.396Z"
   },
   {
    "duration": 22,
    "start_time": "2022-05-31T16:32:08.928Z"
   },
   {
    "duration": 588,
    "start_time": "2022-05-31T16:32:24.499Z"
   },
   {
    "duration": 22,
    "start_time": "2022-05-31T16:33:53.116Z"
   },
   {
    "duration": 590,
    "start_time": "2022-05-31T16:35:31.792Z"
   },
   {
    "duration": 541,
    "start_time": "2022-05-31T16:35:57.234Z"
   },
   {
    "duration": 555,
    "start_time": "2022-05-31T16:36:27.515Z"
   },
   {
    "duration": 551,
    "start_time": "2022-05-31T16:37:42.029Z"
   },
   {
    "duration": 542,
    "start_time": "2022-05-31T16:51:58.729Z"
   },
   {
    "duration": 83,
    "start_time": "2022-06-01T09:20:28.835Z"
   },
   {
    "duration": 2026,
    "start_time": "2022-06-01T09:20:53.804Z"
   },
   {
    "duration": 3,
    "start_time": "2022-06-01T09:20:55.832Z"
   },
   {
    "duration": 989,
    "start_time": "2022-06-01T09:20:55.837Z"
   },
   {
    "duration": 89,
    "start_time": "2022-06-01T09:20:56.828Z"
   },
   {
    "duration": 53,
    "start_time": "2022-06-01T09:20:56.919Z"
   },
   {
    "duration": 8,
    "start_time": "2022-06-01T09:20:56.974Z"
   },
   {
    "duration": 252,
    "start_time": "2022-06-01T09:20:56.984Z"
   },
   {
    "duration": 180,
    "start_time": "2022-06-01T09:20:57.239Z"
   },
   {
    "duration": 9,
    "start_time": "2022-06-01T09:20:57.421Z"
   },
   {
    "duration": 20,
    "start_time": "2022-06-01T09:20:57.433Z"
   },
   {
    "duration": 12,
    "start_time": "2022-06-01T09:20:57.455Z"
   },
   {
    "duration": 26,
    "start_time": "2022-06-01T09:20:57.470Z"
   },
   {
    "duration": 19,
    "start_time": "2022-06-01T09:20:57.497Z"
   },
   {
    "duration": 15,
    "start_time": "2022-06-01T09:20:57.518Z"
   },
   {
    "duration": 15,
    "start_time": "2022-06-01T09:20:57.535Z"
   },
   {
    "duration": 19,
    "start_time": "2022-06-01T09:20:57.552Z"
   },
   {
    "duration": 533,
    "start_time": "2022-06-01T09:20:57.573Z"
   },
   {
    "duration": 23,
    "start_time": "2022-06-01T09:20:58.108Z"
   },
   {
    "duration": 49,
    "start_time": "2022-06-01T09:20:58.132Z"
   },
   {
    "duration": 213,
    "start_time": "2022-06-01T09:20:58.183Z"
   },
   {
    "duration": 23,
    "start_time": "2022-06-01T09:20:58.399Z"
   },
   {
    "duration": 274,
    "start_time": "2022-06-01T09:20:58.423Z"
   },
   {
    "duration": 22,
    "start_time": "2022-06-01T09:20:58.699Z"
   },
   {
    "duration": 488,
    "start_time": "2022-06-01T09:20:58.723Z"
   },
   {
    "duration": 531,
    "start_time": "2022-06-01T09:20:59.213Z"
   },
   {
    "duration": 532,
    "start_time": "2022-06-01T09:20:59.746Z"
   },
   {
    "duration": 26,
    "start_time": "2022-06-01T09:21:00.280Z"
   },
   {
    "duration": 692,
    "start_time": "2022-06-01T09:21:00.312Z"
   },
   {
    "duration": 31,
    "start_time": "2022-06-01T09:21:01.007Z"
   },
   {
    "duration": 265,
    "start_time": "2022-06-01T09:21:01.040Z"
   },
   {
    "duration": 841,
    "start_time": "2022-06-01T09:21:01.307Z"
   },
   {
    "duration": 294,
    "start_time": "2022-06-01T09:21:02.150Z"
   },
   {
    "duration": 2670,
    "start_time": "2022-06-01T09:21:02.447Z"
   },
   {
    "duration": 828,
    "start_time": "2022-06-01T09:21:05.119Z"
   },
   {
    "duration": 2236,
    "start_time": "2022-06-01T09:21:05.950Z"
   },
   {
    "duration": 45,
    "start_time": "2022-06-01T09:21:08.188Z"
   },
   {
    "duration": 259,
    "start_time": "2022-06-01T09:21:08.264Z"
   },
   {
    "duration": 718,
    "start_time": "2022-06-01T09:21:08.525Z"
   },
   {
    "duration": 2251,
    "start_time": "2022-06-01T09:21:09.245Z"
   },
   {
    "duration": 791,
    "start_time": "2022-06-01T09:21:11.497Z"
   },
   {
    "duration": 442,
    "start_time": "2022-06-01T09:21:12.289Z"
   },
   {
    "duration": 1271,
    "start_time": "2022-06-01T09:21:12.732Z"
   },
   {
    "duration": 2583,
    "start_time": "2022-06-01T09:21:14.005Z"
   },
   {
    "duration": 333,
    "start_time": "2022-06-01T09:21:16.590Z"
   },
   {
    "duration": 2256,
    "start_time": "2022-06-01T09:21:16.924Z"
   },
   {
    "duration": 590,
    "start_time": "2022-06-01T09:21:19.181Z"
   },
   {
    "duration": 1192,
    "start_time": "2022-06-01T09:21:19.773Z"
   },
   {
    "duration": 1904,
    "start_time": "2022-06-01T09:21:20.967Z"
   },
   {
    "duration": 306,
    "start_time": "2022-06-01T09:21:22.873Z"
   },
   {
    "duration": 1392,
    "start_time": "2022-06-01T09:21:23.181Z"
   },
   {
    "duration": 1826,
    "start_time": "2022-06-01T09:21:24.575Z"
   },
   {
    "duration": 468,
    "start_time": "2022-06-01T09:21:26.404Z"
   },
   {
    "duration": 1504,
    "start_time": "2022-06-01T09:21:26.873Z"
   },
   {
    "duration": 298,
    "start_time": "2022-06-01T09:21:28.379Z"
   },
   {
    "duration": 1965,
    "start_time": "2022-06-01T09:21:28.679Z"
   },
   {
    "duration": 11,
    "start_time": "2022-06-01T09:22:08.651Z"
   },
   {
    "duration": 5,
    "start_time": "2022-06-01T09:22:28.540Z"
   },
   {
    "duration": 9,
    "start_time": "2022-06-01T09:23:17.670Z"
   },
   {
    "duration": 5,
    "start_time": "2022-06-01T09:23:32.119Z"
   },
   {
    "duration": 1757,
    "start_time": "2022-06-01T10:00:07.478Z"
   },
   {
    "duration": 3,
    "start_time": "2022-06-01T10:00:09.238Z"
   },
   {
    "duration": 698,
    "start_time": "2022-06-01T10:00:09.242Z"
   },
   {
    "duration": 92,
    "start_time": "2022-06-01T10:00:09.943Z"
   },
   {
    "duration": 56,
    "start_time": "2022-06-01T10:00:10.037Z"
   },
   {
    "duration": 8,
    "start_time": "2022-06-01T10:00:10.095Z"
   },
   {
    "duration": 263,
    "start_time": "2022-06-01T10:00:10.107Z"
   },
   {
    "duration": 155,
    "start_time": "2022-06-01T10:00:10.372Z"
   },
   {
    "duration": 7,
    "start_time": "2022-06-01T10:00:10.529Z"
   },
   {
    "duration": 13,
    "start_time": "2022-06-01T10:00:10.539Z"
   },
   {
    "duration": 17,
    "start_time": "2022-06-01T10:00:10.554Z"
   },
   {
    "duration": 14,
    "start_time": "2022-06-01T10:00:10.574Z"
   },
   {
    "duration": 11,
    "start_time": "2022-06-01T10:00:10.590Z"
   },
   {
    "duration": 12,
    "start_time": "2022-06-01T10:00:10.603Z"
   },
   {
    "duration": 17,
    "start_time": "2022-06-01T10:00:10.617Z"
   },
   {
    "duration": 29,
    "start_time": "2022-06-01T10:00:10.636Z"
   },
   {
    "duration": 557,
    "start_time": "2022-06-01T10:00:10.667Z"
   },
   {
    "duration": 29,
    "start_time": "2022-06-01T10:00:11.226Z"
   },
   {
    "duration": 32,
    "start_time": "2022-06-01T10:00:11.266Z"
   },
   {
    "duration": 243,
    "start_time": "2022-06-01T10:00:11.300Z"
   },
   {
    "duration": 36,
    "start_time": "2022-06-01T10:00:11.545Z"
   },
   {
    "duration": 292,
    "start_time": "2022-06-01T10:00:11.583Z"
   },
   {
    "duration": 23,
    "start_time": "2022-06-01T10:00:11.877Z"
   },
   {
    "duration": 441,
    "start_time": "2022-06-01T10:00:11.902Z"
   },
   {
    "duration": 529,
    "start_time": "2022-06-01T10:00:12.345Z"
   },
   {
    "duration": 536,
    "start_time": "2022-06-01T10:00:12.875Z"
   },
   {
    "duration": 25,
    "start_time": "2022-06-01T10:00:13.412Z"
   },
   {
    "duration": 628,
    "start_time": "2022-06-01T10:00:13.441Z"
   },
   {
    "duration": 27,
    "start_time": "2022-06-01T10:00:14.071Z"
   },
   {
    "duration": 217,
    "start_time": "2022-06-01T10:00:14.100Z"
   },
   {
    "duration": 787,
    "start_time": "2022-06-01T10:00:14.319Z"
   },
   {
    "duration": 273,
    "start_time": "2022-06-01T10:00:15.108Z"
   },
   {
    "duration": 1952,
    "start_time": "2022-06-01T10:00:15.383Z"
   },
   {
    "duration": 944,
    "start_time": "2022-06-01T10:00:17.337Z"
   },
   {
    "duration": 2691,
    "start_time": "2022-06-01T10:00:18.283Z"
   },
   {
    "duration": 103,
    "start_time": "2022-06-01T10:00:20.976Z"
   },
   {
    "duration": 287,
    "start_time": "2022-06-01T10:00:21.081Z"
   },
   {
    "duration": 874,
    "start_time": "2022-06-01T10:00:21.370Z"
   },
   {
    "duration": 2659,
    "start_time": "2022-06-01T10:00:22.246Z"
   },
   {
    "duration": 818,
    "start_time": "2022-06-01T10:00:24.907Z"
   },
   {
    "duration": 468,
    "start_time": "2022-06-01T10:00:25.727Z"
   },
   {
    "duration": 1359,
    "start_time": "2022-06-01T10:00:26.196Z"
   },
   {
    "duration": 2788,
    "start_time": "2022-06-01T10:00:27.557Z"
   },
   {
    "duration": 347,
    "start_time": "2022-06-01T10:00:30.347Z"
   },
   {
    "duration": 2285,
    "start_time": "2022-06-01T10:00:30.696Z"
   },
   {
    "duration": 592,
    "start_time": "2022-06-01T10:00:32.983Z"
   },
   {
    "duration": 1281,
    "start_time": "2022-06-01T10:00:33.577Z"
   },
   {
    "duration": 1952,
    "start_time": "2022-06-01T10:00:34.860Z"
   },
   {
    "duration": 283,
    "start_time": "2022-06-01T10:00:36.814Z"
   },
   {
    "duration": 1510,
    "start_time": "2022-06-01T10:00:37.100Z"
   },
   {
    "duration": 1870,
    "start_time": "2022-06-01T10:00:38.613Z"
   },
   {
    "duration": 447,
    "start_time": "2022-06-01T10:00:40.485Z"
   },
   {
    "duration": 1461,
    "start_time": "2022-06-01T10:00:40.935Z"
   },
   {
    "duration": 296,
    "start_time": "2022-06-01T10:00:42.399Z"
   },
   {
    "duration": 1808,
    "start_time": "2022-06-01T10:00:42.697Z"
   },
   {
    "duration": 13,
    "start_time": "2022-06-01T10:04:33.569Z"
   },
   {
    "duration": 8,
    "start_time": "2022-06-01T10:04:42.673Z"
   },
   {
    "duration": 143,
    "start_time": "2022-06-01T10:07:06.361Z"
   },
   {
    "duration": 264,
    "start_time": "2022-06-01T10:07:44.968Z"
   },
   {
    "duration": 1886,
    "start_time": "2022-06-01T10:08:17.643Z"
   },
   {
    "duration": 641,
    "start_time": "2022-06-01T10:09:16.239Z"
   },
   {
    "duration": 626,
    "start_time": "2022-06-01T10:09:30.341Z"
   },
   {
    "duration": 1240,
    "start_time": "2022-06-01T10:10:34.469Z"
   },
   {
    "duration": 3,
    "start_time": "2022-06-01T10:10:35.711Z"
   },
   {
    "duration": 693,
    "start_time": "2022-06-01T10:10:35.716Z"
   },
   {
    "duration": 88,
    "start_time": "2022-06-01T10:10:36.412Z"
   },
   {
    "duration": 31,
    "start_time": "2022-06-01T10:10:36.502Z"
   },
   {
    "duration": 35,
    "start_time": "2022-06-01T10:10:36.535Z"
   },
   {
    "duration": 242,
    "start_time": "2022-06-01T10:10:36.572Z"
   },
   {
    "duration": 161,
    "start_time": "2022-06-01T10:10:36.815Z"
   },
   {
    "duration": 7,
    "start_time": "2022-06-01T10:10:36.978Z"
   },
   {
    "duration": 11,
    "start_time": "2022-06-01T10:10:36.987Z"
   },
   {
    "duration": 22,
    "start_time": "2022-06-01T10:10:37.000Z"
   },
   {
    "duration": 34,
    "start_time": "2022-06-01T10:10:37.024Z"
   },
   {
    "duration": 18,
    "start_time": "2022-06-01T10:10:37.059Z"
   },
   {
    "duration": 12,
    "start_time": "2022-06-01T10:10:37.079Z"
   },
   {
    "duration": 22,
    "start_time": "2022-06-01T10:10:37.093Z"
   },
   {
    "duration": 22,
    "start_time": "2022-06-01T10:10:37.117Z"
   },
   {
    "duration": 535,
    "start_time": "2022-06-01T10:10:37.140Z"
   },
   {
    "duration": 23,
    "start_time": "2022-06-01T10:10:37.677Z"
   },
   {
    "duration": 22,
    "start_time": "2022-06-01T10:10:37.702Z"
   },
   {
    "duration": 225,
    "start_time": "2022-06-01T10:10:37.725Z"
   },
   {
    "duration": 23,
    "start_time": "2022-06-01T10:10:37.952Z"
   },
   {
    "duration": 269,
    "start_time": "2022-06-01T10:10:37.977Z"
   },
   {
    "duration": 29,
    "start_time": "2022-06-01T10:10:38.247Z"
   },
   {
    "duration": 413,
    "start_time": "2022-06-01T10:10:38.278Z"
   },
   {
    "duration": 601,
    "start_time": "2022-06-01T10:10:38.693Z"
   },
   {
    "duration": 516,
    "start_time": "2022-06-01T10:10:39.296Z"
   },
   {
    "duration": 624,
    "start_time": "2022-06-01T10:10:39.814Z"
   },
   {
    "duration": 34,
    "start_time": "2022-06-01T10:10:40.442Z"
   },
   {
    "duration": 217,
    "start_time": "2022-06-01T10:10:40.477Z"
   },
   {
    "duration": 706,
    "start_time": "2022-06-01T10:10:40.696Z"
   },
   {
    "duration": 260,
    "start_time": "2022-06-01T10:10:41.404Z"
   },
   {
    "duration": 1709,
    "start_time": "2022-06-01T10:10:41.667Z"
   },
   {
    "duration": 886,
    "start_time": "2022-06-01T10:10:43.378Z"
   },
   {
    "duration": 2316,
    "start_time": "2022-06-01T10:10:44.268Z"
   },
   {
    "duration": 43,
    "start_time": "2022-06-01T10:10:46.586Z"
   },
   {
    "duration": 275,
    "start_time": "2022-06-01T10:10:46.632Z"
   },
   {
    "duration": 705,
    "start_time": "2022-06-01T10:10:46.909Z"
   },
   {
    "duration": 2316,
    "start_time": "2022-06-01T10:10:47.616Z"
   },
   {
    "duration": 755,
    "start_time": "2022-06-01T10:10:49.934Z"
   },
   {
    "duration": 447,
    "start_time": "2022-06-01T10:10:50.691Z"
   },
   {
    "duration": 1270,
    "start_time": "2022-06-01T10:10:51.140Z"
   },
   {
    "duration": 2537,
    "start_time": "2022-06-01T10:10:52.412Z"
   },
   {
    "duration": 295,
    "start_time": "2022-06-01T10:10:54.951Z"
   },
   {
    "duration": 2145,
    "start_time": "2022-06-01T10:10:55.248Z"
   },
   {
    "duration": 592,
    "start_time": "2022-06-01T10:10:57.395Z"
   },
   {
    "duration": 1263,
    "start_time": "2022-06-01T10:10:57.989Z"
   },
   {
    "duration": 1858,
    "start_time": "2022-06-01T10:10:59.255Z"
   },
   {
    "duration": 315,
    "start_time": "2022-06-01T10:11:01.116Z"
   },
   {
    "duration": 1527,
    "start_time": "2022-06-01T10:11:01.433Z"
   },
   {
    "duration": 1955,
    "start_time": "2022-06-01T10:11:02.964Z"
   },
   {
    "duration": 413,
    "start_time": "2022-06-01T10:11:04.921Z"
   },
   {
    "duration": 1449,
    "start_time": "2022-06-01T10:11:05.335Z"
   },
   {
    "duration": 283,
    "start_time": "2022-06-01T10:11:06.786Z"
   },
   {
    "duration": 1841,
    "start_time": "2022-06-01T10:11:07.071Z"
   },
   {
    "duration": 62,
    "start_time": "2022-06-02T07:29:15.516Z"
   },
   {
    "duration": 1850,
    "start_time": "2022-06-02T07:29:21.094Z"
   },
   {
    "duration": 3,
    "start_time": "2022-06-02T07:29:22.946Z"
   },
   {
    "duration": 915,
    "start_time": "2022-06-02T07:29:22.950Z"
   },
   {
    "duration": 97,
    "start_time": "2022-06-02T07:29:23.868Z"
   },
   {
    "duration": 31,
    "start_time": "2022-06-02T07:29:23.967Z"
   },
   {
    "duration": 28,
    "start_time": "2022-06-02T07:29:24.000Z"
   },
   {
    "duration": 226,
    "start_time": "2022-06-02T07:29:24.030Z"
   },
   {
    "duration": 147,
    "start_time": "2022-06-02T07:29:24.258Z"
   },
   {
    "duration": 8,
    "start_time": "2022-06-02T07:29:24.406Z"
   },
   {
    "duration": 8,
    "start_time": "2022-06-02T07:29:24.426Z"
   },
   {
    "duration": 20,
    "start_time": "2022-06-02T07:29:24.436Z"
   },
   {
    "duration": 11,
    "start_time": "2022-06-02T07:29:24.458Z"
   },
   {
    "duration": 11,
    "start_time": "2022-06-02T07:29:24.470Z"
   },
   {
    "duration": 10,
    "start_time": "2022-06-02T07:29:24.483Z"
   },
   {
    "duration": 17,
    "start_time": "2022-06-02T07:29:24.495Z"
   },
   {
    "duration": 21,
    "start_time": "2022-06-02T07:29:24.515Z"
   },
   {
    "duration": 511,
    "start_time": "2022-06-02T07:29:24.538Z"
   },
   {
    "duration": 23,
    "start_time": "2022-06-02T07:29:25.051Z"
   },
   {
    "duration": 26,
    "start_time": "2022-06-02T07:29:25.076Z"
   },
   {
    "duration": 219,
    "start_time": "2022-06-02T07:29:25.104Z"
   },
   {
    "duration": 20,
    "start_time": "2022-06-02T07:29:25.327Z"
   },
   {
    "duration": 252,
    "start_time": "2022-06-02T07:29:25.348Z"
   },
   {
    "duration": 32,
    "start_time": "2022-06-02T07:29:25.602Z"
   },
   {
    "duration": 356,
    "start_time": "2022-06-02T07:29:25.635Z"
   },
   {
    "duration": 642,
    "start_time": "2022-06-02T07:29:25.992Z"
   },
   {
    "duration": 477,
    "start_time": "2022-06-02T07:29:26.636Z"
   },
   {
    "duration": 615,
    "start_time": "2022-06-02T07:29:27.115Z"
   },
   {
    "duration": 23,
    "start_time": "2022-06-02T07:29:27.735Z"
   },
   {
    "duration": 202,
    "start_time": "2022-06-02T07:29:27.760Z"
   },
   {
    "duration": 771,
    "start_time": "2022-06-02T07:29:27.964Z"
   },
   {
    "duration": 253,
    "start_time": "2022-06-02T07:29:28.737Z"
   },
   {
    "duration": 1632,
    "start_time": "2022-06-02T07:29:28.992Z"
   },
   {
    "duration": 767,
    "start_time": "2022-06-02T07:29:30.626Z"
   },
   {
    "duration": 2186,
    "start_time": "2022-06-02T07:29:31.395Z"
   },
   {
    "duration": 69,
    "start_time": "2022-06-02T07:29:33.583Z"
   },
   {
    "duration": 273,
    "start_time": "2022-06-02T07:29:33.655Z"
   },
   {
    "duration": 561,
    "start_time": "2022-06-02T07:29:33.930Z"
   },
   {
    "duration": 2228,
    "start_time": "2022-06-02T07:29:34.493Z"
   },
   {
    "duration": 709,
    "start_time": "2022-06-02T07:29:36.728Z"
   },
   {
    "duration": 420,
    "start_time": "2022-06-02T07:29:37.439Z"
   },
   {
    "duration": 1581,
    "start_time": "2022-06-02T07:29:37.861Z"
   },
   {
    "duration": 2943,
    "start_time": "2022-06-02T07:29:39.444Z"
   },
   {
    "duration": 289,
    "start_time": "2022-06-02T07:29:42.389Z"
   },
   {
    "duration": 2088,
    "start_time": "2022-06-02T07:29:42.679Z"
   },
   {
    "duration": 579,
    "start_time": "2022-06-02T07:29:44.769Z"
   },
   {
    "duration": 1196,
    "start_time": "2022-06-02T07:29:45.351Z"
   },
   {
    "duration": 1982,
    "start_time": "2022-06-02T07:29:46.549Z"
   },
   {
    "duration": 526,
    "start_time": "2022-06-02T07:29:48.533Z"
   },
   {
    "duration": 1840,
    "start_time": "2022-06-02T07:29:49.061Z"
   },
   {
    "duration": 1670,
    "start_time": "2022-06-02T07:29:50.903Z"
   },
   {
    "duration": 372,
    "start_time": "2022-06-02T07:29:52.575Z"
   },
   {
    "duration": 1336,
    "start_time": "2022-06-02T07:29:52.949Z"
   },
   {
    "duration": 241,
    "start_time": "2022-06-02T07:29:54.286Z"
   },
   {
    "duration": 1621,
    "start_time": "2022-06-02T07:29:54.528Z"
   },
   {
    "duration": 35,
    "start_time": "2022-06-02T07:51:05.952Z"
   },
   {
    "duration": 67,
    "start_time": "2022-06-02T08:37:59.816Z"
   },
   {
    "duration": 1664,
    "start_time": "2022-06-02T08:38:06.821Z"
   },
   {
    "duration": 3,
    "start_time": "2022-06-02T08:38:08.488Z"
   },
   {
    "duration": 1002,
    "start_time": "2022-06-02T08:38:08.492Z"
   },
   {
    "duration": 95,
    "start_time": "2022-06-02T08:38:09.496Z"
   },
   {
    "duration": 55,
    "start_time": "2022-06-02T08:38:09.592Z"
   },
   {
    "duration": 7,
    "start_time": "2022-06-02T08:38:09.649Z"
   },
   {
    "duration": 241,
    "start_time": "2022-06-02T08:38:09.658Z"
   },
   {
    "duration": 167,
    "start_time": "2022-06-02T08:38:09.901Z"
   },
   {
    "duration": 7,
    "start_time": "2022-06-02T08:38:10.069Z"
   },
   {
    "duration": 10,
    "start_time": "2022-06-02T08:38:10.079Z"
   },
   {
    "duration": 10,
    "start_time": "2022-06-02T08:38:10.091Z"
   },
   {
    "duration": 26,
    "start_time": "2022-06-02T08:38:10.103Z"
   },
   {
    "duration": 25,
    "start_time": "2022-06-02T08:38:10.131Z"
   },
   {
    "duration": 13,
    "start_time": "2022-06-02T08:38:10.158Z"
   },
   {
    "duration": 11,
    "start_time": "2022-06-02T08:38:10.172Z"
   },
   {
    "duration": 27,
    "start_time": "2022-06-02T08:38:10.185Z"
   },
   {
    "duration": 536,
    "start_time": "2022-06-02T08:38:10.213Z"
   },
   {
    "duration": 20,
    "start_time": "2022-06-02T08:38:10.751Z"
   },
   {
    "duration": 21,
    "start_time": "2022-06-02T08:38:24.049Z"
   },
   {
    "duration": 85,
    "start_time": "2022-06-02T08:39:10.221Z"
   },
   {
    "duration": 21,
    "start_time": "2022-06-02T08:40:33.582Z"
   },
   {
    "duration": 21,
    "start_time": "2022-06-02T08:40:46.478Z"
   },
   {
    "duration": 29,
    "start_time": "2022-06-02T08:40:56.019Z"
   },
   {
    "duration": 21,
    "start_time": "2022-06-02T08:41:44.384Z"
   },
   {
    "duration": 24,
    "start_time": "2022-06-02T08:42:21.482Z"
   },
   {
    "duration": 946,
    "start_time": "2022-06-02T08:45:36.121Z"
   },
   {
    "duration": 495,
    "start_time": "2022-06-02T08:45:45.909Z"
   },
   {
    "duration": 16,
    "start_time": "2022-06-02T08:46:16.710Z"
   },
   {
    "duration": 498,
    "start_time": "2022-06-02T08:46:44.832Z"
   },
   {
    "duration": 61,
    "start_time": "2022-06-02T08:48:28.726Z"
   },
   {
    "duration": 24,
    "start_time": "2022-06-02T08:49:26.947Z"
   },
   {
    "duration": 22,
    "start_time": "2022-06-02T08:53:58.944Z"
   },
   {
    "duration": 17,
    "start_time": "2022-06-02T08:54:04.974Z"
   },
   {
    "duration": 14,
    "start_time": "2022-06-02T08:55:06.381Z"
   },
   {
    "duration": 17,
    "start_time": "2022-06-02T08:55:41.059Z"
   },
   {
    "duration": 25,
    "start_time": "2022-06-02T08:55:57.406Z"
   },
   {
    "duration": 20,
    "start_time": "2022-06-02T08:57:38.147Z"
   },
   {
    "duration": 26,
    "start_time": "2022-06-02T08:58:40.240Z"
   },
   {
    "duration": 20,
    "start_time": "2022-06-02T08:58:54.276Z"
   },
   {
    "duration": 23,
    "start_time": "2022-06-02T08:59:09.356Z"
   },
   {
    "duration": 15,
    "start_time": "2022-06-02T08:59:22.563Z"
   },
   {
    "duration": 478,
    "start_time": "2022-06-02T08:59:45.518Z"
   },
   {
    "duration": 22,
    "start_time": "2022-06-02T09:02:27.752Z"
   },
   {
    "duration": 6,
    "start_time": "2022-06-02T09:04:07.035Z"
   },
   {
    "duration": 5,
    "start_time": "2022-06-02T09:04:13.942Z"
   },
   {
    "duration": 4,
    "start_time": "2022-06-02T09:04:36.975Z"
   },
   {
    "duration": 5,
    "start_time": "2022-06-02T09:04:58.102Z"
   },
   {
    "duration": 18,
    "start_time": "2022-06-02T09:05:42.716Z"
   },
   {
    "duration": 696,
    "start_time": "2022-06-02T09:05:55.703Z"
   },
   {
    "duration": 23,
    "start_time": "2022-06-02T09:06:18.024Z"
   },
   {
    "duration": 18,
    "start_time": "2022-06-02T09:06:31.582Z"
   },
   {
    "duration": 21,
    "start_time": "2022-06-02T09:07:09.865Z"
   },
   {
    "duration": 24,
    "start_time": "2022-06-02T09:07:48.425Z"
   },
   {
    "duration": 17,
    "start_time": "2022-06-02T09:07:55.881Z"
   },
   {
    "duration": 94,
    "start_time": "2022-06-02T09:08:24.524Z"
   },
   {
    "duration": 26,
    "start_time": "2022-06-02T09:08:40.871Z"
   },
   {
    "duration": 32,
    "start_time": "2022-06-02T09:08:55.711Z"
   },
   {
    "duration": 14,
    "start_time": "2022-06-02T09:09:21.221Z"
   },
   {
    "duration": 15,
    "start_time": "2022-06-02T09:09:28.166Z"
   },
   {
    "duration": 18,
    "start_time": "2022-06-02T09:09:34.811Z"
   },
   {
    "duration": 21,
    "start_time": "2022-06-02T09:09:38.998Z"
   },
   {
    "duration": 20,
    "start_time": "2022-06-02T09:10:07.666Z"
   },
   {
    "duration": 19,
    "start_time": "2022-06-02T09:22:34.498Z"
   },
   {
    "duration": 27,
    "start_time": "2022-06-02T09:22:43.940Z"
   },
   {
    "duration": 29,
    "start_time": "2022-06-02T09:25:07.876Z"
   },
   {
    "duration": 18,
    "start_time": "2022-06-02T09:25:56.379Z"
   },
   {
    "duration": 23,
    "start_time": "2022-06-02T09:26:11.106Z"
   },
   {
    "duration": 21,
    "start_time": "2022-06-02T09:26:23.814Z"
   },
   {
    "duration": 23,
    "start_time": "2022-06-02T09:26:39.549Z"
   },
   {
    "duration": 24,
    "start_time": "2022-06-02T09:26:56.643Z"
   },
   {
    "duration": 18,
    "start_time": "2022-06-02T09:27:07.202Z"
   },
   {
    "duration": 25,
    "start_time": "2022-06-02T09:27:33.237Z"
   },
   {
    "duration": 37,
    "start_time": "2022-06-02T09:30:42.575Z"
   },
   {
    "duration": 26,
    "start_time": "2022-06-02T09:31:02.140Z"
   },
   {
    "duration": 25,
    "start_time": "2022-06-02T09:31:18.749Z"
   },
   {
    "duration": 29,
    "start_time": "2022-06-02T09:31:28.421Z"
   },
   {
    "duration": 18,
    "start_time": "2022-06-02T09:32:03.160Z"
   },
   {
    "duration": 17,
    "start_time": "2022-06-02T09:32:40.271Z"
   },
   {
    "duration": 25,
    "start_time": "2022-06-02T09:32:55.742Z"
   },
   {
    "duration": 12,
    "start_time": "2022-06-02T09:37:54.172Z"
   },
   {
    "duration": 18,
    "start_time": "2022-06-02T09:38:46.285Z"
   },
   {
    "duration": 18,
    "start_time": "2022-06-02T09:38:58.157Z"
   },
   {
    "duration": 152,
    "start_time": "2022-06-02T09:39:16.060Z"
   },
   {
    "duration": 164,
    "start_time": "2022-06-02T09:40:02.341Z"
   },
   {
    "duration": 20,
    "start_time": "2022-06-02T09:40:21.243Z"
   },
   {
    "duration": 22,
    "start_time": "2022-06-02T09:41:01.911Z"
   },
   {
    "duration": 14,
    "start_time": "2022-06-02T09:41:12.316Z"
   },
   {
    "duration": 20,
    "start_time": "2022-06-02T09:41:26.373Z"
   },
   {
    "duration": 19,
    "start_time": "2022-06-02T09:41:32.850Z"
   },
   {
    "duration": 24,
    "start_time": "2022-06-02T09:41:43.112Z"
   },
   {
    "duration": 20,
    "start_time": "2022-06-02T09:42:02.594Z"
   },
   {
    "duration": 22,
    "start_time": "2022-06-02T09:42:12.355Z"
   },
   {
    "duration": 4,
    "start_time": "2022-06-02T09:43:15.114Z"
   },
   {
    "duration": 20,
    "start_time": "2022-06-02T09:43:18.883Z"
   },
   {
    "duration": 24,
    "start_time": "2022-06-02T09:44:22.551Z"
   },
   {
    "duration": 22,
    "start_time": "2022-06-02T09:44:35.054Z"
   },
   {
    "duration": 14,
    "start_time": "2022-06-02T09:44:41.182Z"
   },
   {
    "duration": 20,
    "start_time": "2022-06-02T09:45:04.406Z"
   },
   {
    "duration": 33,
    "start_time": "2022-06-02T09:46:06.707Z"
   },
   {
    "duration": 17,
    "start_time": "2022-06-02T09:46:22.293Z"
   },
   {
    "duration": 17,
    "start_time": "2022-06-02T09:46:33.406Z"
   },
   {
    "duration": 26,
    "start_time": "2022-06-02T09:46:43.310Z"
   },
   {
    "duration": 17,
    "start_time": "2022-06-02T09:46:50.551Z"
   },
   {
    "duration": 29,
    "start_time": "2022-06-02T09:47:01.809Z"
   },
   {
    "duration": 34,
    "start_time": "2022-06-02T09:47:20.207Z"
   },
   {
    "duration": 16,
    "start_time": "2022-06-02T09:47:25.876Z"
   },
   {
    "duration": 19,
    "start_time": "2022-06-02T09:47:46.676Z"
   },
   {
    "duration": 19,
    "start_time": "2022-06-02T09:47:57.113Z"
   },
   {
    "duration": 191,
    "start_time": "2022-06-02T09:48:12.520Z"
   },
   {
    "duration": 29,
    "start_time": "2022-06-02T09:51:10.679Z"
   },
   {
    "duration": 28,
    "start_time": "2022-06-02T09:52:32.088Z"
   },
   {
    "duration": 30,
    "start_time": "2022-06-02T09:52:44.118Z"
   },
   {
    "duration": 370,
    "start_time": "2022-06-02T09:54:07.729Z"
   },
   {
    "duration": 20,
    "start_time": "2022-06-02T09:55:20.621Z"
   },
   {
    "duration": 484,
    "start_time": "2022-06-02T09:55:35.699Z"
   },
   {
    "duration": 1085,
    "start_time": "2022-06-02T09:57:34.552Z"
   },
   {
    "duration": 594,
    "start_time": "2022-06-02T09:57:48.159Z"
   },
   {
    "duration": 14,
    "start_time": "2022-06-02T10:00:21.266Z"
   },
   {
    "duration": 735,
    "start_time": "2022-06-02T10:00:42.476Z"
   },
   {
    "duration": 16,
    "start_time": "2022-06-02T10:03:13.444Z"
   },
   {
    "duration": 19,
    "start_time": "2022-06-02T10:04:44.565Z"
   },
   {
    "duration": 17,
    "start_time": "2022-06-02T10:05:13.270Z"
   },
   {
    "duration": 14,
    "start_time": "2022-06-02T10:05:27.201Z"
   },
   {
    "duration": 14,
    "start_time": "2022-06-02T10:05:47.347Z"
   },
   {
    "duration": 16,
    "start_time": "2022-06-02T10:05:53.731Z"
   },
   {
    "duration": 13,
    "start_time": "2022-06-02T10:07:35.806Z"
   },
   {
    "duration": 18,
    "start_time": "2022-06-02T10:07:51.958Z"
   },
   {
    "duration": 17,
    "start_time": "2022-06-02T10:08:45.866Z"
   },
   {
    "duration": 16,
    "start_time": "2022-06-02T10:09:00.498Z"
   },
   {
    "duration": 662,
    "start_time": "2022-06-02T10:09:42.643Z"
   },
   {
    "duration": 558,
    "start_time": "2022-06-02T10:19:15.745Z"
   },
   {
    "duration": 71,
    "start_time": "2022-06-02T10:19:57.764Z"
   },
   {
    "duration": 848,
    "start_time": "2022-06-02T10:20:18.367Z"
   },
   {
    "duration": 19,
    "start_time": "2022-06-02T10:25:13.696Z"
   },
   {
    "duration": 1874,
    "start_time": "2022-06-02T10:25:18.082Z"
   },
   {
    "duration": 952,
    "start_time": "2022-06-02T10:26:40.711Z"
   },
   {
    "duration": 2429,
    "start_time": "2022-06-02T10:29:03.368Z"
   },
   {
    "duration": 513,
    "start_time": "2022-06-02T10:33:24.157Z"
   },
   {
    "duration": 2074,
    "start_time": "2022-06-02T10:33:43.040Z"
   },
   {
    "duration": 602,
    "start_time": "2022-06-02T10:35:05.487Z"
   },
   {
    "duration": 731,
    "start_time": "2022-06-02T10:41:28.398Z"
   },
   {
    "duration": 1646,
    "start_time": "2022-06-02T10:41:34.291Z"
   },
   {
    "duration": 2335,
    "start_time": "2022-06-02T10:43:08.875Z"
   },
   {
    "duration": 1267,
    "start_time": "2022-06-02T11:28:41.985Z"
   },
   {
    "duration": 14,
    "start_time": "2022-06-02T11:28:43.254Z"
   },
   {
    "duration": 823,
    "start_time": "2022-06-02T11:28:43.279Z"
   },
   {
    "duration": 140,
    "start_time": "2022-06-02T11:28:44.104Z"
   },
   {
    "duration": 44,
    "start_time": "2022-06-02T11:28:44.247Z"
   },
   {
    "duration": 7,
    "start_time": "2022-06-02T11:28:44.293Z"
   },
   {
    "duration": 334,
    "start_time": "2022-06-02T11:28:44.301Z"
   },
   {
    "duration": 189,
    "start_time": "2022-06-02T11:28:44.644Z"
   },
   {
    "duration": 30,
    "start_time": "2022-06-02T11:28:44.848Z"
   },
   {
    "duration": 12,
    "start_time": "2022-06-02T11:28:44.882Z"
   },
   {
    "duration": 9,
    "start_time": "2022-06-02T11:28:44.896Z"
   },
   {
    "duration": 12,
    "start_time": "2022-06-02T11:28:44.906Z"
   },
   {
    "duration": 69,
    "start_time": "2022-06-02T11:28:44.919Z"
   },
   {
    "duration": 10,
    "start_time": "2022-06-02T11:28:44.992Z"
   },
   {
    "duration": 66,
    "start_time": "2022-06-02T11:28:45.003Z"
   },
   {
    "duration": 18,
    "start_time": "2022-06-02T11:28:45.072Z"
   },
   {
    "duration": 629,
    "start_time": "2022-06-02T11:28:45.092Z"
   },
   {
    "duration": 45,
    "start_time": "2022-06-02T11:28:45.723Z"
   },
   {
    "duration": 30,
    "start_time": "2022-06-02T11:28:45.769Z"
   },
   {
    "duration": 340,
    "start_time": "2022-06-02T11:28:45.801Z"
   },
   {
    "duration": 35,
    "start_time": "2022-06-02T11:28:46.151Z"
   },
   {
    "duration": 338,
    "start_time": "2022-06-02T11:28:46.188Z"
   },
   {
    "duration": 43,
    "start_time": "2022-06-02T11:28:46.539Z"
   },
   {
    "duration": 429,
    "start_time": "2022-06-02T11:28:46.584Z"
   },
   {
    "duration": 582,
    "start_time": "2022-06-02T11:28:47.015Z"
   },
   {
    "duration": 68,
    "start_time": "2022-06-02T11:28:47.600Z"
   },
   {
    "duration": 215,
    "start_time": "2022-06-02T11:28:47.671Z"
   },
   {
    "duration": 704,
    "start_time": "2022-06-02T11:28:47.888Z"
   },
   {
    "duration": 687,
    "start_time": "2022-06-02T11:28:48.593Z"
   },
   {
    "duration": 71,
    "start_time": "2022-06-02T11:28:49.282Z"
   },
   {
    "duration": 725,
    "start_time": "2022-06-02T11:28:49.355Z"
   },
   {
    "duration": 293,
    "start_time": "2022-06-02T11:28:50.082Z"
   },
   {
    "duration": 20,
    "start_time": "2022-06-02T11:28:50.376Z"
   },
   {
    "duration": 2067,
    "start_time": "2022-06-02T11:28:50.398Z"
   },
   {
    "duration": 806,
    "start_time": "2022-06-02T11:28:52.469Z"
   },
   {
    "duration": 2299,
    "start_time": "2022-06-02T11:28:53.278Z"
   },
   {
    "duration": 208,
    "start_time": "2022-06-02T11:28:55.579Z"
   },
   {
    "duration": 0,
    "start_time": "2022-06-02T11:28:55.790Z"
   },
   {
    "duration": 0,
    "start_time": "2022-06-02T11:28:55.792Z"
   },
   {
    "duration": 0,
    "start_time": "2022-06-02T11:28:55.794Z"
   },
   {
    "duration": 0,
    "start_time": "2022-06-02T11:28:55.795Z"
   },
   {
    "duration": 0,
    "start_time": "2022-06-02T11:28:55.797Z"
   },
   {
    "duration": 0,
    "start_time": "2022-06-02T11:28:55.799Z"
   },
   {
    "duration": 0,
    "start_time": "2022-06-02T11:28:55.800Z"
   },
   {
    "duration": 0,
    "start_time": "2022-06-02T11:28:55.803Z"
   },
   {
    "duration": 0,
    "start_time": "2022-06-02T11:28:55.804Z"
   },
   {
    "duration": 0,
    "start_time": "2022-06-02T11:28:55.805Z"
   },
   {
    "duration": 0,
    "start_time": "2022-06-02T11:28:55.830Z"
   },
   {
    "duration": 0,
    "start_time": "2022-06-02T11:28:55.831Z"
   },
   {
    "duration": 0,
    "start_time": "2022-06-02T11:28:55.832Z"
   },
   {
    "duration": 0,
    "start_time": "2022-06-02T11:28:55.833Z"
   },
   {
    "duration": 0,
    "start_time": "2022-06-02T11:28:55.834Z"
   },
   {
    "duration": 0,
    "start_time": "2022-06-02T11:28:55.835Z"
   },
   {
    "duration": 0,
    "start_time": "2022-06-02T11:28:55.837Z"
   },
   {
    "duration": 0,
    "start_time": "2022-06-02T11:28:55.838Z"
   },
   {
    "duration": 0,
    "start_time": "2022-06-02T11:28:55.839Z"
   },
   {
    "duration": 8,
    "start_time": "2022-06-02T11:30:47.920Z"
   },
   {
    "duration": 58,
    "start_time": "2022-06-02T11:30:47.930Z"
   },
   {
    "duration": 775,
    "start_time": "2022-06-02T11:30:47.991Z"
   },
   {
    "duration": 107,
    "start_time": "2022-06-02T11:30:48.768Z"
   },
   {
    "duration": 34,
    "start_time": "2022-06-02T11:30:48.878Z"
   },
   {
    "duration": 21,
    "start_time": "2022-06-02T11:30:48.914Z"
   },
   {
    "duration": 326,
    "start_time": "2022-06-02T11:30:48.939Z"
   },
   {
    "duration": 184,
    "start_time": "2022-06-02T11:30:49.267Z"
   },
   {
    "duration": 13,
    "start_time": "2022-06-02T11:30:49.453Z"
   },
   {
    "duration": 28,
    "start_time": "2022-06-02T11:30:49.467Z"
   },
   {
    "duration": 23,
    "start_time": "2022-06-02T11:30:49.498Z"
   },
   {
    "duration": 71,
    "start_time": "2022-06-02T11:30:49.523Z"
   },
   {
    "duration": 62,
    "start_time": "2022-06-02T11:30:49.596Z"
   },
   {
    "duration": 19,
    "start_time": "2022-06-02T11:30:49.661Z"
   },
   {
    "duration": 18,
    "start_time": "2022-06-02T11:30:49.686Z"
   },
   {
    "duration": 64,
    "start_time": "2022-06-02T11:30:49.706Z"
   },
   {
    "duration": 576,
    "start_time": "2022-06-02T11:30:49.775Z"
   },
   {
    "duration": 33,
    "start_time": "2022-06-02T11:30:50.352Z"
   },
   {
    "duration": 27,
    "start_time": "2022-06-02T11:30:50.387Z"
   },
   {
    "duration": 236,
    "start_time": "2022-06-02T11:30:50.416Z"
   },
   {
    "duration": 29,
    "start_time": "2022-06-02T11:30:50.654Z"
   },
   {
    "duration": 213,
    "start_time": "2022-06-02T11:30:50.685Z"
   },
   {
    "duration": 54,
    "start_time": "2022-06-02T11:30:50.900Z"
   },
   {
    "duration": 432,
    "start_time": "2022-06-02T11:30:50.955Z"
   },
   {
    "duration": 469,
    "start_time": "2022-06-02T11:30:51.389Z"
   },
   {
    "duration": 30,
    "start_time": "2022-06-02T11:30:51.862Z"
   },
   {
    "duration": 205,
    "start_time": "2022-06-02T11:30:51.895Z"
   },
   {
    "duration": 578,
    "start_time": "2022-06-02T11:30:52.102Z"
   },
   {
    "duration": 699,
    "start_time": "2022-06-02T11:30:52.683Z"
   },
   {
    "duration": 53,
    "start_time": "2022-06-02T11:30:53.384Z"
   },
   {
    "duration": 818,
    "start_time": "2022-06-02T11:30:53.440Z"
   },
   {
    "duration": 300,
    "start_time": "2022-06-02T11:30:54.264Z"
   },
   {
    "duration": 22,
    "start_time": "2022-06-02T11:30:54.570Z"
   },
   {
    "duration": 1890,
    "start_time": "2022-06-02T11:30:54.593Z"
   },
   {
    "duration": 900,
    "start_time": "2022-06-02T11:30:56.485Z"
   },
   {
    "duration": 2463,
    "start_time": "2022-06-02T11:30:57.387Z"
   },
   {
    "duration": 51,
    "start_time": "2022-06-02T11:30:59.852Z"
   },
   {
    "duration": 0,
    "start_time": "2022-06-02T11:30:59.905Z"
   },
   {
    "duration": 0,
    "start_time": "2022-06-02T11:30:59.906Z"
   },
   {
    "duration": 0,
    "start_time": "2022-06-02T11:30:59.934Z"
   },
   {
    "duration": 0,
    "start_time": "2022-06-02T11:30:59.941Z"
   },
   {
    "duration": 0,
    "start_time": "2022-06-02T11:30:59.946Z"
   },
   {
    "duration": 0,
    "start_time": "2022-06-02T11:30:59.947Z"
   },
   {
    "duration": 0,
    "start_time": "2022-06-02T11:30:59.947Z"
   },
   {
    "duration": 0,
    "start_time": "2022-06-02T11:30:59.948Z"
   },
   {
    "duration": 0,
    "start_time": "2022-06-02T11:30:59.948Z"
   },
   {
    "duration": 0,
    "start_time": "2022-06-02T11:30:59.949Z"
   },
   {
    "duration": 0,
    "start_time": "2022-06-02T11:30:59.950Z"
   },
   {
    "duration": 0,
    "start_time": "2022-06-02T11:30:59.950Z"
   },
   {
    "duration": 0,
    "start_time": "2022-06-02T11:30:59.952Z"
   },
   {
    "duration": 0,
    "start_time": "2022-06-02T11:30:59.954Z"
   },
   {
    "duration": 0,
    "start_time": "2022-06-02T11:30:59.955Z"
   },
   {
    "duration": 0,
    "start_time": "2022-06-02T11:30:59.956Z"
   },
   {
    "duration": 0,
    "start_time": "2022-06-02T11:30:59.957Z"
   },
   {
    "duration": 0,
    "start_time": "2022-06-02T11:30:59.959Z"
   },
   {
    "duration": 0,
    "start_time": "2022-06-02T11:30:59.961Z"
   },
   {
    "duration": 1083,
    "start_time": "2022-06-03T09:17:58.072Z"
   },
   {
    "duration": 7,
    "start_time": "2022-06-03T09:17:59.157Z"
   },
   {
    "duration": 628,
    "start_time": "2022-06-03T09:17:59.166Z"
   },
   {
    "duration": 81,
    "start_time": "2022-06-03T09:17:59.795Z"
   },
   {
    "duration": 31,
    "start_time": "2022-06-03T09:17:59.878Z"
   },
   {
    "duration": 6,
    "start_time": "2022-06-03T09:17:59.910Z"
   },
   {
    "duration": 239,
    "start_time": "2022-06-03T09:17:59.918Z"
   },
   {
    "duration": 141,
    "start_time": "2022-06-03T09:18:00.165Z"
   },
   {
    "duration": 8,
    "start_time": "2022-06-03T09:18:00.307Z"
   },
   {
    "duration": 24,
    "start_time": "2022-06-03T09:18:00.317Z"
   },
   {
    "duration": 26,
    "start_time": "2022-06-03T09:18:00.343Z"
   },
   {
    "duration": 36,
    "start_time": "2022-06-03T09:18:00.370Z"
   },
   {
    "duration": 32,
    "start_time": "2022-06-03T09:18:00.408Z"
   },
   {
    "duration": 22,
    "start_time": "2022-06-03T09:18:00.444Z"
   },
   {
    "duration": 21,
    "start_time": "2022-06-03T09:18:00.468Z"
   },
   {
    "duration": 17,
    "start_time": "2022-06-03T09:18:00.491Z"
   },
   {
    "duration": 535,
    "start_time": "2022-06-03T09:18:00.510Z"
   },
   {
    "duration": 28,
    "start_time": "2022-06-03T09:18:01.047Z"
   },
   {
    "duration": 81,
    "start_time": "2022-06-03T09:18:01.077Z"
   },
   {
    "duration": 188,
    "start_time": "2022-06-03T09:18:01.160Z"
   },
   {
    "duration": 27,
    "start_time": "2022-06-03T09:18:01.350Z"
   },
   {
    "duration": 229,
    "start_time": "2022-06-03T09:18:01.379Z"
   },
   {
    "duration": 22,
    "start_time": "2022-06-03T09:18:01.610Z"
   },
   {
    "duration": 359,
    "start_time": "2022-06-03T09:18:01.634Z"
   },
   {
    "duration": 485,
    "start_time": "2022-06-03T09:18:01.995Z"
   },
   {
    "duration": 20,
    "start_time": "2022-06-03T09:18:02.481Z"
   },
   {
    "duration": 200,
    "start_time": "2022-06-03T09:18:02.503Z"
   },
   {
    "duration": 499,
    "start_time": "2022-06-03T09:18:02.705Z"
   },
   {
    "duration": 587,
    "start_time": "2022-06-03T09:18:03.205Z"
   },
   {
    "duration": 35,
    "start_time": "2022-06-03T09:18:03.794Z"
   },
   {
    "duration": 741,
    "start_time": "2022-06-03T09:18:03.830Z"
   },
   {
    "duration": 248,
    "start_time": "2022-06-03T09:18:04.573Z"
   },
   {
    "duration": 15,
    "start_time": "2022-06-03T09:18:04.823Z"
   },
   {
    "duration": 1657,
    "start_time": "2022-06-03T09:18:04.839Z"
   },
   {
    "duration": 808,
    "start_time": "2022-06-03T09:18:06.498Z"
   },
   {
    "duration": 2078,
    "start_time": "2022-06-03T09:18:07.308Z"
   },
   {
    "duration": 148,
    "start_time": "2022-06-03T09:18:09.387Z"
   },
   {
    "duration": 0,
    "start_time": "2022-06-03T09:18:09.537Z"
   },
   {
    "duration": 0,
    "start_time": "2022-06-03T09:18:09.538Z"
   },
   {
    "duration": 0,
    "start_time": "2022-06-03T09:18:09.539Z"
   },
   {
    "duration": 0,
    "start_time": "2022-06-03T09:18:09.540Z"
   },
   {
    "duration": 0,
    "start_time": "2022-06-03T09:18:09.541Z"
   },
   {
    "duration": 0,
    "start_time": "2022-06-03T09:18:09.542Z"
   },
   {
    "duration": 0,
    "start_time": "2022-06-03T09:18:09.543Z"
   },
   {
    "duration": 0,
    "start_time": "2022-06-03T09:18:09.544Z"
   },
   {
    "duration": 0,
    "start_time": "2022-06-03T09:18:09.545Z"
   },
   {
    "duration": 0,
    "start_time": "2022-06-03T09:18:09.546Z"
   },
   {
    "duration": 0,
    "start_time": "2022-06-03T09:18:09.565Z"
   },
   {
    "duration": 0,
    "start_time": "2022-06-03T09:18:09.566Z"
   },
   {
    "duration": 0,
    "start_time": "2022-06-03T09:18:09.567Z"
   },
   {
    "duration": 0,
    "start_time": "2022-06-03T09:18:09.568Z"
   },
   {
    "duration": 0,
    "start_time": "2022-06-03T09:18:09.569Z"
   },
   {
    "duration": 0,
    "start_time": "2022-06-03T09:18:09.570Z"
   },
   {
    "duration": 0,
    "start_time": "2022-06-03T09:18:09.571Z"
   },
   {
    "duration": 0,
    "start_time": "2022-06-03T09:18:09.572Z"
   },
   {
    "duration": 0,
    "start_time": "2022-06-03T09:18:09.573Z"
   },
   {
    "duration": 829,
    "start_time": "2022-06-03T09:24:19.449Z"
   },
   {
    "duration": 519,
    "start_time": "2022-06-03T09:24:21.681Z"
   },
   {
    "duration": 504,
    "start_time": "2022-06-03T09:25:14.846Z"
   },
   {
    "duration": 2108,
    "start_time": "2022-06-03T09:25:16.384Z"
   },
   {
    "duration": 515,
    "start_time": "2022-06-03T09:25:18.504Z"
   },
   {
    "duration": 297,
    "start_time": "2022-06-03T09:25:20.038Z"
   },
   {
    "duration": 1179,
    "start_time": "2022-06-03T09:25:20.336Z"
   },
   {
    "duration": 2311,
    "start_time": "2022-06-03T09:25:21.516Z"
   },
   {
    "duration": 183,
    "start_time": "2022-06-03T09:27:42.987Z"
   },
   {
    "duration": 1880,
    "start_time": "2022-06-03T09:27:43.172Z"
   },
   {
    "duration": 387,
    "start_time": "2022-06-03T09:27:45.054Z"
   },
   {
    "duration": 1065,
    "start_time": "2022-06-03T09:27:45.442Z"
   },
   {
    "duration": 1627,
    "start_time": "2022-06-03T09:27:46.509Z"
   },
   {
    "duration": 213,
    "start_time": "2022-06-03T09:27:48.138Z"
   },
   {
    "duration": 1404,
    "start_time": "2022-06-03T09:27:48.353Z"
   },
   {
    "duration": 1570,
    "start_time": "2022-06-03T09:27:49.764Z"
   },
   {
    "duration": 192,
    "start_time": "2022-06-03T09:27:51.335Z"
   },
   {
    "duration": 1343,
    "start_time": "2022-06-03T09:27:51.530Z"
   },
   {
    "duration": 255,
    "start_time": "2022-06-03T09:27:52.875Z"
   },
   {
    "duration": 1588,
    "start_time": "2022-06-03T09:27:53.132Z"
   },
   {
    "duration": 1329,
    "start_time": "2022-06-03T10:06:06.376Z"
   },
   {
    "duration": 4,
    "start_time": "2022-06-03T10:06:07.707Z"
   },
   {
    "duration": 1030,
    "start_time": "2022-06-03T10:06:07.713Z"
   },
   {
    "duration": 93,
    "start_time": "2022-06-03T10:06:08.744Z"
   },
   {
    "duration": 55,
    "start_time": "2022-06-03T10:06:08.840Z"
   },
   {
    "duration": 9,
    "start_time": "2022-06-03T10:06:08.897Z"
   },
   {
    "duration": 307,
    "start_time": "2022-06-03T10:06:08.909Z"
   },
   {
    "duration": 152,
    "start_time": "2022-06-03T10:06:09.217Z"
   },
   {
    "duration": 10,
    "start_time": "2022-06-03T10:06:09.371Z"
   },
   {
    "duration": 35,
    "start_time": "2022-06-03T10:06:09.384Z"
   },
   {
    "duration": 26,
    "start_time": "2022-06-03T10:06:09.421Z"
   },
   {
    "duration": 41,
    "start_time": "2022-06-03T10:06:09.450Z"
   },
   {
    "duration": 29,
    "start_time": "2022-06-03T10:06:09.493Z"
   },
   {
    "duration": 9,
    "start_time": "2022-06-03T10:06:09.526Z"
   },
   {
    "duration": 26,
    "start_time": "2022-06-03T10:06:09.537Z"
   },
   {
    "duration": 33,
    "start_time": "2022-06-03T10:06:09.566Z"
   },
   {
    "duration": 559,
    "start_time": "2022-06-03T10:06:09.601Z"
   },
   {
    "duration": 21,
    "start_time": "2022-06-03T10:06:10.164Z"
   },
   {
    "duration": 35,
    "start_time": "2022-06-03T10:06:10.187Z"
   },
   {
    "duration": 200,
    "start_time": "2022-06-03T10:06:10.224Z"
   },
   {
    "duration": 22,
    "start_time": "2022-06-03T10:06:10.426Z"
   },
   {
    "duration": 266,
    "start_time": "2022-06-03T10:06:10.450Z"
   },
   {
    "duration": 24,
    "start_time": "2022-06-03T10:06:10.718Z"
   },
   {
    "duration": 375,
    "start_time": "2022-06-03T10:06:10.744Z"
   },
   {
    "duration": 511,
    "start_time": "2022-06-03T10:06:11.121Z"
   },
   {
    "duration": 32,
    "start_time": "2022-06-03T10:06:11.634Z"
   },
   {
    "duration": 187,
    "start_time": "2022-06-03T10:06:11.667Z"
   },
   {
    "duration": 481,
    "start_time": "2022-06-03T10:06:11.855Z"
   },
   {
    "duration": 666,
    "start_time": "2022-06-03T10:06:12.339Z"
   },
   {
    "duration": 39,
    "start_time": "2022-06-03T10:06:13.007Z"
   },
   {
    "duration": 778,
    "start_time": "2022-06-03T10:06:19.848Z"
   },
   {
    "duration": 4,
    "start_time": "2022-06-03T10:09:11.098Z"
   },
   {
    "duration": 5,
    "start_time": "2022-06-03T10:09:11.104Z"
   },
   {
    "duration": 785,
    "start_time": "2022-06-03T10:09:11.111Z"
   },
   {
    "duration": 92,
    "start_time": "2022-06-03T10:09:11.898Z"
   },
   {
    "duration": 29,
    "start_time": "2022-06-03T10:09:11.992Z"
   },
   {
    "duration": 8,
    "start_time": "2022-06-03T10:09:12.023Z"
   },
   {
    "duration": 271,
    "start_time": "2022-06-03T10:09:12.033Z"
   },
   {
    "duration": 154,
    "start_time": "2022-06-03T10:09:12.306Z"
   },
   {
    "duration": 14,
    "start_time": "2022-06-03T10:09:12.467Z"
   },
   {
    "duration": 19,
    "start_time": "2022-06-03T10:09:12.484Z"
   },
   {
    "duration": 9,
    "start_time": "2022-06-03T10:09:12.505Z"
   },
   {
    "duration": 17,
    "start_time": "2022-06-03T10:09:12.516Z"
   },
   {
    "duration": 8,
    "start_time": "2022-06-03T10:09:12.535Z"
   },
   {
    "duration": 14,
    "start_time": "2022-06-03T10:09:12.546Z"
   },
   {
    "duration": 57,
    "start_time": "2022-06-03T10:09:12.567Z"
   },
   {
    "duration": 15,
    "start_time": "2022-06-03T10:09:12.626Z"
   },
   {
    "duration": 537,
    "start_time": "2022-06-03T10:09:12.643Z"
   },
   {
    "duration": 22,
    "start_time": "2022-06-03T10:09:13.183Z"
   },
   {
    "duration": 35,
    "start_time": "2022-06-03T10:09:13.207Z"
   },
   {
    "duration": 217,
    "start_time": "2022-06-03T10:09:13.244Z"
   },
   {
    "duration": 33,
    "start_time": "2022-06-03T10:09:13.464Z"
   },
   {
    "duration": 227,
    "start_time": "2022-06-03T10:09:13.499Z"
   },
   {
    "duration": 25,
    "start_time": "2022-06-03T10:09:13.728Z"
   },
   {
    "duration": 377,
    "start_time": "2022-06-03T10:09:13.755Z"
   },
   {
    "duration": 411,
    "start_time": "2022-06-03T10:09:14.134Z"
   },
   {
    "duration": 37,
    "start_time": "2022-06-03T10:09:14.546Z"
   },
   {
    "duration": 236,
    "start_time": "2022-06-03T10:09:14.588Z"
   },
   {
    "duration": 614,
    "start_time": "2022-06-03T10:09:14.827Z"
   },
   {
    "duration": 616,
    "start_time": "2022-06-03T10:09:15.443Z"
   },
   {
    "duration": 55,
    "start_time": "2022-06-03T10:09:16.064Z"
   },
   {
    "duration": 705,
    "start_time": "2022-06-03T10:09:16.122Z"
   },
   {
    "duration": 277,
    "start_time": "2022-06-03T10:09:16.829Z"
   },
   {
    "duration": 19,
    "start_time": "2022-06-03T10:09:17.108Z"
   },
   {
    "duration": 1939,
    "start_time": "2022-06-03T10:09:17.128Z"
   },
   {
    "duration": 890,
    "start_time": "2022-06-03T10:09:19.069Z"
   },
   {
    "duration": 2138,
    "start_time": "2022-06-03T10:09:19.960Z"
   },
   {
    "duration": 34,
    "start_time": "2022-06-03T10:09:28.712Z"
   },
   {
    "duration": 278,
    "start_time": "2022-06-03T10:09:34.796Z"
   },
   {
    "duration": 1210,
    "start_time": "2022-06-03T10:12:03.389Z"
   },
   {
    "duration": 3,
    "start_time": "2022-06-03T10:12:04.602Z"
   },
   {
    "duration": 708,
    "start_time": "2022-06-03T10:12:04.607Z"
   },
   {
    "duration": 103,
    "start_time": "2022-06-03T10:12:05.318Z"
   },
   {
    "duration": 63,
    "start_time": "2022-06-03T10:12:05.424Z"
   },
   {
    "duration": 7,
    "start_time": "2022-06-03T10:12:05.488Z"
   },
   {
    "duration": 232,
    "start_time": "2022-06-03T10:12:05.496Z"
   },
   {
    "duration": 165,
    "start_time": "2022-06-03T10:12:05.730Z"
   },
   {
    "duration": 7,
    "start_time": "2022-06-03T10:12:05.897Z"
   },
   {
    "duration": 10,
    "start_time": "2022-06-03T10:12:05.906Z"
   },
   {
    "duration": 19,
    "start_time": "2022-06-03T10:12:05.918Z"
   },
   {
    "duration": 11,
    "start_time": "2022-06-03T10:12:05.939Z"
   },
   {
    "duration": 16,
    "start_time": "2022-06-03T10:12:05.951Z"
   },
   {
    "duration": 20,
    "start_time": "2022-06-03T10:12:05.971Z"
   },
   {
    "duration": 11,
    "start_time": "2022-06-03T10:12:05.993Z"
   },
   {
    "duration": 13,
    "start_time": "2022-06-03T10:12:06.005Z"
   },
   {
    "duration": 522,
    "start_time": "2022-06-03T10:12:06.019Z"
   },
   {
    "duration": 21,
    "start_time": "2022-06-03T10:12:06.543Z"
   },
   {
    "duration": 37,
    "start_time": "2022-06-03T10:12:06.569Z"
   },
   {
    "duration": 225,
    "start_time": "2022-06-03T10:12:06.609Z"
   },
   {
    "duration": 33,
    "start_time": "2022-06-03T10:12:06.836Z"
   },
   {
    "duration": 247,
    "start_time": "2022-06-03T10:12:06.871Z"
   },
   {
    "duration": 24,
    "start_time": "2022-06-03T10:12:07.120Z"
   },
   {
    "duration": 398,
    "start_time": "2022-06-03T10:12:07.145Z"
   },
   {
    "duration": 513,
    "start_time": "2022-06-03T10:12:07.544Z"
   },
   {
    "duration": 30,
    "start_time": "2022-06-03T10:12:08.059Z"
   },
   {
    "duration": 195,
    "start_time": "2022-06-03T10:12:08.090Z"
   },
   {
    "duration": 508,
    "start_time": "2022-06-03T10:12:08.287Z"
   },
   {
    "duration": 659,
    "start_time": "2022-06-03T10:12:08.797Z"
   },
   {
    "duration": 55,
    "start_time": "2022-06-03T10:12:09.458Z"
   },
   {
    "duration": 779,
    "start_time": "2022-06-03T10:12:09.515Z"
   },
   {
    "duration": 260,
    "start_time": "2022-06-03T10:12:10.296Z"
   },
   {
    "duration": 27,
    "start_time": "2022-06-03T10:12:10.559Z"
   },
   {
    "duration": 1747,
    "start_time": "2022-06-03T10:12:10.590Z"
   },
   {
    "duration": 791,
    "start_time": "2022-06-03T10:12:12.339Z"
   },
   {
    "duration": 2171,
    "start_time": "2022-06-03T10:12:13.132Z"
   },
   {
    "duration": 73,
    "start_time": "2022-06-03T10:12:15.305Z"
   },
   {
    "duration": 260,
    "start_time": "2022-06-03T10:12:15.381Z"
   },
   {
    "duration": 580,
    "start_time": "2022-06-03T10:12:15.643Z"
   },
   {
    "duration": 2136,
    "start_time": "2022-06-03T10:12:16.225Z"
   },
   {
    "duration": 708,
    "start_time": "2022-06-03T10:12:18.366Z"
   },
   {
    "duration": 371,
    "start_time": "2022-06-03T10:12:19.076Z"
   },
   {
    "duration": 1199,
    "start_time": "2022-06-03T10:12:19.449Z"
   },
   {
    "duration": 2452,
    "start_time": "2022-06-03T10:12:20.650Z"
   },
   {
    "duration": 247,
    "start_time": "2022-06-03T10:12:23.104Z"
   },
   {
    "duration": 2120,
    "start_time": "2022-06-03T10:12:23.354Z"
   },
   {
    "duration": 419,
    "start_time": "2022-06-03T10:12:25.482Z"
   },
   {
    "duration": 1141,
    "start_time": "2022-06-03T10:12:25.904Z"
   },
   {
    "duration": 1752,
    "start_time": "2022-06-03T10:12:27.047Z"
   },
   {
    "duration": 239,
    "start_time": "2022-06-03T10:12:28.801Z"
   },
   {
    "duration": 1459,
    "start_time": "2022-06-03T10:12:29.042Z"
   },
   {
    "duration": 1716,
    "start_time": "2022-06-03T10:12:30.503Z"
   },
   {
    "duration": 203,
    "start_time": "2022-06-03T10:12:32.221Z"
   },
   {
    "duration": 1545,
    "start_time": "2022-06-03T10:12:32.426Z"
   },
   {
    "duration": 284,
    "start_time": "2022-06-03T10:12:33.973Z"
   },
   {
    "duration": 1599,
    "start_time": "2022-06-03T10:12:34.259Z"
   },
   {
    "duration": 1179,
    "start_time": "2022-06-03T16:19:45.921Z"
   },
   {
    "duration": 3,
    "start_time": "2022-06-03T16:19:47.102Z"
   },
   {
    "duration": 621,
    "start_time": "2022-06-03T16:19:47.107Z"
   },
   {
    "duration": 71,
    "start_time": "2022-06-03T16:19:47.730Z"
   },
   {
    "duration": 31,
    "start_time": "2022-06-03T16:19:47.803Z"
   },
   {
    "duration": 7,
    "start_time": "2022-06-03T16:19:47.852Z"
   },
   {
    "duration": 233,
    "start_time": "2022-06-03T16:19:47.860Z"
   },
   {
    "duration": 148,
    "start_time": "2022-06-03T16:19:48.094Z"
   },
   {
    "duration": 12,
    "start_time": "2022-06-03T16:19:48.243Z"
   },
   {
    "duration": 15,
    "start_time": "2022-06-03T16:19:48.258Z"
   },
   {
    "duration": 13,
    "start_time": "2022-06-03T16:19:48.274Z"
   },
   {
    "duration": 21,
    "start_time": "2022-06-03T16:19:48.289Z"
   },
   {
    "duration": 16,
    "start_time": "2022-06-03T16:19:48.312Z"
   },
   {
    "duration": 7,
    "start_time": "2022-06-03T16:19:48.329Z"
   },
   {
    "duration": 21,
    "start_time": "2022-06-03T16:19:48.338Z"
   },
   {
    "duration": 33,
    "start_time": "2022-06-03T16:19:48.361Z"
   },
   {
    "duration": 464,
    "start_time": "2022-06-03T16:19:48.396Z"
   },
   {
    "duration": 16,
    "start_time": "2022-06-03T16:19:48.862Z"
   },
   {
    "duration": 22,
    "start_time": "2022-06-03T16:19:48.880Z"
   },
   {
    "duration": 213,
    "start_time": "2022-06-03T16:19:48.905Z"
   },
   {
    "duration": 33,
    "start_time": "2022-06-03T16:19:49.120Z"
   },
   {
    "duration": 239,
    "start_time": "2022-06-03T16:19:49.154Z"
   },
   {
    "duration": 25,
    "start_time": "2022-06-03T16:19:49.395Z"
   },
   {
    "duration": 363,
    "start_time": "2022-06-03T16:19:49.421Z"
   },
   {
    "duration": 489,
    "start_time": "2022-06-03T16:19:49.786Z"
   },
   {
    "duration": 24,
    "start_time": "2022-06-03T16:19:50.277Z"
   },
   {
    "duration": 197,
    "start_time": "2022-06-03T16:19:50.303Z"
   },
   {
    "duration": 465,
    "start_time": "2022-06-03T16:19:50.503Z"
   },
   {
    "duration": 566,
    "start_time": "2022-06-03T16:19:50.970Z"
   },
   {
    "duration": 43,
    "start_time": "2022-06-03T16:19:51.537Z"
   },
   {
    "duration": 695,
    "start_time": "2022-06-03T16:19:51.581Z"
   },
   {
    "duration": 263,
    "start_time": "2022-06-03T16:19:52.277Z"
   },
   {
    "duration": 26,
    "start_time": "2022-06-03T16:19:52.541Z"
   },
   {
    "duration": 1607,
    "start_time": "2022-06-03T16:19:52.570Z"
   },
   {
    "duration": 819,
    "start_time": "2022-06-03T16:19:54.179Z"
   },
   {
    "duration": 2112,
    "start_time": "2022-06-03T16:19:55.000Z"
   },
   {
    "duration": 52,
    "start_time": "2022-06-03T16:19:57.113Z"
   },
   {
    "duration": 245,
    "start_time": "2022-06-03T16:19:57.166Z"
   },
   {
    "duration": 515,
    "start_time": "2022-06-03T16:19:57.413Z"
   },
   {
    "duration": 1879,
    "start_time": "2022-06-03T16:19:57.930Z"
   },
   {
    "duration": 662,
    "start_time": "2022-06-03T16:19:59.811Z"
   },
   {
    "duration": 328,
    "start_time": "2022-06-03T16:20:00.475Z"
   },
   {
    "duration": 1237,
    "start_time": "2022-06-03T16:20:00.805Z"
   },
   {
    "duration": 2211,
    "start_time": "2022-06-03T16:20:02.044Z"
   },
   {
    "duration": 204,
    "start_time": "2022-06-03T16:20:04.257Z"
   },
   {
    "duration": 1884,
    "start_time": "2022-06-03T16:20:04.463Z"
   },
   {
    "duration": 379,
    "start_time": "2022-06-03T16:20:06.349Z"
   },
   {
    "duration": 1053,
    "start_time": "2022-06-03T16:20:06.730Z"
   },
   {
    "duration": 1643,
    "start_time": "2022-06-03T16:20:07.785Z"
   },
   {
    "duration": 184,
    "start_time": "2022-06-03T16:20:09.430Z"
   },
   {
    "duration": 1398,
    "start_time": "2022-06-03T16:20:09.615Z"
   },
   {
    "duration": 1493,
    "start_time": "2022-06-03T16:20:11.015Z"
   },
   {
    "duration": 216,
    "start_time": "2022-06-03T16:20:12.510Z"
   },
   {
    "duration": 1422,
    "start_time": "2022-06-03T16:20:12.728Z"
   },
   {
    "duration": 250,
    "start_time": "2022-06-03T16:20:14.152Z"
   },
   {
    "duration": 1624,
    "start_time": "2022-06-03T16:20:14.404Z"
   }
  ],
  "kernelspec": {
   "display_name": "Python 3 (ipykernel)",
   "language": "python",
   "name": "python3"
  },
  "language_info": {
   "codemirror_mode": {
    "name": "ipython",
    "version": 3
   },
   "file_extension": ".py",
   "mimetype": "text/x-python",
   "name": "python",
   "nbconvert_exporter": "python",
   "pygments_lexer": "ipython3",
   "version": "3.10.6"
  },
  "toc": {
   "base_numbering": 1,
   "nav_menu": {},
   "number_sections": true,
   "sideBar": true,
   "skip_h1_title": true,
   "title_cell": "Содержание",
   "title_sidebar": "Contents",
   "toc_cell": true,
   "toc_position": {
    "height": "566.4px",
    "left": "81px",
    "top": "406.125px",
    "width": "265px"
   },
   "toc_section_display": true,
   "toc_window_display": true
  },
  "toc-autonumbering": true,
  "toc-showcode": false,
  "toc-showmarkdowntxt": false,
  "toc-showtags": false
 },
 "nbformat": 4,
 "nbformat_minor": 4
}
