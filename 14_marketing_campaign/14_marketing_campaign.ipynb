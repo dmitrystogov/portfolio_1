{
 "cells": [
  {
   "cell_type": "markdown",
   "id": "d3b52680-e9ae-4174-b134-f92403532e44",
   "metadata": {},
   "source": [
    "# Поиск зон роста для маркетинговых кампаний"
   ]
  },
  {
   "cell_type": "markdown",
   "id": "7c223020-253f-49f3-b6ef-a2afda38246e",
   "metadata": {
    "tags": []
   },
   "source": [
    "## Описание проекта\n",
    "**Цель исследования:** В большой сети мебельных магазинов рекламой занимаются несколько менеджеров. Они в рамках своих компетенций оптимизируют и управляют рекламными кампаниями. Необходимо увеличить доход не менее чем на 10% при сохранении текущего бюджета.\n",
    "\n",
    "**Задачи исследования:**\n",
    "Проанализировать данные по кампаниям, найти зоны роста и сформировать пул гипотез/ предложений на следующий месяц в виде списка обоснованных гипотез, по желанию в виде простейшего дашборда.\n",
    "\n",
    "**Исходные данные:** датасет с параметрами кампаний за предыдущий месяц."
   ]
  },
  {
   "cell_type": "code",
   "execution_count": 1,
   "id": "6520acac-eee6-466d-aa12-efa500fe1550",
   "metadata": {},
   "outputs": [],
   "source": [
    "import pandas as pd # импорт библиотеки pandas\n",
    "import numpy as np  # импорт библиотеки numpy\n",
    "from scipy.optimize import minimize # импорт модуля optimize из библиотеки numpy\n",
    "import warnings # импорт библиотеки warnings\n",
    "import seaborn as sns # импорт библиотеки seaborn\n",
    "import matplotlib.pyplot as plt # импорт библиотеки matplot\n",
    "import math # импорт библиотеки math\n",
    "import re # импорт библиотеки re"
   ]
  },
  {
   "cell_type": "code",
   "execution_count": 2,
   "id": "1ca2a665-6fbd-4260-a3f8-c2deb04be0d5",
   "metadata": {},
   "outputs": [],
   "source": [
    "warnings.simplefilter(action='ignore', category=FutureWarning) # отключение уведомлений об устаревшем коде\n",
    "pd.options.mode.chained_assignment = None  # default='warn'"
   ]
  },
  {
   "cell_type": "markdown",
   "id": "321f789b-86f8-4253-bd11-3b2b8ddfde46",
   "metadata": {},
   "source": [
    "От заказчика:\n",
    "1) Тут ROI стандартное от гугл аналитики, кривое, очень коррелирует  с доходом от клика) я бы не рекомендовала обращать особое внимание на производные параметры\n",
    "2) доход - это выручка\n",
    "3) конверсия и транзакция - это хороший вопрос. это разные  понятия как яблоки и груши) конверсия - это выполненное целевое действие на сайте, а транзакция - это екоммерс событие, типа конверсия в заказ, и  завершенный заказ как транзакция  - это разные сущности. В Екоме всегда важнее транзакция (подтвержденный заказ). Но опять же, ваши верхнеуровневые метрики это доход и расход. Не нужно усложнять\n",
    "4) Бюджет - это цена за клик * количество кликов\n",
    "5) Брендовый трафик приносит самую большую конверсию, но он его и некуда раститьь"
   ]
  },
  {
   "cell_type": "markdown",
   "id": "ee073157-f7ef-4f17-bca1-450082a3a743",
   "metadata": {},
   "source": [
    "## Изучение данных из файлов"
   ]
  },
  {
   "cell_type": "markdown",
   "id": "9b7ced8f-70c6-41f7-aba6-5c20dfecb536",
   "metadata": {},
   "source": [
    "Загрузим данные из файла."
   ]
  },
  {
   "cell_type": "code",
   "execution_count": 3,
   "id": "79ef2a2e-9e1d-4486-b717-5753fb587186",
   "metadata": {},
   "outputs": [],
   "source": [
    "df = pd.read_csv('YD_20220801-20220831.csv', decimal=\",\") # загрузим данные из файла"
   ]
  },
  {
   "cell_type": "markdown",
   "id": "5dd5e424-47d3-4a1b-838e-8d88da368a06",
   "metadata": {},
   "source": [
    "Посмотрим на структуру данных в таблице."
   ]
  },
  {
   "cell_type": "code",
   "execution_count": 4,
   "id": "41a5edae-d5a6-4784-885e-0f9e564da079",
   "metadata": {},
   "outputs": [
    {
     "name": "stdout",
     "output_type": "stream",
     "text": [
      "<class 'pandas.core.frame.DataFrame'>\n",
      "RangeIndex: 500 entries, 0 to 499\n",
      "Data columns (total 8 columns):\n",
      " #   Column                               Non-Null Count  Dtype  \n",
      "---  ------                               --------------  -----  \n",
      " 0   Кампания                             500 non-null    object \n",
      " 1   Стоимость                            500 non-null    float64\n",
      " 2   Цена за клик                         500 non-null    float64\n",
      " 3   Цена за конверсию                    500 non-null    float64\n",
      " 4   Цена за транзакцию                   500 non-null    float64\n",
      " 5   Доход от клика                       500 non-null    float64\n",
      " 6   Доход                                500 non-null    float64\n",
      " 7   Рентабельность инвестиций в рекламу  500 non-null    object \n",
      "dtypes: float64(6), object(2)\n",
      "memory usage: 31.4+ KB\n"
     ]
    }
   ],
   "source": [
    "df.info() # просмотр информации о таблице"
   ]
  },
  {
   "cell_type": "markdown",
   "id": "66c9c2bc-e4ce-4c76-bee8-6a8910c2bddc",
   "metadata": {},
   "source": [
    "Посмотрим как выглядят данные в таблице."
   ]
  },
  {
   "cell_type": "code",
   "execution_count": 5,
   "id": "fbce1d6f-9f0e-4295-aab2-8340a24df7f1",
   "metadata": {
    "tags": []
   },
   "outputs": [
    {
     "data": {
      "text/html": [
       "<div>\n",
       "<style scoped>\n",
       "    .dataframe tbody tr th:only-of-type {\n",
       "        vertical-align: middle;\n",
       "    }\n",
       "\n",
       "    .dataframe tbody tr th {\n",
       "        vertical-align: top;\n",
       "    }\n",
       "\n",
       "    .dataframe thead th {\n",
       "        text-align: right;\n",
       "    }\n",
       "</style>\n",
       "<table border=\"1\" class=\"dataframe\">\n",
       "  <thead>\n",
       "    <tr style=\"text-align: right;\">\n",
       "      <th></th>\n",
       "      <th>Кампания</th>\n",
       "      <th>Стоимость</th>\n",
       "      <th>Цена за клик</th>\n",
       "      <th>Цена за конверсию</th>\n",
       "      <th>Цена за транзакцию</th>\n",
       "      <th>Доход от клика</th>\n",
       "      <th>Доход</th>\n",
       "      <th>Рентабельность инвестиций в рекламу</th>\n",
       "    </tr>\n",
       "  </thead>\n",
       "  <tbody>\n",
       "    <tr>\n",
       "      <th>31</th>\n",
       "      <td>yd_spb_couches_all-types_network_v4_ctr</td>\n",
       "      <td>49677.59</td>\n",
       "      <td>53.59</td>\n",
       "      <td>558.18</td>\n",
       "      <td>0.00</td>\n",
       "      <td>0.00</td>\n",
       "      <td>0.0</td>\n",
       "      <td>0,00%</td>\n",
       "    </tr>\n",
       "    <tr>\n",
       "      <th>12</th>\n",
       "      <td>yd_msk_couches_general-akcii_network-v2_cpa</td>\n",
       "      <td>73142.54</td>\n",
       "      <td>5.92</td>\n",
       "      <td>1108.22</td>\n",
       "      <td>0.00</td>\n",
       "      <td>0.03</td>\n",
       "      <td>0.0</td>\n",
       "      <td>0,55%</td>\n",
       "    </tr>\n",
       "    <tr>\n",
       "      <th>358</th>\n",
       "      <td>yd_chel_couches_kreslo_all-types_search_ruchka</td>\n",
       "      <td>45760.68</td>\n",
       "      <td>50.29</td>\n",
       "      <td>788.98</td>\n",
       "      <td>22880.34</td>\n",
       "      <td>64.29</td>\n",
       "      <td>58440.0</td>\n",
       "      <td>127,86%</td>\n",
       "    </tr>\n",
       "    <tr>\n",
       "      <th>257</th>\n",
       "      <td>yd_tyum_wardrobe_generic_search_v5</td>\n",
       "      <td>47649.44</td>\n",
       "      <td>84.79</td>\n",
       "      <td>1162.18</td>\n",
       "      <td>47649.44</td>\n",
       "      <td>19.56</td>\n",
       "      <td>10990.0</td>\n",
       "      <td>23,06%</td>\n",
       "    </tr>\n",
       "    <tr>\n",
       "      <th>390</th>\n",
       "      <td>yd_ros_couches_all-types_general_network</td>\n",
       "      <td>72669.35</td>\n",
       "      <td>66.06</td>\n",
       "      <td>576.74</td>\n",
       "      <td>36334.68</td>\n",
       "      <td>75.32</td>\n",
       "      <td>82670.0</td>\n",
       "      <td>114,01%</td>\n",
       "    </tr>\n",
       "  </tbody>\n",
       "</table>\n",
       "</div>"
      ],
      "text/plain": [
       "                                           Кампания  Стоимость  Цена за клик  \\\n",
       "31          yd_spb_couches_all-types_network_v4_ctr   49677.59         53.59   \n",
       "12      yd_msk_couches_general-akcii_network-v2_cpa   73142.54          5.92   \n",
       "358  yd_chel_couches_kreslo_all-types_search_ruchka   45760.68         50.29   \n",
       "257              yd_tyum_wardrobe_generic_search_v5   47649.44         84.79   \n",
       "390        yd_ros_couches_all-types_general_network   72669.35         66.06   \n",
       "\n",
       "     Цена за конверсию  Цена за транзакцию  Доход от клика    Доход  \\\n",
       "31              558.18                0.00            0.00      0.0   \n",
       "12             1108.22                0.00            0.03      0.0   \n",
       "358             788.98            22880.34           64.29  58440.0   \n",
       "257            1162.18            47649.44           19.56  10990.0   \n",
       "390             576.74            36334.68           75.32  82670.0   \n",
       "\n",
       "    Рентабельность инвестиций в рекламу  \n",
       "31                                0,00%  \n",
       "12                                0,55%  \n",
       "358                             127,86%  \n",
       "257                              23,06%  \n",
       "390                             114,01%  "
      ]
     },
     "execution_count": 5,
     "metadata": {},
     "output_type": "execute_result"
    }
   ],
   "source": [
    "df.sample(5) # просмотр образца данных"
   ]
  },
  {
   "cell_type": "markdown",
   "id": "935aa011-7d88-42b3-b35f-c2ea1af592c2",
   "metadata": {},
   "source": [
    "### Описание данных:\n",
    "* `Кампания` - название кампании;\n",
    "* `Стоимость` - расходы на кампанию, руб.;\n",
    "* `Цена за клик`- цена за клик, руб.\n",
    "* `Цена за конверсию` - цена за конверсию, руб.\n",
    "* `Цена за транзакцию` - цена за транзакцию, руб.\n",
    "* `Доход от клика` - доход от клика, руб.\n",
    "* `Доход` - доход от кампании, руб.\n",
    "* `Рентабельность инвестиций в рекламу` - рентабельность кампании."
   ]
  },
  {
   "cell_type": "markdown",
   "id": "cba48ae0-3f1e-43db-ac94-c0c4812d25b2",
   "metadata": {},
   "source": [
    "### Вывод"
   ]
  },
  {
   "cell_type": "markdown",
   "id": "a55cb67f-fb51-46f2-9638-74c1741e51a0",
   "metadata": {},
   "source": [
    "Пропуски в данных отсутствуют. Типы данных во всех столбцах соответствуют содержимому, за исключением столбца `Рентабельность инвестиций в рекламу`, его необходимо преобразовать в числовой формат."
   ]
  },
  {
   "cell_type": "markdown",
   "id": "0532edd5-de56-4975-8d53-bf7b832b43b4",
   "metadata": {},
   "source": [
    "## Предобработка данных"
   ]
  },
  {
   "cell_type": "markdown",
   "id": "e6f5e140-81fb-4491-804f-93996cc6d5a8",
   "metadata": {},
   "source": [
    "### Переименование столбцов"
   ]
  },
  {
   "cell_type": "markdown",
   "id": "739132b4-34f7-4e43-9f1a-f3a6e77e16ab",
   "metadata": {},
   "source": [
    "Для удобства работы приведем названия столбцов в соответствие с правилами именования: назовем столбцы в латинице и строчными символами."
   ]
  },
  {
   "cell_type": "code",
   "execution_count": 6,
   "id": "d1a1ade7-093b-4700-83f6-65119ca6cdb4",
   "metadata": {},
   "outputs": [
    {
     "data": {
      "text/plain": [
       "Index(['promo', 'costs', 'cpc', 'cpa', 'cpt', 'epc', 'earnings', 'roi'], dtype='object')"
      ]
     },
     "execution_count": 6,
     "metadata": {},
     "output_type": "execute_result"
    }
   ],
   "source": [
    "df.columns=['promo', 'costs', 'cpc', 'cpa', 'cpt', 'epc', 'earnings', 'roi'] # переименование столбцов\n",
    "df.columns"
   ]
  },
  {
   "cell_type": "code",
   "execution_count": 7,
   "id": "96db55a8-3635-4b96-9eba-f3665fc08d15",
   "metadata": {},
   "outputs": [
    {
     "name": "stdout",
     "output_type": "stream",
     "text": [
      "<class 'pandas.core.frame.DataFrame'>\n",
      "RangeIndex: 500 entries, 0 to 499\n",
      "Data columns (total 8 columns):\n",
      " #   Column    Non-Null Count  Dtype  \n",
      "---  ------    --------------  -----  \n",
      " 0   promo     500 non-null    object \n",
      " 1   costs     500 non-null    float64\n",
      " 2   cpc       500 non-null    float64\n",
      " 3   cpa       500 non-null    float64\n",
      " 4   cpt       500 non-null    float64\n",
      " 5   epc       500 non-null    float64\n",
      " 6   earnings  500 non-null    float64\n",
      " 7   roi       500 non-null    object \n",
      "dtypes: float64(6), object(2)\n",
      "memory usage: 31.4+ KB\n"
     ]
    }
   ],
   "source": [
    "df.info() # просмотр информации о таблице"
   ]
  },
  {
   "cell_type": "markdown",
   "id": "545599e8-440d-4d7e-98fb-fedcbf766bc8",
   "metadata": {},
   "source": [
    "Столбцы успешно переименованы."
   ]
  },
  {
   "cell_type": "markdown",
   "id": "61d4c99a-a323-433f-9744-87c93cb3bf54",
   "metadata": {
    "tags": []
   },
   "source": [
    "### Изменение типов данных"
   ]
  },
  {
   "cell_type": "markdown",
   "id": "ed3db968-7a21-4d2c-a767-16958cc23911",
   "metadata": {},
   "source": [
    "Приведем значения столбца `roi` к числовому формату."
   ]
  },
  {
   "cell_type": "code",
   "execution_count": 8,
   "id": "9db80f69-f6e6-4976-ae81-c3f0436accea",
   "metadata": {},
   "outputs": [],
   "source": [
    "try:\n",
    "    df['roi'] = df['roi'].str.rstrip('%').str.replace(',','.').astype('float') / 100.0 # преобразование процентов в число\n",
    "except:\n",
    "    print('Ошибка преобразования типа данных')"
   ]
  },
  {
   "cell_type": "code",
   "execution_count": 9,
   "id": "5b8f87c3-0e5a-4c05-8c3b-1f7007ed1269",
   "metadata": {},
   "outputs": [
    {
     "name": "stdout",
     "output_type": "stream",
     "text": [
      "<class 'pandas.core.frame.DataFrame'>\n",
      "RangeIndex: 500 entries, 0 to 499\n",
      "Data columns (total 8 columns):\n",
      " #   Column    Non-Null Count  Dtype  \n",
      "---  ------    --------------  -----  \n",
      " 0   promo     500 non-null    object \n",
      " 1   costs     500 non-null    float64\n",
      " 2   cpc       500 non-null    float64\n",
      " 3   cpa       500 non-null    float64\n",
      " 4   cpt       500 non-null    float64\n",
      " 5   epc       500 non-null    float64\n",
      " 6   earnings  500 non-null    float64\n",
      " 7   roi       500 non-null    float64\n",
      "dtypes: float64(7), object(1)\n",
      "memory usage: 31.4+ KB\n"
     ]
    }
   ],
   "source": [
    "df.info() # просмотр информации о таблице"
   ]
  },
  {
   "cell_type": "markdown",
   "id": "1e9327ff-5fe1-47b9-b820-7a0452430bb2",
   "metadata": {},
   "source": [
    "Типы данных успешно преобразованы."
   ]
  },
  {
   "cell_type": "markdown",
   "id": "812a773e-cd39-4bb8-8c2e-26a02be6fa8b",
   "metadata": {},
   "source": [
    "### Поиск дубликатов\n",
    "\n",
    "Проверим таблицу на наличие явных дубликатов."
   ]
  },
  {
   "cell_type": "code",
   "execution_count": 10,
   "id": "982ee4cd-e10c-4aef-b87e-0de48d844706",
   "metadata": {
    "scrolled": true
   },
   "outputs": [
    {
     "name": "stdout",
     "output_type": "stream",
     "text": [
      "Количество дублирующихся строк в таблице \"df\": 0\n"
     ]
    }
   ],
   "source": [
    "print('Количество дублирующихся строк в таблице \"df\":', df.duplicated().sum()) # подсчёт явных дубликатов"
   ]
  },
  {
   "cell_type": "markdown",
   "id": "227d5068-4698-4d79-99bc-7501868e66b7",
   "metadata": {},
   "source": [
    "Явных дубликатов не обнаружено."
   ]
  },
  {
   "cell_type": "markdown",
   "id": "f0f8e3e2-6a51-417f-929f-9ac55d58fe4b",
   "metadata": {},
   "source": [
    "### Выводы"
   ]
  },
  {
   "cell_type": "markdown",
   "id": "4f59fc1d-11f0-4b9c-8482-2aff8f35feac",
   "metadata": {},
   "source": [
    "1. Мы привели названия столбцов в соответствие с правилами именования: сделали названия столбцов в латинице и строчными символами.\n",
    "2. Мы привели значения столбца `roi` к числовому формату.\n",
    "3. Явных дубликатов в данных не обнаружено."
   ]
  },
  {
   "cell_type": "markdown",
   "id": "4614565f-b680-4c00-92a1-bd57c8f7b937",
   "metadata": {},
   "source": [
    "## Расчет дополнительных параметров"
   ]
  },
  {
   "cell_type": "markdown",
   "id": "554023d8-fa63-4d48-b472-4f269fe50c51",
   "metadata": {},
   "source": [
    "Из названия кампании попробуем выделить значения региона и вида рекламного мероприятия."
   ]
  },
  {
   "cell_type": "markdown",
   "id": "41425799-db3d-4071-8396-0147448200a4",
   "metadata": {},
   "source": [
    "Выделим код региона регулярным выражением."
   ]
  },
  {
   "cell_type": "code",
   "execution_count": 11,
   "id": "12ca92b0-6c6b-4188-bc68-cd5e041840bd",
   "metadata": {},
   "outputs": [],
   "source": [
    "df['region'] = df.promo.apply(lambda x:  re.search(r'(?<=\\_)(.*?)(?=\\_)',x).group()) # применим регулярное выражение к названиям кампаний"
   ]
  },
  {
   "cell_type": "markdown",
   "id": "a27b1951-bd5f-4baf-bc06-a77aa8b4f3dd",
   "metadata": {},
   "source": [
    "Посмотрим, какие регионы удалось выделить."
   ]
  },
  {
   "cell_type": "code",
   "execution_count": 12,
   "id": "4e2f6192-b920-4e11-8dfa-d8a31e15fa0e",
   "metadata": {},
   "outputs": [
    {
     "data": {
      "text/plain": [
       "array(['msk', 'chel', 'spb', 'nsk', 'tvr', 'kra', 'nnov', 'vor', 'kazan',\n",
       "       'ros', 'orel', 'perm', 'ryz', 'vlg', 'vld', 'kal', 'yar', 'tul',\n",
       "       'smol', 'barn', 'sim', 'tmsk', 'sta', 'tyum', 'tamb', 'sarat',\n",
       "       'lip', 'kursk', 'sev', 'ekb', 'belg', 'cfo', 'bryan', 'ufa',\n",
       "       'volgd', 'tolyat', 'ivanovo', 'vlad', 'reg', 'countries'],\n",
       "      dtype=object)"
      ]
     },
     "execution_count": 12,
     "metadata": {},
     "output_type": "execute_result"
    }
   ],
   "source": [
    "df.region.unique()        "
   ]
  },
  {
   "cell_type": "markdown",
   "id": "4a50afed-ed54-4a03-a046-e005fd38e8ce",
   "metadata": {},
   "source": [
    "Выделенные регионы можно использовать при анализе."
   ]
  },
  {
   "cell_type": "markdown",
   "id": "69cfd4a0-f454-4dbd-bf95-6442d6bc7e97",
   "metadata": {},
   "source": [
    "Выделим из названия кампании виды основных рекламных мероприятий."
   ]
  },
  {
   "cell_type": "code",
   "execution_count": 13,
   "id": "0b422141-338d-411f-aee4-9443e6ea9ea8",
   "metadata": {},
   "outputs": [],
   "source": [
    "string_lst = ['brand_search', 'brand_network', 'general_search',  'generic_search', 'generic_network', 'all-types_search', 'all-types_network', \n",
    "              'all-types_category_network',  'all-types_general_network', 'size_search', 'size_network', 'selling-words_search', \n",
    "              'selling-words_network',  'general-words_search',  'general-words_network', 'specific_search', 'retargeting_new', \n",
    "               'dsa_search', 'dsa_pg_search', 'mkb_search', 'competitors_big_network', 'competitors_big_search' \n",
    "] #  создадим список видов кампаний\n",
    "df['type'] = df.promo.apply(lambda x: ''.join(re.findall(r\"(?=(\"+'|'.join(string_lst)+r\"))\", x))) # применим регулярное выражение к названиям кампаний"
   ]
  },
  {
   "cell_type": "code",
   "execution_count": 14,
   "id": "7bfba80b-f8a6-4b10-8161-e597e1f73f3a",
   "metadata": {},
   "outputs": [
    {
     "data": {
      "text/plain": [
       "                              78\n",
       "all-types_search              57\n",
       "retargeting_new               56\n",
       "all-types_general_network     54\n",
       "all-types_network             52\n",
       "all-types_category_network    34\n",
       "generic_search                29\n",
       "brand_search                  26\n",
       "general-words_search          26\n",
       "dsa_pg_search                 23\n",
       "selling-words_search          11\n",
       "general-words_network         11\n",
       "general_search                 7\n",
       "competitors_big_network        7\n",
       "brand_network                  7\n",
       "dsa_search                     6\n",
       "selling-words_network          4\n",
       "generic_network                3\n",
       "mkb_search                     2\n",
       "size_network                   2\n",
       "size_search                    2\n",
       "specific_search                2\n",
       "competitors_big_search         1\n",
       "Name: type, dtype: int64"
      ]
     },
     "execution_count": 14,
     "metadata": {},
     "output_type": "execute_result"
    }
   ],
   "source": [
    "df['type'].value_counts() # посчитаем число выделенных кампаний"
   ]
  },
  {
   "cell_type": "markdown",
   "id": "e71d17bd-9f73-4f98-8767-b4286fd4025f",
   "metadata": {},
   "source": [
    "Не удалось идентифицировать 78 мероприятий. Попробуем работать с теми, что есть."
   ]
  },
  {
   "cell_type": "markdown",
   "id": "ef86b67c-54ac-4f89-8701-3640cf0b9a4d",
   "metadata": {},
   "source": [
    "В исходных данных использовано стандартное ROI от гугл аналитики, оно не вполне адекватно отражает эффективность. Рассчитаем ROI самостоятельно. "
   ]
  },
  {
   "cell_type": "code",
   "execution_count": 15,
   "id": "4e4f6f78-c248-407e-b117-f7ab8804fa22",
   "metadata": {
    "tags": []
   },
   "outputs": [],
   "source": [
    "df['roi_calc'] = df['earnings']/df['costs'] # рассчитаем ROI"
   ]
  },
  {
   "cell_type": "code",
   "execution_count": 16,
   "id": "ae7bf978-e2a5-4efa-9455-fedf93a5ff8e",
   "metadata": {},
   "outputs": [
    {
     "data": {
      "text/html": [
       "<div>\n",
       "<style scoped>\n",
       "    .dataframe tbody tr th:only-of-type {\n",
       "        vertical-align: middle;\n",
       "    }\n",
       "\n",
       "    .dataframe tbody tr th {\n",
       "        vertical-align: top;\n",
       "    }\n",
       "\n",
       "    .dataframe thead th {\n",
       "        text-align: right;\n",
       "    }\n",
       "</style>\n",
       "<table border=\"1\" class=\"dataframe\">\n",
       "  <thead>\n",
       "    <tr style=\"text-align: right;\">\n",
       "      <th></th>\n",
       "      <th>promo</th>\n",
       "      <th>costs</th>\n",
       "      <th>cpc</th>\n",
       "      <th>cpa</th>\n",
       "      <th>cpt</th>\n",
       "      <th>epc</th>\n",
       "      <th>earnings</th>\n",
       "      <th>roi</th>\n",
       "      <th>region</th>\n",
       "      <th>type</th>\n",
       "      <th>roi_calc</th>\n",
       "    </tr>\n",
       "  </thead>\n",
       "  <tbody>\n",
       "    <tr>\n",
       "      <th>296</th>\n",
       "      <td>yd_msk_couches_razm_general-words_search-v2</td>\n",
       "      <td>92789.79</td>\n",
       "      <td>55.33</td>\n",
       "      <td>806.87</td>\n",
       "      <td>92789.79</td>\n",
       "      <td>14.43</td>\n",
       "      <td>23990.0</td>\n",
       "      <td>0.2608</td>\n",
       "      <td>msk</td>\n",
       "      <td>general-words_search</td>\n",
       "      <td>0.258541</td>\n",
       "    </tr>\n",
       "    <tr>\n",
       "      <th>97</th>\n",
       "      <td>yd_tvr_couches_general-words_search-v3</td>\n",
       "      <td>32704.07</td>\n",
       "      <td>87.68</td>\n",
       "      <td>743.27</td>\n",
       "      <td>0.00</td>\n",
       "      <td>0.00</td>\n",
       "      <td>0.0</td>\n",
       "      <td>0.0000</td>\n",
       "      <td>tvr</td>\n",
       "      <td>general-words_search</td>\n",
       "      <td>0.000000</td>\n",
       "    </tr>\n",
       "    <tr>\n",
       "      <th>408</th>\n",
       "      <td>yd_spb_competitors_big_network</td>\n",
       "      <td>145438.60</td>\n",
       "      <td>71.22</td>\n",
       "      <td>337.44</td>\n",
       "      <td>36359.65</td>\n",
       "      <td>59.51</td>\n",
       "      <td>120190.0</td>\n",
       "      <td>0.8355</td>\n",
       "      <td>spb</td>\n",
       "      <td>competitors_big_network</td>\n",
       "      <td>0.826397</td>\n",
       "    </tr>\n",
       "    <tr>\n",
       "      <th>308</th>\n",
       "      <td>yd_msk_couches_geo_search-v2_new</td>\n",
       "      <td>93931.84</td>\n",
       "      <td>68.46</td>\n",
       "      <td>1219.89</td>\n",
       "      <td>93931.84</td>\n",
       "      <td>22.44</td>\n",
       "      <td>29990.0</td>\n",
       "      <td>0.3277</td>\n",
       "      <td>msk</td>\n",
       "      <td></td>\n",
       "      <td>0.319274</td>\n",
       "    </tr>\n",
       "    <tr>\n",
       "      <th>157</th>\n",
       "      <td>yd_sta_couches_all-types_network_v4</td>\n",
       "      <td>22617.08</td>\n",
       "      <td>27.75</td>\n",
       "      <td>426.74</td>\n",
       "      <td>0.00</td>\n",
       "      <td>0.24</td>\n",
       "      <td>0.0</td>\n",
       "      <td>0.0087</td>\n",
       "      <td>sta</td>\n",
       "      <td>all-types_network</td>\n",
       "      <td>0.000000</td>\n",
       "    </tr>\n",
       "  </tbody>\n",
       "</table>\n",
       "</div>"
      ],
      "text/plain": [
       "                                           promo      costs    cpc      cpa  \\\n",
       "296  yd_msk_couches_razm_general-words_search-v2   92789.79  55.33   806.87   \n",
       "97        yd_tvr_couches_general-words_search-v3   32704.07  87.68   743.27   \n",
       "408               yd_spb_competitors_big_network  145438.60  71.22   337.44   \n",
       "308             yd_msk_couches_geo_search-v2_new   93931.84  68.46  1219.89   \n",
       "157          yd_sta_couches_all-types_network_v4   22617.08  27.75   426.74   \n",
       "\n",
       "          cpt    epc  earnings     roi region                     type  \\\n",
       "296  92789.79  14.43   23990.0  0.2608    msk     general-words_search   \n",
       "97       0.00   0.00       0.0  0.0000    tvr     general-words_search   \n",
       "408  36359.65  59.51  120190.0  0.8355    spb  competitors_big_network   \n",
       "308  93931.84  22.44   29990.0  0.3277    msk                            \n",
       "157      0.00   0.24       0.0  0.0087    sta        all-types_network   \n",
       "\n",
       "     roi_calc  \n",
       "296  0.258541  \n",
       "97   0.000000  \n",
       "408  0.826397  \n",
       "308  0.319274  \n",
       "157  0.000000  "
      ]
     },
     "execution_count": 16,
     "metadata": {},
     "output_type": "execute_result"
    }
   ],
   "source": [
    "df.sample(5) # просмотр образца данных"
   ]
  },
  {
   "cell_type": "markdown",
   "id": "2208df29-58ff-47ef-8990-1ffa977fe8ce",
   "metadata": {},
   "source": [
    "Необходимые дополнительные параметры рассчитаны."
   ]
  },
  {
   "cell_type": "markdown",
   "id": "d19bb0a9-aeea-4fc5-a95c-32e987eaced2",
   "metadata": {},
   "source": [
    "### Выводы\n",
    "1. Из названия кампании мы выделили значения региона и вида рекламного мероприятия, используя регулярные выражения.\n",
    "2. В исходных данных использовано стандартное ROI от гугл аналитики, оно не вполне адекватно отражает эффективность. Мы рассчитали ROI самостоятельно."
   ]
  },
  {
   "cell_type": "markdown",
   "id": "3a7e56f0-f78e-4ceb-9831-5e0b74a509de",
   "metadata": {},
   "source": [
    "## Исследовательский анализ данных"
   ]
  },
  {
   "cell_type": "markdown",
   "id": "1887995a-587c-41a3-a63f-d2aaa35ef664",
   "metadata": {},
   "source": [
    "Посмотрим регионы с наибольшим числом кампаний."
   ]
  },
  {
   "cell_type": "code",
   "execution_count": 17,
   "id": "7533cc12-1d59-49a8-8655-a72ded8482b3",
   "metadata": {},
   "outputs": [
    {
     "data": {
      "text/html": [
       "<div>\n",
       "<style scoped>\n",
       "    .dataframe tbody tr th:only-of-type {\n",
       "        vertical-align: middle;\n",
       "    }\n",
       "\n",
       "    .dataframe tbody tr th {\n",
       "        vertical-align: top;\n",
       "    }\n",
       "\n",
       "    .dataframe thead th {\n",
       "        text-align: right;\n",
       "    }\n",
       "</style>\n",
       "<table border=\"1\" class=\"dataframe\">\n",
       "  <thead>\n",
       "    <tr style=\"text-align: right;\">\n",
       "      <th></th>\n",
       "      <th>roi</th>\n",
       "      <th>roi_calc</th>\n",
       "      <th>promo</th>\n",
       "    </tr>\n",
       "    <tr>\n",
       "      <th>region</th>\n",
       "      <th></th>\n",
       "      <th></th>\n",
       "      <th></th>\n",
       "    </tr>\n",
       "  </thead>\n",
       "  <tbody>\n",
       "    <tr>\n",
       "      <th>msk</th>\n",
       "      <td>1.363143</td>\n",
       "      <td>1.340616</td>\n",
       "      <td>89</td>\n",
       "    </tr>\n",
       "    <tr>\n",
       "      <th>spb</th>\n",
       "      <td>1.408833</td>\n",
       "      <td>1.391178</td>\n",
       "      <td>45</td>\n",
       "    </tr>\n",
       "    <tr>\n",
       "      <th>kra</th>\n",
       "      <td>1.286900</td>\n",
       "      <td>1.267724</td>\n",
       "      <td>26</td>\n",
       "    </tr>\n",
       "    <tr>\n",
       "      <th>ekb</th>\n",
       "      <td>1.415600</td>\n",
       "      <td>1.404221</td>\n",
       "      <td>19</td>\n",
       "    </tr>\n",
       "    <tr>\n",
       "      <th>yar</th>\n",
       "      <td>0.736012</td>\n",
       "      <td>0.724008</td>\n",
       "      <td>16</td>\n",
       "    </tr>\n",
       "    <tr>\n",
       "      <th>vld</th>\n",
       "      <td>1.637793</td>\n",
       "      <td>1.630525</td>\n",
       "      <td>15</td>\n",
       "    </tr>\n",
       "    <tr>\n",
       "      <th>vor</th>\n",
       "      <td>1.511457</td>\n",
       "      <td>1.499386</td>\n",
       "      <td>14</td>\n",
       "    </tr>\n",
       "    <tr>\n",
       "      <th>sta</th>\n",
       "      <td>1.315369</td>\n",
       "      <td>1.288466</td>\n",
       "      <td>13</td>\n",
       "    </tr>\n",
       "    <tr>\n",
       "      <th>ufa</th>\n",
       "      <td>0.481162</td>\n",
       "      <td>0.468525</td>\n",
       "      <td>13</td>\n",
       "    </tr>\n",
       "    <tr>\n",
       "      <th>tvr</th>\n",
       "      <td>0.310692</td>\n",
       "      <td>0.304275</td>\n",
       "      <td>13</td>\n",
       "    </tr>\n",
       "  </tbody>\n",
       "</table>\n",
       "</div>"
      ],
      "text/plain": [
       "             roi  roi_calc  promo\n",
       "region                           \n",
       "msk     1.363143  1.340616     89\n",
       "spb     1.408833  1.391178     45\n",
       "kra     1.286900  1.267724     26\n",
       "ekb     1.415600  1.404221     19\n",
       "yar     0.736012  0.724008     16\n",
       "vld     1.637793  1.630525     15\n",
       "vor     1.511457  1.499386     14\n",
       "sta     1.315369  1.288466     13\n",
       "ufa     0.481162  0.468525     13\n",
       "tvr     0.310692  0.304275     13"
      ]
     },
     "execution_count": 17,
     "metadata": {},
     "output_type": "execute_result"
    }
   ],
   "source": [
    "(df.groupby('region') # сгруппируем данные по регионам\n",
    "    .agg({'roi':'mean','roi_calc':'mean','promo':'count'})\n",
    "    .sort_values('promo', ascending=False)\n",
    "    .head(10)\n",
    ")"
   ]
  },
  {
   "cell_type": "markdown",
   "id": "1cbfd52f-0775-4759-9e51-c02635634948",
   "metadata": {},
   "source": [
    "Наибольшее число кампаний проводилось в Москве и Санкт-Петербурге."
   ]
  },
  {
   "cell_type": "markdown",
   "id": "7aae9e1b-68a0-4066-9f62-82e627a08187",
   "metadata": {},
   "source": [
    "Посмотрим средние значения ROI по типам рекламных мероприятий."
   ]
  },
  {
   "cell_type": "code",
   "execution_count": 18,
   "id": "8e84be57-d5e6-47ca-8db6-3315968242a5",
   "metadata": {
    "tags": []
   },
   "outputs": [
    {
     "data": {
      "text/html": [
       "<div>\n",
       "<style scoped>\n",
       "    .dataframe tbody tr th:only-of-type {\n",
       "        vertical-align: middle;\n",
       "    }\n",
       "\n",
       "    .dataframe tbody tr th {\n",
       "        vertical-align: top;\n",
       "    }\n",
       "\n",
       "    .dataframe thead th {\n",
       "        text-align: right;\n",
       "    }\n",
       "</style>\n",
       "<table border=\"1\" class=\"dataframe\">\n",
       "  <thead>\n",
       "    <tr style=\"text-align: right;\">\n",
       "      <th></th>\n",
       "      <th>roi</th>\n",
       "      <th>roi_calc</th>\n",
       "      <th>promo</th>\n",
       "    </tr>\n",
       "    <tr>\n",
       "      <th>type</th>\n",
       "      <th></th>\n",
       "      <th></th>\n",
       "      <th></th>\n",
       "    </tr>\n",
       "  </thead>\n",
       "  <tbody>\n",
       "    <tr>\n",
       "      <th>brand_search</th>\n",
       "      <td>7.706446</td>\n",
       "      <td>7.624077</td>\n",
       "      <td>26</td>\n",
       "    </tr>\n",
       "    <tr>\n",
       "      <th>general-words_network</th>\n",
       "      <td>1.421245</td>\n",
       "      <td>1.408612</td>\n",
       "      <td>11</td>\n",
       "    </tr>\n",
       "    <tr>\n",
       "      <th>retargeting_new</th>\n",
       "      <td>1.323770</td>\n",
       "      <td>1.305278</td>\n",
       "      <td>56</td>\n",
       "    </tr>\n",
       "    <tr>\n",
       "      <th>dsa_search</th>\n",
       "      <td>1.295917</td>\n",
       "      <td>1.287934</td>\n",
       "      <td>6</td>\n",
       "    </tr>\n",
       "    <tr>\n",
       "      <th>competitors_big_search</th>\n",
       "      <td>1.272400</td>\n",
       "      <td>1.269794</td>\n",
       "      <td>1</td>\n",
       "    </tr>\n",
       "    <tr>\n",
       "      <th></th>\n",
       "      <td>1.140656</td>\n",
       "      <td>1.122054</td>\n",
       "      <td>78</td>\n",
       "    </tr>\n",
       "    <tr>\n",
       "      <th>selling-words_search</th>\n",
       "      <td>1.128191</td>\n",
       "      <td>1.099664</td>\n",
       "      <td>11</td>\n",
       "    </tr>\n",
       "    <tr>\n",
       "      <th>brand_network</th>\n",
       "      <td>0.917714</td>\n",
       "      <td>0.904586</td>\n",
       "      <td>7</td>\n",
       "    </tr>\n",
       "    <tr>\n",
       "      <th>generic_search</th>\n",
       "      <td>0.789152</td>\n",
       "      <td>0.776747</td>\n",
       "      <td>29</td>\n",
       "    </tr>\n",
       "    <tr>\n",
       "      <th>dsa_pg_search</th>\n",
       "      <td>0.768909</td>\n",
       "      <td>0.763782</td>\n",
       "      <td>23</td>\n",
       "    </tr>\n",
       "    <tr>\n",
       "      <th>all-types_search</th>\n",
       "      <td>0.674479</td>\n",
       "      <td>0.666718</td>\n",
       "      <td>57</td>\n",
       "    </tr>\n",
       "    <tr>\n",
       "      <th>general-words_search</th>\n",
       "      <td>0.665938</td>\n",
       "      <td>0.655594</td>\n",
       "      <td>26</td>\n",
       "    </tr>\n",
       "    <tr>\n",
       "      <th>mkb_search</th>\n",
       "      <td>0.545850</td>\n",
       "      <td>0.544774</td>\n",
       "      <td>2</td>\n",
       "    </tr>\n",
       "    <tr>\n",
       "      <th>selling-words_network</th>\n",
       "      <td>0.489475</td>\n",
       "      <td>0.465611</td>\n",
       "      <td>4</td>\n",
       "    </tr>\n",
       "    <tr>\n",
       "      <th>size_search</th>\n",
       "      <td>0.419950</td>\n",
       "      <td>0.415399</td>\n",
       "      <td>2</td>\n",
       "    </tr>\n",
       "    <tr>\n",
       "      <th>all-types_network</th>\n",
       "      <td>0.377183</td>\n",
       "      <td>0.365110</td>\n",
       "      <td>52</td>\n",
       "    </tr>\n",
       "    <tr>\n",
       "      <th>generic_network</th>\n",
       "      <td>0.360367</td>\n",
       "      <td>0.340183</td>\n",
       "      <td>3</td>\n",
       "    </tr>\n",
       "    <tr>\n",
       "      <th>competitors_big_network</th>\n",
       "      <td>0.313129</td>\n",
       "      <td>0.304157</td>\n",
       "      <td>7</td>\n",
       "    </tr>\n",
       "    <tr>\n",
       "      <th>size_network</th>\n",
       "      <td>0.297600</td>\n",
       "      <td>0.283889</td>\n",
       "      <td>2</td>\n",
       "    </tr>\n",
       "    <tr>\n",
       "      <th>specific_search</th>\n",
       "      <td>0.285800</td>\n",
       "      <td>0.281174</td>\n",
       "      <td>2</td>\n",
       "    </tr>\n",
       "    <tr>\n",
       "      <th>all-types_general_network</th>\n",
       "      <td>0.246367</td>\n",
       "      <td>0.241853</td>\n",
       "      <td>54</td>\n",
       "    </tr>\n",
       "    <tr>\n",
       "      <th>all-types_category_network</th>\n",
       "      <td>0.192400</td>\n",
       "      <td>0.185250</td>\n",
       "      <td>34</td>\n",
       "    </tr>\n",
       "    <tr>\n",
       "      <th>general_search</th>\n",
       "      <td>0.001943</td>\n",
       "      <td>0.000000</td>\n",
       "      <td>7</td>\n",
       "    </tr>\n",
       "  </tbody>\n",
       "</table>\n",
       "</div>"
      ],
      "text/plain": [
       "                                 roi  roi_calc  promo\n",
       "type                                                 \n",
       "brand_search                7.706446  7.624077     26\n",
       "general-words_network       1.421245  1.408612     11\n",
       "retargeting_new             1.323770  1.305278     56\n",
       "dsa_search                  1.295917  1.287934      6\n",
       "competitors_big_search      1.272400  1.269794      1\n",
       "                            1.140656  1.122054     78\n",
       "selling-words_search        1.128191  1.099664     11\n",
       "brand_network               0.917714  0.904586      7\n",
       "generic_search              0.789152  0.776747     29\n",
       "dsa_pg_search               0.768909  0.763782     23\n",
       "all-types_search            0.674479  0.666718     57\n",
       "general-words_search        0.665938  0.655594     26\n",
       "mkb_search                  0.545850  0.544774      2\n",
       "selling-words_network       0.489475  0.465611      4\n",
       "size_search                 0.419950  0.415399      2\n",
       "all-types_network           0.377183  0.365110     52\n",
       "generic_network             0.360367  0.340183      3\n",
       "competitors_big_network     0.313129  0.304157      7\n",
       "size_network                0.297600  0.283889      2\n",
       "specific_search             0.285800  0.281174      2\n",
       "all-types_general_network   0.246367  0.241853     54\n",
       "all-types_category_network  0.192400  0.185250     34\n",
       "general_search              0.001943  0.000000      7"
      ]
     },
     "execution_count": 18,
     "metadata": {},
     "output_type": "execute_result"
    }
   ],
   "source": [
    "(df.groupby('type') # сгруппируем данные по типам рекламных мероприятий\n",
    "    .agg({'roi':'mean','roi_calc':'mean','promo':'count'})\n",
    "    .sort_values('roi', ascending=False)\n",
    ")"
   ]
  },
  {
   "cell_type": "markdown",
   "id": "aeabb5b1-10ee-4247-8625-ba2050473970",
   "metadata": {},
   "source": [
    "Наивысшим средним ROI обладает brand_search. Но при расчете бюджета следует учесть, что емкость этого канала уже исчерпана."
   ]
  },
  {
   "cell_type": "markdown",
   "id": "4c801beb-aa86-4604-80e3-6321f1a89a90",
   "metadata": {},
   "source": [
    "Построим тепловые карты по регионам и типам рекламных мероприятий."
   ]
  },
  {
   "cell_type": "code",
   "execution_count": 19,
   "id": "747b05cb-9303-4517-8333-806a3d22db7e",
   "metadata": {},
   "outputs": [],
   "source": [
    "promo_reg = df.pivot_table(index='region', columns='type', values='roi_calc', aggfunc='mean') # строим таблицу для тепловой карты"
   ]
  },
  {
   "cell_type": "code",
   "execution_count": 20,
   "id": "7a833655-9b67-4b0a-b6ac-615307a80982",
   "metadata": {},
   "outputs": [
    {
     "data": {
      "image/png": "[encoded data removed]",
      "text/plain": [
       "<Figure size 1080x1080 with 2 Axes>"
      ]
     },
     "metadata": {
      "needs_background": "light"
     },
     "output_type": "display_data"
    }
   ],
   "source": [
    "plt.figure(figsize = (15, 15)) # строим тепловую карту\n",
    "sns.heatmap(\n",
    "    promo_reg, annot=True\n",
    ") \n",
    "plt.title('Тепловая карта ROI')\n",
    "plt.tick_params(axis='x', which='major', labelsize=10, labelbottom = False, bottom=False, top = False, labeltop=True, rotation=90)\n",
    "plt.show()"
   ]
  },
  {
   "cell_type": "markdown",
   "id": "586795de-5258-476b-9661-7dc32d65b956",
   "metadata": {},
   "source": [
    "Мы видим, что большинство типов рекламных мероприятий используется только в Москве и Санкт-Петербурге. Чтобы не потерять рекламные кампании в регионах, выделим срез кампаний проводимых по большинству регионов (исключив еще и \"слишком эффективный\" `brand_search`)."
   ]
  },
  {
   "cell_type": "code",
   "execution_count": 21,
   "id": "2a1ff300-3ff3-43e7-b55c-43657bff2312",
   "metadata": {},
   "outputs": [],
   "source": [
    "slice = ['all-types_search', # создаем список региональных кампаний \n",
    " 'generic_search',\n",
    " 'all-types_network',\n",
    " 'dsa_pg_search',\n",
    " 'retargeting_new',\n",
    " 'all-types_general_network',\n",
    " 'all-types_category_network']"
   ]
  },
  {
   "cell_type": "code",
   "execution_count": 22,
   "id": "a1c565f5-e54d-4484-be31-47e1acd688eb",
   "metadata": {},
   "outputs": [
    {
     "data": {
      "image/png": "[encoded data removed]",
      "text/plain": [
       "<Figure size 1080x1080 with 2 Axes>"
      ]
     },
     "metadata": {
      "needs_background": "light"
     },
     "output_type": "display_data"
    }
   ],
   "source": [
    "plt.figure(figsize = (15, 15)) # строим тепловую карту\n",
    "sns.heatmap(promo_reg[slice], annot=True) \n",
    "plt.title('Тепловая карта ROI')\n",
    "plt.tick_params(axis='x', which='major', labelsize=10, labelbottom = False, bottom=False, top = False, labeltop=True, rotation=90)\n",
    "plt.show()"
   ]
  },
  {
   "cell_type": "markdown",
   "id": "bfbb2337-317d-42f0-8b93-965da915bb8d",
   "metadata": {},
   "source": [
    "Высокие значения ROI показывают мероприятия `retargeting_new` и `dsa_pg_search`."
   ]
  },
  {
   "cell_type": "markdown",
   "id": "d746af10-cf0b-492b-98c6-4df12bee9dce",
   "metadata": {},
   "source": [
    "Посмотрим бюджет по рекламным мероприятиям."
   ]
  },
  {
   "cell_type": "code",
   "execution_count": 23,
   "id": "8375d062-8ff1-432d-90d1-5236296f5900",
   "metadata": {},
   "outputs": [
    {
     "data": {
      "text/html": [
       "<div>\n",
       "<style scoped>\n",
       "    .dataframe tbody tr th:only-of-type {\n",
       "        vertical-align: middle;\n",
       "    }\n",
       "\n",
       "    .dataframe tbody tr th {\n",
       "        vertical-align: top;\n",
       "    }\n",
       "\n",
       "    .dataframe thead th {\n",
       "        text-align: right;\n",
       "    }\n",
       "</style>\n",
       "<table border=\"1\" class=\"dataframe\">\n",
       "  <thead>\n",
       "    <tr style=\"text-align: right;\">\n",
       "      <th></th>\n",
       "      <th>costs</th>\n",
       "      <th>earnings</th>\n",
       "    </tr>\n",
       "    <tr>\n",
       "      <th>type</th>\n",
       "      <th></th>\n",
       "      <th></th>\n",
       "    </tr>\n",
       "  </thead>\n",
       "  <tbody>\n",
       "    <tr>\n",
       "      <th></th>\n",
       "      <td>8663492.22</td>\n",
       "      <td>13000660.0</td>\n",
       "    </tr>\n",
       "    <tr>\n",
       "      <th>retargeting_new</th>\n",
       "      <td>6727314.20</td>\n",
       "      <td>12664036.0</td>\n",
       "    </tr>\n",
       "    <tr>\n",
       "      <th>brand_search</th>\n",
       "      <td>5138480.70</td>\n",
       "      <td>36807082.0</td>\n",
       "    </tr>\n",
       "    <tr>\n",
       "      <th>all-types_search</th>\n",
       "      <td>2918797.71</td>\n",
       "      <td>2206496.0</td>\n",
       "    </tr>\n",
       "    <tr>\n",
       "      <th>generic_search</th>\n",
       "      <td>2908060.82</td>\n",
       "      <td>2815952.0</td>\n",
       "    </tr>\n",
       "    <tr>\n",
       "      <th>dsa_pg_search</th>\n",
       "      <td>2900802.78</td>\n",
       "      <td>3639640.0</td>\n",
       "    </tr>\n",
       "    <tr>\n",
       "      <th>all-types_network</th>\n",
       "      <td>2290911.52</td>\n",
       "      <td>732102.0</td>\n",
       "    </tr>\n",
       "    <tr>\n",
       "      <th>all-types_general_network</th>\n",
       "      <td>2025734.65</td>\n",
       "      <td>651160.0</td>\n",
       "    </tr>\n",
       "    <tr>\n",
       "      <th>general-words_search</th>\n",
       "      <td>1639662.49</td>\n",
       "      <td>1104136.0</td>\n",
       "    </tr>\n",
       "    <tr>\n",
       "      <th>selling-words_search</th>\n",
       "      <td>1446711.41</td>\n",
       "      <td>1413096.0</td>\n",
       "    </tr>\n",
       "    <tr>\n",
       "      <th>all-types_category_network</th>\n",
       "      <td>959406.13</td>\n",
       "      <td>206756.0</td>\n",
       "    </tr>\n",
       "    <tr>\n",
       "      <th>size_search</th>\n",
       "      <td>777538.58</td>\n",
       "      <td>287860.0</td>\n",
       "    </tr>\n",
       "    <tr>\n",
       "      <th>specific_search</th>\n",
       "      <td>670600.77</td>\n",
       "      <td>190720.0</td>\n",
       "    </tr>\n",
       "    <tr>\n",
       "      <th>competitors_big_network</th>\n",
       "      <td>605491.49</td>\n",
       "      <td>389080.0</td>\n",
       "    </tr>\n",
       "    <tr>\n",
       "      <th>dsa_search</th>\n",
       "      <td>418385.07</td>\n",
       "      <td>821326.0</td>\n",
       "    </tr>\n",
       "    <tr>\n",
       "      <th>general-words_network</th>\n",
       "      <td>330470.49</td>\n",
       "      <td>517635.0</td>\n",
       "    </tr>\n",
       "    <tr>\n",
       "      <th>brand_network</th>\n",
       "      <td>263592.27</td>\n",
       "      <td>371363.0</td>\n",
       "    </tr>\n",
       "    <tr>\n",
       "      <th>selling-words_network</th>\n",
       "      <td>236787.36</td>\n",
       "      <td>139940.0</td>\n",
       "    </tr>\n",
       "    <tr>\n",
       "      <th>general_search</th>\n",
       "      <td>158637.55</td>\n",
       "      <td>0.0</td>\n",
       "    </tr>\n",
       "    <tr>\n",
       "      <th>size_network</th>\n",
       "      <td>138185.20</td>\n",
       "      <td>22990.0</td>\n",
       "    </tr>\n",
       "    <tr>\n",
       "      <th>competitors_big_search</th>\n",
       "      <td>132838.13</td>\n",
       "      <td>168677.0</td>\n",
       "    </tr>\n",
       "    <tr>\n",
       "      <th>generic_network</th>\n",
       "      <td>132036.11</td>\n",
       "      <td>53430.0</td>\n",
       "    </tr>\n",
       "    <tr>\n",
       "      <th>mkb_search</th>\n",
       "      <td>50279.90</td>\n",
       "      <td>12990.0</td>\n",
       "    </tr>\n",
       "  </tbody>\n",
       "</table>\n",
       "</div>"
      ],
      "text/plain": [
       "                                 costs    earnings\n",
       "type                                              \n",
       "                            8663492.22  13000660.0\n",
       "retargeting_new             6727314.20  12664036.0\n",
       "brand_search                5138480.70  36807082.0\n",
       "all-types_search            2918797.71   2206496.0\n",
       "generic_search              2908060.82   2815952.0\n",
       "dsa_pg_search               2900802.78   3639640.0\n",
       "all-types_network           2290911.52    732102.0\n",
       "all-types_general_network   2025734.65    651160.0\n",
       "general-words_search        1639662.49   1104136.0\n",
       "selling-words_search        1446711.41   1413096.0\n",
       "all-types_category_network   959406.13    206756.0\n",
       "size_search                  777538.58    287860.0\n",
       "specific_search              670600.77    190720.0\n",
       "competitors_big_network      605491.49    389080.0\n",
       "dsa_search                   418385.07    821326.0\n",
       "general-words_network        330470.49    517635.0\n",
       "brand_network                263592.27    371363.0\n",
       "selling-words_network        236787.36    139940.0\n",
       "general_search               158637.55         0.0\n",
       "size_network                 138185.20     22990.0\n",
       "competitors_big_search       132838.13    168677.0\n",
       "generic_network              132036.11     53430.0\n",
       "mkb_search                    50279.90     12990.0"
      ]
     },
     "execution_count": 23,
     "metadata": {},
     "output_type": "execute_result"
    }
   ],
   "source": [
    "budget = df.groupby('type').agg({'costs':'sum','earnings':'sum'}) # группируем данные по типу кампании, суммируя доходы и расходы\n",
    "budget.sort_values('costs', ascending=False)"
   ]
  },
  {
   "cell_type": "markdown",
   "id": "3dc71022-579e-4aee-9ea8-b67f6efcfe0d",
   "metadata": {},
   "source": [
    "Для максимизации эффекта имеет смысл перераспределять достаточно большие бюджеты. Для дальнейшей работы отберем маркетинговые мероприятия с наибольшими бюджетами. "
   ]
  },
  {
   "cell_type": "code",
   "execution_count": 24,
   "id": "fc3d694f-e481-443d-83ed-3abb3d930d89",
   "metadata": {
    "tags": []
   },
   "outputs": [
    {
     "data": {
      "text/plain": [
       "['',\n",
       " 'retargeting_new',\n",
       " 'brand_search',\n",
       " 'all-types_search',\n",
       " 'generic_search',\n",
       " 'dsa_pg_search',\n",
       " 'all-types_network',\n",
       " 'all-types_general_network',\n",
       " 'general-words_search',\n",
       " 'selling-words_search',\n",
       " 'all-types_category_network',\n",
       " 'size_search']"
      ]
     },
     "execution_count": 24,
     "metadata": {},
     "output_type": "execute_result"
    }
   ],
   "source": [
    "top_budget = budget.sort_values('costs', ascending=False).head(12).index.to_list() # создаем список кампаний с самыми большими расходами\n",
    "top_budget"
   ]
  },
  {
   "cell_type": "markdown",
   "id": "242ecef9-993b-481b-b582-105cf6751174",
   "metadata": {},
   "source": [
    "Исключим из списка неидентифицированные мероприятия и `brand_search`."
   ]
  },
  {
   "cell_type": "code",
   "execution_count": 25,
   "id": "ac04104f-8a3a-4417-a368-292973044367",
   "metadata": {
    "tags": []
   },
   "outputs": [],
   "source": [
    "top_budget.remove('') # исключаем неидентифицированные мероприятия и brand_search.\n",
    "top_budget.remove('brand_search')"
   ]
  },
  {
   "cell_type": "markdown",
   "id": "83b101d8-bdb5-4846-ad26-ea3076ab1739",
   "metadata": {},
   "source": [
    "Построим графики отобранных рекламных мероприятий по их доходам и расходам."
   ]
  },
  {
   "cell_type": "code",
   "execution_count": 26,
   "id": "c362bcb5-e7f2-4077-881b-348af0634f2e",
   "metadata": {},
   "outputs": [
    {
     "data": {
      "image/png": "[encoded data removed]",
      "text/plain": [
       "<Figure size 864x432 with 2 Axes>"
      ]
     },
     "metadata": {
      "needs_background": "light"
     },
     "output_type": "display_data"
    }
   ],
   "source": [
    "plt.figure(figsize=(12, 6)) # строим диаграммы расходов и доходов \n",
    "\n",
    "ax1 = plt.subplot(1,2,1)\n",
    "ax1 = (budget.loc[top_budget]['costs']   \n",
    "    .plot( \n",
    "        kind='bar', \n",
    "        title='Расходы по каналам привлечения',\n",
    "        grid=True,   \n",
    "        color=sns.color_palette(\"Paired\"),  \n",
    "        label='_nolegend_'\n",
    "    )\n",
    ") \n",
    "\n",
    "ax1.set_ylabel('Сумма, руб.')\n",
    "ax1.set_xlabel('Канал привлечения')\n",
    "\n",
    "\n",
    "ax2 = plt.subplot(1,2,2, sharey = ax1)\n",
    "ax2 = (budget.loc[top_budget]['earnings']   \n",
    "    .plot(\n",
    "        kind='bar', \n",
    "        title='Доходы по каналам привлечения',\n",
    "        grid=True,\n",
    "        color=sns.color_palette(\"Paired\")\n",
    "    )\n",
    ") \n",
    "ax2.set_ylabel('Доходы, руб.')\n",
    "ax2.set_xlabel('Канал привлечения')\n",
    " \n",
    "# исключаем наложение графиков друг на друга\n",
    "plt.tight_layout()\n",
    "\n",
    "plt.show()"
   ]
  },
  {
   "cell_type": "markdown",
   "id": "5c93f132-8d67-466a-8d7f-07f8fa5a109a",
   "metadata": {},
   "source": [
    "Визуально наиболее эффективные мероприятия - `retargeting_new`, `generic_search` и `dsa_pg_search`."
   ]
  },
  {
   "cell_type": "markdown",
   "id": "a9410b1a-ff39-499b-87de-e833ca542c49",
   "metadata": {},
   "source": [
    "### Выводы\n",
    "\n",
    "По результатам исследовательского анализа мы установили, что:\n",
    "1. Наибольшее число кампаний проводилось в Москве и Санкт-Петербурге.\n",
    "2. Наивысшим средним ROI обладает мероприятие `brand_search`. Но при расчете бюджета учтем, что емкость этого канала уже исчерпана.\n",
    "3. Большинство типов рекламных мероприятий используется только в Москве и Санкт-Петербурге. \n",
    "4. В срезе кампаний проводимых по большинству регионов высокие значения ROI показывают мероприятия `retargeting_new` и `dsa_pg_search`.\n",
    "5. Для максимизации эффекта имеет смысл перераспределять достаточно большие бюджеты. Для дальнейшей работы мы отобрали маркетинговые мероприятия с наибольшими бюджетами: `retargeting_new`, `all-types_search`, `generic_search`, `dsa_pg_search`, `all-types_network`, `all-types_general_network`, `general-words_search`,  `selling-words_search`, `all-types_category_network`, `size_search`.\n",
    "6. По графикам доходов и расходов наиболее эффективные мероприятия - `retargeting_new`, `generic_search` и `dsa_pg_search`."
   ]
  },
  {
   "cell_type": "markdown",
   "id": "e73a3c22-0fb0-4ce9-b5ca-a9be62afcc3b",
   "metadata": {
    "tags": []
   },
   "source": [
    "## Расчет зон роста"
   ]
  },
  {
   "cell_type": "markdown",
   "id": "7d215a64-3e3e-4aec-9b88-4f7f084b2b3d",
   "metadata": {},
   "source": [
    "Предположим, что ROI маркетинговых мероприятий сохранятся в следующем месяце. Тогда мы сможем перераспределить бюджеты мероприятий так, чтобы максимизировать доход."
   ]
  },
  {
   "cell_type": "markdown",
   "id": "a934b483-ce62-45f8-a23f-ca1ea4c6ab5f",
   "metadata": {
    "tags": []
   },
   "source": [
    "Создадим целевую функцию, определяющую доход по отобранным мероприятиям. Это будет линейная функция от затрат на мероприятия с коэффициентами средним ROI по мероприятию."
   ]
  },
  {
   "cell_type": "markdown",
   "id": "649039e8-8018-4d56-9eed-23db4bef7d79",
   "metadata": {},
   "source": [
    "Рассчитаем ROI по мероприятиям."
   ]
  },
  {
   "cell_type": "code",
   "execution_count": 27,
   "id": "a5193bc7-5665-43ab-b832-9637a085ff56",
   "metadata": {},
   "outputs": [
    {
     "data": {
      "text/html": [
       "<div>\n",
       "<style scoped>\n",
       "    .dataframe tbody tr th:only-of-type {\n",
       "        vertical-align: middle;\n",
       "    }\n",
       "\n",
       "    .dataframe tbody tr th {\n",
       "        vertical-align: top;\n",
       "    }\n",
       "\n",
       "    .dataframe thead th {\n",
       "        text-align: right;\n",
       "    }\n",
       "</style>\n",
       "<table border=\"1\" class=\"dataframe\">\n",
       "  <thead>\n",
       "    <tr style=\"text-align: right;\">\n",
       "      <th></th>\n",
       "      <th>costs</th>\n",
       "      <th>earnings</th>\n",
       "      <th>roi</th>\n",
       "    </tr>\n",
       "    <tr>\n",
       "      <th>type</th>\n",
       "      <th></th>\n",
       "      <th></th>\n",
       "      <th></th>\n",
       "    </tr>\n",
       "  </thead>\n",
       "  <tbody>\n",
       "    <tr>\n",
       "      <th>retargeting_new</th>\n",
       "      <td>6727314.20</td>\n",
       "      <td>12664036.0</td>\n",
       "      <td>1.882480</td>\n",
       "    </tr>\n",
       "    <tr>\n",
       "      <th>all-types_search</th>\n",
       "      <td>2918797.71</td>\n",
       "      <td>2206496.0</td>\n",
       "      <td>0.755961</td>\n",
       "    </tr>\n",
       "    <tr>\n",
       "      <th>generic_search</th>\n",
       "      <td>2908060.82</td>\n",
       "      <td>2815952.0</td>\n",
       "      <td>0.968326</td>\n",
       "    </tr>\n",
       "    <tr>\n",
       "      <th>dsa_pg_search</th>\n",
       "      <td>2900802.78</td>\n",
       "      <td>3639640.0</td>\n",
       "      <td>1.254701</td>\n",
       "    </tr>\n",
       "    <tr>\n",
       "      <th>all-types_network</th>\n",
       "      <td>2290911.52</td>\n",
       "      <td>732102.0</td>\n",
       "      <td>0.319568</td>\n",
       "    </tr>\n",
       "    <tr>\n",
       "      <th>all-types_general_network</th>\n",
       "      <td>2025734.65</td>\n",
       "      <td>651160.0</td>\n",
       "      <td>0.321444</td>\n",
       "    </tr>\n",
       "    <tr>\n",
       "      <th>general-words_search</th>\n",
       "      <td>1639662.49</td>\n",
       "      <td>1104136.0</td>\n",
       "      <td>0.673392</td>\n",
       "    </tr>\n",
       "    <tr>\n",
       "      <th>selling-words_search</th>\n",
       "      <td>1446711.41</td>\n",
       "      <td>1413096.0</td>\n",
       "      <td>0.976764</td>\n",
       "    </tr>\n",
       "    <tr>\n",
       "      <th>all-types_category_network</th>\n",
       "      <td>959406.13</td>\n",
       "      <td>206756.0</td>\n",
       "      <td>0.215504</td>\n",
       "    </tr>\n",
       "    <tr>\n",
       "      <th>size_search</th>\n",
       "      <td>777538.58</td>\n",
       "      <td>287860.0</td>\n",
       "      <td>0.370220</td>\n",
       "    </tr>\n",
       "  </tbody>\n",
       "</table>\n",
       "</div>"
      ],
      "text/plain": [
       "                                 costs    earnings       roi\n",
       "type                                                        \n",
       "retargeting_new             6727314.20  12664036.0  1.882480\n",
       "all-types_search            2918797.71   2206496.0  0.755961\n",
       "generic_search              2908060.82   2815952.0  0.968326\n",
       "dsa_pg_search               2900802.78   3639640.0  1.254701\n",
       "all-types_network           2290911.52    732102.0  0.319568\n",
       "all-types_general_network   2025734.65    651160.0  0.321444\n",
       "general-words_search        1639662.49   1104136.0  0.673392\n",
       "selling-words_search        1446711.41   1413096.0  0.976764\n",
       "all-types_category_network   959406.13    206756.0  0.215504\n",
       "size_search                  777538.58    287860.0  0.370220"
      ]
     },
     "execution_count": 27,
     "metadata": {},
     "output_type": "execute_result"
    }
   ],
   "source": [
    "agg_roi = df.groupby('type').agg({'costs':'sum', 'earnings':'sum'}).loc[top_budget] # группируем данные по типу кампании, суммируя доходы и считая ROI\n",
    "agg_roi['roi'] = agg_roi.earnings/agg_roi.costs\n",
    "agg_roi"
   ]
  },
  {
   "cell_type": "markdown",
   "id": "e07acd48-8cac-4eab-8a14-81468c810a62",
   "metadata": {},
   "source": [
    "Определим целевую функцию. Будем максимизировать доход, как линейную функцию от расходов по мероприятиям, умноженных на соответствующий ROI. Для использования функции scypy minimize возьмем с обратным знаком."
   ]
  },
  {
   "cell_type": "code",
   "execution_count": 28,
   "id": "565da674-2241-4cf1-a972-4cf00f0a9d88",
   "metadata": {},
   "outputs": [],
   "source": [
    "def f(x):\n",
    "    '''\n",
    "    Линейная функция от расходов по мероприятиям, умноженных на соответствующий ROI\n",
    "    x - вектор расходов по мероприятиям\n",
    "    '''\n",
    "    return (x[0]*coef[0] +x [1]*coef[1] + x[2]*coef[2] + x[3]*coef[3] +\n",
    "            x[4]*coef[4] + x[5]*coef[5] + x[6]*coef[6] +\n",
    "            x[7]*coef[7] + x[8]*coef[8] + x[9]*coef[9]) * (-1)"
   ]
  },
  {
   "cell_type": "markdown",
   "id": "88b59339-8201-414f-b8fb-b36088b6c2f2",
   "metadata": {},
   "source": [
    "Создадим вектор коэффициентов."
   ]
  },
  {
   "cell_type": "code",
   "execution_count": 29,
   "id": "ec96cd7e-28ca-4a14-ae39-6df17a36a0f1",
   "metadata": {
    "tags": []
   },
   "outputs": [
    {
     "data": {
      "text/plain": [
       "array([1.88248023, 0.75596058, 0.96832638, 1.25470095, 0.31956799,\n",
       "       0.32144388, 0.67339224, 0.97676426, 0.21550415, 0.37021957])"
      ]
     },
     "execution_count": 29,
     "metadata": {},
     "output_type": "execute_result"
    }
   ],
   "source": [
    "coef = np.array(agg_roi.roi) # cоздадим вектор коэффициентов\n",
    "coef"
   ]
  },
  {
   "cell_type": "markdown",
   "id": "a10bcdb5-ec3d-4636-a3d7-e825abf47426",
   "metadata": {},
   "source": [
    "Зададим ограничения для бюджета каждого мероприятия от 0 до суммы всех затрат."
   ]
  },
  {
   "cell_type": "code",
   "execution_count": 30,
   "id": "8db90191-3d94-4312-91f1-9a9685b37d2e",
   "metadata": {},
   "outputs": [
    {
     "data": {
      "text/plain": [
       "((0, 24594940.29),\n",
       " (0, 24594940.29),\n",
       " (0, 24594940.29),\n",
       " (0, 24594940.29),\n",
       " (0, 24594940.29),\n",
       " (0, 24594940.29),\n",
       " (0, 24594940.29),\n",
       " (0, 24594940.29),\n",
       " (0, 24594940.29),\n",
       " (0, 24594940.29))"
      ]
     },
     "execution_count": 30,
     "metadata": {},
     "output_type": "execute_result"
    }
   ],
   "source": [
    "b = (0, agg_roi.costs.sum()) # зададим ограничения для бюджета\n",
    "bnds = (b,b,b,b,b,b,b,b,b,b) # запишем их в вектор\n",
    "bnds"
   ]
  },
  {
   "cell_type": "markdown",
   "id": "9948629a-9abb-4733-ba87-3c4153872b3e",
   "metadata": {},
   "source": [
    "Создадим вектор начальных значений."
   ]
  },
  {
   "cell_type": "code",
   "execution_count": 31,
   "id": "129ef7e6-8313-454e-8508-bb5f9940cce7",
   "metadata": {},
   "outputs": [
    {
     "data": {
      "text/plain": [
       "type\n",
       "retargeting_new               6727314.20\n",
       "all-types_search              2918797.71\n",
       "generic_search                2908060.82\n",
       "dsa_pg_search                 2900802.78\n",
       "all-types_network             2290911.52\n",
       "all-types_general_network     2025734.65\n",
       "general-words_search          1639662.49\n",
       "selling-words_search          1446711.41\n",
       "all-types_category_network     959406.13\n",
       "size_search                    777538.58\n",
       "Name: costs, dtype: float64"
      ]
     },
     "execution_count": 31,
     "metadata": {},
     "output_type": "execute_result"
    }
   ],
   "source": [
    "x0 = agg_roi.costs # cоздадим вектор начальных значений - по данным предыдущего месяца\n",
    "x0"
   ]
  },
  {
   "cell_type": "markdown",
   "id": "01a3a8f3-107c-459e-8a60-c87c8459b39c",
   "metadata": {},
   "source": [
    "Зададим ограничения для целевой функции: сумма всех расходов на мероприятия всегда постоянна."
   ]
  },
  {
   "cell_type": "code",
   "execution_count": 32,
   "id": "33aa9a4b-4f0a-4c02-aae1-b67ead8b225f",
   "metadata": {},
   "outputs": [],
   "source": [
    "cons=({'type': 'eq', # словарь ограничений - строгое равенство\n",
    "       'fun': lambda x: np.sum(x) - np.sum(agg_roi.costs)} # сумма всех расходов как в предыдущем месяце\n",
    "      )"
   ]
  },
  {
   "cell_type": "markdown",
   "id": "b94ffaac-4589-481f-95b2-932ea9145dc8",
   "metadata": {},
   "source": [
    "Максимизируем функцию."
   ]
  },
  {
   "cell_type": "code",
   "execution_count": 33,
   "id": "c4877fa6-86cf-45f7-a00b-41d23ebf5071",
   "metadata": {},
   "outputs": [
    {
     "name": "stdout",
     "output_type": "stream",
     "text": [
      "     fun: -32670403.170605183\n",
      "     jac: array([-1.75, -0.75, -1.  , -1.25, -0.5 , -0.25, -0.75, -1.  , -0.25,\n",
      "       -0.25])\n",
      " message: 'Optimization terminated successfully'\n",
      "    nfev: 418\n",
      "     nit: 37\n",
      "    njev: 37\n",
      "  status: 0\n",
      " success: True\n",
      "       x: array([1.00707281e+07, 2.53429481e+06, 3.38620792e+06, 4.33097708e+06,\n",
      "       8.13503284e+05, 2.77444673e+05, 1.23087043e+06, 1.95091399e+06,\n",
      "       2.01298943e-03, 2.73011303e-02])\n"
     ]
    }
   ],
   "source": [
    "res = minimize(f, x0, method='SLSQP', constraints=cons, bounds=bnds) # максимизируем функцию\n",
    "print(res)"
   ]
  },
  {
   "cell_type": "markdown",
   "id": "cae8bb8c-b969-4ebf-a727-d91bb22da191",
   "metadata": {},
   "source": [
    "Сохраним новые расходы на мероприятия."
   ]
  },
  {
   "cell_type": "code",
   "execution_count": 34,
   "id": "29b2e00c-9182-4930-9aec-25f120626f4c",
   "metadata": {},
   "outputs": [
    {
     "name": "stdout",
     "output_type": "stream",
     "text": [
      "[10070728.08  2534294.81  3386207.92  4330977.08   813503.28   277444.67\n",
      "  1230870.43  1950913.99        0.          0.03]\n"
     ]
    }
   ],
   "source": [
    "new_budget = res.x # cохраним новые расходы на мероприятия\n",
    "np.set_printoptions(precision=2, suppress=True)\n",
    "print(new_budget)"
   ]
  },
  {
   "cell_type": "markdown",
   "id": "45b2b25c-cc26-41a2-86db-354adab23c60",
   "metadata": {},
   "source": [
    "Выведем результаты перераспределения бюджетов. "
   ]
  },
  {
   "cell_type": "code",
   "execution_count": 35,
   "id": "c98376eb-13be-493e-956a-bca67aaaaf77",
   "metadata": {},
   "outputs": [
    {
     "name": "stdout",
     "output_type": "stream",
     "text": [
      "Results for campaign slice\n",
      "Old earnings: 25721234.00\n",
      "New earnings: 32670403.17\n",
      "Increase ratio for slice: 27.02%\n",
      "--------------------\n",
      "Total earnings increase: 8.88%\n"
     ]
    }
   ],
   "source": [
    "print('Results for campaign slice')\n",
    "print('Old earnings: {:.2f}'.format(np.sum(coef*agg_roi.costs)))\n",
    "print('New earnings: {:.2f}'.format(np.sum(coef*new_budget)))\n",
    "print('Increase ratio for slice: {:.2%}'.format((np.sum(coef*new_budget)-np.sum(coef*agg_roi.costs))/np.sum(coef*agg_roi.costs)))\n",
    "print('-'*20)\n",
    "print('Total earnings increase: {:.2%}'.format((np.sum(coef*new_budget)-np.sum(coef*agg_roi.costs))/df.earnings.sum()))"
   ]
  },
  {
   "cell_type": "markdown",
   "id": "c15e0a8e-a01b-4f22-9aa8-2878497f435f",
   "metadata": {},
   "source": [
    "В результате перераспределения бюджетов для выбранных маркетинговых активностей доход увеличился на 27%, что дает увеличение общего дохода почти на 9%, что близко к целевому значению."
   ]
  },
  {
   "cell_type": "markdown",
   "id": "e0adbc8e-7829-400c-b4f0-288ab3ff7564",
   "metadata": {},
   "source": [
    "Посмотрим как перераспределились бюджеты."
   ]
  },
  {
   "cell_type": "code",
   "execution_count": 36,
   "id": "ee359d7e-ebe7-4037-8661-50123a2dfd6b",
   "metadata": {},
   "outputs": [
    {
     "data": {
      "text/plain": [
       "type\n",
       "retargeting_new                 49.70%\n",
       "all-types_search               -13.17%\n",
       "generic_search                  16.44%\n",
       "dsa_pg_search                   49.30%\n",
       "all-types_network              -64.49%\n",
       "all-types_general_network      -86.30%\n",
       "general-words_search           -24.93%\n",
       "selling-words_search            34.85%\n",
       "all-types_category_network    -100.00%\n",
       "size_search                   -100.00%\n",
       "dtype: object"
      ]
     },
     "execution_count": 36,
     "metadata": {},
     "output_type": "execute_result"
    }
   ],
   "source": [
    "data = pd.DataFrame({'old_budget': agg_roi['costs'], 'new_budget': new_budget}) # создаем таблицу со старым и новым бюджетами\n",
    "((data.new_budget - data.old_budget)/data.old_budget).map('{:.2%}'.format) # считаем разницу"
   ]
  },
  {
   "cell_type": "markdown",
   "id": "80e702a4-2ed5-442b-adc7-42152b79ddc5",
   "metadata": {},
   "source": [
    "Для сравнения построим графики затрат на мероприятия до максимизации и после."
   ]
  },
  {
   "cell_type": "code",
   "execution_count": 37,
   "id": "25e6aaab-90d8-482c-a0ea-bc68ff6c0692",
   "metadata": {},
   "outputs": [
    {
     "data": {
      "image/png": "[encoded data removed]",
      "text/plain": [
       "<Figure size 864x432 with 1 Axes>"
      ]
     },
     "metadata": {
      "needs_background": "light"
     },
     "output_type": "display_data"
    }
   ],
   "source": [
    "# построим диаграммы расходов\n",
    "\n",
    "ax = (data\n",
    "    .plot( \n",
    "        kind='bar', \n",
    "        title='Расходы по каналам привлечения',\n",
    "        grid=True,   \n",
    "        color=sns.color_palette(\"Paired\"),  \n",
    "        label='_nolegend_',\n",
    "        figsize=(12,6)\n",
    "    )\n",
    ") \n",
    "\n",
    "ax.set_ylabel('Расходы, руб.')\n",
    "ax.set_xlabel('Канал привлечения')\n",
    "plt.show()"
   ]
  },
  {
   "cell_type": "markdown",
   "id": "5938b6a6-60a1-42bb-80c4-76c1cb11c1c9",
   "metadata": {},
   "source": [
    "Из тепловой карты мы видим, что одна из маркетинговых активностей `selling-words_search`, бюджет которой увеличен на 34% осуществляется только в Москве. Возможно перераспределение нанесет ущерб кампаниям в регионах. Попробуем ограничить бюджет этой активности начальным значением и заново максимизировать доход."
   ]
  },
  {
   "cell_type": "code",
   "execution_count": 38,
   "id": "92e86404-c84d-4751-b391-ae8c2ec15743",
   "metadata": {
    "tags": []
   },
   "outputs": [
    {
     "data": {
      "text/plain": [
       "((0, 24594940.29),\n",
       " (0, 24594940.29),\n",
       " (0, 24594940.29),\n",
       " (0, 24594940.29),\n",
       " (0, 24594940.29),\n",
       " (0, 24594940.29),\n",
       " (0, 24594940.29),\n",
       " (0, 1446711.41),\n",
       " (0, 24594940.29),\n",
       " (0, 24594940.29))"
      ]
     },
     "execution_count": 38,
     "metadata": {},
     "output_type": "execute_result"
    }
   ],
   "source": [
    "b = (0, np.sum(agg_roi.costs)) # зададим ограничения для бюджета\n",
    "bnds = (b,b,b,b,b,b,b,(0,agg_roi.costs[7]),b,b) # запишем их в вектор\n",
    "bnds"
   ]
  },
  {
   "cell_type": "code",
   "execution_count": 39,
   "id": "638a57fd-345d-433e-b878-61d59941309f",
   "metadata": {},
   "outputs": [
    {
     "name": "stdout",
     "output_type": "stream",
     "text": [
      "     fun: -37818926.14067112\n",
      "     jac: array([-2. , -1. , -1. , -1.5, -0.5, -0.5, -0.5, -1. ,  0. , -0.5])\n",
      " message: 'Iteration limit reached'\n",
      "    nfev: 1088\n",
      "     nit: 100\n",
      "    njev: 98\n",
      "  status: 9\n",
      " success: False\n",
      "       x: array([14052162.59,  1769456.2 ,  2796768.93,  5333956.66,        0.  ,\n",
      "              0.  ,        0.  ,   642593.78,        2.13,        0.  ])\n"
     ]
    }
   ],
   "source": [
    "cons=({'type': 'eq', # максимизируем функцию\n",
    "       'fun': lambda x: np.sum(x) - np.sum(agg_roi.costs)}\n",
    "      )\n",
    "res = minimize(f, x0, constraints=cons, bounds=bnds)\n",
    "print(res)"
   ]
  },
  {
   "cell_type": "code",
   "execution_count": 40,
   "id": "02d812c5-87d9-49d5-aecd-46af0e99e749",
   "metadata": {},
   "outputs": [
    {
     "data": {
      "text/plain": [
       "array([14052162.59,  1769456.2 ,  2796768.93,  5333956.66,        0.  ,\n",
       "              0.  ,        0.  ,   642593.78,        2.13,        0.  ])"
      ]
     },
     "execution_count": 40,
     "metadata": {},
     "output_type": "execute_result"
    }
   ],
   "source": [
    "new_budget = res.x # cохраним новые расходы на мероприятия\n",
    "new_budget"
   ]
  },
  {
   "cell_type": "markdown",
   "id": "b06fe901-7f72-4880-b41f-46ee8e471d28",
   "metadata": {},
   "source": [
    "Выведем результаты перераспределения бюджетов. "
   ]
  },
  {
   "cell_type": "code",
   "execution_count": 41,
   "id": "ab3e0b00-6366-4ea9-a319-74d77251dea7",
   "metadata": {},
   "outputs": [
    {
     "name": "stdout",
     "output_type": "stream",
     "text": [
      "Results for campaign slice\n",
      "Old earnings: 25721234.00\n",
      "New earnings: 37818926.14\n",
      "Increase ratio for slice: 47.03%\n",
      "--------------------\n",
      "Total earnings increase: 15.47%\n"
     ]
    }
   ],
   "source": [
    "print('Results for campaign slice')\n",
    "print('Old earnings: {:.2f}'.format(np.sum(coef*agg_roi.costs)))\n",
    "print('New earnings: {:.2f}'.format(np.sum(coef*new_budget)))\n",
    "print('Increase ratio for slice: {:.2%}'.format((np.sum(coef*new_budget)-np.sum(coef*agg_roi.costs))/np.sum(coef*agg_roi.costs)))\n",
    "print('-'*20)\n",
    "print('Total earnings increase: {:.2%}'.format((np.sum(coef*new_budget)-np.sum(coef*agg_roi.costs))/df.earnings.sum()))"
   ]
  },
  {
   "cell_type": "markdown",
   "id": "870b86f0-e354-4d72-8578-4e748cc467c4",
   "metadata": {},
   "source": [
    "В результате нового перераспределения бюджетов для выбранных маркетинговых активностей доход увеличился на 54%, что дает увеличение общего дохода почти на 18%. Это заметно выше, чем в предыдущем варианте, посмотрим за счет чего это произошло."
   ]
  },
  {
   "cell_type": "markdown",
   "id": "f03edebc-3485-4e5d-8dcf-fafbfb708c24",
   "metadata": {},
   "source": [
    "Посмотрим как перераспределились бюджеты."
   ]
  },
  {
   "cell_type": "code",
   "execution_count": 42,
   "id": "ff94b89b-b2a9-48d1-a85f-2f86c9ccc60d",
   "metadata": {},
   "outputs": [
    {
     "data": {
      "text/plain": [
       "type\n",
       "retargeting_new                108.88%\n",
       "all-types_search               -39.38%\n",
       "generic_search                  -3.83%\n",
       "dsa_pg_search                   83.88%\n",
       "all-types_network             -100.00%\n",
       "all-types_general_network     -100.00%\n",
       "general-words_search          -100.00%\n",
       "selling-words_search           -55.58%\n",
       "all-types_category_network    -100.00%\n",
       "size_search                   -100.00%\n",
       "dtype: object"
      ]
     },
     "execution_count": 42,
     "metadata": {},
     "output_type": "execute_result"
    }
   ],
   "source": [
    "data = pd.DataFrame({'old_budget': agg_roi['costs'], 'new_budget': new_budget}) # создаем таблицу со старым и новым бюджетами\n",
    "((data.new_budget - data.old_budget)/data.old_budget).map('{:.2%}'.format) # считаем разницу"
   ]
  },
  {
   "cell_type": "markdown",
   "id": "eec94a1c-33d6-4539-8374-eda1dd851e5d",
   "metadata": {},
   "source": [
    "Для сравнения построим графики затрат на мероприятия до максимизации и после."
   ]
  },
  {
   "cell_type": "code",
   "execution_count": 43,
   "id": "43edf0c3-68ab-4daa-b68c-a2ecff4379e0",
   "metadata": {},
   "outputs": [
    {
     "data": {
      "image/png": "[encoded data removed]",
      "text/plain": [
       "<Figure size 864x432 with 1 Axes>"
      ]
     },
     "metadata": {
      "needs_background": "light"
     },
     "output_type": "display_data"
    }
   ],
   "source": [
    "# построим диаграммы расходов\n",
    "\n",
    "ax = (data\n",
    "    .plot( \n",
    "        kind='bar', \n",
    "        title='Расходы по каналам привлечения',\n",
    "        grid=True,   \n",
    "        color=sns.color_palette(\"Paired\"),  \n",
    "        label='_nolegend_',\n",
    "        figsize=(12,6)\n",
    "    )\n",
    ") \n",
    "\n",
    "ax.set_ylabel('Расходы, руб.')\n",
    "ax.set_xlabel('Канал привлечения')\n",
    "plt.show()"
   ]
  },
  {
   "cell_type": "markdown",
   "id": "efd227be-12be-4af3-9c59-7e6b8eb51306",
   "metadata": {},
   "source": [
    "Новое перераспределение дало прирост за счет более чем двукратного увеличения расходов всего на два типа маркетинговых активностей - `retargeting_new` и `dsa_pg_search`. В реальности такое перераспределение не приведет к расчетному росту дохода из-за ограниченной емкости каналов. "
   ]
  },
  {
   "cell_type": "markdown",
   "id": "6e252a5e-3332-452d-a1fd-8079362d3e2e",
   "metadata": {},
   "source": [
    "Кажется целесообразным использовать первый вариант перераспределения, а в случае необходимости увеличения бюджета в региональных кампаниях - перераспределять бюджет от `selling-words_search` в `retargeting_new` и `dsa_pg_search`."
   ]
  },
  {
   "cell_type": "markdown",
   "id": "a2bf508d-6673-40fc-ac60-0ea98fa2fc7e",
   "metadata": {},
   "source": [
    "### Выводы"
   ]
  },
  {
   "cell_type": "markdown",
   "id": "da96d9c2-ddda-4ed4-a2dd-d977310bd82a",
   "metadata": {
    "tags": []
   },
   "source": [
    "1. Мы сформулировали гипотезу, что ROI маркетинговых мероприятий сохранятся в следующем месяце. D этом случае мы сможем перераспределить бюджеты мероприятий так, чтобы максимизировать доход.\n",
    "2. Мы создали целевую функцию, определяющую доход по отобранным мероприятиям. Это линейная функция от затрат на мероприятия с коэффициентами средним ROI по мероприятию.\n",
    "3. Будем перераспределять бюджеты для мероприятий, с самыми большими бюджетами. Но исключим `brand_search`, так как емкость этого канала уже исчерпана.\n",
    "4. Для отобранных мероприятиям мы рассчитали ROI.\n",
    "5. Мы определили целевую функцию дохода, как линейную функцию от расходов по мероприятиям, умноженных на соответствующий ROI. Для использования функции scypy minimize сумму возьмем с обратным знаком.\n",
    "6. Для расчетов мы создали вектор коэффициентов - ROI, вектор начальных значений и ограничения для бюджета каждого мероприятия от 0 до суммы всех затрат.\n",
    "7. Для целевой функции установили ограничения: сумма всех затрат на мероприятия всегда постоянна и равна исходной сумме бюджетов.\n",
    "8. По итогам максимизации доход при перераспределении бюджета по выбранным кампаниям составил 32 670 403 рублей, что больше исходного на 27%. Для всех кампаний это дает увеличение почти на 9%\n",
    "9. Итоговое перераспределение:<pre>\n",
    "retargeting_new                 49.70%\n",
    "all-types_search               -13.17%\n",
    "generic_search                  16.44%\n",
    "dsa_pg_search                   49.30%\n",
    "all-types_network              -64.49%\n",
    "all-types_general_network      -86.30%\n",
    "general-words_search           -24.93%\n",
    "selling-words_search            34.85%\n",
    "all-types_category_network    -100.00%\n",
    "size_search                   -100.00%\n",
    "</pre>\n",
    "10. Одна из маркетинговых активностей `selling-words_search`, бюджет которой увеличен на 34% осуществляется только в Москве. Чтобы не нанести ущерб кампаниям в регионах, мы ограничили бюджет этой активности начальным значением и заново максимизировать доход.\n",
    "11. Доход по выбранным кампаниям после перераспределения увеличился на 47%, но прирост достигнут за счет более чем двукратного увеличения расходов всего на два типа маркетинговых активностей - `retargeting_new` и `dsa_pg_search`. В реальности такое перераспределение не приведет к расчетному росту дохода из-за ограниченной емкости каналов.\n",
    "12. Мы предложили использовать первый вариант перераспределения, а в случае необходимости увеличения бюджета в региональных кампаниях - перераспределять бюджет от `selling-words_search` в `retargeting_new` и `dsa_pg_search`."
   ]
  },
  {
   "cell_type": "markdown",
   "id": "117266f2-7939-4131-a654-a2d4741e28f5",
   "metadata": {},
   "source": [
    "## Итоговые выводы"
   ]
  },
  {
   "cell_type": "markdown",
   "id": "ede96af0-39ac-45ab-b511-a475b916cd04",
   "metadata": {},
   "source": [
    "1. Пропуски в данных отсутствуют. Типы данных во всех столбцах соответствуют содержимому, за исключением столбца `Рентабельность инвестиций в рекламу`, его необходимо преобразование в числовой формат.\n",
    "2. Мы привели названия столбцов в соответствие с правилами именования: сделали названия столбцов в латинице и строчными символами.\n",
    "3. Мы привели значения столбца roi к числовому формату.\n",
    "4. Явных дубликатов в данных не обнаружено.\n",
    "5. Из названия кампании мы выделили значения региона и вида рекламного мероприятия, используя регулярные выражения.\n",
    "6. В исходных данных использовано стандартное ROI от гугл аналитики, оно не вполне адекватно отражает эффективность. Мы рассчитали ROI самостоятельно.\n",
    "7. По результатам исследовательского анализа мы установили, что:<pre>\n",
    "* Наибольшее число кампаний проводилось в Москве и Санкт-Петербурге.\n",
    "* Наивысшим средним ROI обладает мероприятие `brand_search`. Но при расчете бюджета учтем, что емкость этого канала уже исчерпана.\n",
    "* Большинство типов рекламных мероприятий используется только в Москве и Санкт-Петербурге. \n",
    "* В срезе кампаний проводимых по большинству регионов высокие значения ROI показывают мероприятия `retargeting_new` и `dsa_pg_search`.\n",
    "* Для максимизации эффекта имеет смысл перераспределять достаточно большие бюджеты. Для дальнейшей работы мы отобрали маркетинговые мероприятия с наибольшими бюджетами: `retargeting_new`, `all-types_search`, `generic_search`, `dsa_pg_search`, `all-types_network`, `all-types_general_network`, `general-words_search`,  `selling-words_search`, `all-types_category_network`, `size_search`.\n",
    "* По графикам доходов и расходов наиболее эффективные мероприятия - `retargeting_new`, `generic_search` и `dsa_pg_search`.</pre>\n",
    "8. Мы сформулировали гипотезу, что ROI маркетинговых мероприятий сохранятся в следующем месяце. D этом случае мы сможем перераспределить бюджеты мероприятий так, чтобы максимизировать доход.\n",
    "9. Мы создали целевую функцию, определяющую доход по отобранным мероприятиям. Это линейная функция от затрат на мероприятия с коэффициентами средним ROI по мероприятию.\n",
    "10. Будем перераспределять бюджеты для мероприятий, с самыми большими бюджетами. Но исключим brand_search, так как емкость этого канала уже исчерпана.\n",
    "11. Для отобранных мероприятиям мы рассчитали ROI.\n",
    "12. Мы определили целевую функцию дохода, как линейную функцию от расходов по мероприятиям, умноженных на соответствующий ROI. Для использования функции scypy minimize сумму возьмем с обратным знаком.\n",
    "13. Для расчетов мы создали вектор коэффициентов - ROI, вектор начальных значений и ограничения для бюджета каждого мероприятия от 0 до суммы всех затрат.\n",
    "14. Для целевой функции установили ограничения: сумма всех затрат на мероприятия всегда постоянна и равна исходной сумме бюджетов.\n",
    "15. По итогам максимизации доход при перераспределении бюджета по выбранным кампаниям составил 32 670 403 рублей, что больше исходного на 27%. Для всех кампаний это дает увеличение почти на 9%<pre>\n",
    "Итоговое перераспределение:\n",
    "retargeting_new                 49.70%\n",
    "all-types_search               -13.17%\n",
    "generic_search                  16.44%\n",
    "dsa_pg_search                   49.30%\n",
    "all-types_network              -64.49%\n",
    "all-types_general_network      -86.30%\n",
    "general-words_search           -24.93%\n",
    "selling-words_search            34.85%\n",
    "all-types_category_network    -100.00%\n",
    "size_search                   -100.00%</pre>\n",
    "16. Одна из маркетинговых активностей `selling-words_search`, бюджет которой увеличен на 34% осуществляется только в Москве. Чтобы не нанести ущерб кампаниям в регионах, мы ограничили бюджет этой активности начальным значением и заново максимизировать доход.\n",
    "17. Доход по выбранным кампаниям после перераспределения увеличился на 47%, но прирост достигнут за счет более чем двукратного увеличения расходов всего на два типа маркетинговых активностей - `retargeting_new` и `dsa_pg_search`. В реальности такое перераспределение не приведет к расчетному росту дохода из-за ограниченной емкости каналов.\n",
    "18. **Мы предложили использовать первый вариант перераспределения, а в случае необходимости увеличения бюджета в региональных кампаниях - перераспределять бюджет от `selling-words_search` в `retargeting_new` и `dsa_pg_search`.**"
   ]
  }
 ],
 "metadata": {
  "kernelspec": {
   "display_name": "Python 3 (ipykernel)",
   "language": "python",
   "name": "python3"
  },
  "language_info": {
   "codemirror_mode": {
    "name": "ipython",
    "version": 3
   },
   "file_extension": ".py",
   "mimetype": "text/x-python",
   "name": "python",
   "nbconvert_exporter": "python",
   "pygments_lexer": "ipython3",
   "version": "3.10.6"
  },
  "toc-autonumbering": true,
  "toc-showcode": false,
  "toc-showmarkdowntxt": false
 },
 "nbformat": 4,
 "nbformat_minor": 5
}
