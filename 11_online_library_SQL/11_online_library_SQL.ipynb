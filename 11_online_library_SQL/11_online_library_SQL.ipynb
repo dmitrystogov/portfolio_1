{
 "cells": [
  {
   "cell_type": "markdown",
   "id": "008367ce-1b78-478f-bfcf-17765fe5cd8d",
   "metadata": {},
   "source": [
    "# Анализ базы данных книг"
   ]
  },
  {
   "cell_type": "markdown",
   "id": "6509d7f3",
   "metadata": {
    "toc": true
   },
   "source": [
    "<h1>Содержание<span class=\"tocSkip\"></span></h1>\n",
    "<div class=\"toc\"><ul class=\"toc-item\"><li><span><a href=\"#Описание-исследования\" data-toc-modified-id=\"Описание-исследования-1\"><span class=\"toc-item-num\">1&nbsp;&nbsp;</span>Описание исследования</a></span></li><li><span><a href=\"#Описание-данных\" data-toc-modified-id=\"Описание-данных-2\"><span class=\"toc-item-num\">2&nbsp;&nbsp;</span>Описание данных</a></span></li><li><span><a href=\"#Исследование-таблиц\" data-toc-modified-id=\"Исследование-таблиц-3\"><span class=\"toc-item-num\">3&nbsp;&nbsp;</span>Исследование таблиц</a></span></li><li><span><a href=\"#Вопрос-1.-Сколько-книг-вышло-после-1-января-2000-года\" data-toc-modified-id=\"Вопрос-1.-Сколько-книг-вышло-после-1-января-2000-года-4\"><span class=\"toc-item-num\">4&nbsp;&nbsp;</span>Вопрос 1. Сколько книг вышло после 1 января 2000 года</a></span></li><li><span><a href=\"#Вопрос-2.-Количество-обзоров-и-средня-оценка-книг\" data-toc-modified-id=\"Вопрос-2.-Количество-обзоров-и-средня-оценка-книг-5\"><span class=\"toc-item-num\">5&nbsp;&nbsp;</span>Вопрос 2. Количество обзоров и средня оценка книг</a></span></li><li><span><a href=\"#Вопрос-3.-Издательство,-которое-выпустило-наибольшее-число-книг-толще-50-страниц\" data-toc-modified-id=\"Вопрос-3.-Издательство,-которое-выпустило-наибольшее-число-книг-толще-50-страниц-6\"><span class=\"toc-item-num\">6&nbsp;&nbsp;</span>Вопрос 3. Издательство, которое выпустило наибольшее число книг толще 50 страниц</a></span></li><li><span><a href=\"#Вопрос-4.-Автор-с-самой-высокой-средней-оценкой-книг\" data-toc-modified-id=\"Вопрос-4.-Автор-с-самой-высокой-средней-оценкой-книг-7\"><span class=\"toc-item-num\">7&nbsp;&nbsp;</span>Вопрос 4. Автор с самой высокой средней оценкой книг</a></span></li><li><span><a href=\"#Вопрос-5.-Среднее-количество-обзоров-от-пользователей,-которые-поставили-больше-50-оценок\" data-toc-modified-id=\"Вопрос-5.-Среднее-количество-обзоров-от-пользователей,-которые-поставили-больше-50-оценок-8\"><span class=\"toc-item-num\">8&nbsp;&nbsp;</span>Вопрос 5. Среднее количество обзоров от пользователей, которые поставили больше 50 оценок</a></span></li><li><span><a href=\"#Общий-вывод\" data-toc-modified-id=\"Общий-вывод-9\"><span class=\"toc-item-num\">9&nbsp;&nbsp;</span>Общий вывод</a></span></li></ul></div>"
   ]
  },
  {
   "cell_type": "markdown",
   "id": "423989f3-7645-4aec-9793-3351d2a51ebe",
   "metadata": {},
   "source": [
    "### Описание исследования\n",
    "**Цель исследования:** проанализировать базу данных книг и ответить на вопросы, которые помогут сформулировать ценностное предложение для нового продукта.\n",
    "\n",
    "**Исходные данные:** База данных SQL c информацией о книгах, издательствах, авторах, а также пользовательскими обзорами книг. \n",
    "\n",
    "**Задачи исследования:**\n",
    "- Посчитать, сколько книг вышло после 1 января 2000 года;\n",
    "- Для каждой книги посчитать количество обзоров и среднюю оценку;\n",
    "- Определить издательство, которое выпустило наибольшее число книг толще 50 страниц;\n",
    "- Определить автора с самой высокой средней оценкой книг — учитывайте только книги с 50 и более оценками;\n",
    "- Посчитать среднее количество обзоров от пользователей, которые поставили больше 50 оценок."
   ]
  },
  {
   "cell_type": "markdown",
   "id": "e299652b-3f28-4a1a-9218-3a72b1d769e9",
   "metadata": {},
   "source": [
    "### Описание данных\n",
    "\n",
    "**Таблица `books`**\n",
    "\n",
    "Содержит данные о книгах:\n",
    "\n",
    "- `book_id` — идентификатор книги;\n",
    "- `author_id` — идентификатор автора;\n",
    "- `title` — название книги;\n",
    "- `num_pages` — количество страниц;\n",
    "- `publication_date` — дата публикации книги;\n",
    "- `publisher_id` — идентификатор издателя.\n",
    "\n",
    "**Таблица `authors`**\n",
    "\n",
    "Содержит данные об авторах:\n",
    "\n",
    "- `author_id` — идентификатор автора;\n",
    "- `author` — имя автора.\n",
    "\n",
    "**Таблица `publishers`**\n",
    "\n",
    "Содержит данные об издательствах:\n",
    "\n",
    "- `publisher_id` — идентификатор издательства;\n",
    "- `publisher` — название издательства;\n",
    "\n",
    "**Таблица `ratings`**\n",
    "\n",
    "Содержит данные о пользовательских оценках книг:\n",
    "\n",
    "- `rating_id` — идентификатор оценки;\n",
    "- `book_id` — идентификатор книги;\n",
    "- `username` — имя пользователя, оставившего оценку;\n",
    "- `rating` — оценка книги.\n",
    "\n",
    "**Таблица `reviews`**\n",
    "\n",
    "Содержит данные о пользовательских обзорах на книги:\n",
    "\n",
    "- `review_id` — идентификатор обзора;\n",
    "- `book_id` — идентификатор книги;\n",
    "- `username` — имя пользователя, написавшего обзор;\n",
    "- `text` — текст обзора."
   ]
  },
  {
   "cell_type": "code",
   "execution_count": 1,
   "id": "26ddd716-0b8d-42f2-9a38-d27b9f2a1850",
   "metadata": {},
   "outputs": [],
   "source": [
    "# импортируем библиотеки\n",
    "import pandas as pd \n",
    "from sqlalchemy import create_engine "
   ]
  },
  {
   "cell_type": "code",
   "execution_count": 2,
   "id": "7d817d43-274a-41b6-87dd-c85427014004",
   "metadata": {},
   "outputs": [],
   "source": [
    "# устанавливаем параметры\n",
    "db_config = {'user': 'praktikum_student', # имя пользователя\n",
    "'pwd': 'Sdf4$2;d-d30pp', # пароль\n",
    "'host': 'rc1b-wcoijxj3yxfsf3fs.mdb.yandexcloud.net', \n",
    "'port': 6432, # порт подключения\n",
    "'db': 'data-analyst-final-project-db'} # название базы данных\n",
    "connection_string = 'postgresql://{}:{}@{}:{}/{}'.format(db_config['user'], \n",
    " db_config['pwd'], \n",
    " db_config['host'], \n",
    " db_config['port'], \n",
    " db_config['db']) \n",
    "# сохраняем коннектор\n",
    "engine = create_engine(connection_string, connect_args={'sslmode':'require'})"
   ]
  },
  {
   "cell_type": "markdown",
   "id": "c263173d-1d05-4ee7-bcf0-9c89cd2e480a",
   "metadata": {},
   "source": [
    "### Исследование таблиц"
   ]
  },
  {
   "cell_type": "markdown",
   "id": "eaad3bb7-a394-45bd-9749-b242bca5235c",
   "metadata": {},
   "source": [
    "Выведем первые строки таблиц и число строк в них"
   ]
  },
  {
   "cell_type": "code",
   "execution_count": 3,
   "id": "c7f7f390-844c-44d8-9359-91f815c6acd0",
   "metadata": {},
   "outputs": [],
   "source": [
    "# создадим список таблиц\n",
    "table_list = [\n",
    " 'authors',\n",
    " 'reviews',\n",
    " 'ratings',\n",
    " 'publishers',\n",
    " 'books']"
   ]
  },
  {
   "cell_type": "code",
   "execution_count": 4,
   "id": "8d4701b1-1b13-459c-b492-f4f5adfa8bdf",
   "metadata": {},
   "outputs": [
    {
     "name": "stdout",
     "output_type": "stream",
     "text": [
      "Первые строки таблицы  authors\n"
     ]
    },
    {
     "data": {
      "text/html": [
       "<div>\n",
       "<style scoped>\n",
       "    .dataframe tbody tr th:only-of-type {\n",
       "        vertical-align: middle;\n",
       "    }\n",
       "\n",
       "    .dataframe tbody tr th {\n",
       "        vertical-align: top;\n",
       "    }\n",
       "\n",
       "    .dataframe thead th {\n",
       "        text-align: right;\n",
       "    }\n",
       "</style>\n",
       "<table border=\"1\" class=\"dataframe\">\n",
       "  <thead>\n",
       "    <tr style=\"text-align: right;\">\n",
       "      <th></th>\n",
       "      <th>author_id</th>\n",
       "      <th>author</th>\n",
       "    </tr>\n",
       "  </thead>\n",
       "  <tbody>\n",
       "    <tr>\n",
       "      <th>0</th>\n",
       "      <td>1</td>\n",
       "      <td>A.S. Byatt</td>\n",
       "    </tr>\n",
       "    <tr>\n",
       "      <th>1</th>\n",
       "      <td>2</td>\n",
       "      <td>Aesop/Laura Harris/Laura Gibbs</td>\n",
       "    </tr>\n",
       "    <tr>\n",
       "      <th>2</th>\n",
       "      <td>3</td>\n",
       "      <td>Agatha Christie</td>\n",
       "    </tr>\n",
       "    <tr>\n",
       "      <th>3</th>\n",
       "      <td>4</td>\n",
       "      <td>Alan Brennert</td>\n",
       "    </tr>\n",
       "    <tr>\n",
       "      <th>4</th>\n",
       "      <td>5</td>\n",
       "      <td>Alan Moore/David   Lloyd</td>\n",
       "    </tr>\n",
       "  </tbody>\n",
       "</table>\n",
       "</div>"
      ],
      "text/plain": [
       "   author_id                          author\n",
       "0          1                      A.S. Byatt\n",
       "1          2  Aesop/Laura Harris/Laura Gibbs\n",
       "2          3                 Agatha Christie\n",
       "3          4                   Alan Brennert\n",
       "4          5        Alan Moore/David   Lloyd"
      ]
     },
     "metadata": {},
     "output_type": "display_data"
    },
    {
     "name": "stdout",
     "output_type": "stream",
     "text": [
      "Число строк:  636\n",
      "----------------------------------------\n",
      "Первые строки таблицы  reviews\n"
     ]
    },
    {
     "data": {
      "text/html": [
       "<div>\n",
       "<style scoped>\n",
       "    .dataframe tbody tr th:only-of-type {\n",
       "        vertical-align: middle;\n",
       "    }\n",
       "\n",
       "    .dataframe tbody tr th {\n",
       "        vertical-align: top;\n",
       "    }\n",
       "\n",
       "    .dataframe thead th {\n",
       "        text-align: right;\n",
       "    }\n",
       "</style>\n",
       "<table border=\"1\" class=\"dataframe\">\n",
       "  <thead>\n",
       "    <tr style=\"text-align: right;\">\n",
       "      <th></th>\n",
       "      <th>review_id</th>\n",
       "      <th>book_id</th>\n",
       "      <th>username</th>\n",
       "      <th>text</th>\n",
       "    </tr>\n",
       "  </thead>\n",
       "  <tbody>\n",
       "    <tr>\n",
       "      <th>0</th>\n",
       "      <td>1</td>\n",
       "      <td>1</td>\n",
       "      <td>brandtandrea</td>\n",
       "      <td>Mention society tell send professor analysis. ...</td>\n",
       "    </tr>\n",
       "    <tr>\n",
       "      <th>1</th>\n",
       "      <td>2</td>\n",
       "      <td>1</td>\n",
       "      <td>ryanfranco</td>\n",
       "      <td>Foot glass pretty audience hit themselves. Amo...</td>\n",
       "    </tr>\n",
       "    <tr>\n",
       "      <th>2</th>\n",
       "      <td>3</td>\n",
       "      <td>2</td>\n",
       "      <td>lorichen</td>\n",
       "      <td>Listen treat keep worry. Miss husband tax but ...</td>\n",
       "    </tr>\n",
       "    <tr>\n",
       "      <th>3</th>\n",
       "      <td>4</td>\n",
       "      <td>3</td>\n",
       "      <td>johnsonamanda</td>\n",
       "      <td>Finally month interesting blue could nature cu...</td>\n",
       "    </tr>\n",
       "    <tr>\n",
       "      <th>4</th>\n",
       "      <td>5</td>\n",
       "      <td>3</td>\n",
       "      <td>scotttamara</td>\n",
       "      <td>Nation purpose heavy give wait song will. List...</td>\n",
       "    </tr>\n",
       "  </tbody>\n",
       "</table>\n",
       "</div>"
      ],
      "text/plain": [
       "   review_id  book_id       username  \\\n",
       "0          1        1   brandtandrea   \n",
       "1          2        1     ryanfranco   \n",
       "2          3        2       lorichen   \n",
       "3          4        3  johnsonamanda   \n",
       "4          5        3    scotttamara   \n",
       "\n",
       "                                                text  \n",
       "0  Mention society tell send professor analysis. ...  \n",
       "1  Foot glass pretty audience hit themselves. Amo...  \n",
       "2  Listen treat keep worry. Miss husband tax but ...  \n",
       "3  Finally month interesting blue could nature cu...  \n",
       "4  Nation purpose heavy give wait song will. List...  "
      ]
     },
     "metadata": {},
     "output_type": "display_data"
    },
    {
     "name": "stdout",
     "output_type": "stream",
     "text": [
      "Число строк:  2793\n",
      "----------------------------------------\n",
      "Первые строки таблицы  ratings\n"
     ]
    },
    {
     "data": {
      "text/html": [
       "<div>\n",
       "<style scoped>\n",
       "    .dataframe tbody tr th:only-of-type {\n",
       "        vertical-align: middle;\n",
       "    }\n",
       "\n",
       "    .dataframe tbody tr th {\n",
       "        vertical-align: top;\n",
       "    }\n",
       "\n",
       "    .dataframe thead th {\n",
       "        text-align: right;\n",
       "    }\n",
       "</style>\n",
       "<table border=\"1\" class=\"dataframe\">\n",
       "  <thead>\n",
       "    <tr style=\"text-align: right;\">\n",
       "      <th></th>\n",
       "      <th>rating_id</th>\n",
       "      <th>book_id</th>\n",
       "      <th>username</th>\n",
       "      <th>rating</th>\n",
       "    </tr>\n",
       "  </thead>\n",
       "  <tbody>\n",
       "    <tr>\n",
       "      <th>0</th>\n",
       "      <td>1</td>\n",
       "      <td>1</td>\n",
       "      <td>ryanfranco</td>\n",
       "      <td>4</td>\n",
       "    </tr>\n",
       "    <tr>\n",
       "      <th>1</th>\n",
       "      <td>2</td>\n",
       "      <td>1</td>\n",
       "      <td>grantpatricia</td>\n",
       "      <td>2</td>\n",
       "    </tr>\n",
       "    <tr>\n",
       "      <th>2</th>\n",
       "      <td>3</td>\n",
       "      <td>1</td>\n",
       "      <td>brandtandrea</td>\n",
       "      <td>5</td>\n",
       "    </tr>\n",
       "    <tr>\n",
       "      <th>3</th>\n",
       "      <td>4</td>\n",
       "      <td>2</td>\n",
       "      <td>lorichen</td>\n",
       "      <td>3</td>\n",
       "    </tr>\n",
       "    <tr>\n",
       "      <th>4</th>\n",
       "      <td>5</td>\n",
       "      <td>2</td>\n",
       "      <td>mariokeller</td>\n",
       "      <td>2</td>\n",
       "    </tr>\n",
       "  </tbody>\n",
       "</table>\n",
       "</div>"
      ],
      "text/plain": [
       "   rating_id  book_id       username  rating\n",
       "0          1        1     ryanfranco       4\n",
       "1          2        1  grantpatricia       2\n",
       "2          3        1   brandtandrea       5\n",
       "3          4        2       lorichen       3\n",
       "4          5        2    mariokeller       2"
      ]
     },
     "metadata": {},
     "output_type": "display_data"
    },
    {
     "name": "stdout",
     "output_type": "stream",
     "text": [
      "Число строк:  6456\n",
      "----------------------------------------\n",
      "Первые строки таблицы  publishers\n"
     ]
    },
    {
     "data": {
      "text/html": [
       "<div>\n",
       "<style scoped>\n",
       "    .dataframe tbody tr th:only-of-type {\n",
       "        vertical-align: middle;\n",
       "    }\n",
       "\n",
       "    .dataframe tbody tr th {\n",
       "        vertical-align: top;\n",
       "    }\n",
       "\n",
       "    .dataframe thead th {\n",
       "        text-align: right;\n",
       "    }\n",
       "</style>\n",
       "<table border=\"1\" class=\"dataframe\">\n",
       "  <thead>\n",
       "    <tr style=\"text-align: right;\">\n",
       "      <th></th>\n",
       "      <th>publisher_id</th>\n",
       "      <th>publisher</th>\n",
       "    </tr>\n",
       "  </thead>\n",
       "  <tbody>\n",
       "    <tr>\n",
       "      <th>0</th>\n",
       "      <td>1</td>\n",
       "      <td>Ace</td>\n",
       "    </tr>\n",
       "    <tr>\n",
       "      <th>1</th>\n",
       "      <td>2</td>\n",
       "      <td>Ace Book</td>\n",
       "    </tr>\n",
       "    <tr>\n",
       "      <th>2</th>\n",
       "      <td>3</td>\n",
       "      <td>Ace Books</td>\n",
       "    </tr>\n",
       "    <tr>\n",
       "      <th>3</th>\n",
       "      <td>4</td>\n",
       "      <td>Ace Hardcover</td>\n",
       "    </tr>\n",
       "    <tr>\n",
       "      <th>4</th>\n",
       "      <td>5</td>\n",
       "      <td>Addison Wesley Publishing Company</td>\n",
       "    </tr>\n",
       "  </tbody>\n",
       "</table>\n",
       "</div>"
      ],
      "text/plain": [
       "   publisher_id                          publisher\n",
       "0             1                                Ace\n",
       "1             2                           Ace Book\n",
       "2             3                          Ace Books\n",
       "3             4                      Ace Hardcover\n",
       "4             5  Addison Wesley Publishing Company"
      ]
     },
     "metadata": {},
     "output_type": "display_data"
    },
    {
     "name": "stdout",
     "output_type": "stream",
     "text": [
      "Число строк:  340\n",
      "----------------------------------------\n",
      "Первые строки таблицы  books\n"
     ]
    },
    {
     "data": {
      "text/html": [
       "<div>\n",
       "<style scoped>\n",
       "    .dataframe tbody tr th:only-of-type {\n",
       "        vertical-align: middle;\n",
       "    }\n",
       "\n",
       "    .dataframe tbody tr th {\n",
       "        vertical-align: top;\n",
       "    }\n",
       "\n",
       "    .dataframe thead th {\n",
       "        text-align: right;\n",
       "    }\n",
       "</style>\n",
       "<table border=\"1\" class=\"dataframe\">\n",
       "  <thead>\n",
       "    <tr style=\"text-align: right;\">\n",
       "      <th></th>\n",
       "      <th>book_id</th>\n",
       "      <th>author_id</th>\n",
       "      <th>title</th>\n",
       "      <th>num_pages</th>\n",
       "      <th>publication_date</th>\n",
       "      <th>publisher_id</th>\n",
       "    </tr>\n",
       "  </thead>\n",
       "  <tbody>\n",
       "    <tr>\n",
       "      <th>0</th>\n",
       "      <td>1</td>\n",
       "      <td>546</td>\n",
       "      <td>'Salem's Lot</td>\n",
       "      <td>594</td>\n",
       "      <td>2005-11-01</td>\n",
       "      <td>93</td>\n",
       "    </tr>\n",
       "    <tr>\n",
       "      <th>1</th>\n",
       "      <td>2</td>\n",
       "      <td>465</td>\n",
       "      <td>1 000 Places to See Before You Die</td>\n",
       "      <td>992</td>\n",
       "      <td>2003-05-22</td>\n",
       "      <td>336</td>\n",
       "    </tr>\n",
       "    <tr>\n",
       "      <th>2</th>\n",
       "      <td>3</td>\n",
       "      <td>407</td>\n",
       "      <td>13 Little Blue Envelopes (Little Blue Envelope...</td>\n",
       "      <td>322</td>\n",
       "      <td>2010-12-21</td>\n",
       "      <td>135</td>\n",
       "    </tr>\n",
       "    <tr>\n",
       "      <th>3</th>\n",
       "      <td>4</td>\n",
       "      <td>82</td>\n",
       "      <td>1491: New Revelations of the Americas Before C...</td>\n",
       "      <td>541</td>\n",
       "      <td>2006-10-10</td>\n",
       "      <td>309</td>\n",
       "    </tr>\n",
       "    <tr>\n",
       "      <th>4</th>\n",
       "      <td>5</td>\n",
       "      <td>125</td>\n",
       "      <td>1776</td>\n",
       "      <td>386</td>\n",
       "      <td>2006-07-04</td>\n",
       "      <td>268</td>\n",
       "    </tr>\n",
       "  </tbody>\n",
       "</table>\n",
       "</div>"
      ],
      "text/plain": [
       "   book_id  author_id                                              title  \\\n",
       "0        1        546                                       'Salem's Lot   \n",
       "1        2        465                 1 000 Places to See Before You Die   \n",
       "2        3        407  13 Little Blue Envelopes (Little Blue Envelope...   \n",
       "3        4         82  1491: New Revelations of the Americas Before C...   \n",
       "4        5        125                                               1776   \n",
       "\n",
       "   num_pages publication_date  publisher_id  \n",
       "0        594       2005-11-01            93  \n",
       "1        992       2003-05-22           336  \n",
       "2        322       2010-12-21           135  \n",
       "3        541       2006-10-10           309  \n",
       "4        386       2006-07-04           268  "
      ]
     },
     "metadata": {},
     "output_type": "display_data"
    },
    {
     "name": "stdout",
     "output_type": "stream",
     "text": [
      "Число строк:  1000\n",
      "----------------------------------------\n"
     ]
    }
   ],
   "source": [
    "# для каждой таблицы выведем первые пять строк\n",
    "for table_name in table_list:\n",
    "    query = 'SELECT * FROM ' + table_name + ' LIMIT 5'\n",
    "    print('Первые строки таблицы ',table_name)\n",
    "    display(pd.io.sql.read_sql(query, con = engine))\n",
    "    print('Число строк: ',pd.io.sql.read_sql('SELECT COUNT(*) FROM ' + table_name, con = engine).iloc[0,0])\n",
    "    print('-'*40)"
   ]
  },
  {
   "cell_type": "markdown",
   "id": "1739ca62-a062-4e09-a3e4-36e651ba9f36",
   "metadata": {},
   "source": [
    "Содержимое таблиц соответствует их описанию. По предварительной оценке данных достаточно для анализа."
   ]
  },
  {
   "cell_type": "markdown",
   "id": "ee9c679e-860c-4434-baa1-7cf0dda14ed8",
   "metadata": {},
   "source": [
    "### Вопрос 1. Сколько книг вышло после 1 января 2000 года"
   ]
  },
  {
   "cell_type": "code",
   "execution_count": 5,
   "id": "a0900ad7-e78f-4a6f-84b7-2287f2531072",
   "metadata": {},
   "outputs": [
    {
     "name": "stdout",
     "output_type": "stream",
     "text": [
      "После 1 января 2000 года вышло 819 книг.\n"
     ]
    }
   ],
   "source": [
    "query = '''\n",
    "SELECT COUNT(*)\n",
    "FROM books\n",
    "WHERE (publication_date > '2000-01-01')\n",
    "\n",
    "'''\n",
    "select = pd.io.sql.read_sql(query, con = engine) \n",
    "print('После 1 января 2000 года вышло {} книг.'.format(select.iloc[0,0]))"
   ]
  },
  {
   "cell_type": "markdown",
   "id": "76a48324-9521-49b7-9d75-d79f19ca0856",
   "metadata": {
    "tags": []
   },
   "source": [
    "**Вывод:** Большая часть книг содержащаяся в базе вышла после 1 января 2000 года."
   ]
  },
  {
   "cell_type": "markdown",
   "id": "39a83164-abc4-42c4-8a33-eadd12e06c03",
   "metadata": {},
   "source": [
    "### Вопрос 2. Количество обзоров и средня оценка книг"
   ]
  },
  {
   "cell_type": "code",
   "execution_count": 6,
   "id": "1ed04417-d798-435a-9036-a8da86024060",
   "metadata": {},
   "outputs": [
    {
     "name": "stdout",
     "output_type": "stream",
     "text": [
      "Образец данных\n"
     ]
    },
    {
     "data": {
      "text/html": [
       "<div>\n",
       "<style scoped>\n",
       "    .dataframe tbody tr th:only-of-type {\n",
       "        vertical-align: middle;\n",
       "    }\n",
       "\n",
       "    .dataframe tbody tr th {\n",
       "        vertical-align: top;\n",
       "    }\n",
       "\n",
       "    .dataframe thead th {\n",
       "        text-align: right;\n",
       "    }\n",
       "</style>\n",
       "<table border=\"1\" class=\"dataframe\">\n",
       "  <thead>\n",
       "    <tr style=\"text-align: right;\">\n",
       "      <th></th>\n",
       "      <th>Название</th>\n",
       "      <th>Число обзоров</th>\n",
       "      <th>Средняя оценка</th>\n",
       "    </tr>\n",
       "  </thead>\n",
       "  <tbody>\n",
       "    <tr>\n",
       "      <th>0</th>\n",
       "      <td>The Body in the Library (Miss Marple  #3)</td>\n",
       "      <td>2.0</td>\n",
       "      <td>4.500000</td>\n",
       "    </tr>\n",
       "    <tr>\n",
       "      <th>1</th>\n",
       "      <td>Galápagos</td>\n",
       "      <td>2.0</td>\n",
       "      <td>4.500000</td>\n",
       "    </tr>\n",
       "    <tr>\n",
       "      <th>2</th>\n",
       "      <td>A Tree Grows in Brooklyn</td>\n",
       "      <td>5.0</td>\n",
       "      <td>4.250000</td>\n",
       "    </tr>\n",
       "    <tr>\n",
       "      <th>3</th>\n",
       "      <td>Undaunted Courage: The Pioneering First Missio...</td>\n",
       "      <td>2.0</td>\n",
       "      <td>4.000000</td>\n",
       "    </tr>\n",
       "    <tr>\n",
       "      <th>4</th>\n",
       "      <td>The Prophet</td>\n",
       "      <td>4.0</td>\n",
       "      <td>4.285714</td>\n",
       "    </tr>\n",
       "    <tr>\n",
       "      <th>...</th>\n",
       "      <td>...</td>\n",
       "      <td>...</td>\n",
       "      <td>...</td>\n",
       "    </tr>\n",
       "    <tr>\n",
       "      <th>995</th>\n",
       "      <td>The Cat in the Hat and Other Dr. Seuss Favorites</td>\n",
       "      <td>NaN</td>\n",
       "      <td>5.000000</td>\n",
       "    </tr>\n",
       "    <tr>\n",
       "      <th>996</th>\n",
       "      <td>Anne Rice's The Vampire Lestat: A Graphic Novel</td>\n",
       "      <td>NaN</td>\n",
       "      <td>3.666667</td>\n",
       "    </tr>\n",
       "    <tr>\n",
       "      <th>997</th>\n",
       "      <td>Essential Tales and Poems</td>\n",
       "      <td>NaN</td>\n",
       "      <td>4.000000</td>\n",
       "    </tr>\n",
       "    <tr>\n",
       "      <th>998</th>\n",
       "      <td>Leonardo's Notebooks</td>\n",
       "      <td>NaN</td>\n",
       "      <td>4.000000</td>\n",
       "    </tr>\n",
       "    <tr>\n",
       "      <th>999</th>\n",
       "      <td>The Natural Way to Draw</td>\n",
       "      <td>NaN</td>\n",
       "      <td>3.000000</td>\n",
       "    </tr>\n",
       "  </tbody>\n",
       "</table>\n",
       "<p>1000 rows × 3 columns</p>\n",
       "</div>"
      ],
      "text/plain": [
       "                                              Название  Число обзоров  \\\n",
       "0            The Body in the Library (Miss Marple  #3)            2.0   \n",
       "1                                            Galápagos            2.0   \n",
       "2                             A Tree Grows in Brooklyn            5.0   \n",
       "3    Undaunted Courage: The Pioneering First Missio...            2.0   \n",
       "4                                          The Prophet            4.0   \n",
       "..                                                 ...            ...   \n",
       "995   The Cat in the Hat and Other Dr. Seuss Favorites            NaN   \n",
       "996    Anne Rice's The Vampire Lestat: A Graphic Novel            NaN   \n",
       "997                          Essential Tales and Poems            NaN   \n",
       "998                               Leonardo's Notebooks            NaN   \n",
       "999                            The Natural Way to Draw            NaN   \n",
       "\n",
       "     Средняя оценка  \n",
       "0          4.500000  \n",
       "1          4.500000  \n",
       "2          4.250000  \n",
       "3          4.000000  \n",
       "4          4.285714  \n",
       "..              ...  \n",
       "995        5.000000  \n",
       "996        3.666667  \n",
       "997        4.000000  \n",
       "998        4.000000  \n",
       "999        3.000000  \n",
       "\n",
       "[1000 rows x 3 columns]"
      ]
     },
     "execution_count": 6,
     "metadata": {},
     "output_type": "execute_result"
    }
   ],
   "source": [
    "query = '''\n",
    "WITH n_reviews AS \n",
    "(SELECT book_id,\n",
    "COUNT(book_id) as n_review\n",
    "FROM reviews\n",
    "GROUP BY book_id),\n",
    "\n",
    "mean_ratings AS \n",
    "(SELECT book_id,\n",
    "AVG(rating) as mean_rating\n",
    "FROM ratings\n",
    "GROUP BY book_id)\n",
    "\n",
    "SELECT title,\n",
    "       n_review,\n",
    "       mean_rating\n",
    "FROM books\n",
    "LEFT JOIN n_reviews ON n_reviews.book_id = books.book_id\n",
    "LEFT JOIN mean_ratings ON mean_ratings.book_id = books.book_id\n",
    "\n",
    "'''\n",
    "print('Образец данных')\n",
    "pd.io.sql.read_sql(query, con = engine).set_axis(['Название','Число обзоров', 'Средняя оценка'],axis=1)"
   ]
  },
  {
   "cell_type": "markdown",
   "id": "c378f79e-942b-4250-a994-d18aee8a6017",
   "metadata": {},
   "source": [
    "**Вывод:** Все книги из случайной выборки имеют обзоры и оценки. Скорее всего, наполнение базы обзорами и оценками хорошее. "
   ]
  },
  {
   "cell_type": "markdown",
   "id": "d53cb097-166d-403a-9174-e6766542a8c4",
   "metadata": {},
   "source": [
    "### Вопрос 3. Издательство, которое выпустило наибольшее число книг толще 50 страниц"
   ]
  },
  {
   "cell_type": "code",
   "execution_count": 11,
   "id": "87329b70-85ec-43e6-b8c6-4a9f1916061d",
   "metadata": {},
   "outputs": [
    {
     "name": "stdout",
     "output_type": "stream",
     "text": [
      "Наибольшее число книг толще 50 страниц (42) выпустило издательство Penguin Books.\n"
     ]
    }
   ],
   "source": [
    "query = '''\n",
    "WITH max_publisher AS\n",
    "    (WITH book_stat AS\n",
    "    (SELECT num_pages > 50 AS non_booklet,\n",
    "        publisher_id  \n",
    "    FROM books)\n",
    "\n",
    "    SELECT publisher_id,\n",
    "           COUNT(CASE WHEN non_booklet THEN 1 END) AS n_books\n",
    "    FROM  book_stat      \n",
    "    GROUP BY publisher_id\n",
    "    ORDER BY n_books DESC\n",
    "    LIMIT 1)\n",
    "    \n",
    "SELECT publisher,\n",
    "       n_books\n",
    "FROM publishers\n",
    "RIGHT JOIN max_publisher ON max_publisher.publisher_id = publishers.publisher_id\n",
    "'''\n",
    "select = pd.io.sql.read_sql(query, con = engine)\n",
    "print('Наибольшее число книг толще 50 страниц ({}) выпустило издательство {}.'.format(select.iloc[0,1], select.iloc[0,0]))"
   ]
  },
  {
   "cell_type": "markdown",
   "id": "e3a7f36d-5473-401a-b1d8-76c0f13a147d",
   "metadata": {},
   "source": [
    "**Вывод:** Penguin Books - крупное издательство, не удивительно что наибольшее число книг в базе издало оно."
   ]
  },
  {
   "cell_type": "markdown",
   "id": "5696287f-4473-47ec-b40a-4580e9c83100",
   "metadata": {},
   "source": [
    "### Вопрос 4. Автор с самой высокой средней оценкой книг"
   ]
  },
  {
   "cell_type": "code",
   "execution_count": 18,
   "id": "8d735a22-0567-41ff-85fd-72648163a5b7",
   "metadata": {},
   "outputs": [
    {
     "name": "stdout",
     "output_type": "stream",
     "text": [
      "Автор с самой высокой средней оценкой книг (4.28): J.K. Rowling/Mary GrandPré.\n"
     ]
    }
   ],
   "source": [
    "query = '''\n",
    "WITH best_author AS\n",
    "    (WITH book_avg_ratings AS\n",
    "    (SELECT book_id,\n",
    "           AVG(rating) as book_avg_rating\n",
    "    FROM ratings\n",
    "    GROUP BY book_id\n",
    "    HAVING count(book_id) > 50)\n",
    "\n",
    "    SELECT author_id,\n",
    "           AVG(book_avg_ratings.book_avg_rating) AS author_rating\n",
    "    FROM books\n",
    "    JOIN book_avg_ratings ON book_avg_ratings.book_id = books.book_id\n",
    "    GROUP BY author_id\n",
    "    ORDER BY author_rating DESC\n",
    "    LIMIT 1)\n",
    "SELECT author,\n",
    "       author_rating\n",
    "FROM authors\n",
    "JOIN best_author ON best_author.author_id = authors.author_id\n",
    "'''\n",
    "select = pd.io.sql.read_sql(query, con = engine) \n",
    "print('Автор с самой высокой средней оценкой книг ({:2.2f}): {}.'.format(select.iloc[0,1], select.iloc[0,0]))"
   ]
  },
  {
   "cell_type": "markdown",
   "id": "f5e72c93",
   "metadata": {},
   "source": [
    "<div class=\"alert alert-warning\" style=\"border-radius: 15px; box-shadow: 4px 4px 4px; border: 1px solid \" > <b>Комментарии от ревьюера ⚠️ : </b> \n",
    "\n",
    "И здесь ты не ошибся. Ты верно отфильтровал книги и рассчитал средний рейтинг авторов (который можно было вывести для наглядности)\n",
    "    \n",
    "</div>"
   ]
  },
  {
   "cell_type": "markdown",
   "id": "36681a20-6f57-425a-8115-5a51090398c2",
   "metadata": {},
   "source": [
    "**Вывод:** Наибольшее число оценок и самый высокий рейтинг у Дж. К. Роулинг (и ее иллюстратора)."
   ]
  },
  {
   "cell_type": "markdown",
   "id": "ee62e8c6-c575-4e9a-9503-3c63afddaef7",
   "metadata": {
    "tags": []
   },
   "source": [
    "### Вопрос 5. Среднее количество обзоров от пользователей, которые поставили больше 50 оценок"
   ]
  },
  {
   "cell_type": "code",
   "execution_count": 9,
   "id": "3f599b60-3045-4979-8ca0-5712820b283e",
   "metadata": {},
   "outputs": [
    {
     "name": "stdout",
     "output_type": "stream",
     "text": [
      "Cреднее количество обзоров от пользователей, которые поставили больше 50 оценок: 24.333333333333332.\n"
     ]
    }
   ],
   "source": [
    "query = '''\n",
    "WITH n_reviews AS\n",
    "    (WITH best_reviewers AS (\n",
    "    SELECT username,\n",
    "           count(book_id) as n_rating\n",
    "    FROM ratings\n",
    "    GROUP BY username\n",
    "    HAVING count(book_id) > 50)\n",
    "\n",
    "    SELECT reviews.username,\n",
    "           count(book_id) AS n_review\n",
    "    FROM reviews\n",
    "    JOIN best_reviewers ON best_reviewers.username = reviews.username\n",
    "    GROUP BY reviews.username)\n",
    "SELECT AVG(n_review)\n",
    "FROM n_reviews\n",
    "'''\n",
    "select = pd.io.sql.read_sql(query, con = engine) \n",
    "print('Cреднее количество обзоров от пользователей, которые поставили больше 50 оценок: {}.'.format(select.iloc[0,0]))"
   ]
  },
  {
   "cell_type": "markdown",
   "id": "d820a1a1",
   "metadata": {},
   "source": [
    "<div class=\"alert alert-success\" style=\"border-radius: 15px; box-shadow: 4px 4px 4px; border: 1px solid \" > <b>Комментарии от ревьюера ✔️ : </b> \n",
    "    \n",
    "\n",
    "И это .. правильный ответ! Ты корректно отобрал пользователей и рассчитал их показатели.\n",
    "\n",
    "\n",
    "В итоге, 5\\5 с первой попытки - это сильный результат)\n",
    "\n",
    "</div>"
   ]
  },
  {
   "cell_type": "markdown",
   "id": "c57f8827-6994-43ad-8c43-230091ebdbff",
   "metadata": {},
   "source": [
    "**Вывод:** Активные пользователи и оставляют много оценок и пишут много обзоров."
   ]
  },
  {
   "cell_type": "markdown",
   "id": "5d8eaf2d-a31d-424c-ab96-1f879fd9d5d2",
   "metadata": {},
   "source": [
    "### Общий вывод\n",
    "Книги представленные сервисом смогут заинтересовать читателей. Выбрать книгу помогут обзоры и рейтинги. "
   ]
  }
 ],
 "metadata": {
  "ExecuteTimeLog": [
   {
    "duration": 518,
    "start_time": "2022-09-03T06:35:31.019Z"
   },
   {
    "duration": 6540,
    "start_time": "2022-09-03T06:35:31.539Z"
   },
   {
    "duration": 3,
    "start_time": "2022-09-03T06:35:38.081Z"
   },
   {
    "duration": 932,
    "start_time": "2022-09-03T06:35:38.086Z"
   },
   {
    "duration": 74,
    "start_time": "2022-09-03T06:35:39.020Z"
   },
   {
    "duration": 110,
    "start_time": "2022-09-03T06:35:39.096Z"
   },
   {
    "duration": 75,
    "start_time": "2022-09-03T06:35:39.207Z"
   },
   {
    "duration": 77,
    "start_time": "2022-09-03T06:35:39.284Z"
   },
   {
    "duration": 77,
    "start_time": "2022-09-03T06:35:39.362Z"
   },
   {
    "duration": 504,
    "start_time": "2022-09-04T04:00:06.360Z"
   },
   {
    "duration": 5123,
    "start_time": "2022-09-04T04:00:06.865Z"
   },
   {
    "duration": 3,
    "start_time": "2022-09-04T04:00:11.990Z"
   },
   {
    "duration": 945,
    "start_time": "2022-09-04T04:00:11.996Z"
   },
   {
    "duration": 75,
    "start_time": "2022-09-04T04:00:12.943Z"
   },
   {
    "duration": 125,
    "start_time": "2022-09-04T04:00:13.019Z"
   },
   {
    "duration": 75,
    "start_time": "2022-09-04T04:00:13.145Z"
   },
   {
    "duration": 76,
    "start_time": "2022-09-04T04:00:13.222Z"
   },
   {
    "duration": 82,
    "start_time": "2022-09-04T04:00:13.300Z"
   },
   {
    "duration": 485,
    "start_time": "2022-09-04T04:01:11.345Z"
   },
   {
    "duration": 6378,
    "start_time": "2022-09-04T04:01:11.832Z"
   },
   {
    "duration": 2,
    "start_time": "2022-09-04T04:01:18.212Z"
   },
   {
    "duration": 925,
    "start_time": "2022-09-04T04:01:18.216Z"
   },
   {
    "duration": 74,
    "start_time": "2022-09-04T04:01:19.143Z"
   },
   {
    "duration": 114,
    "start_time": "2022-09-04T04:01:19.219Z"
   },
   {
    "duration": 73,
    "start_time": "2022-09-04T04:01:19.336Z"
   },
   {
    "duration": 76,
    "start_time": "2022-09-04T04:01:19.411Z"
   },
   {
    "duration": 75,
    "start_time": "2022-09-04T04:01:19.489Z"
   },
   {
    "duration": 107,
    "start_time": "2022-09-04T04:01:59.020Z"
   },
   {
    "duration": 76,
    "start_time": "2022-09-04T04:02:47.781Z"
   },
   {
    "duration": 7,
    "start_time": "2022-09-04T04:02:53.369Z"
   },
   {
    "duration": 85,
    "start_time": "2022-09-04T04:02:58.074Z"
   },
   {
    "duration": 75,
    "start_time": "2022-09-04T04:03:00.795Z"
   },
   {
    "duration": 604,
    "start_time": "2022-09-29T10:07:17.364Z"
   },
   {
    "duration": 20257,
    "start_time": "2022-09-29T10:07:18.763Z"
   },
   {
    "duration": 3,
    "start_time": "2022-09-29T10:07:41.973Z"
   },
   {
    "duration": 924,
    "start_time": "2022-09-29T10:07:43.269Z"
   },
   {
    "duration": 82,
    "start_time": "2022-09-29T10:07:47.583Z"
   },
   {
    "duration": 109,
    "start_time": "2022-09-29T10:07:50.537Z"
   },
   {
    "duration": 80,
    "start_time": "2022-09-29T10:07:53.835Z"
   },
   {
    "duration": 87,
    "start_time": "2022-09-29T10:09:46.068Z"
   },
   {
    "duration": 144,
    "start_time": "2022-09-29T10:10:50.455Z"
   },
   {
    "duration": 74,
    "start_time": "2022-09-29T10:10:56.240Z"
   },
   {
    "duration": 74,
    "start_time": "2022-09-29T10:11:17.732Z"
   },
   {
    "duration": 89,
    "start_time": "2022-09-29T10:12:01.068Z"
   },
   {
    "duration": 85,
    "start_time": "2022-09-29T10:13:11.878Z"
   },
   {
    "duration": 83,
    "start_time": "2022-09-29T10:13:35.399Z"
   },
   {
    "duration": 84,
    "start_time": "2022-09-29T10:14:38.902Z"
   },
   {
    "duration": 95,
    "start_time": "2022-09-29T10:15:13.967Z"
   },
   {
    "duration": 82,
    "start_time": "2022-09-29T10:15:48.318Z"
   },
   {
    "duration": 87,
    "start_time": "2022-09-29T10:16:48.913Z"
   }
  ],
  "kernelspec": {
   "display_name": "Python 3 (ipykernel)",
   "language": "python",
   "name": "python3"
  },
  "language_info": {
   "codemirror_mode": {
    "name": "ipython",
    "version": 3
   },
   "file_extension": ".py",
   "mimetype": "text/x-python",
   "name": "python",
   "nbconvert_exporter": "python",
   "pygments_lexer": "ipython3",
   "version": "3.9.5"
  },
  "toc": {
   "base_numbering": 1,
   "nav_menu": {},
   "number_sections": true,
   "sideBar": true,
   "skip_h1_title": true,
   "title_cell": "Содержание",
   "title_sidebar": "Содержание",
   "toc_cell": true,
   "toc_position": {},
   "toc_section_display": true,
   "toc_window_display": true
  }
 },
 "nbformat": 4,
 "nbformat_minor": 5
}
