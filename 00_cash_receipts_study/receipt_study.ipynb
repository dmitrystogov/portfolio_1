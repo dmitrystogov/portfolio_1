{
 "cells": [
  {
   "cell_type": "markdown",
   "id": "1611631a",
   "metadata": {},
   "source": [
    "# Анализ информации по продажам"
   ]
  },
  {
   "cell_type": "markdown",
   "id": "371ce32c",
   "metadata": {
    "toc": true
   },
   "source": [
    "<h1>Содержание<span class=\"tocSkip\"></span></h1>\n",
    "<div class=\"toc\"><ul class=\"toc-item\"><li><span><a href=\"#Описание-исследования\" data-toc-modified-id=\"Описание-исследования-1\"><span class=\"toc-item-num\">1&nbsp;&nbsp;</span>Описание исследования</a></span></li><li><span><a href=\"#Изучение-данных-из-файла\" data-toc-modified-id=\"Изучение-данных-из-файла-2\"><span class=\"toc-item-num\">2&nbsp;&nbsp;</span>Изучение данных из файла</a></span><ul class=\"toc-item\"><li><span><a href=\"#Описание-данных\" data-toc-modified-id=\"Описание-данных-2.1\"><span class=\"toc-item-num\">2.1&nbsp;&nbsp;</span>Описание данных</a></span></li><li><span><a href=\"#Вывод\" data-toc-modified-id=\"Вывод-2.2\"><span class=\"toc-item-num\">2.2&nbsp;&nbsp;</span>Вывод</a></span></li></ul></li><li><span><a href=\"#Предобработка-данных\" data-toc-modified-id=\"Предобработка-данных-3\"><span class=\"toc-item-num\">3&nbsp;&nbsp;</span>Предобработка данных</a></span><ul class=\"toc-item\"><li><span><a href=\"#Переименование-столбцов\" data-toc-modified-id=\"Переименование-столбцов-3.1\"><span class=\"toc-item-num\">3.1&nbsp;&nbsp;</span>Переименование столбцов</a></span></li><li><span><a href=\"#Изменение-типов-данных\" data-toc-modified-id=\"Изменение-типов-данных-3.2\"><span class=\"toc-item-num\">3.2&nbsp;&nbsp;</span>Изменение типов данных</a></span></li><li><span><a href=\"#Поиск-дубликатов\" data-toc-modified-id=\"Поиск-дубликатов-3.3\"><span class=\"toc-item-num\">3.3&nbsp;&nbsp;</span>Поиск дубликатов</a></span></li></ul></li><li><span><a href=\"#Вывод\" data-toc-modified-id=\"Вывод-4\"><span class=\"toc-item-num\">4&nbsp;&nbsp;</span>Вывод</a></span></li><li><span><a href=\"#Исследовательский-анализ-данных\" data-toc-modified-id=\"Исследовательский-анализ-данных-5\"><span class=\"toc-item-num\">5&nbsp;&nbsp;</span>Исследовательский анализ данных</a></span><ul class=\"toc-item\"><li><span><a href=\"#Определение-временного-периода\" data-toc-modified-id=\"Определение-временного-периода-5.1\"><span class=\"toc-item-num\">5.1&nbsp;&nbsp;</span>Определение временного периода</a></span></li><li><span><a href=\"#Обработка-названия-товара\" data-toc-modified-id=\"Обработка-названия-товара-5.2\"><span class=\"toc-item-num\">5.2&nbsp;&nbsp;</span>Обработка названия товара</a></span></li><li><span><a href=\"#Устранение-аномалий\" data-toc-modified-id=\"Устранение-аномалий-5.3\"><span class=\"toc-item-num\">5.3&nbsp;&nbsp;</span>Устранение аномалий</a></span></li><li><span><a href=\"#Анализ-регионов\" data-toc-modified-id=\"Анализ-регионов-5.4\"><span class=\"toc-item-num\">5.4&nbsp;&nbsp;</span>Анализ регионов</a></span></li><li><span><a href=\"#Анализ-топ-товаров-по-округам\" data-toc-modified-id=\"Анализ-топ-товаров-по-округам-5.5\"><span class=\"toc-item-num\">5.5&nbsp;&nbsp;</span>Анализ топ товаров по округам</a></span></li><li><span><a href=\"#Анализ-контрольно-кассовой-техники\" data-toc-modified-id=\"Анализ-контрольно-кассовой-техники-5.6\"><span class=\"toc-item-num\">5.6&nbsp;&nbsp;</span>Анализ контрольно-кассовой техники</a></span></li><li><span><a href=\"#Анализ-зависимости-типов-оплаты-от-округа\" data-toc-modified-id=\"Анализ-зависимости-типов-оплаты-от-округа-5.7\"><span class=\"toc-item-num\">5.7&nbsp;&nbsp;</span>Анализ зависимости типов оплаты от округа</a></span></li><li><span><a href=\"#Распределение-чеков-по-временным-интервалам.\" data-toc-modified-id=\"Распределение-чеков-по-временным-интервалам.-5.8\"><span class=\"toc-item-num\">5.8&nbsp;&nbsp;</span>Распределение чеков по временным интервалам.</a></span></li><li><span><a href=\"#Анализ-продаж-конкретного-продукта\" data-toc-modified-id=\"Анализ-продаж-конкретного-продукта-5.9\"><span class=\"toc-item-num\">5.9&nbsp;&nbsp;</span>Анализ продаж конкретного продукта</a></span></li></ul></li><li><span><a href=\"#Общие-выводы\" data-toc-modified-id=\"Общие-выводы-6\"><span class=\"toc-item-num\">6&nbsp;&nbsp;</span>Общие выводы</a></span></li></ul></div>"
   ]
  },
  {
   "cell_type": "markdown",
   "id": "1a6af40b",
   "metadata": {},
   "source": [
    "### Описание исследования\n",
    "**Цель исследования**: Сформулировать набор инсайтов которые могут быть полезны/интересны бизнесу.\n",
    "\n",
    "**Исходные данные**: Файл, содержащий информацию по продажам различных товаров по регионам РФ. \n",
    "\n",
    "**Задача**: Провести первичный анализ данных из файла. Описать инсайты, полученные на основе данных,"
   ]
  },
  {
   "cell_type": "markdown",
   "id": "268dd4f1",
   "metadata": {},
   "source": [
    "### Изучение данных из файла"
   ]
  },
  {
   "cell_type": "code",
   "execution_count": 1,
   "id": "fc506927",
   "metadata": {},
   "outputs": [],
   "source": [
    "import pandas as pd # импорт библиотеки pandas\n",
    "import numpy as np  # импорт библиотеки numpy\n",
    "import datetime as dt # импорт библиотеки datetime\n",
    "import matplotlib.pyplot as plt # импорт библиотеки mathplotlib\n",
    "import warnings # импорт библиотеки warnings\n",
    "import seaborn as sns # импорт библиотеки seaborn"
   ]
  },
  {
   "cell_type": "code",
   "execution_count": 2,
   "id": "c370f98e",
   "metadata": {},
   "outputs": [],
   "source": [
    "warnings.filterwarnings('ignore') # отключение уведомлений об ошибках"
   ]
  },
  {
   "cell_type": "markdown",
   "id": "ed0cf99e",
   "metadata": {},
   "source": [
    "Исходный файл большого размера, для начала прочитаем первые сто строк и посмотрим на образец данных."
   ]
  },
  {
   "cell_type": "code",
   "execution_count": 3,
   "id": "15b1b788",
   "metadata": {
    "scrolled": true
   },
   "outputs": [
    {
     "data": {
      "text/html": [
       "<div>\n",
       "<style scoped>\n",
       "    .dataframe tbody tr th:only-of-type {\n",
       "        vertical-align: middle;\n",
       "    }\n",
       "\n",
       "    .dataframe tbody tr th {\n",
       "        vertical-align: top;\n",
       "    }\n",
       "\n",
       "    .dataframe thead th {\n",
       "        text-align: right;\n",
       "    }\n",
       "</style>\n",
       "<table border=\"1\" class=\"dataframe\">\n",
       "  <thead>\n",
       "    <tr style=\"text-align: right;\">\n",
       "      <th></th>\n",
       "      <th>receiptid</th>\n",
       "      <th>kkt_sn</th>\n",
       "      <th>d_date</th>\n",
       "      <th>name</th>\n",
       "      <th>amount</th>\n",
       "      <th>unit</th>\n",
       "      <th>price</th>\n",
       "      <th>cost</th>\n",
       "      <th>nal</th>\n",
       "      <th>electron</th>\n",
       "      <th>...</th>\n",
       "      <th>credit</th>\n",
       "      <th>vstrechpredst</th>\n",
       "      <th>Тип региона</th>\n",
       "      <th>Имя региона</th>\n",
       "      <th>Тип города</th>\n",
       "      <th>Имя города</th>\n",
       "      <th>Тип улицы</th>\n",
       "      <th>Имя улицы</th>\n",
       "      <th>Тип номера дома</th>\n",
       "      <th>Номер дома</th>\n",
       "    </tr>\n",
       "  </thead>\n",
       "  <tbody>\n",
       "    <tr>\n",
       "      <th>97</th>\n",
       "      <td>72491008</td>\n",
       "      <td>108200088416</td>\n",
       "      <td>2018-07-08</td>\n",
       "      <td>0001 ДЕТСКИЙ ТРИКОТАЖ</td>\n",
       "      <td>1</td>\n",
       "      <td>--</td>\n",
       "      <td>1500.0</td>\n",
       "      <td>1500.0</td>\n",
       "      <td>1500.0</td>\n",
       "      <td>0.0</td>\n",
       "      <td>...</td>\n",
       "      <td>0.0</td>\n",
       "      <td>0.0</td>\n",
       "      <td>обл</td>\n",
       "      <td>Новосибирская</td>\n",
       "      <td>г</td>\n",
       "      <td>Чулым</td>\n",
       "      <td>ул</td>\n",
       "      <td>Кооперативная</td>\n",
       "      <td>дом</td>\n",
       "      <td>\"=\"\"17\"\"\"</td>\n",
       "    </tr>\n",
       "    <tr>\n",
       "      <th>88</th>\n",
       "      <td>72010260</td>\n",
       "      <td>108200088416</td>\n",
       "      <td>2018-07-06</td>\n",
       "      <td>0001 ДЕТСКИЙ ТРИКОТАЖ</td>\n",
       "      <td>1</td>\n",
       "      <td>--</td>\n",
       "      <td>560.0</td>\n",
       "      <td>560.0</td>\n",
       "      <td>560.0</td>\n",
       "      <td>0.0</td>\n",
       "      <td>...</td>\n",
       "      <td>0.0</td>\n",
       "      <td>0.0</td>\n",
       "      <td>обл</td>\n",
       "      <td>Новосибирская</td>\n",
       "      <td>г</td>\n",
       "      <td>Чулым</td>\n",
       "      <td>ул</td>\n",
       "      <td>Кооперативная</td>\n",
       "      <td>дом</td>\n",
       "      <td>\"=\"\"17\"\"\"</td>\n",
       "    </tr>\n",
       "    <tr>\n",
       "      <th>49</th>\n",
       "      <td>64755803</td>\n",
       "      <td>108200088416</td>\n",
       "      <td>2018-06-17</td>\n",
       "      <td>0001 ДЕТСКИЙ ТРИКОТАЖ</td>\n",
       "      <td>1</td>\n",
       "      <td>--</td>\n",
       "      <td>950.0</td>\n",
       "      <td>950.0</td>\n",
       "      <td>950.0</td>\n",
       "      <td>0.0</td>\n",
       "      <td>...</td>\n",
       "      <td>0.0</td>\n",
       "      <td>0.0</td>\n",
       "      <td>обл</td>\n",
       "      <td>Новосибирская</td>\n",
       "      <td>г</td>\n",
       "      <td>Чулым</td>\n",
       "      <td>ул</td>\n",
       "      <td>Кооперативная</td>\n",
       "      <td>дом</td>\n",
       "      <td>\"=\"\"17\"\"\"</td>\n",
       "    </tr>\n",
       "    <tr>\n",
       "      <th>90</th>\n",
       "      <td>72031924</td>\n",
       "      <td>108200088416</td>\n",
       "      <td>2018-07-06</td>\n",
       "      <td>0001 ДЕТСКИЙ ТРИКОТАЖ</td>\n",
       "      <td>1</td>\n",
       "      <td>--</td>\n",
       "      <td>1280.0</td>\n",
       "      <td>1280.0</td>\n",
       "      <td>1280.0</td>\n",
       "      <td>0.0</td>\n",
       "      <td>...</td>\n",
       "      <td>0.0</td>\n",
       "      <td>0.0</td>\n",
       "      <td>обл</td>\n",
       "      <td>Новосибирская</td>\n",
       "      <td>г</td>\n",
       "      <td>Чулым</td>\n",
       "      <td>ул</td>\n",
       "      <td>Кооперативная</td>\n",
       "      <td>дом</td>\n",
       "      <td>\"=\"\"17\"\"\"</td>\n",
       "    </tr>\n",
       "    <tr>\n",
       "      <th>33</th>\n",
       "      <td>62665789</td>\n",
       "      <td>108200088416</td>\n",
       "      <td>2018-06-12</td>\n",
       "      <td>0001 ДЕТСКИЙ ТРИКОТАЖ</td>\n",
       "      <td>1</td>\n",
       "      <td>--</td>\n",
       "      <td>860.0</td>\n",
       "      <td>860.0</td>\n",
       "      <td>860.0</td>\n",
       "      <td>0.0</td>\n",
       "      <td>...</td>\n",
       "      <td>0.0</td>\n",
       "      <td>0.0</td>\n",
       "      <td>обл</td>\n",
       "      <td>Новосибирская</td>\n",
       "      <td>г</td>\n",
       "      <td>Чулым</td>\n",
       "      <td>ул</td>\n",
       "      <td>Кооперативная</td>\n",
       "      <td>дом</td>\n",
       "      <td>\"=\"\"17\"\"\"</td>\n",
       "    </tr>\n",
       "  </tbody>\n",
       "</table>\n",
       "<p>5 rows × 21 columns</p>\n",
       "</div>"
      ],
      "text/plain": [
       "    receiptid        kkt_sn      d_date                   name  amount unit  \\\n",
       "97   72491008  108200088416  2018-07-08  0001 ДЕТСКИЙ ТРИКОТАЖ       1   --   \n",
       "88   72010260  108200088416  2018-07-06  0001 ДЕТСКИЙ ТРИКОТАЖ       1   --   \n",
       "49   64755803  108200088416  2018-06-17  0001 ДЕТСКИЙ ТРИКОТАЖ       1   --   \n",
       "90   72031924  108200088416  2018-07-06  0001 ДЕТСКИЙ ТРИКОТАЖ       1   --   \n",
       "33   62665789  108200088416  2018-06-12  0001 ДЕТСКИЙ ТРИКОТАЖ       1   --   \n",
       "\n",
       "     price    cost     nal  electron  ...  credit  vstrechpredst  Тип региона  \\\n",
       "97  1500.0  1500.0  1500.0       0.0  ...     0.0            0.0          обл   \n",
       "88   560.0   560.0   560.0       0.0  ...     0.0            0.0          обл   \n",
       "49   950.0   950.0   950.0       0.0  ...     0.0            0.0          обл   \n",
       "90  1280.0  1280.0  1280.0       0.0  ...     0.0            0.0          обл   \n",
       "33   860.0   860.0   860.0       0.0  ...     0.0            0.0          обл   \n",
       "\n",
       "      Имя региона Тип города Имя города Тип улицы      Имя улицы  \\\n",
       "97  Новосибирская          г      Чулым        ул  Кооперативная   \n",
       "88  Новосибирская          г      Чулым        ул  Кооперативная   \n",
       "49  Новосибирская          г      Чулым        ул  Кооперативная   \n",
       "90  Новосибирская          г      Чулым        ул  Кооперативная   \n",
       "33  Новосибирская          г      Чулым        ул  Кооперативная   \n",
       "\n",
       "   Тип номера дома Номер дома  \n",
       "97             дом  \"=\"\"17\"\"\"  \n",
       "88             дом  \"=\"\"17\"\"\"  \n",
       "49             дом  \"=\"\"17\"\"\"  \n",
       "90             дом  \"=\"\"17\"\"\"  \n",
       "33             дом  \"=\"\"17\"\"\"  \n",
       "\n",
       "[5 rows x 21 columns]"
      ]
     },
     "execution_count": 3,
     "metadata": {},
     "output_type": "execute_result"
    }
   ],
   "source": [
    "test_sample = pd.read_csv('test_data.csv', nrows=100) # чтение данных из csv файлов\n",
    "test_sample.sample(5) # просмотр образцов данных в таблице"
   ]
  },
  {
   "cell_type": "markdown",
   "id": "1bc4091d",
   "metadata": {},
   "source": [
    "Мы можем предварительно определить типы данных столбцов и задать их при чтении данных. Это облегчит чтение большого файла."
   ]
  },
  {
   "cell_type": "markdown",
   "id": "42e03d21",
   "metadata": {},
   "source": [
    "Загрузим данные из файла в таблицу."
   ]
  },
  {
   "cell_type": "code",
   "execution_count": 4,
   "id": "95636ec0",
   "metadata": {
    "scrolled": true
   },
   "outputs": [],
   "source": [
    "chunksize = 100000 # размер фрагмента для чтения\n",
    "fragment = pd.read_csv('test_data.csv', # чтение данных из csv файлов\n",
    "    chunksize=chunksize, \n",
    "    iterator=True,\n",
    "    dtype={ # типы данных по столбцам\n",
    "        'reiptid':'Int64',\n",
    "        'kkt_sn':'Int64',\n",
    "        'd_date':'object',\n",
    "        'name':'object',\n",
    "        'amount':'object',\n",
    "        'unit':'object',\n",
    "        'price':'object',\n",
    "        'cost':'object',\n",
    "        'nal':'object',\n",
    "        'electron':'object',\n",
    "        'avans':'object',\n",
    "        'credit':'object',\n",
    "        'vstrechpredst':'object',\n",
    "        'Тип региона':'object',\n",
    "        'Имя региона':'object',\n",
    "        'Тип города':'object',\n",
    "        'Имя города':'object',\n",
    "        'Тип улицы':'object',\n",
    "        'Имя улицы':'object',\n",
    "        'Тип номера дома':'object',\n",
    "        'Номер дома':'object'\n",
    "    }\n",
    ")\n",
    "\n",
    "raw_data = pd.concat(fragment, ignore_index=True)"
   ]
  },
  {
   "cell_type": "markdown",
   "id": "ee0421d6",
   "metadata": {},
   "source": [
    "Посмотрим на структуру данных в таблице."
   ]
  },
  {
   "cell_type": "code",
   "execution_count": 5,
   "id": "052c4205",
   "metadata": {
    "scrolled": false
   },
   "outputs": [
    {
     "name": "stdout",
     "output_type": "stream",
     "text": [
      "<class 'pandas.core.frame.DataFrame'>\n",
      "RangeIndex: 10000000 entries, 0 to 9999999\n",
      "Data columns (total 21 columns):\n",
      " #   Column           Non-Null Count     Dtype \n",
      "---  ------           --------------     ----- \n",
      " 0   receiptid        10000000 non-null  int64 \n",
      " 1   kkt_sn           10000000 non-null  Int64 \n",
      " 2   d_date           10000000 non-null  object\n",
      " 3   name             10000000 non-null  object\n",
      " 4   amount           10000000 non-null  object\n",
      " 5   unit             10000000 non-null  object\n",
      " 6   price            10000000 non-null  object\n",
      " 7   cost             10000000 non-null  object\n",
      " 8   nal              10000000 non-null  object\n",
      " 9   electron         10000000 non-null  object\n",
      " 10  avans            10000000 non-null  object\n",
      " 11  credit           10000000 non-null  object\n",
      " 12  vstrechpredst    10000000 non-null  object\n",
      " 13  Тип региона      9978965 non-null   object\n",
      " 14  Имя региона      9978965 non-null   object\n",
      " 15  Тип города       9978965 non-null   object\n",
      " 16  Имя города       9978965 non-null   object\n",
      " 17  Тип улицы        9978965 non-null   object\n",
      " 18  Имя улицы        9978965 non-null   object\n",
      " 19  Тип номера дома  9978965 non-null   object\n",
      " 20  Номер дома       9978965 non-null   object\n",
      "dtypes: Int64(1), int64(1), object(19)\n",
      "memory usage: 1.6+ GB\n"
     ]
    }
   ],
   "source": [
    "raw_data.info(show_counts=True) # получение общей информации о данных в таблице"
   ]
  },
  {
   "cell_type": "markdown",
   "id": "cc5a5108",
   "metadata": {},
   "source": [
    "Пропусков в данных нет, за исключением столбцов с географической привязкой, в них пропусков немного, пока оставим их без заполнения."
   ]
  },
  {
   "cell_type": "markdown",
   "id": "c93fa041",
   "metadata": {},
   "source": [
    "Посмотрим на образец данных."
   ]
  },
  {
   "cell_type": "code",
   "execution_count": 6,
   "id": "57659869",
   "metadata": {
    "scrolled": true
   },
   "outputs": [
    {
     "data": {
      "text/html": [
       "<div>\n",
       "<style scoped>\n",
       "    .dataframe tbody tr th:only-of-type {\n",
       "        vertical-align: middle;\n",
       "    }\n",
       "\n",
       "    .dataframe tbody tr th {\n",
       "        vertical-align: top;\n",
       "    }\n",
       "\n",
       "    .dataframe thead th {\n",
       "        text-align: right;\n",
       "    }\n",
       "</style>\n",
       "<table border=\"1\" class=\"dataframe\">\n",
       "  <thead>\n",
       "    <tr style=\"text-align: right;\">\n",
       "      <th></th>\n",
       "      <th>5794309</th>\n",
       "      <th>230284</th>\n",
       "      <th>6325956</th>\n",
       "      <th>2290600</th>\n",
       "      <th>2061505</th>\n",
       "    </tr>\n",
       "  </thead>\n",
       "  <tbody>\n",
       "    <tr>\n",
       "      <th>receiptid</th>\n",
       "      <td>71461243</td>\n",
       "      <td>76159020</td>\n",
       "      <td>77482081</td>\n",
       "      <td>60191784</td>\n",
       "      <td>71853564</td>\n",
       "    </tr>\n",
       "    <tr>\n",
       "      <th>kkt_sn</th>\n",
       "      <td>108202931011</td>\n",
       "      <td>108208948089</td>\n",
       "      <td>108402493765</td>\n",
       "      <td>108206344620</td>\n",
       "      <td>108202271399</td>\n",
       "    </tr>\n",
       "    <tr>\n",
       "      <th>d_date</th>\n",
       "      <td>2018-06-15</td>\n",
       "      <td>2018-07-17</td>\n",
       "      <td>2018-07-21</td>\n",
       "      <td>2018-06-04</td>\n",
       "      <td>2018-07-05</td>\n",
       "    </tr>\n",
       "    <tr>\n",
       "      <th>name</th>\n",
       "      <td>0001 ТОВАР</td>\n",
       "      <td>0001 Автоxимия</td>\n",
       "      <td>0001 ХЛЕБО-БУЛОЧНЫЕ ИЗДЕЛИЯ</td>\n",
       "      <td>0001 ТОВАР</td>\n",
       "      <td>0001 БАКАЛЕЙНАЯ ПРОДУКЦИЯ</td>\n",
       "    </tr>\n",
       "    <tr>\n",
       "      <th>amount</th>\n",
       "      <td>1</td>\n",
       "      <td>3</td>\n",
       "      <td>1</td>\n",
       "      <td>1</td>\n",
       "      <td>1</td>\n",
       "    </tr>\n",
       "    <tr>\n",
       "      <th>unit</th>\n",
       "      <td>--</td>\n",
       "      <td>--</td>\n",
       "      <td>--</td>\n",
       "      <td>--</td>\n",
       "      <td>--</td>\n",
       "    </tr>\n",
       "    <tr>\n",
       "      <th>price</th>\n",
       "      <td>200.00</td>\n",
       "      <td>1929.00</td>\n",
       "      <td>19.50</td>\n",
       "      <td>149.00</td>\n",
       "      <td>190.00</td>\n",
       "    </tr>\n",
       "    <tr>\n",
       "      <th>cost</th>\n",
       "      <td>200.00</td>\n",
       "      <td>5787.00</td>\n",
       "      <td>19.50</td>\n",
       "      <td>149.00</td>\n",
       "      <td>190.00</td>\n",
       "    </tr>\n",
       "    <tr>\n",
       "      <th>nal</th>\n",
       "      <td>200.00</td>\n",
       "      <td>9780.00</td>\n",
       "      <td>19.50</td>\n",
       "      <td>0.00</td>\n",
       "      <td>0.00</td>\n",
       "    </tr>\n",
       "    <tr>\n",
       "      <th>electron</th>\n",
       "      <td>0.00</td>\n",
       "      <td>0.00</td>\n",
       "      <td>0.00</td>\n",
       "      <td>628.00</td>\n",
       "      <td>550.71</td>\n",
       "    </tr>\n",
       "    <tr>\n",
       "      <th>avans</th>\n",
       "      <td>0.00</td>\n",
       "      <td>0.00</td>\n",
       "      <td>0.00</td>\n",
       "      <td>0.00</td>\n",
       "      <td>0.00</td>\n",
       "    </tr>\n",
       "    <tr>\n",
       "      <th>credit</th>\n",
       "      <td>0.00</td>\n",
       "      <td>0.00</td>\n",
       "      <td>0.00</td>\n",
       "      <td>0.00</td>\n",
       "      <td>0.00</td>\n",
       "    </tr>\n",
       "    <tr>\n",
       "      <th>vstrechpredst</th>\n",
       "      <td>0.00</td>\n",
       "      <td>0.00</td>\n",
       "      <td>0.00</td>\n",
       "      <td>0.00</td>\n",
       "      <td>0.00</td>\n",
       "    </tr>\n",
       "    <tr>\n",
       "      <th>Тип региона</th>\n",
       "      <td>обл</td>\n",
       "      <td>обл</td>\n",
       "      <td>обл</td>\n",
       "      <td>обл</td>\n",
       "      <td>Респ</td>\n",
       "    </tr>\n",
       "    <tr>\n",
       "      <th>Имя региона</th>\n",
       "      <td>Новгородская</td>\n",
       "      <td>Московская</td>\n",
       "      <td>Тульская</td>\n",
       "      <td>Ленинградская</td>\n",
       "      <td>Татарстан</td>\n",
       "    </tr>\n",
       "    <tr>\n",
       "      <th>Тип города</th>\n",
       "      <td>г</td>\n",
       "      <td>г</td>\n",
       "      <td>г</td>\n",
       "      <td>0</td>\n",
       "      <td>г</td>\n",
       "    </tr>\n",
       "    <tr>\n",
       "      <th>Имя города</th>\n",
       "      <td>Валдай</td>\n",
       "      <td>Королев</td>\n",
       "      <td>Тула</td>\n",
       "      <td>0</td>\n",
       "      <td>Нижнекамск</td>\n",
       "    </tr>\n",
       "    <tr>\n",
       "      <th>Тип улицы</th>\n",
       "      <td>пр-кт</td>\n",
       "      <td>пр-кт</td>\n",
       "      <td>ул</td>\n",
       "      <td>ул</td>\n",
       "      <td>ул</td>\n",
       "    </tr>\n",
       "    <tr>\n",
       "      <th>Имя улицы</th>\n",
       "      <td>Комсомольский</td>\n",
       "      <td>Космонавтов</td>\n",
       "      <td>Плеханова</td>\n",
       "      <td>Центральная</td>\n",
       "      <td>Баки Урманче</td>\n",
       "    </tr>\n",
       "    <tr>\n",
       "      <th>Тип номера дома</th>\n",
       "      <td>дом</td>\n",
       "      <td>дом</td>\n",
       "      <td>дом</td>\n",
       "      <td>дом</td>\n",
       "      <td>дом</td>\n",
       "    </tr>\n",
       "    <tr>\n",
       "      <th>Номер дома</th>\n",
       "      <td>\"=\"\"29\"\"\"</td>\n",
       "      <td>\"=\"\"50/7\"\"\"</td>\n",
       "      <td>\"=\"\"56\"\"\"</td>\n",
       "      <td>\"=\"\"24А\"\"\"</td>\n",
       "      <td>\"=\"\"2А\"\"\"</td>\n",
       "    </tr>\n",
       "  </tbody>\n",
       "</table>\n",
       "</div>"
      ],
      "text/plain": [
       "                       5794309         230284                       6325956  \\\n",
       "receiptid             71461243        76159020                     77482081   \n",
       "kkt_sn            108202931011    108208948089                 108402493765   \n",
       "d_date              2018-06-15      2018-07-17                   2018-07-21   \n",
       "name                0001 ТОВАР  0001 Автоxимия  0001 ХЛЕБО-БУЛОЧНЫЕ ИЗДЕЛИЯ   \n",
       "amount                       1               3                            1   \n",
       "unit                        --              --                           --   \n",
       "price                   200.00         1929.00                        19.50   \n",
       "cost                    200.00         5787.00                        19.50   \n",
       "nal                     200.00         9780.00                        19.50   \n",
       "electron                  0.00            0.00                         0.00   \n",
       "avans                     0.00            0.00                         0.00   \n",
       "credit                    0.00            0.00                         0.00   \n",
       "vstrechpredst             0.00            0.00                         0.00   \n",
       "Тип региона                обл             обл                          обл   \n",
       "Имя региона       Новгородская      Московская                     Тульская   \n",
       "Тип города                   г               г                            г   \n",
       "Имя города              Валдай         Королев                         Тула   \n",
       "Тип улицы                пр-кт           пр-кт                           ул   \n",
       "Имя улицы        Комсомольский     Космонавтов                    Плеханова   \n",
       "Тип номера дома            дом             дом                          дом   \n",
       "Номер дома           \"=\"\"29\"\"\"     \"=\"\"50/7\"\"\"                    \"=\"\"56\"\"\"   \n",
       "\n",
       "                       2290600                    2061505  \n",
       "receiptid             60191784                   71853564  \n",
       "kkt_sn            108206344620               108202271399  \n",
       "d_date              2018-06-04                 2018-07-05  \n",
       "name                0001 ТОВАР  0001 БАКАЛЕЙНАЯ ПРОДУКЦИЯ  \n",
       "amount                       1                          1  \n",
       "unit                        --                         --  \n",
       "price                   149.00                     190.00  \n",
       "cost                    149.00                     190.00  \n",
       "nal                       0.00                       0.00  \n",
       "electron                628.00                     550.71  \n",
       "avans                     0.00                       0.00  \n",
       "credit                    0.00                       0.00  \n",
       "vstrechpredst             0.00                       0.00  \n",
       "Тип региона                обл                       Респ  \n",
       "Имя региона      Ленинградская                  Татарстан  \n",
       "Тип города                   0                          г  \n",
       "Имя города                   0                 Нижнекамск  \n",
       "Тип улицы                   ул                         ул  \n",
       "Имя улицы          Центральная               Баки Урманче  \n",
       "Тип номера дома            дом                        дом  \n",
       "Номер дома          \"=\"\"24А\"\"\"                  \"=\"\"2А\"\"\"  "
      ]
     },
     "execution_count": 6,
     "metadata": {},
     "output_type": "execute_result"
    }
   ],
   "source": [
    "raw_data.sample(5).T # просмотр образцов данных в таблице"
   ]
  },
  {
   "cell_type": "code",
   "execution_count": 7,
   "id": "14ef1ebc",
   "metadata": {},
   "outputs": [
    {
     "data": {
      "text/plain": [
       "Index(['receiptid', 'kkt_sn', 'd_date', 'name', 'amount', 'unit', 'price',\n",
       "       'cost', 'nal', 'electron', 'avans', 'credit', 'vstrechpredst',\n",
       "       'Тип региона', 'Имя региона', 'Тип города', 'Имя города', 'Тип улицы',\n",
       "       'Имя улицы', 'Тип номера дома', 'Номер дома'],\n",
       "      dtype='object')"
      ]
     },
     "execution_count": 7,
     "metadata": {},
     "output_type": "execute_result"
    }
   ],
   "source": [
    "raw_data.columns # получим названия столбцов"
   ]
  },
  {
   "cell_type": "markdown",
   "id": "a89a08a7",
   "metadata": {},
   "source": [
    "#### Описание данных"
   ]
  },
  {
   "cell_type": "markdown",
   "id": "bf37eb26",
   "metadata": {},
   "source": [
    "* `receiptid` - идентификатор чека\n",
    "* `kkt_sn` - идентификатор кассы (ККТ)\n",
    "* `d_date` - дата чека\n",
    "* `name` - название товара\n",
    "* `amount` - количество товара\n",
    "* `unit` - единица измерения\n",
    "* `price` - стоимость товара\n",
    "* `cost` - сумма всего чека\n",
    "* `nal` - наличные\n",
    "* `electron` - электронные\n",
    "* `avans` - аванс\n",
    "* `credit` - кредит\n",
    "* `vstrechpredst` - предрасчет\n",
    "* `Тип региона` - Тип региона\n",
    "* `Имя региона` - Имя региона\n",
    "* `Тип города` - Тип города\n",
    "* `Имя города` - Имя города\n",
    "* `Тип улицы` - Тип улицы\n",
    "* `Имя улицы` - Имя улицы\n",
    "* `Тип номера дома` - Тип номера дома\n",
    "* `Номер дома` - Номер дома"
   ]
  },
  {
   "cell_type": "markdown",
   "id": "d8e6bf14",
   "metadata": {},
   "source": [
    "#### Вывод\n",
    "Предварительно можно утверждать, что данных достаточно для решения поставленных задач.\n",
    "\n",
    "Число пропусков в столбцах c геопривязкой невелико. Для возможности анализа всего объема данных мы оставили пропуски без изменения.\n",
    "\n",
    "Типы данных во всех столбцах различаются, возможно преобразование типов некоторых колонок повысит скорость обработки данных и повысит удобство при исследовании.\n",
    "\n",
    "Названия столбцов нарушают правила наименования и должны быть приведены в соответствии с ними."
   ]
  },
  {
   "cell_type": "markdown",
   "id": "de511ef3",
   "metadata": {},
   "source": [
    "### Предобработка данных"
   ]
  },
  {
   "cell_type": "markdown",
   "id": "5ea3f6e1",
   "metadata": {},
   "source": [
    "#### Переименование столбцов"
   ]
  },
  {
   "cell_type": "markdown",
   "id": "c34e6fbb",
   "metadata": {},
   "source": [
    "В заголовках столбцов использованы заглавные буквы, пробелы, кириллические символы, это противоречит правилам наименования. Переименуем столбцы нарушающие правила."
   ]
  },
  {
   "cell_type": "code",
   "execution_count": 8,
   "id": "4a742d6b",
   "metadata": {
    "scrolled": true
   },
   "outputs": [
    {
     "data": {
      "text/plain": [
       "Index(['receiptid', 'kkt_sn', 'd_date', 'name', 'amount', 'unit', 'price',\n",
       "       'cost', 'nal', 'electron', 'avans', 'credit', 'vstrechpredst',\n",
       "       'region_type', 'region', 'city_type', 'city', 'street_type', 'street',\n",
       "       'house_type', 'house'],\n",
       "      dtype='object')"
      ]
     },
     "execution_count": 8,
     "metadata": {},
     "output_type": "execute_result"
    }
   ],
   "source": [
    "raw_data = raw_data.rename(columns= # переименуем столбцы\n",
    "   {'Тип региона':'region_type',\n",
    "    'Имя региона':'region',\n",
    "    'Тип города':'city_type',\n",
    "    'Имя города':'city',\n",
    "    'Тип улицы':'street_type',\n",
    "    'Имя улицы':'street',\n",
    "    'Тип номера дома':'house_type',\n",
    "    'Номер дома':'house'}\n",
    ")\n",
    "raw_data.columns # получим названия столбцов"
   ]
  },
  {
   "cell_type": "markdown",
   "id": "0de9b56b",
   "metadata": {},
   "source": [
    "Столбцы успешно переименованы."
   ]
  },
  {
   "cell_type": "markdown",
   "id": "25c6d726",
   "metadata": {},
   "source": [
    "#### Изменение типов данных"
   ]
  },
  {
   "cell_type": "markdown",
   "id": "83718537",
   "metadata": {},
   "source": [
    "Посмотрим на структуру данных в таблице."
   ]
  },
  {
   "cell_type": "code",
   "execution_count": 9,
   "id": "9f8d419c",
   "metadata": {},
   "outputs": [
    {
     "name": "stdout",
     "output_type": "stream",
     "text": [
      "<class 'pandas.core.frame.DataFrame'>\n",
      "RangeIndex: 10000000 entries, 0 to 9999999\n",
      "Data columns (total 21 columns):\n",
      " #   Column         Dtype \n",
      "---  ------         ----- \n",
      " 0   receiptid      int64 \n",
      " 1   kkt_sn         Int64 \n",
      " 2   d_date         object\n",
      " 3   name           object\n",
      " 4   amount         object\n",
      " 5   unit           object\n",
      " 6   price          object\n",
      " 7   cost           object\n",
      " 8   nal            object\n",
      " 9   electron       object\n",
      " 10  avans          object\n",
      " 11  credit         object\n",
      " 12  vstrechpredst  object\n",
      " 13  region_type    object\n",
      " 14  region         object\n",
      " 15  city_type      object\n",
      " 16  city           object\n",
      " 17  street_type    object\n",
      " 18  street         object\n",
      " 19  house_type     object\n",
      " 20  house          object\n",
      "dtypes: Int64(1), int64(1), object(19)\n",
      "memory usage: 1.6+ GB\n"
     ]
    }
   ],
   "source": [
    "raw_data.info() # получение общей информации о данных в таблице"
   ]
  },
  {
   "cell_type": "markdown",
   "id": "f1a82a30",
   "metadata": {},
   "source": [
    "Посмотрим как выглядят данные в таблице."
   ]
  },
  {
   "cell_type": "code",
   "execution_count": 10,
   "id": "fd9cea16",
   "metadata": {},
   "outputs": [
    {
     "data": {
      "text/html": [
       "<div>\n",
       "<style scoped>\n",
       "    .dataframe tbody tr th:only-of-type {\n",
       "        vertical-align: middle;\n",
       "    }\n",
       "\n",
       "    .dataframe tbody tr th {\n",
       "        vertical-align: top;\n",
       "    }\n",
       "\n",
       "    .dataframe thead th {\n",
       "        text-align: right;\n",
       "    }\n",
       "</style>\n",
       "<table border=\"1\" class=\"dataframe\">\n",
       "  <thead>\n",
       "    <tr style=\"text-align: right;\">\n",
       "      <th></th>\n",
       "      <th>8961714</th>\n",
       "      <th>4735231</th>\n",
       "      <th>9745088</th>\n",
       "      <th>1179754</th>\n",
       "      <th>9034011</th>\n",
       "    </tr>\n",
       "  </thead>\n",
       "  <tbody>\n",
       "    <tr>\n",
       "      <th>receiptid</th>\n",
       "      <td>70764170</td>\n",
       "      <td>67662502</td>\n",
       "      <td>61264245</td>\n",
       "      <td>78828066</td>\n",
       "      <td>67217278</td>\n",
       "    </tr>\n",
       "    <tr>\n",
       "      <th>kkt_sn</th>\n",
       "      <td>108205296412</td>\n",
       "      <td>108201598312</td>\n",
       "      <td>108202885110</td>\n",
       "      <td>108200336557</td>\n",
       "      <td>108203996627</td>\n",
       "    </tr>\n",
       "    <tr>\n",
       "      <th>d_date</th>\n",
       "      <td>2018-06-30</td>\n",
       "      <td>2018-06-24</td>\n",
       "      <td>2018-06-07</td>\n",
       "      <td>2018-07-24</td>\n",
       "      <td>2018-06-23</td>\n",
       "    </tr>\n",
       "    <tr>\n",
       "      <th>name</th>\n",
       "      <td>0001 ТОВАР</td>\n",
       "      <td>0001 ТОВАР</td>\n",
       "      <td>0001 ТОВАР</td>\n",
       "      <td>0008 ЧАЙ-КОФЕ</td>\n",
       "      <td>0144 Быт. химия</td>\n",
       "    </tr>\n",
       "    <tr>\n",
       "      <th>amount</th>\n",
       "      <td>1</td>\n",
       "      <td>1</td>\n",
       "      <td>1</td>\n",
       "      <td>1</td>\n",
       "      <td>1</td>\n",
       "    </tr>\n",
       "    <tr>\n",
       "      <th>unit</th>\n",
       "      <td>штука</td>\n",
       "      <td>--</td>\n",
       "      <td>--</td>\n",
       "      <td>килограмм</td>\n",
       "      <td>--</td>\n",
       "    </tr>\n",
       "    <tr>\n",
       "      <th>price</th>\n",
       "      <td>500.00</td>\n",
       "      <td>169.00</td>\n",
       "      <td>1242.00</td>\n",
       "      <td>200.00</td>\n",
       "      <td>78.00</td>\n",
       "    </tr>\n",
       "    <tr>\n",
       "      <th>cost</th>\n",
       "      <td>500.00</td>\n",
       "      <td>169.00</td>\n",
       "      <td>1242.00</td>\n",
       "      <td>200.00</td>\n",
       "      <td>78.00</td>\n",
       "    </tr>\n",
       "    <tr>\n",
       "      <th>nal</th>\n",
       "      <td>900.00</td>\n",
       "      <td>169.00</td>\n",
       "      <td>1242.00</td>\n",
       "      <td>350.00</td>\n",
       "      <td>78.00</td>\n",
       "    </tr>\n",
       "    <tr>\n",
       "      <th>electron</th>\n",
       "      <td>0.00</td>\n",
       "      <td>0.00</td>\n",
       "      <td>0.00</td>\n",
       "      <td>0.00</td>\n",
       "      <td>0.00</td>\n",
       "    </tr>\n",
       "    <tr>\n",
       "      <th>avans</th>\n",
       "      <td>0.00</td>\n",
       "      <td>0.00</td>\n",
       "      <td>0.00</td>\n",
       "      <td>0.00</td>\n",
       "      <td>0.00</td>\n",
       "    </tr>\n",
       "    <tr>\n",
       "      <th>credit</th>\n",
       "      <td>0.00</td>\n",
       "      <td>0.00</td>\n",
       "      <td>0.00</td>\n",
       "      <td>0.00</td>\n",
       "      <td>0.00</td>\n",
       "    </tr>\n",
       "    <tr>\n",
       "      <th>vstrechpredst</th>\n",
       "      <td>0.00</td>\n",
       "      <td>0.00</td>\n",
       "      <td>0.00</td>\n",
       "      <td>0.00</td>\n",
       "      <td>0.00</td>\n",
       "    </tr>\n",
       "    <tr>\n",
       "      <th>region_type</th>\n",
       "      <td>г</td>\n",
       "      <td>обл</td>\n",
       "      <td>обл</td>\n",
       "      <td>Респ</td>\n",
       "      <td>Респ</td>\n",
       "    </tr>\n",
       "    <tr>\n",
       "      <th>region</th>\n",
       "      <td>Санкт-Петербург</td>\n",
       "      <td>Тульская</td>\n",
       "      <td>Курская</td>\n",
       "      <td>Марий Эл</td>\n",
       "      <td>Крым</td>\n",
       "    </tr>\n",
       "    <tr>\n",
       "      <th>city_type</th>\n",
       "      <td>0</td>\n",
       "      <td>г</td>\n",
       "      <td>0</td>\n",
       "      <td>г</td>\n",
       "      <td>0</td>\n",
       "    </tr>\n",
       "    <tr>\n",
       "      <th>city</th>\n",
       "      <td>0</td>\n",
       "      <td>Тула</td>\n",
       "      <td>0</td>\n",
       "      <td>Йошкар-Ола</td>\n",
       "      <td>0</td>\n",
       "    </tr>\n",
       "    <tr>\n",
       "      <th>street_type</th>\n",
       "      <td>пр-кт</td>\n",
       "      <td>ул</td>\n",
       "      <td>ул</td>\n",
       "      <td>ул</td>\n",
       "      <td>пер</td>\n",
       "    </tr>\n",
       "    <tr>\n",
       "      <th>street</th>\n",
       "      <td>Гражданский</td>\n",
       "      <td>Коминтерна</td>\n",
       "      <td>Мира</td>\n",
       "      <td>Советская</td>\n",
       "      <td>Школьный</td>\n",
       "    </tr>\n",
       "    <tr>\n",
       "      <th>house_type</th>\n",
       "      <td>дом</td>\n",
       "      <td>дом</td>\n",
       "      <td>дом</td>\n",
       "      <td>дом</td>\n",
       "      <td>дом</td>\n",
       "    </tr>\n",
       "    <tr>\n",
       "      <th>house</th>\n",
       "      <td>\"=\"\"41\"\"\"</td>\n",
       "      <td>\"=\"\"30А\"\"\"</td>\n",
       "      <td>\"=\"\"72Б\"\"\"</td>\n",
       "      <td>\"=\"\"106\"\"\"</td>\n",
       "      <td>\"=\"\"5\"\"\"</td>\n",
       "    </tr>\n",
       "  </tbody>\n",
       "</table>\n",
       "</div>"
      ],
      "text/plain": [
       "                       8961714       4735231       9745088        1179754  \\\n",
       "receiptid             70764170      67662502      61264245       78828066   \n",
       "kkt_sn            108205296412  108201598312  108202885110   108200336557   \n",
       "d_date              2018-06-30    2018-06-24    2018-06-07     2018-07-24   \n",
       "name                0001 ТОВАР    0001 ТОВАР    0001 ТОВАР  0008 ЧАЙ-КОФЕ   \n",
       "amount                       1             1             1              1   \n",
       "unit                     штука            --            --      килограмм   \n",
       "price                   500.00        169.00       1242.00         200.00   \n",
       "cost                    500.00        169.00       1242.00         200.00   \n",
       "nal                     900.00        169.00       1242.00         350.00   \n",
       "electron                  0.00          0.00          0.00           0.00   \n",
       "avans                     0.00          0.00          0.00           0.00   \n",
       "credit                    0.00          0.00          0.00           0.00   \n",
       "vstrechpredst             0.00          0.00          0.00           0.00   \n",
       "region_type                  г           обл           обл           Респ   \n",
       "region         Санкт-Петербург      Тульская       Курская       Марий Эл   \n",
       "city_type                    0             г             0              г   \n",
       "city                         0          Тула             0     Йошкар-Ола   \n",
       "street_type              пр-кт            ул            ул             ул   \n",
       "street             Гражданский    Коминтерна          Мира      Советская   \n",
       "house_type                 дом           дом           дом            дом   \n",
       "house                \"=\"\"41\"\"\"    \"=\"\"30А\"\"\"    \"=\"\"72Б\"\"\"     \"=\"\"106\"\"\"   \n",
       "\n",
       "                       9034011  \n",
       "receiptid             67217278  \n",
       "kkt_sn            108203996627  \n",
       "d_date              2018-06-23  \n",
       "name           0144 Быт. химия  \n",
       "amount                       1  \n",
       "unit                        --  \n",
       "price                    78.00  \n",
       "cost                     78.00  \n",
       "nal                      78.00  \n",
       "electron                  0.00  \n",
       "avans                     0.00  \n",
       "credit                    0.00  \n",
       "vstrechpredst             0.00  \n",
       "region_type               Респ  \n",
       "region                    Крым  \n",
       "city_type                    0  \n",
       "city                         0  \n",
       "street_type                пер  \n",
       "street                Школьный  \n",
       "house_type                 дом  \n",
       "house                 \"=\"\"5\"\"\"  "
      ]
     },
     "execution_count": 10,
     "metadata": {},
     "output_type": "execute_result"
    }
   ],
   "source": [
    "raw_data.sample(5).T # просмотр образцов данных в таблице"
   ]
  },
  {
   "cell_type": "markdown",
   "id": "a95a8f97",
   "metadata": {},
   "source": [
    "Столбец 'd_date' может быть приведен к типу date, столбцы 'amount', 'price', 'cost', 'nal', 'electron', 'avans', 'credit' к типу float. Проведем замену типов."
   ]
  },
  {
   "cell_type": "code",
   "execution_count": 11,
   "id": "41bb254e",
   "metadata": {},
   "outputs": [],
   "source": [
    "try:\n",
    "    raw_data['d_date'] =  pd.to_datetime(raw_data['d_date']).dt.date\n",
    "except:\n",
    "    print('Ошибка преобразования типа данных')  "
   ]
  },
  {
   "cell_type": "code",
   "execution_count": 12,
   "id": "024b8e71",
   "metadata": {},
   "outputs": [],
   "source": [
    "num_list = ['amount', 'price', 'cost', 'nal', 'electron', 'avans', 'credit', 'vstrechpredst'] # список числовых столбцов\n",
    "for col in num_list:\n",
    "    try:\n",
    "        raw_data[col] = pd.to_numeric(raw_data[col], errors='coerce') # преобразование типа\n",
    "    except:\n",
    "        print('Ошибка преобразования типа данных в столбце {}'.format(col))"
   ]
  },
  {
   "cell_type": "code",
   "execution_count": 13,
   "id": "3d163026",
   "metadata": {},
   "outputs": [
    {
     "name": "stdout",
     "output_type": "stream",
     "text": [
      "<class 'pandas.core.frame.DataFrame'>\n",
      "RangeIndex: 10000000 entries, 0 to 9999999\n",
      "Data columns (total 21 columns):\n",
      " #   Column         Non-Null Count     Dtype  \n",
      "---  ------         --------------     -----  \n",
      " 0   receiptid      10000000 non-null  int64  \n",
      " 1   kkt_sn         10000000 non-null  Int64  \n",
      " 2   d_date         10000000 non-null  object \n",
      " 3   name           10000000 non-null  object \n",
      " 4   amount         9999971 non-null   float64\n",
      " 5   unit           10000000 non-null  object \n",
      " 6   price          9999977 non-null   float64\n",
      " 7   cost           9999961 non-null   float64\n",
      " 8   nal            9999992 non-null   float64\n",
      " 9   electron       9999996 non-null   float64\n",
      " 10  avans          9999996 non-null   float64\n",
      " 11  credit         9999996 non-null   float64\n",
      " 12  vstrechpredst  9999996 non-null   float64\n",
      " 13  region_type    9978965 non-null   object \n",
      " 14  region         9978965 non-null   object \n",
      " 15  city_type      9978965 non-null   object \n",
      " 16  city           9978965 non-null   object \n",
      " 17  street_type    9978965 non-null   object \n",
      " 18  street         9978965 non-null   object \n",
      " 19  house_type     9978965 non-null   object \n",
      " 20  house          9978965 non-null   object \n",
      "dtypes: Int64(1), float64(8), int64(1), object(11)\n",
      "memory usage: 1.6+ GB\n"
     ]
    }
   ],
   "source": [
    "raw_data.info(show_counts=True) # получение общей информации о данных в таблице"
   ]
  },
  {
   "cell_type": "code",
   "execution_count": 14,
   "id": "4693eec5",
   "metadata": {},
   "outputs": [
    {
     "data": {
      "text/plain": [
       "datetime.date"
      ]
     },
     "execution_count": 14,
     "metadata": {},
     "output_type": "execute_result"
    }
   ],
   "source": [
    "type(raw_data['d_date'][0]) # просмотр типа столбца 'd_date'"
   ]
  },
  {
   "cell_type": "markdown",
   "id": "665e41e5",
   "metadata": {},
   "source": [
    "При конвертации произошло несколько десятков ошибок, что ничтожно по отношению к объему данных. На данном этапе анализа удалим эти строки."
   ]
  },
  {
   "cell_type": "code",
   "execution_count": 15,
   "id": "c4514d31",
   "metadata": {},
   "outputs": [],
   "source": [
    "raw_data = raw_data.dropna(subset=num_list) # удаление строк с NaN"
   ]
  },
  {
   "cell_type": "code",
   "execution_count": 16,
   "id": "e345e0be",
   "metadata": {},
   "outputs": [
    {
     "name": "stdout",
     "output_type": "stream",
     "text": [
      "<class 'pandas.core.frame.DataFrame'>\n",
      "Int64Index: 9999961 entries, 0 to 9999999\n",
      "Data columns (total 21 columns):\n",
      " #   Column         Non-Null Count    Dtype  \n",
      "---  ------         --------------    -----  \n",
      " 0   receiptid      9999961 non-null  int64  \n",
      " 1   kkt_sn         9999961 non-null  Int64  \n",
      " 2   d_date         9999961 non-null  object \n",
      " 3   name           9999961 non-null  object \n",
      " 4   amount         9999961 non-null  float64\n",
      " 5   unit           9999961 non-null  object \n",
      " 6   price          9999961 non-null  float64\n",
      " 7   cost           9999961 non-null  float64\n",
      " 8   nal            9999961 non-null  float64\n",
      " 9   electron       9999961 non-null  float64\n",
      " 10  avans          9999961 non-null  float64\n",
      " 11  credit         9999961 non-null  float64\n",
      " 12  vstrechpredst  9999961 non-null  float64\n",
      " 13  region_type    9978926 non-null  object \n",
      " 14  region         9978926 non-null  object \n",
      " 15  city_type      9978926 non-null  object \n",
      " 16  city           9978926 non-null  object \n",
      " 17  street_type    9978926 non-null  object \n",
      " 18  street         9978926 non-null  object \n",
      " 19  house_type     9978926 non-null  object \n",
      " 20  house          9978926 non-null  object \n",
      "dtypes: Int64(1), float64(8), int64(1), object(11)\n",
      "memory usage: 1.6+ GB\n"
     ]
    }
   ],
   "source": [
    "raw_data.info(show_counts=True) # получение общей информации о данных в таблице"
   ]
  },
  {
   "cell_type": "markdown",
   "id": "6ccabbfc",
   "metadata": {},
   "source": [
    "Теперь все виды данных столбцов, за исключением геопривязки, приведены к оптимальным."
   ]
  },
  {
   "cell_type": "markdown",
   "id": "f5ef5856",
   "metadata": {},
   "source": [
    "#### Поиск дубликатов"
   ]
  },
  {
   "cell_type": "markdown",
   "id": "5074798c",
   "metadata": {},
   "source": [
    "Проверим данные на наличие явных дубликатов."
   ]
  },
  {
   "cell_type": "code",
   "execution_count": 17,
   "id": "7fa61e45",
   "metadata": {},
   "outputs": [
    {
     "data": {
      "text/plain": [
       "122703"
      ]
     },
     "execution_count": 17,
     "metadata": {},
     "output_type": "execute_result"
    }
   ],
   "source": [
    "raw_data.duplicated().sum() # подсчёт явных дубликатов"
   ]
  },
  {
   "cell_type": "markdown",
   "id": "83a81c54",
   "metadata": {},
   "source": [
    "В данных продублировано 122703 строки. Учитывая большой объем идентифицирующих данных, скорее всего дублирование вызвано технической ошибкой. Удалим дубликаты."
   ]
  },
  {
   "cell_type": "code",
   "execution_count": 18,
   "id": "6dfc3181",
   "metadata": {},
   "outputs": [],
   "source": [
    "raw_data = raw_data.drop_duplicates(ignore_index=True) # удаление явных дубликатов"
   ]
  },
  {
   "cell_type": "code",
   "execution_count": 19,
   "id": "9c06ed2d",
   "metadata": {
    "scrolled": true
   },
   "outputs": [
    {
     "name": "stdout",
     "output_type": "stream",
     "text": [
      "Dataframe raw_data has 9877258 rows.\n"
     ]
    }
   ],
   "source": [
    "print('Dataframe raw_data has {} rows.'.format(raw_data.shape[0])) # просмотр числа строк"
   ]
  },
  {
   "cell_type": "markdown",
   "id": "e5099440",
   "metadata": {},
   "source": [
    "Дубликаты успешно удалены."
   ]
  },
  {
   "cell_type": "markdown",
   "id": "50ddf92c",
   "metadata": {},
   "source": [
    "### Вывод\n",
    "В заголовках столбцов были использованы заглавные буквы, пробелы, кириллические символы, это противоречит правилам наименования. Мы переименовали столбцы нарушающие правила.\n",
    "\n",
    "С целью экономии памяти и удобства анализа столбец 'd_date' приведен к типу date, столбцы 'amount', 'price', 'cost', 'nal', 'electron', 'avans', 'credit' к типу float.\n",
    "\n",
    "При конвертации произошло несколько десятков ошибок, что ничтожно по отношению к объему данных. Мы удалили строки с ошибками конверсии. Теперь все виды данных столбцов, за исключением геопривязки, приведены к оптимальным.\n",
    "\n",
    "В данных продублировано 122703 строки. Учитывая большой объем идентифицирующих данных, скорее всего дублирование вызвано технической ошибкой. Мы удалили дубликаты.\n",
    "\n",
    "После обработки в датафрейме 9877258 строк."
   ]
  },
  {
   "cell_type": "markdown",
   "id": "c52a7839",
   "metadata": {},
   "source": [
    "### Исследовательский анализ данных"
   ]
  },
  {
   "cell_type": "markdown",
   "id": "077d76aa",
   "metadata": {},
   "source": [
    "#### Определение временного периода"
   ]
  },
  {
   "cell_type": "markdown",
   "id": "ebde8a03",
   "metadata": {},
   "source": [
    "Посмотрим за какой период предоставлены данные."
   ]
  },
  {
   "cell_type": "code",
   "execution_count": 20,
   "id": "570a1f92",
   "metadata": {},
   "outputs": [
    {
     "name": "stdout",
     "output_type": "stream",
     "text": [
      "Временной диапазон данных с 2018-06-01 по 2018-08-01\n"
     ]
    }
   ],
   "source": [
    "print('Временной диапазон данных с {} по {}'.format(raw_data['d_date'].min(), raw_data['d_date'].max()))"
   ]
  },
  {
   "cell_type": "markdown",
   "id": "f7d599fc",
   "metadata": {},
   "source": [
    "Данные предоставлены за два месяца. С 1 июня по 1 августа 2018 года."
   ]
  },
  {
   "cell_type": "markdown",
   "id": "845bb7a1",
   "metadata": {},
   "source": [
    "#### Обработка названия товара"
   ]
  },
  {
   "cell_type": "markdown",
   "id": "25e5a3f3",
   "metadata": {},
   "source": [
    "Посмотрим на наиболее типичные названия товара."
   ]
  },
  {
   "cell_type": "code",
   "execution_count": 21,
   "id": "01394e98",
   "metadata": {},
   "outputs": [
    {
     "data": {
      "text/plain": [
       "0001 ТОВАР                              2012820\n",
       "0001                                     301608\n",
       "0001 Товар                               265480\n",
       "0001 ПРОДУКТЫ                            231396\n",
       "0001 ХЛЕБО-БУЛОЧНЫЕ ИЗДЕЛИЯ              147251\n",
       "0001 ТОВАР НА СУММУ                      117648\n",
       "0001 товар                                98748\n",
       "0001 ПРОДУКТЫ ПИТАНИЯ                     87684\n",
       "0001 ХЛЕБОБУЛОЧНЫЕ ИЗДЕЛИЯ В АССОРТ.      75789\n",
       "0001 КОЛБАСЫ И МЯСНЫЕ ИЗДЕЛИЯ             64870\n",
       "Name: name, dtype: int64"
      ]
     },
     "execution_count": 21,
     "metadata": {},
     "output_type": "execute_result"
    }
   ],
   "source": [
    "raw_data['name'].value_counts().head(10) # вывод 10 самых популярных названий товаров"
   ]
  },
  {
   "cell_type": "markdown",
   "id": "a4283434",
   "metadata": {},
   "source": [
    "Во многих чеках в название товара включен номер, как правило это 4 цифры с ведущими нулями. Для удобства анализа вынесем эти цифры в отдельный столбец. "
   ]
  },
  {
   "cell_type": "code",
   "execution_count": 22,
   "id": "e7381fe2",
   "metadata": {},
   "outputs": [],
   "source": [
    "raw_data['name_number'] = raw_data['name'].str.slice(stop=4) # перенос первых 4 цифр в столбец 'name_number'"
   ]
  },
  {
   "cell_type": "code",
   "execution_count": 23,
   "id": "d9dda95f",
   "metadata": {},
   "outputs": [],
   "source": [
    "raw_data['name_number'] = pd.to_numeric(raw_data['name_number'], errors='coerce', downcast='integer') # преобразование столбца в целый тип"
   ]
  },
  {
   "cell_type": "markdown",
   "id": "c48af949",
   "metadata": {},
   "source": [
    "Посмотрим на результат преобразования."
   ]
  },
  {
   "cell_type": "code",
   "execution_count": 24,
   "id": "49b933b6",
   "metadata": {},
   "outputs": [
    {
     "data": {
      "text/plain": [
       "108425"
      ]
     },
     "execution_count": 24,
     "metadata": {},
     "output_type": "execute_result"
    }
   ],
   "source": [
    "raw_data['name_number'].isna().sum() # подсчет пропусков"
   ]
  },
  {
   "cell_type": "markdown",
   "id": "16376128",
   "metadata": {},
   "source": [
    "Преобразовались с ошибкой 108425 строк. Скорее всего в этих чеках номер был не указан. Учтем это, и не будем отрезать номер в названиях, если поле 'name_number' содержит NaN."
   ]
  },
  {
   "cell_type": "markdown",
   "id": "b43268e7",
   "metadata": {},
   "source": [
    "Удалим номера из названий. "
   ]
  },
  {
   "cell_type": "code",
   "execution_count": 25,
   "id": "fa555469",
   "metadata": {},
   "outputs": [],
   "source": [
    "raw_data.loc[np.logical_not(raw_data['name_number'].isna()), 'name'] = ( # удаление номера из названия, если он есть\n",
    "    raw_data['name'].str.slice(start=5)\n",
    ")    "
   ]
  },
  {
   "cell_type": "markdown",
   "id": "f3f3865a",
   "metadata": {},
   "source": [
    "Посмотрим популярные названия снова."
   ]
  },
  {
   "cell_type": "code",
   "execution_count": 26,
   "id": "92721ea9",
   "metadata": {
    "scrolled": true
   },
   "outputs": [
    {
     "data": {
      "text/plain": [
       "ТОВАР                     2053483\n",
       "Товар                      347566\n",
       "                           341000\n",
       "ПРОДУКТЫ                   237255\n",
       "ХЛЕБО-БУЛОЧНЫЕ ИЗДЕЛИЯ     147772\n",
       "ТОВАР НА СУММУ             117671\n",
       "товар                      116917\n",
       "ПРОДУКТЫ ПИТАНИЯ            99504\n",
       "ХЛЕБОБУЛОЧНЫЕ ИЗДЕЛИЯ       83692\n",
       "ХЛЕБ                        82669\n",
       "Name: name, dtype: int64"
      ]
     },
     "execution_count": 26,
     "metadata": {},
     "output_type": "execute_result"
    }
   ],
   "source": [
    "raw_data['name'].value_counts().head(10)  # вывод 10 самых популярных названий товаров"
   ]
  },
  {
   "cell_type": "markdown",
   "id": "1b0b8eb4",
   "metadata": {},
   "source": [
    "Номер удален из строк."
   ]
  },
  {
   "cell_type": "markdown",
   "id": "4275eafd",
   "metadata": {},
   "source": [
    "Мы видим, что среди популярных есть названия, содержащие самую общую информацию - например 'Товар'. Составим список таких названий, для последующего применения в подробном анализ названий."
   ]
  },
  {
   "cell_type": "code",
   "execution_count": 27,
   "id": "71c6faf1",
   "metadata": {},
   "outputs": [],
   "source": [
    "no_use_list =  ['ТОВАР', # список 'бесполезных' наименований\n",
    "                'Товар',\n",
    "                '',\n",
    "                'товар',\n",
    "                'ТОВАР НА СУММУ',\n",
    "                'ТОВАР В АССОРТИМЕНТЕ',\n",
    "                'продажа по свободной цене',\n",
    "                'Продажа по свободной цене',\n",
    "                'ТОВАР И БЕЗНАЛ',\n",
    "                'УСЛУГИ',\n",
    "                'ПРОДАЖА',\n",
    "                'УСЛУГА',\n",
    "                'ТОВАРЫ',\n",
    "                '1',\n",
    "                '.',\n",
    "                'приxод',\n",
    "                'ТОВАР ПО СВОБОДНОЙ ЦЕНЕ',\n",
    "                'ПЛАТНЫЕ УСЛУГИ',\n",
    "                'ОТДЕЛ',\n",
    "                'ГРУППА ТОВАРОВ',\n",
    "                'ТОВАРЫ ИП',\n",
    "                'РОЗНИЧНАЯ ПРОДАЖА',\n",
    "                'Приход',\n",
    "                'ПРЕДОСТАВЛЕНИЕ УСЛУГ',\n",
    "                'ОПЛАТА ЗА ТОВАР',\n",
    "                'ПРОЧЕЕ'\n",
    "]"
   ]
  },
  {
   "cell_type": "markdown",
   "id": "643c5e3f",
   "metadata": {},
   "source": [
    "#### Устранение аномалий"
   ]
  },
  {
   "cell_type": "markdown",
   "id": "37837407",
   "metadata": {},
   "source": [
    "Посмотрим статистические характеристики числовых столбцов."
   ]
  },
  {
   "cell_type": "code",
   "execution_count": 28,
   "id": "6ad233db",
   "metadata": {},
   "outputs": [
    {
     "data": {
      "text/html": [
       "<div>\n",
       "<style scoped>\n",
       "    .dataframe tbody tr th:only-of-type {\n",
       "        vertical-align: middle;\n",
       "    }\n",
       "\n",
       "    .dataframe tbody tr th {\n",
       "        vertical-align: top;\n",
       "    }\n",
       "\n",
       "    .dataframe thead th {\n",
       "        text-align: right;\n",
       "    }\n",
       "</style>\n",
       "<table border=\"1\" class=\"dataframe\">\n",
       "  <thead>\n",
       "    <tr style=\"text-align: right;\">\n",
       "      <th></th>\n",
       "      <th>amount</th>\n",
       "      <th>price</th>\n",
       "      <th>cost</th>\n",
       "      <th>nal</th>\n",
       "      <th>electron</th>\n",
       "      <th>avans</th>\n",
       "      <th>credit</th>\n",
       "      <th>vstrechpredst</th>\n",
       "    </tr>\n",
       "  </thead>\n",
       "  <tbody>\n",
       "    <tr>\n",
       "      <th>count</th>\n",
       "      <td>9877258.00</td>\n",
       "      <td>9869072.00</td>\n",
       "      <td>9868980.00</td>\n",
       "      <td>7558250.00</td>\n",
       "      <td>2311286.00</td>\n",
       "      <td>7141.00</td>\n",
       "      <td>3781.00</td>\n",
       "      <td>2472.00</td>\n",
       "    </tr>\n",
       "    <tr>\n",
       "      <th>mean</th>\n",
       "      <td>3.01</td>\n",
       "      <td>1449.06</td>\n",
       "      <td>85064632431714299822706696669744480674381824.00</td>\n",
       "      <td>1711.20</td>\n",
       "      <td>2754.82</td>\n",
       "      <td>6074.93</td>\n",
       "      <td>12198.47</td>\n",
       "      <td>6782.39</td>\n",
       "    </tr>\n",
       "    <tr>\n",
       "      <th>std</th>\n",
       "      <td>109.27</td>\n",
       "      <td>52313.68</td>\n",
       "      <td>2299636976403077853190844998390536999902180802...</td>\n",
       "      <td>40438.80</td>\n",
       "      <td>84630.07</td>\n",
       "      <td>167154.93</td>\n",
       "      <td>101441.54</td>\n",
       "      <td>95093.95</td>\n",
       "    </tr>\n",
       "    <tr>\n",
       "      <th>min</th>\n",
       "      <td>0.00</td>\n",
       "      <td>0.01</td>\n",
       "      <td>0.01</td>\n",
       "      <td>0.01</td>\n",
       "      <td>0.01</td>\n",
       "      <td>1.00</td>\n",
       "      <td>0.02</td>\n",
       "      <td>0.04</td>\n",
       "    </tr>\n",
       "    <tr>\n",
       "      <th>25%</th>\n",
       "      <td>1.00</td>\n",
       "      <td>50.00</td>\n",
       "      <td>55.00</td>\n",
       "      <td>70.00</td>\n",
       "      <td>142.00</td>\n",
       "      <td>400.00</td>\n",
       "      <td>102.00</td>\n",
       "      <td>250.00</td>\n",
       "    </tr>\n",
       "    <tr>\n",
       "      <th>50%</th>\n",
       "      <td>1.00</td>\n",
       "      <td>130.00</td>\n",
       "      <td>138.00</td>\n",
       "      <td>167.30</td>\n",
       "      <td>327.00</td>\n",
       "      <td>885.00</td>\n",
       "      <td>250.00</td>\n",
       "      <td>1550.00</td>\n",
       "    </tr>\n",
       "    <tr>\n",
       "      <th>75%</th>\n",
       "      <td>1.00</td>\n",
       "      <td>383.00</td>\n",
       "      <td>390.00</td>\n",
       "      <td>460.00</td>\n",
       "      <td>858.00</td>\n",
       "      <td>2000.00</td>\n",
       "      <td>11998.00</td>\n",
       "      <td>2619.00</td>\n",
       "    </tr>\n",
       "    <tr>\n",
       "      <th>max</th>\n",
       "      <td>77688.00</td>\n",
       "      <td>39224660.00</td>\n",
       "      <td>7108890116412561095467225136774255904071163827...</td>\n",
       "      <td>38272008.00</td>\n",
       "      <td>39224660.00</td>\n",
       "      <td>12034000.00</td>\n",
       "      <td>6100000.00</td>\n",
       "      <td>4365420.00</td>\n",
       "    </tr>\n",
       "  </tbody>\n",
       "</table>\n",
       "</div>"
      ],
      "text/plain": [
       "           amount        price  \\\n",
       "count  9877258.00   9869072.00   \n",
       "mean         3.01      1449.06   \n",
       "std        109.27     52313.68   \n",
       "min          0.00         0.01   \n",
       "25%          1.00        50.00   \n",
       "50%          1.00       130.00   \n",
       "75%          1.00       383.00   \n",
       "max      77688.00  39224660.00   \n",
       "\n",
       "                                                    cost          nal  \\\n",
       "count                                         9868980.00   7558250.00   \n",
       "mean     85064632431714299822706696669744480674381824.00      1711.20   \n",
       "std    2299636976403077853190844998390536999902180802...     40438.80   \n",
       "min                                                 0.01         0.01   \n",
       "25%                                                55.00        70.00   \n",
       "50%                                               138.00       167.30   \n",
       "75%                                               390.00       460.00   \n",
       "max    7108890116412561095467225136774255904071163827...  38272008.00   \n",
       "\n",
       "          electron        avans      credit vstrechpredst  \n",
       "count   2311286.00      7141.00     3781.00       2472.00  \n",
       "mean       2754.82      6074.93    12198.47       6782.39  \n",
       "std       84630.07    167154.93   101441.54      95093.95  \n",
       "min           0.01         1.00        0.02          0.04  \n",
       "25%         142.00       400.00      102.00        250.00  \n",
       "50%         327.00       885.00      250.00       1550.00  \n",
       "75%         858.00      2000.00    11998.00       2619.00  \n",
       "max    39224660.00  12034000.00  6100000.00    4365420.00  "
      ]
     },
     "execution_count": 28,
     "metadata": {},
     "output_type": "execute_result"
    }
   ],
   "source": [
    "raw_data[num_list].mask(raw_data == 0).describe().apply(lambda s: s.apply('{0:.2f}'.format)) # вывод статистики"
   ]
  },
  {
   "cell_type": "markdown",
   "id": "0bc9656d",
   "metadata": {},
   "source": [
    "В столбце 'cost' явно аномальные значения. Попробуем локализовать их."
   ]
  },
  {
   "cell_type": "code",
   "execution_count": 29,
   "id": "8e2ff8aa",
   "metadata": {},
   "outputs": [
    {
     "data": {
      "text/plain": [
       "5115751    7.108890e+50\n",
       "5115831    1.286121e+50\n",
       "Name: cost, dtype: float64"
      ]
     },
     "execution_count": 29,
     "metadata": {},
     "output_type": "execute_result"
    }
   ],
   "source": [
    "raw_data['cost'][raw_data['cost'] > 1e9] # вывод \"больших\" значений в столбце 'cost'"
   ]
  },
  {
   "cell_type": "markdown",
   "id": "41a41adb",
   "metadata": {},
   "source": [
    "Таких выбросов всего два. Удалим их."
   ]
  },
  {
   "cell_type": "code",
   "execution_count": 30,
   "id": "b4be0580",
   "metadata": {},
   "outputs": [],
   "source": [
    "raw_data = raw_data[raw_data['cost'] < 1e9] #удаление аномальных значений"
   ]
  },
  {
   "cell_type": "markdown",
   "id": "97d12e51",
   "metadata": {},
   "source": [
    "Содержимое столбца 'ammount' следует исследовать только в связке с единицами измерения - 'unit'. Посмотрим какие единицы наиболее часты."
   ]
  },
  {
   "cell_type": "code",
   "execution_count": 31,
   "id": "f02d0ca0",
   "metadata": {
    "scrolled": true
   },
   "outputs": [
    {
     "data": {
      "text/plain": [
       "--           7873413\n",
       "штука         891805\n",
       "шт            347953\n",
       "килограмм     289819\n",
       "кг            257007\n",
       "шт.            41539\n",
       "литр           41500\n",
       "\"              36433\n",
       "Шт             17317\n",
       "порц.          13702\n",
       "штук           11999\n",
       "метр            8315\n",
       "л               6921\n",
       "м2              3729\n",
       "упак            3334\n",
       "Name: unit, dtype: int64"
      ]
     },
     "execution_count": 31,
     "metadata": {},
     "output_type": "execute_result"
    }
   ],
   "source": [
    "raw_data['unit'].value_counts().head(15) # вывод 15 самых популярных значений"
   ]
  },
  {
   "cell_type": "markdown",
   "id": "586f072e",
   "metadata": {},
   "source": [
    "Самая распространенная единица - штука, она и порции, упаковки и т.п. должны измеряться целыми числами, что и видно из статистики столбца 'ammount'. Посмотрим, какими единицами измеряются товары с не целым количеством. "
   ]
  },
  {
   "cell_type": "code",
   "execution_count": 32,
   "id": "73fd7ee2",
   "metadata": {
    "scrolled": true
   },
   "outputs": [
    {
     "data": {
      "text/plain": [
       "кг           251177\n",
       "--            52346\n",
       "литр          21379\n",
       "килограмм     14610\n",
       "шт             7487\n",
       "штука          6729\n",
       "л               961\n",
       "Литр            916\n",
       "порц.           869\n",
       "метр            664\n",
       "Name: unit, dtype: int64"
      ]
     },
     "execution_count": 32,
     "metadata": {},
     "output_type": "execute_result"
    }
   ],
   "source": [
    "raw_data[np.modf(raw_data['amount'])[0] > 0]['unit'].value_counts().head(10) # вывод 10 самых популярных значений"
   ]
  },
  {
   "cell_type": "markdown",
   "id": "ea0be5b6",
   "metadata": {},
   "source": [
    "Все верно, дробные значения измеряются метрическими единицами, хотя есть немного не целых штук и порций. Посмотрим пример."
   ]
  },
  {
   "cell_type": "code",
   "execution_count": 33,
   "id": "85993bd3",
   "metadata": {},
   "outputs": [
    {
     "data": {
      "text/html": [
       "<div>\n",
       "<style scoped>\n",
       "    .dataframe tbody tr th:only-of-type {\n",
       "        vertical-align: middle;\n",
       "    }\n",
       "\n",
       "    .dataframe tbody tr th {\n",
       "        vertical-align: top;\n",
       "    }\n",
       "\n",
       "    .dataframe thead th {\n",
       "        text-align: right;\n",
       "    }\n",
       "</style>\n",
       "<table border=\"1\" class=\"dataframe\">\n",
       "  <thead>\n",
       "    <tr style=\"text-align: right;\">\n",
       "      <th></th>\n",
       "      <th>receiptid</th>\n",
       "      <th>kkt_sn</th>\n",
       "      <th>d_date</th>\n",
       "      <th>name</th>\n",
       "      <th>amount</th>\n",
       "      <th>unit</th>\n",
       "      <th>price</th>\n",
       "      <th>cost</th>\n",
       "      <th>nal</th>\n",
       "      <th>electron</th>\n",
       "      <th>...</th>\n",
       "      <th>vstrechpredst</th>\n",
       "      <th>region_type</th>\n",
       "      <th>region</th>\n",
       "      <th>city_type</th>\n",
       "      <th>city</th>\n",
       "      <th>street_type</th>\n",
       "      <th>street</th>\n",
       "      <th>house_type</th>\n",
       "      <th>house</th>\n",
       "      <th>name_number</th>\n",
       "    </tr>\n",
       "  </thead>\n",
       "  <tbody>\n",
       "    <tr>\n",
       "      <th>4730017</th>\n",
       "      <td>78854712</td>\n",
       "      <td>108406780937</td>\n",
       "      <td>2018-07-17</td>\n",
       "      <td>Товар</td>\n",
       "      <td>1.528</td>\n",
       "      <td>шт</td>\n",
       "      <td>92.0</td>\n",
       "      <td>140.58</td>\n",
       "      <td>0.00</td>\n",
       "      <td>176.53</td>\n",
       "      <td>...</td>\n",
       "      <td>0.0</td>\n",
       "      <td>0</td>\n",
       "      <td>0</td>\n",
       "      <td>0</td>\n",
       "      <td>0</td>\n",
       "      <td>0</td>\n",
       "      <td>0</td>\n",
       "      <td>0</td>\n",
       "      <td>0</td>\n",
       "      <td>1.0</td>\n",
       "    </tr>\n",
       "    <tr>\n",
       "      <th>6730674</th>\n",
       "      <td>80855590</td>\n",
       "      <td>108407543130</td>\n",
       "      <td>2018-07-30</td>\n",
       "      <td>Сыр \"Белорусское золото\" 50% Копыль Белорусь</td>\n",
       "      <td>0.310</td>\n",
       "      <td>шт</td>\n",
       "      <td>539.0</td>\n",
       "      <td>167.09</td>\n",
       "      <td>167.09</td>\n",
       "      <td>0.00</td>\n",
       "      <td>...</td>\n",
       "      <td>0.0</td>\n",
       "      <td>край</td>\n",
       "      <td>Хабаровский</td>\n",
       "      <td>г</td>\n",
       "      <td>Хабаровск</td>\n",
       "      <td>ул</td>\n",
       "      <td>Ворошилова</td>\n",
       "      <td>дом</td>\n",
       "      <td>\"=\"\"28\"\"\"</td>\n",
       "      <td>157.0</td>\n",
       "    </tr>\n",
       "    <tr>\n",
       "      <th>4402280</th>\n",
       "      <td>81502120</td>\n",
       "      <td>108407600628</td>\n",
       "      <td>2018-08-01</td>\n",
       "      <td>СЫР \"БЕЛОРУССКОЕ ЗОЛОТО\" 50% КОПЫЛЬ БЕЛОРУСЬ</td>\n",
       "      <td>0.321</td>\n",
       "      <td>шт</td>\n",
       "      <td>539.0</td>\n",
       "      <td>173.02</td>\n",
       "      <td>0.00</td>\n",
       "      <td>507.82</td>\n",
       "      <td>...</td>\n",
       "      <td>0.0</td>\n",
       "      <td>край</td>\n",
       "      <td>Хабаровский</td>\n",
       "      <td>г</td>\n",
       "      <td>Хабаровск</td>\n",
       "      <td>ул</td>\n",
       "      <td>Тихоокеанская</td>\n",
       "      <td>дом</td>\n",
       "      <td>\"=\"\"201В\"\"\"</td>\n",
       "      <td>157.0</td>\n",
       "    </tr>\n",
       "    <tr>\n",
       "      <th>4729524</th>\n",
       "      <td>78854645</td>\n",
       "      <td>108406780937</td>\n",
       "      <td>2018-07-15</td>\n",
       "      <td>Товар</td>\n",
       "      <td>0.138</td>\n",
       "      <td>шт</td>\n",
       "      <td>1140.0</td>\n",
       "      <td>157.32</td>\n",
       "      <td>0.00</td>\n",
       "      <td>469.30</td>\n",
       "      <td>...</td>\n",
       "      <td>0.0</td>\n",
       "      <td>0</td>\n",
       "      <td>0</td>\n",
       "      <td>0</td>\n",
       "      <td>0</td>\n",
       "      <td>0</td>\n",
       "      <td>0</td>\n",
       "      <td>0</td>\n",
       "      <td>0</td>\n",
       "      <td>1.0</td>\n",
       "    </tr>\n",
       "    <tr>\n",
       "      <th>1046989</th>\n",
       "      <td>64195148</td>\n",
       "      <td>108209187210</td>\n",
       "      <td>2018-06-14</td>\n",
       "      <td>Сметанник 500мл</td>\n",
       "      <td>0.254</td>\n",
       "      <td>шт</td>\n",
       "      <td>7.0</td>\n",
       "      <td>1.78</td>\n",
       "      <td>28.64</td>\n",
       "      <td>0.00</td>\n",
       "      <td>...</td>\n",
       "      <td>0.0</td>\n",
       "      <td>г</td>\n",
       "      <td>Санкт-Петербург</td>\n",
       "      <td>0</td>\n",
       "      <td>0</td>\n",
       "      <td>ул</td>\n",
       "      <td>Дыбенко</td>\n",
       "      <td>дом</td>\n",
       "      <td>\"=\"\"16\"\"\"</td>\n",
       "      <td>510.0</td>\n",
       "    </tr>\n",
       "  </tbody>\n",
       "</table>\n",
       "<p>5 rows × 22 columns</p>\n",
       "</div>"
      ],
      "text/plain": [
       "         receiptid        kkt_sn      d_date  \\\n",
       "4730017   78854712  108406780937  2018-07-17   \n",
       "6730674   80855590  108407543130  2018-07-30   \n",
       "4402280   81502120  108407600628  2018-08-01   \n",
       "4729524   78854645  108406780937  2018-07-15   \n",
       "1046989   64195148  108209187210  2018-06-14   \n",
       "\n",
       "                                                 name  amount unit   price  \\\n",
       "4730017                                         Товар   1.528   шт    92.0   \n",
       "6730674  Сыр \"Белорусское золото\" 50% Копыль Белорусь   0.310   шт   539.0   \n",
       "4402280  СЫР \"БЕЛОРУССКОЕ ЗОЛОТО\" 50% КОПЫЛЬ БЕЛОРУСЬ   0.321   шт   539.0   \n",
       "4729524                                         Товар   0.138   шт  1140.0   \n",
       "1046989                               Сметанник 500мл   0.254   шт     7.0   \n",
       "\n",
       "           cost     nal  electron  ...  vstrechpredst  region_type  \\\n",
       "4730017  140.58    0.00    176.53  ...            0.0            0   \n",
       "6730674  167.09  167.09      0.00  ...            0.0         край   \n",
       "4402280  173.02    0.00    507.82  ...            0.0         край   \n",
       "4729524  157.32    0.00    469.30  ...            0.0            0   \n",
       "1046989    1.78   28.64      0.00  ...            0.0            г   \n",
       "\n",
       "                  region city_type       city street_type         street  \\\n",
       "4730017                0         0          0           0              0   \n",
       "6730674      Хабаровский         г  Хабаровск          ул     Ворошилова   \n",
       "4402280      Хабаровский         г  Хабаровск          ул  Тихоокеанская   \n",
       "4729524                0         0          0           0              0   \n",
       "1046989  Санкт-Петербург         0          0          ул        Дыбенко   \n",
       "\n",
       "        house_type        house name_number  \n",
       "4730017          0            0         1.0  \n",
       "6730674        дом    \"=\"\"28\"\"\"       157.0  \n",
       "4402280        дом  \"=\"\"201В\"\"\"       157.0  \n",
       "4729524          0            0         1.0  \n",
       "1046989        дом    \"=\"\"16\"\"\"       510.0  \n",
       "\n",
       "[5 rows x 22 columns]"
      ]
     },
     "execution_count": 33,
     "metadata": {},
     "output_type": "execute_result"
    }
   ],
   "source": [
    "raw_data[np.logical_and((np.modf(raw_data['amount'])[0] > 0),(raw_data['unit']=='шт'))].sample(5) # вывод образца данных"
   ]
  },
  {
   "cell_type": "markdown",
   "id": "3edc2e7b",
   "metadata": {},
   "source": [
    "Очевидно, единица 'штука' часто используется по ошибке. В целом, значения столбца 'amount' выглядят правдоподобными, оставим их на этом этапе без изменения."
   ]
  },
  {
   "cell_type": "markdown",
   "id": "5692a5db",
   "metadata": {},
   "source": [
    "Пересчитаем статистические данные."
   ]
  },
  {
   "cell_type": "code",
   "execution_count": 34,
   "id": "5036b3aa",
   "metadata": {},
   "outputs": [
    {
     "data": {
      "text/html": [
       "<div>\n",
       "<style scoped>\n",
       "    .dataframe tbody tr th:only-of-type {\n",
       "        vertical-align: middle;\n",
       "    }\n",
       "\n",
       "    .dataframe tbody tr th {\n",
       "        vertical-align: top;\n",
       "    }\n",
       "\n",
       "    .dataframe thead th {\n",
       "        text-align: right;\n",
       "    }\n",
       "</style>\n",
       "<table border=\"1\" class=\"dataframe\">\n",
       "  <thead>\n",
       "    <tr style=\"text-align: right;\">\n",
       "      <th></th>\n",
       "      <th>amount</th>\n",
       "      <th>price</th>\n",
       "      <th>cost</th>\n",
       "      <th>nal</th>\n",
       "      <th>electron</th>\n",
       "      <th>avans</th>\n",
       "      <th>credit</th>\n",
       "      <th>vstrechpredst</th>\n",
       "    </tr>\n",
       "  </thead>\n",
       "  <tbody>\n",
       "    <tr>\n",
       "      <th>count</th>\n",
       "      <td>9877256.00</td>\n",
       "      <td>9869070.00</td>\n",
       "      <td>9868978.00</td>\n",
       "      <td>7558248.00</td>\n",
       "      <td>2311286.00</td>\n",
       "      <td>7141.00</td>\n",
       "      <td>3781.00</td>\n",
       "      <td>2472.00</td>\n",
       "    </tr>\n",
       "    <tr>\n",
       "      <th>mean</th>\n",
       "      <td>3.01</td>\n",
       "      <td>1449.06</td>\n",
       "      <td>1492.78</td>\n",
       "      <td>1711.20</td>\n",
       "      <td>2754.82</td>\n",
       "      <td>6074.93</td>\n",
       "      <td>12198.47</td>\n",
       "      <td>6782.39</td>\n",
       "    </tr>\n",
       "    <tr>\n",
       "      <th>std</th>\n",
       "      <td>109.27</td>\n",
       "      <td>52313.68</td>\n",
       "      <td>52383.83</td>\n",
       "      <td>40438.81</td>\n",
       "      <td>84630.07</td>\n",
       "      <td>167154.93</td>\n",
       "      <td>101441.54</td>\n",
       "      <td>95093.95</td>\n",
       "    </tr>\n",
       "    <tr>\n",
       "      <th>min</th>\n",
       "      <td>0.00</td>\n",
       "      <td>0.01</td>\n",
       "      <td>0.01</td>\n",
       "      <td>0.01</td>\n",
       "      <td>0.01</td>\n",
       "      <td>1.00</td>\n",
       "      <td>0.02</td>\n",
       "      <td>0.04</td>\n",
       "    </tr>\n",
       "    <tr>\n",
       "      <th>25%</th>\n",
       "      <td>1.00</td>\n",
       "      <td>50.00</td>\n",
       "      <td>55.00</td>\n",
       "      <td>70.00</td>\n",
       "      <td>142.00</td>\n",
       "      <td>400.00</td>\n",
       "      <td>102.00</td>\n",
       "      <td>250.00</td>\n",
       "    </tr>\n",
       "    <tr>\n",
       "      <th>50%</th>\n",
       "      <td>1.00</td>\n",
       "      <td>130.00</td>\n",
       "      <td>138.00</td>\n",
       "      <td>167.30</td>\n",
       "      <td>327.00</td>\n",
       "      <td>885.00</td>\n",
       "      <td>250.00</td>\n",
       "      <td>1550.00</td>\n",
       "    </tr>\n",
       "    <tr>\n",
       "      <th>75%</th>\n",
       "      <td>1.00</td>\n",
       "      <td>383.00</td>\n",
       "      <td>390.00</td>\n",
       "      <td>460.00</td>\n",
       "      <td>858.00</td>\n",
       "      <td>2000.00</td>\n",
       "      <td>11998.00</td>\n",
       "      <td>2619.00</td>\n",
       "    </tr>\n",
       "    <tr>\n",
       "      <th>max</th>\n",
       "      <td>77688.00</td>\n",
       "      <td>39224660.00</td>\n",
       "      <td>39224660.00</td>\n",
       "      <td>38272008.00</td>\n",
       "      <td>39224660.00</td>\n",
       "      <td>12034000.00</td>\n",
       "      <td>6100000.00</td>\n",
       "      <td>4365420.00</td>\n",
       "    </tr>\n",
       "  </tbody>\n",
       "</table>\n",
       "</div>"
      ],
      "text/plain": [
       "           amount        price         cost          nal     electron  \\\n",
       "count  9877256.00   9869070.00   9868978.00   7558248.00   2311286.00   \n",
       "mean         3.01      1449.06      1492.78      1711.20      2754.82   \n",
       "std        109.27     52313.68     52383.83     40438.81     84630.07   \n",
       "min          0.00         0.01         0.01         0.01         0.01   \n",
       "25%          1.00        50.00        55.00        70.00       142.00   \n",
       "50%          1.00       130.00       138.00       167.30       327.00   \n",
       "75%          1.00       383.00       390.00       460.00       858.00   \n",
       "max      77688.00  39224660.00  39224660.00  38272008.00  39224660.00   \n",
       "\n",
       "             avans      credit vstrechpredst  \n",
       "count      7141.00     3781.00       2472.00  \n",
       "mean       6074.93    12198.47       6782.39  \n",
       "std      167154.93   101441.54      95093.95  \n",
       "min           1.00        0.02          0.04  \n",
       "25%         400.00      102.00        250.00  \n",
       "50%         885.00      250.00       1550.00  \n",
       "75%        2000.00    11998.00       2619.00  \n",
       "max    12034000.00  6100000.00    4365420.00  "
      ]
     },
     "execution_count": 34,
     "metadata": {},
     "output_type": "execute_result"
    }
   ],
   "source": [
    "raw_data[num_list].mask(raw_data == 0).describe().apply(lambda s: s.apply('{0:.2f}'.format)) # вывод статистики"
   ]
  },
  {
   "cell_type": "markdown",
   "id": "6fc38e3e",
   "metadata": {},
   "source": [
    "Характеристики выглядят правдоподобно. В завершение посмотрим самые большие чеки по видам расчета."
   ]
  },
  {
   "cell_type": "code",
   "execution_count": 35,
   "id": "89eff20f",
   "metadata": {},
   "outputs": [
    {
     "name": "stdout",
     "output_type": "stream",
     "text": [
      "\n",
      " Самый большой чек с видом расчета nal\n"
     ]
    },
    {
     "data": {
      "text/html": [
       "<div>\n",
       "<style scoped>\n",
       "    .dataframe tbody tr th:only-of-type {\n",
       "        vertical-align: middle;\n",
       "    }\n",
       "\n",
       "    .dataframe tbody tr th {\n",
       "        vertical-align: top;\n",
       "    }\n",
       "\n",
       "    .dataframe thead th {\n",
       "        text-align: right;\n",
       "    }\n",
       "</style>\n",
       "<table border=\"1\" class=\"dataframe\">\n",
       "  <thead>\n",
       "    <tr style=\"text-align: right;\">\n",
       "      <th></th>\n",
       "      <th>receiptid</th>\n",
       "      <th>kkt_sn</th>\n",
       "      <th>d_date</th>\n",
       "      <th>name</th>\n",
       "      <th>amount</th>\n",
       "      <th>unit</th>\n",
       "      <th>price</th>\n",
       "      <th>cost</th>\n",
       "      <th>nal</th>\n",
       "      <th>electron</th>\n",
       "      <th>...</th>\n",
       "      <th>vstrechpredst</th>\n",
       "      <th>region_type</th>\n",
       "      <th>region</th>\n",
       "      <th>city_type</th>\n",
       "      <th>city</th>\n",
       "      <th>street_type</th>\n",
       "      <th>street</th>\n",
       "      <th>house_type</th>\n",
       "      <th>house</th>\n",
       "      <th>name_number</th>\n",
       "    </tr>\n",
       "  </thead>\n",
       "  <tbody>\n",
       "    <tr>\n",
       "      <th>9544554</th>\n",
       "      <td>65694394</td>\n",
       "      <td>108402942663</td>\n",
       "      <td>2018-06-19</td>\n",
       "      <td>товар</td>\n",
       "      <td>1.0</td>\n",
       "      <td>--</td>\n",
       "      <td>38272008.0</td>\n",
       "      <td>38272008.0</td>\n",
       "      <td>38272008.0</td>\n",
       "      <td>0.0</td>\n",
       "      <td>...</td>\n",
       "      <td>0.0</td>\n",
       "      <td>обл</td>\n",
       "      <td>Тамбовская</td>\n",
       "      <td>г</td>\n",
       "      <td>Тамбов</td>\n",
       "      <td>ул</td>\n",
       "      <td>Авиационная</td>\n",
       "      <td>дом</td>\n",
       "      <td>\"=\"\"150\"\"\"</td>\n",
       "      <td>1.0</td>\n",
       "    </tr>\n",
       "    <tr>\n",
       "      <th>9544557</th>\n",
       "      <td>65721947</td>\n",
       "      <td>108402942663</td>\n",
       "      <td>2018-06-19</td>\n",
       "      <td>товар</td>\n",
       "      <td>1.0</td>\n",
       "      <td>--</td>\n",
       "      <td>38272008.0</td>\n",
       "      <td>38272008.0</td>\n",
       "      <td>38272008.0</td>\n",
       "      <td>0.0</td>\n",
       "      <td>...</td>\n",
       "      <td>0.0</td>\n",
       "      <td>обл</td>\n",
       "      <td>Тамбовская</td>\n",
       "      <td>г</td>\n",
       "      <td>Тамбов</td>\n",
       "      <td>ул</td>\n",
       "      <td>Авиационная</td>\n",
       "      <td>дом</td>\n",
       "      <td>\"=\"\"150\"\"\"</td>\n",
       "      <td>1.0</td>\n",
       "    </tr>\n",
       "  </tbody>\n",
       "</table>\n",
       "<p>2 rows × 22 columns</p>\n",
       "</div>"
      ],
      "text/plain": [
       "         receiptid        kkt_sn      d_date   name  amount unit       price  \\\n",
       "9544554   65694394  108402942663  2018-06-19  товар     1.0   --  38272008.0   \n",
       "9544557   65721947  108402942663  2018-06-19  товар     1.0   --  38272008.0   \n",
       "\n",
       "               cost         nal  electron  ...  vstrechpredst  region_type  \\\n",
       "9544554  38272008.0  38272008.0       0.0  ...            0.0          обл   \n",
       "9544557  38272008.0  38272008.0       0.0  ...            0.0          обл   \n",
       "\n",
       "             region city_type    city street_type       street house_type  \\\n",
       "9544554  Тамбовская         г  Тамбов          ул  Авиационная        дом   \n",
       "9544557  Тамбовская         г  Тамбов          ул  Авиационная        дом   \n",
       "\n",
       "              house name_number  \n",
       "9544554  \"=\"\"150\"\"\"         1.0  \n",
       "9544557  \"=\"\"150\"\"\"         1.0  \n",
       "\n",
       "[2 rows x 22 columns]"
      ]
     },
     "metadata": {},
     "output_type": "display_data"
    },
    {
     "name": "stdout",
     "output_type": "stream",
     "text": [
      "\n",
      " Самый большой чек с видом расчета electron\n"
     ]
    },
    {
     "data": {
      "text/html": [
       "<div>\n",
       "<style scoped>\n",
       "    .dataframe tbody tr th:only-of-type {\n",
       "        vertical-align: middle;\n",
       "    }\n",
       "\n",
       "    .dataframe tbody tr th {\n",
       "        vertical-align: top;\n",
       "    }\n",
       "\n",
       "    .dataframe thead th {\n",
       "        text-align: right;\n",
       "    }\n",
       "</style>\n",
       "<table border=\"1\" class=\"dataframe\">\n",
       "  <thead>\n",
       "    <tr style=\"text-align: right;\">\n",
       "      <th></th>\n",
       "      <th>receiptid</th>\n",
       "      <th>kkt_sn</th>\n",
       "      <th>d_date</th>\n",
       "      <th>name</th>\n",
       "      <th>amount</th>\n",
       "      <th>unit</th>\n",
       "      <th>price</th>\n",
       "      <th>cost</th>\n",
       "      <th>nal</th>\n",
       "      <th>electron</th>\n",
       "      <th>...</th>\n",
       "      <th>vstrechpredst</th>\n",
       "      <th>region_type</th>\n",
       "      <th>region</th>\n",
       "      <th>city_type</th>\n",
       "      <th>city</th>\n",
       "      <th>street_type</th>\n",
       "      <th>street</th>\n",
       "      <th>house_type</th>\n",
       "      <th>house</th>\n",
       "      <th>name_number</th>\n",
       "    </tr>\n",
       "  </thead>\n",
       "  <tbody>\n",
       "    <tr>\n",
       "      <th>2421711</th>\n",
       "      <td>79023091</td>\n",
       "      <td>108209328322</td>\n",
       "      <td>2018-07-24</td>\n",
       "      <td>КВАРТИРА N 210 ПО АДРЕСУ: Г. МОСКВА, ЛЕНИНСКИЙ...</td>\n",
       "      <td>1.0</td>\n",
       "      <td>--</td>\n",
       "      <td>39224660.0</td>\n",
       "      <td>39224660.0</td>\n",
       "      <td>0.0</td>\n",
       "      <td>39224660.0</td>\n",
       "      <td>...</td>\n",
       "      <td>0.0</td>\n",
       "      <td>обл</td>\n",
       "      <td>Московская</td>\n",
       "      <td>0</td>\n",
       "      <td>0</td>\n",
       "      <td>ул</td>\n",
       "      <td>Тихая</td>\n",
       "      <td>дом</td>\n",
       "      <td>\"=\"\"13\"\"\"</td>\n",
       "      <td>36.0</td>\n",
       "    </tr>\n",
       "  </tbody>\n",
       "</table>\n",
       "<p>1 rows × 22 columns</p>\n",
       "</div>"
      ],
      "text/plain": [
       "         receiptid        kkt_sn      d_date  \\\n",
       "2421711   79023091  108209328322  2018-07-24   \n",
       "\n",
       "                                                      name  amount unit  \\\n",
       "2421711  КВАРТИРА N 210 ПО АДРЕСУ: Г. МОСКВА, ЛЕНИНСКИЙ...     1.0   --   \n",
       "\n",
       "              price        cost  nal    electron  ...  vstrechpredst  \\\n",
       "2421711  39224660.0  39224660.0  0.0  39224660.0  ...            0.0   \n",
       "\n",
       "         region_type      region city_type city street_type street house_type  \\\n",
       "2421711          обл  Московская         0    0          ул  Тихая        дом   \n",
       "\n",
       "             house name_number  \n",
       "2421711  \"=\"\"13\"\"\"        36.0  \n",
       "\n",
       "[1 rows x 22 columns]"
      ]
     },
     "metadata": {},
     "output_type": "display_data"
    },
    {
     "name": "stdout",
     "output_type": "stream",
     "text": [
      "\n",
      " Самый большой чек с видом расчета avans\n"
     ]
    },
    {
     "data": {
      "text/html": [
       "<div>\n",
       "<style scoped>\n",
       "    .dataframe tbody tr th:only-of-type {\n",
       "        vertical-align: middle;\n",
       "    }\n",
       "\n",
       "    .dataframe tbody tr th {\n",
       "        vertical-align: top;\n",
       "    }\n",
       "\n",
       "    .dataframe thead th {\n",
       "        text-align: right;\n",
       "    }\n",
       "</style>\n",
       "<table border=\"1\" class=\"dataframe\">\n",
       "  <thead>\n",
       "    <tr style=\"text-align: right;\">\n",
       "      <th></th>\n",
       "      <th>receiptid</th>\n",
       "      <th>kkt_sn</th>\n",
       "      <th>d_date</th>\n",
       "      <th>name</th>\n",
       "      <th>amount</th>\n",
       "      <th>unit</th>\n",
       "      <th>price</th>\n",
       "      <th>cost</th>\n",
       "      <th>nal</th>\n",
       "      <th>electron</th>\n",
       "      <th>...</th>\n",
       "      <th>vstrechpredst</th>\n",
       "      <th>region_type</th>\n",
       "      <th>region</th>\n",
       "      <th>city_type</th>\n",
       "      <th>city</th>\n",
       "      <th>street_type</th>\n",
       "      <th>street</th>\n",
       "      <th>house_type</th>\n",
       "      <th>house</th>\n",
       "      <th>name_number</th>\n",
       "    </tr>\n",
       "  </thead>\n",
       "  <tbody>\n",
       "    <tr>\n",
       "      <th>2421722</th>\n",
       "      <td>76508680</td>\n",
       "      <td>108209328322</td>\n",
       "      <td>2018-07-09</td>\n",
       "      <td>КВАРТИРА N 38 ПО АДРЕСУ: Г. МОСКВА, ЛЕНИНСКИЙ ...</td>\n",
       "      <td>1.0</td>\n",
       "      <td>--</td>\n",
       "      <td>25867425.0</td>\n",
       "      <td>25867425.0</td>\n",
       "      <td>0.0</td>\n",
       "      <td>13833425.0</td>\n",
       "      <td>...</td>\n",
       "      <td>0.0</td>\n",
       "      <td>обл</td>\n",
       "      <td>Московская</td>\n",
       "      <td>0</td>\n",
       "      <td>0</td>\n",
       "      <td>ул</td>\n",
       "      <td>Тихая</td>\n",
       "      <td>дом</td>\n",
       "      <td>\"=\"\"13\"\"\"</td>\n",
       "      <td>33.0</td>\n",
       "    </tr>\n",
       "  </tbody>\n",
       "</table>\n",
       "<p>1 rows × 22 columns</p>\n",
       "</div>"
      ],
      "text/plain": [
       "         receiptid        kkt_sn      d_date  \\\n",
       "2421722   76508680  108209328322  2018-07-09   \n",
       "\n",
       "                                                      name  amount unit  \\\n",
       "2421722  КВАРТИРА N 38 ПО АДРЕСУ: Г. МОСКВА, ЛЕНИНСКИЙ ...     1.0   --   \n",
       "\n",
       "              price        cost  nal    electron  ...  vstrechpredst  \\\n",
       "2421722  25867425.0  25867425.0  0.0  13833425.0  ...            0.0   \n",
       "\n",
       "         region_type      region city_type city street_type street house_type  \\\n",
       "2421722          обл  Московская         0    0          ул  Тихая        дом   \n",
       "\n",
       "             house name_number  \n",
       "2421722  \"=\"\"13\"\"\"        33.0  \n",
       "\n",
       "[1 rows x 22 columns]"
      ]
     },
     "metadata": {},
     "output_type": "display_data"
    },
    {
     "name": "stdout",
     "output_type": "stream",
     "text": [
      "\n",
      " Самый большой чек с видом расчета credit\n"
     ]
    },
    {
     "data": {
      "text/html": [
       "<div>\n",
       "<style scoped>\n",
       "    .dataframe tbody tr th:only-of-type {\n",
       "        vertical-align: middle;\n",
       "    }\n",
       "\n",
       "    .dataframe tbody tr th {\n",
       "        vertical-align: top;\n",
       "    }\n",
       "\n",
       "    .dataframe thead th {\n",
       "        text-align: right;\n",
       "    }\n",
       "</style>\n",
       "<table border=\"1\" class=\"dataframe\">\n",
       "  <thead>\n",
       "    <tr style=\"text-align: right;\">\n",
       "      <th></th>\n",
       "      <th>receiptid</th>\n",
       "      <th>kkt_sn</th>\n",
       "      <th>d_date</th>\n",
       "      <th>name</th>\n",
       "      <th>amount</th>\n",
       "      <th>unit</th>\n",
       "      <th>price</th>\n",
       "      <th>cost</th>\n",
       "      <th>nal</th>\n",
       "      <th>electron</th>\n",
       "      <th>...</th>\n",
       "      <th>vstrechpredst</th>\n",
       "      <th>region_type</th>\n",
       "      <th>region</th>\n",
       "      <th>city_type</th>\n",
       "      <th>city</th>\n",
       "      <th>street_type</th>\n",
       "      <th>street</th>\n",
       "      <th>house_type</th>\n",
       "      <th>house</th>\n",
       "      <th>name_number</th>\n",
       "    </tr>\n",
       "  </thead>\n",
       "  <tbody>\n",
       "    <tr>\n",
       "      <th>8173743</th>\n",
       "      <td>76469359</td>\n",
       "      <td>108206581912</td>\n",
       "      <td>2018-07-18</td>\n",
       "      <td>Земельный участок 47:09:0116001:631</td>\n",
       "      <td>1.0</td>\n",
       "      <td>шт.</td>\n",
       "      <td>6200000.0</td>\n",
       "      <td>6200000.0</td>\n",
       "      <td>0.0</td>\n",
       "      <td>100000.0</td>\n",
       "      <td>...</td>\n",
       "      <td>0.0</td>\n",
       "      <td>обл</td>\n",
       "      <td>Ленинградская</td>\n",
       "      <td>г</td>\n",
       "      <td>Всеволожск</td>\n",
       "      <td>ул</td>\n",
       "      <td>Социалистическая</td>\n",
       "      <td>дом</td>\n",
       "      <td>\"=\"\"94\"\"\"</td>\n",
       "      <td>1.0</td>\n",
       "    </tr>\n",
       "  </tbody>\n",
       "</table>\n",
       "<p>1 rows × 22 columns</p>\n",
       "</div>"
      ],
      "text/plain": [
       "         receiptid        kkt_sn      d_date  \\\n",
       "8173743   76469359  108206581912  2018-07-18   \n",
       "\n",
       "                                        name  amount unit      price  \\\n",
       "8173743  Земельный участок 47:09:0116001:631     1.0  шт.  6200000.0   \n",
       "\n",
       "              cost  nal  electron  ...  vstrechpredst  region_type  \\\n",
       "8173743  6200000.0  0.0  100000.0  ...            0.0          обл   \n",
       "\n",
       "                region city_type        city street_type            street  \\\n",
       "8173743  Ленинградская         г  Всеволожск          ул  Социалистическая   \n",
       "\n",
       "        house_type      house name_number  \n",
       "8173743        дом  \"=\"\"94\"\"\"         1.0  \n",
       "\n",
       "[1 rows x 22 columns]"
      ]
     },
     "metadata": {},
     "output_type": "display_data"
    },
    {
     "name": "stdout",
     "output_type": "stream",
     "text": [
      "\n",
      " Самый большой чек с видом расчета vstrechpredst\n"
     ]
    },
    {
     "data": {
      "text/html": [
       "<div>\n",
       "<style scoped>\n",
       "    .dataframe tbody tr th:only-of-type {\n",
       "        vertical-align: middle;\n",
       "    }\n",
       "\n",
       "    .dataframe tbody tr th {\n",
       "        vertical-align: top;\n",
       "    }\n",
       "\n",
       "    .dataframe thead th {\n",
       "        text-align: right;\n",
       "    }\n",
       "</style>\n",
       "<table border=\"1\" class=\"dataframe\">\n",
       "  <thead>\n",
       "    <tr style=\"text-align: right;\">\n",
       "      <th></th>\n",
       "      <th>receiptid</th>\n",
       "      <th>kkt_sn</th>\n",
       "      <th>d_date</th>\n",
       "      <th>name</th>\n",
       "      <th>amount</th>\n",
       "      <th>unit</th>\n",
       "      <th>price</th>\n",
       "      <th>cost</th>\n",
       "      <th>nal</th>\n",
       "      <th>electron</th>\n",
       "      <th>...</th>\n",
       "      <th>vstrechpredst</th>\n",
       "      <th>region_type</th>\n",
       "      <th>region</th>\n",
       "      <th>city_type</th>\n",
       "      <th>city</th>\n",
       "      <th>street_type</th>\n",
       "      <th>street</th>\n",
       "      <th>house_type</th>\n",
       "      <th>house</th>\n",
       "      <th>name_number</th>\n",
       "    </tr>\n",
       "  </thead>\n",
       "  <tbody>\n",
       "    <tr>\n",
       "      <th>1903356</th>\n",
       "      <td>76633514</td>\n",
       "      <td>108403476521</td>\n",
       "      <td>2018-07-18</td>\n",
       "      <td>Уступка права требования по ДДУ (Пом.11/Д-8 в ...</td>\n",
       "      <td>1.0</td>\n",
       "      <td>килограмм</td>\n",
       "      <td>4365420.0</td>\n",
       "      <td>4365420.0</td>\n",
       "      <td>0.0</td>\n",
       "      <td>0.0</td>\n",
       "      <td>...</td>\n",
       "      <td>4365420.0</td>\n",
       "      <td>г</td>\n",
       "      <td>Санкт-Петербург</td>\n",
       "      <td>0</td>\n",
       "      <td>0</td>\n",
       "      <td>ул</td>\n",
       "      <td>Центральная (Детскосельский)</td>\n",
       "      <td>дом</td>\n",
       "      <td>\"=\"\"17\"\"\"</td>\n",
       "      <td>25.0</td>\n",
       "    </tr>\n",
       "  </tbody>\n",
       "</table>\n",
       "<p>1 rows × 22 columns</p>\n",
       "</div>"
      ],
      "text/plain": [
       "         receiptid        kkt_sn      d_date  \\\n",
       "1903356   76633514  108403476521  2018-07-18   \n",
       "\n",
       "                                                      name  amount       unit  \\\n",
       "1903356  Уступка права требования по ДДУ (Пом.11/Д-8 в ...     1.0  килограмм   \n",
       "\n",
       "             price       cost  nal  electron  ...  vstrechpredst  region_type  \\\n",
       "1903356  4365420.0  4365420.0  0.0       0.0  ...      4365420.0            г   \n",
       "\n",
       "                  region city_type city street_type  \\\n",
       "1903356  Санкт-Петербург         0    0          ул   \n",
       "\n",
       "                               street house_type      house name_number  \n",
       "1903356  Центральная (Детскосельский)        дом  \"=\"\"17\"\"\"        25.0  \n",
       "\n",
       "[1 rows x 22 columns]"
      ]
     },
     "metadata": {},
     "output_type": "display_data"
    }
   ],
   "source": [
    "for col in num_list[3:]: \n",
    "    print('\\n Самый большой чек с видом расчета', col)\n",
    "    display(raw_data[raw_data[col] == raw_data[col].max()])"
   ]
  },
  {
   "cell_type": "markdown",
   "id": "6121b3e5",
   "metadata": {},
   "source": [
    "Большие чеки действительно на дорогие товары и суммы не являются аномалиями."
   ]
  },
  {
   "cell_type": "markdown",
   "id": "b79900c8",
   "metadata": {},
   "source": [
    "#### Анализ регионов"
   ]
  },
  {
   "cell_type": "markdown",
   "id": "f0f2f9fd",
   "metadata": {},
   "source": [
    "Посмотрим количество регионов, представленных в данных."
   ]
  },
  {
   "cell_type": "code",
   "execution_count": 36,
   "id": "acd2925d",
   "metadata": {},
   "outputs": [
    {
     "name": "stdout",
     "output_type": "stream",
     "text": [
      "Всего представлено 86 регионов.\n"
     ]
    },
    {
     "data": {
      "text/plain": [
       "array(['Новосибирская', 'Крым', 'Красноярский', 'Московская', '0',\n",
       "       'Свердловская', 'Челябинская', 'Санкт-Петербург', 'Пензенская',\n",
       "       'Волгоградская', 'Калмыкия', 'Татарстан', 'Москва', 'Астраханская',\n",
       "       'Краснодарский', 'Мордовия', 'Тверская', 'Пермский',\n",
       "       'Оренбургская', 'Ульяновская', 'Приморский', 'Ставропольский',\n",
       "       'Смоленская', 'Курганская', 'Севастополь', 'Коми', 'Нижегородская',\n",
       "       'Ярославская', 'Белгородская', 'Кемеровская', 'Тамбовская',\n",
       "       'Чувашская (Чувашия)', 'Саратовская', 'Ростовская', 'Омская',\n",
       "       'Псковская', 'Владимирская', 'Удмуртская', 'Сахалинская',\n",
       "       'Орловская', 'Хабаровский', 'Воронежская', 'Ленинградская',\n",
       "       'Архангельская', 'Ямало-Ненецкий', 'Саха /Якутия/', 'Самарская',\n",
       "       'Ивановская', 'Башкортостан', 'Вологодская', 'Бурятия', 'Курская',\n",
       "       'Хакасия', 'Алтайский', 'Калининградская', 'Брянская', 'Иркутская',\n",
       "       'Забайкальский', 'Кировская', 'Рязанская', 'Тюменская',\n",
       "       'Калужская', 'Новгородская', 'Тульская',\n",
       "       'Ханты-Мансийский Автономный округ - Югра', 'Костромская',\n",
       "       'Липецкая', 'Амурская', 'Марий Эл', 'Северная Осетия - Алания',\n",
       "       'Тыва', 'Томская', 'Карачаево-Черкесская', 'Дагестан',\n",
       "       'Мурманская', 'Камчатский', 'Кабардино-Балкарская', 'Магаданская',\n",
       "       'Карелия', 'Адыгея', 'Чеченская', 'Байконур', 'Алтай', 'Чукотский',\n",
       "       'Еврейская', 'Ингушетия'], dtype=object)"
      ]
     },
     "execution_count": 36,
     "metadata": {},
     "output_type": "execute_result"
    }
   ],
   "source": [
    "print('Всего представлено {} регионов.'.format(raw_data['region'].nunique())) # вывод числа значений\n",
    "raw_data['region'].dropna().unique() # вывод уникальных значений"
   ]
  },
  {
   "cell_type": "markdown",
   "id": "88005ec6",
   "metadata": {},
   "source": [
    "В названиях регионов встречается \"0\", посмотрим много ли таких значений."
   ]
  },
  {
   "cell_type": "code",
   "execution_count": 37,
   "id": "e0bff587",
   "metadata": {
    "scrolled": true
   },
   "outputs": [
    {
     "data": {
      "text/plain": [
       "263350"
      ]
     },
     "execution_count": 37,
     "metadata": {},
     "output_type": "execute_result"
    }
   ],
   "source": [
    "raw_data['region'][raw_data['region'] == '0'].count()"
   ]
  },
  {
   "cell_type": "markdown",
   "id": "22e9fc45",
   "metadata": {},
   "source": [
    "Значений \"0\" в названиях регионов названиях 263350. Это довольно много, следует установить на какой стадии получения данных происходит такая ошибка. На данном этапе будем игнорировать это значение."
   ]
  },
  {
   "cell_type": "markdown",
   "id": "09036583",
   "metadata": {},
   "source": [
    "Для предварительного анализа категоризируем регионы по федеральным округам. "
   ]
  },
  {
   "cell_type": "markdown",
   "id": "6f4b4d76",
   "metadata": {},
   "source": [
    "Загрузим таблицу соответствий округов и регионов."
   ]
  },
  {
   "cell_type": "code",
   "execution_count": 38,
   "id": "63acd671",
   "metadata": {
    "scrolled": true
   },
   "outputs": [
    {
     "data": {
      "text/html": [
       "<div>\n",
       "<style scoped>\n",
       "    .dataframe tbody tr th:only-of-type {\n",
       "        vertical-align: middle;\n",
       "    }\n",
       "\n",
       "    .dataframe tbody tr th {\n",
       "        vertical-align: top;\n",
       "    }\n",
       "\n",
       "    .dataframe thead th {\n",
       "        text-align: right;\n",
       "    }\n",
       "</style>\n",
       "<table border=\"1\" class=\"dataframe\">\n",
       "  <thead>\n",
       "    <tr style=\"text-align: right;\">\n",
       "      <th></th>\n",
       "      <th>area</th>\n",
       "      <th>region</th>\n",
       "    </tr>\n",
       "  </thead>\n",
       "  <tbody>\n",
       "    <tr>\n",
       "      <th>0</th>\n",
       "      <td>ЦЕНТРАЛЬНЫЙ</td>\n",
       "      <td>[Белгородская, Брянская, Владимирская, Воронеж...</td>\n",
       "    </tr>\n",
       "    <tr>\n",
       "      <th>1</th>\n",
       "      <td>СЕВЕРО-ЗАПАДНЫЙ</td>\n",
       "      <td>[Архангельская, Вологодская, Санкт-Петербург, ...</td>\n",
       "    </tr>\n",
       "    <tr>\n",
       "      <th>2</th>\n",
       "      <td>СИБИРСКИЙ</td>\n",
       "      <td>[Алтайский, Иркутская, Кемеровская, Красноярск...</td>\n",
       "    </tr>\n",
       "    <tr>\n",
       "      <th>3</th>\n",
       "      <td>ПРИВОЛЖСКИЙ</td>\n",
       "      <td>[Кировская, Нижегородская, Оренбургская, Пензе...</td>\n",
       "    </tr>\n",
       "    <tr>\n",
       "      <th>4</th>\n",
       "      <td>ЮЖНЫЙ</td>\n",
       "      <td>[Астраханская, Волгоградская, Краснодарский, А...</td>\n",
       "    </tr>\n",
       "  </tbody>\n",
       "</table>\n",
       "</div>"
      ],
      "text/plain": [
       "              area                                             region\n",
       "0      ЦЕНТРАЛЬНЫЙ  [Белгородская, Брянская, Владимирская, Воронеж...\n",
       "1  СЕВЕРО-ЗАПАДНЫЙ  [Архангельская, Вологодская, Санкт-Петербург, ...\n",
       "2        СИБИРСКИЙ  [Алтайский, Иркутская, Кемеровская, Красноярск...\n",
       "3      ПРИВОЛЖСКИЙ  [Кировская, Нижегородская, Оренбургская, Пензе...\n",
       "4            ЮЖНЫЙ  [Астраханская, Волгоградская, Краснодарский, А..."
      ]
     },
     "execution_count": 38,
     "metadata": {},
     "output_type": "execute_result"
    }
   ],
   "source": [
    "regions = pd.read_csv('regions.csv', sep=';') # чтение данных\n",
    "regions['region'] = regions['region'].apply(lambda x: x[1:-1].replace(\"'\",'').split(',')) # преобразование значений в списки\n",
    "regions.head()"
   ]
  },
  {
   "cell_type": "markdown",
   "id": "3e5b7ad4",
   "metadata": {},
   "source": [
    "Объединим наши данные с таблицей округов."
   ]
  },
  {
   "cell_type": "code",
   "execution_count": 39,
   "id": "d05e934d",
   "metadata": {
    "scrolled": true
   },
   "outputs": [
    {
     "data": {
      "text/html": [
       "<div>\n",
       "<style scoped>\n",
       "    .dataframe tbody tr th:only-of-type {\n",
       "        vertical-align: middle;\n",
       "    }\n",
       "\n",
       "    .dataframe tbody tr th {\n",
       "        vertical-align: top;\n",
       "    }\n",
       "\n",
       "    .dataframe thead th {\n",
       "        text-align: right;\n",
       "    }\n",
       "</style>\n",
       "<table border=\"1\" class=\"dataframe\">\n",
       "  <thead>\n",
       "    <tr style=\"text-align: right;\">\n",
       "      <th></th>\n",
       "      <th>3659778</th>\n",
       "      <th>6588348</th>\n",
       "      <th>3441068</th>\n",
       "      <th>176462</th>\n",
       "      <th>4844368</th>\n",
       "    </tr>\n",
       "  </thead>\n",
       "  <tbody>\n",
       "    <tr>\n",
       "      <th>receiptid</th>\n",
       "      <td>79055546</td>\n",
       "      <td>60364654</td>\n",
       "      <td>79170943</td>\n",
       "      <td>61026184</td>\n",
       "      <td>80502247</td>\n",
       "    </tr>\n",
       "    <tr>\n",
       "      <th>kkt_sn</th>\n",
       "      <td>108206727778</td>\n",
       "      <td>108202284292</td>\n",
       "      <td>108200679992</td>\n",
       "      <td>108200452703</td>\n",
       "      <td>108205927301</td>\n",
       "    </tr>\n",
       "    <tr>\n",
       "      <th>d_date</th>\n",
       "      <td>2018-07-25</td>\n",
       "      <td>2018-06-05</td>\n",
       "      <td>2018-07-24</td>\n",
       "      <td>2018-06-06</td>\n",
       "      <td>2018-07-29</td>\n",
       "    </tr>\n",
       "    <tr>\n",
       "      <th>name</th>\n",
       "      <td>Книга мяг/обложка</td>\n",
       "      <td>ТОВАР</td>\n",
       "      <td>Ряженка 0,5 кг 3,2 жир.</td>\n",
       "      <td>Биточек по-белорусски с соусом</td>\n",
       "      <td>ТОВАР</td>\n",
       "    </tr>\n",
       "    <tr>\n",
       "      <th>amount</th>\n",
       "      <td>1.0</td>\n",
       "      <td>1.0</td>\n",
       "      <td>1.0</td>\n",
       "      <td>1.0</td>\n",
       "      <td>1.0</td>\n",
       "    </tr>\n",
       "    <tr>\n",
       "      <th>unit</th>\n",
       "      <td>шт</td>\n",
       "      <td>--</td>\n",
       "      <td>килограмм</td>\n",
       "      <td>--</td>\n",
       "      <td>--</td>\n",
       "    </tr>\n",
       "    <tr>\n",
       "      <th>price</th>\n",
       "      <td>160.0</td>\n",
       "      <td>270.0</td>\n",
       "      <td>48.0</td>\n",
       "      <td>65.0</td>\n",
       "      <td>54.0</td>\n",
       "    </tr>\n",
       "    <tr>\n",
       "      <th>cost</th>\n",
       "      <td>160.0</td>\n",
       "      <td>270.0</td>\n",
       "      <td>48.0</td>\n",
       "      <td>65.0</td>\n",
       "      <td>54.0</td>\n",
       "    </tr>\n",
       "    <tr>\n",
       "      <th>nal</th>\n",
       "      <td>160.0</td>\n",
       "      <td>270.0</td>\n",
       "      <td>284.1</td>\n",
       "      <td>0.0</td>\n",
       "      <td>54.0</td>\n",
       "    </tr>\n",
       "    <tr>\n",
       "      <th>electron</th>\n",
       "      <td>0.0</td>\n",
       "      <td>0.0</td>\n",
       "      <td>0.0</td>\n",
       "      <td>147.0</td>\n",
       "      <td>0.0</td>\n",
       "    </tr>\n",
       "    <tr>\n",
       "      <th>avans</th>\n",
       "      <td>0.0</td>\n",
       "      <td>0.0</td>\n",
       "      <td>0.0</td>\n",
       "      <td>0.0</td>\n",
       "      <td>0.0</td>\n",
       "    </tr>\n",
       "    <tr>\n",
       "      <th>credit</th>\n",
       "      <td>0.0</td>\n",
       "      <td>0.0</td>\n",
       "      <td>0.0</td>\n",
       "      <td>0.0</td>\n",
       "      <td>0.0</td>\n",
       "    </tr>\n",
       "    <tr>\n",
       "      <th>vstrechpredst</th>\n",
       "      <td>0.0</td>\n",
       "      <td>0.0</td>\n",
       "      <td>0.0</td>\n",
       "      <td>0.0</td>\n",
       "      <td>0.0</td>\n",
       "    </tr>\n",
       "    <tr>\n",
       "      <th>region_type</th>\n",
       "      <td>обл</td>\n",
       "      <td>обл</td>\n",
       "      <td>г</td>\n",
       "      <td>край</td>\n",
       "      <td>обл</td>\n",
       "    </tr>\n",
       "    <tr>\n",
       "      <th>region</th>\n",
       "      <td>Свердловская</td>\n",
       "      <td>Челябинская</td>\n",
       "      <td>Санкт-Петербург</td>\n",
       "      <td>Красноярский</td>\n",
       "      <td>Тамбовская</td>\n",
       "    </tr>\n",
       "    <tr>\n",
       "      <th>city_type</th>\n",
       "      <td>г</td>\n",
       "      <td>г</td>\n",
       "      <td>0</td>\n",
       "      <td>г</td>\n",
       "      <td>г</td>\n",
       "    </tr>\n",
       "    <tr>\n",
       "      <th>city</th>\n",
       "      <td>Екатеринбург</td>\n",
       "      <td>Магнитогорск</td>\n",
       "      <td>0</td>\n",
       "      <td>Красноярск</td>\n",
       "      <td>Мичуринск</td>\n",
       "    </tr>\n",
       "    <tr>\n",
       "      <th>street_type</th>\n",
       "      <td>ул</td>\n",
       "      <td>пр-кт</td>\n",
       "      <td>ул</td>\n",
       "      <td>ул</td>\n",
       "      <td>ул</td>\n",
       "    </tr>\n",
       "    <tr>\n",
       "      <th>street</th>\n",
       "      <td>Вокзальная</td>\n",
       "      <td>Ленина</td>\n",
       "      <td>Некрасова</td>\n",
       "      <td>Партизана Железняка</td>\n",
       "      <td>Федеративная</td>\n",
       "    </tr>\n",
       "    <tr>\n",
       "      <th>house_type</th>\n",
       "      <td>дом</td>\n",
       "      <td>дом</td>\n",
       "      <td>дом</td>\n",
       "      <td>дом</td>\n",
       "      <td>0</td>\n",
       "    </tr>\n",
       "    <tr>\n",
       "      <th>house</th>\n",
       "      <td>\"=\"\"15\"\"\"</td>\n",
       "      <td>\"=\"\"139\"\"\"</td>\n",
       "      <td>\"=\"\"52\"\"\"</td>\n",
       "      <td>\"=\"\"46\"\"\"</td>\n",
       "      <td>0</td>\n",
       "    </tr>\n",
       "    <tr>\n",
       "      <th>name_number</th>\n",
       "      <td>201.0</td>\n",
       "      <td>1.0</td>\n",
       "      <td>1252.0</td>\n",
       "      <td>710.0</td>\n",
       "      <td>1.0</td>\n",
       "    </tr>\n",
       "    <tr>\n",
       "      <th>area</th>\n",
       "      <td>УРАЛЬСКИЙ</td>\n",
       "      <td>УРАЛЬСКИЙ</td>\n",
       "      <td>СЕВЕРО-ЗАПАДНЫЙ</td>\n",
       "      <td>СИБИРСКИЙ</td>\n",
       "      <td>ЦЕНТРАЛЬНЫЙ</td>\n",
       "    </tr>\n",
       "  </tbody>\n",
       "</table>\n",
       "</div>"
      ],
      "text/plain": [
       "                         3659778       6588348                  3441068  \\\n",
       "receiptid               79055546      60364654                 79170943   \n",
       "kkt_sn              108206727778  108202284292             108200679992   \n",
       "d_date                2018-07-25    2018-06-05               2018-07-24   \n",
       "name           Книга мяг/обложка         ТОВАР  Ряженка 0,5 кг 3,2 жир.   \n",
       "amount                       1.0           1.0                      1.0   \n",
       "unit                          шт            --                килограмм   \n",
       "price                      160.0         270.0                     48.0   \n",
       "cost                       160.0         270.0                     48.0   \n",
       "nal                        160.0         270.0                    284.1   \n",
       "electron                     0.0           0.0                      0.0   \n",
       "avans                        0.0           0.0                      0.0   \n",
       "credit                       0.0           0.0                      0.0   \n",
       "vstrechpredst                0.0           0.0                      0.0   \n",
       "region_type                  обл           обл                        г   \n",
       "region              Свердловская   Челябинская          Санкт-Петербург   \n",
       "city_type                      г             г                        0   \n",
       "city                Екатеринбург  Магнитогорск                        0   \n",
       "street_type                   ул         пр-кт                       ул   \n",
       "street                Вокзальная        Ленина                Некрасова   \n",
       "house_type                   дом           дом                      дом   \n",
       "house                  \"=\"\"15\"\"\"    \"=\"\"139\"\"\"                \"=\"\"52\"\"\"   \n",
       "name_number                201.0           1.0                   1252.0   \n",
       "area                   УРАЛЬСКИЙ     УРАЛЬСКИЙ          СЕВЕРО-ЗАПАДНЫЙ   \n",
       "\n",
       "                                      176462        4844368  \n",
       "receiptid                            61026184      80502247  \n",
       "kkt_sn                           108200452703  108205927301  \n",
       "d_date                             2018-06-06    2018-07-29  \n",
       "name           Биточек по-белорусски с соусом         ТОВАР  \n",
       "amount                                    1.0           1.0  \n",
       "unit                                       --            --  \n",
       "price                                    65.0          54.0  \n",
       "cost                                     65.0          54.0  \n",
       "nal                                       0.0          54.0  \n",
       "electron                                147.0           0.0  \n",
       "avans                                     0.0           0.0  \n",
       "credit                                    0.0           0.0  \n",
       "vstrechpredst                             0.0           0.0  \n",
       "region_type                              край           обл  \n",
       "region                           Красноярский    Тамбовская  \n",
       "city_type                                   г             г  \n",
       "city                               Красноярск     Мичуринск  \n",
       "street_type                                ул            ул  \n",
       "street                    Партизана Железняка  Федеративная  \n",
       "house_type                                дом             0  \n",
       "house                               \"=\"\"46\"\"\"             0  \n",
       "name_number                             710.0           1.0  \n",
       "area                                СИБИРСКИЙ   ЦЕНТРАЛЬНЫЙ  "
      ]
     },
     "execution_count": 39,
     "metadata": {},
     "output_type": "execute_result"
    }
   ],
   "source": [
    "raw_data = raw_data.merge(regions.explode('region'), how='left', left_on='region', right_on='region') # объединение таблиц\n",
    "raw_data.sample(5).T # просмотр образца данных"
   ]
  },
  {
   "cell_type": "markdown",
   "id": "c0e03137",
   "metadata": {},
   "source": [
    "Посмотрим, сколько значений округов удалось выделить. "
   ]
  },
  {
   "cell_type": "code",
   "execution_count": 40,
   "id": "637e47c1",
   "metadata": {
    "scrolled": true
   },
   "outputs": [
    {
     "data": {
      "text/plain": [
       "ЦЕНТРАЛЬНЫЙ          1876266\n",
       "ПРИВОЛЖСКИЙ          1738200\n",
       "ЮЖНЫЙ                1470236\n",
       "УРАЛЬСКИЙ            1234695\n",
       "ДАЛЬНЕВОСТОЧНЫЙ      1158366\n",
       "СИБИРСКИЙ            1051208\n",
       "СЕВЕРО-ЗАПАДНЫЙ       763680\n",
       "СЕВЕРО-КАВКАЗСКИЙ     299164\n",
       "Name: area, dtype: int64"
      ]
     },
     "execution_count": 40,
     "metadata": {},
     "output_type": "execute_result"
    }
   ],
   "source": [
    "raw_data['area'].value_counts() # просмотр количества значений"
   ]
  },
  {
   "cell_type": "markdown",
   "id": "37495592",
   "metadata": {},
   "source": [
    "Значений достаточно для предварительного анализа."
   ]
  },
  {
   "cell_type": "markdown",
   "id": "0d564b79",
   "metadata": {},
   "source": [
    "#### Анализ топ товаров по округам"
   ]
  },
  {
   "cell_type": "markdown",
   "id": "9de8a64e",
   "metadata": {},
   "source": [
    "Посмотрим, какие товары чаще всего продаются в округах."
   ]
  },
  {
   "cell_type": "code",
   "execution_count": 41,
   "id": "fb8e00b5",
   "metadata": {
    "scrolled": true
   },
   "outputs": [],
   "source": [
    "top_name = (raw_data[['name','area']] # агрегация число наименований по округам \n",
    "    .query('name not in @no_use_list')\n",
    "    .groupby('area')\n",
    "    .agg({'name':'value_counts'})\n",
    ")            \n",
    "top_name.columns=['count'] # переименование столбца\n",
    "top_name['name'] = top_name.index.get_level_values(1) # выделение названия из индекса\n",
    "top_name=top_name.reset_index(level=1, drop=True) # удаление уровня мультииндекса"
   ]
  },
  {
   "cell_type": "markdown",
   "id": "eead1a56",
   "metadata": {},
   "source": [
    "Выведем топ-10 товаров по округам."
   ]
  },
  {
   "cell_type": "code",
   "execution_count": 42,
   "id": "42157312",
   "metadata": {
    "scrolled": true
   },
   "outputs": [
    {
     "name": "stdout",
     "output_type": "stream",
     "text": [
      "Top 10 самых популярных товаров в округе ДАЛЬНЕВОСТОЧНЫЙ\n"
     ]
    },
    {
     "data": {
      "text/html": [
       "<div>\n",
       "<style scoped>\n",
       "    .dataframe tbody tr th:only-of-type {\n",
       "        vertical-align: middle;\n",
       "    }\n",
       "\n",
       "    .dataframe tbody tr th {\n",
       "        vertical-align: top;\n",
       "    }\n",
       "\n",
       "    .dataframe thead th {\n",
       "        text-align: right;\n",
       "    }\n",
       "</style>\n",
       "<table border=\"1\" class=\"dataframe\">\n",
       "  <thead>\n",
       "    <tr style=\"text-align: right;\">\n",
       "      <th></th>\n",
       "      <th>name</th>\n",
       "      <th>count</th>\n",
       "    </tr>\n",
       "  </thead>\n",
       "  <tbody>\n",
       "    <tr>\n",
       "      <th>0</th>\n",
       "      <td>ПРОДОВОЛЬСТВЕННЫЕ ТОВАРЫ</td>\n",
       "      <td>27610</td>\n",
       "    </tr>\n",
       "    <tr>\n",
       "      <th>1</th>\n",
       "      <td>Пакет-майка</td>\n",
       "      <td>22033</td>\n",
       "    </tr>\n",
       "    <tr>\n",
       "      <th>2</th>\n",
       "      <td>ПРОДУКТЫ</td>\n",
       "      <td>21286</td>\n",
       "    </tr>\n",
       "    <tr>\n",
       "      <th>3</th>\n",
       "      <td>ТОВАРЫ ДЛЯ ЖИВОТНЫХ</td>\n",
       "      <td>13338</td>\n",
       "    </tr>\n",
       "    <tr>\n",
       "      <th>4</th>\n",
       "      <td>Шпик соленый по-летнему Алтай</td>\n",
       "      <td>11784</td>\n",
       "    </tr>\n",
       "    <tr>\n",
       "      <th>5</th>\n",
       "      <td>ПРОДУКТЫ ПИТАНИЯ</td>\n",
       "      <td>11139</td>\n",
       "    </tr>\n",
       "    <tr>\n",
       "      <th>6</th>\n",
       "      <td>Цветы</td>\n",
       "      <td>10790</td>\n",
       "    </tr>\n",
       "    <tr>\n",
       "      <th>7</th>\n",
       "      <td>ФУРНИТУРА</td>\n",
       "      <td>10674</td>\n",
       "    </tr>\n",
       "    <tr>\n",
       "      <th>8</th>\n",
       "      <td>Продукты</td>\n",
       "      <td>6789</td>\n",
       "    </tr>\n",
       "    <tr>\n",
       "      <th>9</th>\n",
       "      <td>ВЗРОСЛЫЙ БИЛЕТ</td>\n",
       "      <td>6652</td>\n",
       "    </tr>\n",
       "  </tbody>\n",
       "</table>\n",
       "</div>"
      ],
      "text/plain": [
       "                            name  count\n",
       "0       ПРОДОВОЛЬСТВЕННЫЕ ТОВАРЫ  27610\n",
       "1                    Пакет-майка  22033\n",
       "2                       ПРОДУКТЫ  21286\n",
       "3            ТОВАРЫ ДЛЯ ЖИВОТНЫХ  13338\n",
       "4  Шпик соленый по-летнему Алтай  11784\n",
       "5               ПРОДУКТЫ ПИТАНИЯ  11139\n",
       "6                          Цветы  10790\n",
       "7                      ФУРНИТУРА  10674\n",
       "8                       Продукты   6789\n",
       "9                 ВЗРОСЛЫЙ БИЛЕТ   6652"
      ]
     },
     "metadata": {},
     "output_type": "display_data"
    },
    {
     "name": "stdout",
     "output_type": "stream",
     "text": [
      "Top 10 самых популярных товаров в округе ПРИВОЛЖСКИЙ\n"
     ]
    },
    {
     "data": {
      "text/html": [
       "<div>\n",
       "<style scoped>\n",
       "    .dataframe tbody tr th:only-of-type {\n",
       "        vertical-align: middle;\n",
       "    }\n",
       "\n",
       "    .dataframe tbody tr th {\n",
       "        vertical-align: top;\n",
       "    }\n",
       "\n",
       "    .dataframe thead th {\n",
       "        text-align: right;\n",
       "    }\n",
       "</style>\n",
       "<table border=\"1\" class=\"dataframe\">\n",
       "  <thead>\n",
       "    <tr style=\"text-align: right;\">\n",
       "      <th></th>\n",
       "      <th>name</th>\n",
       "      <th>count</th>\n",
       "    </tr>\n",
       "  </thead>\n",
       "  <tbody>\n",
       "    <tr>\n",
       "      <th>0</th>\n",
       "      <td>ПРОДУКТЫ ПИТАНИЯ</td>\n",
       "      <td>48902</td>\n",
       "    </tr>\n",
       "    <tr>\n",
       "      <th>1</th>\n",
       "      <td>ПРОДУКТЫ</td>\n",
       "      <td>47018</td>\n",
       "    </tr>\n",
       "    <tr>\n",
       "      <th>2</th>\n",
       "      <td>ХЛЕБ</td>\n",
       "      <td>42038</td>\n",
       "    </tr>\n",
       "    <tr>\n",
       "      <th>3</th>\n",
       "      <td>БАКАЛЕЙНАЯ ПРОДУКЦИЯ</td>\n",
       "      <td>39733</td>\n",
       "    </tr>\n",
       "    <tr>\n",
       "      <th>4</th>\n",
       "      <td>ТОВАРЫ БАКАЛЕЙНОЙ ГРУППЫ</td>\n",
       "      <td>36533</td>\n",
       "    </tr>\n",
       "    <tr>\n",
       "      <th>5</th>\n",
       "      <td>МОЛОКО ПИТЬЕВОЕ ПАСТЕРИЗОВАННОЕ</td>\n",
       "      <td>34959</td>\n",
       "    </tr>\n",
       "    <tr>\n",
       "      <th>6</th>\n",
       "      <td>Продукты</td>\n",
       "      <td>25144</td>\n",
       "    </tr>\n",
       "    <tr>\n",
       "      <th>7</th>\n",
       "      <td>МОЛОЧКА</td>\n",
       "      <td>23698</td>\n",
       "    </tr>\n",
       "    <tr>\n",
       "      <th>8</th>\n",
       "      <td>ТОРТЫ, ПИРОЖНЫЕ</td>\n",
       "      <td>22906</td>\n",
       "    </tr>\n",
       "    <tr>\n",
       "      <th>9</th>\n",
       "      <td>СЕМЕНА</td>\n",
       "      <td>14177</td>\n",
       "    </tr>\n",
       "  </tbody>\n",
       "</table>\n",
       "</div>"
      ],
      "text/plain": [
       "                              name  count\n",
       "0                 ПРОДУКТЫ ПИТАНИЯ  48902\n",
       "1                         ПРОДУКТЫ  47018\n",
       "2                             ХЛЕБ  42038\n",
       "3             БАКАЛЕЙНАЯ ПРОДУКЦИЯ  39733\n",
       "4         ТОВАРЫ БАКАЛЕЙНОЙ ГРУППЫ  36533\n",
       "5  МОЛОКО ПИТЬЕВОЕ ПАСТЕРИЗОВАННОЕ  34959\n",
       "6                         Продукты  25144\n",
       "7                          МОЛОЧКА  23698\n",
       "8                  ТОРТЫ, ПИРОЖНЫЕ  22906\n",
       "9                           СЕМЕНА  14177"
      ]
     },
     "metadata": {},
     "output_type": "display_data"
    },
    {
     "name": "stdout",
     "output_type": "stream",
     "text": [
      "Top 10 самых популярных товаров в округе СЕВЕРО-ЗАПАДНЫЙ\n"
     ]
    },
    {
     "data": {
      "text/html": [
       "<div>\n",
       "<style scoped>\n",
       "    .dataframe tbody tr th:only-of-type {\n",
       "        vertical-align: middle;\n",
       "    }\n",
       "\n",
       "    .dataframe tbody tr th {\n",
       "        vertical-align: top;\n",
       "    }\n",
       "\n",
       "    .dataframe thead th {\n",
       "        text-align: right;\n",
       "    }\n",
       "</style>\n",
       "<table border=\"1\" class=\"dataframe\">\n",
       "  <thead>\n",
       "    <tr style=\"text-align: right;\">\n",
       "      <th></th>\n",
       "      <th>name</th>\n",
       "      <th>count</th>\n",
       "    </tr>\n",
       "  </thead>\n",
       "  <tbody>\n",
       "    <tr>\n",
       "      <th>0</th>\n",
       "      <td>БУКЕТ</td>\n",
       "      <td>9651</td>\n",
       "    </tr>\n",
       "    <tr>\n",
       "      <th>1</th>\n",
       "      <td>ОДЕЖДА</td>\n",
       "      <td>8996</td>\n",
       "    </tr>\n",
       "    <tr>\n",
       "      <th>2</th>\n",
       "      <td>МОЛОЧНАЯ ПРОДУКЦИЯ</td>\n",
       "      <td>8805</td>\n",
       "    </tr>\n",
       "    <tr>\n",
       "      <th>3</th>\n",
       "      <td>ОБЕД</td>\n",
       "      <td>8755</td>\n",
       "    </tr>\n",
       "    <tr>\n",
       "      <th>4</th>\n",
       "      <td>Молочные продукты</td>\n",
       "      <td>7331</td>\n",
       "    </tr>\n",
       "    <tr>\n",
       "      <th>5</th>\n",
       "      <td>КОНФЕТЫ ВЕСОВЫЕ</td>\n",
       "      <td>7240</td>\n",
       "    </tr>\n",
       "    <tr>\n",
       "      <th>6</th>\n",
       "      <td>ПРОДУКТЫ</td>\n",
       "      <td>7210</td>\n",
       "    </tr>\n",
       "    <tr>\n",
       "      <th>7</th>\n",
       "      <td>МЯСНЫЕ ИЗДЕЛИЯ</td>\n",
       "      <td>7018</td>\n",
       "    </tr>\n",
       "    <tr>\n",
       "      <th>8</th>\n",
       "      <td>ОХЛАЖДЕННОЕ МЯСО</td>\n",
       "      <td>6348</td>\n",
       "    </tr>\n",
       "    <tr>\n",
       "      <th>9</th>\n",
       "      <td>Услуги солярия</td>\n",
       "      <td>4836</td>\n",
       "    </tr>\n",
       "  </tbody>\n",
       "</table>\n",
       "</div>"
      ],
      "text/plain": [
       "                 name  count\n",
       "0               БУКЕТ   9651\n",
       "1              ОДЕЖДА   8996\n",
       "2  МОЛОЧНАЯ ПРОДУКЦИЯ   8805\n",
       "3                ОБЕД   8755\n",
       "4   Молочные продукты   7331\n",
       "5     КОНФЕТЫ ВЕСОВЫЕ   7240\n",
       "6            ПРОДУКТЫ   7210\n",
       "7      МЯСНЫЕ ИЗДЕЛИЯ   7018\n",
       "8    ОХЛАЖДЕННОЕ МЯСО   6348\n",
       "9      Услуги солярия   4836"
      ]
     },
     "metadata": {},
     "output_type": "display_data"
    },
    {
     "name": "stdout",
     "output_type": "stream",
     "text": [
      "Top 10 самых популярных товаров в округе СЕВЕРО-КАВКАЗСКИЙ\n"
     ]
    },
    {
     "data": {
      "text/html": [
       "<div>\n",
       "<style scoped>\n",
       "    .dataframe tbody tr th:only-of-type {\n",
       "        vertical-align: middle;\n",
       "    }\n",
       "\n",
       "    .dataframe tbody tr th {\n",
       "        vertical-align: top;\n",
       "    }\n",
       "\n",
       "    .dataframe thead th {\n",
       "        text-align: right;\n",
       "    }\n",
       "</style>\n",
       "<table border=\"1\" class=\"dataframe\">\n",
       "  <thead>\n",
       "    <tr style=\"text-align: right;\">\n",
       "      <th></th>\n",
       "      <th>name</th>\n",
       "      <th>count</th>\n",
       "    </tr>\n",
       "  </thead>\n",
       "  <tbody>\n",
       "    <tr>\n",
       "      <th>0</th>\n",
       "      <td>ЭЛЕКТРОЭНЕРГИЯ</td>\n",
       "      <td>28071</td>\n",
       "    </tr>\n",
       "    <tr>\n",
       "      <th>1</th>\n",
       "      <td>ПАРКОВКА</td>\n",
       "      <td>26270</td>\n",
       "    </tr>\n",
       "    <tr>\n",
       "      <th>2</th>\n",
       "      <td>ХОЗТОВАРЫ</td>\n",
       "      <td>5548</td>\n",
       "    </tr>\n",
       "    <tr>\n",
       "      <th>3</th>\n",
       "      <td>МЕД. УСЛУГИ</td>\n",
       "      <td>3952</td>\n",
       "    </tr>\n",
       "    <tr>\n",
       "      <th>4</th>\n",
       "      <td>ГАЗ</td>\n",
       "      <td>3793</td>\n",
       "    </tr>\n",
       "    <tr>\n",
       "      <th>5</th>\n",
       "      <td>МЕДИКАМЕНТЫ</td>\n",
       "      <td>2760</td>\n",
       "    </tr>\n",
       "    <tr>\n",
       "      <th>6</th>\n",
       "      <td>ПОМЫВКА</td>\n",
       "      <td>2402</td>\n",
       "    </tr>\n",
       "    <tr>\n",
       "      <th>7</th>\n",
       "      <td>МЕБЕЛЬНАЯ ФУРНИТУРА И СРЕДСТВА УХОДА ЗА МЕБЕЛЬЮ</td>\n",
       "      <td>2287</td>\n",
       "    </tr>\n",
       "    <tr>\n",
       "      <th>8</th>\n",
       "      <td>прокат коньков</td>\n",
       "      <td>2113</td>\n",
       "    </tr>\n",
       "    <tr>\n",
       "      <th>9</th>\n",
       "      <td>АИ-92-К5</td>\n",
       "      <td>1546</td>\n",
       "    </tr>\n",
       "  </tbody>\n",
       "</table>\n",
       "</div>"
      ],
      "text/plain": [
       "                                              name  count\n",
       "0                                   ЭЛЕКТРОЭНЕРГИЯ  28071\n",
       "1                                         ПАРКОВКА  26270\n",
       "2                                        ХОЗТОВАРЫ   5548\n",
       "3                                      МЕД. УСЛУГИ   3952\n",
       "4                                              ГАЗ   3793\n",
       "5                                      МЕДИКАМЕНТЫ   2760\n",
       "6                                          ПОМЫВКА   2402\n",
       "7  МЕБЕЛЬНАЯ ФУРНИТУРА И СРЕДСТВА УХОДА ЗА МЕБЕЛЬЮ   2287\n",
       "8                                   прокат коньков   2113\n",
       "9                                         АИ-92-К5   1546"
      ]
     },
     "metadata": {},
     "output_type": "display_data"
    },
    {
     "name": "stdout",
     "output_type": "stream",
     "text": [
      "Top 10 самых популярных товаров в округе СИБИРСКИЙ\n"
     ]
    },
    {
     "data": {
      "text/html": [
       "<div>\n",
       "<style scoped>\n",
       "    .dataframe tbody tr th:only-of-type {\n",
       "        vertical-align: middle;\n",
       "    }\n",
       "\n",
       "    .dataframe tbody tr th {\n",
       "        vertical-align: top;\n",
       "    }\n",
       "\n",
       "    .dataframe thead th {\n",
       "        text-align: right;\n",
       "    }\n",
       "</style>\n",
       "<table border=\"1\" class=\"dataframe\">\n",
       "  <thead>\n",
       "    <tr style=\"text-align: right;\">\n",
       "      <th></th>\n",
       "      <th>name</th>\n",
       "      <th>count</th>\n",
       "    </tr>\n",
       "  </thead>\n",
       "  <tbody>\n",
       "    <tr>\n",
       "      <th>0</th>\n",
       "      <td>ТАБАЧНЫЕ ИЗДЕЛИЯ</td>\n",
       "      <td>41027</td>\n",
       "    </tr>\n",
       "    <tr>\n",
       "      <th>1</th>\n",
       "      <td>ХЛЕБОБУЛОЧНЫЕ ИЗДЕЛИЯ</td>\n",
       "      <td>34713</td>\n",
       "    </tr>\n",
       "    <tr>\n",
       "      <th>2</th>\n",
       "      <td>КАНЦ.ТОВАРЫ</td>\n",
       "      <td>18391</td>\n",
       "    </tr>\n",
       "    <tr>\n",
       "      <th>3</th>\n",
       "      <td>ПРОДУКТЫ</td>\n",
       "      <td>14290</td>\n",
       "    </tr>\n",
       "    <tr>\n",
       "      <th>4</th>\n",
       "      <td>ПРОДОВОЛЬСТВЕННЫЙ ТОВАР</td>\n",
       "      <td>12709</td>\n",
       "    </tr>\n",
       "    <tr>\n",
       "      <th>5</th>\n",
       "      <td>Хлебобулочные изделия</td>\n",
       "      <td>12448</td>\n",
       "    </tr>\n",
       "    <tr>\n",
       "      <th>6</th>\n",
       "      <td>Табачные изделия</td>\n",
       "      <td>11973</td>\n",
       "    </tr>\n",
       "    <tr>\n",
       "      <th>7</th>\n",
       "      <td>ХЛЕБО-БУЛОЧНЫЕ ИЗДЕЛИЯ</td>\n",
       "      <td>10731</td>\n",
       "    </tr>\n",
       "    <tr>\n",
       "      <th>8</th>\n",
       "      <td>СИГАРЕТЫ</td>\n",
       "      <td>10221</td>\n",
       "    </tr>\n",
       "    <tr>\n",
       "      <th>9</th>\n",
       "      <td>БАКАЛЕЯ</td>\n",
       "      <td>9972</td>\n",
       "    </tr>\n",
       "  </tbody>\n",
       "</table>\n",
       "</div>"
      ],
      "text/plain": [
       "                      name  count\n",
       "0         ТАБАЧНЫЕ ИЗДЕЛИЯ  41027\n",
       "1    ХЛЕБОБУЛОЧНЫЕ ИЗДЕЛИЯ  34713\n",
       "2              КАНЦ.ТОВАРЫ  18391\n",
       "3                 ПРОДУКТЫ  14290\n",
       "4  ПРОДОВОЛЬСТВЕННЫЙ ТОВАР  12709\n",
       "5    Хлебобулочные изделия  12448\n",
       "6         Табачные изделия  11973\n",
       "7   ХЛЕБО-БУЛОЧНЫЕ ИЗДЕЛИЯ  10731\n",
       "8                 СИГАРЕТЫ  10221\n",
       "9                  БАКАЛЕЯ   9972"
      ]
     },
     "metadata": {},
     "output_type": "display_data"
    },
    {
     "name": "stdout",
     "output_type": "stream",
     "text": [
      "Top 10 самых популярных товаров в округе УРАЛЬСКИЙ\n"
     ]
    },
    {
     "data": {
      "text/html": [
       "<div>\n",
       "<style scoped>\n",
       "    .dataframe tbody tr th:only-of-type {\n",
       "        vertical-align: middle;\n",
       "    }\n",
       "\n",
       "    .dataframe tbody tr th {\n",
       "        vertical-align: top;\n",
       "    }\n",
       "\n",
       "    .dataframe thead th {\n",
       "        text-align: right;\n",
       "    }\n",
       "</style>\n",
       "<table border=\"1\" class=\"dataframe\">\n",
       "  <thead>\n",
       "    <tr style=\"text-align: right;\">\n",
       "      <th></th>\n",
       "      <th>name</th>\n",
       "      <th>count</th>\n",
       "    </tr>\n",
       "  </thead>\n",
       "  <tbody>\n",
       "    <tr>\n",
       "      <th>0</th>\n",
       "      <td>ГАЗЕТА</td>\n",
       "      <td>63937</td>\n",
       "    </tr>\n",
       "    <tr>\n",
       "      <th>1</th>\n",
       "      <td>ПРОДУКТЫ</td>\n",
       "      <td>39295</td>\n",
       "    </tr>\n",
       "    <tr>\n",
       "      <th>2</th>\n",
       "      <td>ЖУРНАЛ</td>\n",
       "      <td>35185</td>\n",
       "    </tr>\n",
       "    <tr>\n",
       "      <th>3</th>\n",
       "      <td>ХЛЕБ</td>\n",
       "      <td>30992</td>\n",
       "    </tr>\n",
       "    <tr>\n",
       "      <th>4</th>\n",
       "      <td>ТАБАК</td>\n",
       "      <td>19986</td>\n",
       "    </tr>\n",
       "    <tr>\n",
       "      <th>5</th>\n",
       "      <td>БАКАЛЕЯ</td>\n",
       "      <td>18810</td>\n",
       "    </tr>\n",
       "    <tr>\n",
       "      <th>6</th>\n",
       "      <td>СИГАРЕТЫ</td>\n",
       "      <td>18613</td>\n",
       "    </tr>\n",
       "    <tr>\n",
       "      <th>7</th>\n",
       "      <td>ПРОДУКТЫ ПИТАНИЯ</td>\n",
       "      <td>14008</td>\n",
       "    </tr>\n",
       "    <tr>\n",
       "      <th>8</th>\n",
       "      <td>СТРОИТЕЛЬНЫЕ И ОТДЕЛОЧНЫЕ МАТЕРИАЛЫ</td>\n",
       "      <td>12928</td>\n",
       "    </tr>\n",
       "    <tr>\n",
       "      <th>9</th>\n",
       "      <td>ХЛЕБОБУЛОЧНЫЕ ИЗДЕЛИЯ</td>\n",
       "      <td>9070</td>\n",
       "    </tr>\n",
       "  </tbody>\n",
       "</table>\n",
       "</div>"
      ],
      "text/plain": [
       "                                  name  count\n",
       "0                               ГАЗЕТА  63937\n",
       "1                             ПРОДУКТЫ  39295\n",
       "2                               ЖУРНАЛ  35185\n",
       "3                                 ХЛЕБ  30992\n",
       "4                                ТАБАК  19986\n",
       "5                              БАКАЛЕЯ  18810\n",
       "6                             СИГАРЕТЫ  18613\n",
       "7                     ПРОДУКТЫ ПИТАНИЯ  14008\n",
       "8  СТРОИТЕЛЬНЫЕ И ОТДЕЛОЧНЫЕ МАТЕРИАЛЫ  12928\n",
       "9                ХЛЕБОБУЛОЧНЫЕ ИЗДЕЛИЯ   9070"
      ]
     },
     "metadata": {},
     "output_type": "display_data"
    },
    {
     "name": "stdout",
     "output_type": "stream",
     "text": [
      "Top 10 самых популярных товаров в округе ЦЕНТРАЛЬНЫЙ\n"
     ]
    },
    {
     "data": {
      "text/html": [
       "<div>\n",
       "<style scoped>\n",
       "    .dataframe tbody tr th:only-of-type {\n",
       "        vertical-align: middle;\n",
       "    }\n",
       "\n",
       "    .dataframe tbody tr th {\n",
       "        vertical-align: top;\n",
       "    }\n",
       "\n",
       "    .dataframe thead th {\n",
       "        text-align: right;\n",
       "    }\n",
       "</style>\n",
       "<table border=\"1\" class=\"dataframe\">\n",
       "  <thead>\n",
       "    <tr style=\"text-align: right;\">\n",
       "      <th></th>\n",
       "      <th>name</th>\n",
       "      <th>count</th>\n",
       "    </tr>\n",
       "  </thead>\n",
       "  <tbody>\n",
       "    <tr>\n",
       "      <th>0</th>\n",
       "      <td>ХЛЕБО-БУЛОЧНЫЕ ИЗДЕЛИЯ</td>\n",
       "      <td>109142</td>\n",
       "    </tr>\n",
       "    <tr>\n",
       "      <th>1</th>\n",
       "      <td>ПРОДУКТЫ</td>\n",
       "      <td>77983</td>\n",
       "    </tr>\n",
       "    <tr>\n",
       "      <th>2</th>\n",
       "      <td>КОЛБАСЫ И МЯСНЫЕ ИЗДЕЛИЯ</td>\n",
       "      <td>59057</td>\n",
       "    </tr>\n",
       "    <tr>\n",
       "      <th>3</th>\n",
       "      <td>Хлеб и хлебобулочные</td>\n",
       "      <td>28087</td>\n",
       "    </tr>\n",
       "    <tr>\n",
       "      <th>4</th>\n",
       "      <td>КОНДИТЕРСКИЕ ИЗДЕЛИЯ</td>\n",
       "      <td>20224</td>\n",
       "    </tr>\n",
       "    <tr>\n",
       "      <th>5</th>\n",
       "      <td>ХЛЕБОБУЛОЧНЫЕ ИЗДЕЛИЯ</td>\n",
       "      <td>16839</td>\n",
       "    </tr>\n",
       "    <tr>\n",
       "      <th>6</th>\n",
       "      <td>АВТОЗАПЧАСТИ</td>\n",
       "      <td>16710</td>\n",
       "    </tr>\n",
       "    <tr>\n",
       "      <th>7</th>\n",
       "      <td>ХОЗТОВАРЫ</td>\n",
       "      <td>12063</td>\n",
       "    </tr>\n",
       "    <tr>\n",
       "      <th>8</th>\n",
       "      <td>СОДЕРЖАНИЕ И ТЕКУЩИЙ РЕМОНТ</td>\n",
       "      <td>11935</td>\n",
       "    </tr>\n",
       "    <tr>\n",
       "      <th>9</th>\n",
       "      <td>ВЫПЕЧКА</td>\n",
       "      <td>11845</td>\n",
       "    </tr>\n",
       "  </tbody>\n",
       "</table>\n",
       "</div>"
      ],
      "text/plain": [
       "                          name   count\n",
       "0       ХЛЕБО-БУЛОЧНЫЕ ИЗДЕЛИЯ  109142\n",
       "1                     ПРОДУКТЫ   77983\n",
       "2     КОЛБАСЫ И МЯСНЫЕ ИЗДЕЛИЯ   59057\n",
       "3         Хлеб и хлебобулочные   28087\n",
       "4         КОНДИТЕРСКИЕ ИЗДЕЛИЯ   20224\n",
       "5        ХЛЕБОБУЛОЧНЫЕ ИЗДЕЛИЯ   16839\n",
       "6                 АВТОЗАПЧАСТИ   16710\n",
       "7                    ХОЗТОВАРЫ   12063\n",
       "8  СОДЕРЖАНИЕ И ТЕКУЩИЙ РЕМОНТ   11935\n",
       "9                      ВЫПЕЧКА   11845"
      ]
     },
     "metadata": {},
     "output_type": "display_data"
    },
    {
     "name": "stdout",
     "output_type": "stream",
     "text": [
      "Top 10 самых популярных товаров в округе ЮЖНЫЙ\n"
     ]
    },
    {
     "data": {
      "text/html": [
       "<div>\n",
       "<style scoped>\n",
       "    .dataframe tbody tr th:only-of-type {\n",
       "        vertical-align: middle;\n",
       "    }\n",
       "\n",
       "    .dataframe tbody tr th {\n",
       "        vertical-align: top;\n",
       "    }\n",
       "\n",
       "    .dataframe thead th {\n",
       "        text-align: right;\n",
       "    }\n",
       "</style>\n",
       "<table border=\"1\" class=\"dataframe\">\n",
       "  <thead>\n",
       "    <tr style=\"text-align: right;\">\n",
       "      <th></th>\n",
       "      <th>name</th>\n",
       "      <th>count</th>\n",
       "    </tr>\n",
       "  </thead>\n",
       "  <tbody>\n",
       "    <tr>\n",
       "      <th>0</th>\n",
       "      <td>ХЛЕБОБУЛОЧНЫЕ ИЗДЕЛИЯ В АССОРТ.</td>\n",
       "      <td>75789</td>\n",
       "    </tr>\n",
       "    <tr>\n",
       "      <th>1</th>\n",
       "      <td>ХЛЕБО-БУЛОЧНЫЕ ИЗДЕЛИЯ</td>\n",
       "      <td>27899</td>\n",
       "    </tr>\n",
       "    <tr>\n",
       "      <th>2</th>\n",
       "      <td>ПРОДУКТЫ</td>\n",
       "      <td>23467</td>\n",
       "    </tr>\n",
       "    <tr>\n",
       "      <th>3</th>\n",
       "      <td>ПРОДУКТЫ ПИТАНИЯ</td>\n",
       "      <td>17820</td>\n",
       "    </tr>\n",
       "    <tr>\n",
       "      <th>4</th>\n",
       "      <td>Кондитерские изделия</td>\n",
       "      <td>15334</td>\n",
       "    </tr>\n",
       "    <tr>\n",
       "      <th>5</th>\n",
       "      <td>ХОЗ.ТОВАРЫ</td>\n",
       "      <td>14983</td>\n",
       "    </tr>\n",
       "    <tr>\n",
       "      <th>6</th>\n",
       "      <td>Товар продукты</td>\n",
       "      <td>14757</td>\n",
       "    </tr>\n",
       "    <tr>\n",
       "      <th>7</th>\n",
       "      <td>ПРОДТОВАРЫ</td>\n",
       "      <td>11654</td>\n",
       "    </tr>\n",
       "    <tr>\n",
       "      <th>8</th>\n",
       "      <td>ПЛАТНАЯ ПАРКОВКА</td>\n",
       "      <td>10914</td>\n",
       "    </tr>\n",
       "    <tr>\n",
       "      <th>9</th>\n",
       "      <td>КОНДИТЕРСКИЕ ИЗДЕЛИЯ</td>\n",
       "      <td>10679</td>\n",
       "    </tr>\n",
       "  </tbody>\n",
       "</table>\n",
       "</div>"
      ],
      "text/plain": [
       "                              name  count\n",
       "0  ХЛЕБОБУЛОЧНЫЕ ИЗДЕЛИЯ В АССОРТ.  75789\n",
       "1           ХЛЕБО-БУЛОЧНЫЕ ИЗДЕЛИЯ  27899\n",
       "2                         ПРОДУКТЫ  23467\n",
       "3                 ПРОДУКТЫ ПИТАНИЯ  17820\n",
       "4             Кондитерские изделия  15334\n",
       "5                       ХОЗ.ТОВАРЫ  14983\n",
       "6                   Товар продукты  14757\n",
       "7                       ПРОДТОВАРЫ  11654\n",
       "8                 ПЛАТНАЯ ПАРКОВКА  10914\n",
       "9             КОНДИТЕРСКИЕ ИЗДЕЛИЯ  10679"
      ]
     },
     "metadata": {},
     "output_type": "display_data"
    }
   ],
   "source": [
    "for name in top_name.index.unique(): # цикл по округам\n",
    "    print('Top 10 самых популярных товаров в округе',name)\n",
    "    display(top_name[top_name.index==name][['name','count']] # вывод списка топ-10\n",
    "        .reset_index(drop=True)\n",
    "        .sort_values('count',ascending=False)\n",
    "        .head(10)\n",
    "    )"
   ]
  },
  {
   "cell_type": "markdown",
   "id": "be8d698f",
   "metadata": {},
   "source": [
    "Самыми популярными товарами оказались продукты. Отчасти это связано с тем, что многие продавцы используют категории, например \"Продукты\", и в них попадает много различных товаров. Но и отдельные продукты - молоко, мясо, хлеб - попали в топ. Также часто популярным бывают табачные изделия и цветы.\n",
    "\n",
    "Отдельные курьезы, например популярность шпика в Дальневосточном округе, вызваны особенностями выборки."
   ]
  },
  {
   "cell_type": "markdown",
   "id": "de315fbe",
   "metadata": {},
   "source": [
    "#### Анализ контрольно-кассовой техники"
   ]
  },
  {
   "cell_type": "markdown",
   "id": "e2228d87",
   "metadata": {},
   "source": [
    "Посмотрим на статистические характеристики ККТ в предоставленных данных."
   ]
  },
  {
   "cell_type": "code",
   "execution_count": 43,
   "id": "b1f7fa31",
   "metadata": {},
   "outputs": [
    {
     "data": {
      "text/plain": [
       "count    14826.000000\n",
       "mean       666.211790\n",
       "std       1909.617853\n",
       "min          1.000000\n",
       "25%         25.000000\n",
       "50%        121.000000\n",
       "75%        487.000000\n",
       "max      60054.000000\n",
       "dtype: float64"
      ]
     },
     "execution_count": 43,
     "metadata": {},
     "output_type": "execute_result"
    }
   ],
   "source": [
    "raw_data[['kkt_sn']].value_counts().describe() # вывод характеристик числа чеков на 1 ккт"
   ]
  },
  {
   "cell_type": "markdown",
   "id": "18c3e7cb",
   "metadata": {},
   "source": [
    "Всего в предоставленных данных есть сведения о 10665 ККТ. Медианное количество чеков на одну ККТ - 96 чеков за два месяца.  Минимальное количество чеков за этот срок - 1, а максимальный - 60587 чеков."
   ]
  },
  {
   "cell_type": "markdown",
   "id": "b0bf33ed",
   "metadata": {},
   "source": [
    "Создадим список самых загруженных ККТ."
   ]
  },
  {
   "cell_type": "code",
   "execution_count": 44,
   "id": "92a406f2",
   "metadata": {},
   "outputs": [
    {
     "data": {
      "text/plain": [
       "[108402869425,\n",
       " 108202271399,\n",
       " 108202044780,\n",
       " 108407540550,\n",
       " 108402493765,\n",
       " 108407649460,\n",
       " 108409952245,\n",
       " 108403534046,\n",
       " 108401729006,\n",
       " 108201605085]"
      ]
     },
     "execution_count": 44,
     "metadata": {},
     "output_type": "execute_result"
    }
   ],
   "source": [
    "top_kkt_list = (raw_data[['kkt_sn']] # создание списка самых загруженных ККТ\n",
    "    .value_counts()\n",
    "    .sort_values(ascending=False)\n",
    "    .head(10)\n",
    "    .reset_index()['kkt_sn'].to_list()\n",
    ")\n",
    "top_kkt_list"
   ]
  },
  {
   "cell_type": "markdown",
   "id": "c5e1e217",
   "metadata": {},
   "source": [
    "Посмотрим самые частые товары по  самым загруженным кассам."
   ]
  },
  {
   "cell_type": "code",
   "execution_count": 45,
   "id": "9aa20e33",
   "metadata": {
    "scrolled": false
   },
   "outputs": [
    {
     "name": "stdout",
     "output_type": "stream",
     "text": [
      "Покупки на ККТ №108402869425\n",
      "Место нахождения ['Тульская', 'Тула']\n"
     ]
    },
    {
     "data": {
      "text/plain": [
       "ХЛЕБО-БУЛОЧНЫЕ ИЗДЕЛИЯ    58893\n",
       "БАКАЛЕЯ                     597\n",
       "КОНДИТЕРСКИЕ ИЗДЕЛИЯ        552\n",
       "КРЕМОВЫЕ ИЗДЕЛИЯ ТХК          8\n",
       "                              2\n",
       "Name: name, dtype: int64"
      ]
     },
     "metadata": {},
     "output_type": "display_data"
    },
    {
     "name": "stdout",
     "output_type": "stream",
     "text": [
      "Покупки на ККТ №108202271399\n",
      "Место нахождения ['Татарстан', 'Нижнекамск']\n"
     ]
    },
    {
     "data": {
      "text/plain": [
       "БАКАЛЕЙНАЯ ПРОДУКЦИЯ    39353\n",
       "ГАСТРОНОМИЯ              7891\n",
       "ОВОЩИ, ФРУКТЫ            3080\n",
       "ПРОМ.ТОВАРЫ              1560\n",
       "СОКИ, ВОДЫ                531\n",
       "Name: name, dtype: int64"
      ]
     },
     "metadata": {},
     "output_type": "display_data"
    },
    {
     "name": "stdout",
     "output_type": "stream",
     "text": [
      "Покупки на ККТ №108202044780\n",
      "Место нахождения ['Липецкая', 'Грязи']\n"
     ]
    },
    {
     "data": {
      "text/plain": [
       "Хлеб и хлебобулочные    27637\n",
       "Кондитерские изделия     5132\n",
       "Молоко Молочная прод     4753\n",
       "Безалкоголые напитки     1527\n",
       "Колбасные  изделия       1337\n",
       "Name: name, dtype: int64"
      ]
     },
     "metadata": {},
     "output_type": "display_data"
    },
    {
     "name": "stdout",
     "output_type": "stream",
     "text": [
      "Покупки на ККТ №108407540550\n",
      "Место нахождения ['Свердловская', 'Нижний Тагил']\n"
     ]
    },
    {
     "data": {
      "text/plain": [
       "ХЛЕБ                    27254\n",
       "МОЛОЧНЫЕ ПРОДУКТЫ        5820\n",
       "БАКАЛЕЯ                  4046\n",
       "КОНДИТЕРСКИЕ ИЗДЕЛИЯ     2185\n",
       "ОВОЩИ, ФРУКТЫ            1656\n",
       "Name: name, dtype: int64"
      ]
     },
     "metadata": {},
     "output_type": "display_data"
    },
    {
     "name": "stdout",
     "output_type": "stream",
     "text": [
      "Покупки на ККТ №108402493765\n",
      "Место нахождения ['Тульская', 'Тула']\n"
     ]
    },
    {
     "data": {
      "text/plain": [
       "ХЛЕБО-БУЛОЧНЫЕ ИЗДЕЛИЯ    31151\n",
       "КОНДИТЕРСКИЕ ИЗДЕЛИЯ        687\n",
       "БАКАЛЕЯ                       5\n",
       "ХЛЕБО-БУЛО                    1\n",
       "Name: name, dtype: int64"
      ]
     },
     "metadata": {},
     "output_type": "display_data"
    },
    {
     "name": "stdout",
     "output_type": "stream",
     "text": [
      "Покупки на ККТ №108407649460\n",
      "Место нахождения ['Хабаровский', 'Хабаровск']\n"
     ]
    },
    {
     "data": {
      "text/plain": [
       "Пакет-майка                          1930\n",
       "Шпик соленый по-летнему Алтай         949\n",
       "Молоко фермерское 1л.(бут)            889\n",
       "Яйцо куриное отборное Комсомольск     543\n",
       "Сельдь Олюторская с/с                 507\n",
       "Name: name, dtype: int64"
      ]
     },
     "metadata": {},
     "output_type": "display_data"
    },
    {
     "name": "stdout",
     "output_type": "stream",
     "text": [
      "Покупки на ККТ №108409952245\n",
      "Место нахождения ['Ставропольский', '0']\n"
     ]
    },
    {
     "data": {
      "text/plain": [
       "ПАРКОВКА    26270\n",
       "Name: name, dtype: int64"
      ]
     },
     "metadata": {},
     "output_type": "display_data"
    },
    {
     "name": "stdout",
     "output_type": "stream",
     "text": [
      "Покупки на ККТ №108403534046\n",
      "Место нахождения ['Забайкальский', 'Чита']\n"
     ]
    },
    {
     "data": {
      "text/plain": [
       "ТОВАР    26247\n",
       "Name: name, dtype: int64"
      ]
     },
     "metadata": {},
     "output_type": "display_data"
    },
    {
     "name": "stdout",
     "output_type": "stream",
     "text": [
      "Покупки на ККТ №108401729006\n",
      "Место нахождения ['Омская', 'Омск']\n"
     ]
    },
    {
     "data": {
      "text/plain": [
       "БАКАЛЕЯ                  5341\n",
       "МОЛОЧНЫЕ ПРОДУКТЫ        4915\n",
       "ХЛЕБОБУЛОЧНЫЕ ИЗДЕЛИЯ    4242\n",
       "МЯСНЫЕ ПРОДУКТЫ          3840\n",
       "БЫТОВАЯ ХИМИЯ            2865\n",
       "Name: name, dtype: int64"
      ]
     },
     "metadata": {},
     "output_type": "display_data"
    },
    {
     "name": "stdout",
     "output_type": "stream",
     "text": [
      "Покупки на ККТ №108201605085\n",
      "Место нахождения ['Краснодарский', 'Сочи']\n"
     ]
    },
    {
     "data": {
      "text/plain": [
       "ХЛЕБО-БУЛОЧНЫЕ ИЗДЕЛИЯ    23978\n",
       "МОЛОЧНЫЕ ИЗДЕЛИЯ            993\n",
       "Name: name, dtype: int64"
      ]
     },
     "metadata": {},
     "output_type": "display_data"
    }
   ],
   "source": [
    "for num in top_kkt_list: # цикл по номерам ККТ\n",
    "    print('Покупки на ККТ №{}'.format(num))\n",
    "    print('Место нахождения {}'.format(raw_data.query('kkt_sn == @num')[['region','city']].head(1).values.flatten().tolist()))\n",
    "    display(raw_data.query('kkt_sn == @num')['name'].value_counts().sort_values(ascending=False).head(5))    "
   ]
  },
  {
   "cell_type": "markdown",
   "id": "e6895e1d",
   "metadata": {},
   "source": [
    "По товарам можно предположить тип организации, где установлена ККТ. Например ККТ №108402869425 - скорее всего на хлебокомбинате, а ККТ №108409952245 - парковка. Несколько организаций либо супермаркеты, либо интернет магазины. Это можно уточнить продолжив анализ."
   ]
  },
  {
   "cell_type": "markdown",
   "id": "3ee7c5c6",
   "metadata": {},
   "source": [
    "#### Анализ зависимости типов оплаты от округа"
   ]
  },
  {
   "cell_type": "markdown",
   "id": "6d3c6137",
   "metadata": {},
   "source": [
    "Посмотрим, как распределены выды платежей по округам."
   ]
  },
  {
   "cell_type": "code",
   "execution_count": 47,
   "id": "c813facb",
   "metadata": {
    "scrolled": true
   },
   "outputs": [
    {
     "data": {
      "text/html": [
       "<div>\n",
       "<style scoped>\n",
       "    .dataframe tbody tr th:only-of-type {\n",
       "        vertical-align: middle;\n",
       "    }\n",
       "\n",
       "    .dataframe tbody tr th {\n",
       "        vertical-align: top;\n",
       "    }\n",
       "\n",
       "    .dataframe thead th {\n",
       "        text-align: right;\n",
       "    }\n",
       "</style>\n",
       "<table border=\"1\" class=\"dataframe\">\n",
       "  <thead>\n",
       "    <tr style=\"text-align: right;\">\n",
       "      <th></th>\n",
       "      <th>nal</th>\n",
       "      <th>electron</th>\n",
       "      <th>avans</th>\n",
       "      <th>credit</th>\n",
       "      <th>vstrechpredst</th>\n",
       "    </tr>\n",
       "    <tr>\n",
       "      <th>area</th>\n",
       "      <th></th>\n",
       "      <th></th>\n",
       "      <th></th>\n",
       "      <th></th>\n",
       "      <th></th>\n",
       "    </tr>\n",
       "  </thead>\n",
       "  <tbody>\n",
       "    <tr>\n",
       "      <th>ДАЛЬНЕВОСТОЧНЫЙ</th>\n",
       "      <td>741320</td>\n",
       "      <td>418258</td>\n",
       "      <td>1154</td>\n",
       "      <td>65</td>\n",
       "      <td>159</td>\n",
       "    </tr>\n",
       "    <tr>\n",
       "      <th>ПРИВОЛЖСКИЙ</th>\n",
       "      <td>1321290</td>\n",
       "      <td>414304</td>\n",
       "      <td>223</td>\n",
       "      <td>2526</td>\n",
       "      <td>147</td>\n",
       "    </tr>\n",
       "    <tr>\n",
       "      <th>СЕВЕРО-ЗАПАДНЫЙ</th>\n",
       "      <td>511354</td>\n",
       "      <td>251310</td>\n",
       "      <td>26</td>\n",
       "      <td>51</td>\n",
       "      <td>1166</td>\n",
       "    </tr>\n",
       "    <tr>\n",
       "      <th>СЕВЕРО-КАВКАЗСКИЙ</th>\n",
       "      <td>253860</td>\n",
       "      <td>45312</td>\n",
       "      <td>3</td>\n",
       "      <td>8</td>\n",
       "      <td>8</td>\n",
       "    </tr>\n",
       "    <tr>\n",
       "      <th>СИБИРСКИЙ</th>\n",
       "      <td>790256</td>\n",
       "      <td>258795</td>\n",
       "      <td>2288</td>\n",
       "      <td>105</td>\n",
       "      <td>77</td>\n",
       "    </tr>\n",
       "    <tr>\n",
       "      <th>УРАЛЬСКИЙ</th>\n",
       "      <td>961771</td>\n",
       "      <td>269721</td>\n",
       "      <td>2848</td>\n",
       "      <td>207</td>\n",
       "      <td>236</td>\n",
       "    </tr>\n",
       "    <tr>\n",
       "      <th>ЦЕНТРАЛЬНЫЙ</th>\n",
       "      <td>1498638</td>\n",
       "      <td>377255</td>\n",
       "      <td>112</td>\n",
       "      <td>244</td>\n",
       "      <td>168</td>\n",
       "    </tr>\n",
       "    <tr>\n",
       "      <th>ЮЖНЫЙ</th>\n",
       "      <td>1275992</td>\n",
       "      <td>194244</td>\n",
       "      <td>45</td>\n",
       "      <td>115</td>\n",
       "      <td>65</td>\n",
       "    </tr>\n",
       "  </tbody>\n",
       "</table>\n",
       "</div>"
      ],
      "text/plain": [
       "                       nal  electron  avans  credit  vstrechpredst\n",
       "area                                                              \n",
       "ДАЛЬНЕВОСТОЧНЫЙ     741320    418258   1154      65            159\n",
       "ПРИВОЛЖСКИЙ        1321290    414304    223    2526            147\n",
       "СЕВЕРО-ЗАПАДНЫЙ     511354    251310     26      51           1166\n",
       "СЕВЕРО-КАВКАЗСКИЙ   253860     45312      3       8              8\n",
       "СИБИРСКИЙ           790256    258795   2288     105             77\n",
       "УРАЛЬСКИЙ           961771    269721   2848     207            236\n",
       "ЦЕНТРАЛЬНЫЙ        1498638    377255    112     244            168\n",
       "ЮЖНЫЙ              1275992    194244     45     115             65"
      ]
     },
     "execution_count": 47,
     "metadata": {},
     "output_type": "execute_result"
    }
   ],
   "source": [
    "top_payments = (raw_data # агрегирование числа платежей по округам\n",
    "    .mask(raw_data == 0)\n",
    "    .groupby('area')[num_list[3:]]\n",
    "    .count()\n",
    ")                \n",
    "top_payments # вывод результата"
   ]
  },
  {
   "cell_type": "markdown",
   "id": "53afcf59",
   "metadata": {},
   "source": [
    "Доля \"экзотики\" - аванса, кредита, предрасчета - очень мала. Посмотрим на соотношение наличных и электронных платежей."
   ]
  },
  {
   "cell_type": "code",
   "execution_count": 48,
   "id": "fb371708",
   "metadata": {},
   "outputs": [
    {
     "data": {
      "text/html": [
       "<div>\n",
       "<style scoped>\n",
       "    .dataframe tbody tr th:only-of-type {\n",
       "        vertical-align: middle;\n",
       "    }\n",
       "\n",
       "    .dataframe tbody tr th {\n",
       "        vertical-align: top;\n",
       "    }\n",
       "\n",
       "    .dataframe thead th {\n",
       "        text-align: right;\n",
       "    }\n",
       "</style>\n",
       "<table border=\"1\" class=\"dataframe\">\n",
       "  <thead>\n",
       "    <tr style=\"text-align: right;\">\n",
       "      <th></th>\n",
       "      <th>nal</th>\n",
       "      <th>electron</th>\n",
       "    </tr>\n",
       "    <tr>\n",
       "      <th>area</th>\n",
       "      <th></th>\n",
       "      <th></th>\n",
       "    </tr>\n",
       "  </thead>\n",
       "  <tbody>\n",
       "    <tr>\n",
       "      <th>ДАЛЬНЕВОСТОЧНЫЙ</th>\n",
       "      <td>741320</td>\n",
       "      <td>418258</td>\n",
       "    </tr>\n",
       "    <tr>\n",
       "      <th>ПРИВОЛЖСКИЙ</th>\n",
       "      <td>1321290</td>\n",
       "      <td>414304</td>\n",
       "    </tr>\n",
       "    <tr>\n",
       "      <th>СЕВЕРО-ЗАПАДНЫЙ</th>\n",
       "      <td>511354</td>\n",
       "      <td>251310</td>\n",
       "    </tr>\n",
       "    <tr>\n",
       "      <th>СЕВЕРО-КАВКАЗСКИЙ</th>\n",
       "      <td>253860</td>\n",
       "      <td>45312</td>\n",
       "    </tr>\n",
       "    <tr>\n",
       "      <th>СИБИРСКИЙ</th>\n",
       "      <td>790256</td>\n",
       "      <td>258795</td>\n",
       "    </tr>\n",
       "    <tr>\n",
       "      <th>УРАЛЬСКИЙ</th>\n",
       "      <td>961771</td>\n",
       "      <td>269721</td>\n",
       "    </tr>\n",
       "    <tr>\n",
       "      <th>ЦЕНТРАЛЬНЫЙ</th>\n",
       "      <td>1498638</td>\n",
       "      <td>377255</td>\n",
       "    </tr>\n",
       "    <tr>\n",
       "      <th>ЮЖНЫЙ</th>\n",
       "      <td>1275992</td>\n",
       "      <td>194244</td>\n",
       "    </tr>\n",
       "  </tbody>\n",
       "</table>\n",
       "</div>"
      ],
      "text/plain": [
       "                       nal  electron\n",
       "area                                \n",
       "ДАЛЬНЕВОСТОЧНЫЙ     741320    418258\n",
       "ПРИВОЛЖСКИЙ        1321290    414304\n",
       "СЕВЕРО-ЗАПАДНЫЙ     511354    251310\n",
       "СЕВЕРО-КАВКАЗСКИЙ   253860     45312\n",
       "СИБИРСКИЙ           790256    258795\n",
       "УРАЛЬСКИЙ           961771    269721\n",
       "ЦЕНТРАЛЬНЫЙ        1498638    377255\n",
       "ЮЖНЫЙ              1275992    194244"
      ]
     },
     "execution_count": 48,
     "metadata": {},
     "output_type": "execute_result"
    }
   ],
   "source": [
    "top_payments = raw_data.mask(raw_data == 0).groupby('area')['nal','electron'].count() # агрегирование числа платежей по округам\n",
    "top_payments  # вывод результата"
   ]
  },
  {
   "cell_type": "markdown",
   "id": "3ba6360b",
   "metadata": {},
   "source": [
    "Построим графики соотношений."
   ]
  },
  {
   "cell_type": "code",
   "execution_count": 52,
   "id": "e9af13f8",
   "metadata": {},
   "outputs": [
    {
     "data": {
      "image/png": "[encoded data removed]",
      "text/plain": [
       "<Figure size 720x360 with 8 Axes>"
      ]
     },
     "metadata": {},
     "output_type": "display_data"
    }
   ],
   "source": [
    "fig, axs = plt.subplots(nrows=2, ncols=4, figsize=(10,5)) # построение графиков видов платежей по округам\n",
    "\n",
    "for i in range(2):\n",
    "    for j in range(4):\n",
    "        axs[i, j].pie(top_payments.iloc[i*4+j,], autopct='%1.1f%%')\n",
    "        axs[i, j].set_title(top_payments.index[i*4+j])\n",
    "fig.legend(['Наличные','Электронные'], loc='lower right')\n",
    "fig.suptitle('Соотношение наличных и электронных платежей по округам', fontsize=20)\n",
    "fig.show()"
   ]
  },
  {
   "cell_type": "markdown",
   "id": "c6101802",
   "metadata": {},
   "source": [
    "Лидеры по электронным платежам - Дальневосточный и Северо-Западный округа. Наличные наиболее распространены в Южном и Северо-Кавказском округе. Банкам имеет смысл заняться внедрением эквайринга именно в них."
   ]
  },
  {
   "cell_type": "markdown",
   "id": "58aef7bb",
   "metadata": {},
   "source": [
    "#### Распределение чеков по временным интервалам."
   ]
  },
  {
   "cell_type": "markdown",
   "id": "b1d15304",
   "metadata": {},
   "source": [
    "Посмотрим, как менялась пользовательская активность по дням недели. "
   ]
  },
  {
   "cell_type": "code",
   "execution_count": 53,
   "id": "d53dfe1b",
   "metadata": {},
   "outputs": [
    {
     "data": {
      "text/html": [
       "<div>\n",
       "<style scoped>\n",
       "    .dataframe tbody tr th:only-of-type {\n",
       "        vertical-align: middle;\n",
       "    }\n",
       "\n",
       "    .dataframe tbody tr th {\n",
       "        vertical-align: top;\n",
       "    }\n",
       "\n",
       "    .dataframe thead th {\n",
       "        text-align: right;\n",
       "    }\n",
       "</style>\n",
       "<table border=\"1\" class=\"dataframe\">\n",
       "  <thead>\n",
       "    <tr style=\"text-align: right;\">\n",
       "      <th></th>\n",
       "      <th>d_date</th>\n",
       "      <th>receiptid</th>\n",
       "      <th>cost</th>\n",
       "      <th>dow</th>\n",
       "    </tr>\n",
       "  </thead>\n",
       "  <tbody>\n",
       "    <tr>\n",
       "      <th>6062118</th>\n",
       "      <td>2018-07-24</td>\n",
       "      <td>78591594</td>\n",
       "      <td>50.0</td>\n",
       "      <td>1</td>\n",
       "    </tr>\n",
       "    <tr>\n",
       "      <th>3863683</th>\n",
       "      <td>2018-06-25</td>\n",
       "      <td>68173964</td>\n",
       "      <td>44.0</td>\n",
       "      <td>0</td>\n",
       "    </tr>\n",
       "    <tr>\n",
       "      <th>3326867</th>\n",
       "      <td>2018-07-18</td>\n",
       "      <td>76966080</td>\n",
       "      <td>7000.0</td>\n",
       "      <td>2</td>\n",
       "    </tr>\n",
       "    <tr>\n",
       "      <th>4886962</th>\n",
       "      <td>2018-06-20</td>\n",
       "      <td>66069423</td>\n",
       "      <td>48.0</td>\n",
       "      <td>2</td>\n",
       "    </tr>\n",
       "    <tr>\n",
       "      <th>5630490</th>\n",
       "      <td>2018-06-24</td>\n",
       "      <td>67759029</td>\n",
       "      <td>35.0</td>\n",
       "      <td>6</td>\n",
       "    </tr>\n",
       "  </tbody>\n",
       "</table>\n",
       "</div>"
      ],
      "text/plain": [
       "             d_date  receiptid    cost  dow\n",
       "6062118  2018-07-24   78591594    50.0    1\n",
       "3863683  2018-06-25   68173964    44.0    0\n",
       "3326867  2018-07-18   76966080  7000.0    2\n",
       "4886962  2018-06-20   66069423    48.0    2\n",
       "5630490  2018-06-24   67759029    35.0    6"
      ]
     },
     "execution_count": 53,
     "metadata": {},
     "output_type": "execute_result"
    }
   ],
   "source": [
    "date_purchases = raw_data[['d_date', 'receiptid','cost']] # создание таблицы с датами, номерами чеков и суммами\n",
    "date_purchases['dow']= pd.to_datetime(date_purchases['d_date']).dt.dayofweek # добавление столбца с днем недели\n",
    "date_purchases.sample(5) # вывод образца данных"
   ]
  },
  {
   "cell_type": "markdown",
   "id": "750fc518",
   "metadata": {},
   "source": [
    "Построим график среднего чека и числа чеков по дням недели."
   ]
  },
  {
   "cell_type": "code",
   "execution_count": 54,
   "id": "ce33420e",
   "metadata": {},
   "outputs": [
    {
     "data": {
      "image/png": "[encoded data removed]",
      "text/plain": [
       "<Figure size 576x360 with 2 Axes>"
      ]
     },
     "metadata": {
      "needs_background": "light"
     },
     "output_type": "display_data"
    }
   ],
   "source": [
    "ax = (date_purchases[['dow', 'cost', 'receiptid']]  # построение графиков среднего чека и число чеков по дням недели\n",
    "          .groupby('dow')\n",
    "          .agg({'cost':'mean','receiptid':'count'}\n",
    "      )\n",
    "    .plot( \n",
    "        kind='bar', \n",
    "        title='Средний чек и число чеков по дням недели', \n",
    "        secondary_y= 'receiptid',\n",
    "        grid=True,\n",
    "        figsize=(8, 5),\n",
    "        legend=False\n",
    "    )\n",
    ")\n",
    "ax.figure.legend(['Средний чек','Число чеков'], \n",
    "                 bbox_to_anchor=(0,1),loc=2, bbox_transform=ax.transAxes)\n",
    "ax.set_ylabel('Средний чек, руб.')\n",
    "ax.right_ax.set_ylabel('Число чеков')\n",
    "ax.set_xlabel('День недели')\n",
    "ax.set_xticklabels(['Пн','Вт','Ср','Чт','Пт','Сб','Вс'])\n",
    "ax.set_ylim(ymin=800)\n",
    "ax.right_ax.set_ylim(ymin=1e6)\n",
    "plt.show()"
   ]
  },
  {
   "cell_type": "markdown",
   "id": "87fc5425",
   "metadata": {},
   "source": [
    "Число продаж растет к середине недели и падает к пятнице. Самое большое число продаж в среду, а самое маленькое в воскресенье. При этом в воскресенье самый большой чек. Планируя маркетинговые акции можно стимулировать продажи в выходные, пытаться повысить сумму чека в пятницу и субботу."
   ]
  },
  {
   "cell_type": "markdown",
   "id": "fec76542",
   "metadata": {},
   "source": [
    "#### Анализ продаж конкретного продукта"
   ]
  },
  {
   "cell_type": "markdown",
   "id": "f8daf140",
   "metadata": {},
   "source": [
    "Посмотрим, как предоставленные данные дают возможность проанализировать продажи конкретного продукта."
   ]
  },
  {
   "cell_type": "markdown",
   "id": "9b38c133",
   "metadata": {},
   "source": [
    "Например, посмотрим все продажи кетчупа \"Махеев\"."
   ]
  },
  {
   "cell_type": "code",
   "execution_count": 55,
   "id": "88a0a479",
   "metadata": {},
   "outputs": [],
   "source": [
    "ketchup_sales = raw_data[raw_data['name'] # фильтрация по имени товара\n",
    "    .str.lower()\n",
    "    .str.contains(r'(?=.*ахеев)(?=.*чуп).*')\n",
    "]"
   ]
  },
  {
   "cell_type": "code",
   "execution_count": 56,
   "id": "33285954",
   "metadata": {},
   "outputs": [
    {
     "data": {
      "text/plain": [
       "кетчуп \"махеев\" шашлычный 500гр (10) сашет г.елабуга     27\n",
       "кетчуп \"махеев\" томатный 500гр (18) сашет г.елабуга      22\n",
       "кетчуп \"махеев\" шашлычный 260гр (30) сашет г.елабуга     20\n",
       "кетчуп \"махеев\" томатный 260гр (16) сашет г.елабуга      20\n",
       "кетчуп \"махеев\" лечо 500гр (10) сашет г.елабуга          17\n",
       "кетчуп \"махеев\" томатный 500гр (10) сашет г.елабуга      17\n",
       "кетчуп \"махеев\" в ассорт. 260гр                          13\n",
       "кетчуп \"махеев\" лечо 260гр (16) сашет г.елабуга           9\n",
       "кетчуп \"махеев\" шашлычный 260гр (16) сашет г.елабуга      7\n",
       "кетчуп \"махеев\" болгарский 500гр (10) сашет г.елабуга     5\n",
       "Name: name, dtype: int64"
      ]
     },
     "execution_count": 56,
     "metadata": {},
     "output_type": "execute_result"
    }
   ],
   "source": [
    "ketchup_sales['name'].str.lower().value_counts().head(10) # подсчет числа продаж"
   ]
  },
  {
   "cell_type": "markdown",
   "id": "e8b84fd7",
   "metadata": {},
   "source": [
    "Самые популярные сорта кетчупа \"Махеев\" - шашлычный и томатный. Самая популярная емкость - 500 гр."
   ]
  },
  {
   "cell_type": "markdown",
   "id": "c875ba98",
   "metadata": {},
   "source": [
    "### Общие выводы"
   ]
  },
  {
   "cell_type": "markdown",
   "id": "decff1be",
   "metadata": {},
   "source": [
    "1. Предоставленных данных достаточно для решения поставленных задач.\n",
    "2. Пропуски есть только в столбцах c геопривязкой, их число невелико. Для возможности анализа всего объема данных мы оставили пропуски без изменения.\n",
    "3. В заголовках столбцов были использованы заглавные буквы, пробелы, кириллические символы, это противоречит правилам наименования. Мы переименовали столбцы нарушающие правила.\n",
    "4. С целью экономии памяти и удобства анализа мы привели столбец 'd_date' к типу date, а столбцы 'amount', 'price', 'cost', 'nal', 'electron', 'avans', 'credit' к типу float.\n",
    "5. При конвертации произошло несколько десятков ошибок, что ничтожно по отношению к объему данных. Мы удалили строки с ошибками конверсии. Теперь все виды данных столбцов, за исключением геопривязки, приведены к оптимальным.\n",
    "6. В данных было продублировано 122703 строки. Учитывая большой объем идентифицирующих данных, скорее всего дублирование вызвано технической ошибкой. Мы удалили дубликаты.\n",
    "7. После обработки в датафрейме осталось 9877258 строк.\n",
    "8. Данные предоставлены за два месяца. С 1 июня по 1 августа 2018 года.\n",
    "9. При анализе столбца с названиями товара, мы установили, что во многих чеках в название товара включен номер, как правило это 4 цифры с ведущими нулями. Для удобства анализа мы перенесли эти цифры в отдельный столбец.\n",
    "10. В ходе обработки получена ошибка в 108425 строках. Скорее всего в этих чеках номер был не указан. Мы это учли и не отрезали номер в названиях, если поле 'name_number' содержит NaN.\n",
    "11. Мы обратили внимание, что среди популярных есть названия, содержащие самую общую информацию - например 'Товар'. Мы составили список таких названий и использовали его, чтобы устранить общие категории в подробном анализ названий.\n",
    "12. При анализе статистических характеристик числовых столбцов в столбце 'cost' найдены явно аномальные значения. Таких выбросов всего два, скорее всего это технические ошибки. Мы их удалили.\n",
    "13. Мы проанализировали содержимое столбца 'ammount' в связке с единицами измерения - 'unit'. Самая распространенная единица - штука. Она и порции, упаковки и т.п. должны измеряться целыми числами, что и подтвердило статистика столбца 'ammount'. При этом товары с не целым количеством измеряются как правило метрическими единицами. Мы обратили внимание, что часто единицы измерения, например 'штука' используется по ошибке, и указываются с дробным количеством, это следует учитывать при анализе.\n",
    "14. После устранения аномалий статистические характеристики выглядят правдоподобно. \n",
    "15. Проверка чеков на максимальные суммы показала, что чеки действительно на дорогие товары и суммы не являются аномалиями.\n",
    "16. В столбце 'region' представлено 86 значений. При этом ошибочное значение \"0\" встречается 263350 раз. Это довольно много, следует установить на какой стадии получения данных происходит такая ошибка. Мы решили проигнорировать это значение.\n",
    "17. Для предварительного анализа мы категоризовали регионы по федеральным округам.\n",
    "18. Для этого мы загрузили таблицу соответствий округов и регионов 'regions.csv' и объединили  с ней наши данные.\n",
    "19. Для каждого из округов нам удалось выделить 1-2  миллиона значений, что достаточно для предварительного анализа.\n",
    "20. Мы посмотрели, какие товары чаще всего продаются в округах. Самыми популярными товарами оказались продукты. Отчасти это связано с тем, что многие продавцы используют категории, например \"Продукты\", и в них попадает много различных товаров. Но и отдельные продукты - молоко, мясо, хлеб - попали в топ. Также часто популярным бывают табачные изделия и цветы. Отдельные курьезы, например популярность шпика в Дальневосточном округе, вызваны особенностями выборки.\n",
    "21. Мы проанализировали статистические характеристики ККТ в предоставленных данных, и установили, что в предоставленных данных есть сведения о 10665 ККТ. Медианное количество чеков на одну ККТ - 96 чеков за два месяца. Минимальное количество чеков за этот срок - 1, а максимальный - 60587 чеков.\n",
    "22. Проанализировав самые частые товары по самым загруженным кассам, мы смогли предположить тип организации, где установлена ККТ. Например ККТ №108402869425 - скорее всего на хлебокомбинате, там продаются только хлебные изделия, а ККТ №108409952245 - парковка, все опреации - оплата парковки. Подробный анализ может выявить больше деталей.\n",
    "23. Анализ зависимости типов оплаты от округа показал нам, как распределены виды платежей по округам. Доля \"экзотики\" - аванса, кредита, предрасчета - очень мала во всех округах. Мы посмотрели соотношение наличных и электронных платежей. Лидеры по электронным платежам - Дальневосточный и Северо-Западный округа. Наличные наиболее распространены в Южном и Северо-Кавказском округе. Банкам имеет смысл заняться внедрением эквайринга именно в них.\n",
    "25. Распределение чеков по дням недели показало нам, что число продаж растет к середине недели и падает к пятнице. Самое большое число продаж в среду, а самое маленькое в воскресенье. При этом в воскресенье самый большой чек. Планируя маркетинговые акции можно стимулировать продажи в выходные, пытаться повысить сумму чека в пятницу и субботу.\n",
    "25. Предоставленные данные дают возможность проанализировать и продажи конкретного продукта. Например, посмотрев все продажи кетчупа \"Махеев\", мы установили, что самые популярные сорта кетчупа \"Махеев\" - шашлычный и томатный. Самая популярная емкость - 500 гр.\n",
    "26. В целом предоставленная информация может служить источником для инсайтов по различным направлениям исследования. При увеличении объемов данных возможность получить более точные и разнообразные инсайты увеличится."
   ]
  }
 ],
 "metadata": {
  "kernelspec": {
   "display_name": "Python 3 (ipykernel)",
   "language": "python",
   "name": "python3"
  },
  "language_info": {
   "codemirror_mode": {
    "name": "ipython",
    "version": 3
   },
   "file_extension": ".py",
   "mimetype": "text/x-python",
   "name": "python",
   "nbconvert_exporter": "python",
   "pygments_lexer": "ipython3",
   "version": "3.10.2"
  },
  "toc": {
   "base_numbering": 1,
   "nav_menu": {},
   "number_sections": true,
   "sideBar": true,
   "skip_h1_title": true,
   "title_cell": "Содержание",
   "title_sidebar": "Содержание",
   "toc_cell": true,
   "toc_position": {},
   "toc_section_display": true,
   "toc_window_display": false
  }
 },
 "nbformat": 4,
 "nbformat_minor": 5
}
