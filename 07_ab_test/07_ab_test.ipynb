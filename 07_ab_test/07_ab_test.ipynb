{
 "cells": [
  {
   "cell_type": "markdown",
   "metadata": {},
   "source": [
    "<h1>Приоритизация и  A/B-тестирование гипотез для увеличения выручки</h1>"
   ]
  },
  {
   "cell_type": "markdown",
   "metadata": {
    "toc": true
   },
   "source": [
    "<h1>Table of Contents<span class=\"tocSkip\"></span></h1>\n",
    "<div class=\"toc\"><ul class=\"toc-item\"><li><ul class=\"toc-item\"><li><span><a href=\"#Описание-проекта\" data-toc-modified-id=\"Описание-проекта-0.1\"><span class=\"toc-item-num\">0.1&nbsp;&nbsp;</span>Описание проекта</a></span></li></ul></li><li><span><a href=\"#Часть-1.-Приоритизация-гипотез\" data-toc-modified-id=\"Часть-1.-Приоритизация-гипотез-1\"><span class=\"toc-item-num\">1&nbsp;&nbsp;</span>Часть 1. Приоритизация гипотез</a></span><ul class=\"toc-item\"><li><span><a href=\"#Загрузка-и-описание-данных\" data-toc-modified-id=\"Загрузка-и-описание-данных-1.1\"><span class=\"toc-item-num\">1.1&nbsp;&nbsp;</span>Загрузка и описание данных</a></span></li><li><span><a href=\"#Построение-тепловой-карты-гипотез\" data-toc-modified-id=\"Построение-тепловой-карты-гипотез-1.2\"><span class=\"toc-item-num\">1.2&nbsp;&nbsp;</span>Построение тепловой карты гипотез</a></span></li><li><span><a href=\"#Расчет-рангов-гипотез-по-фреймворкам-ICE-и-RICE.\" data-toc-modified-id=\"Расчет-рангов-гипотез-по-фреймворкам-ICE-и-RICE.-1.3\"><span class=\"toc-item-num\">1.3&nbsp;&nbsp;</span>Расчет рангов гипотез по фреймворкам ICE и RICE.</a></span></li><li><span><a href=\"#Вывод\" data-toc-modified-id=\"Вывод-1.4\"><span class=\"toc-item-num\">1.4&nbsp;&nbsp;</span>Вывод</a></span></li></ul></li><li><span><a href=\"#Часть-2.-Анализ-A/B-теста\" data-toc-modified-id=\"Часть-2.-Анализ-A/B-теста-2\"><span class=\"toc-item-num\">2&nbsp;&nbsp;</span>Часть 2. Анализ A/B-теста</a></span><ul class=\"toc-item\"><li><span><a href=\"#Загрузка-и-описание-данных\" data-toc-modified-id=\"Загрузка-и-описание-данных-2.1\"><span class=\"toc-item-num\">2.1&nbsp;&nbsp;</span>Загрузка и описание данных</a></span></li><li><span><a href=\"#Построение-таблицы-кумулятивных-данных\" data-toc-modified-id=\"Построение-таблицы-кумулятивных-данных-2.2\"><span class=\"toc-item-num\">2.2&nbsp;&nbsp;</span>Построение таблицы кумулятивных данных</a></span></li><li><span><a href=\"#Построение-графика-кумулятивной-выручки-по-группам.\" data-toc-modified-id=\"Построение-графика-кумулятивной-выручки-по-группам.-2.3\"><span class=\"toc-item-num\">2.3&nbsp;&nbsp;</span>Построение графика кумулятивной выручки по группам.</a></span></li><li><span><a href=\"#Построение-графика-кумулятивного-среднего-чека-по-группам\" data-toc-modified-id=\"Построение-графика-кумулятивного-среднего-чека-по-группам-2.4\"><span class=\"toc-item-num\">2.4&nbsp;&nbsp;</span>Построение графика кумулятивного среднего чека по группам</a></span></li><li><span><a href=\"#Построение-графика-относительного-изменения-кумулятивного-среднего-чека-группы-B-к-группе-A\" data-toc-modified-id=\"Построение-графика-относительного-изменения-кумулятивного-среднего-чека-группы-B-к-группе-A-2.5\"><span class=\"toc-item-num\">2.5&nbsp;&nbsp;</span>Построение графика относительного изменения кумулятивного среднего чека группы B к группе A</a></span></li><li><span><a href=\"#Построение-графика-кумулятивной-конверсии-по-группам\" data-toc-modified-id=\"Построение-графика-кумулятивной-конверсии-по-группам-2.6\"><span class=\"toc-item-num\">2.6&nbsp;&nbsp;</span>Построение графика кумулятивной конверсии по группам</a></span></li><li><span><a href=\"#Построение-графика-относительного-изменения-кумулятивной-конверсии-группы-B-к-группе-A\" data-toc-modified-id=\"Построение-графика-относительного-изменения-кумулятивной-конверсии-группы-B-к-группе-A-2.7\"><span class=\"toc-item-num\">2.7&nbsp;&nbsp;</span>Построение графика относительного изменения кумулятивной конверсии группы B к группе A</a></span></li><li><span><a href=\"#Построение-точечного-графика-количества-заказов-по-пользователям\" data-toc-modified-id=\"Построение-точечного-графика-количества-заказов-по-пользователям-2.8\"><span class=\"toc-item-num\">2.8&nbsp;&nbsp;</span>Построение точечного графика количества заказов по пользователям</a></span></li><li><span><a href=\"#Подсчет-перцентилей-количества-заказов-на-пользователя\" data-toc-modified-id=\"Подсчет-перцентилей-количества-заказов-на-пользователя-2.9\"><span class=\"toc-item-num\">2.9&nbsp;&nbsp;</span>Подсчет перцентилей количества заказов на пользователя</a></span></li><li><span><a href=\"#Построение-точечного-графика-стоимостей-заказов\" data-toc-modified-id=\"Построение-точечного-графика-стоимостей-заказов-2.10\"><span class=\"toc-item-num\">2.10&nbsp;&nbsp;</span>Построение точечного графика стоимостей заказов</a></span></li><li><span><a href=\"#Подсчет-перцентилей-стоимости-заказов\" data-toc-modified-id=\"Подсчет-перцентилей-стоимости-заказов-2.11\"><span class=\"toc-item-num\">2.11&nbsp;&nbsp;</span>Подсчет перцентилей стоимости заказов</a></span></li><li><span><a href=\"#Расчет-статистической-значимости-различий-в-конверсии-между-группами-по-«сырым»-данным\" data-toc-modified-id=\"Расчет-статистической-значимости-различий-в-конверсии-между-группами-по-«сырым»-данным-2.12\"><span class=\"toc-item-num\">2.12&nbsp;&nbsp;</span>Расчет статистической значимости различий в конверсии между группами по «сырым» данным</a></span></li><li><span><a href=\"#Расчет-статистической-значимости-различий-в-среднем-чеке-заказа-между-группами-по-«сырым»-данным\" data-toc-modified-id=\"Расчет-статистической-значимости-различий-в-среднем-чеке-заказа-между-группами-по-«сырым»-данным-2.13\"><span class=\"toc-item-num\">2.13&nbsp;&nbsp;</span>Расчет статистической значимости различий в среднем чеке заказа между группами по «сырым» данным</a></span></li><li><span><a href=\"#Составление-списка-«аномальных»-пользователей\" data-toc-modified-id=\"Составление-списка-«аномальных»-пользователей-2.14\"><span class=\"toc-item-num\">2.14&nbsp;&nbsp;</span>Составление списка «аномальных» пользователей</a></span></li><li><span><a href=\"#Расчет-статистической-значимости-различий-в-конверсии-между-группами-по-«очищенным»-данным\" data-toc-modified-id=\"Расчет-статистической-значимости-различий-в-конверсии-между-группами-по-«очищенным»-данным-2.15\"><span class=\"toc-item-num\">2.15&nbsp;&nbsp;</span>Расчет статистической значимости различий в конверсии между группами по «очищенным» данным</a></span></li><li><span><a href=\"#Расчет-статистической-значимости-различий-в-среднем-чеке-заказа-между-группами-по-«очищенным»-данным\" data-toc-modified-id=\"Расчет-статистической-значимости-различий-в-среднем-чеке-заказа-между-группами-по-«очищенным»-данным-2.16\"><span class=\"toc-item-num\">2.16&nbsp;&nbsp;</span>Расчет статистической значимости различий в среднем чеке заказа между группами по «очищенным» данным</a></span></li><li><span><a href=\"#Построение-таблицы-кумулятивных-данных-на-очищенных-данных\" data-toc-modified-id=\"Построение-таблицы-кумулятивных-данных-на-очищенных-данных-2.17\"><span class=\"toc-item-num\">2.17&nbsp;&nbsp;</span>Построение таблицы кумулятивных данных на очищенных данных</a></span></li><li><span><a href=\"#Построение-графика-кумулятивной-выручки-по-группам\" data-toc-modified-id=\"Построение-графика-кумулятивной-выручки-по-группам-2.18\"><span class=\"toc-item-num\">2.18&nbsp;&nbsp;</span>Построение графика кумулятивной выручки по группам</a></span></li><li><span><a href=\"#Построение-графика-кумулятивного-среднего-чека-по-группам\" data-toc-modified-id=\"Построение-графика-кумулятивного-среднего-чека-по-группам-2.19\"><span class=\"toc-item-num\">2.19&nbsp;&nbsp;</span>Построение графика кумулятивного среднего чека по группам</a></span></li><li><span><a href=\"#Построение-графика-относительного-изменения-кумулятивного-среднего-чека-группы-B-к-группе-A\" data-toc-modified-id=\"Построение-графика-относительного-изменения-кумулятивного-среднего-чека-группы-B-к-группе-A-2.20\"><span class=\"toc-item-num\">2.20&nbsp;&nbsp;</span>Построение графика относительного изменения кумулятивного среднего чека группы B к группе A</a></span></li><li><span><a href=\"#Вывод\" data-toc-modified-id=\"Вывод-2.21\"><span class=\"toc-item-num\">2.21&nbsp;&nbsp;</span>Вывод</a></span></li></ul></li></ul></div>"
   ]
  },
  {
   "cell_type": "markdown",
   "metadata": {},
   "source": [
    "### Описание проекта"
   ]
  },
  {
   "cell_type": "markdown",
   "metadata": {},
   "source": [
    "**Описание проекта:**\n",
    "\n",
    "\"МастСпортер\" - крупный интернет магазин спортивных товаров.\n",
    "Совместно с отделом маркетинга подготовлен список гипотез для увеличения выручки.\n",
    "\n",
    "**Задача проекта:**\n",
    "Приоритизировать гипотезы, запустить A/B-тест и проанализировать результаты.\n",
    "По результатам теста выбрать решение: \n",
    "1. Остановить тест, зафиксировать победу одной из групп. \n",
    "2. Остановить тест, зафиксировать отсутствие различий между группами. \n",
    "3. Продолжить тест."
   ]
  },
  {
   "cell_type": "code",
   "execution_count": 1,
   "metadata": {},
   "outputs": [],
   "source": [
    "import pandas as pd # импорт библиотеки pandas\n",
    "import numpy as np  # импорт библиотеки numpy\n",
    "from scipy import stats as st # импорт модуля scipy.stats из библиотеки scipy\n",
    "import warnings # импорт библиотеки warnings\n",
    "import matplotlib.pyplot as plt # импорт библиотеки mathplotlib\n",
    "import seaborn as sns # импорт библиотеки seaborn"
   ]
  },
  {
   "cell_type": "code",
   "execution_count": 2,
   "metadata": {},
   "outputs": [],
   "source": [
    "warnings.filterwarnings('ignore') # отключение уведомлений о предупреждениях"
   ]
  },
  {
   "cell_type": "markdown",
   "metadata": {},
   "source": [
    "## Часть 1. Приоритизация гипотез"
   ]
  },
  {
   "cell_type": "markdown",
   "metadata": {},
   "source": [
    "### Загрузка и описание данных"
   ]
  },
  {
   "cell_type": "markdown",
   "metadata": {},
   "source": [
    "Загрузим данные из файла и посмотрим их."
   ]
  },
  {
   "cell_type": "code",
   "execution_count": 3,
   "metadata": {},
   "outputs": [
    {
     "data": {
      "text/html": [
       "<div>\n",
       "<style scoped>\n",
       "    .dataframe tbody tr th:only-of-type {\n",
       "        vertical-align: middle;\n",
       "    }\n",
       "\n",
       "    .dataframe tbody tr th {\n",
       "        vertical-align: top;\n",
       "    }\n",
       "\n",
       "    .dataframe thead th {\n",
       "        text-align: right;\n",
       "    }\n",
       "</style>\n",
       "<table border=\"1\" class=\"dataframe\">\n",
       "  <thead>\n",
       "    <tr style=\"text-align: right;\">\n",
       "      <th></th>\n",
       "      <th>Hypothesis</th>\n",
       "      <th>Reach</th>\n",
       "      <th>Impact</th>\n",
       "      <th>Confidence</th>\n",
       "      <th>Efforts</th>\n",
       "    </tr>\n",
       "  </thead>\n",
       "  <tbody>\n",
       "    <tr>\n",
       "      <th>0</th>\n",
       "      <td>Добавить два новых канала привлечения трафика,...</td>\n",
       "      <td>3</td>\n",
       "      <td>10</td>\n",
       "      <td>8</td>\n",
       "      <td>6</td>\n",
       "    </tr>\n",
       "    <tr>\n",
       "      <th>1</th>\n",
       "      <td>Запустить собственную службу доставки, что сок...</td>\n",
       "      <td>2</td>\n",
       "      <td>5</td>\n",
       "      <td>4</td>\n",
       "      <td>10</td>\n",
       "    </tr>\n",
       "    <tr>\n",
       "      <th>2</th>\n",
       "      <td>Добавить блоки рекомендаций товаров на сайт ин...</td>\n",
       "      <td>8</td>\n",
       "      <td>3</td>\n",
       "      <td>7</td>\n",
       "      <td>3</td>\n",
       "    </tr>\n",
       "    <tr>\n",
       "      <th>3</th>\n",
       "      <td>Изменить структура категорий, что увеличит кон...</td>\n",
       "      <td>8</td>\n",
       "      <td>3</td>\n",
       "      <td>3</td>\n",
       "      <td>8</td>\n",
       "    </tr>\n",
       "    <tr>\n",
       "      <th>4</th>\n",
       "      <td>Изменить цвет фона главной страницы, чтобы уве...</td>\n",
       "      <td>3</td>\n",
       "      <td>1</td>\n",
       "      <td>1</td>\n",
       "      <td>1</td>\n",
       "    </tr>\n",
       "    <tr>\n",
       "      <th>5</th>\n",
       "      <td>Добавить страницу отзывов клиентов о магазине,...</td>\n",
       "      <td>3</td>\n",
       "      <td>2</td>\n",
       "      <td>2</td>\n",
       "      <td>3</td>\n",
       "    </tr>\n",
       "    <tr>\n",
       "      <th>6</th>\n",
       "      <td>Показать на главной странице баннеры с актуаль...</td>\n",
       "      <td>5</td>\n",
       "      <td>3</td>\n",
       "      <td>8</td>\n",
       "      <td>3</td>\n",
       "    </tr>\n",
       "    <tr>\n",
       "      <th>7</th>\n",
       "      <td>Добавить форму подписки на все основные страни...</td>\n",
       "      <td>10</td>\n",
       "      <td>7</td>\n",
       "      <td>8</td>\n",
       "      <td>5</td>\n",
       "    </tr>\n",
       "    <tr>\n",
       "      <th>8</th>\n",
       "      <td>Запустить акцию, дающую скидку на товар в день...</td>\n",
       "      <td>1</td>\n",
       "      <td>9</td>\n",
       "      <td>9</td>\n",
       "      <td>5</td>\n",
       "    </tr>\n",
       "  </tbody>\n",
       "</table>\n",
       "</div>"
      ],
      "text/plain": [
       "                                          Hypothesis  Reach  Impact  \\\n",
       "0  Добавить два новых канала привлечения трафика,...      3      10   \n",
       "1  Запустить собственную службу доставки, что сок...      2       5   \n",
       "2  Добавить блоки рекомендаций товаров на сайт ин...      8       3   \n",
       "3  Изменить структура категорий, что увеличит кон...      8       3   \n",
       "4  Изменить цвет фона главной страницы, чтобы уве...      3       1   \n",
       "5  Добавить страницу отзывов клиентов о магазине,...      3       2   \n",
       "6  Показать на главной странице баннеры с актуаль...      5       3   \n",
       "7  Добавить форму подписки на все основные страни...     10       7   \n",
       "8  Запустить акцию, дающую скидку на товар в день...      1       9   \n",
       "\n",
       "   Confidence  Efforts  \n",
       "0           8        6  \n",
       "1           4       10  \n",
       "2           7        3  \n",
       "3           3        8  \n",
       "4           1        1  \n",
       "5           2        3  \n",
       "6           8        3  \n",
       "7           8        5  \n",
       "8           9        5  "
      ]
     },
     "execution_count": 3,
     "metadata": {},
     "output_type": "execute_result"
    }
   ],
   "source": [
    "hypothesis = pd.read_csv('/datasets/hypothesis.csv') # чтение данных из csv файла\n",
    "hypothesis"
   ]
  },
  {
   "cell_type": "markdown",
   "metadata": {},
   "source": [
    "Описание данных:\n",
    "* Hypothesis — краткое описание гипотезы;\n",
    "* Reach — охват пользователей по 10-балльной шкале;\n",
    "* Impact — влияние на пользователей по 10-балльной шкале;\n",
    "* Confidence — уверенность в гипотезе по 10-балльной шкале;\n",
    "* Efforts — затраты ресурсов на проверку гипотезы по 10-балльной шкале. Чем больше значение Efforts, тем дороже проверка гипотезы."
   ]
  },
  {
   "cell_type": "markdown",
   "metadata": {},
   "source": [
    "### Построение тепловой карты гипотез "
   ]
  },
  {
   "cell_type": "markdown",
   "metadata": {},
   "source": [
    "Для начальной оценки гипотез построим тепловую карту оценок. Поскольку параметр `Efforts` вносит обратно пропорциональный вклад в общую оценку, инвертируем его окраску."
   ]
  },
  {
   "cell_type": "code",
   "execution_count": 4,
   "metadata": {},
   "outputs": [],
   "source": [
    "hypothesisPlot = hypothesis.set_index('Hypothesis') # делаем индексом названия гипотез\n",
    "hypothesisPlot['Efforts'] = abs(10 - hypothesisPlot['Efforts']) # инвертируем значения 'Efforts']"
   ]
  },
  {
   "cell_type": "code",
   "execution_count": 5,
   "metadata": {
    "scrolled": true
   },
   "outputs": [
    {
     "data": {
      "image/png": "[encoded data removed]",
      "text/plain": [
       "<Figure size 432x288 with 2 Axes>"
      ]
     },
     "metadata": {
      "needs_background": "light"
     },
     "output_type": "display_data"
    }
   ],
   "source": [
    "sns.heatmap(hypothesisPlot, annot=hypothesis.set_index('Hypothesis')) # строим тепловую карту\n",
    "plt.show()"
   ]
  },
  {
   "cell_type": "markdown",
   "metadata": {},
   "source": [
    "Визуально перспективными выглядят гипотезы 'Добавить блоки рекомендаций товаров на сайт интернет магазина, чтобы повысить конверсию и средний чек заказа' и 'Добавить форму подписки на все основные страницы, чтобы собрать базу клиентов для email-рассылок'."
   ]
  },
  {
   "cell_type": "markdown",
   "metadata": {},
   "source": [
    "Определим функцию для расчета фреймворков ICE и RICE."
   ]
  },
  {
   "cell_type": "code",
   "execution_count": 6,
   "metadata": {},
   "outputs": [],
   "source": [
    "def ice_rice (reach, impact, confidence, efforts, function):\n",
    "    \n",
    "    '''\n",
    "    Возвращает ранг по фреймворкам ICE и RICE.\n",
    "    Параметры:\n",
    "    reach — охват пользователей по 10-балльной шкале;\n",
    "    impact — влияние на пользователей по 10-балльной шкале;\n",
    "    confidence — уверенность в гипотезе по 10-балльной шкале;\n",
    "    efforts — затраты ресурсов на проверку гипотезы по 10-балльной шкале;\n",
    "    function - тип фреймворка 'ice' для ICE и 'rice' для RICE.\n",
    "    '''    \n",
    "    \n",
    "    if function == 'ice':\n",
    "        return (impact * confidence) / efforts\n",
    "    elif function == 'rice':\n",
    "        return (reach * impact * confidence) / efforts \n",
    "    else:\n",
    "        raise ValueError('Wrong function name!')"
   ]
  },
  {
   "cell_type": "markdown",
   "metadata": {},
   "source": [
    "### Расчет рангов гипотез по фреймворкам ICE и RICE."
   ]
  },
  {
   "cell_type": "markdown",
   "metadata": {},
   "source": [
    "Рассчитаем ранги гипотез по фреймворкам ICE и RICE."
   ]
  },
  {
   "cell_type": "code",
   "execution_count": 7,
   "metadata": {},
   "outputs": [
    {
     "data": {
      "text/html": [
       "<div>\n",
       "<style scoped>\n",
       "    .dataframe tbody tr th:only-of-type {\n",
       "        vertical-align: middle;\n",
       "    }\n",
       "\n",
       "    .dataframe tbody tr th {\n",
       "        vertical-align: top;\n",
       "    }\n",
       "\n",
       "    .dataframe thead th {\n",
       "        text-align: right;\n",
       "    }\n",
       "</style>\n",
       "<table border=\"1\" class=\"dataframe\">\n",
       "  <thead>\n",
       "    <tr style=\"text-align: right;\">\n",
       "      <th></th>\n",
       "      <th>Hypothesis_RICE</th>\n",
       "      <th>RICE</th>\n",
       "      <th>Hypothesis_ICE</th>\n",
       "      <th>ICE</th>\n",
       "    </tr>\n",
       "  </thead>\n",
       "  <tbody>\n",
       "    <tr>\n",
       "      <th>0</th>\n",
       "      <td>Добавить форму подписки на все основные страни...</td>\n",
       "      <td>112.0</td>\n",
       "      <td>Запустить акцию, дающую скидку на товар в день...</td>\n",
       "      <td>16.200000</td>\n",
       "    </tr>\n",
       "    <tr>\n",
       "      <th>1</th>\n",
       "      <td>Добавить блоки рекомендаций товаров на сайт ин...</td>\n",
       "      <td>56.0</td>\n",
       "      <td>Добавить два новых канала привлечения трафика,...</td>\n",
       "      <td>13.333333</td>\n",
       "    </tr>\n",
       "    <tr>\n",
       "      <th>2</th>\n",
       "      <td>Добавить два новых канала привлечения трафика,...</td>\n",
       "      <td>40.0</td>\n",
       "      <td>Добавить форму подписки на все основные страни...</td>\n",
       "      <td>11.200000</td>\n",
       "    </tr>\n",
       "    <tr>\n",
       "      <th>3</th>\n",
       "      <td>Показать на главной странице баннеры с актуаль...</td>\n",
       "      <td>40.0</td>\n",
       "      <td>Показать на главной странице баннеры с актуаль...</td>\n",
       "      <td>8.000000</td>\n",
       "    </tr>\n",
       "    <tr>\n",
       "      <th>4</th>\n",
       "      <td>Запустить акцию, дающую скидку на товар в день...</td>\n",
       "      <td>16.2</td>\n",
       "      <td>Добавить блоки рекомендаций товаров на сайт ин...</td>\n",
       "      <td>7.000000</td>\n",
       "    </tr>\n",
       "    <tr>\n",
       "      <th>5</th>\n",
       "      <td>Изменить структура категорий, что увеличит кон...</td>\n",
       "      <td>9.0</td>\n",
       "      <td>Запустить собственную службу доставки, что сок...</td>\n",
       "      <td>2.000000</td>\n",
       "    </tr>\n",
       "    <tr>\n",
       "      <th>6</th>\n",
       "      <td>Запустить собственную службу доставки, что сок...</td>\n",
       "      <td>4.0</td>\n",
       "      <td>Добавить страницу отзывов клиентов о магазине,...</td>\n",
       "      <td>1.333333</td>\n",
       "    </tr>\n",
       "    <tr>\n",
       "      <th>7</th>\n",
       "      <td>Добавить страницу отзывов клиентов о магазине,...</td>\n",
       "      <td>4.0</td>\n",
       "      <td>Изменить структура категорий, что увеличит кон...</td>\n",
       "      <td>1.125000</td>\n",
       "    </tr>\n",
       "    <tr>\n",
       "      <th>8</th>\n",
       "      <td>Изменить цвет фона главной страницы, чтобы уве...</td>\n",
       "      <td>3.0</td>\n",
       "      <td>Изменить цвет фона главной страницы, чтобы уве...</td>\n",
       "      <td>1.000000</td>\n",
       "    </tr>\n",
       "  </tbody>\n",
       "</table>\n",
       "</div>"
      ],
      "text/plain": [
       "                                     Hypothesis_RICE   RICE  \\\n",
       "0  Добавить форму подписки на все основные страни...  112.0   \n",
       "1  Добавить блоки рекомендаций товаров на сайт ин...   56.0   \n",
       "2  Добавить два новых канала привлечения трафика,...   40.0   \n",
       "3  Показать на главной странице баннеры с актуаль...   40.0   \n",
       "4  Запустить акцию, дающую скидку на товар в день...   16.2   \n",
       "5  Изменить структура категорий, что увеличит кон...    9.0   \n",
       "6  Запустить собственную службу доставки, что сок...    4.0   \n",
       "7  Добавить страницу отзывов клиентов о магазине,...    4.0   \n",
       "8  Изменить цвет фона главной страницы, чтобы уве...    3.0   \n",
       "\n",
       "                                      Hypothesis_ICE        ICE  \n",
       "0  Запустить акцию, дающую скидку на товар в день...  16.200000  \n",
       "1  Добавить два новых канала привлечения трафика,...  13.333333  \n",
       "2  Добавить форму подписки на все основные страни...  11.200000  \n",
       "3  Показать на главной странице баннеры с актуаль...   8.000000  \n",
       "4  Добавить блоки рекомендаций товаров на сайт ин...   7.000000  \n",
       "5  Запустить собственную службу доставки, что сок...   2.000000  \n",
       "6  Добавить страницу отзывов клиентов о магазине,...   1.333333  \n",
       "7  Изменить структура категорий, что увеличит кон...   1.125000  \n",
       "8  Изменить цвет фона главной страницы, чтобы уве...   1.000000  "
      ]
     },
     "execution_count": 7,
     "metadata": {},
     "output_type": "execute_result"
    }
   ],
   "source": [
    "hypothesis['ICE'] = (hypothesis # применим функцию к оценкам гипотез\n",
    "    .apply(lambda x: ice_rice(x['Reach'], x['Impact'], x['Confidence'], x['Efforts'], 'ice'),axis=1)\n",
    ")\n",
    "hypothesis['RICE'] = hypothesis.apply(lambda x: ice_rice(x['Reach'], x['Impact'], x['Confidence'], x['Efforts'], 'rice'),axis=1)\n",
    "\n",
    "(hypothesis[['Hypothesis', 'RICE']] # построим таблицу со значениями обоих фреймворков и отсортируем по ним\n",
    "     .sort_values('RICE', ascending=False)\n",
    "     .reset_index(drop=True)\n",
    "     .join(hypothesis[['Hypothesis', 'ICE']]\n",
    "           .sort_values('ICE', ascending=False)\n",
    "           .reset_index(drop=True), lsuffix='_RICE', rsuffix='_ICE'\n",
    "      )\n",
    ")"
   ]
  },
  {
   "cell_type": "code",
   "execution_count": 8,
   "metadata": {},
   "outputs": [
    {
     "data": {
      "image/png": "[encoded data removed]",
      "text/plain": [
       "<Figure size 432x288 with 1 Axes>"
      ]
     },
     "metadata": {
      "needs_background": "light"
     },
     "output_type": "display_data"
    }
   ],
   "source": [
    "ax = (hypothesis # построим график значений обоих фреймворков \n",
    "    .set_index('Hypothesis')[['RICE', 'ICE']]\n",
    "    .sort_values(['RICE', 'ICE'])\n",
    "    .plot(kind='barh', width=0.4, grid=True)\n",
    ")\n",
    "plt.show()"
   ]
  },
  {
   "cell_type": "markdown",
   "metadata": {},
   "source": [
    "По фреймворку ICE самые перспективные гипотезы: 'Запустить акцию, дающую скидку на товар в день рождения' и 'Добавить два новых канала привлечения трафика'. А по фреймворку RICE самые перспективные гипотезы: 'Добавить блоки рекомендаций товаров на сайт интернет магазина, чтобы повысить конверсию и средний чек заказа' и 'Добавить форму подписки на все основные страницы, чтобы собрать базу клиентов для email-рассылок'."
   ]
  },
  {
   "cell_type": "markdown",
   "metadata": {},
   "source": [
    "Отличие в результатах вызвано тем, фреймворк RICE различает влияние и охват, тогда как в модели ICE обе концепции смешиваются. Поэтому ранг RICE дает возможность провести различие между функцией, которая может оказать большое влияние на небольшую аудиторию, и функцией, которая может оказать большое влияние на большую аудиторию."
   ]
  },
  {
   "cell_type": "markdown",
   "metadata": {},
   "source": [
    "Учитывая, что мы уже располагаем информацией, позволяющей применить нам фреймворк RICE, воспользуемся его оценкой и выберем для A/B-теста получившую по нему наивысший ранг гипотезу **'Добавить форму подписки на все основные страницы, чтобы собрать базу клиентов для email-рассылок'**."
   ]
  },
  {
   "cell_type": "markdown",
   "metadata": {},
   "source": [
    "### Вывод"
   ]
  },
  {
   "cell_type": "markdown",
   "metadata": {},
   "source": [
    "1. Для приоритизации был предоставлен список гипотез для увеличения выручки.\n",
    "2. Список содержал 9 гипотез с оценками о 10-балльной шкале параметров охвата пользователей, влияния на пользователей, уверенности в гипотезе и затрат ресурсов на проверку гипотезы.\n",
    "3. По визуальной оценке тепловой карты параметров перспективными были сочтены гипотезы \"Добавить блоки рекомендаций товаров на сайт интернет магазина, чтобы повысить конверсию и средний чек заказа\" и \"Добавить форму подписки на все основные страницы, чтобы собрать базу клиентов для email-рассылок\".\n",
    "4. Для удобства расчета мы определили функцию для расчета фреймворков ICE и RICE.\n",
    "5. По фреймворку ICE самыми перспективными гипотезами оказались: \"Запустить акцию, дающую скидку на товар в день рождения\" и \"Добавить два новых канала привлечения трафика\". \n",
    "6. По фреймворку RICE самыми перспективными гипотезами оказались: \"Добавить блоки рекомендаций товаров на сайт интернет магазина, чтобы повысить конверсию и средний чек заказа\" и \"Добавить форму подписки на все основные страницы, чтобы собрать базу клиентов для email-рассылок\".\n",
    "7. Отличие в результатах вызвано тем, фреймворк RICE различает влияние и охват, тогда как в модели ICE обе концепции смешиваются. Поэтому ранг RICE дает возможность провести различие между функцией, которая может оказать большое влияние на небольшую аудиторию, и функцией, которая может оказать большое влияние на большую аудиторию.\n",
    "8. Учитывая, что мы уже располагаем информацией, позволяющей применить нам фреймворк RICE, мы воспользовались его оценкой и выберали для A/B-теста получившую по нему наивысший ранг гипотезу **\"Добавить форму подписки на все основные страницы, чтобы собрать базу клиентов для email-рассылок\"**."
   ]
  },
  {
   "cell_type": "markdown",
   "metadata": {},
   "source": [
    "## Часть 2. Анализ A/B-теста"
   ]
  },
  {
   "cell_type": "markdown",
   "metadata": {},
   "source": [
    "A/B-тест проводился в течении месяца, с 1 августа по 31 августа 2019 года."
   ]
  },
  {
   "cell_type": "markdown",
   "metadata": {},
   "source": [
    "Результаты были предоставлены в виде двух файлов `orders.csv` и `visitors.csv`. "
   ]
  },
  {
   "cell_type": "markdown",
   "metadata": {},
   "source": [
    "### Загрузка и описание данных"
   ]
  },
  {
   "cell_type": "markdown",
   "metadata": {},
   "source": [
    "Загрузим предоставленные файлы."
   ]
  },
  {
   "cell_type": "code",
   "execution_count": 9,
   "metadata": {},
   "outputs": [],
   "source": [
    "orders = pd.read_csv('/datasets/orders.csv') # чтение данных из csv файла\n",
    "visitors = pd.read_csv('/datasets/visitors.csv') "
   ]
  },
  {
   "cell_type": "code",
   "execution_count": 10,
   "metadata": {},
   "outputs": [
    {
     "name": "stdout",
     "output_type": "stream",
     "text": [
      "<class 'pandas.core.frame.DataFrame'>\n",
      "RangeIndex: 62 entries, 0 to 61\n",
      "Data columns (total 3 columns):\n",
      " #   Column    Non-Null Count  Dtype \n",
      "---  ------    --------------  ----- \n",
      " 0   date      62 non-null     object\n",
      " 1   group     62 non-null     object\n",
      " 2   visitors  62 non-null     int64 \n",
      "dtypes: int64(1), object(2)\n",
      "memory usage: 1.6+ KB\n"
     ]
    },
    {
     "data": {
      "text/plain": [
       "None"
      ]
     },
     "metadata": {},
     "output_type": "display_data"
    },
    {
     "name": "stdout",
     "output_type": "stream",
     "text": [
      "<class 'pandas.core.frame.DataFrame'>\n",
      "RangeIndex: 1197 entries, 0 to 1196\n",
      "Data columns (total 5 columns):\n",
      " #   Column         Non-Null Count  Dtype \n",
      "---  ------         --------------  ----- \n",
      " 0   transactionId  1197 non-null   int64 \n",
      " 1   visitorId      1197 non-null   int64 \n",
      " 2   date           1197 non-null   object\n",
      " 3   revenue        1197 non-null   int64 \n",
      " 4   group          1197 non-null   object\n",
      "dtypes: int64(3), object(2)\n",
      "memory usage: 46.9+ KB\n"
     ]
    },
    {
     "data": {
      "text/plain": [
       "None"
      ]
     },
     "metadata": {},
     "output_type": "display_data"
    }
   ],
   "source": [
    "display(visitors.info()) # просмотр информации о таблицах\n",
    "display(orders.info())"
   ]
  },
  {
   "cell_type": "code",
   "execution_count": 11,
   "metadata": {
    "scrolled": true
   },
   "outputs": [
    {
     "data": {
      "text/html": [
       "<div>\n",
       "<style scoped>\n",
       "    .dataframe tbody tr th:only-of-type {\n",
       "        vertical-align: middle;\n",
       "    }\n",
       "\n",
       "    .dataframe tbody tr th {\n",
       "        vertical-align: top;\n",
       "    }\n",
       "\n",
       "    .dataframe thead th {\n",
       "        text-align: right;\n",
       "    }\n",
       "</style>\n",
       "<table border=\"1\" class=\"dataframe\">\n",
       "  <thead>\n",
       "    <tr style=\"text-align: right;\">\n",
       "      <th></th>\n",
       "      <th>date</th>\n",
       "      <th>group</th>\n",
       "      <th>visitors</th>\n",
       "    </tr>\n",
       "  </thead>\n",
       "  <tbody>\n",
       "    <tr>\n",
       "      <th>21</th>\n",
       "      <td>2019-08-22</td>\n",
       "      <td>A</td>\n",
       "      <td>609</td>\n",
       "    </tr>\n",
       "    <tr>\n",
       "      <th>45</th>\n",
       "      <td>2019-08-15</td>\n",
       "      <td>B</td>\n",
       "      <td>544</td>\n",
       "    </tr>\n",
       "    <tr>\n",
       "      <th>33</th>\n",
       "      <td>2019-08-03</td>\n",
       "      <td>B</td>\n",
       "      <td>509</td>\n",
       "    </tr>\n",
       "    <tr>\n",
       "      <th>16</th>\n",
       "      <td>2019-08-17</td>\n",
       "      <td>A</td>\n",
       "      <td>412</td>\n",
       "    </tr>\n",
       "    <tr>\n",
       "      <th>8</th>\n",
       "      <td>2019-08-09</td>\n",
       "      <td>A</td>\n",
       "      <td>617</td>\n",
       "    </tr>\n",
       "  </tbody>\n",
       "</table>\n",
       "</div>"
      ],
      "text/plain": [
       "          date group  visitors\n",
       "21  2019-08-22     A       609\n",
       "45  2019-08-15     B       544\n",
       "33  2019-08-03     B       509\n",
       "16  2019-08-17     A       412\n",
       "8   2019-08-09     A       617"
      ]
     },
     "metadata": {},
     "output_type": "display_data"
    },
    {
     "data": {
      "text/html": [
       "<div>\n",
       "<style scoped>\n",
       "    .dataframe tbody tr th:only-of-type {\n",
       "        vertical-align: middle;\n",
       "    }\n",
       "\n",
       "    .dataframe tbody tr th {\n",
       "        vertical-align: top;\n",
       "    }\n",
       "\n",
       "    .dataframe thead th {\n",
       "        text-align: right;\n",
       "    }\n",
       "</style>\n",
       "<table border=\"1\" class=\"dataframe\">\n",
       "  <thead>\n",
       "    <tr style=\"text-align: right;\">\n",
       "      <th></th>\n",
       "      <th>transactionId</th>\n",
       "      <th>visitorId</th>\n",
       "      <th>date</th>\n",
       "      <th>revenue</th>\n",
       "      <th>group</th>\n",
       "    </tr>\n",
       "  </thead>\n",
       "  <tbody>\n",
       "    <tr>\n",
       "      <th>137</th>\n",
       "      <td>1798931686</td>\n",
       "      <td>1211585711</td>\n",
       "      <td>2019-08-01</td>\n",
       "      <td>28490</td>\n",
       "      <td>A</td>\n",
       "    </tr>\n",
       "    <tr>\n",
       "      <th>480</th>\n",
       "      <td>1954636284</td>\n",
       "      <td>2600415354</td>\n",
       "      <td>2019-08-06</td>\n",
       "      <td>1530</td>\n",
       "      <td>B</td>\n",
       "    </tr>\n",
       "    <tr>\n",
       "      <th>759</th>\n",
       "      <td>1530631615</td>\n",
       "      <td>1544467991</td>\n",
       "      <td>2019-08-09</td>\n",
       "      <td>1040</td>\n",
       "      <td>A</td>\n",
       "    </tr>\n",
       "    <tr>\n",
       "      <th>529</th>\n",
       "      <td>90109939</td>\n",
       "      <td>2075769885</td>\n",
       "      <td>2019-08-19</td>\n",
       "      <td>3525</td>\n",
       "      <td>B</td>\n",
       "    </tr>\n",
       "    <tr>\n",
       "      <th>410</th>\n",
       "      <td>2399678258</td>\n",
       "      <td>3741503045</td>\n",
       "      <td>2019-08-03</td>\n",
       "      <td>780</td>\n",
       "      <td>B</td>\n",
       "    </tr>\n",
       "  </tbody>\n",
       "</table>\n",
       "</div>"
      ],
      "text/plain": [
       "     transactionId   visitorId        date  revenue group\n",
       "137     1798931686  1211585711  2019-08-01    28490     A\n",
       "480     1954636284  2600415354  2019-08-06     1530     B\n",
       "759     1530631615  1544467991  2019-08-09     1040     A\n",
       "529       90109939  2075769885  2019-08-19     3525     B\n",
       "410     2399678258  3741503045  2019-08-03      780     B"
      ]
     },
     "metadata": {},
     "output_type": "display_data"
    }
   ],
   "source": [
    "display(visitors.sample(5)) # просмотр образцов данных\n",
    "display(orders.sample(5)) "
   ]
  },
  {
   "cell_type": "markdown",
   "metadata": {},
   "source": [
    "Описание данных:\n",
    "\n",
    "Файл `orders.csv`\n",
    "* `transactionId` — идентификатор заказа;\n",
    "* `visitorId` — идентификатор пользователя, совершившего заказ;\n",
    "* `date` — дата, когда был совершён заказ;\n",
    "* `revenue` — выручка заказа;\n",
    "* `group` — группа A/B-теста, в которую попал заказ.\n",
    "\n",
    "Файл `visitors.csv`\n",
    "* `date` — дата;\n",
    "* `group` — группа A/B-теста;\n",
    "* `visitors` — количество пользователей в указанную дату в указанной группе A/B-теста"
   ]
  },
  {
   "cell_type": "markdown",
   "metadata": {},
   "source": [
    "Проверим наличие явных дубликатов в предоставленных данных."
   ]
  },
  {
   "cell_type": "code",
   "execution_count": 12,
   "metadata": {
    "scrolled": true
   },
   "outputs": [
    {
     "name": "stdout",
     "output_type": "stream",
     "text": [
      "Количество дублирующихся строк в таблице \"visitors\": 0\n",
      "Количество дублирующихся строк в таблице \"orders\": 0\n"
     ]
    }
   ],
   "source": [
    "print('Количество дублирующихся строк в таблице \"visitors\":', visitors.duplicated().sum()) # подсчёт явных дубликатов\n",
    "print('Количество дублирующихся строк в таблице \"orders\":', orders.duplicated().sum())"
   ]
  },
  {
   "cell_type": "markdown",
   "metadata": {},
   "source": [
    "Пропусков и дубликатов в данных нет.\n",
    "\n",
    "Предварительно можно утверждать, что, данных достаточно для решения поставленных задач.\n",
    "\n",
    "Типы данных во всех столбцах различаются. В обоих таблицах столбец `date`, содержащий дату, имеет строковый тип. Поскольку в нашем исследовании даты будут использоваться только для группировки, оставим тип данных без изменения."
   ]
  },
  {
   "cell_type": "markdown",
   "metadata": {},
   "source": [
    "### Построение таблицы кумулятивных данных"
   ]
  },
  {
   "cell_type": "markdown",
   "metadata": {},
   "source": [
    "Для анализа кумулятивных характеристик построим таблицу с кумулятивными данными по датам.\n",
    "\n",
    "Создадим следующие столбцы: \n",
    "\n",
    "* `date` — дата;\n",
    "* `buyersCummulativeA`, `buyersCummulativeB` — кумулятивное количество пользователей, совершивших хотя бы один заказ, на указанную дату в указанной группе;\n",
    "* `buyersPerDateA`, `buyersPerDateB` —  количество пользователей, совершивших хотя бы один заказ, на указанную дату в указанной группе;\n",
    "* `ordersCummulativeA`, `ordersCummulativeB`  — кумулятивное количество заказов на указанную дату в указанной группе;\n",
    "* `ordersPerDateA`, `ordersPerDateB`  — количество заказов на указанную дату в указанной группе;\n",
    "* `revenueCummulativeA`, `revenueCummulativeB` — кумулятивная выручка на указанную дату в указанной группе;\n",
    "* `revenuePerDateA`, `revenuePerDateB` — выручка на указанную дату в указанной группе;\n",
    "* `visitorsCummulativeA`, `visitorsCummulativeB`  — кумулятивное количество посетителей интернет-магазина на указанную дату в определённой группе;\n",
    "* `visitorsPerDateA`, `visitorsPerDateB`  —  количество посетителей интернет-магазина на указанную дату в определённой группе."
   ]
  },
  {
   "cell_type": "code",
   "execution_count": 13,
   "metadata": {},
   "outputs": [
    {
     "data": {
      "text/html": [
       "<div>\n",
       "<style scoped>\n",
       "    .dataframe tbody tr th:only-of-type {\n",
       "        vertical-align: middle;\n",
       "    }\n",
       "\n",
       "    .dataframe tbody tr th {\n",
       "        vertical-align: top;\n",
       "    }\n",
       "\n",
       "    .dataframe thead th {\n",
       "        text-align: right;\n",
       "    }\n",
       "</style>\n",
       "<table border=\"1\" class=\"dataframe\">\n",
       "  <thead>\n",
       "    <tr style=\"text-align: right;\">\n",
       "      <th></th>\n",
       "      <th>0</th>\n",
       "      <th>1</th>\n",
       "      <th>2</th>\n",
       "      <th>3</th>\n",
       "      <th>4</th>\n",
       "      <th>5</th>\n",
       "      <th>6</th>\n",
       "      <th>7</th>\n",
       "      <th>8</th>\n",
       "      <th>9</th>\n",
       "    </tr>\n",
       "  </thead>\n",
       "  <tbody>\n",
       "    <tr>\n",
       "      <th>buyersCummulativeA</th>\n",
       "      <td>20</td>\n",
       "      <td>39</td>\n",
       "      <td>63</td>\n",
       "      <td>78</td>\n",
       "      <td>103</td>\n",
       "      <td>118</td>\n",
       "      <td>136</td>\n",
       "      <td>152</td>\n",
       "      <td>166</td>\n",
       "      <td>182</td>\n",
       "    </tr>\n",
       "    <tr>\n",
       "      <th>buyersCummulativeB</th>\n",
       "      <td>20</td>\n",
       "      <td>43</td>\n",
       "      <td>59</td>\n",
       "      <td>75</td>\n",
       "      <td>98</td>\n",
       "      <td>124</td>\n",
       "      <td>148</td>\n",
       "      <td>175</td>\n",
       "      <td>199</td>\n",
       "      <td>222</td>\n",
       "    </tr>\n",
       "    <tr>\n",
       "      <th>buyersPerDateA</th>\n",
       "      <td>20</td>\n",
       "      <td>19</td>\n",
       "      <td>24</td>\n",
       "      <td>15</td>\n",
       "      <td>25</td>\n",
       "      <td>15</td>\n",
       "      <td>18</td>\n",
       "      <td>16</td>\n",
       "      <td>14</td>\n",
       "      <td>16</td>\n",
       "    </tr>\n",
       "    <tr>\n",
       "      <th>buyersPerDateB</th>\n",
       "      <td>20</td>\n",
       "      <td>23</td>\n",
       "      <td>16</td>\n",
       "      <td>16</td>\n",
       "      <td>23</td>\n",
       "      <td>26</td>\n",
       "      <td>24</td>\n",
       "      <td>27</td>\n",
       "      <td>24</td>\n",
       "      <td>23</td>\n",
       "    </tr>\n",
       "    <tr>\n",
       "      <th>date</th>\n",
       "      <td>2019-08-01</td>\n",
       "      <td>2019-08-02</td>\n",
       "      <td>2019-08-03</td>\n",
       "      <td>2019-08-04</td>\n",
       "      <td>2019-08-05</td>\n",
       "      <td>2019-08-06</td>\n",
       "      <td>2019-08-07</td>\n",
       "      <td>2019-08-08</td>\n",
       "      <td>2019-08-09</td>\n",
       "      <td>2019-08-10</td>\n",
       "    </tr>\n",
       "    <tr>\n",
       "      <th>ordersCummulativeA</th>\n",
       "      <td>24</td>\n",
       "      <td>44</td>\n",
       "      <td>68</td>\n",
       "      <td>84</td>\n",
       "      <td>109</td>\n",
       "      <td>127</td>\n",
       "      <td>145</td>\n",
       "      <td>161</td>\n",
       "      <td>177</td>\n",
       "      <td>193</td>\n",
       "    </tr>\n",
       "    <tr>\n",
       "      <th>ordersCummulativeB</th>\n",
       "      <td>21</td>\n",
       "      <td>45</td>\n",
       "      <td>61</td>\n",
       "      <td>78</td>\n",
       "      <td>101</td>\n",
       "      <td>129</td>\n",
       "      <td>153</td>\n",
       "      <td>180</td>\n",
       "      <td>205</td>\n",
       "      <td>228</td>\n",
       "    </tr>\n",
       "    <tr>\n",
       "      <th>ordersPerDateA</th>\n",
       "      <td>24</td>\n",
       "      <td>20</td>\n",
       "      <td>24</td>\n",
       "      <td>16</td>\n",
       "      <td>25</td>\n",
       "      <td>18</td>\n",
       "      <td>18</td>\n",
       "      <td>16</td>\n",
       "      <td>16</td>\n",
       "      <td>16</td>\n",
       "    </tr>\n",
       "    <tr>\n",
       "      <th>ordersPerDateB</th>\n",
       "      <td>21</td>\n",
       "      <td>24</td>\n",
       "      <td>16</td>\n",
       "      <td>17</td>\n",
       "      <td>23</td>\n",
       "      <td>28</td>\n",
       "      <td>24</td>\n",
       "      <td>27</td>\n",
       "      <td>25</td>\n",
       "      <td>23</td>\n",
       "    </tr>\n",
       "    <tr>\n",
       "      <th>revenueCummulativeA</th>\n",
       "      <td>148579</td>\n",
       "      <td>242401</td>\n",
       "      <td>354874</td>\n",
       "      <td>425699</td>\n",
       "      <td>549917</td>\n",
       "      <td>598401</td>\n",
       "      <td>740818</td>\n",
       "      <td>837097</td>\n",
       "      <td>1025603</td>\n",
       "      <td>1236098</td>\n",
       "    </tr>\n",
       "    <tr>\n",
       "      <th>revenueCummulativeB</th>\n",
       "      <td>101217</td>\n",
       "      <td>266748</td>\n",
       "      <td>380996</td>\n",
       "      <td>489567</td>\n",
       "      <td>581995</td>\n",
       "      <td>824337</td>\n",
       "      <td>1049671</td>\n",
       "      <td>1270589</td>\n",
       "      <td>1431401</td>\n",
       "      <td>1539203</td>\n",
       "    </tr>\n",
       "    <tr>\n",
       "      <th>revenuePerDateA</th>\n",
       "      <td>148579</td>\n",
       "      <td>93822</td>\n",
       "      <td>112473</td>\n",
       "      <td>70825</td>\n",
       "      <td>124218</td>\n",
       "      <td>48484</td>\n",
       "      <td>142417</td>\n",
       "      <td>96279</td>\n",
       "      <td>188506</td>\n",
       "      <td>210495</td>\n",
       "    </tr>\n",
       "    <tr>\n",
       "      <th>revenuePerDateB</th>\n",
       "      <td>101217</td>\n",
       "      <td>165531</td>\n",
       "      <td>114248</td>\n",
       "      <td>108571</td>\n",
       "      <td>92428</td>\n",
       "      <td>242342</td>\n",
       "      <td>225334</td>\n",
       "      <td>220918</td>\n",
       "      <td>160812</td>\n",
       "      <td>107802</td>\n",
       "    </tr>\n",
       "    <tr>\n",
       "      <th>visitorsCummulativeA</th>\n",
       "      <td>719</td>\n",
       "      <td>1338</td>\n",
       "      <td>1845</td>\n",
       "      <td>2562</td>\n",
       "      <td>3318</td>\n",
       "      <td>3985</td>\n",
       "      <td>4629</td>\n",
       "      <td>5239</td>\n",
       "      <td>5856</td>\n",
       "      <td>6262</td>\n",
       "    </tr>\n",
       "    <tr>\n",
       "      <th>visitorsCummulativeB</th>\n",
       "      <td>713</td>\n",
       "      <td>1294</td>\n",
       "      <td>1803</td>\n",
       "      <td>2573</td>\n",
       "      <td>3280</td>\n",
       "      <td>3935</td>\n",
       "      <td>4644</td>\n",
       "      <td>5298</td>\n",
       "      <td>5908</td>\n",
       "      <td>6277</td>\n",
       "    </tr>\n",
       "    <tr>\n",
       "      <th>visitorsPerDateA</th>\n",
       "      <td>719</td>\n",
       "      <td>619</td>\n",
       "      <td>507</td>\n",
       "      <td>717</td>\n",
       "      <td>756</td>\n",
       "      <td>667</td>\n",
       "      <td>644</td>\n",
       "      <td>610</td>\n",
       "      <td>617</td>\n",
       "      <td>406</td>\n",
       "    </tr>\n",
       "    <tr>\n",
       "      <th>visitorsPerDateB</th>\n",
       "      <td>713</td>\n",
       "      <td>581</td>\n",
       "      <td>509</td>\n",
       "      <td>770</td>\n",
       "      <td>707</td>\n",
       "      <td>655</td>\n",
       "      <td>709</td>\n",
       "      <td>654</td>\n",
       "      <td>610</td>\n",
       "      <td>369</td>\n",
       "    </tr>\n",
       "  </tbody>\n",
       "</table>\n",
       "</div>"
      ],
      "text/plain": [
       "                               0           1           2           3  \\\n",
       "buyersCummulativeA            20          39          63          78   \n",
       "buyersCummulativeB            20          43          59          75   \n",
       "buyersPerDateA                20          19          24          15   \n",
       "buyersPerDateB                20          23          16          16   \n",
       "date                  2019-08-01  2019-08-02  2019-08-03  2019-08-04   \n",
       "ordersCummulativeA            24          44          68          84   \n",
       "ordersCummulativeB            21          45          61          78   \n",
       "ordersPerDateA                24          20          24          16   \n",
       "ordersPerDateB                21          24          16          17   \n",
       "revenueCummulativeA       148579      242401      354874      425699   \n",
       "revenueCummulativeB       101217      266748      380996      489567   \n",
       "revenuePerDateA           148579       93822      112473       70825   \n",
       "revenuePerDateB           101217      165531      114248      108571   \n",
       "visitorsCummulativeA         719        1338        1845        2562   \n",
       "visitorsCummulativeB         713        1294        1803        2573   \n",
       "visitorsPerDateA             719         619         507         717   \n",
       "visitorsPerDateB             713         581         509         770   \n",
       "\n",
       "                               4           5           6           7  \\\n",
       "buyersCummulativeA           103         118         136         152   \n",
       "buyersCummulativeB            98         124         148         175   \n",
       "buyersPerDateA                25          15          18          16   \n",
       "buyersPerDateB                23          26          24          27   \n",
       "date                  2019-08-05  2019-08-06  2019-08-07  2019-08-08   \n",
       "ordersCummulativeA           109         127         145         161   \n",
       "ordersCummulativeB           101         129         153         180   \n",
       "ordersPerDateA                25          18          18          16   \n",
       "ordersPerDateB                23          28          24          27   \n",
       "revenueCummulativeA       549917      598401      740818      837097   \n",
       "revenueCummulativeB       581995      824337     1049671     1270589   \n",
       "revenuePerDateA           124218       48484      142417       96279   \n",
       "revenuePerDateB            92428      242342      225334      220918   \n",
       "visitorsCummulativeA        3318        3985        4629        5239   \n",
       "visitorsCummulativeB        3280        3935        4644        5298   \n",
       "visitorsPerDateA             756         667         644         610   \n",
       "visitorsPerDateB             707         655         709         654   \n",
       "\n",
       "                               8           9  \n",
       "buyersCummulativeA           166         182  \n",
       "buyersCummulativeB           199         222  \n",
       "buyersPerDateA                14          16  \n",
       "buyersPerDateB                24          23  \n",
       "date                  2019-08-09  2019-08-10  \n",
       "ordersCummulativeA           177         193  \n",
       "ordersCummulativeB           205         228  \n",
       "ordersPerDateA                16          16  \n",
       "ordersPerDateB                25          23  \n",
       "revenueCummulativeA      1025603     1236098  \n",
       "revenueCummulativeB      1431401     1539203  \n",
       "revenuePerDateA           188506      210495  \n",
       "revenuePerDateB           160812      107802  \n",
       "visitorsCummulativeA        5856        6262  \n",
       "visitorsCummulativeB        5908        6277  \n",
       "visitorsPerDateA             617         406  \n",
       "visitorsPerDateB             610         369  "
      ]
     },
     "execution_count": 13,
     "metadata": {},
     "output_type": "execute_result"
    }
   ],
   "source": [
    "visitorsADaily = visitors[visitors['group'] == 'A'][['date', 'visitors']] # отберем пользователей группы A\n",
    "visitorsADaily.columns = ['date', 'visitorsPerDateA']\n",
    "\n",
    "visitorsACummulative = visitorsADaily.apply( # посчитаем кумулятивные значения\n",
    "    lambda x: visitorsADaily[visitorsADaily['date'] <= x['date']].agg(\n",
    "        {'date': 'max', 'visitorsPerDateA': 'sum'}\n",
    "    ),\n",
    "    axis=1,\n",
    ")\n",
    "visitorsACummulative.columns = ['date', 'visitorsCummulativeA'] # переименуем столбцы\n",
    "\n",
    "visitorsBDaily = visitors[visitors['group'] == 'B'][['date', 'visitors']] # отберем пользователей группы B\n",
    "visitorsBDaily.columns = ['date', 'visitorsPerDateB']\n",
    "\n",
    "visitorsBCummulative = visitorsBDaily.apply( # посчитаем кумулятивные значения\n",
    "    lambda x: visitorsBDaily[visitorsBDaily['date'] <= x['date']].agg(\n",
    "        {'date': 'max', 'visitorsPerDateB': 'sum'}\n",
    "    ),\n",
    "    axis=1,\n",
    ")\n",
    "visitorsBCummulative.columns = ['date', 'visitorsCummulativeB'] # переименуем столбцы\n",
    "\n",
    "ordersADaily = ( # посчитаем дневные количества заказов, пользователей и выручки группы A\n",
    "    orders[orders['group'] == 'A'][['date', 'transactionId', 'visitorId', 'revenue']] \n",
    "    .groupby('date', as_index=False)\n",
    "    .agg({'transactionId': pd.Series.nunique, 'visitorId': pd.Series.nunique,'revenue': 'sum'})\n",
    ")\n",
    "ordersADaily.columns = ['date', 'ordersPerDateA', 'buyersPerDateA', 'revenuePerDateA'] # переименуем столбцы\n",
    "\n",
    "ordersACummulative = ordersADaily.apply( # посчитаем кумулятивные количества заказов, пользователей и выручки группы A\n",
    "    lambda x: ordersADaily[ordersADaily['date'] <= x['date']].agg(\n",
    "        {'date': 'max', 'ordersPerDateA': 'sum', 'buyersPerDateA': 'sum', 'revenuePerDateA': 'sum'}\n",
    "    ),\n",
    "    axis=1,\n",
    ").sort_values(by=['date'])\n",
    "ordersACummulative.columns = [ # переименуем столбцы\n",
    "    'date',\n",
    "    'ordersCummulativeA',\n",
    "    'buyersCummulativeA',\n",
    "    'revenueCummulativeA',\n",
    "]\n",
    "\n",
    "ordersBDaily = ( # посчитаем дневные количества заказов, пользователей и выручки группы B\n",
    "    orders[orders['group'] == 'B'][['date', 'transactionId', 'visitorId', 'revenue']]\n",
    "    .groupby('date', as_index=False)\n",
    "    .agg({'transactionId': pd.Series.nunique, 'visitorId': pd.Series.nunique, 'revenue': 'sum'})\n",
    ")\n",
    "ordersBDaily.columns = ['date', 'ordersPerDateB', 'buyersPerDateB','revenuePerDateB'] # переименуем столбцы\n",
    "\n",
    "ordersBCummulative = ordersBDaily.apply( # посчитаем кумулятивные количества заказов, пользователей и выручки группы B\n",
    "    lambda x: ordersBDaily[ordersBDaily['date'] <= x['date']].agg(\n",
    "        {'date': 'max', 'ordersPerDateB': 'sum', 'buyersPerDateB': 'sum', 'revenuePerDateB': 'sum'}\n",
    "    ),\n",
    "    axis=1,\n",
    ").sort_values(by=['date'])\n",
    "ordersBCummulative.columns = [ # переименуем столбцы\n",
    "    'date',\n",
    "    'ordersCummulativeB',\n",
    "    'buyersCummulativeB',\n",
    "    'revenueCummulativeB',\n",
    "]\n",
    "\n",
    "data = ( # объединим  промежуточные таблицы\n",
    "    ordersADaily.merge(\n",
    "        ordersBDaily, left_on='date', right_on='date', how='left'\n",
    "    )\n",
    "    .merge(ordersACummulative, left_on='date', right_on='date', how='left')\n",
    "    .merge(ordersBCummulative, left_on='date', right_on='date', how='left')\n",
    "    .merge(visitorsADaily, left_on='date', right_on='date', how='left')\n",
    "    .merge(visitorsBDaily, left_on='date', right_on='date', how='left')\n",
    "    .merge(visitorsACummulative, left_on='date', right_on='date', how='left')\n",
    "    .merge(visitorsBCummulative, left_on='date', right_on='date', how='left')\n",
    "    .sort_index(axis=1)\n",
    ")\n",
    "data.head(10).T"
   ]
  },
  {
   "cell_type": "markdown",
   "metadata": {},
   "source": [
    "### Построение графика кумулятивной выручки по группам."
   ]
  },
  {
   "cell_type": "markdown",
   "metadata": {},
   "source": [
    "Посмотрим график кумулятивной выручки по группам. "
   ]
  },
  {
   "cell_type": "code",
   "execution_count": 14,
   "metadata": {
    "scrolled": true
   },
   "outputs": [
    {
     "data": {
      "image/png": "[encoded data removed]",
      "text/plain": [
       "<Figure size 720x360 with 1 Axes>"
      ]
     },
     "metadata": {
      "needs_background": "light"
     },
     "output_type": "display_data"
    }
   ],
   "source": [
    "ax = (data[['date','revenueCummulativeA', 'revenueCummulativeB']] # построим график кумулятивной выручки по группам\n",
    "    .set_index('date')  \n",
    "    .plot(\n",
    "        title='График кумулятивной выручки по группам',  \n",
    "        figsize=(10,5)\n",
    "    )\n",
    ")\n",
    "ax.set_ylabel('Выручка, руб.')\n",
    "ax.set_xlabel('Дата')\n",
    "ax.minorticks_on()\n",
    "ax.grid(b=True, which='major', linestyle='-')\n",
    "ax.grid(b=True, which='minor', linestyle='--')\n",
    "ax.legend(['Группа А', 'Группа B'])\n",
    "\n",
    "plt.show()"
   ]
  },
  {
   "cell_type": "markdown",
   "metadata": {},
   "source": [
    "Графики кумулятивной выручки группы A и группы B сначала мало отличаются, но из за скачка график группы B уходит выше, а потом идет снова практически параллельно. Скорее всего причина скачка выброс в сумме выручки."
   ]
  },
  {
   "cell_type": "markdown",
   "metadata": {},
   "source": [
    "### Построение графика кумулятивного среднего чека по группам"
   ]
  },
  {
   "cell_type": "markdown",
   "metadata": {},
   "source": [
    "Рассчитаем сумму среднего чека по группам."
   ]
  },
  {
   "cell_type": "code",
   "execution_count": 15,
   "metadata": {},
   "outputs": [],
   "source": [
    "data['ordersMeanCummulativeA'] = data['revenueCummulativeA']/data['ordersCummulativeA'] # рассчитаем сумму среднего чека по группам\n",
    "data['ordersMeanCummulativeB'] = data['revenueCummulativeB']/data['ordersCummulativeB']"
   ]
  },
  {
   "cell_type": "markdown",
   "metadata": {},
   "source": [
    "Построим график среднего чека по группам."
   ]
  },
  {
   "cell_type": "code",
   "execution_count": 16,
   "metadata": {
    "scrolled": true
   },
   "outputs": [
    {
     "data": {
      "image/png": "[encoded data removed]",
      "text/plain": [
       "<Figure size 720x360 with 1 Axes>"
      ]
     },
     "metadata": {
      "needs_background": "light"
     },
     "output_type": "display_data"
    }
   ],
   "source": [
    "ax = (data[['date','ordersMeanCummulativeA', 'ordersMeanCummulativeB']] # построим график среднего чека по группам\n",
    "    .set_index('date')  \n",
    "    .plot(\n",
    "        title='График среднего чека по группам',   \n",
    "        figsize=(10,5)\n",
    "    )\n",
    ")\n",
    "ax.set_ylabel('Средний чек, руб.')\n",
    "ax.set_xlabel('Дата')\n",
    "ax.minorticks_on()\n",
    "ax.grid(b=True, which='major', linestyle='-')\n",
    "ax.grid(b=True, which='minor', linestyle='--')\n",
    "ax.legend(['Группа А', 'Группа B'])\n",
    "\n",
    "plt.show()"
   ]
  },
  {
   "cell_type": "markdown",
   "metadata": {},
   "source": [
    "Сначала группа B обгоняет группу А по сумме среднего чека, потом немного отстает, а далее резким скачком почти в два раза превышает средний чек группы A. Скорее всего причина скачка выброс в сумме выручки."
   ]
  },
  {
   "cell_type": "markdown",
   "metadata": {},
   "source": [
    "### Построение графика относительного изменения кумулятивного среднего чека группы B к группе A"
   ]
  },
  {
   "cell_type": "markdown",
   "metadata": {},
   "source": [
    "Рассчитаем относительное изменение кумулятивного среднего чека группы B к группе A."
   ]
  },
  {
   "cell_type": "code",
   "execution_count": 17,
   "metadata": {},
   "outputs": [],
   "source": [
    "data['ordersRatio'] = data['ordersMeanCummulativeB']/data['ordersMeanCummulativeA'] - 1 # рассчитаем относительное изменение кумулятивного среднего чека группы B к группе A."
   ]
  },
  {
   "cell_type": "markdown",
   "metadata": {},
   "source": [
    "Построим график относительного изменения кумулятивного среднего чека группы B к группе A."
   ]
  },
  {
   "cell_type": "code",
   "execution_count": 18,
   "metadata": {
    "scrolled": false
   },
   "outputs": [
    {
     "data": {
      "image/png": "[encoded data removed]",
      "text/plain": [
       "<Figure size 720x360 with 1 Axes>"
      ]
     },
     "metadata": {
      "needs_background": "light"
     },
     "output_type": "display_data"
    }
   ],
   "source": [
    "ax = (data[['date','ordersRatio']] # построим график относительного изменения для среднего чека\n",
    "    .set_index('date')  \n",
    "    .plot(\n",
    "        title='График относительного изменения для среднего чека (B/A)',   \n",
    "        figsize=(10,5),\n",
    "        legend=False\n",
    "    )\n",
    ")\n",
    "ax.set_xlabel('Дата')\n",
    "ax.set_ylabel('Относительное изменение')\n",
    "ax.minorticks_on()\n",
    "ax.grid(b=True, which='major', linestyle='-')\n",
    "ax.grid(b=True, which='minor', linestyle='--')\n",
    "ax.axhline(y=0, color='red', linestyle='-')\n",
    "plt.show()"
   ]
  },
  {
   "cell_type": "markdown",
   "metadata": {},
   "source": [
    "На графике видны резкие скачки, скорее всего вызванные выбросами. В общем отношение колеблется около нулевой линии. "
   ]
  },
  {
   "cell_type": "markdown",
   "metadata": {},
   "source": [
    "### Построение графика кумулятивной конверсии по группам"
   ]
  },
  {
   "cell_type": "markdown",
   "metadata": {},
   "source": [
    "Рассчитаем кумулятивную конверсию по группам."
   ]
  },
  {
   "cell_type": "code",
   "execution_count": 19,
   "metadata": {},
   "outputs": [],
   "source": [
    "data['conversionCummulativeA'] = data['buyersCummulativeA']/data['visitorsCummulativeA'] # рассчитаем кумулятивную конверсию\n",
    "data['conversionCummulativeB'] = data['buyersCummulativeB']/data['visitorsCummulativeB']"
   ]
  },
  {
   "cell_type": "markdown",
   "metadata": {},
   "source": [
    "Построим график кумулятивной конверсии по группам."
   ]
  },
  {
   "cell_type": "code",
   "execution_count": 20,
   "metadata": {
    "scrolled": true
   },
   "outputs": [
    {
     "data": {
      "image/png": "[encoded data removed]",
      "text/plain": [
       "<Figure size 720x360 with 1 Axes>"
      ]
     },
     "metadata": {
      "needs_background": "light"
     },
     "output_type": "display_data"
    }
   ],
   "source": [
    "ax = (data[['date','conversionCummulativeA', 'conversionCummulativeB']] # построим график конверсии по группам\n",
    "    .set_index('date')  \n",
    "    .plot(\n",
    "        title='График конверсии по группам',   \n",
    "        figsize=(10,5)\n",
    "    )\n",
    ")\n",
    "ax.set_ylabel('Коэффициент конверсии')\n",
    "ax.set_xlabel('Дата')\n",
    "ax.minorticks_on()\n",
    "ax.grid(b=True, which='major', linestyle='-')\n",
    "ax.grid(b=True, which='minor', linestyle='--')\n",
    "ax.legend(['Группа А', 'Группа B'])\n",
    "ax.axhline(y=0.0312, color='red', linestyle='--')\n",
    "plt.show()"
   ]
  },
  {
   "cell_type": "markdown",
   "metadata": {},
   "source": [
    "На графике мы видим, что по конверсии группа B быстро обходит группу A, конверсии стабилизируются с сохранением разницы."
   ]
  },
  {
   "cell_type": "markdown",
   "metadata": {},
   "source": [
    "### Построение графика относительного изменения кумулятивной конверсии группы B к группе A"
   ]
  },
  {
   "cell_type": "markdown",
   "metadata": {},
   "source": [
    "Рассчитаем относительное изменение кумулятивной конверсии группы B к группе A."
   ]
  },
  {
   "cell_type": "code",
   "execution_count": 21,
   "metadata": {},
   "outputs": [],
   "source": [
    "data['conversionRatio'] = data['conversionCummulativeB']/data['conversionCummulativeA'] - 1 # рассчитаем относительное изменение конверсии"
   ]
  },
  {
   "cell_type": "markdown",
   "metadata": {},
   "source": [
    "Построим график относительного изменения кумулятивной конверсии группы B к группе A."
   ]
  },
  {
   "cell_type": "code",
   "execution_count": 22,
   "metadata": {
    "scrolled": true
   },
   "outputs": [
    {
     "data": {
      "image/png": "[encoded data removed]",
      "text/plain": [
       "<Figure size 720x360 with 1 Axes>"
      ]
     },
     "metadata": {
      "needs_background": "light"
     },
     "output_type": "display_data"
    }
   ],
   "source": [
    "ax = (data[['date','conversionRatio']] # построим график относительного различия для конверсии\n",
    "    .set_index('date')  \n",
    "    .plot(\n",
    "        title='График относительного изменения кумулятивной конверсии (B/A)',   \n",
    "        figsize=(10,5),\n",
    "        legend=False\n",
    "    )\n",
    ")\n",
    "ax.set_xlabel('Дата')\n",
    "ax.set_ylabel('Относительное изменение')\n",
    "ax.minorticks_on()\n",
    "ax.grid(b=True, which='major', linestyle='-')\n",
    "ax.grid(b=True, which='minor', linestyle='--')\n",
    "ax.axhline(y=0, color='red', linestyle='-')\n",
    "plt.show()"
   ]
  },
  {
   "cell_type": "markdown",
   "metadata": {},
   "source": [
    "После колебаний в течении недели, относительная конверсия стабилизируется, и показывает преимущество по конверсии группы B."
   ]
  },
  {
   "cell_type": "markdown",
   "metadata": {},
   "source": [
    "### Построение точечного графика количества заказов по пользователям"
   ]
  },
  {
   "cell_type": "markdown",
   "metadata": {},
   "source": [
    "Посмотрим, как выглядит распределение числа заказов по пользователям. Для этого построим таблицу с агрегированными заказами."
   ]
  },
  {
   "cell_type": "code",
   "execution_count": 23,
   "metadata": {},
   "outputs": [],
   "source": [
    "ordersByUsers = (orders # агрегируем число заказов по пользователям\n",
    "    .groupby('visitorId')\n",
    "    .agg({'transactionId':'count'})\n",
    "    .rename(columns={'transactionId':'orders'})\n",
    ")                 \n",
    "x_values = pd.Series(range(0,len(ordersByUsers['orders']))) # создадим серию с нумерацией по числу пользователей "
   ]
  },
  {
   "cell_type": "markdown",
   "metadata": {},
   "source": [
    "Построим график количества заказов по пользователям."
   ]
  },
  {
   "cell_type": "code",
   "execution_count": 24,
   "metadata": {
    "scrolled": false
   },
   "outputs": [
    {
     "data": {
      "image/png": "[encoded data removed]",
      "text/plain": [
       "<Figure size 720x360 with 1 Axes>"
      ]
     },
     "metadata": {
      "needs_background": "light"
     },
     "output_type": "display_data"
    }
   ],
   "source": [
    "plt.figure(figsize=(10,5)) # построим график количества заказов по пользователям\n",
    "sns.scatterplot(x=x_values, y=ordersByUsers['orders'].reset_index(drop=True), alpha=0.7, s=15, color='blue')\n",
    "plt.ylabel('Количество заказов')\n",
    "plt.xlabel('Номер пользователя')\n",
    "plt.title('График количества заказов по пользователям')\n",
    "plt.figsize=(10,5)\n",
    "plt.grid() \n",
    "plt.show()"
   ]
  },
  {
   "cell_type": "markdown",
   "metadata": {},
   "source": [
    "Большая часть пользователей делает один - два заказа. Совсем немного делает больше трех."
   ]
  },
  {
   "cell_type": "markdown",
   "metadata": {},
   "source": [
    "### Подсчет перцентилей количества заказов на пользователя"
   ]
  },
  {
   "cell_type": "markdown",
   "metadata": {},
   "source": [
    "Посмотрим, как выглядят перцентили количества заказа по пользователям."
   ]
  },
  {
   "cell_type": "code",
   "execution_count": 25,
   "metadata": {
    "scrolled": true
   },
   "outputs": [
    {
     "name": "stdout",
     "output_type": "stream",
     "text": [
      "90 перцентиль = 1\n",
      "95 перцентиль = 2\n",
      "99 перцентиль = 4\n"
     ]
    }
   ],
   "source": [
    "percentile_list = [90, 95, 99] # перечислим перцентили для расчета\n",
    "for i in range(len(percentile_list)): # рассчитаем и выведем перцентили по списку\n",
    "    print('{} перцентиль = {:1.0f}'.format(percentile_list[i], np.percentile(ordersByUsers['orders'], percentile_list)[i]))"
   ]
  },
  {
   "cell_type": "markdown",
   "metadata": {},
   "source": [
    "Только 5% пользователей сделали больше двух заказов. Отнесем к аномальным пользователям пользователей сделавших 3 и более заказов."
   ]
  },
  {
   "cell_type": "markdown",
   "metadata": {},
   "source": [
    "### Построение точечного графика стоимостей заказов"
   ]
  },
  {
   "cell_type": "markdown",
   "metadata": {},
   "source": [
    "Посмотрим, как распределены стоимости заказов по пользователям."
   ]
  },
  {
   "cell_type": "code",
   "execution_count": 26,
   "metadata": {
    "scrolled": false
   },
   "outputs": [
    {
     "data": {
      "image/png": "[encoded data removed]",
      "text/plain": [
       "<Figure size 720x360 with 1 Axes>"
      ]
     },
     "metadata": {
      "needs_background": "light"
     },
     "output_type": "display_data"
    }
   ],
   "source": [
    "plt.figure(figsize=(10,5)) # строим график стоимостей заказов\n",
    "x_values = pd.Series(range(0,len(orders['transactionId'])))\n",
    "sns.scatterplot(x=x_values, y=orders['revenue'], alpha=0.7, s=10, color='blue')\n",
    "plt.ylabel('Сумма заказа, руб.')\n",
    "plt.title('График стоимостей заказов')\n",
    "plt.grid() \n",
    "plt.show()"
   ]
  },
  {
   "cell_type": "markdown",
   "metadata": {},
   "source": [
    "Выброс на сумму более миллиона мешает рассмотреть распределение заказов, посмотрим, отбросив этот заказ. "
   ]
  },
  {
   "cell_type": "code",
   "execution_count": 27,
   "metadata": {
    "scrolled": true
   },
   "outputs": [
    {
     "data": {
      "image/png": "[encoded data removed]",
      "text/plain": [
       "<Figure size 720x360 with 1 Axes>"
      ]
     },
     "metadata": {
      "needs_background": "light"
     },
     "output_type": "display_data"
    }
   ],
   "source": [
    "plt.figure(figsize=(10,5)) # строим график стоимостей заказов\n",
    "x_values = pd.Series(range(0,len(orders['transactionId'])))\n",
    "ax = sns.scatterplot(x=x_values, y=orders['revenue'], s = 7, color='blue')\n",
    "plt.ylabel('Сумма заказа, руб.')\n",
    "plt.title('График стоимостей заказов')\n",
    "plt.grid() \n",
    "ax.set_ylim(0, 40000)\n",
    "plt.show()"
   ]
  },
  {
   "cell_type": "markdown",
   "metadata": {},
   "source": [
    "Мы видим, что большая часть заказов сгруппирована ниже 5000. Посмотрим статистические характеристики стоимостей."
   ]
  },
  {
   "cell_type": "markdown",
   "metadata": {},
   "source": [
    "### Подсчет перцентилей стоимости заказов"
   ]
  },
  {
   "cell_type": "code",
   "execution_count": 28,
   "metadata": {
    "scrolled": true
   },
   "outputs": [
    {
     "data": {
      "text/plain": [
       "count       1197.00\n",
       "mean        8348.01\n",
       "std        39191.13\n",
       "min           50.00\n",
       "25%         1220.00\n",
       "50%         2978.00\n",
       "75%         8290.00\n",
       "max      1294500.00\n",
       "Name: revenue, dtype: object"
      ]
     },
     "execution_count": 28,
     "metadata": {},
     "output_type": "execute_result"
    }
   ],
   "source": [
    "orders['revenue'].describe().apply(\"{0:.2f}\".format) # рассчитаем статистические характеристики стоимостей"
   ]
  },
  {
   "cell_type": "code",
   "execution_count": 29,
   "metadata": {
    "scrolled": true
   },
   "outputs": [
    {
     "data": {
      "text/plain": [
       "Text(0, 0.5, 'Сумма заказа, руб.')"
      ]
     },
     "execution_count": 29,
     "metadata": {},
     "output_type": "execute_result"
    },
    {
     "data": {
      "image/png": "[encoded data removed]",
      "text/plain": [
       "<Figure size 576x288 with 1 Axes>"
      ]
     },
     "metadata": {
      "needs_background": "light"
     },
     "output_type": "display_data"
    }
   ],
   "source": [
    "ax = orders['revenue'].plot(kind='box', title='Диаграмма размаха суммы заказа', \n",
    "                           grid=True, figsize=(8,4), color='#77bb99'\n",
    ")\n",
    "ax.set_ylim(0, 28000)\n",
    "plt.ylabel('Сумма заказа, руб.')"
   ]
  },
  {
   "cell_type": "markdown",
   "metadata": {},
   "source": [
    "Мы видим, что выбросов сверху довольно много. Рассчитаем перцентили, чтобы установить границу аномального заказа."
   ]
  },
  {
   "cell_type": "code",
   "execution_count": 30,
   "metadata": {
    "scrolled": true
   },
   "outputs": [
    {
     "name": "stdout",
     "output_type": "stream",
     "text": [
      "90 перцентиль = 18168\n",
      "95 перцентиль = 28000\n",
      "99 перцентиль = 58233\n"
     ]
    }
   ],
   "source": [
    "percentile_list = [90, 95, 99] # перечислим перцентили для расчета\n",
    "for i in range(len(percentile_list)): # рассчитаем и выведем перцентили по списку\n",
    "    print('{} перцентиль = {:1.0f}'.format(percentile_list[i], np.percentile(orders['revenue'], percentile_list)[i]))"
   ]
  },
  {
   "cell_type": "markdown",
   "metadata": {},
   "source": [
    "Мы установили, что 95% пользователей делают заказы не дороже 28000 рублей. Сделаем эту сумму границей аномального заказа."
   ]
  },
  {
   "cell_type": "markdown",
   "metadata": {},
   "source": [
    "### Расчет статистической значимости различий в конверсии между группами по «сырым» данным"
   ]
  },
  {
   "cell_type": "markdown",
   "metadata": {},
   "source": [
    "Проверим нет ли у нас пользователей, которые участвовали в двух или более группах одновременно."
   ]
  },
  {
   "cell_type": "code",
   "execution_count": 31,
   "metadata": {},
   "outputs": [
    {
     "name": "stdout",
     "output_type": "stream",
     "text": [
      "В данных 58 пользователей, участвующих в обоих группах\n"
     ]
    }
   ],
   "source": [
    "doubleUsers = (orders\n",
    "    .groupby('visitorId', as_index=False)\n",
    "    .agg({'group': pd.Series.nunique})\n",
    "    .query('group > 1')['visitorId']\n",
    ")\n",
    "print('В данных {} пользователей, участвующих в обоих группах'.format(len(doubleUsers)))"
   ]
  },
  {
   "cell_type": "markdown",
   "metadata": {},
   "source": [
    "Удалим их, чтобы они не вносили искажениий в результаты."
   ]
  },
  {
   "cell_type": "code",
   "execution_count": 32,
   "metadata": {},
   "outputs": [],
   "source": [
    "orders = orders.query('visitorId not in @doubleUsers')"
   ]
  },
  {
   "cell_type": "code",
   "execution_count": 33,
   "metadata": {},
   "outputs": [
    {
     "name": "stdout",
     "output_type": "stream",
     "text": [
      "В данных 0 пользователей, участвующих в обоих группах\n"
     ]
    }
   ],
   "source": [
    "doubleUsers = (orders\n",
    "    .groupby('visitorId', as_index=False)\n",
    "    .agg({'group': pd.Series.nunique})\n",
    "    .query('group > 1')['visitorId']\n",
    ")\n",
    "print('В данных {} пользователей, участвующих в обоих группах'.format(len(doubleUsers)))"
   ]
  },
  {
   "cell_type": "markdown",
   "metadata": {},
   "source": [
    "Агрегируем для каждой группы заказы по пользователям. "
   ]
  },
  {
   "cell_type": "code",
   "execution_count": 34,
   "metadata": {},
   "outputs": [],
   "source": [
    "ordersByUsersA = ( # агрегируем заказы пользователей группы A\n",
    "    orders[orders['group'] == 'A']\n",
    "    .groupby('visitorId', as_index=False)\n",
    "    .agg({'transactionId': pd.Series.nunique})\n",
    ")\n",
    "ordersByUsersA.columns = ['visitorId', 'orders'] # переименуем столбцы\n",
    "\n",
    "ordersByUsersB = ( # агрегируем заказы пользователей группы B\n",
    "    orders[orders['group'] == 'B']\n",
    "    .groupby('visitorId', as_index=False)\n",
    "    .agg({'transactionId': pd.Series.nunique})\n",
    ")\n",
    "ordersByUsersB.columns = ['visitorId', 'orders'] # переименуем столбцы"
   ]
  },
  {
   "cell_type": "markdown",
   "metadata": {},
   "source": [
    "Дополним получившиеся столбцы количества заказов нулями по числу посетителей, не делавших заказы."
   ]
  },
  {
   "cell_type": "code",
   "execution_count": 35,
   "metadata": {},
   "outputs": [],
   "source": [
    "sampleA = pd.concat( # объединяем столбец с числом заказов и серию с нулями\n",
    "    [ordersByUsersA['orders'],\n",
    "    pd.Series(0, index=np.arange(data['visitorsPerDateA'].sum() - len(ordersByUsersA['orders'])), \n",
    "    name='orders')],axis=0\n",
    ")\n",
    "\n",
    "sampleB = pd.concat( # объединяем столбец с числом заказов и серию с нулями\n",
    "    [ordersByUsersB['orders'],\n",
    "    pd.Series(0, index=np.arange(data['visitorsPerDateB'].sum() - len(ordersByUsersB['orders'])), \n",
    "    name='orders')],axis=0\n",
    ")"
   ]
  },
  {
   "cell_type": "markdown",
   "metadata": {},
   "source": [
    "Рассчитаем критерий Манна-Уитни для получившихся серий и проверим нулевую гипотезу о том, что статистически значимых различий в конверсии между группами нет."
   ]
  },
  {
   "cell_type": "code",
   "execution_count": 36,
   "metadata": {},
   "outputs": [
    {
     "name": "stdout",
     "output_type": "stream",
     "text": [
      "p-value = 0.011\n",
      "Отвергаем нулевую гипотезу о том, что статистически значимых различий в конверсии между группами нет.\n",
      "Относительный выигрыш группы B относительно A: 15.98%\n"
     ]
    }
   ],
   "source": [
    "alpha = 0.05 # установим  пороговый уровень статистической значимости\n",
    "pvalue = st.mannwhitneyu(sampleA, sampleB)[1] # рассчитаем вероятность ошибки\n",
    "print('p-value = {0:.3f}'.format(pvalue))\n",
    "if pvalue < alpha:\n",
    "    print(\"Отвергаем нулевую гипотезу\", end =\" \")\n",
    "else:\n",
    "    print(\"Не получилось отвергнуть нулевую гипотезу\", end =\" \")\n",
    "print('о том, что статистически значимых различий в конверсии между группами нет.')    \n",
    "BOverARatio = sampleB.mean() / sampleA.mean() - 1 # рассчитаем относительный выигрыш группы B относительно A\n",
    "print(\"Относительный выигрыш группы B относительно A: {0:.2%}\".format(BOverARatio))"
   ]
  },
  {
   "cell_type": "markdown",
   "metadata": {},
   "source": [
    "По критерию Манна-Уитни высока вероятность того, что между группами есть статистически значимые различия в конверсии, с преимуществом группы B почти на 16%. Посмотрим, изменяться ли эти значения после устранения аномальных данных."
   ]
  },
  {
   "cell_type": "markdown",
   "metadata": {},
   "source": [
    "### Расчет статистической значимости различий в среднем чеке заказа между группами по «сырым» данным"
   ]
  },
  {
   "cell_type": "markdown",
   "metadata": {},
   "source": [
    "Рассчитаем критерий Манна-Уитни для для сумм заказов по группам и проверим нулевую гипотезу о том, что статистически значимых различий в среднем чеке между группами нет."
   ]
  },
  {
   "cell_type": "code",
   "execution_count": 37,
   "metadata": {
    "scrolled": true
   },
   "outputs": [
    {
     "name": "stdout",
     "output_type": "stream",
     "text": [
      "p-value = 0.829\n",
      "Не получилось отвергнуть нулевую гипотезу о том, что статистически значимых различий в среднем чеке между группами нет.\n",
      "Относительный выигрыш группы B относительно A: 28.66%\n"
     ]
    }
   ],
   "source": [
    "alpha = 0.05 # установим  пороговый уровень статистической значимости\n",
    "pvalue = (st.mannwhitneyu( # рассчитаем вероятность ошибки\n",
    "    orders[orders['group']=='A']['revenue'], \n",
    "    orders[orders['group']=='B']['revenue'])[1]\n",
    ")          \n",
    "print(\"p-value = {0:.3f}\".format(pvalue))\n",
    "if pvalue < alpha:\n",
    "    print(\"Отвергаем нулевую гипотезу\", end =\" \")\n",
    "else:\n",
    "    print(\"Не получилось отвергнуть нулевую гипотезу\", end =\" \")\n",
    "print('о том, что статистически значимых различий в среднем чеке между группами нет.')\n",
    "BOverARatio = (orders[orders['group']=='B']['revenue'].mean() /  # рассчитаем относительный выигрыш группы B относительно A\n",
    "               orders[orders['group']=='A']['revenue'].mean() - 1\n",
    ")               \n",
    "print('Относительный выигрыш группы B относительно A: {0:.2%}'.format(BOverARatio))"
   ]
  },
  {
   "cell_type": "markdown",
   "metadata": {},
   "source": [
    "Вероятность того, что сумма среднего чека в группе B выше, чем в группе A мала, статистически значимые различия отсутствуют. При этом относительный выигрыш группы B относительно A в чеке более 28 процентов. Скорее всего это влияние выбросов. Перейдем к \"очистке\" данных. "
   ]
  },
  {
   "cell_type": "markdown",
   "metadata": {},
   "source": [
    "### Составление списка «аномальных» пользователей"
   ]
  },
  {
   "cell_type": "markdown",
   "metadata": {},
   "source": [
    "Вспомним перцентильные значения для числа заказов и суммы чека:\n",
    "<pre>\n",
    "90 перцентиль = 1\n",
    "95 перцентиль = 2\n",
    "99 перцентиль = 4\n",
    "\n",
    "90 перцентиль = 18168\n",
    "95 перцентиль = 28000\n",
    "99 перцентиль = 58233\n",
    "</pre>"
   ]
  },
  {
   "cell_type": "markdown",
   "metadata": {},
   "source": [
    "Установим границы для аномальных значений: 2 для числа заказов, и 28000 для суммы заказа. И создадим список \"аномальных\" пользователей. Для этого создадим списки пользователей, которые сделали заказы, выходящие за границы аномальных значений, и объединим эти списки, оставив только уникальные значения ID пользователей. "
   ]
  },
  {
   "cell_type": "code",
   "execution_count": 38,
   "metadata": {
    "scrolled": true
   },
   "outputs": [
    {
     "name": "stdout",
     "output_type": "stream",
     "text": [
      "Всего 78 \"аномальных\" пользователя.\n"
     ]
    }
   ],
   "source": [
    "ManyOrders = 2 # граница аномальных значений для числа заказов\n",
    "ExpensiveOrders = 28000 # граница аномальных значений для суммы заказа\n",
    "\n",
    "usersWithManyOrders = (ordersByUsers[ordersByUsers['orders'] > ManyOrders] # отфильтруем пользователей по числу заказов\n",
    "    .reset_index(drop=False)['visitorId'] \n",
    ")\n",
    "usersWithExpensiveOrders = orders[orders['revenue'] > ExpensiveOrders]['visitorId'] # отфильтруем пользователей по сумме чека\n",
    "\n",
    "abnormalUsers = ( # объединим списки и удалим дубликаты\n",
    "    pd.concat([usersWithManyOrders, usersWithExpensiveOrders], axis=0)\n",
    "    .drop_duplicates()\n",
    "    .sort_values()\n",
    "    .reindex()\n",
    ")\n",
    "\n",
    "print('Всего {} \"аномальных\" пользователя.'.format(len(abnormalUsers)))"
   ]
  },
  {
   "cell_type": "markdown",
   "metadata": {},
   "source": [
    "### Расчет статистической значимости различий в конверсии между группами по «очищенным» данным"
   ]
  },
  {
   "cell_type": "markdown",
   "metadata": {},
   "source": [
    "Создадим серии с числом заказов для каждого пользователя, как мы это делали для сырых данных, но при этом исключим пользователей из списка \"аномальных\" пользователей."
   ]
  },
  {
   "cell_type": "code",
   "execution_count": 39,
   "metadata": {},
   "outputs": [],
   "source": [
    "sampleAFiltered = pd.concat( # объединяем столбец с числом заказов и серию с нулями\n",
    "    [\n",
    "        ordersByUsersA[\n",
    "            np.logical_not(ordersByUsersA['visitorId'].isin(abnormalUsers))\n",
    "        ]['orders'],\n",
    "        pd.Series(\n",
    "            0,\n",
    "            index=np.arange(\n",
    "                data['visitorsPerDateA'].sum() - len(ordersByUsersA['orders'])\n",
    "            ),\n",
    "            name='orders',\n",
    "        ),\n",
    "    ],\n",
    "    axis=0,\n",
    ")\n",
    "\n",
    "sampleBFiltered = pd.concat( # объединяем столбец с числом заказов и серию с нулями\n",
    "    [\n",
    "        ordersByUsersB[\n",
    "            np.logical_not(ordersByUsersB['visitorId'].isin(abnormalUsers))\n",
    "        ]['orders'],\n",
    "        pd.Series(\n",
    "            0,\n",
    "            index=np.arange(\n",
    "                data['visitorsPerDateB'].sum() - len(ordersByUsersB['orders'])\n",
    "            ),\n",
    "            name='orders',\n",
    "        ),\n",
    "    ],\n",
    "    axis=0,\n",
    ")"
   ]
  },
  {
   "cell_type": "markdown",
   "metadata": {},
   "source": [
    "Рассчитаем критерий Манна-Уитни для получившихся серий и проверим нулевую гипотезу о том, что статистически значимых различий в конверсии между группами нет."
   ]
  },
  {
   "cell_type": "code",
   "execution_count": 40,
   "metadata": {
    "scrolled": true
   },
   "outputs": [
    {
     "name": "stdout",
     "output_type": "stream",
     "text": [
      "p-value = 0.009\n",
      "Отвергаем нулевую гипотезу о том, что статистически значимых различий в конверсии между группами нет.\n",
      "Относительный выигрыш группы B относительно A: 18.86%\n"
     ]
    }
   ],
   "source": [
    "alpha = 0.05  # установим  пороговый уровень статистической значимости\n",
    "pvalue = st.mannwhitneyu(sampleAFiltered, sampleBFiltered)[1] # рассчитаем вероятность ошибки\n",
    "print(\"p-value = {0:.3f}\".format(pvalue)) \n",
    "if pvalue < alpha:\n",
    "    print(\"Отвергаем нулевую гипотезу\", end =\" \")\n",
    "else:\n",
    "    print(\"Не получилось отвергнуть нулевую гипотезу\", end =\" \")\n",
    "print('о том, что статистически значимых различий в конверсии между группами нет.')\n",
    "BOverARatio = sampleBFiltered.mean()/sampleAFiltered.mean()-1 # рассчитаем относительный выигрыш группы B относительно A\n",
    "print('Относительный выигрыш группы B относительно A: {0:.2%}'.format(BOverARatio))"
   ]
  },
  {
   "cell_type": "markdown",
   "metadata": {},
   "source": [
    "И после очистки данных статистически значимые различия в конверсии сохранились, а преимущество группы B стало еще больше. Тестируемая гипотеза однозначно увеличивает конверсию."
   ]
  },
  {
   "cell_type": "markdown",
   "metadata": {},
   "source": [
    "### Расчет статистической значимости различий в среднем чеке заказа между группами по «очищенным» данным"
   ]
  },
  {
   "cell_type": "markdown",
   "metadata": {},
   "source": [
    "Повторим расчеты статистической значимости для \"очищенных\" данных по сумме чека. Проверим нулевую гипотезу о том, что статистически значимых различий в среднем чеке между группами нет."
   ]
  },
  {
   "cell_type": "code",
   "execution_count": 41,
   "metadata": {},
   "outputs": [
    {
     "name": "stdout",
     "output_type": "stream",
     "text": [
      "p-value = 0.762\n",
      "Не получилось отвергнуть нулевую гипотезу о том, что статистически значимых различий в среднем чеке между группами нет.\n",
      "Относительный выигрыш группы B относительно A: -2.24%\n"
     ]
    }
   ],
   "source": [
    "sampleAFiltered = (orders # отфильтруем \"аномальных\" пользователей\n",
    "                   [np.logical_and(orders['group'] == 'A', \n",
    "                   np.logical_not(orders['visitorId'].isin(abnormalUsers)))]['revenue']\n",
    ")    \n",
    "    \n",
    "    \n",
    "sampleBFiltered = (orders # отфильтруем \"аномальных\" пользователей\n",
    "                   [np.logical_and(orders['group'] == 'B', \n",
    "                   np.logical_not(orders['visitorId'].isin(abnormalUsers)))]['revenue']\n",
    ")    \n",
    "                               \n",
    "alpha = 0.05 # установим  пороговый уровень статистической значимости\n",
    "pvalue = st.mannwhitneyu(sampleAFiltered, sampleBFiltered)[1] # рассчитаем вероятность ошибки                              \n",
    "print(\"p-value = {0:.3f}\".format(pvalue))                               \n",
    "if pvalue < alpha:\n",
    "    print(\"Отвергаем нулевую гипотезу\", end =\" \")\n",
    "else:\n",
    "    print(\"Не получилось отвергнуть нулевую гипотезу\", end =\" \")\n",
    "print('о том, что статистически значимых различий в среднем чеке между группами нет.')  \n",
    "BOverARatio = sampleBFiltered.mean()/sampleAFiltered.mean()-1 # рассчитаем относительный выигрыш группы B относительно A\n",
    "print('Относительный выигрыш группы B относительно A: {0:.2%}'.format(BOverARatio))"
   ]
  },
  {
   "cell_type": "markdown",
   "metadata": {},
   "source": [
    "Несмотря на \"очистку\" вероятность того, что сумма среднего чека в группе B выше, чем в группе A все так же мала, статистически значимые различия отсутствуют. При этом относительный выигрыш группы B относительно A в чеке упал ниже нуля. Преимущество обеспечивалось выбросами. Без их влияния выручка в группе B незначительно хуже, чем в группе A, а значит целевые параметры не достигаются."
   ]
  },
  {
   "cell_type": "markdown",
   "metadata": {},
   "source": [
    " ### Построение таблицы кумулятивных данных на очищенных данных"
   ]
  },
  {
   "cell_type": "markdown",
   "metadata": {},
   "source": [
    "Пересчитаем таблицу кумулятивных данных, исключив \"аномальных\" пользователей."
   ]
  },
  {
   "cell_type": "code",
   "execution_count": 42,
   "metadata": {},
   "outputs": [
    {
     "data": {
      "text/html": [
       "<div>\n",
       "<style scoped>\n",
       "    .dataframe tbody tr th:only-of-type {\n",
       "        vertical-align: middle;\n",
       "    }\n",
       "\n",
       "    .dataframe tbody tr th {\n",
       "        vertical-align: top;\n",
       "    }\n",
       "\n",
       "    .dataframe thead th {\n",
       "        text-align: right;\n",
       "    }\n",
       "</style>\n",
       "<table border=\"1\" class=\"dataframe\">\n",
       "  <thead>\n",
       "    <tr style=\"text-align: right;\">\n",
       "      <th></th>\n",
       "      <th>0</th>\n",
       "      <th>1</th>\n",
       "      <th>2</th>\n",
       "      <th>3</th>\n",
       "      <th>4</th>\n",
       "      <th>5</th>\n",
       "      <th>6</th>\n",
       "      <th>7</th>\n",
       "      <th>8</th>\n",
       "      <th>9</th>\n",
       "    </tr>\n",
       "  </thead>\n",
       "  <tbody>\n",
       "    <tr>\n",
       "      <th>buyersCummulativeA</th>\n",
       "      <td>15</td>\n",
       "      <td>32</td>\n",
       "      <td>56</td>\n",
       "      <td>67</td>\n",
       "      <td>89</td>\n",
       "      <td>99</td>\n",
       "      <td>113</td>\n",
       "      <td>126</td>\n",
       "      <td>135</td>\n",
       "      <td>148</td>\n",
       "    </tr>\n",
       "    <tr>\n",
       "      <th>buyersCummulativeB</th>\n",
       "      <td>17</td>\n",
       "      <td>37</td>\n",
       "      <td>51</td>\n",
       "      <td>63</td>\n",
       "      <td>83</td>\n",
       "      <td>103</td>\n",
       "      <td>123</td>\n",
       "      <td>144</td>\n",
       "      <td>163</td>\n",
       "      <td>184</td>\n",
       "    </tr>\n",
       "    <tr>\n",
       "      <th>buyersPerDateA</th>\n",
       "      <td>15</td>\n",
       "      <td>17</td>\n",
       "      <td>24</td>\n",
       "      <td>11</td>\n",
       "      <td>22</td>\n",
       "      <td>10</td>\n",
       "      <td>14</td>\n",
       "      <td>13</td>\n",
       "      <td>9</td>\n",
       "      <td>13</td>\n",
       "    </tr>\n",
       "    <tr>\n",
       "      <th>buyersPerDateB</th>\n",
       "      <td>17</td>\n",
       "      <td>20</td>\n",
       "      <td>14</td>\n",
       "      <td>12</td>\n",
       "      <td>20</td>\n",
       "      <td>20</td>\n",
       "      <td>20</td>\n",
       "      <td>21</td>\n",
       "      <td>19</td>\n",
       "      <td>21</td>\n",
       "    </tr>\n",
       "    <tr>\n",
       "      <th>date</th>\n",
       "      <td>2019-08-01</td>\n",
       "      <td>2019-08-02</td>\n",
       "      <td>2019-08-03</td>\n",
       "      <td>2019-08-04</td>\n",
       "      <td>2019-08-05</td>\n",
       "      <td>2019-08-06</td>\n",
       "      <td>2019-08-07</td>\n",
       "      <td>2019-08-08</td>\n",
       "      <td>2019-08-09</td>\n",
       "      <td>2019-08-10</td>\n",
       "    </tr>\n",
       "    <tr>\n",
       "      <th>ordersCummulativeA</th>\n",
       "      <td>16</td>\n",
       "      <td>34</td>\n",
       "      <td>58</td>\n",
       "      <td>69</td>\n",
       "      <td>91</td>\n",
       "      <td>102</td>\n",
       "      <td>116</td>\n",
       "      <td>129</td>\n",
       "      <td>138</td>\n",
       "      <td>151</td>\n",
       "    </tr>\n",
       "    <tr>\n",
       "      <th>ordersCummulativeB</th>\n",
       "      <td>17</td>\n",
       "      <td>38</td>\n",
       "      <td>52</td>\n",
       "      <td>65</td>\n",
       "      <td>85</td>\n",
       "      <td>106</td>\n",
       "      <td>126</td>\n",
       "      <td>147</td>\n",
       "      <td>166</td>\n",
       "      <td>187</td>\n",
       "    </tr>\n",
       "    <tr>\n",
       "      <th>ordersPerDateA</th>\n",
       "      <td>16</td>\n",
       "      <td>18</td>\n",
       "      <td>24</td>\n",
       "      <td>11</td>\n",
       "      <td>22</td>\n",
       "      <td>11</td>\n",
       "      <td>14</td>\n",
       "      <td>13</td>\n",
       "      <td>9</td>\n",
       "      <td>13</td>\n",
       "    </tr>\n",
       "    <tr>\n",
       "      <th>ordersPerDateB</th>\n",
       "      <td>17</td>\n",
       "      <td>21</td>\n",
       "      <td>14</td>\n",
       "      <td>13</td>\n",
       "      <td>20</td>\n",
       "      <td>21</td>\n",
       "      <td>20</td>\n",
       "      <td>21</td>\n",
       "      <td>19</td>\n",
       "      <td>21</td>\n",
       "    </tr>\n",
       "    <tr>\n",
       "      <th>revenueCummulativeA</th>\n",
       "      <td>54351</td>\n",
       "      <td>144263</td>\n",
       "      <td>256736</td>\n",
       "      <td>297912</td>\n",
       "      <td>384295</td>\n",
       "      <td>420384</td>\n",
       "      <td>478232</td>\n",
       "      <td>566181</td>\n",
       "      <td>631848</td>\n",
       "      <td>696233</td>\n",
       "    </tr>\n",
       "    <tr>\n",
       "      <th>revenueCummulativeB</th>\n",
       "      <td>59758</td>\n",
       "      <td>152992</td>\n",
       "      <td>220041</td>\n",
       "      <td>285581</td>\n",
       "      <td>347139</td>\n",
       "      <td>493782</td>\n",
       "      <td>594993</td>\n",
       "      <td>686584</td>\n",
       "      <td>789750</td>\n",
       "      <td>866162</td>\n",
       "    </tr>\n",
       "    <tr>\n",
       "      <th>revenuePerDateA</th>\n",
       "      <td>54351</td>\n",
       "      <td>89912</td>\n",
       "      <td>112473</td>\n",
       "      <td>41176</td>\n",
       "      <td>86383</td>\n",
       "      <td>36089</td>\n",
       "      <td>57848</td>\n",
       "      <td>87949</td>\n",
       "      <td>65667</td>\n",
       "      <td>64385</td>\n",
       "    </tr>\n",
       "    <tr>\n",
       "      <th>revenuePerDateB</th>\n",
       "      <td>59758</td>\n",
       "      <td>93234</td>\n",
       "      <td>67049</td>\n",
       "      <td>65540</td>\n",
       "      <td>61558</td>\n",
       "      <td>146643</td>\n",
       "      <td>101211</td>\n",
       "      <td>91591</td>\n",
       "      <td>103166</td>\n",
       "      <td>76412</td>\n",
       "    </tr>\n",
       "    <tr>\n",
       "      <th>visitorsCummulativeA</th>\n",
       "      <td>719</td>\n",
       "      <td>1338</td>\n",
       "      <td>1845</td>\n",
       "      <td>2562</td>\n",
       "      <td>3318</td>\n",
       "      <td>3985</td>\n",
       "      <td>4629</td>\n",
       "      <td>5239</td>\n",
       "      <td>5856</td>\n",
       "      <td>6262</td>\n",
       "    </tr>\n",
       "    <tr>\n",
       "      <th>visitorsCummulativeB</th>\n",
       "      <td>713</td>\n",
       "      <td>1294</td>\n",
       "      <td>1803</td>\n",
       "      <td>2573</td>\n",
       "      <td>3280</td>\n",
       "      <td>3935</td>\n",
       "      <td>4644</td>\n",
       "      <td>5298</td>\n",
       "      <td>5908</td>\n",
       "      <td>6277</td>\n",
       "    </tr>\n",
       "    <tr>\n",
       "      <th>visitorsPerDateA</th>\n",
       "      <td>719</td>\n",
       "      <td>619</td>\n",
       "      <td>507</td>\n",
       "      <td>717</td>\n",
       "      <td>756</td>\n",
       "      <td>667</td>\n",
       "      <td>644</td>\n",
       "      <td>610</td>\n",
       "      <td>617</td>\n",
       "      <td>406</td>\n",
       "    </tr>\n",
       "    <tr>\n",
       "      <th>visitorsPerDateB</th>\n",
       "      <td>713</td>\n",
       "      <td>581</td>\n",
       "      <td>509</td>\n",
       "      <td>770</td>\n",
       "      <td>707</td>\n",
       "      <td>655</td>\n",
       "      <td>709</td>\n",
       "      <td>654</td>\n",
       "      <td>610</td>\n",
       "      <td>369</td>\n",
       "    </tr>\n",
       "  </tbody>\n",
       "</table>\n",
       "</div>"
      ],
      "text/plain": [
       "                               0           1           2           3  \\\n",
       "buyersCummulativeA            15          32          56          67   \n",
       "buyersCummulativeB            17          37          51          63   \n",
       "buyersPerDateA                15          17          24          11   \n",
       "buyersPerDateB                17          20          14          12   \n",
       "date                  2019-08-01  2019-08-02  2019-08-03  2019-08-04   \n",
       "ordersCummulativeA            16          34          58          69   \n",
       "ordersCummulativeB            17          38          52          65   \n",
       "ordersPerDateA                16          18          24          11   \n",
       "ordersPerDateB                17          21          14          13   \n",
       "revenueCummulativeA        54351      144263      256736      297912   \n",
       "revenueCummulativeB        59758      152992      220041      285581   \n",
       "revenuePerDateA            54351       89912      112473       41176   \n",
       "revenuePerDateB            59758       93234       67049       65540   \n",
       "visitorsCummulativeA         719        1338        1845        2562   \n",
       "visitorsCummulativeB         713        1294        1803        2573   \n",
       "visitorsPerDateA             719         619         507         717   \n",
       "visitorsPerDateB             713         581         509         770   \n",
       "\n",
       "                               4           5           6           7  \\\n",
       "buyersCummulativeA            89          99         113         126   \n",
       "buyersCummulativeB            83         103         123         144   \n",
       "buyersPerDateA                22          10          14          13   \n",
       "buyersPerDateB                20          20          20          21   \n",
       "date                  2019-08-05  2019-08-06  2019-08-07  2019-08-08   \n",
       "ordersCummulativeA            91         102         116         129   \n",
       "ordersCummulativeB            85         106         126         147   \n",
       "ordersPerDateA                22          11          14          13   \n",
       "ordersPerDateB                20          21          20          21   \n",
       "revenueCummulativeA       384295      420384      478232      566181   \n",
       "revenueCummulativeB       347139      493782      594993      686584   \n",
       "revenuePerDateA            86383       36089       57848       87949   \n",
       "revenuePerDateB            61558      146643      101211       91591   \n",
       "visitorsCummulativeA        3318        3985        4629        5239   \n",
       "visitorsCummulativeB        3280        3935        4644        5298   \n",
       "visitorsPerDateA             756         667         644         610   \n",
       "visitorsPerDateB             707         655         709         654   \n",
       "\n",
       "                               8           9  \n",
       "buyersCummulativeA           135         148  \n",
       "buyersCummulativeB           163         184  \n",
       "buyersPerDateA                 9          13  \n",
       "buyersPerDateB                19          21  \n",
       "date                  2019-08-09  2019-08-10  \n",
       "ordersCummulativeA           138         151  \n",
       "ordersCummulativeB           166         187  \n",
       "ordersPerDateA                 9          13  \n",
       "ordersPerDateB                19          21  \n",
       "revenueCummulativeA       631848      696233  \n",
       "revenueCummulativeB       789750      866162  \n",
       "revenuePerDateA            65667       64385  \n",
       "revenuePerDateB           103166       76412  \n",
       "visitorsCummulativeA        5856        6262  \n",
       "visitorsCummulativeB        5908        6277  \n",
       "visitorsPerDateA             617         406  \n",
       "visitorsPerDateB             610         369  "
      ]
     },
     "execution_count": 42,
     "metadata": {},
     "output_type": "execute_result"
    }
   ],
   "source": [
    "orders = orders[np.logical_not(orders['visitorId'].isin(abnormalUsers))]\n",
    "\n",
    "visitorsADaily = visitors[visitors['group'] == 'A'][['date', 'visitors']] # отберем пользователей группы A\n",
    "visitorsADaily.columns = ['date', 'visitorsPerDateA']\n",
    "\n",
    "visitorsACummulative = visitorsADaily.apply( # посчитаем кумулятивные значения\n",
    "    lambda x: visitorsADaily[visitorsADaily['date'] <= x['date']].agg(\n",
    "        {'date': 'max', 'visitorsPerDateA': 'sum'}\n",
    "    ),\n",
    "    axis=1,\n",
    ")\n",
    "visitorsACummulative.columns = ['date', 'visitorsCummulativeA'] # переименуем столбцы\n",
    "\n",
    "visitorsBDaily = visitors[visitors['group'] == 'B'][['date', 'visitors']] # отберем пользователей группы B\n",
    "visitorsBDaily.columns = ['date', 'visitorsPerDateB']\n",
    "\n",
    "visitorsBCummulative = visitorsBDaily.apply( # посчитаем кумулятивные значения\n",
    "    lambda x: visitorsBDaily[visitorsBDaily['date'] <= x['date']].agg(\n",
    "        {'date': 'max', 'visitorsPerDateB': 'sum'}\n",
    "    ),\n",
    "    axis=1,\n",
    ")\n",
    "visitorsBCummulative.columns = ['date', 'visitorsCummulativeB'] # переименуем столбцы\n",
    "\n",
    "ordersADaily = ( # посчитаем дневные количества заказов, пользователей и выручки группы A\n",
    "    orders[orders['group'] == 'A'][['date', 'transactionId', 'visitorId', 'revenue']] \n",
    "    .groupby('date', as_index=False)\n",
    "    .agg({'transactionId': pd.Series.nunique, 'visitorId': pd.Series.nunique,'revenue': 'sum'})\n",
    ")\n",
    "ordersADaily.columns = ['date', 'ordersPerDateA', 'buyersPerDateA', 'revenuePerDateA'] # переименуем столбцы\n",
    "\n",
    "ordersACummulative = ordersADaily.apply( # посчитаем кумулятивные количества заказов, пользователей и выручки группы A\n",
    "    lambda x: ordersADaily[ordersADaily['date'] <= x['date']].agg(\n",
    "        {'date': 'max', 'ordersPerDateA': 'sum', 'buyersPerDateA': 'sum', 'revenuePerDateA': 'sum'}\n",
    "    ),\n",
    "    axis=1,\n",
    ").sort_values(by=['date'])\n",
    "ordersACummulative.columns = [ # переименуем столбцы\n",
    "    'date',\n",
    "    'ordersCummulativeA',\n",
    "    'buyersCummulativeA',\n",
    "    'revenueCummulativeA',\n",
    "]\n",
    "\n",
    "ordersBDaily = ( # посчитаем дневные количества заказов, пользователей и выручки группы B\n",
    "    orders[orders['group'] == 'B'][['date', 'transactionId', 'visitorId', 'revenue']]\n",
    "    .groupby('date', as_index=False)\n",
    "    .agg({'transactionId': pd.Series.nunique, 'visitorId': pd.Series.nunique, 'revenue': 'sum'})\n",
    ")\n",
    "ordersBDaily.columns = ['date', 'ordersPerDateB', 'buyersPerDateB','revenuePerDateB'] # переименуем столбцы\n",
    "\n",
    "ordersBCummulative = ordersBDaily.apply( # посчитаем кумулятивные количества заказов, пользователей и выручки группы B\n",
    "    lambda x: ordersBDaily[ordersBDaily['date'] <= x['date']].agg(\n",
    "        {'date': 'max', 'ordersPerDateB': 'sum', 'buyersPerDateB': 'sum', 'revenuePerDateB': 'sum'}\n",
    "    ),\n",
    "    axis=1,\n",
    ").sort_values(by=['date'])\n",
    "ordersBCummulative.columns = [ # переименуем столбцы\n",
    "    'date',\n",
    "    'ordersCummulativeB',\n",
    "    'buyersCummulativeB',\n",
    "    'revenueCummulativeB',\n",
    "]\n",
    "\n",
    "data = ( # объединим  промежуточные таблицы\n",
    "    ordersADaily.merge(\n",
    "        ordersBDaily, left_on='date', right_on='date', how='left'\n",
    "    )\n",
    "    .merge(ordersACummulative, left_on='date', right_on='date', how='left')\n",
    "    .merge(ordersBCummulative, left_on='date', right_on='date', how='left')\n",
    "    .merge(visitorsADaily, left_on='date', right_on='date', how='left')\n",
    "    .merge(visitorsBDaily, left_on='date', right_on='date', how='left')\n",
    "    .merge(visitorsACummulative, left_on='date', right_on='date', how='left')\n",
    "    .merge(visitorsBCummulative, left_on='date', right_on='date', how='left')\n",
    "    .sort_index(axis=1)\n",
    ")\n",
    "data.head(10).T"
   ]
  },
  {
   "cell_type": "markdown",
   "metadata": {},
   "source": [
    "Теперь можно построить графики кумулятивных параметров по \"очищенным\" данным."
   ]
  },
  {
   "cell_type": "markdown",
   "metadata": {},
   "source": [
    "### Построение графика кумулятивной выручки по группам"
   ]
  },
  {
   "cell_type": "markdown",
   "metadata": {},
   "source": [
    "Посмотрим график кумулятивной выручки по группам."
   ]
  },
  {
   "cell_type": "code",
   "execution_count": 43,
   "metadata": {},
   "outputs": [
    {
     "data": {
      "image/png": "[encoded data removed]",
      "text/plain": [
       "<Figure size 720x360 with 1 Axes>"
      ]
     },
     "metadata": {
      "needs_background": "light"
     },
     "output_type": "display_data"
    }
   ],
   "source": [
    "ax = (data[['date','revenueCummulativeA', 'revenueCummulativeB']] # построим график кумулятивной выручки по группам\n",
    "    .set_index('date')  \n",
    "    .plot(\n",
    "        title='График кумулятивной выручки по группам',  \n",
    "        figsize=(10,5)\n",
    "    )\n",
    ")\n",
    "ax.set_ylabel('Выручка, руб.')\n",
    "ax.set_xlabel('Дата')\n",
    "ax.minorticks_on()\n",
    "ax.grid(b=True, which='major', linestyle='-')\n",
    "ax.grid(b=True, which='minor', linestyle='--')\n",
    "ax.legend(['Группа А', 'Группа B'])\n",
    "\n",
    "plt.show()"
   ]
  },
  {
   "cell_type": "markdown",
   "metadata": {},
   "source": [
    "Мы видим, что кумулятивная выручка для \"очищенных\" данных двух групп слабо отличается, с небольшим преимуществом группы B. "
   ]
  },
  {
   "cell_type": "markdown",
   "metadata": {},
   "source": [
    "### Построение графика кумулятивного среднего чека по группам"
   ]
  },
  {
   "cell_type": "markdown",
   "metadata": {},
   "source": [
    "Рассчитаем сумму среднего чека по группам."
   ]
  },
  {
   "cell_type": "code",
   "execution_count": 44,
   "metadata": {},
   "outputs": [],
   "source": [
    "data['ordersMeanCummulativeA'] = data['revenueCummulativeA']/data['ordersCummulativeA'] # рассчитаем сумму среднего чека по группам\n",
    "data['ordersMeanCummulativeB'] = data['revenueCummulativeB']/data['ordersCummulativeB']"
   ]
  },
  {
   "cell_type": "code",
   "execution_count": 45,
   "metadata": {
    "scrolled": false
   },
   "outputs": [
    {
     "data": {
      "image/png": "[encoded data removed]",
      "text/plain": [
       "<Figure size 720x360 with 1 Axes>"
      ]
     },
     "metadata": {
      "needs_background": "light"
     },
     "output_type": "display_data"
    }
   ],
   "source": [
    "ax = (data[['date','ordersMeanCummulativeA', 'ordersMeanCummulativeB']] # построим график среднего чека по группам\n",
    "    .set_index('date')  \n",
    "    .plot(\n",
    "        title='График среднего чека по группам',   \n",
    "        figsize=(10,5)\n",
    "    )\n",
    ")\n",
    "ax.set_ylabel('Средний чек, руб.')\n",
    "ax.set_xlabel('Дата')\n",
    "ax.minorticks_on()\n",
    "ax.grid(b=True, which='major', linestyle='-')\n",
    "ax.grid(b=True, which='minor', linestyle='--')\n",
    "ax.legend(['Группа А', 'Группа B'])\n",
    "ax.axhline(y=5050, color='gray', linestyle='--')\n",
    "plt.show()"
   ]
  },
  {
   "cell_type": "markdown",
   "metadata": {},
   "source": [
    "Мы видим, что сумма среднего чека для \"очищенных\" данных для обоих групп растет практически одинаково, при этом к концу теста значения для группа A стабилизируются на более высоком уровне, чем для группы B. "
   ]
  },
  {
   "cell_type": "markdown",
   "metadata": {},
   "source": [
    "### Построение графика относительного изменения кумулятивного среднего чека группы B к группе A"
   ]
  },
  {
   "cell_type": "markdown",
   "metadata": {},
   "source": [
    "Рассчитаем относительное изменение кумулятивного среднего чека группы B к группе A."
   ]
  },
  {
   "cell_type": "code",
   "execution_count": 46,
   "metadata": {},
   "outputs": [],
   "source": [
    "data['ordersRatio'] = data['ordersMeanCummulativeB']/data['ordersMeanCummulativeA'] - 1 # рассчитаем относительное изменение кумулятивной конверсии"
   ]
  },
  {
   "cell_type": "code",
   "execution_count": 47,
   "metadata": {
    "scrolled": true
   },
   "outputs": [
    {
     "data": {
      "image/png": "[encoded data removed]",
      "text/plain": [
       "<Figure size 720x360 with 1 Axes>"
      ]
     },
     "metadata": {
      "needs_background": "light"
     },
     "output_type": "display_data"
    }
   ],
   "source": [
    "ax = (data[['date','ordersRatio']] # построим график относительного различия для среднего чека\n",
    "    .set_index('date')  \n",
    "    .plot(\n",
    "        title='График относительного изменения для среднего чека',   \n",
    "        figsize=(10,5),\n",
    "        legend=False\n",
    "    )\n",
    ")\n",
    "ax.set_xlabel('Дата')\n",
    "ax.set_ylabel('Относительное изменение')\n",
    "ax.minorticks_on()\n",
    "ax.grid(b=True, which='major', linestyle='-')\n",
    "ax.grid(b=True, which='minor', linestyle='--')\n",
    "ax.axhline(y=0, color='red', linestyle='-')\n",
    "plt.show()"
   ]
  },
  {
   "cell_type": "markdown",
   "metadata": {},
   "source": [
    "График различия среднего чека говорит о том, что преимущество группы B постепенно снижалось, и к концу теста отсутствует. "
   ]
  },
  {
   "cell_type": "markdown",
   "metadata": {},
   "source": [
    "Исходя из обнаруженных фактов, тест следует остановить и признать его неуспешным. Продолжать смысла нет, потому как вероятность, что при имеющихся данных группа B на самом деле лучше группы A — практически нулевая."
   ]
  },
  {
   "cell_type": "markdown",
   "metadata": {},
   "source": [
    "### Вывод"
   ]
  },
  {
   "cell_type": "markdown",
   "metadata": {},
   "source": [
    "1. A/B-тест проводился в течении месяца, с 1 августа по 31 августа 2019 года.\n",
    "2. Результаты были предоставлены в виде двух файлов orders.csv и visitors.csv, пропусков и дубликатов в данных нет, данных достаточно для решения поставленных задач.\n",
    "3. Типы данных во всех столбцах различаются. В обоих таблицах столбец date, содержащий дату, имеет строковый тип. Поскольку в нашем исследовании даты использовались только для группировки, тип данных мы оставили без изменения.\n",
    "4. Проверив наличие пользователей, участвующих в двух группах одновременно, мы нашли 58 таких пользователей. Мы уддали их, чтобы они не вносили искажениий в результаты.\n",
    "5. Для анализа кумулятивных характеристик мы построили таблицу с кумулятивными данными по датам.\n",
    "6. Мы построили график кумулятивной выручки по группам. По нему кумулятивные выручки группы A и группы B сначала мало отличаются, но из за скачка значения группы B уходят выше, а потом графики идут снова практически параллельно. Скорее всего причина скачка выброс в сумме выручки.\n",
    "7.  Мы построили график среднего чека по группам. На графике сначала группа B обгоняет группу А по сумме среднего чека, потом немного отстает, а далее резким скачком почти в два раза превышает средний чек группы A. Скорее всего причина скачка выброс в сумме выручки.\n",
    "8. Мы построили график относительного изменения кумулятивного среднего чека группы B к группе A. На графике видны резкие скачки, скорее всего вызванные выбросами. В общем отношение колеблется около нулевой линии.\n",
    "9. Мы рассчитали кумулятивную конверсию по группам и построили график конверсии по группам. На графике мы увидели, что по конверсии группа B быстро обходит группу A, конверсии стабилизируются с сохранением разницы.\n",
    "10. Мы рассчитали относительное изменение кумулятивной конверсии группы B к группе A и построили график относительного изменения кумулятивной конверсии группы B к группе A. После колебаний в течении недели, относительная конверсия стабилизируется, и показывает преимущество по конверсии группы B.\n",
    "12. Мы рассчитали таблицу с числом заказов по пользователям и построили по ней график. Мы увидели, что ольшая часть пользователей делает один - два заказа, совсем немного делает больше трех.\n",
    "13. 95 перцентиль числа заказов был равен 2, 99 перцентиль - 4. Мы увидели, что только 5% пользователей сделали больше двух заказов. Мы решили, отнести к аномальным пользователям пользователей сделавших 3 и более заказов.\n",
    "14. 95 перцентиль суммы заказов был равен 28000 рублей, 99 перцентиль - 58233 рублей. Мы установили, что 95% пользователей делают заказы не дороже 28000 рублей и сделали эту сумму границей аномального заказа.\n",
    "15. Мы расчитали статистическую значимость различий в конверсии между группами по «сырым» данным. Для расчета уровень достоверности &alpha; был принят равным 0.05. Вероятность по критерию Манна-Уитни была 0.011. Мы отвергли нулевую гипотезу о том, что статистически значимых различий в конверсии между группами нет. Относительный выигрыш группы B относительно A был почти 16%. \n",
    "14. Мы расчитали статистическую значимость различий в  в среднем чеке заказа между группами по «сырым» данным. Для расчета уровень достоверности &alpha; был принят равным 0.05. Вероятность по критерию Манна-Уитни была 0.829. Мы не смогли отвергнуть нулевую гипотезу о том, что статистически значимых различий в среднем чеке между группами нет. Относительный выигрыш группы B относительно A составил 28.66%  Мы предположили, что скорее всего это влияние выбросов. \n",
    "15. Мы \"очистили\" данные исключив аномальные значения. Для аномальных значений мы установили следующие границы: 2 для числа заказов, и 28000 для суммы заказа. \n",
    "16. Объединив списки пользователей, которые сделали заказы, выходящие за границы аномальных значений, и оставив только уникальные значения ID пользователей мы создали список \"аномальных\" пользователей. В него вошло 83 аномальных пользователя.\n",
    "17. Очистив данные, мы пересчитали часть расчетов.\n",
    "18. Расчет статистической значимости различий в конверсии между группами по «очищенным» данным показал нам, что после очистки данных статистически значимые различия в конверсии сохранились, а преимущество группы B стало еще больше. Тестируемая гипотеза однозначно увеличивает конверсию.\n",
    "19. По расчету статистической значимости различий в среднем чеке заказа между группами по «очищенным» данным мы увидели, что статистически значимых различий в среднем чеке между группами так же не было, а выигрыш группы B относительно A значительно снизился до -2.24%. \n",
    "20. Мы выяснили, что преимущество обеспечивалось выбросами. Без их влияния выручка в группе B незначительно хуже, чем в группе A, а значит целевые параметры не достигаются.\n",
    "21. Для дальнейших расчетов мы пересчитали таблицу кумулятивных данных, исключив \"аномальных\" пользователей.\n",
    "22. По графику кумулятивной выручки по группам, мы увидели, что кумулятивная выручка для \"очищенных\" данных двух групп слабо отличается, с небольшим преимуществом группы B.\n",
    "23. По графику кумулятивного среднего чека по группам мы увидели, что сумма среднего чека для \"очищенных\" данных для обоих групп растет практически одинаково, при этом к концу теста значения для группа A стабилизируются на более высоком уровне, чем для группы B.\n",
    "24. По графику относительного изменения кумулятивного среднего чека группы B к группе A мы увидели, что преимущество группы B постепенно снижалось, и к концу теста отсутствует.\n",
    "25. Исходя из обнаруженных фактов, **тест следует остановить и признать его неуспешным**. Продолжать смысла нет, потому как вероятность, что при имеющихся данных группа B на самом деле лучше группы A — практически нулевая.\n",
    "\n",
    "\n"
   ]
  }
 ],
 "metadata": {
  "ExecuteTimeLog": [
   {
    "duration": 1222,
    "start_time": "2022-06-08T07:12:18.095Z"
   },
   {
    "duration": 3,
    "start_time": "2022-06-08T07:12:21.700Z"
   },
   {
    "duration": 67,
    "start_time": "2022-06-08T07:12:48.361Z"
   },
   {
    "duration": 93,
    "start_time": "2022-06-08T07:13:12.061Z"
   },
   {
    "duration": 26,
    "start_time": "2022-06-08T07:13:16.379Z"
   },
   {
    "duration": 14,
    "start_time": "2022-06-08T07:13:17.152Z"
   },
   {
    "duration": 9,
    "start_time": "2022-06-08T07:13:31.883Z"
   },
   {
    "duration": 9,
    "start_time": "2022-06-08T07:14:53.846Z"
   },
   {
    "duration": 58,
    "start_time": "2022-06-08T07:15:20.395Z"
   },
   {
    "duration": 30,
    "start_time": "2022-06-08T07:15:24.134Z"
   },
   {
    "duration": 8,
    "start_time": "2022-06-08T07:15:52.251Z"
   },
   {
    "duration": 11,
    "start_time": "2022-06-08T07:17:22.835Z"
   },
   {
    "duration": 8,
    "start_time": "2022-06-08T07:17:57.210Z"
   },
   {
    "duration": 4,
    "start_time": "2022-06-08T07:18:08.269Z"
   },
   {
    "duration": 553,
    "start_time": "2022-06-08T07:18:10.841Z"
   },
   {
    "duration": 4,
    "start_time": "2022-06-08T07:32:19.775Z"
   },
   {
    "duration": 453,
    "start_time": "2022-06-08T07:32:47.942Z"
   },
   {
    "duration": 26,
    "start_time": "2022-06-08T07:33:05.871Z"
   },
   {
    "duration": 4,
    "start_time": "2022-06-08T07:33:06.905Z"
   },
   {
    "duration": 417,
    "start_time": "2022-06-08T07:33:08.271Z"
   },
   {
    "duration": 8,
    "start_time": "2022-06-08T07:45:47.880Z"
   },
   {
    "duration": 18,
    "start_time": "2022-06-08T07:50:48.005Z"
   },
   {
    "duration": 106,
    "start_time": "2022-06-08T07:50:54.169Z"
   },
   {
    "duration": 19,
    "start_time": "2022-06-08T07:50:55.406Z"
   },
   {
    "duration": 3,
    "start_time": "2022-06-08T07:51:05.004Z"
   },
   {
    "duration": 22,
    "start_time": "2022-06-08T07:51:06.835Z"
   },
   {
    "duration": 3,
    "start_time": "2022-06-08T07:51:16.020Z"
   },
   {
    "duration": 22,
    "start_time": "2022-06-08T07:51:16.939Z"
   },
   {
    "duration": 7,
    "start_time": "2022-06-08T07:51:35.361Z"
   },
   {
    "duration": 9,
    "start_time": "2022-06-08T07:51:42.036Z"
   },
   {
    "duration": 4,
    "start_time": "2022-06-08T07:54:22.479Z"
   },
   {
    "duration": 21,
    "start_time": "2022-06-08T07:54:25.145Z"
   },
   {
    "duration": 39,
    "start_time": "2022-06-08T07:55:55.079Z"
   },
   {
    "duration": 28,
    "start_time": "2022-06-08T07:55:59.863Z"
   },
   {
    "duration": 23,
    "start_time": "2022-06-08T07:56:06.699Z"
   },
   {
    "duration": 16,
    "start_time": "2022-06-08T07:56:31.465Z"
   },
   {
    "duration": 17,
    "start_time": "2022-06-08T07:58:56.379Z"
   },
   {
    "duration": 19,
    "start_time": "2022-06-08T07:59:10.968Z"
   },
   {
    "duration": 18,
    "start_time": "2022-06-08T07:59:26.525Z"
   },
   {
    "duration": 474,
    "start_time": "2022-06-08T08:00:04.257Z"
   },
   {
    "duration": 131,
    "start_time": "2022-06-08T08:00:24.585Z"
   },
   {
    "duration": 321,
    "start_time": "2022-06-08T08:00:35.689Z"
   },
   {
    "duration": 251,
    "start_time": "2022-06-08T08:01:49.461Z"
   },
   {
    "duration": 257,
    "start_time": "2022-06-08T08:02:18.609Z"
   },
   {
    "duration": 257,
    "start_time": "2022-06-08T08:04:00.787Z"
   },
   {
    "duration": 257,
    "start_time": "2022-06-08T08:04:08.871Z"
   },
   {
    "duration": 14,
    "start_time": "2022-06-08T08:06:15.006Z"
   },
   {
    "duration": 33,
    "start_time": "2022-06-08T08:06:32.856Z"
   },
   {
    "duration": 27,
    "start_time": "2022-06-08T08:06:36.837Z"
   },
   {
    "duration": 19,
    "start_time": "2022-06-08T08:08:30.326Z"
   },
   {
    "duration": 25,
    "start_time": "2022-06-08T08:08:40.335Z"
   },
   {
    "duration": 20,
    "start_time": "2022-06-08T08:08:43.409Z"
   },
   {
    "duration": 48,
    "start_time": "2022-06-08T08:09:38.105Z"
   },
   {
    "duration": 496,
    "start_time": "2022-06-08T08:10:21.116Z"
   },
   {
    "duration": 16,
    "start_time": "2022-06-08T08:10:40.830Z"
   },
   {
    "duration": 21,
    "start_time": "2022-06-08T08:11:51.683Z"
   },
   {
    "duration": 26,
    "start_time": "2022-06-08T08:12:08.393Z"
   },
   {
    "duration": 26,
    "start_time": "2022-06-08T08:14:37.470Z"
   },
   {
    "duration": 18,
    "start_time": "2022-06-08T08:14:56.285Z"
   },
   {
    "duration": 27,
    "start_time": "2022-06-08T08:16:00.660Z"
   },
   {
    "duration": 21,
    "start_time": "2022-06-08T08:16:59.530Z"
   },
   {
    "duration": 26,
    "start_time": "2022-06-08T08:17:16.195Z"
   },
   {
    "duration": 21,
    "start_time": "2022-06-08T08:17:58.942Z"
   },
   {
    "duration": 12,
    "start_time": "2022-06-08T08:20:31.083Z"
   },
   {
    "duration": 14,
    "start_time": "2022-06-08T08:25:18.099Z"
   },
   {
    "duration": 806,
    "start_time": "2022-06-08T08:25:45.599Z"
   },
   {
    "duration": 570,
    "start_time": "2022-06-08T08:26:14.606Z"
   },
   {
    "duration": 777,
    "start_time": "2022-06-08T08:26:30.846Z"
   },
   {
    "duration": 927,
    "start_time": "2022-06-08T08:28:30.318Z"
   },
   {
    "duration": 859,
    "start_time": "2022-06-08T08:28:43.183Z"
   },
   {
    "duration": 818,
    "start_time": "2022-06-08T08:28:49.766Z"
   },
   {
    "duration": 776,
    "start_time": "2022-06-08T08:28:56.064Z"
   },
   {
    "duration": 25,
    "start_time": "2022-06-08T08:29:19.082Z"
   },
   {
    "duration": 8,
    "start_time": "2022-06-08T08:29:19.788Z"
   },
   {
    "duration": 701,
    "start_time": "2022-06-08T08:29:20.768Z"
   },
   {
    "duration": 677,
    "start_time": "2022-06-08T08:29:27.694Z"
   },
   {
    "duration": 129,
    "start_time": "2022-06-08T08:30:04.516Z"
   },
   {
    "duration": 785,
    "start_time": "2022-06-08T08:31:13.761Z"
   },
   {
    "duration": 667,
    "start_time": "2022-06-08T08:31:43.228Z"
   },
   {
    "duration": 141,
    "start_time": "2022-06-08T08:40:58.761Z"
   },
   {
    "duration": 14,
    "start_time": "2022-06-08T08:40:59.657Z"
   },
   {
    "duration": 40,
    "start_time": "2022-06-08T08:41:16.316Z"
   },
   {
    "duration": 14,
    "start_time": "2022-06-08T08:41:19.623Z"
   },
   {
    "duration": 10,
    "start_time": "2022-06-08T08:50:21.641Z"
   },
   {
    "duration": 10,
    "start_time": "2022-06-08T08:50:31.124Z"
   },
   {
    "duration": 8,
    "start_time": "2022-06-08T08:50:46.498Z"
   },
   {
    "duration": 116,
    "start_time": "2022-06-08T08:57:00.192Z"
   },
   {
    "duration": 105,
    "start_time": "2022-06-08T09:04:27.019Z"
   },
   {
    "duration": 238,
    "start_time": "2022-06-08T09:05:10.481Z"
   },
   {
    "duration": 206,
    "start_time": "2022-06-08T09:05:24.900Z"
   },
   {
    "duration": 467,
    "start_time": "2022-06-08T09:13:03.247Z"
   },
   {
    "duration": 268,
    "start_time": "2022-06-08T09:13:23.647Z"
   },
   {
    "duration": 6,
    "start_time": "2022-06-08T09:17:15.767Z"
   },
   {
    "duration": 5,
    "start_time": "2022-06-08T09:17:27.984Z"
   },
   {
    "duration": 357,
    "start_time": "2022-06-08T09:17:39.503Z"
   },
   {
    "duration": 399,
    "start_time": "2022-06-08T09:18:07.319Z"
   },
   {
    "duration": 194,
    "start_time": "2022-06-08T09:18:43.363Z"
   },
   {
    "duration": 199,
    "start_time": "2022-06-08T09:18:52.938Z"
   },
   {
    "duration": 339,
    "start_time": "2022-06-08T09:19:58.979Z"
   },
   {
    "duration": 187,
    "start_time": "2022-06-08T09:20:28.104Z"
   },
   {
    "duration": 24,
    "start_time": "2022-06-08T09:21:45.886Z"
   },
   {
    "duration": 4,
    "start_time": "2022-06-08T09:24:32.585Z"
   },
   {
    "duration": 17,
    "start_time": "2022-06-08T09:24:43.826Z"
   },
   {
    "duration": 12,
    "start_time": "2022-06-08T09:25:07.816Z"
   },
   {
    "duration": 11,
    "start_time": "2022-06-08T09:25:25.445Z"
   },
   {
    "duration": 10,
    "start_time": "2022-06-08T09:25:38.409Z"
   },
   {
    "duration": 6,
    "start_time": "2022-06-08T09:26:11.797Z"
   },
   {
    "duration": 11,
    "start_time": "2022-06-08T09:26:17.090Z"
   },
   {
    "duration": 6,
    "start_time": "2022-06-08T09:26:39.470Z"
   },
   {
    "duration": 6,
    "start_time": "2022-06-08T09:26:52.872Z"
   },
   {
    "duration": 19,
    "start_time": "2022-06-08T09:27:08.682Z"
   },
   {
    "duration": 58,
    "start_time": "2022-06-08T09:28:10.312Z"
   },
   {
    "duration": 21,
    "start_time": "2022-06-08T09:28:11.960Z"
   },
   {
    "duration": 14,
    "start_time": "2022-06-08T09:28:21.187Z"
   },
   {
    "duration": 6,
    "start_time": "2022-06-08T09:28:28.835Z"
   },
   {
    "duration": 18,
    "start_time": "2022-06-08T09:28:49.069Z"
   },
   {
    "duration": 12,
    "start_time": "2022-06-08T09:29:47.531Z"
   },
   {
    "duration": 183,
    "start_time": "2022-06-08T09:30:17.131Z"
   },
   {
    "duration": 455,
    "start_time": "2022-06-08T09:30:32.767Z"
   },
   {
    "duration": 337,
    "start_time": "2022-06-08T09:32:32.275Z"
   },
   {
    "duration": 321,
    "start_time": "2022-06-08T09:34:35.371Z"
   },
   {
    "duration": 59,
    "start_time": "2022-06-08T09:40:30.194Z"
   },
   {
    "duration": 378,
    "start_time": "2022-06-08T09:40:44.847Z"
   },
   {
    "duration": 20,
    "start_time": "2022-06-08T09:45:56.156Z"
   },
   {
    "duration": 6,
    "start_time": "2022-06-08T09:46:01.388Z"
   },
   {
    "duration": 338,
    "start_time": "2022-06-08T09:46:02.065Z"
   },
   {
    "duration": 4,
    "start_time": "2022-06-08T09:47:01.195Z"
   },
   {
    "duration": 440,
    "start_time": "2022-06-08T09:47:37.087Z"
   },
   {
    "duration": 472,
    "start_time": "2022-06-08T09:48:18.619Z"
   },
   {
    "duration": 606,
    "start_time": "2022-06-08T09:48:35.545Z"
   },
   {
    "duration": 451,
    "start_time": "2022-06-08T09:48:48.321Z"
   },
   {
    "duration": 461,
    "start_time": "2022-06-08T09:49:11.609Z"
   },
   {
    "duration": 432,
    "start_time": "2022-06-08T09:49:17.489Z"
   },
   {
    "duration": 434,
    "start_time": "2022-06-08T09:50:04.798Z"
   },
   {
    "duration": 557,
    "start_time": "2022-06-08T09:50:11.011Z"
   },
   {
    "duration": 469,
    "start_time": "2022-06-08T09:50:56.337Z"
   },
   {
    "duration": 476,
    "start_time": "2022-06-08T09:51:08.755Z"
   },
   {
    "duration": 581,
    "start_time": "2022-06-08T09:51:17.077Z"
   },
   {
    "duration": 420,
    "start_time": "2022-06-08T09:51:22.661Z"
   },
   {
    "duration": 445,
    "start_time": "2022-06-08T09:52:06.310Z"
   },
   {
    "duration": 3,
    "start_time": "2022-06-08T10:37:55.037Z"
   },
   {
    "duration": 4,
    "start_time": "2022-06-08T10:37:55.043Z"
   },
   {
    "duration": 28,
    "start_time": "2022-06-08T10:37:55.049Z"
   },
   {
    "duration": 7,
    "start_time": "2022-06-08T10:37:55.079Z"
   },
   {
    "duration": 638,
    "start_time": "2022-06-08T10:37:55.088Z"
   },
   {
    "duration": 4,
    "start_time": "2022-06-08T10:37:55.727Z"
   },
   {
    "duration": 17,
    "start_time": "2022-06-08T10:37:55.742Z"
   },
   {
    "duration": 265,
    "start_time": "2022-06-08T10:37:55.761Z"
   },
   {
    "duration": 49,
    "start_time": "2022-06-08T10:37:56.029Z"
   },
   {
    "duration": 20,
    "start_time": "2022-06-08T10:37:56.080Z"
   },
   {
    "duration": 13,
    "start_time": "2022-06-08T10:37:56.101Z"
   },
   {
    "duration": 7,
    "start_time": "2022-06-08T10:37:56.115Z"
   },
   {
    "duration": 7,
    "start_time": "2022-06-08T10:37:56.123Z"
   },
   {
    "duration": 198,
    "start_time": "2022-06-08T10:37:56.132Z"
   },
   {
    "duration": 0,
    "start_time": "2022-06-08T10:37:56.331Z"
   },
   {
    "duration": 0,
    "start_time": "2022-06-08T10:37:56.333Z"
   },
   {
    "duration": 0,
    "start_time": "2022-06-08T10:37:56.333Z"
   },
   {
    "duration": 0,
    "start_time": "2022-06-08T10:37:56.335Z"
   },
   {
    "duration": 0,
    "start_time": "2022-06-08T10:37:56.335Z"
   },
   {
    "duration": 205,
    "start_time": "2022-06-08T10:40:12.598Z"
   },
   {
    "duration": 63,
    "start_time": "2022-06-08T10:40:24.842Z"
   },
   {
    "duration": 218,
    "start_time": "2022-06-08T10:40:29.838Z"
   },
   {
    "duration": 325,
    "start_time": "2022-06-08T10:40:37.781Z"
   },
   {
    "duration": 5,
    "start_time": "2022-06-08T10:40:44.011Z"
   },
   {
    "duration": 354,
    "start_time": "2022-06-08T10:40:46.588Z"
   },
   {
    "duration": 4,
    "start_time": "2022-06-08T10:40:52.504Z"
   },
   {
    "duration": 423,
    "start_time": "2022-06-08T10:40:53.443Z"
   },
   {
    "duration": 205,
    "start_time": "2022-06-08T10:41:30.369Z"
   },
   {
    "duration": 5,
    "start_time": "2022-06-08T10:46:53.481Z"
   },
   {
    "duration": 15,
    "start_time": "2022-06-08T10:47:17.729Z"
   },
   {
    "duration": 15,
    "start_time": "2022-06-08T10:47:50.566Z"
   },
   {
    "duration": 5,
    "start_time": "2022-06-08T10:48:14.148Z"
   },
   {
    "duration": 382,
    "start_time": "2022-06-08T10:48:15.445Z"
   },
   {
    "duration": 13,
    "start_time": "2022-06-08T10:49:33.988Z"
   },
   {
    "duration": 550,
    "start_time": "2022-06-08T10:49:45.234Z"
   },
   {
    "duration": 6,
    "start_time": "2022-06-08T10:50:18.661Z"
   },
   {
    "duration": 6,
    "start_time": "2022-06-08T10:50:27.448Z"
   },
   {
    "duration": 5,
    "start_time": "2022-06-08T10:51:06.577Z"
   },
   {
    "duration": 5,
    "start_time": "2022-06-08T10:52:07.369Z"
   },
   {
    "duration": 5,
    "start_time": "2022-06-08T10:52:26.008Z"
   },
   {
    "duration": 5,
    "start_time": "2022-06-08T10:53:14.272Z"
   },
   {
    "duration": 5,
    "start_time": "2022-06-08T10:53:19.259Z"
   },
   {
    "duration": 5,
    "start_time": "2022-06-08T10:53:24.974Z"
   },
   {
    "duration": 5,
    "start_time": "2022-06-08T10:53:30.994Z"
   },
   {
    "duration": 581,
    "start_time": "2022-06-08T10:54:05.523Z"
   },
   {
    "duration": 13,
    "start_time": "2022-06-08T10:57:26.589Z"
   },
   {
    "duration": 3,
    "start_time": "2022-06-08T10:57:39.853Z"
   },
   {
    "duration": 439,
    "start_time": "2022-06-08T10:57:40.811Z"
   },
   {
    "duration": 13,
    "start_time": "2022-06-08T11:01:34.088Z"
   },
   {
    "duration": 12,
    "start_time": "2022-06-08T11:02:22.450Z"
   },
   {
    "duration": 103,
    "start_time": "2022-06-08T11:02:30.694Z"
   },
   {
    "duration": 131,
    "start_time": "2022-06-08T11:03:34.385Z"
   },
   {
    "duration": 109,
    "start_time": "2022-06-08T11:04:51.204Z"
   },
   {
    "duration": 117,
    "start_time": "2022-06-08T11:05:14.421Z"
   },
   {
    "duration": 314,
    "start_time": "2022-06-08T11:08:46.416Z"
   },
   {
    "duration": 9,
    "start_time": "2022-06-08T11:09:11.755Z"
   },
   {
    "duration": 41,
    "start_time": "2022-06-08T11:09:27.177Z"
   },
   {
    "duration": 12,
    "start_time": "2022-06-08T11:09:44.769Z"
   },
   {
    "duration": 6,
    "start_time": "2022-06-08T11:10:42.892Z"
   },
   {
    "duration": 10,
    "start_time": "2022-06-08T11:11:03.216Z"
   },
   {
    "duration": 4,
    "start_time": "2022-06-08T11:11:22.431Z"
   },
   {
    "duration": 13,
    "start_time": "2022-06-08T11:11:27.909Z"
   },
   {
    "duration": 11,
    "start_time": "2022-06-08T11:11:59.709Z"
   },
   {
    "duration": 4,
    "start_time": "2022-06-08T11:12:19.709Z"
   },
   {
    "duration": 19,
    "start_time": "2022-06-08T11:12:26.757Z"
   },
   {
    "duration": 18,
    "start_time": "2022-06-08T11:12:38.004Z"
   },
   {
    "duration": 11,
    "start_time": "2022-06-08T11:12:49.606Z"
   },
   {
    "duration": 246,
    "start_time": "2022-06-08T11:12:54.399Z"
   },
   {
    "duration": 108,
    "start_time": "2022-06-08T11:15:32.880Z"
   },
   {
    "duration": 78,
    "start_time": "2022-06-08T11:15:56.770Z"
   },
   {
    "duration": 86,
    "start_time": "2022-06-08T11:16:06.846Z"
   },
   {
    "duration": 270,
    "start_time": "2022-06-08T11:18:42.231Z"
   },
   {
    "duration": 12,
    "start_time": "2022-06-08T11:19:00.386Z"
   },
   {
    "duration": 237,
    "start_time": "2022-06-08T11:19:19.453Z"
   },
   {
    "duration": 271,
    "start_time": "2022-06-08T11:20:01.637Z"
   },
   {
    "duration": 255,
    "start_time": "2022-06-08T11:20:20.121Z"
   },
   {
    "duration": 238,
    "start_time": "2022-06-08T11:20:51.651Z"
   },
   {
    "duration": 257,
    "start_time": "2022-06-08T11:21:22.852Z"
   },
   {
    "duration": 258,
    "start_time": "2022-06-08T11:21:35.322Z"
   },
   {
    "duration": 59,
    "start_time": "2022-06-08T11:22:35.963Z"
   },
   {
    "duration": 56,
    "start_time": "2022-06-08T11:22:55.011Z"
   },
   {
    "duration": 5,
    "start_time": "2022-06-08T11:23:13.817Z"
   },
   {
    "duration": 13,
    "start_time": "2022-06-08T11:24:21.090Z"
   },
   {
    "duration": 5,
    "start_time": "2022-06-08T11:24:29.570Z"
   },
   {
    "duration": 35,
    "start_time": "2022-06-08T11:26:54.491Z"
   },
   {
    "duration": 25,
    "start_time": "2022-06-08T11:27:06.452Z"
   },
   {
    "duration": 28,
    "start_time": "2022-06-08T11:27:15.101Z"
   },
   {
    "duration": 5,
    "start_time": "2022-06-08T11:27:32.106Z"
   },
   {
    "duration": 4,
    "start_time": "2022-06-08T11:28:42.739Z"
   },
   {
    "duration": 9,
    "start_time": "2022-06-08T11:28:47.026Z"
   },
   {
    "duration": 10,
    "start_time": "2022-06-08T11:28:59.938Z"
   },
   {
    "duration": 11,
    "start_time": "2022-06-08T11:30:22.301Z"
   },
   {
    "duration": 11,
    "start_time": "2022-06-08T11:30:41.984Z"
   },
   {
    "duration": 13,
    "start_time": "2022-06-08T11:31:05.250Z"
   },
   {
    "duration": 11,
    "start_time": "2022-06-08T11:31:11.184Z"
   },
   {
    "duration": 7,
    "start_time": "2022-06-08T11:31:16.651Z"
   },
   {
    "duration": 7,
    "start_time": "2022-06-08T11:31:29.538Z"
   },
   {
    "duration": 4,
    "start_time": "2022-06-08T13:28:40.125Z"
   },
   {
    "duration": 6,
    "start_time": "2022-06-08T13:28:40.131Z"
   },
   {
    "duration": 29,
    "start_time": "2022-06-08T13:28:40.139Z"
   },
   {
    "duration": 8,
    "start_time": "2022-06-08T13:28:40.169Z"
   },
   {
    "duration": 658,
    "start_time": "2022-06-08T13:28:40.178Z"
   },
   {
    "duration": 3,
    "start_time": "2022-06-08T13:28:40.838Z"
   },
   {
    "duration": 19,
    "start_time": "2022-06-08T13:28:40.842Z"
   },
   {
    "duration": 267,
    "start_time": "2022-06-08T13:28:40.863Z"
   },
   {
    "duration": 56,
    "start_time": "2022-06-08T13:28:41.132Z"
   },
   {
    "duration": 21,
    "start_time": "2022-06-08T13:28:41.190Z"
   },
   {
    "duration": 13,
    "start_time": "2022-06-08T13:28:41.213Z"
   },
   {
    "duration": 7,
    "start_time": "2022-06-08T13:28:41.228Z"
   },
   {
    "duration": 231,
    "start_time": "2022-06-08T13:28:41.237Z"
   },
   {
    "duration": 307,
    "start_time": "2022-06-08T13:28:41.470Z"
   },
   {
    "duration": 6,
    "start_time": "2022-06-08T13:28:41.780Z"
   },
   {
    "duration": 347,
    "start_time": "2022-06-08T13:28:41.787Z"
   },
   {
    "duration": 5,
    "start_time": "2022-06-08T13:28:42.136Z"
   },
   {
    "duration": 432,
    "start_time": "2022-06-08T13:28:42.143Z"
   },
   {
    "duration": 8,
    "start_time": "2022-06-08T13:28:42.580Z"
   },
   {
    "duration": 607,
    "start_time": "2022-06-08T13:28:42.590Z"
   },
   {
    "duration": 4,
    "start_time": "2022-06-08T13:28:43.199Z"
   },
   {
    "duration": 441,
    "start_time": "2022-06-08T13:28:43.205Z"
   },
   {
    "duration": 11,
    "start_time": "2022-06-08T13:28:43.648Z"
   },
   {
    "duration": 263,
    "start_time": "2022-06-08T13:28:53.486Z"
   },
   {
    "duration": 5,
    "start_time": "2022-06-08T13:28:57.833Z"
   },
   {
    "duration": 267,
    "start_time": "2022-06-08T13:30:25.234Z"
   },
   {
    "duration": 109,
    "start_time": "2022-06-08T13:31:28.347Z"
   },
   {
    "duration": 16,
    "start_time": "2022-06-08T13:32:37.759Z"
   },
   {
    "duration": 324,
    "start_time": "2022-06-08T13:32:44.802Z"
   },
   {
    "duration": 354,
    "start_time": "2022-06-08T13:32:51.850Z"
   },
   {
    "duration": 327,
    "start_time": "2022-06-08T13:33:00.855Z"
   },
   {
    "duration": 334,
    "start_time": "2022-06-08T13:33:21.745Z"
   },
   {
    "duration": 285,
    "start_time": "2022-06-08T13:33:36.339Z"
   },
   {
    "duration": 6,
    "start_time": "2022-06-08T13:34:26.272Z"
   },
   {
    "duration": 9,
    "start_time": "2022-06-08T13:39:17.251Z"
   },
   {
    "duration": 197,
    "start_time": "2022-06-08T13:40:10.416Z"
   },
   {
    "duration": 128,
    "start_time": "2022-06-08T13:41:20.753Z"
   },
   {
    "duration": 476,
    "start_time": "2022-06-08T13:42:31.546Z"
   },
   {
    "duration": 8,
    "start_time": "2022-06-08T13:42:37.188Z"
   },
   {
    "duration": 5,
    "start_time": "2022-06-08T13:42:52.267Z"
   },
   {
    "duration": 11,
    "start_time": "2022-06-08T13:44:24.060Z"
   },
   {
    "duration": 9,
    "start_time": "2022-06-08T13:46:44.884Z"
   },
   {
    "duration": 7,
    "start_time": "2022-06-08T13:46:46.783Z"
   },
   {
    "duration": 46,
    "start_time": "2022-06-08T13:46:49.694Z"
   },
   {
    "duration": 28,
    "start_time": "2022-06-08T13:49:30.755Z"
   },
   {
    "duration": 49,
    "start_time": "2022-06-08T13:50:13.247Z"
   },
   {
    "duration": 42,
    "start_time": "2022-06-08T13:50:20.388Z"
   },
   {
    "duration": 26,
    "start_time": "2022-06-08T13:50:28.381Z"
   },
   {
    "duration": 48,
    "start_time": "2022-06-08T13:50:48.264Z"
   },
   {
    "duration": 28,
    "start_time": "2022-06-08T13:50:55.807Z"
   },
   {
    "duration": 49,
    "start_time": "2022-06-08T13:51:03.623Z"
   },
   {
    "duration": 35,
    "start_time": "2022-06-08T13:51:59.160Z"
   },
   {
    "duration": 5,
    "start_time": "2022-06-08T13:54:49.211Z"
   },
   {
    "duration": 53,
    "start_time": "2022-06-08T13:54:55.095Z"
   },
   {
    "duration": 30,
    "start_time": "2022-06-08T13:56:45.396Z"
   },
   {
    "duration": 15,
    "start_time": "2022-06-08T13:58:09.589Z"
   },
   {
    "duration": 11,
    "start_time": "2022-06-08T13:58:20.371Z"
   },
   {
    "duration": 37,
    "start_time": "2022-06-08T14:01:39.182Z"
   },
   {
    "duration": 32,
    "start_time": "2022-06-08T14:01:59.586Z"
   },
   {
    "duration": 13,
    "start_time": "2022-06-08T14:02:20.356Z"
   },
   {
    "duration": 14,
    "start_time": "2022-06-08T14:02:29.385Z"
   },
   {
    "duration": 13,
    "start_time": "2022-06-08T14:02:52.207Z"
   },
   {
    "duration": 31,
    "start_time": "2022-06-08T14:03:09.576Z"
   },
   {
    "duration": 15,
    "start_time": "2022-06-08T14:07:52.156Z"
   },
   {
    "duration": 4,
    "start_time": "2022-06-08T14:10:58.734Z"
   },
   {
    "duration": 482,
    "start_time": "2022-06-08T14:11:23.470Z"
   },
   {
    "duration": 13,
    "start_time": "2022-06-08T14:12:05.452Z"
   },
   {
    "duration": 311,
    "start_time": "2022-06-08T14:12:10.067Z"
   },
   {
    "duration": 6,
    "start_time": "2022-06-08T14:12:17.036Z"
   },
   {
    "duration": 405,
    "start_time": "2022-06-08T14:12:26.808Z"
   },
   {
    "duration": 15,
    "start_time": "2022-06-08T14:13:26.873Z"
   },
   {
    "duration": 16,
    "start_time": "2022-06-08T14:13:50.774Z"
   },
   {
    "duration": 28,
    "start_time": "2022-06-08T14:14:00.015Z"
   },
   {
    "duration": 18,
    "start_time": "2022-06-08T14:14:09.530Z"
   },
   {
    "duration": 18,
    "start_time": "2022-06-08T14:14:22.563Z"
   },
   {
    "duration": 17,
    "start_time": "2022-06-08T14:14:35.885Z"
   },
   {
    "duration": 19,
    "start_time": "2022-06-08T14:14:52.511Z"
   },
   {
    "duration": 16,
    "start_time": "2022-06-08T14:15:10.371Z"
   },
   {
    "duration": 12,
    "start_time": "2022-06-08T14:15:29.784Z"
   },
   {
    "duration": 11,
    "start_time": "2022-06-08T14:15:49.344Z"
   },
   {
    "duration": 22,
    "start_time": "2022-06-08T14:16:08.311Z"
   },
   {
    "duration": 13,
    "start_time": "2022-06-08T14:16:25.981Z"
   },
   {
    "duration": 15,
    "start_time": "2022-06-08T14:16:44.290Z"
   },
   {
    "duration": 477,
    "start_time": "2022-06-08T14:16:53.048Z"
   },
   {
    "duration": 23,
    "start_time": "2022-06-08T14:17:16.112Z"
   },
   {
    "duration": 444,
    "start_time": "2022-06-08T14:19:51.391Z"
   },
   {
    "duration": 9,
    "start_time": "2022-06-08T14:19:52.271Z"
   },
   {
    "duration": 134,
    "start_time": "2022-06-08T14:21:01.277Z"
   },
   {
    "duration": 13,
    "start_time": "2022-06-08T14:21:23.258Z"
   },
   {
    "duration": 14,
    "start_time": "2022-06-08T14:21:28.357Z"
   },
   {
    "duration": 46,
    "start_time": "2022-06-08T14:21:32.713Z"
   },
   {
    "duration": 1397,
    "start_time": "2022-06-08T15:18:36.780Z"
   },
   {
    "duration": 3,
    "start_time": "2022-06-08T15:18:38.179Z"
   },
   {
    "duration": 75,
    "start_time": "2022-06-08T15:18:38.184Z"
   },
   {
    "duration": 12,
    "start_time": "2022-06-08T15:18:38.261Z"
   },
   {
    "duration": 798,
    "start_time": "2022-06-08T15:18:38.275Z"
   },
   {
    "duration": 3,
    "start_time": "2022-06-08T15:18:39.075Z"
   },
   {
    "duration": 40,
    "start_time": "2022-06-08T15:18:39.080Z"
   },
   {
    "duration": 277,
    "start_time": "2022-06-08T15:18:39.122Z"
   },
   {
    "duration": 139,
    "start_time": "2022-06-08T15:18:39.401Z"
   },
   {
    "duration": 24,
    "start_time": "2022-06-08T15:18:39.544Z"
   },
   {
    "duration": 25,
    "start_time": "2022-06-08T15:18:39.569Z"
   },
   {
    "duration": 15,
    "start_time": "2022-06-08T15:18:39.595Z"
   },
   {
    "duration": 229,
    "start_time": "2022-06-08T15:18:39.612Z"
   },
   {
    "duration": 324,
    "start_time": "2022-06-08T15:18:39.843Z"
   },
   {
    "duration": 10,
    "start_time": "2022-06-08T15:18:40.169Z"
   },
   {
    "duration": 394,
    "start_time": "2022-06-08T15:18:40.182Z"
   },
   {
    "duration": 3,
    "start_time": "2022-06-08T15:18:40.578Z"
   },
   {
    "duration": 493,
    "start_time": "2022-06-08T15:18:40.583Z"
   },
   {
    "duration": 5,
    "start_time": "2022-06-08T15:18:41.078Z"
   },
   {
    "duration": 585,
    "start_time": "2022-06-08T15:18:41.084Z"
   },
   {
    "duration": 4,
    "start_time": "2022-06-08T15:18:41.671Z"
   },
   {
    "duration": 416,
    "start_time": "2022-06-08T15:18:41.676Z"
   },
   {
    "duration": 11,
    "start_time": "2022-06-08T15:18:42.093Z"
   },
   {
    "duration": 259,
    "start_time": "2022-06-08T15:18:42.105Z"
   },
   {
    "duration": 6,
    "start_time": "2022-06-08T15:18:42.366Z"
   },
   {
    "duration": 274,
    "start_time": "2022-06-08T15:18:42.374Z"
   },
   {
    "duration": 12,
    "start_time": "2022-06-08T15:18:42.649Z"
   },
   {
    "duration": 157,
    "start_time": "2022-06-08T15:18:42.664Z"
   },
   {
    "duration": 6,
    "start_time": "2022-06-08T15:18:42.822Z"
   },
   {
    "duration": 11,
    "start_time": "2022-06-08T15:18:42.830Z"
   },
   {
    "duration": 35,
    "start_time": "2022-06-08T15:18:42.843Z"
   },
   {
    "duration": 13,
    "start_time": "2022-06-08T15:18:42.881Z"
   },
   {
    "duration": 15,
    "start_time": "2022-06-08T15:18:42.896Z"
   },
   {
    "duration": 9,
    "start_time": "2022-06-08T15:18:42.912Z"
   },
   {
    "duration": 52,
    "start_time": "2022-06-08T15:18:42.923Z"
   },
   {
    "duration": 5,
    "start_time": "2022-06-08T15:18:42.977Z"
   },
   {
    "duration": 7,
    "start_time": "2022-06-08T15:20:58.745Z"
   },
   {
    "duration": 5,
    "start_time": "2022-06-08T15:21:49.857Z"
   },
   {
    "duration": 20,
    "start_time": "2022-06-08T15:22:15.749Z"
   },
   {
    "duration": 12,
    "start_time": "2022-06-08T15:22:43.346Z"
   },
   {
    "duration": 15,
    "start_time": "2022-06-08T15:23:45.799Z"
   },
   {
    "duration": 4,
    "start_time": "2022-06-08T15:25:16.580Z"
   },
   {
    "duration": 13,
    "start_time": "2022-06-08T15:25:28.215Z"
   },
   {
    "duration": 25,
    "start_time": "2022-06-08T15:26:04.806Z"
   },
   {
    "duration": 10,
    "start_time": "2022-06-08T15:26:32.891Z"
   },
   {
    "duration": 35,
    "start_time": "2022-06-08T15:26:33.983Z"
   },
   {
    "duration": 12,
    "start_time": "2022-06-08T15:27:11.643Z"
   },
   {
    "duration": 27,
    "start_time": "2022-06-08T15:28:10.899Z"
   },
   {
    "duration": 24,
    "start_time": "2022-06-08T15:31:10.904Z"
   },
   {
    "duration": 33,
    "start_time": "2022-06-08T15:31:50.939Z"
   },
   {
    "duration": 33,
    "start_time": "2022-06-08T15:32:15.585Z"
   },
   {
    "duration": 42,
    "start_time": "2022-06-08T15:32:56.193Z"
   },
   {
    "duration": 24,
    "start_time": "2022-06-08T15:33:42.209Z"
   },
   {
    "duration": 25,
    "start_time": "2022-06-08T15:34:00.991Z"
   },
   {
    "duration": 11,
    "start_time": "2022-06-08T15:35:05.250Z"
   },
   {
    "duration": 11,
    "start_time": "2022-06-08T15:35:51.640Z"
   },
   {
    "duration": 46,
    "start_time": "2022-06-08T15:35:53.803Z"
   },
   {
    "duration": 16,
    "start_time": "2022-06-08T15:35:57.526Z"
   },
   {
    "duration": 47,
    "start_time": "2022-06-09T08:02:17.940Z"
   },
   {
    "duration": 1513,
    "start_time": "2022-06-09T08:02:21.665Z"
   },
   {
    "duration": 3,
    "start_time": "2022-06-09T08:02:23.181Z"
   },
   {
    "duration": 94,
    "start_time": "2022-06-09T08:02:23.186Z"
   },
   {
    "duration": 12,
    "start_time": "2022-06-09T08:02:23.282Z"
   },
   {
    "duration": 789,
    "start_time": "2022-06-09T08:02:23.296Z"
   },
   {
    "duration": 4,
    "start_time": "2022-06-09T08:02:24.087Z"
   },
   {
    "duration": 25,
    "start_time": "2022-06-09T08:02:24.093Z"
   },
   {
    "duration": 302,
    "start_time": "2022-06-09T08:02:24.120Z"
   },
   {
    "duration": 176,
    "start_time": "2022-06-09T08:02:24.426Z"
   },
   {
    "duration": 35,
    "start_time": "2022-06-09T08:02:24.604Z"
   },
   {
    "duration": 19,
    "start_time": "2022-06-09T08:02:24.641Z"
   },
   {
    "duration": 100,
    "start_time": "2022-06-09T08:02:24.662Z"
   },
   {
    "duration": 10,
    "start_time": "2022-06-09T08:02:27.350Z"
   },
   {
    "duration": 20,
    "start_time": "2022-06-09T08:03:10.106Z"
   },
   {
    "duration": 29,
    "start_time": "2022-06-09T08:03:41.395Z"
   },
   {
    "duration": 29,
    "start_time": "2022-06-09T08:03:45.240Z"
   },
   {
    "duration": 22,
    "start_time": "2022-06-09T08:03:52.597Z"
   },
   {
    "duration": 22,
    "start_time": "2022-06-09T08:03:59.673Z"
   },
   {
    "duration": 20,
    "start_time": "2022-06-09T08:04:10.187Z"
   },
   {
    "duration": 12,
    "start_time": "2022-06-09T08:04:20.304Z"
   },
   {
    "duration": 9,
    "start_time": "2022-06-09T08:04:35.745Z"
   },
   {
    "duration": 36,
    "start_time": "2022-06-09T08:19:51.211Z"
   },
   {
    "duration": 172,
    "start_time": "2022-06-09T08:35:09.325Z"
   },
   {
    "duration": 764,
    "start_time": "2022-06-09T08:35:23.521Z"
   },
   {
    "duration": 133,
    "start_time": "2022-06-09T08:35:32.601Z"
   },
   {
    "duration": 789,
    "start_time": "2022-06-09T08:35:40.869Z"
   },
   {
    "duration": 76,
    "start_time": "2022-06-09T08:43:35.322Z"
   },
   {
    "duration": 765,
    "start_time": "2022-06-09T08:43:36.982Z"
   },
   {
    "duration": 47,
    "start_time": "2022-06-09T08:48:26.770Z"
   },
   {
    "duration": 18,
    "start_time": "2022-06-09T08:48:40.610Z"
   },
   {
    "duration": 6,
    "start_time": "2022-06-09T08:48:45.060Z"
   },
   {
    "duration": 14,
    "start_time": "2022-06-09T08:48:45.751Z"
   },
   {
    "duration": 13,
    "start_time": "2022-06-09T08:49:11.967Z"
   },
   {
    "duration": 905,
    "start_time": "2022-06-09T08:49:29.570Z"
   },
   {
    "duration": 39,
    "start_time": "2022-06-09T08:50:12.683Z"
   },
   {
    "duration": 8,
    "start_time": "2022-06-09T08:50:14.470Z"
   },
   {
    "duration": 903,
    "start_time": "2022-06-09T08:50:15.168Z"
   },
   {
    "duration": 5,
    "start_time": "2022-06-09T08:52:11.475Z"
   },
   {
    "duration": 27,
    "start_time": "2022-06-09T08:52:27.324Z"
   },
   {
    "duration": 6,
    "start_time": "2022-06-09T08:52:39.479Z"
   },
   {
    "duration": 8,
    "start_time": "2022-06-09T08:52:46.924Z"
   },
   {
    "duration": 22,
    "start_time": "2022-06-09T08:53:05.721Z"
   },
   {
    "duration": 4,
    "start_time": "2022-06-09T08:53:13.465Z"
   },
   {
    "duration": 9,
    "start_time": "2022-06-09T08:53:20.223Z"
   },
   {
    "duration": 6,
    "start_time": "2022-06-09T08:56:47.659Z"
   },
   {
    "duration": 4,
    "start_time": "2022-06-09T08:58:53.883Z"
   },
   {
    "duration": 25,
    "start_time": "2022-06-09T08:58:58.551Z"
   },
   {
    "duration": 21,
    "start_time": "2022-06-09T09:00:05.091Z"
   },
   {
    "duration": 4,
    "start_time": "2022-06-09T09:14:39.842Z"
   },
   {
    "duration": 6,
    "start_time": "2022-06-09T09:15:20.931Z"
   },
   {
    "duration": 26,
    "start_time": "2022-06-09T09:36:48.281Z"
   },
   {
    "duration": 20,
    "start_time": "2022-06-09T09:40:10.389Z"
   },
   {
    "duration": 76,
    "start_time": "2022-06-09T09:40:14.699Z"
   },
   {
    "duration": 32,
    "start_time": "2022-06-09T09:40:15.424Z"
   },
   {
    "duration": 5,
    "start_time": "2022-06-09T09:42:12.697Z"
   },
   {
    "duration": 4,
    "start_time": "2022-06-09T09:42:21.975Z"
   },
   {
    "duration": 85,
    "start_time": "2022-06-09T09:45:48.448Z"
   },
   {
    "duration": 27,
    "start_time": "2022-06-09T09:45:49.687Z"
   },
   {
    "duration": 249,
    "start_time": "2022-06-09T10:46:46.126Z"
   },
   {
    "duration": 9,
    "start_time": "2022-06-09T10:47:04.019Z"
   },
   {
    "duration": 5,
    "start_time": "2022-06-09T10:47:07.209Z"
   },
   {
    "duration": 58,
    "start_time": "2022-06-09T14:24:59.874Z"
   },
   {
    "duration": 1386,
    "start_time": "2022-06-09T14:25:11.704Z"
   },
   {
    "duration": 3,
    "start_time": "2022-06-09T14:25:13.092Z"
   },
   {
    "duration": 101,
    "start_time": "2022-06-09T14:25:13.097Z"
   },
   {
    "duration": 6,
    "start_time": "2022-06-09T14:25:13.201Z"
   },
   {
    "duration": 765,
    "start_time": "2022-06-09T14:25:13.209Z"
   },
   {
    "duration": 5,
    "start_time": "2022-06-09T14:25:13.976Z"
   },
   {
    "duration": 36,
    "start_time": "2022-06-09T14:25:13.983Z"
   },
   {
    "duration": 294,
    "start_time": "2022-06-09T14:25:14.023Z"
   },
   {
    "duration": 125,
    "start_time": "2022-06-09T14:25:14.319Z"
   },
   {
    "duration": 21,
    "start_time": "2022-06-09T14:25:14.446Z"
   },
   {
    "duration": 13,
    "start_time": "2022-06-09T14:25:14.469Z"
   },
   {
    "duration": 6,
    "start_time": "2022-06-09T14:25:14.483Z"
   },
   {
    "duration": 11,
    "start_time": "2022-06-09T14:25:14.491Z"
   },
   {
    "duration": 280,
    "start_time": "2022-06-09T14:25:14.504Z"
   },
   {
    "duration": 248,
    "start_time": "2022-06-09T14:25:19.619Z"
   },
   {
    "duration": 189,
    "start_time": "2022-06-09T14:27:48.234Z"
   },
   {
    "duration": 142,
    "start_time": "2022-06-09T14:28:58.203Z"
   },
   {
    "duration": 254,
    "start_time": "2022-06-09T14:30:13.810Z"
   },
   {
    "duration": 5,
    "start_time": "2022-06-09T14:32:52.316Z"
   },
   {
    "duration": 518,
    "start_time": "2022-06-09T14:33:08.756Z"
   },
   {
    "duration": 5,
    "start_time": "2022-06-09T14:34:02.706Z"
   },
   {
    "duration": 6,
    "start_time": "2022-06-09T14:34:17.907Z"
   },
   {
    "duration": 4,
    "start_time": "2022-06-09T14:34:34.715Z"
   },
   {
    "duration": 6,
    "start_time": "2022-06-09T14:35:13.276Z"
   },
   {
    "duration": 6,
    "start_time": "2022-06-09T14:35:38.631Z"
   },
   {
    "duration": 518,
    "start_time": "2022-06-09T14:36:03.119Z"
   },
   {
    "duration": 491,
    "start_time": "2022-06-09T14:36:12.031Z"
   },
   {
    "duration": 563,
    "start_time": "2022-06-09T14:36:20.481Z"
   },
   {
    "duration": 4,
    "start_time": "2022-06-09T14:37:17.726Z"
   },
   {
    "duration": 434,
    "start_time": "2022-06-09T14:37:18.705Z"
   },
   {
    "duration": 56,
    "start_time": "2022-06-09T14:39:09.514Z"
   },
   {
    "duration": 269,
    "start_time": "2022-06-09T14:39:14.772Z"
   },
   {
    "duration": 251,
    "start_time": "2022-06-09T14:39:38.918Z"
   },
   {
    "duration": 507,
    "start_time": "2022-06-09T14:40:35.827Z"
   },
   {
    "duration": 15,
    "start_time": "2022-06-09T14:40:36.647Z"
   },
   {
    "duration": 5,
    "start_time": "2022-06-09T14:40:45.905Z"
   },
   {
    "duration": 443,
    "start_time": "2022-06-09T14:40:46.870Z"
   },
   {
    "duration": 4,
    "start_time": "2022-06-09T14:40:53.525Z"
   },
   {
    "duration": 461,
    "start_time": "2022-06-09T14:42:24.945Z"
   },
   {
    "duration": 6,
    "start_time": "2022-06-09T14:42:38.472Z"
   },
   {
    "duration": 451,
    "start_time": "2022-06-09T14:42:39.175Z"
   },
   {
    "duration": 11,
    "start_time": "2022-06-09T14:43:53.505Z"
   },
   {
    "duration": 328,
    "start_time": "2022-06-09T14:44:32.052Z"
   },
   {
    "duration": 358,
    "start_time": "2022-06-09T14:44:40.202Z"
   },
   {
    "duration": 15,
    "start_time": "2022-06-09T14:45:16.007Z"
   },
   {
    "duration": 303,
    "start_time": "2022-06-09T14:45:30.927Z"
   },
   {
    "duration": 208,
    "start_time": "2022-06-09T14:46:16.077Z"
   },
   {
    "duration": 9,
    "start_time": "2022-06-09T14:48:21.141Z"
   },
   {
    "duration": 8,
    "start_time": "2022-06-09T14:48:24.326Z"
   },
   {
    "duration": 11,
    "start_time": "2022-06-09T14:48:25.704Z"
   },
   {
    "duration": 8,
    "start_time": "2022-06-09T14:48:32.255Z"
   },
   {
    "duration": 13,
    "start_time": "2022-06-09T14:52:31.245Z"
   },
   {
    "duration": 35,
    "start_time": "2022-06-09T14:52:49.497Z"
   },
   {
    "duration": 13,
    "start_time": "2022-06-09T14:53:03.911Z"
   },
   {
    "duration": 183,
    "start_time": "2022-06-10T09:12:47.063Z"
   },
   {
    "duration": 4,
    "start_time": "2022-06-10T09:13:38.422Z"
   },
   {
    "duration": 7,
    "start_time": "2022-06-10T09:13:49.662Z"
   },
   {
    "duration": 8,
    "start_time": "2022-06-10T09:14:27.820Z"
   },
   {
    "duration": 5,
    "start_time": "2022-06-10T09:15:17.103Z"
   },
   {
    "duration": 95,
    "start_time": "2022-06-10T09:17:06.978Z"
   },
   {
    "duration": 111,
    "start_time": "2022-06-10T09:18:41.877Z"
   },
   {
    "duration": 124,
    "start_time": "2022-06-10T09:18:52.380Z"
   },
   {
    "duration": 92,
    "start_time": "2022-06-10T09:19:50.471Z"
   },
   {
    "duration": 90,
    "start_time": "2022-06-10T09:23:02.775Z"
   },
   {
    "duration": 11,
    "start_time": "2022-06-10T09:23:09.976Z"
   },
   {
    "duration": 10,
    "start_time": "2022-06-10T09:24:19.864Z"
   },
   {
    "duration": 61,
    "start_time": "2022-06-10T09:25:27.108Z"
   },
   {
    "duration": 11,
    "start_time": "2022-06-10T09:25:33.963Z"
   },
   {
    "duration": 44,
    "start_time": "2022-06-10T09:29:46.127Z"
   },
   {
    "duration": 37,
    "start_time": "2022-06-10T09:29:57.675Z"
   },
   {
    "duration": 25,
    "start_time": "2022-06-10T09:32:50.449Z"
   },
   {
    "duration": 2,
    "start_time": "2022-06-10T09:53:56.985Z"
   },
   {
    "duration": 10,
    "start_time": "2022-06-10T10:00:46.873Z"
   },
   {
    "duration": 22,
    "start_time": "2022-06-10T10:01:22.872Z"
   },
   {
    "duration": 251,
    "start_time": "2022-06-10T10:01:59.228Z"
   },
   {
    "duration": 342,
    "start_time": "2022-06-10T10:03:16.436Z"
   },
   {
    "duration": 4,
    "start_time": "2022-06-10T10:03:23.518Z"
   },
   {
    "duration": 376,
    "start_time": "2022-06-10T10:03:24.495Z"
   },
   {
    "duration": 4,
    "start_time": "2022-06-10T10:03:36.022Z"
   },
   {
    "duration": 411,
    "start_time": "2022-06-10T10:03:36.796Z"
   },
   {
    "duration": 257,
    "start_time": "2022-06-10T10:23:59.657Z"
   },
   {
    "duration": 507,
    "start_time": "2022-06-10T10:24:20.560Z"
   },
   {
    "duration": 320,
    "start_time": "2022-06-10T10:24:25.251Z"
   },
   {
    "duration": 301,
    "start_time": "2022-06-10T10:24:33.658Z"
   },
   {
    "duration": 69,
    "start_time": "2022-06-10T10:26:19.635Z"
   },
   {
    "duration": 4,
    "start_time": "2022-06-10T10:36:31.553Z"
   },
   {
    "duration": 4,
    "start_time": "2022-06-10T10:36:35.257Z"
   },
   {
    "duration": 264,
    "start_time": "2022-06-10T10:36:56.236Z"
   },
   {
    "duration": 6,
    "start_time": "2022-06-10T10:37:01.916Z"
   },
   {
    "duration": 245,
    "start_time": "2022-06-10T10:48:03.641Z"
   },
   {
    "duration": 1192,
    "start_time": "2022-06-10T16:02:15.067Z"
   },
   {
    "duration": 2,
    "start_time": "2022-06-10T16:02:16.261Z"
   },
   {
    "duration": 93,
    "start_time": "2022-06-10T16:02:16.265Z"
   },
   {
    "duration": 6,
    "start_time": "2022-06-10T16:02:16.359Z"
   },
   {
    "duration": 617,
    "start_time": "2022-06-10T16:02:16.366Z"
   },
   {
    "duration": 4,
    "start_time": "2022-06-10T16:02:16.985Z"
   },
   {
    "duration": 8,
    "start_time": "2022-06-10T16:02:16.990Z"
   },
   {
    "duration": 0,
    "start_time": "2022-06-10T16:02:17.000Z"
   },
   {
    "duration": 0,
    "start_time": "2022-06-10T16:02:17.001Z"
   },
   {
    "duration": 0,
    "start_time": "2022-06-10T16:02:17.002Z"
   },
   {
    "duration": 0,
    "start_time": "2022-06-10T16:02:17.003Z"
   },
   {
    "duration": 0,
    "start_time": "2022-06-10T16:02:17.004Z"
   },
   {
    "duration": 0,
    "start_time": "2022-06-10T16:02:17.005Z"
   },
   {
    "duration": 0,
    "start_time": "2022-06-10T16:02:17.006Z"
   },
   {
    "duration": 0,
    "start_time": "2022-06-10T16:02:17.007Z"
   },
   {
    "duration": 0,
    "start_time": "2022-06-10T16:02:17.008Z"
   },
   {
    "duration": 0,
    "start_time": "2022-06-10T16:02:17.008Z"
   },
   {
    "duration": 0,
    "start_time": "2022-06-10T16:02:17.009Z"
   },
   {
    "duration": 0,
    "start_time": "2022-06-10T16:02:17.010Z"
   },
   {
    "duration": 0,
    "start_time": "2022-06-10T16:02:17.011Z"
   },
   {
    "duration": 0,
    "start_time": "2022-06-10T16:02:17.012Z"
   },
   {
    "duration": 0,
    "start_time": "2022-06-10T16:02:17.013Z"
   },
   {
    "duration": 0,
    "start_time": "2022-06-10T16:02:17.014Z"
   },
   {
    "duration": 0,
    "start_time": "2022-06-10T16:02:17.014Z"
   },
   {
    "duration": 0,
    "start_time": "2022-06-10T16:02:17.016Z"
   },
   {
    "duration": 0,
    "start_time": "2022-06-10T16:02:17.016Z"
   },
   {
    "duration": 0,
    "start_time": "2022-06-10T16:02:17.017Z"
   },
   {
    "duration": 0,
    "start_time": "2022-06-10T16:02:17.018Z"
   },
   {
    "duration": 0,
    "start_time": "2022-06-10T16:02:17.019Z"
   },
   {
    "duration": 0,
    "start_time": "2022-06-10T16:02:17.020Z"
   },
   {
    "duration": 0,
    "start_time": "2022-06-10T16:02:17.021Z"
   },
   {
    "duration": 0,
    "start_time": "2022-06-10T16:02:17.022Z"
   },
   {
    "duration": 1,
    "start_time": "2022-06-10T16:02:17.022Z"
   },
   {
    "duration": 0,
    "start_time": "2022-06-10T16:02:17.024Z"
   },
   {
    "duration": 0,
    "start_time": "2022-06-10T16:02:17.024Z"
   },
   {
    "duration": 0,
    "start_time": "2022-06-10T16:02:17.025Z"
   },
   {
    "duration": 0,
    "start_time": "2022-06-10T16:02:17.026Z"
   },
   {
    "duration": 0,
    "start_time": "2022-06-10T16:02:17.027Z"
   },
   {
    "duration": 0,
    "start_time": "2022-06-10T16:02:17.028Z"
   },
   {
    "duration": 0,
    "start_time": "2022-06-10T16:02:17.028Z"
   },
   {
    "duration": 0,
    "start_time": "2022-06-10T16:02:17.029Z"
   },
   {
    "duration": 0,
    "start_time": "2022-06-10T16:02:17.029Z"
   },
   {
    "duration": 0,
    "start_time": "2022-06-10T16:02:17.029Z"
   },
   {
    "duration": 3,
    "start_time": "2022-06-10T16:03:12.610Z"
   },
   {
    "duration": 3,
    "start_time": "2022-06-10T16:03:18.286Z"
   },
   {
    "duration": 2,
    "start_time": "2022-06-10T16:03:19.064Z"
   },
   {
    "duration": 32,
    "start_time": "2022-06-10T16:03:22.228Z"
   },
   {
    "duration": 4,
    "start_time": "2022-06-10T16:03:27.218Z"
   },
   {
    "duration": 563,
    "start_time": "2022-06-10T16:03:31.385Z"
   },
   {
    "duration": 3,
    "start_time": "2022-06-10T16:03:47.548Z"
   },
   {
    "duration": 36,
    "start_time": "2022-06-10T16:03:53.667Z"
   },
   {
    "duration": 17,
    "start_time": "2022-06-10T16:04:34.872Z"
   },
   {
    "duration": 228,
    "start_time": "2022-06-10T16:04:51.895Z"
   },
   {
    "duration": 173,
    "start_time": "2022-06-10T16:06:01.431Z"
   },
   {
    "duration": 19,
    "start_time": "2022-06-10T16:06:02.495Z"
   },
   {
    "duration": 11,
    "start_time": "2022-06-10T16:06:10.584Z"
   },
   {
    "duration": 7,
    "start_time": "2022-06-10T16:06:22.345Z"
   },
   {
    "duration": 218,
    "start_time": "2022-06-10T16:06:33.279Z"
   },
   {
    "duration": 286,
    "start_time": "2022-06-10T16:06:42.136Z"
   },
   {
    "duration": 5,
    "start_time": "2022-06-10T16:06:49.115Z"
   },
   {
    "duration": 357,
    "start_time": "2022-06-10T16:06:50.204Z"
   },
   {
    "duration": 4,
    "start_time": "2022-06-10T16:06:52.329Z"
   },
   {
    "duration": 496,
    "start_time": "2022-06-10T16:06:53.293Z"
   },
   {
    "duration": 5,
    "start_time": "2022-06-10T16:06:55.176Z"
   },
   {
    "duration": 436,
    "start_time": "2022-06-10T16:06:55.771Z"
   },
   {
    "duration": 4,
    "start_time": "2022-06-10T16:06:57.193Z"
   },
   {
    "duration": 392,
    "start_time": "2022-06-10T16:06:58.199Z"
   },
   {
    "duration": 9,
    "start_time": "2022-06-10T16:07:00.013Z"
   },
   {
    "duration": 230,
    "start_time": "2022-06-10T16:07:00.664Z"
   },
   {
    "duration": 5,
    "start_time": "2022-06-10T16:07:01.759Z"
   },
   {
    "duration": 279,
    "start_time": "2022-06-10T16:07:15.705Z"
   },
   {
    "duration": 333,
    "start_time": "2022-06-10T16:07:23.408Z"
   },
   {
    "duration": 332,
    "start_time": "2022-06-10T16:07:50.389Z"
   },
   {
    "duration": 369,
    "start_time": "2022-06-10T16:08:05.037Z"
   },
   {
    "duration": 436,
    "start_time": "2022-06-10T16:08:20.536Z"
   },
   {
    "duration": 338,
    "start_time": "2022-06-10T16:08:38.884Z"
   },
   {
    "duration": 87,
    "start_time": "2022-06-10T16:08:59.875Z"
   },
   {
    "duration": 225,
    "start_time": "2022-06-10T16:09:22.511Z"
   },
   {
    "duration": 9,
    "start_time": "2022-06-10T16:11:20.596Z"
   },
   {
    "duration": 97,
    "start_time": "2022-06-10T16:11:49.039Z"
   },
   {
    "duration": 21,
    "start_time": "2022-06-10T16:13:59.679Z"
   },
   {
    "duration": 14,
    "start_time": "2022-06-10T16:14:55.587Z"
   },
   {
    "duration": 33,
    "start_time": "2022-06-10T16:15:14.465Z"
   },
   {
    "duration": 274,
    "start_time": "2022-06-10T16:15:22.199Z"
   },
   {
    "duration": 5,
    "start_time": "2022-06-10T16:15:40.556Z"
   },
   {
    "duration": 249,
    "start_time": "2022-06-10T16:15:48.467Z"
   },
   {
    "duration": 334,
    "start_time": "2022-06-10T16:16:40.583Z"
   },
   {
    "duration": 7,
    "start_time": "2022-06-10T16:16:48.384Z"
   },
   {
    "duration": 5,
    "start_time": "2022-06-10T16:16:57.177Z"
   },
   {
    "duration": 100,
    "start_time": "2022-06-10T16:16:58.955Z"
   },
   {
    "duration": 94,
    "start_time": "2022-06-10T16:17:27.537Z"
   },
   {
    "duration": 120,
    "start_time": "2022-06-10T16:17:58.113Z"
   },
   {
    "duration": 97,
    "start_time": "2022-06-10T16:18:06.550Z"
   },
   {
    "duration": 105,
    "start_time": "2022-06-10T16:18:15.631Z"
   },
   {
    "duration": 110,
    "start_time": "2022-06-10T16:18:21.247Z"
   },
   {
    "duration": 122,
    "start_time": "2022-06-10T16:18:46.011Z"
   },
   {
    "duration": 7,
    "start_time": "2022-06-10T16:18:49.329Z"
   },
   {
    "duration": 25,
    "start_time": "2022-06-10T16:18:50.743Z"
   },
   {
    "duration": 11,
    "start_time": "2022-06-10T16:19:11.957Z"
   },
   {
    "duration": 12,
    "start_time": "2022-06-10T16:19:33.830Z"
   },
   {
    "duration": 23,
    "start_time": "2022-06-10T16:19:43.543Z"
   },
   {
    "duration": 11,
    "start_time": "2022-06-10T16:19:49.030Z"
   },
   {
    "duration": 232,
    "start_time": "2022-06-10T16:20:02.841Z"
   },
   {
    "duration": 356,
    "start_time": "2022-06-10T16:20:07.692Z"
   },
   {
    "duration": 5,
    "start_time": "2022-06-10T16:20:14.992Z"
   },
   {
    "duration": 283,
    "start_time": "2022-06-10T16:20:16.820Z"
   },
   {
    "duration": 327,
    "start_time": "2022-06-10T16:20:50.246Z"
   },
   {
    "duration": 282,
    "start_time": "2022-06-10T16:20:59.635Z"
   },
   {
    "duration": 388,
    "start_time": "2022-06-10T16:21:55.684Z"
   },
   {
    "duration": 424,
    "start_time": "2022-06-10T16:22:04.329Z"
   },
   {
    "duration": 407,
    "start_time": "2022-06-10T16:22:15.433Z"
   },
   {
    "duration": 13,
    "start_time": "2022-06-10T16:23:21.029Z"
   },
   {
    "duration": 4,
    "start_time": "2022-06-10T16:23:42.487Z"
   },
   {
    "duration": 444,
    "start_time": "2022-06-10T16:23:43.296Z"
   },
   {
    "duration": 3,
    "start_time": "2022-06-13T08:47:09.482Z"
   },
   {
    "duration": 58,
    "start_time": "2022-06-13T09:09:54.036Z"
   },
   {
    "duration": 5,
    "start_time": "2022-06-13T09:23:22.294Z"
   },
   {
    "duration": 7,
    "start_time": "2022-06-13T09:24:33.281Z"
   },
   {
    "duration": 1172,
    "start_time": "2022-06-13T09:24:47.177Z"
   },
   {
    "duration": 3,
    "start_time": "2022-06-13T09:24:48.351Z"
   },
   {
    "duration": 80,
    "start_time": "2022-06-13T09:24:48.355Z"
   },
   {
    "duration": 6,
    "start_time": "2022-06-13T09:24:48.438Z"
   },
   {
    "duration": 630,
    "start_time": "2022-06-13T09:24:48.446Z"
   },
   {
    "duration": 3,
    "start_time": "2022-06-13T09:24:49.078Z"
   },
   {
    "duration": 21,
    "start_time": "2022-06-13T09:24:49.082Z"
   },
   {
    "duration": 245,
    "start_time": "2022-06-13T09:24:49.105Z"
   },
   {
    "duration": 130,
    "start_time": "2022-06-13T09:24:49.352Z"
   },
   {
    "duration": 18,
    "start_time": "2022-06-13T09:24:49.484Z"
   },
   {
    "duration": 11,
    "start_time": "2022-06-13T09:24:49.503Z"
   },
   {
    "duration": 6,
    "start_time": "2022-06-13T09:24:49.516Z"
   },
   {
    "duration": 232,
    "start_time": "2022-06-13T09:24:49.523Z"
   },
   {
    "duration": 286,
    "start_time": "2022-06-13T09:24:49.757Z"
   },
   {
    "duration": 5,
    "start_time": "2022-06-13T09:24:50.044Z"
   },
   {
    "duration": 269,
    "start_time": "2022-06-13T09:24:50.050Z"
   },
   {
    "duration": 7,
    "start_time": "2022-06-13T09:24:50.320Z"
   },
   {
    "duration": 385,
    "start_time": "2022-06-13T09:24:50.328Z"
   },
   {
    "duration": 5,
    "start_time": "2022-06-13T09:24:50.714Z"
   },
   {
    "duration": 510,
    "start_time": "2022-06-13T09:24:50.725Z"
   },
   {
    "duration": 5,
    "start_time": "2022-06-13T09:24:51.236Z"
   },
   {
    "duration": 350,
    "start_time": "2022-06-13T09:24:51.243Z"
   },
   {
    "duration": 10,
    "start_time": "2022-06-13T09:24:51.594Z"
   },
   {
    "duration": 234,
    "start_time": "2022-06-13T09:24:51.605Z"
   },
   {
    "duration": 5,
    "start_time": "2022-06-13T09:24:51.841Z"
   },
   {
    "duration": 246,
    "start_time": "2022-06-13T09:24:51.847Z"
   },
   {
    "duration": 8,
    "start_time": "2022-06-13T09:24:52.094Z"
   },
   {
    "duration": 7,
    "start_time": "2022-06-13T09:24:52.104Z"
   },
   {
    "duration": 114,
    "start_time": "2022-06-13T09:24:52.113Z"
   },
   {
    "duration": 152,
    "start_time": "2022-06-13T09:24:52.228Z"
   },
   {
    "duration": 5,
    "start_time": "2022-06-13T09:24:52.381Z"
   },
   {
    "duration": 23,
    "start_time": "2022-06-13T09:24:52.388Z"
   },
   {
    "duration": 11,
    "start_time": "2022-06-13T09:24:52.425Z"
   },
   {
    "duration": 9,
    "start_time": "2022-06-13T09:24:52.437Z"
   },
   {
    "duration": 24,
    "start_time": "2022-06-13T09:24:52.447Z"
   },
   {
    "duration": 10,
    "start_time": "2022-06-13T09:24:52.472Z"
   },
   {
    "duration": 8,
    "start_time": "2022-06-13T09:24:52.484Z"
   },
   {
    "duration": 234,
    "start_time": "2022-06-13T09:24:52.494Z"
   },
   {
    "duration": 262,
    "start_time": "2022-06-13T09:24:52.729Z"
   },
   {
    "duration": 5,
    "start_time": "2022-06-13T09:24:52.992Z"
   },
   {
    "duration": 428,
    "start_time": "2022-06-13T09:24:52.999Z"
   },
   {
    "duration": 4,
    "start_time": "2022-06-13T09:24:53.429Z"
   },
   {
    "duration": 462,
    "start_time": "2022-06-13T09:40:16.698Z"
   },
   {
    "duration": 60,
    "start_time": "2022-06-13T09:43:49.534Z"
   },
   {
    "duration": 5,
    "start_time": "2022-06-13T09:45:03.825Z"
   },
   {
    "duration": 414,
    "start_time": "2022-06-13T09:45:04.926Z"
   },
   {
    "duration": 7,
    "start_time": "2022-06-13T09:54:12.247Z"
   },
   {
    "duration": 222,
    "start_time": "2022-06-13T09:55:17.334Z"
   },
   {
    "duration": 3,
    "start_time": "2022-06-13T09:55:38.128Z"
   },
   {
    "duration": 14,
    "start_time": "2022-06-13T09:55:38.133Z"
   },
   {
    "duration": 32,
    "start_time": "2022-06-13T09:55:38.148Z"
   },
   {
    "duration": 4,
    "start_time": "2022-06-13T09:55:38.182Z"
   },
   {
    "duration": 570,
    "start_time": "2022-06-13T09:55:38.188Z"
   },
   {
    "duration": 4,
    "start_time": "2022-06-13T09:55:38.760Z"
   },
   {
    "duration": 31,
    "start_time": "2022-06-13T09:55:38.766Z"
   },
   {
    "duration": 256,
    "start_time": "2022-06-13T09:55:38.799Z"
   },
   {
    "duration": 48,
    "start_time": "2022-06-13T09:55:39.057Z"
   },
   {
    "duration": 19,
    "start_time": "2022-06-13T09:55:39.107Z"
   },
   {
    "duration": 13,
    "start_time": "2022-06-13T09:55:39.129Z"
   },
   {
    "duration": 5,
    "start_time": "2022-06-13T09:55:39.144Z"
   },
   {
    "duration": 232,
    "start_time": "2022-06-13T09:55:39.151Z"
   },
   {
    "duration": 329,
    "start_time": "2022-06-13T09:55:39.387Z"
   },
   {
    "duration": 4,
    "start_time": "2022-06-13T09:55:39.725Z"
   },
   {
    "duration": 270,
    "start_time": "2022-06-13T09:55:39.730Z"
   },
   {
    "duration": 4,
    "start_time": "2022-06-13T09:55:40.001Z"
   },
   {
    "duration": 486,
    "start_time": "2022-06-13T09:55:40.007Z"
   },
   {
    "duration": 4,
    "start_time": "2022-06-13T09:55:40.495Z"
   },
   {
    "duration": 420,
    "start_time": "2022-06-13T09:55:40.501Z"
   },
   {
    "duration": 3,
    "start_time": "2022-06-13T09:55:40.926Z"
   },
   {
    "duration": 352,
    "start_time": "2022-06-13T09:55:40.931Z"
   },
   {
    "duration": 6,
    "start_time": "2022-06-13T09:55:41.284Z"
   },
   {
    "duration": 232,
    "start_time": "2022-06-13T09:55:41.292Z"
   },
   {
    "duration": 230,
    "start_time": "2022-06-13T10:14:06.790Z"
   },
   {
    "duration": 235,
    "start_time": "2022-06-13T10:14:16.002Z"
   },
   {
    "duration": 284,
    "start_time": "2022-06-13T10:14:40.743Z"
   },
   {
    "duration": 298,
    "start_time": "2022-06-13T10:16:23.011Z"
   },
   {
    "duration": 175,
    "start_time": "2022-06-13T10:17:20.146Z"
   },
   {
    "duration": 110,
    "start_time": "2022-06-13T10:17:32.988Z"
   },
   {
    "duration": 165,
    "start_time": "2022-06-13T10:17:41.812Z"
   },
   {
    "duration": 177,
    "start_time": "2022-06-13T10:18:19.267Z"
   },
   {
    "duration": 164,
    "start_time": "2022-06-13T10:18:44.629Z"
   },
   {
    "duration": 173,
    "start_time": "2022-06-13T10:19:00.496Z"
   },
   {
    "duration": 141,
    "start_time": "2022-06-13T10:19:13.693Z"
   },
   {
    "duration": 144,
    "start_time": "2022-06-13T10:19:20.707Z"
   },
   {
    "duration": 131,
    "start_time": "2022-06-13T10:19:29.601Z"
   },
   {
    "duration": 139,
    "start_time": "2022-06-13T10:19:51.318Z"
   },
   {
    "duration": 139,
    "start_time": "2022-06-13T10:20:20.292Z"
   },
   {
    "duration": 134,
    "start_time": "2022-06-13T10:20:27.861Z"
   },
   {
    "duration": 277,
    "start_time": "2022-06-13T10:21:08.670Z"
   },
   {
    "duration": 146,
    "start_time": "2022-06-13T10:21:17.128Z"
   },
   {
    "duration": 152,
    "start_time": "2022-06-13T10:21:31.035Z"
   },
   {
    "duration": 219,
    "start_time": "2022-06-13T10:21:38.739Z"
   },
   {
    "duration": 137,
    "start_time": "2022-06-13T10:21:46.163Z"
   },
   {
    "duration": 138,
    "start_time": "2022-06-13T10:21:51.832Z"
   },
   {
    "duration": 117,
    "start_time": "2022-06-13T10:22:55.752Z"
   },
   {
    "duration": 6,
    "start_time": "2022-06-13T10:23:04.929Z"
   },
   {
    "duration": 118,
    "start_time": "2022-06-13T10:23:06.336Z"
   },
   {
    "duration": 227,
    "start_time": "2022-06-13T10:23:48.288Z"
   },
   {
    "duration": 116,
    "start_time": "2022-06-13T10:24:05.066Z"
   },
   {
    "duration": 260,
    "start_time": "2022-06-13T10:24:28.680Z"
   },
   {
    "duration": 121,
    "start_time": "2022-06-13T10:24:40.321Z"
   },
   {
    "duration": 7,
    "start_time": "2022-06-13T10:25:04.644Z"
   },
   {
    "duration": 208,
    "start_time": "2022-06-13T10:25:11.388Z"
   },
   {
    "duration": 224,
    "start_time": "2022-06-13T10:25:55.096Z"
   },
   {
    "duration": 38,
    "start_time": "2022-06-13T10:26:43.031Z"
   },
   {
    "duration": 112,
    "start_time": "2022-06-13T10:26:54.513Z"
   },
   {
    "duration": 111,
    "start_time": "2022-06-13T10:27:25.135Z"
   },
   {
    "duration": 124,
    "start_time": "2022-06-13T10:27:41.149Z"
   },
   {
    "duration": 222,
    "start_time": "2022-06-13T10:27:57.705Z"
   },
   {
    "duration": 1183,
    "start_time": "2022-06-14T08:40:05.679Z"
   },
   {
    "duration": 2,
    "start_time": "2022-06-14T08:40:06.864Z"
   },
   {
    "duration": 74,
    "start_time": "2022-06-14T08:40:06.868Z"
   },
   {
    "duration": 5,
    "start_time": "2022-06-14T08:40:06.944Z"
   },
   {
    "duration": 711,
    "start_time": "2022-06-14T08:40:06.950Z"
   },
   {
    "duration": 3,
    "start_time": "2022-06-14T08:40:07.663Z"
   },
   {
    "duration": 31,
    "start_time": "2022-06-14T08:40:07.668Z"
   },
   {
    "duration": 248,
    "start_time": "2022-06-14T08:40:07.701Z"
   },
   {
    "duration": 134,
    "start_time": "2022-06-14T08:40:07.950Z"
   },
   {
    "duration": 18,
    "start_time": "2022-06-14T08:40:08.087Z"
   },
   {
    "duration": 11,
    "start_time": "2022-06-14T08:40:08.107Z"
   },
   {
    "duration": 9,
    "start_time": "2022-06-14T08:40:08.119Z"
   },
   {
    "duration": 215,
    "start_time": "2022-06-14T08:40:08.129Z"
   },
   {
    "duration": 295,
    "start_time": "2022-06-14T08:40:08.345Z"
   },
   {
    "duration": 4,
    "start_time": "2022-06-14T08:40:08.642Z"
   },
   {
    "duration": 294,
    "start_time": "2022-06-14T08:40:08.648Z"
   },
   {
    "duration": 4,
    "start_time": "2022-06-14T08:40:08.943Z"
   },
   {
    "duration": 390,
    "start_time": "2022-06-14T08:40:08.959Z"
   },
   {
    "duration": 8,
    "start_time": "2022-06-14T08:40:09.350Z"
   },
   {
    "duration": 499,
    "start_time": "2022-06-14T08:40:09.360Z"
   },
   {
    "duration": 3,
    "start_time": "2022-06-14T08:40:09.861Z"
   },
   {
    "duration": 362,
    "start_time": "2022-06-14T08:40:09.866Z"
   },
   {
    "duration": 7,
    "start_time": "2022-06-14T08:40:10.229Z"
   },
   {
    "duration": 254,
    "start_time": "2022-06-14T08:40:13.113Z"
   },
   {
    "duration": 128,
    "start_time": "2022-06-14T08:43:11.170Z"
   },
   {
    "duration": 9,
    "start_time": "2022-06-14T08:44:05.287Z"
   },
   {
    "duration": 5,
    "start_time": "2022-06-14T08:44:29.748Z"
   },
   {
    "duration": 13,
    "start_time": "2022-06-14T08:44:56.343Z"
   },
   {
    "duration": 13,
    "start_time": "2022-06-14T08:45:02.913Z"
   },
   {
    "duration": 143,
    "start_time": "2022-06-14T08:45:18.333Z"
   },
   {
    "duration": 143,
    "start_time": "2022-06-14T08:46:43.723Z"
   },
   {
    "duration": 157,
    "start_time": "2022-06-14T08:46:50.742Z"
   },
   {
    "duration": 138,
    "start_time": "2022-06-14T08:46:56.093Z"
   },
   {
    "duration": 153,
    "start_time": "2022-06-14T08:52:26.890Z"
   },
   {
    "duration": 150,
    "start_time": "2022-06-14T08:53:51.447Z"
   },
   {
    "duration": 7,
    "start_time": "2022-06-14T09:38:33.380Z"
   },
   {
    "duration": 135,
    "start_time": "2022-06-14T10:05:35.103Z"
   },
   {
    "duration": 25,
    "start_time": "2022-06-14T10:09:08.439Z"
   },
   {
    "duration": 8,
    "start_time": "2022-06-14T10:09:16.364Z"
   },
   {
    "duration": 24,
    "start_time": "2022-06-14T10:11:45.285Z"
   },
   {
    "duration": 10,
    "start_time": "2022-06-14T10:23:04.574Z"
   },
   {
    "duration": 3,
    "start_time": "2022-06-14T10:28:07.829Z"
   },
   {
    "duration": 227,
    "start_time": "2022-06-14T10:30:38.404Z"
   },
   {
    "duration": 55,
    "start_time": "2022-06-14T13:57:35.489Z"
   },
   {
    "duration": 1354,
    "start_time": "2022-06-14T13:57:39.866Z"
   },
   {
    "duration": 3,
    "start_time": "2022-06-14T13:57:41.222Z"
   },
   {
    "duration": 82,
    "start_time": "2022-06-14T13:57:41.227Z"
   },
   {
    "duration": 9,
    "start_time": "2022-06-14T13:57:41.311Z"
   },
   {
    "duration": 714,
    "start_time": "2022-06-14T13:57:41.321Z"
   },
   {
    "duration": 4,
    "start_time": "2022-06-14T13:57:42.037Z"
   },
   {
    "duration": 39,
    "start_time": "2022-06-14T13:57:42.044Z"
   },
   {
    "duration": 316,
    "start_time": "2022-06-14T13:57:42.085Z"
   },
   {
    "duration": 153,
    "start_time": "2022-06-14T13:57:42.403Z"
   },
   {
    "duration": 20,
    "start_time": "2022-06-14T13:57:42.559Z"
   },
   {
    "duration": 45,
    "start_time": "2022-06-14T13:57:42.581Z"
   },
   {
    "duration": 15,
    "start_time": "2022-06-14T13:57:42.627Z"
   },
   {
    "duration": 258,
    "start_time": "2022-06-14T13:57:42.643Z"
   },
   {
    "duration": 320,
    "start_time": "2022-06-14T13:57:42.906Z"
   },
   {
    "duration": 5,
    "start_time": "2022-06-14T13:57:43.227Z"
   },
   {
    "duration": 340,
    "start_time": "2022-06-14T13:57:43.234Z"
   },
   {
    "duration": 5,
    "start_time": "2022-06-14T13:57:43.576Z"
   },
   {
    "duration": 446,
    "start_time": "2022-06-14T13:57:43.583Z"
   },
   {
    "duration": 6,
    "start_time": "2022-06-14T13:57:44.031Z"
   },
   {
    "duration": 626,
    "start_time": "2022-06-14T13:57:44.039Z"
   },
   {
    "duration": 4,
    "start_time": "2022-06-14T13:57:44.667Z"
   },
   {
    "duration": 440,
    "start_time": "2022-06-14T13:57:44.673Z"
   },
   {
    "duration": 8,
    "start_time": "2022-06-14T13:57:45.114Z"
   },
   {
    "duration": 188,
    "start_time": "2022-06-14T13:57:45.123Z"
   },
   {
    "duration": 6,
    "start_time": "2022-06-14T13:57:45.313Z"
   },
   {
    "duration": 186,
    "start_time": "2022-06-14T13:57:45.321Z"
   },
   {
    "duration": 166,
    "start_time": "2022-06-14T13:57:45.509Z"
   },
   {
    "duration": 18,
    "start_time": "2022-06-14T13:57:45.678Z"
   },
   {
    "duration": 127,
    "start_time": "2022-06-14T13:57:45.697Z"
   },
   {
    "duration": 7,
    "start_time": "2022-06-14T13:57:45.826Z"
   },
   {
    "duration": 147,
    "start_time": "2022-06-14T13:57:45.835Z"
   },
   {
    "duration": 6,
    "start_time": "2022-06-14T13:57:45.983Z"
   },
   {
    "duration": 46,
    "start_time": "2022-06-14T13:57:45.991Z"
   },
   {
    "duration": 14,
    "start_time": "2022-06-14T13:57:46.039Z"
   },
   {
    "duration": 11,
    "start_time": "2022-06-14T13:57:46.054Z"
   },
   {
    "duration": 1078,
    "start_time": "2022-06-14T15:15:54.774Z"
   },
   {
    "duration": 3,
    "start_time": "2022-06-14T15:15:55.854Z"
   },
   {
    "duration": 50,
    "start_time": "2022-06-14T15:15:55.858Z"
   },
   {
    "duration": 6,
    "start_time": "2022-06-14T15:15:55.910Z"
   },
   {
    "duration": 611,
    "start_time": "2022-06-14T15:15:55.917Z"
   },
   {
    "duration": 4,
    "start_time": "2022-06-14T15:15:56.530Z"
   },
   {
    "duration": 24,
    "start_time": "2022-06-14T15:15:56.536Z"
   },
   {
    "duration": 266,
    "start_time": "2022-06-14T15:15:56.561Z"
   },
   {
    "duration": 50,
    "start_time": "2022-06-14T15:15:56.829Z"
   },
   {
    "duration": 19,
    "start_time": "2022-06-14T15:15:56.882Z"
   },
   {
    "duration": 13,
    "start_time": "2022-06-14T15:15:56.903Z"
   },
   {
    "duration": 6,
    "start_time": "2022-06-14T15:15:56.917Z"
   },
   {
    "duration": 247,
    "start_time": "2022-06-14T15:15:56.925Z"
   },
   {
    "duration": 314,
    "start_time": "2022-06-14T15:15:57.173Z"
   },
   {
    "duration": 8,
    "start_time": "2022-06-14T15:15:57.489Z"
   },
   {
    "duration": 319,
    "start_time": "2022-06-14T15:15:57.499Z"
   },
   {
    "duration": 4,
    "start_time": "2022-06-14T15:15:57.820Z"
   },
   {
    "duration": 381,
    "start_time": "2022-06-14T15:15:57.826Z"
   },
   {
    "duration": 5,
    "start_time": "2022-06-14T15:15:58.209Z"
   },
   {
    "duration": 521,
    "start_time": "2022-06-14T15:15:58.216Z"
   },
   {
    "duration": 4,
    "start_time": "2022-06-14T15:15:58.738Z"
   },
   {
    "duration": 454,
    "start_time": "2022-06-14T15:15:58.744Z"
   },
   {
    "duration": 8,
    "start_time": "2022-06-14T15:15:59.201Z"
   },
   {
    "duration": 168,
    "start_time": "2022-06-14T15:15:59.213Z"
   },
   {
    "duration": 11,
    "start_time": "2022-06-14T15:15:59.383Z"
   },
   {
    "duration": 162,
    "start_time": "2022-06-14T15:15:59.396Z"
   },
   {
    "duration": 169,
    "start_time": "2022-06-14T15:15:59.560Z"
   },
   {
    "duration": 7,
    "start_time": "2022-06-14T15:15:59.733Z"
   },
   {
    "duration": 123,
    "start_time": "2022-06-14T15:15:59.741Z"
   },
   {
    "duration": 5,
    "start_time": "2022-06-14T15:15:59.865Z"
   },
   {
    "duration": 131,
    "start_time": "2022-06-14T15:15:59.872Z"
   },
   {
    "duration": 6,
    "start_time": "2022-06-14T15:16:00.005Z"
   },
   {
    "duration": 30,
    "start_time": "2022-06-14T15:16:00.013Z"
   },
   {
    "duration": 12,
    "start_time": "2022-06-14T15:16:00.044Z"
   },
   {
    "duration": 10,
    "start_time": "2022-06-14T15:16:00.058Z"
   },
   {
    "duration": 10,
    "start_time": "2022-06-14T15:16:00.095Z"
   },
   {
    "duration": 25,
    "start_time": "2022-06-14T15:16:00.106Z"
   },
   {
    "duration": 11,
    "start_time": "2022-06-14T15:16:00.132Z"
   },
   {
    "duration": 262,
    "start_time": "2022-06-14T15:16:00.144Z"
   },
   {
    "duration": 306,
    "start_time": "2022-06-14T15:16:00.407Z"
   },
   {
    "duration": 6,
    "start_time": "2022-06-14T15:16:00.714Z"
   },
   {
    "duration": 428,
    "start_time": "2022-06-14T15:16:00.721Z"
   },
   {
    "duration": 4,
    "start_time": "2022-06-14T15:16:01.150Z"
   },
   {
    "duration": 521,
    "start_time": "2022-06-14T15:16:01.156Z"
   },
   {
    "duration": 1197,
    "start_time": "2022-06-14T18:07:02.047Z"
   },
   {
    "duration": 3,
    "start_time": "2022-06-14T18:07:03.246Z"
   },
   {
    "duration": 68,
    "start_time": "2022-06-14T18:07:03.252Z"
   },
   {
    "duration": 7,
    "start_time": "2022-06-14T18:07:03.323Z"
   },
   {
    "duration": 711,
    "start_time": "2022-06-14T18:07:03.332Z"
   },
   {
    "duration": 5,
    "start_time": "2022-06-14T18:07:04.045Z"
   },
   {
    "duration": 21,
    "start_time": "2022-06-14T18:07:04.058Z"
   },
   {
    "duration": 291,
    "start_time": "2022-06-14T18:07:04.081Z"
   },
   {
    "duration": 57,
    "start_time": "2022-06-14T18:07:04.373Z"
   },
   {
    "duration": 28,
    "start_time": "2022-06-14T18:07:04.432Z"
   },
   {
    "duration": 17,
    "start_time": "2022-06-14T18:07:04.462Z"
   },
   {
    "duration": 13,
    "start_time": "2022-06-14T18:07:04.481Z"
   },
   {
    "duration": 268,
    "start_time": "2022-06-14T18:07:04.496Z"
   },
   {
    "duration": 342,
    "start_time": "2022-06-14T18:07:04.766Z"
   },
   {
    "duration": 6,
    "start_time": "2022-06-14T18:07:05.110Z"
   },
   {
    "duration": 346,
    "start_time": "2022-06-14T18:07:05.118Z"
   },
   {
    "duration": 4,
    "start_time": "2022-06-14T18:07:05.466Z"
   },
   {
    "duration": 446,
    "start_time": "2022-06-14T18:07:05.472Z"
   },
   {
    "duration": 8,
    "start_time": "2022-06-14T18:07:05.921Z"
   },
   {
    "duration": 572,
    "start_time": "2022-06-14T18:07:05.931Z"
   },
   {
    "duration": 4,
    "start_time": "2022-06-14T18:07:06.505Z"
   },
   {
    "duration": 474,
    "start_time": "2022-06-14T18:07:06.510Z"
   },
   {
    "duration": 8,
    "start_time": "2022-06-14T18:07:06.986Z"
   },
   {
    "duration": 185,
    "start_time": "2022-06-14T18:07:06.996Z"
   },
   {
    "duration": 5,
    "start_time": "2022-06-14T18:07:07.183Z"
   },
   {
    "duration": 188,
    "start_time": "2022-06-14T18:07:07.190Z"
   },
   {
    "duration": 187,
    "start_time": "2022-06-14T18:07:07.380Z"
   },
   {
    "duration": 8,
    "start_time": "2022-06-14T18:07:07.572Z"
   },
   {
    "duration": 136,
    "start_time": "2022-06-14T18:07:07.582Z"
   },
   {
    "duration": 6,
    "start_time": "2022-06-14T18:07:07.720Z"
   },
   {
    "duration": 150,
    "start_time": "2022-06-14T18:07:07.728Z"
   },
   {
    "duration": 7,
    "start_time": "2022-06-14T18:07:07.880Z"
   },
   {
    "duration": 37,
    "start_time": "2022-06-14T18:07:07.889Z"
   },
   {
    "duration": 13,
    "start_time": "2022-06-14T18:07:07.928Z"
   },
   {
    "duration": 10,
    "start_time": "2022-06-14T18:07:07.959Z"
   },
   {
    "duration": 29,
    "start_time": "2022-06-14T18:07:07.970Z"
   },
   {
    "duration": 49,
    "start_time": "2022-06-14T18:07:08.001Z"
   },
   {
    "duration": 12,
    "start_time": "2022-06-14T18:07:08.052Z"
   },
   {
    "duration": 249,
    "start_time": "2022-06-14T18:07:08.065Z"
   },
   {
    "duration": 325,
    "start_time": "2022-06-14T18:07:08.315Z"
   },
   {
    "duration": 5,
    "start_time": "2022-06-14T18:07:08.642Z"
   },
   {
    "duration": 484,
    "start_time": "2022-06-14T18:07:08.649Z"
   },
   {
    "duration": 4,
    "start_time": "2022-06-14T18:07:09.134Z"
   },
   {
    "duration": 519,
    "start_time": "2022-06-14T18:07:09.140Z"
   },
   {
    "duration": 1174,
    "start_time": "2022-06-14T18:10:49.756Z"
   },
   {
    "duration": 3,
    "start_time": "2022-06-14T18:10:50.932Z"
   },
   {
    "duration": 47,
    "start_time": "2022-06-14T18:10:50.937Z"
   },
   {
    "duration": 7,
    "start_time": "2022-06-14T18:10:50.987Z"
   },
   {
    "duration": 665,
    "start_time": "2022-06-14T18:10:50.996Z"
   },
   {
    "duration": 4,
    "start_time": "2022-06-14T18:10:51.663Z"
   },
   {
    "duration": 38,
    "start_time": "2022-06-14T18:10:51.669Z"
   },
   {
    "duration": 327,
    "start_time": "2022-06-14T18:10:51.709Z"
   },
   {
    "duration": 65,
    "start_time": "2022-06-14T18:10:52.038Z"
   },
   {
    "duration": 26,
    "start_time": "2022-06-14T18:10:52.109Z"
   },
   {
    "duration": 37,
    "start_time": "2022-06-14T18:10:52.138Z"
   },
   {
    "duration": 11,
    "start_time": "2022-06-14T18:10:52.178Z"
   },
   {
    "duration": 283,
    "start_time": "2022-06-14T18:10:52.192Z"
   },
   {
    "duration": 341,
    "start_time": "2022-06-14T18:10:52.477Z"
   },
   {
    "duration": 5,
    "start_time": "2022-06-14T18:10:52.822Z"
   },
   {
    "duration": 345,
    "start_time": "2022-06-14T18:10:52.829Z"
   },
   {
    "duration": 5,
    "start_time": "2022-06-14T18:10:53.175Z"
   },
   {
    "duration": 452,
    "start_time": "2022-06-14T18:10:53.182Z"
   },
   {
    "duration": 6,
    "start_time": "2022-06-14T18:10:53.636Z"
   },
   {
    "duration": 589,
    "start_time": "2022-06-14T18:10:53.644Z"
   },
   {
    "duration": 5,
    "start_time": "2022-06-14T18:10:54.234Z"
   },
   {
    "duration": 496,
    "start_time": "2022-06-14T18:10:54.242Z"
   },
   {
    "duration": 7,
    "start_time": "2022-06-14T18:10:54.740Z"
   },
   {
    "duration": 197,
    "start_time": "2022-06-14T18:10:54.758Z"
   },
   {
    "duration": 6,
    "start_time": "2022-06-14T18:10:54.958Z"
   },
   {
    "duration": 198,
    "start_time": "2022-06-14T18:10:54.966Z"
   },
   {
    "duration": 248,
    "start_time": "2022-06-14T18:10:55.166Z"
   },
   {
    "duration": 11,
    "start_time": "2022-06-14T18:10:55.418Z"
   },
   {
    "duration": 143,
    "start_time": "2022-06-14T18:10:55.430Z"
   },
   {
    "duration": 6,
    "start_time": "2022-06-14T18:10:55.575Z"
   },
   {
    "duration": 164,
    "start_time": "2022-06-14T18:10:55.583Z"
   },
   {
    "duration": 10,
    "start_time": "2022-06-14T18:10:55.749Z"
   },
   {
    "duration": 32,
    "start_time": "2022-06-14T18:10:55.761Z"
   },
   {
    "duration": 13,
    "start_time": "2022-06-14T18:10:55.794Z"
   },
   {
    "duration": 9,
    "start_time": "2022-06-14T18:10:55.808Z"
   },
   {
    "duration": 39,
    "start_time": "2022-06-14T18:10:55.819Z"
   },
   {
    "duration": 27,
    "start_time": "2022-06-14T18:10:55.860Z"
   },
   {
    "duration": 14,
    "start_time": "2022-06-14T18:10:55.889Z"
   },
   {
    "duration": 266,
    "start_time": "2022-06-14T18:10:55.904Z"
   },
   {
    "duration": 494,
    "start_time": "2022-06-14T18:10:56.172Z"
   },
   {
    "duration": 7,
    "start_time": "2022-06-14T18:10:56.669Z"
   },
   {
    "duration": 790,
    "start_time": "2022-06-14T18:10:56.678Z"
   },
   {
    "duration": 15,
    "start_time": "2022-06-14T18:10:57.471Z"
   },
   {
    "duration": 524,
    "start_time": "2022-06-14T18:10:57.489Z"
   },
   {
    "duration": 1266,
    "start_time": "2022-06-15T06:43:24.550Z"
   },
   {
    "duration": 2,
    "start_time": "2022-06-15T06:43:25.818Z"
   },
   {
    "duration": 93,
    "start_time": "2022-06-15T06:43:25.821Z"
   },
   {
    "duration": 5,
    "start_time": "2022-06-15T06:43:25.916Z"
   },
   {
    "duration": 674,
    "start_time": "2022-06-15T06:43:25.923Z"
   },
   {
    "duration": 3,
    "start_time": "2022-06-15T06:43:26.599Z"
   },
   {
    "duration": 27,
    "start_time": "2022-06-15T06:43:26.604Z"
   },
   {
    "duration": 261,
    "start_time": "2022-06-15T06:43:26.632Z"
   },
   {
    "duration": 150,
    "start_time": "2022-06-15T06:43:26.895Z"
   },
   {
    "duration": 20,
    "start_time": "2022-06-15T06:43:27.047Z"
   },
   {
    "duration": 23,
    "start_time": "2022-06-15T06:43:27.069Z"
   },
   {
    "duration": 9,
    "start_time": "2022-06-15T06:43:27.095Z"
   },
   {
    "duration": 228,
    "start_time": "2022-06-15T06:43:27.106Z"
   },
   {
    "duration": 359,
    "start_time": "2022-06-15T06:43:27.336Z"
   },
   {
    "duration": 7,
    "start_time": "2022-06-15T06:43:27.698Z"
   },
   {
    "duration": 335,
    "start_time": "2022-06-15T06:43:27.708Z"
   },
   {
    "duration": 3,
    "start_time": "2022-06-15T06:43:28.045Z"
   },
   {
    "duration": 487,
    "start_time": "2022-06-15T06:43:37.217Z"
   },
   {
    "duration": 3,
    "start_time": "2022-06-15T06:46:27.533Z"
   },
   {
    "duration": 7,
    "start_time": "2022-06-15T06:46:27.539Z"
   },
   {
    "duration": 45,
    "start_time": "2022-06-15T06:46:27.549Z"
   },
   {
    "duration": 7,
    "start_time": "2022-06-15T06:46:27.597Z"
   },
   {
    "duration": 646,
    "start_time": "2022-06-15T06:46:27.606Z"
   },
   {
    "duration": 4,
    "start_time": "2022-06-15T06:46:28.255Z"
   },
   {
    "duration": 109,
    "start_time": "2022-06-15T06:46:28.261Z"
   },
   {
    "duration": 261,
    "start_time": "2022-06-15T06:46:28.372Z"
   },
   {
    "duration": 65,
    "start_time": "2022-06-15T06:46:28.635Z"
   },
   {
    "duration": 19,
    "start_time": "2022-06-15T06:46:28.701Z"
   },
   {
    "duration": 19,
    "start_time": "2022-06-15T06:46:28.723Z"
   },
   {
    "duration": 8,
    "start_time": "2022-06-15T06:46:28.747Z"
   },
   {
    "duration": 266,
    "start_time": "2022-06-15T06:46:28.757Z"
   },
   {
    "duration": 296,
    "start_time": "2022-06-15T06:46:29.025Z"
   },
   {
    "duration": 6,
    "start_time": "2022-06-15T06:46:29.322Z"
   },
   {
    "duration": 325,
    "start_time": "2022-06-15T06:46:29.329Z"
   },
   {
    "duration": 4,
    "start_time": "2022-06-15T06:46:29.655Z"
   },
   {
    "duration": 425,
    "start_time": "2022-06-15T06:46:29.661Z"
   },
   {
    "duration": 4,
    "start_time": "2022-06-15T06:46:30.088Z"
   },
   {
    "duration": 478,
    "start_time": "2022-06-15T06:46:30.094Z"
   },
   {
    "duration": 3,
    "start_time": "2022-06-15T06:46:30.574Z"
   },
   {
    "duration": 381,
    "start_time": "2022-06-15T06:46:30.579Z"
   },
   {
    "duration": 17,
    "start_time": "2022-06-15T06:46:30.962Z"
   },
   {
    "duration": 242,
    "start_time": "2022-06-15T06:46:30.982Z"
   },
   {
    "duration": 6,
    "start_time": "2022-06-15T06:46:31.225Z"
   },
   {
    "duration": 172,
    "start_time": "2022-06-15T06:46:31.233Z"
   },
   {
    "duration": 161,
    "start_time": "2022-06-15T06:46:31.407Z"
   },
   {
    "duration": 25,
    "start_time": "2022-06-15T06:46:31.569Z"
   },
   {
    "duration": 109,
    "start_time": "2022-06-15T06:46:31.596Z"
   },
   {
    "duration": 4,
    "start_time": "2022-06-15T06:46:31.708Z"
   },
   {
    "duration": 184,
    "start_time": "2022-06-15T06:48:37.532Z"
   },
   {
    "duration": 216,
    "start_time": "2022-06-15T06:49:21.224Z"
   },
   {
    "duration": 133,
    "start_time": "2022-06-15T06:50:35.393Z"
   },
   {
    "duration": 129,
    "start_time": "2022-06-15T06:53:38.531Z"
   },
   {
    "duration": 135,
    "start_time": "2022-06-15T06:53:42.733Z"
   },
   {
    "duration": 128,
    "start_time": "2022-06-15T06:57:48.743Z"
   },
   {
    "duration": 110,
    "start_time": "2022-06-15T06:59:53.040Z"
   },
   {
    "duration": 5,
    "start_time": "2022-06-15T07:00:09.413Z"
   },
   {
    "duration": 157,
    "start_time": "2022-06-15T07:00:22.110Z"
   },
   {
    "duration": 129,
    "start_time": "2022-06-15T07:00:42.309Z"
   },
   {
    "duration": 7,
    "start_time": "2022-06-15T07:00:43.588Z"
   },
   {
    "duration": 20,
    "start_time": "2022-06-15T07:02:46.841Z"
   },
   {
    "duration": 12,
    "start_time": "2022-06-15T07:07:13.329Z"
   },
   {
    "duration": 9,
    "start_time": "2022-06-15T07:08:07.003Z"
   },
   {
    "duration": 9,
    "start_time": "2022-06-15T07:08:11.196Z"
   },
   {
    "duration": 34,
    "start_time": "2022-06-15T07:08:47.665Z"
   },
   {
    "duration": 12,
    "start_time": "2022-06-15T07:09:35.708Z"
   },
   {
    "duration": 1109,
    "start_time": "2022-06-15T07:14:44.442Z"
   },
   {
    "duration": 3,
    "start_time": "2022-06-15T07:14:45.553Z"
   },
   {
    "duration": 55,
    "start_time": "2022-06-15T07:14:45.557Z"
   },
   {
    "duration": 6,
    "start_time": "2022-06-15T07:14:45.614Z"
   },
   {
    "duration": 650,
    "start_time": "2022-06-15T07:14:45.622Z"
   },
   {
    "duration": 7,
    "start_time": "2022-06-15T07:14:46.284Z"
   },
   {
    "duration": 24,
    "start_time": "2022-06-15T07:14:46.293Z"
   },
   {
    "duration": 275,
    "start_time": "2022-06-15T07:14:46.318Z"
   },
   {
    "duration": 65,
    "start_time": "2022-06-15T07:14:46.595Z"
   },
   {
    "duration": 31,
    "start_time": "2022-06-15T07:14:46.662Z"
   },
   {
    "duration": 14,
    "start_time": "2022-06-15T07:14:46.701Z"
   },
   {
    "duration": 12,
    "start_time": "2022-06-15T07:14:46.717Z"
   },
   {
    "duration": 256,
    "start_time": "2022-06-15T07:14:46.730Z"
   },
   {
    "duration": 301,
    "start_time": "2022-06-15T07:14:46.996Z"
   },
   {
    "duration": 5,
    "start_time": "2022-06-15T07:14:47.299Z"
   },
   {
    "duration": 330,
    "start_time": "2022-06-15T07:14:47.306Z"
   },
   {
    "duration": 6,
    "start_time": "2022-06-15T07:14:47.638Z"
   },
   {
    "duration": 510,
    "start_time": "2022-06-15T07:14:47.646Z"
   },
   {
    "duration": 6,
    "start_time": "2022-06-15T07:14:48.158Z"
   },
   {
    "duration": 563,
    "start_time": "2022-06-15T07:14:48.166Z"
   },
   {
    "duration": 5,
    "start_time": "2022-06-15T07:14:48.730Z"
   },
   {
    "duration": 428,
    "start_time": "2022-06-15T07:14:48.736Z"
   },
   {
    "duration": 25,
    "start_time": "2022-06-15T07:14:49.166Z"
   },
   {
    "duration": 165,
    "start_time": "2022-06-15T07:14:49.195Z"
   },
   {
    "duration": 4,
    "start_time": "2022-06-15T07:14:49.363Z"
   },
   {
    "duration": 164,
    "start_time": "2022-06-15T07:14:49.369Z"
   },
   {
    "duration": 172,
    "start_time": "2022-06-15T07:14:49.535Z"
   },
   {
    "duration": 11,
    "start_time": "2022-06-15T07:14:49.709Z"
   },
   {
    "duration": 129,
    "start_time": "2022-06-15T07:14:49.722Z"
   },
   {
    "duration": 5,
    "start_time": "2022-06-15T07:14:49.852Z"
   },
   {
    "duration": 143,
    "start_time": "2022-06-15T07:14:49.859Z"
   },
   {
    "duration": 4,
    "start_time": "2022-06-15T07:14:50.004Z"
   },
   {
    "duration": 148,
    "start_time": "2022-06-15T07:14:50.010Z"
   },
   {
    "duration": 134,
    "start_time": "2022-06-15T07:14:50.160Z"
   },
   {
    "duration": 6,
    "start_time": "2022-06-15T07:14:50.296Z"
   },
   {
    "duration": 26,
    "start_time": "2022-06-15T07:14:50.304Z"
   },
   {
    "duration": 11,
    "start_time": "2022-06-15T07:14:50.332Z"
   },
   {
    "duration": 17,
    "start_time": "2022-06-15T07:14:50.344Z"
   },
   {
    "duration": 12,
    "start_time": "2022-06-15T07:14:50.386Z"
   },
   {
    "duration": 22,
    "start_time": "2022-06-15T07:14:50.400Z"
   },
   {
    "duration": 11,
    "start_time": "2022-06-15T07:14:50.425Z"
   },
   {
    "duration": 237,
    "start_time": "2022-06-15T07:14:50.437Z"
   },
   {
    "duration": 300,
    "start_time": "2022-06-15T07:14:50.692Z"
   },
   {
    "duration": 9,
    "start_time": "2022-06-15T07:14:50.997Z"
   },
   {
    "duration": 449,
    "start_time": "2022-06-15T07:14:51.008Z"
   },
   {
    "duration": 4,
    "start_time": "2022-06-15T07:14:51.459Z"
   },
   {
    "duration": 494,
    "start_time": "2022-06-15T07:14:51.464Z"
   },
   {
    "duration": 2711,
    "start_time": "2022-06-15T09:59:15.416Z"
   },
   {
    "duration": 3,
    "start_time": "2022-06-15T09:59:18.129Z"
   },
   {
    "duration": 81,
    "start_time": "2022-06-15T09:59:18.134Z"
   },
   {
    "duration": 7,
    "start_time": "2022-06-15T09:59:18.217Z"
   },
   {
    "duration": 759,
    "start_time": "2022-06-15T09:59:18.226Z"
   },
   {
    "duration": 4,
    "start_time": "2022-06-15T09:59:18.987Z"
   },
   {
    "duration": 49,
    "start_time": "2022-06-15T09:59:18.993Z"
   },
   {
    "duration": 384,
    "start_time": "2022-06-15T09:59:19.044Z"
   },
   {
    "duration": 144,
    "start_time": "2022-06-15T09:59:19.430Z"
   },
   {
    "duration": 21,
    "start_time": "2022-06-15T09:59:19.576Z"
   },
   {
    "duration": 16,
    "start_time": "2022-06-15T09:59:19.599Z"
   },
   {
    "duration": 7,
    "start_time": "2022-06-15T09:59:19.617Z"
   },
   {
    "duration": 260,
    "start_time": "2022-06-15T09:59:19.627Z"
   },
   {
    "duration": 351,
    "start_time": "2022-06-15T09:59:19.890Z"
   },
   {
    "duration": 6,
    "start_time": "2022-06-15T09:59:20.243Z"
   },
   {
    "duration": 336,
    "start_time": "2022-06-15T09:59:20.264Z"
   },
   {
    "duration": 5,
    "start_time": "2022-06-15T09:59:20.602Z"
   },
   {
    "duration": 502,
    "start_time": "2022-06-15T09:59:20.609Z"
   },
   {
    "duration": 5,
    "start_time": "2022-06-15T09:59:21.113Z"
   },
   {
    "duration": 635,
    "start_time": "2022-06-15T09:59:21.120Z"
   },
   {
    "duration": 4,
    "start_time": "2022-06-15T09:59:21.756Z"
   },
   {
    "duration": 417,
    "start_time": "2022-06-15T09:59:21.762Z"
   },
   {
    "duration": 9,
    "start_time": "2022-06-15T09:59:22.181Z"
   },
   {
    "duration": 165,
    "start_time": "2022-06-15T09:59:22.192Z"
   },
   {
    "duration": 12,
    "start_time": "2022-06-15T09:59:22.359Z"
   },
   {
    "duration": 173,
    "start_time": "2022-06-15T09:59:22.373Z"
   },
   {
    "duration": 189,
    "start_time": "2022-06-15T09:59:22.548Z"
   },
   {
    "duration": 8,
    "start_time": "2022-06-15T09:59:22.739Z"
   },
   {
    "duration": 136,
    "start_time": "2022-06-15T09:59:22.749Z"
   },
   {
    "duration": 6,
    "start_time": "2022-06-15T09:59:22.887Z"
   },
   {
    "duration": 156,
    "start_time": "2022-06-15T09:59:22.895Z"
   },
   {
    "duration": 23,
    "start_time": "2022-06-15T09:59:23.052Z"
   },
   {
    "duration": 145,
    "start_time": "2022-06-15T09:59:23.078Z"
   },
   {
    "duration": 122,
    "start_time": "2022-06-15T09:59:23.226Z"
   },
   {
    "duration": 20,
    "start_time": "2022-06-15T09:59:23.350Z"
   },
   {
    "duration": 43,
    "start_time": "2022-06-15T09:59:23.374Z"
   },
   {
    "duration": 11,
    "start_time": "2022-06-15T09:59:23.419Z"
   },
   {
    "duration": 8,
    "start_time": "2022-06-15T09:59:23.432Z"
   },
   {
    "duration": 16,
    "start_time": "2022-06-15T09:59:23.442Z"
   },
   {
    "duration": 32,
    "start_time": "2022-06-15T09:59:23.460Z"
   },
   {
    "duration": 13,
    "start_time": "2022-06-15T09:59:23.495Z"
   },
   {
    "duration": 274,
    "start_time": "2022-06-15T09:59:23.510Z"
   },
   {
    "duration": 327,
    "start_time": "2022-06-15T09:59:23.786Z"
   },
   {
    "duration": 5,
    "start_time": "2022-06-15T09:59:24.115Z"
   },
   {
    "duration": 508,
    "start_time": "2022-06-15T09:59:24.123Z"
   },
   {
    "duration": 5,
    "start_time": "2022-06-15T09:59:24.632Z"
   },
   {
    "duration": 572,
    "start_time": "2022-06-15T09:59:24.639Z"
   },
   {
    "duration": 1225,
    "start_time": "2022-06-15T10:00:40.997Z"
   },
   {
    "duration": 3,
    "start_time": "2022-06-15T10:00:42.224Z"
   },
   {
    "duration": 64,
    "start_time": "2022-06-15T10:00:42.229Z"
   },
   {
    "duration": 7,
    "start_time": "2022-06-15T10:00:42.295Z"
   },
   {
    "duration": 925,
    "start_time": "2022-06-15T10:00:42.305Z"
   },
   {
    "duration": 4,
    "start_time": "2022-06-15T10:00:43.232Z"
   },
   {
    "duration": 43,
    "start_time": "2022-06-15T10:00:43.238Z"
   },
   {
    "duration": 359,
    "start_time": "2022-06-15T10:00:43.282Z"
   },
   {
    "duration": 72,
    "start_time": "2022-06-15T10:00:43.643Z"
   },
   {
    "duration": 28,
    "start_time": "2022-06-15T10:00:43.717Z"
   },
   {
    "duration": 14,
    "start_time": "2022-06-15T10:00:43.747Z"
   },
   {
    "duration": 11,
    "start_time": "2022-06-15T10:00:43.763Z"
   },
   {
    "duration": 267,
    "start_time": "2022-06-15T10:00:43.776Z"
   },
   {
    "duration": 372,
    "start_time": "2022-06-15T10:00:44.048Z"
   },
   {
    "duration": 6,
    "start_time": "2022-06-15T10:00:44.422Z"
   },
   {
    "duration": 371,
    "start_time": "2022-06-15T10:00:44.430Z"
   },
   {
    "duration": 5,
    "start_time": "2022-06-15T10:00:44.803Z"
   },
   {
    "duration": 506,
    "start_time": "2022-06-15T10:00:44.810Z"
   },
   {
    "duration": 7,
    "start_time": "2022-06-15T10:00:45.318Z"
   },
   {
    "duration": 681,
    "start_time": "2022-06-15T10:00:45.326Z"
   },
   {
    "duration": 6,
    "start_time": "2022-06-15T10:00:46.010Z"
   },
   {
    "duration": 497,
    "start_time": "2022-06-15T10:00:46.019Z"
   },
   {
    "duration": 7,
    "start_time": "2022-06-15T10:00:46.518Z"
   },
   {
    "duration": 198,
    "start_time": "2022-06-15T10:00:46.527Z"
   },
   {
    "duration": 5,
    "start_time": "2022-06-15T10:00:46.728Z"
   },
   {
    "duration": 220,
    "start_time": "2022-06-15T10:00:46.735Z"
   },
   {
    "duration": 227,
    "start_time": "2022-06-15T10:00:46.964Z"
   },
   {
    "duration": 12,
    "start_time": "2022-06-15T10:00:47.194Z"
   },
   {
    "duration": 161,
    "start_time": "2022-06-15T10:00:47.207Z"
   },
   {
    "duration": 9,
    "start_time": "2022-06-15T10:00:47.370Z"
   },
   {
    "duration": 198,
    "start_time": "2022-06-15T10:00:47.385Z"
   },
   {
    "duration": 18,
    "start_time": "2022-06-15T10:00:47.586Z"
   },
   {
    "duration": 153,
    "start_time": "2022-06-15T10:00:47.607Z"
   },
   {
    "duration": 147,
    "start_time": "2022-06-15T10:00:47.762Z"
   },
   {
    "duration": 8,
    "start_time": "2022-06-15T10:00:47.911Z"
   },
   {
    "duration": 61,
    "start_time": "2022-06-15T10:00:47.922Z"
   },
   {
    "duration": 11,
    "start_time": "2022-06-15T10:00:47.985Z"
   },
   {
    "duration": 18,
    "start_time": "2022-06-15T10:00:47.998Z"
   },
   {
    "duration": 18,
    "start_time": "2022-06-15T10:00:48.018Z"
   },
   {
    "duration": 47,
    "start_time": "2022-06-15T10:00:48.038Z"
   },
   {
    "duration": 16,
    "start_time": "2022-06-15T10:00:48.090Z"
   },
   {
    "duration": 290,
    "start_time": "2022-06-15T10:00:48.108Z"
   },
   {
    "duration": 372,
    "start_time": "2022-06-15T10:00:48.400Z"
   },
   {
    "duration": 10,
    "start_time": "2022-06-15T10:00:48.775Z"
   },
   {
    "duration": 551,
    "start_time": "2022-06-15T10:00:48.788Z"
   },
   {
    "duration": 5,
    "start_time": "2022-06-15T10:00:49.341Z"
   },
   {
    "duration": 554,
    "start_time": "2022-06-15T10:00:49.348Z"
   }
  ],
  "kernelspec": {
   "display_name": "Python 3 (ipykernel)",
   "language": "python",
   "name": "python3"
  },
  "language_info": {
   "codemirror_mode": {
    "name": "ipython",
    "version": 3
   },
   "file_extension": ".py",
   "mimetype": "text/x-python",
   "name": "python",
   "nbconvert_exporter": "python",
   "pygments_lexer": "ipython3",
   "version": "3.9.5"
  },
  "toc": {
   "base_numbering": 1,
   "nav_menu": {},
   "number_sections": true,
   "sideBar": true,
   "skip_h1_title": true,
   "title_cell": "Table of Contents",
   "title_sidebar": "Contents",
   "toc_cell": true,
   "toc_position": {
    "height": "calc(100% - 180px)",
    "left": "10px",
    "top": "150px",
    "width": "282.875px"
   },
   "toc_section_display": true,
   "toc_window_display": false
  }
 },
 "nbformat": 4,
 "nbformat_minor": 2
}
