{
 "cells": [
  {
   "cell_type": "markdown",
   "id": "9828e888",
   "metadata": {},
   "source": [
    "## Предварительный анализ тарифов компании «Мегалайн»"
   ]
  },
  {
   "cell_type": "markdown",
   "id": "5e2ef754",
   "metadata": {
    "toc": true
   },
   "source": [
    "<h3>Содержание<span class=\"tocSkip\"></span></h3><br>\n",
    "<div class=\"toc\"><ul class=\"toc-item\"><li><span><a href=\"#Предварительный-анализ-тарифов-компании-«Мегалайн»\" data-toc-modified-id=\"Предварительный-анализ-тарифов-компании-«Мегалайн»-1\"><span class=\"toc-item-num\">1&nbsp;&nbsp;</span>Предварительный анализ тарифов компании «Мегалайн»</a></span><ul class=\"toc-item\"><li><span><a href=\"#Описание-исследования\" data-toc-modified-id=\"Описание-исследования-1.1\"><span class=\"toc-item-num\">1.1&nbsp;&nbsp;</span>Описание исследования</a></span><ul class=\"toc-item\"><li><span><a href=\"#Описание-тарифов\" data-toc-modified-id=\"Описание-тарифов-1.1.1\"><span class=\"toc-item-num\">1.1.1&nbsp;&nbsp;</span>Описание тарифов</a></span><ul class=\"toc-item\"><li><span><a href=\"#Тариф-«Смарт»\" data-toc-modified-id=\"Тариф-«Смарт»-1.1.1.1\"><span class=\"toc-item-num\">1.1.1.1&nbsp;&nbsp;</span>Тариф «Смарт»</a></span></li><li><span><a href=\"#Тариф-«Ультра»\" data-toc-modified-id=\"Тариф-«Ультра»-1.1.1.2\"><span class=\"toc-item-num\">1.1.1.2&nbsp;&nbsp;</span>Тариф «Ультра»</a></span></li><li><span><a href=\"#Примечание:\" data-toc-modified-id=\"Примечание:-1.1.1.3\"><span class=\"toc-item-num\">1.1.1.3&nbsp;&nbsp;</span>Примечание:</a></span></li></ul></li></ul></li></ul></li><li><span><a href=\"#Изучение-данных-из-файла\" data-toc-modified-id=\"Изучение-данных-из-файла-2\"><span class=\"toc-item-num\">2&nbsp;&nbsp;</span>Изучение данных из файла</a></span><ul class=\"toc-item\"><li><span><a href=\"#Описание-данных\" data-toc-modified-id=\"Описание-данных-2.1\"><span class=\"toc-item-num\">2.1&nbsp;&nbsp;</span>Описание данных</a></span></li><li><span><a href=\"#Вывод\" data-toc-modified-id=\"Вывод-2.2\"><span class=\"toc-item-num\">2.2&nbsp;&nbsp;</span>Вывод</a></span></li></ul></li><li><span><a href=\"#Предобработка-данных\" data-toc-modified-id=\"Предобработка-данных-3\"><span class=\"toc-item-num\">3&nbsp;&nbsp;</span>Предобработка данных</a></span><ul class=\"toc-item\"><li><span><a href=\"#Изменение-типов-данных\" data-toc-modified-id=\"Изменение-типов-данных-3.1\"><span class=\"toc-item-num\">3.1&nbsp;&nbsp;</span>Изменение типов данных</a></span></li><li><span><a href=\"#Удаление-дубликатов\" data-toc-modified-id=\"Удаление-дубликатов-3.2\"><span class=\"toc-item-num\">3.2&nbsp;&nbsp;</span>Удаление дубликатов</a></span></li><li><span><a href=\"#Выводы\" data-toc-modified-id=\"Выводы-3.3\"><span class=\"toc-item-num\">3.3&nbsp;&nbsp;</span>Выводы</a></span></li></ul></li><li><span><a href=\"#Расчёты-и-добавление-результатов-в-таблицу\" data-toc-modified-id=\"Расчёты-и-добавление-результатов-в-таблицу-4\"><span class=\"toc-item-num\">4&nbsp;&nbsp;</span>Расчёты и добавление результатов в таблицу</a></span><ul class=\"toc-item\"><li><span><a href=\"#Вывод\" data-toc-modified-id=\"Вывод-4.1\"><span class=\"toc-item-num\">4.1&nbsp;&nbsp;</span>Вывод</a></span></li></ul></li><li><span><a href=\"#Исследовательский-анализ-данных\" data-toc-modified-id=\"Исследовательский-анализ-данных-5\"><span class=\"toc-item-num\">5&nbsp;&nbsp;</span>Исследовательский анализ данных</a></span><ul class=\"toc-item\"><li><span><a href=\"#Проверка-на-наличие-выбросов\" data-toc-modified-id=\"Проверка-на-наличие-выбросов-5.1\"><span class=\"toc-item-num\">5.1&nbsp;&nbsp;</span>Проверка на наличие выбросов</a></span></li><li><span><a href=\"#Описание-поведения-клиентов\" data-toc-modified-id=\"Описание-поведения-клиентов-5.2\"><span class=\"toc-item-num\">5.2&nbsp;&nbsp;</span>Описание поведения клиентов</a></span><ul class=\"toc-item\"><li><span><a href=\"#Сравнение-потребности-в-минутах-разговора\" data-toc-modified-id=\"Сравнение-потребности-в-минутах-разговора-5.2.1\"><span class=\"toc-item-num\">5.2.1&nbsp;&nbsp;</span>Сравнение потребности в минутах разговора</a></span></li><li><span><a href=\"#Сравнение-потребности-в-количестве-звонков\" data-toc-modified-id=\"Сравнение-потребности-в-количестве-звонков-5.2.2\"><span class=\"toc-item-num\">5.2.2&nbsp;&nbsp;</span>Сравнение потребности в количестве звонков</a></span></li><li><span><a href=\"#Сравнение-потребности-в-сообщениях\" data-toc-modified-id=\"Сравнение-потребности-в-сообщениях-5.2.3\"><span class=\"toc-item-num\">5.2.3&nbsp;&nbsp;</span>Сравнение потребности в сообщениях</a></span></li><li><span><a href=\"#Сравнение-потребности-в-интернете\" data-toc-modified-id=\"Сравнение-потребности-в-интернете-5.2.4\"><span class=\"toc-item-num\">5.2.4&nbsp;&nbsp;</span>Сравнение потребности в интернете</a></span></li><li><span><a href=\"#Сравнение-выручки\" data-toc-modified-id=\"Сравнение-выручки-5.2.5\"><span class=\"toc-item-num\">5.2.5&nbsp;&nbsp;</span>Сравнение выручки</a></span></li><li><span><a href=\"#Аггрегированое-сравнение-тарифов\" data-toc-modified-id=\"Аггрегированое-сравнение-тарифов-5.2.6\"><span class=\"toc-item-num\">5.2.6&nbsp;&nbsp;</span>Аггрегированое сравнение тарифов</a></span></li><li><span><a href=\"#Выводы\" data-toc-modified-id=\"Выводы-5.2.7\"><span class=\"toc-item-num\">5.2.7&nbsp;&nbsp;</span>Выводы</a></span></li></ul></li><li><span><a href=\"#Проверка-гипотез\" data-toc-modified-id=\"Проверка-гипотез-5.3\"><span class=\"toc-item-num\">5.3&nbsp;&nbsp;</span>Проверка гипотез</a></span><ul class=\"toc-item\"><li><span><a href=\"#Средняя-выручка-пользователей-тарифов-«Ультра»-и-«Смарт»-различаются\" data-toc-modified-id=\"Средняя-выручка-пользователей-тарифов-«Ультра»-и-«Смарт»-различаются-5.3.1\"><span class=\"toc-item-num\">5.3.1&nbsp;&nbsp;</span>Средняя выручка пользователей тарифов «Ультра» и «Смарт» различаются</a></span></li><li><span><a href=\"#Средняя-выручка-пользователей-из-Москвы-отличается-от-выручки-пользователей-из-других-регионов.\" data-toc-modified-id=\"Средняя-выручка-пользователей-из-Москвы-отличается-от-выручки-пользователей-из-других-регионов.-5.3.2\"><span class=\"toc-item-num\">5.3.2&nbsp;&nbsp;</span>Средняя выручка пользователей из Москвы отличается от выручки пользователей из других регионов.</a></span></li><li><span><a href=\"#Выводы-\" data-toc-modified-id=\"Выводы--5.3.3\"><span class=\"toc-item-num\">5.3.3&nbsp;&nbsp;</span>Выводы </a></span></li></ul></li></ul></li><li><span><a href=\"#Общий-вывод\" data-toc-modified-id=\"Общий-вывод-6\"><span class=\"toc-item-num\">6&nbsp;&nbsp;</span>Общий вывод</a></span></li></ul></div>"
   ]
  },
  {
   "cell_type": "markdown",
   "id": "1075056c",
   "metadata": {},
   "source": [
    "### Описание исследования\n",
    "\n",
    "Компания «Мегалайн» — федеральный оператор сотовой связи. Она предлагает клиентам  два тарифных плана: «Смарт» и «Ультра». Чтобы скорректировать рекламный бюджет, коммерческий департамент хочет понять, какой тариф приносит больше денег.\n",
    "Необходимо провести предварительный анализ тарифов на небольшой выборке клиентов. \n",
    "Исходные данные - данные 500 пользователей «Мегалайна»: кто они, откуда, каким тарифом пользуются, сколько звонков и сообщений каждый отправил за 2018 год. Нужно проанализировать поведение клиентов и сделать вывод — какой тариф лучше."
   ]
  },
  {
   "cell_type": "markdown",
   "id": "79b10863",
   "metadata": {},
   "source": [
    "#### Описание тарифов"
   ]
  },
  {
   "cell_type": "markdown",
   "id": "af1a6bd6",
   "metadata": {},
   "source": [
    "##### Тариф «Смарт»\n",
    "Ежемесячная плата: 550 рублей\n",
    "Включено: \n",
    "- 500 минут разговора \n",
    "- 50 сообщений \n",
    "- 15 Гб интернет-трафика\n",
    "\n",
    "Стоимость услуг сверх тарифного пакета:\n",
    "- минута разговора: 3 рубля\n",
    "- сообщение: 3 рубля\n",
    "- 1 Гб интернет-трафика: 200 рублей"
   ]
  },
  {
   "cell_type": "markdown",
   "id": "979b5306",
   "metadata": {},
   "source": [
    "##### Тариф «Ультра»\n",
    "Ежемесячная плата: 1950 рублей\n",
    "Включено:\n",
    "- 3000 минут разговора\n",
    "- 1000 сообщений\n",
    "- 30 Гб интернет-трафика\n",
    "\n",
    "Стоимость услуг сверх тарифного пакета:\n",
    "- минута разговора: 1 рубль\n",
    "- сообщение: 1 рубль\n",
    "- 1 Гб интернет-трафика: 150 рублей"
   ]
  },
  {
   "cell_type": "markdown",
   "id": "be991658",
   "metadata": {},
   "source": [
    "##### Примечание:\n",
    "«Мегалайн» всегда округляет секунды до минут, а мегабайты — до гигабайт. Каждый звонок округляется отдельно: даже если он длился всего 1 секунду, будет засчитан как 1 минута. Трафик округляется за месяц."
   ]
  },
  {
   "cell_type": "markdown",
   "id": "8e71d99c",
   "metadata": {},
   "source": [
    "## Изучение данных из файла"
   ]
  },
  {
   "cell_type": "code",
   "execution_count": 1,
   "id": "42db4abe",
   "metadata": {},
   "outputs": [],
   "source": [
    "import pandas as pd # импорт библиотеки pandas\n",
    "import numpy as np  # импорт библиотеки numpy\n",
    "from scipy import stats as st # импорт модуля scipy.stats из библиотеки scipy"
   ]
  },
  {
   "cell_type": "markdown",
   "id": "8faa85d9",
   "metadata": {},
   "source": [
    "Загрузим данные из файлов, каждый из файлов в соответствующую таблицу."
   ]
  },
  {
   "cell_type": "code",
   "execution_count": 2,
   "id": "1f1c4f12",
   "metadata": {},
   "outputs": [],
   "source": [
    "# загрузим данные с локального диска\n",
    "users = pd.read_csv('/datasets/users.csv')\n",
    "calls = pd.read_csv('/datasets/calls.csv')\n",
    "messages = pd.read_csv('/datasets/messages.csv')\n",
    "internet =  pd.read_csv('/datasets/internet.csv',  index_col=0)\n",
    "tariffs = pd.read_csv('/datasets/tariffs.csv')"
   ]
  },
  {
   "cell_type": "markdown",
   "id": "f3a09ae7",
   "metadata": {},
   "source": [
    "Посмотрим на структуру данных в таблицах."
   ]
  },
  {
   "cell_type": "code",
   "execution_count": 3,
   "id": "82978385",
   "metadata": {
    "scrolled": true
   },
   "outputs": [
    {
     "name": "stdout",
     "output_type": "stream",
     "text": [
      "<class 'pandas.core.frame.DataFrame'>\n",
      "RangeIndex: 500 entries, 0 to 499\n",
      "Data columns (total 8 columns):\n",
      " #   Column      Non-Null Count  Dtype \n",
      "---  ------      --------------  ----- \n",
      " 0   user_id     500 non-null    int64 \n",
      " 1   age         500 non-null    int64 \n",
      " 2   churn_date  38 non-null     object\n",
      " 3   city        500 non-null    object\n",
      " 4   first_name  500 non-null    object\n",
      " 5   last_name   500 non-null    object\n",
      " 6   reg_date    500 non-null    object\n",
      " 7   tariff      500 non-null    object\n",
      "dtypes: int64(2), object(6)\n",
      "memory usage: 31.4+ KB\n"
     ]
    }
   ],
   "source": [
    "users.info() # получение общей информации о данных в таблице users"
   ]
  },
  {
   "cell_type": "code",
   "execution_count": 4,
   "id": "c6bcadf3",
   "metadata": {},
   "outputs": [
    {
     "name": "stdout",
     "output_type": "stream",
     "text": [
      "<class 'pandas.core.frame.DataFrame'>\n",
      "RangeIndex: 202607 entries, 0 to 202606\n",
      "Data columns (total 4 columns):\n",
      " #   Column     Non-Null Count   Dtype  \n",
      "---  ------     --------------   -----  \n",
      " 0   id         202607 non-null  object \n",
      " 1   call_date  202607 non-null  object \n",
      " 2   duration   202607 non-null  float64\n",
      " 3   user_id    202607 non-null  int64  \n",
      "dtypes: float64(1), int64(1), object(2)\n",
      "memory usage: 6.2+ MB\n"
     ]
    }
   ],
   "source": [
    "calls.info() # получение общей информации о данных в таблице calls"
   ]
  },
  {
   "cell_type": "code",
   "execution_count": 5,
   "id": "85da4804",
   "metadata": {},
   "outputs": [
    {
     "name": "stdout",
     "output_type": "stream",
     "text": [
      "<class 'pandas.core.frame.DataFrame'>\n",
      "RangeIndex: 123036 entries, 0 to 123035\n",
      "Data columns (total 3 columns):\n",
      " #   Column        Non-Null Count   Dtype \n",
      "---  ------        --------------   ----- \n",
      " 0   id            123036 non-null  object\n",
      " 1   message_date  123036 non-null  object\n",
      " 2   user_id       123036 non-null  int64 \n",
      "dtypes: int64(1), object(2)\n",
      "memory usage: 2.8+ MB\n"
     ]
    }
   ],
   "source": [
    "messages.info() # получение общей информации о данных в таблице messages"
   ]
  },
  {
   "cell_type": "code",
   "execution_count": 6,
   "id": "bc8f7af5",
   "metadata": {},
   "outputs": [
    {
     "name": "stdout",
     "output_type": "stream",
     "text": [
      "<class 'pandas.core.frame.DataFrame'>\n",
      "Int64Index: 149396 entries, 0 to 149395\n",
      "Data columns (total 4 columns):\n",
      " #   Column        Non-Null Count   Dtype  \n",
      "---  ------        --------------   -----  \n",
      " 0   id            149396 non-null  object \n",
      " 1   mb_used       149396 non-null  float64\n",
      " 2   session_date  149396 non-null  object \n",
      " 3   user_id       149396 non-null  int64  \n",
      "dtypes: float64(1), int64(1), object(2)\n",
      "memory usage: 5.7+ MB\n"
     ]
    }
   ],
   "source": [
    "internet.info() # получение общей информации о данных в таблице internet"
   ]
  },
  {
   "cell_type": "code",
   "execution_count": 7,
   "id": "bb6d7d8d",
   "metadata": {
    "scrolled": true
   },
   "outputs": [
    {
     "name": "stdout",
     "output_type": "stream",
     "text": [
      "<class 'pandas.core.frame.DataFrame'>\n",
      "RangeIndex: 2 entries, 0 to 1\n",
      "Data columns (total 8 columns):\n",
      " #   Column                 Non-Null Count  Dtype \n",
      "---  ------                 --------------  ----- \n",
      " 0   messages_included      2 non-null      int64 \n",
      " 1   mb_per_month_included  2 non-null      int64 \n",
      " 2   minutes_included       2 non-null      int64 \n",
      " 3   rub_monthly_fee        2 non-null      int64 \n",
      " 4   rub_per_gb             2 non-null      int64 \n",
      " 5   rub_per_message        2 non-null      int64 \n",
      " 6   rub_per_minute         2 non-null      int64 \n",
      " 7   tariff_name            2 non-null      object\n",
      "dtypes: int64(7), object(1)\n",
      "memory usage: 256.0+ bytes\n"
     ]
    }
   ],
   "source": [
    "tariffs.info() # получение общей информации о данных в таблице tariffs"
   ]
  },
  {
   "cell_type": "markdown",
   "id": "e82df845",
   "metadata": {},
   "source": [
    "Пропусков в данных нет, за исключением `churn_date` в таблице `users`. Посмотрим каков их процент."
   ]
  },
  {
   "cell_type": "code",
   "execution_count": 8,
   "id": "863c2d01",
   "metadata": {
    "scrolled": true
   },
   "outputs": [
    {
     "data": {
      "text/plain": [
       "user_id        0.0\n",
       "age            0.0\n",
       "churn_date    92.4\n",
       "city           0.0\n",
       "first_name     0.0\n",
       "last_name      0.0\n",
       "reg_date       0.0\n",
       "tariff         0.0\n",
       "dtype: float64"
      ]
     },
     "execution_count": 8,
     "metadata": {},
     "output_type": "execute_result"
    }
   ],
   "source": [
    "users.isna().sum() / len(users) * 100 # подсчёт процентов пропусков"
   ]
  },
  {
   "cell_type": "markdown",
   "id": "2a391934",
   "metadata": {},
   "source": [
    "Согласно документации, если значение пропущено, то тариф ещё действовал на момент выгрузки данных, поэтому оставим пропуски."
   ]
  },
  {
   "cell_type": "markdown",
   "id": "c5b51e2b",
   "metadata": {},
   "source": [
    "### Описание данных"
   ]
  },
  {
   "cell_type": "markdown",
   "id": "dd6df368",
   "metadata": {},
   "source": [
    "Таблица `users` (информация о пользователях):\n",
    "* `user_id` — уникальный идентификатор пользователя\n",
    "* `first_name` — имя пользователя\n",
    "* `last_name` — фамилия пользователя\n",
    "* `age` — возраст пользователя (годы)\n",
    "* `reg_date` — дата подключения тарифа (день, месяц, год)\n",
    "* `churn_date` — дата прекращения пользования тарифом (если значение пропущено, то тариф ещё действовал на момент выгрузки данных)\n",
    "* `city` — город проживания пользователя\n",
    "* `tariff` — название тарифного плана"
   ]
  },
  {
   "cell_type": "markdown",
   "id": "91a58f05",
   "metadata": {},
   "source": [
    "Таблица `calls` (информация о звонках):\n",
    "* `id` — уникальный номер звонка\n",
    "* `call_date` — дата звонка\n",
    "* `duration` — длительность звонка в минутах\n",
    "* `user_id` — идентификатор пользователя, сделавшего звонок"
   ]
  },
  {
   "cell_type": "markdown",
   "id": "866ff27e",
   "metadata": {},
   "source": [
    "Таблица `messages` (информация о сообщениях):\n",
    "* `id` — уникальный номер сообщения\n",
    "* `message_date` — дата сообщения\n",
    "* `user_id` — идентификатор пользователя, отправившего сообщение"
   ]
  },
  {
   "cell_type": "markdown",
   "id": "a83b8d48",
   "metadata": {},
   "source": [
    "Таблица `internet` (информация об интернет-сессиях):\n",
    "* `id` — уникальный номер сессии\n",
    "* `mb_used` — объём потраченного за сессию интернет-трафика (в мегабайтах)\n",
    "* `session_date` — дата интернет-сессии\n",
    "* `user_id` — идентификатор пользователя"
   ]
  },
  {
   "cell_type": "markdown",
   "id": "7095159d",
   "metadata": {},
   "source": [
    "Таблица `tariffs` (информация о тарифах):\n",
    "* `tariff_name` — название тарифа\n",
    "* `rub_monthly_fee` — ежемесячная абонентская плата в рублях\n",
    "* `minutes_included` — количество минут разговора в месяц, включённых в абонентскую плату\n",
    "* `messages_included` — количество сообщений в месяц, включённых в абонентскую плату\n",
    "* `mb_per_month_included` — объём интернет-трафика, включённого в абонентскую плату (в мегабайтах)\n",
    "* `rub_per_minute` — стоимость минуты разговора сверх тарифного пакета (например, если в тарифе 100 минут разговора в месяц, то со 101 минуты будет взиматься плата)\n",
    "* `rub_per_message` — стоимость отправки сообщения сверх тарифного пакета\n",
    "* `rub_per_gb` — стоимость дополнительного гигабайта интернет-трафика сверх тарифного пакета (1 гигабайт = 1024 мегабайта)"
   ]
  },
  {
   "cell_type": "markdown",
   "id": "cb9a438e",
   "metadata": {},
   "source": [
    "### Вывод"
   ]
  },
  {
   "cell_type": "markdown",
   "id": "323a32eb",
   "metadata": {},
   "source": [
    "Предварительно можно утверждать, что, данных достаточно для решения поставленных задач.\n",
    "\n",
    "Пропусков в данных нет, за исключением столбца `churn_date` в таблице `users`. Согласно документации churn_date — дата прекращения пользования тарифом, если значение пропущено, то тариф ещё действовал на момент выгрузки данных. Таким образом пропуски несут полезную информацию и не должны быть устранены.\n",
    "\n",
    "Типы данных во всех столбцах различаются, возможно преобразование типов некоторых колонок повысит скорость обработки данных и повысит удобство при исследовании."
   ]
  },
  {
   "cell_type": "markdown",
   "id": "21cded06",
   "metadata": {},
   "source": [
    "## Предобработка данных"
   ]
  },
  {
   "cell_type": "markdown",
   "id": "5e56866f",
   "metadata": {},
   "source": [
    "### Изменение типов данных"
   ]
  },
  {
   "cell_type": "markdown",
   "id": "4c2d587d",
   "metadata": {},
   "source": [
    "Посмотрим на структуру данных в таблице `users`."
   ]
  },
  {
   "cell_type": "code",
   "execution_count": 9,
   "id": "94b803d8",
   "metadata": {
    "scrolled": true
   },
   "outputs": [
    {
     "name": "stdout",
     "output_type": "stream",
     "text": [
      "<class 'pandas.core.frame.DataFrame'>\n",
      "RangeIndex: 500 entries, 0 to 499\n",
      "Data columns (total 8 columns):\n",
      " #   Column      Non-Null Count  Dtype \n",
      "---  ------      --------------  ----- \n",
      " 0   user_id     500 non-null    int64 \n",
      " 1   age         500 non-null    int64 \n",
      " 2   churn_date  38 non-null     object\n",
      " 3   city        500 non-null    object\n",
      " 4   first_name  500 non-null    object\n",
      " 5   last_name   500 non-null    object\n",
      " 6   reg_date    500 non-null    object\n",
      " 7   tariff      500 non-null    object\n",
      "dtypes: int64(2), object(6)\n",
      "memory usage: 31.4+ KB\n"
     ]
    }
   ],
   "source": [
    "users.info() # получение общей информации о данных в таблице users"
   ]
  },
  {
   "cell_type": "markdown",
   "id": "7644a152",
   "metadata": {},
   "source": [
    "Посмотрим как выглядят данные в таблице `users`."
   ]
  },
  {
   "cell_type": "code",
   "execution_count": 10,
   "id": "c17b1ff3",
   "metadata": {
    "scrolled": true
   },
   "outputs": [
    {
     "data": {
      "text/html": [
       "<div>\n",
       "<style scoped>\n",
       "    .dataframe tbody tr th:only-of-type {\n",
       "        vertical-align: middle;\n",
       "    }\n",
       "\n",
       "    .dataframe tbody tr th {\n",
       "        vertical-align: top;\n",
       "    }\n",
       "\n",
       "    .dataframe thead th {\n",
       "        text-align: right;\n",
       "    }\n",
       "</style>\n",
       "<table border=\"1\" class=\"dataframe\">\n",
       "  <thead>\n",
       "    <tr style=\"text-align: right;\">\n",
       "      <th></th>\n",
       "      <th>user_id</th>\n",
       "      <th>age</th>\n",
       "      <th>churn_date</th>\n",
       "      <th>city</th>\n",
       "      <th>first_name</th>\n",
       "      <th>last_name</th>\n",
       "      <th>reg_date</th>\n",
       "      <th>tariff</th>\n",
       "    </tr>\n",
       "  </thead>\n",
       "  <tbody>\n",
       "    <tr>\n",
       "      <th>273</th>\n",
       "      <td>1273</td>\n",
       "      <td>46</td>\n",
       "      <td>NaN</td>\n",
       "      <td>Курган</td>\n",
       "      <td>Рэм</td>\n",
       "      <td>Корнилов</td>\n",
       "      <td>2018-05-15</td>\n",
       "      <td>ultra</td>\n",
       "    </tr>\n",
       "    <tr>\n",
       "      <th>233</th>\n",
       "      <td>1233</td>\n",
       "      <td>28</td>\n",
       "      <td>NaN</td>\n",
       "      <td>Воронеж</td>\n",
       "      <td>Сара</td>\n",
       "      <td>Алфимова</td>\n",
       "      <td>2018-05-23</td>\n",
       "      <td>smart</td>\n",
       "    </tr>\n",
       "    <tr>\n",
       "      <th>490</th>\n",
       "      <td>1490</td>\n",
       "      <td>30</td>\n",
       "      <td>NaN</td>\n",
       "      <td>Москва</td>\n",
       "      <td>Радомир</td>\n",
       "      <td>Алесин</td>\n",
       "      <td>2018-04-03</td>\n",
       "      <td>smart</td>\n",
       "    </tr>\n",
       "    <tr>\n",
       "      <th>199</th>\n",
       "      <td>1199</td>\n",
       "      <td>27</td>\n",
       "      <td>NaN</td>\n",
       "      <td>Чебоксары</td>\n",
       "      <td>Агата</td>\n",
       "      <td>Демьянова</td>\n",
       "      <td>2018-09-10</td>\n",
       "      <td>smart</td>\n",
       "    </tr>\n",
       "    <tr>\n",
       "      <th>334</th>\n",
       "      <td>1334</td>\n",
       "      <td>45</td>\n",
       "      <td>NaN</td>\n",
       "      <td>Владивосток</td>\n",
       "      <td>Пётр</td>\n",
       "      <td>Минаев</td>\n",
       "      <td>2018-11-16</td>\n",
       "      <td>smart</td>\n",
       "    </tr>\n",
       "  </tbody>\n",
       "</table>\n",
       "</div>"
      ],
      "text/plain": [
       "     user_id  age churn_date         city first_name  last_name    reg_date  \\\n",
       "273     1273   46        NaN       Курган        Рэм   Корнилов  2018-05-15   \n",
       "233     1233   28        NaN      Воронеж       Сара   Алфимова  2018-05-23   \n",
       "490     1490   30        NaN       Москва    Радомир     Алесин  2018-04-03   \n",
       "199     1199   27        NaN    Чебоксары      Агата  Демьянова  2018-09-10   \n",
       "334     1334   45        NaN  Владивосток       Пётр     Минаев  2018-11-16   \n",
       "\n",
       "    tariff  \n",
       "273  ultra  \n",
       "233  smart  \n",
       "490  smart  \n",
       "199  smart  \n",
       "334  smart  "
      ]
     },
     "execution_count": 10,
     "metadata": {},
     "output_type": "execute_result"
    }
   ],
   "source": [
    "users.sample(5) # просмотр образцов данных в таблице 'users'"
   ]
  },
  {
   "cell_type": "markdown",
   "id": "ee226a27",
   "metadata": {},
   "source": [
    "Тип данных столбцов, в которых хранятся даты преобразуем в datetime."
   ]
  },
  {
   "cell_type": "code",
   "execution_count": 11,
   "id": "1e82a107",
   "metadata": {
    "scrolled": true
   },
   "outputs": [],
   "source": [
    "try:\n",
    "    users['reg_date'] = pd.to_datetime(users['reg_date'], format=\"%Y-%m-%d\") # преобразование в дату\n",
    "except:\n",
    "    print('Ошибка преобразования типа данных')"
   ]
  },
  {
   "cell_type": "code",
   "execution_count": 12,
   "id": "0d3b6bd3",
   "metadata": {},
   "outputs": [
    {
     "name": "stdout",
     "output_type": "stream",
     "text": [
      "<class 'pandas.core.frame.DataFrame'>\n",
      "RangeIndex: 500 entries, 0 to 499\n",
      "Data columns (total 8 columns):\n",
      " #   Column      Non-Null Count  Dtype         \n",
      "---  ------      --------------  -----         \n",
      " 0   user_id     500 non-null    int64         \n",
      " 1   age         500 non-null    int64         \n",
      " 2   churn_date  38 non-null     datetime64[ns]\n",
      " 3   city        500 non-null    object        \n",
      " 4   first_name  500 non-null    object        \n",
      " 5   last_name   500 non-null    object        \n",
      " 6   reg_date    500 non-null    datetime64[ns]\n",
      " 7   tariff      500 non-null    object        \n",
      "dtypes: datetime64[ns](2), int64(2), object(4)\n",
      "memory usage: 31.4+ KB\n"
     ]
    }
   ],
   "source": [
    "try:\n",
    "    users['churn_date'] = pd.to_datetime(users['churn_date'], format=\"%Y-%m-%d\") # преобразование в дату\n",
    "except:\n",
    "    print('Ошибка преобразования типа данных')\n",
    "users.info() # проверка результата конвертации"
   ]
  },
  {
   "cell_type": "markdown",
   "id": "80841d24",
   "metadata": {},
   "source": [
    "Типы данных столбцов с датами успешно преобразованы."
   ]
  },
  {
   "cell_type": "markdown",
   "id": "a1e22a6d",
   "metadata": {},
   "source": [
    "В столбце `tariff` название тарифного плана хранится в текстовом виде, это излишне. Воспользуемся таблицей `tariffs` в качестве словаря и закодируем названия тарифов."
   ]
  },
  {
   "cell_type": "markdown",
   "id": "802ea6d5",
   "metadata": {},
   "source": [
    "Проверим, корректно ли указаны названия тарифов в столбце `tariff`."
   ]
  },
  {
   "cell_type": "code",
   "execution_count": 13,
   "id": "2bbf1cef",
   "metadata": {},
   "outputs": [
    {
     "data": {
      "text/plain": [
       "array(['ultra', 'smart'], dtype=object)"
      ]
     },
     "execution_count": 13,
     "metadata": {},
     "output_type": "execute_result"
    }
   ],
   "source": [
    "users['tariff'].unique()"
   ]
  },
  {
   "cell_type": "markdown",
   "id": "37ca7bfa",
   "metadata": {},
   "source": [
    "Указаны тольько два тарифа. Теперь посмотрим, как в таблице `tariffs` закодированы тарифы и произведем замену названий на коды в  в столбце `tariff`."
   ]
  },
  {
   "cell_type": "code",
   "execution_count": 14,
   "id": "28fce2e2",
   "metadata": {},
   "outputs": [
    {
     "data": {
      "text/html": [
       "<div>\n",
       "<style scoped>\n",
       "    .dataframe tbody tr th:only-of-type {\n",
       "        vertical-align: middle;\n",
       "    }\n",
       "\n",
       "    .dataframe tbody tr th {\n",
       "        vertical-align: top;\n",
       "    }\n",
       "\n",
       "    .dataframe thead th {\n",
       "        text-align: right;\n",
       "    }\n",
       "</style>\n",
       "<table border=\"1\" class=\"dataframe\">\n",
       "  <thead>\n",
       "    <tr style=\"text-align: right;\">\n",
       "      <th></th>\n",
       "      <th>messages_included</th>\n",
       "      <th>mb_per_month_included</th>\n",
       "      <th>minutes_included</th>\n",
       "      <th>rub_monthly_fee</th>\n",
       "      <th>rub_per_gb</th>\n",
       "      <th>rub_per_message</th>\n",
       "      <th>rub_per_minute</th>\n",
       "      <th>tariff_name</th>\n",
       "    </tr>\n",
       "  </thead>\n",
       "  <tbody>\n",
       "    <tr>\n",
       "      <th>0</th>\n",
       "      <td>50</td>\n",
       "      <td>15360</td>\n",
       "      <td>500</td>\n",
       "      <td>550</td>\n",
       "      <td>200</td>\n",
       "      <td>3</td>\n",
       "      <td>3</td>\n",
       "      <td>smart</td>\n",
       "    </tr>\n",
       "    <tr>\n",
       "      <th>1</th>\n",
       "      <td>1000</td>\n",
       "      <td>30720</td>\n",
       "      <td>3000</td>\n",
       "      <td>1950</td>\n",
       "      <td>150</td>\n",
       "      <td>1</td>\n",
       "      <td>1</td>\n",
       "      <td>ultra</td>\n",
       "    </tr>\n",
       "  </tbody>\n",
       "</table>\n",
       "</div>"
      ],
      "text/plain": [
       "   messages_included  mb_per_month_included  minutes_included  \\\n",
       "0                 50                  15360               500   \n",
       "1               1000                  30720              3000   \n",
       "\n",
       "   rub_monthly_fee  rub_per_gb  rub_per_message  rub_per_minute tariff_name  \n",
       "0              550         200                3               3       smart  \n",
       "1             1950         150                1               1       ultra  "
      ]
     },
     "execution_count": 14,
     "metadata": {},
     "output_type": "execute_result"
    }
   ],
   "source": [
    "tariffs.head() # просмотр содержимое таблицы 'tariffs'"
   ]
  },
  {
   "cell_type": "code",
   "execution_count": 15,
   "id": "37333055",
   "metadata": {},
   "outputs": [],
   "source": [
    "users['tariff'] = users.apply(lambda x: 0 if x['tariff'] == 'smart' else 1,axis=1) # замена названия тарифа на код\n",
    "    # 0 - тариф smart 1 - тариф ultra"
   ]
  },
  {
   "cell_type": "code",
   "execution_count": 16,
   "id": "4d4ebabe",
   "metadata": {},
   "outputs": [
    {
     "name": "stdout",
     "output_type": "stream",
     "text": [
      "<class 'pandas.core.frame.DataFrame'>\n",
      "RangeIndex: 500 entries, 0 to 499\n",
      "Data columns (total 8 columns):\n",
      " #   Column      Non-Null Count  Dtype         \n",
      "---  ------      --------------  -----         \n",
      " 0   user_id     500 non-null    int64         \n",
      " 1   age         500 non-null    int64         \n",
      " 2   churn_date  38 non-null     datetime64[ns]\n",
      " 3   city        500 non-null    object        \n",
      " 4   first_name  500 non-null    object        \n",
      " 5   last_name   500 non-null    object        \n",
      " 6   reg_date    500 non-null    datetime64[ns]\n",
      " 7   tariff      500 non-null    int64         \n",
      "dtypes: datetime64[ns](2), int64(3), object(3)\n",
      "memory usage: 31.4+ KB\n"
     ]
    }
   ],
   "source": [
    "users.info(5) # просмотр структуры данных"
   ]
  },
  {
   "cell_type": "markdown",
   "id": "da051922",
   "metadata": {},
   "source": [
    "Типы данных успешно преобразованы."
   ]
  },
  {
   "cell_type": "markdown",
   "id": "1f646e1f",
   "metadata": {},
   "source": [
    "Посмотрим как выглядят данные в таблице `calls`."
   ]
  },
  {
   "cell_type": "code",
   "execution_count": 17,
   "id": "4c704773",
   "metadata": {},
   "outputs": [
    {
     "name": "stdout",
     "output_type": "stream",
     "text": [
      "<class 'pandas.core.frame.DataFrame'>\n",
      "RangeIndex: 202607 entries, 0 to 202606\n",
      "Data columns (total 4 columns):\n",
      " #   Column     Non-Null Count   Dtype  \n",
      "---  ------     --------------   -----  \n",
      " 0   id         202607 non-null  object \n",
      " 1   call_date  202607 non-null  object \n",
      " 2   duration   202607 non-null  float64\n",
      " 3   user_id    202607 non-null  int64  \n",
      "dtypes: float64(1), int64(1), object(2)\n",
      "memory usage: 6.2+ MB\n"
     ]
    }
   ],
   "source": [
    "calls.info() # просмотр структуры данных"
   ]
  },
  {
   "cell_type": "code",
   "execution_count": 18,
   "id": "ce618694",
   "metadata": {
    "scrolled": true
   },
   "outputs": [
    {
     "data": {
      "text/html": [
       "<div>\n",
       "<style scoped>\n",
       "    .dataframe tbody tr th:only-of-type {\n",
       "        vertical-align: middle;\n",
       "    }\n",
       "\n",
       "    .dataframe tbody tr th {\n",
       "        vertical-align: top;\n",
       "    }\n",
       "\n",
       "    .dataframe thead th {\n",
       "        text-align: right;\n",
       "    }\n",
       "</style>\n",
       "<table border=\"1\" class=\"dataframe\">\n",
       "  <thead>\n",
       "    <tr style=\"text-align: right;\">\n",
       "      <th></th>\n",
       "      <th>id</th>\n",
       "      <th>call_date</th>\n",
       "      <th>duration</th>\n",
       "      <th>user_id</th>\n",
       "    </tr>\n",
       "  </thead>\n",
       "  <tbody>\n",
       "    <tr>\n",
       "      <th>57082</th>\n",
       "      <td>1144_453</td>\n",
       "      <td>2018-07-01</td>\n",
       "      <td>0.00</td>\n",
       "      <td>1144</td>\n",
       "    </tr>\n",
       "    <tr>\n",
       "      <th>101131</th>\n",
       "      <td>1260_295</td>\n",
       "      <td>2018-12-29</td>\n",
       "      <td>0.00</td>\n",
       "      <td>1260</td>\n",
       "    </tr>\n",
       "    <tr>\n",
       "      <th>126867</th>\n",
       "      <td>1325_248</td>\n",
       "      <td>2018-12-27</td>\n",
       "      <td>7.98</td>\n",
       "      <td>1325</td>\n",
       "    </tr>\n",
       "    <tr>\n",
       "      <th>195241</th>\n",
       "      <td>1479_44</td>\n",
       "      <td>2018-12-09</td>\n",
       "      <td>0.00</td>\n",
       "      <td>1479</td>\n",
       "    </tr>\n",
       "    <tr>\n",
       "      <th>65176</th>\n",
       "      <td>1168_327</td>\n",
       "      <td>2018-11-18</td>\n",
       "      <td>0.00</td>\n",
       "      <td>1168</td>\n",
       "    </tr>\n",
       "  </tbody>\n",
       "</table>\n",
       "</div>"
      ],
      "text/plain": [
       "              id   call_date  duration  user_id\n",
       "57082   1144_453  2018-07-01      0.00     1144\n",
       "101131  1260_295  2018-12-29      0.00     1260\n",
       "126867  1325_248  2018-12-27      7.98     1325\n",
       "195241   1479_44  2018-12-09      0.00     1479\n",
       "65176   1168_327  2018-11-18      0.00     1168"
      ]
     },
     "execution_count": 18,
     "metadata": {},
     "output_type": "execute_result"
    }
   ],
   "source": [
    "calls.sample(5) # просмотр образцов данных в таблице 'calls'"
   ]
  },
  {
   "cell_type": "markdown",
   "id": "5203cbe9",
   "metadata": {},
   "source": [
    "Следует конвертировать в datetime столбец `call_date`.  "
   ]
  },
  {
   "cell_type": "code",
   "execution_count": 19,
   "id": "6ed81005",
   "metadata": {},
   "outputs": [
    {
     "name": "stdout",
     "output_type": "stream",
     "text": [
      "<class 'pandas.core.frame.DataFrame'>\n",
      "RangeIndex: 202607 entries, 0 to 202606\n",
      "Data columns (total 4 columns):\n",
      " #   Column     Non-Null Count   Dtype         \n",
      "---  ------     --------------   -----         \n",
      " 0   id         202607 non-null  object        \n",
      " 1   call_date  202607 non-null  datetime64[ns]\n",
      " 2   duration   202607 non-null  float64       \n",
      " 3   user_id    202607 non-null  int64         \n",
      "dtypes: datetime64[ns](1), float64(1), int64(1), object(1)\n",
      "memory usage: 6.2+ MB\n"
     ]
    }
   ],
   "source": [
    "try:\n",
    "    calls['call_date'] = pd.to_datetime(calls['call_date'], format=\"%Y-%m-%d\") # преобразование в дату\n",
    "except:\n",
    "    print('Ошибка преобразования типа данных')\n",
    "calls.info() # проверка результата конвертации"
   ]
  },
  {
   "cell_type": "markdown",
   "id": "a8b90ff5",
   "metadata": {},
   "source": [
    "Преобразование типа данных и прошло успешно."
   ]
  },
  {
   "cell_type": "markdown",
   "id": "62f5176d",
   "metadata": {},
   "source": [
    "Также мы видим, что столбец `id` содержит в себе id пользователя и порядковый номер звонка для данного пользователя. Для настоящего исследования данная информация излишняя и столбец можно удалить после проверки на явные дубликаты.. "
   ]
  },
  {
   "cell_type": "markdown",
   "id": "f5f40d64",
   "metadata": {},
   "source": [
    "Посмотрим на структуру данных таблицы `messages`."
   ]
  },
  {
   "cell_type": "code",
   "execution_count": 20,
   "id": "cfbb66c6",
   "metadata": {},
   "outputs": [
    {
     "name": "stdout",
     "output_type": "stream",
     "text": [
      "<class 'pandas.core.frame.DataFrame'>\n",
      "RangeIndex: 123036 entries, 0 to 123035\n",
      "Data columns (total 3 columns):\n",
      " #   Column        Non-Null Count   Dtype \n",
      "---  ------        --------------   ----- \n",
      " 0   id            123036 non-null  object\n",
      " 1   message_date  123036 non-null  object\n",
      " 2   user_id       123036 non-null  int64 \n",
      "dtypes: int64(1), object(2)\n",
      "memory usage: 2.8+ MB\n"
     ]
    }
   ],
   "source": [
    "messages.info() # просмотр структуры данных"
   ]
  },
  {
   "cell_type": "markdown",
   "id": "b4b45f63",
   "metadata": {},
   "source": [
    "Посмотрим как выглядят данные в таблице `messages`."
   ]
  },
  {
   "cell_type": "code",
   "execution_count": 21,
   "id": "0b22a4ea",
   "metadata": {},
   "outputs": [
    {
     "data": {
      "text/html": [
       "<div>\n",
       "<style scoped>\n",
       "    .dataframe tbody tr th:only-of-type {\n",
       "        vertical-align: middle;\n",
       "    }\n",
       "\n",
       "    .dataframe tbody tr th {\n",
       "        vertical-align: top;\n",
       "    }\n",
       "\n",
       "    .dataframe thead th {\n",
       "        text-align: right;\n",
       "    }\n",
       "</style>\n",
       "<table border=\"1\" class=\"dataframe\">\n",
       "  <thead>\n",
       "    <tr style=\"text-align: right;\">\n",
       "      <th></th>\n",
       "      <th>id</th>\n",
       "      <th>message_date</th>\n",
       "      <th>user_id</th>\n",
       "    </tr>\n",
       "  </thead>\n",
       "  <tbody>\n",
       "    <tr>\n",
       "      <th>43940</th>\n",
       "      <td>1191_55</td>\n",
       "      <td>2018-09-01</td>\n",
       "      <td>1191</td>\n",
       "    </tr>\n",
       "    <tr>\n",
       "      <th>39225</th>\n",
       "      <td>1168_3</td>\n",
       "      <td>2018-07-28</td>\n",
       "      <td>1168</td>\n",
       "    </tr>\n",
       "    <tr>\n",
       "      <th>6488</th>\n",
       "      <td>1028_143</td>\n",
       "      <td>2018-11-16</td>\n",
       "      <td>1028</td>\n",
       "    </tr>\n",
       "    <tr>\n",
       "      <th>45581</th>\n",
       "      <td>1196_1031</td>\n",
       "      <td>2018-10-24</td>\n",
       "      <td>1196</td>\n",
       "    </tr>\n",
       "    <tr>\n",
       "      <th>66395</th>\n",
       "      <td>1283_59</td>\n",
       "      <td>2018-11-13</td>\n",
       "      <td>1283</td>\n",
       "    </tr>\n",
       "  </tbody>\n",
       "</table>\n",
       "</div>"
      ],
      "text/plain": [
       "              id message_date  user_id\n",
       "43940    1191_55   2018-09-01     1191\n",
       "39225     1168_3   2018-07-28     1168\n",
       "6488    1028_143   2018-11-16     1028\n",
       "45581  1196_1031   2018-10-24     1196\n",
       "66395    1283_59   2018-11-13     1283"
      ]
     },
     "execution_count": 21,
     "metadata": {},
     "output_type": "execute_result"
    }
   ],
   "source": [
    "messages.sample(5) # просмотр образцов данных в таблице 'messages'"
   ]
  },
  {
   "cell_type": "markdown",
   "id": "39a98d5f",
   "metadata": {},
   "source": [
    "Следует конвертировать в datetime столбец `message_date`.  "
   ]
  },
  {
   "cell_type": "code",
   "execution_count": 22,
   "id": "830b5aa0",
   "metadata": {},
   "outputs": [
    {
     "name": "stdout",
     "output_type": "stream",
     "text": [
      "<class 'pandas.core.frame.DataFrame'>\n",
      "RangeIndex: 123036 entries, 0 to 123035\n",
      "Data columns (total 3 columns):\n",
      " #   Column        Non-Null Count   Dtype         \n",
      "---  ------        --------------   -----         \n",
      " 0   id            123036 non-null  object        \n",
      " 1   message_date  123036 non-null  datetime64[ns]\n",
      " 2   user_id       123036 non-null  int64         \n",
      "dtypes: datetime64[ns](1), int64(1), object(1)\n",
      "memory usage: 2.8+ MB\n"
     ]
    }
   ],
   "source": [
    "try:\n",
    "    messages['message_date'] = pd.to_datetime(messages['message_date'], format=\"%Y-%m-%d\") # преобразование в дату\n",
    "except:\n",
    "    print('Ошибка преобразования типа данных')\n",
    "messages.info() # проверка результата конвертации"
   ]
  },
  {
   "cell_type": "markdown",
   "id": "6e1cd161",
   "metadata": {},
   "source": [
    "Преобразование типа данных прошло успешно."
   ]
  },
  {
   "cell_type": "markdown",
   "id": "e88e2f0d",
   "metadata": {},
   "source": [
    "Аналгично предыдущей таблице столбец `id` содержит в себе id пользователя и порядковый номер сообщения для данного пользователя. Для настоящего исследования данная информация излишняя и столбец можно удалить после проверки на явные дубликаты. "
   ]
  },
  {
   "cell_type": "markdown",
   "id": "16929b7b",
   "metadata": {},
   "source": [
    "Посмотрим как выглядят данные в таблице `internet`."
   ]
  },
  {
   "cell_type": "code",
   "execution_count": 23,
   "id": "c90e817b",
   "metadata": {},
   "outputs": [
    {
     "data": {
      "text/html": [
       "<div>\n",
       "<style scoped>\n",
       "    .dataframe tbody tr th:only-of-type {\n",
       "        vertical-align: middle;\n",
       "    }\n",
       "\n",
       "    .dataframe tbody tr th {\n",
       "        vertical-align: top;\n",
       "    }\n",
       "\n",
       "    .dataframe thead th {\n",
       "        text-align: right;\n",
       "    }\n",
       "</style>\n",
       "<table border=\"1\" class=\"dataframe\">\n",
       "  <thead>\n",
       "    <tr style=\"text-align: right;\">\n",
       "      <th></th>\n",
       "      <th>id</th>\n",
       "      <th>mb_used</th>\n",
       "      <th>session_date</th>\n",
       "      <th>user_id</th>\n",
       "    </tr>\n",
       "  </thead>\n",
       "  <tbody>\n",
       "    <tr>\n",
       "      <th>143579</th>\n",
       "      <td>1480_267</td>\n",
       "      <td>94.76</td>\n",
       "      <td>2018-03-22</td>\n",
       "      <td>1480</td>\n",
       "    </tr>\n",
       "    <tr>\n",
       "      <th>6442</th>\n",
       "      <td>1021_86</td>\n",
       "      <td>0.00</td>\n",
       "      <td>2018-05-23</td>\n",
       "      <td>1021</td>\n",
       "    </tr>\n",
       "    <tr>\n",
       "      <th>59804</th>\n",
       "      <td>1203_52</td>\n",
       "      <td>729.08</td>\n",
       "      <td>2018-08-17</td>\n",
       "      <td>1203</td>\n",
       "    </tr>\n",
       "    <tr>\n",
       "      <th>94105</th>\n",
       "      <td>1318_119</td>\n",
       "      <td>0.00</td>\n",
       "      <td>2018-08-27</td>\n",
       "      <td>1318</td>\n",
       "    </tr>\n",
       "    <tr>\n",
       "      <th>35914</th>\n",
       "      <td>1125_37</td>\n",
       "      <td>667.39</td>\n",
       "      <td>2018-09-16</td>\n",
       "      <td>1125</td>\n",
       "    </tr>\n",
       "  </tbody>\n",
       "</table>\n",
       "</div>"
      ],
      "text/plain": [
       "              id  mb_used session_date  user_id\n",
       "143579  1480_267    94.76   2018-03-22     1480\n",
       "6442     1021_86     0.00   2018-05-23     1021\n",
       "59804    1203_52   729.08   2018-08-17     1203\n",
       "94105   1318_119     0.00   2018-08-27     1318\n",
       "35914    1125_37   667.39   2018-09-16     1125"
      ]
     },
     "execution_count": 23,
     "metadata": {},
     "output_type": "execute_result"
    }
   ],
   "source": [
    "internet.sample(5) # просмотр образцов данных в таблице 'internet'"
   ]
  },
  {
   "cell_type": "markdown",
   "id": "3a8cf529",
   "metadata": {},
   "source": [
    "Следует конвертировать в datetime столбец `session_date`.  "
   ]
  },
  {
   "cell_type": "code",
   "execution_count": 24,
   "id": "0d16e0a3",
   "metadata": {},
   "outputs": [
    {
     "name": "stdout",
     "output_type": "stream",
     "text": [
      "<class 'pandas.core.frame.DataFrame'>\n",
      "Int64Index: 149396 entries, 0 to 149395\n",
      "Data columns (total 4 columns):\n",
      " #   Column        Non-Null Count   Dtype         \n",
      "---  ------        --------------   -----         \n",
      " 0   id            149396 non-null  object        \n",
      " 1   mb_used       149396 non-null  float64       \n",
      " 2   session_date  149396 non-null  datetime64[ns]\n",
      " 3   user_id       149396 non-null  int64         \n",
      "dtypes: datetime64[ns](1), float64(1), int64(1), object(1)\n",
      "memory usage: 5.7+ MB\n"
     ]
    }
   ],
   "source": [
    "try:\n",
    "    internet['session_date'] = pd.to_datetime(internet['session_date'], format=\"%Y-%m-%d\") # преобразование в дату\n",
    "except:\n",
    "    print('Ошибка преобразования типа данных')\n",
    "internet.info() # проверка результата конвертации"
   ]
  },
  {
   "cell_type": "markdown",
   "id": "5455a846",
   "metadata": {},
   "source": [
    "Преобразование типа данных прошло успешно."
   ]
  },
  {
   "cell_type": "markdown",
   "id": "b289c2d0",
   "metadata": {},
   "source": [
    "Аналогично предыдущей таблице столбец `id` содержит в себе id пользователя и порядковый номер сообщения для данного пользователя. Для настоящего исследования данная информация излишняя и столбец можно удалить. Сделаем это после проверки на дубликаты."
   ]
  },
  {
   "cell_type": "markdown",
   "id": "af23d186",
   "metadata": {},
   "source": [
    "Во всех таблицах данные преобразованы к оптимальным типам."
   ]
  },
  {
   "cell_type": "markdown",
   "id": "65d78803",
   "metadata": {},
   "source": [
    "### Удаление дубликатов"
   ]
  },
  {
   "cell_type": "markdown",
   "id": "a23f71ce",
   "metadata": {},
   "source": [
    "Проверим все таблицы на наличие явных дубликатов."
   ]
  },
  {
   "cell_type": "code",
   "execution_count": 25,
   "id": "4845b007",
   "metadata": {},
   "outputs": [
    {
     "data": {
      "text/plain": [
       "0"
      ]
     },
     "execution_count": 25,
     "metadata": {},
     "output_type": "execute_result"
    }
   ],
   "source": [
    "users.duplicated().sum() # подсчёт явных дубликатов"
   ]
  },
  {
   "cell_type": "code",
   "execution_count": 26,
   "id": "2e6b40fa",
   "metadata": {},
   "outputs": [
    {
     "data": {
      "text/plain": [
       "0"
      ]
     },
     "execution_count": 26,
     "metadata": {},
     "output_type": "execute_result"
    }
   ],
   "source": [
    "calls.duplicated().sum() # подсчёт явных дубликатов"
   ]
  },
  {
   "cell_type": "code",
   "execution_count": 27,
   "id": "55e7dc7b",
   "metadata": {},
   "outputs": [
    {
     "data": {
      "text/plain": [
       "0"
      ]
     },
     "execution_count": 27,
     "metadata": {},
     "output_type": "execute_result"
    }
   ],
   "source": [
    "messages.duplicated().sum() # подсчёт явных дубликатов"
   ]
  },
  {
   "cell_type": "code",
   "execution_count": 28,
   "id": "0cd5615f",
   "metadata": {},
   "outputs": [
    {
     "data": {
      "text/plain": [
       "0"
      ]
     },
     "execution_count": 28,
     "metadata": {},
     "output_type": "execute_result"
    }
   ],
   "source": [
    "internet.duplicated().sum() # подсчёт явных дубликатов"
   ]
  },
  {
   "cell_type": "code",
   "execution_count": 29,
   "id": "fd48764a",
   "metadata": {},
   "outputs": [
    {
     "data": {
      "text/plain": [
       "0"
      ]
     },
     "execution_count": 29,
     "metadata": {},
     "output_type": "execute_result"
    }
   ],
   "source": [
    "tariffs.duplicated().sum() # подсчёт явных дубликатов"
   ]
  },
  {
   "cell_type": "markdown",
   "id": "bc26dc6c",
   "metadata": {},
   "source": [
    "Явных дубликатов не обнаружено."
   ]
  },
  {
   "cell_type": "markdown",
   "id": "99bc8ce6",
   "metadata": {},
   "source": [
    "Теперь можно удалить столбцы с излишней информацией."
   ]
  },
  {
   "cell_type": "code",
   "execution_count": 30,
   "id": "223f901a",
   "metadata": {},
   "outputs": [],
   "source": [
    "calls = calls.drop('id', axis=1)  # удаление столбца 'id'\n",
    "messages = messages.drop('id', axis=1)  # удаление столбца 'id'\n",
    "internet = internet.drop('id', axis=1)  # удаление столбца 'id'"
   ]
  },
  {
   "cell_type": "markdown",
   "id": "6040cd35",
   "metadata": {},
   "source": [
    "Посмотрим на результат удаления столбцов."
   ]
  },
  {
   "cell_type": "code",
   "execution_count": 31,
   "id": "2461b3cb",
   "metadata": {},
   "outputs": [
    {
     "data": {
      "text/html": [
       "<div>\n",
       "<style scoped>\n",
       "    .dataframe tbody tr th:only-of-type {\n",
       "        vertical-align: middle;\n",
       "    }\n",
       "\n",
       "    .dataframe tbody tr th {\n",
       "        vertical-align: top;\n",
       "    }\n",
       "\n",
       "    .dataframe thead th {\n",
       "        text-align: right;\n",
       "    }\n",
       "</style>\n",
       "<table border=\"1\" class=\"dataframe\">\n",
       "  <thead>\n",
       "    <tr style=\"text-align: right;\">\n",
       "      <th></th>\n",
       "      <th>call_date</th>\n",
       "      <th>duration</th>\n",
       "      <th>user_id</th>\n",
       "    </tr>\n",
       "  </thead>\n",
       "  <tbody>\n",
       "    <tr>\n",
       "      <th>0</th>\n",
       "      <td>2018-07-25</td>\n",
       "      <td>0.00</td>\n",
       "      <td>1000</td>\n",
       "    </tr>\n",
       "    <tr>\n",
       "      <th>1</th>\n",
       "      <td>2018-08-17</td>\n",
       "      <td>0.00</td>\n",
       "      <td>1000</td>\n",
       "    </tr>\n",
       "    <tr>\n",
       "      <th>2</th>\n",
       "      <td>2018-06-11</td>\n",
       "      <td>2.85</td>\n",
       "      <td>1000</td>\n",
       "    </tr>\n",
       "    <tr>\n",
       "      <th>3</th>\n",
       "      <td>2018-09-21</td>\n",
       "      <td>13.80</td>\n",
       "      <td>1000</td>\n",
       "    </tr>\n",
       "    <tr>\n",
       "      <th>4</th>\n",
       "      <td>2018-12-15</td>\n",
       "      <td>5.18</td>\n",
       "      <td>1000</td>\n",
       "    </tr>\n",
       "  </tbody>\n",
       "</table>\n",
       "</div>"
      ],
      "text/plain": [
       "   call_date  duration  user_id\n",
       "0 2018-07-25      0.00     1000\n",
       "1 2018-08-17      0.00     1000\n",
       "2 2018-06-11      2.85     1000\n",
       "3 2018-09-21     13.80     1000\n",
       "4 2018-12-15      5.18     1000"
      ]
     },
     "metadata": {},
     "output_type": "display_data"
    },
    {
     "data": {
      "text/html": [
       "<div>\n",
       "<style scoped>\n",
       "    .dataframe tbody tr th:only-of-type {\n",
       "        vertical-align: middle;\n",
       "    }\n",
       "\n",
       "    .dataframe tbody tr th {\n",
       "        vertical-align: top;\n",
       "    }\n",
       "\n",
       "    .dataframe thead th {\n",
       "        text-align: right;\n",
       "    }\n",
       "</style>\n",
       "<table border=\"1\" class=\"dataframe\">\n",
       "  <thead>\n",
       "    <tr style=\"text-align: right;\">\n",
       "      <th></th>\n",
       "      <th>message_date</th>\n",
       "      <th>user_id</th>\n",
       "    </tr>\n",
       "  </thead>\n",
       "  <tbody>\n",
       "    <tr>\n",
       "      <th>0</th>\n",
       "      <td>2018-06-27</td>\n",
       "      <td>1000</td>\n",
       "    </tr>\n",
       "    <tr>\n",
       "      <th>1</th>\n",
       "      <td>2018-10-08</td>\n",
       "      <td>1000</td>\n",
       "    </tr>\n",
       "    <tr>\n",
       "      <th>2</th>\n",
       "      <td>2018-08-04</td>\n",
       "      <td>1000</td>\n",
       "    </tr>\n",
       "    <tr>\n",
       "      <th>3</th>\n",
       "      <td>2018-06-16</td>\n",
       "      <td>1000</td>\n",
       "    </tr>\n",
       "    <tr>\n",
       "      <th>4</th>\n",
       "      <td>2018-12-05</td>\n",
       "      <td>1000</td>\n",
       "    </tr>\n",
       "  </tbody>\n",
       "</table>\n",
       "</div>"
      ],
      "text/plain": [
       "  message_date  user_id\n",
       "0   2018-06-27     1000\n",
       "1   2018-10-08     1000\n",
       "2   2018-08-04     1000\n",
       "3   2018-06-16     1000\n",
       "4   2018-12-05     1000"
      ]
     },
     "metadata": {},
     "output_type": "display_data"
    },
    {
     "data": {
      "text/html": [
       "<div>\n",
       "<style scoped>\n",
       "    .dataframe tbody tr th:only-of-type {\n",
       "        vertical-align: middle;\n",
       "    }\n",
       "\n",
       "    .dataframe tbody tr th {\n",
       "        vertical-align: top;\n",
       "    }\n",
       "\n",
       "    .dataframe thead th {\n",
       "        text-align: right;\n",
       "    }\n",
       "</style>\n",
       "<table border=\"1\" class=\"dataframe\">\n",
       "  <thead>\n",
       "    <tr style=\"text-align: right;\">\n",
       "      <th></th>\n",
       "      <th>mb_used</th>\n",
       "      <th>session_date</th>\n",
       "      <th>user_id</th>\n",
       "    </tr>\n",
       "  </thead>\n",
       "  <tbody>\n",
       "    <tr>\n",
       "      <th>0</th>\n",
       "      <td>112.95</td>\n",
       "      <td>2018-11-25</td>\n",
       "      <td>1000</td>\n",
       "    </tr>\n",
       "    <tr>\n",
       "      <th>1</th>\n",
       "      <td>1052.81</td>\n",
       "      <td>2018-09-07</td>\n",
       "      <td>1000</td>\n",
       "    </tr>\n",
       "    <tr>\n",
       "      <th>2</th>\n",
       "      <td>1197.26</td>\n",
       "      <td>2018-06-25</td>\n",
       "      <td>1000</td>\n",
       "    </tr>\n",
       "    <tr>\n",
       "      <th>3</th>\n",
       "      <td>550.27</td>\n",
       "      <td>2018-08-22</td>\n",
       "      <td>1000</td>\n",
       "    </tr>\n",
       "    <tr>\n",
       "      <th>4</th>\n",
       "      <td>302.56</td>\n",
       "      <td>2018-09-24</td>\n",
       "      <td>1000</td>\n",
       "    </tr>\n",
       "  </tbody>\n",
       "</table>\n",
       "</div>"
      ],
      "text/plain": [
       "   mb_used session_date  user_id\n",
       "0   112.95   2018-11-25     1000\n",
       "1  1052.81   2018-09-07     1000\n",
       "2  1197.26   2018-06-25     1000\n",
       "3   550.27   2018-08-22     1000\n",
       "4   302.56   2018-09-24     1000"
      ]
     },
     "metadata": {},
     "output_type": "display_data"
    }
   ],
   "source": [
    "display(calls.head()) # просмотр образца данных \n",
    "display(messages.head()) # просмотр образца данных\n",
    "display(internet.head()) # просмотр образца данных"
   ]
  },
  {
   "cell_type": "markdown",
   "id": "f29661fc",
   "metadata": {},
   "source": [
    "Столбцы с излишней информацией удалены успешно."
   ]
  },
  {
   "cell_type": "markdown",
   "id": "0e3ffb18",
   "metadata": {},
   "source": [
    "Проверим нет ли в таблице `users` дубликатов, которые мы не найдены из-за ошибочно введенных имен пользователей."
   ]
  },
  {
   "cell_type": "code",
   "execution_count": 32,
   "id": "ca775c00",
   "metadata": {},
   "outputs": [
    {
     "data": {
      "text/plain": [
       "0"
      ]
     },
     "execution_count": 32,
     "metadata": {},
     "output_type": "execute_result"
    }
   ],
   "source": [
    "users[['age',  'city', 'reg_date', 'tariff']].duplicated().sum() # подсчёт явных дубликатов в отдельных столбцах"
   ]
  },
  {
   "cell_type": "markdown",
   "id": "ddf7662b",
   "metadata": {},
   "source": [
    "Похоже, что все пользователи уникальны."
   ]
  },
  {
   "cell_type": "markdown",
   "id": "8e13024a",
   "metadata": {},
   "source": [
    "Посмотрим, нет ли дубликатов в категориях городов."
   ]
  },
  {
   "cell_type": "code",
   "execution_count": 33,
   "id": "4f774df3",
   "metadata": {
    "scrolled": true
   },
   "outputs": [
    {
     "name": "stdout",
     "output_type": "stream",
     "text": [
      "Unique values 76\n"
     ]
    },
    {
     "data": {
      "text/plain": [
       "array(['Архангельск', 'Астрахань', 'Балашиха', 'Барнаул', 'Белгород',\n",
       "       'Брянск', 'Владивосток', 'Владикавказ', 'Владимир', 'Волгоград',\n",
       "       'Волжский', 'Вологда', 'Воронеж', 'Грозный', 'Екатеринбург',\n",
       "       'Иваново', 'Ижевск', 'Иркутск', 'Казань', 'Калининград', 'Калуга',\n",
       "       'Кемерово', 'Киров', 'Кострома', 'Краснодар', 'Красноярск',\n",
       "       'Курган', 'Курск', 'Липецк', 'Магнитогорск', 'Махачкала', 'Москва',\n",
       "       'Мурманск', 'Набережные Челны', 'Нижневартовск', 'Нижний Новгород',\n",
       "       'Нижний Тагил', 'Новокузнецк', 'Новороссийск', 'Новосибирск',\n",
       "       'Омск', 'Оренбург', 'Орёл', 'Пенза', 'Пермь', 'Петрозаводск',\n",
       "       'Подольск', 'Ростов-на-Дону', 'Рязань', 'Самара',\n",
       "       'Санкт-Петербург', 'Саранск', 'Саратов', 'Севастополь', 'Смоленск',\n",
       "       'Сочи', 'Ставрополь', 'Стерлитамак', 'Сургут', 'Тамбов', 'Тверь',\n",
       "       'Тольятти', 'Томск', 'Тула', 'Тюмень', 'Улан-Удэ', 'Ульяновск',\n",
       "       'Уфа', 'Хабаровск', 'Химки', 'Чебоксары', 'Челябинск', 'Череповец',\n",
       "       'Чита', 'Якутск', 'Ярославль'], dtype=object)"
      ]
     },
     "execution_count": 33,
     "metadata": {},
     "output_type": "execute_result"
    }
   ],
   "source": [
    "print('Unique values',len(users['city'].unique())) # вывод числа уникальных значений\n",
    "users['city'].sort_values().unique()  # вывод уникальных значений"
   ]
  },
  {
   "cell_type": "markdown",
   "id": "58b0af1e",
   "metadata": {},
   "source": [
    "Визуально дубликаты не обнаружены."
   ]
  },
  {
   "cell_type": "markdown",
   "id": "052ee7b3",
   "metadata": {},
   "source": [
    "### Выводы"
   ]
  },
  {
   "cell_type": "markdown",
   "id": "0770d1fa",
   "metadata": {},
   "source": [
    "1. В таблицах столбцы содержащие даты мы конвертировали в формат datetime. В `users` - `churn_date` и `reg_date`, в `calls` - `call_date`, в `messages` - `message_date`, в `internet` - `session_date`.\n",
    "2. В таблицах `users`, `messages` и `internet` столбец `id` содержит в себе id пользователя и порядковый номер записи для данного пользователя. Для настоящего исследования данная информация излишняя и мы удалили столбцы  во всех таблицах.\n",
    "3. В столбце `tariff` таблицы `users` название тарифного плана хранится в текстовом виде, это излишне. Мы воспользовались таблицей `tariffs` в качестве словаря и закодировали названия тарифов: 0 - тариф smart 1 - тариф ultra.\n",
    "4. Явных дубликатов в данных не обнаружено.\n",
    "5. Дополнительно мы проверили таблицу `users`, содержащую наибольшее число текстовых категорий, на наличие дубликатов, которые мы не найдены из-за ошибочно введенных имен пользователей, поискав дубликаты исключив столбцы с именами пользователей. Дубликаты не найдены.\n",
    "6. В этой же таблицы проверен на наличие дубликатов в категориях городов столбец `city`. Визуально дубликаты не обнаружены."
   ]
  },
  {
   "cell_type": "markdown",
   "id": "d10fb585",
   "metadata": {},
   "source": [
    "## Расчёты и добавление результатов в таблицу"
   ]
  },
  {
   "cell_type": "markdown",
   "id": "1ab782a2",
   "metadata": {},
   "source": [
    "Для дальнейшего исследования создадим таблицу `user_billing` и рассчитаем для каждого пользователя:\n",
    "- количество сделанных звонков и израсходованных минут разговора по месяцам;\n",
    "- количество отправленных сообщений по месяцам;\n",
    "- объем израсходованного интернет-трафика по месяцам;\n",
    "- помесячную выручку с каждого пользователя."
   ]
  },
  {
   "cell_type": "markdown",
   "id": "d18dbb29",
   "metadata": {},
   "source": [
    "Посмотрим на временной диапазон нашей выгрузки."
   ]
  },
  {
   "cell_type": "code",
   "execution_count": 34,
   "id": "8c432c3f",
   "metadata": {},
   "outputs": [
    {
     "name": "stdout",
     "output_type": "stream",
     "text": [
      "Диапазон дат от 2018-01-01 00:00:00 до 2018-12-31 00:00:00\n"
     ]
    }
   ],
   "source": [
    "print('Диапазон дат от', calls['call_date'].min(), 'до', calls['call_date'].max()) # определение минимальной и максимальной даты"
   ]
  },
  {
   "cell_type": "markdown",
   "id": "46a93360",
   "metadata": {},
   "source": [
    "Для удобства дальнейших расчетов добавим в таблицы `calls`, `mesages` и `internet` столбец `month`. Наша выгрузка охватывает один календарный год и номер месяца будет точно идентифицировать месячный период."
   ]
  },
  {
   "cell_type": "code",
   "execution_count": 35,
   "id": "d2735143",
   "metadata": {},
   "outputs": [
    {
     "data": {
      "text/html": [
       "<div>\n",
       "<style scoped>\n",
       "    .dataframe tbody tr th:only-of-type {\n",
       "        vertical-align: middle;\n",
       "    }\n",
       "\n",
       "    .dataframe tbody tr th {\n",
       "        vertical-align: top;\n",
       "    }\n",
       "\n",
       "    .dataframe thead th {\n",
       "        text-align: right;\n",
       "    }\n",
       "</style>\n",
       "<table border=\"1\" class=\"dataframe\">\n",
       "  <thead>\n",
       "    <tr style=\"text-align: right;\">\n",
       "      <th></th>\n",
       "      <th>call_date</th>\n",
       "      <th>duration</th>\n",
       "      <th>user_id</th>\n",
       "      <th>month</th>\n",
       "    </tr>\n",
       "  </thead>\n",
       "  <tbody>\n",
       "    <tr>\n",
       "      <th>65531</th>\n",
       "      <td>2018-05-04</td>\n",
       "      <td>0.00</td>\n",
       "      <td>1168</td>\n",
       "      <td>5</td>\n",
       "    </tr>\n",
       "    <tr>\n",
       "      <th>88945</th>\n",
       "      <td>2018-09-08</td>\n",
       "      <td>0.00</td>\n",
       "      <td>1222</td>\n",
       "      <td>9</td>\n",
       "    </tr>\n",
       "    <tr>\n",
       "      <th>58474</th>\n",
       "      <td>2018-12-02</td>\n",
       "      <td>15.99</td>\n",
       "      <td>1147</td>\n",
       "      <td>12</td>\n",
       "    </tr>\n",
       "    <tr>\n",
       "      <th>31202</th>\n",
       "      <td>2018-10-03</td>\n",
       "      <td>12.43</td>\n",
       "      <td>1078</td>\n",
       "      <td>10</td>\n",
       "    </tr>\n",
       "    <tr>\n",
       "      <th>125165</th>\n",
       "      <td>2018-07-06</td>\n",
       "      <td>13.67</td>\n",
       "      <td>1321</td>\n",
       "      <td>7</td>\n",
       "    </tr>\n",
       "  </tbody>\n",
       "</table>\n",
       "</div>"
      ],
      "text/plain": [
       "        call_date  duration  user_id  month\n",
       "65531  2018-05-04      0.00     1168      5\n",
       "88945  2018-09-08      0.00     1222      9\n",
       "58474  2018-12-02     15.99     1147     12\n",
       "31202  2018-10-03     12.43     1078     10\n",
       "125165 2018-07-06     13.67     1321      7"
      ]
     },
     "execution_count": 35,
     "metadata": {},
     "output_type": "execute_result"
    }
   ],
   "source": [
    "calls['month'] = calls['call_date'].dt.month # запись номера месяца в столбец 'month'\n",
    "calls.sample(5) # просмотр результатов добавления столбца"
   ]
  },
  {
   "cell_type": "code",
   "execution_count": 36,
   "id": "e7dc058d",
   "metadata": {},
   "outputs": [
    {
     "data": {
      "text/html": [
       "<div>\n",
       "<style scoped>\n",
       "    .dataframe tbody tr th:only-of-type {\n",
       "        vertical-align: middle;\n",
       "    }\n",
       "\n",
       "    .dataframe tbody tr th {\n",
       "        vertical-align: top;\n",
       "    }\n",
       "\n",
       "    .dataframe thead th {\n",
       "        text-align: right;\n",
       "    }\n",
       "</style>\n",
       "<table border=\"1\" class=\"dataframe\">\n",
       "  <thead>\n",
       "    <tr style=\"text-align: right;\">\n",
       "      <th></th>\n",
       "      <th>message_date</th>\n",
       "      <th>user_id</th>\n",
       "      <th>month</th>\n",
       "    </tr>\n",
       "  </thead>\n",
       "  <tbody>\n",
       "    <tr>\n",
       "      <th>18567</th>\n",
       "      <td>2018-10-08</td>\n",
       "      <td>1082</td>\n",
       "      <td>10</td>\n",
       "    </tr>\n",
       "    <tr>\n",
       "      <th>40428</th>\n",
       "      <td>2018-04-11</td>\n",
       "      <td>1171</td>\n",
       "      <td>4</td>\n",
       "    </tr>\n",
       "    <tr>\n",
       "      <th>95147</th>\n",
       "      <td>2018-11-07</td>\n",
       "      <td>1391</td>\n",
       "      <td>11</td>\n",
       "    </tr>\n",
       "    <tr>\n",
       "      <th>117736</th>\n",
       "      <td>2018-10-31</td>\n",
       "      <td>1478</td>\n",
       "      <td>10</td>\n",
       "    </tr>\n",
       "    <tr>\n",
       "      <th>14854</th>\n",
       "      <td>2018-11-20</td>\n",
       "      <td>1065</td>\n",
       "      <td>11</td>\n",
       "    </tr>\n",
       "  </tbody>\n",
       "</table>\n",
       "</div>"
      ],
      "text/plain": [
       "       message_date  user_id  month\n",
       "18567    2018-10-08     1082     10\n",
       "40428    2018-04-11     1171      4\n",
       "95147    2018-11-07     1391     11\n",
       "117736   2018-10-31     1478     10\n",
       "14854    2018-11-20     1065     11"
      ]
     },
     "execution_count": 36,
     "metadata": {},
     "output_type": "execute_result"
    }
   ],
   "source": [
    "messages['month'] = messages['message_date'].dt.month # запись номера месяца в столбец 'month'\n",
    "messages.sample(5) # просмотр результатов добавления столбца"
   ]
  },
  {
   "cell_type": "code",
   "execution_count": 37,
   "id": "79f8252a",
   "metadata": {},
   "outputs": [
    {
     "data": {
      "text/html": [
       "<div>\n",
       "<style scoped>\n",
       "    .dataframe tbody tr th:only-of-type {\n",
       "        vertical-align: middle;\n",
       "    }\n",
       "\n",
       "    .dataframe tbody tr th {\n",
       "        vertical-align: top;\n",
       "    }\n",
       "\n",
       "    .dataframe thead th {\n",
       "        text-align: right;\n",
       "    }\n",
       "</style>\n",
       "<table border=\"1\" class=\"dataframe\">\n",
       "  <thead>\n",
       "    <tr style=\"text-align: right;\">\n",
       "      <th></th>\n",
       "      <th>mb_used</th>\n",
       "      <th>session_date</th>\n",
       "      <th>user_id</th>\n",
       "      <th>month</th>\n",
       "    </tr>\n",
       "  </thead>\n",
       "  <tbody>\n",
       "    <tr>\n",
       "      <th>2759</th>\n",
       "      <td>97.39</td>\n",
       "      <td>2018-04-01</td>\n",
       "      <td>1009</td>\n",
       "      <td>4</td>\n",
       "    </tr>\n",
       "    <tr>\n",
       "      <th>28106</th>\n",
       "      <td>0.00</td>\n",
       "      <td>2018-07-14</td>\n",
       "      <td>1098</td>\n",
       "      <td>7</td>\n",
       "    </tr>\n",
       "    <tr>\n",
       "      <th>54988</th>\n",
       "      <td>965.04</td>\n",
       "      <td>2018-06-11</td>\n",
       "      <td>1185</td>\n",
       "      <td>6</td>\n",
       "    </tr>\n",
       "    <tr>\n",
       "      <th>68349</th>\n",
       "      <td>424.24</td>\n",
       "      <td>2018-10-22</td>\n",
       "      <td>1231</td>\n",
       "      <td>10</td>\n",
       "    </tr>\n",
       "    <tr>\n",
       "      <th>52478</th>\n",
       "      <td>418.21</td>\n",
       "      <td>2018-07-11</td>\n",
       "      <td>1177</td>\n",
       "      <td>7</td>\n",
       "    </tr>\n",
       "  </tbody>\n",
       "</table>\n",
       "</div>"
      ],
      "text/plain": [
       "       mb_used session_date  user_id  month\n",
       "2759     97.39   2018-04-01     1009      4\n",
       "28106     0.00   2018-07-14     1098      7\n",
       "54988   965.04   2018-06-11     1185      6\n",
       "68349   424.24   2018-10-22     1231     10\n",
       "52478   418.21   2018-07-11     1177      7"
      ]
     },
     "execution_count": 37,
     "metadata": {},
     "output_type": "execute_result"
    }
   ],
   "source": [
    "internet['month'] = internet['session_date'].dt.month # запись номера месяца в столбец 'month'\n",
    "internet.sample(5) # просмотр результатов добавления столбца"
   ]
  },
  {
   "cell_type": "markdown",
   "id": "c1194075",
   "metadata": {},
   "source": [
    "Создадим таблицу `user_billing` сгруппировав таблицу `calls` по id пользователя и месяцам."
   ]
  },
  {
   "cell_type": "code",
   "execution_count": 38,
   "id": "260684b0",
   "metadata": {},
   "outputs": [
    {
     "data": {
      "text/html": [
       "<div>\n",
       "<style scoped>\n",
       "    .dataframe tbody tr th:only-of-type {\n",
       "        vertical-align: middle;\n",
       "    }\n",
       "\n",
       "    .dataframe tbody tr th {\n",
       "        vertical-align: top;\n",
       "    }\n",
       "\n",
       "    .dataframe thead th {\n",
       "        text-align: right;\n",
       "    }\n",
       "</style>\n",
       "<table border=\"1\" class=\"dataframe\">\n",
       "  <thead>\n",
       "    <tr style=\"text-align: right;\">\n",
       "      <th></th>\n",
       "      <th></th>\n",
       "      <th>duration</th>\n",
       "      <th>calls_count</th>\n",
       "    </tr>\n",
       "    <tr>\n",
       "      <th>user_id</th>\n",
       "      <th>month</th>\n",
       "      <th></th>\n",
       "      <th></th>\n",
       "    </tr>\n",
       "  </thead>\n",
       "  <tbody>\n",
       "    <tr>\n",
       "      <th rowspan=\"8\" valign=\"top\">1000</th>\n",
       "      <th>5</th>\n",
       "      <td>150.06</td>\n",
       "      <td>22</td>\n",
       "    </tr>\n",
       "    <tr>\n",
       "      <th>6</th>\n",
       "      <td>158.90</td>\n",
       "      <td>43</td>\n",
       "    </tr>\n",
       "    <tr>\n",
       "      <th>7</th>\n",
       "      <td>318.80</td>\n",
       "      <td>47</td>\n",
       "    </tr>\n",
       "    <tr>\n",
       "      <th>8</th>\n",
       "      <td>389.87</td>\n",
       "      <td>52</td>\n",
       "    </tr>\n",
       "    <tr>\n",
       "      <th>9</th>\n",
       "      <td>440.14</td>\n",
       "      <td>58</td>\n",
       "    </tr>\n",
       "    <tr>\n",
       "      <th>10</th>\n",
       "      <td>328.45</td>\n",
       "      <td>57</td>\n",
       "    </tr>\n",
       "    <tr>\n",
       "      <th>11</th>\n",
       "      <td>319.04</td>\n",
       "      <td>43</td>\n",
       "    </tr>\n",
       "    <tr>\n",
       "      <th>12</th>\n",
       "      <td>312.98</td>\n",
       "      <td>46</td>\n",
       "    </tr>\n",
       "    <tr>\n",
       "      <th rowspan=\"2\" valign=\"top\">1001</th>\n",
       "      <th>11</th>\n",
       "      <td>408.12</td>\n",
       "      <td>59</td>\n",
       "    </tr>\n",
       "    <tr>\n",
       "      <th>12</th>\n",
       "      <td>391.34</td>\n",
       "      <td>63</td>\n",
       "    </tr>\n",
       "  </tbody>\n",
       "</table>\n",
       "</div>"
      ],
      "text/plain": [
       "               duration  calls_count\n",
       "user_id month                       \n",
       "1000    5        150.06           22\n",
       "        6        158.90           43\n",
       "        7        318.80           47\n",
       "        8        389.87           52\n",
       "        9        440.14           58\n",
       "        10       328.45           57\n",
       "        11       319.04           43\n",
       "        12       312.98           46\n",
       "1001    11       408.12           59\n",
       "        12       391.34           63"
      ]
     },
     "execution_count": 38,
     "metadata": {},
     "output_type": "execute_result"
    }
   ],
   "source": [
    "user_billing = calls.groupby(['user_id','month']).agg({'duration':['sum', 'count']}) # группировка по столбцам 'user_id','month' с подсчетом суммы \n",
    "user_billing.columns = user_billing.columns.droplevel(0) # удаление вернего уровня названия колонок\n",
    "user_billing = user_billing.rename(columns={'sum':'duration', 'count': 'calls_count'}) # переименование колонок\n",
    "user_billing.head(10) # просмотр результата группировки"
   ]
  },
  {
   "cell_type": "markdown",
   "id": "11d81260",
   "metadata": {},
   "source": [
    "Добавим в таблицу `user_billing` данные таблицы `messages` также ее сгруппировав по id пользователя и месяцам и рассчитав суммарную продолжительность звонков и их число."
   ]
  },
  {
   "cell_type": "code",
   "execution_count": 39,
   "id": "740f7890",
   "metadata": {},
   "outputs": [
    {
     "data": {
      "text/html": [
       "<div>\n",
       "<style scoped>\n",
       "    .dataframe tbody tr th:only-of-type {\n",
       "        vertical-align: middle;\n",
       "    }\n",
       "\n",
       "    .dataframe tbody tr th {\n",
       "        vertical-align: top;\n",
       "    }\n",
       "\n",
       "    .dataframe thead th {\n",
       "        text-align: right;\n",
       "    }\n",
       "</style>\n",
       "<table border=\"1\" class=\"dataframe\">\n",
       "  <thead>\n",
       "    <tr style=\"text-align: right;\">\n",
       "      <th></th>\n",
       "      <th></th>\n",
       "      <th>duration</th>\n",
       "      <th>calls_count</th>\n",
       "      <th>message_count</th>\n",
       "    </tr>\n",
       "    <tr>\n",
       "      <th>user_id</th>\n",
       "      <th>month</th>\n",
       "      <th></th>\n",
       "      <th></th>\n",
       "      <th></th>\n",
       "    </tr>\n",
       "  </thead>\n",
       "  <tbody>\n",
       "    <tr>\n",
       "      <th rowspan=\"8\" valign=\"top\">1000</th>\n",
       "      <th>5</th>\n",
       "      <td>150.06</td>\n",
       "      <td>22.0</td>\n",
       "      <td>22.0</td>\n",
       "    </tr>\n",
       "    <tr>\n",
       "      <th>6</th>\n",
       "      <td>158.90</td>\n",
       "      <td>43.0</td>\n",
       "      <td>60.0</td>\n",
       "    </tr>\n",
       "    <tr>\n",
       "      <th>7</th>\n",
       "      <td>318.80</td>\n",
       "      <td>47.0</td>\n",
       "      <td>75.0</td>\n",
       "    </tr>\n",
       "    <tr>\n",
       "      <th>8</th>\n",
       "      <td>389.87</td>\n",
       "      <td>52.0</td>\n",
       "      <td>81.0</td>\n",
       "    </tr>\n",
       "    <tr>\n",
       "      <th>9</th>\n",
       "      <td>440.14</td>\n",
       "      <td>58.0</td>\n",
       "      <td>57.0</td>\n",
       "    </tr>\n",
       "    <tr>\n",
       "      <th>10</th>\n",
       "      <td>328.45</td>\n",
       "      <td>57.0</td>\n",
       "      <td>73.0</td>\n",
       "    </tr>\n",
       "    <tr>\n",
       "      <th>11</th>\n",
       "      <td>319.04</td>\n",
       "      <td>43.0</td>\n",
       "      <td>58.0</td>\n",
       "    </tr>\n",
       "    <tr>\n",
       "      <th>12</th>\n",
       "      <td>312.98</td>\n",
       "      <td>46.0</td>\n",
       "      <td>70.0</td>\n",
       "    </tr>\n",
       "    <tr>\n",
       "      <th rowspan=\"2\" valign=\"top\">1001</th>\n",
       "      <th>11</th>\n",
       "      <td>408.12</td>\n",
       "      <td>59.0</td>\n",
       "      <td>NaN</td>\n",
       "    </tr>\n",
       "    <tr>\n",
       "      <th>12</th>\n",
       "      <td>391.34</td>\n",
       "      <td>63.0</td>\n",
       "      <td>NaN</td>\n",
       "    </tr>\n",
       "  </tbody>\n",
       "</table>\n",
       "</div>"
      ],
      "text/plain": [
       "               duration  calls_count  message_count\n",
       "user_id month                                      \n",
       "1000    5        150.06         22.0           22.0\n",
       "        6        158.90         43.0           60.0\n",
       "        7        318.80         47.0           75.0\n",
       "        8        389.87         52.0           81.0\n",
       "        9        440.14         58.0           57.0\n",
       "        10       328.45         57.0           73.0\n",
       "        11       319.04         43.0           58.0\n",
       "        12       312.98         46.0           70.0\n",
       "1001    11       408.12         59.0            NaN\n",
       "        12       391.34         63.0            NaN"
      ]
     },
     "execution_count": 39,
     "metadata": {},
     "output_type": "execute_result"
    }
   ],
   "source": [
    "user_billing = user_billing.join( # присоединение таблицы с группировкой по столбцам 'user_id','month' с подсчетом количества\n",
    "    messages.groupby(['user_id','month']).count(), how='outer'\n",
    ")\n",
    "user_billing = user_billing.rename(columns={'message_date':'message_count'}) # переименование столбца в 'message_count'\n",
    "user_billing.head(10) # просмотр результата группировки"
   ]
  },
  {
   "cell_type": "markdown",
   "id": "9aa9079e",
   "metadata": {},
   "source": [
    "Добавим в таблицу `user_billing` данные таблицы `internet` также ее сгруппировав по id пользователя и месяцам."
   ]
  },
  {
   "cell_type": "code",
   "execution_count": 40,
   "id": "c23a405c",
   "metadata": {},
   "outputs": [
    {
     "data": {
      "text/html": [
       "<div>\n",
       "<style scoped>\n",
       "    .dataframe tbody tr th:only-of-type {\n",
       "        vertical-align: middle;\n",
       "    }\n",
       "\n",
       "    .dataframe tbody tr th {\n",
       "        vertical-align: top;\n",
       "    }\n",
       "\n",
       "    .dataframe thead th {\n",
       "        text-align: right;\n",
       "    }\n",
       "</style>\n",
       "<table border=\"1\" class=\"dataframe\">\n",
       "  <thead>\n",
       "    <tr style=\"text-align: right;\">\n",
       "      <th></th>\n",
       "      <th></th>\n",
       "      <th>duration</th>\n",
       "      <th>calls_count</th>\n",
       "      <th>message_count</th>\n",
       "      <th>mb_used</th>\n",
       "    </tr>\n",
       "    <tr>\n",
       "      <th>user_id</th>\n",
       "      <th>month</th>\n",
       "      <th></th>\n",
       "      <th></th>\n",
       "      <th></th>\n",
       "      <th></th>\n",
       "    </tr>\n",
       "  </thead>\n",
       "  <tbody>\n",
       "    <tr>\n",
       "      <th rowspan=\"8\" valign=\"top\">1000</th>\n",
       "      <th>5</th>\n",
       "      <td>150.06</td>\n",
       "      <td>22.0</td>\n",
       "      <td>22.0</td>\n",
       "      <td>2253.49</td>\n",
       "    </tr>\n",
       "    <tr>\n",
       "      <th>6</th>\n",
       "      <td>158.90</td>\n",
       "      <td>43.0</td>\n",
       "      <td>60.0</td>\n",
       "      <td>23233.77</td>\n",
       "    </tr>\n",
       "    <tr>\n",
       "      <th>7</th>\n",
       "      <td>318.80</td>\n",
       "      <td>47.0</td>\n",
       "      <td>75.0</td>\n",
       "      <td>14003.64</td>\n",
       "    </tr>\n",
       "    <tr>\n",
       "      <th>8</th>\n",
       "      <td>389.87</td>\n",
       "      <td>52.0</td>\n",
       "      <td>81.0</td>\n",
       "      <td>14055.93</td>\n",
       "    </tr>\n",
       "    <tr>\n",
       "      <th>9</th>\n",
       "      <td>440.14</td>\n",
       "      <td>58.0</td>\n",
       "      <td>57.0</td>\n",
       "      <td>14568.91</td>\n",
       "    </tr>\n",
       "    <tr>\n",
       "      <th>10</th>\n",
       "      <td>328.45</td>\n",
       "      <td>57.0</td>\n",
       "      <td>73.0</td>\n",
       "      <td>14702.49</td>\n",
       "    </tr>\n",
       "    <tr>\n",
       "      <th>11</th>\n",
       "      <td>319.04</td>\n",
       "      <td>43.0</td>\n",
       "      <td>58.0</td>\n",
       "      <td>14756.47</td>\n",
       "    </tr>\n",
       "    <tr>\n",
       "      <th>12</th>\n",
       "      <td>312.98</td>\n",
       "      <td>46.0</td>\n",
       "      <td>70.0</td>\n",
       "      <td>9817.61</td>\n",
       "    </tr>\n",
       "    <tr>\n",
       "      <th rowspan=\"2\" valign=\"top\">1001</th>\n",
       "      <th>11</th>\n",
       "      <td>408.12</td>\n",
       "      <td>59.0</td>\n",
       "      <td>NaN</td>\n",
       "      <td>18429.34</td>\n",
       "    </tr>\n",
       "    <tr>\n",
       "      <th>12</th>\n",
       "      <td>391.34</td>\n",
       "      <td>63.0</td>\n",
       "      <td>NaN</td>\n",
       "      <td>14036.66</td>\n",
       "    </tr>\n",
       "  </tbody>\n",
       "</table>\n",
       "</div>"
      ],
      "text/plain": [
       "               duration  calls_count  message_count   mb_used\n",
       "user_id month                                                \n",
       "1000    5        150.06         22.0           22.0   2253.49\n",
       "        6        158.90         43.0           60.0  23233.77\n",
       "        7        318.80         47.0           75.0  14003.64\n",
       "        8        389.87         52.0           81.0  14055.93\n",
       "        9        440.14         58.0           57.0  14568.91\n",
       "        10       328.45         57.0           73.0  14702.49\n",
       "        11       319.04         43.0           58.0  14756.47\n",
       "        12       312.98         46.0           70.0   9817.61\n",
       "1001    11       408.12         59.0            NaN  18429.34\n",
       "        12       391.34         63.0            NaN  14036.66"
      ]
     },
     "execution_count": 40,
     "metadata": {},
     "output_type": "execute_result"
    }
   ],
   "source": [
    "user_billing = user_billing.join( # присоединение таблицы с группировкой по столбцам 'user_id','month' с подсчетом суммы\n",
    "    internet.groupby(['user_id','month']).sum(), how='outer'\n",
    ")\n",
    "user_billing.head(10) # просмотр результата группировки"
   ]
  },
  {
   "cell_type": "markdown",
   "id": "c3fe703a",
   "metadata": {},
   "source": [
    "В соответствии с условиями тарифов, каждый звонок округляется в большую сторону до 1 минуты, для веб-трафика общая сумма за месяц округляется в большую сторону до 1 гигабайта (в нем 1024 мегабайт). Для удобства расчетов добавим столбцы с округленными в большую сторону значениями `\tduration_tarifficated` и `traffic_tarifficated`."
   ]
  },
  {
   "cell_type": "code",
   "execution_count": 41,
   "id": "36ef6fcf",
   "metadata": {},
   "outputs": [
    {
     "data": {
      "text/html": [
       "<div>\n",
       "<style scoped>\n",
       "    .dataframe tbody tr th:only-of-type {\n",
       "        vertical-align: middle;\n",
       "    }\n",
       "\n",
       "    .dataframe tbody tr th {\n",
       "        vertical-align: top;\n",
       "    }\n",
       "\n",
       "    .dataframe thead th {\n",
       "        text-align: right;\n",
       "    }\n",
       "</style>\n",
       "<table border=\"1\" class=\"dataframe\">\n",
       "  <thead>\n",
       "    <tr style=\"text-align: right;\">\n",
       "      <th></th>\n",
       "      <th></th>\n",
       "      <th>duration</th>\n",
       "      <th>calls_count</th>\n",
       "      <th>message_count</th>\n",
       "      <th>mb_used</th>\n",
       "      <th>duration_tarifficated</th>\n",
       "    </tr>\n",
       "    <tr>\n",
       "      <th>user_id</th>\n",
       "      <th>month</th>\n",
       "      <th></th>\n",
       "      <th></th>\n",
       "      <th></th>\n",
       "      <th></th>\n",
       "      <th></th>\n",
       "    </tr>\n",
       "  </thead>\n",
       "  <tbody>\n",
       "    <tr>\n",
       "      <th>1158</th>\n",
       "      <th>3</th>\n",
       "      <td>240.30</td>\n",
       "      <td>47.0</td>\n",
       "      <td>57.0</td>\n",
       "      <td>12451.69</td>\n",
       "      <td>241.0</td>\n",
       "    </tr>\n",
       "    <tr>\n",
       "      <th>1302</th>\n",
       "      <th>1</th>\n",
       "      <td>70.28</td>\n",
       "      <td>12.0</td>\n",
       "      <td>28.0</td>\n",
       "      <td>4941.75</td>\n",
       "      <td>71.0</td>\n",
       "    </tr>\n",
       "    <tr>\n",
       "      <th>1094</th>\n",
       "      <th>12</th>\n",
       "      <td>703.13</td>\n",
       "      <td>118.0</td>\n",
       "      <td>27.0</td>\n",
       "      <td>22022.27</td>\n",
       "      <td>704.0</td>\n",
       "    </tr>\n",
       "    <tr>\n",
       "      <th>1411</th>\n",
       "      <th>11</th>\n",
       "      <td>544.87</td>\n",
       "      <td>89.0</td>\n",
       "      <td>98.0</td>\n",
       "      <td>16051.49</td>\n",
       "      <td>545.0</td>\n",
       "    </tr>\n",
       "    <tr>\n",
       "      <th>1152</th>\n",
       "      <th>7</th>\n",
       "      <td>274.94</td>\n",
       "      <td>38.0</td>\n",
       "      <td>NaN</td>\n",
       "      <td>17402.53</td>\n",
       "      <td>275.0</td>\n",
       "    </tr>\n",
       "  </tbody>\n",
       "</table>\n",
       "</div>"
      ],
      "text/plain": [
       "               duration  calls_count  message_count   mb_used  \\\n",
       "user_id month                                                   \n",
       "1158    3        240.30         47.0           57.0  12451.69   \n",
       "1302    1         70.28         12.0           28.0   4941.75   \n",
       "1094    12       703.13        118.0           27.0  22022.27   \n",
       "1411    11       544.87         89.0           98.0  16051.49   \n",
       "1152    7        274.94         38.0            NaN  17402.53   \n",
       "\n",
       "               duration_tarifficated  \n",
       "user_id month                         \n",
       "1158    3                      241.0  \n",
       "1302    1                       71.0  \n",
       "1094    12                     704.0  \n",
       "1411    11                     545.0  \n",
       "1152    7                      275.0  "
      ]
     },
     "execution_count": 41,
     "metadata": {},
     "output_type": "execute_result"
    }
   ],
   "source": [
    "user_billing['duration_tarifficated'] = user_billing['duration'].apply(np.ceil) # округление продолжительности звонков в большую сторону\n",
    "user_billing['duration_tarifficated'] = user_billing['duration_tarifficated'].fillna(-111) # Заменим NaN чтобы избежать ошибки\n",
    "try:\n",
    "    user_billing['duration_tarifficated'] = user_billing['duration_tarifficated'].astype('int') # преобразование в целочисленный тип\n",
    "except:\n",
    "    print('Ошибка преобразования типа данных')\n",
    "user_billing['duration_tarifficated'] = user_billing['duration_tarifficated'].replace(-111, np.nan) # вернем NaN обратно\n",
    "user_billing.sample(5) # просмотр результатов преобразования"
   ]
  },
  {
   "cell_type": "code",
   "execution_count": 42,
   "id": "1008005e",
   "metadata": {},
   "outputs": [
    {
     "data": {
      "text/html": [
       "<div>\n",
       "<style scoped>\n",
       "    .dataframe tbody tr th:only-of-type {\n",
       "        vertical-align: middle;\n",
       "    }\n",
       "\n",
       "    .dataframe tbody tr th {\n",
       "        vertical-align: top;\n",
       "    }\n",
       "\n",
       "    .dataframe thead th {\n",
       "        text-align: right;\n",
       "    }\n",
       "</style>\n",
       "<table border=\"1\" class=\"dataframe\">\n",
       "  <thead>\n",
       "    <tr style=\"text-align: right;\">\n",
       "      <th></th>\n",
       "      <th></th>\n",
       "      <th>duration</th>\n",
       "      <th>calls_count</th>\n",
       "      <th>message_count</th>\n",
       "      <th>mb_used</th>\n",
       "      <th>duration_tarifficated</th>\n",
       "      <th>traffic_tarifficated</th>\n",
       "    </tr>\n",
       "    <tr>\n",
       "      <th>user_id</th>\n",
       "      <th>month</th>\n",
       "      <th></th>\n",
       "      <th></th>\n",
       "      <th></th>\n",
       "      <th></th>\n",
       "      <th></th>\n",
       "      <th></th>\n",
       "    </tr>\n",
       "  </thead>\n",
       "  <tbody>\n",
       "    <tr>\n",
       "      <th>1476</th>\n",
       "      <th>11</th>\n",
       "      <td>525.60</td>\n",
       "      <td>71.0</td>\n",
       "      <td>6.0</td>\n",
       "      <td>14410.79</td>\n",
       "      <td>526.0</td>\n",
       "      <td>15.0</td>\n",
       "    </tr>\n",
       "    <tr>\n",
       "      <th>1116</th>\n",
       "      <th>10</th>\n",
       "      <td>346.94</td>\n",
       "      <td>51.0</td>\n",
       "      <td>NaN</td>\n",
       "      <td>12099.93</td>\n",
       "      <td>347.0</td>\n",
       "      <td>12.0</td>\n",
       "    </tr>\n",
       "    <tr>\n",
       "      <th>1426</th>\n",
       "      <th>12</th>\n",
       "      <td>607.02</td>\n",
       "      <td>74.0</td>\n",
       "      <td>69.0</td>\n",
       "      <td>20878.23</td>\n",
       "      <td>608.0</td>\n",
       "      <td>21.0</td>\n",
       "    </tr>\n",
       "    <tr>\n",
       "      <th>1332</th>\n",
       "      <th>10</th>\n",
       "      <td>481.52</td>\n",
       "      <td>63.0</td>\n",
       "      <td>38.0</td>\n",
       "      <td>17259.92</td>\n",
       "      <td>482.0</td>\n",
       "      <td>17.0</td>\n",
       "    </tr>\n",
       "    <tr>\n",
       "      <th>1012</th>\n",
       "      <th>9</th>\n",
       "      <td>218.39</td>\n",
       "      <td>30.0</td>\n",
       "      <td>14.0</td>\n",
       "      <td>19380.62</td>\n",
       "      <td>219.0</td>\n",
       "      <td>19.0</td>\n",
       "    </tr>\n",
       "  </tbody>\n",
       "</table>\n",
       "</div>"
      ],
      "text/plain": [
       "               duration  calls_count  message_count   mb_used  \\\n",
       "user_id month                                                   \n",
       "1476    11       525.60         71.0            6.0  14410.79   \n",
       "1116    10       346.94         51.0            NaN  12099.93   \n",
       "1426    12       607.02         74.0           69.0  20878.23   \n",
       "1332    10       481.52         63.0           38.0  17259.92   \n",
       "1012    9        218.39         30.0           14.0  19380.62   \n",
       "\n",
       "               duration_tarifficated  traffic_tarifficated  \n",
       "user_id month                                               \n",
       "1476    11                     526.0                  15.0  \n",
       "1116    10                     347.0                  12.0  \n",
       "1426    12                     608.0                  21.0  \n",
       "1332    10                     482.0                  17.0  \n",
       "1012    9                      219.0                  19.0  "
      ]
     },
     "execution_count": 42,
     "metadata": {},
     "output_type": "execute_result"
    }
   ],
   "source": [
    "user_billing['traffic_tarifficated'] = (user_billing['mb_used'] / 1024).apply(np.ceil) # округление трафика в большую сторону\n",
    "user_billing.sample(5) # просмотр результатов преобразования"
   ]
  },
  {
   "cell_type": "markdown",
   "id": "2b4c4f6b",
   "metadata": {},
   "source": [
    "Перестроим индекс таблицы `user_billing`, чтобы столбец `user_id` перестал быть индексом."
   ]
  },
  {
   "cell_type": "code",
   "execution_count": 43,
   "id": "c1f12a22",
   "metadata": {},
   "outputs": [
    {
     "data": {
      "text/html": [
       "<div>\n",
       "<style scoped>\n",
       "    .dataframe tbody tr th:only-of-type {\n",
       "        vertical-align: middle;\n",
       "    }\n",
       "\n",
       "    .dataframe tbody tr th {\n",
       "        vertical-align: top;\n",
       "    }\n",
       "\n",
       "    .dataframe thead th {\n",
       "        text-align: right;\n",
       "    }\n",
       "</style>\n",
       "<table border=\"1\" class=\"dataframe\">\n",
       "  <thead>\n",
       "    <tr style=\"text-align: right;\">\n",
       "      <th></th>\n",
       "      <th>user_id</th>\n",
       "      <th>month</th>\n",
       "      <th>duration</th>\n",
       "      <th>calls_count</th>\n",
       "      <th>message_count</th>\n",
       "      <th>mb_used</th>\n",
       "      <th>duration_tarifficated</th>\n",
       "      <th>traffic_tarifficated</th>\n",
       "    </tr>\n",
       "  </thead>\n",
       "  <tbody>\n",
       "    <tr>\n",
       "      <th>0</th>\n",
       "      <td>1000</td>\n",
       "      <td>5</td>\n",
       "      <td>150.06</td>\n",
       "      <td>22.0</td>\n",
       "      <td>22.0</td>\n",
       "      <td>2253.49</td>\n",
       "      <td>151.0</td>\n",
       "      <td>3.0</td>\n",
       "    </tr>\n",
       "    <tr>\n",
       "      <th>1</th>\n",
       "      <td>1000</td>\n",
       "      <td>6</td>\n",
       "      <td>158.90</td>\n",
       "      <td>43.0</td>\n",
       "      <td>60.0</td>\n",
       "      <td>23233.77</td>\n",
       "      <td>159.0</td>\n",
       "      <td>23.0</td>\n",
       "    </tr>\n",
       "    <tr>\n",
       "      <th>2</th>\n",
       "      <td>1000</td>\n",
       "      <td>7</td>\n",
       "      <td>318.80</td>\n",
       "      <td>47.0</td>\n",
       "      <td>75.0</td>\n",
       "      <td>14003.64</td>\n",
       "      <td>319.0</td>\n",
       "      <td>14.0</td>\n",
       "    </tr>\n",
       "    <tr>\n",
       "      <th>3</th>\n",
       "      <td>1000</td>\n",
       "      <td>8</td>\n",
       "      <td>389.87</td>\n",
       "      <td>52.0</td>\n",
       "      <td>81.0</td>\n",
       "      <td>14055.93</td>\n",
       "      <td>390.0</td>\n",
       "      <td>14.0</td>\n",
       "    </tr>\n",
       "    <tr>\n",
       "      <th>4</th>\n",
       "      <td>1000</td>\n",
       "      <td>9</td>\n",
       "      <td>440.14</td>\n",
       "      <td>58.0</td>\n",
       "      <td>57.0</td>\n",
       "      <td>14568.91</td>\n",
       "      <td>441.0</td>\n",
       "      <td>15.0</td>\n",
       "    </tr>\n",
       "    <tr>\n",
       "      <th>5</th>\n",
       "      <td>1000</td>\n",
       "      <td>10</td>\n",
       "      <td>328.45</td>\n",
       "      <td>57.0</td>\n",
       "      <td>73.0</td>\n",
       "      <td>14702.49</td>\n",
       "      <td>329.0</td>\n",
       "      <td>15.0</td>\n",
       "    </tr>\n",
       "    <tr>\n",
       "      <th>6</th>\n",
       "      <td>1000</td>\n",
       "      <td>11</td>\n",
       "      <td>319.04</td>\n",
       "      <td>43.0</td>\n",
       "      <td>58.0</td>\n",
       "      <td>14756.47</td>\n",
       "      <td>320.0</td>\n",
       "      <td>15.0</td>\n",
       "    </tr>\n",
       "    <tr>\n",
       "      <th>7</th>\n",
       "      <td>1000</td>\n",
       "      <td>12</td>\n",
       "      <td>312.98</td>\n",
       "      <td>46.0</td>\n",
       "      <td>70.0</td>\n",
       "      <td>9817.61</td>\n",
       "      <td>313.0</td>\n",
       "      <td>10.0</td>\n",
       "    </tr>\n",
       "    <tr>\n",
       "      <th>8</th>\n",
       "      <td>1001</td>\n",
       "      <td>11</td>\n",
       "      <td>408.12</td>\n",
       "      <td>59.0</td>\n",
       "      <td>NaN</td>\n",
       "      <td>18429.34</td>\n",
       "      <td>409.0</td>\n",
       "      <td>18.0</td>\n",
       "    </tr>\n",
       "    <tr>\n",
       "      <th>9</th>\n",
       "      <td>1001</td>\n",
       "      <td>12</td>\n",
       "      <td>391.34</td>\n",
       "      <td>63.0</td>\n",
       "      <td>NaN</td>\n",
       "      <td>14036.66</td>\n",
       "      <td>392.0</td>\n",
       "      <td>14.0</td>\n",
       "    </tr>\n",
       "  </tbody>\n",
       "</table>\n",
       "</div>"
      ],
      "text/plain": [
       "   user_id  month  duration  calls_count  message_count   mb_used  \\\n",
       "0     1000      5    150.06         22.0           22.0   2253.49   \n",
       "1     1000      6    158.90         43.0           60.0  23233.77   \n",
       "2     1000      7    318.80         47.0           75.0  14003.64   \n",
       "3     1000      8    389.87         52.0           81.0  14055.93   \n",
       "4     1000      9    440.14         58.0           57.0  14568.91   \n",
       "5     1000     10    328.45         57.0           73.0  14702.49   \n",
       "6     1000     11    319.04         43.0           58.0  14756.47   \n",
       "7     1000     12    312.98         46.0           70.0   9817.61   \n",
       "8     1001     11    408.12         59.0            NaN  18429.34   \n",
       "9     1001     12    391.34         63.0            NaN  14036.66   \n",
       "\n",
       "   duration_tarifficated  traffic_tarifficated  \n",
       "0                  151.0                   3.0  \n",
       "1                  159.0                  23.0  \n",
       "2                  319.0                  14.0  \n",
       "3                  390.0                  14.0  \n",
       "4                  441.0                  15.0  \n",
       "5                  329.0                  15.0  \n",
       "6                  320.0                  15.0  \n",
       "7                  313.0                  10.0  \n",
       "8                  409.0                  18.0  \n",
       "9                  392.0                  14.0  "
      ]
     },
     "execution_count": 43,
     "metadata": {},
     "output_type": "execute_result"
    }
   ],
   "source": [
    "user_billing = user_billing.reset_index() # перестроение индекса\n",
    "user_billing.head(10) # просмотр образца данных"
   ]
  },
  {
   "cell_type": "code",
   "execution_count": 44,
   "id": "1c580983",
   "metadata": {
    "scrolled": true
   },
   "outputs": [
    {
     "data": {
      "text/html": [
       "<div>\n",
       "<style scoped>\n",
       "    .dataframe tbody tr th:only-of-type {\n",
       "        vertical-align: middle;\n",
       "    }\n",
       "\n",
       "    .dataframe tbody tr th {\n",
       "        vertical-align: top;\n",
       "    }\n",
       "\n",
       "    .dataframe thead th {\n",
       "        text-align: right;\n",
       "    }\n",
       "</style>\n",
       "<table border=\"1\" class=\"dataframe\">\n",
       "  <thead>\n",
       "    <tr style=\"text-align: right;\">\n",
       "      <th></th>\n",
       "      <th>user_id</th>\n",
       "      <th>age</th>\n",
       "      <th>churn_date</th>\n",
       "      <th>city</th>\n",
       "      <th>first_name</th>\n",
       "      <th>last_name</th>\n",
       "      <th>reg_date</th>\n",
       "      <th>tariff</th>\n",
       "    </tr>\n",
       "  </thead>\n",
       "  <tbody>\n",
       "    <tr>\n",
       "      <th>0</th>\n",
       "      <td>1000</td>\n",
       "      <td>52</td>\n",
       "      <td>NaT</td>\n",
       "      <td>Краснодар</td>\n",
       "      <td>Рафаил</td>\n",
       "      <td>Верещагин</td>\n",
       "      <td>2018-05-25</td>\n",
       "      <td>1</td>\n",
       "    </tr>\n",
       "    <tr>\n",
       "      <th>1</th>\n",
       "      <td>1001</td>\n",
       "      <td>41</td>\n",
       "      <td>NaT</td>\n",
       "      <td>Москва</td>\n",
       "      <td>Иван</td>\n",
       "      <td>Ежов</td>\n",
       "      <td>2018-11-01</td>\n",
       "      <td>0</td>\n",
       "    </tr>\n",
       "    <tr>\n",
       "      <th>2</th>\n",
       "      <td>1002</td>\n",
       "      <td>59</td>\n",
       "      <td>NaT</td>\n",
       "      <td>Стерлитамак</td>\n",
       "      <td>Евгений</td>\n",
       "      <td>Абрамович</td>\n",
       "      <td>2018-06-17</td>\n",
       "      <td>0</td>\n",
       "    </tr>\n",
       "    <tr>\n",
       "      <th>3</th>\n",
       "      <td>1003</td>\n",
       "      <td>23</td>\n",
       "      <td>NaT</td>\n",
       "      <td>Москва</td>\n",
       "      <td>Белла</td>\n",
       "      <td>Белякова</td>\n",
       "      <td>2018-08-17</td>\n",
       "      <td>1</td>\n",
       "    </tr>\n",
       "    <tr>\n",
       "      <th>4</th>\n",
       "      <td>1004</td>\n",
       "      <td>68</td>\n",
       "      <td>NaT</td>\n",
       "      <td>Новокузнецк</td>\n",
       "      <td>Татьяна</td>\n",
       "      <td>Авдеенко</td>\n",
       "      <td>2018-05-14</td>\n",
       "      <td>1</td>\n",
       "    </tr>\n",
       "  </tbody>\n",
       "</table>\n",
       "</div>"
      ],
      "text/plain": [
       "   user_id  age churn_date         city first_name  last_name   reg_date  \\\n",
       "0     1000   52        NaT    Краснодар     Рафаил  Верещагин 2018-05-25   \n",
       "1     1001   41        NaT       Москва       Иван       Ежов 2018-11-01   \n",
       "2     1002   59        NaT  Стерлитамак    Евгений  Абрамович 2018-06-17   \n",
       "3     1003   23        NaT       Москва      Белла   Белякова 2018-08-17   \n",
       "4     1004   68        NaT  Новокузнецк    Татьяна   Авдеенко 2018-05-14   \n",
       "\n",
       "   tariff  \n",
       "0       1  \n",
       "1       0  \n",
       "2       0  \n",
       "3       1  \n",
       "4       1  "
      ]
     },
     "execution_count": 44,
     "metadata": {},
     "output_type": "execute_result"
    }
   ],
   "source": [
    "users.head() # просмотр образца данных"
   ]
  },
  {
   "cell_type": "markdown",
   "id": "def88824",
   "metadata": {},
   "source": [
    "Для удобства дальнейших расчетов добавим код тарифа."
   ]
  },
  {
   "cell_type": "code",
   "execution_count": 45,
   "id": "561935b9",
   "metadata": {},
   "outputs": [
    {
     "data": {
      "text/html": [
       "<div>\n",
       "<style scoped>\n",
       "    .dataframe tbody tr th:only-of-type {\n",
       "        vertical-align: middle;\n",
       "    }\n",
       "\n",
       "    .dataframe tbody tr th {\n",
       "        vertical-align: top;\n",
       "    }\n",
       "\n",
       "    .dataframe thead th {\n",
       "        text-align: right;\n",
       "    }\n",
       "</style>\n",
       "<table border=\"1\" class=\"dataframe\">\n",
       "  <thead>\n",
       "    <tr style=\"text-align: right;\">\n",
       "      <th></th>\n",
       "      <th>user_id</th>\n",
       "      <th>month</th>\n",
       "      <th>duration</th>\n",
       "      <th>calls_count</th>\n",
       "      <th>message_count</th>\n",
       "      <th>mb_used</th>\n",
       "      <th>duration_tarifficated</th>\n",
       "      <th>traffic_tarifficated</th>\n",
       "      <th>tariff</th>\n",
       "    </tr>\n",
       "  </thead>\n",
       "  <tbody>\n",
       "    <tr>\n",
       "      <th>2049</th>\n",
       "      <td>1323</td>\n",
       "      <td>12</td>\n",
       "      <td>508.86</td>\n",
       "      <td>77.0</td>\n",
       "      <td>85.0</td>\n",
       "      <td>20893.95</td>\n",
       "      <td>509.0</td>\n",
       "      <td>21.0</td>\n",
       "      <td>0</td>\n",
       "    </tr>\n",
       "    <tr>\n",
       "      <th>1127</th>\n",
       "      <td>1176</td>\n",
       "      <td>8</td>\n",
       "      <td>409.20</td>\n",
       "      <td>56.0</td>\n",
       "      <td>40.0</td>\n",
       "      <td>14417.92</td>\n",
       "      <td>410.0</td>\n",
       "      <td>15.0</td>\n",
       "      <td>0</td>\n",
       "    </tr>\n",
       "    <tr>\n",
       "      <th>2232</th>\n",
       "      <td>1354</td>\n",
       "      <td>8</td>\n",
       "      <td>139.88</td>\n",
       "      <td>21.0</td>\n",
       "      <td>39.0</td>\n",
       "      <td>7084.09</td>\n",
       "      <td>140.0</td>\n",
       "      <td>7.0</td>\n",
       "      <td>0</td>\n",
       "    </tr>\n",
       "    <tr>\n",
       "      <th>516</th>\n",
       "      <td>1081</td>\n",
       "      <td>12</td>\n",
       "      <td>470.33</td>\n",
       "      <td>82.0</td>\n",
       "      <td>20.0</td>\n",
       "      <td>19438.44</td>\n",
       "      <td>471.0</td>\n",
       "      <td>19.0</td>\n",
       "      <td>1</td>\n",
       "    </tr>\n",
       "    <tr>\n",
       "      <th>700</th>\n",
       "      <td>1110</td>\n",
       "      <td>6</td>\n",
       "      <td>342.63</td>\n",
       "      <td>48.0</td>\n",
       "      <td>29.0</td>\n",
       "      <td>24852.69</td>\n",
       "      <td>343.0</td>\n",
       "      <td>25.0</td>\n",
       "      <td>0</td>\n",
       "    </tr>\n",
       "    <tr>\n",
       "      <th>2080</th>\n",
       "      <td>1327</td>\n",
       "      <td>11</td>\n",
       "      <td>398.79</td>\n",
       "      <td>54.0</td>\n",
       "      <td>49.0</td>\n",
       "      <td>13211.78</td>\n",
       "      <td>399.0</td>\n",
       "      <td>13.0</td>\n",
       "      <td>0</td>\n",
       "    </tr>\n",
       "    <tr>\n",
       "      <th>236</th>\n",
       "      <td>1036</td>\n",
       "      <td>12</td>\n",
       "      <td>632.72</td>\n",
       "      <td>85.0</td>\n",
       "      <td>NaN</td>\n",
       "      <td>14586.82</td>\n",
       "      <td>633.0</td>\n",
       "      <td>15.0</td>\n",
       "      <td>0</td>\n",
       "    </tr>\n",
       "    <tr>\n",
       "      <th>2393</th>\n",
       "      <td>1377</td>\n",
       "      <td>8</td>\n",
       "      <td>1200.67</td>\n",
       "      <td>161.0</td>\n",
       "      <td>11.0</td>\n",
       "      <td>5749.01</td>\n",
       "      <td>1201.0</td>\n",
       "      <td>6.0</td>\n",
       "      <td>1</td>\n",
       "    </tr>\n",
       "    <tr>\n",
       "      <th>1367</th>\n",
       "      <td>1214</td>\n",
       "      <td>10</td>\n",
       "      <td>430.02</td>\n",
       "      <td>65.0</td>\n",
       "      <td>77.0</td>\n",
       "      <td>9753.19</td>\n",
       "      <td>431.0</td>\n",
       "      <td>10.0</td>\n",
       "      <td>0</td>\n",
       "    </tr>\n",
       "    <tr>\n",
       "      <th>2648</th>\n",
       "      <td>1413</td>\n",
       "      <td>8</td>\n",
       "      <td>58.85</td>\n",
       "      <td>10.0</td>\n",
       "      <td>3.0</td>\n",
       "      <td>8760.97</td>\n",
       "      <td>59.0</td>\n",
       "      <td>9.0</td>\n",
       "      <td>0</td>\n",
       "    </tr>\n",
       "  </tbody>\n",
       "</table>\n",
       "</div>"
      ],
      "text/plain": [
       "      user_id  month  duration  calls_count  message_count   mb_used  \\\n",
       "2049     1323     12    508.86         77.0           85.0  20893.95   \n",
       "1127     1176      8    409.20         56.0           40.0  14417.92   \n",
       "2232     1354      8    139.88         21.0           39.0   7084.09   \n",
       "516      1081     12    470.33         82.0           20.0  19438.44   \n",
       "700      1110      6    342.63         48.0           29.0  24852.69   \n",
       "2080     1327     11    398.79         54.0           49.0  13211.78   \n",
       "236      1036     12    632.72         85.0            NaN  14586.82   \n",
       "2393     1377      8   1200.67        161.0           11.0   5749.01   \n",
       "1367     1214     10    430.02         65.0           77.0   9753.19   \n",
       "2648     1413      8     58.85         10.0            3.0   8760.97   \n",
       "\n",
       "      duration_tarifficated  traffic_tarifficated  tariff  \n",
       "2049                  509.0                  21.0       0  \n",
       "1127                  410.0                  15.0       0  \n",
       "2232                  140.0                   7.0       0  \n",
       "516                   471.0                  19.0       1  \n",
       "700                   343.0                  25.0       0  \n",
       "2080                  399.0                  13.0       0  \n",
       "236                   633.0                  15.0       0  \n",
       "2393                 1201.0                   6.0       1  \n",
       "1367                  431.0                  10.0       0  \n",
       "2648                   59.0                   9.0       0  "
      ]
     },
     "execution_count": 45,
     "metadata": {},
     "output_type": "execute_result"
    }
   ],
   "source": [
    "def get_tariff (uid):\n",
    "    return int(users[users['user_id'] == uid]['tariff']) # функция для получения тарифа\n",
    "user_billing['tariff'] = user_billing['user_id'].apply(get_tariff) # добавление столбца тарифа\n",
    "user_billing.sample(10) # просмотр образца данных"
   ]
  },
  {
   "cell_type": "markdown",
   "id": "ca7ebf03",
   "metadata": {},
   "source": [
    "Создадим функцию для расчета платежа клиента за месяц. Для этого вычтем бесплатный лимит из суммарного количества звонков, сообщений и интернет-трафика; остаток умножим на значение из тарифного плана; прибавим абонентскую плату, соответствующую тарифному плану."
   ]
  },
  {
   "cell_type": "code",
   "execution_count": 46,
   "id": "a8e0de70",
   "metadata": {},
   "outputs": [
    {
     "data": {
      "text/html": [
       "<div>\n",
       "<style scoped>\n",
       "    .dataframe tbody tr th:only-of-type {\n",
       "        vertical-align: middle;\n",
       "    }\n",
       "\n",
       "    .dataframe tbody tr th {\n",
       "        vertical-align: top;\n",
       "    }\n",
       "\n",
       "    .dataframe thead th {\n",
       "        text-align: right;\n",
       "    }\n",
       "</style>\n",
       "<table border=\"1\" class=\"dataframe\">\n",
       "  <thead>\n",
       "    <tr style=\"text-align: right;\">\n",
       "      <th></th>\n",
       "      <th>messages_included</th>\n",
       "      <th>mb_per_month_included</th>\n",
       "      <th>minutes_included</th>\n",
       "      <th>rub_monthly_fee</th>\n",
       "      <th>rub_per_gb</th>\n",
       "      <th>rub_per_message</th>\n",
       "      <th>rub_per_minute</th>\n",
       "      <th>tariff_name</th>\n",
       "    </tr>\n",
       "  </thead>\n",
       "  <tbody>\n",
       "    <tr>\n",
       "      <th>0</th>\n",
       "      <td>50</td>\n",
       "      <td>15360</td>\n",
       "      <td>500</td>\n",
       "      <td>550</td>\n",
       "      <td>200</td>\n",
       "      <td>3</td>\n",
       "      <td>3</td>\n",
       "      <td>smart</td>\n",
       "    </tr>\n",
       "    <tr>\n",
       "      <th>1</th>\n",
       "      <td>1000</td>\n",
       "      <td>30720</td>\n",
       "      <td>3000</td>\n",
       "      <td>1950</td>\n",
       "      <td>150</td>\n",
       "      <td>1</td>\n",
       "      <td>1</td>\n",
       "      <td>ultra</td>\n",
       "    </tr>\n",
       "  </tbody>\n",
       "</table>\n",
       "</div>"
      ],
      "text/plain": [
       "   messages_included  mb_per_month_included  minutes_included  \\\n",
       "0                 50                  15360               500   \n",
       "1               1000                  30720              3000   \n",
       "\n",
       "   rub_monthly_fee  rub_per_gb  rub_per_message  rub_per_minute tariff_name  \n",
       "0              550         200                3               3       smart  \n",
       "1             1950         150                1               1       ultra  "
      ]
     },
     "execution_count": 46,
     "metadata": {},
     "output_type": "execute_result"
    }
   ],
   "source": [
    "tariffs.head()"
   ]
  },
  {
   "cell_type": "code",
   "execution_count": 47,
   "id": "942a5068",
   "metadata": {},
   "outputs": [],
   "source": [
    "def tariff_billing (billing_data) :\n",
    "    '''\n",
    "    Возвращает сумму платежа клиента за месяц\n",
    "    \n",
    "    Параметры:\n",
    "    строки столбцов\n",
    "    duration_tarifficated: тарифицируемое время звонков за месяц (мин)\n",
    "    message_count: число отправленных за месяц сообщений\n",
    "    traffic_tarifficated: тарифицируемое трафик за месяц (Гб)\n",
    "    tariff - код тарифа\n",
    "    subscription - абонентская плата\n",
    "    minutes_included - число включенных в тариф минут\n",
    "    messages_included - число включенных в тариф сообщений\n",
    "    traffic_included - включенный в тариф трафик\n",
    "    fee_per_min, fee_per_message, fee_per_gb - плата за минуту, сообщение, Гб сверх тарифа\n",
    "    '''\n",
    "    call_time = billing_data['duration_tarifficated']\n",
    "    messages = billing_data['message_count']\n",
    "    traffic = billing_data['traffic_tarifficated']\n",
    "    tariff = int(billing_data['tariff'])\n",
    "    \n",
    "    subscription = tariffs.at[tariff,'rub_monthly_fee']\n",
    "    minutes_included = tariffs.at[tariff,'minutes_included']\n",
    "    messages_included = tariffs.at[tariff,'messages_included']\n",
    "    traffic_included = tariffs.at[tariff,'mb_per_month_included'] / 1024\n",
    "    fee_per_min = tariffs.at[tariff,'rub_per_minute']\n",
    "    fee_per_message = tariffs.at[tariff,'rub_per_message']\n",
    "    fee_per_gb = tariffs.at[tariff,'rub_per_gb']\n",
    "    \n",
    "    return (subscription + max(0, (call_time - minutes_included)) * fee_per_min + max(\n",
    "        0, (messages - messages_included)) * fee_per_message + max(0, (traffic - traffic_included)) * fee_per_gb)"
   ]
  },
  {
   "cell_type": "markdown",
   "id": "a1e9a360",
   "metadata": {},
   "source": [
    "Рассчитаем платежи всех клиентов по месяцам и занесем их в столбец `payment`."
   ]
  },
  {
   "cell_type": "code",
   "execution_count": 48,
   "id": "b07c0f11",
   "metadata": {
    "scrolled": true
   },
   "outputs": [
    {
     "data": {
      "text/html": [
       "<div>\n",
       "<style scoped>\n",
       "    .dataframe tbody tr th:only-of-type {\n",
       "        vertical-align: middle;\n",
       "    }\n",
       "\n",
       "    .dataframe tbody tr th {\n",
       "        vertical-align: top;\n",
       "    }\n",
       "\n",
       "    .dataframe thead th {\n",
       "        text-align: right;\n",
       "    }\n",
       "</style>\n",
       "<table border=\"1\" class=\"dataframe\">\n",
       "  <thead>\n",
       "    <tr style=\"text-align: right;\">\n",
       "      <th></th>\n",
       "      <th>user_id</th>\n",
       "      <th>month</th>\n",
       "      <th>duration</th>\n",
       "      <th>calls_count</th>\n",
       "      <th>message_count</th>\n",
       "      <th>mb_used</th>\n",
       "      <th>duration_tarifficated</th>\n",
       "      <th>traffic_tarifficated</th>\n",
       "      <th>tariff</th>\n",
       "      <th>payment</th>\n",
       "    </tr>\n",
       "  </thead>\n",
       "  <tbody>\n",
       "    <tr>\n",
       "      <th>1501</th>\n",
       "      <td>1238</td>\n",
       "      <td>3</td>\n",
       "      <td>159.21</td>\n",
       "      <td>23.0</td>\n",
       "      <td>23.0</td>\n",
       "      <td>18806.02</td>\n",
       "      <td>160.0</td>\n",
       "      <td>19.0</td>\n",
       "      <td>0</td>\n",
       "      <td>1350.0</td>\n",
       "    </tr>\n",
       "    <tr>\n",
       "      <th>440</th>\n",
       "      <td>1068</td>\n",
       "      <td>10</td>\n",
       "      <td>540.04</td>\n",
       "      <td>80.0</td>\n",
       "      <td>28.0</td>\n",
       "      <td>28083.47</td>\n",
       "      <td>541.0</td>\n",
       "      <td>28.0</td>\n",
       "      <td>0</td>\n",
       "      <td>3273.0</td>\n",
       "    </tr>\n",
       "    <tr>\n",
       "      <th>1091</th>\n",
       "      <td>1172</td>\n",
       "      <td>11</td>\n",
       "      <td>507.26</td>\n",
       "      <td>65.0</td>\n",
       "      <td>7.0</td>\n",
       "      <td>22801.56</td>\n",
       "      <td>508.0</td>\n",
       "      <td>23.0</td>\n",
       "      <td>0</td>\n",
       "      <td>2174.0</td>\n",
       "    </tr>\n",
       "    <tr>\n",
       "      <th>2717</th>\n",
       "      <td>1423</td>\n",
       "      <td>11</td>\n",
       "      <td>255.16</td>\n",
       "      <td>29.0</td>\n",
       "      <td>44.0</td>\n",
       "      <td>14456.54</td>\n",
       "      <td>256.0</td>\n",
       "      <td>15.0</td>\n",
       "      <td>0</td>\n",
       "      <td>550.0</td>\n",
       "    </tr>\n",
       "    <tr>\n",
       "      <th>2893</th>\n",
       "      <td>1453</td>\n",
       "      <td>2</td>\n",
       "      <td>724.03</td>\n",
       "      <td>112.0</td>\n",
       "      <td>45.0</td>\n",
       "      <td>21470.29</td>\n",
       "      <td>725.0</td>\n",
       "      <td>21.0</td>\n",
       "      <td>1</td>\n",
       "      <td>1950.0</td>\n",
       "    </tr>\n",
       "    <tr>\n",
       "      <th>490</th>\n",
       "      <td>1078</td>\n",
       "      <td>9</td>\n",
       "      <td>1039.08</td>\n",
       "      <td>153.0</td>\n",
       "      <td>NaN</td>\n",
       "      <td>22770.04</td>\n",
       "      <td>1040.0</td>\n",
       "      <td>23.0</td>\n",
       "      <td>1</td>\n",
       "      <td>1950.0</td>\n",
       "    </tr>\n",
       "    <tr>\n",
       "      <th>2943</th>\n",
       "      <td>1458</td>\n",
       "      <td>6</td>\n",
       "      <td>740.20</td>\n",
       "      <td>100.0</td>\n",
       "      <td>4.0</td>\n",
       "      <td>11412.69</td>\n",
       "      <td>741.0</td>\n",
       "      <td>12.0</td>\n",
       "      <td>1</td>\n",
       "      <td>1950.0</td>\n",
       "    </tr>\n",
       "    <tr>\n",
       "      <th>1894</th>\n",
       "      <td>1299</td>\n",
       "      <td>2</td>\n",
       "      <td>333.53</td>\n",
       "      <td>47.0</td>\n",
       "      <td>57.0</td>\n",
       "      <td>12615.08</td>\n",
       "      <td>334.0</td>\n",
       "      <td>13.0</td>\n",
       "      <td>0</td>\n",
       "      <td>571.0</td>\n",
       "    </tr>\n",
       "    <tr>\n",
       "      <th>2521</th>\n",
       "      <td>1394</td>\n",
       "      <td>3</td>\n",
       "      <td>433.10</td>\n",
       "      <td>68.0</td>\n",
       "      <td>5.0</td>\n",
       "      <td>6632.53</td>\n",
       "      <td>434.0</td>\n",
       "      <td>7.0</td>\n",
       "      <td>0</td>\n",
       "      <td>550.0</td>\n",
       "    </tr>\n",
       "    <tr>\n",
       "      <th>2634</th>\n",
       "      <td>1410</td>\n",
       "      <td>12</td>\n",
       "      <td>379.72</td>\n",
       "      <td>51.0</td>\n",
       "      <td>20.0</td>\n",
       "      <td>15169.49</td>\n",
       "      <td>380.0</td>\n",
       "      <td>15.0</td>\n",
       "      <td>0</td>\n",
       "      <td>550.0</td>\n",
       "    </tr>\n",
       "  </tbody>\n",
       "</table>\n",
       "</div>"
      ],
      "text/plain": [
       "      user_id  month  duration  calls_count  message_count   mb_used  \\\n",
       "1501     1238      3    159.21         23.0           23.0  18806.02   \n",
       "440      1068     10    540.04         80.0           28.0  28083.47   \n",
       "1091     1172     11    507.26         65.0            7.0  22801.56   \n",
       "2717     1423     11    255.16         29.0           44.0  14456.54   \n",
       "2893     1453      2    724.03        112.0           45.0  21470.29   \n",
       "490      1078      9   1039.08        153.0            NaN  22770.04   \n",
       "2943     1458      6    740.20        100.0            4.0  11412.69   \n",
       "1894     1299      2    333.53         47.0           57.0  12615.08   \n",
       "2521     1394      3    433.10         68.0            5.0   6632.53   \n",
       "2634     1410     12    379.72         51.0           20.0  15169.49   \n",
       "\n",
       "      duration_tarifficated  traffic_tarifficated  tariff  payment  \n",
       "1501                  160.0                  19.0       0   1350.0  \n",
       "440                   541.0                  28.0       0   3273.0  \n",
       "1091                  508.0                  23.0       0   2174.0  \n",
       "2717                  256.0                  15.0       0    550.0  \n",
       "2893                  725.0                  21.0       1   1950.0  \n",
       "490                  1040.0                  23.0       1   1950.0  \n",
       "2943                  741.0                  12.0       1   1950.0  \n",
       "1894                  334.0                  13.0       0    571.0  \n",
       "2521                  434.0                   7.0       0    550.0  \n",
       "2634                  380.0                  15.0       0    550.0  "
      ]
     },
     "execution_count": 48,
     "metadata": {},
     "output_type": "execute_result"
    }
   ],
   "source": [
    "user_billing['payment'] = user_billing.apply(tariff_billing, axis=1) # применение функции расчета платежа\n",
    "user_billing.sample(10) # просмотр образца данных"
   ]
  },
  {
   "cell_type": "markdown",
   "id": "75839901",
   "metadata": {},
   "source": [
    "Данные готовы к анализу"
   ]
  },
  {
   "cell_type": "markdown",
   "id": "323240a4",
   "metadata": {},
   "source": [
    "Добавим столбец `is_full_month` с логическим значением, указывающим, пользовался ли клиент услугами на протяжении всего месяца."
   ]
  },
  {
   "cell_type": "code",
   "execution_count": 49,
   "id": "047487bf",
   "metadata": {},
   "outputs": [],
   "source": [
    "def check_month_full(user_id, month) :\n",
    "    '''\n",
    "    Возвращает True если клиент пользовался услугами полный месяц с допуском несколько дней и False если нет\n",
    "    \n",
    "    Параметры:\n",
    "    user_id - id пользователя\n",
    "    month - расчетный месяц\n",
    "    '''\n",
    "    reg_month =  int(users[users['user_id'] == user_id]['reg_date'].dt.month) # получаем месяц и день регистрации\n",
    "    reg_day =  int(users[users['user_id'] == user_id]['reg_date'].dt.day)\n",
    "    \n",
    "    if np.isnan(users[users['user_id'] == user_id]['churn_date']).item() : # если пользователь не отключался - то\n",
    "        churn_month = 12 # последний месяц и день пользования - 31 декабря\n",
    "        churn_day = 31\n",
    "    else :\n",
    "        churn_month =  int(users[users['user_id'] == user_id]['churn_date'].dt.month) # иначе - месяц и день отключения\n",
    "        churn_day =   int(users[users['user_id'] == user_id]['churn_date'].dt.day)\n",
    "    \n",
    "    if (month > reg_month) and (month < churn_month) : # если диапазон пользования попадает в допуски\n",
    "        return True\n",
    "    elif (month == reg_month) and (reg_day < 5) :\n",
    "        return True\n",
    "    elif (month == churn_month) and (churn_day > 27) : # возвращаем True\n",
    "        return True\n",
    "    else :\n",
    "        return False # иначе - False"
   ]
  },
  {
   "cell_type": "code",
   "execution_count": 50,
   "id": "45871bbc",
   "metadata": {},
   "outputs": [],
   "source": [
    "user_billing['is_full_month'] = user_billing.apply(\n",
    "    lambda x: check_month_full(x['user_id'], x['month']), axis = 1\n",
    ") # применение функции"
   ]
  },
  {
   "cell_type": "markdown",
   "id": "ed91b298",
   "metadata": {},
   "source": [
    "Подсчитаем, сколько данных можно отобрать."
   ]
  },
  {
   "cell_type": "code",
   "execution_count": 51,
   "id": "51a192df",
   "metadata": {},
   "outputs": [
    {
     "data": {
      "text/plain": [
       "2786"
      ]
     },
     "execution_count": 51,
     "metadata": {},
     "output_type": "execute_result"
    }
   ],
   "source": [
    "len(user_billing[user_billing['is_full_month']]) # подсчет отобранных месяцев"
   ]
  },
  {
   "cell_type": "code",
   "execution_count": 52,
   "id": "a70d6318",
   "metadata": {},
   "outputs": [
    {
     "name": "stdout",
     "output_type": "stream",
     "text": [
      "Число полных месяцев: 86.68%\n"
     ]
    }
   ],
   "source": [
    "print(\"Число полных месяцев: {:.2%}\".format(user_billing['is_full_month'].mean())) # подсчет процента отобранных месяцев"
   ]
  },
  {
   "cell_type": "markdown",
   "id": "5789bd4e",
   "metadata": {},
   "source": [
    "В наш диапазон полных месяцев попадает более 86% данных, далее будем работать с ними."
   ]
  },
  {
   "cell_type": "code",
   "execution_count": 53,
   "id": "454024a3",
   "metadata": {},
   "outputs": [],
   "source": [
    "user_billing = user_billing[user_billing['is_full_month']] # отбор строк с полными месяцами\n",
    "user_billing  = user_billing.drop('is_full_month', axis=1)  # удалиение столбец 'is_full_month'"
   ]
  },
  {
   "cell_type": "markdown",
   "id": "9b578790",
   "metadata": {},
   "source": [
    "Для дальнейшего анализа рассчитаем признак нахождения клиента в Москве `is_moscow`."
   ]
  },
  {
   "cell_type": "code",
   "execution_count": 54,
   "id": "b92e2612",
   "metadata": {},
   "outputs": [],
   "source": [
    "user_billing['is_moscow'] = user_billing.apply(lambda x: True if(users[users['user_id'] == x['user_id']]['city'].item() == 'Москва') else False, axis = 1)"
   ]
  },
  {
   "cell_type": "code",
   "execution_count": 55,
   "id": "3e1eaec4",
   "metadata": {},
   "outputs": [
    {
     "data": {
      "text/html": [
       "<div>\n",
       "<style scoped>\n",
       "    .dataframe tbody tr th:only-of-type {\n",
       "        vertical-align: middle;\n",
       "    }\n",
       "\n",
       "    .dataframe tbody tr th {\n",
       "        vertical-align: top;\n",
       "    }\n",
       "\n",
       "    .dataframe thead th {\n",
       "        text-align: right;\n",
       "    }\n",
       "</style>\n",
       "<table border=\"1\" class=\"dataframe\">\n",
       "  <thead>\n",
       "    <tr style=\"text-align: right;\">\n",
       "      <th></th>\n",
       "      <th>user_id</th>\n",
       "      <th>month</th>\n",
       "      <th>duration</th>\n",
       "      <th>calls_count</th>\n",
       "      <th>message_count</th>\n",
       "      <th>mb_used</th>\n",
       "      <th>duration_tarifficated</th>\n",
       "      <th>traffic_tarifficated</th>\n",
       "      <th>tariff</th>\n",
       "      <th>payment</th>\n",
       "      <th>is_moscow</th>\n",
       "    </tr>\n",
       "  </thead>\n",
       "  <tbody>\n",
       "    <tr>\n",
       "      <th>1400</th>\n",
       "      <td>1219</td>\n",
       "      <td>7</td>\n",
       "      <td>423.25</td>\n",
       "      <td>64.0</td>\n",
       "      <td>14.0</td>\n",
       "      <td>20009.35</td>\n",
       "      <td>424.0</td>\n",
       "      <td>20.0</td>\n",
       "      <td>0</td>\n",
       "      <td>1550.0</td>\n",
       "      <td>False</td>\n",
       "    </tr>\n",
       "    <tr>\n",
       "      <th>2609</th>\n",
       "      <td>1407</td>\n",
       "      <td>10</td>\n",
       "      <td>376.09</td>\n",
       "      <td>55.0</td>\n",
       "      <td>38.0</td>\n",
       "      <td>14962.05</td>\n",
       "      <td>377.0</td>\n",
       "      <td>15.0</td>\n",
       "      <td>0</td>\n",
       "      <td>550.0</td>\n",
       "      <td>False</td>\n",
       "    </tr>\n",
       "    <tr>\n",
       "      <th>1945</th>\n",
       "      <td>1307</td>\n",
       "      <td>10</td>\n",
       "      <td>524.81</td>\n",
       "      <td>74.0</td>\n",
       "      <td>17.0</td>\n",
       "      <td>20075.57</td>\n",
       "      <td>525.0</td>\n",
       "      <td>20.0</td>\n",
       "      <td>0</td>\n",
       "      <td>1625.0</td>\n",
       "      <td>False</td>\n",
       "    </tr>\n",
       "    <tr>\n",
       "      <th>1237</th>\n",
       "      <td>1193</td>\n",
       "      <td>1</td>\n",
       "      <td>368.17</td>\n",
       "      <td>53.0</td>\n",
       "      <td>24.0</td>\n",
       "      <td>7136.31</td>\n",
       "      <td>369.0</td>\n",
       "      <td>7.0</td>\n",
       "      <td>0</td>\n",
       "      <td>550.0</td>\n",
       "      <td>False</td>\n",
       "    </tr>\n",
       "    <tr>\n",
       "      <th>1757</th>\n",
       "      <td>1277</td>\n",
       "      <td>9</td>\n",
       "      <td>267.80</td>\n",
       "      <td>35.0</td>\n",
       "      <td>139.0</td>\n",
       "      <td>21880.50</td>\n",
       "      <td>268.0</td>\n",
       "      <td>22.0</td>\n",
       "      <td>1</td>\n",
       "      <td>1950.0</td>\n",
       "      <td>False</td>\n",
       "    </tr>\n",
       "    <tr>\n",
       "      <th>2044</th>\n",
       "      <td>1322</td>\n",
       "      <td>12</td>\n",
       "      <td>612.25</td>\n",
       "      <td>73.0</td>\n",
       "      <td>NaN</td>\n",
       "      <td>21098.41</td>\n",
       "      <td>613.0</td>\n",
       "      <td>21.0</td>\n",
       "      <td>0</td>\n",
       "      <td>2089.0</td>\n",
       "      <td>False</td>\n",
       "    </tr>\n",
       "    <tr>\n",
       "      <th>430</th>\n",
       "      <td>1067</td>\n",
       "      <td>6</td>\n",
       "      <td>603.96</td>\n",
       "      <td>69.0</td>\n",
       "      <td>59.0</td>\n",
       "      <td>12284.85</td>\n",
       "      <td>604.0</td>\n",
       "      <td>12.0</td>\n",
       "      <td>0</td>\n",
       "      <td>889.0</td>\n",
       "      <td>True</td>\n",
       "    </tr>\n",
       "    <tr>\n",
       "      <th>215</th>\n",
       "      <td>1033</td>\n",
       "      <td>10</td>\n",
       "      <td>349.03</td>\n",
       "      <td>55.0</td>\n",
       "      <td>80.0</td>\n",
       "      <td>19891.28</td>\n",
       "      <td>350.0</td>\n",
       "      <td>20.0</td>\n",
       "      <td>0</td>\n",
       "      <td>1640.0</td>\n",
       "      <td>True</td>\n",
       "    </tr>\n",
       "    <tr>\n",
       "      <th>139</th>\n",
       "      <td>1019</td>\n",
       "      <td>8</td>\n",
       "      <td>345.82</td>\n",
       "      <td>47.0</td>\n",
       "      <td>19.0</td>\n",
       "      <td>28000.90</td>\n",
       "      <td>346.0</td>\n",
       "      <td>28.0</td>\n",
       "      <td>1</td>\n",
       "      <td>1950.0</td>\n",
       "      <td>False</td>\n",
       "    </tr>\n",
       "    <tr>\n",
       "      <th>1874</th>\n",
       "      <td>1294</td>\n",
       "      <td>12</td>\n",
       "      <td>245.88</td>\n",
       "      <td>35.0</td>\n",
       "      <td>23.0</td>\n",
       "      <td>27306.37</td>\n",
       "      <td>246.0</td>\n",
       "      <td>27.0</td>\n",
       "      <td>1</td>\n",
       "      <td>1950.0</td>\n",
       "      <td>False</td>\n",
       "    </tr>\n",
       "  </tbody>\n",
       "</table>\n",
       "</div>"
      ],
      "text/plain": [
       "      user_id  month  duration  calls_count  message_count   mb_used  \\\n",
       "1400     1219      7    423.25         64.0           14.0  20009.35   \n",
       "2609     1407     10    376.09         55.0           38.0  14962.05   \n",
       "1945     1307     10    524.81         74.0           17.0  20075.57   \n",
       "1237     1193      1    368.17         53.0           24.0   7136.31   \n",
       "1757     1277      9    267.80         35.0          139.0  21880.50   \n",
       "2044     1322     12    612.25         73.0            NaN  21098.41   \n",
       "430      1067      6    603.96         69.0           59.0  12284.85   \n",
       "215      1033     10    349.03         55.0           80.0  19891.28   \n",
       "139      1019      8    345.82         47.0           19.0  28000.90   \n",
       "1874     1294     12    245.88         35.0           23.0  27306.37   \n",
       "\n",
       "      duration_tarifficated  traffic_tarifficated  tariff  payment  is_moscow  \n",
       "1400                  424.0                  20.0       0   1550.0      False  \n",
       "2609                  377.0                  15.0       0    550.0      False  \n",
       "1945                  525.0                  20.0       0   1625.0      False  \n",
       "1237                  369.0                   7.0       0    550.0      False  \n",
       "1757                  268.0                  22.0       1   1950.0      False  \n",
       "2044                  613.0                  21.0       0   2089.0      False  \n",
       "430                   604.0                  12.0       0    889.0       True  \n",
       "215                   350.0                  20.0       0   1640.0       True  \n",
       "139                   346.0                  28.0       1   1950.0      False  \n",
       "1874                  246.0                  27.0       1   1950.0      False  "
      ]
     },
     "execution_count": 55,
     "metadata": {},
     "output_type": "execute_result"
    }
   ],
   "source": [
    "user_billing.sample(10) # просмотр образца данных"
   ]
  },
  {
   "cell_type": "markdown",
   "id": "26a0e863",
   "metadata": {},
   "source": [
    "### Вывод"
   ]
  },
  {
   "cell_type": "markdown",
   "id": "54d9b441",
   "metadata": {},
   "source": [
    "Для удобства дальнейшего исследования была создана таблица `user_billing` со следующими столбцами: \n",
    "* `user_id`\t- id клиента;\n",
    "* `month` - номер месяца за который ведется расчет;\n",
    "* `duration` - количество потраченных за месяц минут;\n",
    "* `calls_count` - количество звонков за месяц;\n",
    "* `message_count` - количество отправленных за месяц сообщений;\n",
    "* `mb_used`\t- количество потраченного за месяц трафика (Мб);\n",
    "* `duration_tarifficated`- количество потраченных за месяц минут с округлением каждого звонка в соответствии с тарифом;\t\n",
    "* `traffic_tarifficated` - количество потраченного за месяц трафика (Гб) с округлением до Гб в соответствии с тарифом;\n",
    "* `tariff` - код тарифа (0 - Смарт, 1 - Ультра);\n",
    "* `payment`\t- платеж клиента за расчетный месяц;\n",
    "* `is_moscow` - признак, что клиент зарегистрирован в Москве. \n",
    "\n",
    "Для точности вычислений помесячных параметров отобраны данные месяцев в которых пользователь пользовался услугами месяц с допуском до 4 дней. "
   ]
  },
  {
   "cell_type": "markdown",
   "id": "0ede570a",
   "metadata": {},
   "source": [
    "## Исследовательский анализ данных"
   ]
  },
  {
   "cell_type": "markdown",
   "id": "c8508f8d",
   "metadata": {},
   "source": [
    "### Проверка на наличие выбросов"
   ]
  },
  {
   "cell_type": "markdown",
   "id": "48e77b06",
   "metadata": {},
   "source": [
    "Проверим данные в таблицах `calls` и `messages` на наличие выбросов. Проверить данные таблицы `internet` мы не сможем, так как не знакомы с системой учитывающей сессии. "
   ]
  },
  {
   "cell_type": "markdown",
   "id": "ba6e84b2",
   "metadata": {},
   "source": [
    "Построим гистограмму длительности звонков."
   ]
  },
  {
   "cell_type": "code",
   "execution_count": 56,
   "id": "ac4811cd",
   "metadata": {
    "scrolled": true
   },
   "outputs": [
    {
     "data": {
      "image/png": "[encoded data removed]",
      "text/plain": [
       "<Figure size 576x288 with 1 Axes>"
      ]
     },
     "metadata": {
      "needs_background": "light"
     },
     "output_type": "display_data"
    }
   ],
   "source": [
    "ax = calls['duration'].plot(kind='hist', title='Гистограмма длительности звонков', bins=200, # построение гистограммы\n",
    "                           grid=True, figsize=(8,4), color='#77bb99'\n",
    ")\n",
    "ax.set_ylabel('Частота')\n",
    "ax.set_xlabel('Длительность звонка, мин.')\n",
    "ax.set_ylim(0, 2500)\n",
    "ax.set_xlim(xmin=0);"
   ]
  },
  {
   "cell_type": "markdown",
   "id": "403394e4",
   "metadata": {},
   "source": [
    "Большое число звонков нулевой длины объясняется тем, что нулями обозначены пропущенные звонки. Других выбросов на графике не видно. Распределение напоминает распределение Пуассона, что соответствует характеру данных."
   ]
  },
  {
   "cell_type": "markdown",
   "id": "3ba68c04",
   "metadata": {},
   "source": [
    "Построим гистограмму числа сообщений пользователей за месяц. Воспользуемся данными из столбца `message_count` таблицы `user_billing`."
   ]
  },
  {
   "cell_type": "code",
   "execution_count": 57,
   "id": "ecc6d945",
   "metadata": {},
   "outputs": [
    {
     "data": {
      "image/png": "[encoded data removed]",
      "text/plain": [
       "<Figure size 576x288 with 1 Axes>"
      ]
     },
     "metadata": {
      "needs_background": "light"
     },
     "output_type": "display_data"
    }
   ],
   "source": [
    "ax = user_billing['message_count'].dropna().plot(kind='hist', title='Гистограмма числа сообщений', bins=200, # построение гистограммы\n",
    "                           grid=True, figsize=(8,4), color='#77bb99'\n",
    ")\n",
    "ax.set_ylabel('Частота')\n",
    "ax.set_xlabel('Число сообщений за месяц')\n",
    "ax.set_ylim(ymin=0)\n",
    "ax.set_xlim(xmin=0);"
   ]
  },
  {
   "cell_type": "markdown",
   "id": "1930cf78",
   "metadata": {},
   "source": [
    "При подсчете числа сообщений за месяц - пики на значениях кратных 10. Причина этого неизвестна, возможно это техническая особенность - сообщения отправляются пакетами, либо ошибка в исходных данных. Уточнить у нас нет возможности, поэтому продолжим работать с этими данными. За исключением пиков распределение напоминает распределение Пуассона, что соответствует характеру данных."
   ]
  },
  {
   "cell_type": "markdown",
   "id": "ce136f20",
   "metadata": {},
   "source": [
    "Видимых выбросов в исходных данных нет."
   ]
  },
  {
   "cell_type": "markdown",
   "id": "3d024cba",
   "metadata": {},
   "source": [
    "###  Описание поведения клиентов"
   ]
  },
  {
   "cell_type": "markdown",
   "id": "8ff59869",
   "metadata": {},
   "source": [
    "Опишем поведение клиентов оператора, исходя из выборки по тарифам «Смарт» и «Ультра». Рассчитаем сколько минут разговора, сколько сообщений и какой объём интернет-трафика требуется пользователям каждого тарифа в месяц. Посчитаем среднее количество, дисперсию и стандартное отклонение. Построим гистограммы. Опишем распределения."
   ]
  },
  {
   "cell_type": "markdown",
   "id": "45ad32ca",
   "metadata": {},
   "source": [
    "#### Сравнение потребности в минутах разговора"
   ]
  },
  {
   "cell_type": "markdown",
   "id": "41b8b06d",
   "metadata": {},
   "source": [
    "Посмотрим статистические параметры выборок использованных минут за месяц по тарифам."
   ]
  },
  {
   "cell_type": "code",
   "execution_count": 58,
   "id": "c3b8a246",
   "metadata": {
    "scrolled": true
   },
   "outputs": [
    {
     "data": {
      "text/html": [
       "<div>\n",
       "<style scoped>\n",
       "    .dataframe tbody tr th:only-of-type {\n",
       "        vertical-align: middle;\n",
       "    }\n",
       "\n",
       "    .dataframe tbody tr th {\n",
       "        vertical-align: top;\n",
       "    }\n",
       "\n",
       "    .dataframe thead th {\n",
       "        text-align: right;\n",
       "    }\n",
       "</style>\n",
       "<table border=\"1\" class=\"dataframe\">\n",
       "  <thead>\n",
       "    <tr style=\"text-align: right;\">\n",
       "      <th></th>\n",
       "      <th>smart</th>\n",
       "      <th>ultra</th>\n",
       "    </tr>\n",
       "  </thead>\n",
       "  <tbody>\n",
       "    <tr>\n",
       "      <th>count</th>\n",
       "      <td>1932.000000</td>\n",
       "      <td>821.000000</td>\n",
       "    </tr>\n",
       "    <tr>\n",
       "      <th>mean</th>\n",
       "      <td>426.759286</td>\n",
       "      <td>561.075591</td>\n",
       "    </tr>\n",
       "    <tr>\n",
       "      <th>std</th>\n",
       "      <td>164.519180</td>\n",
       "      <td>277.088828</td>\n",
       "    </tr>\n",
       "    <tr>\n",
       "      <th>min</th>\n",
       "      <td>0.000000</td>\n",
       "      <td>0.000000</td>\n",
       "    </tr>\n",
       "    <tr>\n",
       "      <th>25%</th>\n",
       "      <td>313.122500</td>\n",
       "      <td>351.640000</td>\n",
       "    </tr>\n",
       "    <tr>\n",
       "      <th>50%</th>\n",
       "      <td>425.880000</td>\n",
       "      <td>543.830000</td>\n",
       "    </tr>\n",
       "    <tr>\n",
       "      <th>75%</th>\n",
       "      <td>532.352500</td>\n",
       "      <td>745.780000</td>\n",
       "    </tr>\n",
       "    <tr>\n",
       "      <th>max</th>\n",
       "      <td>1354.220000</td>\n",
       "      <td>1578.060000</td>\n",
       "    </tr>\n",
       "  </tbody>\n",
       "</table>\n",
       "</div>"
      ],
      "text/plain": [
       "             smart        ultra\n",
       "count  1932.000000   821.000000\n",
       "mean    426.759286   561.075591\n",
       "std     164.519180   277.088828\n",
       "min       0.000000     0.000000\n",
       "25%     313.122500   351.640000\n",
       "50%     425.880000   543.830000\n",
       "75%     532.352500   745.780000\n",
       "max    1354.220000  1578.060000"
      ]
     },
     "execution_count": 58,
     "metadata": {},
     "output_type": "execute_result"
    }
   ],
   "source": [
    "pd.concat(\n",
    "    [user_billing[user_billing['tariff'] == 0]['duration'].describe(),\n",
    "    user_billing[user_billing['tariff'] == 1]['duration'].describe()],\n",
    "    axis=1\n",
    ").set_axis(['smart','ultra'],axis=1)\n",
    "    # просмотр статистических параметров "
   ]
  },
  {
   "cell_type": "code",
   "execution_count": 59,
   "id": "ab3f26d0",
   "metadata": {},
   "outputs": [
    {
     "data": {
      "text/plain": [
       "count    235.3%\n",
       "mean      76.1%\n",
       "std       59.4%\n",
       "min        nan%\n",
       "25%       89.0%\n",
       "50%       78.3%\n",
       "75%       71.4%\n",
       "max       85.8%\n",
       "Name: duration, dtype: object"
      ]
     },
     "execution_count": 59,
     "metadata": {},
     "output_type": "execute_result"
    }
   ],
   "source": [
    "(user_billing[user_billing['tariff'] == 0]['duration'].describe(\n",
    "        ) / user_billing[user_billing['tariff'] == 1]['duration'].describe()).apply(\"{0:.1%}\".format)"
   ]
  },
  {
   "cell_type": "markdown",
   "id": "3a45ecba",
   "metadata": {},
   "source": [
    "Выборка по тарифу «Смарт» более чем в два раза больше, чем по тарифу «Ультра». В целом параметры довольно близкие, но пользователи тарифа «Ультра» говорят дольше в среднем. Дисперсия выборки по тарифу «Ультра» заметно больше, чем по тарифу «Смарт»."
   ]
  },
  {
   "cell_type": "markdown",
   "id": "a68bfa28",
   "metadata": {},
   "source": [
    "Представим статистические параметры графически."
   ]
  },
  {
   "cell_type": "code",
   "execution_count": 60,
   "id": "0dc2c7fe",
   "metadata": {},
   "outputs": [
    {
     "data": {
      "image/png": "[encoded data removed]",
      "text/plain": [
       "<Figure size 576x288 with 1 Axes>"
      ]
     },
     "metadata": {
      "needs_background": "light"
     },
     "output_type": "display_data"
    }
   ],
   "source": [
    "ax = user_billing[user_billing['tariff'] == 0]['duration'].describe().plot(\n",
    "    kind='bar', title='Статистические параметры времени разговоров по тарифам',\n",
    "    grid=True, figsize=(8,4), color='#77bb99', width = 0.3, position=1\n",
    ")\n",
    "ax = user_billing[user_billing['tariff'] == 1]['duration'].describe().plot(\n",
    "    grid=True, kind='bar', color='green', width = 0.3, position=0\n",
    ")\n",
    "ax.legend(['Смарт','Ультра'], loc = 'upper center');"
   ]
  },
  {
   "cell_type": "markdown",
   "id": "ac63a62d",
   "metadata": {},
   "source": [
    "Построим гистограммы выборок."
   ]
  },
  {
   "cell_type": "code",
   "execution_count": 61,
   "id": "e262121d",
   "metadata": {},
   "outputs": [
    {
     "data": {
      "image/png": "[encoded data removed]",
      "text/plain": [
       "<Figure size 576x288 with 1 Axes>"
      ]
     },
     "metadata": {
      "needs_background": "light"
     },
     "output_type": "display_data"
    }
   ],
   "source": [
    "ax = user_billing[user_billing['tariff'] == 0]['duration'].plot(\n",
    "    kind='hist', title='Гистограмма времени телефонных разговоров \"Смарт\"', bins=150, \n",
    "    grid=True, figsize=(8,4), color='#77bb99'\n",
    ")\n",
    "ax.locator_params(axis='x', integer=True)\n",
    "ax.set_ylabel('Частота')\n",
    "ax.set_xlabel('Время разговоров, мнн.')\n",
    "ax.set_ylim(ymin=0)\n",
    "ax.set_xlim(xmin=0);"
   ]
  },
  {
   "cell_type": "code",
   "execution_count": 62,
   "id": "1371b23a",
   "metadata": {},
   "outputs": [
    {
     "data": {
      "image/png": "[encoded data removed]",
      "text/plain": [
       "<Figure size 576x288 with 1 Axes>"
      ]
     },
     "metadata": {
      "needs_background": "light"
     },
     "output_type": "display_data"
    }
   ],
   "source": [
    "ax = user_billing[user_billing['tariff'] == 1]['duration'].plot(\n",
    "    kind='hist', title='Гистограмма времени телефонных разговоров \"Ультра\"', bins=150, \n",
    "    grid=True, figsize=(8,4), color='#77bb99'\n",
    ")\n",
    "ax.set_ylabel('Частота')\n",
    "ax.set_xlabel('Время разговоров, мнн.')\n",
    "ax.set_ylim(ymin=0)\n",
    "ax.set_xlim(xmin=0);"
   ]
  },
  {
   "cell_type": "markdown",
   "id": "207790b4",
   "metadata": {},
   "source": [
    "Визуально видно, что выборка по тарифу «Ультра» имеет большую дисперсию, чем по тарифу «Смарт» и скошена вправо."
   ]
  },
  {
   "cell_type": "markdown",
   "id": "d0d40d73",
   "metadata": {},
   "source": [
    "#### Сравнение потребности в количестве звонков"
   ]
  },
  {
   "cell_type": "markdown",
   "id": "3cdd5ef4",
   "metadata": {},
   "source": [
    "Посмотрим статистические параметры выборок количества звонков за месяц по тарифам."
   ]
  },
  {
   "cell_type": "code",
   "execution_count": 63,
   "id": "267cad59",
   "metadata": {
    "scrolled": true
   },
   "outputs": [
    {
     "data": {
      "text/html": [
       "<div>\n",
       "<style scoped>\n",
       "    .dataframe tbody tr th:only-of-type {\n",
       "        vertical-align: middle;\n",
       "    }\n",
       "\n",
       "    .dataframe tbody tr th {\n",
       "        vertical-align: top;\n",
       "    }\n",
       "\n",
       "    .dataframe thead th {\n",
       "        text-align: right;\n",
       "    }\n",
       "</style>\n",
       "<table border=\"1\" class=\"dataframe\">\n",
       "  <thead>\n",
       "    <tr style=\"text-align: right;\">\n",
       "      <th></th>\n",
       "      <th>smart</th>\n",
       "      <th>ultra</th>\n",
       "    </tr>\n",
       "  </thead>\n",
       "  <tbody>\n",
       "    <tr>\n",
       "      <th>count</th>\n",
       "      <td>1932.000000</td>\n",
       "      <td>821.000000</td>\n",
       "    </tr>\n",
       "    <tr>\n",
       "      <th>mean</th>\n",
       "      <td>63.272257</td>\n",
       "      <td>82.866017</td>\n",
       "    </tr>\n",
       "    <tr>\n",
       "      <th>std</th>\n",
       "      <td>23.470144</td>\n",
       "      <td>40.476058</td>\n",
       "    </tr>\n",
       "    <tr>\n",
       "      <th>min</th>\n",
       "      <td>1.000000</td>\n",
       "      <td>1.000000</td>\n",
       "    </tr>\n",
       "    <tr>\n",
       "      <th>25%</th>\n",
       "      <td>46.000000</td>\n",
       "      <td>52.000000</td>\n",
       "    </tr>\n",
       "    <tr>\n",
       "      <th>50%</th>\n",
       "      <td>64.000000</td>\n",
       "      <td>81.000000</td>\n",
       "    </tr>\n",
       "    <tr>\n",
       "      <th>75%</th>\n",
       "      <td>79.000000</td>\n",
       "      <td>108.000000</td>\n",
       "    </tr>\n",
       "    <tr>\n",
       "      <th>max</th>\n",
       "      <td>198.000000</td>\n",
       "      <td>244.000000</td>\n",
       "    </tr>\n",
       "  </tbody>\n",
       "</table>\n",
       "</div>"
      ],
      "text/plain": [
       "             smart       ultra\n",
       "count  1932.000000  821.000000\n",
       "mean     63.272257   82.866017\n",
       "std      23.470144   40.476058\n",
       "min       1.000000    1.000000\n",
       "25%      46.000000   52.000000\n",
       "50%      64.000000   81.000000\n",
       "75%      79.000000  108.000000\n",
       "max     198.000000  244.000000"
      ]
     },
     "execution_count": 63,
     "metadata": {},
     "output_type": "execute_result"
    }
   ],
   "source": [
    "pd.concat(\n",
    "    [user_billing[user_billing['tariff'] == 0]['calls_count'].describe(),\n",
    "    user_billing[user_billing['tariff'] == 1]['calls_count'].describe()],\n",
    "    axis=1\n",
    ").set_axis(['smart','ultra'],axis=1)\n",
    "    # просмотр статистических параметров "
   ]
  },
  {
   "cell_type": "code",
   "execution_count": 64,
   "id": "495f05c7",
   "metadata": {},
   "outputs": [
    {
     "data": {
      "text/plain": [
       "count    235.3%\n",
       "mean      76.4%\n",
       "std       58.0%\n",
       "min      100.0%\n",
       "25%       88.5%\n",
       "50%       79.0%\n",
       "75%       73.1%\n",
       "max       81.1%\n",
       "Name: calls_count, dtype: object"
      ]
     },
     "execution_count": 64,
     "metadata": {},
     "output_type": "execute_result"
    }
   ],
   "source": [
    "(user_billing[user_billing['tariff'] == 0]['calls_count'].describe(\n",
    "        ) / user_billing[user_billing['tariff'] == 1]['calls_count'].describe()).apply(\"{0:.1%}\".format)"
   ]
  },
  {
   "cell_type": "markdown",
   "id": "e66487df",
   "metadata": {},
   "source": [
    "Выборка по тарифу «Смарт» более чем в два раза больше, чем по тарифу «Ультра». Среднее время отличается довольно сильно - пользователи тарифа «Ультра» совершают на 20% больше звонков. Дисперсия выборки по тарифу «Ультра» заметно больше, чем по тарифу «Смарт»"
   ]
  },
  {
   "cell_type": "markdown",
   "id": "531abd15",
   "metadata": {},
   "source": [
    "Представим статистические параметры графически."
   ]
  },
  {
   "cell_type": "code",
   "execution_count": 65,
   "id": "7e029555",
   "metadata": {},
   "outputs": [
    {
     "data": {
      "image/png": "[encoded data removed]",
      "text/plain": [
       "<Figure size 576x288 with 1 Axes>"
      ]
     },
     "metadata": {
      "needs_background": "light"
     },
     "output_type": "display_data"
    }
   ],
   "source": [
    "ax = user_billing[user_billing['tariff'] == 0]['calls_count'].describe().plot(\n",
    "    kind='bar', title='Статистические параметры числа разговоров по тарифам',\n",
    "    grid=True, figsize=(8,4), color='#77bb99', width = 0.3, position=1\n",
    ")\n",
    "ax = user_billing[user_billing['tariff'] == 1]['calls_count'].describe().plot(\n",
    "    kind='bar', grid=True, color='green', width = 0.3, position=0\n",
    ")\n",
    "ax.legend(['Смарт','Ультра'], loc = 'upper center')\n",
    "ax.set_ylim(0, 250);"
   ]
  },
  {
   "cell_type": "markdown",
   "id": "c20f07c5",
   "metadata": {},
   "source": [
    "Построим гистограммы выборок."
   ]
  },
  {
   "cell_type": "code",
   "execution_count": 66,
   "id": "6623b06e",
   "metadata": {},
   "outputs": [
    {
     "data": {
      "image/png": "[encoded data removed]",
      "text/plain": [
       "<Figure size 576x288 with 1 Axes>"
      ]
     },
     "metadata": {
      "needs_background": "light"
     },
     "output_type": "display_data"
    }
   ],
   "source": [
    "ax = user_billing[user_billing['tariff'] == 0]['calls_count'].plot(\n",
    "    kind='hist', title='Гистограмма времени телефонных разговоров \"Смарт\"', bins=100, \n",
    "    grid=True, figsize=(8,4), color='#77bb99'\n",
    ")\n",
    "ax.locator_params(axis='x', integer=True)\n",
    "ax.set_ylabel('Частота')\n",
    "ax.set_xlabel('Время разговоров, мнн.')\n",
    "ax.set_ylim(ymin=0)\n",
    "ax.set_xlim(xmin=0);"
   ]
  },
  {
   "cell_type": "code",
   "execution_count": 67,
   "id": "f08b95ed",
   "metadata": {},
   "outputs": [
    {
     "data": {
      "image/png": "[encoded data removed]",
      "text/plain": [
       "<Figure size 576x288 with 1 Axes>"
      ]
     },
     "metadata": {
      "needs_background": "light"
     },
     "output_type": "display_data"
    }
   ],
   "source": [
    "ax = user_billing[user_billing['tariff'] == 1]['calls_count'].plot(\n",
    "    kind='hist', title='Гистограмма времени телефонных разговоров \"Ультра\"', bins=100, \n",
    "    grid=True, figsize=(8,4), color='#77bb99'\n",
    ")\n",
    "ax.set_ylabel('Частота')\n",
    "ax.set_xlabel('Время разговоров, мнн.')\n",
    "ax.set_ylim(ymin=0)\n",
    "ax.set_xlim(xmin=0);"
   ]
  },
  {
   "cell_type": "markdown",
   "id": "86b938ac",
   "metadata": {},
   "source": [
    "Визуально видно, что выборка по тарифу «Ультра» имеет большую дисперсию, чем по тарифу «Смарт», более неравномерна и скошена вправо."
   ]
  },
  {
   "cell_type": "markdown",
   "id": "5f9230a9",
   "metadata": {},
   "source": [
    "#### Сравнение потребности в сообщениях"
   ]
  },
  {
   "cell_type": "markdown",
   "id": "548eb70b",
   "metadata": {},
   "source": [
    "Посмотрим статистические параметры выборок количества сообщений за месяц по тарифам."
   ]
  },
  {
   "cell_type": "code",
   "execution_count": 68,
   "id": "94a44941",
   "metadata": {
    "scrolled": true
   },
   "outputs": [
    {
     "data": {
      "text/html": [
       "<div>\n",
       "<style scoped>\n",
       "    .dataframe tbody tr th:only-of-type {\n",
       "        vertical-align: middle;\n",
       "    }\n",
       "\n",
       "    .dataframe tbody tr th {\n",
       "        vertical-align: top;\n",
       "    }\n",
       "\n",
       "    .dataframe thead th {\n",
       "        text-align: right;\n",
       "    }\n",
       "</style>\n",
       "<table border=\"1\" class=\"dataframe\">\n",
       "  <thead>\n",
       "    <tr style=\"text-align: right;\">\n",
       "      <th></th>\n",
       "      <th>smart</th>\n",
       "      <th>ultra</th>\n",
       "    </tr>\n",
       "  </thead>\n",
       "  <tbody>\n",
       "    <tr>\n",
       "      <th>count</th>\n",
       "      <td>1683.000000</td>\n",
       "      <td>689.000000</td>\n",
       "    </tr>\n",
       "    <tr>\n",
       "      <th>mean</th>\n",
       "      <td>41.543078</td>\n",
       "      <td>65.992743</td>\n",
       "    </tr>\n",
       "    <tr>\n",
       "      <th>std</th>\n",
       "      <td>26.740169</td>\n",
       "      <td>46.453511</td>\n",
       "    </tr>\n",
       "    <tr>\n",
       "      <th>min</th>\n",
       "      <td>1.000000</td>\n",
       "      <td>1.000000</td>\n",
       "    </tr>\n",
       "    <tr>\n",
       "      <th>25%</th>\n",
       "      <td>21.000000</td>\n",
       "      <td>28.000000</td>\n",
       "    </tr>\n",
       "    <tr>\n",
       "      <th>50%</th>\n",
       "      <td>38.000000</td>\n",
       "      <td>56.000000</td>\n",
       "    </tr>\n",
       "    <tr>\n",
       "      <th>75%</th>\n",
       "      <td>58.000000</td>\n",
       "      <td>94.000000</td>\n",
       "    </tr>\n",
       "    <tr>\n",
       "      <th>max</th>\n",
       "      <td>143.000000</td>\n",
       "      <td>224.000000</td>\n",
       "    </tr>\n",
       "  </tbody>\n",
       "</table>\n",
       "</div>"
      ],
      "text/plain": [
       "             smart       ultra\n",
       "count  1683.000000  689.000000\n",
       "mean     41.543078   65.992743\n",
       "std      26.740169   46.453511\n",
       "min       1.000000    1.000000\n",
       "25%      21.000000   28.000000\n",
       "50%      38.000000   56.000000\n",
       "75%      58.000000   94.000000\n",
       "max     143.000000  224.000000"
      ]
     },
     "execution_count": 68,
     "metadata": {},
     "output_type": "execute_result"
    }
   ],
   "source": [
    "pd.concat(\n",
    "    [user_billing[user_billing['tariff'] == 0]['message_count'].describe(),\n",
    "    user_billing[user_billing['tariff'] == 1]['message_count'].describe()],\n",
    "    axis=1\n",
    ").set_axis(['smart','ultra'],axis=1)\n",
    "    # просмотр статистических параметров "
   ]
  },
  {
   "cell_type": "code",
   "execution_count": 69,
   "id": "a58d0024",
   "metadata": {},
   "outputs": [
    {
     "data": {
      "text/plain": [
       "count    244.3%\n",
       "mean      63.0%\n",
       "std       57.6%\n",
       "min      100.0%\n",
       "25%       75.0%\n",
       "50%       67.9%\n",
       "75%       61.7%\n",
       "max       63.8%\n",
       "Name: message_count, dtype: object"
      ]
     },
     "execution_count": 69,
     "metadata": {},
     "output_type": "execute_result"
    }
   ],
   "source": [
    "(user_billing[user_billing['tariff'] == 0]['message_count'].describe(\n",
    "        ) / user_billing[user_billing['tariff'] == 1]['message_count'].describe()).apply(\"{0:.1%}\".format)"
   ]
  },
  {
   "cell_type": "markdown",
   "id": "b2c3c5bd",
   "metadata": {},
   "source": [
    "Выборка по тарифу «Смарт» более чем в два раза больше, чем по тарифу «Ультра». Среднее количество сообщений отличается довольно сильно - пользователи тарифа «Ультра» в среднем отправляют на 30% больше сообщений. Дисперсия выборки по тарифу «Ультра» заметно больше, чем по тарифу «Смарт»"
   ]
  },
  {
   "cell_type": "markdown",
   "id": "76bcecfb",
   "metadata": {},
   "source": [
    "Представим статистические параметры графически."
   ]
  },
  {
   "cell_type": "code",
   "execution_count": 70,
   "id": "24dccbea",
   "metadata": {},
   "outputs": [
    {
     "data": {
      "image/png": "[encoded data removed]",
      "text/plain": [
       "<Figure size 576x288 with 1 Axes>"
      ]
     },
     "metadata": {
      "needs_background": "light"
     },
     "output_type": "display_data"
    }
   ],
   "source": [
    "ax = user_billing[user_billing['tariff'] == 0]['message_count'].describe().plot(\n",
    "    kind='bar', title='Статистические параметры числа сообщений по тарифам',\n",
    "    grid=True, figsize=(8,4), color='#77bb99', width = 0.3, position=1\n",
    ")\n",
    "ax = user_billing[user_billing['tariff'] == 1]['message_count'].describe().plot(\n",
    "    kind='bar', grid=True, color='green', width = 0.3, position=0\n",
    ")\n",
    "ax.legend(['Смарт','Ультра'], loc = 'upper center')\n",
    "ax.set_ylim(0, 250);"
   ]
  },
  {
   "cell_type": "markdown",
   "id": "39adf120",
   "metadata": {},
   "source": [
    "Построим гистограммы выборок."
   ]
  },
  {
   "cell_type": "code",
   "execution_count": 71,
   "id": "52aa749e",
   "metadata": {},
   "outputs": [
    {
     "data": {
      "image/png": "[encoded data removed]",
      "text/plain": [
       "<Figure size 576x288 with 1 Axes>"
      ]
     },
     "metadata": {
      "needs_background": "light"
     },
     "output_type": "display_data"
    }
   ],
   "source": [
    "ax = user_billing[user_billing['tariff'] == 0]['message_count'].plot(\n",
    "    kind='hist', title='Гистограмма числа сообщений \"Смарт\"', bins=100, \n",
    "    grid=True, figsize=(8,4), color='#77bb99'\n",
    ")\n",
    "ax.set_ylabel('Частота')\n",
    "ax.set_xlabel('Число сообщений')\n",
    "ax.set_ylim(ymin=0)\n",
    "ax.set_xlim(xmin=0);"
   ]
  },
  {
   "cell_type": "code",
   "execution_count": 72,
   "id": "b398e35f",
   "metadata": {},
   "outputs": [
    {
     "data": {
      "image/png": "[encoded data removed]",
      "text/plain": [
       "<Figure size 576x288 with 1 Axes>"
      ]
     },
     "metadata": {
      "needs_background": "light"
     },
     "output_type": "display_data"
    }
   ],
   "source": [
    "ax = user_billing[user_billing['tariff'] == 1]['message_count'].plot(\n",
    "    kind='hist', title='Гистограмма числа сообщений \"Ультра\"', bins=100, \n",
    "    grid=True, figsize=(8,4), color='#77bb99'\n",
    ")\n",
    "ax.set_ylabel('Частота')\n",
    "ax.set_xlabel('Число сообщений')\n",
    "ax.set_ylim(ymin=0)\n",
    "ax.set_xlim(xmin=0);"
   ]
  },
  {
   "cell_type": "markdown",
   "id": "84941c33",
   "metadata": {},
   "source": [
    "Визуально видно, что выборки с пиками, эту особенность мы уже заметили в пункте 5.1. Выборки далеки от нормального распределения и скошены вправо. Выборка по тарифу «Ультра» имеет большую дисперсию, чем по тарифу «Смарт»."
   ]
  },
  {
   "cell_type": "markdown",
   "id": "384734c8",
   "metadata": {},
   "source": [
    "#### Сравнение потребности в интернете"
   ]
  },
  {
   "cell_type": "markdown",
   "id": "06766dbe",
   "metadata": {},
   "source": [
    "Посмотрим статистические параметры выборок трафика за месяц по тарифам."
   ]
  },
  {
   "cell_type": "code",
   "execution_count": 73,
   "id": "99c9d067",
   "metadata": {
    "scrolled": true
   },
   "outputs": [
    {
     "data": {
      "text/html": [
       "<div>\n",
       "<style scoped>\n",
       "    .dataframe tbody tr th:only-of-type {\n",
       "        vertical-align: middle;\n",
       "    }\n",
       "\n",
       "    .dataframe tbody tr th {\n",
       "        vertical-align: top;\n",
       "    }\n",
       "\n",
       "    .dataframe thead th {\n",
       "        text-align: right;\n",
       "    }\n",
       "</style>\n",
       "<table border=\"1\" class=\"dataframe\">\n",
       "  <thead>\n",
       "    <tr style=\"text-align: right;\">\n",
       "      <th></th>\n",
       "      <th>smart</th>\n",
       "      <th>ultra</th>\n",
       "    </tr>\n",
       "  </thead>\n",
       "  <tbody>\n",
       "    <tr>\n",
       "      <th>count</th>\n",
       "      <td>1937.000000</td>\n",
       "      <td>842.000000</td>\n",
       "    </tr>\n",
       "    <tr>\n",
       "      <th>mean</th>\n",
       "      <td>17482.106087</td>\n",
       "      <td>21290.163539</td>\n",
       "    </tr>\n",
       "    <tr>\n",
       "      <th>std</th>\n",
       "      <td>4873.677366</td>\n",
       "      <td>9285.859459</td>\n",
       "    </tr>\n",
       "    <tr>\n",
       "      <th>min</th>\n",
       "      <td>2000.460000</td>\n",
       "      <td>1151.050000</td>\n",
       "    </tr>\n",
       "    <tr>\n",
       "      <th>25%</th>\n",
       "      <td>14123.880000</td>\n",
       "      <td>14572.862500</td>\n",
       "    </tr>\n",
       "    <tr>\n",
       "      <th>50%</th>\n",
       "      <td>17271.480000</td>\n",
       "      <td>20876.015000</td>\n",
       "    </tr>\n",
       "    <tr>\n",
       "      <th>75%</th>\n",
       "      <td>20624.970000</td>\n",
       "      <td>27722.860000</td>\n",
       "    </tr>\n",
       "    <tr>\n",
       "      <th>max</th>\n",
       "      <td>38552.450000</td>\n",
       "      <td>49745.690000</td>\n",
       "    </tr>\n",
       "  </tbody>\n",
       "</table>\n",
       "</div>"
      ],
      "text/plain": [
       "              smart         ultra\n",
       "count   1937.000000    842.000000\n",
       "mean   17482.106087  21290.163539\n",
       "std     4873.677366   9285.859459\n",
       "min     2000.460000   1151.050000\n",
       "25%    14123.880000  14572.862500\n",
       "50%    17271.480000  20876.015000\n",
       "75%    20624.970000  27722.860000\n",
       "max    38552.450000  49745.690000"
      ]
     },
     "execution_count": 73,
     "metadata": {},
     "output_type": "execute_result"
    }
   ],
   "source": [
    "pd.concat(\n",
    "    [user_billing[user_billing['tariff'] == 0]['mb_used'].describe(),\n",
    "    user_billing[user_billing['tariff'] == 1]['mb_used'].describe()],\n",
    "    axis=1\n",
    ").set_axis(['smart','ultra'],axis=1)\n",
    "    # просмотр статистических параметров "
   ]
  },
  {
   "cell_type": "code",
   "execution_count": 74,
   "id": "7567c616",
   "metadata": {},
   "outputs": [
    {
     "data": {
      "text/plain": [
       "count    230.0%\n",
       "mean      82.1%\n",
       "std       52.5%\n",
       "min      173.8%\n",
       "25%       96.9%\n",
       "50%       82.7%\n",
       "75%       74.4%\n",
       "max       77.5%\n",
       "Name: mb_used, dtype: object"
      ]
     },
     "execution_count": 74,
     "metadata": {},
     "output_type": "execute_result"
    }
   ],
   "source": [
    "(user_billing[user_billing['tariff'] == 0]['mb_used'].describe(\n",
    "        ) / user_billing[user_billing['tariff'] == 1]['mb_used'].describe()).apply(\"{0:.1%}\".format)"
   ]
  },
  {
   "cell_type": "markdown",
   "id": "f8a5380c",
   "metadata": {},
   "source": [
    "Выборка по тарифу «Смарт» более чем в два раза больше, чем по тарифу «Ультра». Среднее количество трафика довольно близко. Дисперсия выборки по тарифу «Ультра» заметно больше, чем по тарифу «Смарт»"
   ]
  },
  {
   "cell_type": "markdown",
   "id": "d3db91dc",
   "metadata": {},
   "source": [
    "Представим статистические параметры графически."
   ]
  },
  {
   "cell_type": "code",
   "execution_count": 75,
   "id": "96a6ab2a",
   "metadata": {},
   "outputs": [
    {
     "data": {
      "image/png": "[encoded data removed]",
      "text/plain": [
       "<Figure size 576x288 with 1 Axes>"
      ]
     },
     "metadata": {
      "needs_background": "light"
     },
     "output_type": "display_data"
    }
   ],
   "source": [
    "ax = user_billing[user_billing['tariff'] == 0]['mb_used'].describe().plot(\n",
    "    kind='bar', title='Статистические параметры трафика по тарифам',\n",
    "    grid=True, figsize=(8,4), color='#77bb99', width = 0.3, position=1\n",
    ")\n",
    "ax = user_billing[user_billing['tariff'] == 1]['mb_used'].describe().plot(\n",
    "    kind='bar', grid=True, color='green', width = 0.3, position=0\n",
    ")\n",
    "ax.legend(['Смарт','Ультра'], loc = 'upper center')\n",
    "ax.set_ylim(0, 50000);"
   ]
  },
  {
   "cell_type": "code",
   "execution_count": 76,
   "id": "81c16982",
   "metadata": {},
   "outputs": [
    {
     "data": {
      "image/png": "[encoded data removed]",
      "text/plain": [
       "<Figure size 576x288 with 1 Axes>"
      ]
     },
     "metadata": {
      "needs_background": "light"
     },
     "output_type": "display_data"
    }
   ],
   "source": [
    "ax = user_billing[user_billing['tariff'] == 0]['mb_used'].plot(\n",
    "    kind='hist', title='Гистограмма трафика \"Смарт\"', bins=100, \n",
    "    grid=True, figsize=(8,4), color='#77bb99'\n",
    ")\n",
    "ax.set_ylabel('Частота')\n",
    "ax.set_xlabel('Трафик, Мб')\n",
    "ax.set_ylim(ymin=0)\n",
    "ax.set_xlim(xmin=0);"
   ]
  },
  {
   "cell_type": "code",
   "execution_count": 77,
   "id": "a2ce54f8",
   "metadata": {},
   "outputs": [
    {
     "data": {
      "image/png": "[encoded data removed]",
      "text/plain": [
       "<Figure size 576x288 with 1 Axes>"
      ]
     },
     "metadata": {
      "needs_background": "light"
     },
     "output_type": "display_data"
    }
   ],
   "source": [
    "ax = user_billing[user_billing['tariff'] == 1]['mb_used'].plot(\n",
    "    kind='hist', title='Гистограмма трафика \"Ультра\"', bins=100, \n",
    "    grid=True, figsize=(8,4), color='#77bb99'\n",
    ")\n",
    "ax.set_ylabel('Частота')\n",
    "ax.set_xlabel('Трафик, Мб')\n",
    "ax.set_ylim(ymin=0)\n",
    "ax.set_xlim(xmin=0);"
   ]
  },
  {
   "cell_type": "markdown",
   "id": "581f5054",
   "metadata": {},
   "source": [
    "Визуально видно, что выборка по тарифу «Ультра» имеет большую дисперсию, чем по тарифу «Смарт», более неравномерна."
   ]
  },
  {
   "cell_type": "markdown",
   "id": "8c8e0cce",
   "metadata": {},
   "source": [
    "#### Сравнение выручки"
   ]
  },
  {
   "cell_type": "markdown",
   "id": "f8a8884a",
   "metadata": {},
   "source": [
    "Посмотрим статистические параметры выборок выручки за месяц по тарифам."
   ]
  },
  {
   "cell_type": "code",
   "execution_count": 78,
   "id": "ab243cb5",
   "metadata": {
    "scrolled": true
   },
   "outputs": [
    {
     "data": {
      "text/html": [
       "<div>\n",
       "<style scoped>\n",
       "    .dataframe tbody tr th:only-of-type {\n",
       "        vertical-align: middle;\n",
       "    }\n",
       "\n",
       "    .dataframe tbody tr th {\n",
       "        vertical-align: top;\n",
       "    }\n",
       "\n",
       "    .dataframe thead th {\n",
       "        text-align: right;\n",
       "    }\n",
       "</style>\n",
       "<table border=\"1\" class=\"dataframe\">\n",
       "  <thead>\n",
       "    <tr style=\"text-align: right;\">\n",
       "      <th></th>\n",
       "      <th>smart</th>\n",
       "      <th>ultra</th>\n",
       "    </tr>\n",
       "  </thead>\n",
       "  <tbody>\n",
       "    <tr>\n",
       "      <th>count</th>\n",
       "      <td>1937.000000</td>\n",
       "      <td>849.000000</td>\n",
       "    </tr>\n",
       "    <tr>\n",
       "      <th>mean</th>\n",
       "      <td>1356.235932</td>\n",
       "      <td>2087.985866</td>\n",
       "    </tr>\n",
       "    <tr>\n",
       "      <th>std</th>\n",
       "      <td>809.252404</td>\n",
       "      <td>401.269295</td>\n",
       "    </tr>\n",
       "    <tr>\n",
       "      <th>min</th>\n",
       "      <td>550.000000</td>\n",
       "      <td>1950.000000</td>\n",
       "    </tr>\n",
       "    <tr>\n",
       "      <th>25%</th>\n",
       "      <td>673.000000</td>\n",
       "      <td>1950.000000</td>\n",
       "    </tr>\n",
       "    <tr>\n",
       "      <th>50%</th>\n",
       "      <td>1150.000000</td>\n",
       "      <td>1950.000000</td>\n",
       "    </tr>\n",
       "    <tr>\n",
       "      <th>75%</th>\n",
       "      <td>1798.000000</td>\n",
       "      <td>1950.000000</td>\n",
       "    </tr>\n",
       "    <tr>\n",
       "      <th>max</th>\n",
       "      <td>6614.000000</td>\n",
       "      <td>4800.000000</td>\n",
       "    </tr>\n",
       "  </tbody>\n",
       "</table>\n",
       "</div>"
      ],
      "text/plain": [
       "             smart        ultra\n",
       "count  1937.000000   849.000000\n",
       "mean   1356.235932  2087.985866\n",
       "std     809.252404   401.269295\n",
       "min     550.000000  1950.000000\n",
       "25%     673.000000  1950.000000\n",
       "50%    1150.000000  1950.000000\n",
       "75%    1798.000000  1950.000000\n",
       "max    6614.000000  4800.000000"
      ]
     },
     "execution_count": 78,
     "metadata": {},
     "output_type": "execute_result"
    }
   ],
   "source": [
    "pd.concat(\n",
    "    [user_billing[user_billing['tariff'] == 0]['payment'].describe(),\n",
    "    user_billing[user_billing['tariff'] == 1]['payment'].describe()],\n",
    "    axis=1\n",
    ").set_axis(['smart','ultra'],axis=1)\n",
    "    # просмотр статистических параметров "
   ]
  },
  {
   "cell_type": "code",
   "execution_count": 79,
   "id": "888f6aca",
   "metadata": {},
   "outputs": [
    {
     "data": {
      "text/plain": [
       "count    228.2%\n",
       "mean      65.0%\n",
       "std      201.7%\n",
       "min       28.2%\n",
       "25%       34.5%\n",
       "50%       59.0%\n",
       "75%       92.2%\n",
       "max      137.8%\n",
       "Name: payment, dtype: object"
      ]
     },
     "execution_count": 79,
     "metadata": {},
     "output_type": "execute_result"
    }
   ],
   "source": [
    "(user_billing[user_billing['tariff'] == 0]['payment'].describe(\n",
    "        ) / user_billing[user_billing['tariff'] == 1]['payment'].describe()).apply(\"{0:.1%}\".format)"
   ]
  },
  {
   "cell_type": "markdown",
   "id": "29bc0542",
   "metadata": {},
   "source": [
    "Выборка по тарифу «Смарт» более чем в два раза больше, чем по тарифу «Ультра». Средняя выручка за месяц по тарифу «Смарт» намного меньше, чем по тарифу «Ультра». Дисперсия выборки по тарифу «Ультра» заметно больше, чем по тарифу «Смарт»."
   ]
  },
  {
   "cell_type": "markdown",
   "id": "44883cc2",
   "metadata": {},
   "source": [
    "Представим статистические параметры графически."
   ]
  },
  {
   "cell_type": "code",
   "execution_count": 80,
   "id": "7f189656",
   "metadata": {},
   "outputs": [
    {
     "data": {
      "image/png": "[encoded data removed]",
      "text/plain": [
       "<Figure size 576x288 with 1 Axes>"
      ]
     },
     "metadata": {
      "needs_background": "light"
     },
     "output_type": "display_data"
    }
   ],
   "source": [
    "ax = user_billing[user_billing['tariff'] == 0]['payment'].describe().plot(\n",
    "    kind='bar', title='Статистические параметры выручки по тарифам',\n",
    "    grid=True, figsize=(8,4), color='#77bb99', width = 0.3, position=1\n",
    ")\n",
    "ax = user_billing[user_billing['tariff'] == 1]['payment'].describe().plot(\n",
    "    kind='bar', grid=True, color='green', width = 0.3, position=0\n",
    ")\n",
    "ax.legend(['Смарт','Ультра'], loc = 'upper center');"
   ]
  },
  {
   "cell_type": "code",
   "execution_count": 81,
   "id": "7aeb3bc5",
   "metadata": {},
   "outputs": [
    {
     "data": {
      "image/png": "[encoded data removed]",
      "text/plain": [
       "<Figure size 576x288 with 1 Axes>"
      ]
     },
     "metadata": {
      "needs_background": "light"
     },
     "output_type": "display_data"
    }
   ],
   "source": [
    "ax = user_billing[user_billing['tariff'] == 0]['payment'].plot(\n",
    "    kind='hist', title='Гистограмма выручки \"Смарт\"', bins=200, \n",
    "    grid=True, figsize=(8,4), color='#77bb99'\n",
    ")\n",
    "ax.set_ylabel('Частота')\n",
    "ax.set_xlabel('Выручка, руб.')\n",
    "ax.set_ylim(ymin=0)\n",
    "ax.set_xlim(xmin=0);"
   ]
  },
  {
   "cell_type": "code",
   "execution_count": 82,
   "id": "072926f7",
   "metadata": {
    "scrolled": true
   },
   "outputs": [
    {
     "data": {
      "image/png": "[encoded data removed]",
      "text/plain": [
       "<Figure size 576x288 with 1 Axes>"
      ]
     },
     "metadata": {
      "needs_background": "light"
     },
     "output_type": "display_data"
    }
   ],
   "source": [
    "ax = user_billing[user_billing['tariff'] == 1]['payment'].plot(\n",
    "    kind='hist', title='Гистограмма выручки \"Ультра\"', bins=50, \n",
    "    grid=True, figsize=(8,4), color='#77bb99'\n",
    ")\n",
    "ax.set_ylabel('Частота')\n",
    "ax.set_xlabel('Выручка, руб.')\n",
    "ax.set_ylim(ymin=0)\n",
    "ax.set_xlim(xmin=0);"
   ]
  },
  {
   "cell_type": "markdown",
   "id": "a4410870",
   "metadata": {},
   "source": [
    "По гистограммам выручки видно, что наиболее частым платежом является абонентская плата. Для тарифа «Ультра» это большая часть платежей, для тарифа «Смарт» пользователи доплачивают помимо абонентской платы гораздо чаще."
   ]
  },
  {
   "cell_type": "markdown",
   "id": "7863e076",
   "metadata": {},
   "source": [
    "#### Аггрегированое сравнение тарифов"
   ]
  },
  {
   "cell_type": "markdown",
   "id": "59bf0014",
   "metadata": {},
   "source": [
    "Построим таблицу, показывающую среднюю нагрузку на сеть, создаваемую одним пользователем, и среднюю выручку от пользователя. Возьмем средние значения тарифа «Ультра» за 100 процентов."
   ]
  },
  {
   "cell_type": "code",
   "execution_count": 83,
   "id": "623f0d37",
   "metadata": {},
   "outputs": [
    {
     "data": {
      "image/png": "[encoded data removed]",
      "text/plain": [
       "<Figure size 576x360 with 1 Axes>"
      ]
     },
     "metadata": {
      "needs_background": "light"
     },
     "output_type": "display_data"
    }
   ],
   "source": [
    "ax = ((user_billing[user_billing['tariff'] == 0][['duration', 'message_count', 'traffic_tarifficated', 'payment']].mean(\n",
    "    ) / user_billing[user_billing['tariff'] == 1][['duration', 'message_count', 'traffic_tarifficated', 'payment']].mean()) * 100).plot(\n",
    "    kind='bar', title='Сравнение нагрузки на сеть и выручки по тарифам',\n",
    "    grid=True, color='#77bb99', figsize=(8,5), width = 0.3, position=1\n",
    ")\n",
    "ax = pd.Series([100,100,100,100]).plot(\n",
    "    kind='bar', grid=True, color='green', width = 0.3, position=0\n",
    ")\n",
    "ax.legend(['Смарт','Ультра'], loc = 'upper center')\n",
    "ax.set_xticklabels(['время разговора', 'сообщения', 'трафик', 'выручка'])\n",
    "ax.set_ylabel('%')\n",
    "ax.set_ylim(ymax=125)\n",
    "for p in ax.patches:\n",
    "    ax.annotate(format(p.get_height(), '.1f'), \n",
    "                   (p.get_x() + p.get_width() / 2. + 0.02, p.get_height()), \n",
    "                   ha = 'center', va = 'center', \n",
    "                   xytext = (0, 9), \n",
    "                   textcoords = 'offset points');"
   ]
  },
  {
   "cell_type": "markdown",
   "id": "8997a6dd",
   "metadata": {},
   "source": [
    "Из графика видно, что пользователи тарифа «Смарт» потребляют услуг в среднем на 30 % меньше, при этом средняя выручка от них меньше на 35%. Возможно предположить, что тариф  «Ультра» является более экономически выгодным для компании."
   ]
  },
  {
   "cell_type": "markdown",
   "id": "f1891e61",
   "metadata": {},
   "source": [
    "#### Выводы"
   ]
  },
  {
   "cell_type": "markdown",
   "id": "4d4fec33",
   "metadata": {},
   "source": [
    "1. Нами проверены данные в таблицах `calls` и `messages` на наличие выбросов. Проверить данные таблицы `internet` не удалось, так как не было известно как система учитывает сессии. \n",
    "2. В таблице `calls` мы нашли большое число звонков нулевой длины, что объясняется тем, что нулями обозначены пропущенные звонки. Других выбросов не обнаружили. \n",
    "3. В таблице `messages` мы заметили пики на значениях кратных 10. Причина этого неизвестна, возможно это техническая особенность - сообщения отправляются пакетами, либо ошибка в исходных данных. Уточнить у нас нет возможности, поэтому мы продолжили работать с этими данными. За исключением пиков выбросов в исходных данных не обнаружили.\n",
    "4. Для описания поведения клиентов оператора исследовали выборки по тарифам «Смарт» и «Ультра». Мы рассчитали сколько минут разговора, сколько сообщений и какой объём интернет-трафика требуется пользователям каждого тарифа в месяц. Для каждого параметра мы рассчитали среднее и стандартное отклонение, построили гистограммы, описали распределения.\n",
    "5. Выборка использованных минут за месяц по тарифу «Смарт» более чем в два раза больше, чем по тарифу «Ультра». В целом параметры довольно близкие, но пользователи тарифа «Ультра» говорят дольше в среднем. Дисперсия выборки по тарифу «Ультра» заметно больше, чем по тарифу «Смарт». Визуально видно, что выборка по тарифу «Ультра» имеет большую дисперсию, чем по тарифу «Смарт» и скошена вправо.\n",
    "6. Выборка количества звонков за месяц по тарифу «Смарт» более чем в два раза больше, чем по тарифу «Ультра». Среднее время отличается довольно сильно - пользователи тарифа «Ультра» совершают на 20% больше звонков. Дисперсия выборки по тарифу «Ультра» заметно больше, чем по тарифу «Смарт». Выборка по тарифу «Ультра» более неравномерна и скошена вправо.\n",
    "7. Выборка количества сообщений за месяц по тарифу «Смарт» более чем в два раза больше, чем по тарифу «Ультра». Среднее количество сообщений отличается довольно сильно - пользователи тарифа «Ультра» в среднем отправляют на 30% больше сообщений. Дисперсия выборки по тарифу «Ультра» заметно больше, чем по тарифу «Смарт». Визуально видно, что выборки с пиками, эту особенность мы уже заметили в пункте 5.1. Выборки далеки от нормального распределения и скошены вправо.\n",
    "8. Выборка трафика по тарифу «Смарт» более чем в два раза больше, чем по тарифу «Ультра». Среднее количество трафика довольно близко. Дисперсия выборки по тарифу «Ультра» заметно больше, чем по тарифу «Смарт». Визуально видно, что выборка по тарифу «Ультра» более неравномерна.\n",
    "9. Выборка выручки за месяц по тарифу «Смарт» более чем в два раза больше, чем по тарифу «Ультра». Средняя выручка за месяц по тарифу «Смарт» намного меньше, чем по тарифу «Ультра». Дисперсия выборки по тарифу «Ультра» заметно больше, чем по тарифу «Смарт». По гистограммам выручки видно, что наиболее частым платежом является абонентская плата. Для тарифа «Ультра» это практически основной платеж, для тарифа «Смарт» пользователи доплачивают помимо абонентской платы гораздо чаще.\n",
    "10. Мы сравнили среднюю нагрузку на сеть, создаваемую одним пользователем, и среднюю выручку от пользователя по обоим тарифам. Выяснилось, что пользователи тарифа «Смарт» хотя потребляют услуг в среднем на 30 % меньше, но при этом средняя выручка от них меньше на 35%.\n",
    "11. Выручка на одного пользователя тарифа «Смарт» заметно меньше чем пользователя тарифа «Ультра».\n",
    "12. По результатам исследования мы можем предположить, что тариф  «Ультра» является более экономически выгодным для компании, так как его пользователи приносят большую выручку, при этом превышение выручки покрывает повышенное потребление услуг. "
   ]
  },
  {
   "cell_type": "markdown",
   "id": "4149f766",
   "metadata": {},
   "source": [
    "### Проверка гипотез"
   ]
  },
  {
   "cell_type": "markdown",
   "id": "69166f65",
   "metadata": {},
   "source": [
    "По просьбе заказчика необходимо проверить две гипотезы:\n",
    "* средняя выручка пользователей тарифов «Ультра» и «Смарт» различаются;\n",
    "* средняя выручка пользователей из Москвы отличается от выручки пользователей из других регионов."
   ]
  },
  {
   "cell_type": "markdown",
   "id": "bc94f9f5",
   "metadata": {},
   "source": [
    "#### Средняя выручка пользователей тарифов «Ультра» и «Смарт» различаются"
   ]
  },
  {
   "cell_type": "markdown",
   "id": "fc9890b3",
   "metadata": {},
   "source": [
    "Выборки выручки по тарифам описаны в предыдущей части исследования. Дисперсии выборок сильно отличаются. Размеры выборок невелики и можно просто рассчитать их средние и сравнить между собой. Но, для целей учебного проекта проведем t-тест для проверки гипотезы о равенстве среднего двух генеральных совокупностей.\n",
    "\n",
    "Проверим критерии применимости t-теста:\n",
    "* Генеральные совокупности не должны зависеть друг от друга.\n",
    "* Выборочные средние должны быть нормально распределены.\n",
    "Критерии удовлетворяются.\n",
    "\n",
    "Поскольку выборки разного размера и дисперсии у генеральных совокупностей разные — укажем equal_var = False"
   ]
  },
  {
   "cell_type": "markdown",
   "id": "fb0dce6a",
   "metadata": {},
   "source": [
    "Нулевая гипотеза формулируется так, чтобы все данные лежали в районе изначально предполагаемого значения. В нашем случае нулевая гипотеза следующая: \n",
    "* средняя выручка пользователей тарифов «Ультра» и «Смарт» равны.\n",
    "\n",
    "Альтернативная :\n",
    "* средняя выручка пользователей тарифов «Ультра» и «Смарт» различаются."
   ]
  },
  {
   "cell_type": "code",
   "execution_count": 84,
   "id": "3cd09b63",
   "metadata": {},
   "outputs": [
    {
     "name": "stdout",
     "output_type": "stream",
     "text": [
      "дисперсия выборки 1: 654889.4541214581\n",
      "дисперсия выборки 2: 161017.046969798\n",
      "p-значение: 9.592037103668253e-190\n",
      "Отвергаем нулевую гипотезу\n"
     ]
    }
   ],
   "source": [
    "alpha = .05 # критический уровень статистической значимости\n",
    "# если p-value окажется меньше него - отвергнем гипотезу\n",
    "\n",
    "results = st.ttest_ind(\n",
    "    user_billing[user_billing['tariff'] == 0]['payment'], \n",
    "    user_billing[user_billing['tariff'] == 1]['payment'], equal_var = False)\n",
    "\n",
    "print('дисперсия выборки 1:', user_billing[user_billing['tariff'] == 0]['payment'].var())\n",
    "print('дисперсия выборки 2:', user_billing[user_billing['tariff'] == 1]['payment'].var())\n",
    "print('p-значение:', results.pvalue)\n",
    "\n",
    "if results.pvalue < alpha:\n",
    "    print(\"Отвергаем нулевую гипотезу\")\n",
    "else:\n",
    "    print(\"Не получилось отвергнуть нулевую гипотезу\") "
   ]
  },
  {
   "cell_type": "markdown",
   "id": "5d97b47d",
   "metadata": {},
   "source": [
    "Вероятность равенства средних значений выборок по тарифу почти нулевая. Отвергаем нулевую гипотезу и принимаем альтернативную:  средняя выручка пользователей тарифов «Ультра» и «Смарт» различаются.  Предложенная заказчиком гипотеза принята."
   ]
  },
  {
   "cell_type": "markdown",
   "id": "1b8f36b5",
   "metadata": {},
   "source": [
    "#### Средняя выручка пользователей из Москвы отличается от выручки пользователей из других регионов."
   ]
  },
  {
   "cell_type": "markdown",
   "id": "a1ba2dcb",
   "metadata": {},
   "source": [
    "Выборки выручки от пользователей из Москвы и выручки от пользователей из других регионов нами не исследовались. Посмотрим статистические параметры выборок трафика за месяц по регионам."
   ]
  },
  {
   "cell_type": "code",
   "execution_count": 85,
   "id": "6e05703c",
   "metadata": {},
   "outputs": [
    {
     "data": {
      "text/html": [
       "<div>\n",
       "<style scoped>\n",
       "    .dataframe tbody tr th:only-of-type {\n",
       "        vertical-align: middle;\n",
       "    }\n",
       "\n",
       "    .dataframe tbody tr th {\n",
       "        vertical-align: top;\n",
       "    }\n",
       "\n",
       "    .dataframe thead th {\n",
       "        text-align: right;\n",
       "    }\n",
       "</style>\n",
       "<table border=\"1\" class=\"dataframe\">\n",
       "  <thead>\n",
       "    <tr style=\"text-align: right;\">\n",
       "      <th></th>\n",
       "      <th>moscow</th>\n",
       "      <th>not_moscow</th>\n",
       "    </tr>\n",
       "  </thead>\n",
       "  <tbody>\n",
       "    <tr>\n",
       "      <th>count</th>\n",
       "      <td>527.000000</td>\n",
       "      <td>2259.000000</td>\n",
       "    </tr>\n",
       "    <tr>\n",
       "      <th>mean</th>\n",
       "      <td>1598.225806</td>\n",
       "      <td>1574.795927</td>\n",
       "    </tr>\n",
       "    <tr>\n",
       "      <th>std</th>\n",
       "      <td>736.358177</td>\n",
       "      <td>797.203132</td>\n",
       "    </tr>\n",
       "    <tr>\n",
       "      <th>min</th>\n",
       "      <td>550.000000</td>\n",
       "      <td>550.000000</td>\n",
       "    </tr>\n",
       "    <tr>\n",
       "      <th>25%</th>\n",
       "      <td>950.000000</td>\n",
       "      <td>848.000000</td>\n",
       "    </tr>\n",
       "    <tr>\n",
       "      <th>50%</th>\n",
       "      <td>1816.000000</td>\n",
       "      <td>1680.000000</td>\n",
       "    </tr>\n",
       "    <tr>\n",
       "      <th>75%</th>\n",
       "      <td>1950.000000</td>\n",
       "      <td>1950.000000</td>\n",
       "    </tr>\n",
       "    <tr>\n",
       "      <th>max</th>\n",
       "      <td>5186.000000</td>\n",
       "      <td>6614.000000</td>\n",
       "    </tr>\n",
       "  </tbody>\n",
       "</table>\n",
       "</div>"
      ],
      "text/plain": [
       "            moscow   not_moscow\n",
       "count   527.000000  2259.000000\n",
       "mean   1598.225806  1574.795927\n",
       "std     736.358177   797.203132\n",
       "min     550.000000   550.000000\n",
       "25%     950.000000   848.000000\n",
       "50%    1816.000000  1680.000000\n",
       "75%    1950.000000  1950.000000\n",
       "max    5186.000000  6614.000000"
      ]
     },
     "execution_count": 85,
     "metadata": {},
     "output_type": "execute_result"
    }
   ],
   "source": [
    "pd.concat(\n",
    "    [user_billing[user_billing['is_moscow'] == True]['payment'].describe(),\n",
    "    user_billing[user_billing['is_moscow'] == False]['payment'].describe()],\n",
    "    axis=1\n",
    ").set_axis(['moscow','not_moscow'],axis=1)\n",
    "    # просмотр статистических параметров "
   ]
  },
  {
   "cell_type": "markdown",
   "id": "8a229695",
   "metadata": {},
   "source": [
    "Выборки отличаются по размеру, но имеют близкую дисперсию. Размеры выборок невелики и можно просто рассчитать их средние и сравнить между собой. Но, для целей учебного проекта проведем t-тест для проверки гипотезы о равенстве среднего двух генеральных совокупностей.\n",
    "\n",
    "Проверим критерии применимости t-теста:\n",
    "\n",
    "Генеральные совокупности не должны зависеть друг от друга.\n",
    "Выборочные средние должны быть нормально распределены. Критерии удовлетворяются."
   ]
  },
  {
   "cell_type": "markdown",
   "id": "ae902260",
   "metadata": {},
   "source": [
    "Сформулируем нулевую гипотезу так, чтобы все данные лежали в районе изначально предполагаемого значения.\n",
    "\n",
    "Нулевая гипотеза будет:\n",
    "\n",
    "* средняя выручка пользователей из Москвы равна средней выручке пользователей из других регионов.\n",
    "\n",
    "Альтернативная :\n",
    "\n",
    "* средние выручки пользователей в Москве и в других регионах различаются."
   ]
  },
  {
   "cell_type": "code",
   "execution_count": 86,
   "id": "2b9c4f25",
   "metadata": {
    "scrolled": true
   },
   "outputs": [
    {
     "name": "stdout",
     "output_type": "stream",
     "text": [
      "дисперсия выборки 1: 542223.3652643199\n",
      "дисперсия выборки 2: 635532.8338895182\n",
      "p-значение: 0.5176224787783482\n",
      "Не получилось отвергнуть нулевую гипотезу\n"
     ]
    }
   ],
   "source": [
    "alpha = .05 # критический уровень статистической значимости\n",
    "# если p-value окажется меньше него - отвегнем гипотезу\n",
    "\n",
    "results = st.ttest_ind(\n",
    "    user_billing[user_billing['is_moscow'] == True]['payment'], \n",
    "    user_billing[user_billing['is_moscow'] == False]['payment'], equal_var = False)\n",
    "\n",
    "print('дисперсия выборки 1:', user_billing[user_billing['is_moscow'] == True]['payment'].var())\n",
    "print('дисперсия выборки 2:', user_billing[user_billing['is_moscow'] == False]['payment'].var())\n",
    "print('p-значение:', results.pvalue)\n",
    "\n",
    "if results.pvalue < alpha:\n",
    "    print(\"Отвергаем нулевую гипотезу\")\n",
    "else:\n",
    "    print(\"Не получилось отвергнуть нулевую гипотезу\") "
   ]
  },
  {
   "cell_type": "markdown",
   "id": "37aad4d1",
   "metadata": {},
   "source": [
    "Принимаем нулевую гипотезу - средняя выручка пользователей из Москвы равна средней выручке пользователей из других регионов. Гипотеза заказчика не принята."
   ]
  },
  {
   "cell_type": "markdown",
   "id": "b3d7eb42",
   "metadata": {},
   "source": [
    "####  Выводы </font>"
   ]
  },
  {
   "cell_type": "markdown",
   "id": "83ab8cad",
   "metadata": {},
   "source": [
    "1. По просьбе заказчика нами проверены две гипотезы:\n",
    "* средняя выручка пользователей тарифов «Ультра» и «Смарт» различаются;\n",
    "* средняя выручка пользователей из Москвы отличается от выручки пользователей из других регионов.\n",
    "\n",
    "2. Выборки выручки по тарифам и выручки пользователей из Москвы и выручки пользователей из других регионов невелики и можно было просто рассчитать их средние и сравнить между собой. Но, для целей учебного проекта мы провели t-тест для проверки гипотезы о равенстве среднего двух генеральных совокупностей.\n",
    "3. Мы проверили критерии применимости t-теста: Генеральные совокупности не должны зависеть друг от друга. Выборочные средние должны быть нормально распределены. Критерии удовлетворяются.\n",
    "4. Для выборки выручки по тарифам сформулировали нулевую гипотезу: средняя выручка пользователей тарифов «Ультра» и «Смарт» равны, и альтернативную: средняя выручка пользователей тарифов «Ультра» и «Смарт» различаются.\n",
    "5. По результатам t-теста с $\\alpha$ = 0.05 и p-значением: $9.5^{-190}$ нулевая гипотеза была отвергнута и принята альтернативная:  средняя выручка пользователей тарифов «Ультра» и «Смарт» различаются.  Таким образом предложенная заказчиком гипотеза принята.\n",
    "6. Для выборки выручки пользователей из Москвы и выручки пользователей из других регионов сформулировали нулевую гипотезу: средняя выручка пользователей из Москвы равна средней выручке пользователей из других регионов, и альтернативную: средние выручки пользователей в Москве и в других регионах различаются.\n",
    "5. По результатам t-теста с $\\alpha$ = 0.05 и p-значением: 0.517 нулевая гипотеза была принята:  средняя выручка пользователей из Москвы равна средней выручке пользователей из других регионов. Гипотеза заказчика не была принята."
   ]
  },
  {
   "cell_type": "markdown",
   "id": "8016986b",
   "metadata": {},
   "source": [
    "## Общий вывод"
   ]
  },
  {
   "cell_type": "markdown",
   "id": "38e6245e",
   "metadata": {},
   "source": [
    "1. Для исследования предоставлены данные 500 пользователей сотовой компании «Мегалайн»: откуда они, каким тарифом пользуются, сколько звонков и сообщений каждый отправил за 2018 год.\n",
    "2. Заказчиком поставлена задача проанализировать поведение клиентов, пользователей тарифов «Смарт» и «Ультра» и сделать вывод — какой тариф лучше.\n",
    "3. Предоставленных данных достаточно для решения поставленных задач.\n",
    "4. Пропусков в данных нет, за исключением столбца `churn_date` в котором пропуски несут полезную информацию и не должны быть устранены.\n",
    "5. В таблицах столбцы содержащие даты тип данных мв конвертировали в формат datetime.\n",
    "6. Явных и неявных дубликатов в данных не обнаружено.\n",
    "7. Для удобства  исследования была создана таблица `user_billing` агрегировав в ней по id клиента и номеру месяца количество потраченных за месяц минут, количество звонков за месяц, количество отправленных за месяц сообщений, количество потраченного за месяц трафика, количество потраченных за месяц минут с округлением каждого звонка в соответствии с тарифом, количество потраченного за месяц трафика с округлением до Гб в соответствии с тарифом, код тарифа, платеж клиента за расчетный месяц, признак, что клиент зарегистрирован в Москве.\n",
    "8. Для точности вычислений помесячных параметров отобраны данные месяцев в которых пользователь пользовался услугами месяц с допуском до 4 дней. \n",
    "9. Анализ пользования услугами клиентами по тарифам показал, что пользователи тарифа «Смарт» потребляют услуг меньше, чем по тарифу «Ультра».\n",
    "10. Анализ выручки за месяц показал, что средняя выручка за месяц по тарифу «Смарт» намного меньше, чем по тарифу «Ультра».\n",
    "11. Для обоих тарифов наиболее частым платежом является абонентская плата. Для тарифа «Ультра» это практически основной платеж, для тарифа «Смарт» пользователи доплачивают помимо абонентской платы гораздо чаще.\n",
    "12. По результатам сравнения средней нагрузки на сеть, создаваемой одним пользователем, и средней выручки от пользователя по обоим тарифам, выяснилось, что пользователи тарифа «Смарт» хотя потребляют услуг в среднем на 30 % меньше, но при этом средняя выручка от них меньше на 35%.\n",
    "13. <b>По результатам исследования мы можем предположить, что тариф «Ультра» является более экономически выгодным для компании, так как его пользователи приносят большую выручку, при этом превышение выручки покрывает повышенное потребление услуг.</b>\n",
    "14. Дополнительно по просьбе заказчика нами проверены две гипотезы: \"средняя выручка пользователей тарифов «Ультра» и «Смарт» различаются\" и \"средняя выручка пользователей из Москвы отличается от выручки пользователей из других регионов\".\n",
    "15. По результатам t-теста гипотеза о различии выручки пользователей тарифов тарифов «Смарт» и «Ультра» принята, гипотеза об отличии выручки пользователей из Москвы и других регионов отвергнута."
   ]
  }
 ],
 "metadata": {
  "ExecuteTimeLog": [
   {
    "duration": 492,
    "start_time": "2022-04-18T07:50:27.505Z"
   },
   {
    "duration": 531,
    "start_time": "2022-04-18T07:50:28.000Z"
   },
   {
    "duration": 15,
    "start_time": "2022-04-18T07:50:28.533Z"
   },
   {
    "duration": 55,
    "start_time": "2022-04-18T07:50:28.552Z"
   },
   {
    "duration": 24,
    "start_time": "2022-04-18T07:50:28.610Z"
   },
   {
    "duration": 31,
    "start_time": "2022-04-18T07:50:28.636Z"
   },
   {
    "duration": 16,
    "start_time": "2022-04-18T07:50:28.696Z"
   },
   {
    "duration": 21,
    "start_time": "2022-04-18T07:50:28.714Z"
   },
   {
    "duration": 25,
    "start_time": "2022-04-18T07:50:28.738Z"
   },
   {
    "duration": 35,
    "start_time": "2022-04-18T07:50:28.766Z"
   },
   {
    "duration": 34,
    "start_time": "2022-04-18T07:50:28.803Z"
   },
   {
    "duration": 7,
    "start_time": "2022-04-18T07:50:28.839Z"
   },
   {
    "duration": 12,
    "start_time": "2022-04-18T07:50:28.847Z"
   },
   {
    "duration": 16,
    "start_time": "2022-04-18T07:50:28.861Z"
   },
   {
    "duration": 19,
    "start_time": "2022-04-18T07:50:28.895Z"
   },
   {
    "duration": 291,
    "start_time": "2022-04-18T07:50:28.917Z"
   },
   {
    "duration": 42,
    "start_time": "2022-04-18T07:50:29.211Z"
   },
   {
    "duration": 23,
    "start_time": "2022-04-18T07:50:29.255Z"
   },
   {
    "duration": 11,
    "start_time": "2022-04-18T07:50:29.280Z"
   },
   {
    "duration": 41,
    "start_time": "2022-04-18T07:50:29.294Z"
   },
   {
    "duration": 8,
    "start_time": "2022-04-18T07:50:29.337Z"
   },
   {
    "duration": 72,
    "start_time": "2022-04-18T07:50:29.347Z"
   },
   {
    "duration": 94,
    "start_time": "2022-04-18T07:50:29.422Z"
   },
   {
    "duration": 62,
    "start_time": "2022-04-18T07:50:29.518Z"
   },
   {
    "duration": 30,
    "start_time": "2022-04-18T07:50:29.582Z"
   },
   {
    "duration": 43,
    "start_time": "2022-04-18T07:50:29.614Z"
   },
   {
    "duration": 7,
    "start_time": "2022-04-18T07:50:29.659Z"
   },
   {
    "duration": 33,
    "start_time": "2022-04-18T07:50:29.670Z"
   },
   {
    "duration": 56,
    "start_time": "2022-04-18T07:50:29.705Z"
   },
   {
    "duration": 16,
    "start_time": "2022-04-18T07:50:29.764Z"
   },
   {
    "duration": 1059,
    "start_time": "2022-04-18T07:50:29.782Z"
   },
   {
    "duration": 350,
    "start_time": "2022-04-18T07:50:30.843Z"
   },
   {
    "duration": 37,
    "start_time": "2022-04-18T07:50:31.195Z"
   },
   {
    "duration": 63,
    "start_time": "2022-04-18T07:50:31.233Z"
   },
   {
    "duration": 28,
    "start_time": "2022-04-18T07:50:31.298Z"
   },
   {
    "duration": 26,
    "start_time": "2022-04-18T07:50:31.328Z"
   },
   {
    "duration": 67,
    "start_time": "2022-04-18T07:50:31.356Z"
   },
   {
    "duration": 38,
    "start_time": "2022-04-18T07:50:31.426Z"
   },
   {
    "duration": 61,
    "start_time": "2022-04-18T07:50:31.466Z"
   },
   {
    "duration": 35,
    "start_time": "2022-04-18T07:50:31.529Z"
   },
   {
    "duration": 66,
    "start_time": "2022-04-18T07:50:31.566Z"
   },
   {
    "duration": 13,
    "start_time": "2022-04-18T07:50:31.634Z"
   },
   {
    "duration": 25,
    "start_time": "2022-04-18T07:50:31.648Z"
   },
   {
    "duration": 47,
    "start_time": "2022-04-18T07:50:31.674Z"
   },
   {
    "duration": 2183,
    "start_time": "2022-04-18T07:50:31.723Z"
   },
   {
    "duration": 18,
    "start_time": "2022-04-18T07:50:33.910Z"
   },
   {
    "duration": 27,
    "start_time": "2022-04-18T07:50:33.930Z"
   },
   {
    "duration": 3,
    "start_time": "2022-04-18T08:32:51.510Z"
   },
   {
    "duration": 15,
    "start_time": "2022-04-18T08:54:33.024Z"
   },
   {
    "duration": 9,
    "start_time": "2022-04-18T09:06:13.988Z"
   },
   {
    "duration": 13,
    "start_time": "2022-04-18T09:06:16.294Z"
   },
   {
    "duration": 16,
    "start_time": "2022-04-18T09:09:19.998Z"
   },
   {
    "duration": 17,
    "start_time": "2022-04-18T09:13:53.255Z"
   },
   {
    "duration": 15,
    "start_time": "2022-04-18T09:19:41.819Z"
   },
   {
    "duration": 18,
    "start_time": "2022-04-18T09:20:58.105Z"
   },
   {
    "duration": 3,
    "start_time": "2022-04-18T09:23:46.471Z"
   },
   {
    "duration": 3,
    "start_time": "2022-04-18T09:28:31.207Z"
   },
   {
    "duration": 79,
    "start_time": "2022-04-18T09:37:59.796Z"
   },
   {
    "duration": 135,
    "start_time": "2022-04-18T09:39:27.209Z"
   },
   {
    "duration": 27,
    "start_time": "2022-04-18T09:40:39.405Z"
   },
   {
    "duration": 50,
    "start_time": "2022-04-18T09:40:39.865Z"
   },
   {
    "duration": 61,
    "start_time": "2022-04-18T09:40:40.311Z"
   },
   {
    "duration": 6,
    "start_time": "2022-04-18T09:40:40.985Z"
   },
   {
    "duration": 5,
    "start_time": "2022-04-18T09:54:09.792Z"
   },
   {
    "duration": 7,
    "start_time": "2022-04-18T10:10:28.762Z"
   },
   {
    "duration": 6,
    "start_time": "2022-04-18T10:10:35.894Z"
   },
   {
    "duration": 458,
    "start_time": "2022-04-18T10:27:20.773Z"
   },
   {
    "duration": 412,
    "start_time": "2022-04-18T10:27:21.234Z"
   },
   {
    "duration": 13,
    "start_time": "2022-04-18T10:27:21.648Z"
   },
   {
    "duration": 35,
    "start_time": "2022-04-18T10:27:21.663Z"
   },
   {
    "duration": 21,
    "start_time": "2022-04-18T10:27:21.701Z"
   },
   {
    "duration": 24,
    "start_time": "2022-04-18T10:27:21.724Z"
   },
   {
    "duration": 10,
    "start_time": "2022-04-18T10:27:21.750Z"
   },
   {
    "duration": 23,
    "start_time": "2022-04-18T10:27:21.792Z"
   },
   {
    "duration": 14,
    "start_time": "2022-04-18T10:27:21.817Z"
   },
   {
    "duration": 20,
    "start_time": "2022-04-18T10:27:21.835Z"
   },
   {
    "duration": 36,
    "start_time": "2022-04-18T10:27:21.857Z"
   },
   {
    "duration": 14,
    "start_time": "2022-04-18T10:27:21.894Z"
   },
   {
    "duration": 8,
    "start_time": "2022-04-18T10:27:21.910Z"
   },
   {
    "duration": 13,
    "start_time": "2022-04-18T10:27:21.920Z"
   },
   {
    "duration": 17,
    "start_time": "2022-04-18T10:27:21.934Z"
   },
   {
    "duration": 42,
    "start_time": "2022-04-18T10:27:21.953Z"
   },
   {
    "duration": 41,
    "start_time": "2022-04-18T10:27:21.997Z"
   },
   {
    "duration": 13,
    "start_time": "2022-04-18T10:27:22.040Z"
   },
   {
    "duration": 82,
    "start_time": "2022-04-18T10:27:22.055Z"
   },
   {
    "duration": 14,
    "start_time": "2022-04-18T10:27:22.139Z"
   },
   {
    "duration": 21,
    "start_time": "2022-04-18T10:27:22.154Z"
   },
   {
    "duration": 33,
    "start_time": "2022-04-18T10:27:22.177Z"
   },
   {
    "duration": 11,
    "start_time": "2022-04-18T10:27:22.212Z"
   },
   {
    "duration": 40,
    "start_time": "2022-04-18T10:27:22.225Z"
   },
   {
    "duration": 28,
    "start_time": "2022-04-18T10:27:22.266Z"
   },
   {
    "duration": 29,
    "start_time": "2022-04-18T10:27:22.297Z"
   },
   {
    "duration": 19,
    "start_time": "2022-04-18T10:27:22.328Z"
   },
   {
    "duration": 52,
    "start_time": "2022-04-18T10:27:22.352Z"
   },
   {
    "duration": 10,
    "start_time": "2022-04-18T10:27:22.407Z"
   },
   {
    "duration": 22,
    "start_time": "2022-04-18T10:27:22.419Z"
   },
   {
    "duration": 155,
    "start_time": "2022-04-18T10:27:22.443Z"
   },
   {
    "duration": 0,
    "start_time": "2022-04-18T10:27:22.600Z"
   },
   {
    "duration": 1,
    "start_time": "2022-04-18T10:27:22.601Z"
   },
   {
    "duration": 0,
    "start_time": "2022-04-18T10:27:22.603Z"
   },
   {
    "duration": 0,
    "start_time": "2022-04-18T10:27:22.604Z"
   },
   {
    "duration": 0,
    "start_time": "2022-04-18T10:27:22.605Z"
   },
   {
    "duration": 0,
    "start_time": "2022-04-18T10:27:22.606Z"
   },
   {
    "duration": 0,
    "start_time": "2022-04-18T10:27:22.607Z"
   },
   {
    "duration": 0,
    "start_time": "2022-04-18T10:27:22.608Z"
   },
   {
    "duration": 0,
    "start_time": "2022-04-18T10:27:22.609Z"
   },
   {
    "duration": 0,
    "start_time": "2022-04-18T10:27:22.610Z"
   },
   {
    "duration": 0,
    "start_time": "2022-04-18T10:27:22.611Z"
   },
   {
    "duration": 0,
    "start_time": "2022-04-18T10:27:22.612Z"
   },
   {
    "duration": 0,
    "start_time": "2022-04-18T10:27:22.614Z"
   },
   {
    "duration": 7,
    "start_time": "2022-04-18T10:27:52.430Z"
   },
   {
    "duration": 22,
    "start_time": "2022-04-18T10:27:53.039Z"
   },
   {
    "duration": 10,
    "start_time": "2022-04-18T10:27:53.462Z"
   },
   {
    "duration": 38,
    "start_time": "2022-04-18T10:27:54.129Z"
   },
   {
    "duration": 6,
    "start_time": "2022-04-18T10:27:54.856Z"
   },
   {
    "duration": 8,
    "start_time": "2022-04-18T10:28:00.077Z"
   },
   {
    "duration": 7,
    "start_time": "2022-04-18T10:28:02.341Z"
   },
   {
    "duration": 5,
    "start_time": "2022-04-18T10:28:12.723Z"
   },
   {
    "duration": 39,
    "start_time": "2022-04-18T10:28:14.423Z"
   },
   {
    "duration": 25,
    "start_time": "2022-04-18T10:28:16.546Z"
   },
   {
    "duration": 111,
    "start_time": "2022-04-18T10:28:19.135Z"
   },
   {
    "duration": 14,
    "start_time": "2022-04-18T10:28:49.980Z"
   },
   {
    "duration": 28,
    "start_time": "2022-04-18T10:29:25.234Z"
   },
   {
    "duration": 52,
    "start_time": "2022-04-18T10:29:46.606Z"
   },
   {
    "duration": 46,
    "start_time": "2022-04-18T10:29:54.520Z"
   },
   {
    "duration": 37,
    "start_time": "2022-04-18T10:29:58.451Z"
   },
   {
    "duration": 36,
    "start_time": "2022-04-18T10:30:03.348Z"
   },
   {
    "duration": 60,
    "start_time": "2022-04-18T10:30:56.166Z"
   },
   {
    "duration": 186,
    "start_time": "2022-04-18T10:31:45.257Z"
   },
   {
    "duration": 28,
    "start_time": "2022-04-18T10:31:55.789Z"
   },
   {
    "duration": 4,
    "start_time": "2022-04-18T10:33:15.112Z"
   },
   {
    "duration": 20,
    "start_time": "2022-04-18T10:33:21.105Z"
   },
   {
    "duration": 25,
    "start_time": "2022-04-18T10:34:20.842Z"
   },
   {
    "duration": 0,
    "start_time": "2022-04-18T13:00:31.156Z"
   },
   {
    "duration": 0,
    "start_time": "2022-04-18T13:00:31.157Z"
   },
   {
    "duration": 0,
    "start_time": "2022-04-18T13:00:31.159Z"
   },
   {
    "duration": 0,
    "start_time": "2022-04-18T13:00:31.160Z"
   },
   {
    "duration": 0,
    "start_time": "2022-04-18T13:00:31.161Z"
   },
   {
    "duration": 0,
    "start_time": "2022-04-18T13:00:31.162Z"
   },
   {
    "duration": 0,
    "start_time": "2022-04-18T13:00:31.163Z"
   },
   {
    "duration": 0,
    "start_time": "2022-04-18T13:00:31.163Z"
   },
   {
    "duration": 0,
    "start_time": "2022-04-18T13:00:31.164Z"
   },
   {
    "duration": 0,
    "start_time": "2022-04-18T13:00:31.166Z"
   },
   {
    "duration": 0,
    "start_time": "2022-04-18T13:00:31.167Z"
   },
   {
    "duration": 0,
    "start_time": "2022-04-18T13:00:31.168Z"
   },
   {
    "duration": 0,
    "start_time": "2022-04-18T13:00:31.169Z"
   },
   {
    "duration": 0,
    "start_time": "2022-04-18T13:00:31.170Z"
   },
   {
    "duration": 0,
    "start_time": "2022-04-18T13:00:31.171Z"
   },
   {
    "duration": 0,
    "start_time": "2022-04-18T13:00:31.172Z"
   },
   {
    "duration": 0,
    "start_time": "2022-04-18T13:00:31.172Z"
   },
   {
    "duration": 0,
    "start_time": "2022-04-18T13:00:31.173Z"
   },
   {
    "duration": 0,
    "start_time": "2022-04-18T13:00:31.175Z"
   },
   {
    "duration": 0,
    "start_time": "2022-04-18T13:00:31.175Z"
   },
   {
    "duration": 0,
    "start_time": "2022-04-18T13:00:31.176Z"
   },
   {
    "duration": 0,
    "start_time": "2022-04-18T13:00:31.177Z"
   },
   {
    "duration": 0,
    "start_time": "2022-04-18T13:00:31.178Z"
   },
   {
    "duration": 0,
    "start_time": "2022-04-18T13:00:31.180Z"
   },
   {
    "duration": 47,
    "start_time": "2022-04-18T13:00:31.193Z"
   },
   {
    "duration": 0,
    "start_time": "2022-04-18T13:00:31.242Z"
   },
   {
    "duration": 0,
    "start_time": "2022-04-18T13:00:31.243Z"
   },
   {
    "duration": 0,
    "start_time": "2022-04-18T13:00:31.244Z"
   },
   {
    "duration": 0,
    "start_time": "2022-04-18T13:00:31.245Z"
   },
   {
    "duration": 0,
    "start_time": "2022-04-18T13:00:31.246Z"
   },
   {
    "duration": 0,
    "start_time": "2022-04-18T13:00:31.247Z"
   },
   {
    "duration": 0,
    "start_time": "2022-04-18T13:00:31.292Z"
   },
   {
    "duration": 0,
    "start_time": "2022-04-18T13:00:31.294Z"
   },
   {
    "duration": 0,
    "start_time": "2022-04-18T13:00:31.295Z"
   },
   {
    "duration": 0,
    "start_time": "2022-04-18T13:00:31.296Z"
   },
   {
    "duration": 0,
    "start_time": "2022-04-18T13:00:31.297Z"
   },
   {
    "duration": 0,
    "start_time": "2022-04-18T13:00:31.298Z"
   },
   {
    "duration": 0,
    "start_time": "2022-04-18T13:00:31.299Z"
   },
   {
    "duration": 0,
    "start_time": "2022-04-18T13:00:31.300Z"
   },
   {
    "duration": 0,
    "start_time": "2022-04-18T13:00:31.301Z"
   },
   {
    "duration": 0,
    "start_time": "2022-04-18T13:00:31.302Z"
   },
   {
    "duration": 0,
    "start_time": "2022-04-18T13:00:31.303Z"
   },
   {
    "duration": 0,
    "start_time": "2022-04-18T13:00:31.304Z"
   },
   {
    "duration": 0,
    "start_time": "2022-04-18T13:00:31.306Z"
   },
   {
    "duration": 451,
    "start_time": "2022-04-18T13:00:42.365Z"
   },
   {
    "duration": 368,
    "start_time": "2022-04-18T13:00:42.818Z"
   },
   {
    "duration": 11,
    "start_time": "2022-04-18T13:00:43.188Z"
   },
   {
    "duration": 27,
    "start_time": "2022-04-18T13:00:43.201Z"
   },
   {
    "duration": 21,
    "start_time": "2022-04-18T13:00:43.230Z"
   },
   {
    "duration": 43,
    "start_time": "2022-04-18T13:00:43.253Z"
   },
   {
    "duration": 10,
    "start_time": "2022-04-18T13:00:43.298Z"
   },
   {
    "duration": 18,
    "start_time": "2022-04-18T13:00:43.309Z"
   },
   {
    "duration": 10,
    "start_time": "2022-04-18T13:00:43.329Z"
   },
   {
    "duration": 14,
    "start_time": "2022-04-18T13:00:43.342Z"
   },
   {
    "duration": 5,
    "start_time": "2022-04-18T13:00:43.357Z"
   },
   {
    "duration": 39,
    "start_time": "2022-04-18T13:00:43.363Z"
   },
   {
    "duration": 9,
    "start_time": "2022-04-18T13:00:43.404Z"
   },
   {
    "duration": 15,
    "start_time": "2022-04-18T13:00:43.415Z"
   },
   {
    "duration": 13,
    "start_time": "2022-04-18T13:00:43.432Z"
   },
   {
    "duration": 11,
    "start_time": "2022-04-18T13:00:43.447Z"
   },
   {
    "duration": 47,
    "start_time": "2022-04-18T13:00:43.460Z"
   },
   {
    "duration": 13,
    "start_time": "2022-04-18T13:00:43.508Z"
   },
   {
    "duration": 72,
    "start_time": "2022-04-18T13:00:43.523Z"
   },
   {
    "duration": 10,
    "start_time": "2022-04-18T13:00:43.596Z"
   },
   {
    "duration": 16,
    "start_time": "2022-04-18T13:00:43.608Z"
   },
   {
    "duration": 19,
    "start_time": "2022-04-18T13:00:43.626Z"
   },
   {
    "duration": 11,
    "start_time": "2022-04-18T13:00:43.647Z"
   },
   {
    "duration": 62,
    "start_time": "2022-04-18T13:00:43.660Z"
   },
   {
    "duration": 6,
    "start_time": "2022-04-18T13:00:43.724Z"
   },
   {
    "duration": 14,
    "start_time": "2022-04-18T13:00:43.731Z"
   },
   {
    "duration": 13,
    "start_time": "2022-04-18T13:00:43.746Z"
   },
   {
    "duration": 61,
    "start_time": "2022-04-18T13:00:43.762Z"
   },
   {
    "duration": 9,
    "start_time": "2022-04-18T13:00:43.824Z"
   },
   {
    "duration": 14,
    "start_time": "2022-04-18T13:00:43.834Z"
   },
   {
    "duration": 6,
    "start_time": "2022-04-18T13:00:43.850Z"
   },
   {
    "duration": 47,
    "start_time": "2022-04-18T13:00:43.858Z"
   },
   {
    "duration": 8,
    "start_time": "2022-04-18T13:00:43.907Z"
   },
   {
    "duration": 25,
    "start_time": "2022-04-18T13:00:43.916Z"
   },
   {
    "duration": 5,
    "start_time": "2022-04-18T13:00:43.943Z"
   },
   {
    "duration": 9,
    "start_time": "2022-04-18T13:00:43.949Z"
   },
   {
    "duration": 34,
    "start_time": "2022-04-18T13:00:43.960Z"
   },
   {
    "duration": 6,
    "start_time": "2022-04-18T13:00:43.995Z"
   },
   {
    "duration": 42,
    "start_time": "2022-04-18T13:00:44.002Z"
   },
   {
    "duration": 49,
    "start_time": "2022-04-18T13:00:44.045Z"
   },
   {
    "duration": 33,
    "start_time": "2022-04-18T13:00:44.095Z"
   },
   {
    "duration": 24,
    "start_time": "2022-04-18T13:00:44.129Z"
   },
   {
    "duration": 81,
    "start_time": "2022-04-18T13:00:44.154Z"
   },
   {
    "duration": 29,
    "start_time": "2022-04-18T13:00:51.531Z"
   },
   {
    "duration": 23,
    "start_time": "2022-04-18T13:02:44.866Z"
   },
   {
    "duration": 12,
    "start_time": "2022-04-18T13:04:39.228Z"
   },
   {
    "duration": 14,
    "start_time": "2022-04-18T13:05:50.888Z"
   },
   {
    "duration": 2,
    "start_time": "2022-04-18T13:06:31.779Z"
   },
   {
    "duration": 381,
    "start_time": "2022-04-18T13:06:31.794Z"
   },
   {
    "duration": 10,
    "start_time": "2022-04-18T13:06:32.177Z"
   },
   {
    "duration": 65,
    "start_time": "2022-04-18T13:06:32.192Z"
   },
   {
    "duration": 33,
    "start_time": "2022-04-18T13:06:32.260Z"
   },
   {
    "duration": 37,
    "start_time": "2022-04-18T13:06:32.295Z"
   },
   {
    "duration": 12,
    "start_time": "2022-04-18T13:06:32.334Z"
   },
   {
    "duration": 20,
    "start_time": "2022-04-18T13:06:32.348Z"
   },
   {
    "duration": 17,
    "start_time": "2022-04-18T13:06:32.369Z"
   },
   {
    "duration": 19,
    "start_time": "2022-04-18T13:06:32.388Z"
   },
   {
    "duration": 8,
    "start_time": "2022-04-18T13:06:32.410Z"
   },
   {
    "duration": 22,
    "start_time": "2022-04-18T13:06:32.420Z"
   },
   {
    "duration": 18,
    "start_time": "2022-04-18T13:06:32.444Z"
   },
   {
    "duration": 18,
    "start_time": "2022-04-18T13:06:32.463Z"
   },
   {
    "duration": 14,
    "start_time": "2022-04-18T13:06:32.483Z"
   },
   {
    "duration": 20,
    "start_time": "2022-04-18T13:06:32.499Z"
   },
   {
    "duration": 29,
    "start_time": "2022-04-18T13:06:32.521Z"
   },
   {
    "duration": 15,
    "start_time": "2022-04-18T13:06:32.551Z"
   },
   {
    "duration": 70,
    "start_time": "2022-04-18T13:06:32.567Z"
   },
   {
    "duration": 9,
    "start_time": "2022-04-18T13:06:32.639Z"
   },
   {
    "duration": 15,
    "start_time": "2022-04-18T13:06:32.649Z"
   },
   {
    "duration": 35,
    "start_time": "2022-04-18T13:06:32.665Z"
   },
   {
    "duration": 10,
    "start_time": "2022-04-18T13:06:32.702Z"
   },
   {
    "duration": 43,
    "start_time": "2022-04-18T13:06:32.713Z"
   },
   {
    "duration": 6,
    "start_time": "2022-04-18T13:06:32.758Z"
   },
   {
    "duration": 31,
    "start_time": "2022-04-18T13:06:32.765Z"
   },
   {
    "duration": 13,
    "start_time": "2022-04-18T13:06:32.797Z"
   },
   {
    "duration": 84,
    "start_time": "2022-04-18T13:06:32.812Z"
   },
   {
    "duration": 10,
    "start_time": "2022-04-18T13:06:32.901Z"
   },
   {
    "duration": 17,
    "start_time": "2022-04-18T13:06:32.913Z"
   },
   {
    "duration": 6,
    "start_time": "2022-04-18T13:06:32.931Z"
   },
   {
    "duration": 18,
    "start_time": "2022-04-18T13:06:32.939Z"
   },
   {
    "duration": 9,
    "start_time": "2022-04-18T13:06:32.959Z"
   },
   {
    "duration": 24,
    "start_time": "2022-04-18T13:06:32.993Z"
   },
   {
    "duration": 6,
    "start_time": "2022-04-18T13:06:33.018Z"
   },
   {
    "duration": 10,
    "start_time": "2022-04-18T13:06:33.025Z"
   },
   {
    "duration": 9,
    "start_time": "2022-04-18T13:06:33.036Z"
   },
   {
    "duration": 8,
    "start_time": "2022-04-18T13:06:33.047Z"
   },
   {
    "duration": 65,
    "start_time": "2022-04-18T13:06:33.056Z"
   },
   {
    "duration": 24,
    "start_time": "2022-04-18T13:06:33.122Z"
   },
   {
    "duration": 47,
    "start_time": "2022-04-18T13:06:33.148Z"
   },
   {
    "duration": 22,
    "start_time": "2022-04-18T13:06:33.197Z"
   },
   {
    "duration": 22,
    "start_time": "2022-04-18T13:06:33.221Z"
   },
   {
    "duration": 51,
    "start_time": "2022-04-18T13:06:33.244Z"
   },
   {
    "duration": 13,
    "start_time": "2022-04-18T13:06:33.297Z"
   },
   {
    "duration": 138,
    "start_time": "2022-04-18T13:07:08.365Z"
   },
   {
    "duration": 13,
    "start_time": "2022-04-18T13:07:18.533Z"
   },
   {
    "duration": 4,
    "start_time": "2022-04-18T13:09:24.692Z"
   },
   {
    "duration": 14,
    "start_time": "2022-04-18T13:11:35.853Z"
   },
   {
    "duration": 15,
    "start_time": "2022-04-18T13:12:04.399Z"
   },
   {
    "duration": 15,
    "start_time": "2022-04-18T13:12:40.371Z"
   },
   {
    "duration": 5,
    "start_time": "2022-04-18T13:12:44.902Z"
   },
   {
    "duration": 16,
    "start_time": "2022-04-18T13:12:50.332Z"
   },
   {
    "duration": 8,
    "start_time": "2022-04-18T13:14:36.754Z"
   },
   {
    "duration": 18,
    "start_time": "2022-04-18T13:16:41.133Z"
   },
   {
    "duration": 14,
    "start_time": "2022-04-18T13:19:19.703Z"
   },
   {
    "duration": 42,
    "start_time": "2022-04-18T13:21:44.744Z"
   },
   {
    "duration": 14,
    "start_time": "2022-04-18T13:25:16.146Z"
   },
   {
    "duration": 5,
    "start_time": "2022-04-18T13:25:48.228Z"
   },
   {
    "duration": 18,
    "start_time": "2022-04-18T13:25:53.702Z"
   },
   {
    "duration": 4,
    "start_time": "2022-04-18T13:27:55.943Z"
   },
   {
    "duration": 3,
    "start_time": "2022-04-18T13:29:06.326Z"
   },
   {
    "duration": 388,
    "start_time": "2022-04-18T13:29:06.333Z"
   },
   {
    "duration": 10,
    "start_time": "2022-04-18T13:29:06.723Z"
   },
   {
    "duration": 27,
    "start_time": "2022-04-18T13:29:06.735Z"
   },
   {
    "duration": 28,
    "start_time": "2022-04-18T13:29:06.764Z"
   },
   {
    "duration": 23,
    "start_time": "2022-04-18T13:29:06.794Z"
   },
   {
    "duration": 10,
    "start_time": "2022-04-18T13:29:06.818Z"
   },
   {
    "duration": 8,
    "start_time": "2022-04-18T13:29:06.829Z"
   },
   {
    "duration": 13,
    "start_time": "2022-04-18T13:29:06.838Z"
   },
   {
    "duration": 40,
    "start_time": "2022-04-18T13:29:06.853Z"
   },
   {
    "duration": 4,
    "start_time": "2022-04-18T13:29:06.896Z"
   },
   {
    "duration": 14,
    "start_time": "2022-04-18T13:29:06.902Z"
   },
   {
    "duration": 4,
    "start_time": "2022-04-18T13:29:06.917Z"
   },
   {
    "duration": 9,
    "start_time": "2022-04-18T13:29:06.923Z"
   },
   {
    "duration": 13,
    "start_time": "2022-04-18T13:29:06.934Z"
   },
   {
    "duration": 14,
    "start_time": "2022-04-18T13:29:06.948Z"
   },
   {
    "duration": 26,
    "start_time": "2022-04-18T13:29:06.992Z"
   },
   {
    "duration": 13,
    "start_time": "2022-04-18T13:29:07.019Z"
   },
   {
    "duration": 70,
    "start_time": "2022-04-18T13:29:07.034Z"
   },
   {
    "duration": 8,
    "start_time": "2022-04-18T13:29:07.106Z"
   },
   {
    "duration": 14,
    "start_time": "2022-04-18T13:29:07.115Z"
   },
   {
    "duration": 19,
    "start_time": "2022-04-18T13:29:07.131Z"
   },
   {
    "duration": 10,
    "start_time": "2022-04-18T13:29:07.151Z"
   },
   {
    "duration": 60,
    "start_time": "2022-04-18T13:29:07.163Z"
   },
   {
    "duration": 6,
    "start_time": "2022-04-18T13:29:07.225Z"
   },
   {
    "duration": 12,
    "start_time": "2022-04-18T13:29:07.233Z"
   },
   {
    "duration": 13,
    "start_time": "2022-04-18T13:29:07.246Z"
   },
   {
    "duration": 65,
    "start_time": "2022-04-18T13:29:07.260Z"
   },
   {
    "duration": 8,
    "start_time": "2022-04-18T13:29:07.329Z"
   },
   {
    "duration": 17,
    "start_time": "2022-04-18T13:29:07.339Z"
   },
   {
    "duration": 6,
    "start_time": "2022-04-18T13:29:07.358Z"
   },
   {
    "duration": 48,
    "start_time": "2022-04-18T13:29:07.365Z"
   },
   {
    "duration": 12,
    "start_time": "2022-04-18T13:29:07.415Z"
   },
   {
    "duration": 27,
    "start_time": "2022-04-18T13:29:07.428Z"
   },
   {
    "duration": 5,
    "start_time": "2022-04-18T13:29:07.458Z"
   },
   {
    "duration": 9,
    "start_time": "2022-04-18T13:29:07.494Z"
   },
   {
    "duration": 8,
    "start_time": "2022-04-18T13:29:07.505Z"
   },
   {
    "duration": 6,
    "start_time": "2022-04-18T13:29:07.515Z"
   },
   {
    "duration": 71,
    "start_time": "2022-04-18T13:29:07.523Z"
   },
   {
    "duration": 25,
    "start_time": "2022-04-18T13:29:07.596Z"
   },
   {
    "duration": 30,
    "start_time": "2022-04-18T13:29:07.623Z"
   },
   {
    "duration": 50,
    "start_time": "2022-04-18T13:29:07.655Z"
   },
   {
    "duration": 24,
    "start_time": "2022-04-18T13:29:07.707Z"
   },
   {
    "duration": 27,
    "start_time": "2022-04-18T13:29:07.733Z"
   },
   {
    "duration": 46,
    "start_time": "2022-04-18T13:29:07.762Z"
   },
   {
    "duration": 14,
    "start_time": "2022-04-18T13:29:07.810Z"
   },
   {
    "duration": 15,
    "start_time": "2022-04-18T13:29:07.825Z"
   },
   {
    "duration": 5,
    "start_time": "2022-04-18T13:29:21.210Z"
   },
   {
    "duration": 4,
    "start_time": "2022-04-18T13:29:55.792Z"
   },
   {
    "duration": 1858,
    "start_time": "2022-04-18T13:29:58.711Z"
   },
   {
    "duration": 3,
    "start_time": "2022-04-18T13:31:13.464Z"
   },
   {
    "duration": 382,
    "start_time": "2022-04-18T13:31:13.476Z"
   },
   {
    "duration": 11,
    "start_time": "2022-04-18T13:31:13.860Z"
   },
   {
    "duration": 33,
    "start_time": "2022-04-18T13:31:13.872Z"
   },
   {
    "duration": 20,
    "start_time": "2022-04-18T13:31:13.907Z"
   },
   {
    "duration": 21,
    "start_time": "2022-04-18T13:31:13.929Z"
   },
   {
    "duration": 10,
    "start_time": "2022-04-18T13:31:13.952Z"
   },
   {
    "duration": 31,
    "start_time": "2022-04-18T13:31:13.963Z"
   },
   {
    "duration": 11,
    "start_time": "2022-04-18T13:31:13.995Z"
   },
   {
    "duration": 11,
    "start_time": "2022-04-18T13:31:14.008Z"
   },
   {
    "duration": 6,
    "start_time": "2022-04-18T13:31:14.022Z"
   },
   {
    "duration": 13,
    "start_time": "2022-04-18T13:31:14.030Z"
   },
   {
    "duration": 5,
    "start_time": "2022-04-18T13:31:14.045Z"
   },
   {
    "duration": 48,
    "start_time": "2022-04-18T13:31:14.052Z"
   },
   {
    "duration": 12,
    "start_time": "2022-04-18T13:31:14.103Z"
   },
   {
    "duration": 19,
    "start_time": "2022-04-18T13:31:14.117Z"
   },
   {
    "duration": 29,
    "start_time": "2022-04-18T13:31:14.138Z"
   },
   {
    "duration": 15,
    "start_time": "2022-04-18T13:31:14.193Z"
   },
   {
    "duration": 83,
    "start_time": "2022-04-18T13:31:14.210Z"
   },
   {
    "duration": 9,
    "start_time": "2022-04-18T13:31:14.294Z"
   },
   {
    "duration": 13,
    "start_time": "2022-04-18T13:31:14.305Z"
   },
   {
    "duration": 19,
    "start_time": "2022-04-18T13:31:14.320Z"
   },
   {
    "duration": 10,
    "start_time": "2022-04-18T13:31:14.341Z"
   },
   {
    "duration": 64,
    "start_time": "2022-04-18T13:31:14.353Z"
   },
   {
    "duration": 8,
    "start_time": "2022-04-18T13:31:14.419Z"
   },
   {
    "duration": 13,
    "start_time": "2022-04-18T13:31:14.429Z"
   },
   {
    "duration": 13,
    "start_time": "2022-04-18T13:31:14.443Z"
   },
   {
    "duration": 69,
    "start_time": "2022-04-18T13:31:14.458Z"
   },
   {
    "duration": 8,
    "start_time": "2022-04-18T13:31:14.531Z"
   },
   {
    "duration": 13,
    "start_time": "2022-04-18T13:31:14.541Z"
   },
   {
    "duration": 6,
    "start_time": "2022-04-18T13:31:14.556Z"
   },
   {
    "duration": 39,
    "start_time": "2022-04-18T13:31:14.564Z"
   },
   {
    "duration": 9,
    "start_time": "2022-04-18T13:31:14.605Z"
   },
   {
    "duration": 24,
    "start_time": "2022-04-18T13:31:14.616Z"
   },
   {
    "duration": 5,
    "start_time": "2022-04-18T13:31:14.642Z"
   },
   {
    "duration": 8,
    "start_time": "2022-04-18T13:31:14.648Z"
   },
   {
    "duration": 6,
    "start_time": "2022-04-18T13:31:14.693Z"
   },
   {
    "duration": 9,
    "start_time": "2022-04-18T13:31:14.701Z"
   },
   {
    "duration": 41,
    "start_time": "2022-04-18T13:31:14.711Z"
   },
   {
    "duration": 44,
    "start_time": "2022-04-18T13:31:14.753Z"
   },
   {
    "duration": 32,
    "start_time": "2022-04-18T13:31:14.799Z"
   },
   {
    "duration": 20,
    "start_time": "2022-04-18T13:31:14.833Z"
   },
   {
    "duration": 52,
    "start_time": "2022-04-18T13:31:14.855Z"
   },
   {
    "duration": 27,
    "start_time": "2022-04-18T13:31:14.909Z"
   },
   {
    "duration": 15,
    "start_time": "2022-04-18T13:31:14.938Z"
   },
   {
    "duration": 14,
    "start_time": "2022-04-18T13:31:14.954Z"
   },
   {
    "duration": 36,
    "start_time": "2022-04-18T13:31:14.969Z"
   },
   {
    "duration": 7,
    "start_time": "2022-04-18T13:31:19.457Z"
   },
   {
    "duration": 15,
    "start_time": "2022-04-18T13:31:38.371Z"
   },
   {
    "duration": 5,
    "start_time": "2022-04-18T13:33:00.687Z"
   },
   {
    "duration": 1780,
    "start_time": "2022-04-18T13:35:01.417Z"
   },
   {
    "duration": 1774,
    "start_time": "2022-04-18T13:35:03.634Z"
   },
   {
    "duration": 6,
    "start_time": "2022-04-18T13:36:53.402Z"
   },
   {
    "duration": 921,
    "start_time": "2022-04-18T13:39:15.184Z"
   },
   {
    "duration": 8,
    "start_time": "2022-04-18T13:46:48.149Z"
   },
   {
    "duration": 232,
    "start_time": "2022-04-18T13:47:09.074Z"
   },
   {
    "duration": 254,
    "start_time": "2022-04-18T13:47:25.393Z"
   },
   {
    "duration": 236,
    "start_time": "2022-04-18T13:47:57.844Z"
   },
   {
    "duration": 347,
    "start_time": "2022-04-18T13:48:22.761Z"
   },
   {
    "duration": 318,
    "start_time": "2022-04-18T13:48:31.515Z"
   },
   {
    "duration": 247,
    "start_time": "2022-04-18T13:49:00.795Z"
   },
   {
    "duration": 276,
    "start_time": "2022-04-18T13:49:42.999Z"
   },
   {
    "duration": 286,
    "start_time": "2022-04-18T13:49:54.379Z"
   },
   {
    "duration": 240,
    "start_time": "2022-04-18T13:51:07.693Z"
   },
   {
    "duration": 410,
    "start_time": "2022-04-18T13:51:41.885Z"
   },
   {
    "duration": 557,
    "start_time": "2022-04-18T13:52:35.799Z"
   },
   {
    "duration": 269,
    "start_time": "2022-04-18T13:52:51.789Z"
   },
   {
    "duration": 19,
    "start_time": "2022-04-18T13:53:35.093Z"
   },
   {
    "duration": 278,
    "start_time": "2022-04-18T13:54:08.467Z"
   },
   {
    "duration": 15,
    "start_time": "2022-04-18T13:55:08.414Z"
   },
   {
    "duration": 326,
    "start_time": "2022-04-18T13:58:10.287Z"
   },
   {
    "duration": 319,
    "start_time": "2022-04-18T13:58:16.713Z"
   },
   {
    "duration": 1165,
    "start_time": "2022-04-18T13:58:25.056Z"
   },
   {
    "duration": 186,
    "start_time": "2022-04-18T13:58:31.187Z"
   },
   {
    "duration": 310,
    "start_time": "2022-04-18T13:58:48.175Z"
   },
   {
    "duration": 226,
    "start_time": "2022-04-18T14:02:58.069Z"
   },
   {
    "duration": 249,
    "start_time": "2022-04-18T14:03:12.072Z"
   },
   {
    "duration": 220,
    "start_time": "2022-04-18T14:03:20.320Z"
   },
   {
    "duration": 221,
    "start_time": "2022-04-18T14:03:32.218Z"
   },
   {
    "duration": 364,
    "start_time": "2022-04-18T14:10:50.870Z"
   },
   {
    "duration": 8,
    "start_time": "2022-04-18T14:14:05.371Z"
   },
   {
    "duration": 10,
    "start_time": "2022-04-18T14:16:35.042Z"
   },
   {
    "duration": 20,
    "start_time": "2022-04-18T14:16:42.645Z"
   },
   {
    "duration": 132,
    "start_time": "2022-04-18T14:17:27.485Z"
   },
   {
    "duration": 338,
    "start_time": "2022-04-18T14:17:39.668Z"
   },
   {
    "duration": 1682,
    "start_time": "2022-04-18T14:19:36.555Z"
   },
   {
    "duration": 425,
    "start_time": "2022-04-18T14:19:52.641Z"
   },
   {
    "duration": 387,
    "start_time": "2022-04-18T14:20:07.650Z"
   },
   {
    "duration": 12,
    "start_time": "2022-04-18T14:24:00.850Z"
   },
   {
    "duration": 11,
    "start_time": "2022-04-18T14:31:57.362Z"
   },
   {
    "duration": 145,
    "start_time": "2022-04-18T14:32:23.096Z"
   },
   {
    "duration": 36446,
    "start_time": "2022-04-18T14:33:09.024Z"
   },
   {
    "duration": 5701,
    "start_time": "2022-04-18T14:36:04.552Z"
   },
   {
    "duration": 12,
    "start_time": "2022-04-18T14:37:06.889Z"
   },
   {
    "duration": 9,
    "start_time": "2022-04-18T14:44:29.918Z"
   },
   {
    "duration": 20,
    "start_time": "2022-04-18T14:45:03.428Z"
   },
   {
    "duration": 14,
    "start_time": "2022-04-18T14:45:19.924Z"
   },
   {
    "duration": 2708,
    "start_time": "2022-04-18T14:48:04.084Z"
   },
   {
    "duration": 2725,
    "start_time": "2022-04-18T14:48:28.784Z"
   },
   {
    "duration": 8,
    "start_time": "2022-04-18T14:49:39.345Z"
   },
   {
    "duration": 4614,
    "start_time": "2022-04-18T14:50:22.057Z"
   },
   {
    "duration": 8639,
    "start_time": "2022-04-18T14:50:46.126Z"
   },
   {
    "duration": 7649,
    "start_time": "2022-04-18T14:51:06.228Z"
   },
   {
    "duration": 6528,
    "start_time": "2022-04-18T14:51:56.710Z"
   },
   {
    "duration": 6145,
    "start_time": "2022-04-18T14:52:17.886Z"
   },
   {
    "duration": 2086,
    "start_time": "2022-04-18T14:52:26.572Z"
   },
   {
    "duration": 2026,
    "start_time": "2022-04-18T14:53:27.593Z"
   },
   {
    "duration": 3021,
    "start_time": "2022-04-18T14:54:18.040Z"
   },
   {
    "duration": 9,
    "start_time": "2022-04-18T15:01:03.861Z"
   },
   {
    "duration": 1655,
    "start_time": "2022-04-18T15:01:33.973Z"
   },
   {
    "duration": 13,
    "start_time": "2022-04-18T15:02:15.842Z"
   },
   {
    "duration": 3,
    "start_time": "2022-04-18T15:03:31.157Z"
   },
   {
    "duration": 446,
    "start_time": "2022-04-18T15:03:31.171Z"
   },
   {
    "duration": 12,
    "start_time": "2022-04-18T15:03:31.620Z"
   },
   {
    "duration": 36,
    "start_time": "2022-04-18T15:03:31.635Z"
   },
   {
    "duration": 35,
    "start_time": "2022-04-18T15:03:31.674Z"
   },
   {
    "duration": 32,
    "start_time": "2022-04-18T15:03:31.712Z"
   },
   {
    "duration": 11,
    "start_time": "2022-04-18T15:03:31.746Z"
   },
   {
    "duration": 12,
    "start_time": "2022-04-18T15:03:31.759Z"
   },
   {
    "duration": 32,
    "start_time": "2022-04-18T15:03:31.773Z"
   },
   {
    "duration": 20,
    "start_time": "2022-04-18T15:03:31.807Z"
   },
   {
    "duration": 8,
    "start_time": "2022-04-18T15:03:31.830Z"
   },
   {
    "duration": 16,
    "start_time": "2022-04-18T15:03:31.840Z"
   },
   {
    "duration": 4,
    "start_time": "2022-04-18T15:03:31.858Z"
   },
   {
    "duration": 10,
    "start_time": "2022-04-18T15:03:31.864Z"
   },
   {
    "duration": 31,
    "start_time": "2022-04-18T15:03:31.876Z"
   },
   {
    "duration": 15,
    "start_time": "2022-04-18T15:03:31.909Z"
   },
   {
    "duration": 37,
    "start_time": "2022-04-18T15:03:31.926Z"
   },
   {
    "duration": 14,
    "start_time": "2022-04-18T15:03:31.965Z"
   },
   {
    "duration": 73,
    "start_time": "2022-04-18T15:03:31.980Z"
   },
   {
    "duration": 9,
    "start_time": "2022-04-18T15:03:32.054Z"
   },
   {
    "duration": 35,
    "start_time": "2022-04-18T15:03:32.065Z"
   },
   {
    "duration": 22,
    "start_time": "2022-04-18T15:03:32.102Z"
   },
   {
    "duration": 11,
    "start_time": "2022-04-18T15:03:32.125Z"
   },
   {
    "duration": 56,
    "start_time": "2022-04-18T15:03:32.138Z"
   },
   {
    "duration": 8,
    "start_time": "2022-04-18T15:03:32.197Z"
   },
   {
    "duration": 21,
    "start_time": "2022-04-18T15:03:32.207Z"
   },
   {
    "duration": 31,
    "start_time": "2022-04-18T15:03:32.230Z"
   },
   {
    "duration": 48,
    "start_time": "2022-04-18T15:03:32.263Z"
   },
   {
    "duration": 8,
    "start_time": "2022-04-18T15:03:32.315Z"
   },
   {
    "duration": 13,
    "start_time": "2022-04-18T15:03:32.325Z"
   },
   {
    "duration": 7,
    "start_time": "2022-04-18T15:03:32.340Z"
   },
   {
    "duration": 21,
    "start_time": "2022-04-18T15:03:32.348Z"
   },
   {
    "duration": 15,
    "start_time": "2022-04-18T15:03:32.393Z"
   },
   {
    "duration": 24,
    "start_time": "2022-04-18T15:03:32.410Z"
   },
   {
    "duration": 7,
    "start_time": "2022-04-18T15:03:32.436Z"
   },
   {
    "duration": 10,
    "start_time": "2022-04-18T15:03:32.445Z"
   },
   {
    "duration": 44,
    "start_time": "2022-04-18T15:03:32.457Z"
   },
   {
    "duration": 13,
    "start_time": "2022-04-18T15:03:32.504Z"
   },
   {
    "duration": 41,
    "start_time": "2022-04-18T15:03:32.518Z"
   },
   {
    "duration": 41,
    "start_time": "2022-04-18T15:03:32.561Z"
   },
   {
    "duration": 30,
    "start_time": "2022-04-18T15:03:32.604Z"
   },
   {
    "duration": 21,
    "start_time": "2022-04-18T15:03:32.637Z"
   },
   {
    "duration": 43,
    "start_time": "2022-04-18T15:03:32.660Z"
   },
   {
    "duration": 28,
    "start_time": "2022-04-18T15:03:32.705Z"
   },
   {
    "duration": 17,
    "start_time": "2022-04-18T15:03:32.735Z"
   },
   {
    "duration": 19,
    "start_time": "2022-04-18T15:03:32.753Z"
   },
   {
    "duration": 35,
    "start_time": "2022-04-18T15:03:32.774Z"
   },
   {
    "duration": 15,
    "start_time": "2022-04-18T15:03:32.811Z"
   },
   {
    "duration": 1714,
    "start_time": "2022-04-18T15:03:32.827Z"
   },
   {
    "duration": 11,
    "start_time": "2022-04-18T15:03:34.542Z"
   },
   {
    "duration": 4,
    "start_time": "2022-04-18T15:03:48.038Z"
   },
   {
    "duration": 61,
    "start_time": "2022-04-18T15:03:55.256Z"
   },
   {
    "duration": 69,
    "start_time": "2022-04-19T08:00:49.012Z"
   },
   {
    "duration": 523,
    "start_time": "2022-04-19T08:01:09.933Z"
   },
   {
    "duration": 594,
    "start_time": "2022-04-19T08:01:10.459Z"
   },
   {
    "duration": 17,
    "start_time": "2022-04-19T08:01:11.056Z"
   },
   {
    "duration": 38,
    "start_time": "2022-04-19T08:01:11.076Z"
   },
   {
    "duration": 29,
    "start_time": "2022-04-19T08:01:11.116Z"
   },
   {
    "duration": 60,
    "start_time": "2022-04-19T08:01:11.147Z"
   },
   {
    "duration": 15,
    "start_time": "2022-04-19T08:01:11.211Z"
   },
   {
    "duration": 25,
    "start_time": "2022-04-19T08:01:11.229Z"
   },
   {
    "duration": 49,
    "start_time": "2022-04-19T08:01:11.256Z"
   },
   {
    "duration": 23,
    "start_time": "2022-04-19T08:01:11.311Z"
   },
   {
    "duration": 6,
    "start_time": "2022-04-19T08:01:11.336Z"
   },
   {
    "duration": 50,
    "start_time": "2022-04-19T08:01:11.345Z"
   },
   {
    "duration": 23,
    "start_time": "2022-04-19T08:01:11.397Z"
   },
   {
    "duration": 20,
    "start_time": "2022-04-19T08:01:11.422Z"
   },
   {
    "duration": 18,
    "start_time": "2022-04-19T08:01:11.445Z"
   },
   {
    "duration": 38,
    "start_time": "2022-04-19T08:01:11.465Z"
   },
   {
    "duration": 44,
    "start_time": "2022-04-19T08:01:11.506Z"
   },
   {
    "duration": 18,
    "start_time": "2022-04-19T08:01:11.552Z"
   },
   {
    "duration": 100,
    "start_time": "2022-04-19T08:01:11.572Z"
   },
   {
    "duration": 24,
    "start_time": "2022-04-19T08:01:11.674Z"
   },
   {
    "duration": 22,
    "start_time": "2022-04-19T08:01:11.701Z"
   },
   {
    "duration": 28,
    "start_time": "2022-04-19T08:01:11.726Z"
   },
   {
    "duration": 51,
    "start_time": "2022-04-19T08:01:11.756Z"
   },
   {
    "duration": 48,
    "start_time": "2022-04-19T08:01:11.809Z"
   },
   {
    "duration": 42,
    "start_time": "2022-04-19T08:01:11.859Z"
   },
   {
    "duration": 31,
    "start_time": "2022-04-19T08:01:11.904Z"
   },
   {
    "duration": 18,
    "start_time": "2022-04-19T08:01:11.938Z"
   },
   {
    "duration": 86,
    "start_time": "2022-04-19T08:01:11.962Z"
   },
   {
    "duration": 11,
    "start_time": "2022-04-19T08:01:12.051Z"
   },
   {
    "duration": 47,
    "start_time": "2022-04-19T08:01:12.065Z"
   },
   {
    "duration": 12,
    "start_time": "2022-04-19T08:01:12.114Z"
   },
   {
    "duration": 31,
    "start_time": "2022-04-19T08:01:12.128Z"
   },
   {
    "duration": 48,
    "start_time": "2022-04-19T08:01:12.162Z"
   },
   {
    "duration": 48,
    "start_time": "2022-04-19T08:01:12.213Z"
   },
   {
    "duration": 31,
    "start_time": "2022-04-19T08:01:12.263Z"
   },
   {
    "duration": 26,
    "start_time": "2022-04-19T08:01:12.297Z"
   },
   {
    "duration": 9,
    "start_time": "2022-04-19T08:01:12.325Z"
   },
   {
    "duration": 11,
    "start_time": "2022-04-19T08:01:12.336Z"
   },
   {
    "duration": 88,
    "start_time": "2022-04-19T08:01:12.349Z"
   },
   {
    "duration": 32,
    "start_time": "2022-04-19T08:01:12.440Z"
   },
   {
    "duration": 48,
    "start_time": "2022-04-19T08:01:12.494Z"
   },
   {
    "duration": 52,
    "start_time": "2022-04-19T08:01:12.545Z"
   },
   {
    "duration": 36,
    "start_time": "2022-04-19T08:01:12.601Z"
   },
   {
    "duration": 107,
    "start_time": "2022-04-19T08:01:12.639Z"
   },
   {
    "duration": 23,
    "start_time": "2022-04-19T08:01:12.748Z"
   },
   {
    "duration": 39,
    "start_time": "2022-04-19T08:01:12.773Z"
   },
   {
    "duration": 20,
    "start_time": "2022-04-19T08:01:12.815Z"
   },
   {
    "duration": 15,
    "start_time": "2022-04-19T08:01:12.837Z"
   },
   {
    "duration": 2719,
    "start_time": "2022-04-19T08:01:12.855Z"
   },
   {
    "duration": 16,
    "start_time": "2022-04-19T08:01:15.577Z"
   },
   {
    "duration": 119,
    "start_time": "2022-04-19T08:01:15.596Z"
   },
   {
    "duration": 23,
    "start_time": "2022-04-19T08:01:15.718Z"
   },
   {
    "duration": 232,
    "start_time": "2022-04-19T08:01:15.743Z"
   },
   {
    "duration": 0,
    "start_time": "2022-04-19T08:01:15.977Z"
   },
   {
    "duration": 0,
    "start_time": "2022-04-19T08:01:15.978Z"
   },
   {
    "duration": 0,
    "start_time": "2022-04-19T08:01:15.980Z"
   },
   {
    "duration": 0,
    "start_time": "2022-04-19T08:01:15.981Z"
   },
   {
    "duration": 203,
    "start_time": "2022-04-19T08:13:19.403Z"
   },
   {
    "duration": 6,
    "start_time": "2022-04-19T08:13:30.630Z"
   },
   {
    "duration": 115,
    "start_time": "2022-04-19T08:14:05.051Z"
   },
   {
    "duration": 7,
    "start_time": "2022-04-19T08:15:17.900Z"
   },
   {
    "duration": 18,
    "start_time": "2022-04-19T08:15:19.572Z"
   },
   {
    "duration": 199,
    "start_time": "2022-04-19T08:18:17.324Z"
   },
   {
    "duration": 4,
    "start_time": "2022-04-19T08:18:24.608Z"
   },
   {
    "duration": 17,
    "start_time": "2022-04-19T08:18:26.315Z"
   },
   {
    "duration": 5,
    "start_time": "2022-04-19T08:18:38.846Z"
   },
   {
    "duration": 10,
    "start_time": "2022-04-19T08:18:39.639Z"
   },
   {
    "duration": 5,
    "start_time": "2022-04-19T08:21:13.812Z"
   },
   {
    "duration": 13,
    "start_time": "2022-04-19T08:21:16.009Z"
   },
   {
    "duration": 5,
    "start_time": "2022-04-19T08:22:48.481Z"
   },
   {
    "duration": 13,
    "start_time": "2022-04-19T08:22:54.186Z"
   },
   {
    "duration": 4,
    "start_time": "2022-04-19T08:24:54.173Z"
   },
   {
    "duration": 11,
    "start_time": "2022-04-19T08:24:55.116Z"
   },
   {
    "duration": 5,
    "start_time": "2022-04-19T08:25:13.521Z"
   },
   {
    "duration": 11,
    "start_time": "2022-04-19T08:25:15.426Z"
   },
   {
    "duration": 5,
    "start_time": "2022-04-19T08:25:58.348Z"
   },
   {
    "duration": 23,
    "start_time": "2022-04-19T08:25:58.355Z"
   },
   {
    "duration": 5,
    "start_time": "2022-04-19T08:27:10.272Z"
   },
   {
    "duration": 11,
    "start_time": "2022-04-19T08:27:11.082Z"
   },
   {
    "duration": 5,
    "start_time": "2022-04-19T08:27:38.315Z"
   },
   {
    "duration": 10,
    "start_time": "2022-04-19T08:27:39.442Z"
   },
   {
    "duration": 200,
    "start_time": "2022-04-19T08:30:03.532Z"
   },
   {
    "duration": 203,
    "start_time": "2022-04-19T08:31:09.936Z"
   },
   {
    "duration": 4,
    "start_time": "2022-04-19T08:31:20.781Z"
   },
   {
    "duration": 9,
    "start_time": "2022-04-19T08:31:22.486Z"
   },
   {
    "duration": 8,
    "start_time": "2022-04-19T08:31:33.217Z"
   },
   {
    "duration": 9,
    "start_time": "2022-04-19T08:32:21.927Z"
   },
   {
    "duration": 239,
    "start_time": "2022-04-19T08:40:32.793Z"
   },
   {
    "duration": 6,
    "start_time": "2022-04-19T08:40:46.734Z"
   },
   {
    "duration": 18,
    "start_time": "2022-04-19T08:40:49.005Z"
   },
   {
    "duration": 6,
    "start_time": "2022-04-19T09:03:49.553Z"
   },
   {
    "duration": 17,
    "start_time": "2022-04-19T09:03:52.166Z"
   },
   {
    "duration": 6,
    "start_time": "2022-04-19T09:06:18.219Z"
   },
   {
    "duration": 18,
    "start_time": "2022-04-19T09:06:19.778Z"
   },
   {
    "duration": 6,
    "start_time": "2022-04-19T09:08:23.171Z"
   },
   {
    "duration": 11,
    "start_time": "2022-04-19T09:08:24.099Z"
   },
   {
    "duration": 6,
    "start_time": "2022-04-19T09:09:37.230Z"
   },
   {
    "duration": 10,
    "start_time": "2022-04-19T09:09:38.893Z"
   },
   {
    "duration": 6,
    "start_time": "2022-04-19T09:10:36.492Z"
   },
   {
    "duration": 22,
    "start_time": "2022-04-19T09:10:37.652Z"
   },
   {
    "duration": 5,
    "start_time": "2022-04-19T09:11:13.696Z"
   },
   {
    "duration": 10,
    "start_time": "2022-04-19T09:11:14.471Z"
   },
   {
    "duration": 7,
    "start_time": "2022-04-19T09:11:51.504Z"
   },
   {
    "duration": 11,
    "start_time": "2022-04-19T09:11:52.910Z"
   },
   {
    "duration": 3351,
    "start_time": "2022-04-19T09:12:04.097Z"
   },
   {
    "duration": 6,
    "start_time": "2022-04-19T09:13:34.194Z"
   },
   {
    "duration": 3162,
    "start_time": "2022-04-19T09:13:35.348Z"
   },
   {
    "duration": 34,
    "start_time": "2022-04-19T09:13:46.113Z"
   },
   {
    "duration": 6,
    "start_time": "2022-04-19T09:14:53.336Z"
   },
   {
    "duration": 3165,
    "start_time": "2022-04-19T09:14:54.427Z"
   },
   {
    "duration": 3419,
    "start_time": "2022-04-19T09:15:16.211Z"
   },
   {
    "duration": 6,
    "start_time": "2022-04-19T09:15:54.136Z"
   },
   {
    "duration": 3924,
    "start_time": "2022-04-19T09:15:55.074Z"
   },
   {
    "duration": 6,
    "start_time": "2022-04-19T09:16:39.464Z"
   },
   {
    "duration": 11,
    "start_time": "2022-04-19T09:16:40.640Z"
   },
   {
    "duration": 5,
    "start_time": "2022-04-19T09:17:37.004Z"
   },
   {
    "duration": 10,
    "start_time": "2022-04-19T09:17:38.053Z"
   },
   {
    "duration": 10,
    "start_time": "2022-04-19T09:17:52.935Z"
   },
   {
    "duration": 6,
    "start_time": "2022-04-19T09:18:24.663Z"
   },
   {
    "duration": 13,
    "start_time": "2022-04-19T09:18:25.542Z"
   },
   {
    "duration": 8,
    "start_time": "2022-04-19T09:27:14.047Z"
   },
   {
    "duration": 13,
    "start_time": "2022-04-19T09:27:16.512Z"
   },
   {
    "duration": 12,
    "start_time": "2022-04-19T09:27:30.088Z"
   },
   {
    "duration": 6,
    "start_time": "2022-04-19T09:27:54.082Z"
   },
   {
    "duration": 13,
    "start_time": "2022-04-19T09:27:55.669Z"
   },
   {
    "duration": 14,
    "start_time": "2022-04-19T09:28:30.929Z"
   },
   {
    "duration": 14,
    "start_time": "2022-04-19T09:29:29.357Z"
   },
   {
    "duration": 14,
    "start_time": "2022-04-19T09:29:46.900Z"
   },
   {
    "duration": 7,
    "start_time": "2022-04-19T09:30:41.625Z"
   },
   {
    "duration": 14,
    "start_time": "2022-04-19T09:30:42.805Z"
   },
   {
    "duration": 14,
    "start_time": "2022-04-19T09:30:51.946Z"
   },
   {
    "duration": 14,
    "start_time": "2022-04-19T09:31:01.373Z"
   },
   {
    "duration": 10,
    "start_time": "2022-04-19T09:31:18.846Z"
   },
   {
    "duration": 3206,
    "start_time": "2022-04-19T09:32:40.813Z"
   },
   {
    "duration": 16,
    "start_time": "2022-04-19T09:32:57.411Z"
   },
   {
    "duration": 6,
    "start_time": "2022-04-19T09:35:33.815Z"
   },
   {
    "duration": 11718,
    "start_time": "2022-04-19T09:35:43.709Z"
   },
   {
    "duration": 11679,
    "start_time": "2022-04-19T09:36:54.120Z"
   },
   {
    "duration": 539,
    "start_time": "2022-04-19T09:39:19.979Z"
   },
   {
    "duration": 533,
    "start_time": "2022-04-19T09:39:20.521Z"
   },
   {
    "duration": 17,
    "start_time": "2022-04-19T09:39:21.057Z"
   },
   {
    "duration": 52,
    "start_time": "2022-04-19T09:39:21.079Z"
   },
   {
    "duration": 26,
    "start_time": "2022-04-19T09:39:21.134Z"
   },
   {
    "duration": 42,
    "start_time": "2022-04-19T09:39:21.163Z"
   },
   {
    "duration": 15,
    "start_time": "2022-04-19T09:39:21.207Z"
   },
   {
    "duration": 34,
    "start_time": "2022-04-19T09:39:21.224Z"
   },
   {
    "duration": 15,
    "start_time": "2022-04-19T09:39:21.260Z"
   },
   {
    "duration": 22,
    "start_time": "2022-04-19T09:39:21.296Z"
   },
   {
    "duration": 9,
    "start_time": "2022-04-19T09:39:21.320Z"
   },
   {
    "duration": 24,
    "start_time": "2022-04-19T09:39:21.332Z"
   },
   {
    "duration": 6,
    "start_time": "2022-04-19T09:39:21.358Z"
   },
   {
    "duration": 12,
    "start_time": "2022-04-19T09:39:21.393Z"
   },
   {
    "duration": 22,
    "start_time": "2022-04-19T09:39:21.407Z"
   },
   {
    "duration": 17,
    "start_time": "2022-04-19T09:39:21.431Z"
   },
   {
    "duration": 64,
    "start_time": "2022-04-19T09:39:21.450Z"
   },
   {
    "duration": 18,
    "start_time": "2022-04-19T09:39:21.516Z"
   },
   {
    "duration": 93,
    "start_time": "2022-04-19T09:39:21.536Z"
   },
   {
    "duration": 14,
    "start_time": "2022-04-19T09:39:21.631Z"
   },
   {
    "duration": 36,
    "start_time": "2022-04-19T09:39:21.648Z"
   },
   {
    "duration": 28,
    "start_time": "2022-04-19T09:39:21.693Z"
   },
   {
    "duration": 13,
    "start_time": "2022-04-19T09:39:21.723Z"
   },
   {
    "duration": 80,
    "start_time": "2022-04-19T09:39:21.738Z"
   },
   {
    "duration": 8,
    "start_time": "2022-04-19T09:39:21.820Z"
   },
   {
    "duration": 28,
    "start_time": "2022-04-19T09:39:21.830Z"
   },
   {
    "duration": 38,
    "start_time": "2022-04-19T09:39:21.861Z"
   },
   {
    "duration": 54,
    "start_time": "2022-04-19T09:39:21.907Z"
   },
   {
    "duration": 34,
    "start_time": "2022-04-19T09:39:21.963Z"
   },
   {
    "duration": 35,
    "start_time": "2022-04-19T09:39:22.000Z"
   },
   {
    "duration": 9,
    "start_time": "2022-04-19T09:39:22.037Z"
   },
   {
    "duration": 50,
    "start_time": "2022-04-19T09:39:22.048Z"
   },
   {
    "duration": 13,
    "start_time": "2022-04-19T09:39:22.100Z"
   },
   {
    "duration": 45,
    "start_time": "2022-04-19T09:39:22.116Z"
   },
   {
    "duration": 34,
    "start_time": "2022-04-19T09:39:22.163Z"
   },
   {
    "duration": 11,
    "start_time": "2022-04-19T09:39:22.199Z"
   },
   {
    "duration": 9,
    "start_time": "2022-04-19T09:39:22.212Z"
   },
   {
    "duration": 9,
    "start_time": "2022-04-19T09:39:22.224Z"
   },
   {
    "duration": 94,
    "start_time": "2022-04-19T09:39:22.235Z"
   },
   {
    "duration": 32,
    "start_time": "2022-04-19T09:39:22.331Z"
   },
   {
    "duration": 66,
    "start_time": "2022-04-19T09:39:22.365Z"
   },
   {
    "duration": 32,
    "start_time": "2022-04-19T09:39:22.433Z"
   },
   {
    "duration": 51,
    "start_time": "2022-04-19T09:39:22.467Z"
   },
   {
    "duration": 89,
    "start_time": "2022-04-19T09:39:22.520Z"
   },
   {
    "duration": 23,
    "start_time": "2022-04-19T09:39:22.611Z"
   },
   {
    "duration": 30,
    "start_time": "2022-04-19T09:39:22.636Z"
   },
   {
    "duration": 42,
    "start_time": "2022-04-19T09:39:22.668Z"
   },
   {
    "duration": 15,
    "start_time": "2022-04-19T09:39:22.712Z"
   },
   {
    "duration": 2939,
    "start_time": "2022-04-19T09:39:22.730Z"
   },
   {
    "duration": 6,
    "start_time": "2022-04-19T09:39:25.671Z"
   },
   {
    "duration": 172,
    "start_time": "2022-04-19T09:39:25.679Z"
   },
   {
    "duration": 41,
    "start_time": "2022-04-19T09:39:25.853Z"
   },
   {
    "duration": 8,
    "start_time": "2022-04-19T09:39:25.897Z"
   },
   {
    "duration": 11545,
    "start_time": "2022-04-19T09:39:25.908Z"
   },
   {
    "duration": 51,
    "start_time": "2022-04-19T09:39:37.455Z"
   },
   {
    "duration": 1197,
    "start_time": "2022-04-19T09:39:37.508Z"
   },
   {
    "duration": 353,
    "start_time": "2022-04-19T09:39:38.707Z"
   },
   {
    "duration": 360,
    "start_time": "2022-04-19T09:39:39.062Z"
   },
   {
    "duration": 220,
    "start_time": "2022-04-19T09:39:39.424Z"
   },
   {
    "duration": 110,
    "start_time": "2022-04-19T09:44:11.970Z"
   },
   {
    "duration": 9,
    "start_time": "2022-04-19T09:44:29.640Z"
   },
   {
    "duration": 6,
    "start_time": "2022-04-19T09:52:13.806Z"
   },
   {
    "duration": 12,
    "start_time": "2022-04-19T09:52:32.583Z"
   },
   {
    "duration": 5,
    "start_time": "2022-04-19T09:52:49.448Z"
   },
   {
    "duration": 10,
    "start_time": "2022-04-19T09:53:24.254Z"
   },
   {
    "duration": 199,
    "start_time": "2022-04-19T09:53:47.659Z"
   },
   {
    "duration": 194,
    "start_time": "2022-04-19T09:54:18.019Z"
   },
   {
    "duration": 5,
    "start_time": "2022-04-19T09:54:34.600Z"
   },
   {
    "duration": 6,
    "start_time": "2022-04-19T09:56:08.220Z"
   },
   {
    "duration": 34,
    "start_time": "2022-04-19T09:57:22.202Z"
   },
   {
    "duration": 26,
    "start_time": "2022-04-19T09:57:43.544Z"
   },
   {
    "duration": 6,
    "start_time": "2022-04-19T09:58:40.132Z"
   },
   {
    "duration": 5,
    "start_time": "2022-04-19T09:58:59.760Z"
   },
   {
    "duration": 5,
    "start_time": "2022-04-19T10:00:13.718Z"
   },
   {
    "duration": 7,
    "start_time": "2022-04-19T10:00:32.400Z"
   },
   {
    "duration": 638,
    "start_time": "2022-04-19T10:00:47.095Z"
   },
   {
    "duration": 354,
    "start_time": "2022-04-19T10:00:58.396Z"
   },
   {
    "duration": 356,
    "start_time": "2022-04-19T10:01:03.742Z"
   },
   {
    "duration": 4,
    "start_time": "2022-04-19T10:05:33.031Z"
   },
   {
    "duration": 27,
    "start_time": "2022-04-19T10:06:03.245Z"
   },
   {
    "duration": 13,
    "start_time": "2022-04-19T10:07:38.681Z"
   },
   {
    "duration": 14,
    "start_time": "2022-04-19T10:07:54.515Z"
   },
   {
    "duration": 304,
    "start_time": "2022-04-19T10:12:37.652Z"
   },
   {
    "duration": 497,
    "start_time": "2022-04-19T10:14:01.066Z"
   },
   {
    "duration": 502,
    "start_time": "2022-04-19T10:14:14.779Z"
   },
   {
    "duration": 477,
    "start_time": "2022-04-19T10:14:43.027Z"
   },
   {
    "duration": 11,
    "start_time": "2022-04-19T10:15:26.616Z"
   },
   {
    "duration": 393,
    "start_time": "2022-04-19T10:15:53.253Z"
   },
   {
    "duration": 514,
    "start_time": "2022-04-19T10:16:18.392Z"
   },
   {
    "duration": 219,
    "start_time": "2022-04-19T10:18:01.304Z"
   },
   {
    "duration": 241,
    "start_time": "2022-04-19T10:19:04.809Z"
   },
   {
    "duration": 339,
    "start_time": "2022-04-19T10:20:33.872Z"
   },
   {
    "duration": 361,
    "start_time": "2022-04-19T10:21:36.913Z"
   },
   {
    "duration": 332,
    "start_time": "2022-04-19T10:23:23.279Z"
   },
   {
    "duration": 424,
    "start_time": "2022-04-19T10:24:55.632Z"
   },
   {
    "duration": 321,
    "start_time": "2022-04-19T10:26:11.242Z"
   },
   {
    "duration": 332,
    "start_time": "2022-04-19T10:26:22.935Z"
   },
   {
    "duration": 352,
    "start_time": "2022-04-19T10:26:38.119Z"
   },
   {
    "duration": 323,
    "start_time": "2022-04-19T10:26:51.689Z"
   },
   {
    "duration": 349,
    "start_time": "2022-04-19T10:27:58.326Z"
   },
   {
    "duration": 432,
    "start_time": "2022-04-19T10:29:41.886Z"
   },
   {
    "duration": 347,
    "start_time": "2022-04-19T10:29:49.430Z"
   },
   {
    "duration": 388,
    "start_time": "2022-04-19T10:30:50.190Z"
   },
   {
    "duration": 377,
    "start_time": "2022-04-19T10:31:07.224Z"
   },
   {
    "duration": 375,
    "start_time": "2022-04-19T10:32:13.174Z"
   },
   {
    "duration": 368,
    "start_time": "2022-04-19T10:32:29.748Z"
   },
   {
    "duration": 468,
    "start_time": "2022-04-19T10:32:50.108Z"
   },
   {
    "duration": 377,
    "start_time": "2022-04-19T10:33:01.624Z"
   },
   {
    "duration": 375,
    "start_time": "2022-04-19T10:33:10.894Z"
   },
   {
    "duration": 386,
    "start_time": "2022-04-19T10:33:21.500Z"
   },
   {
    "duration": 415,
    "start_time": "2022-04-19T10:36:22.340Z"
   },
   {
    "duration": 407,
    "start_time": "2022-04-19T10:36:28.968Z"
   },
   {
    "duration": 13,
    "start_time": "2022-04-19T10:41:48.663Z"
   },
   {
    "duration": 13,
    "start_time": "2022-04-19T10:42:14.794Z"
   },
   {
    "duration": 579,
    "start_time": "2022-04-19T10:42:40.046Z"
   },
   {
    "duration": 277,
    "start_time": "2022-04-19T10:43:50.801Z"
   },
   {
    "duration": 284,
    "start_time": "2022-04-19T10:44:13.236Z"
   },
   {
    "duration": 274,
    "start_time": "2022-04-19T10:44:19.948Z"
   },
   {
    "duration": 292,
    "start_time": "2022-04-19T10:44:28.970Z"
   },
   {
    "duration": 270,
    "start_time": "2022-04-19T10:44:47.448Z"
   },
   {
    "duration": 198,
    "start_time": "2022-04-19T10:45:17.373Z"
   },
   {
    "duration": 253,
    "start_time": "2022-04-19T10:45:24.742Z"
   },
   {
    "duration": 292,
    "start_time": "2022-04-19T10:45:34.474Z"
   },
   {
    "duration": 302,
    "start_time": "2022-04-19T10:46:00.791Z"
   },
   {
    "duration": 275,
    "start_time": "2022-04-19T10:46:09.117Z"
   },
   {
    "duration": 283,
    "start_time": "2022-04-19T10:47:17.608Z"
   },
   {
    "duration": 414,
    "start_time": "2022-04-19T10:48:00.070Z"
   },
   {
    "duration": 285,
    "start_time": "2022-04-19T10:48:18.841Z"
   },
   {
    "duration": 278,
    "start_time": "2022-04-19T10:49:16.978Z"
   },
   {
    "duration": 262,
    "start_time": "2022-04-19T10:49:26.756Z"
   },
   {
    "duration": 262,
    "start_time": "2022-04-19T10:49:40.385Z"
   },
   {
    "duration": 5620,
    "start_time": "2022-04-19T10:51:30.721Z"
   },
   {
    "duration": 12,
    "start_time": "2022-04-19T10:52:09.866Z"
   },
   {
    "duration": 13,
    "start_time": "2022-04-19T10:52:18.536Z"
   },
   {
    "duration": 266,
    "start_time": "2022-04-19T10:52:31.039Z"
   },
   {
    "duration": 314,
    "start_time": "2022-04-19T10:52:49.333Z"
   },
   {
    "duration": 285,
    "start_time": "2022-04-19T10:53:08.324Z"
   },
   {
    "duration": 440,
    "start_time": "2022-04-19T11:12:01.699Z"
   },
   {
    "duration": 406,
    "start_time": "2022-04-19T11:12:17.050Z"
   },
   {
    "duration": 530,
    "start_time": "2022-04-19T11:12:42.222Z"
   },
   {
    "duration": 391,
    "start_time": "2022-04-19T11:13:12.452Z"
   },
   {
    "duration": 374,
    "start_time": "2022-04-19T11:13:49.198Z"
   },
   {
    "duration": 627,
    "start_time": "2022-04-19T11:20:51.821Z"
   },
   {
    "duration": 3670,
    "start_time": "2022-04-19T11:21:09.225Z"
   },
   {
    "duration": 23,
    "start_time": "2022-04-19T11:22:01.054Z"
   },
   {
    "duration": 25,
    "start_time": "2022-04-19T11:22:10.374Z"
   },
   {
    "duration": 2328,
    "start_time": "2022-04-19T11:22:22.665Z"
   },
   {
    "duration": 2293,
    "start_time": "2022-04-19T11:22:50.294Z"
   },
   {
    "duration": 2334,
    "start_time": "2022-04-19T11:24:45.739Z"
   },
   {
    "duration": 30,
    "start_time": "2022-04-19T11:24:49.182Z"
   },
   {
    "duration": 611,
    "start_time": "2022-04-19T11:25:28.582Z"
   },
   {
    "duration": 548,
    "start_time": "2022-04-19T11:25:29.197Z"
   },
   {
    "duration": 18,
    "start_time": "2022-04-19T11:25:29.747Z"
   },
   {
    "duration": 48,
    "start_time": "2022-04-19T11:25:29.769Z"
   },
   {
    "duration": 26,
    "start_time": "2022-04-19T11:25:29.820Z"
   },
   {
    "duration": 51,
    "start_time": "2022-04-19T11:25:29.849Z"
   },
   {
    "duration": 15,
    "start_time": "2022-04-19T11:25:29.902Z"
   },
   {
    "duration": 29,
    "start_time": "2022-04-19T11:25:29.920Z"
   },
   {
    "duration": 18,
    "start_time": "2022-04-19T11:25:29.951Z"
   },
   {
    "duration": 19,
    "start_time": "2022-04-19T11:25:29.993Z"
   },
   {
    "duration": 7,
    "start_time": "2022-04-19T11:25:30.015Z"
   },
   {
    "duration": 31,
    "start_time": "2022-04-19T11:25:30.024Z"
   },
   {
    "duration": 39,
    "start_time": "2022-04-19T11:25:30.057Z"
   },
   {
    "duration": 17,
    "start_time": "2022-04-19T11:25:30.099Z"
   },
   {
    "duration": 26,
    "start_time": "2022-04-19T11:25:30.119Z"
   },
   {
    "duration": 32,
    "start_time": "2022-04-19T11:25:30.148Z"
   },
   {
    "duration": 64,
    "start_time": "2022-04-19T11:25:30.182Z"
   },
   {
    "duration": 20,
    "start_time": "2022-04-19T11:25:30.249Z"
   },
   {
    "duration": 89,
    "start_time": "2022-04-19T11:25:30.293Z"
   },
   {
    "duration": 15,
    "start_time": "2022-04-19T11:25:30.384Z"
   },
   {
    "duration": 29,
    "start_time": "2022-04-19T11:25:30.402Z"
   },
   {
    "duration": 78,
    "start_time": "2022-04-19T11:25:30.434Z"
   },
   {
    "duration": 20,
    "start_time": "2022-04-19T11:25:30.514Z"
   },
   {
    "duration": 67,
    "start_time": "2022-04-19T11:25:30.537Z"
   },
   {
    "duration": 9,
    "start_time": "2022-04-19T11:25:30.607Z"
   },
   {
    "duration": 29,
    "start_time": "2022-04-19T11:25:30.619Z"
   },
   {
    "duration": 22,
    "start_time": "2022-04-19T11:25:30.651Z"
   },
   {
    "duration": 71,
    "start_time": "2022-04-19T11:25:30.678Z"
   },
   {
    "duration": 10,
    "start_time": "2022-04-19T11:25:30.752Z"
   },
   {
    "duration": 38,
    "start_time": "2022-04-19T11:25:30.764Z"
   },
   {
    "duration": 8,
    "start_time": "2022-04-19T11:25:30.805Z"
   },
   {
    "duration": 50,
    "start_time": "2022-04-19T11:25:30.815Z"
   },
   {
    "duration": 31,
    "start_time": "2022-04-19T11:25:30.868Z"
   },
   {
    "duration": 53,
    "start_time": "2022-04-19T11:25:30.902Z"
   },
   {
    "duration": 8,
    "start_time": "2022-04-19T11:25:30.958Z"
   },
   {
    "duration": 38,
    "start_time": "2022-04-19T11:25:30.968Z"
   },
   {
    "duration": 14,
    "start_time": "2022-04-19T11:25:31.008Z"
   },
   {
    "duration": 20,
    "start_time": "2022-04-19T11:25:31.025Z"
   },
   {
    "duration": 80,
    "start_time": "2022-04-19T11:25:31.047Z"
   },
   {
    "duration": 32,
    "start_time": "2022-04-19T11:25:31.130Z"
   },
   {
    "duration": 68,
    "start_time": "2022-04-19T11:25:31.164Z"
   },
   {
    "duration": 33,
    "start_time": "2022-04-19T11:25:31.234Z"
   },
   {
    "duration": 50,
    "start_time": "2022-04-19T11:25:31.271Z"
   },
   {
    "duration": 99,
    "start_time": "2022-04-19T11:25:31.324Z"
   },
   {
    "duration": 23,
    "start_time": "2022-04-19T11:25:31.425Z"
   },
   {
    "duration": 51,
    "start_time": "2022-04-19T11:25:31.451Z"
   },
   {
    "duration": 53,
    "start_time": "2022-04-19T11:25:31.505Z"
   },
   {
    "duration": 23,
    "start_time": "2022-04-19T11:25:31.560Z"
   },
   {
    "duration": 2643,
    "start_time": "2022-04-19T11:25:31.586Z"
   },
   {
    "duration": 7,
    "start_time": "2022-04-19T11:25:34.231Z"
   },
   {
    "duration": 99,
    "start_time": "2022-04-19T11:25:34.240Z"
   },
   {
    "duration": 8,
    "start_time": "2022-04-19T11:25:34.341Z"
   },
   {
    "duration": 11355,
    "start_time": "2022-04-19T11:25:34.351Z"
   },
   {
    "duration": 6,
    "start_time": "2022-04-19T11:25:45.709Z"
   },
   {
    "duration": 10,
    "start_time": "2022-04-19T11:25:45.718Z"
   },
   {
    "duration": 3131,
    "start_time": "2022-04-19T11:25:45.730Z"
   },
   {
    "duration": 47,
    "start_time": "2022-04-19T11:25:48.863Z"
   },
   {
    "duration": 2177,
    "start_time": "2022-04-19T11:26:28.764Z"
   },
   {
    "duration": 30,
    "start_time": "2022-04-19T11:26:31.806Z"
   },
   {
    "duration": 825,
    "start_time": "2022-04-19T11:56:50.101Z"
   },
   {
    "duration": 360,
    "start_time": "2022-04-19T11:57:01.509Z"
   },
   {
    "duration": 159,
    "start_time": "2022-04-19T11:57:48.489Z"
   },
   {
    "duration": 12,
    "start_time": "2022-04-19T11:57:58.223Z"
   },
   {
    "duration": 10,
    "start_time": "2022-04-19T11:58:18.324Z"
   },
   {
    "duration": 13,
    "start_time": "2022-04-19T12:00:23.391Z"
   },
   {
    "duration": 4,
    "start_time": "2022-04-19T12:03:16.080Z"
   },
   {
    "duration": 662,
    "start_time": "2022-04-19T12:03:16.088Z"
   },
   {
    "duration": 16,
    "start_time": "2022-04-19T12:03:16.753Z"
   },
   {
    "duration": 36,
    "start_time": "2022-04-19T12:03:16.772Z"
   },
   {
    "duration": 28,
    "start_time": "2022-04-19T12:03:16.813Z"
   },
   {
    "duration": 59,
    "start_time": "2022-04-19T12:03:16.844Z"
   },
   {
    "duration": 16,
    "start_time": "2022-04-19T12:03:16.905Z"
   },
   {
    "duration": 14,
    "start_time": "2022-04-19T12:03:16.923Z"
   },
   {
    "duration": 61,
    "start_time": "2022-04-19T12:03:16.939Z"
   },
   {
    "duration": 22,
    "start_time": "2022-04-19T12:03:17.002Z"
   },
   {
    "duration": 16,
    "start_time": "2022-04-19T12:03:17.027Z"
   },
   {
    "duration": 49,
    "start_time": "2022-04-19T12:03:17.046Z"
   },
   {
    "duration": 9,
    "start_time": "2022-04-19T12:03:17.098Z"
   },
   {
    "duration": 12,
    "start_time": "2022-04-19T12:03:17.113Z"
   },
   {
    "duration": 21,
    "start_time": "2022-04-19T12:03:17.127Z"
   },
   {
    "duration": 55,
    "start_time": "2022-04-19T12:03:17.150Z"
   },
   {
    "duration": 37,
    "start_time": "2022-04-19T12:03:17.207Z"
   },
   {
    "duration": 18,
    "start_time": "2022-04-19T12:03:17.249Z"
   },
   {
    "duration": 97,
    "start_time": "2022-04-19T12:03:17.269Z"
   },
   {
    "duration": 30,
    "start_time": "2022-04-19T12:03:17.368Z"
   },
   {
    "duration": 20,
    "start_time": "2022-04-19T12:03:17.400Z"
   },
   {
    "duration": 26,
    "start_time": "2022-04-19T12:03:17.423Z"
   },
   {
    "duration": 41,
    "start_time": "2022-04-19T12:03:17.451Z"
   },
   {
    "duration": 50,
    "start_time": "2022-04-19T12:03:17.495Z"
   },
   {
    "duration": 10,
    "start_time": "2022-04-19T12:03:17.547Z"
   },
   {
    "duration": 48,
    "start_time": "2022-04-19T12:03:17.560Z"
   },
   {
    "duration": 18,
    "start_time": "2022-04-19T12:03:17.611Z"
   },
   {
    "duration": 83,
    "start_time": "2022-04-19T12:03:17.631Z"
   },
   {
    "duration": 10,
    "start_time": "2022-04-19T12:03:17.717Z"
   },
   {
    "duration": 17,
    "start_time": "2022-04-19T12:03:17.730Z"
   },
   {
    "duration": 9,
    "start_time": "2022-04-19T12:03:17.750Z"
   },
   {
    "duration": 54,
    "start_time": "2022-04-19T12:03:17.761Z"
   },
   {
    "duration": 12,
    "start_time": "2022-04-19T12:03:17.818Z"
   },
   {
    "duration": 76,
    "start_time": "2022-04-19T12:03:17.832Z"
   },
   {
    "duration": 8,
    "start_time": "2022-04-19T12:03:17.910Z"
   },
   {
    "duration": 11,
    "start_time": "2022-04-19T12:03:17.921Z"
   },
   {
    "duration": 9,
    "start_time": "2022-04-19T12:03:17.934Z"
   },
   {
    "duration": 7,
    "start_time": "2022-04-19T12:03:17.946Z"
   },
   {
    "duration": 51,
    "start_time": "2022-04-19T12:03:17.995Z"
   },
   {
    "duration": 53,
    "start_time": "2022-04-19T12:03:18.048Z"
   },
   {
    "duration": 41,
    "start_time": "2022-04-19T12:03:18.108Z"
   },
   {
    "duration": 54,
    "start_time": "2022-04-19T12:03:18.152Z"
   },
   {
    "duration": 33,
    "start_time": "2022-04-19T12:03:18.208Z"
   },
   {
    "duration": 65,
    "start_time": "2022-04-19T12:03:18.243Z"
   },
   {
    "duration": 26,
    "start_time": "2022-04-19T12:03:18.310Z"
   },
   {
    "duration": 21,
    "start_time": "2022-04-19T12:03:18.338Z"
   },
   {
    "duration": 51,
    "start_time": "2022-04-19T12:03:18.361Z"
   },
   {
    "duration": 15,
    "start_time": "2022-04-19T12:03:18.414Z"
   },
   {
    "duration": 2625,
    "start_time": "2022-04-19T12:03:18.430Z"
   },
   {
    "duration": 9,
    "start_time": "2022-04-19T12:03:21.059Z"
   },
   {
    "duration": 157,
    "start_time": "2022-04-19T12:03:21.071Z"
   },
   {
    "duration": 7,
    "start_time": "2022-04-19T12:03:21.231Z"
   },
   {
    "duration": 13364,
    "start_time": "2022-04-19T12:03:21.241Z"
   },
   {
    "duration": 6,
    "start_time": "2022-04-19T12:03:34.607Z"
   },
   {
    "duration": 9,
    "start_time": "2022-04-19T12:03:34.615Z"
   },
   {
    "duration": 3115,
    "start_time": "2022-04-19T12:03:34.626Z"
   },
   {
    "duration": 60,
    "start_time": "2022-04-19T12:03:37.744Z"
   },
   {
    "duration": 601,
    "start_time": "2022-04-19T12:03:37.806Z"
   },
   {
    "duration": 553,
    "start_time": "2022-04-19T12:03:38.409Z"
   },
   {
    "duration": 565,
    "start_time": "2022-04-19T12:03:38.965Z"
   },
   {
    "duration": 11,
    "start_time": "2022-04-19T12:03:39.532Z"
   },
   {
    "duration": 22,
    "start_time": "2022-04-19T12:03:39.546Z"
   },
   {
    "duration": 37,
    "start_time": "2022-04-19T12:03:39.570Z"
   },
   {
    "duration": 449,
    "start_time": "2022-04-19T12:03:39.610Z"
   },
   {
    "duration": 582,
    "start_time": "2022-04-19T12:03:40.062Z"
   },
   {
    "duration": 435,
    "start_time": "2022-04-19T12:03:40.647Z"
   },
   {
    "duration": 18,
    "start_time": "2022-04-19T12:03:41.084Z"
   },
   {
    "duration": 17,
    "start_time": "2022-04-19T12:03:41.104Z"
   },
   {
    "duration": 295,
    "start_time": "2022-04-19T12:03:41.123Z"
   },
   {
    "duration": 437,
    "start_time": "2022-04-19T12:03:41.421Z"
   },
   {
    "duration": 709,
    "start_time": "2022-04-19T12:03:41.860Z"
   },
   {
    "duration": 25,
    "start_time": "2022-04-19T12:03:42.572Z"
   },
   {
    "duration": 20,
    "start_time": "2022-04-19T12:03:42.599Z"
   },
   {
    "duration": 299,
    "start_time": "2022-04-19T12:03:42.621Z"
   },
   {
    "duration": 442,
    "start_time": "2022-04-19T12:03:42.922Z"
   },
   {
    "duration": 559,
    "start_time": "2022-04-19T12:03:43.367Z"
   },
   {
    "duration": 623,
    "start_time": "2022-04-19T12:04:13.544Z"
   },
   {
    "duration": 456,
    "start_time": "2022-04-19T12:04:20.536Z"
   },
   {
    "duration": 562,
    "start_time": "2022-04-19T12:05:59.008Z"
   },
   {
    "duration": 435,
    "start_time": "2022-04-19T12:07:03.992Z"
   },
   {
    "duration": 311,
    "start_time": "2022-04-19T12:07:36.282Z"
   },
   {
    "duration": 642,
    "start_time": "2022-04-19T12:08:19.570Z"
   },
   {
    "duration": 675,
    "start_time": "2022-04-19T12:08:28.996Z"
   },
   {
    "duration": 287,
    "start_time": "2022-04-19T12:09:55.637Z"
   },
   {
    "duration": 458,
    "start_time": "2022-04-19T12:11:20.282Z"
   },
   {
    "duration": 503,
    "start_time": "2022-04-19T12:11:31.675Z"
   },
   {
    "duration": 532,
    "start_time": "2022-04-19T12:11:37.953Z"
   },
   {
    "duration": 31,
    "start_time": "2022-04-19T12:16:57.110Z"
   },
   {
    "duration": 14,
    "start_time": "2022-04-19T12:17:38.342Z"
   },
   {
    "duration": 17,
    "start_time": "2022-04-19T12:18:36.215Z"
   },
   {
    "duration": 495,
    "start_time": "2022-04-19T12:18:46.899Z"
   },
   {
    "duration": 11,
    "start_time": "2022-04-19T12:18:55.038Z"
   },
   {
    "duration": 82,
    "start_time": "2022-04-19T12:26:46.092Z"
   },
   {
    "duration": 17,
    "start_time": "2022-04-19T12:27:14.844Z"
   },
   {
    "duration": 15,
    "start_time": "2022-04-19T12:28:08.049Z"
   },
   {
    "duration": 16,
    "start_time": "2022-04-19T12:30:07.399Z"
   },
   {
    "duration": 12,
    "start_time": "2022-04-19T12:30:22.695Z"
   },
   {
    "duration": 288,
    "start_time": "2022-04-19T12:30:49.975Z"
   },
   {
    "duration": 533,
    "start_time": "2022-04-19T12:31:42.383Z"
   },
   {
    "duration": 625,
    "start_time": "2022-04-19T12:32:00.470Z"
   },
   {
    "duration": 1112,
    "start_time": "2022-04-19T12:32:15.013Z"
   },
   {
    "duration": 612,
    "start_time": "2022-04-19T12:32:47.386Z"
   },
   {
    "duration": 785,
    "start_time": "2022-04-19T12:32:58.870Z"
   },
   {
    "duration": 413,
    "start_time": "2022-04-19T12:33:06.385Z"
   },
   {
    "duration": 292,
    "start_time": "2022-04-19T12:33:15.040Z"
   },
   {
    "duration": 337,
    "start_time": "2022-04-19T12:33:23.164Z"
   },
   {
    "duration": 12,
    "start_time": "2022-04-19T12:45:38.720Z"
   },
   {
    "duration": 11,
    "start_time": "2022-04-19T12:46:07.296Z"
   },
   {
    "duration": 1051,
    "start_time": "2022-04-20T07:42:03.523Z"
   },
   {
    "duration": 487,
    "start_time": "2022-04-20T07:42:04.577Z"
   },
   {
    "duration": 16,
    "start_time": "2022-04-20T07:42:05.067Z"
   },
   {
    "duration": 38,
    "start_time": "2022-04-20T07:42:05.086Z"
   },
   {
    "duration": 26,
    "start_time": "2022-04-20T07:42:05.125Z"
   },
   {
    "duration": 51,
    "start_time": "2022-04-20T07:42:05.153Z"
   },
   {
    "duration": 15,
    "start_time": "2022-04-20T07:42:05.207Z"
   },
   {
    "duration": 36,
    "start_time": "2022-04-20T07:42:05.224Z"
   },
   {
    "duration": 27,
    "start_time": "2022-04-20T07:42:05.263Z"
   },
   {
    "duration": 25,
    "start_time": "2022-04-20T07:42:05.294Z"
   },
   {
    "duration": 6,
    "start_time": "2022-04-20T07:42:05.321Z"
   },
   {
    "duration": 37,
    "start_time": "2022-04-20T07:42:05.329Z"
   },
   {
    "duration": 26,
    "start_time": "2022-04-20T07:42:05.368Z"
   },
   {
    "duration": 15,
    "start_time": "2022-04-20T07:42:05.397Z"
   },
   {
    "duration": 26,
    "start_time": "2022-04-20T07:42:05.414Z"
   },
   {
    "duration": 27,
    "start_time": "2022-04-20T07:42:05.442Z"
   },
   {
    "duration": 33,
    "start_time": "2022-04-20T07:42:05.481Z"
   },
   {
    "duration": 17,
    "start_time": "2022-04-20T07:42:05.516Z"
   },
   {
    "duration": 99,
    "start_time": "2022-04-20T07:42:05.535Z"
   },
   {
    "duration": 14,
    "start_time": "2022-04-20T07:42:05.636Z"
   },
   {
    "duration": 32,
    "start_time": "2022-04-20T07:42:05.652Z"
   },
   {
    "duration": 24,
    "start_time": "2022-04-20T07:42:05.686Z"
   },
   {
    "duration": 13,
    "start_time": "2022-04-20T07:42:05.712Z"
   },
   {
    "duration": 76,
    "start_time": "2022-04-20T07:42:05.727Z"
   },
   {
    "duration": 9,
    "start_time": "2022-04-20T07:42:05.805Z"
   },
   {
    "duration": 25,
    "start_time": "2022-04-20T07:42:05.817Z"
   },
   {
    "duration": 39,
    "start_time": "2022-04-20T07:42:05.844Z"
   },
   {
    "duration": 55,
    "start_time": "2022-04-20T07:42:05.891Z"
   },
   {
    "duration": 35,
    "start_time": "2022-04-20T07:42:05.948Z"
   },
   {
    "duration": 18,
    "start_time": "2022-04-20T07:42:05.985Z"
   },
   {
    "duration": 10,
    "start_time": "2022-04-20T07:42:06.006Z"
   },
   {
    "duration": 63,
    "start_time": "2022-04-20T07:42:06.019Z"
   },
   {
    "duration": 14,
    "start_time": "2022-04-20T07:42:06.084Z"
   },
   {
    "duration": 44,
    "start_time": "2022-04-20T07:42:06.101Z"
   },
   {
    "duration": 40,
    "start_time": "2022-04-20T07:42:06.148Z"
   },
   {
    "duration": 12,
    "start_time": "2022-04-20T07:42:06.192Z"
   },
   {
    "duration": 8,
    "start_time": "2022-04-20T07:42:06.206Z"
   },
   {
    "duration": 11,
    "start_time": "2022-04-20T07:42:06.216Z"
   },
   {
    "duration": 90,
    "start_time": "2022-04-20T07:42:06.229Z"
   },
   {
    "duration": 32,
    "start_time": "2022-04-20T07:42:06.321Z"
   },
   {
    "duration": 59,
    "start_time": "2022-04-20T07:42:06.355Z"
   },
   {
    "duration": 32,
    "start_time": "2022-04-20T07:42:06.416Z"
   },
   {
    "duration": 55,
    "start_time": "2022-04-20T07:42:06.450Z"
   },
   {
    "duration": 41,
    "start_time": "2022-04-20T07:42:06.507Z"
   },
   {
    "duration": 43,
    "start_time": "2022-04-20T07:42:06.550Z"
   },
   {
    "duration": 21,
    "start_time": "2022-04-20T07:42:06.595Z"
   },
   {
    "duration": 19,
    "start_time": "2022-04-20T07:42:06.618Z"
   },
   {
    "duration": 44,
    "start_time": "2022-04-20T07:42:06.639Z"
   },
   {
    "duration": 2925,
    "start_time": "2022-04-20T07:42:06.685Z"
   },
   {
    "duration": 6,
    "start_time": "2022-04-20T07:42:09.612Z"
   },
   {
    "duration": 90,
    "start_time": "2022-04-20T07:42:09.620Z"
   },
   {
    "duration": 7,
    "start_time": "2022-04-20T07:42:09.712Z"
   },
   {
    "duration": 12045,
    "start_time": "2022-04-20T07:42:09.721Z"
   },
   {
    "duration": 16,
    "start_time": "2022-04-20T07:42:21.768Z"
   },
   {
    "duration": 12,
    "start_time": "2022-04-20T07:42:21.786Z"
   },
   {
    "duration": 2375,
    "start_time": "2022-04-20T07:42:21.800Z"
   },
   {
    "duration": 30,
    "start_time": "2022-04-20T07:42:24.177Z"
   },
   {
    "duration": 126,
    "start_time": "2022-04-20T07:42:31.931Z"
   },
   {
    "duration": 6,
    "start_time": "2022-04-20T07:42:40.371Z"
   },
   {
    "duration": 1896,
    "start_time": "2022-04-20T07:55:49.161Z"
   },
   {
    "duration": 13,
    "start_time": "2022-04-20T07:56:13.913Z"
   },
   {
    "duration": 11,
    "start_time": "2022-04-20T07:56:35.285Z"
   },
   {
    "duration": 7,
    "start_time": "2022-04-20T07:56:52.258Z"
   },
   {
    "duration": 8,
    "start_time": "2022-04-20T07:57:50.657Z"
   },
   {
    "duration": 6,
    "start_time": "2022-04-20T08:00:17.341Z"
   },
   {
    "duration": 16,
    "start_time": "2022-04-20T08:00:28.262Z"
   },
   {
    "duration": 32,
    "start_time": "2022-04-20T08:00:47.276Z"
   },
   {
    "duration": 420,
    "start_time": "2022-04-20T08:02:01.194Z"
   },
   {
    "duration": 772,
    "start_time": "2022-04-20T08:02:18.438Z"
   },
   {
    "duration": 107,
    "start_time": "2022-04-20T08:04:28.867Z"
   },
   {
    "duration": 42,
    "start_time": "2022-04-20T08:05:04.828Z"
   },
   {
    "duration": 109,
    "start_time": "2022-04-20T08:05:40.490Z"
   },
   {
    "duration": 40,
    "start_time": "2022-04-20T08:05:49.798Z"
   },
   {
    "duration": 29,
    "start_time": "2022-04-20T08:06:50.165Z"
   },
   {
    "duration": 29,
    "start_time": "2022-04-20T08:07:28.749Z"
   },
   {
    "duration": 25,
    "start_time": "2022-04-20T08:07:43.701Z"
   },
   {
    "duration": 26,
    "start_time": "2022-04-20T08:09:13.910Z"
   },
   {
    "duration": 38,
    "start_time": "2022-04-20T08:09:21.414Z"
   },
   {
    "duration": 35,
    "start_time": "2022-04-20T08:09:34.668Z"
   },
   {
    "duration": 31,
    "start_time": "2022-04-20T08:09:47.251Z"
   },
   {
    "duration": 34,
    "start_time": "2022-04-20T08:10:07.643Z"
   },
   {
    "duration": 28,
    "start_time": "2022-04-20T08:10:33.225Z"
   },
   {
    "duration": 34,
    "start_time": "2022-04-20T08:10:38.621Z"
   },
   {
    "duration": 27,
    "start_time": "2022-04-20T08:10:50.566Z"
   },
   {
    "duration": 27,
    "start_time": "2022-04-20T08:11:27.023Z"
   },
   {
    "duration": 31,
    "start_time": "2022-04-20T08:12:47.218Z"
   },
   {
    "duration": 44,
    "start_time": "2022-04-20T08:13:57.149Z"
   },
   {
    "duration": 36,
    "start_time": "2022-04-20T08:14:04.964Z"
   },
   {
    "duration": 32,
    "start_time": "2022-04-20T08:14:12.055Z"
   },
   {
    "duration": 32,
    "start_time": "2022-04-20T08:14:14.275Z"
   },
   {
    "duration": 41,
    "start_time": "2022-04-20T08:14:17.733Z"
   },
   {
    "duration": 26,
    "start_time": "2022-04-20T08:14:28.752Z"
   },
   {
    "duration": 21,
    "start_time": "2022-04-20T08:14:31.119Z"
   },
   {
    "duration": 22,
    "start_time": "2022-04-20T08:14:34.406Z"
   },
   {
    "duration": 15,
    "start_time": "2022-04-20T08:14:37.615Z"
   },
   {
    "duration": 2697,
    "start_time": "2022-04-20T08:14:52.246Z"
   },
   {
    "duration": 7,
    "start_time": "2022-04-20T08:16:56.504Z"
   },
   {
    "duration": 110,
    "start_time": "2022-04-20T08:17:06.392Z"
   },
   {
    "duration": 4,
    "start_time": "2022-04-20T08:17:37.249Z"
   },
   {
    "duration": 491,
    "start_time": "2022-04-20T08:17:37.261Z"
   },
   {
    "duration": 27,
    "start_time": "2022-04-20T08:17:37.755Z"
   },
   {
    "duration": 40,
    "start_time": "2022-04-20T08:17:37.784Z"
   },
   {
    "duration": 55,
    "start_time": "2022-04-20T08:17:37.827Z"
   },
   {
    "duration": 30,
    "start_time": "2022-04-20T08:17:37.884Z"
   },
   {
    "duration": 15,
    "start_time": "2022-04-20T08:17:37.916Z"
   },
   {
    "duration": 48,
    "start_time": "2022-04-20T08:17:37.933Z"
   },
   {
    "duration": 16,
    "start_time": "2022-04-20T08:17:37.983Z"
   },
   {
    "duration": 20,
    "start_time": "2022-04-20T08:17:38.001Z"
   },
   {
    "duration": 6,
    "start_time": "2022-04-20T08:17:38.025Z"
   },
   {
    "duration": 60,
    "start_time": "2022-04-20T08:17:38.034Z"
   },
   {
    "duration": 13,
    "start_time": "2022-04-20T08:17:38.097Z"
   },
   {
    "duration": 29,
    "start_time": "2022-04-20T08:17:38.112Z"
   },
   {
    "duration": 23,
    "start_time": "2022-04-20T08:17:38.143Z"
   },
   {
    "duration": 28,
    "start_time": "2022-04-20T08:17:38.168Z"
   },
   {
    "duration": 40,
    "start_time": "2022-04-20T08:17:38.198Z"
   },
   {
    "duration": 47,
    "start_time": "2022-04-20T08:17:38.240Z"
   },
   {
    "duration": 73,
    "start_time": "2022-04-20T08:17:38.289Z"
   },
   {
    "duration": 12,
    "start_time": "2022-04-20T08:17:38.381Z"
   },
   {
    "duration": 21,
    "start_time": "2022-04-20T08:17:38.396Z"
   },
   {
    "duration": 68,
    "start_time": "2022-04-20T08:17:38.419Z"
   },
   {
    "duration": 15,
    "start_time": "2022-04-20T08:17:38.489Z"
   },
   {
    "duration": 76,
    "start_time": "2022-04-20T08:17:38.506Z"
   },
   {
    "duration": 9,
    "start_time": "2022-04-20T08:17:38.584Z"
   },
   {
    "duration": 19,
    "start_time": "2022-04-20T08:17:38.595Z"
   },
   {
    "duration": 16,
    "start_time": "2022-04-20T08:17:38.616Z"
   },
   {
    "duration": 91,
    "start_time": "2022-04-20T08:17:38.634Z"
   },
   {
    "duration": 10,
    "start_time": "2022-04-20T08:17:38.732Z"
   },
   {
    "duration": 44,
    "start_time": "2022-04-20T08:17:38.744Z"
   },
   {
    "duration": 8,
    "start_time": "2022-04-20T08:17:38.790Z"
   },
   {
    "duration": 28,
    "start_time": "2022-04-20T08:17:38.800Z"
   },
   {
    "duration": 51,
    "start_time": "2022-04-20T08:17:38.831Z"
   },
   {
    "duration": 46,
    "start_time": "2022-04-20T08:17:38.884Z"
   },
   {
    "duration": 7,
    "start_time": "2022-04-20T08:17:38.932Z"
   },
   {
    "duration": 43,
    "start_time": "2022-04-20T08:17:38.941Z"
   },
   {
    "duration": 10,
    "start_time": "2022-04-20T08:17:38.986Z"
   },
   {
    "duration": 12,
    "start_time": "2022-04-20T08:17:38.998Z"
   },
   {
    "duration": 8,
    "start_time": "2022-04-20T08:17:39.012Z"
   },
   {
    "duration": 104,
    "start_time": "2022-04-20T08:17:39.022Z"
   },
   {
    "duration": 32,
    "start_time": "2022-04-20T08:17:39.128Z"
   },
   {
    "duration": 58,
    "start_time": "2022-04-20T08:17:39.162Z"
   },
   {
    "duration": 61,
    "start_time": "2022-04-20T08:17:39.223Z"
   },
   {
    "duration": 34,
    "start_time": "2022-04-20T08:17:39.286Z"
   },
   {
    "duration": 70,
    "start_time": "2022-04-20T08:17:39.322Z"
   },
   {
    "duration": 24,
    "start_time": "2022-04-20T08:17:39.394Z"
   },
   {
    "duration": 20,
    "start_time": "2022-04-20T08:17:39.420Z"
   },
   {
    "duration": 58,
    "start_time": "2022-04-20T08:17:39.442Z"
   },
   {
    "duration": 13,
    "start_time": "2022-04-20T08:17:39.503Z"
   },
   {
    "duration": 2776,
    "start_time": "2022-04-20T08:17:39.518Z"
   },
   {
    "duration": 6,
    "start_time": "2022-04-20T08:17:42.296Z"
   },
   {
    "duration": 127,
    "start_time": "2022-04-20T08:17:42.304Z"
   },
   {
    "duration": 7,
    "start_time": "2022-04-20T08:17:42.433Z"
   },
   {
    "duration": 12079,
    "start_time": "2022-04-20T08:17:42.442Z"
   },
   {
    "duration": 4,
    "start_time": "2022-04-20T08:17:54.523Z"
   },
   {
    "duration": 10,
    "start_time": "2022-04-20T08:17:54.529Z"
   },
   {
    "duration": 2471,
    "start_time": "2022-04-20T08:17:54.541Z"
   },
   {
    "duration": 32,
    "start_time": "2022-04-20T08:17:57.014Z"
   },
   {
    "duration": 1364,
    "start_time": "2022-04-20T08:17:57.049Z"
   },
   {
    "duration": 383,
    "start_time": "2022-04-20T08:17:58.415Z"
   },
   {
    "duration": 390,
    "start_time": "2022-04-20T08:17:58.800Z"
   },
   {
    "duration": 9,
    "start_time": "2022-04-20T08:17:59.193Z"
   },
   {
    "duration": 14,
    "start_time": "2022-04-20T08:17:59.204Z"
   },
   {
    "duration": 12,
    "start_time": "2022-04-20T08:17:59.220Z"
   },
   {
    "duration": 357,
    "start_time": "2022-04-20T08:17:59.234Z"
   },
   {
    "duration": 523,
    "start_time": "2022-04-20T08:17:59.593Z"
   },
   {
    "duration": 442,
    "start_time": "2022-04-20T08:18:00.118Z"
   },
   {
    "duration": 27,
    "start_time": "2022-04-20T08:18:00.562Z"
   },
   {
    "duration": 11,
    "start_time": "2022-04-20T08:18:00.591Z"
   },
   {
    "duration": 308,
    "start_time": "2022-04-20T08:18:00.605Z"
   },
   {
    "duration": 443,
    "start_time": "2022-04-20T08:18:00.915Z"
   },
   {
    "duration": 414,
    "start_time": "2022-04-20T08:18:01.360Z"
   },
   {
    "duration": 13,
    "start_time": "2022-04-20T08:18:01.777Z"
   },
   {
    "duration": 25,
    "start_time": "2022-04-20T08:18:01.792Z"
   },
   {
    "duration": 30,
    "start_time": "2022-04-20T08:18:01.819Z"
   },
   {
    "duration": 29,
    "start_time": "2022-04-20T08:18:01.851Z"
   },
   {
    "duration": 293,
    "start_time": "2022-04-20T08:18:01.882Z"
   },
   {
    "duration": 530,
    "start_time": "2022-04-20T08:18:02.177Z"
   },
   {
    "duration": 422,
    "start_time": "2022-04-20T08:18:02.710Z"
   },
   {
    "duration": 15,
    "start_time": "2022-04-20T08:18:03.135Z"
   },
   {
    "duration": 39,
    "start_time": "2022-04-20T08:18:03.153Z"
   },
   {
    "duration": 324,
    "start_time": "2022-04-20T08:18:03.195Z"
   },
   {
    "duration": 624,
    "start_time": "2022-04-20T08:18:03.530Z"
   },
   {
    "duration": 343,
    "start_time": "2022-04-20T08:18:04.156Z"
   },
   {
    "duration": 13,
    "start_time": "2022-04-20T08:18:04.502Z"
   },
   {
    "duration": 14,
    "start_time": "2022-04-20T08:18:04.518Z"
   },
   {
    "duration": 13,
    "start_time": "2022-04-20T08:21:23.399Z"
   },
   {
    "duration": 15,
    "start_time": "2022-04-20T08:21:55.807Z"
   },
   {
    "duration": 104,
    "start_time": "2022-04-20T08:22:55.893Z"
   },
   {
    "duration": 17,
    "start_time": "2022-04-20T08:23:04.075Z"
   },
   {
    "duration": 16,
    "start_time": "2022-04-20T08:23:57.547Z"
   },
   {
    "duration": 4,
    "start_time": "2022-04-20T08:34:35.383Z"
   },
   {
    "duration": 496,
    "start_time": "2022-04-20T08:34:35.396Z"
   },
   {
    "duration": 16,
    "start_time": "2022-04-20T08:34:35.895Z"
   },
   {
    "duration": 38,
    "start_time": "2022-04-20T08:34:35.913Z"
   },
   {
    "duration": 46,
    "start_time": "2022-04-20T08:34:35.953Z"
   },
   {
    "duration": 32,
    "start_time": "2022-04-20T08:34:36.002Z"
   },
   {
    "duration": 54,
    "start_time": "2022-04-20T08:34:36.037Z"
   },
   {
    "duration": 10,
    "start_time": "2022-04-20T08:34:36.094Z"
   },
   {
    "duration": 14,
    "start_time": "2022-04-20T08:34:36.106Z"
   },
   {
    "duration": 61,
    "start_time": "2022-04-20T08:34:36.123Z"
   },
   {
    "duration": 6,
    "start_time": "2022-04-20T08:34:36.188Z"
   },
   {
    "duration": 19,
    "start_time": "2022-04-20T08:34:36.196Z"
   },
   {
    "duration": 7,
    "start_time": "2022-04-20T08:34:36.218Z"
   },
   {
    "duration": 57,
    "start_time": "2022-04-20T08:34:36.227Z"
   },
   {
    "duration": 17,
    "start_time": "2022-04-20T08:34:36.286Z"
   },
   {
    "duration": 17,
    "start_time": "2022-04-20T08:34:36.306Z"
   },
   {
    "duration": 77,
    "start_time": "2022-04-20T08:34:36.325Z"
   },
   {
    "duration": 17,
    "start_time": "2022-04-20T08:34:36.405Z"
   },
   {
    "duration": 95,
    "start_time": "2022-04-20T08:34:36.424Z"
   },
   {
    "duration": 25,
    "start_time": "2022-04-20T08:34:36.522Z"
   },
   {
    "duration": 45,
    "start_time": "2022-04-20T08:34:36.549Z"
   },
   {
    "duration": 14,
    "start_time": "2022-04-20T08:34:36.596Z"
   },
   {
    "duration": 82,
    "start_time": "2022-04-20T08:34:36.612Z"
   },
   {
    "duration": 16,
    "start_time": "2022-04-20T08:34:36.696Z"
   },
   {
    "duration": 78,
    "start_time": "2022-04-20T08:34:36.714Z"
   },
   {
    "duration": 10,
    "start_time": "2022-04-20T08:34:36.797Z"
   },
   {
    "duration": 180,
    "start_time": "2022-04-20T08:34:36.810Z"
   },
   {
    "duration": 61,
    "start_time": "2022-04-20T08:34:36.993Z"
   },
   {
    "duration": 138,
    "start_time": "2022-04-20T08:34:37.057Z"
   },
   {
    "duration": 12,
    "start_time": "2022-04-20T08:35:08.971Z"
   },
   {
    "duration": 8,
    "start_time": "2022-04-20T08:35:09.977Z"
   },
   {
    "duration": 11,
    "start_time": "2022-04-20T08:35:10.773Z"
   },
   {
    "duration": 26,
    "start_time": "2022-04-20T08:36:21.959Z"
   },
   {
    "duration": 32,
    "start_time": "2022-04-20T08:42:38.691Z"
   },
   {
    "duration": 4,
    "start_time": "2022-04-20T08:42:56.483Z"
   },
   {
    "duration": 498,
    "start_time": "2022-04-20T08:42:56.495Z"
   },
   {
    "duration": 17,
    "start_time": "2022-04-20T08:42:56.996Z"
   },
   {
    "duration": 68,
    "start_time": "2022-04-20T08:42:57.016Z"
   },
   {
    "duration": 28,
    "start_time": "2022-04-20T08:42:57.089Z"
   },
   {
    "duration": 65,
    "start_time": "2022-04-20T08:42:57.120Z"
   },
   {
    "duration": 19,
    "start_time": "2022-04-20T08:42:57.188Z"
   },
   {
    "duration": 16,
    "start_time": "2022-04-20T08:42:57.209Z"
   },
   {
    "duration": 57,
    "start_time": "2022-04-20T08:42:57.228Z"
   },
   {
    "duration": 20,
    "start_time": "2022-04-20T08:42:57.288Z"
   },
   {
    "duration": 8,
    "start_time": "2022-04-20T08:42:57.314Z"
   },
   {
    "duration": 64,
    "start_time": "2022-04-20T08:42:57.324Z"
   },
   {
    "duration": 6,
    "start_time": "2022-04-20T08:42:57.390Z"
   },
   {
    "duration": 23,
    "start_time": "2022-04-20T08:42:57.398Z"
   },
   {
    "duration": 30,
    "start_time": "2022-04-20T08:42:57.423Z"
   },
   {
    "duration": 39,
    "start_time": "2022-04-20T08:42:57.455Z"
   },
   {
    "duration": 41,
    "start_time": "2022-04-20T08:42:57.496Z"
   },
   {
    "duration": 44,
    "start_time": "2022-04-20T08:42:57.539Z"
   },
   {
    "duration": 68,
    "start_time": "2022-04-20T08:42:57.585Z"
   },
   {
    "duration": 46,
    "start_time": "2022-04-20T08:42:57.655Z"
   },
   {
    "duration": 25,
    "start_time": "2022-04-20T08:42:57.704Z"
   },
   {
    "duration": 52,
    "start_time": "2022-04-20T08:42:57.731Z"
   },
   {
    "duration": 47,
    "start_time": "2022-04-20T08:42:57.785Z"
   },
   {
    "duration": 17,
    "start_time": "2022-04-20T08:42:57.834Z"
   },
   {
    "duration": 54,
    "start_time": "2022-04-20T08:42:57.882Z"
   },
   {
    "duration": 8,
    "start_time": "2022-04-20T08:42:57.939Z"
   },
   {
    "duration": 174,
    "start_time": "2022-04-20T08:42:57.949Z"
   },
   {
    "duration": 77,
    "start_time": "2022-04-20T08:42:58.125Z"
   },
   {
    "duration": 114,
    "start_time": "2022-04-20T08:42:58.206Z"
   },
   {
    "duration": 7,
    "start_time": "2022-04-20T08:42:58.322Z"
   },
   {
    "duration": 25,
    "start_time": "2022-04-20T08:43:03.198Z"
   },
   {
    "duration": 25,
    "start_time": "2022-04-20T08:43:09.389Z"
   },
   {
    "duration": 12,
    "start_time": "2022-04-20T08:44:10.421Z"
   },
   {
    "duration": 62,
    "start_time": "2022-04-20T13:24:10.049Z"
   },
   {
    "duration": 869,
    "start_time": "2022-04-20T13:24:20.238Z"
   },
   {
    "duration": 426,
    "start_time": "2022-04-20T13:24:21.109Z"
   },
   {
    "duration": 17,
    "start_time": "2022-04-20T13:24:21.537Z"
   },
   {
    "duration": 52,
    "start_time": "2022-04-20T13:24:21.556Z"
   },
   {
    "duration": 17,
    "start_time": "2022-04-20T13:24:21.609Z"
   },
   {
    "duration": 21,
    "start_time": "2022-04-20T13:24:21.628Z"
   },
   {
    "duration": 32,
    "start_time": "2022-04-20T13:24:21.653Z"
   },
   {
    "duration": 19,
    "start_time": "2022-04-20T13:24:21.687Z"
   },
   {
    "duration": 9,
    "start_time": "2022-04-20T13:24:21.708Z"
   },
   {
    "duration": 13,
    "start_time": "2022-04-20T13:24:21.719Z"
   },
   {
    "duration": 5,
    "start_time": "2022-04-20T13:24:21.734Z"
   },
   {
    "duration": 15,
    "start_time": "2022-04-20T13:24:21.741Z"
   },
   {
    "duration": 38,
    "start_time": "2022-04-20T13:24:21.757Z"
   },
   {
    "duration": 9,
    "start_time": "2022-04-20T13:24:21.797Z"
   },
   {
    "duration": 21,
    "start_time": "2022-04-20T13:24:21.808Z"
   },
   {
    "duration": 27,
    "start_time": "2022-04-20T13:24:21.830Z"
   },
   {
    "duration": 49,
    "start_time": "2022-04-20T13:24:21.860Z"
   },
   {
    "duration": 13,
    "start_time": "2022-04-20T13:24:21.910Z"
   },
   {
    "duration": 77,
    "start_time": "2022-04-20T13:24:21.925Z"
   },
   {
    "duration": 18,
    "start_time": "2022-04-20T13:24:22.004Z"
   },
   {
    "duration": 29,
    "start_time": "2022-04-20T13:24:22.024Z"
   },
   {
    "duration": 13,
    "start_time": "2022-04-20T13:24:22.059Z"
   },
   {
    "duration": 49,
    "start_time": "2022-04-20T13:24:22.074Z"
   },
   {
    "duration": 11,
    "start_time": "2022-04-20T13:24:22.125Z"
   },
   {
    "duration": 62,
    "start_time": "2022-04-20T13:24:22.137Z"
   },
   {
    "duration": 5,
    "start_time": "2022-04-20T13:24:22.201Z"
   },
   {
    "duration": 124,
    "start_time": "2022-04-20T13:24:22.208Z"
   },
   {
    "duration": 59,
    "start_time": "2022-04-20T13:24:22.336Z"
   },
   {
    "duration": 74,
    "start_time": "2022-04-20T13:24:22.396Z"
   },
   {
    "duration": 6,
    "start_time": "2022-04-20T13:24:22.472Z"
   },
   {
    "duration": 40,
    "start_time": "2022-04-20T13:24:22.479Z"
   },
   {
    "duration": 20,
    "start_time": "2022-04-20T13:24:22.521Z"
   },
   {
    "duration": 8,
    "start_time": "2022-04-20T13:24:22.542Z"
   },
   {
    "duration": 45,
    "start_time": "2022-04-20T13:24:22.552Z"
   },
   {
    "duration": 6,
    "start_time": "2022-04-20T13:24:22.599Z"
   },
   {
    "duration": 34,
    "start_time": "2022-04-20T13:24:22.606Z"
   },
   {
    "duration": 31,
    "start_time": "2022-04-20T13:24:22.641Z"
   },
   {
    "duration": 37,
    "start_time": "2022-04-20T13:24:22.675Z"
   },
   {
    "duration": 22,
    "start_time": "2022-04-20T13:24:22.714Z"
   },
   {
    "duration": 42,
    "start_time": "2022-04-20T13:24:22.748Z"
   },
   {
    "duration": 83,
    "start_time": "2022-04-20T13:24:22.792Z"
   },
   {
    "duration": 0,
    "start_time": "2022-04-20T13:24:22.879Z"
   },
   {
    "duration": 0,
    "start_time": "2022-04-20T13:24:22.881Z"
   },
   {
    "duration": 0,
    "start_time": "2022-04-20T13:24:22.882Z"
   },
   {
    "duration": 0,
    "start_time": "2022-04-20T13:24:22.883Z"
   },
   {
    "duration": 0,
    "start_time": "2022-04-20T13:24:22.884Z"
   },
   {
    "duration": 0,
    "start_time": "2022-04-20T13:24:22.885Z"
   },
   {
    "duration": 0,
    "start_time": "2022-04-20T13:24:22.887Z"
   },
   {
    "duration": 0,
    "start_time": "2022-04-20T13:24:22.890Z"
   },
   {
    "duration": 0,
    "start_time": "2022-04-20T13:24:22.891Z"
   },
   {
    "duration": 0,
    "start_time": "2022-04-20T13:24:22.892Z"
   },
   {
    "duration": 0,
    "start_time": "2022-04-20T13:24:22.893Z"
   },
   {
    "duration": 0,
    "start_time": "2022-04-20T13:24:22.894Z"
   },
   {
    "duration": 0,
    "start_time": "2022-04-20T13:24:22.894Z"
   },
   {
    "duration": 0,
    "start_time": "2022-04-20T13:24:22.895Z"
   },
   {
    "duration": 0,
    "start_time": "2022-04-20T13:24:22.896Z"
   },
   {
    "duration": 0,
    "start_time": "2022-04-20T13:24:22.897Z"
   },
   {
    "duration": 0,
    "start_time": "2022-04-20T13:24:22.898Z"
   },
   {
    "duration": 0,
    "start_time": "2022-04-20T13:24:22.899Z"
   },
   {
    "duration": 0,
    "start_time": "2022-04-20T13:24:22.900Z"
   },
   {
    "duration": 0,
    "start_time": "2022-04-20T13:24:22.901Z"
   },
   {
    "duration": 0,
    "start_time": "2022-04-20T13:24:22.901Z"
   },
   {
    "duration": 0,
    "start_time": "2022-04-20T13:24:22.903Z"
   },
   {
    "duration": 0,
    "start_time": "2022-04-20T13:24:22.904Z"
   },
   {
    "duration": 21,
    "start_time": "2022-04-20T13:24:41.847Z"
   },
   {
    "duration": 39,
    "start_time": "2022-04-20T13:25:28.756Z"
   },
   {
    "duration": 15,
    "start_time": "2022-04-20T13:25:36.632Z"
   },
   {
    "duration": 21,
    "start_time": "2022-04-20T13:25:37.257Z"
   },
   {
    "duration": 14,
    "start_time": "2022-04-20T13:25:38.511Z"
   },
   {
    "duration": 13,
    "start_time": "2022-04-20T13:25:39.071Z"
   },
   {
    "duration": 1766,
    "start_time": "2022-04-20T13:25:40.202Z"
   },
   {
    "duration": 8,
    "start_time": "2022-04-20T13:25:41.971Z"
   },
   {
    "duration": 112,
    "start_time": "2022-04-20T13:25:42.421Z"
   },
   {
    "duration": 6,
    "start_time": "2022-04-20T13:25:43.779Z"
   },
   {
    "duration": 8643,
    "start_time": "2022-04-20T13:25:44.233Z"
   },
   {
    "duration": 8,
    "start_time": "2022-04-20T13:25:52.879Z"
   },
   {
    "duration": 13,
    "start_time": "2022-04-20T13:25:52.889Z"
   },
   {
    "duration": 1690,
    "start_time": "2022-04-20T13:25:52.905Z"
   },
   {
    "duration": 19,
    "start_time": "2022-04-20T13:25:54.597Z"
   },
   {
    "duration": 1092,
    "start_time": "2022-04-20T13:25:54.618Z"
   },
   {
    "duration": 422,
    "start_time": "2022-04-20T13:25:55.712Z"
   },
   {
    "duration": 337,
    "start_time": "2022-04-20T13:25:56.137Z"
   },
   {
    "duration": 10,
    "start_time": "2022-04-20T13:25:56.476Z"
   },
   {
    "duration": 18,
    "start_time": "2022-04-20T13:25:56.488Z"
   },
   {
    "duration": 12,
    "start_time": "2022-04-20T13:25:56.508Z"
   },
   {
    "duration": 278,
    "start_time": "2022-04-20T13:25:56.522Z"
   },
   {
    "duration": 291,
    "start_time": "2022-04-20T13:25:56.802Z"
   },
   {
    "duration": 306,
    "start_time": "2022-04-20T13:25:57.096Z"
   },
   {
    "duration": 23,
    "start_time": "2022-04-20T13:25:59.975Z"
   },
   {
    "duration": 8,
    "start_time": "2022-04-20T13:26:30.590Z"
   },
   {
    "duration": 11,
    "start_time": "2022-04-20T13:26:41.626Z"
   },
   {
    "duration": 366,
    "start_time": "2022-04-20T13:27:04.945Z"
   },
   {
    "duration": 198,
    "start_time": "2022-04-20T13:27:48.316Z"
   },
   {
    "duration": 186,
    "start_time": "2022-04-20T13:27:54.479Z"
   },
   {
    "duration": 168,
    "start_time": "2022-04-20T13:28:04.275Z"
   },
   {
    "duration": 307,
    "start_time": "2022-04-20T13:28:38.875Z"
   },
   {
    "duration": 258,
    "start_time": "2022-04-20T13:28:44.093Z"
   },
   {
    "duration": 223,
    "start_time": "2022-04-20T13:28:56.308Z"
   },
   {
    "duration": 234,
    "start_time": "2022-04-20T13:55:27.966Z"
   },
   {
    "duration": 352,
    "start_time": "2022-04-20T13:56:13.244Z"
   },
   {
    "duration": 840,
    "start_time": "2022-04-20T13:56:53.636Z"
   },
   {
    "duration": 359,
    "start_time": "2022-04-20T13:56:54.477Z"
   },
   {
    "duration": 11,
    "start_time": "2022-04-20T13:56:54.838Z"
   },
   {
    "duration": 27,
    "start_time": "2022-04-20T13:56:54.852Z"
   },
   {
    "duration": 18,
    "start_time": "2022-04-20T13:56:54.881Z"
   },
   {
    "duration": 21,
    "start_time": "2022-04-20T13:56:54.901Z"
   },
   {
    "duration": 33,
    "start_time": "2022-04-20T13:56:54.923Z"
   },
   {
    "duration": 14,
    "start_time": "2022-04-20T13:56:54.957Z"
   },
   {
    "duration": 9,
    "start_time": "2022-04-20T13:56:54.973Z"
   },
   {
    "duration": 12,
    "start_time": "2022-04-20T13:56:54.986Z"
   },
   {
    "duration": 5,
    "start_time": "2022-04-20T13:56:55.000Z"
   },
   {
    "duration": 47,
    "start_time": "2022-04-20T13:56:55.007Z"
   },
   {
    "duration": 5,
    "start_time": "2022-04-20T13:56:55.056Z"
   },
   {
    "duration": 11,
    "start_time": "2022-04-20T13:56:55.063Z"
   },
   {
    "duration": 13,
    "start_time": "2022-04-20T13:56:55.076Z"
   },
   {
    "duration": 10,
    "start_time": "2022-04-20T13:56:55.091Z"
   },
   {
    "duration": 49,
    "start_time": "2022-04-20T13:56:55.102Z"
   },
   {
    "duration": 12,
    "start_time": "2022-04-20T13:56:55.152Z"
   },
   {
    "duration": 49,
    "start_time": "2022-04-20T13:56:55.166Z"
   },
   {
    "duration": 33,
    "start_time": "2022-04-20T13:56:55.217Z"
   },
   {
    "duration": 9,
    "start_time": "2022-04-20T13:56:55.252Z"
   },
   {
    "duration": 32,
    "start_time": "2022-04-20T13:56:55.263Z"
   },
   {
    "duration": 11,
    "start_time": "2022-04-20T13:56:55.297Z"
   },
   {
    "duration": 61,
    "start_time": "2022-04-20T13:56:55.309Z"
   },
   {
    "duration": 5,
    "start_time": "2022-04-20T13:56:55.372Z"
   },
   {
    "duration": 106,
    "start_time": "2022-04-20T13:56:55.379Z"
   },
   {
    "duration": 40,
    "start_time": "2022-04-20T13:56:55.487Z"
   },
   {
    "duration": 65,
    "start_time": "2022-04-20T13:56:55.531Z"
   },
   {
    "duration": 5,
    "start_time": "2022-04-20T13:56:55.597Z"
   },
   {
    "duration": 21,
    "start_time": "2022-04-20T13:56:55.604Z"
   },
   {
    "duration": 31,
    "start_time": "2022-04-20T13:56:55.627Z"
   },
   {
    "duration": 8,
    "start_time": "2022-04-20T13:56:55.659Z"
   },
   {
    "duration": 8,
    "start_time": "2022-04-20T13:56:55.669Z"
   },
   {
    "duration": 6,
    "start_time": "2022-04-20T13:56:55.679Z"
   },
   {
    "duration": 65,
    "start_time": "2022-04-20T13:56:55.686Z"
   },
   {
    "duration": 22,
    "start_time": "2022-04-20T13:56:55.753Z"
   },
   {
    "duration": 28,
    "start_time": "2022-04-20T13:56:55.776Z"
   },
   {
    "duration": 43,
    "start_time": "2022-04-20T13:56:55.805Z"
   },
   {
    "duration": 21,
    "start_time": "2022-04-20T13:56:55.850Z"
   },
   {
    "duration": 24,
    "start_time": "2022-04-20T13:56:55.873Z"
   },
   {
    "duration": 15,
    "start_time": "2022-04-20T13:56:55.898Z"
   },
   {
    "duration": 38,
    "start_time": "2022-04-20T13:56:55.914Z"
   },
   {
    "duration": 13,
    "start_time": "2022-04-20T13:56:55.954Z"
   },
   {
    "duration": 9,
    "start_time": "2022-04-20T13:56:55.969Z"
   },
   {
    "duration": 1869,
    "start_time": "2022-04-20T13:56:55.979Z"
   },
   {
    "duration": 5,
    "start_time": "2022-04-20T13:56:57.849Z"
   },
   {
    "duration": 69,
    "start_time": "2022-04-20T13:56:57.855Z"
   },
   {
    "duration": 5,
    "start_time": "2022-04-20T13:56:57.925Z"
   },
   {
    "duration": 6507,
    "start_time": "2022-04-20T13:56:57.931Z"
   },
   {
    "duration": 9,
    "start_time": "2022-04-20T13:57:04.439Z"
   },
   {
    "duration": 7,
    "start_time": "2022-04-20T13:57:04.449Z"
   },
   {
    "duration": 1249,
    "start_time": "2022-04-20T13:57:04.457Z"
   },
   {
    "duration": 19,
    "start_time": "2022-04-20T13:57:05.707Z"
   },
   {
    "duration": 584,
    "start_time": "2022-04-20T13:57:05.727Z"
   },
   {
    "duration": 199,
    "start_time": "2022-04-20T13:57:06.313Z"
   },
   {
    "duration": 205,
    "start_time": "2022-04-20T13:57:06.514Z"
   },
   {
    "duration": 84,
    "start_time": "2022-04-20T13:57:06.721Z"
   },
   {
    "duration": 9,
    "start_time": "2022-04-20T13:57:06.807Z"
   },
   {
    "duration": 9,
    "start_time": "2022-04-20T13:57:06.818Z"
   },
   {
    "duration": 171,
    "start_time": "2022-04-20T13:57:06.829Z"
   },
   {
    "duration": 245,
    "start_time": "2022-04-20T13:57:07.002Z"
   },
   {
    "duration": 238,
    "start_time": "2022-04-20T13:57:07.249Z"
   },
   {
    "duration": 8,
    "start_time": "2022-04-20T13:57:07.489Z"
   },
   {
    "duration": 7,
    "start_time": "2022-04-20T13:57:07.499Z"
   },
   {
    "duration": 174,
    "start_time": "2022-04-20T13:57:07.508Z"
   },
   {
    "duration": 322,
    "start_time": "2022-04-20T13:57:07.684Z"
   },
   {
    "duration": 169,
    "start_time": "2022-04-20T13:57:08.008Z"
   },
   {
    "duration": 9,
    "start_time": "2022-04-20T13:57:08.178Z"
   },
   {
    "duration": 8,
    "start_time": "2022-04-20T13:57:08.188Z"
   },
   {
    "duration": 170,
    "start_time": "2022-04-20T13:57:08.198Z"
   },
   {
    "duration": 224,
    "start_time": "2022-04-20T13:57:08.370Z"
   },
   {
    "duration": 226,
    "start_time": "2022-04-20T13:57:08.596Z"
   },
   {
    "duration": 10,
    "start_time": "2022-04-20T13:57:08.824Z"
   },
   {
    "duration": 17,
    "start_time": "2022-04-20T13:57:08.835Z"
   },
   {
    "duration": 14,
    "start_time": "2022-04-20T13:57:08.853Z"
   },
   {
    "duration": 7,
    "start_time": "2022-04-20T13:57:08.869Z"
   },
   {
    "duration": 179,
    "start_time": "2022-04-20T13:57:08.877Z"
   },
   {
    "duration": 230,
    "start_time": "2022-04-20T13:57:09.058Z"
   },
   {
    "duration": 321,
    "start_time": "2022-04-20T13:57:09.289Z"
   },
   {
    "duration": 8,
    "start_time": "2022-04-20T13:57:09.612Z"
   },
   {
    "duration": 8,
    "start_time": "2022-04-20T13:57:09.621Z"
   },
   {
    "duration": 161,
    "start_time": "2022-04-20T13:57:09.647Z"
   },
   {
    "duration": 318,
    "start_time": "2022-04-20T13:57:09.809Z"
   },
   {
    "duration": 179,
    "start_time": "2022-04-20T13:57:10.129Z"
   },
   {
    "duration": 9,
    "start_time": "2022-04-20T13:57:10.310Z"
   },
   {
    "duration": 9,
    "start_time": "2022-04-20T13:57:10.321Z"
   },
   {
    "duration": 15,
    "start_time": "2022-04-20T13:58:09.118Z"
   },
   {
    "duration": 731,
    "start_time": "2022-04-20T13:58:28.529Z"
   },
   {
    "duration": 622,
    "start_time": "2022-04-20T13:58:48.198Z"
   },
   {
    "duration": 751,
    "start_time": "2022-04-20T13:58:58.689Z"
   },
   {
    "duration": 341,
    "start_time": "2022-04-20T13:59:45.840Z"
   },
   {
    "duration": 412,
    "start_time": "2022-04-20T14:00:10.323Z"
   },
   {
    "duration": 756,
    "start_time": "2022-04-20T14:47:38.127Z"
   },
   {
    "duration": 1820,
    "start_time": "2022-04-20T14:48:38.435Z"
   },
   {
    "duration": 120,
    "start_time": "2022-04-20T14:49:46.002Z"
   },
   {
    "duration": 122,
    "start_time": "2022-04-20T14:50:19.918Z"
   },
   {
    "duration": 333,
    "start_time": "2022-04-20T14:50:26.500Z"
   },
   {
    "duration": 152,
    "start_time": "2022-04-20T15:12:18.264Z"
   },
   {
    "duration": 182,
    "start_time": "2022-04-20T15:13:01.230Z"
   },
   {
    "duration": 243,
    "start_time": "2022-04-20T15:13:15.207Z"
   },
   {
    "duration": 179,
    "start_time": "2022-04-20T15:18:05.643Z"
   },
   {
    "duration": 9,
    "start_time": "2022-04-20T15:18:54.647Z"
   },
   {
    "duration": 14,
    "start_time": "2022-04-20T15:19:18.265Z"
   },
   {
    "duration": 10,
    "start_time": "2022-04-20T15:21:56.145Z"
   },
   {
    "duration": 15,
    "start_time": "2022-04-20T15:22:03.813Z"
   },
   {
    "duration": 20,
    "start_time": "2022-04-20T15:23:23.914Z"
   },
   {
    "duration": 16,
    "start_time": "2022-04-20T15:24:42.668Z"
   },
   {
    "duration": 20,
    "start_time": "2022-04-20T15:25:06.875Z"
   },
   {
    "duration": 20,
    "start_time": "2022-04-20T15:26:27.483Z"
   },
   {
    "duration": 25,
    "start_time": "2022-04-20T15:26:40.641Z"
   },
   {
    "duration": 16,
    "start_time": "2022-04-20T15:27:39.264Z"
   },
   {
    "duration": 14,
    "start_time": "2022-04-20T15:38:28.365Z"
   },
   {
    "duration": 184,
    "start_time": "2022-04-20T15:40:32.700Z"
   },
   {
    "duration": 369,
    "start_time": "2022-04-20T15:41:31.968Z"
   },
   {
    "duration": 117,
    "start_time": "2022-04-20T15:42:08.792Z"
   },
   {
    "duration": 21,
    "start_time": "2022-04-20T15:43:09.762Z"
   },
   {
    "duration": 29,
    "start_time": "2022-04-20T15:47:22.349Z"
   },
   {
    "duration": 21,
    "start_time": "2022-04-20T15:48:05.361Z"
   },
   {
    "duration": 27,
    "start_time": "2022-04-20T15:48:21.328Z"
   },
   {
    "duration": 22,
    "start_time": "2022-04-20T15:48:33.461Z"
   },
   {
    "duration": 27,
    "start_time": "2022-04-20T15:50:54.446Z"
   },
   {
    "duration": 145,
    "start_time": "2022-04-20T15:53:30.232Z"
   },
   {
    "duration": 13,
    "start_time": "2022-04-20T15:53:47.835Z"
   },
   {
    "duration": 27,
    "start_time": "2022-04-20T15:55:14.359Z"
   },
   {
    "duration": 16,
    "start_time": "2022-04-20T15:56:45.358Z"
   },
   {
    "duration": 15,
    "start_time": "2022-04-20T15:57:23.528Z"
   },
   {
    "duration": 12,
    "start_time": "2022-04-20T15:57:58.619Z"
   },
   {
    "duration": 535,
    "start_time": "2022-04-20T15:58:50.435Z"
   },
   {
    "duration": 508,
    "start_time": "2022-04-20T15:59:02.163Z"
   },
   {
    "duration": 453,
    "start_time": "2022-04-20T15:59:07.569Z"
   },
   {
    "duration": 12,
    "start_time": "2022-04-20T15:59:18.002Z"
   },
   {
    "duration": 488,
    "start_time": "2022-04-20T15:59:28.035Z"
   },
   {
    "duration": 13,
    "start_time": "2022-04-20T15:59:46.335Z"
   },
   {
    "duration": 17,
    "start_time": "2022-04-20T16:00:01.676Z"
   },
   {
    "duration": 134,
    "start_time": "2022-04-20T16:01:39.457Z"
   },
   {
    "duration": 21,
    "start_time": "2022-04-20T16:01:47.001Z"
   },
   {
    "duration": 25,
    "start_time": "2022-04-20T16:02:00.879Z"
   },
   {
    "duration": 14,
    "start_time": "2022-04-20T16:02:13.089Z"
   },
   {
    "duration": 13,
    "start_time": "2022-04-20T16:03:55.678Z"
   },
   {
    "duration": 11,
    "start_time": "2022-04-20T16:04:59.129Z"
   },
   {
    "duration": 203,
    "start_time": "2022-04-20T16:06:30.421Z"
   },
   {
    "duration": 23,
    "start_time": "2022-04-20T16:13:38.259Z"
   },
   {
    "duration": 13,
    "start_time": "2022-04-20T16:13:49.288Z"
   },
   {
    "duration": 240,
    "start_time": "2022-04-20T16:15:53.590Z"
   },
   {
    "duration": 233,
    "start_time": "2022-04-20T16:16:10.982Z"
   },
   {
    "duration": 339,
    "start_time": "2022-04-20T16:16:19.034Z"
   },
   {
    "duration": 289,
    "start_time": "2022-04-20T16:17:04.794Z"
   },
   {
    "duration": 271,
    "start_time": "2022-04-20T16:17:10.873Z"
   },
   {
    "duration": 879,
    "start_time": "2022-04-21T09:08:05.424Z"
   },
   {
    "duration": 398,
    "start_time": "2022-04-21T09:08:06.306Z"
   },
   {
    "duration": 12,
    "start_time": "2022-04-21T09:08:06.706Z"
   },
   {
    "duration": 27,
    "start_time": "2022-04-21T09:08:06.721Z"
   },
   {
    "duration": 66,
    "start_time": "2022-04-21T09:08:06.750Z"
   },
   {
    "duration": 26,
    "start_time": "2022-04-21T09:08:06.820Z"
   },
   {
    "duration": 10,
    "start_time": "2022-04-21T09:08:06.848Z"
   },
   {
    "duration": 66,
    "start_time": "2022-04-21T09:08:06.860Z"
   },
   {
    "duration": 17,
    "start_time": "2022-04-21T09:08:06.928Z"
   },
   {
    "duration": 15,
    "start_time": "2022-04-21T09:08:06.949Z"
   },
   {
    "duration": 6,
    "start_time": "2022-04-21T09:08:06.966Z"
   },
   {
    "duration": 60,
    "start_time": "2022-04-21T09:08:06.974Z"
   },
   {
    "duration": 6,
    "start_time": "2022-04-21T09:08:07.036Z"
   },
   {
    "duration": 12,
    "start_time": "2022-04-21T09:08:07.044Z"
   },
   {
    "duration": 12,
    "start_time": "2022-04-21T09:08:07.058Z"
   },
   {
    "duration": 53,
    "start_time": "2022-04-21T09:08:07.072Z"
   },
   {
    "duration": 46,
    "start_time": "2022-04-21T09:08:07.127Z"
   },
   {
    "duration": 44,
    "start_time": "2022-04-21T09:08:07.176Z"
   },
   {
    "duration": 55,
    "start_time": "2022-04-21T09:08:07.223Z"
   },
   {
    "duration": 50,
    "start_time": "2022-04-21T09:08:07.279Z"
   },
   {
    "duration": 10,
    "start_time": "2022-04-21T09:08:07.331Z"
   },
   {
    "duration": 37,
    "start_time": "2022-04-21T09:08:07.343Z"
   },
   {
    "duration": 53,
    "start_time": "2022-04-21T09:08:07.381Z"
   },
   {
    "duration": 40,
    "start_time": "2022-04-21T09:08:07.436Z"
   },
   {
    "duration": 47,
    "start_time": "2022-04-21T09:08:07.478Z"
   },
   {
    "duration": 121,
    "start_time": "2022-04-21T09:08:07.528Z"
   },
   {
    "duration": 44,
    "start_time": "2022-04-21T09:08:07.650Z"
   },
   {
    "duration": 65,
    "start_time": "2022-04-21T09:08:07.713Z"
   },
   {
    "duration": 6,
    "start_time": "2022-04-21T09:08:07.780Z"
   },
   {
    "duration": 27,
    "start_time": "2022-04-21T09:08:07.812Z"
   },
   {
    "duration": 20,
    "start_time": "2022-04-21T09:08:07.841Z"
   },
   {
    "duration": 8,
    "start_time": "2022-04-21T09:08:07.863Z"
   },
   {
    "duration": 47,
    "start_time": "2022-04-21T09:08:07.872Z"
   },
   {
    "duration": 6,
    "start_time": "2022-04-21T09:08:07.921Z"
   },
   {
    "duration": 35,
    "start_time": "2022-04-21T09:08:07.929Z"
   },
   {
    "duration": 66,
    "start_time": "2022-04-21T09:08:07.965Z"
   },
   {
    "duration": 28,
    "start_time": "2022-04-21T09:08:08.034Z"
   },
   {
    "duration": 62,
    "start_time": "2022-04-21T09:08:08.064Z"
   },
   {
    "duration": 24,
    "start_time": "2022-04-21T09:08:08.128Z"
   },
   {
    "duration": 24,
    "start_time": "2022-04-21T09:08:08.154Z"
   },
   {
    "duration": 53,
    "start_time": "2022-04-21T09:08:08.180Z"
   },
   {
    "duration": 13,
    "start_time": "2022-04-21T09:08:08.234Z"
   },
   {
    "duration": 19,
    "start_time": "2022-04-21T09:08:08.249Z"
   },
   {
    "duration": 44,
    "start_time": "2022-04-21T09:08:08.269Z"
   },
   {
    "duration": 1657,
    "start_time": "2022-04-21T09:08:08.317Z"
   },
   {
    "duration": 5,
    "start_time": "2022-04-21T09:08:09.976Z"
   },
   {
    "duration": 82,
    "start_time": "2022-04-21T09:08:09.983Z"
   },
   {
    "duration": 5,
    "start_time": "2022-04-21T09:08:10.067Z"
   },
   {
    "duration": 7673,
    "start_time": "2022-04-21T09:08:10.075Z"
   },
   {
    "duration": 4,
    "start_time": "2022-04-21T09:08:17.750Z"
   },
   {
    "duration": 7,
    "start_time": "2022-04-21T09:08:17.755Z"
   },
   {
    "duration": 1473,
    "start_time": "2022-04-21T09:08:17.763Z"
   },
   {
    "duration": 23,
    "start_time": "2022-04-21T09:08:19.237Z"
   },
   {
    "duration": 920,
    "start_time": "2022-04-21T09:08:19.263Z"
   },
   {
    "duration": 443,
    "start_time": "2022-04-21T09:08:20.185Z"
   },
   {
    "duration": 19,
    "start_time": "2022-04-21T09:08:20.630Z"
   },
   {
    "duration": 15,
    "start_time": "2022-04-21T09:08:20.651Z"
   },
   {
    "duration": 257,
    "start_time": "2022-04-21T09:08:20.668Z"
   },
   {
    "duration": 274,
    "start_time": "2022-04-21T09:08:20.927Z"
   },
   {
    "duration": 298,
    "start_time": "2022-04-21T09:08:21.208Z"
   },
   {
    "duration": 22,
    "start_time": "2022-04-21T09:08:21.510Z"
   },
   {
    "duration": 13,
    "start_time": "2022-04-21T09:08:21.533Z"
   },
   {
    "duration": 233,
    "start_time": "2022-04-21T09:08:21.548Z"
   },
   {
    "duration": 401,
    "start_time": "2022-04-21T09:08:21.783Z"
   },
   {
    "duration": 266,
    "start_time": "2022-04-21T09:08:22.186Z"
   },
   {
    "duration": 18,
    "start_time": "2022-04-21T09:08:22.458Z"
   },
   {
    "duration": 38,
    "start_time": "2022-04-21T09:08:22.480Z"
   },
   {
    "duration": 207,
    "start_time": "2022-04-21T09:08:22.520Z"
   },
   {
    "duration": 291,
    "start_time": "2022-04-21T09:08:22.729Z"
   },
   {
    "duration": 269,
    "start_time": "2022-04-21T09:08:23.022Z"
   },
   {
    "duration": 21,
    "start_time": "2022-04-21T09:08:23.292Z"
   },
   {
    "duration": 18,
    "start_time": "2022-04-21T09:08:23.315Z"
   },
   {
    "duration": 228,
    "start_time": "2022-04-21T09:08:23.336Z"
   },
   {
    "duration": 368,
    "start_time": "2022-04-21T09:08:23.566Z"
   },
   {
    "duration": 291,
    "start_time": "2022-04-21T09:08:23.936Z"
   },
   {
    "duration": 17,
    "start_time": "2022-04-21T09:08:24.229Z"
   },
   {
    "duration": 17,
    "start_time": "2022-04-21T09:09:04.715Z"
   },
   {
    "duration": 197,
    "start_time": "2022-04-21T09:13:05.119Z"
   },
   {
    "duration": 217,
    "start_time": "2022-04-21T09:13:24.653Z"
   },
   {
    "duration": 72,
    "start_time": "2022-04-21T09:27:39.378Z"
   },
   {
    "duration": 76,
    "start_time": "2022-04-21T09:27:47.578Z"
   },
   {
    "duration": 1660,
    "start_time": "2022-04-21T09:28:38.519Z"
   },
   {
    "duration": 14,
    "start_time": "2022-04-21T09:28:56.841Z"
   },
   {
    "duration": 8,
    "start_time": "2022-04-21T09:30:16.379Z"
   },
   {
    "duration": 89,
    "start_time": "2022-04-21T09:32:30.583Z"
   },
   {
    "duration": 72,
    "start_time": "2022-04-21T09:32:48.144Z"
   },
   {
    "duration": 66,
    "start_time": "2022-04-21T09:33:39.090Z"
   },
   {
    "duration": 85,
    "start_time": "2022-04-21T09:34:13.493Z"
   },
   {
    "duration": 1399,
    "start_time": "2022-04-21T09:34:28.739Z"
   },
   {
    "duration": 11,
    "start_time": "2022-04-21T09:34:41.116Z"
   },
   {
    "duration": 201,
    "start_time": "2022-04-21T09:34:54.836Z"
   },
   {
    "duration": 22,
    "start_time": "2022-04-21T09:36:27.923Z"
   },
   {
    "duration": 23,
    "start_time": "2022-04-21T09:37:24.347Z"
   },
   {
    "duration": 156,
    "start_time": "2022-04-21T09:37:32.595Z"
   },
   {
    "duration": 193,
    "start_time": "2022-04-21T09:37:44.815Z"
   },
   {
    "duration": 126,
    "start_time": "2022-04-21T09:40:06.028Z"
   },
   {
    "duration": 120,
    "start_time": "2022-04-21T09:40:33.973Z"
   },
   {
    "duration": 154,
    "start_time": "2022-04-21T09:52:23.782Z"
   },
   {
    "duration": 261,
    "start_time": "2022-04-21T09:52:49.144Z"
   },
   {
    "duration": 168,
    "start_time": "2022-04-21T09:53:27.064Z"
   },
   {
    "duration": 157,
    "start_time": "2022-04-21T09:54:25.743Z"
   },
   {
    "duration": 158,
    "start_time": "2022-04-21T09:54:57.081Z"
   },
   {
    "duration": 160,
    "start_time": "2022-04-21T09:55:14.179Z"
   },
   {
    "duration": 157,
    "start_time": "2022-04-21T09:56:04.466Z"
   },
   {
    "duration": 151,
    "start_time": "2022-04-21T09:59:27.017Z"
   },
   {
    "duration": 158,
    "start_time": "2022-04-21T10:00:12.940Z"
   },
   {
    "duration": 161,
    "start_time": "2022-04-21T10:01:06.245Z"
   },
   {
    "duration": 168,
    "start_time": "2022-04-21T10:01:17.134Z"
   },
   {
    "duration": 175,
    "start_time": "2022-04-21T10:09:28.367Z"
   },
   {
    "duration": 263,
    "start_time": "2022-04-21T10:09:57.293Z"
   },
   {
    "duration": 184,
    "start_time": "2022-04-21T10:13:57.975Z"
   },
   {
    "duration": 178,
    "start_time": "2022-04-21T10:17:38.883Z"
   },
   {
    "duration": 174,
    "start_time": "2022-04-21T10:20:25.743Z"
   },
   {
    "duration": 268,
    "start_time": "2022-04-21T10:20:33.063Z"
   },
   {
    "duration": 210,
    "start_time": "2022-04-21T10:21:15.564Z"
   },
   {
    "duration": 199,
    "start_time": "2022-04-21T10:21:40.237Z"
   },
   {
    "duration": 180,
    "start_time": "2022-04-21T10:21:53.972Z"
   },
   {
    "duration": 227,
    "start_time": "2022-04-21T10:22:08.566Z"
   },
   {
    "duration": 188,
    "start_time": "2022-04-21T10:22:15.586Z"
   },
   {
    "duration": 85,
    "start_time": "2022-04-21T10:27:56.237Z"
   },
   {
    "duration": 482,
    "start_time": "2022-04-21T10:57:48.214Z"
   },
   {
    "duration": 354,
    "start_time": "2022-04-21T10:58:55.166Z"
   },
   {
    "duration": 4,
    "start_time": "2022-04-21T11:01:39.542Z"
   },
   {
    "duration": 4,
    "start_time": "2022-04-21T11:02:50.832Z"
   },
   {
    "duration": 18,
    "start_time": "2022-04-21T11:03:12.922Z"
   },
   {
    "duration": 16,
    "start_time": "2022-04-21T11:03:26.376Z"
   },
   {
    "duration": 16,
    "start_time": "2022-04-21T11:03:44.749Z"
   },
   {
    "duration": 204,
    "start_time": "2022-04-21T12:32:01.464Z"
   },
   {
    "duration": 141,
    "start_time": "2022-04-21T13:30:35.672Z"
   },
   {
    "duration": 130,
    "start_time": "2022-04-21T13:30:57.659Z"
   },
   {
    "duration": 131,
    "start_time": "2022-04-21T13:31:54.850Z"
   },
   {
    "duration": 79,
    "start_time": "2022-04-21T13:34:12.310Z"
   },
   {
    "duration": 108,
    "start_time": "2022-04-21T13:34:22.839Z"
   },
   {
    "duration": 71,
    "start_time": "2022-04-21T13:35:42.735Z"
   },
   {
    "duration": 75,
    "start_time": "2022-04-21T13:36:04.086Z"
   },
   {
    "duration": 77,
    "start_time": "2022-04-21T13:36:46.347Z"
   },
   {
    "duration": 148,
    "start_time": "2022-04-21T13:37:09.673Z"
   },
   {
    "duration": 78,
    "start_time": "2022-04-21T13:39:10.327Z"
   },
   {
    "duration": 15,
    "start_time": "2022-04-21T13:39:29.036Z"
   },
   {
    "duration": 92,
    "start_time": "2022-04-21T13:39:48.077Z"
   },
   {
    "duration": 114,
    "start_time": "2022-04-21T13:39:58.149Z"
   },
   {
    "duration": 152,
    "start_time": "2022-04-21T13:42:02.626Z"
   },
   {
    "duration": 120,
    "start_time": "2022-04-21T13:43:07.687Z"
   },
   {
    "duration": 118,
    "start_time": "2022-04-21T13:43:25.326Z"
   },
   {
    "duration": 123,
    "start_time": "2022-04-21T13:44:55.209Z"
   },
   {
    "duration": 76,
    "start_time": "2022-04-21T13:45:34.142Z"
   },
   {
    "duration": 107,
    "start_time": "2022-04-21T13:45:49.866Z"
   },
   {
    "duration": 108,
    "start_time": "2022-04-21T13:47:02.124Z"
   },
   {
    "duration": 103,
    "start_time": "2022-04-21T13:47:14.249Z"
   },
   {
    "duration": 99,
    "start_time": "2022-04-21T13:47:39.185Z"
   },
   {
    "duration": 136,
    "start_time": "2022-04-21T13:47:46.091Z"
   },
   {
    "duration": 152,
    "start_time": "2022-04-21T13:49:14.754Z"
   },
   {
    "duration": 125,
    "start_time": "2022-04-21T13:49:56.091Z"
   },
   {
    "duration": 96,
    "start_time": "2022-04-21T13:50:18.563Z"
   },
   {
    "duration": 783,
    "start_time": "2022-04-21T15:46:40.848Z"
   },
   {
    "duration": 372,
    "start_time": "2022-04-21T15:46:41.633Z"
   },
   {
    "duration": 13,
    "start_time": "2022-04-21T15:46:42.007Z"
   },
   {
    "duration": 24,
    "start_time": "2022-04-21T15:46:42.022Z"
   },
   {
    "duration": 18,
    "start_time": "2022-04-21T15:46:42.047Z"
   },
   {
    "duration": 53,
    "start_time": "2022-04-21T15:46:42.066Z"
   },
   {
    "duration": 10,
    "start_time": "2022-04-21T15:46:42.121Z"
   },
   {
    "duration": 16,
    "start_time": "2022-04-21T15:46:42.133Z"
   },
   {
    "duration": 10,
    "start_time": "2022-04-21T15:46:42.150Z"
   },
   {
    "duration": 54,
    "start_time": "2022-04-21T15:46:42.163Z"
   },
   {
    "duration": 5,
    "start_time": "2022-04-21T15:46:42.219Z"
   },
   {
    "duration": 16,
    "start_time": "2022-04-21T15:46:42.226Z"
   },
   {
    "duration": 6,
    "start_time": "2022-04-21T15:46:42.244Z"
   },
   {
    "duration": 10,
    "start_time": "2022-04-21T15:46:42.251Z"
   },
   {
    "duration": 11,
    "start_time": "2022-04-21T15:46:42.262Z"
   },
   {
    "duration": 52,
    "start_time": "2022-04-21T15:46:42.275Z"
   },
   {
    "duration": 25,
    "start_time": "2022-04-21T15:46:42.329Z"
   },
   {
    "duration": 12,
    "start_time": "2022-04-21T15:46:42.356Z"
   },
   {
    "duration": 66,
    "start_time": "2022-04-21T15:46:42.369Z"
   },
   {
    "duration": 18,
    "start_time": "2022-04-21T15:46:42.436Z"
   },
   {
    "duration": 10,
    "start_time": "2022-04-21T15:46:42.455Z"
   },
   {
    "duration": 69,
    "start_time": "2022-04-21T15:46:42.466Z"
   },
   {
    "duration": 13,
    "start_time": "2022-04-21T15:46:42.537Z"
   },
   {
    "duration": 37,
    "start_time": "2022-04-21T15:46:42.551Z"
   },
   {
    "duration": 27,
    "start_time": "2022-04-21T15:46:42.589Z"
   },
   {
    "duration": 103,
    "start_time": "2022-04-21T15:46:42.622Z"
   },
   {
    "duration": 41,
    "start_time": "2022-04-21T15:46:42.726Z"
   },
   {
    "duration": 79,
    "start_time": "2022-04-21T15:46:42.771Z"
   },
   {
    "duration": 5,
    "start_time": "2022-04-21T15:46:42.851Z"
   },
   {
    "duration": 24,
    "start_time": "2022-04-21T15:46:42.857Z"
   },
   {
    "duration": 30,
    "start_time": "2022-04-21T15:46:42.883Z"
   },
   {
    "duration": 8,
    "start_time": "2022-04-21T15:46:42.915Z"
   },
   {
    "duration": 10,
    "start_time": "2022-04-21T15:46:42.925Z"
   },
   {
    "duration": 5,
    "start_time": "2022-04-21T15:46:42.936Z"
   },
   {
    "duration": 78,
    "start_time": "2022-04-21T15:46:42.942Z"
   },
   {
    "duration": 21,
    "start_time": "2022-04-21T15:46:43.022Z"
   },
   {
    "duration": 25,
    "start_time": "2022-04-21T15:46:43.044Z"
   },
   {
    "duration": 52,
    "start_time": "2022-04-21T15:46:43.071Z"
   },
   {
    "duration": 22,
    "start_time": "2022-04-21T15:46:43.125Z"
   },
   {
    "duration": 24,
    "start_time": "2022-04-21T15:46:43.149Z"
   },
   {
    "duration": 48,
    "start_time": "2022-04-21T15:46:43.175Z"
   },
   {
    "duration": 15,
    "start_time": "2022-04-21T15:46:43.224Z"
   },
   {
    "duration": 13,
    "start_time": "2022-04-21T15:46:43.241Z"
   },
   {
    "duration": 9,
    "start_time": "2022-04-21T15:46:43.256Z"
   },
   {
    "duration": 1497,
    "start_time": "2022-04-21T15:46:43.266Z"
   },
   {
    "duration": 4,
    "start_time": "2022-04-21T15:46:44.765Z"
   },
   {
    "duration": 83,
    "start_time": "2022-04-21T15:46:44.770Z"
   },
   {
    "duration": 5,
    "start_time": "2022-04-21T15:46:44.855Z"
   },
   {
    "duration": 6622,
    "start_time": "2022-04-21T15:46:44.861Z"
   },
   {
    "duration": 3,
    "start_time": "2022-04-21T15:46:51.485Z"
   },
   {
    "duration": 6,
    "start_time": "2022-04-21T15:46:51.490Z"
   },
   {
    "duration": 1264,
    "start_time": "2022-04-21T15:46:51.497Z"
   },
   {
    "duration": 22,
    "start_time": "2022-04-21T15:46:52.762Z"
   },
   {
    "duration": 657,
    "start_time": "2022-04-21T15:46:52.785Z"
   },
   {
    "duration": 373,
    "start_time": "2022-04-21T15:46:53.444Z"
   },
   {
    "duration": 16,
    "start_time": "2022-04-21T15:46:53.819Z"
   },
   {
    "duration": 12,
    "start_time": "2022-04-21T15:46:53.836Z"
   },
   {
    "duration": 213,
    "start_time": "2022-04-21T15:46:53.850Z"
   },
   {
    "duration": 280,
    "start_time": "2022-04-21T15:46:54.064Z"
   },
   {
    "duration": 273,
    "start_time": "2022-04-21T15:46:54.345Z"
   },
   {
    "duration": 16,
    "start_time": "2022-04-21T15:46:54.620Z"
   },
   {
    "duration": 11,
    "start_time": "2022-04-21T15:46:54.638Z"
   },
   {
    "duration": 197,
    "start_time": "2022-04-21T15:46:54.651Z"
   },
   {
    "duration": 340,
    "start_time": "2022-04-21T15:46:54.850Z"
   },
   {
    "duration": 259,
    "start_time": "2022-04-21T15:46:55.191Z"
   },
   {
    "duration": 16,
    "start_time": "2022-04-21T15:46:55.452Z"
   },
   {
    "duration": 12,
    "start_time": "2022-04-21T15:46:55.469Z"
   },
   {
    "duration": 203,
    "start_time": "2022-04-21T15:46:55.482Z"
   },
   {
    "duration": 267,
    "start_time": "2022-04-21T15:46:55.687Z"
   },
   {
    "duration": 259,
    "start_time": "2022-04-21T15:46:55.956Z"
   },
   {
    "duration": 18,
    "start_time": "2022-04-21T15:46:56.217Z"
   },
   {
    "duration": 13,
    "start_time": "2022-04-21T15:46:56.237Z"
   },
   {
    "duration": 207,
    "start_time": "2022-04-21T15:46:56.252Z"
   },
   {
    "duration": 348,
    "start_time": "2022-04-21T15:46:56.461Z"
   },
   {
    "duration": 239,
    "start_time": "2022-04-21T15:46:56.817Z"
   },
   {
    "duration": 16,
    "start_time": "2022-04-21T15:46:57.057Z"
   },
   {
    "duration": 11,
    "start_time": "2022-04-21T15:46:57.075Z"
   },
   {
    "duration": 207,
    "start_time": "2022-04-21T15:46:57.088Z"
   },
   {
    "duration": 405,
    "start_time": "2022-04-21T15:46:57.297Z"
   },
   {
    "duration": 216,
    "start_time": "2022-04-21T15:46:57.704Z"
   },
   {
    "duration": 215,
    "start_time": "2022-04-21T15:46:57.923Z"
   },
   {
    "duration": 106,
    "start_time": "2022-04-21T15:46:58.144Z"
   },
   {
    "duration": 12,
    "start_time": "2022-04-21T15:46:58.251Z"
   },
   {
    "duration": 16,
    "start_time": "2022-04-21T15:46:58.264Z"
   },
   {
    "duration": 37,
    "start_time": "2022-04-21T15:46:58.281Z"
   },
   {
    "duration": 957,
    "start_time": "2022-04-22T09:40:36.651Z"
   },
   {
    "duration": 545,
    "start_time": "2022-04-22T09:40:37.610Z"
   },
   {
    "duration": 14,
    "start_time": "2022-04-22T09:40:38.157Z"
   },
   {
    "duration": 33,
    "start_time": "2022-04-22T09:40:38.173Z"
   },
   {
    "duration": 38,
    "start_time": "2022-04-22T09:40:38.208Z"
   },
   {
    "duration": 34,
    "start_time": "2022-04-22T09:40:38.250Z"
   },
   {
    "duration": 11,
    "start_time": "2022-04-22T09:40:38.285Z"
   },
   {
    "duration": 21,
    "start_time": "2022-04-22T09:40:38.298Z"
   },
   {
    "duration": 32,
    "start_time": "2022-04-22T09:40:38.320Z"
   },
   {
    "duration": 21,
    "start_time": "2022-04-22T09:40:38.356Z"
   },
   {
    "duration": 5,
    "start_time": "2022-04-22T09:40:38.378Z"
   },
   {
    "duration": 14,
    "start_time": "2022-04-22T09:40:38.385Z"
   },
   {
    "duration": 12,
    "start_time": "2022-04-22T09:40:38.401Z"
   },
   {
    "duration": 30,
    "start_time": "2022-04-22T09:40:38.415Z"
   },
   {
    "duration": 32,
    "start_time": "2022-04-22T09:40:38.447Z"
   },
   {
    "duration": 16,
    "start_time": "2022-04-22T09:40:38.481Z"
   },
   {
    "duration": 31,
    "start_time": "2022-04-22T09:40:38.499Z"
   },
   {
    "duration": 22,
    "start_time": "2022-04-22T09:40:38.532Z"
   },
   {
    "duration": 66,
    "start_time": "2022-04-22T09:40:38.556Z"
   },
   {
    "duration": 25,
    "start_time": "2022-04-22T09:40:38.624Z"
   },
   {
    "duration": 33,
    "start_time": "2022-04-22T09:40:38.651Z"
   },
   {
    "duration": 42,
    "start_time": "2022-04-22T09:40:38.686Z"
   },
   {
    "duration": 25,
    "start_time": "2022-04-22T09:40:38.730Z"
   },
   {
    "duration": 51,
    "start_time": "2022-04-22T09:40:38.759Z"
   },
   {
    "duration": 7,
    "start_time": "2022-04-22T09:40:38.812Z"
   },
   {
    "duration": 130,
    "start_time": "2022-04-22T09:40:38.820Z"
   },
   {
    "duration": 51,
    "start_time": "2022-04-22T09:40:38.955Z"
   },
   {
    "duration": 90,
    "start_time": "2022-04-22T09:40:39.011Z"
   },
   {
    "duration": 6,
    "start_time": "2022-04-22T09:40:39.102Z"
   },
   {
    "duration": 38,
    "start_time": "2022-04-22T09:40:39.109Z"
   },
   {
    "duration": 38,
    "start_time": "2022-04-22T09:40:39.149Z"
   },
   {
    "duration": 7,
    "start_time": "2022-04-22T09:40:39.189Z"
   },
   {
    "duration": 11,
    "start_time": "2022-04-22T09:40:39.198Z"
   },
   {
    "duration": 5,
    "start_time": "2022-04-22T09:40:39.211Z"
   },
   {
    "duration": 56,
    "start_time": "2022-04-22T09:40:39.218Z"
   },
   {
    "duration": 25,
    "start_time": "2022-04-22T09:40:39.275Z"
   },
   {
    "duration": 57,
    "start_time": "2022-04-22T09:40:39.302Z"
   },
   {
    "duration": 37,
    "start_time": "2022-04-22T09:40:39.362Z"
   },
   {
    "duration": 46,
    "start_time": "2022-04-22T09:40:39.401Z"
   },
   {
    "duration": 36,
    "start_time": "2022-04-22T09:40:39.452Z"
   },
   {
    "duration": 20,
    "start_time": "2022-04-22T09:40:39.489Z"
   },
   {
    "duration": 45,
    "start_time": "2022-04-22T09:40:39.511Z"
   },
   {
    "duration": 26,
    "start_time": "2022-04-22T09:40:39.558Z"
   },
   {
    "duration": 15,
    "start_time": "2022-04-22T09:40:39.586Z"
   },
   {
    "duration": 1712,
    "start_time": "2022-04-22T09:40:39.603Z"
   },
   {
    "duration": 5,
    "start_time": "2022-04-22T09:40:41.317Z"
   },
   {
    "duration": 94,
    "start_time": "2022-04-22T09:40:41.324Z"
   },
   {
    "duration": 20,
    "start_time": "2022-04-22T09:40:41.420Z"
   },
   {
    "duration": 7801,
    "start_time": "2022-04-22T09:40:41.443Z"
   },
   {
    "duration": 10,
    "start_time": "2022-04-22T09:40:49.246Z"
   },
   {
    "duration": 21,
    "start_time": "2022-04-22T09:40:49.258Z"
   },
   {
    "duration": 1542,
    "start_time": "2022-04-22T09:40:49.281Z"
   },
   {
    "duration": 44,
    "start_time": "2022-04-22T09:40:50.824Z"
   },
   {
    "duration": 1137,
    "start_time": "2022-04-22T09:40:50.870Z"
   },
   {
    "duration": 499,
    "start_time": "2022-04-22T09:40:52.009Z"
   },
   {
    "duration": 32,
    "start_time": "2022-04-22T09:40:52.510Z"
   },
   {
    "duration": 22,
    "start_time": "2022-04-22T09:40:52.544Z"
   },
   {
    "duration": 271,
    "start_time": "2022-04-22T09:40:52.568Z"
   },
   {
    "duration": 369,
    "start_time": "2022-04-22T09:40:52.844Z"
   },
   {
    "duration": 345,
    "start_time": "2022-04-22T09:40:53.215Z"
   },
   {
    "duration": 20,
    "start_time": "2022-04-22T09:40:53.562Z"
   },
   {
    "duration": 14,
    "start_time": "2022-04-22T09:40:53.584Z"
   },
   {
    "duration": 268,
    "start_time": "2022-04-22T09:40:53.600Z"
   },
   {
    "duration": 456,
    "start_time": "2022-04-22T09:40:53.869Z"
   },
   {
    "duration": 339,
    "start_time": "2022-04-22T09:40:54.327Z"
   },
   {
    "duration": 19,
    "start_time": "2022-04-22T09:40:54.668Z"
   },
   {
    "duration": 15,
    "start_time": "2022-04-22T09:40:54.689Z"
   },
   {
    "duration": 268,
    "start_time": "2022-04-22T09:40:54.705Z"
   },
   {
    "duration": 336,
    "start_time": "2022-04-22T09:40:54.975Z"
   },
   {
    "duration": 344,
    "start_time": "2022-04-22T09:40:55.313Z"
   },
   {
    "duration": 24,
    "start_time": "2022-04-22T09:40:55.660Z"
   },
   {
    "duration": 19,
    "start_time": "2022-04-22T09:40:55.686Z"
   },
   {
    "duration": 257,
    "start_time": "2022-04-22T09:40:55.707Z"
   },
   {
    "duration": 434,
    "start_time": "2022-04-22T09:40:55.966Z"
   },
   {
    "duration": 313,
    "start_time": "2022-04-22T09:40:56.402Z"
   },
   {
    "duration": 40,
    "start_time": "2022-04-22T09:40:56.717Z"
   },
   {
    "duration": 14,
    "start_time": "2022-04-22T09:40:56.759Z"
   },
   {
    "duration": 256,
    "start_time": "2022-04-22T09:40:56.775Z"
   },
   {
    "duration": 451,
    "start_time": "2022-04-22T09:40:57.033Z"
   },
   {
    "duration": 238,
    "start_time": "2022-04-22T09:40:57.486Z"
   },
   {
    "duration": 252,
    "start_time": "2022-04-22T09:40:57.726Z"
   },
   {
    "duration": 128,
    "start_time": "2022-04-22T09:40:57.985Z"
   },
   {
    "duration": 29,
    "start_time": "2022-04-22T09:40:58.115Z"
   },
   {
    "duration": 55,
    "start_time": "2022-04-22T09:40:58.146Z"
   },
   {
    "duration": 23,
    "start_time": "2022-04-22T09:40:58.203Z"
   },
   {
    "duration": 119,
    "start_time": "2022-04-22T09:44:34.303Z"
   },
   {
    "duration": 115,
    "start_time": "2022-04-22T09:44:48.298Z"
   },
   {
    "duration": 207,
    "start_time": "2022-04-22T09:46:46.593Z"
   },
   {
    "duration": 4,
    "start_time": "2022-04-22T10:22:16.069Z"
   },
   {
    "duration": 595,
    "start_time": "2022-04-22T10:22:16.084Z"
   },
   {
    "duration": 12,
    "start_time": "2022-04-22T10:22:16.681Z"
   },
   {
    "duration": 32,
    "start_time": "2022-04-22T10:22:16.694Z"
   },
   {
    "duration": 37,
    "start_time": "2022-04-22T10:22:16.729Z"
   },
   {
    "duration": 32,
    "start_time": "2022-04-22T10:22:16.768Z"
   },
   {
    "duration": 11,
    "start_time": "2022-04-22T10:22:16.802Z"
   },
   {
    "duration": 71,
    "start_time": "2022-04-22T10:22:16.815Z"
   },
   {
    "duration": 15,
    "start_time": "2022-04-22T10:22:16.888Z"
   },
   {
    "duration": 24,
    "start_time": "2022-04-22T10:22:16.906Z"
   },
   {
    "duration": 48,
    "start_time": "2022-04-22T10:22:16.934Z"
   },
   {
    "duration": 26,
    "start_time": "2022-04-22T10:22:16.984Z"
   },
   {
    "duration": 9,
    "start_time": "2022-04-22T10:22:17.012Z"
   },
   {
    "duration": 30,
    "start_time": "2022-04-22T10:22:17.024Z"
   },
   {
    "duration": 38,
    "start_time": "2022-04-22T10:22:17.057Z"
   },
   {
    "duration": 17,
    "start_time": "2022-04-22T10:22:17.097Z"
   },
   {
    "duration": 52,
    "start_time": "2022-04-22T10:22:17.116Z"
   },
   {
    "duration": 19,
    "start_time": "2022-04-22T10:22:17.170Z"
   },
   {
    "duration": 100,
    "start_time": "2022-04-22T10:22:17.191Z"
   },
   {
    "duration": 47,
    "start_time": "2022-04-22T10:22:17.293Z"
   },
   {
    "duration": 33,
    "start_time": "2022-04-22T10:22:17.343Z"
   },
   {
    "duration": 44,
    "start_time": "2022-04-22T10:22:17.378Z"
   },
   {
    "duration": 28,
    "start_time": "2022-04-22T10:22:17.424Z"
   },
   {
    "duration": 73,
    "start_time": "2022-04-22T10:22:17.454Z"
   },
   {
    "duration": 17,
    "start_time": "2022-04-22T10:22:17.529Z"
   },
   {
    "duration": 153,
    "start_time": "2022-04-22T10:22:17.550Z"
   },
   {
    "duration": 65,
    "start_time": "2022-04-22T10:22:17.705Z"
   },
   {
    "duration": 70,
    "start_time": "2022-04-22T10:22:17.772Z"
   },
   {
    "duration": 9,
    "start_time": "2022-04-22T10:22:17.852Z"
   },
   {
    "duration": 46,
    "start_time": "2022-04-22T10:22:17.862Z"
   },
   {
    "duration": 22,
    "start_time": "2022-04-22T10:22:17.910Z"
   },
   {
    "duration": 16,
    "start_time": "2022-04-22T10:22:17.940Z"
   },
   {
    "duration": 18,
    "start_time": "2022-04-22T10:22:17.960Z"
   },
   {
    "duration": 9,
    "start_time": "2022-04-22T10:22:17.981Z"
   },
   {
    "duration": 56,
    "start_time": "2022-04-22T10:22:17.992Z"
   },
   {
    "duration": 30,
    "start_time": "2022-04-22T10:22:18.053Z"
   },
   {
    "duration": 30,
    "start_time": "2022-04-22T10:22:18.086Z"
   },
   {
    "duration": 53,
    "start_time": "2022-04-22T10:22:18.118Z"
   },
   {
    "duration": 26,
    "start_time": "2022-04-22T10:22:18.173Z"
   },
   {
    "duration": 52,
    "start_time": "2022-04-22T10:22:18.201Z"
   },
   {
    "duration": 26,
    "start_time": "2022-04-22T10:22:18.255Z"
   },
   {
    "duration": 15,
    "start_time": "2022-04-22T10:22:18.283Z"
   },
   {
    "duration": 18,
    "start_time": "2022-04-22T10:22:18.301Z"
   },
   {
    "duration": 44,
    "start_time": "2022-04-22T10:22:18.337Z"
   },
   {
    "duration": 1739,
    "start_time": "2022-04-22T10:22:18.383Z"
   },
   {
    "duration": 5,
    "start_time": "2022-04-22T10:22:20.124Z"
   },
   {
    "duration": 117,
    "start_time": "2022-04-22T10:22:20.134Z"
   },
   {
    "duration": 9,
    "start_time": "2022-04-22T10:22:20.255Z"
   },
   {
    "duration": 7899,
    "start_time": "2022-04-22T10:22:20.266Z"
   },
   {
    "duration": 6,
    "start_time": "2022-04-22T10:22:28.167Z"
   },
   {
    "duration": 11,
    "start_time": "2022-04-22T10:22:28.175Z"
   },
   {
    "duration": 3,
    "start_time": "2022-04-22T10:24:28.962Z"
   },
   {
    "duration": 535,
    "start_time": "2022-04-22T10:24:28.970Z"
   },
   {
    "duration": 12,
    "start_time": "2022-04-22T10:24:29.507Z"
   },
   {
    "duration": 65,
    "start_time": "2022-04-22T10:24:29.520Z"
   },
   {
    "duration": 20,
    "start_time": "2022-04-22T10:24:29.587Z"
   },
   {
    "duration": 35,
    "start_time": "2022-04-22T10:24:29.609Z"
   },
   {
    "duration": 30,
    "start_time": "2022-04-22T10:24:29.647Z"
   },
   {
    "duration": 18,
    "start_time": "2022-04-22T10:24:29.679Z"
   },
   {
    "duration": 23,
    "start_time": "2022-04-22T10:24:29.698Z"
   },
   {
    "duration": 38,
    "start_time": "2022-04-22T10:24:29.723Z"
   },
   {
    "duration": 6,
    "start_time": "2022-04-22T10:24:29.765Z"
   },
   {
    "duration": 16,
    "start_time": "2022-04-22T10:24:29.772Z"
   },
   {
    "duration": 7,
    "start_time": "2022-04-22T10:24:29.790Z"
   },
   {
    "duration": 11,
    "start_time": "2022-04-22T10:24:29.800Z"
   },
   {
    "duration": 23,
    "start_time": "2022-04-22T10:24:29.812Z"
   },
   {
    "duration": 38,
    "start_time": "2022-04-22T10:24:29.845Z"
   },
   {
    "duration": 35,
    "start_time": "2022-04-22T10:24:29.885Z"
   },
   {
    "duration": 36,
    "start_time": "2022-04-22T10:24:29.922Z"
   },
   {
    "duration": 66,
    "start_time": "2022-04-22T10:24:29.960Z"
   },
   {
    "duration": 41,
    "start_time": "2022-04-22T10:24:30.028Z"
   },
   {
    "duration": 12,
    "start_time": "2022-04-22T10:24:30.070Z"
   },
   {
    "duration": 38,
    "start_time": "2022-04-22T10:24:30.084Z"
   },
   {
    "duration": 35,
    "start_time": "2022-04-22T10:24:30.123Z"
   },
   {
    "duration": 54,
    "start_time": "2022-04-22T10:24:30.161Z"
   },
   {
    "duration": 8,
    "start_time": "2022-04-22T10:24:30.216Z"
   },
   {
    "duration": 151,
    "start_time": "2022-04-22T10:24:30.225Z"
   },
   {
    "duration": 49,
    "start_time": "2022-04-22T10:24:30.378Z"
   },
   {
    "duration": 83,
    "start_time": "2022-04-22T10:24:30.438Z"
   },
   {
    "duration": 17,
    "start_time": "2022-04-22T10:24:30.525Z"
   },
   {
    "duration": 43,
    "start_time": "2022-04-22T10:24:30.547Z"
   },
   {
    "duration": 36,
    "start_time": "2022-04-22T10:24:30.592Z"
   },
   {
    "duration": 15,
    "start_time": "2022-04-22T10:24:30.629Z"
   },
   {
    "duration": 31,
    "start_time": "2022-04-22T10:24:30.647Z"
   },
   {
    "duration": 30,
    "start_time": "2022-04-22T10:24:30.680Z"
   },
   {
    "duration": 66,
    "start_time": "2022-04-22T10:24:30.711Z"
   },
   {
    "duration": 24,
    "start_time": "2022-04-22T10:24:30.778Z"
   },
   {
    "duration": 37,
    "start_time": "2022-04-22T10:24:30.804Z"
   },
   {
    "duration": 39,
    "start_time": "2022-04-22T10:24:30.842Z"
   },
   {
    "duration": 27,
    "start_time": "2022-04-22T10:24:30.883Z"
   },
   {
    "duration": 60,
    "start_time": "2022-04-22T10:24:30.911Z"
   },
   {
    "duration": 19,
    "start_time": "2022-04-22T10:24:30.972Z"
   },
   {
    "duration": 21,
    "start_time": "2022-04-22T10:24:30.993Z"
   },
   {
    "duration": 44,
    "start_time": "2022-04-22T10:24:31.016Z"
   },
   {
    "duration": 32,
    "start_time": "2022-04-22T10:24:31.061Z"
   },
   {
    "duration": 1772,
    "start_time": "2022-04-22T10:24:31.096Z"
   },
   {
    "duration": 7,
    "start_time": "2022-04-22T10:24:32.870Z"
   },
   {
    "duration": 101,
    "start_time": "2022-04-22T10:24:32.879Z"
   },
   {
    "duration": 6,
    "start_time": "2022-04-22T10:24:32.982Z"
   },
   {
    "duration": 7977,
    "start_time": "2022-04-22T10:24:32.990Z"
   },
   {
    "duration": 7,
    "start_time": "2022-04-22T10:24:40.969Z"
   },
   {
    "duration": 4,
    "start_time": "2022-04-22T10:24:50.323Z"
   },
   {
    "duration": 23,
    "start_time": "2022-04-22T10:26:01.783Z"
   },
   {
    "duration": 4,
    "start_time": "2022-04-22T10:27:12.529Z"
   },
   {
    "duration": 549,
    "start_time": "2022-04-22T10:27:12.548Z"
   },
   {
    "duration": 11,
    "start_time": "2022-04-22T10:27:13.099Z"
   },
   {
    "duration": 52,
    "start_time": "2022-04-22T10:27:13.112Z"
   },
   {
    "duration": 31,
    "start_time": "2022-04-22T10:27:13.168Z"
   },
   {
    "duration": 23,
    "start_time": "2022-04-22T10:27:13.201Z"
   },
   {
    "duration": 17,
    "start_time": "2022-04-22T10:27:13.237Z"
   },
   {
    "duration": 21,
    "start_time": "2022-04-22T10:27:13.256Z"
   },
   {
    "duration": 18,
    "start_time": "2022-04-22T10:27:13.279Z"
   },
   {
    "duration": 16,
    "start_time": "2022-04-22T10:27:13.299Z"
   },
   {
    "duration": 21,
    "start_time": "2022-04-22T10:27:13.318Z"
   },
   {
    "duration": 29,
    "start_time": "2022-04-22T10:27:13.341Z"
   },
   {
    "duration": 7,
    "start_time": "2022-04-22T10:27:13.373Z"
   },
   {
    "duration": 15,
    "start_time": "2022-04-22T10:27:13.382Z"
   },
   {
    "duration": 20,
    "start_time": "2022-04-22T10:27:13.399Z"
   },
   {
    "duration": 34,
    "start_time": "2022-04-22T10:27:13.421Z"
   },
   {
    "duration": 31,
    "start_time": "2022-04-22T10:27:13.463Z"
   },
   {
    "duration": 13,
    "start_time": "2022-04-22T10:27:13.496Z"
   },
   {
    "duration": 72,
    "start_time": "2022-04-22T10:27:13.511Z"
   },
   {
    "duration": 19,
    "start_time": "2022-04-22T10:27:13.585Z"
   },
   {
    "duration": 37,
    "start_time": "2022-04-22T10:27:13.606Z"
   },
   {
    "duration": 44,
    "start_time": "2022-04-22T10:27:13.645Z"
   },
   {
    "duration": 14,
    "start_time": "2022-04-22T10:27:13.690Z"
   },
   {
    "duration": 70,
    "start_time": "2022-04-22T10:27:13.705Z"
   },
   {
    "duration": 7,
    "start_time": "2022-04-22T10:27:13.777Z"
   },
   {
    "duration": 121,
    "start_time": "2022-04-22T10:27:13.785Z"
   },
   {
    "duration": 58,
    "start_time": "2022-04-22T10:27:13.908Z"
   },
   {
    "duration": 72,
    "start_time": "2022-04-22T10:27:13.968Z"
   },
   {
    "duration": 9,
    "start_time": "2022-04-22T10:27:14.045Z"
   },
   {
    "duration": 30,
    "start_time": "2022-04-22T10:27:14.057Z"
   },
   {
    "duration": 24,
    "start_time": "2022-04-22T10:27:14.089Z"
   },
   {
    "duration": 8,
    "start_time": "2022-04-22T10:27:14.114Z"
   },
   {
    "duration": 33,
    "start_time": "2022-04-22T10:27:14.123Z"
   },
   {
    "duration": 16,
    "start_time": "2022-04-22T10:27:14.157Z"
   },
   {
    "duration": 39,
    "start_time": "2022-04-22T10:27:14.175Z"
   },
   {
    "duration": 40,
    "start_time": "2022-04-22T10:27:14.215Z"
   },
   {
    "duration": 39,
    "start_time": "2022-04-22T10:27:14.259Z"
   },
   {
    "duration": 57,
    "start_time": "2022-04-22T10:27:14.299Z"
   },
   {
    "duration": 31,
    "start_time": "2022-04-22T10:27:14.359Z"
   },
   {
    "duration": 32,
    "start_time": "2022-04-22T10:27:14.392Z"
   },
   {
    "duration": 33,
    "start_time": "2022-04-22T10:27:14.426Z"
   },
   {
    "duration": 20,
    "start_time": "2022-04-22T10:27:14.462Z"
   },
   {
    "duration": 15,
    "start_time": "2022-04-22T10:27:14.484Z"
   },
   {
    "duration": 11,
    "start_time": "2022-04-22T10:27:14.501Z"
   },
   {
    "duration": 1756,
    "start_time": "2022-04-22T10:27:14.513Z"
   },
   {
    "duration": 5,
    "start_time": "2022-04-22T10:27:16.271Z"
   },
   {
    "duration": 95,
    "start_time": "2022-04-22T10:27:16.277Z"
   },
   {
    "duration": 7,
    "start_time": "2022-04-22T10:27:16.374Z"
   },
   {
    "duration": 7749,
    "start_time": "2022-04-22T10:27:16.383Z"
   },
   {
    "duration": 7,
    "start_time": "2022-04-22T10:27:24.145Z"
   },
   {
    "duration": 14,
    "start_time": "2022-04-22T10:27:24.157Z"
   },
   {
    "duration": 7,
    "start_time": "2022-04-22T10:27:31.859Z"
   },
   {
    "duration": 1569,
    "start_time": "2022-04-22T10:27:37.229Z"
   },
   {
    "duration": 20,
    "start_time": "2022-04-22T10:27:42.680Z"
   },
   {
    "duration": 21,
    "start_time": "2022-04-22T10:27:56.156Z"
   },
   {
    "duration": 966,
    "start_time": "2022-04-22T10:34:52.955Z"
   },
   {
    "duration": 1895,
    "start_time": "2022-04-22T10:34:53.923Z"
   },
   {
    "duration": 13,
    "start_time": "2022-04-22T10:34:55.819Z"
   },
   {
    "duration": 58,
    "start_time": "2022-04-22T10:34:55.842Z"
   },
   {
    "duration": 20,
    "start_time": "2022-04-22T10:34:55.902Z"
   },
   {
    "duration": 61,
    "start_time": "2022-04-22T10:34:55.924Z"
   },
   {
    "duration": 17,
    "start_time": "2022-04-22T10:34:55.987Z"
   },
   {
    "duration": 21,
    "start_time": "2022-04-22T10:34:56.006Z"
   },
   {
    "duration": 24,
    "start_time": "2022-04-22T10:34:56.029Z"
   },
   {
    "duration": 23,
    "start_time": "2022-04-22T10:34:56.061Z"
   },
   {
    "duration": 5,
    "start_time": "2022-04-22T10:34:56.087Z"
   },
   {
    "duration": 21,
    "start_time": "2022-04-22T10:34:56.094Z"
   },
   {
    "duration": 8,
    "start_time": "2022-04-22T10:34:56.118Z"
   },
   {
    "duration": 36,
    "start_time": "2022-04-22T10:34:56.128Z"
   },
   {
    "duration": 17,
    "start_time": "2022-04-22T10:34:56.166Z"
   },
   {
    "duration": 11,
    "start_time": "2022-04-22T10:34:56.185Z"
   },
   {
    "duration": 32,
    "start_time": "2022-04-22T10:34:56.198Z"
   },
   {
    "duration": 27,
    "start_time": "2022-04-22T10:34:56.232Z"
   },
   {
    "duration": 68,
    "start_time": "2022-04-22T10:34:56.261Z"
   },
   {
    "duration": 40,
    "start_time": "2022-04-22T10:34:56.331Z"
   },
   {
    "duration": 12,
    "start_time": "2022-04-22T10:34:56.374Z"
   },
   {
    "duration": 63,
    "start_time": "2022-04-22T10:34:56.388Z"
   },
   {
    "duration": 16,
    "start_time": "2022-04-22T10:34:56.453Z"
   },
   {
    "duration": 45,
    "start_time": "2022-04-22T10:34:56.471Z"
   },
   {
    "duration": 6,
    "start_time": "2022-04-22T10:34:56.518Z"
   },
   {
    "duration": 137,
    "start_time": "2022-04-22T10:34:56.537Z"
   },
   {
    "duration": 70,
    "start_time": "2022-04-22T10:34:56.676Z"
   },
   {
    "duration": 68,
    "start_time": "2022-04-22T10:34:56.751Z"
   },
   {
    "duration": 5,
    "start_time": "2022-04-22T10:34:56.821Z"
   },
   {
    "duration": 34,
    "start_time": "2022-04-22T10:34:56.828Z"
   },
   {
    "duration": 38,
    "start_time": "2022-04-22T10:34:56.866Z"
   },
   {
    "duration": 11,
    "start_time": "2022-04-22T10:34:56.906Z"
   },
   {
    "duration": 23,
    "start_time": "2022-04-22T10:34:56.919Z"
   },
   {
    "duration": 8,
    "start_time": "2022-04-22T10:34:56.945Z"
   },
   {
    "duration": 65,
    "start_time": "2022-04-22T10:34:56.956Z"
   },
   {
    "duration": 38,
    "start_time": "2022-04-22T10:34:57.022Z"
   },
   {
    "duration": 36,
    "start_time": "2022-04-22T10:34:57.066Z"
   },
   {
    "duration": 26,
    "start_time": "2022-04-22T10:34:57.104Z"
   },
   {
    "duration": 37,
    "start_time": "2022-04-22T10:34:57.141Z"
   },
   {
    "duration": 27,
    "start_time": "2022-04-22T10:34:57.180Z"
   },
   {
    "duration": 42,
    "start_time": "2022-04-22T10:34:57.209Z"
   },
   {
    "duration": 34,
    "start_time": "2022-04-22T10:34:57.253Z"
   },
   {
    "duration": 21,
    "start_time": "2022-04-22T10:34:57.289Z"
   },
   {
    "duration": 20,
    "start_time": "2022-04-22T10:34:57.311Z"
   },
   {
    "duration": 1753,
    "start_time": "2022-04-22T10:34:57.333Z"
   },
   {
    "duration": 5,
    "start_time": "2022-04-22T10:34:59.088Z"
   },
   {
    "duration": 97,
    "start_time": "2022-04-22T10:34:59.094Z"
   },
   {
    "duration": 6,
    "start_time": "2022-04-22T10:34:59.192Z"
   },
   {
    "duration": 7857,
    "start_time": "2022-04-22T10:34:59.200Z"
   },
   {
    "duration": 7,
    "start_time": "2022-04-22T10:35:07.059Z"
   },
   {
    "duration": 15,
    "start_time": "2022-04-22T10:35:07.070Z"
   },
   {
    "duration": 13,
    "start_time": "2022-04-22T10:35:07.087Z"
   },
   {
    "duration": 1535,
    "start_time": "2022-04-22T10:35:07.101Z"
   },
   {
    "duration": 32,
    "start_time": "2022-04-22T10:35:08.637Z"
   },
   {
    "duration": 1496,
    "start_time": "2022-04-22T10:35:08.671Z"
   },
   {
    "duration": 474,
    "start_time": "2022-04-22T10:35:10.169Z"
   },
   {
    "duration": 21,
    "start_time": "2022-04-22T10:35:10.645Z"
   },
   {
    "duration": 14,
    "start_time": "2022-04-22T10:35:10.669Z"
   },
   {
    "duration": 280,
    "start_time": "2022-04-22T10:35:10.685Z"
   },
   {
    "duration": 348,
    "start_time": "2022-04-22T10:35:10.972Z"
   },
   {
    "duration": 339,
    "start_time": "2022-04-22T10:35:11.321Z"
   },
   {
    "duration": 18,
    "start_time": "2022-04-22T10:35:11.668Z"
   },
   {
    "duration": 15,
    "start_time": "2022-04-22T10:35:11.687Z"
   },
   {
    "duration": 238,
    "start_time": "2022-04-22T10:35:11.703Z"
   },
   {
    "duration": 426,
    "start_time": "2022-04-22T10:35:11.943Z"
   },
   {
    "duration": 313,
    "start_time": "2022-04-22T10:35:12.371Z"
   },
   {
    "duration": 19,
    "start_time": "2022-04-22T10:35:12.686Z"
   },
   {
    "duration": 38,
    "start_time": "2022-04-22T10:35:12.706Z"
   },
   {
    "duration": 232,
    "start_time": "2022-04-22T10:35:12.746Z"
   },
   {
    "duration": 328,
    "start_time": "2022-04-22T10:35:12.980Z"
   },
   {
    "duration": 305,
    "start_time": "2022-04-22T10:35:13.310Z"
   },
   {
    "duration": 35,
    "start_time": "2022-04-22T10:35:13.617Z"
   },
   {
    "duration": 16,
    "start_time": "2022-04-22T10:35:13.665Z"
   },
   {
    "duration": 227,
    "start_time": "2022-04-22T10:35:13.683Z"
   },
   {
    "duration": 435,
    "start_time": "2022-04-22T10:35:13.912Z"
   },
   {
    "duration": 335,
    "start_time": "2022-04-22T10:35:14.351Z"
   },
   {
    "duration": 19,
    "start_time": "2022-04-22T10:35:14.689Z"
   },
   {
    "duration": 30,
    "start_time": "2022-04-22T10:35:14.710Z"
   },
   {
    "duration": 229,
    "start_time": "2022-04-22T10:35:14.744Z"
   },
   {
    "duration": 454,
    "start_time": "2022-04-22T10:35:14.975Z"
   },
   {
    "duration": 278,
    "start_time": "2022-04-22T10:35:15.430Z"
   },
   {
    "duration": 260,
    "start_time": "2022-04-22T10:35:15.716Z"
   },
   {
    "duration": 14,
    "start_time": "2022-04-22T10:35:15.978Z"
   },
   {
    "duration": 50,
    "start_time": "2022-04-22T10:35:15.995Z"
   },
   {
    "duration": 23,
    "start_time": "2022-04-22T10:35:16.047Z"
   },
   {
    "duration": 327,
    "start_time": "2022-04-22T10:47:05.078Z"
   },
   {
    "duration": 464,
    "start_time": "2022-04-22T10:47:56.704Z"
   },
   {
    "duration": 299,
    "start_time": "2022-04-22T10:48:12.621Z"
   },
   {
    "duration": 482,
    "start_time": "2022-04-22T10:49:04.757Z"
   },
   {
    "duration": 231,
    "start_time": "2022-04-22T10:49:22.271Z"
   },
   {
    "duration": 1062,
    "start_time": "2022-04-22T10:51:27.849Z"
   },
   {
    "duration": 682,
    "start_time": "2022-04-22T10:51:28.913Z"
   },
   {
    "duration": 13,
    "start_time": "2022-04-22T10:51:29.597Z"
   },
   {
    "duration": 41,
    "start_time": "2022-04-22T10:51:29.612Z"
   },
   {
    "duration": 38,
    "start_time": "2022-04-22T10:51:29.656Z"
   },
   {
    "duration": 23,
    "start_time": "2022-04-22T10:51:29.696Z"
   },
   {
    "duration": 23,
    "start_time": "2022-04-22T10:51:29.721Z"
   },
   {
    "duration": 50,
    "start_time": "2022-04-22T10:51:29.749Z"
   },
   {
    "duration": 11,
    "start_time": "2022-04-22T10:51:29.801Z"
   },
   {
    "duration": 14,
    "start_time": "2022-04-22T10:51:29.816Z"
   },
   {
    "duration": 45,
    "start_time": "2022-04-22T10:51:29.832Z"
   },
   {
    "duration": 23,
    "start_time": "2022-04-22T10:51:29.879Z"
   },
   {
    "duration": 7,
    "start_time": "2022-04-22T10:51:29.904Z"
   },
   {
    "duration": 10,
    "start_time": "2022-04-22T10:51:29.913Z"
   },
   {
    "duration": 25,
    "start_time": "2022-04-22T10:51:29.925Z"
   },
   {
    "duration": 44,
    "start_time": "2022-04-22T10:51:29.952Z"
   },
   {
    "duration": 48,
    "start_time": "2022-04-22T10:51:29.997Z"
   },
   {
    "duration": 33,
    "start_time": "2022-04-22T10:51:30.047Z"
   },
   {
    "duration": 68,
    "start_time": "2022-04-22T10:51:30.081Z"
   },
   {
    "duration": 41,
    "start_time": "2022-04-22T10:51:30.151Z"
   },
   {
    "duration": 11,
    "start_time": "2022-04-22T10:51:30.194Z"
   },
   {
    "duration": 77,
    "start_time": "2022-04-22T10:51:30.207Z"
   },
   {
    "duration": 18,
    "start_time": "2022-04-22T10:51:30.286Z"
   },
   {
    "duration": 75,
    "start_time": "2022-04-22T10:51:30.306Z"
   },
   {
    "duration": 7,
    "start_time": "2022-04-22T10:51:30.384Z"
   },
   {
    "duration": 153,
    "start_time": "2022-04-22T10:51:30.393Z"
   },
   {
    "duration": 66,
    "start_time": "2022-04-22T10:51:30.552Z"
   },
   {
    "duration": 108,
    "start_time": "2022-04-22T10:51:30.623Z"
   },
   {
    "duration": 9,
    "start_time": "2022-04-22T10:51:30.738Z"
   },
   {
    "duration": 68,
    "start_time": "2022-04-22T10:51:30.750Z"
   },
   {
    "duration": 66,
    "start_time": "2022-04-22T10:51:30.820Z"
   },
   {
    "duration": 10,
    "start_time": "2022-04-22T10:51:30.889Z"
   },
   {
    "duration": 12,
    "start_time": "2022-04-22T10:51:30.902Z"
   },
   {
    "duration": 7,
    "start_time": "2022-04-22T10:51:30.917Z"
   },
   {
    "duration": 91,
    "start_time": "2022-04-22T10:51:30.927Z"
   },
   {
    "duration": 30,
    "start_time": "2022-04-22T10:51:31.020Z"
   },
   {
    "duration": 45,
    "start_time": "2022-04-22T10:51:31.052Z"
   },
   {
    "duration": 42,
    "start_time": "2022-04-22T10:51:31.100Z"
   },
   {
    "duration": 44,
    "start_time": "2022-04-22T10:51:31.145Z"
   },
   {
    "duration": 30,
    "start_time": "2022-04-22T10:51:31.190Z"
   },
   {
    "duration": 51,
    "start_time": "2022-04-22T10:51:31.222Z"
   },
   {
    "duration": 24,
    "start_time": "2022-04-22T10:51:31.275Z"
   },
   {
    "duration": 17,
    "start_time": "2022-04-22T10:51:31.302Z"
   },
   {
    "duration": 23,
    "start_time": "2022-04-22T10:51:31.321Z"
   },
   {
    "duration": 2115,
    "start_time": "2022-04-22T10:51:31.346Z"
   },
   {
    "duration": 11,
    "start_time": "2022-04-22T10:51:33.465Z"
   },
   {
    "duration": 118,
    "start_time": "2022-04-22T10:51:33.481Z"
   },
   {
    "duration": 6,
    "start_time": "2022-04-22T10:51:33.601Z"
   },
   {
    "duration": 9605,
    "start_time": "2022-04-22T10:51:33.609Z"
   },
   {
    "duration": 5,
    "start_time": "2022-04-22T10:51:43.217Z"
   },
   {
    "duration": 12,
    "start_time": "2022-04-22T10:51:43.224Z"
   },
   {
    "duration": 43,
    "start_time": "2022-04-22T10:51:43.242Z"
   },
   {
    "duration": 1722,
    "start_time": "2022-04-22T10:51:43.287Z"
   },
   {
    "duration": 31,
    "start_time": "2022-04-22T10:51:45.011Z"
   },
   {
    "duration": 1009,
    "start_time": "2022-04-22T10:51:45.044Z"
   },
   {
    "duration": 528,
    "start_time": "2022-04-22T10:51:46.055Z"
   },
   {
    "duration": 19,
    "start_time": "2022-04-22T10:51:46.586Z"
   },
   {
    "duration": 42,
    "start_time": "2022-04-22T10:51:46.607Z"
   },
   {
    "duration": 284,
    "start_time": "2022-04-22T10:51:46.652Z"
   },
   {
    "duration": 390,
    "start_time": "2022-04-22T10:51:46.942Z"
   },
   {
    "duration": 413,
    "start_time": "2022-04-22T10:51:47.335Z"
   },
   {
    "duration": 30,
    "start_time": "2022-04-22T10:51:47.751Z"
   },
   {
    "duration": 14,
    "start_time": "2022-04-22T10:51:47.783Z"
   },
   {
    "duration": 288,
    "start_time": "2022-04-22T10:51:47.798Z"
   },
   {
    "duration": 514,
    "start_time": "2022-04-22T10:51:48.088Z"
   },
   {
    "duration": 368,
    "start_time": "2022-04-22T10:51:48.604Z"
   },
   {
    "duration": 28,
    "start_time": "2022-04-22T10:51:48.975Z"
   },
   {
    "duration": 27,
    "start_time": "2022-04-22T10:51:49.006Z"
   },
   {
    "duration": 272,
    "start_time": "2022-04-22T10:51:49.040Z"
   },
   {
    "duration": 379,
    "start_time": "2022-04-22T10:51:49.314Z"
   },
   {
    "duration": 386,
    "start_time": "2022-04-22T10:51:49.696Z"
   },
   {
    "duration": 20,
    "start_time": "2022-04-22T10:51:50.083Z"
   },
   {
    "duration": 16,
    "start_time": "2022-04-22T10:51:50.105Z"
   },
   {
    "duration": 288,
    "start_time": "2022-04-22T10:51:50.123Z"
   },
   {
    "duration": 488,
    "start_time": "2022-04-22T10:51:50.413Z"
   },
   {
    "duration": 327,
    "start_time": "2022-04-22T10:51:50.903Z"
   },
   {
    "duration": 21,
    "start_time": "2022-04-22T10:51:51.233Z"
   },
   {
    "duration": 52,
    "start_time": "2022-04-22T10:51:51.256Z"
   },
   {
    "duration": 288,
    "start_time": "2022-04-22T10:51:51.309Z"
   },
   {
    "duration": 562,
    "start_time": "2022-04-22T10:51:51.600Z"
   },
   {
    "duration": 247,
    "start_time": "2022-04-22T10:51:52.169Z"
   },
   {
    "duration": 286,
    "start_time": "2022-04-22T10:51:52.422Z"
   },
   {
    "duration": 12,
    "start_time": "2022-04-22T10:51:52.710Z"
   },
   {
    "duration": 30,
    "start_time": "2022-04-22T10:51:52.724Z"
   },
   {
    "duration": 30,
    "start_time": "2022-04-22T10:51:52.756Z"
   },
   {
    "duration": 671,
    "start_time": "2022-04-22T10:59:31.002Z"
   },
   {
    "duration": 512,
    "start_time": "2022-04-22T10:59:42.459Z"
   },
   {
    "duration": 422,
    "start_time": "2022-04-22T10:59:52.563Z"
   },
   {
    "duration": 435,
    "start_time": "2022-04-22T11:00:01.132Z"
   },
   {
    "duration": 964,
    "start_time": "2022-04-22T11:01:16.983Z"
   },
   {
    "duration": 518,
    "start_time": "2022-04-22T11:01:17.955Z"
   },
   {
    "duration": 14,
    "start_time": "2022-04-22T11:01:18.475Z"
   },
   {
    "duration": 29,
    "start_time": "2022-04-22T11:01:18.493Z"
   },
   {
    "duration": 34,
    "start_time": "2022-04-22T11:01:18.525Z"
   },
   {
    "duration": 36,
    "start_time": "2022-04-22T11:01:18.561Z"
   },
   {
    "duration": 11,
    "start_time": "2022-04-22T11:01:18.599Z"
   },
   {
    "duration": 29,
    "start_time": "2022-04-22T11:01:18.612Z"
   },
   {
    "duration": 21,
    "start_time": "2022-04-22T11:01:18.643Z"
   },
   {
    "duration": 15,
    "start_time": "2022-04-22T11:01:18.667Z"
   },
   {
    "duration": 6,
    "start_time": "2022-04-22T11:01:18.684Z"
   },
   {
    "duration": 18,
    "start_time": "2022-04-22T11:01:18.692Z"
   },
   {
    "duration": 29,
    "start_time": "2022-04-22T11:01:18.712Z"
   },
   {
    "duration": 26,
    "start_time": "2022-04-22T11:01:18.748Z"
   },
   {
    "duration": 17,
    "start_time": "2022-04-22T11:01:18.776Z"
   },
   {
    "duration": 14,
    "start_time": "2022-04-22T11:01:18.794Z"
   },
   {
    "duration": 43,
    "start_time": "2022-04-22T11:01:18.810Z"
   },
   {
    "duration": 17,
    "start_time": "2022-04-22T11:01:18.855Z"
   },
   {
    "duration": 75,
    "start_time": "2022-04-22T11:01:18.873Z"
   },
   {
    "duration": 27,
    "start_time": "2022-04-22T11:01:18.950Z"
   },
   {
    "duration": 11,
    "start_time": "2022-04-22T11:01:18.978Z"
   },
   {
    "duration": 57,
    "start_time": "2022-04-22T11:01:18.991Z"
   },
   {
    "duration": 18,
    "start_time": "2022-04-22T11:01:19.052Z"
   },
   {
    "duration": 46,
    "start_time": "2022-04-22T11:01:19.072Z"
   },
   {
    "duration": 9,
    "start_time": "2022-04-22T11:01:19.136Z"
   },
   {
    "duration": 144,
    "start_time": "2022-04-22T11:01:19.148Z"
   },
   {
    "duration": 61,
    "start_time": "2022-04-22T11:01:19.294Z"
   },
   {
    "duration": 62,
    "start_time": "2022-04-22T11:01:19.365Z"
   },
   {
    "duration": 12,
    "start_time": "2022-04-22T11:01:19.429Z"
   },
   {
    "duration": 52,
    "start_time": "2022-04-22T11:01:19.442Z"
   },
   {
    "duration": 25,
    "start_time": "2022-04-22T11:01:19.496Z"
   },
   {
    "duration": 8,
    "start_time": "2022-04-22T11:01:19.523Z"
   },
   {
    "duration": 31,
    "start_time": "2022-04-22T11:01:19.537Z"
   },
   {
    "duration": 14,
    "start_time": "2022-04-22T11:01:19.570Z"
   },
   {
    "duration": 39,
    "start_time": "2022-04-22T11:01:19.585Z"
   },
   {
    "duration": 36,
    "start_time": "2022-04-22T11:01:19.626Z"
   },
   {
    "duration": 34,
    "start_time": "2022-04-22T11:01:19.666Z"
   },
   {
    "duration": 39,
    "start_time": "2022-04-22T11:01:19.701Z"
   },
   {
    "duration": 34,
    "start_time": "2022-04-22T11:01:19.743Z"
   },
   {
    "duration": 28,
    "start_time": "2022-04-22T11:01:19.779Z"
   },
   {
    "duration": 53,
    "start_time": "2022-04-22T11:01:19.809Z"
   },
   {
    "duration": 16,
    "start_time": "2022-04-22T11:01:19.865Z"
   },
   {
    "duration": 20,
    "start_time": "2022-04-22T11:01:19.884Z"
   },
   {
    "duration": 11,
    "start_time": "2022-04-22T11:01:19.906Z"
   },
   {
    "duration": 1759,
    "start_time": "2022-04-22T11:01:19.919Z"
   },
   {
    "duration": 5,
    "start_time": "2022-04-22T11:01:21.680Z"
   },
   {
    "duration": 104,
    "start_time": "2022-04-22T11:01:21.687Z"
   },
   {
    "duration": 7,
    "start_time": "2022-04-22T11:01:21.793Z"
   },
   {
    "duration": 7998,
    "start_time": "2022-04-22T11:01:21.802Z"
   },
   {
    "duration": 7,
    "start_time": "2022-04-22T11:01:29.802Z"
   },
   {
    "duration": 11,
    "start_time": "2022-04-22T11:01:29.811Z"
   },
   {
    "duration": 36,
    "start_time": "2022-04-22T11:01:29.837Z"
   },
   {
    "duration": 1631,
    "start_time": "2022-04-22T11:01:29.875Z"
   },
   {
    "duration": 18,
    "start_time": "2022-04-22T11:01:31.508Z"
   },
   {
    "duration": 923,
    "start_time": "2022-04-22T11:01:31.536Z"
   },
   {
    "duration": 465,
    "start_time": "2022-04-22T11:01:32.461Z"
   },
   {
    "duration": 26,
    "start_time": "2022-04-22T11:01:32.928Z"
   },
   {
    "duration": 27,
    "start_time": "2022-04-22T11:01:32.956Z"
   },
   {
    "duration": 243,
    "start_time": "2022-04-22T11:01:32.984Z"
   },
   {
    "duration": 415,
    "start_time": "2022-04-22T11:01:33.228Z"
   },
   {
    "duration": 420,
    "start_time": "2022-04-22T11:01:33.645Z"
   },
   {
    "duration": 23,
    "start_time": "2022-04-22T11:01:34.067Z"
   },
   {
    "duration": 15,
    "start_time": "2022-04-22T11:01:34.092Z"
   },
   {
    "duration": 371,
    "start_time": "2022-04-22T11:01:34.111Z"
   },
   {
    "duration": 323,
    "start_time": "2022-04-22T11:01:34.484Z"
   },
   {
    "duration": 321,
    "start_time": "2022-04-22T11:01:34.809Z"
   },
   {
    "duration": 22,
    "start_time": "2022-04-22T11:01:35.133Z"
   },
   {
    "duration": 31,
    "start_time": "2022-04-22T11:01:35.157Z"
   },
   {
    "duration": 225,
    "start_time": "2022-04-22T11:01:35.190Z"
   },
   {
    "duration": 326,
    "start_time": "2022-04-22T11:01:35.418Z"
   },
   {
    "duration": 319,
    "start_time": "2022-04-22T11:01:35.746Z"
   },
   {
    "duration": 26,
    "start_time": "2022-04-22T11:01:36.067Z"
   },
   {
    "duration": 14,
    "start_time": "2022-04-22T11:01:36.095Z"
   },
   {
    "duration": 242,
    "start_time": "2022-04-22T11:01:36.110Z"
   },
   {
    "duration": 461,
    "start_time": "2022-04-22T11:01:36.354Z"
   },
   {
    "duration": 315,
    "start_time": "2022-04-22T11:01:36.816Z"
   },
   {
    "duration": 30,
    "start_time": "2022-04-22T11:01:37.133Z"
   },
   {
    "duration": 17,
    "start_time": "2022-04-22T11:01:37.169Z"
   },
   {
    "duration": 240,
    "start_time": "2022-04-22T11:01:37.187Z"
   },
   {
    "duration": 462,
    "start_time": "2022-04-22T11:01:37.428Z"
   },
   {
    "duration": 245,
    "start_time": "2022-04-22T11:01:37.892Z"
   },
   {
    "duration": 247,
    "start_time": "2022-04-22T11:01:38.145Z"
   },
   {
    "duration": 13,
    "start_time": "2022-04-22T11:01:38.394Z"
   },
   {
    "duration": 37,
    "start_time": "2022-04-22T11:01:38.409Z"
   },
   {
    "duration": 14,
    "start_time": "2022-04-22T11:01:38.451Z"
   },
   {
    "duration": 1246,
    "start_time": "2022-04-29T16:52:14.194Z"
   },
   {
    "duration": 515,
    "start_time": "2022-04-29T16:52:15.443Z"
   },
   {
    "duration": 22,
    "start_time": "2022-04-29T16:52:15.960Z"
   },
   {
    "duration": 35,
    "start_time": "2022-04-29T16:52:15.986Z"
   },
   {
    "duration": 29,
    "start_time": "2022-04-29T16:52:16.023Z"
   },
   {
    "duration": 32,
    "start_time": "2022-04-29T16:52:16.083Z"
   },
   {
    "duration": 16,
    "start_time": "2022-04-29T16:52:16.117Z"
   },
   {
    "duration": 56,
    "start_time": "2022-04-29T16:52:16.136Z"
   },
   {
    "duration": 15,
    "start_time": "2022-04-29T16:52:16.195Z"
   },
   {
    "duration": 18,
    "start_time": "2022-04-29T16:52:16.214Z"
   },
   {
    "duration": 6,
    "start_time": "2022-04-29T16:52:16.234Z"
   },
   {
    "duration": 20,
    "start_time": "2022-04-29T16:52:16.281Z"
   },
   {
    "duration": 10,
    "start_time": "2022-04-29T16:52:16.303Z"
   },
   {
    "duration": 13,
    "start_time": "2022-04-29T16:52:16.315Z"
   },
   {
    "duration": 17,
    "start_time": "2022-04-29T16:52:16.330Z"
   },
   {
    "duration": 45,
    "start_time": "2022-04-29T16:52:16.349Z"
   },
   {
    "duration": 33,
    "start_time": "2022-04-29T16:52:16.396Z"
   },
   {
    "duration": 17,
    "start_time": "2022-04-29T16:52:16.431Z"
   },
   {
    "duration": 77,
    "start_time": "2022-04-29T16:52:16.481Z"
   },
   {
    "duration": 38,
    "start_time": "2022-04-29T16:52:16.560Z"
   },
   {
    "duration": 14,
    "start_time": "2022-04-29T16:52:16.600Z"
   },
   {
    "duration": 76,
    "start_time": "2022-04-29T16:52:16.616Z"
   },
   {
    "duration": 18,
    "start_time": "2022-04-29T16:52:16.695Z"
   },
   {
    "duration": 82,
    "start_time": "2022-04-29T16:52:16.716Z"
   },
   {
    "duration": 10,
    "start_time": "2022-04-29T16:52:16.801Z"
   },
   {
    "duration": 169,
    "start_time": "2022-04-29T16:52:16.813Z"
   },
   {
    "duration": 66,
    "start_time": "2022-04-29T16:52:16.985Z"
   },
   {
    "duration": 113,
    "start_time": "2022-04-29T16:52:17.082Z"
   },
   {
    "duration": 8,
    "start_time": "2022-04-29T16:52:17.197Z"
   },
   {
    "duration": 31,
    "start_time": "2022-04-29T16:52:17.208Z"
   },
   {
    "duration": 51,
    "start_time": "2022-04-29T16:52:17.241Z"
   },
   {
    "duration": 10,
    "start_time": "2022-04-29T16:52:17.294Z"
   },
   {
    "duration": 16,
    "start_time": "2022-04-29T16:52:17.306Z"
   },
   {
    "duration": 8,
    "start_time": "2022-04-29T16:52:17.325Z"
   },
   {
    "duration": 91,
    "start_time": "2022-04-29T16:52:17.335Z"
   },
   {
    "duration": 32,
    "start_time": "2022-04-29T16:52:17.428Z"
   },
   {
    "duration": 52,
    "start_time": "2022-04-29T16:52:17.462Z"
   },
   {
    "duration": 34,
    "start_time": "2022-04-29T16:52:17.516Z"
   },
   {
    "duration": 58,
    "start_time": "2022-04-29T16:52:17.553Z"
   },
   {
    "duration": 37,
    "start_time": "2022-04-29T16:52:17.614Z"
   },
   {
    "duration": 49,
    "start_time": "2022-04-29T16:52:17.654Z"
   },
   {
    "duration": 20,
    "start_time": "2022-04-29T16:52:17.705Z"
   },
   {
    "duration": 21,
    "start_time": "2022-04-29T16:52:17.728Z"
   },
   {
    "duration": 15,
    "start_time": "2022-04-29T16:52:17.782Z"
   },
   {
    "duration": 2672,
    "start_time": "2022-04-29T16:52:17.799Z"
   },
   {
    "duration": 12,
    "start_time": "2022-04-29T16:52:20.473Z"
   },
   {
    "duration": 123,
    "start_time": "2022-04-29T16:52:20.488Z"
   },
   {
    "duration": 8,
    "start_time": "2022-04-29T16:52:20.615Z"
   },
   {
    "duration": 12031,
    "start_time": "2022-04-29T16:52:20.626Z"
   },
   {
    "duration": 8,
    "start_time": "2022-04-29T16:52:32.659Z"
   },
   {
    "duration": 5,
    "start_time": "2022-04-29T16:52:32.682Z"
   },
   {
    "duration": 6,
    "start_time": "2022-04-29T16:52:32.690Z"
   },
   {
    "duration": 2429,
    "start_time": "2022-04-29T16:52:32.699Z"
   },
   {
    "duration": 26,
    "start_time": "2022-04-29T16:52:35.130Z"
   },
   {
    "duration": 1036,
    "start_time": "2022-04-29T16:52:35.158Z"
   },
   {
    "duration": 612,
    "start_time": "2022-04-29T16:52:36.197Z"
   },
   {
    "duration": 23,
    "start_time": "2022-04-29T16:52:36.811Z"
   },
   {
    "duration": 18,
    "start_time": "2022-04-29T16:52:36.836Z"
   },
   {
    "duration": 338,
    "start_time": "2022-04-29T16:52:36.882Z"
   },
   {
    "duration": 537,
    "start_time": "2022-04-29T16:52:37.222Z"
   },
   {
    "duration": 557,
    "start_time": "2022-04-29T16:52:37.762Z"
   },
   {
    "duration": 21,
    "start_time": "2022-04-29T16:52:38.322Z"
   },
   {
    "duration": 37,
    "start_time": "2022-04-29T16:52:38.346Z"
   },
   {
    "duration": 419,
    "start_time": "2022-04-29T16:52:38.385Z"
   },
   {
    "duration": 438,
    "start_time": "2022-04-29T16:52:38.806Z"
   },
   {
    "duration": 422,
    "start_time": "2022-04-29T16:52:39.247Z"
   },
   {
    "duration": 23,
    "start_time": "2022-04-29T16:52:39.681Z"
   },
   {
    "duration": 18,
    "start_time": "2022-04-29T16:52:39.707Z"
   },
   {
    "duration": 316,
    "start_time": "2022-04-29T16:52:39.727Z"
   },
   {
    "duration": 436,
    "start_time": "2022-04-29T16:52:40.045Z"
   },
   {
    "duration": 408,
    "start_time": "2022-04-29T16:52:40.484Z"
   },
   {
    "duration": 23,
    "start_time": "2022-04-29T16:52:40.894Z"
   },
   {
    "duration": 17,
    "start_time": "2022-04-29T16:52:40.919Z"
   },
   {
    "duration": 331,
    "start_time": "2022-04-29T16:52:40.938Z"
   },
   {
    "duration": 552,
    "start_time": "2022-04-29T16:52:41.271Z"
   },
   {
    "duration": 415,
    "start_time": "2022-04-29T16:52:41.825Z"
   },
   {
    "duration": 23,
    "start_time": "2022-04-29T16:52:42.242Z"
   },
   {
    "duration": 19,
    "start_time": "2022-04-29T16:52:42.281Z"
   },
   {
    "duration": 319,
    "start_time": "2022-04-29T16:52:42.302Z"
   },
   {
    "duration": 616,
    "start_time": "2022-04-29T16:52:42.623Z"
   },
   {
    "duration": 327,
    "start_time": "2022-04-29T16:52:43.241Z"
   },
   {
    "duration": 309,
    "start_time": "2022-04-29T16:52:43.584Z"
   },
   {
    "duration": 15,
    "start_time": "2022-04-29T16:52:43.895Z"
   },
   {
    "duration": 21,
    "start_time": "2022-04-29T16:52:43.913Z"
   },
   {
    "duration": 50,
    "start_time": "2022-04-29T16:52:43.936Z"
   },
   {
    "duration": 1186,
    "start_time": "2022-04-29T17:32:15.934Z"
   },
   {
    "duration": 501,
    "start_time": "2022-04-29T17:32:17.122Z"
   },
   {
    "duration": 17,
    "start_time": "2022-04-29T17:32:17.626Z"
   },
   {
    "duration": 50,
    "start_time": "2022-04-29T17:32:17.646Z"
   },
   {
    "duration": 25,
    "start_time": "2022-04-29T17:32:17.698Z"
   },
   {
    "duration": 30,
    "start_time": "2022-04-29T17:32:17.725Z"
   },
   {
    "duration": 38,
    "start_time": "2022-04-29T17:32:17.757Z"
   },
   {
    "duration": 22,
    "start_time": "2022-04-29T17:32:17.797Z"
   },
   {
    "duration": 15,
    "start_time": "2022-04-29T17:32:17.822Z"
   },
   {
    "duration": 62,
    "start_time": "2022-04-29T17:32:17.841Z"
   },
   {
    "duration": 5,
    "start_time": "2022-04-29T17:32:17.905Z"
   },
   {
    "duration": 20,
    "start_time": "2022-04-29T17:32:17.912Z"
   },
   {
    "duration": 7,
    "start_time": "2022-04-29T17:32:17.935Z"
   },
   {
    "duration": 46,
    "start_time": "2022-04-29T17:32:17.945Z"
   },
   {
    "duration": 27,
    "start_time": "2022-04-29T17:32:17.995Z"
   },
   {
    "duration": 23,
    "start_time": "2022-04-29T17:32:18.025Z"
   },
   {
    "duration": 64,
    "start_time": "2022-04-29T17:32:18.050Z"
   },
   {
    "duration": 34,
    "start_time": "2022-04-29T17:32:18.116Z"
   },
   {
    "duration": 82,
    "start_time": "2022-04-29T17:32:18.152Z"
   },
   {
    "duration": 25,
    "start_time": "2022-04-29T17:32:18.236Z"
   },
   {
    "duration": 15,
    "start_time": "2022-04-29T17:32:18.282Z"
   },
   {
    "duration": 52,
    "start_time": "2022-04-29T17:32:18.299Z"
   },
   {
    "duration": 48,
    "start_time": "2022-04-29T17:32:18.353Z"
   },
   {
    "duration": 110,
    "start_time": "2022-04-29T17:32:18.404Z"
   },
   {
    "duration": 11,
    "start_time": "2022-04-29T17:32:18.517Z"
   },
   {
    "duration": 162,
    "start_time": "2022-04-29T17:32:18.531Z"
   },
   {
    "duration": 63,
    "start_time": "2022-04-29T17:32:18.696Z"
   },
   {
    "duration": 114,
    "start_time": "2022-04-29T17:32:18.784Z"
   },
   {
    "duration": 8,
    "start_time": "2022-04-29T17:32:18.901Z"
   },
   {
    "duration": 32,
    "start_time": "2022-04-29T17:32:18.911Z"
   },
   {
    "duration": 48,
    "start_time": "2022-04-29T17:32:18.945Z"
   },
   {
    "duration": 10,
    "start_time": "2022-04-29T17:32:18.995Z"
   },
   {
    "duration": 14,
    "start_time": "2022-04-29T17:32:19.007Z"
   },
   {
    "duration": 9,
    "start_time": "2022-04-29T17:32:19.024Z"
   },
   {
    "duration": 86,
    "start_time": "2022-04-29T17:32:19.036Z"
   },
   {
    "duration": 56,
    "start_time": "2022-04-29T17:32:19.125Z"
   },
   {
    "duration": 40,
    "start_time": "2022-04-29T17:32:19.184Z"
   },
   {
    "duration": 61,
    "start_time": "2022-04-29T17:32:19.226Z"
   },
   {
    "duration": 50,
    "start_time": "2022-04-29T17:32:19.290Z"
   },
   {
    "duration": 83,
    "start_time": "2022-04-29T17:32:19.343Z"
   },
   {
    "duration": 23,
    "start_time": "2022-04-29T17:32:19.428Z"
   },
   {
    "duration": 39,
    "start_time": "2022-04-29T17:32:19.453Z"
   },
   {
    "duration": 23,
    "start_time": "2022-04-29T17:32:19.494Z"
   },
   {
    "duration": 15,
    "start_time": "2022-04-29T17:32:19.519Z"
   },
   {
    "duration": 2690,
    "start_time": "2022-04-29T17:32:19.536Z"
   },
   {
    "duration": 6,
    "start_time": "2022-04-29T17:32:22.228Z"
   },
   {
    "duration": 129,
    "start_time": "2022-04-29T17:32:22.236Z"
   },
   {
    "duration": 15,
    "start_time": "2022-04-29T17:32:22.367Z"
   },
   {
    "duration": 11930,
    "start_time": "2022-04-29T17:32:22.385Z"
   },
   {
    "duration": 7,
    "start_time": "2022-04-29T17:32:34.317Z"
   },
   {
    "duration": 8,
    "start_time": "2022-04-29T17:32:34.326Z"
   },
   {
    "duration": 9,
    "start_time": "2022-04-29T17:32:34.337Z"
   },
   {
    "duration": 2412,
    "start_time": "2022-04-29T17:32:34.348Z"
   },
   {
    "duration": 25,
    "start_time": "2022-04-29T17:32:36.762Z"
   },
   {
    "duration": 1005,
    "start_time": "2022-04-29T17:32:36.789Z"
   },
   {
    "duration": 719,
    "start_time": "2022-04-29T17:32:37.796Z"
   },
   {
    "duration": 25,
    "start_time": "2022-04-29T17:32:38.517Z"
   },
   {
    "duration": 49,
    "start_time": "2022-04-29T17:32:38.544Z"
   },
   {
    "duration": 316,
    "start_time": "2022-04-29T17:32:38.595Z"
   },
   {
    "duration": 533,
    "start_time": "2022-04-29T17:32:38.913Z"
   },
   {
    "duration": 543,
    "start_time": "2022-04-29T17:32:39.449Z"
   },
   {
    "duration": 21,
    "start_time": "2022-04-29T17:32:39.995Z"
   },
   {
    "duration": 17,
    "start_time": "2022-04-29T17:32:40.019Z"
   },
   {
    "duration": 415,
    "start_time": "2022-04-29T17:32:40.038Z"
   },
   {
    "duration": 429,
    "start_time": "2022-04-29T17:32:40.455Z"
   },
   {
    "duration": 417,
    "start_time": "2022-04-29T17:32:40.887Z"
   },
   {
    "duration": 23,
    "start_time": "2022-04-29T17:32:41.306Z"
   },
   {
    "duration": 17,
    "start_time": "2022-04-29T17:32:41.331Z"
   },
   {
    "duration": 315,
    "start_time": "2022-04-29T17:32:41.350Z"
   },
   {
    "duration": 427,
    "start_time": "2022-04-29T17:32:41.667Z"
   },
   {
    "duration": 406,
    "start_time": "2022-04-29T17:32:42.096Z"
   },
   {
    "duration": 120,
    "start_time": "2022-04-29T17:32:42.504Z"
   },
   {
    "duration": 17,
    "start_time": "2022-04-29T17:32:42.626Z"
   },
   {
    "duration": 280,
    "start_time": "2022-04-29T17:32:42.645Z"
   },
   {
    "duration": 553,
    "start_time": "2022-04-29T17:32:42.927Z"
   },
   {
    "duration": 431,
    "start_time": "2022-04-29T17:32:43.483Z"
   },
   {
    "duration": 23,
    "start_time": "2022-04-29T17:32:43.916Z"
   },
   {
    "duration": 47,
    "start_time": "2022-04-29T17:32:43.942Z"
   },
   {
    "duration": 309,
    "start_time": "2022-04-29T17:32:43.993Z"
   },
   {
    "duration": 686,
    "start_time": "2022-04-29T17:32:44.304Z"
   },
   {
    "duration": 355,
    "start_time": "2022-04-29T17:32:44.993Z"
   },
   {
    "duration": 314,
    "start_time": "2022-04-29T17:32:45.356Z"
   },
   {
    "duration": 19,
    "start_time": "2022-04-29T17:32:45.672Z"
   },
   {
    "duration": 20,
    "start_time": "2022-04-29T17:32:45.693Z"
   },
   {
    "duration": 14,
    "start_time": "2022-04-29T17:32:45.715Z"
   },
   {
    "duration": 177,
    "start_time": "2022-04-30T06:33:40.339Z"
   },
   {
    "duration": 876,
    "start_time": "2022-04-30T16:46:22.823Z"
   },
   {
    "duration": 398,
    "start_time": "2022-04-30T16:46:23.701Z"
   },
   {
    "duration": 13,
    "start_time": "2022-04-30T16:46:24.101Z"
   },
   {
    "duration": 37,
    "start_time": "2022-04-30T16:46:24.116Z"
   },
   {
    "duration": 19,
    "start_time": "2022-04-30T16:46:24.155Z"
   },
   {
    "duration": 31,
    "start_time": "2022-04-30T16:46:24.176Z"
   },
   {
    "duration": 11,
    "start_time": "2022-04-30T16:46:24.209Z"
   },
   {
    "duration": 15,
    "start_time": "2022-04-30T16:46:24.222Z"
   },
   {
    "duration": 11,
    "start_time": "2022-04-30T16:46:24.239Z"
   },
   {
    "duration": 13,
    "start_time": "2022-04-30T16:46:24.253Z"
   },
   {
    "duration": 40,
    "start_time": "2022-04-30T16:46:24.268Z"
   },
   {
    "duration": 15,
    "start_time": "2022-04-30T16:46:24.310Z"
   },
   {
    "duration": 6,
    "start_time": "2022-04-30T16:46:24.326Z"
   },
   {
    "duration": 9,
    "start_time": "2022-04-30T16:46:24.334Z"
   },
   {
    "duration": 13,
    "start_time": "2022-04-30T16:46:24.345Z"
   },
   {
    "duration": 11,
    "start_time": "2022-04-30T16:46:24.360Z"
   },
   {
    "duration": 56,
    "start_time": "2022-04-30T16:46:24.372Z"
   },
   {
    "duration": 14,
    "start_time": "2022-04-30T16:46:24.430Z"
   },
   {
    "duration": 75,
    "start_time": "2022-04-30T16:46:24.446Z"
   },
   {
    "duration": 19,
    "start_time": "2022-04-30T16:46:24.522Z"
   },
   {
    "duration": 10,
    "start_time": "2022-04-30T16:46:24.543Z"
   },
   {
    "duration": 55,
    "start_time": "2022-04-30T16:46:24.555Z"
   },
   {
    "duration": 12,
    "start_time": "2022-04-30T16:46:24.612Z"
   },
   {
    "duration": 44,
    "start_time": "2022-04-30T16:46:24.626Z"
   },
   {
    "duration": 6,
    "start_time": "2022-04-30T16:46:24.672Z"
   },
   {
    "duration": 131,
    "start_time": "2022-04-30T16:46:24.680Z"
   },
   {
    "duration": 47,
    "start_time": "2022-04-30T16:46:24.813Z"
   },
   {
    "duration": 70,
    "start_time": "2022-04-30T16:46:24.864Z"
   },
   {
    "duration": 5,
    "start_time": "2022-04-30T16:46:24.936Z"
   },
   {
    "duration": 26,
    "start_time": "2022-04-30T16:46:24.942Z"
   },
   {
    "duration": 19,
    "start_time": "2022-04-30T16:46:24.970Z"
   },
   {
    "duration": 21,
    "start_time": "2022-04-30T16:46:24.991Z"
   },
   {
    "duration": 8,
    "start_time": "2022-04-30T16:46:25.014Z"
   },
   {
    "duration": 5,
    "start_time": "2022-04-30T16:46:25.023Z"
   },
   {
    "duration": 34,
    "start_time": "2022-04-30T16:46:25.030Z"
   },
   {
    "duration": 56,
    "start_time": "2022-04-30T16:46:25.066Z"
   },
   {
    "duration": 28,
    "start_time": "2022-04-30T16:46:25.123Z"
   },
   {
    "duration": 23,
    "start_time": "2022-04-30T16:46:25.152Z"
   },
   {
    "duration": 44,
    "start_time": "2022-04-30T16:46:25.176Z"
   },
   {
    "duration": 25,
    "start_time": "2022-04-30T16:46:25.222Z"
   },
   {
    "duration": 16,
    "start_time": "2022-04-30T16:46:25.248Z"
   },
   {
    "duration": 16,
    "start_time": "2022-04-30T16:46:25.266Z"
   },
   {
    "duration": 38,
    "start_time": "2022-04-30T16:46:25.283Z"
   },
   {
    "duration": 10,
    "start_time": "2022-04-30T16:46:25.322Z"
   },
   {
    "duration": 1505,
    "start_time": "2022-04-30T16:46:25.334Z"
   },
   {
    "duration": 4,
    "start_time": "2022-04-30T16:46:26.841Z"
   },
   {
    "duration": 81,
    "start_time": "2022-04-30T16:46:26.847Z"
   },
   {
    "duration": 5,
    "start_time": "2022-04-30T16:46:26.930Z"
   },
   {
    "duration": 6945,
    "start_time": "2022-04-30T16:46:26.937Z"
   },
   {
    "duration": 5,
    "start_time": "2022-04-30T16:46:33.884Z"
   },
   {
    "duration": 16,
    "start_time": "2022-04-30T16:46:33.891Z"
   },
   {
    "duration": 7,
    "start_time": "2022-04-30T16:46:33.909Z"
   },
   {
    "duration": 1346,
    "start_time": "2022-04-30T16:46:33.918Z"
   },
   {
    "duration": 17,
    "start_time": "2022-04-30T16:46:35.265Z"
   },
   {
    "duration": 859,
    "start_time": "2022-04-30T16:46:35.284Z"
   },
   {
    "duration": 409,
    "start_time": "2022-04-30T16:46:36.146Z"
   },
   {
    "duration": 18,
    "start_time": "2022-04-30T16:46:36.557Z"
   },
   {
    "duration": 35,
    "start_time": "2022-04-30T16:46:36.577Z"
   },
   {
    "duration": 210,
    "start_time": "2022-04-30T16:46:36.614Z"
   },
   {
    "duration": 338,
    "start_time": "2022-04-30T16:46:36.825Z"
   },
   {
    "duration": 343,
    "start_time": "2022-04-30T16:46:37.165Z"
   },
   {
    "duration": 17,
    "start_time": "2022-04-30T16:46:37.510Z"
   },
   {
    "duration": 12,
    "start_time": "2022-04-30T16:46:37.529Z"
   },
   {
    "duration": 288,
    "start_time": "2022-04-30T16:46:37.542Z"
   },
   {
    "duration": 276,
    "start_time": "2022-04-30T16:46:37.831Z"
   },
   {
    "duration": 255,
    "start_time": "2022-04-30T16:46:38.109Z"
   },
   {
    "duration": 16,
    "start_time": "2022-04-30T16:46:38.365Z"
   },
   {
    "duration": 30,
    "start_time": "2022-04-30T16:46:38.383Z"
   },
   {
    "duration": 188,
    "start_time": "2022-04-30T16:46:38.414Z"
   },
   {
    "duration": 278,
    "start_time": "2022-04-30T16:46:38.606Z"
   },
   {
    "duration": 256,
    "start_time": "2022-04-30T16:46:38.887Z"
   },
   {
    "duration": 18,
    "start_time": "2022-04-30T16:46:39.145Z"
   },
   {
    "duration": 11,
    "start_time": "2022-04-30T16:46:39.165Z"
   },
   {
    "duration": 212,
    "start_time": "2022-04-30T16:46:39.178Z"
   },
   {
    "duration": 363,
    "start_time": "2022-04-30T16:46:39.392Z"
   },
   {
    "duration": 254,
    "start_time": "2022-04-30T16:46:39.756Z"
   },
   {
    "duration": 15,
    "start_time": "2022-04-30T16:46:40.012Z"
   },
   {
    "duration": 12,
    "start_time": "2022-04-30T16:46:40.029Z"
   },
   {
    "duration": 212,
    "start_time": "2022-04-30T16:46:40.043Z"
   },
   {
    "duration": 372,
    "start_time": "2022-04-30T16:46:40.257Z"
   },
   {
    "duration": 209,
    "start_time": "2022-04-30T16:46:40.630Z"
   },
   {
    "duration": 200,
    "start_time": "2022-04-30T16:46:40.844Z"
   },
   {
    "duration": 12,
    "start_time": "2022-04-30T16:46:41.046Z"
   },
   {
    "duration": 16,
    "start_time": "2022-04-30T16:46:41.059Z"
   },
   {
    "duration": 33,
    "start_time": "2022-04-30T16:46:41.077Z"
   },
   {
    "duration": 68,
    "start_time": "2022-05-02T14:24:28.849Z"
   },
   {
    "duration": 1047,
    "start_time": "2022-05-02T14:24:34.760Z"
   },
   {
    "duration": 519,
    "start_time": "2022-05-02T14:24:37.676Z"
   },
   {
    "duration": 31,
    "start_time": "2022-05-02T14:24:44.045Z"
   },
   {
    "duration": 28,
    "start_time": "2022-05-02T14:26:44.746Z"
   },
   {
    "duration": 4,
    "start_time": "2022-05-02T14:33:11.133Z"
   },
   {
    "duration": 571,
    "start_time": "2022-05-02T14:33:11.148Z"
   },
   {
    "duration": 16,
    "start_time": "2022-05-02T14:33:11.722Z"
   },
   {
    "duration": 36,
    "start_time": "2022-05-02T14:33:11.741Z"
   },
   {
    "duration": 26,
    "start_time": "2022-05-02T14:33:11.795Z"
   },
   {
    "duration": 29,
    "start_time": "2022-05-02T14:33:11.823Z"
   },
   {
    "duration": 46,
    "start_time": "2022-05-02T14:33:11.854Z"
   },
   {
    "duration": 15,
    "start_time": "2022-05-02T14:33:11.902Z"
   },
   {
    "duration": 15,
    "start_time": "2022-05-02T14:33:11.919Z"
   },
   {
    "duration": 19,
    "start_time": "2022-05-02T14:33:11.937Z"
   },
   {
    "duration": 7,
    "start_time": "2022-05-02T14:33:11.994Z"
   },
   {
    "duration": 27,
    "start_time": "2022-05-02T14:33:12.004Z"
   },
   {
    "duration": 10,
    "start_time": "2022-05-02T14:33:12.034Z"
   },
   {
    "duration": 55,
    "start_time": "2022-05-02T14:33:12.046Z"
   },
   {
    "duration": 19,
    "start_time": "2022-05-02T14:33:12.104Z"
   },
   {
    "duration": 17,
    "start_time": "2022-05-02T14:33:12.125Z"
   },
   {
    "duration": 57,
    "start_time": "2022-05-02T14:33:12.144Z"
   },
   {
    "duration": 17,
    "start_time": "2022-05-02T14:33:12.203Z"
   },
   {
    "duration": 92,
    "start_time": "2022-05-02T14:33:12.222Z"
   },
   {
    "duration": 24,
    "start_time": "2022-05-02T14:33:12.316Z"
   },
   {
    "duration": 14,
    "start_time": "2022-05-02T14:33:12.342Z"
   },
   {
    "duration": 72,
    "start_time": "2022-05-02T14:33:12.358Z"
   },
   {
    "duration": 17,
    "start_time": "2022-05-02T14:33:12.432Z"
   },
   {
    "duration": 77,
    "start_time": "2022-05-02T14:33:12.451Z"
   },
   {
    "duration": 10,
    "start_time": "2022-05-02T14:33:12.530Z"
   },
   {
    "duration": 162,
    "start_time": "2022-05-02T14:33:12.542Z"
   },
   {
    "duration": 59,
    "start_time": "2022-05-02T14:33:12.706Z"
   },
   {
    "duration": 78,
    "start_time": "2022-05-02T14:33:12.767Z"
   },
   {
    "duration": 8,
    "start_time": "2022-05-02T14:33:12.850Z"
   },
   {
    "duration": 52,
    "start_time": "2022-05-02T14:33:12.860Z"
   },
   {
    "duration": 34,
    "start_time": "2022-05-02T14:33:12.915Z"
   },
   {
    "duration": 41,
    "start_time": "2022-05-02T14:33:12.952Z"
   },
   {
    "duration": 13,
    "start_time": "2022-05-02T14:33:12.995Z"
   },
   {
    "duration": 12,
    "start_time": "2022-05-02T14:33:13.010Z"
   },
   {
    "duration": 72,
    "start_time": "2022-05-02T14:33:13.024Z"
   },
   {
    "duration": 32,
    "start_time": "2022-05-02T14:33:13.098Z"
   },
   {
    "duration": 37,
    "start_time": "2022-05-02T14:33:13.132Z"
   },
   {
    "duration": 38,
    "start_time": "2022-05-02T14:33:13.194Z"
   },
   {
    "duration": 35,
    "start_time": "2022-05-02T14:33:13.234Z"
   },
   {
    "duration": 39,
    "start_time": "2022-05-02T14:33:13.293Z"
   },
   {
    "duration": 25,
    "start_time": "2022-05-02T14:33:13.334Z"
   },
   {
    "duration": 49,
    "start_time": "2022-05-02T14:33:13.361Z"
   },
   {
    "duration": 24,
    "start_time": "2022-05-02T14:33:13.412Z"
   },
   {
    "duration": 15,
    "start_time": "2022-05-02T14:33:13.438Z"
   },
   {
    "duration": 2627,
    "start_time": "2022-05-02T14:33:13.455Z"
   },
   {
    "duration": 140,
    "start_time": "2022-05-02T14:37:01.739Z"
   },
   {
    "duration": 17,
    "start_time": "2022-05-02T14:37:30.440Z"
   },
   {
    "duration": 8,
    "start_time": "2022-05-02T14:42:10.936Z"
   },
   {
    "duration": 8,
    "start_time": "2022-05-02T14:46:21.606Z"
   },
   {
    "duration": 4664,
    "start_time": "2022-05-02T14:46:27.406Z"
   },
   {
    "duration": 6,
    "start_time": "2022-05-02T14:46:56.448Z"
   },
   {
    "duration": 3420,
    "start_time": "2022-05-02T14:47:01.206Z"
   },
   {
    "duration": 8,
    "start_time": "2022-05-02T14:48:57.582Z"
   },
   {
    "duration": 22,
    "start_time": "2022-05-02T14:49:01.455Z"
   },
   {
    "duration": 11,
    "start_time": "2022-05-02T14:49:53.101Z"
   },
   {
    "duration": 8,
    "start_time": "2022-05-02T14:49:57.996Z"
   },
   {
    "duration": 24,
    "start_time": "2022-05-02T14:50:06.063Z"
   },
   {
    "duration": 7,
    "start_time": "2022-05-02T14:51:35.227Z"
   },
   {
    "duration": 485,
    "start_time": "2022-05-02T14:51:38.919Z"
   },
   {
    "duration": 7,
    "start_time": "2022-05-02T14:54:59.765Z"
   },
   {
    "duration": 21,
    "start_time": "2022-05-02T14:55:02.684Z"
   },
   {
    "duration": 8,
    "start_time": "2022-05-02T14:55:18.721Z"
   },
   {
    "duration": 264,
    "start_time": "2022-05-02T14:55:21.158Z"
   },
   {
    "duration": 1163,
    "start_time": "2022-05-02T14:58:54.762Z"
   },
   {
    "duration": 540,
    "start_time": "2022-05-02T14:58:55.928Z"
   },
   {
    "duration": 16,
    "start_time": "2022-05-02T14:58:56.470Z"
   },
   {
    "duration": 34,
    "start_time": "2022-05-02T14:58:56.492Z"
   },
   {
    "duration": 25,
    "start_time": "2022-05-02T14:58:56.528Z"
   },
   {
    "duration": 79,
    "start_time": "2022-05-02T14:58:56.556Z"
   },
   {
    "duration": 23,
    "start_time": "2022-05-02T14:58:56.638Z"
   },
   {
    "duration": 38,
    "start_time": "2022-05-02T14:58:56.664Z"
   },
   {
    "duration": 16,
    "start_time": "2022-05-02T14:58:56.704Z"
   },
   {
    "duration": 20,
    "start_time": "2022-05-02T14:58:56.724Z"
   },
   {
    "duration": 6,
    "start_time": "2022-05-02T14:58:56.746Z"
   },
   {
    "duration": 55,
    "start_time": "2022-05-02T14:58:56.755Z"
   },
   {
    "duration": 8,
    "start_time": "2022-05-02T14:58:56.812Z"
   },
   {
    "duration": 13,
    "start_time": "2022-05-02T14:58:56.822Z"
   },
   {
    "duration": 19,
    "start_time": "2022-05-02T14:58:56.837Z"
   },
   {
    "duration": 47,
    "start_time": "2022-05-02T14:58:56.859Z"
   },
   {
    "duration": 41,
    "start_time": "2022-05-02T14:58:56.908Z"
   },
   {
    "duration": 44,
    "start_time": "2022-05-02T14:58:56.951Z"
   },
   {
    "duration": 97,
    "start_time": "2022-05-02T14:58:56.997Z"
   },
   {
    "duration": 25,
    "start_time": "2022-05-02T14:58:57.096Z"
   },
   {
    "duration": 14,
    "start_time": "2022-05-02T14:58:57.123Z"
   },
   {
    "duration": 84,
    "start_time": "2022-05-02T14:58:57.140Z"
   },
   {
    "duration": 16,
    "start_time": "2022-05-02T14:58:57.226Z"
   },
   {
    "duration": 86,
    "start_time": "2022-05-02T14:58:57.245Z"
   },
   {
    "duration": 9,
    "start_time": "2022-05-02T14:58:57.333Z"
   },
   {
    "duration": 161,
    "start_time": "2022-05-02T14:58:57.344Z"
   },
   {
    "duration": 89,
    "start_time": "2022-05-02T14:58:57.507Z"
   },
   {
    "duration": 68,
    "start_time": "2022-05-02T14:58:57.603Z"
   },
   {
    "duration": 24,
    "start_time": "2022-05-02T14:58:57.674Z"
   },
   {
    "duration": 37,
    "start_time": "2022-05-02T14:58:57.700Z"
   },
   {
    "duration": 54,
    "start_time": "2022-05-02T14:58:57.740Z"
   },
   {
    "duration": 12,
    "start_time": "2022-05-02T14:58:57.797Z"
   },
   {
    "duration": 10,
    "start_time": "2022-05-02T14:58:57.811Z"
   },
   {
    "duration": 11,
    "start_time": "2022-05-02T14:58:57.823Z"
   },
   {
    "duration": 104,
    "start_time": "2022-05-02T14:58:57.836Z"
   },
   {
    "duration": 51,
    "start_time": "2022-05-02T14:58:57.943Z"
   },
   {
    "duration": 41,
    "start_time": "2022-05-02T14:58:57.997Z"
   },
   {
    "duration": 73,
    "start_time": "2022-05-02T14:58:58.041Z"
   },
   {
    "duration": 39,
    "start_time": "2022-05-02T14:58:58.117Z"
   },
   {
    "duration": 65,
    "start_time": "2022-05-02T14:58:58.159Z"
   },
   {
    "duration": 26,
    "start_time": "2022-05-02T14:58:58.226Z"
   },
   {
    "duration": 41,
    "start_time": "2022-05-02T14:58:58.255Z"
   },
   {
    "duration": 25,
    "start_time": "2022-05-02T14:58:58.299Z"
   },
   {
    "duration": 16,
    "start_time": "2022-05-02T14:58:58.326Z"
   },
   {
    "duration": 2650,
    "start_time": "2022-05-02T14:58:58.345Z"
   },
   {
    "duration": 13,
    "start_time": "2022-05-02T14:59:00.997Z"
   },
   {
    "duration": 41,
    "start_time": "2022-05-02T14:59:01.013Z"
   },
   {
    "duration": 354,
    "start_time": "2022-05-02T14:59:01.057Z"
   },
   {
    "duration": 8,
    "start_time": "2022-05-02T14:59:01.414Z"
   },
   {
    "duration": 11893,
    "start_time": "2022-05-02T14:59:01.424Z"
   },
   {
    "duration": 7,
    "start_time": "2022-05-02T14:59:13.320Z"
   },
   {
    "duration": 7,
    "start_time": "2022-05-02T14:59:13.329Z"
   },
   {
    "duration": 16,
    "start_time": "2022-05-02T14:59:13.339Z"
   },
   {
    "duration": 2470,
    "start_time": "2022-05-02T14:59:13.357Z"
   },
   {
    "duration": 24,
    "start_time": "2022-05-02T14:59:15.829Z"
   },
   {
    "duration": 2460,
    "start_time": "2022-05-02T14:59:15.855Z"
   },
   {
    "duration": 979,
    "start_time": "2022-05-02T14:59:18.318Z"
   },
   {
    "duration": 31,
    "start_time": "2022-05-02T14:59:19.300Z"
   },
   {
    "duration": 23,
    "start_time": "2022-05-02T14:59:19.334Z"
   },
   {
    "duration": 498,
    "start_time": "2022-05-02T14:59:19.360Z"
   },
   {
    "duration": 858,
    "start_time": "2022-05-02T14:59:19.861Z"
   },
   {
    "duration": 876,
    "start_time": "2022-05-02T14:59:20.722Z"
   },
   {
    "duration": 30,
    "start_time": "2022-05-02T14:59:21.601Z"
   },
   {
    "duration": 24,
    "start_time": "2022-05-02T14:59:21.634Z"
   },
   {
    "duration": 597,
    "start_time": "2022-05-02T14:59:21.661Z"
   },
   {
    "duration": 673,
    "start_time": "2022-05-02T14:59:22.261Z"
   },
   {
    "duration": 657,
    "start_time": "2022-05-02T14:59:22.936Z"
   },
   {
    "duration": 30,
    "start_time": "2022-05-02T14:59:23.596Z"
   },
   {
    "duration": 18,
    "start_time": "2022-05-02T14:59:23.629Z"
   },
   {
    "duration": 322,
    "start_time": "2022-05-02T14:59:23.650Z"
   },
   {
    "duration": 418,
    "start_time": "2022-05-02T14:59:23.975Z"
   },
   {
    "duration": 512,
    "start_time": "2022-05-02T14:59:24.396Z"
   },
   {
    "duration": 24,
    "start_time": "2022-05-02T14:59:24.911Z"
   },
   {
    "duration": 20,
    "start_time": "2022-05-02T14:59:24.937Z"
   },
   {
    "duration": 315,
    "start_time": "2022-05-02T14:59:24.959Z"
   },
   {
    "duration": 635,
    "start_time": "2022-05-02T14:59:25.277Z"
   },
   {
    "duration": 412,
    "start_time": "2022-05-02T14:59:25.915Z"
   },
   {
    "duration": 23,
    "start_time": "2022-05-02T14:59:26.330Z"
   },
   {
    "duration": 46,
    "start_time": "2022-05-02T14:59:26.356Z"
   },
   {
    "duration": 423,
    "start_time": "2022-05-02T14:59:26.405Z"
   },
   {
    "duration": 985,
    "start_time": "2022-05-02T14:59:26.831Z"
   },
   {
    "duration": 502,
    "start_time": "2022-05-02T14:59:27.829Z"
   },
   {
    "duration": 467,
    "start_time": "2022-05-02T14:59:28.334Z"
   },
   {
    "duration": 21,
    "start_time": "2022-05-02T14:59:28.804Z"
   },
   {
    "duration": 32,
    "start_time": "2022-05-02T14:59:28.828Z"
   },
   {
    "duration": 18,
    "start_time": "2022-05-02T14:59:28.894Z"
   }
  ],
  "kernelspec": {
   "display_name": "Python 3 (ipykernel)",
   "language": "python",
   "name": "python3"
  },
  "language_info": {
   "codemirror_mode": {
    "name": "ipython",
    "version": 3
   },
   "file_extension": ".py",
   "mimetype": "text/x-python",
   "name": "python",
   "nbconvert_exporter": "python",
   "pygments_lexer": "ipython3",
   "version": "3.10.6"
  },
  "toc": {
   "base_numbering": 1,
   "nav_menu": {},
   "number_sections": true,
   "sideBar": true,
   "skip_h1_title": true,
   "title_cell": "Table of Contents",
   "title_sidebar": "Contents",
   "toc_cell": true,
   "toc_position": {
    "height": "calc(100% - 180px)",
    "left": "10px",
    "top": "150px",
    "width": "229.6px"
   },
   "toc_section_display": true,
   "toc_window_display": true
  }
 },
 "nbformat": 4,
 "nbformat_minor": 5
}
